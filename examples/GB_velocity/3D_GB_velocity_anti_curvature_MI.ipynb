{
 "cells": [
  {
   "cell_type": "code",
   "execution_count": 15,
   "id": "4b195c7c-3d58-4d9f-b559-8e34a5e9789a",
   "metadata": {
    "tags": []
   },
   "outputs": [
    {
     "data": {
      "text/plain": [
       "<module 'PACKAGE_MP_Linear' from '/home/lin.yang/projects/VECTOR/examples/GB_velocity/../../PACKAGE_MP_Linear.py'>"
      ]
     },
     "execution_count": 15,
     "metadata": {},
     "output_type": "execute_result"
    }
   ],
   "source": [
    "import os\n",
    "current_path = os.getcwd()\n",
    "import numpy as np\n",
    "from numpy import seterr\n",
    "seterr(all='raise')\n",
    "import matplotlib.pyplot as plt\n",
    "import math\n",
    "import random\n",
    "from tqdm import tqdm\n",
    "import sys\n",
    "sys.path.append(current_path)\n",
    "sys.path.append(current_path+'/../../')\n",
    "import myInput\n",
    "import PACKAGE_MP_Linear as linear2d\n",
    "import post_processing\n",
    "import PACKAGE_MP_3DLinear as Linear_3D\n",
    "import PACKAGE_MP_3DVertex as Vertex_3D\n",
    "sys.path.append(current_path+'/../calculate_tangent/')\n",
    "\n",
    "import importlib\n",
    "importlib.reload(post_processing)\n",
    "importlib.reload(Linear_3D)\n",
    "importlib.reload(linear2d)\n",
    "\n"
   ]
  },
  {
   "cell_type": "code",
   "execution_count": 7,
   "id": "fcb7ac33-912b-4634-8822-c41d1c32bd8b",
   "metadata": {
    "tags": []
   },
   "outputs": [
    {
     "name": "stdout",
     "output_type": "stream",
     "text": [
      "The MI_264_5k_fully data size is: (51, 264, 264, 264)\n",
      "READING DATA DONE\n",
      "The MI_264_5k_fully energy data size is: (51, 264, 264, 264)\n",
      "READING ENERGY DATA DONE\n"
     ]
    }
   ],
   "source": [
    "if __name__ == '__main__':\n",
    "    # File name\n",
    "    data_file_folder = \"/blue/michael.tonks/lin.yang/VECTOR_data/\"\n",
    "    npy_file_folder = \"/blue/michael.tonks/lin.yang/SPPARKS-VirtualIncEnergy/3d_poly_fully/results/\"\n",
    "    case_name = \"MI_264_5k_fully\"\n",
    "    npy_file_name_aniso = f\"p_ori_fully5d_fz_aveE_f1.0_t1.0_264_5k_multiCore64_J1_refer_1_0_0_seed56689_kt1.95.npy\"\n",
    "    npy_file_name_aniso_energy = f\"p_ori_fully5d_fz_aveE_f1.0_t1.0_264_5k_multiCore64_J1_refer_1_0_0_seed56689_kt1.95_energy.npy\"\n",
    "    \n",
    "    # Initial data\n",
    "    npy_file_aniso = np.load(npy_file_folder + npy_file_name_aniso)\n",
    "    npy_file_aniso = npy_file_aniso.astype(int)\n",
    "    print(f\"The {case_name} data size is: {npy_file_aniso.shape}\")\n",
    "    print(\"READING DATA DONE\")\n",
    "    npy_file_aniso_energy = np.load(npy_file_folder + npy_file_name_aniso_energy) # energy\n",
    "    print(f\"The {case_name} energy data size is: {npy_file_aniso_energy.shape}\")\n",
    "    print(\"READING ENERGY DATA DONE\")\n",
    "    step_num, size_x, size_y, size_z = npy_file_aniso.shape"
   ]
  },
  {
   "cell_type": "code",
   "execution_count": 25,
   "id": "0be80f39-f248-4153-b7e0-535c9544ad3b",
   "metadata": {
    "tags": []
   },
   "outputs": [
    {
     "name": "stderr",
     "output_type": "stream",
     "text": [
      "  0%|          | 0/51 [00:00<?, ?it/s]"
     ]
    },
    {
     "name": "stdout",
     "output_type": "stream",
     "text": [
      "Finish curvature calculation\n",
      "Finish TJ extraction\n"
     ]
    },
    {
     "name": "stderr",
     "output_type": "stream",
     "text": [
      "  2%|▏         | 1/51 [12:13<10:11:14, 733.49s/it]"
     ]
    },
    {
     "name": "stdout",
     "output_type": "stream",
     "text": [
      "Current GBs len at 0 steps: 4058\n",
      "Finish curvature calculation\n",
      "Finish TJ extraction\n"
     ]
    },
    {
     "name": "stderr",
     "output_type": "stream",
     "text": [
      "  4%|▍         | 2/51 [31:41<13:27:46, 989.11s/it]"
     ]
    },
    {
     "name": "stdout",
     "output_type": "stream",
     "text": [
      "Current GBs len at 1 steps: 1892\n",
      "Finish curvature calculation\n",
      "Finish TJ extraction\n"
     ]
    },
    {
     "name": "stderr",
     "output_type": "stream",
     "text": [
      "  6%|▌         | 3/51 [51:47<14:30:31, 1088.15s/it]"
     ]
    },
    {
     "name": "stdout",
     "output_type": "stream",
     "text": [
      "Current GBs len at 2 steps: 2295\n",
      "Finish curvature calculation\n",
      "Finish TJ extraction\n"
     ]
    },
    {
     "name": "stderr",
     "output_type": "stream",
     "text": [
      "  8%|▊         | 4/51 [1:13:07<15:11:39, 1163.83s/it]"
     ]
    },
    {
     "name": "stdout",
     "output_type": "stream",
     "text": [
      "Current GBs len at 3 steps: 2754\n",
      "Finish curvature calculation\n",
      "Finish TJ extraction\n"
     ]
    },
    {
     "name": "stderr",
     "output_type": "stream",
     "text": [
      " 10%|▉         | 5/51 [1:36:36<16:00:03, 1252.25s/it]"
     ]
    },
    {
     "name": "stdout",
     "output_type": "stream",
     "text": [
      "Current GBs len at 4 steps: 3125\n",
      "Finish curvature calculation\n",
      "Finish TJ extraction\n"
     ]
    },
    {
     "name": "stderr",
     "output_type": "stream",
     "text": [
      " 12%|█▏        | 6/51 [2:01:29<16:40:34, 1334.11s/it]"
     ]
    },
    {
     "name": "stdout",
     "output_type": "stream",
     "text": [
      "Current GBs len at 5 steps: 3295\n",
      "Finish curvature calculation\n",
      "Finish TJ extraction\n"
     ]
    },
    {
     "name": "stderr",
     "output_type": "stream",
     "text": [
      " 14%|█▎        | 7/51 [2:27:32<17:13:10, 1408.87s/it]"
     ]
    },
    {
     "name": "stdout",
     "output_type": "stream",
     "text": [
      "Current GBs len at 6 steps: 3360\n",
      "Finish curvature calculation\n",
      "Finish TJ extraction\n"
     ]
    },
    {
     "name": "stderr",
     "output_type": "stream",
     "text": [
      " 16%|█▌        | 8/51 [2:54:44<17:40:34, 1479.87s/it]"
     ]
    },
    {
     "name": "stdout",
     "output_type": "stream",
     "text": [
      "Current GBs len at 7 steps: 3397\n",
      "Finish curvature calculation\n",
      "Finish TJ extraction\n"
     ]
    },
    {
     "name": "stderr",
     "output_type": "stream",
     "text": [
      " 18%|█▊        | 9/51 [3:23:03<18:03:59, 1548.55s/it]"
     ]
    },
    {
     "name": "stdout",
     "output_type": "stream",
     "text": [
      "Current GBs len at 8 steps: 3288\n",
      "Finish curvature calculation\n",
      "Finish TJ extraction\n"
     ]
    },
    {
     "name": "stderr",
     "output_type": "stream",
     "text": [
      " 20%|█▉        | 10/51 [3:52:16<18:21:11, 1611.50s/it]"
     ]
    },
    {
     "name": "stdout",
     "output_type": "stream",
     "text": [
      "Current GBs len at 9 steps: 3262\n",
      "Finish curvature calculation\n",
      "Finish TJ extraction\n"
     ]
    },
    {
     "name": "stderr",
     "output_type": "stream",
     "text": [
      " 22%|██▏       | 11/51 [4:22:30<18:35:47, 1673.69s/it]"
     ]
    },
    {
     "name": "stdout",
     "output_type": "stream",
     "text": [
      "Current GBs len at 10 steps: 3173\n",
      "Finish curvature calculation\n",
      "Finish TJ extraction\n"
     ]
    },
    {
     "name": "stderr",
     "output_type": "stream",
     "text": [
      " 24%|██▎       | 12/51 [4:53:52<18:49:02, 1736.99s/it]"
     ]
    },
    {
     "name": "stdout",
     "output_type": "stream",
     "text": [
      "Current GBs len at 11 steps: 3083\n",
      "Finish curvature calculation\n",
      "Finish TJ extraction\n"
     ]
    },
    {
     "name": "stderr",
     "output_type": "stream",
     "text": [
      " 25%|██▌       | 13/51 [5:25:53<18:55:27, 1792.84s/it]"
     ]
    },
    {
     "name": "stdout",
     "output_type": "stream",
     "text": [
      "Current GBs len at 12 steps: 2985\n",
      "Finish curvature calculation\n",
      "Finish TJ extraction\n"
     ]
    },
    {
     "name": "stderr",
     "output_type": "stream",
     "text": [
      " 27%|██▋       | 14/51 [5:58:39<18:57:45, 1845.02s/it]"
     ]
    },
    {
     "name": "stdout",
     "output_type": "stream",
     "text": [
      "Current GBs len at 13 steps: 2869\n",
      "Finish curvature calculation\n",
      "Finish TJ extraction\n"
     ]
    },
    {
     "name": "stderr",
     "output_type": "stream",
     "text": [
      " 29%|██▉       | 15/51 [6:32:08<18:56:35, 1894.32s/it]"
     ]
    },
    {
     "name": "stdout",
     "output_type": "stream",
     "text": [
      "Current GBs len at 14 steps: 2710\n",
      "Finish curvature calculation\n",
      "Finish TJ extraction\n"
     ]
    },
    {
     "name": "stderr",
     "output_type": "stream",
     "text": [
      " 31%|███▏      | 16/51 [7:06:09<18:50:46, 1938.47s/it]"
     ]
    },
    {
     "name": "stdout",
     "output_type": "stream",
     "text": [
      "Current GBs len at 15 steps: 2611\n",
      "Finish curvature calculation\n",
      "Finish TJ extraction\n",
      "Current GBs len at 16 steps: 2520\n"
     ]
    },
    {
     "name": "stderr",
     "output_type": "stream",
     "text": [
      " 33%|███▎      | 17/51 [7:41:08<18:45:50, 1986.78s/it]"
     ]
    },
    {
     "name": "stdout",
     "output_type": "stream",
     "text": [
      "Finish curvature calculation\n",
      "Finish TJ extraction\n"
     ]
    },
    {
     "name": "stderr",
     "output_type": "stream",
     "text": [
      " 35%|███▌      | 18/51 [8:16:37<18:36:12, 2029.46s/it]"
     ]
    },
    {
     "name": "stdout",
     "output_type": "stream",
     "text": [
      "Current GBs len at 17 steps: 2421\n",
      "Finish curvature calculation\n",
      "Finish TJ extraction\n"
     ]
    },
    {
     "name": "stderr",
     "output_type": "stream",
     "text": [
      " 37%|███▋      | 19/51 [8:53:04<18:27:36, 2076.77s/it]"
     ]
    },
    {
     "name": "stdout",
     "output_type": "stream",
     "text": [
      "Current GBs len at 18 steps: 2265\n",
      "Finish curvature calculation\n",
      "Finish TJ extraction\n"
     ]
    },
    {
     "name": "stderr",
     "output_type": "stream",
     "text": [
      " 39%|███▉      | 20/51 [9:30:17<18:17:20, 2123.87s/it]"
     ]
    },
    {
     "name": "stdout",
     "output_type": "stream",
     "text": [
      "Current GBs len at 19 steps: 2180\n",
      "Finish curvature calculation\n",
      "Finish TJ extraction\n"
     ]
    },
    {
     "name": "stderr",
     "output_type": "stream",
     "text": [
      " 41%|████      | 21/51 [10:07:59<18:02:41, 2165.38s/it]"
     ]
    },
    {
     "name": "stdout",
     "output_type": "stream",
     "text": [
      "Current GBs len at 20 steps: 2101\n",
      "Finish curvature calculation\n",
      "Finish TJ extraction\n"
     ]
    },
    {
     "name": "stderr",
     "output_type": "stream",
     "text": [
      " 43%|████▎     | 22/51 [10:46:14<17:45:22, 2204.23s/it]"
     ]
    },
    {
     "name": "stdout",
     "output_type": "stream",
     "text": [
      "Current GBs len at 21 steps: 2014\n",
      "Finish curvature calculation\n",
      "Finish TJ extraction\n"
     ]
    },
    {
     "name": "stderr",
     "output_type": "stream",
     "text": [
      " 45%|████▌     | 23/51 [11:25:16<17:27:58, 2245.67s/it]"
     ]
    },
    {
     "name": "stdout",
     "output_type": "stream",
     "text": [
      "Current GBs len at 22 steps: 1894\n",
      "Finish curvature calculation\n",
      "Finish TJ extraction\n"
     ]
    },
    {
     "name": "stderr",
     "output_type": "stream",
     "text": [
      " 47%|████▋     | 24/51 [12:04:48<17:07:35, 2283.53s/it]"
     ]
    },
    {
     "name": "stdout",
     "output_type": "stream",
     "text": [
      "Current GBs len at 23 steps: 1824\n",
      "Finish curvature calculation\n",
      "Finish TJ extraction\n"
     ]
    },
    {
     "name": "stderr",
     "output_type": "stream",
     "text": [
      " 49%|████▉     | 25/51 [12:44:59<16:46:01, 2321.59s/it]"
     ]
    },
    {
     "name": "stdout",
     "output_type": "stream",
     "text": [
      "Current GBs len at 24 steps: 1756\n",
      "Finish curvature calculation\n",
      "Finish TJ extraction\n"
     ]
    },
    {
     "name": "stderr",
     "output_type": "stream",
     "text": [
      " 51%|█████     | 26/51 [13:25:42<16:22:31, 2358.06s/it]"
     ]
    },
    {
     "name": "stdout",
     "output_type": "stream",
     "text": [
      "Current GBs len at 25 steps: 1663\n",
      "Finish curvature calculation\n",
      "Finish TJ extraction\n"
     ]
    },
    {
     "name": "stderr",
     "output_type": "stream",
     "text": [
      " 53%|█████▎    | 27/51 [14:07:12<15:59:07, 2397.82s/it]"
     ]
    },
    {
     "name": "stdout",
     "output_type": "stream",
     "text": [
      "Current GBs len at 26 steps: 1558\n",
      "Finish curvature calculation\n",
      "Finish TJ extraction\n"
     ]
    },
    {
     "name": "stderr",
     "output_type": "stream",
     "text": [
      " 55%|█████▍    | 28/51 [14:49:07<15:32:33, 2432.75s/it]"
     ]
    },
    {
     "name": "stdout",
     "output_type": "stream",
     "text": [
      "Current GBs len at 27 steps: 1519\n",
      "Finish curvature calculation\n",
      "Finish TJ extraction\n"
     ]
    },
    {
     "name": "stderr",
     "output_type": "stream",
     "text": [
      " 57%|█████▋    | 29/51 [15:31:57<15:07:07, 2473.99s/it]"
     ]
    },
    {
     "name": "stdout",
     "output_type": "stream",
     "text": [
      "Current GBs len at 28 steps: 1464\n",
      "Finish curvature calculation\n",
      "Finish TJ extraction\n"
     ]
    },
    {
     "name": "stderr",
     "output_type": "stream",
     "text": [
      " 59%|█████▉    | 30/51 [16:14:48<14:36:06, 2503.17s/it]"
     ]
    },
    {
     "name": "stdout",
     "output_type": "stream",
     "text": [
      "Current GBs len at 29 steps: 1411\n",
      "Finish curvature calculation\n",
      "Finish TJ extraction\n"
     ]
    },
    {
     "name": "stderr",
     "output_type": "stream",
     "text": [
      " 61%|██████    | 31/51 [16:58:27<14:05:59, 2537.96s/it]"
     ]
    },
    {
     "name": "stdout",
     "output_type": "stream",
     "text": [
      "Current GBs len at 30 steps: 1359\n",
      "Finish curvature calculation\n",
      "Finish TJ extraction\n"
     ]
    },
    {
     "name": "stderr",
     "output_type": "stream",
     "text": [
      " 63%|██████▎   | 32/51 [17:42:37<13:34:16, 2571.40s/it]"
     ]
    },
    {
     "name": "stdout",
     "output_type": "stream",
     "text": [
      "Current GBs len at 31 steps: 1300\n",
      "Finish curvature calculation\n",
      "Finish TJ extraction\n"
     ]
    },
    {
     "name": "stderr",
     "output_type": "stream",
     "text": [
      " 65%|██████▍   | 33/51 [18:27:46<13:03:51, 2612.84s/it]"
     ]
    },
    {
     "name": "stdout",
     "output_type": "stream",
     "text": [
      "Current GBs len at 32 steps: 1240\n",
      "Finish curvature calculation\n",
      "Finish TJ extraction\n"
     ]
    },
    {
     "name": "stderr",
     "output_type": "stream",
     "text": [
      " 67%|██████▋   | 34/51 [19:13:17<12:30:21, 2648.34s/it]"
     ]
    },
    {
     "name": "stdout",
     "output_type": "stream",
     "text": [
      "Current GBs len at 33 steps: 1170\n",
      "Finish curvature calculation\n",
      "Finish TJ extraction\n"
     ]
    },
    {
     "name": "stderr",
     "output_type": "stream",
     "text": [
      " 69%|██████▊   | 35/51 [19:59:11<11:54:40, 2680.05s/it]"
     ]
    },
    {
     "name": "stdout",
     "output_type": "stream",
     "text": [
      "Current GBs len at 34 steps: 1125\n",
      "Finish curvature calculation\n",
      "Finish TJ extraction\n"
     ]
    },
    {
     "name": "stderr",
     "output_type": "stream",
     "text": [
      " 71%|███████   | 36/51 [20:45:17<11:16:27, 2705.82s/it]"
     ]
    },
    {
     "name": "stdout",
     "output_type": "stream",
     "text": [
      "Current GBs len at 35 steps: 1069\n",
      "Finish curvature calculation\n",
      "Finish TJ extraction\n"
     ]
    },
    {
     "name": "stderr",
     "output_type": "stream",
     "text": [
      " 73%|███████▎  | 37/51 [21:31:55<10:37:46, 2733.33s/it]"
     ]
    },
    {
     "name": "stdout",
     "output_type": "stream",
     "text": [
      "Current GBs len at 36 steps: 1038\n",
      "Finish curvature calculation\n",
      "Finish TJ extraction\n"
     ]
    },
    {
     "name": "stderr",
     "output_type": "stream",
     "text": [
      " 75%|███████▍  | 38/51 [22:18:54<9:57:47, 2759.03s/it] "
     ]
    },
    {
     "name": "stdout",
     "output_type": "stream",
     "text": [
      "Current GBs len at 37 steps: 998\n",
      "Finish curvature calculation\n",
      "Finish TJ extraction\n"
     ]
    },
    {
     "name": "stderr",
     "output_type": "stream",
     "text": [
      " 76%|███████▋  | 39/51 [23:06:03<9:16:01, 2780.11s/it]"
     ]
    },
    {
     "name": "stdout",
     "output_type": "stream",
     "text": [
      "Current GBs len at 38 steps: 963\n",
      "Finish curvature calculation\n",
      "Finish TJ extraction\n"
     ]
    },
    {
     "name": "stderr",
     "output_type": "stream",
     "text": [
      " 78%|███████▊  | 40/51 [23:53:45<8:34:10, 2804.62s/it]"
     ]
    },
    {
     "name": "stdout",
     "output_type": "stream",
     "text": [
      "Current GBs len at 39 steps: 943\n",
      "Finish curvature calculation\n",
      "Finish TJ extraction\n"
     ]
    },
    {
     "name": "stderr",
     "output_type": "stream",
     "text": [
      " 80%|████████  | 41/51 [24:41:51<7:51:28, 2828.90s/it]"
     ]
    },
    {
     "name": "stdout",
     "output_type": "stream",
     "text": [
      "Current GBs len at 40 steps: 927\n",
      "Finish curvature calculation\n",
      "Finish TJ extraction\n"
     ]
    },
    {
     "name": "stderr",
     "output_type": "stream",
     "text": [
      " 82%|████████▏ | 42/51 [25:29:42<7:06:13, 2841.53s/it]"
     ]
    },
    {
     "name": "stdout",
     "output_type": "stream",
     "text": [
      "Current GBs len at 41 steps: 914\n",
      "Finish curvature calculation\n",
      "Finish TJ extraction\n"
     ]
    },
    {
     "name": "stderr",
     "output_type": "stream",
     "text": [
      " 84%|████████▍ | 43/51 [26:17:03<6:18:51, 2841.45s/it]"
     ]
    },
    {
     "name": "stdout",
     "output_type": "stream",
     "text": [
      "Current GBs len at 42 steps: 892\n",
      "Finish curvature calculation\n",
      "Finish TJ extraction\n"
     ]
    },
    {
     "name": "stderr",
     "output_type": "stream",
     "text": [
      " 86%|████████▋ | 44/51 [27:04:30<5:31:42, 2843.26s/it]"
     ]
    },
    {
     "name": "stdout",
     "output_type": "stream",
     "text": [
      "Current GBs len at 43 steps: 883\n",
      "Finish curvature calculation\n",
      "Finish TJ extraction\n"
     ]
    },
    {
     "name": "stderr",
     "output_type": "stream",
     "text": [
      " 88%|████████▊ | 45/51 [27:51:59<4:44:28, 2844.76s/it]"
     ]
    },
    {
     "name": "stdout",
     "output_type": "stream",
     "text": [
      "Current GBs len at 44 steps: 867\n",
      "Finish curvature calculation\n",
      "Finish TJ extraction\n"
     ]
    },
    {
     "name": "stderr",
     "output_type": "stream",
     "text": [
      " 90%|█████████ | 46/51 [28:39:54<3:57:49, 2853.92s/it]"
     ]
    },
    {
     "name": "stdout",
     "output_type": "stream",
     "text": [
      "Current GBs len at 45 steps: 850\n",
      "Finish curvature calculation\n",
      "Finish TJ extraction\n"
     ]
    },
    {
     "name": "stderr",
     "output_type": "stream",
     "text": [
      " 92%|█████████▏| 47/51 [29:27:15<3:10:00, 2850.02s/it]"
     ]
    },
    {
     "name": "stdout",
     "output_type": "stream",
     "text": [
      "Current GBs len at 46 steps: 835\n",
      "Finish curvature calculation\n",
      "Finish TJ extraction\n"
     ]
    },
    {
     "name": "stderr",
     "output_type": "stream",
     "text": [
      " 94%|█████████▍| 48/51 [30:15:26<2:23:07, 2862.33s/it]"
     ]
    },
    {
     "name": "stdout",
     "output_type": "stream",
     "text": [
      "Current GBs len at 47 steps: 814\n",
      "Finish curvature calculation\n",
      "Finish TJ extraction\n"
     ]
    },
    {
     "name": "stderr",
     "output_type": "stream",
     "text": [
      " 96%|█████████▌| 49/51 [31:04:02<1:35:57, 2878.60s/it]"
     ]
    },
    {
     "name": "stdout",
     "output_type": "stream",
     "text": [
      "Current GBs len at 48 steps: 788\n",
      "Finish curvature calculation\n",
      "Finish TJ extraction\n"
     ]
    },
    {
     "name": "stderr",
     "output_type": "stream",
     "text": [
      " 98%|█████████▊| 50/51 [31:53:12<48:19, 2899.77s/it]  "
     ]
    },
    {
     "name": "stdout",
     "output_type": "stream",
     "text": [
      "Current GBs len at 49 steps: 767\n",
      "Finish curvature calculation\n",
      "Finish TJ extraction\n"
     ]
    },
    {
     "name": "stderr",
     "output_type": "stream",
     "text": [
      "100%|██████████| 51/51 [32:42:19<00:00, 2308.62s/it]"
     ]
    },
    {
     "name": "stdout",
     "output_type": "stream",
     "text": [
      "Current GBs len at 50 steps: 753\n"
     ]
    },
    {
     "name": "stderr",
     "output_type": "stream",
     "text": [
      "\n"
     ]
    }
   ],
   "source": [
    "    # YOU should remove the very small GB due to the less impact on curvature study\n",
    "    # YOU should use different accuracy algorithm on voxels around the TJs.\n",
    "    # A potential error: some small spherical GB are generated around large GB with same GB id\n",
    "    \n",
    "    \n",
    "    step_num=51\n",
    "    grain_nums = 5000\n",
    "    GB_infomation_dict_list = []\n",
    "    curvature_matrix_list = []\n",
    "    for time_step in tqdm(range(step_num)):\n",
    "        data_file_name = f\"GB_velocity_data/T_signedcurvature_velocity_data_{case_name}_step{time_step}.npz\"\n",
    "        data_curvature_file_name = f\"GB_velocity_data/T_matrix_signedcurvature_data_{case_name}_step{time_step}.npz\"\n",
    "        if os.path.exists(data_file_folder + data_file_name):\n",
    "            npz_file = np.load(data_file_folder + data_file_name,allow_pickle=True)\n",
    "            GB_infomation_dict = npz_file[\"GB_infomation_dict\"]\n",
    "            GB_infomation_dict_list.append(GB_infomation_dict.item())\n",
    "        else:\n",
    "            current_microstructure = npy_file_aniso[time_step]\n",
    "            # get curvature\n",
    "            if os.path.exists(data_file_folder + data_curvature_file_name):\n",
    "                npz_file_curvature = np.load(data_file_folder + data_curvature_file_name,allow_pickle=True)\n",
    "                curvature_matrix = npz_file_curvature[\"curvature_matrix\"]\n",
    "                curvature_matrix_list.append(curvature_matrix.item())\n",
    "            else:\n",
    "                # cores = 128\n",
    "                # loop_times = 5\n",
    "                # R = np.zeros((size_x,size_y,size_z,4))\n",
    "                # smoothing_class = Linear_3D.linear3d_class(size_x,size_y,size_z,grain_nums,cores,loop_times,current_microstructure,R,'p',verification_system = False,curvature_sign = True)\n",
    "                # smoothing_class.linear3d_main(\"curvature\")\n",
    "                # C_ln = smoothing_class.get_C()\n",
    "                # curvature_matrix = C_ln[1,:]\n",
    "                # curvature_matrix_list.append(curvature_matrix)\n",
    "                curvature_matrix = post_processing.IO_curvature(current_microstructure)\n",
    "                # save curvature information\n",
    "                np.savez(data_file_folder + data_curvature_file_name, curvature_matrix=curvature_matrix)\n",
    "            print(\"Finish curvature calculation\")\n",
    "            \n",
    "            # Get TJ and QJ information first\n",
    "            TJ_infomation_dict = dict()\n",
    "            for index, result in np.ndenumerate(current_microstructure):\n",
    "                i,j,k = index\n",
    "                ip,im,jp,jm,kp,km = myInput.periodic_bc3d(size_x,size_y,size_z,i,j,k)\n",
    "                if ( ((current_microstructure[ip,j,k]-current_microstructure[i,j,k])!=0) or ((current_microstructure[im,j,k]-current_microstructure[i,j,k])!=0) or\\\n",
    "                     ((current_microstructure[i,jp,k]-current_microstructure[i,j,k])!=0) or ((current_microstructure[i,jm,k]-current_microstructure[i,j,k])!=0) or\\\n",
    "                     ((current_microstructure[i,j,kp]-current_microstructure[i,j,k])!=0) or ((current_microstructure[i,j,km]-current_microstructure[i,j,k])!=0) ):\n",
    "                    central_site = int(current_microstructure[i,j,k])\n",
    "                    neighboring_sites_list = np.array([current_microstructure[ip,j,k], current_microstructure[i,jp,k], current_microstructure[i,j,kp], current_microstructure[im,j,k], current_microstructure[i,jm,k], current_microstructure[i,j,km]]).astype(int)\n",
    "                    neighboring_sites_set = set(neighboring_sites_list) # Get all unique neighboring sites\n",
    "                    if central_site in neighboring_sites_set: neighboring_sites_set.remove(central_site) # remove central site\n",
    "                    neighboring_sites_list_unque = list(neighboring_sites_set)\n",
    "                    # remove the TJs and QJs\n",
    "                    if len(neighboring_sites_list_unque) > 1: \n",
    "                        for m in range(len(neighboring_sites_list_unque)):\n",
    "                            pair_id = post_processing.get_line(central_site, neighboring_sites_list_unque[m]) # get pair id\n",
    "                            if pair_id in TJ_infomation_dict:\n",
    "                                tmp = TJ_infomation_dict[pair_id]\n",
    "                                tmp.append([i,j,k])\n",
    "                                TJ_infomation_dict[pair_id] = tmp\n",
    "                            else: \n",
    "                                TJ_infomation_dict[pair_id] = [[i,j,k]]\n",
    "            print(\"Finish TJ extraction\")\n",
    "            \n",
    "            # Get the center of each GB\n",
    "            GB_infomation_dict = dict()\n",
    "            TJ_distance_max = 6 # voxels\n",
    "            for index, result in np.ndenumerate(current_microstructure):\n",
    "                i,j,k = index\n",
    "                ip,im,jp,jm,kp,km = myInput.periodic_bc3d(size_x,size_y,size_z,i,j,k)\n",
    "                if ( ((current_microstructure[ip,j,k]-current_microstructure[i,j,k])!=0) or ((current_microstructure[im,j,k]-current_microstructure[i,j,k])!=0) or\\\n",
    "                     ((current_microstructure[i,jp,k]-current_microstructure[i,j,k])!=0) or ((current_microstructure[i,jm,k]-current_microstructure[i,j,k])!=0) or\\\n",
    "                     ((current_microstructure[i,j,kp]-current_microstructure[i,j,k])!=0) or ((current_microstructure[i,j,km]-current_microstructure[i,j,k])!=0) ):\n",
    "                    central_site = int(current_microstructure[i,j,k])\n",
    "                    neighboring_sites_list = np.array([current_microstructure[ip,j,k], current_microstructure[i,jp,k], current_microstructure[i,j,kp], current_microstructure[im,j,k], current_microstructure[i,jm,k], current_microstructure[i,j,km]]).astype(int)\n",
    "                    neighboring_sites_set = set(neighboring_sites_list) # Get all unique neighboring sites\n",
    "                    if central_site in neighboring_sites_set: neighboring_sites_set.remove(central_site) # remove central site\n",
    "                    neighboring_sites_list_unque = list(neighboring_sites_set)\n",
    "                    # remove the TJs and QJs\n",
    "                    if len(neighboring_sites_list_unque) > 1: continue # only remove TJs and QJs\n",
    "                    # CONTINUE...    # remove the voxels around TJs and QJs\n",
    "                    # check the GB voxels is close to TJ or not\n",
    "                    break_point = 0\n",
    "                    pair_id = post_processing.get_line(central_site, neighboring_sites_list_unque[0]) # get pair id\n",
    "                    if central_site<neighboring_sites_list_unque[0]: pair_id_pair = [central_site, neighboring_sites_list_unque[0]]\n",
    "                    else: pair_id_pair = [neighboring_sites_list_unque[0], central_site]\n",
    "                    if pair_id in GB_infomation_dict:\n",
    "                        GB_infomation_dict[pair_id][5] += 1 # GB area\n",
    "                    else:\n",
    "                        GB_infomation = np.array([0,0,0,0,0.0,1,pair_id_pair[0],pair_id_pair[1]]) # GBnum-curvature,i,j,k,curvature,GBnum,gid0,gid1\n",
    "                        GB_infomation_dict[pair_id] = GB_infomation\n",
    "                    if pair_id in TJ_infomation_dict:\n",
    "                        for TJ_site in TJ_infomation_dict[pair_id]:\n",
    "                            TJ_distance = np.linalg.norm(index-np.array(TJ_site))\n",
    "                            if TJ_distance < TJ_distance_max: \n",
    "                                break_point = 1\n",
    "                                break\n",
    "                    if break_point == 1: continue\n",
    "                    # calculate or extract misorientation\n",
    "                    # if pair_id in GB_infomation_dict:\n",
    "                    GB_infomation_dict[pair_id][0] += 1\n",
    "                    \n",
    "                    if pair_id not in curvature_matrix: continue\n",
    "                    if central_site == pair_id_pair[0]:\n",
    "                        GB_infomation_dict[pair_id][1:5] += np.array([i,j,k,curvature_matrix[pair_id][3]])\n",
    "                    else:\n",
    "                        GB_infomation_dict[pair_id][1:5] += np.array([i,j,k,curvature_matrix[pair_id][3]])\n",
    "            # get the correct location for each GB\n",
    "            small_GB_list = []\n",
    "            for key in GB_infomation_dict: \n",
    "                if GB_infomation_dict[key][0] == 0: \n",
    "                    small_GB_list.append(key) # remove the small GB with 0 voxels after remove voxels close to TJs\n",
    "            for s_index in range(len(small_GB_list)): GB_infomation_dict.pop(small_GB_list[s_index])\n",
    "            for key in GB_infomation_dict: \n",
    "                GB_infomation_dict[key][1:5]=GB_infomation_dict[key][1:5]/GB_infomation_dict[key][0]\n",
    "            print(f\"Current GBs len at {time_step} steps: {len(GB_infomation_dict)}\")\n",
    "            # save information\n",
    "            np.savez(data_file_folder + data_file_name, GB_infomation_dict=GB_infomation_dict)\n",
    "            GB_infomation_dict_list.append(GB_infomation_dict)\n",
    "            \n",
    "            \n",
    "            "
   ]
  },
  {
   "cell_type": "code",
   "execution_count": 26,
   "id": "f25e6ff9-d365-4bdf-9cd8-3c5227ab8286",
   "metadata": {},
   "outputs": [
    {
     "data": {
      "text/plain": [
       "[1409, 3669]"
      ]
     },
     "execution_count": 26,
     "metadata": {},
     "output_type": "execute_result"
    }
   ],
   "source": [
    "pair_id_pair"
   ]
  },
  {
   "cell_type": "code",
   "execution_count": 27,
   "id": "127df95e-c650-41f9-bc2c-ddcea1cc0f55",
   "metadata": {},
   "outputs": [
    {
     "name": "stderr",
     "output_type": "stream",
     "text": [
      "100%|██████████| 51/51 [00:00<00:00, 159.96it/s]\n"
     ]
    }
   ],
   "source": [
    "    # GB Energy information\n",
    "    step_num=51\n",
    "    grain_nums = 5000\n",
    "    GBenergy_information_dict_list = []\n",
    "    for time_step in tqdm(range(step_num)):\n",
    "        data_file_name_GBenergy = f\"GB_velocity_data/3D_GBenergy_velocity_data_{case_name}_step{time_step}.npz\"\n",
    "        if os.path.exists(data_file_folder + data_file_name_GBenergy):\n",
    "            npz_file = np.load(data_file_folder + data_file_name_GBenergy,allow_pickle=True)\n",
    "            GBenergy_information_dict = npz_file[\"GBenergy_information_dict\"]\n",
    "            GBenergy_information_dict_list.append(GBenergy_information_dict.item())\n",
    "        else:\n",
    "            current_microstructure = npy_file_aniso[time_step]\n",
    "            current_energy = npy_file_aniso_energy[time_step]\n",
    "\n",
    "            # Get TJ and QJ information first\n",
    "            TJ_infomation_dict = dict()\n",
    "            for index, result in np.ndenumerate(current_microstructure):\n",
    "                i,j,k = index\n",
    "                ip,im,jp,jm,kp,km = myInput.periodic_bc3d(size_x,size_y,size_z,i,j,k)\n",
    "                if ( ((current_microstructure[ip,j,k]-current_microstructure[i,j,k])!=0) or ((current_microstructure[im,j,k]-current_microstructure[i,j,k])!=0) or\\\n",
    "                     ((current_microstructure[i,jp,k]-current_microstructure[i,j,k])!=0) or ((current_microstructure[i,jm,k]-current_microstructure[i,j,k])!=0) or\\\n",
    "                     ((current_microstructure[i,j,kp]-current_microstructure[i,j,k])!=0) or ((current_microstructure[i,j,km]-current_microstructure[i,j,k])!=0) ):\n",
    "                    central_site = int(current_microstructure[i,j,k])\n",
    "                    neighboring_sites_list = np.array([current_microstructure[ip,j,k], current_microstructure[i,jp,k], current_microstructure[i,j,kp], current_microstructure[im,j,k], current_microstructure[i,jm,k], current_microstructure[i,j,km]]).astype(int)\n",
    "                    neighboring_sites_set = set(neighboring_sites_list) # Get all unique neighboring sites\n",
    "                    if central_site in neighboring_sites_set: neighboring_sites_set.remove(central_site) # remove central site\n",
    "                    neighboring_sites_list_unque = list(neighboring_sites_set)\n",
    "                    # remove the TJs and QJs\n",
    "                    if len(neighboring_sites_list_unque) > 1: \n",
    "                        for m in range(len(neighboring_sites_list_unque)):\n",
    "                            pair_id = post_processing.get_line(central_site, neighboring_sites_list_unque[m]) # get pair id\n",
    "                            if pair_id in TJ_infomation_dict:\n",
    "                                tmp = TJ_infomation_dict[pair_id]\n",
    "                                tmp.append([i,j,k])\n",
    "                                TJ_infomation_dict[pair_id] = tmp\n",
    "                            else: \n",
    "                                TJ_infomation_dict[pair_id] = [[i,j,k]]\n",
    "            print(\"Finish TJ extraction\")\n",
    "\n",
    "            # Get the center of each GB\n",
    "            GBenergy_information_dict = dict()\n",
    "            TJ_distance_max = 6 # voxels\n",
    "            for index, result in np.ndenumerate(current_microstructure):\n",
    "                i,j,k = index\n",
    "                ip,im,jp,jm,kp,km = myInput.periodic_bc3d(size_x,size_y,size_z,i,j,k)\n",
    "                if ( ((current_microstructure[ip,j,k]-current_microstructure[i,j,k])!=0) or ((current_microstructure[im,j,k]-current_microstructure[i,j,k])!=0) or\\\n",
    "                     ((current_microstructure[i,jp,k]-current_microstructure[i,j,k])!=0) or ((current_microstructure[i,jm,k]-current_microstructure[i,j,k])!=0) or\\\n",
    "                     ((current_microstructure[i,j,kp]-current_microstructure[i,j,k])!=0) or ((current_microstructure[i,j,km]-current_microstructure[i,j,k])!=0) ):\n",
    "                    central_site = int(current_microstructure[i,j,k])\n",
    "                    neighboring_sites_list = np.array([current_microstructure[ip,j,k], current_microstructure[i,jp,k], current_microstructure[i,j,kp], current_microstructure[im,j,k], current_microstructure[i,jm,k], current_microstructure[i,j,km]]).astype(int)\n",
    "                    neighboring_sites_set = set(neighboring_sites_list) # Get all unique neighboring sites\n",
    "                    if central_site in neighboring_sites_set: neighboring_sites_set.remove(central_site) # remove central site\n",
    "                    neighboring_sites_list_unque = list(neighboring_sites_set)\n",
    "                    num_other_sites = 0\n",
    "                    neighboring_sites_full_list = np.array([current_microstructure[ip,jp,k], current_microstructure[ip,j,k], current_microstructure[ip,jm,k], current_microstructure[i,jp,k], current_microstructure[i,jm,k], current_microstructure[im,jp,k], current_microstructure[im,j,k], current_microstructure[im,jm,k],\n",
    "                                                            current_microstructure[i,j,km], current_microstructure[ip,jp,km], current_microstructure[ip,j,km], current_microstructure[ip,jm,km], current_microstructure[i,jp,km], current_microstructure[i,jm,km], current_microstructure[im,jp,km], current_microstructure[im,j,km], current_microstructure[im,jm,km],\n",
    "                                                            current_microstructure[i,j,kp], current_microstructure[ip,jp,kp], current_microstructure[ip,j,kp], current_microstructure[ip,jm,kp], current_microstructure[i,jp,kp], current_microstructure[i,jm,kp], current_microstructure[im,jp,kp], current_microstructure[im,j,kp], current_microstructure[im,jm,kp]]).astype(int)\n",
    "                    for neigh_site in neighboring_sites_full_list:\n",
    "                        if neigh_site != central_site: num_other_sites += 1 # get the sites num different with central id\n",
    "                    # remove the TJs and QJs\n",
    "                    if len(neighboring_sites_list_unque) > 1: continue # only remove TJs and QJs\n",
    "                    # CONTINUE...    # remove the voxels around TJs and QJs\n",
    "                    # check the GB voxels is close to TJ or not\n",
    "                    break_point = 0\n",
    "                    pair_id = post_processing.get_line(central_site, neighboring_sites_list_unque[0]) # get pair id\n",
    "                    if central_site<neighboring_sites_list_unque[0]: pair_id_pair = [central_site, neighboring_sites_list_unque[0]]\n",
    "                    else: pair_id_pair = [neighboring_sites_list_unque[0], central_site]\n",
    "                    if pair_id in GBenergy_information_dict:\n",
    "                        GBenergy_information_dict[pair_id][5] += 1 # GB area\n",
    "                    else:\n",
    "                        GB_infomation = np.array([0,0,0,0,0.0,1,pair_id_pair[0],pair_id_pair[1]]) # GBnum-energy,i,j,k,GB energy,GBnum,gid0,gid1\n",
    "                        GBenergy_information_dict[pair_id] = GB_infomation\n",
    "                    if pair_id in TJ_infomation_dict:\n",
    "                        for TJ_site in TJ_infomation_dict[pair_id]:\n",
    "                            TJ_distance = np.linalg.norm(index-np.array(TJ_site))\n",
    "                            if TJ_distance < TJ_distance_max: \n",
    "                                break_point = 1\n",
    "                                break\n",
    "                    if break_point == 1: continue\n",
    "                    # calculate or extract misorientation\n",
    "                    # if pair_id in GBenergy_information_dict:\n",
    "                    GBenergy_information_dict[pair_id][0] += 1\n",
    "                    GBenergy_information_dict[pair_id][1:5] += np.array([i,j,k,current_energy[i,j,k]/num_other_sites])\n",
    "\n",
    "            # get the correct location for each GB\n",
    "            small_GB_list = []\n",
    "            for key in GBenergy_information_dict: \n",
    "                if GBenergy_information_dict[key][0] == 0: \n",
    "                    small_GB_list.append(key) # remove the small GB with 0 voxels after remove voxels close to TJs\n",
    "            for s_index in range(len(small_GB_list)): GBenergy_information_dict.pop(small_GB_list[s_index])\n",
    "            for key in GBenergy_information_dict: \n",
    "                GBenergy_information_dict[key][1:5]=GBenergy_information_dict[key][1:5]/GBenergy_information_dict[key][0]\n",
    "            print(f\"Current GBs len at {time_step} steps: {len(GBenergy_information_dict)}\")\n",
    "            # save information\n",
    "            np.savez(data_file_folder + data_file_name_GBenergy, GBenergy_information_dict=GBenergy_information_dict)\n",
    "            GBenergy_information_dict_list.append(GBenergy_information_dict)"
   ]
  },
  {
   "cell_type": "code",
   "execution_count": 28,
   "id": "2f308b73-0513-45d8-a932-7d65cd3c5e66",
   "metadata": {
    "tags": []
   },
   "outputs": [
    {
     "name": "stderr",
     "output_type": "stream",
     "text": [
      "100%|██████████| 4058/4058 [00:00<00:00, 1025577.59it/s]\n"
     ]
    },
    {
     "name": "stdout",
     "output_type": "stream",
     "text": [
      "finish 0 with num of GBs 0, and collected num of GBs 0\n"
     ]
    },
    {
     "name": "stderr",
     "output_type": "stream",
     "text": [
      "100%|██████████| 1892/1892 [00:44<00:00, 42.44it/s]\n"
     ]
    },
    {
     "name": "stdout",
     "output_type": "stream",
     "text": [
      "finish 1 with num of GBs 576, and collected num of GBs 384\n"
     ]
    },
    {
     "name": "stderr",
     "output_type": "stream",
     "text": [
      "100%|██████████| 2295/2295 [01:01<00:00, 37.29it/s]\n"
     ]
    },
    {
     "name": "stdout",
     "output_type": "stream",
     "text": [
      "finish 2 with num of GBs 798, and collected num of GBs 823\n"
     ]
    },
    {
     "name": "stderr",
     "output_type": "stream",
     "text": [
      "100%|██████████| 4058/4058 [00:00<00:00, 1145774.87it/s]\n",
      "100%|██████████| 2754/2754 [01:10<00:00, 39.31it/s]\n"
     ]
    },
    {
     "name": "stdout",
     "output_type": "stream",
     "text": [
      "finish 3 with num of GBs 907, and collected num of GBs 1262\n"
     ]
    },
    {
     "name": "stderr",
     "output_type": "stream",
     "text": [
      "100%|██████████| 1892/1892 [00:26<00:00, 71.38it/s] \n",
      "100%|██████████| 3125/3125 [01:23<00:00, 37.28it/s]\n"
     ]
    },
    {
     "name": "stdout",
     "output_type": "stream",
     "text": [
      "finish 4 with num of GBs 1086, and collected num of GBs 1741\n"
     ]
    },
    {
     "name": "stderr",
     "output_type": "stream",
     "text": [
      "100%|██████████| 2295/2295 [00:40<00:00, 57.19it/s] \n",
      "100%|██████████| 3295/3295 [01:23<00:00, 39.57it/s]\n"
     ]
    },
    {
     "name": "stdout",
     "output_type": "stream",
     "text": [
      "finish 5 with num of GBs 1079, and collected num of GBs 2157\n"
     ]
    },
    {
     "name": "stderr",
     "output_type": "stream",
     "text": [
      "100%|██████████| 2754/2754 [00:51<00:00, 53.48it/s] \n",
      "100%|██████████| 3360/3360 [01:25<00:00, 39.18it/s]\n"
     ]
    },
    {
     "name": "stdout",
     "output_type": "stream",
     "text": [
      "finish 6 with num of GBs 1110, and collected num of GBs 2561\n"
     ]
    },
    {
     "name": "stderr",
     "output_type": "stream",
     "text": [
      "100%|██████████| 3125/3125 [01:01<00:00, 50.78it/s] \n",
      "100%|██████████| 3397/3397 [01:24<00:00, 40.44it/s]\n"
     ]
    },
    {
     "name": "stdout",
     "output_type": "stream",
     "text": [
      "finish 7 with num of GBs 1071, and collected num of GBs 2913\n"
     ]
    },
    {
     "name": "stderr",
     "output_type": "stream",
     "text": [
      "100%|██████████| 3295/3295 [01:03<00:00, 51.50it/s] \n",
      "100%|██████████| 3288/3288 [01:24<00:00, 38.81it/s]\n"
     ]
    },
    {
     "name": "stdout",
     "output_type": "stream",
     "text": [
      "finish 8 with num of GBs 1068, and collected num of GBs 3237\n"
     ]
    },
    {
     "name": "stderr",
     "output_type": "stream",
     "text": [
      "100%|██████████| 3360/3360 [01:04<00:00, 52.49it/s]\n",
      "100%|██████████| 3262/3262 [01:32<00:00, 35.08it/s]\n"
     ]
    },
    {
     "name": "stdout",
     "output_type": "stream",
     "text": [
      "finish 9 with num of GBs 1024, and collected num of GBs 3536\n"
     ]
    },
    {
     "name": "stderr",
     "output_type": "stream",
     "text": [
      "100%|██████████| 3397/3397 [01:01<00:00, 54.79it/s]\n",
      "100%|██████████| 3173/3173 [01:46<00:00, 29.88it/s]\n"
     ]
    },
    {
     "name": "stdout",
     "output_type": "stream",
     "text": [
      "finish 10 with num of GBs 1043, and collected num of GBs 3791\n"
     ]
    },
    {
     "name": "stderr",
     "output_type": "stream",
     "text": [
      "100%|██████████| 3288/3288 [01:02<00:00, 52.70it/s]\n",
      "100%|██████████| 3083/3083 [01:38<00:00, 31.15it/s]\n"
     ]
    },
    {
     "name": "stdout",
     "output_type": "stream",
     "text": [
      "finish 11 with num of GBs 970, and collected num of GBs 4053\n"
     ]
    },
    {
     "name": "stderr",
     "output_type": "stream",
     "text": [
      "100%|██████████| 3262/3262 [01:09<00:00, 47.08it/s]\n",
      "100%|██████████| 2985/2985 [01:31<00:00, 32.48it/s]\n"
     ]
    },
    {
     "name": "stdout",
     "output_type": "stream",
     "text": [
      "finish 12 with num of GBs 899, and collected num of GBs 4250\n"
     ]
    },
    {
     "name": "stderr",
     "output_type": "stream",
     "text": [
      "100%|██████████| 3173/3173 [01:21<00:00, 39.11it/s]\n",
      "100%|██████████| 2869/2869 [01:24<00:00, 33.96it/s]\n"
     ]
    },
    {
     "name": "stdout",
     "output_type": "stream",
     "text": [
      "finish 13 with num of GBs 833, and collected num of GBs 4422\n"
     ]
    },
    {
     "name": "stderr",
     "output_type": "stream",
     "text": [
      "100%|██████████| 3083/3083 [01:13<00:00, 41.71it/s]\n",
      "100%|██████████| 2710/2710 [01:21<00:00, 33.23it/s]\n"
     ]
    },
    {
     "name": "stdout",
     "output_type": "stream",
     "text": [
      "finish 14 with num of GBs 800, and collected num of GBs 4585\n"
     ]
    },
    {
     "name": "stderr",
     "output_type": "stream",
     "text": [
      "100%|██████████| 2985/2985 [01:09<00:00, 43.25it/s] \n",
      "100%|██████████| 2611/2611 [01:12<00:00, 36.01it/s]\n"
     ]
    },
    {
     "name": "stdout",
     "output_type": "stream",
     "text": [
      "finish 15 with num of GBs 711, and collected num of GBs 4731\n"
     ]
    },
    {
     "name": "stderr",
     "output_type": "stream",
     "text": [
      "100%|██████████| 2869/2869 [01:05<00:00, 43.91it/s]\n",
      "100%|██████████| 2520/2520 [01:10<00:00, 35.63it/s]\n"
     ]
    },
    {
     "name": "stdout",
     "output_type": "stream",
     "text": [
      "finish 16 with num of GBs 693, and collected num of GBs 4862\n"
     ]
    },
    {
     "name": "stderr",
     "output_type": "stream",
     "text": [
      "100%|██████████| 2710/2710 [01:01<00:00, 44.13it/s]\n",
      "100%|██████████| 2421/2421 [01:04<00:00, 37.26it/s]\n"
     ]
    },
    {
     "name": "stdout",
     "output_type": "stream",
     "text": [
      "finish 17 with num of GBs 638, and collected num of GBs 4993\n"
     ]
    },
    {
     "name": "stderr",
     "output_type": "stream",
     "text": [
      "100%|██████████| 2611/2611 [00:53<00:00, 48.73it/s] \n",
      "100%|██████████| 2265/2265 [01:04<00:00, 35.11it/s]\n"
     ]
    },
    {
     "name": "stdout",
     "output_type": "stream",
     "text": [
      "finish 18 with num of GBs 632, and collected num of GBs 5110\n"
     ]
    },
    {
     "name": "stderr",
     "output_type": "stream",
     "text": [
      "100%|██████████| 2520/2520 [00:52<00:00, 48.26it/s]\n",
      "100%|██████████| 2180/2180 [01:04<00:00, 33.97it/s]\n"
     ]
    },
    {
     "name": "stdout",
     "output_type": "stream",
     "text": [
      "finish 19 with num of GBs 629, and collected num of GBs 5218\n"
     ]
    },
    {
     "name": "stderr",
     "output_type": "stream",
     "text": [
      "100%|██████████| 2421/2421 [00:48<00:00, 49.67it/s] \n",
      "100%|██████████| 2101/2101 [00:56<00:00, 37.14it/s]\n"
     ]
    },
    {
     "name": "stdout",
     "output_type": "stream",
     "text": [
      "finish 20 with num of GBs 555, and collected num of GBs 5317\n"
     ]
    },
    {
     "name": "stderr",
     "output_type": "stream",
     "text": [
      "100%|██████████| 2265/2265 [00:48<00:00, 47.00it/s] \n",
      "100%|██████████| 2014/2014 [00:49<00:00, 41.03it/s] \n"
     ]
    },
    {
     "name": "stdout",
     "output_type": "stream",
     "text": [
      "finish 21 with num of GBs 482, and collected num of GBs 5388\n"
     ]
    },
    {
     "name": "stderr",
     "output_type": "stream",
     "text": [
      "100%|██████████| 2180/2180 [00:46<00:00, 46.52it/s] \n",
      "100%|██████████| 1894/1894 [00:49<00:00, 38.06it/s]\n"
     ]
    },
    {
     "name": "stdout",
     "output_type": "stream",
     "text": [
      "finish 22 with num of GBs 488, and collected num of GBs 5445\n"
     ]
    },
    {
     "name": "stderr",
     "output_type": "stream",
     "text": [
      "100%|██████████| 2101/2101 [00:41<00:00, 50.58it/s]\n",
      "100%|██████████| 1824/1824 [00:44<00:00, 40.78it/s]\n"
     ]
    },
    {
     "name": "stdout",
     "output_type": "stream",
     "text": [
      "finish 23 with num of GBs 439, and collected num of GBs 5514\n"
     ]
    },
    {
     "name": "stderr",
     "output_type": "stream",
     "text": [
      "100%|██████████| 2014/2014 [00:37<00:00, 54.06it/s] \n",
      "100%|██████████| 1756/1756 [00:43<00:00, 40.22it/s] \n"
     ]
    },
    {
     "name": "stdout",
     "output_type": "stream",
     "text": [
      "finish 24 with num of GBs 428, and collected num of GBs 5587\n"
     ]
    },
    {
     "name": "stderr",
     "output_type": "stream",
     "text": [
      "100%|██████████| 1894/1894 [00:36<00:00, 52.61it/s]\n",
      "100%|██████████| 1663/1663 [00:40<00:00, 40.56it/s]\n"
     ]
    },
    {
     "name": "stdout",
     "output_type": "stream",
     "text": [
      "finish 25 with num of GBs 403, and collected num of GBs 5639\n"
     ]
    },
    {
     "name": "stderr",
     "output_type": "stream",
     "text": [
      "100%|██████████| 1824/1824 [00:32<00:00, 55.66it/s] \n",
      "100%|██████████| 1558/1558 [00:37<00:00, 41.39it/s]\n"
     ]
    },
    {
     "name": "stdout",
     "output_type": "stream",
     "text": [
      "finish 26 with num of GBs 370, and collected num of GBs 5701\n"
     ]
    },
    {
     "name": "stderr",
     "output_type": "stream",
     "text": [
      "100%|██████████| 1756/1756 [00:30<00:00, 57.29it/s] \n",
      "100%|██████████| 1519/1519 [00:34<00:00, 44.14it/s]\n"
     ]
    },
    {
     "name": "stdout",
     "output_type": "stream",
     "text": [
      "finish 27 with num of GBs 338, and collected num of GBs 5744\n"
     ]
    },
    {
     "name": "stderr",
     "output_type": "stream",
     "text": [
      "100%|██████████| 1663/1663 [00:31<00:00, 53.18it/s]\n",
      "100%|██████████| 1464/1464 [00:33<00:00, 44.13it/s]\n"
     ]
    },
    {
     "name": "stdout",
     "output_type": "stream",
     "text": [
      "finish 28 with num of GBs 326, and collected num of GBs 5795\n"
     ]
    },
    {
     "name": "stderr",
     "output_type": "stream",
     "text": [
      "100%|██████████| 1558/1558 [00:26<00:00, 58.93it/s] \n",
      "100%|██████████| 1411/1411 [00:33<00:00, 42.62it/s]\n"
     ]
    },
    {
     "name": "stdout",
     "output_type": "stream",
     "text": [
      "finish 29 with num of GBs 332, and collected num of GBs 5839\n"
     ]
    },
    {
     "name": "stderr",
     "output_type": "stream",
     "text": [
      "100%|██████████| 1519/1519 [00:25<00:00, 60.47it/s] \n",
      "100%|██████████| 1359/1359 [00:30<00:00, 44.84it/s]\n"
     ]
    },
    {
     "name": "stdout",
     "output_type": "stream",
     "text": [
      "finish 30 with num of GBs 304, and collected num of GBs 5875\n"
     ]
    },
    {
     "name": "stderr",
     "output_type": "stream",
     "text": [
      "100%|██████████| 1464/1464 [00:21<00:00, 67.32it/s] \n",
      "100%|██████████| 1300/1300 [00:27<00:00, 47.94it/s]\n"
     ]
    },
    {
     "name": "stdout",
     "output_type": "stream",
     "text": [
      "finish 31 with num of GBs 272, and collected num of GBs 5906\n"
     ]
    },
    {
     "name": "stderr",
     "output_type": "stream",
     "text": [
      "100%|██████████| 1411/1411 [00:23<00:00, 59.21it/s]\n",
      "100%|██████████| 1240/1240 [00:25<00:00, 48.96it/s]\n"
     ]
    },
    {
     "name": "stdout",
     "output_type": "stream",
     "text": [
      "finish 32 with num of GBs 254, and collected num of GBs 5937\n"
     ]
    },
    {
     "name": "stderr",
     "output_type": "stream",
     "text": [
      "100%|██████████| 1359/1359 [00:21<00:00, 63.69it/s]\n",
      "100%|██████████| 1170/1170 [00:23<00:00, 50.57it/s]\n"
     ]
    },
    {
     "name": "stdout",
     "output_type": "stream",
     "text": [
      "finish 33 with num of GBs 232, and collected num of GBs 5964\n"
     ]
    },
    {
     "name": "stderr",
     "output_type": "stream",
     "text": [
      "100%|██████████| 1300/1300 [00:19<00:00, 66.91it/s]\n",
      "100%|██████████| 1125/1125 [00:21<00:00, 52.22it/s]\n"
     ]
    },
    {
     "name": "stdout",
     "output_type": "stream",
     "text": [
      "finish 34 with num of GBs 216, and collected num of GBs 5990\n"
     ]
    },
    {
     "name": "stderr",
     "output_type": "stream",
     "text": [
      "100%|██████████| 1240/1240 [00:17<00:00, 70.39it/s] \n",
      "100%|██████████| 1069/1069 [00:22<00:00, 47.30it/s]\n"
     ]
    },
    {
     "name": "stdout",
     "output_type": "stream",
     "text": [
      "finish 35 with num of GBs 227, and collected num of GBs 6015\n"
     ]
    },
    {
     "name": "stderr",
     "output_type": "stream",
     "text": [
      "100%|██████████| 1170/1170 [00:17<00:00, 68.16it/s]\n",
      "100%|██████████| 1038/1038 [00:19<00:00, 51.99it/s]\n"
     ]
    },
    {
     "name": "stdout",
     "output_type": "stream",
     "text": [
      "finish 36 with num of GBs 200, and collected num of GBs 6040\n"
     ]
    },
    {
     "name": "stderr",
     "output_type": "stream",
     "text": [
      "100%|██████████| 1125/1125 [00:14<00:00, 76.62it/s]\n",
      "100%|██████████| 998/998 [00:18<00:00, 52.58it/s]\n"
     ]
    },
    {
     "name": "stdout",
     "output_type": "stream",
     "text": [
      "finish 37 with num of GBs 190, and collected num of GBs 6068\n"
     ]
    },
    {
     "name": "stderr",
     "output_type": "stream",
     "text": [
      "100%|██████████| 1069/1069 [00:15<00:00, 67.78it/s]\n",
      "100%|██████████| 963/963 [00:18<00:00, 53.34it/s] \n"
     ]
    },
    {
     "name": "stdout",
     "output_type": "stream",
     "text": [
      "finish 38 with num of GBs 181, and collected num of GBs 6092\n"
     ]
    },
    {
     "name": "stderr",
     "output_type": "stream",
     "text": [
      "100%|██████████| 1038/1038 [00:14<00:00, 73.27it/s]\n",
      "100%|██████████| 943/943 [00:17<00:00, 53.47it/s]\n"
     ]
    },
    {
     "name": "stdout",
     "output_type": "stream",
     "text": [
      "finish 39 with num of GBs 177, and collected num of GBs 6115\n"
     ]
    },
    {
     "name": "stderr",
     "output_type": "stream",
     "text": [
      "100%|██████████| 998/998 [00:13<00:00, 74.74it/s] \n",
      "100%|██████████| 927/927 [00:15<00:00, 60.44it/s] \n"
     ]
    },
    {
     "name": "stdout",
     "output_type": "stream",
     "text": [
      "finish 40 with num of GBs 154, and collected num of GBs 6131\n"
     ]
    },
    {
     "name": "stderr",
     "output_type": "stream",
     "text": [
      "100%|██████████| 963/963 [00:12<00:00, 79.71it/s] \n",
      "100%|██████████| 914/914 [00:16<00:00, 55.47it/s]\n"
     ]
    },
    {
     "name": "stdout",
     "output_type": "stream",
     "text": [
      "finish 41 with num of GBs 165, and collected num of GBs 6151\n"
     ]
    },
    {
     "name": "stderr",
     "output_type": "stream",
     "text": [
      "100%|██████████| 943/943 [00:10<00:00, 88.20it/s] \n",
      "100%|██████████| 892/892 [00:14<00:00, 63.38it/s] \n"
     ]
    },
    {
     "name": "stdout",
     "output_type": "stream",
     "text": [
      "finish 42 with num of GBs 141, and collected num of GBs 6165\n"
     ]
    },
    {
     "name": "stderr",
     "output_type": "stream",
     "text": [
      "100%|██████████| 927/927 [00:10<00:00, 89.43it/s] \n",
      "100%|██████████| 883/883 [00:16<00:00, 53.98it/s]\n"
     ]
    },
    {
     "name": "stdout",
     "output_type": "stream",
     "text": [
      "finish 43 with num of GBs 164, and collected num of GBs 6187\n"
     ]
    },
    {
     "name": "stderr",
     "output_type": "stream",
     "text": [
      "100%|██████████| 914/914 [00:10<00:00, 88.18it/s] \n",
      "100%|██████████| 867/867 [00:16<00:00, 53.63it/s]\n"
     ]
    },
    {
     "name": "stdout",
     "output_type": "stream",
     "text": [
      "finish 44 with num of GBs 162, and collected num of GBs 6204\n"
     ]
    },
    {
     "name": "stderr",
     "output_type": "stream",
     "text": [
      "100%|██████████| 892/892 [00:09<00:00, 94.45it/s] \n",
      "100%|██████████| 850/850 [00:16<00:00, 51.96it/s]\n"
     ]
    },
    {
     "name": "stdout",
     "output_type": "stream",
     "text": [
      "finish 45 with num of GBs 164, and collected num of GBs 6218\n"
     ]
    },
    {
     "name": "stderr",
     "output_type": "stream",
     "text": [
      "100%|██████████| 883/883 [00:10<00:00, 83.52it/s] \n",
      "100%|██████████| 835/835 [00:15<00:00, 55.45it/s] \n"
     ]
    },
    {
     "name": "stdout",
     "output_type": "stream",
     "text": [
      "finish 46 with num of GBs 151, and collected num of GBs 6232\n"
     ]
    },
    {
     "name": "stderr",
     "output_type": "stream",
     "text": [
      "100%|██████████| 867/867 [00:10<00:00, 79.03it/s] \n",
      "100%|██████████| 814/814 [00:14<00:00, 57.06it/s] \n"
     ]
    },
    {
     "name": "stdout",
     "output_type": "stream",
     "text": [
      "finish 47 with num of GBs 143, and collected num of GBs 6246\n"
     ]
    },
    {
     "name": "stderr",
     "output_type": "stream",
     "text": [
      "100%|██████████| 850/850 [00:11<00:00, 76.18it/s] \n",
      "100%|██████████| 788/788 [00:13<00:00, 58.05it/s] \n"
     ]
    },
    {
     "name": "stdout",
     "output_type": "stream",
     "text": [
      "finish 48 with num of GBs 136, and collected num of GBs 6246\n"
     ]
    },
    {
     "name": "stderr",
     "output_type": "stream",
     "text": [
      "100%|██████████| 835/835 [00:10<00:00, 77.66it/s] \n",
      "100%|██████████| 767/767 [00:13<00:00, 56.65it/s]\n"
     ]
    },
    {
     "name": "stdout",
     "output_type": "stream",
     "text": [
      "finish 49 with num of GBs 136, and collected num of GBs 6246\n"
     ]
    },
    {
     "name": "stderr",
     "output_type": "stream",
     "text": [
      "100%|██████████| 814/814 [00:10<00:00, 80.84it/s] \n"
     ]
    }
   ],
   "source": [
    "    time_interval = 2\n",
    "    # store all GB points, include curvature and anti-curvature(include randomness points)\n",
    "    GB_list_velocity_list = []\n",
    "    GB_list_curvature_list = []\n",
    "    GB_list_GBenergy_list = []\n",
    "    # store all GB point exclude anti-curvature randomness points\n",
    "    GB_list_velocity_list_exrandom = []\n",
    "    GB_list_curvature_list_exrandom = []\n",
    "    # store GB energy point exclude anti_c randomness points\n",
    "    GB_list_GBenergy_list_exrandom = []\n",
    "    # store anti-curvature GBs in dictionary\n",
    "    GB_id_focus = dict()\n",
    "    GB_id_focus_detail = dict()\n",
    "    GB_filter_kernel = [set(),set(),set(),set(),set()]\n",
    "    for time_step in range(step_num):\n",
    "        if time_step+1 >= step_num: continue\n",
    "        GB_list_velocity_list_tmp = []\n",
    "        GB_list_curvature_list_tmp = []\n",
    "        GB_list_GBenergy_list_tmp = []\n",
    "        GB_list_velocity_list_exrandom_tmp = []\n",
    "        GB_list_curvature_list_exrandom_tmp = []\n",
    "        GB_list_GBenergy_list_exrandom_tmp = []\n",
    "        key_set = set()\n",
    "        for key in tqdm(GB_infomation_dict_list[time_step]):\n",
    "            if GB_infomation_dict_list[time_step+1].get(key) is None: continue\n",
    "            if GB_infomation_dict_list[time_step][key][5] < 100: continue # remove small GBs\n",
    "            if abs(GB_infomation_dict_list[time_step][key][4]) < 0.038: continue # remove low curvature\n",
    "            # Calculate dV\n",
    "            pair_id_pair = GB_infomation_dict_list[time_step][key][6:8]\n",
    "            growth_direction1 = (npy_file_aniso[time_step]==pair_id_pair[0])*(npy_file_aniso[time_step+1]==pair_id_pair[1])\n",
    "            growth_direction2 = (npy_file_aniso[time_step]==pair_id_pair[1])*(npy_file_aniso[time_step+1]==pair_id_pair[0])\n",
    "            dV = np.sum(growth_direction1)-np.sum(growth_direction2) # velocity with direction\n",
    "            # calculate velocity\n",
    "            velocity = dV/time_interval/(GB_infomation_dict_list[time_step][key][5]/2)\n",
    "            GB_list_velocity_list_tmp.append(velocity)\n",
    "            # keep curvature\n",
    "            current_curvature_value = GB_infomation_dict_list[time_step][key][4]\n",
    "            GB_list_curvature_list_tmp.append(current_curvature_value)\n",
    "            # keep GB energy\n",
    "            GB_list_GBenergy_list_tmp.append(GBenergy_information_dict_list[time_step][key][4])\n",
    "            \n",
    "            # keep anti-curvature GB info\n",
    "            if current_curvature_value*velocity<-0.0001: \n",
    "                key_set.add(key)\n",
    "                if time_step >= step_num-3: continue\n",
    "                if key in GB_id_focus: \n",
    "                    GB_id_focus[key] += 1\n",
    "                    GB_id_focus_detail[key].append(time_step)\n",
    "                else: \n",
    "                    GB_id_focus[key] = 1\n",
    "                    GB_id_focus_detail[key] = [time_step]\n",
    "        \n",
    "        # keep all GBs with GB length larger than 100\n",
    "        GB_list_velocity_list.append(GB_list_velocity_list_tmp)\n",
    "        GB_list_curvature_list.append(GB_list_curvature_list_tmp)\n",
    "        GB_list_GBenergy_list.append(GB_list_GBenergy_list_tmp)\n",
    "        \n",
    "        # filter the anti-curvature GB with 00100\n",
    "        GB_filter_kernel[0:4] = GB_filter_kernel[1:]\n",
    "        GB_filter_kernel[4] = key_set\n",
    "        filtered_set = GB_filter_kernel[2] - (GB_filter_kernel[0]|GB_filter_kernel[1]|GB_filter_kernel[3]|GB_filter_kernel[4])\n",
    "        for key in filtered_set: \n",
    "            GB_id_focus[key] -= 1\n",
    "            GB_id_focus_detail[key].remove(time_step-2)\n",
    "        print(f\"finish {time_step} with num of GBs {len(GB_list_velocity_list_tmp)}, and collected num of GBs {len(GB_id_focus)}\")\n",
    "        \n",
    "        # remove exclude data\n",
    "        if time_step < 2: continue\n",
    "        for key in tqdm(GB_infomation_dict_list[time_step-2]):\n",
    "            if GB_infomation_dict_list[time_step-1].get(key) is None: continue\n",
    "            if GB_infomation_dict_list[time_step-2][key][5] < 100: continue # remove small GBs\n",
    "            if key in filtered_set: continue # remove the randomness points\n",
    "            if abs(GB_infomation_dict_list[time_step-2][key][4]) < 0.038: continue # remove low curvature\n",
    "            # Calculate dV\n",
    "            pair_id_pair = GB_infomation_dict_list[time_step-2][key][6:8]\n",
    "            growth_direction1 = (npy_file_aniso[time_step-2]==pair_id_pair[0])*(npy_file_aniso[time_step-1]==pair_id_pair[1])\n",
    "            growth_direction2 = (npy_file_aniso[time_step-2]==pair_id_pair[1])*(npy_file_aniso[time_step-1]==pair_id_pair[0])\n",
    "            dV = np.sum(growth_direction1)-np.sum(growth_direction2) # velocity with direction\n",
    "            # calculate velocity\n",
    "            velocity = dV/time_interval/(GB_infomation_dict_list[time_step-2][key][5]/2)\n",
    "            GB_list_velocity_list_exrandom_tmp.append(velocity)\n",
    "            # keep curvature\n",
    "            current_curvature_value = GB_infomation_dict_list[time_step-2][key][4]\n",
    "            GB_list_curvature_list_exrandom_tmp.append(current_curvature_value)\n",
    "            # keep GB energy\n",
    "            GB_list_GBenergy_list_exrandom_tmp.append(GBenergy_information_dict_list[time_step-2][key][4])\n",
    "        GB_list_velocity_list_exrandom.append(GB_list_velocity_list_exrandom_tmp)\n",
    "        GB_list_curvature_list_exrandom.append(GB_list_curvature_list_exrandom_tmp)\n",
    "        GB_list_GBenergy_list_exrandom.append(GB_list_GBenergy_list_exrandom_tmp)\n",
    "        \n",
    "    \n",
    "    # filter the anti-curvature GB with 00100\n",
    "    GB_id_focus_copy = GB_id_focus.copy()\n",
    "    for key in GB_id_focus_copy:\n",
    "        if GB_id_focus_copy[key] <=0:\n",
    "            GB_id_focus.pop(key)\n",
    "            GB_id_focus_detail.pop(key)\n",
    "            \n",
    "    # add the last two steps for exclude data\n",
    "    # GB_list_velocity_list_exrandom.extend(GB_list_velocity_list[-2:])\n",
    "    # GB_list_curvature_list_exrandom.extend(GB_list_curvature_list[-2:])\n",
    "    # GB_list_GBenergy_list_exrandom.extend(GB_list_GBenergy_list[-2:])\n",
    "            "
   ]
  },
  {
   "cell_type": "code",
   "execution_count": 29,
   "id": "81c85dbd-a6b5-4075-b7c2-6d2fa8f85092",
   "metadata": {},
   "outputs": [
    {
     "data": {
      "text/plain": [
       "6246"
      ]
     },
     "execution_count": 29,
     "metadata": {},
     "output_type": "execute_result"
    }
   ],
   "source": [
    "len(GB_id_focus_copy)"
   ]
  },
  {
   "cell_type": "code",
   "execution_count": 30,
   "id": "6304ac9f-da16-406b-9a55-1d84184e3369",
   "metadata": {},
   "outputs": [
    {
     "name": "stderr",
     "output_type": "stream",
     "text": [
      "100%|██████████| 4058/4058 [00:00<00:00, 1276185.47it/s]\n",
      "100%|██████████| 1892/1892 [00:11<00:00, 161.03it/s]\n",
      "100%|██████████| 2295/2295 [00:20<00:00, 111.74it/s]\n",
      "100%|██████████| 2754/2754 [00:28<00:00, 96.02it/s] \n",
      "100%|██████████| 3125/3125 [00:33<00:00, 92.61it/s] \n",
      "100%|██████████| 3295/3295 [00:35<00:00, 91.99it/s] \n",
      "100%|██████████| 3360/3360 [00:36<00:00, 91.07it/s] \n",
      "100%|██████████| 3397/3397 [00:36<00:00, 92.62it/s] \n",
      "100%|██████████| 3288/3288 [00:37<00:00, 86.54it/s] \n",
      "100%|██████████| 3262/3262 [00:41<00:00, 78.95it/s] \n",
      "100%|██████████| 3173/3173 [00:49<00:00, 64.57it/s] \n",
      "100%|██████████| 3083/3083 [00:46<00:00, 66.78it/s] \n",
      "100%|██████████| 2985/2985 [00:43<00:00, 68.81it/s] \n",
      "100%|██████████| 2869/2869 [00:40<00:00, 70.95it/s] \n",
      "100%|██████████| 2710/2710 [00:38<00:00, 70.44it/s] \n",
      "100%|██████████| 2611/2611 [00:33<00:00, 78.98it/s] \n",
      "100%|██████████| 2520/2520 [00:32<00:00, 78.24it/s] \n",
      "100%|██████████| 2421/2421 [00:29<00:00, 82.50it/s] \n",
      "100%|██████████| 2265/2265 [00:33<00:00, 68.12it/s] \n",
      "100%|██████████| 2180/2180 [00:29<00:00, 73.99it/s] \n",
      "100%|██████████| 2101/2101 [00:29<00:00, 72.05it/s] \n",
      "100%|██████████| 2014/2014 [00:24<00:00, 81.59it/s] \n",
      "100%|██████████| 1894/1894 [00:21<00:00, 87.16it/s] \n",
      "100%|██████████| 1824/1824 [00:21<00:00, 83.15it/s] \n",
      "100%|██████████| 1756/1756 [00:19<00:00, 90.58it/s] \n",
      "100%|██████████| 1663/1663 [00:17<00:00, 95.29it/s] \n",
      "100%|██████████| 1558/1558 [00:17<00:00, 88.49it/s] \n",
      "100%|██████████| 1519/1519 [00:17<00:00, 84.89it/s] \n",
      "100%|██████████| 1464/1464 [00:15<00:00, 95.14it/s] \n",
      "100%|██████████| 1411/1411 [00:15<00:00, 91.70it/s] \n",
      "100%|██████████| 1359/1359 [00:15<00:00, 88.39it/s] \n",
      "100%|██████████| 1300/1300 [00:13<00:00, 96.42it/s] \n",
      "100%|██████████| 1240/1240 [00:11<00:00, 107.26it/s]\n",
      "100%|██████████| 1170/1170 [00:12<00:00, 97.33it/s]\n",
      "100%|██████████| 1125/1125 [00:10<00:00, 111.43it/s]\n",
      "100%|██████████| 1069/1069 [00:11<00:00, 94.60it/s]\n",
      "100%|██████████| 1038/1038 [00:08<00:00, 115.52it/s]\n",
      "100%|██████████| 998/998 [00:08<00:00, 114.76it/s]\n",
      "100%|██████████| 963/963 [00:07<00:00, 123.68it/s]\n",
      "100%|██████████| 943/943 [00:08<00:00, 112.27it/s]\n",
      "100%|██████████| 927/927 [00:05<00:00, 155.30it/s]\n",
      "100%|██████████| 914/914 [00:07<00:00, 129.13it/s]\n",
      "100%|██████████| 892/892 [00:05<00:00, 149.55it/s]\n",
      "100%|██████████| 883/883 [00:06<00:00, 126.62it/s]\n",
      "100%|██████████| 867/867 [00:07<00:00, 122.45it/s]\n",
      "100%|██████████| 850/850 [00:07<00:00, 109.12it/s]\n",
      "100%|██████████| 835/835 [00:07<00:00, 117.90it/s]\n",
      "100%|██████████| 814/814 [00:07<00:00, 110.30it/s]\n",
      "100%|██████████| 788/788 [00:00<00:00, 765781.18it/s]\n",
      "100%|██████████| 767/767 [00:00<00:00, 828491.16it/s]\n"
     ]
    }
   ],
   "source": [
    "    time_interval = 2\n",
    "    # GB_list_velocity_list = []\n",
    "    GB_antic_list_velocity_list = []\n",
    "    GB_antic_list_GBenergy_list = []\n",
    "    GB_antic_list_anticNum_list = []\n",
    "    GB_id_unfocus_lowE_detail = dict()\n",
    "    for time_step in range(step_num):\n",
    "        if time_step+1 >= step_num: continue\n",
    "        for key in tqdm(GBenergy_information_dict_list[time_step]):\n",
    "            if GBenergy_information_dict_list[time_step+1].get(key) is None: continue\n",
    "            if GBenergy_information_dict_list[time_step][key][5] < 100: continue # remove small GBs\n",
    "            if abs(GB_infomation_dict_list[time_step][key][4]) < 0.038: continue # remove low curvature\n",
    "            \n",
    "            # keep the GB with low energy and curvature behavior\n",
    "            if (GBenergy_information_dict_list[time_step][key][4]<0.4) and (key not in GB_id_focus_detail): # do we need to remove random here?\n",
    "                if key in GB_id_unfocus_lowE_detail:\n",
    "                    GB_id_unfocus_lowE_detail[key].append(time_step)\n",
    "                else:\n",
    "                    GB_id_unfocus_lowE_detail[key] = [time_step]\n",
    "            \n",
    "            # anti-curvature behavior list\n",
    "            if (key in GB_id_focus_detail) and (time_step in GB_id_focus_detail[key]):\n",
    "                # Calculate dV\n",
    "                pair_id_pair = GB_infomation_dict_list[time_step][key][6:8]\n",
    "                growth_direction1 = (npy_file_aniso[time_step]==pair_id_pair[0])*(npy_file_aniso[time_step+1]==pair_id_pair[1])\n",
    "                growth_direction2 = (npy_file_aniso[time_step]==pair_id_pair[1])*(npy_file_aniso[time_step+1]==pair_id_pair[0])\n",
    "                dV = np.sum(growth_direction1)-np.sum(growth_direction2) # velocity with direction\n",
    "                # calculate velocity\n",
    "                velocity = dV/time_interval/(GB_infomation_dict_list[time_step][key][5]/2)\n",
    "                # correct the sign of velocity\n",
    "                current_curvature_value = GB_infomation_dict_list[time_step][key][4]\n",
    "                if current_curvature_value < 0: GB_antic_list_velocity_list.append(-velocity)\n",
    "                else: GB_antic_list_velocity_list.append(velocity)\n",
    "                \n",
    "                GB_antic_list_GBenergy_list.append(GBenergy_information_dict_list[time_step][key][4])\n",
    "                GB_antic_list_anticNum_list.append(GB_id_focus[key])\n",
    "            \n",
    "        \n",
    "            "
   ]
  },
  {
   "cell_type": "code",
   "execution_count": 31,
   "id": "bf804f69-a21f-462e-8dc6-ea100eb771f0",
   "metadata": {
    "tags": []
   },
   "outputs": [
    {
     "name": "stdout",
     "output_type": "stream",
     "text": [
      "The number of the GBs showing anti-curvature during whole simulations is 3233\n",
      "The ratio of anti-curvature GBs during whole simulations is 25.100931677018636% in 12880 GBs\n",
      "dict_values([6, 2, 5, 3, 2, 2, 5, 3, 2, 5, 2, 3, 3, 3, 2, 2, 3, 13, 3, 2, 3, 2, 4, 2, 2, 2, 2, 2, 5, 2, 7, 2, 2, 3, 7, 2, 2, 2, 6, 2, 2, 2, 5, 2, 3, 3, 2, 2, 3, 6, 3, 2, 2, 5, 6, 2, 3, 2, 4, 6, 3, 4, 2, 3, 2, 3, 3, 3, 2, 9, 2, 3, 5, 2, 2, 3, 3, 2, 2, 2, 4, 2, 2, 6, 2, 2, 3, 2, 3, 2, 2, 2, 3, 4, 6, 2, 2, 2, 5, 2, 3, 2, 4, 3, 2, 5, 2, 4, 2, 3, 2, 3, 2, 4, 2, 3, 2, 3, 3, 2, 2, 9, 2, 2, 2, 3, 2, 2, 2, 4, 2, 2, 2, 4, 2, 3, 2, 2, 3, 2, 2, 15, 2, 3, 2, 5, 2, 4, 4, 3, 2, 3, 2, 2, 2, 2, 3, 5, 2, 4, 2, 2, 7, 2, 2, 2, 7, 4, 2, 5, 2, 2, 2, 2, 2, 3, 4, 5, 2, 8, 8, 2, 2, 2, 2, 6, 9, 2, 4, 6, 2, 2, 10, 2, 2, 2, 4, 2, 2, 2, 2, 5, 2, 2, 2, 2, 2, 2, 2, 3, 4, 2, 2, 6, 2, 5, 2, 6, 3, 2, 2, 8, 3, 13, 2, 2, 2, 2, 5, 4, 2, 3, 2, 6, 4, 2, 3, 2, 3, 5, 2, 2, 2, 5, 2, 5, 2, 6, 2, 2, 2, 5, 6, 6, 3, 2, 2, 2, 2, 10, 2, 2, 3, 5, 2, 2, 4, 2, 3, 7, 2, 2, 2, 2, 2, 4, 2, 2, 3, 7, 2, 2, 2, 6, 4, 2, 7, 2, 4, 3, 2, 5, 2, 2, 2, 6, 3, 3, 6, 9, 2, 2, 2, 2, 2, 4, 2, 2, 2, 3, 2, 7, 2, 5, 3, 3, 10, 2, 2, 2, 2, 3, 2, 2, 2, 4, 3, 2, 2, 2, 5, 5, 2, 6, 2, 3, 4, 3, 4, 2, 3, 3, 4, 6, 5, 2, 2, 2, 5, 2, 2, 2, 6, 7, 2, 5, 2, 2, 3, 2, 2, 5, 2, 3, 2, 2, 2, 5, 2, 2, 2, 3, 6, 2, 4, 2, 8, 3, 2, 2, 2, 6, 2, 3, 2, 6, 4, 7, 5, 3, 2, 3, 3, 2, 8, 2, 5, 8, 3, 2, 2, 7, 2, 4, 9, 4, 5, 6, 7, 2, 2, 2, 2, 2, 3, 2, 7, 2, 6, 3, 4, 10, 5, 5, 5, 4, 2, 5, 5, 2, 2, 2, 3, 2, 2, 3, 8, 4, 7, 2, 4, 2, 3, 2, 4, 3, 6, 2, 2, 2, 2, 2, 2, 6, 4, 3, 5, 2, 13, 2, 2, 4, 3, 4, 4, 2, 3, 3, 12, 2, 3, 6, 3, 2, 2, 2, 9, 2, 4, 2, 3, 2, 2, 2, 2, 2, 2, 2, 8, 2, 2, 4, 3, 2, 4, 2, 2, 2, 2, 2, 3, 6, 4, 7, 3, 4, 2, 2, 2, 3, 4, 9, 2, 2, 4, 4, 2, 3, 3, 6, 2, 8, 3, 2, 2, 2, 2, 2, 10, 2, 2, 4, 2, 3, 2, 9, 6, 4, 3, 6, 4, 2, 4, 3, 4, 2, 4, 4, 2, 6, 2, 5, 9, 2, 2, 3, 2, 3, 2, 4, 2, 2, 2, 3, 2, 2, 5, 11, 5, 3, 4, 2, 2, 2, 4, 3, 2, 5, 2, 2, 5, 2, 2, 2, 3, 2, 5, 2, 3, 2, 5, 2, 2, 4, 4, 4, 10, 2, 4, 2, 3, 6, 6, 2, 4, 4, 3, 4, 3, 10, 3, 6, 8, 2, 2, 2, 3, 2, 2, 6, 2, 5, 7, 6, 2, 2, 2, 2, 2, 2, 3, 3, 4, 4, 4, 2, 7, 6, 2, 4, 2, 2, 4, 2, 2, 4, 4, 2, 5, 6, 2, 4, 2, 3, 2, 2, 2, 3, 2, 2, 5, 3, 3, 2, 2, 3, 2, 3, 11, 2, 6, 2, 2, 2, 2, 3, 6, 6, 2, 4, 3, 3, 4, 6, 2, 2, 4, 2, 3, 2, 2, 3, 2, 3, 2, 2, 3, 4, 3, 2, 3, 2, 2, 2, 2, 3, 3, 2, 3, 3, 2, 2, 3, 2, 3, 2, 2, 2, 3, 2, 3, 3, 3, 3, 2, 3, 4, 2, 2, 4, 2, 4, 2, 2, 3, 5, 15, 5, 3, 2, 2, 4, 2, 6, 2, 2, 2, 9, 3, 4, 2, 7, 3, 2, 2, 2, 2, 3, 2, 2, 6, 2, 4, 3, 2, 2, 4, 5, 7, 2, 2, 2, 2, 5, 2, 2, 6, 5, 2, 2, 3, 2, 3, 5, 7, 4, 5, 5, 3, 4, 3, 2, 4, 4, 4, 2, 2, 11, 6, 4, 4, 3, 3, 5, 2, 4, 8, 2, 3, 3, 2, 2, 3, 2, 7, 2, 2, 2, 5, 7, 4, 4, 2, 2, 2, 2, 4, 4, 8, 2, 3, 2, 5, 3, 5, 2, 5, 3, 12, 4, 4, 2, 11, 3, 3, 4, 5, 2, 3, 2, 7, 2, 4, 2, 11, 2, 2, 3, 4, 2, 2, 2, 2, 2, 4, 4, 2, 3, 2, 4, 2, 2, 4, 3, 2, 2, 4, 8, 5, 2, 4, 2, 4, 6, 4, 2, 2, 2, 6, 2, 3, 2, 2, 3, 2, 3, 2, 2, 3, 4, 8, 3, 2, 2, 2, 3, 3, 5, 2, 6, 2, 3, 6, 3, 4, 2, 9, 3, 3, 4, 2, 2, 2, 2, 2, 2, 4, 2, 4, 3, 3, 7, 3, 5, 2, 2, 4, 2, 3, 7, 5, 8, 3, 3, 2, 3, 6, 6, 2, 5, 3, 3, 7, 5, 2, 2, 3, 7, 5, 3, 2, 2, 4, 5, 3, 5, 2, 6, 2, 5, 2, 4, 2, 2, 6, 3, 2, 3, 4, 2, 2, 7, 2, 3, 2, 4, 3, 5, 2, 4, 2, 3, 4, 2, 2, 7, 2, 3, 2, 2, 2, 4, 2, 2, 2, 4, 2, 3, 4, 2, 2, 2, 2, 2, 4, 2, 3, 4, 3, 2, 3, 2, 10, 8, 2, 2, 3, 3, 4, 2, 2, 2, 3, 2, 2, 2, 3, 2, 2, 2, 2, 4, 3, 3, 2, 2, 6, 2, 2, 3, 4, 2, 2, 2, 2, 2, 2, 5, 8, 4, 2, 10, 2, 6, 2, 2, 2, 4, 2, 5, 2, 6, 3, 2, 2, 2, 2, 2, 7, 2, 2, 2, 2, 6, 2, 2, 4, 2, 3, 4, 2, 3, 2, 6, 5, 2, 3, 4, 6, 3, 2, 2, 2, 2, 2, 2, 3, 4, 2, 3, 6, 3, 2, 5, 4, 7, 2, 5, 2, 2, 2, 2, 3, 7, 7, 3, 4, 6, 6, 2, 2, 2, 8, 2, 2, 2, 3, 2, 4, 7, 3, 2, 7, 5, 3, 2, 2, 5, 2, 2, 3, 4, 2, 4, 2, 2, 2, 12, 2, 5, 3, 5, 2, 16, 2, 5, 3, 2, 2, 5, 6, 4, 8, 3, 3, 2, 3, 4, 2, 6, 6, 5, 2, 2, 3, 2, 2, 4, 3, 2, 5, 2, 4, 2, 2, 2, 4, 3, 6, 2, 2, 2, 3, 6, 4, 2, 3, 3, 2, 4, 3, 4, 7, 2, 4, 2, 2, 2, 2, 3, 3, 3, 2, 2, 3, 5, 4, 2, 2, 3, 3, 2, 2, 2, 4, 3, 3, 2, 4, 5, 2, 4, 3, 2, 4, 3, 7, 2, 2, 4, 4, 4, 2, 2, 4, 2, 8, 3, 2, 5, 3, 2, 2, 2, 3, 5, 4, 4, 4, 3, 2, 7, 2, 2, 3, 4, 10, 6, 2, 4, 2, 4, 4, 5, 3, 2, 3, 2, 3, 2, 2, 5, 2, 2, 2, 3, 6, 2, 6, 4, 2, 4, 2, 2, 2, 3, 2, 2, 6, 2, 2, 2, 4, 2, 2, 2, 2, 7, 4, 2, 2, 2, 2, 2, 3, 9, 3, 10, 3, 3, 2, 4, 3, 2, 2, 6, 5, 2, 2, 2, 2, 7, 4, 4, 4, 6, 3, 2, 2, 2, 4, 5, 2, 2, 4, 2, 5, 3, 3, 9, 4, 6, 5, 2, 2, 2, 2, 2, 4, 2, 3, 2, 3, 2, 4, 4, 3, 1, 5, 9, 3, 3, 3, 5, 2, 7, 4, 2, 2, 2, 5, 2, 4, 3, 3, 3, 2, 2, 3, 4, 3, 2, 2, 4, 2, 5, 2, 2, 2, 4, 2, 6, 2, 4, 3, 2, 3, 8, 2, 8, 5, 8, 7, 4, 3, 2, 3, 2, 2, 5, 5, 2, 7, 6, 2, 6, 2, 2, 8, 2, 2, 2, 2, 5, 8, 2, 4, 2, 2, 3, 4, 2, 2, 2, 3, 5, 8, 2, 2, 3, 2, 4, 4, 3, 4, 2, 5, 8, 2, 2, 4, 7, 2, 9, 2, 3, 8, 3, 8, 9, 2, 2, 3, 2, 3, 2, 5, 5, 5, 2, 3, 4, 5, 4, 8, 3, 2, 3, 3, 4, 5, 3, 4, 2, 8, 8, 3, 3, 6, 2, 2, 2, 3, 4, 2, 3, 3, 8, 4, 3, 5, 3, 2, 11, 7, 5, 6, 5, 2, 4, 2, 2, 2, 2, 9, 2, 8, 2, 2, 5, 2, 4, 5, 3, 2, 3, 5, 2, 2, 3, 3, 4, 6, 2, 7, 2, 2, 11, 9, 13, 2, 3, 8, 4, 4, 2, 2, 2, 6, 3, 2, 3, 2, 2, 2, 2, 2, 2, 6, 15, 4, 3, 6, 3, 8, 4, 3, 3, 2, 3, 2, 4, 4, 3, 2, 5, 4, 10, 2, 3, 7, 2, 6, 2, 4, 2, 5, 2, 2, 4, 2, 5, 8, 3, 2, 4, 6, 2, 2, 2, 2, 2, 9, 4, 3, 2, 2, 2, 4, 2, 5, 3, 2, 2, 2, 6, 2, 2, 2, 5, 5, 5, 2, 8, 5, 3, 3, 2, 4, 2, 2, 3, 2, 5, 3, 3, 7, 2, 2, 5, 2, 3, 4, 2, 6, 2, 2, 2, 2, 3, 2, 7, 2, 4, 2, 2, 4, 5, 2, 4, 6, 5, 2, 2, 5, 3, 2, 6, 4, 4, 2, 3, 3, 3, 2, 5, 2, 3, 7, 5, 3, 4, 2, 2, 2, 3, 3, 2, 3, 2, 8, 2, 8, 9, 2, 2, 4, 2, 5, 4, 5, 6, 3, 9, 2, 2, 2, 2, 2, 4, 4, 5, 2, 3, 3, 3, 4, 4, 2, 2, 2, 2, 2, 2, 4, 3, 3, 5, 5, 3, 6, 3, 4, 3, 3, 3, 2, 5, 6, 8, 8, 4, 3, 10, 2, 2, 5, 2, 3, 2, 2, 4, 4, 2, 3, 4, 2, 2, 3, 2, 2, 3, 3, 7, 2, 3, 4, 2, 4, 3, 4, 2, 3, 2, 3, 2, 2, 3, 3, 4, 2, 4, 4, 3, 2, 2, 2, 2, 2, 2, 5, 2, 5, 2, 4, 2, 4, 6, 5, 2, 4, 2, 2, 2, 3, 3, 4, 5, 3, 2, 4, 8, 3, 2, 5, 3, 6, 3, 5, 2, 4, 5, 2, 2, 2, 2, 2, 4, 5, 3, 2, 9, 2, 2, 4, 2, 4, 4, 3, 2, 4, 7, 2, 2, 2, 9, 2, 2, 4, 7, 2, 3, 4, 7, 2, 6, 3, 10, 8, 3, 2, 2, 2, 2, 2, 2, 3, 5, 2, 6, 2, 5, 4, 5, 4, 2, 2, 11, 4, 8, 5, 4, 2, 2, 2, 4, 2, 2, 2, 2, 3, 8, 6, 2, 3, 2, 4, 2, 8, 2, 2, 6, 3, 8, 6, 5, 6, 4, 2, 2, 7, 4, 2, 5, 4, 2, 2, 4, 3, 4, 2, 2, 10, 2, 3, 3, 2, 3, 2, 2, 3, 2, 2, 2, 2, 2, 3, 8, 2, 8, 2, 4, 7, 6, 2, 4, 3, 2, 5, 2, 2, 2, 2, 2, 2, 3, 2, 2, 3, 2, 12, 6, 2, 2, 2, 2, 2, 2, 4, 2, 4, 2, 2, 3, 3, 7, 2, 2, 2, 5, 2, 2, 2, 7, 5, 2, 2, 2, 4, 4, 3, 2, 4, 4, 3, 2, 4, 5, 5, 11, 2, 2, 3, 2, 2, 2, 5, 2, 2, 4, 2, 2, 3, 2, 2, 3, 5, 6, 7, 3, 2, 2, 4, 3, 4, 2, 2, 6, 4, 5, 4, 2, 4, 4, 7, 6, 2, 2, 2, 2, 4, 6, 3, 2, 8, 2, 7, 2, 2, 3, 4, 2, 2, 2, 4, 2, 3, 4, 2, 2, 2, 2, 2, 4, 7, 2, 2, 3, 2, 7, 4, 4, 2, 3, 7, 2, 2, 2, 2, 2, 2, 4, 2, 3, 3, 2, 2, 5, 2, 2, 5, 4, 4, 8, 4, 2, 4, 2, 4, 7, 5, 11, 4, 2, 6, 4, 2, 2, 6, 6, 2, 4, 2, 6, 2, 2, 2, 3, 3, 3, 8, 6, 9, 3, 2, 2, 4, 4, 3, 2, 5, 3, 2, 4, 2, 3, 4, 5, 3, 4, 2, 6, 2, 9, 2, 2, 12, 3, 2, 7, 3, 3, 2, 4, 2, 4, 2, 5, 2, 5, 4, 3, 2, 6, 2, 3, 6, 2, 3, 2, 2, 4, 3, 2, 6, 2, 2, 3, 3, 4, 2, 2, 2, 2, 2, 2, 5, 3, 8, 6, 4, 2, 2, 2, 2, 5, 2, 3, 2, 3, 2, 3, 7, 2, 5, 2, 2, 4, 2, 9, 5, 8, 2, 5, 3, 3, 2, 2, 2, 2, 4, 4, 4, 3, 7, 2, 2, 4, 5, 2, 2, 4, 2, 4, 2, 5, 4, 4, 2, 4, 12, 2, 8, 3, 2, 3, 2, 2, 2, 2, 3, 2, 2, 5, 2, 2, 2, 3, 3, 2, 4, 4, 2, 2, 2, 3, 5, 6, 4, 2, 2, 3, 5, 7, 4, 2, 6, 4, 3, 2, 4, 6, 8, 3, 10, 5, 7, 2, 2, 6, 2, 2, 3, 2, 4, 3, 3, 8, 5, 2, 6, 2, 2, 4, 3, 2, 3, 4, 4, 3, 3, 3, 3, 2, 7, 3, 8, 5, 2, 9, 2, 4, 2, 6, 2, 3, 1, 2, 5, 7, 5, 2, 2, 2, 5, 2, 2, 2, 2, 3, 2, 5, 4, 2, 2, 4, 5, 2, 6, 3, 2, 3, 2, 2, 4, 4, 3, 6, 3, 3, 5, 4, 5, 4, 5, 6, 3, 7, 2, 2, 2, 2, 7, 3, 2, 2, 2, 4, 1, 5, 6, 2, 7, 4, 2, 3, 3, 5, 4, 2, 2, 2, 2, 4, 5, 2, 4, 5, 2, 3, 3, 3, 13, 5, 3, 3, 2, 3, 2, 5, 3, 3, 3, 2, 2, 5, 2, 2, 8, 2, 6, 2, 2, 9, 2, 4, 6, 2, 2, 7, 4, 2, 2, 2, 2, 2, 5, 3, 4, 5, 2, 4, 4, 2, 5, 2, 2, 2, 3, 2, 4, 2, 2, 3, 2, 6, 2, 2, 2, 5, 2, 2, 3, 4, 7, 2, 2, 4, 2, 5, 2, 5, 3, 5, 4, 3, 2, 3, 4, 4, 2, 3, 5, 2, 2, 3, 2, 1, 5, 6, 3, 4, 4, 2, 2, 2, 2, 3, 2, 2, 4, 2, 4, 2, 4, 4, 2, 2, 2, 6, 3, 2, 6, 8, 6, 2, 5, 4, 4, 2, 5, 2, 2, 7, 2, 6, 5, 2, 2, 4, 3, 3, 2, 2, 6, 2, 8, 5, 4, 2, 2, 4, 3, 4, 2, 2, 2, 2, 2, 3, 2, 3, 2, 2, 10, 5, 4, 3, 4, 5, 2, 2, 4, 2, 3, 3, 7, 8, 2, 5, 7, 7, 2, 3, 5, 3, 6, 2, 2, 6, 3, 3, 10, 2, 2, 4, 2, 3, 4, 3, 4, 5, 2, 3, 2, 5, 3, 2, 4, 2, 2, 2, 2, 6, 5, 4, 5, 2, 2, 5, 3, 3, 10, 6, 3, 2, 3, 3, 4, 4, 4, 3, 2, 3, 4, 5, 2, 2, 3, 3, 2, 5, 2, 2, 2, 3, 2, 3, 2, 3, 2, 5, 8, 3, 2, 2, 8, 2, 2, 6, 4, 3, 2, 2, 2, 4, 2, 2, 2, 2, 6, 2, 8, 2, 6, 4, 2, 4, 4, 2, 5, 4, 2, 9, 6, 2, 4, 5, 3, 2, 13, 2, 2, 7, 2, 2, 7, 1, 5, 2, 2, 7, 8, 2, 2, 2, 3, 5, 2, 2, 6, 3, 7, 4, 9, 2, 2, 6, 2, 2, 4, 4, 5, 3, 2, 2, 7, 4, 3, 2, 2, 2, 6, 3, 2, 2, 2, 2, 2, 5, 3, 2, 2, 2, 2, 2, 3, 2, 3, 3, 2, 4, 4, 3, 2, 2, 3, 2, 2, 3, 2, 2, 2, 2, 2, 3, 2, 2, 6, 8, 3, 6, 2, 2, 7, 2, 2, 2, 5, 2, 5, 5, 6, 2, 2, 6, 2, 2, 2, 3, 8, 3, 4, 4, 4, 3, 5, 2, 2, 2, 4, 3, 4, 7, 7, 6, 4, 2, 2, 4, 2, 9, 2, 2, 3, 5, 3, 3, 7, 3, 2, 6, 4, 2, 2, 2, 2, 3, 2, 2, 2, 2, 3, 6, 4, 4, 2, 3, 2, 5, 2, 4, 3, 2, 5, 4, 2, 1, 2, 2, 1, 7, 3, 6, 3, 2, 3, 2, 2, 11, 5, 3, 4, 3, 2, 9, 3, 3, 2, 5, 2, 2, 3, 4, 3, 5, 4, 7, 3, 5, 6, 2, 3, 2, 2, 2, 2, 3, 3, 2, 4, 2, 2, 2, 3, 4, 2, 3, 5, 2, 5, 5, 4, 2, 2, 2, 3, 2, 3, 4, 2, 2, 2, 1, 2, 8, 2, 2, 5, 3, 2, 1, 2, 4, 2, 9, 2, 2, 3, 2, 4, 2, 2, 2, 4, 4, 5, 4, 2, 2, 2, 10, 5, 3, 2, 2, 5, 4, 2, 2, 5, 2, 3, 2, 2, 2, 2, 7, 2, 7, 2, 8, 3, 2, 4, 7, 9, 3, 2, 7, 3, 3, 5, 2, 6, 3, 7, 6, 5, 2, 4, 7, 2, 4, 6, 2, 3, 5, 2, 2, 2, 2, 2, 1, 2, 4, 3, 2, 2, 2, 5, 2, 2, 6, 4, 2, 2, 6, 4, 8, 2, 2, 4, 2, 2, 2, 2, 2, 4, 5, 3, 3, 2, 7, 2, 2, 3, 2, 2, 2, 2, 2, 2, 6, 2, 2, 4, 2, 2, 5, 2, 5, 7, 5, 1, 2, 5, 3, 3, 2, 1, 4, 4, 4, 2, 3, 4, 2, 3, 8, 6, 2, 2, 5, 3, 2, 7, 3, 2, 3, 3, 3, 3, 2, 4, 3, 2, 2, 2, 2, 2, 1, 8, 2, 2, 6, 2, 2, 2, 2, 4, 5, 5, 5, 8, 5, 4, 2, 2, 2, 2, 2, 2, 2, 2, 5, 3, 2, 3, 2, 4, 2, 4, 8, 2, 2, 7, 2, 5, 3, 2, 2, 4, 6, 2, 2, 3, 2, 2, 5, 3, 2, 2, 2, 6, 2, 2, 2, 3, 2, 2, 2, 2, 5, 2, 2, 2, 1, 2, 2, 2, 2, 2, 1, 4, 2, 2, 2, 4, 4, 2, 2, 2, 2, 2, 4, 3, 2, 4, 2, 3, 4, 2, 3, 3, 2, 4, 2, 2, 2, 3, 2, 2, 2, 2, 3, 2, 2, 2, 2, 2, 1, 2, 1, 2, 2, 3, 3, 2, 3, 1, 1, 4, 2, 4, 2, 1, 2, 2, 2, 2, 2, 3, 3, 2, 2, 2, 3, 2, 1, 1, 1, 1])\n"
     ]
    }
   ],
   "source": [
    "    total_GB = set()\n",
    "    for time_step in range(step_num):\n",
    "        step_GB = GB_infomation_dict_list[time_step].keys()\n",
    "        total_GB = total_GB | step_GB\n",
    "\n",
    "    print(f\"The number of the GBs showing anti-curvature during whole simulations is {len(GB_id_focus.values())}\")\n",
    "    print(f\"The ratio of anti-curvature GBs during whole simulations is {len(GB_id_focus.values())/len(total_GB)*100}% in {len(total_GB)} GBs\")\n",
    "    print(GB_id_focus.values())"
   ]
  },
  {
   "cell_type": "code",
   "execution_count": 32,
   "id": "6eceee40-5f34-4605-959f-364b9588bb1d",
   "metadata": {
    "tags": []
   },
   "outputs": [
    {
     "data": {
      "text/plain": [
       "50"
      ]
     },
     "execution_count": 32,
     "metadata": {},
     "output_type": "execute_result"
    }
   ],
   "source": [
    "len(GB_list_velocity_list)"
   ]
  },
  {
   "cell_type": "code",
   "execution_count": 33,
   "id": "96203cab-0393-40ca-b372-89bb3d25a952",
   "metadata": {},
   "outputs": [
    {
     "data": {
      "text/plain": [
       "<Figure size 432x288 with 0 Axes>"
      ]
     },
     "metadata": {},
     "output_type": "display_data"
    },
    {
     "data": {
      "image/png": "[encoded data removed]",
      "text/plain": [
       "<Figure size 504x504 with 1 Axes>"
      ]
     },
     "metadata": {
      "needs_background": "light"
     },
     "output_type": "display_data"
    },
    {
     "data": {
      "text/plain": [
       "<Figure size 432x288 with 0 Axes>"
      ]
     },
     "metadata": {},
     "output_type": "display_data"
    },
    {
     "data": {
      "image/png": "[encoded data removed]",
      "text/plain": [
       "<Figure size 504x504 with 1 Axes>"
      ]
     },
     "metadata": {
      "needs_background": "light"
     },
     "output_type": "display_data"
    }
   ],
   "source": [
    "    # All in 1 figrue\n",
    "    curvature_1Dlist_remove_0step = []\n",
    "    velocity_1Dlist_remove_0step = []\n",
    "    GBenergy_1Dlist_remove_0step = []\n",
    "    for i in range(0,len(GB_list_velocity_list)): \n",
    "        curvature_1Dlist_remove_0step.extend(GB_list_curvature_list[i])\n",
    "        velocity_1Dlist_remove_0step.extend(GB_list_velocity_list[i])\n",
    "        GBenergy_1Dlist_remove_0step.extend(GB_list_GBenergy_list[i])\n",
    "    curvature_1Dlist_exrandom_remove_0step = []\n",
    "    velocity_1Dlist_exrandom_remove_0step = []\n",
    "    GBenergy_1Dlist_exrandom_remove_0step = []\n",
    "    for i in range(0,len(GB_list_velocity_list_exrandom)): \n",
    "        curvature_1Dlist_exrandom_remove_0step.extend(GB_list_curvature_list_exrandom[i])\n",
    "        velocity_1Dlist_exrandom_remove_0step.extend(GB_list_velocity_list_exrandom[i])\n",
    "        GBenergy_1Dlist_exrandom_remove_0step.extend(GB_list_GBenergy_list_exrandom[i])\n",
    "    \n",
    "    # ignore the sign of curvature\n",
    "    for i in range(len(curvature_1Dlist_exrandom_remove_0step)):\n",
    "        if curvature_1Dlist_exrandom_remove_0step[i]<0: \n",
    "            curvature_1Dlist_exrandom_remove_0step[i] = - curvature_1Dlist_exrandom_remove_0step[i]\n",
    "            velocity_1Dlist_exrandom_remove_0step[i] = - velocity_1Dlist_exrandom_remove_0step[i]\n",
    "            \n",
    "    figure_name_all = f\"figures/3D_velocity_signedcurvature_{case_name}_5d_mc0.038.png\"\n",
    "    plt.figure()\n",
    "    fig = plt.figure(figsize=(7, 7))\n",
    "    plt.scatter(curvature_1Dlist_exrandom_remove_0step, velocity_1Dlist_exrandom_remove_0step,s=4,alpha=0.5)\n",
    "    plt.xlabel(\"curvature\", fontsize=18)\n",
    "    plt.ylabel(\"velocity (voxel/step)\", fontsize=18)\n",
    "    plt.xlim([0.038,0.1])\n",
    "    plt.ylim([-2.0,2.0])\n",
    "    plt.savefig(figure_name_all, dpi=400,bbox_inches='tight')\n",
    "    \n",
    "    # plot velocity VS averaged curvature\n",
    "    bin_interval = 0.001\n",
    "    x_lim = [0.0,0.1]\n",
    "    bin_number = int((x_lim[1]-x_lim[0])/bin_interval)\n",
    "    curvature_coordinate = np.arange(x_lim[0],x_lim[1],bin_interval)+bin_interval/2\n",
    "\n",
    "    curvature_bin = np.zeros(bin_number)\n",
    "    velocity_bin = np.zeros(bin_number)\n",
    "    for index in range(len(curvature_1Dlist_exrandom_remove_0step)):\n",
    "        if abs(curvature_1Dlist_exrandom_remove_0step[index])>x_lim[1]: continue\n",
    "        curvature_bin[int((curvature_1Dlist_exrandom_remove_0step[index]-x_lim[0])//bin_interval)] += 1\n",
    "        velocity_bin[int((curvature_1Dlist_exrandom_remove_0step[index]-x_lim[0])//bin_interval)] += velocity_1Dlist_exrandom_remove_0step[index]\n",
    "    for i in range(bin_number): \n",
    "        if curvature_bin[i]>0: velocity_bin[i] = velocity_bin[i]/curvature_bin[i]\n",
    "    # plot\n",
    "    figure_name_all_bin = f\"figures/3D_velocity_signedcurvature_{case_name}_5d_afterBin_mc0.038.png\"\n",
    "    plt.figure()\n",
    "    fig = plt.figure(figsize=(7, 7))\n",
    "    # plt.scatter(curvature_coordinate, velocity_bin,s=4,alpha=0.5)\n",
    "    plt.xlim([0.038,0.1])\n",
    "    plt.ylim([-1,1])\n",
    "    plt.plot(curvature_coordinate[velocity_bin!=0], velocity_bin[velocity_bin!=0],'o', linewidth=2)\n",
    "    plt.xlabel(\"curvature\", fontsize=18)\n",
    "    plt.ylabel(\"velocity (voxel/step)\", fontsize=18)\n",
    "    plt.savefig(figure_name_all_bin, dpi=400,bbox_inches='tight')\n"
   ]
  },
  {
   "cell_type": "code",
   "execution_count": 35,
   "id": "2f952603-c1b8-4aae-8900-25fef984672d",
   "metadata": {
    "tags": []
   },
   "outputs": [
    {
     "name": "stdout",
     "output_type": "stream",
     "text": [
      "0.22045933333333334\n",
      "0.16255125\n",
      "0.212243\n",
      "0.2037036111111111\n",
      "0.2015695\n",
      "0.2148565\n",
      "0.076164\n",
      "0.0\n",
      "0.2094715\n",
      "0.0\n",
      "0.0\n",
      "0.2042799319047619\n",
      "0.0\n",
      "0.0\n",
      "0.154816\n",
      "0.21808933333333333\n",
      "0.156851\n",
      "0.171595\n",
      "0.22580698333333332\n",
      "0.17410889999999998\n",
      "0.166955875\n",
      "0.0\n",
      "0.10740033333333333\n",
      "0.2330852777777778\n",
      "0.21714333910533912\n",
      "0.24636875\n",
      "0.172919\n",
      "0.241911\n",
      "0.23048883766233766\n",
      "0.0\n",
      "0.22954466666666665\n",
      "0.23841652884615386\n",
      "0.0\n",
      "0.24536826315789473\n",
      "0.21381166666666665\n",
      "0.0\n",
      "0.8505309046579449\n"
     ]
    },
    {
     "data": {
      "text/plain": [
       "Text(0, 0.5, 'num of site')"
      ]
     },
     "execution_count": 35,
     "metadata": {},
     "output_type": "execute_result"
    },
    {
     "data": {
      "text/plain": [
       "<Figure size 432x288 with 0 Axes>"
      ]
     },
     "metadata": {},
     "output_type": "display_data"
    },
    {
     "data": {
      "image/png": "[encoded data removed]",
      "text/plain": [
       "<Figure size 504x504 with 1 Axes>"
      ]
     },
     "metadata": {
      "needs_background": "light"
     },
     "output_type": "display_data"
    },
    {
     "data": {
      "text/plain": [
       "<Figure size 432x288 with 0 Axes>"
      ]
     },
     "metadata": {},
     "output_type": "display_data"
    },
    {
     "data": {
      "image/png": "[encoded data removed]",
      "text/plain": [
       "<Figure size 504x504 with 1 Axes>"
      ]
     },
     "metadata": {
      "needs_background": "light"
     },
     "output_type": "display_data"
    },
    {
     "data": {
      "text/plain": [
       "<Figure size 432x288 with 0 Axes>"
      ]
     },
     "metadata": {},
     "output_type": "display_data"
    },
    {
     "data": {
      "image/png": "[encoded data removed]",
      "text/plain": [
       "<Figure size 504x504 with 1 Axes>"
      ]
     },
     "metadata": {
      "needs_background": "light"
     },
     "output_type": "display_data"
    },
    {
     "data": {
      "text/plain": [
       "<Figure size 432x288 with 0 Axes>"
      ]
     },
     "metadata": {},
     "output_type": "display_data"
    },
    {
     "data": {
      "image/png": "[encoded data removed]",
      "text/plain": [
       "<Figure size 504x504 with 1 Axes>"
      ]
     },
     "metadata": {
      "needs_background": "light"
     },
     "output_type": "display_data"
    },
    {
     "data": {
      "text/plain": [
       "<Figure size 432x288 with 0 Axes>"
      ]
     },
     "metadata": {},
     "output_type": "display_data"
    },
    {
     "data": {
      "image/png": "[encoded data removed]",
      "text/plain": [
       "<Figure size 504x504 with 1 Axes>"
      ]
     },
     "metadata": {
      "needs_background": "light"
     },
     "output_type": "display_data"
    }
   ],
   "source": [
    "\n",
    "    figure_name_all = f\"figures/3D_velocity_GBenergy_{case_name}_5d_mc0.038.png\"\n",
    "    plt.figure()\n",
    "    fig = plt.figure(figsize=(7, 7))\n",
    "    plt.scatter(GBenergy_1Dlist_exrandom_remove_0step, velocity_1Dlist_exrandom_remove_0step,s=4,alpha=0.5,label='All GBs')\n",
    "    GB_antic_list_GBenergy_list = np.array(GB_antic_list_GBenergy_list)\n",
    "    GB_antic_list_velocity_list = np.array(GB_antic_list_velocity_list)\n",
    "    GB_antic_list_anticNum_array = np.array(GB_antic_list_anticNum_list)\n",
    "    plt.scatter(GB_antic_list_GBenergy_list[GB_antic_list_anticNum_array>=5], GB_antic_list_velocity_list[GB_antic_list_anticNum_array>=5],s=4,alpha=0.5,label='anti-c GBs(5 steps)')\n",
    "    plt.xlabel(\"GB energy\", fontsize=18)\n",
    "    plt.ylabel(\"velocity (voxel/step)\", fontsize=18)\n",
    "    plt.xlim([0.3,1.0])\n",
    "    plt.ylim([-2,2])\n",
    "    plt.legend(fontsize=18)\n",
    "    plt.savefig(figure_name_all, dpi=400,bbox_inches='tight')\n",
    "    \n",
    "    # plot velocity VS averaged GBenergy\n",
    "    bin_interval = 0.01\n",
    "    x_lim = [0.25,1.0]\n",
    "    bin_number = int((x_lim[1]-x_lim[0])/bin_interval)\n",
    "    GBenergy_coordinate = np.arange(x_lim[0],x_lim[1],bin_interval)+bin_interval/2\n",
    "\n",
    "    GBenergy_bin = np.zeros(bin_number)\n",
    "    velocity_bin = np.zeros(bin_number)\n",
    "    antic_num_bin = np.zeros(bin_number)\n",
    "    for index in range(len(GBenergy_1Dlist_exrandom_remove_0step)):\n",
    "        if abs(GBenergy_1Dlist_exrandom_remove_0step[index])>=1.0: continue\n",
    "        GBenergy_bin[int((GBenergy_1Dlist_exrandom_remove_0step[index]-x_lim[0])//bin_interval)] += 1\n",
    "        velocity_bin[int((GBenergy_1Dlist_exrandom_remove_0step[index]-x_lim[0])//bin_interval)] += velocity_1Dlist_exrandom_remove_0step[index]\n",
    "        if velocity_1Dlist_exrandom_remove_0step[index] < 0: antic_num_bin[int((GBenergy_1Dlist_exrandom_remove_0step[index]-x_lim[0])//bin_interval)] += 1\n",
    "        if int((GBenergy_1Dlist_exrandom_remove_0step[index]-x_lim[0])//bin_interval)<0: print(GBenergy_1Dlist_exrandom_remove_0step[index])\n",
    "    for i in range(bin_number): \n",
    "        if GBenergy_bin[i]>0: velocity_bin[i] = velocity_bin[i]/GBenergy_bin[i]\n",
    "    # plot\n",
    "    figure_name_all_bin = f\"figures/3D_velocity_GBenergy_{case_name}_5d_afterBin_mc0.038.png\"\n",
    "    plt.figure()\n",
    "    fig = plt.figure(figsize=(7, 7))\n",
    "    # plt.scatter(GBenergy_coordinate, velocity_bin,s=4,alpha=0.5)\n",
    "    plt.xlim([0.3,1.0])\n",
    "    plt.ylim([-1,1])\n",
    "    plt.plot(GBenergy_coordinate[velocity_bin!=0], velocity_bin[velocity_bin!=0],'o', linewidth=2)\n",
    "    plt.xlabel(\"GB energy\", fontsize=18)\n",
    "    plt.ylabel(\"velocity (voxel/step)\", fontsize=18)\n",
    "    plt.savefig(figure_name_all_bin, dpi=400,bbox_inches='tight')\n",
    "    \n",
    "    plt.figure()\n",
    "    fig = plt.figure(figsize=(7, 7))\n",
    "    plt.xlim([0.3,1.0])\n",
    "    plt.ylim([0,0.15])\n",
    "    plt.plot(GBenergy_coordinate, GBenergy_bin/np.sum(GBenergy_bin),'-', linewidth=2)\n",
    "    plt.xlabel(\"GB energy\", fontsize=18)\n",
    "    plt.ylabel(\"distribution\", fontsize=18)\n",
    "    \n",
    "    antic_ratio_bin = np.zeros(bin_number)\n",
    "    for bin_i in range(len(GBenergy_bin)):\n",
    "        if GBenergy_bin[bin_i] > 0: antic_ratio_bin[bin_i] = antic_num_bin[bin_i]/GBenergy_bin[bin_i]\n",
    "    plt.figure()\n",
    "    fig = plt.figure(figsize=(7, 7))\n",
    "    plt.xlim([0.3,1.0])\n",
    "    plt.ylim([0,0.9])\n",
    "    plt.plot(GBenergy_coordinate[antic_ratio_bin>0], antic_ratio_bin[antic_ratio_bin>0],'o', linewidth=2)\n",
    "    plt.xlabel(\"GB energy\", fontsize=18)\n",
    "    plt.ylabel(\"anti-c fraction\", fontsize=18)\n",
    "    \n",
    "    GBenergy_coordinate_larger0 = GBenergy_coordinate[antic_ratio_bin>0]\n",
    "    delta_n = -0.66*np.log(antic_ratio_bin[antic_ratio_bin>0])/GBenergy_coordinate[antic_ratio_bin>0]\n",
    "    mean_delta_n = np.mean(delta_n)\n",
    "    mean_delta_n_2 = np.sum(delta_n*GBenergy_bin[antic_ratio_bin>0]/np.sum(GBenergy_bin[antic_ratio_bin>0]))\n",
    "    print(mean_delta_n_2)\n",
    "    plt.figure()\n",
    "    fig = plt.figure(figsize=(7, 7))\n",
    "    plt.xlim([0.3,1.0])\n",
    "    plt.ylim([0,6])\n",
    "    plt.plot(GBenergy_coordinate_larger0, delta_n,'o', linewidth=2, label = 'results')\n",
    "    plt.plot(GBenergy_coordinate_larger0, mean_delta_n*np.ones(len(GBenergy_coordinate_larger0)),'--',linewidth=2,color='gray',label=f'mean-{round(mean_delta_n,2)}')\n",
    "    plt.legend(fontsize=18)\n",
    "    plt.xlabel(\"GB energy\", fontsize=18)\n",
    "    plt.ylabel(\"num of site\", fontsize=18)\n",
    "        \n"
   ]
  },
  {
   "cell_type": "code",
   "execution_count": null,
   "id": "a02be276-7b6a-4ee7-975b-23800e3f3269",
   "metadata": {
    "tags": []
   },
   "outputs": [],
   "source": []
  },
  {
   "cell_type": "code",
   "execution_count": null,
   "id": "ae445608-f2f7-48ad-9190-a9f112608900",
   "metadata": {},
   "outputs": [],
   "source": []
  },
  {
   "cell_type": "code",
   "execution_count": null,
   "id": "4bb80fb6-c8cf-4c92-b846-5ac2ada48165",
   "metadata": {},
   "outputs": [],
   "source": [
    "    # Plot relationship for each time steps\n",
    "    for time_step in range(0,len(GB_list_velocity_list),10):\n",
    "        figure_name = f\"figures/3D_velocity_signedcurvature_MI_step{time_step}_{case_name}.png\"\n",
    "        plt.figure()\n",
    "        fig = plt.figure(figsize=(7, 7))\n",
    "        plt.scatter(GB_list_curvature_list[time_step], GB_list_velocity_list[time_step],s=4,alpha=0.5)\n",
    "        plt.xlabel(\"curvature\", fontsize=18)\n",
    "        plt.ylabel(\"velocity (voxel/step)\", fontsize=18)\n",
    "        plt.xlim([-0.6,0.6])\n",
    "        plt.ylim([-10,10])\n",
    "        # plt.savefig(figure_name, dpi=400,bbox_inches='tight')\n",
    "        \n",
    "        # plot velocity VS averaged curvature\n",
    "        bin_interval = 0.001\n",
    "        x_lim = [0.0,0.1]\n",
    "        bin_number = int((x_lim[1]-x_lim[0])/bin_interval)\n",
    "        curvature_coordinate = np.arange(x_lim[0],x_lim[1],bin_interval)+bin_interval/2\n",
    "\n",
    "        curvature_bin = np.zeros(bin_number)\n",
    "        velocity_bin = np.zeros(bin_number)\n",
    "        for index in range(len(GB_list_curvature_list[time_step])):\n",
    "            if abs(GB_list_curvature_list[time_step][index])>x_lim[1]: continue\n",
    "            curvature_bin[int((GB_list_curvature_list[time_step][index]-x_lim[0])//bin_interval)] += 1\n",
    "            velocity_bin[int((GB_list_curvature_list[time_step][index]-x_lim[0])//bin_interval)] += GB_list_velocity_list[time_step][index]\n",
    "        for i in range(bin_number): \n",
    "            if curvature_bin[i]>0: velocity_bin[i] = velocity_bin[i]/curvature_bin[i]\n",
    "        # plot\n",
    "        figure_name_all_bin = f\"figures/3D_velocity_signedcurvature_step{time_step}_{case_name}_afterBin.png\"\n",
    "        plt.figure()\n",
    "        fig = plt.figure(figsize=(7, 7))\n",
    "        # plt.scatter(curvature_coordinate, velocity_bin,s=4,alpha=0.5)\n",
    "        plt.plot(curvature_coordinate, velocity_bin,'o', linewidth=2)\n",
    "        plt.xlabel(\"curvature\", fontsize=18)\n",
    "        plt.ylabel(\"velocity (voxel/step)\", fontsize=18)\n",
    "        plt.xlim([-0.6,0.6])\n",
    "        plt.ylim([-5,5])\n",
    "        # plt.savefig(figure_name_all_bin, dpi=400,bbox_inches='tight')"
   ]
  },
  {
   "cell_type": "code",
   "execution_count": null,
   "id": "f6ac1373-cac0-435c-bc23-f9c1aa0ef8eb",
   "metadata": {},
   "outputs": [],
   "source": []
  },
  {
   "cell_type": "code",
   "execution_count": null,
   "id": "7ab679ee-41d7-47d6-8d75-847eeab7fe6b",
   "metadata": {},
   "outputs": [],
   "source": []
  },
  {
   "cell_type": "code",
   "execution_count": null,
   "id": "1c863c6b-9fd9-45b7-b4ca-b9188479c80d",
   "metadata": {},
   "outputs": [],
   "source": []
  },
  {
   "cell_type": "code",
   "execution_count": null,
   "id": "6aa1a164-84e3-47ae-a192-fd7d956f6a2e",
   "metadata": {},
   "outputs": [],
   "source": []
  },
  {
   "cell_type": "code",
   "execution_count": null,
   "id": "718362f0-b4ce-4839-afff-c0a4992d4187",
   "metadata": {
    "tags": []
   },
   "outputs": [],
   "source": []
  },
  {
   "cell_type": "code",
   "execution_count": null,
   "id": "7f5ceda3-c17c-45ae-ad05-9aaab0112017",
   "metadata": {
    "tags": []
   },
   "outputs": [],
   "source": []
  },
  {
   "cell_type": "code",
   "execution_count": null,
   "id": "7e609b22-de14-4273-867b-60249af30047",
   "metadata": {},
   "outputs": [],
   "source": []
  },
  {
   "cell_type": "code",
   "execution_count": null,
   "id": "96aaa591-4902-4adc-bee7-240d3ade3fef",
   "metadata": {
    "tags": []
   },
   "outputs": [],
   "source": []
  },
  {
   "cell_type": "code",
   "execution_count": null,
   "id": "2501136d-68e1-40d1-b2b9-f783e9c8309e",
   "metadata": {},
   "outputs": [],
   "source": []
  },
  {
   "cell_type": "code",
   "execution_count": null,
   "id": "21b813f5-daa4-484e-a6c2-418239a0ccf4",
   "metadata": {},
   "outputs": [],
   "source": []
  },
  {
   "cell_type": "code",
   "execution_count": null,
   "id": "47e6a561-4483-49d8-8ddd-f78e643a2ae1",
   "metadata": {},
   "outputs": [],
   "source": []
  },
  {
   "cell_type": "markdown",
   "id": "bba82fb0-9f73-48dc-8a89-0bbd9316c7a0",
   "metadata": {},
   "source": []
  },
  {
   "cell_type": "code",
   "execution_count": 25,
   "id": "b6f0d347-fb1b-4010-a68f-cc171486d9c8",
   "metadata": {},
   "outputs": [],
   "source": []
  },
  {
   "cell_type": "code",
   "execution_count": 24,
   "id": "63a608d4-8807-4dfc-b364-4f0e17d354de",
   "metadata": {
    "tags": []
   },
   "outputs": [],
   "source": []
  },
  {
   "cell_type": "code",
   "execution_count": null,
   "id": "c39770d2-4fd3-4661-b53b-b52437e4dacd",
   "metadata": {
    "tags": []
   },
   "outputs": [],
   "source": []
  },
  {
   "cell_type": "code",
   "execution_count": null,
   "id": "0ef2391b-b155-42c1-b668-22cedf0227ce",
   "metadata": {
    "tags": []
   },
   "outputs": [],
   "source": []
  },
  {
   "cell_type": "code",
   "execution_count": null,
   "id": "8685c367-edac-427c-a027-acbf536ae4a0",
   "metadata": {
    "tags": []
   },
   "outputs": [],
   "source": []
  },
  {
   "cell_type": "code",
   "execution_count": null,
   "id": "f8c6a201-3ce1-40ff-a227-fc129528b8a3",
   "metadata": {
    "tags": []
   },
   "outputs": [],
   "source": []
  },
  {
   "cell_type": "code",
   "execution_count": null,
   "id": "b508666b-2912-4561-b1de-3aaf4631a472",
   "metadata": {
    "tags": []
   },
   "outputs": [],
   "source": []
  },
  {
   "cell_type": "code",
   "execution_count": 50,
   "id": "11b10ead-c344-4335-b3f6-a9fd2aaea54d",
   "metadata": {},
   "outputs": [],
   "source": []
  },
  {
   "cell_type": "code",
   "execution_count": 51,
   "id": "de699200-8f67-45dc-ad6e-02b0aa8101d5",
   "metadata": {},
   "outputs": [],
   "source": []
  },
  {
   "cell_type": "code",
   "execution_count": 52,
   "id": "4212a4ef-e7ad-4490-b5dc-48195c9defc7",
   "metadata": {},
   "outputs": [],
   "source": []
  },
  {
   "cell_type": "code",
   "execution_count": null,
   "id": "e625f572-387b-4aba-a3ed-f91e307f407a",
   "metadata": {
    "tags": []
   },
   "outputs": [],
   "source": []
  },
  {
   "cell_type": "code",
   "execution_count": null,
   "id": "e018ea3f-1eaa-4306-b2e8-ba4cd4a338f3",
   "metadata": {
    "tags": []
   },
   "outputs": [],
   "source": []
  },
  {
   "cell_type": "code",
   "execution_count": null,
   "id": "507f29ba-42b1-4b69-933a-ca317668c164",
   "metadata": {
    "tags": []
   },
   "outputs": [],
   "source": []
  },
  {
   "cell_type": "code",
   "execution_count": 248,
   "id": "ce9edf05-842a-467b-9e55-8ce1d1fde9ed",
   "metadata": {
    "tags": []
   },
   "outputs": [],
   "source": []
  },
  {
   "cell_type": "code",
   "execution_count": null,
   "id": "202e892d-2149-4fd4-ac47-878df34fda4b",
   "metadata": {},
   "outputs": [],
   "source": []
  }
 ],
 "metadata": {
  "kernelspec": {
   "display_name": "UFRC Python-3.8",
   "language": "python",
   "name": "python3-3.8-ufrc"
  },
  "language_info": {
   "codemirror_mode": {
    "name": "ipython",
    "version": 3
   },
   "file_extension": ".py",
   "mimetype": "text/x-python",
   "name": "python",
   "nbconvert_exporter": "python",
   "pygments_lexer": "ipython3",
   "version": "3.8.15"
  }
 },
 "nbformat": 4,
 "nbformat_minor": 5
}
