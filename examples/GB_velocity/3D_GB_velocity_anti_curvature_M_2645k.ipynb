{
 "cells": [
  {
   "cell_type": "code",
   "execution_count": 1,
   "id": "4b195c7c-3d58-4d9f-b559-8e34a5e9789a",
   "metadata": {
    "tags": []
   },
   "outputs": [
    {
     "data": {
      "text/plain": [
       "<module 'PACKAGE_MP_Linear' from '/home/lin.yang/projects/VECTOR/examples/GB_velocity/../../PACKAGE_MP_Linear.py'>"
      ]
     },
     "execution_count": 1,
     "metadata": {},
     "output_type": "execute_result"
    }
   ],
   "source": [
    "import os\n",
    "current_path = os.getcwd()\n",
    "import numpy as np\n",
    "from numpy import seterr\n",
    "seterr(all='raise')\n",
    "import matplotlib.pyplot as plt\n",
    "import math\n",
    "import random\n",
    "from tqdm import tqdm\n",
    "import sys\n",
    "sys.path.append(current_path)\n",
    "sys.path.append(current_path+'/../../')\n",
    "import myInput\n",
    "import PACKAGE_MP_Linear as linear2d\n",
    "import post_processing\n",
    "import PACKAGE_MP_3DLinear as Linear_3D\n",
    "import PACKAGE_MP_3DVertex as Vertex_3D\n",
    "sys.path.append(current_path+'/../calculate_tangent/')\n",
    "\n",
    "import importlib\n",
    "importlib.reload(post_processing)\n",
    "importlib.reload(Linear_3D)\n",
    "importlib.reload(linear2d)\n",
    "\n"
   ]
  },
  {
   "cell_type": "code",
   "execution_count": 2,
   "id": "fcb7ac33-912b-4634-8822-c41d1c32bd8b",
   "metadata": {
    "tags": []
   },
   "outputs": [
    {
     "name": "stdout",
     "output_type": "stream",
     "text": [
      "The M_264_5k_fully data size is: (51, 264, 264, 264)\n",
      "READING DATA DONE\n",
      "The M_264_5k_fully energy data size is: (51, 264, 264, 264)\n",
      "READING ENERGY DATA DONE\n"
     ]
    }
   ],
   "source": [
    "if __name__ == '__main__':\n",
    "    # File name\n",
    "    data_file_folder = \"/blue/michael.tonks/lin.yang/VECTOR_data/\"\n",
    "    npy_file_folder = \"/blue/michael.tonks/lin.yang/SPPARKS-VirtualIncEnergy/3d_poly_fully/results/\"\n",
    "    case_name = \"M_264_5k_fully\"\n",
    "    npy_file_name_aniso = f\"p_ori_fully5d_fz_aveE_f1.0_t0.0_264_5k_multiCore64_J1_refer_1_0_0_seed56689_kt1.95.npy\"\n",
    "    npy_file_name_aniso_energy = f\"p_ori_fully5d_fz_aveE_f1.0_t0.0_264_5k_multiCore64_J1_refer_1_0_0_seed56689_kt1.95_energy.npy\"\n",
    "    \n",
    "    # Initial data\n",
    "    npy_file_aniso = np.load(npy_file_folder + npy_file_name_aniso)\n",
    "    npy_file_aniso = npy_file_aniso.astype(int)\n",
    "    print(f\"The {case_name} data size is: {npy_file_aniso.shape}\")\n",
    "    print(\"READING DATA DONE\")\n",
    "    npy_file_aniso_energy = np.load(npy_file_folder + npy_file_name_aniso_energy) # energy\n",
    "    print(f\"The {case_name} energy data size is: {npy_file_aniso_energy.shape}\")\n",
    "    print(\"READING ENERGY DATA DONE\")\n",
    "    step_num, size_x, size_y, size_z = npy_file_aniso.shape"
   ]
  },
  {
   "cell_type": "code",
   "execution_count": 3,
   "id": "0be80f39-f248-4153-b7e0-535c9544ad3b",
   "metadata": {
    "tags": []
   },
   "outputs": [
    {
     "name": "stderr",
     "output_type": "stream",
     "text": [
      "100%|██████████| 51/51 [00:00<00:00, 95.23it/s]\n"
     ]
    }
   ],
   "source": [
    "    # YOU should remove the very small GB due to the less impact on curvature study\n",
    "    # YOU should use different accuracy algorithm on voxels around the TJs.\n",
    "    # A potential error: some small spherical GB are generated around large GB with same GB id\n",
    "    \n",
    "    \n",
    "    step_num=51\n",
    "    grain_nums = 5000\n",
    "    GB_infomation_dict_list = []\n",
    "    curvature_matrix_list = []\n",
    "    for time_step in tqdm(range(step_num)):\n",
    "        data_file_name = f\"GB_velocity_data/signedcurvature_velocity_data_{case_name}_step{time_step}.npz\"\n",
    "        data_curvature_file_name = f\"GB_velocity_data/matrix_signedcurvature_data_{case_name}_step{time_step}.npz\"\n",
    "        if os.path.exists(data_file_folder + data_file_name):\n",
    "            npz_file = np.load(data_file_folder + data_file_name,allow_pickle=True)\n",
    "            GB_infomation_dict = npz_file[\"GB_infomation_dict\"]\n",
    "            GB_infomation_dict_list.append(GB_infomation_dict.item())\n",
    "        else:\n",
    "            current_microstructure = npy_file_aniso[time_step]\n",
    "            # get curvature\n",
    "            if os.path.exists(data_file_folder + data_curvature_file_name):\n",
    "                npz_file_curvature = np.load(data_file_folder + data_curvature_file_name)\n",
    "                curvature_matrix = npz_file_curvature[\"curvature_matrix\"]\n",
    "                curvature_matrix_list.append(curvature_matrix)\n",
    "            else:\n",
    "                cores = 64\n",
    "                loop_times = 5\n",
    "                R = np.zeros((size_x,size_y,size_z,4))\n",
    "                smoothing_class = Linear_3D.linear3d_class(size_x,size_y,size_z,grain_nums,cores,loop_times,current_microstructure,R,'p',verification_system = False,curvature_sign = True)\n",
    "                smoothing_class.linear3d_main(\"curvature\")\n",
    "                C_ln = smoothing_class.get_C()\n",
    "                curvature_matrix = C_ln[1,:]\n",
    "                curvature_matrix_list.append(curvature_matrix)\n",
    "                # save curvature information\n",
    "                # np.savez(data_file_folder + data_curvature_file_name, curvature_matrix=curvature_matrix)\n",
    "            print(\"Finish curvature calculation\")\n",
    "            \n",
    "            # Get TJ and QJ information first\n",
    "            TJ_infomation_dict = dict()\n",
    "            for index, result in np.ndenumerate(current_microstructure):\n",
    "                i,j,k = index\n",
    "                ip,im,jp,jm,kp,km = myInput.periodic_bc3d(size_x,size_y,size_z,i,j,k)\n",
    "                if ( ((current_microstructure[ip,j,k]-current_microstructure[i,j,k])!=0) or ((current_microstructure[im,j,k]-current_microstructure[i,j,k])!=0) or\\\n",
    "                     ((current_microstructure[i,jp,k]-current_microstructure[i,j,k])!=0) or ((current_microstructure[i,jm,k]-current_microstructure[i,j,k])!=0) or\\\n",
    "                     ((current_microstructure[i,j,kp]-current_microstructure[i,j,k])!=0) or ((current_microstructure[i,j,km]-current_microstructure[i,j,k])!=0) ):\n",
    "                    central_site = int(current_microstructure[i,j,k])\n",
    "                    neighboring_sites_list = np.array([current_microstructure[ip,j,k], current_microstructure[i,jp,k], current_microstructure[i,j,kp], current_microstructure[im,j,k], current_microstructure[i,jm,k], current_microstructure[i,j,km]]).astype(int)\n",
    "                    neighboring_sites_set = set(neighboring_sites_list) # Get all unique neighboring sites\n",
    "                    if central_site in neighboring_sites_set: neighboring_sites_set.remove(central_site) # remove central site\n",
    "                    neighboring_sites_list_unque = list(neighboring_sites_set)\n",
    "                    # remove the TJs and QJs\n",
    "                    if len(neighboring_sites_list_unque) > 1: \n",
    "                        for m in range(len(neighboring_sites_list_unque)):\n",
    "                            pair_id = post_processing.get_line(central_site, neighboring_sites_list_unque[m]) # get pair id\n",
    "                            if pair_id in TJ_infomation_dict:\n",
    "                                tmp = TJ_infomation_dict[pair_id]\n",
    "                                tmp.append([i,j,k])\n",
    "                                TJ_infomation_dict[pair_id] = tmp\n",
    "                            else: \n",
    "                                TJ_infomation_dict[pair_id] = [[i,j,k]]\n",
    "            print(\"Finish TJ extraction\")\n",
    "            \n",
    "            # Get the center of each GB\n",
    "            GB_infomation_dict = dict()\n",
    "            TJ_distance_max = 6 # voxels\n",
    "            for index, result in np.ndenumerate(current_microstructure):\n",
    "                i,j,k = index\n",
    "                ip,im,jp,jm,kp,km = myInput.periodic_bc3d(size_x,size_y,size_z,i,j,k)\n",
    "                if ( ((current_microstructure[ip,j,k]-current_microstructure[i,j,k])!=0) or ((current_microstructure[im,j,k]-current_microstructure[i,j,k])!=0) or\\\n",
    "                     ((current_microstructure[i,jp,k]-current_microstructure[i,j,k])!=0) or ((current_microstructure[i,jm,k]-current_microstructure[i,j,k])!=0) or\\\n",
    "                     ((current_microstructure[i,j,kp]-current_microstructure[i,j,k])!=0) or ((current_microstructure[i,j,km]-current_microstructure[i,j,k])!=0) ):\n",
    "                    central_site = int(current_microstructure[i,j,k])\n",
    "                    neighboring_sites_list = np.array([current_microstructure[ip,j,k], current_microstructure[i,jp,k], current_microstructure[i,j,kp], current_microstructure[im,j,k], current_microstructure[i,jm,k], current_microstructure[i,j,km]]).astype(int)\n",
    "                    neighboring_sites_set = set(neighboring_sites_list) # Get all unique neighboring sites\n",
    "                    if central_site in neighboring_sites_set: neighboring_sites_set.remove(central_site) # remove central site\n",
    "                    neighboring_sites_list_unque = list(neighboring_sites_set)\n",
    "                    # remove the TJs and QJs\n",
    "                    if len(neighboring_sites_list_unque) > 1: continue # only remove TJs and QJs\n",
    "                    # CONTINUE...    # remove the voxels around TJs and QJs\n",
    "                    # check the GB voxels is close to TJ or not\n",
    "                    break_point = 0\n",
    "                    pair_id = post_processing.get_line(central_site, neighboring_sites_list_unque[0]) # get pair id\n",
    "                    if central_site<neighboring_sites_list_unque[0]: pair_id_pair = [central_site, neighboring_sites_list_unque[0]]\n",
    "                    else: pair_id_pair = [neighboring_sites_list_unque[0], central_site]\n",
    "                    if pair_id in GB_infomation_dict:\n",
    "                        GB_infomation_dict[pair_id][5] += 1 # GB area\n",
    "                    else:\n",
    "                        GB_infomation = np.array([0,0,0,0,0.0,1,pair_id_pair[0],pair_id_pair[1]]) # GBnum-curvature,i,j,k,curvature,GBnum,gid0,gid1\n",
    "                        GB_infomation_dict[pair_id] = GB_infomation\n",
    "                    if pair_id in TJ_infomation_dict:\n",
    "                        for TJ_site in TJ_infomation_dict[pair_id]:\n",
    "                            TJ_distance = np.linalg.norm(index-np.array(TJ_site))\n",
    "                            if TJ_distance < TJ_distance_max: \n",
    "                                break_point = 1\n",
    "                                break\n",
    "                    if break_point == 1: continue\n",
    "                    # calculate or extract misorientation\n",
    "                    # if pair_id in GB_infomation_dict:\n",
    "                    GB_infomation_dict[pair_id][0] += 1\n",
    "                    if central_site == pair_id_pair[0]:\n",
    "                        GB_infomation_dict[pair_id][1:5] += np.array([i,j,k,curvature_matrix[i,j,k]])\n",
    "                    else:\n",
    "                        GB_infomation_dict[pair_id][1:5] += np.array([i,j,k,-curvature_matrix[i,j,k]])\n",
    "            # get the correct location for each GB\n",
    "            small_GB_list = []\n",
    "            for key in GB_infomation_dict: \n",
    "                if GB_infomation_dict[key][0] == 0: \n",
    "                    small_GB_list.append(key) # remove the small GB with 0 voxels after remove voxels close to TJs\n",
    "            for s_index in range(len(small_GB_list)): GB_infomation_dict.pop(small_GB_list[s_index])\n",
    "            for key in GB_infomation_dict: \n",
    "                GB_infomation_dict[key][1:5]=GB_infomation_dict[key][1:5]/GB_infomation_dict[key][0]\n",
    "            print(f\"Current GBs len at {time_step} steps: {len(GB_infomation_dict)}\")\n",
    "            # save information\n",
    "            np.savez(data_file_folder + data_file_name, GB_infomation_dict=GB_infomation_dict)\n",
    "            GB_infomation_dict_list.append(GB_infomation_dict)\n",
    "            \n",
    "            \n",
    "            "
   ]
  },
  {
   "cell_type": "code",
   "execution_count": null,
   "id": "f25e6ff9-d365-4bdf-9cd8-3c5227ab8286",
   "metadata": {},
   "outputs": [],
   "source": []
  },
  {
   "cell_type": "code",
   "execution_count": 4,
   "id": "127df95e-c650-41f9-bc2c-ddcea1cc0f55",
   "metadata": {},
   "outputs": [
    {
     "name": "stderr",
     "output_type": "stream",
     "text": [
      "100%|██████████| 51/51 [00:00<00:00, 145.52it/s]\n"
     ]
    }
   ],
   "source": [
    "    # GB Energy information\n",
    "    step_num=51\n",
    "    grain_nums = 5000\n",
    "    GBenergy_information_dict_list = []\n",
    "    for time_step in tqdm(range(step_num)):\n",
    "        data_file_name_GBenergy = f\"GB_velocity_data/3D_GBenergy_velocity_data_{case_name}_step{time_step}.npz\"\n",
    "        if os.path.exists(data_file_folder + data_file_name_GBenergy):\n",
    "            npz_file = np.load(data_file_folder + data_file_name_GBenergy,allow_pickle=True)\n",
    "            GBenergy_information_dict = npz_file[\"GBenergy_information_dict\"]\n",
    "            GBenergy_information_dict_list.append(GBenergy_information_dict.item())\n",
    "        else:\n",
    "            current_microstructure = npy_file_aniso[time_step]\n",
    "            current_energy = npy_file_aniso_energy[time_step]\n",
    "\n",
    "            # Get TJ and QJ information first\n",
    "            TJ_infomation_dict = dict()\n",
    "            for index, result in np.ndenumerate(current_microstructure):\n",
    "                i,j,k = index\n",
    "                ip,im,jp,jm,kp,km = myInput.periodic_bc3d(size_x,size_y,size_z,i,j,k)\n",
    "                if ( ((current_microstructure[ip,j,k]-current_microstructure[i,j,k])!=0) or ((current_microstructure[im,j,k]-current_microstructure[i,j,k])!=0) or\\\n",
    "                     ((current_microstructure[i,jp,k]-current_microstructure[i,j,k])!=0) or ((current_microstructure[i,jm,k]-current_microstructure[i,j,k])!=0) or\\\n",
    "                     ((current_microstructure[i,j,kp]-current_microstructure[i,j,k])!=0) or ((current_microstructure[i,j,km]-current_microstructure[i,j,k])!=0) ):\n",
    "                    central_site = int(current_microstructure[i,j,k])\n",
    "                    neighboring_sites_list = np.array([current_microstructure[ip,j,k], current_microstructure[i,jp,k], current_microstructure[i,j,kp], current_microstructure[im,j,k], current_microstructure[i,jm,k], current_microstructure[i,j,km]]).astype(int)\n",
    "                    neighboring_sites_set = set(neighboring_sites_list) # Get all unique neighboring sites\n",
    "                    if central_site in neighboring_sites_set: neighboring_sites_set.remove(central_site) # remove central site\n",
    "                    neighboring_sites_list_unque = list(neighboring_sites_set)\n",
    "                    # remove the TJs and QJs\n",
    "                    if len(neighboring_sites_list_unque) > 1: \n",
    "                        for m in range(len(neighboring_sites_list_unque)):\n",
    "                            pair_id = post_processing.get_line(central_site, neighboring_sites_list_unque[m]) # get pair id\n",
    "                            if pair_id in TJ_infomation_dict:\n",
    "                                tmp = TJ_infomation_dict[pair_id]\n",
    "                                tmp.append([i,j,k])\n",
    "                                TJ_infomation_dict[pair_id] = tmp\n",
    "                            else: \n",
    "                                TJ_infomation_dict[pair_id] = [[i,j,k]]\n",
    "            print(\"Finish TJ extraction\")\n",
    "\n",
    "            # Get the center of each GB\n",
    "            GBenergy_information_dict = dict()\n",
    "            TJ_distance_max = 6 # voxels\n",
    "            for index, result in np.ndenumerate(current_microstructure):\n",
    "                i,j,k = index\n",
    "                ip,im,jp,jm,kp,km = myInput.periodic_bc3d(size_x,size_y,size_z,i,j,k)\n",
    "                if ( ((current_microstructure[ip,j,k]-current_microstructure[i,j,k])!=0) or ((current_microstructure[im,j,k]-current_microstructure[i,j,k])!=0) or\\\n",
    "                     ((current_microstructure[i,jp,k]-current_microstructure[i,j,k])!=0) or ((current_microstructure[i,jm,k]-current_microstructure[i,j,k])!=0) or\\\n",
    "                     ((current_microstructure[i,j,kp]-current_microstructure[i,j,k])!=0) or ((current_microstructure[i,j,km]-current_microstructure[i,j,k])!=0) ):\n",
    "                    central_site = int(current_microstructure[i,j,k])\n",
    "                    neighboring_sites_list = np.array([current_microstructure[ip,j,k], current_microstructure[i,jp,k], current_microstructure[i,j,kp], current_microstructure[im,j,k], current_microstructure[i,jm,k], current_microstructure[i,j,km]]).astype(int)\n",
    "                    neighboring_sites_set = set(neighboring_sites_list) # Get all unique neighboring sites\n",
    "                    if central_site in neighboring_sites_set: neighboring_sites_set.remove(central_site) # remove central site\n",
    "                    neighboring_sites_list_unque = list(neighboring_sites_set)\n",
    "                    num_other_sites = 0\n",
    "                    neighboring_sites_full_list = np.array([current_microstructure[ip,jp,k], current_microstructure[ip,j,k], current_microstructure[ip,jm,k], current_microstructure[i,jp,k], current_microstructure[i,jm,k], current_microstructure[im,jp,k], current_microstructure[im,j,k], current_microstructure[im,jm,k],\n",
    "                                                            current_microstructure[i,j,km], current_microstructure[ip,jp,km], current_microstructure[ip,j,km], current_microstructure[ip,jm,km], current_microstructure[i,jp,km], current_microstructure[i,jm,km], current_microstructure[im,jp,km], current_microstructure[im,j,km], current_microstructure[im,jm,km],\n",
    "                                                            current_microstructure[i,j,kp], current_microstructure[ip,jp,kp], current_microstructure[ip,j,kp], current_microstructure[ip,jm,kp], current_microstructure[i,jp,kp], current_microstructure[i,jm,kp], current_microstructure[im,jp,kp], current_microstructure[im,j,kp], current_microstructure[im,jm,kp]]).astype(int)\n",
    "                    for neigh_site in neighboring_sites_full_list:\n",
    "                        if neigh_site != central_site: num_other_sites += 1 # get the sites num different with central id\n",
    "                    # remove the TJs and QJs\n",
    "                    if len(neighboring_sites_list_unque) > 1: continue # only remove TJs and QJs\n",
    "                    # CONTINUE...    # remove the voxels around TJs and QJs\n",
    "                    # check the GB voxels is close to TJ or not\n",
    "                    break_point = 0\n",
    "                    pair_id = post_processing.get_line(central_site, neighboring_sites_list_unque[0]) # get pair id\n",
    "                    if central_site<neighboring_sites_list_unque[0]: pair_id_pair = [central_site, neighboring_sites_list_unque[0]]\n",
    "                    else: pair_id_pair = [neighboring_sites_list_unque[0], central_site]\n",
    "                    if pair_id in GBenergy_information_dict:\n",
    "                        GBenergy_information_dict[pair_id][5] += 1 # GB area\n",
    "                    else:\n",
    "                        GB_infomation = np.array([0,0,0,0,0.0,1,pair_id_pair[0],pair_id_pair[1]]) # GBnum-energy,i,j,k,GB energy,GBnum,gid0,gid1\n",
    "                        GBenergy_information_dict[pair_id] = GB_infomation\n",
    "                    if pair_id in TJ_infomation_dict:\n",
    "                        for TJ_site in TJ_infomation_dict[pair_id]:\n",
    "                            TJ_distance = np.linalg.norm(index-np.array(TJ_site))\n",
    "                            if TJ_distance < TJ_distance_max: \n",
    "                                break_point = 1\n",
    "                                break\n",
    "                    if break_point == 1: continue\n",
    "                    # calculate or extract misorientation\n",
    "                    # if pair_id in GBenergy_information_dict:\n",
    "                    GBenergy_information_dict[pair_id][0] += 1\n",
    "                    GBenergy_information_dict[pair_id][1:5] += np.array([i,j,k,current_energy[i,j,k]/num_other_sites])\n",
    "\n",
    "            # get the correct location for each GB\n",
    "            small_GB_list = []\n",
    "            for key in GBenergy_information_dict: \n",
    "                if GBenergy_information_dict[key][0] == 0: \n",
    "                    small_GB_list.append(key) # remove the small GB with 0 voxels after remove voxels close to TJs\n",
    "            for s_index in range(len(small_GB_list)): GBenergy_information_dict.pop(small_GB_list[s_index])\n",
    "            for key in GBenergy_information_dict: \n",
    "                GBenergy_information_dict[key][1:5]=GBenergy_information_dict[key][1:5]/GBenergy_information_dict[key][0]\n",
    "            print(f\"Current GBs len at {time_step} steps: {len(GBenergy_information_dict)}\")\n",
    "            # save information\n",
    "            np.savez(data_file_folder + data_file_name_GBenergy, GBenergy_information_dict=GBenergy_information_dict)\n",
    "            GBenergy_information_dict_list.append(GBenergy_information_dict)"
   ]
  },
  {
   "cell_type": "code",
   "execution_count": 5,
   "id": "2f308b73-0513-45d8-a932-7d65cd3c5e66",
   "metadata": {
    "tags": []
   },
   "outputs": [
    {
     "name": "stderr",
     "output_type": "stream",
     "text": [
      "100%|██████████| 4058/4058 [00:18<00:00, 221.75it/s]\n"
     ]
    },
    {
     "name": "stdout",
     "output_type": "stream",
     "text": [
      "finish 0 with num of GBs 183, and collected num of GBs 95\n"
     ]
    },
    {
     "name": "stderr",
     "output_type": "stream",
     "text": [
      "100%|██████████| 2225/2225 [01:53<00:00, 19.56it/s]\n"
     ]
    },
    {
     "name": "stdout",
     "output_type": "stream",
     "text": [
      "finish 1 with num of GBs 1123, and collected num of GBs 410\n"
     ]
    },
    {
     "name": "stderr",
     "output_type": "stream",
     "text": [
      "100%|██████████| 2730/2730 [02:37<00:00, 17.33it/s]\n"
     ]
    },
    {
     "name": "stdout",
     "output_type": "stream",
     "text": [
      "finish 2 with num of GBs 1557, and collected num of GBs 773\n"
     ]
    },
    {
     "name": "stderr",
     "output_type": "stream",
     "text": [
      "100%|██████████| 4058/4058 [00:10<00:00, 373.87it/s]\n",
      "100%|██████████| 2225/2225 [01:27<00:00, 25.37it/s]\n",
      "100%|██████████| 3559/3559 [03:14<00:00, 18.32it/s]\n"
     ]
    },
    {
     "name": "stdout",
     "output_type": "stream",
     "text": [
      "finish 4 with num of GBs 1989, and collected num of GBs 1554\n"
     ]
    },
    {
     "name": "stderr",
     "output_type": "stream",
     "text": [
      "100%|██████████| 2730/2730 [02:06<00:00, 21.59it/s]\n",
      " 77%|███████▋  | 2883/3756 [02:41<00:37, 23.34it/s]IOPub message rate exceeded.\n",
      "The Jupyter server will temporarily stop sending output\n",
      "to the client in order to avoid crashing it.\n",
      "To change this limit, set the config variable\n",
      "`--ServerApp.iopub_msg_rate_limit`.\n",
      "\n",
      "Current values:\n",
      "ServerApp.iopub_msg_rate_limit=1000.0 (msgs/sec)\n",
      "ServerApp.rate_limit_window=3.0 (secs)\n",
      "\n",
      "100%|██████████| 3607/3607 [02:43<00:00, 22.05it/s]\n",
      "100%|██████████| 3212/3212 [02:43<00:00, 19.69it/s]\n"
     ]
    },
    {
     "name": "stdout",
     "output_type": "stream",
     "text": [
      "finish 11 with num of GBs 1675, and collected num of GBs 3250\n"
     ]
    },
    {
     "name": "stderr",
     "output_type": "stream",
     "text": [
      "100%|██████████| 3475/3475 [02:34<00:00, 22.46it/s]\n",
      "100%|██████████| 3060/3060 [02:30<00:00, 20.34it/s]\n"
     ]
    },
    {
     "name": "stdout",
     "output_type": "stream",
     "text": [
      "finish 12 with num of GBs 1554, and collected num of GBs 3359\n"
     ]
    },
    {
     "name": "stderr",
     "output_type": "stream",
     "text": [
      "100%|██████████| 3331/3331 [02:47<00:00, 19.94it/s]\n",
      "100%|██████████| 2919/2919 [03:00<00:00, 16.18it/s]\n"
     ]
    },
    {
     "name": "stdout",
     "output_type": "stream",
     "text": [
      "finish 13 with num of GBs 1419, and collected num of GBs 3470\n"
     ]
    },
    {
     "name": "stderr",
     "output_type": "stream",
     "text": [
      "100%|██████████| 3212/3212 [03:04<00:00, 17.38it/s]\n",
      "100%|██████████| 2775/2775 [02:25<00:00, 19.12it/s]\n"
     ]
    },
    {
     "name": "stdout",
     "output_type": "stream",
     "text": [
      "finish 14 with num of GBs 1363, and collected num of GBs 3582\n"
     ]
    },
    {
     "name": "stderr",
     "output_type": "stream",
     "text": [
      "100%|██████████| 3060/3060 [02:17<00:00, 22.28it/s]\n",
      "100%|██████████| 2623/2623 [01:58<00:00, 22.06it/s]\n"
     ]
    },
    {
     "name": "stdout",
     "output_type": "stream",
     "text": [
      "finish 15 with num of GBs 1294, and collected num of GBs 3686\n"
     ]
    },
    {
     "name": "stderr",
     "output_type": "stream",
     "text": [
      "100%|██████████| 2919/2919 [01:59<00:00, 24.37it/s]\n",
      "100%|██████████| 2500/2500 [01:56<00:00, 21.38it/s]\n"
     ]
    },
    {
     "name": "stdout",
     "output_type": "stream",
     "text": [
      "finish 16 with num of GBs 1248, and collected num of GBs 3777\n"
     ]
    },
    {
     "name": "stderr",
     "output_type": "stream",
     "text": [
      "100%|██████████| 2775/2775 [01:57<00:00, 23.60it/s]\n",
      "100%|██████████| 2413/2413 [01:50<00:00, 21.87it/s]\n"
     ]
    },
    {
     "name": "stdout",
     "output_type": "stream",
     "text": [
      "finish 17 with num of GBs 1168, and collected num of GBs 3853\n"
     ]
    },
    {
     "name": "stderr",
     "output_type": "stream",
     "text": [
      "100%|██████████| 2623/2623 [01:55<00:00, 22.79it/s]\n",
      "100%|██████████| 2271/2271 [01:41<00:00, 22.44it/s]\n"
     ]
    },
    {
     "name": "stdout",
     "output_type": "stream",
     "text": [
      "finish 18 with num of GBs 1053, and collected num of GBs 3895\n"
     ]
    },
    {
     "name": "stderr",
     "output_type": "stream",
     "text": [
      "100%|██████████| 2500/2500 [02:14<00:00, 18.56it/s]\n",
      "100%|██████████| 2160/2160 [02:04<00:00, 17.42it/s]\n"
     ]
    },
    {
     "name": "stdout",
     "output_type": "stream",
     "text": [
      "finish 19 with num of GBs 990, and collected num of GBs 3959\n"
     ]
    },
    {
     "name": "stderr",
     "output_type": "stream",
     "text": [
      "100%|██████████| 2413/2413 [02:14<00:00, 17.99it/s]\n",
      "100%|██████████| 2049/2049 [02:05<00:00, 16.27it/s]\n"
     ]
    },
    {
     "name": "stdout",
     "output_type": "stream",
     "text": [
      "finish 20 with num of GBs 981, and collected num of GBs 4018\n"
     ]
    },
    {
     "name": "stderr",
     "output_type": "stream",
     "text": [
      "100%|██████████| 2271/2271 [02:05<00:00, 18.16it/s]\n",
      "100%|██████████| 1972/1972 [01:25<00:00, 22.96it/s]\n"
     ]
    },
    {
     "name": "stdout",
     "output_type": "stream",
     "text": [
      "finish 21 with num of GBs 879, and collected num of GBs 4058\n"
     ]
    },
    {
     "name": "stderr",
     "output_type": "stream",
     "text": [
      "100%|██████████| 2160/2160 [01:28<00:00, 24.28it/s]\n",
      "100%|██████████| 1869/1869 [01:20<00:00, 23.22it/s]\n"
     ]
    },
    {
     "name": "stdout",
     "output_type": "stream",
     "text": [
      "finish 22 with num of GBs 834, and collected num of GBs 4110\n"
     ]
    },
    {
     "name": "stderr",
     "output_type": "stream",
     "text": [
      "100%|██████████| 2049/2049 [01:28<00:00, 23.21it/s]\n",
      "100%|██████████| 1786/1786 [01:19<00:00, 22.54it/s]\n"
     ]
    },
    {
     "name": "stdout",
     "output_type": "stream",
     "text": [
      "finish 23 with num of GBs 803, and collected num of GBs 4161\n"
     ]
    },
    {
     "name": "stderr",
     "output_type": "stream",
     "text": [
      "100%|██████████| 1972/1972 [01:20<00:00, 24.49it/s]\n",
      "100%|██████████| 1686/1686 [01:09<00:00, 24.31it/s]\n"
     ]
    },
    {
     "name": "stdout",
     "output_type": "stream",
     "text": [
      "finish 24 with num of GBs 730, and collected num of GBs 4187\n"
     ]
    },
    {
     "name": "stderr",
     "output_type": "stream",
     "text": [
      "100%|██████████| 1869/1869 [01:12<00:00, 25.64it/s]\n",
      "100%|██████████| 1618/1618 [01:05<00:00, 24.88it/s]\n"
     ]
    },
    {
     "name": "stdout",
     "output_type": "stream",
     "text": [
      "finish 25 with num of GBs 697, and collected num of GBs 4220\n"
     ]
    },
    {
     "name": "stderr",
     "output_type": "stream",
     "text": [
      "100%|██████████| 1786/1786 [01:09<00:00, 25.83it/s]\n",
      "100%|██████████| 1533/1533 [01:03<00:00, 24.26it/s]\n"
     ]
    },
    {
     "name": "stdout",
     "output_type": "stream",
     "text": [
      "finish 26 with num of GBs 679, and collected num of GBs 4251\n"
     ]
    },
    {
     "name": "stderr",
     "output_type": "stream",
     "text": [
      "100%|██████████| 1686/1686 [01:04<00:00, 26.22it/s]\n",
      "100%|██████████| 1464/1464 [01:02<00:00, 23.57it/s]\n"
     ]
    },
    {
     "name": "stdout",
     "output_type": "stream",
     "text": [
      "finish 27 with num of GBs 669, and collected num of GBs 4281\n"
     ]
    },
    {
     "name": "stderr",
     "output_type": "stream",
     "text": [
      "100%|██████████| 1618/1618 [01:00<00:00, 26.54it/s]\n",
      "100%|██████████| 1422/1422 [00:59<00:00, 23.93it/s]\n"
     ]
    },
    {
     "name": "stdout",
     "output_type": "stream",
     "text": [
      "finish 28 with num of GBs 637, and collected num of GBs 4307\n"
     ]
    },
    {
     "name": "stderr",
     "output_type": "stream",
     "text": [
      "100%|██████████| 1533/1533 [00:59<00:00, 25.57it/s]\n",
      "100%|██████████| 1357/1357 [00:54<00:00, 24.81it/s]\n"
     ]
    },
    {
     "name": "stdout",
     "output_type": "stream",
     "text": [
      "finish 29 with num of GBs 593, and collected num of GBs 4336\n"
     ]
    },
    {
     "name": "stderr",
     "output_type": "stream",
     "text": [
      "100%|██████████| 1464/1464 [00:58<00:00, 25.16it/s]\n",
      "100%|██████████| 1293/1293 [00:53<00:00, 24.17it/s]\n"
     ]
    },
    {
     "name": "stdout",
     "output_type": "stream",
     "text": [
      "finish 30 with num of GBs 578, and collected num of GBs 4360\n"
     ]
    },
    {
     "name": "stderr",
     "output_type": "stream",
     "text": [
      "100%|██████████| 1422/1422 [00:55<00:00, 25.41it/s]\n",
      "100%|██████████| 1241/1241 [00:49<00:00, 25.03it/s]\n"
     ]
    },
    {
     "name": "stdout",
     "output_type": "stream",
     "text": [
      "finish 31 with num of GBs 537, and collected num of GBs 4389\n"
     ]
    },
    {
     "name": "stderr",
     "output_type": "stream",
     "text": [
      "100%|██████████| 1357/1357 [00:51<00:00, 26.29it/s]\n",
      "100%|██████████| 1204/1204 [00:48<00:00, 25.00it/s]\n"
     ]
    },
    {
     "name": "stdout",
     "output_type": "stream",
     "text": [
      "finish 32 with num of GBs 520, and collected num of GBs 4410\n"
     ]
    },
    {
     "name": "stderr",
     "output_type": "stream",
     "text": [
      "100%|██████████| 1293/1293 [00:51<00:00, 25.23it/s]\n",
      "100%|██████████| 1159/1159 [00:44<00:00, 26.22it/s]\n"
     ]
    },
    {
     "name": "stdout",
     "output_type": "stream",
     "text": [
      "finish 33 with num of GBs 478, and collected num of GBs 4424\n"
     ]
    },
    {
     "name": "stderr",
     "output_type": "stream",
     "text": [
      "100%|██████████| 1241/1241 [00:46<00:00, 26.73it/s]\n",
      "100%|██████████| 1102/1102 [00:42<00:00, 26.02it/s]\n"
     ]
    },
    {
     "name": "stdout",
     "output_type": "stream",
     "text": [
      "finish 34 with num of GBs 457, and collected num of GBs 4437\n"
     ]
    },
    {
     "name": "stderr",
     "output_type": "stream",
     "text": [
      "100%|██████████| 1204/1204 [00:45<00:00, 26.52it/s]\n",
      "100%|██████████| 1057/1057 [00:40<00:00, 26.42it/s]\n"
     ]
    },
    {
     "name": "stdout",
     "output_type": "stream",
     "text": [
      "finish 35 with num of GBs 432, and collected num of GBs 4453\n"
     ]
    },
    {
     "name": "stderr",
     "output_type": "stream",
     "text": [
      "100%|██████████| 1159/1159 [00:42<00:00, 27.33it/s]\n",
      "100%|██████████| 1013/1013 [00:41<00:00, 24.40it/s]\n"
     ]
    },
    {
     "name": "stdout",
     "output_type": "stream",
     "text": [
      "finish 36 with num of GBs 448, and collected num of GBs 4468\n"
     ]
    },
    {
     "name": "stderr",
     "output_type": "stream",
     "text": [
      "100%|██████████| 1102/1102 [00:40<00:00, 27.19it/s]\n",
      "100%|██████████| 979/979 [00:38<00:00, 25.67it/s]\n"
     ]
    },
    {
     "name": "stdout",
     "output_type": "stream",
     "text": [
      "finish 37 with num of GBs 413, and collected num of GBs 4479\n"
     ]
    },
    {
     "name": "stderr",
     "output_type": "stream",
     "text": [
      "100%|██████████| 1057/1057 [00:37<00:00, 28.56it/s]\n",
      "100%|██████████| 956/956 [00:36<00:00, 26.33it/s]\n"
     ]
    },
    {
     "name": "stdout",
     "output_type": "stream",
     "text": [
      "finish 38 with num of GBs 399, and collected num of GBs 4487\n"
     ]
    },
    {
     "name": "stderr",
     "output_type": "stream",
     "text": [
      "100%|██████████| 1013/1013 [00:39<00:00, 25.50it/s]\n",
      "100%|██████████| 937/937 [00:36<00:00, 25.75it/s]\n"
     ]
    },
    {
     "name": "stdout",
     "output_type": "stream",
     "text": [
      "finish 39 with num of GBs 394, and collected num of GBs 4501\n"
     ]
    },
    {
     "name": "stderr",
     "output_type": "stream",
     "text": [
      "100%|██████████| 979/979 [00:36<00:00, 27.08it/s]\n",
      "100%|██████████| 902/902 [00:33<00:00, 26.69it/s]\n"
     ]
    },
    {
     "name": "stdout",
     "output_type": "stream",
     "text": [
      "finish 40 with num of GBs 365, and collected num of GBs 4515\n"
     ]
    },
    {
     "name": "stderr",
     "output_type": "stream",
     "text": [
      "100%|██████████| 956/956 [00:35<00:00, 26.82it/s]\n",
      "100%|██████████| 869/869 [00:31<00:00, 27.22it/s]\n"
     ]
    },
    {
     "name": "stdout",
     "output_type": "stream",
     "text": [
      "finish 41 with num of GBs 346, and collected num of GBs 4530\n"
     ]
    },
    {
     "name": "stderr",
     "output_type": "stream",
     "text": [
      "100%|██████████| 937/937 [00:34<00:00, 27.31it/s]\n",
      "100%|██████████| 830/830 [00:30<00:00, 26.95it/s]\n"
     ]
    },
    {
     "name": "stdout",
     "output_type": "stream",
     "text": [
      "finish 42 with num of GBs 330, and collected num of GBs 4539\n"
     ]
    },
    {
     "name": "stderr",
     "output_type": "stream",
     "text": [
      "100%|██████████| 902/902 [00:32<00:00, 28.09it/s]\n",
      "100%|██████████| 798/798 [00:31<00:00, 25.61it/s]\n"
     ]
    },
    {
     "name": "stdout",
     "output_type": "stream",
     "text": [
      "finish 43 with num of GBs 335, and collected num of GBs 4547\n"
     ]
    },
    {
     "name": "stderr",
     "output_type": "stream",
     "text": [
      "100%|██████████| 869/869 [00:30<00:00, 28.60it/s]\n",
      "100%|██████████| 767/767 [00:27<00:00, 27.48it/s]\n"
     ]
    },
    {
     "name": "stdout",
     "output_type": "stream",
     "text": [
      "finish 44 with num of GBs 306, and collected num of GBs 4553\n"
     ]
    },
    {
     "name": "stderr",
     "output_type": "stream",
     "text": [
      "100%|██████████| 830/830 [00:28<00:00, 29.01it/s]\n",
      "100%|██████████| 743/743 [00:27<00:00, 26.73it/s]\n"
     ]
    },
    {
     "name": "stdout",
     "output_type": "stream",
     "text": [
      "finish 45 with num of GBs 304, and collected num of GBs 4560\n"
     ]
    },
    {
     "name": "stderr",
     "output_type": "stream",
     "text": [
      "100%|██████████| 798/798 [00:29<00:00, 27.39it/s]\n",
      "100%|██████████| 723/723 [00:25<00:00, 28.01it/s]\n"
     ]
    },
    {
     "name": "stdout",
     "output_type": "stream",
     "text": [
      "finish 46 with num of GBs 286, and collected num of GBs 4568\n"
     ]
    },
    {
     "name": "stderr",
     "output_type": "stream",
     "text": [
      "100%|██████████| 767/767 [00:26<00:00, 29.05it/s]\n",
      "100%|██████████| 696/696 [00:24<00:00, 28.63it/s]\n"
     ]
    },
    {
     "name": "stdout",
     "output_type": "stream",
     "text": [
      "finish 47 with num of GBs 269, and collected num of GBs 4576\n"
     ]
    },
    {
     "name": "stderr",
     "output_type": "stream",
     "text": [
      "100%|██████████| 743/743 [00:26<00:00, 27.87it/s]\n",
      "100%|██████████| 675/675 [00:25<00:00, 26.81it/s]\n"
     ]
    },
    {
     "name": "stdout",
     "output_type": "stream",
     "text": [
      "finish 48 with num of GBs 271, and collected num of GBs 4576\n"
     ]
    },
    {
     "name": "stderr",
     "output_type": "stream",
     "text": [
      "100%|██████████| 723/723 [00:25<00:00, 28.68it/s]\n",
      "100%|██████████| 655/655 [00:24<00:00, 26.29it/s]\n"
     ]
    },
    {
     "name": "stdout",
     "output_type": "stream",
     "text": [
      "finish 49 with num of GBs 274, and collected num of GBs 4576\n"
     ]
    },
    {
     "name": "stderr",
     "output_type": "stream",
     "text": [
      "100%|██████████| 696/696 [00:23<00:00, 29.58it/s]\n"
     ]
    }
   ],
   "source": [
    "    time_interval = 2\n",
    "    curvature_limit = 0.00794\n",
    "    # store all GB points, include curvature and anti-curvature(include randomness points)\n",
    "    GB_list_velocity_list = []\n",
    "    GB_list_curvature_list = []\n",
    "    GB_list_GBenergy_list = []\n",
    "    # store all GB point exclude anti-curvature randomness points\n",
    "    GB_list_velocity_list_exrandom = []\n",
    "    GB_list_curvature_list_exrandom = []\n",
    "    # store GB energy point exclude anti_c randomness points\n",
    "    GB_list_GBenergy_list_exrandom = []\n",
    "    # store anti-curvature GBs in dictionary\n",
    "    GB_id_focus = dict()\n",
    "    GB_id_focus_detail = dict()\n",
    "    GB_filter_kernel = [set(),set(),set(),set(),set()]\n",
    "    for time_step in range(step_num):\n",
    "        if time_step+1 >= step_num: continue\n",
    "        GB_list_velocity_list_tmp = []\n",
    "        GB_list_curvature_list_tmp = []\n",
    "        GB_list_GBenergy_list_tmp = []\n",
    "        GB_list_velocity_list_exrandom_tmp = []\n",
    "        GB_list_curvature_list_exrandom_tmp = []\n",
    "        GB_list_GBenergy_list_exrandom_tmp = []\n",
    "        key_set = set()\n",
    "        for key in tqdm(GB_infomation_dict_list[time_step]):\n",
    "            if GB_infomation_dict_list[time_step+1].get(key) is None: continue\n",
    "            if GB_infomation_dict_list[time_step][key][5] < 100: continue # remove small GBs\n",
    "            if abs(GB_infomation_dict_list[time_step][key][4]) < curvature_limit: continue # remove low curvature\n",
    "            # Calculate dV\n",
    "            pair_id_pair = GB_infomation_dict_list[time_step][key][6:8]\n",
    "            growth_direction1 = (npy_file_aniso[time_step]==pair_id_pair[0])*(npy_file_aniso[time_step+1]==pair_id_pair[1])\n",
    "            growth_direction2 = (npy_file_aniso[time_step]==pair_id_pair[1])*(npy_file_aniso[time_step+1]==pair_id_pair[0])\n",
    "            dV = np.sum(growth_direction1)-np.sum(growth_direction2) # velocity with direction\n",
    "            # calculate velocity\n",
    "            velocity = dV/time_interval/(GB_infomation_dict_list[time_step][key][5]/2)\n",
    "            GB_list_velocity_list_tmp.append(velocity)\n",
    "            # keep curvature\n",
    "            current_curvature_value = GB_infomation_dict_list[time_step][key][4]\n",
    "            GB_list_curvature_list_tmp.append(current_curvature_value)\n",
    "            # keep GB energy\n",
    "            GB_list_GBenergy_list_tmp.append(GBenergy_information_dict_list[time_step][key][4])\n",
    "            \n",
    "            # keep anti-curvature GB info\n",
    "            if current_curvature_value*velocity<-0.0001: \n",
    "                key_set.add(key)\n",
    "                if time_step >= step_num-3: continue\n",
    "                if key in GB_id_focus: \n",
    "                    GB_id_focus[key] += 1\n",
    "                    GB_id_focus_detail[key].append(time_step)\n",
    "                else: \n",
    "                    GB_id_focus[key] = 1\n",
    "                    GB_id_focus_detail[key] = [time_step]\n",
    "        \n",
    "        # keep all GBs with GB length larger than 100\n",
    "        GB_list_velocity_list.append(GB_list_velocity_list_tmp)\n",
    "        GB_list_curvature_list.append(GB_list_curvature_list_tmp)\n",
    "        GB_list_GBenergy_list.append(GB_list_GBenergy_list_tmp)\n",
    "        \n",
    "        # filter the anti-curvature GB with 00100\n",
    "        GB_filter_kernel[0:4] = GB_filter_kernel[1:]\n",
    "        GB_filter_kernel[4] = key_set\n",
    "        filtered_set = GB_filter_kernel[2] - (GB_filter_kernel[0]|GB_filter_kernel[1]|GB_filter_kernel[3]|GB_filter_kernel[4])\n",
    "        for key in filtered_set: \n",
    "            GB_id_focus[key] -= 1\n",
    "            GB_id_focus_detail[key].remove(time_step-2)\n",
    "        print(f\"finish {time_step} with num of GBs {len(GB_list_velocity_list_tmp)}, and collected num of GBs {len(GB_id_focus)}\")\n",
    "        \n",
    "        # remove exclude data\n",
    "        if time_step < 2: continue\n",
    "        for key in tqdm(GB_infomation_dict_list[time_step-2]):\n",
    "            if GB_infomation_dict_list[time_step-1].get(key) is None: continue\n",
    "            if GB_infomation_dict_list[time_step-2][key][5] < 100: continue # remove small GBs\n",
    "            if key in filtered_set: continue # remove the randomness points\n",
    "            if abs(GB_infomation_dict_list[time_step-2][key][4]) < curvature_limit: continue # remove low curvature\n",
    "            # Calculate dV\n",
    "            pair_id_pair = GB_infomation_dict_list[time_step-2][key][6:8]\n",
    "            growth_direction1 = (npy_file_aniso[time_step-2]==pair_id_pair[0])*(npy_file_aniso[time_step-1]==pair_id_pair[1])\n",
    "            growth_direction2 = (npy_file_aniso[time_step-2]==pair_id_pair[1])*(npy_file_aniso[time_step-1]==pair_id_pair[0])\n",
    "            dV = np.sum(growth_direction1)-np.sum(growth_direction2) # velocity with direction\n",
    "            # calculate velocity\n",
    "            velocity = dV/time_interval/(GB_infomation_dict_list[time_step-2][key][5]/2)\n",
    "            GB_list_velocity_list_exrandom_tmp.append(velocity)\n",
    "            # keep curvature\n",
    "            current_curvature_value = GB_infomation_dict_list[time_step-2][key][4]\n",
    "            GB_list_curvature_list_exrandom_tmp.append(current_curvature_value)\n",
    "            # keep GB energy\n",
    "            GB_list_GBenergy_list_exrandom_tmp.append(GBenergy_information_dict_list[time_step-2][key][4])\n",
    "        GB_list_velocity_list_exrandom.append(GB_list_velocity_list_exrandom_tmp)\n",
    "        GB_list_curvature_list_exrandom.append(GB_list_curvature_list_exrandom_tmp)\n",
    "        GB_list_GBenergy_list_exrandom.append(GB_list_GBenergy_list_exrandom_tmp)\n",
    "        \n",
    "    \n",
    "    # filter the anti-curvature GB with 00100\n",
    "    GB_id_focus_copy = GB_id_focus.copy()\n",
    "    for key in GB_id_focus_copy:\n",
    "        if GB_id_focus_copy[key] <=0:\n",
    "            GB_id_focus.pop(key)\n",
    "            GB_id_focus_detail.pop(key)\n",
    "            \n",
    "    # add the last two steps for exclude data\n",
    "    # GB_list_velocity_list_exrandom.extend(GB_list_velocity_list[-2:])\n",
    "    # GB_list_curvature_list_exrandom.extend(GB_list_curvature_list[-2:])\n",
    "    # GB_list_GBenergy_list_exrandom.extend(GB_list_GBenergy_list[-2:])\n",
    "            "
   ]
  },
  {
   "cell_type": "code",
   "execution_count": 6,
   "id": "81c85dbd-a6b5-4075-b7c2-6d2fa8f85092",
   "metadata": {},
   "outputs": [
    {
     "data": {
      "text/plain": [
       "4576"
      ]
     },
     "execution_count": 6,
     "metadata": {},
     "output_type": "execute_result"
    }
   ],
   "source": [
    "len(GB_id_focus_copy)"
   ]
  },
  {
   "cell_type": "code",
   "execution_count": 7,
   "id": "6304ac9f-da16-406b-9a55-1d84184e3369",
   "metadata": {},
   "outputs": [
    {
     "name": "stderr",
     "output_type": "stream",
     "text": [
      "100%|██████████| 4058/4058 [00:01<00:00, 2246.69it/s]\n",
      "100%|██████████| 2225/2225 [00:07<00:00, 279.41it/s]\n",
      "100%|██████████| 2730/2730 [00:13<00:00, 199.57it/s]\n",
      "100%|██████████| 3230/3230 [00:18<00:00, 176.17it/s]\n",
      "100%|██████████| 3559/3559 [00:19<00:00, 178.91it/s]\n",
      "100%|██████████| 3756/3756 [00:22<00:00, 170.44it/s]\n",
      "100%|██████████| 3788/3788 [00:19<00:00, 195.39it/s]\n",
      "100%|██████████| 3728/3728 [00:16<00:00, 229.36it/s]\n",
      "100%|██████████| 3607/3607 [00:15<00:00, 237.95it/s]\n",
      "100%|██████████| 3475/3475 [00:13<00:00, 254.19it/s]\n",
      "100%|██████████| 3331/3331 [00:10<00:00, 304.30it/s]\n",
      "100%|██████████| 3212/3212 [00:09<00:00, 338.10it/s]\n",
      "100%|██████████| 3060/3060 [00:09<00:00, 338.61it/s]\n",
      "100%|██████████| 2919/2919 [00:07<00:00, 398.75it/s]\n",
      "100%|██████████| 2775/2775 [00:07<00:00, 374.34it/s]\n",
      "100%|██████████| 2623/2623 [00:07<00:00, 341.38it/s]\n",
      "100%|██████████| 2500/2500 [00:07<00:00, 349.93it/s]\n",
      "100%|██████████| 2413/2413 [00:06<00:00, 349.81it/s]\n",
      "100%|██████████| 2271/2271 [00:04<00:00, 455.22it/s]\n",
      "100%|██████████| 2160/2160 [00:04<00:00, 496.81it/s]\n",
      "100%|██████████| 2049/2049 [00:04<00:00, 499.18it/s]\n",
      "100%|██████████| 1972/1972 [00:03<00:00, 522.66it/s]\n",
      "100%|██████████| 1869/1869 [00:03<00:00, 522.08it/s]\n",
      "100%|██████████| 1786/1786 [00:02<00:00, 606.18it/s]\n",
      "100%|██████████| 1686/1686 [00:03<00:00, 495.43it/s]\n",
      "100%|██████████| 1618/1618 [00:03<00:00, 533.06it/s]\n",
      "100%|██████████| 1533/1533 [00:03<00:00, 406.74it/s]\n",
      "100%|██████████| 1464/1464 [00:03<00:00, 419.90it/s]\n",
      "100%|██████████| 1422/1422 [00:03<00:00, 367.39it/s]\n",
      "100%|██████████| 1357/1357 [00:03<00:00, 446.96it/s]\n",
      "100%|██████████| 1293/1293 [00:02<00:00, 612.75it/s]\n",
      "100%|██████████| 1241/1241 [00:02<00:00, 519.15it/s]\n",
      "100%|██████████| 1204/1204 [00:01<00:00, 655.13it/s]\n",
      "100%|██████████| 1159/1159 [00:02<00:00, 527.13it/s]\n",
      "100%|██████████| 1102/1102 [00:01<00:00, 926.23it/s]\n",
      "100%|██████████| 1057/1057 [00:01<00:00, 671.86it/s]\n",
      "100%|██████████| 1013/1013 [00:01<00:00, 736.44it/s]\n",
      "100%|██████████| 979/979 [00:01<00:00, 664.60it/s]\n",
      "100%|██████████| 956/956 [00:00<00:00, 1486.71it/s]\n",
      "100%|██████████| 937/937 [00:01<00:00, 681.13it/s]\n",
      "100%|██████████| 902/902 [00:01<00:00, 549.05it/s]\n",
      "100%|██████████| 869/869 [00:01<00:00, 498.42it/s]\n",
      "100%|██████████| 830/830 [00:00<00:00, 909.52it/s] \n",
      "100%|██████████| 798/798 [00:01<00:00, 729.73it/s]\n",
      "100%|██████████| 767/767 [00:01<00:00, 756.38it/s]\n",
      "100%|██████████| 743/743 [00:01<00:00, 735.00it/s]\n",
      "100%|██████████| 723/723 [00:00<00:00, 980.63it/s] \n",
      "100%|██████████| 696/696 [00:00<00:00, 839.62it/s]\n",
      "100%|██████████| 675/675 [00:00<00:00, 788183.52it/s]\n",
      "100%|██████████| 655/655 [00:00<00:00, 809210.34it/s]\n"
     ]
    }
   ],
   "source": [
    "    time_interval = 2\n",
    "    # GB_list_velocity_list = []\n",
    "    GB_antic_list_velocity_list = []\n",
    "    GB_antic_list_GBenergy_list = []\n",
    "    GB_antic_list_anticNum_list = []\n",
    "    GB_id_unfocus_lowE_detail = dict()\n",
    "    for time_step in range(step_num):\n",
    "        if time_step+1 >= step_num: continue\n",
    "        for key in tqdm(GBenergy_information_dict_list[time_step]):\n",
    "            if GBenergy_information_dict_list[time_step+1].get(key) is None: continue\n",
    "            if GBenergy_information_dict_list[time_step][key][5] < 100: continue # remove small GBs\n",
    "            if abs(GB_infomation_dict_list[time_step][key][4]) < curvature_limit: continue # remove low curvature\n",
    "            \n",
    "            # keep the GB with low energy and curvature behavior\n",
    "            if (GBenergy_information_dict_list[time_step][key][4]<0.4) and (key not in GB_id_focus_detail): # do we need to remove random here?\n",
    "                if key in GB_id_unfocus_lowE_detail:\n",
    "                    GB_id_unfocus_lowE_detail[key].append(time_step)\n",
    "                else:\n",
    "                    GB_id_unfocus_lowE_detail[key] = [time_step]\n",
    "            \n",
    "            # anti-curvature behavior list\n",
    "            if (key in GB_id_focus_detail) and (time_step in GB_id_focus_detail[key]):\n",
    "                # Calculate dV\n",
    "                pair_id_pair = GB_infomation_dict_list[time_step][key][6:8]\n",
    "                growth_direction1 = (npy_file_aniso[time_step]==pair_id_pair[0])*(npy_file_aniso[time_step+1]==pair_id_pair[1])\n",
    "                growth_direction2 = (npy_file_aniso[time_step]==pair_id_pair[1])*(npy_file_aniso[time_step+1]==pair_id_pair[0])\n",
    "                dV = np.sum(growth_direction1)-np.sum(growth_direction2) # velocity with direction\n",
    "                # calculate velocity\n",
    "                velocity = dV/time_interval/(GB_infomation_dict_list[time_step][key][5]/2)\n",
    "                # correct the sign of velocity\n",
    "                current_curvature_value = GB_infomation_dict_list[time_step][key][4]\n",
    "                if current_curvature_value < 0: GB_antic_list_velocity_list.append(-velocity)\n",
    "                else: GB_antic_list_velocity_list.append(velocity)\n",
    "                \n",
    "                GB_antic_list_GBenergy_list.append(GBenergy_information_dict_list[time_step][key][4])\n",
    "                GB_antic_list_anticNum_list.append(GB_id_focus[key])\n",
    "            \n",
    "        \n",
    "            "
   ]
  },
  {
   "cell_type": "code",
   "execution_count": 8,
   "id": "bf804f69-a21f-462e-8dc6-ea100eb771f0",
   "metadata": {
    "tags": []
   },
   "outputs": [
    {
     "name": "stdout",
     "output_type": "stream",
     "text": [
      "The number of the GBs showing anti-curvature during whole simulations is 1254\n",
      "The ratio of anti-curvature GBs during whole simulations is 9.66622986202112% in 12973 GBs\n",
      "dict_values([3, 2, 2, 2, 3, 2, 2, 2, 4, 3, 2, 2, 2, 2, 2, 2, 2, 4, 2, 2, 2, 2, 2, 4, 3, 4, 2, 8, 2, 2, 2, 2, 2, 3, 2, 2, 3, 3, 2, 2, 3, 2, 2, 2, 2, 2, 2, 2, 2, 2, 3, 5, 3, 2, 2, 2, 2, 3, 2, 2, 2, 2, 2, 2, 2, 2, 3, 2, 2, 2, 2, 3, 4, 2, 2, 2, 2, 2, 2, 2, 2, 2, 3, 2, 2, 2, 2, 3, 2, 2, 2, 3, 3, 2, 4, 2, 2, 2, 2, 2, 2, 2, 3, 2, 2, 3, 2, 2, 2, 2, 7, 2, 2, 2, 2, 3, 2, 2, 2, 4, 2, 2, 5, 3, 3, 3, 2, 2, 3, 2, 2, 2, 2, 3, 2, 3, 2, 3, 2, 2, 3, 2, 2, 2, 2, 4, 2, 5, 2, 2, 2, 2, 3, 3, 2, 2, 3, 3, 2, 2, 4, 2, 2, 3, 2, 2, 4, 2, 2, 2, 2, 3, 2, 2, 2, 2, 2, 2, 2, 2, 2, 2, 2, 2, 2, 3, 3, 2, 2, 2, 2, 2, 2, 2, 3, 2, 2, 2, 2, 2, 3, 3, 2, 2, 2, 2, 3, 2, 3, 2, 3, 2, 2, 3, 2, 3, 2, 6, 3, 2, 4, 3, 3, 3, 3, 2, 4, 4, 2, 4, 2, 2, 2, 4, 3, 5, 2, 4, 3, 2, 2, 2, 2, 2, 4, 2, 3, 2, 2, 2, 2, 2, 2, 2, 2, 2, 2, 3, 2, 2, 2, 3, 2, 3, 2, 2, 2, 2, 2, 2, 2, 2, 2, 2, 2, 2, 2, 3, 2, 2, 2, 3, 4, 2, 2, 4, 3, 2, 2, 5, 2, 2, 2, 2, 2, 2, 2, 2, 3, 5, 2, 2, 2, 3, 2, 2, 3, 2, 3, 2, 2, 2, 2, 2, 2, 2, 2, 3, 3, 2, 2, 3, 3, 2, 3, 2, 2, 3, 2, 4, 3, 2, 2, 4, 3, 2, 2, 2, 2, 2, 3, 2, 2, 2, 2, 2, 3, 2, 3, 2, 2, 2, 3, 5, 2, 2, 2, 2, 2, 4, 2, 3, 2, 2, 2, 2, 3, 2, 2, 2, 2, 3, 2, 3, 2, 2, 3, 4, 2, 2, 2, 2, 2, 2, 2, 5, 2, 2, 2, 2, 2, 2, 2, 3, 3, 4, 3, 2, 2, 2, 2, 2, 2, 2, 2, 2, 4, 2, 2, 2, 4, 4, 2, 4, 2, 2, 2, 3, 2, 2, 2, 3, 3, 5, 5, 2, 2, 3, 5, 3, 2, 2, 2, 2, 2, 2, 2, 2, 2, 2, 3, 2, 2, 4, 2, 2, 2, 2, 2, 2, 2, 2, 2, 4, 2, 2, 2, 2, 2, 2, 3, 2, 3, 2, 2, 2, 2, 3, 2, 4, 2, 5, 2, 4, 2, 2, 2, 2, 2, 2, 2, 2, 2, 2, 2, 2, 2, 2, 2, 4, 2, 2, 2, 2, 2, 2, 2, 2, 2, 2, 2, 2, 2, 6, 2, 2, 2, 2, 5, 2, 2, 2, 2, 3, 2, 3, 3, 4, 6, 2, 2, 2, 2, 2, 2, 4, 2, 2, 2, 2, 2, 3, 2, 2, 2, 3, 3, 2, 2, 2, 4, 2, 2, 3, 2, 2, 2, 2, 2, 3, 3, 2, 2, 2, 4, 6, 3, 3, 2, 3, 2, 3, 2, 2, 2, 3, 4, 6, 2, 3, 2, 4, 2, 2, 3, 2, 2, 2, 2, 2, 3, 2, 2, 2, 3, 2, 2, 4, 2, 2, 2, 2, 2, 2, 5, 2, 4, 2, 2, 2, 3, 2, 2, 2, 2, 2, 4, 5, 2, 2, 4, 4, 2, 2, 2, 2, 2, 2, 4, 2, 5, 3, 3, 2, 2, 2, 2, 3, 2, 2, 3, 2, 2, 2, 2, 4, 2, 5, 3, 3, 2, 4, 5, 2, 2, 2, 2, 2, 4, 2, 2, 2, 2, 2, 2, 2, 2, 2, 2, 2, 4, 2, 2, 2, 2, 2, 2, 2, 2, 2, 3, 2, 2, 2, 3, 2, 2, 2, 4, 2, 2, 2, 3, 2, 3, 2, 2, 4, 2, 2, 2, 2, 2, 2, 2, 3, 2, 7, 2, 2, 2, 2, 2, 3, 2, 2, 3, 2, 2, 2, 2, 2, 2, 3, 2, 2, 2, 2, 2, 3, 2, 3, 2, 2, 2, 2, 3, 2, 2, 2, 2, 2, 2, 2, 2, 3, 2, 2, 2, 2, 4, 2, 2, 3, 2, 2, 2, 2, 4, 3, 2, 9, 2, 2, 2, 2, 7, 2, 2, 2, 2, 2, 2, 4, 3, 2, 2, 2, 2, 2, 2, 2, 2, 2, 3, 2, 2, 2, 2, 2, 2, 2, 2, 5, 2, 2, 4, 3, 2, 2, 4, 2, 6, 2, 3, 2, 2, 2, 2, 2, 3, 2, 2, 2, 2, 2, 2, 2, 2, 2, 2, 2, 2, 2, 2, 2, 2, 2, 2, 2, 2, 2, 3, 2, 6, 2, 2, 3, 3, 2, 2, 2, 2, 3, 2, 2, 2, 2, 2, 4, 2, 3, 2, 2, 2, 3, 4, 2, 2, 2, 3, 2, 2, 5, 2, 2, 2, 2, 4, 2, 3, 2, 2, 2, 5, 2, 3, 3, 2, 2, 3, 2, 2, 2, 2, 2, 2, 2, 2, 3, 2, 3, 2, 2, 2, 5, 2, 4, 2, 1, 2, 5, 2, 2, 2, 3, 2, 2, 2, 3, 2, 2, 2, 2, 2, 2, 2, 2, 5, 3, 2, 2, 2, 2, 2, 2, 2, 2, 2, 3, 4, 2, 2, 3, 2, 2, 2, 2, 4, 2, 2, 3, 2, 2, 3, 2, 2, 4, 5, 2, 2, 4, 2, 2, 2, 4, 3, 2, 5, 5, 2, 5, 2, 2, 2, 2, 2, 2, 2, 5, 3, 6, 2, 2, 2, 2, 2, 2, 2, 2, 2, 4, 4, 2, 2, 3, 2, 2, 2, 2, 3, 2, 2, 2, 3, 3, 2, 2, 2, 2, 6, 5, 2, 2, 3, 2, 2, 2, 3, 6, 2, 3, 4, 2, 3, 4, 2, 3, 2, 4, 2, 3, 2, 2, 2, 3, 3, 9, 3, 3, 2, 2, 2, 2, 2, 5, 2, 3, 3, 2, 2, 3, 2, 2, 3, 2, 2, 2, 3, 2, 2, 3, 2, 3, 2, 2, 2, 2, 2, 2, 2, 2, 2, 2, 2, 2, 2, 2, 5, 2, 2, 4, 4, 2, 2, 2, 2, 2, 2, 3, 4, 2, 2, 2, 2, 5, 4, 2, 2, 2, 2, 3, 2, 2, 3, 5, 2, 2, 2, 2, 2, 4, 2, 3, 10, 3, 2, 2, 2, 5, 2, 2, 2, 2, 2, 3, 2, 2, 3, 7, 3, 2, 2, 2, 2, 2, 2, 3, 2, 2, 2, 4, 2, 2, 4, 3, 6, 2, 2, 2, 4, 2, 3, 3, 3, 2, 3, 2, 6, 2, 3, 2, 2, 2, 3, 2, 2, 3, 2, 3, 4, 2, 2, 2, 4, 5, 3, 2, 2, 3, 3, 3, 3, 2, 2, 2, 1, 2, 3, 5, 2, 4, 2, 3, 3, 2, 2, 5, 2, 2, 4, 2, 4, 2, 4, 2, 2, 2, 2, 6, 2, 3, 8, 2, 2, 3, 2, 2, 2, 2, 2, 2, 4, 2, 2, 2, 4, 2, 2, 2, 2, 2, 2, 2, 5, 4, 3, 2, 3, 2, 2, 2, 2, 4, 4, 2, 2, 2, 2, 4, 2, 4, 2, 2, 2, 2, 2, 2, 2, 2, 2, 4, 3, 2, 2, 2, 5, 3, 1, 2, 2, 2, 1, 1])\n"
     ]
    }
   ],
   "source": [
    "    total_GB = set()\n",
    "    for time_step in range(step_num):\n",
    "        step_GB = GB_infomation_dict_list[time_step].keys()\n",
    "        total_GB = total_GB | step_GB\n",
    "\n",
    "    print(f\"The number of the GBs showing anti-curvature during whole simulations is {len(GB_id_focus.values())}\")\n",
    "    print(f\"The ratio of anti-curvature GBs during whole simulations is {len(GB_id_focus.values())/len(total_GB)*100}% in {len(total_GB)} GBs\")\n",
    "    print(GB_id_focus.values())"
   ]
  },
  {
   "cell_type": "code",
   "execution_count": 9,
   "id": "6eceee40-5f34-4605-959f-364b9588bb1d",
   "metadata": {
    "tags": []
   },
   "outputs": [
    {
     "data": {
      "text/plain": [
       "50"
      ]
     },
     "execution_count": 9,
     "metadata": {},
     "output_type": "execute_result"
    }
   ],
   "source": [
    "len(GB_list_velocity_list)"
   ]
  },
  {
   "cell_type": "code",
   "execution_count": 14,
   "id": "96203cab-0393-40ca-b372-89bb3d25a952",
   "metadata": {},
   "outputs": [
    {
     "data": {
      "text/plain": [
       "<Figure size 432x288 with 0 Axes>"
      ]
     },
     "metadata": {},
     "output_type": "display_data"
    },
    {
     "data": {
      "image/png": "[encoded data removed]",
      "text/plain": [
       "<Figure size 360x360 with 1 Axes>"
      ]
     },
     "metadata": {
      "needs_background": "light"
     },
     "output_type": "display_data"
    },
    {
     "data": {
      "text/plain": [
       "<Figure size 432x288 with 0 Axes>"
      ]
     },
     "metadata": {},
     "output_type": "display_data"
    },
    {
     "data": {
      "image/png": "[encoded data removed]",
      "text/plain": [
       "<Figure size 504x504 with 1 Axes>"
      ]
     },
     "metadata": {
      "needs_background": "light"
     },
     "output_type": "display_data"
    }
   ],
   "source": [
    "    # All in 1 figrue\n",
    "    curvature_1Dlist_remove_0step = []\n",
    "    velocity_1Dlist_remove_0step = []\n",
    "    GBenergy_1Dlist_remove_0step = []\n",
    "    for i in range(0,len(GB_list_velocity_list)): \n",
    "        curvature_1Dlist_remove_0step.extend(GB_list_curvature_list[i])\n",
    "        velocity_1Dlist_remove_0step.extend(GB_list_velocity_list[i])\n",
    "        GBenergy_1Dlist_remove_0step.extend(GB_list_GBenergy_list[i])\n",
    "    curvature_1Dlist_exrandom_remove_0step = []\n",
    "    velocity_1Dlist_exrandom_remove_0step = []\n",
    "    GBenergy_1Dlist_exrandom_remove_0step = []\n",
    "    for i in range(0,len(GB_list_velocity_list_exrandom)): \n",
    "        curvature_1Dlist_exrandom_remove_0step.extend(GB_list_curvature_list_exrandom[i])\n",
    "        velocity_1Dlist_exrandom_remove_0step.extend(GB_list_velocity_list_exrandom[i])\n",
    "        GBenergy_1Dlist_exrandom_remove_0step.extend(GB_list_GBenergy_list_exrandom[i])\n",
    "    \n",
    "    # ignore the sign of curvature\n",
    "    for i in range(len(curvature_1Dlist_exrandom_remove_0step)):\n",
    "        if curvature_1Dlist_exrandom_remove_0step[i]<0: \n",
    "            curvature_1Dlist_exrandom_remove_0step[i] = - curvature_1Dlist_exrandom_remove_0step[i]\n",
    "            velocity_1Dlist_exrandom_remove_0step[i] = - velocity_1Dlist_exrandom_remove_0step[i]\n",
    "    velocity_1Dlist_exrandom_remove_0step = np.array(velocity_1Dlist_exrandom_remove_0step)\n",
    "    curvature_1Dlist_exrandom_remove_0step = np.array(curvature_1Dlist_exrandom_remove_0step)\n",
    "            \n",
    "    figure_name_all = f\"figures/3D_velocity_signedcurvature_{case_name}_5d.png\"\n",
    "    plt.figure()\n",
    "    fig = plt.figure(figsize=(5, 5))\n",
    "    plt.plot([curvature_limit,0.1],[0,0],'-',color='grey',linewidth=2)\n",
    "    plt.scatter(curvature_1Dlist_exrandom_remove_0step[velocity_1Dlist_exrandom_remove_0step>0], velocity_1Dlist_exrandom_remove_0step[velocity_1Dlist_exrandom_remove_0step>0],s=4,alpha=0.5)\n",
    "    plt.scatter(curvature_1Dlist_exrandom_remove_0step[velocity_1Dlist_exrandom_remove_0step<0], velocity_1Dlist_exrandom_remove_0step[velocity_1Dlist_exrandom_remove_0step<0],s=4,alpha=0.5,color='C01')\n",
    "    plt.xlabel(\"curvature\", fontsize=20)\n",
    "    plt.ylabel(\"velocity (voxel/step)\", fontsize=20)\n",
    "    plt.xlim([curvature_limit,0.1])\n",
    "    plt.ylim([-2.0,2.0])\n",
    "    plt.savefig(figure_name_all, dpi=400,bbox_inches='tight')\n",
    "    \n",
    "    # plot velocity VS averaged curvature\n",
    "    bin_interval = 0.001\n",
    "    x_lim = [0.0,0.1]\n",
    "    bin_number = int((x_lim[1]-x_lim[0])/bin_interval)\n",
    "    curvature_coordinate = np.arange(x_lim[0],x_lim[1],bin_interval)+bin_interval/2\n",
    "\n",
    "    curvature_bin = np.zeros(bin_number)\n",
    "    velocity_bin = np.zeros(bin_number)\n",
    "    for index in range(len(curvature_1Dlist_exrandom_remove_0step)):\n",
    "        if abs(curvature_1Dlist_exrandom_remove_0step[index])>x_lim[1]: continue\n",
    "        curvature_bin[int((curvature_1Dlist_exrandom_remove_0step[index]-x_lim[0])//bin_interval)] += 1\n",
    "        velocity_bin[int((curvature_1Dlist_exrandom_remove_0step[index]-x_lim[0])//bin_interval)] += velocity_1Dlist_exrandom_remove_0step[index]\n",
    "    for i in range(bin_number): \n",
    "        if curvature_bin[i]>0: velocity_bin[i] = velocity_bin[i]/curvature_bin[i]\n",
    "    # plot\n",
    "    figure_name_all_bin = f\"figures/3D_velocity_signedcurvature_{case_name}_5d_afterBin.png\"\n",
    "    plt.figure()\n",
    "    fig = plt.figure(figsize=(7, 7))\n",
    "    # plt.scatter(curvature_coordinate, velocity_bin,s=4,alpha=0.5)\n",
    "    plt.xlim([curvature_limit,0.1])\n",
    "    plt.ylim([-1,1])\n",
    "    plt.plot(curvature_coordinate[velocity_bin!=0], velocity_bin[velocity_bin!=0],'o', linewidth=2)\n",
    "    plt.xlabel(\"curvature\", fontsize=18)\n",
    "    plt.ylabel(\"velocity (voxel/step)\", fontsize=18)\n",
    "    plt.savefig(figure_name_all_bin, dpi=400,bbox_inches='tight')\n"
   ]
  },
  {
   "cell_type": "code",
   "execution_count": 13,
   "id": "2f952603-c1b8-4aae-8900-25fef984672d",
   "metadata": {
    "tags": []
   },
   "outputs": [
    {
     "name": "stdout",
     "output_type": "stream",
     "text": [
      "0.17560475\n",
      "0.0\n",
      "2.1511212872276366\n"
     ]
    },
    {
     "data": {
      "text/plain": [
       "Text(0, 0.5, 'num of site')"
      ]
     },
     "execution_count": 13,
     "metadata": {},
     "output_type": "execute_result"
    },
    {
     "data": {
      "text/plain": [
       "<Figure size 432x288 with 0 Axes>"
      ]
     },
     "metadata": {},
     "output_type": "display_data"
    },
    {
     "data": {
      "image/png": "[encoded data removed]",
      "text/plain": [
       "<Figure size 504x504 with 1 Axes>"
      ]
     },
     "metadata": {
      "needs_background": "light"
     },
     "output_type": "display_data"
    },
    {
     "data": {
      "text/plain": [
       "<Figure size 432x288 with 0 Axes>"
      ]
     },
     "metadata": {},
     "output_type": "display_data"
    },
    {
     "data": {
      "image/png": "[encoded data removed]",
      "text/plain": [
       "<Figure size 504x504 with 1 Axes>"
      ]
     },
     "metadata": {
      "needs_background": "light"
     },
     "output_type": "display_data"
    },
    {
     "data": {
      "text/plain": [
       "<Figure size 432x288 with 0 Axes>"
      ]
     },
     "metadata": {},
     "output_type": "display_data"
    },
    {
     "data": {
      "image/png": "[encoded data removed]",
      "text/plain": [
       "<Figure size 504x504 with 1 Axes>"
      ]
     },
     "metadata": {
      "needs_background": "light"
     },
     "output_type": "display_data"
    },
    {
     "data": {
      "text/plain": [
       "<Figure size 432x288 with 0 Axes>"
      ]
     },
     "metadata": {},
     "output_type": "display_data"
    },
    {
     "data": {
      "image/png": "[encoded data removed]",
      "text/plain": [
       "<Figure size 504x504 with 1 Axes>"
      ]
     },
     "metadata": {
      "needs_background": "light"
     },
     "output_type": "display_data"
    },
    {
     "data": {
      "text/plain": [
       "<Figure size 432x288 with 0 Axes>"
      ]
     },
     "metadata": {},
     "output_type": "display_data"
    },
    {
     "data": {
      "image/png": "[encoded data removed]",
      "text/plain": [
       "<Figure size 504x504 with 1 Axes>"
      ]
     },
     "metadata": {
      "needs_background": "light"
     },
     "output_type": "display_data"
    }
   ],
   "source": [
    "\n",
    "    figure_name_all = f\"figures/3D_velocity_GBenergy_{case_name}_5d.png\"\n",
    "    plt.figure()\n",
    "    fig = plt.figure(figsize=(7, 7))\n",
    "    plt.scatter(GBenergy_1Dlist_exrandom_remove_0step, velocity_1Dlist_exrandom_remove_0step,s=4,alpha=0.5,label='All GBs')\n",
    "    GB_antic_list_GBenergy_list = np.array(GB_antic_list_GBenergy_list)\n",
    "    GB_antic_list_velocity_list = np.array(GB_antic_list_velocity_list)\n",
    "    GB_antic_list_anticNum_array = np.array(GB_antic_list_anticNum_list)\n",
    "    plt.scatter(GB_antic_list_GBenergy_list[GB_antic_list_anticNum_array>=5], GB_antic_list_velocity_list[GB_antic_list_anticNum_array>=5],s=4,alpha=0.5,label='anti-c GBs(5 steps)')\n",
    "    plt.xlabel(\"GB energy\", fontsize=18)\n",
    "    plt.ylabel(\"velocity (voxel/step)\", fontsize=18)\n",
    "    plt.xlim([0.3,1.0])\n",
    "    plt.ylim([-2,2])\n",
    "    plt.legend(fontsize=18)\n",
    "    plt.savefig(figure_name_all, dpi=400,bbox_inches='tight')\n",
    "    \n",
    "    # plot velocity VS averaged GBenergy\n",
    "    bin_interval = 0.01\n",
    "    x_lim = [0.25,1.0]\n",
    "    bin_number = int((x_lim[1]-x_lim[0])/bin_interval)\n",
    "    GBenergy_coordinate = np.arange(x_lim[0],x_lim[1],bin_interval)+bin_interval/2\n",
    "\n",
    "    GBenergy_bin = np.zeros(bin_number)\n",
    "    velocity_bin = np.zeros(bin_number)\n",
    "    antic_num_bin = np.zeros(bin_number)\n",
    "    for index in range(len(GBenergy_1Dlist_exrandom_remove_0step)):\n",
    "        if abs(GBenergy_1Dlist_exrandom_remove_0step[index])>=1.0: continue\n",
    "        GBenergy_bin[int((GBenergy_1Dlist_exrandom_remove_0step[index]-x_lim[0])//bin_interval)] += 1\n",
    "        velocity_bin[int((GBenergy_1Dlist_exrandom_remove_0step[index]-x_lim[0])//bin_interval)] += velocity_1Dlist_exrandom_remove_0step[index]\n",
    "        if velocity_1Dlist_exrandom_remove_0step[index] < 0: antic_num_bin[int((GBenergy_1Dlist_exrandom_remove_0step[index]-x_lim[0])//bin_interval)] += 1\n",
    "        if int((GBenergy_1Dlist_exrandom_remove_0step[index]-x_lim[0])//bin_interval)<0: print(GBenergy_1Dlist_exrandom_remove_0step[index])\n",
    "    for i in range(bin_number): \n",
    "        if GBenergy_bin[i]>0: velocity_bin[i] = velocity_bin[i]/GBenergy_bin[i]\n",
    "    # plot\n",
    "    figure_name_all_bin = f\"figures/3D_velocity_GBenergy_{case_name}_5d_afterBin.png\"\n",
    "    plt.figure()\n",
    "    fig = plt.figure(figsize=(7, 7))\n",
    "    # plt.scatter(GBenergy_coordinate, velocity_bin,s=4,alpha=0.5)\n",
    "    plt.xlim([0.3,1.0])\n",
    "    plt.ylim([-1,1])\n",
    "    plt.plot(GBenergy_coordinate[velocity_bin!=0], velocity_bin[velocity_bin!=0],'o', linewidth=2)\n",
    "    plt.xlabel(\"GB energy\", fontsize=18)\n",
    "    plt.ylabel(\"velocity (voxel/step)\", fontsize=18)\n",
    "    plt.savefig(figure_name_all_bin, dpi=400,bbox_inches='tight')\n",
    "    \n",
    "    plt.figure()\n",
    "    fig = plt.figure(figsize=(7, 7))\n",
    "    plt.xlim([0.3,1.0])\n",
    "    plt.ylim([0,0.15])\n",
    "    plt.plot(GBenergy_coordinate, GBenergy_bin/np.sum(GBenergy_bin),'-', linewidth=2)\n",
    "    plt.xlabel(\"GB energy\", fontsize=18)\n",
    "    plt.ylabel(\"distribution\", fontsize=18)\n",
    "    \n",
    "    antic_ratio_bin = np.zeros(bin_number)\n",
    "    for bin_i in range(len(GBenergy_bin)):\n",
    "        if GBenergy_bin[bin_i] > 0: antic_ratio_bin[bin_i] = antic_num_bin[bin_i]/GBenergy_bin[bin_i]\n",
    "    plt.figure()\n",
    "    fig = plt.figure(figsize=(7, 7))\n",
    "    plt.xlim([0.3,1.0])\n",
    "    plt.ylim([0,0.5])\n",
    "    plt.plot(GBenergy_coordinate[antic_ratio_bin>0], antic_ratio_bin[antic_ratio_bin>0],'o', linewidth=2)\n",
    "    plt.xlabel(\"GB energy\", fontsize=18)\n",
    "    plt.ylabel(\"anti-c fraction\", fontsize=18)\n",
    "    \n",
    "    anti_c_data_file_name = f\"data/3D_antic_data_{case_name}\"\n",
    "    np.savez(anti_c_data_file_name,antic_ratio_bin=antic_ratio_bin,GBenergy_bin=GBenergy_bin)\n",
    "    \n",
    "    GBenergy_coordinate_larger0 = GBenergy_coordinate[antic_ratio_bin>0]\n",
    "    delta_n = -0.66*np.log(antic_ratio_bin[antic_ratio_bin>0])/GBenergy_coordinate[antic_ratio_bin>0]\n",
    "    mean_delta_n = np.mean(delta_n)\n",
    "    mean_delta_n_2 = np.sum(delta_n*GBenergy_bin[antic_ratio_bin>0]/np.sum(GBenergy_bin[antic_ratio_bin>0]))\n",
    "    print(mean_delta_n_2)\n",
    "    plt.figure()\n",
    "    fig = plt.figure(figsize=(7, 7))\n",
    "    plt.xlim([0.3,1.0])\n",
    "    plt.ylim([0,5])\n",
    "    plt.plot(GBenergy_coordinate_larger0, delta_n,'o', linewidth=2, label = 'results')\n",
    "    plt.plot(GBenergy_coordinate_larger0, mean_delta_n*np.ones(len(GBenergy_coordinate_larger0)),'--',linewidth=2,color='gray',label=f'mean-{round(mean_delta_n,2)}')\n",
    "    plt.legend(fontsize=18)\n",
    "    plt.xlabel(\"GB energy\", fontsize=18)\n",
    "    plt.ylabel(\"num of site\", fontsize=18)\n",
    "        \n"
   ]
  },
  {
   "cell_type": "code",
   "execution_count": null,
   "id": "a02be276-7b6a-4ee7-975b-23800e3f3269",
   "metadata": {
    "tags": []
   },
   "outputs": [],
   "source": []
  },
  {
   "cell_type": "code",
   "execution_count": null,
   "id": "ae445608-f2f7-48ad-9190-a9f112608900",
   "metadata": {},
   "outputs": [],
   "source": []
  },
  {
   "cell_type": "code",
   "execution_count": null,
   "id": "4bb80fb6-c8cf-4c92-b846-5ac2ada48165",
   "metadata": {},
   "outputs": [],
   "source": [
    "    # Plot relationship for each time steps\n",
    "    for time_step in range(0,len(GB_list_velocity_list),10):\n",
    "        figure_name = f\"figures/3D_velocity_signedcurvature_MI_step{time_step}_{case_name}.png\"\n",
    "        plt.figure()\n",
    "        fig = plt.figure(figsize=(7, 7))\n",
    "        plt.scatter(GB_list_curvature_list[time_step], GB_list_velocity_list[time_step],s=4,alpha=0.5)\n",
    "        plt.xlabel(\"curvature\", fontsize=18)\n",
    "        plt.ylabel(\"velocity (voxel/step)\", fontsize=18)\n",
    "        plt.xlim([-0.6,0.6])\n",
    "        plt.ylim([-10,10])\n",
    "        # plt.savefig(figure_name, dpi=400,bbox_inches='tight')\n",
    "        \n",
    "        # plot velocity VS averaged curvature\n",
    "        bin_interval = 0.001\n",
    "        x_lim = [0.0,0.1]\n",
    "        bin_number = int((x_lim[1]-x_lim[0])/bin_interval)\n",
    "        curvature_coordinate = np.arange(x_lim[0],x_lim[1],bin_interval)+bin_interval/2\n",
    "\n",
    "        curvature_bin = np.zeros(bin_number)\n",
    "        velocity_bin = np.zeros(bin_number)\n",
    "        for index in range(len(GB_list_curvature_list[time_step])):\n",
    "            if abs(GB_list_curvature_list[time_step][index])>x_lim[1]: continue\n",
    "            curvature_bin[int((GB_list_curvature_list[time_step][index]-x_lim[0])//bin_interval)] += 1\n",
    "            velocity_bin[int((GB_list_curvature_list[time_step][index]-x_lim[0])//bin_interval)] += GB_list_velocity_list[time_step][index]\n",
    "        for i in range(bin_number): \n",
    "            if curvature_bin[i]>0: velocity_bin[i] = velocity_bin[i]/curvature_bin[i]\n",
    "        # plot\n",
    "        figure_name_all_bin = f\"figures/3D_velocity_signedcurvature_step{time_step}_{case_name}_afterBin.png\"\n",
    "        plt.figure()\n",
    "        fig = plt.figure(figsize=(7, 7))\n",
    "        # plt.scatter(curvature_coordinate, velocity_bin,s=4,alpha=0.5)\n",
    "        plt.plot(curvature_coordinate, velocity_bin,'o', linewidth=2)\n",
    "        plt.xlabel(\"curvature\", fontsize=18)\n",
    "        plt.ylabel(\"velocity (voxel/step)\", fontsize=18)\n",
    "        plt.xlim([-0.6,0.6])\n",
    "        plt.ylim([-5,5])\n",
    "        # plt.savefig(figure_name_all_bin, dpi=400,bbox_inches='tight')"
   ]
  },
  {
   "cell_type": "markdown",
   "id": "29d8158d-5d09-4363-b3e8-1a7d857a34ba",
   "metadata": {
    "tags": []
   },
   "source": [
    "## 2D case"
   ]
  },
  {
   "cell_type": "code",
   "execution_count": 2,
   "id": "f6ac1373-cac0-435c-bc23-f9c1aa0ef8eb",
   "metadata": {},
   "outputs": [
    {
     "name": "stdout",
     "output_type": "stream",
     "text": [
      "The M_20k_fully data size is: (201, 2400, 2400, 1)\n",
      "READING DATA DONE\n",
      "The M_20k_fully data size is: (201, 2400, 2400, 1)\n",
      "READING ENERGY DATA DONE\n"
     ]
    }
   ],
   "source": [
    "if __name__ == '__main__':\n",
    "    # File name\n",
    "    data_file_folder = \"/blue/michael.tonks/lin.yang/VECTOR_data/\"\n",
    "    npy_file_folder = \"/blue/michael.tonks/lin.yang/SPPARKS-VirtualIncEnergy/2d_poly_fully/results/\"\n",
    "    # npy_file_folder = \"/blue/michael.tonks/lin.yang/SPPARKS-VirtualIncEnergy/2d_poly_wellEnergy/results/\"\n",
    "    case_name = \"M_20k_fully\"\n",
    "    npy_file_name_aniso = f\"p_aveE_fz_fully5d_20k_J1_f1.0_t0.0_refer_1_0_0_seed56689_kt0.66.npy\"\n",
    "    # npy_file_name_aniso = f\"p_aveE_20000_Cos_delta0.0_J1_refer_1_0_0_seed56689_kt0.66.npy\"\n",
    "    \n",
    "    npy_file_name_aniso_energy = f\"p_aveE_fz_fully5d_20k_J1_f1.0_t0.0_refer_1_0_0_seed56689_kt0.66_energy.npy\"\n",
    "    # npy_file_name_aniso_energy = f\"p_aveE_20000_Cos_delta0.0_J1_refer_1_0_0_seed56689_kt0.66_energy.npy\"\n",
    "    \n",
    "    # Initial data\n",
    "    npy_file_aniso = np.load(npy_file_folder + npy_file_name_aniso) # microstructure\n",
    "    npy_file_aniso = npy_file_aniso.astype(int)\n",
    "    print(f\"The {case_name} data size is: {npy_file_aniso.shape}\")\n",
    "    print(\"READING DATA DONE\")\n",
    "    npy_file_aniso_energy = np.load(npy_file_folder + npy_file_name_aniso_energy) # energy\n",
    "    print(f\"The {case_name} data size is: {npy_file_aniso_energy.shape}\")\n",
    "    print(\"READING ENERGY DATA DONE\")\n",
    "    step_num, size_x, size_y, size_z = npy_file_aniso.shape"
   ]
  },
  {
   "cell_type": "code",
   "execution_count": 3,
   "id": "7ab679ee-41d7-47d6-8d75-847eeab7fe6b",
   "metadata": {},
   "outputs": [
    {
     "name": "stderr",
     "output_type": "stream",
     "text": [
      "100%|██████████| 121/121 [00:06<00:00, 17.48it/s]\n"
     ]
    }
   ],
   "source": [
    "    # GB information\n",
    "    step_num=121\n",
    "    grain_nums = 20000\n",
    "    GB_infomation_dict_list = []\n",
    "    curvature_matrix_list = []\n",
    "    for time_step in tqdm(range(step_num)):\n",
    "        data_file_name = f\"GB_velocity_data/2D_signedcurvature_velocity_data_{case_name}_step{time_step}.npz\"\n",
    "        data_curvature_file_name = f\"GB_velocity_data/2D_matrix_signedcurvature_data_{case_name}_step{time_step}.npz\"\n",
    "        if os.path.exists(data_file_folder + data_file_name):\n",
    "            npz_file = np.load(data_file_folder + data_file_name,allow_pickle=True)\n",
    "            GB_infomation_dict = npz_file[\"GB_infomation_dict\"]\n",
    "            GB_infomation_dict_list.append(GB_infomation_dict.item())\n",
    "        else:\n",
    "            current_microstructure = npy_file_aniso[time_step]\n",
    "            # get curvature with sign\n",
    "            if os.path.exists(data_file_folder + data_curvature_file_name):\n",
    "                npz_file_curvature = np.load(data_file_folder + data_curvature_file_name)\n",
    "                curvature_matrix = npz_file_curvature[\"curvature_matrix\"]\n",
    "                curvature_matrix_list.append(curvature_matrix)\n",
    "            else:\n",
    "                cores = 128\n",
    "                loop_times = 5\n",
    "                R = np.zeros((size_x,size_y,3))\n",
    "                smoothing_class = linear2d.linear_class(size_x,size_y,grain_nums,cores,loop_times,current_microstructure[:,:,0],R,verification_system = False,curvature_sign = True)\n",
    "                smoothing_class.linear_main(\"curvature\")\n",
    "                C_ln = smoothing_class.get_C()\n",
    "                curvature_matrix = C_ln[1,:]\n",
    "                curvature_matrix_list.append(curvature_matrix)\n",
    "                # save curvature information\n",
    "                # np.savez(data_file_folder + data_curvature_file_name, curvature_matrix=curvature_matrix)\n",
    "            print(\"Finish curvature calculation\")\n",
    "            \n",
    "            # Get TJ and QJ information first\n",
    "            TJ_infomation_dict = dict()\n",
    "            for index, result in np.ndenumerate(current_microstructure):\n",
    "                i,j,k = index\n",
    "                ip,im,jp,jm = myInput.periodic_bc(size_x,size_y,i,j)\n",
    "                if ( ((current_microstructure[ip,j,k]-current_microstructure[i,j,k])!=0) or ((current_microstructure[im,j,k]-current_microstructure[i,j,k])!=0) or\\\n",
    "                     ((current_microstructure[i,jp,k]-current_microstructure[i,j,k])!=0) or ((current_microstructure[i,jm,k]-current_microstructure[i,j,k])!=0) ):\n",
    "                    central_site = int(current_microstructure[i,j,k])\n",
    "                    neighboring_sites_list = np.array([current_microstructure[ip,j,k], current_microstructure[i,jp,k], current_microstructure[im,j,k], current_microstructure[i,jm,k]]).astype(int)\n",
    "                    neighboring_sites_set = set(neighboring_sites_list) # Get all unique neighboring sites\n",
    "                    if central_site in neighboring_sites_set: neighboring_sites_set.remove(central_site) # remove central site\n",
    "                    neighboring_sites_list_unque = list(neighboring_sites_set)\n",
    "                    # remove the TJs and QJs\n",
    "                    if len(neighboring_sites_list_unque) > 1: \n",
    "                        for m in range(len(neighboring_sites_list_unque)):\n",
    "                            pair_id = post_processing.get_line(central_site, neighboring_sites_list_unque[m]) # get pair id\n",
    "                            if pair_id in TJ_infomation_dict:\n",
    "                                tmp = TJ_infomation_dict[pair_id]\n",
    "                                tmp.append([i,j,k])\n",
    "                                TJ_infomation_dict[pair_id] = tmp\n",
    "                            else: \n",
    "                                TJ_infomation_dict[pair_id] = [[i,j,k]]\n",
    "            print(\"Finish TJ extraction\")\n",
    "            \n",
    "            # Get the center of each GB\n",
    "            GB_infomation_dict = dict()\n",
    "            TJ_distance_max = 6 # voxels\n",
    "            for index, result in np.ndenumerate(current_microstructure):\n",
    "                i,j,k = index\n",
    "                ip,im,jp,jm = myInput.periodic_bc(size_x,size_y,i,j)\n",
    "                if ( ((current_microstructure[ip,j,k]-current_microstructure[i,j,k])!=0) or ((current_microstructure[im,j,k]-current_microstructure[i,j,k])!=0) or\\\n",
    "                     ((current_microstructure[i,jp,k]-current_microstructure[i,j,k])!=0) or ((current_microstructure[i,jm,k]-current_microstructure[i,j,k])!=0) ):\n",
    "                    central_site = int(current_microstructure[i,j,k])\n",
    "                    neighboring_sites_list = np.array([current_microstructure[ip,j,k], current_microstructure[i,jp,k], current_microstructure[im,j,k], current_microstructure[i,jm,k]]).astype(int)\n",
    "                    neighboring_sites_set = set(neighboring_sites_list) # Get all unique neighboring sites\n",
    "                    if central_site in neighboring_sites_set: neighboring_sites_set.remove(central_site) # remove central site\n",
    "                    neighboring_sites_list_unque = list(neighboring_sites_set)\n",
    "                    # remove the TJs and QJs\n",
    "                    if len(neighboring_sites_list_unque) > 1: continue # only remove TJs and QJs\n",
    "                    # CONTINUE...    # remove the voxels around TJs and QJs\n",
    "                    # check the GB voxels is close to TJ or not\n",
    "                    break_point = 0\n",
    "                    pair_id = post_processing.get_line(central_site, neighboring_sites_list_unque[0]) # get pair id\n",
    "                    if central_site<neighboring_sites_list_unque[0]: pair_id_pair = [central_site, neighboring_sites_list_unque[0]]\n",
    "                    else: pair_id_pair = [neighboring_sites_list_unque[0], central_site]\n",
    "                    if pair_id in GB_infomation_dict:\n",
    "                        GB_infomation_dict[pair_id][5] += 1 # GB area\n",
    "                    else:\n",
    "                        GB_infomation = np.array([0,0,0,0,0.0,1,pair_id_pair[0],pair_id_pair[1]]) # GBnum-curvature,i,j,k,curvature,GBnum,gid0,gid1\n",
    "                        GB_infomation_dict[pair_id] = GB_infomation\n",
    "                    if pair_id in TJ_infomation_dict:\n",
    "                        for TJ_site in TJ_infomation_dict[pair_id]:\n",
    "                            TJ_distance = np.linalg.norm(index-np.array(TJ_site))\n",
    "                            if TJ_distance < TJ_distance_max: \n",
    "                                break_point = 1\n",
    "                                break\n",
    "                    if break_point == 1: continue\n",
    "                    # calculate or extract misorientation\n",
    "                    # if pair_id in GB_infomation_dict:\n",
    "                    GB_infomation_dict[pair_id][0] += 1\n",
    "                    if central_site == pair_id_pair[0]:\n",
    "                        GB_infomation_dict[pair_id][1:5] += np.array([i,j,k,curvature_matrix[i,j]])\n",
    "                    else:\n",
    "                        GB_infomation_dict[pair_id][1:5] += np.array([i,j,k,-curvature_matrix[i,j]])\n",
    "                    \n",
    "            # get the correct location for each GB\n",
    "            small_GB_list = []\n",
    "            for key in GB_infomation_dict: \n",
    "                if GB_infomation_dict[key][0] == 0: \n",
    "                    small_GB_list.append(key) # remove the small GB with 0 voxels after remove voxels close to TJs\n",
    "            for s_index in range(len(small_GB_list)): GB_infomation_dict.pop(small_GB_list[s_index])\n",
    "            for key in GB_infomation_dict: \n",
    "                GB_infomation_dict[key][1:5]=GB_infomation_dict[key][1:5]/GB_infomation_dict[key][0]\n",
    "            print(f\"Current GBs len at {time_step} steps: {len(GB_infomation_dict)}\")\n",
    "            # save information\n",
    "            np.savez(data_file_folder + data_file_name, GB_infomation_dict=GB_infomation_dict)\n",
    "            GB_infomation_dict_list.append(GB_infomation_dict)"
   ]
  },
  {
   "cell_type": "code",
   "execution_count": 4,
   "id": "1c863c6b-9fd9-45b7-b4ca-b9188479c80d",
   "metadata": {},
   "outputs": [
    {
     "name": "stderr",
     "output_type": "stream",
     "text": [
      "100%|██████████| 121/121 [00:08<00:00, 13.68it/s]\n"
     ]
    }
   ],
   "source": [
    "    # GB Energy information\n",
    "    step_num=121\n",
    "    grain_nums = 20000\n",
    "    GBenergy_information_dict_list = []\n",
    "    for time_step in tqdm(range(step_num)):\n",
    "        data_file_name_GBenergy = f\"GB_velocity_data/2D_GBenergy_velocity_data_{case_name}_step{time_step}.npz\"\n",
    "        if os.path.exists(data_file_folder + data_file_name_GBenergy):\n",
    "            npz_file = np.load(data_file_folder + data_file_name_GBenergy,allow_pickle=True)\n",
    "            GBenergy_information_dict = npz_file[\"GBenergy_information_dict\"]\n",
    "            GBenergy_information_dict_list.append(GBenergy_information_dict.item())\n",
    "        else:\n",
    "            current_microstructure = npy_file_aniso[time_step]\n",
    "            current_energy = npy_file_aniso_energy[time_step]\n",
    "\n",
    "            # Get TJ and QJ information first\n",
    "            TJ_infomation_dict = dict()\n",
    "            for index, result in np.ndenumerate(current_microstructure):\n",
    "                i,j,k = index\n",
    "                ip,im,jp,jm = myInput.periodic_bc(size_x,size_y,i,j)\n",
    "                if ( ((current_microstructure[ip,j,k]-current_microstructure[i,j,k])!=0) or ((current_microstructure[im,j,k]-current_microstructure[i,j,k])!=0) or\\\n",
    "                     ((current_microstructure[i,jp,k]-current_microstructure[i,j,k])!=0) or ((current_microstructure[i,jm,k]-current_microstructure[i,j,k])!=0) ):\n",
    "                    central_site = int(current_microstructure[i,j,k])\n",
    "                    neighboring_sites_list = np.array([current_microstructure[ip,j,k], current_microstructure[i,jp,k], current_microstructure[im,j,k], current_microstructure[i,jm,k]]).astype(int)\n",
    "                    neighboring_sites_set = set(neighboring_sites_list) # Get all unique neighboring sites\n",
    "                    if central_site in neighboring_sites_set: neighboring_sites_set.remove(central_site) # remove central site\n",
    "                    neighboring_sites_list_unque = list(neighboring_sites_set)\n",
    "                    # remove the TJs and QJs\n",
    "                    if len(neighboring_sites_list_unque) > 1: \n",
    "                        for m in range(len(neighboring_sites_list_unque)):\n",
    "                            pair_id = post_processing.get_line(central_site, neighboring_sites_list_unque[m]) # get pair id\n",
    "                            if pair_id in TJ_infomation_dict:\n",
    "                                tmp = TJ_infomation_dict[pair_id]\n",
    "                                tmp.append([i,j,k])\n",
    "                                TJ_infomation_dict[pair_id] = tmp\n",
    "                            else: \n",
    "                                TJ_infomation_dict[pair_id] = [[i,j,k]]\n",
    "            print(\"Finish TJ extraction\")\n",
    "\n",
    "            # Get the center of each GB\n",
    "            GBenergy_information_dict = dict()\n",
    "            TJ_distance_max = 6 # voxels\n",
    "            for index, result in np.ndenumerate(current_microstructure):\n",
    "                i,j,k = index\n",
    "                ip,im,jp,jm = myInput.periodic_bc(size_x,size_y,i,j)\n",
    "                if ( ((current_microstructure[ip,j,k]-current_microstructure[i,j,k])!=0) or ((current_microstructure[im,j,k]-current_microstructure[i,j,k])!=0) or\\\n",
    "                     ((current_microstructure[i,jp,k]-current_microstructure[i,j,k])!=0) or ((current_microstructure[i,jm,k]-current_microstructure[i,j,k])!=0) ):\n",
    "                    central_site = int(current_microstructure[i,j,k])\n",
    "                    neighboring_sites_list = np.array([current_microstructure[ip,j,k], current_microstructure[i,jp,k], current_microstructure[im,j,k], current_microstructure[i,jm,k]]).astype(int)\n",
    "                    neighboring_sites_set = set(neighboring_sites_list) # Get all unique neighboring sites\n",
    "                    if central_site in neighboring_sites_set: neighboring_sites_set.remove(central_site) # remove central site\n",
    "                    neighboring_sites_list_unque = list(neighboring_sites_set)\n",
    "                    num_other_sites = 0\n",
    "                    neighboring_sites_full_list = np.array([current_microstructure[ip,jp,k], current_microstructure[ip,j,k], current_microstructure[ip,jm,k], current_microstructure[i,jp,k], current_microstructure[i,jm,k], current_microstructure[im,jp,k], current_microstructure[im,j,k], current_microstructure[im,jm,k]]).astype(int)\n",
    "                    for neigh_site in neighboring_sites_full_list:\n",
    "                        if neigh_site != central_site: num_other_sites += 1 # get the sites num different with central id\n",
    "                    # remove the TJs and QJs\n",
    "                    if len(neighboring_sites_list_unque) > 1: continue # only remove TJs and QJs\n",
    "                    # CONTINUE...    # remove the voxels around TJs and QJs\n",
    "                    # check the GB voxels is close to TJ or not\n",
    "                    break_point = 0\n",
    "                    pair_id = post_processing.get_line(central_site, neighboring_sites_list_unque[0]) # get pair id\n",
    "                    if central_site<neighboring_sites_list_unque[0]: pair_id_pair = [central_site, neighboring_sites_list_unque[0]]\n",
    "                    else: pair_id_pair = [neighboring_sites_list_unque[0], central_site]\n",
    "                    if pair_id in GBenergy_information_dict:\n",
    "                        GBenergy_information_dict[pair_id][5] += 1 # GB area\n",
    "                    else:\n",
    "                        GB_infomation = np.array([0,0,0,0,0.0,1,pair_id_pair[0],pair_id_pair[1]]) # GBnum-energy,i,j,k,GB energy,GBnum,gid0,gid1\n",
    "                        GBenergy_information_dict[pair_id] = GB_infomation\n",
    "                    if pair_id in TJ_infomation_dict:\n",
    "                        for TJ_site in TJ_infomation_dict[pair_id]:\n",
    "                            TJ_distance = np.linalg.norm(index-np.array(TJ_site))\n",
    "                            if TJ_distance < TJ_distance_max: \n",
    "                                break_point = 1\n",
    "                                break\n",
    "                    if break_point == 1: continue\n",
    "                    # calculate or extract misorientation\n",
    "                    # if pair_id in GBenergy_information_dict:\n",
    "                    GBenergy_information_dict[pair_id][0] += 1\n",
    "                    GBenergy_information_dict[pair_id][1:5] += np.array([i,j,k,current_energy[i,j,k]/num_other_sites])\n",
    "\n",
    "            # get the correct location for each GB\n",
    "            small_GB_list = []\n",
    "            for key in GBenergy_information_dict: \n",
    "                if GBenergy_information_dict[key][0] == 0: \n",
    "                    small_GB_list.append(key) # remove the small GB with 0 voxels after remove voxels close to TJs\n",
    "            for s_index in range(len(small_GB_list)): GBenergy_information_dict.pop(small_GB_list[s_index])\n",
    "            for key in GBenergy_information_dict: \n",
    "                GBenergy_information_dict[key][1:5]=GBenergy_information_dict[key][1:5]/GBenergy_information_dict[key][0]\n",
    "            print(f\"Current GBs len at {time_step} steps: {len(GBenergy_information_dict)}\")\n",
    "            # save information\n",
    "            np.savez(data_file_folder + data_file_name_GBenergy, GBenergy_information_dict=GBenergy_information_dict)\n",
    "            GBenergy_information_dict_list.append(GBenergy_information_dict)"
   ]
  },
  {
   "cell_type": "code",
   "execution_count": 7,
   "id": "6aa1a164-84e3-47ae-a192-fd7d956f6a2e",
   "metadata": {},
   "outputs": [
    {
     "name": "stderr",
     "output_type": "stream",
     "text": [
      "100%|██████████| 22827/22827 [00:00<00:00, 1969501.52it/s]\n"
     ]
    },
    {
     "name": "stdout",
     "output_type": "stream",
     "text": [
      "finish 0 with num of GBs 0, and collected num of GBs 0\n"
     ]
    },
    {
     "name": "stderr",
     "output_type": "stream",
     "text": [
      "100%|██████████| 17980/17980 [00:00<00:00, 1710485.29it/s]\n"
     ]
    },
    {
     "name": "stdout",
     "output_type": "stream",
     "text": [
      "finish 1 with num of GBs 0, and collected num of GBs 0\n"
     ]
    },
    {
     "name": "stderr",
     "output_type": "stream",
     "text": [
      "100%|██████████| 15113/15113 [00:00<00:00, 89061.34it/s]\n"
     ]
    },
    {
     "name": "stdout",
     "output_type": "stream",
     "text": [
      "finish 2 with num of GBs 6, and collected num of GBs 4\n"
     ]
    },
    {
     "name": "stderr",
     "output_type": "stream",
     "text": [
      "100%|██████████| 22827/22827 [00:00<00:00, 1896096.20it/s]\n",
      "100%|██████████| 12583/12583 [00:00<00:00, 15922.10it/s]\n"
     ]
    },
    {
     "name": "stdout",
     "output_type": "stream",
     "text": [
      "finish 3 with num of GBs 30, and collected num of GBs 6\n"
     ]
    },
    {
     "name": "stderr",
     "output_type": "stream",
     "text": [
      "100%|██████████| 17980/17980 [00:00<00:00, 1740005.67it/s]\n",
      "100%|██████████| 10819/10819 [00:02<00:00, 4937.68it/s]\n"
     ]
    },
    {
     "name": "stdout",
     "output_type": "stream",
     "text": [
      "finish 4 with num of GBs 84, and collected num of GBs 20\n"
     ]
    },
    {
     "name": "stderr",
     "output_type": "stream",
     "text": [
      "100%|██████████| 15113/15113 [00:00<00:00, 108976.58it/s]\n",
      "100%|██████████| 9392/9392 [00:04<00:00, 2293.87it/s]\n"
     ]
    },
    {
     "name": "stdout",
     "output_type": "stream",
     "text": [
      "finish 5 with num of GBs 157, and collected num of GBs 51\n"
     ]
    },
    {
     "name": "stderr",
     "output_type": "stream",
     "text": [
      "100%|██████████| 12583/12583 [00:00<00:00, 16434.34it/s]\n",
      "100%|██████████| 8408/8408 [00:06<00:00, 1313.07it/s]\n"
     ]
    },
    {
     "name": "stdout",
     "output_type": "stream",
     "text": [
      "finish 6 with num of GBs 247, and collected num of GBs 104\n"
     ]
    },
    {
     "name": "stderr",
     "output_type": "stream",
     "text": [
      "100%|██████████| 10819/10819 [00:01<00:00, 5787.73it/s]\n",
      "100%|██████████| 7568/7568 [00:08<00:00, 860.93it/s] \n"
     ]
    },
    {
     "name": "stdout",
     "output_type": "stream",
     "text": [
      "finish 7 with num of GBs 326, and collected num of GBs 160\n"
     ]
    },
    {
     "name": "stderr",
     "output_type": "stream",
     "text": [
      "100%|██████████| 9392/9392 [00:03<00:00, 2578.36it/s]\n",
      "100%|██████████| 6808/6808 [00:10<00:00, 644.26it/s]\n"
     ]
    },
    {
     "name": "stdout",
     "output_type": "stream",
     "text": [
      "finish 8 with num of GBs 393, and collected num of GBs 219\n"
     ]
    },
    {
     "name": "stderr",
     "output_type": "stream",
     "text": [
      "100%|██████████| 8408/8408 [00:05<00:00, 1443.73it/s]\n",
      "100%|██████████| 6264/6264 [00:13<00:00, 452.23it/s]\n"
     ]
    },
    {
     "name": "stdout",
     "output_type": "stream",
     "text": [
      "finish 9 with num of GBs 515, and collected num of GBs 303\n"
     ]
    },
    {
     "name": "stderr",
     "output_type": "stream",
     "text": [
      "100%|██████████| 7568/7568 [00:07<00:00, 990.66it/s] \n",
      "100%|██████████| 5744/5744 [00:14<00:00, 384.27it/s]\n"
     ]
    },
    {
     "name": "stdout",
     "output_type": "stream",
     "text": [
      "finish 10 with num of GBs 556, and collected num of GBs 380\n"
     ]
    },
    {
     "name": "stderr",
     "output_type": "stream",
     "text": [
      "100%|██████████| 6808/6808 [00:09<00:00, 717.41it/s] \n",
      "100%|██████████| 5350/5350 [00:17<00:00, 305.16it/s]\n"
     ]
    },
    {
     "name": "stdout",
     "output_type": "stream",
     "text": [
      "finish 11 with num of GBs 645, and collected num of GBs 460\n"
     ]
    },
    {
     "name": "stderr",
     "output_type": "stream",
     "text": [
      "100%|██████████| 6264/6264 [00:11<00:00, 522.13it/s]\n",
      "100%|██████████| 5042/5042 [00:18<00:00, 269.12it/s]\n"
     ]
    },
    {
     "name": "stdout",
     "output_type": "stream",
     "text": [
      "finish 12 with num of GBs 705, and collected num of GBs 537\n"
     ]
    },
    {
     "name": "stderr",
     "output_type": "stream",
     "text": [
      "100%|██████████| 5744/5744 [00:13<00:00, 425.60it/s]\n",
      "100%|██████████| 4702/4702 [00:20<00:00, 224.34it/s]\n"
     ]
    },
    {
     "name": "stdout",
     "output_type": "stream",
     "text": [
      "finish 13 with num of GBs 770, and collected num of GBs 624\n"
     ]
    },
    {
     "name": "stderr",
     "output_type": "stream",
     "text": [
      "100%|██████████| 5350/5350 [00:16<00:00, 334.23it/s]\n",
      "100%|██████████| 4406/4406 [00:22<00:00, 198.43it/s]\n"
     ]
    },
    {
     "name": "stdout",
     "output_type": "stream",
     "text": [
      "finish 14 with num of GBs 809, and collected num of GBs 694\n"
     ]
    },
    {
     "name": "stderr",
     "output_type": "stream",
     "text": [
      "100%|██████████| 5042/5042 [00:17<00:00, 290.97it/s]\n",
      "100%|██████████| 4142/4142 [00:23<00:00, 176.03it/s]\n"
     ]
    },
    {
     "name": "stdout",
     "output_type": "stream",
     "text": [
      "finish 15 with num of GBs 863, and collected num of GBs 787\n"
     ]
    },
    {
     "name": "stderr",
     "output_type": "stream",
     "text": [
      "100%|██████████| 4702/4702 [00:18<00:00, 247.90it/s]\n",
      "100%|██████████| 3886/3886 [00:24<00:00, 156.15it/s]\n"
     ]
    },
    {
     "name": "stdout",
     "output_type": "stream",
     "text": [
      "finish 16 with num of GBs 913, and collected num of GBs 859\n"
     ]
    },
    {
     "name": "stderr",
     "output_type": "stream",
     "text": [
      "100%|██████████| 3886/3886 [00:22<00:00, 170.84it/s]\n",
      "100%|██████████| 3352/3352 [00:25<00:00, 128.99it/s]\n"
     ]
    },
    {
     "name": "stdout",
     "output_type": "stream",
     "text": [
      "finish 19 with num of GBs 953, and collected num of GBs 1047\n"
     ]
    },
    {
     "name": "stderr",
     "output_type": "stream",
     "text": [
      "100%|██████████| 3696/3696 [00:23<00:00, 156.67it/s]\n",
      "100%|██████████| 2905/2905 [00:27<00:00, 106.96it/s]\n"
     ]
    },
    {
     "name": "stdout",
     "output_type": "stream",
     "text": [
      "finish 22 with num of GBs 994, and collected num of GBs 1211\n"
     ]
    },
    {
     "name": "stderr",
     "output_type": "stream",
     "text": [
      "100%|██████████| 3190/3190 [00:25<00:00, 127.39it/s]\n",
      "100%|██████████| 2823/2823 [00:26<00:00, 104.80it/s]\n"
     ]
    },
    {
     "name": "stdout",
     "output_type": "stream",
     "text": [
      "finish 23 with num of GBs 993, and collected num of GBs 1269\n"
     ]
    },
    {
     "name": "stderr",
     "output_type": "stream",
     "text": [
      "100%|██████████| 3043/3043 [00:24<00:00, 123.25it/s]\n",
      "100%|██████████| 2737/2737 [00:27<00:00, 99.93it/s] \n"
     ]
    },
    {
     "name": "stdout",
     "output_type": "stream",
     "text": [
      "finish 24 with num of GBs 1004, and collected num of GBs 1319\n"
     ]
    },
    {
     "name": "stderr",
     "output_type": "stream",
     "text": [
      "100%|██████████| 2905/2905 [00:24<00:00, 116.42it/s]\n",
      "100%|██████████| 2639/2639 [00:26<00:00, 99.01it/s] \n"
     ]
    },
    {
     "name": "stdout",
     "output_type": "stream",
     "text": [
      "finish 25 with num of GBs 978, and collected num of GBs 1366\n"
     ]
    },
    {
     "name": "stderr",
     "output_type": "stream",
     "text": [
      "100%|██████████| 2823/2823 [00:25<00:00, 112.38it/s]\n",
      "100%|██████████| 2562/2562 [00:26<00:00, 96.55it/s] \n"
     ]
    },
    {
     "name": "stdout",
     "output_type": "stream",
     "text": [
      "finish 26 with num of GBs 975, and collected num of GBs 1401\n"
     ]
    },
    {
     "name": "stderr",
     "output_type": "stream",
     "text": [
      "100%|██████████| 2737/2737 [00:25<00:00, 108.66it/s]\n",
      "100%|██████████| 2457/2457 [00:26<00:00, 92.68it/s] \n"
     ]
    },
    {
     "name": "stdout",
     "output_type": "stream",
     "text": [
      "finish 27 with num of GBs 973, and collected num of GBs 1457\n"
     ]
    },
    {
     "name": "stderr",
     "output_type": "stream",
     "text": [
      "100%|██████████| 2639/2639 [00:24<00:00, 108.95it/s]\n",
      "100%|██████████| 2367/2367 [00:25<00:00, 91.65it/s] \n"
     ]
    },
    {
     "name": "stdout",
     "output_type": "stream",
     "text": [
      "finish 28 with num of GBs 947, and collected num of GBs 1497\n"
     ]
    },
    {
     "name": "stderr",
     "output_type": "stream",
     "text": [
      "100%|██████████| 2562/2562 [00:24<00:00, 104.33it/s]\n",
      " 98%|█████████▊| 2226/2281 [00:25<00:00, 74.18it/s] IOPub message rate exceeded.\n",
      "The Jupyter server will temporarily stop sending output\n",
      "to the client in order to avoid crashing it.\n",
      "To change this limit, set the config variable\n",
      "`--ServerApp.iopub_msg_rate_limit`.\n",
      "\n",
      "Current values:\n",
      "ServerApp.iopub_msg_rate_limit=1000.0 (msgs/sec)\n",
      "ServerApp.rate_limit_window=3.0 (secs)\n",
      "\n",
      "100%|██████████| 1116/1116 [00:19<00:00, 58.02it/s]\n"
     ]
    },
    {
     "name": "stdout",
     "output_type": "stream",
     "text": [
      "finish 60 with num of GBs 708, and collected num of GBs 2105\n"
     ]
    },
    {
     "name": "stderr",
     "output_type": "stream",
     "text": [
      "100%|██████████| 1161/1161 [00:18<00:00, 63.30it/s]\n",
      "100%|██████████| 1094/1094 [00:19<00:00, 56.93it/s]\n"
     ]
    },
    {
     "name": "stdout",
     "output_type": "stream",
     "text": [
      "finish 61 with num of GBs 708, and collected num of GBs 2116\n"
     ]
    },
    {
     "name": "stderr",
     "output_type": "stream",
     "text": [
      "100%|██████████| 1123/1123 [00:18<00:00, 60.54it/s]\n",
      "100%|██████████| 1067/1067 [00:19<00:00, 55.41it/s]\n"
     ]
    },
    {
     "name": "stdout",
     "output_type": "stream",
     "text": [
      "finish 62 with num of GBs 708, and collected num of GBs 2124\n"
     ]
    },
    {
     "name": "stderr",
     "output_type": "stream",
     "text": [
      "100%|██████████| 1116/1116 [00:17<00:00, 63.52it/s]\n",
      "100%|██████████| 1049/1049 [00:18<00:00, 55.21it/s]\n"
     ]
    },
    {
     "name": "stdout",
     "output_type": "stream",
     "text": [
      "finish 63 with num of GBs 700, and collected num of GBs 2140\n"
     ]
    },
    {
     "name": "stderr",
     "output_type": "stream",
     "text": [
      "100%|██████████| 1094/1094 [00:17<00:00, 62.25it/s]\n",
      "100%|██████████| 1039/1039 [00:18<00:00, 55.44it/s]\n"
     ]
    },
    {
     "name": "stdout",
     "output_type": "stream",
     "text": [
      "finish 64 with num of GBs 693, and collected num of GBs 2151\n"
     ]
    },
    {
     "name": "stderr",
     "output_type": "stream",
     "text": [
      "100%|██████████| 1067/1067 [00:17<00:00, 60.05it/s]\n",
      "100%|██████████| 1028/1028 [00:18<00:00, 55.66it/s]\n"
     ]
    },
    {
     "name": "stdout",
     "output_type": "stream",
     "text": [
      "finish 65 with num of GBs 683, and collected num of GBs 2157\n"
     ]
    },
    {
     "name": "stderr",
     "output_type": "stream",
     "text": [
      "100%|██████████| 1049/1049 [00:17<00:00, 59.41it/s]\n",
      "100%|██████████| 1010/1010 [00:18<00:00, 55.89it/s]\n"
     ]
    },
    {
     "name": "stdout",
     "output_type": "stream",
     "text": [
      "finish 66 with num of GBs 666, and collected num of GBs 2167\n"
     ]
    },
    {
     "name": "stderr",
     "output_type": "stream",
     "text": [
      "100%|██████████| 1039/1039 [00:17<00:00, 59.89it/s]\n",
      "100%|██████████| 993/993 [00:18<00:00, 55.15it/s]\n"
     ]
    },
    {
     "name": "stdout",
     "output_type": "stream",
     "text": [
      "finish 67 with num of GBs 667, and collected num of GBs 2177\n"
     ]
    },
    {
     "name": "stderr",
     "output_type": "stream",
     "text": [
      "100%|██████████| 1028/1028 [00:17<00:00, 59.98it/s]\n",
      "100%|██████████| 975/975 [00:17<00:00, 54.31it/s]\n"
     ]
    },
    {
     "name": "stdout",
     "output_type": "stream",
     "text": [
      "finish 68 with num of GBs 665, and collected num of GBs 2186\n"
     ]
    },
    {
     "name": "stderr",
     "output_type": "stream",
     "text": [
      "100%|██████████| 1010/1010 [00:16<00:00, 60.44it/s]\n",
      "100%|██████████| 963/963 [00:17<00:00, 54.00it/s]\n"
     ]
    },
    {
     "name": "stdout",
     "output_type": "stream",
     "text": [
      "finish 69 with num of GBs 662, and collected num of GBs 2193\n"
     ]
    },
    {
     "name": "stderr",
     "output_type": "stream",
     "text": [
      "100%|██████████| 993/993 [00:16<00:00, 59.43it/s]\n",
      " 65%|██████▌   | 624/953 [00:11<00:05, 56.15it/s]IOPub message rate exceeded.\n",
      "The Jupyter server will temporarily stop sending output\n",
      "to the client in order to avoid crashing it.\n",
      "To change this limit, set the config variable\n",
      "`--ServerApp.iopub_msg_rate_limit`.\n",
      "\n",
      "Current values:\n",
      "ServerApp.iopub_msg_rate_limit=1000.0 (msgs/sec)\n",
      "ServerApp.rate_limit_window=3.0 (secs)\n",
      "\n",
      "100%|██████████| 953/953 [00:16<00:00, 58.36it/s]\n",
      "100%|██████████| 917/917 [00:16<00:00, 54.55it/s]\n"
     ]
    },
    {
     "name": "stdout",
     "output_type": "stream",
     "text": [
      "finish 73 with num of GBs 621, and collected num of GBs 2214\n"
     ]
    },
    {
     "name": "stderr",
     "output_type": "stream",
     "text": [
      "100%|██████████| 951/951 [00:16<00:00, 59.35it/s]\n",
      "100%|██████████| 903/903 [00:16<00:00, 54.75it/s]\n"
     ]
    },
    {
     "name": "stdout",
     "output_type": "stream",
     "text": [
      "finish 74 with num of GBs 608, and collected num of GBs 2217\n"
     ]
    },
    {
     "name": "stderr",
     "output_type": "stream",
     "text": [
      "100%|██████████| 930/930 [00:15<00:00, 59.78it/s]\n",
      "100%|██████████| 882/882 [00:16<00:00, 54.76it/s]\n"
     ]
    },
    {
     "name": "stdout",
     "output_type": "stream",
     "text": [
      "finish 75 with num of GBs 596, and collected num of GBs 2220\n"
     ]
    },
    {
     "name": "stderr",
     "output_type": "stream",
     "text": [
      "100%|██████████| 917/917 [00:15<00:00, 59.16it/s]\n",
      "100%|██████████| 870/870 [00:15<00:00, 54.42it/s]\n"
     ]
    },
    {
     "name": "stdout",
     "output_type": "stream",
     "text": [
      "finish 76 with num of GBs 592, and collected num of GBs 2229\n"
     ]
    },
    {
     "name": "stderr",
     "output_type": "stream",
     "text": [
      "100%|██████████| 903/903 [00:15<00:00, 58.39it/s]\n",
      "100%|██████████| 858/858 [00:16<00:00, 53.55it/s]\n"
     ]
    },
    {
     "name": "stdout",
     "output_type": "stream",
     "text": [
      "finish 77 with num of GBs 587, and collected num of GBs 2237\n"
     ]
    },
    {
     "name": "stderr",
     "output_type": "stream",
     "text": [
      "100%|██████████| 882/882 [00:15<00:00, 58.05it/s]\n",
      "100%|██████████| 844/844 [00:15<00:00, 54.08it/s]\n"
     ]
    },
    {
     "name": "stdout",
     "output_type": "stream",
     "text": [
      "finish 78 with num of GBs 574, and collected num of GBs 2243\n"
     ]
    },
    {
     "name": "stderr",
     "output_type": "stream",
     "text": [
      "100%|██████████| 870/870 [00:14<00:00, 58.56it/s]\n",
      "100%|██████████| 833/833 [00:15<00:00, 54.17it/s]\n"
     ]
    },
    {
     "name": "stdout",
     "output_type": "stream",
     "text": [
      "finish 79 with num of GBs 570, and collected num of GBs 2248\n"
     ]
    },
    {
     "name": "stderr",
     "output_type": "stream",
     "text": [
      "100%|██████████| 858/858 [00:14<00:00, 58.27it/s]\n",
      "100%|██████████| 808/808 [00:15<00:00, 51.92it/s]\n"
     ]
    },
    {
     "name": "stdout",
     "output_type": "stream",
     "text": [
      "finish 80 with num of GBs 576, and collected num of GBs 2251\n"
     ]
    },
    {
     "name": "stderr",
     "output_type": "stream",
     "text": [
      "100%|██████████| 844/844 [00:14<00:00, 58.24it/s]\n",
      "100%|██████████| 803/803 [00:15<00:00, 52.34it/s]\n"
     ]
    },
    {
     "name": "stdout",
     "output_type": "stream",
     "text": [
      "finish 81 with num of GBs 568, and collected num of GBs 2261\n"
     ]
    },
    {
     "name": "stderr",
     "output_type": "stream",
     "text": [
      "100%|██████████| 833/833 [00:14<00:00, 58.21it/s]\n",
      "100%|██████████| 792/792 [00:15<00:00, 52.43it/s]\n"
     ]
    },
    {
     "name": "stdout",
     "output_type": "stream",
     "text": [
      "finish 82 with num of GBs 558, and collected num of GBs 2264\n"
     ]
    },
    {
     "name": "stderr",
     "output_type": "stream",
     "text": [
      "100%|██████████| 808/808 [00:14<00:00, 56.87it/s]\n",
      "100%|██████████| 775/775 [00:15<00:00, 51.49it/s]\n"
     ]
    },
    {
     "name": "stdout",
     "output_type": "stream",
     "text": [
      "finish 83 with num of GBs 556, and collected num of GBs 2267\n"
     ]
    },
    {
     "name": "stderr",
     "output_type": "stream",
     "text": [
      "100%|██████████| 803/803 [00:14<00:00, 56.38it/s]\n",
      "100%|██████████| 765/765 [00:15<00:00, 50.89it/s]\n"
     ]
    },
    {
     "name": "stdout",
     "output_type": "stream",
     "text": [
      "finish 84 with num of GBs 555, and collected num of GBs 2270\n"
     ]
    },
    {
     "name": "stderr",
     "output_type": "stream",
     "text": [
      "100%|██████████| 792/792 [00:14<00:00, 55.80it/s]\n",
      "100%|██████████| 753/753 [00:14<00:00, 50.87it/s]\n"
     ]
    },
    {
     "name": "stdout",
     "output_type": "stream",
     "text": [
      "finish 85 with num of GBs 547, and collected num of GBs 2274\n"
     ]
    },
    {
     "name": "stderr",
     "output_type": "stream",
     "text": [
      "100%|██████████| 775/775 [00:14<00:00, 54.02it/s]\n",
      "100%|██████████| 752/752 [00:14<00:00, 51.24it/s]\n"
     ]
    },
    {
     "name": "stdout",
     "output_type": "stream",
     "text": [
      "finish 86 with num of GBs 542, and collected num of GBs 2282\n"
     ]
    },
    {
     "name": "stderr",
     "output_type": "stream",
     "text": [
      "100%|██████████| 765/765 [00:14<00:00, 54.12it/s]\n",
      "100%|██████████| 743/743 [00:14<00:00, 51.57it/s]\n"
     ]
    },
    {
     "name": "stdout",
     "output_type": "stream",
     "text": [
      "finish 87 with num of GBs 532, and collected num of GBs 2287\n"
     ]
    },
    {
     "name": "stderr",
     "output_type": "stream",
     "text": [
      "100%|██████████| 753/753 [00:13<00:00, 54.70it/s]\n",
      "100%|██████████| 734/734 [00:14<00:00, 50.98it/s]\n"
     ]
    },
    {
     "name": "stdout",
     "output_type": "stream",
     "text": [
      "finish 88 with num of GBs 531, and collected num of GBs 2294\n"
     ]
    },
    {
     "name": "stderr",
     "output_type": "stream",
     "text": [
      "100%|██████████| 752/752 [00:13<00:00, 54.10it/s]\n",
      "100%|██████████| 724/724 [00:14<00:00, 49.69it/s]\n"
     ]
    },
    {
     "name": "stdout",
     "output_type": "stream",
     "text": [
      "finish 89 with num of GBs 539, and collected num of GBs 2306\n"
     ]
    },
    {
     "name": "stderr",
     "output_type": "stream",
     "text": [
      "100%|██████████| 743/743 [00:13<00:00, 54.81it/s]\n",
      "100%|██████████| 708/708 [00:14<00:00, 49.32it/s]\n"
     ]
    },
    {
     "name": "stdout",
     "output_type": "stream",
     "text": [
      "finish 90 with num of GBs 531, and collected num of GBs 2311\n"
     ]
    },
    {
     "name": "stderr",
     "output_type": "stream",
     "text": [
      "100%|██████████| 734/734 [00:13<00:00, 55.34it/s]\n",
      "100%|██████████| 698/698 [00:14<00:00, 49.49it/s]\n"
     ]
    },
    {
     "name": "stdout",
     "output_type": "stream",
     "text": [
      "finish 91 with num of GBs 522, and collected num of GBs 2317\n"
     ]
    },
    {
     "name": "stderr",
     "output_type": "stream",
     "text": [
      "100%|██████████| 724/724 [00:13<00:00, 54.21it/s]\n",
      "100%|██████████| 683/683 [00:14<00:00, 48.47it/s]\n"
     ]
    },
    {
     "name": "stdout",
     "output_type": "stream",
     "text": [
      "finish 92 with num of GBs 521, and collected num of GBs 2323\n"
     ]
    },
    {
     "name": "stderr",
     "output_type": "stream",
     "text": [
      "100%|██████████| 708/708 [00:13<00:00, 52.10it/s]\n",
      "100%|██████████| 681/681 [00:13<00:00, 49.35it/s]\n"
     ]
    },
    {
     "name": "stdout",
     "output_type": "stream",
     "text": [
      "finish 93 with num of GBs 510, and collected num of GBs 2327\n"
     ]
    },
    {
     "name": "stderr",
     "output_type": "stream",
     "text": [
      "100%|██████████| 698/698 [00:13<00:00, 52.45it/s]\n",
      "100%|██████████| 676/676 [00:13<00:00, 49.88it/s]\n"
     ]
    },
    {
     "name": "stdout",
     "output_type": "stream",
     "text": [
      "finish 94 with num of GBs 501, and collected num of GBs 2333\n"
     ]
    },
    {
     "name": "stderr",
     "output_type": "stream",
     "text": [
      "100%|██████████| 683/683 [00:13<00:00, 51.78it/s]\n",
      "100%|██████████| 664/664 [00:13<00:00, 48.81it/s]\n"
     ]
    },
    {
     "name": "stdout",
     "output_type": "stream",
     "text": [
      "finish 95 with num of GBs 504, and collected num of GBs 2335\n"
     ]
    },
    {
     "name": "stderr",
     "output_type": "stream",
     "text": [
      "100%|██████████| 681/681 [00:12<00:00, 53.10it/s]\n",
      "100%|██████████| 662/662 [00:13<00:00, 49.07it/s]\n"
     ]
    },
    {
     "name": "stdout",
     "output_type": "stream",
     "text": [
      "finish 96 with num of GBs 500, and collected num of GBs 2338\n"
     ]
    },
    {
     "name": "stderr",
     "output_type": "stream",
     "text": [
      "100%|██████████| 676/676 [00:12<00:00, 52.93it/s]\n",
      "100%|██████████| 655/655 [00:13<00:00, 49.52it/s]\n"
     ]
    },
    {
     "name": "stdout",
     "output_type": "stream",
     "text": [
      "finish 97 with num of GBs 489, and collected num of GBs 2343\n"
     ]
    },
    {
     "name": "stderr",
     "output_type": "stream",
     "text": [
      "100%|██████████| 664/664 [00:12<00:00, 51.85it/s]\n",
      "100%|██████████| 648/648 [00:13<00:00, 49.68it/s]\n"
     ]
    },
    {
     "name": "stdout",
     "output_type": "stream",
     "text": [
      "finish 98 with num of GBs 482, and collected num of GBs 2346\n"
     ]
    },
    {
     "name": "stderr",
     "output_type": "stream",
     "text": [
      "100%|██████████| 662/662 [00:12<00:00, 51.72it/s]\n",
      "100%|██████████| 635/635 [00:12<00:00, 49.21it/s]\n"
     ]
    },
    {
     "name": "stdout",
     "output_type": "stream",
     "text": [
      "finish 99 with num of GBs 479, and collected num of GBs 2350\n"
     ]
    },
    {
     "name": "stderr",
     "output_type": "stream",
     "text": [
      "100%|██████████| 655/655 [00:12<00:00, 53.89it/s]\n",
      "100%|██████████| 618/618 [00:12<00:00, 48.22it/s]\n"
     ]
    },
    {
     "name": "stdout",
     "output_type": "stream",
     "text": [
      "finish 100 with num of GBs 475, and collected num of GBs 2359\n"
     ]
    },
    {
     "name": "stderr",
     "output_type": "stream",
     "text": [
      "100%|██████████| 648/648 [00:12<00:00, 53.33it/s]\n",
      "100%|██████████| 613/613 [00:12<00:00, 47.85it/s]\n"
     ]
    },
    {
     "name": "stdout",
     "output_type": "stream",
     "text": [
      "finish 101 with num of GBs 473, and collected num of GBs 2368\n"
     ]
    },
    {
     "name": "stderr",
     "output_type": "stream",
     "text": [
      "100%|██████████| 635/635 [00:12<00:00, 51.86it/s]\n",
      "100%|██████████| 600/600 [00:12<00:00, 48.11it/s]\n"
     ]
    },
    {
     "name": "stdout",
     "output_type": "stream",
     "text": [
      "finish 102 with num of GBs 462, and collected num of GBs 2372\n"
     ]
    },
    {
     "name": "stderr",
     "output_type": "stream",
     "text": [
      "100%|██████████| 618/618 [00:11<00:00, 51.99it/s]\n",
      "100%|██████████| 598/598 [00:12<00:00, 48.62it/s]\n"
     ]
    },
    {
     "name": "stdout",
     "output_type": "stream",
     "text": [
      "finish 103 with num of GBs 454, and collected num of GBs 2374\n"
     ]
    },
    {
     "name": "stderr",
     "output_type": "stream",
     "text": [
      "100%|██████████| 613/613 [00:11<00:00, 52.10it/s]\n",
      "100%|██████████| 594/594 [00:12<00:00, 48.38it/s]\n"
     ]
    },
    {
     "name": "stdout",
     "output_type": "stream",
     "text": [
      "finish 104 with num of GBs 453, and collected num of GBs 2381\n"
     ]
    },
    {
     "name": "stderr",
     "output_type": "stream",
     "text": [
      "100%|██████████| 600/600 [00:11<00:00, 51.52it/s]\n",
      "100%|██████████| 578/578 [00:12<00:00, 47.13it/s]\n"
     ]
    },
    {
     "name": "stdout",
     "output_type": "stream",
     "text": [
      "finish 105 with num of GBs 455, and collected num of GBs 2384\n"
     ]
    },
    {
     "name": "stderr",
     "output_type": "stream",
     "text": [
      "100%|██████████| 598/598 [00:11<00:00, 51.36it/s]\n",
      "100%|██████████| 571/571 [00:12<00:00, 46.88it/s]\n"
     ]
    },
    {
     "name": "stdout",
     "output_type": "stream",
     "text": [
      "finish 106 with num of GBs 451, and collected num of GBs 2386\n"
     ]
    },
    {
     "name": "stderr",
     "output_type": "stream",
     "text": [
      "100%|██████████| 594/594 [00:11<00:00, 51.41it/s]\n",
      "100%|██████████| 562/562 [00:12<00:00, 46.41it/s]\n"
     ]
    },
    {
     "name": "stdout",
     "output_type": "stream",
     "text": [
      "finish 107 with num of GBs 449, and collected num of GBs 2387\n"
     ]
    },
    {
     "name": "stderr",
     "output_type": "stream",
     "text": [
      "100%|██████████| 578/578 [00:11<00:00, 50.20it/s]\n",
      "100%|██████████| 550/550 [00:12<00:00, 45.35it/s]\n"
     ]
    },
    {
     "name": "stdout",
     "output_type": "stream",
     "text": [
      "finish 108 with num of GBs 451, and collected num of GBs 2390\n"
     ]
    },
    {
     "name": "stderr",
     "output_type": "stream",
     "text": [
      "100%|██████████| 571/571 [00:11<00:00, 50.74it/s]\n",
      "100%|██████████| 553/553 [00:11<00:00, 47.06it/s]\n"
     ]
    },
    {
     "name": "stdout",
     "output_type": "stream",
     "text": [
      "finish 109 with num of GBs 439, and collected num of GBs 2390\n"
     ]
    },
    {
     "name": "stderr",
     "output_type": "stream",
     "text": [
      "100%|██████████| 562/562 [00:11<00:00, 48.30it/s]\n",
      "100%|██████████| 549/549 [00:11<00:00, 45.93it/s]\n"
     ]
    },
    {
     "name": "stdout",
     "output_type": "stream",
     "text": [
      "finish 110 with num of GBs 441, and collected num of GBs 2391\n"
     ]
    },
    {
     "name": "stderr",
     "output_type": "stream",
     "text": [
      "100%|██████████| 550/550 [00:11<00:00, 48.50it/s]\n",
      "100%|██████████| 542/542 [00:11<00:00, 45.43it/s]\n"
     ]
    },
    {
     "name": "stdout",
     "output_type": "stream",
     "text": [
      "finish 111 with num of GBs 441, and collected num of GBs 2393\n"
     ]
    },
    {
     "name": "stderr",
     "output_type": "stream",
     "text": [
      "100%|██████████| 553/553 [00:11<00:00, 49.94it/s]\n",
      "100%|██████████| 540/540 [00:11<00:00, 45.63it/s]\n"
     ]
    },
    {
     "name": "stdout",
     "output_type": "stream",
     "text": [
      "finish 112 with num of GBs 438, and collected num of GBs 2394\n"
     ]
    },
    {
     "name": "stderr",
     "output_type": "stream",
     "text": [
      "100%|██████████| 549/549 [00:11<00:00, 49.31it/s]\n",
      "100%|██████████| 539/539 [00:11<00:00, 46.30it/s]\n"
     ]
    },
    {
     "name": "stdout",
     "output_type": "stream",
     "text": [
      "finish 113 with num of GBs 431, and collected num of GBs 2399\n"
     ]
    },
    {
     "name": "stderr",
     "output_type": "stream",
     "text": [
      "100%|██████████| 542/542 [00:11<00:00, 49.10it/s]\n",
      "100%|██████████| 535/535 [00:11<00:00, 45.89it/s]\n"
     ]
    },
    {
     "name": "stdout",
     "output_type": "stream",
     "text": [
      "finish 114 with num of GBs 431, and collected num of GBs 2400\n"
     ]
    },
    {
     "name": "stderr",
     "output_type": "stream",
     "text": [
      "100%|██████████| 540/540 [00:11<00:00, 48.34it/s]\n",
      "100%|██████████| 531/531 [00:11<00:00, 45.68it/s]\n"
     ]
    },
    {
     "name": "stdout",
     "output_type": "stream",
     "text": [
      "finish 115 with num of GBs 432, and collected num of GBs 2405\n"
     ]
    },
    {
     "name": "stderr",
     "output_type": "stream",
     "text": [
      "100%|██████████| 539/539 [00:10<00:00, 50.07it/s]\n",
      "100%|██████████| 531/531 [00:11<00:00, 46.20it/s]\n"
     ]
    },
    {
     "name": "stdout",
     "output_type": "stream",
     "text": [
      "finish 116 with num of GBs 426, and collected num of GBs 2406\n"
     ]
    },
    {
     "name": "stderr",
     "output_type": "stream",
     "text": [
      "100%|██████████| 535/535 [00:10<00:00, 48.70it/s]\n",
      "100%|██████████| 525/525 [00:11<00:00, 44.95it/s]\n"
     ]
    },
    {
     "name": "stdout",
     "output_type": "stream",
     "text": [
      "finish 117 with num of GBs 429, and collected num of GBs 2407\n"
     ]
    },
    {
     "name": "stderr",
     "output_type": "stream",
     "text": [
      "100%|██████████| 531/531 [00:10<00:00, 48.66it/s]\n",
      "100%|██████████| 523/523 [00:11<00:00, 45.45it/s]\n"
     ]
    },
    {
     "name": "stdout",
     "output_type": "stream",
     "text": [
      "finish 118 with num of GBs 422, and collected num of GBs 2407\n"
     ]
    },
    {
     "name": "stderr",
     "output_type": "stream",
     "text": [
      "100%|██████████| 531/531 [00:10<00:00, 48.30it/s]\n",
      "100%|██████████| 514/514 [00:11<00:00, 45.19it/s]\n"
     ]
    },
    {
     "name": "stdout",
     "output_type": "stream",
     "text": [
      "finish 119 with num of GBs 417, and collected num of GBs 2407\n"
     ]
    },
    {
     "name": "stderr",
     "output_type": "stream",
     "text": [
      "100%|██████████| 525/525 [00:10<00:00, 48.15it/s]\n"
     ]
    }
   ],
   "source": [
    "    time_interval = 30\n",
    "    # store all GB points, include curvature and anti-curvature(include randomness points)\n",
    "    GB_list_velocity_list = []\n",
    "    GB_list_curvature_list = []\n",
    "    GB_list_GBenergy_list = []\n",
    "    # store all GB point exclude anti-curvature randomness points\n",
    "    GB_list_velocity_list_exrandom = []\n",
    "    GB_list_curvature_list_exrandom = []\n",
    "    # store GB energy point exclude anti_c randomness points\n",
    "    GB_list_GBenergy_list_exrandom = []\n",
    "    # store anti-curvature GBs in dictionary\n",
    "    GB_id_focus = dict()\n",
    "    GB_id_focus_detail = dict()\n",
    "    GB_filter_kernel = [set(),set(),set(),set(),set()]\n",
    "    for time_step in range(step_num):\n",
    "        if time_step+1 >= step_num: continue\n",
    "        GB_list_velocity_list_tmp = []\n",
    "        GB_list_curvature_list_tmp = []\n",
    "        GB_list_GBenergy_list_tmp = []\n",
    "        GB_list_velocity_list_exrandom_tmp = []\n",
    "        GB_list_curvature_list_exrandom_tmp = []\n",
    "        GB_list_GBenergy_list_exrandom_tmp = []\n",
    "        key_set = set()\n",
    "        for key in tqdm(GB_infomation_dict_list[time_step]):\n",
    "            if GB_infomation_dict_list[time_step+1].get(key) is None: continue\n",
    "            if GB_infomation_dict_list[time_step][key][5] < 100: continue # remove small GBs\n",
    "            # if abs(GB_infomation_dict_list[time_step][key][4]) < 0.0125: continue # remove low curvature\n",
    "            # Calculate dV\n",
    "            pair_id_pair = GB_infomation_dict_list[time_step][key][6:8]\n",
    "            growth_direction1 = (npy_file_aniso[time_step]==pair_id_pair[0])*(npy_file_aniso[time_step+1]==pair_id_pair[1])\n",
    "            growth_direction2 = (npy_file_aniso[time_step]==pair_id_pair[1])*(npy_file_aniso[time_step+1]==pair_id_pair[0])\n",
    "            dV = np.sum(growth_direction1)-np.sum(growth_direction2) # velocity with direction\n",
    "            # calculate velocity\n",
    "            velocity = dV/time_interval/(GB_infomation_dict_list[time_step][key][5]/2)\n",
    "            GB_list_velocity_list_tmp.append(velocity)\n",
    "            # keep curvature\n",
    "            current_curvature_value = GB_infomation_dict_list[time_step][key][4]\n",
    "            GB_list_curvature_list_tmp.append(current_curvature_value)\n",
    "            # keep GB energy\n",
    "            GB_list_GBenergy_list_tmp.append(GBenergy_information_dict_list[time_step][key][4])\n",
    "            \n",
    "            # keep anti-curvature GB info\n",
    "            if current_curvature_value*velocity<-0.0001: \n",
    "                key_set.add(key)\n",
    "                if time_step >= step_num-3: continue\n",
    "                if key in GB_id_focus: \n",
    "                    GB_id_focus[key] += 1\n",
    "                    GB_id_focus_detail[key].append(time_step)\n",
    "                else: \n",
    "                    GB_id_focus[key] = 1\n",
    "                    GB_id_focus_detail[key] = [time_step]\n",
    "        \n",
    "        # keep all GBs with GB length larger than 100\n",
    "        GB_list_velocity_list.append(GB_list_velocity_list_tmp)\n",
    "        GB_list_curvature_list.append(GB_list_curvature_list_tmp)\n",
    "        GB_list_GBenergy_list.append(GB_list_GBenergy_list_tmp)\n",
    "        \n",
    "        # filter the anti-curvature GB with 00100\n",
    "        GB_filter_kernel[0:4] = GB_filter_kernel[1:]\n",
    "        GB_filter_kernel[4] = key_set\n",
    "        filtered_set = GB_filter_kernel[2] - (GB_filter_kernel[0]|GB_filter_kernel[1]|GB_filter_kernel[3]|GB_filter_kernel[4])\n",
    "        for key in filtered_set: \n",
    "            GB_id_focus[key] -= 1\n",
    "            GB_id_focus_detail[key].remove(time_step-2)\n",
    "        print(f\"finish {time_step} with num of GBs {len(GB_list_velocity_list_tmp)}, and collected num of GBs {len(GB_id_focus)}\")\n",
    "        \n",
    "        # remove exclude data\n",
    "        if time_step < 2: continue\n",
    "        for key in tqdm(GB_infomation_dict_list[time_step-2]):\n",
    "            if GB_infomation_dict_list[time_step-1].get(key) is None: continue\n",
    "            if GB_infomation_dict_list[time_step-2][key][5] < 100: continue # remove small GBs\n",
    "            if key in filtered_set: continue # remove the randomness points\n",
    "            # if abs(GB_infomation_dict_list[time_step-2][key][4]) < 0.0125: continue # remove low curvature\n",
    "            # Calculate dV\n",
    "            pair_id_pair = GB_infomation_dict_list[time_step-2][key][6:8]\n",
    "            growth_direction1 = (npy_file_aniso[time_step-2]==pair_id_pair[0])*(npy_file_aniso[time_step-1]==pair_id_pair[1])\n",
    "            growth_direction2 = (npy_file_aniso[time_step-2]==pair_id_pair[1])*(npy_file_aniso[time_step-1]==pair_id_pair[0])\n",
    "            dV = np.sum(growth_direction1)-np.sum(growth_direction2) # velocity with direction\n",
    "            # calculate velocity\n",
    "            velocity = dV/time_interval/(GB_infomation_dict_list[time_step-2][key][5]/2)\n",
    "            GB_list_velocity_list_exrandom_tmp.append(velocity)\n",
    "            # keep curvature\n",
    "            current_curvature_value = GB_infomation_dict_list[time_step-2][key][4]\n",
    "            GB_list_curvature_list_exrandom_tmp.append(current_curvature_value)\n",
    "            # keep GB energy\n",
    "            GB_list_GBenergy_list_exrandom_tmp.append(GBenergy_information_dict_list[time_step-2][key][4])\n",
    "        GB_list_velocity_list_exrandom.append(GB_list_velocity_list_exrandom_tmp)\n",
    "        GB_list_curvature_list_exrandom.append(GB_list_curvature_list_exrandom_tmp)\n",
    "        GB_list_GBenergy_list_exrandom.append(GB_list_GBenergy_list_exrandom_tmp)\n",
    "        \n",
    "    \n",
    "    # filter the anti-curvature GB with 00100\n",
    "    GB_id_focus_copy = GB_id_focus.copy()\n",
    "    for key in GB_id_focus_copy:\n",
    "        if GB_id_focus_copy[key] <=0:\n",
    "            GB_id_focus.pop(key)\n",
    "            GB_id_focus_detail.pop(key)\n",
    "            \n",
    "    # add the last two steps for exclude data\n",
    "    # GB_list_velocity_list_exrandom.extend(GB_list_velocity_list[-2:])\n",
    "    # GB_list_curvature_list_exrandom.extend(GB_list_curvature_list[-2:])\n",
    "    # GB_list_GBenergy_list_exrandom.extend(GB_list_GBenergy_list[-2:])\n",
    "            "
   ]
  },
  {
   "cell_type": "code",
   "execution_count": 8,
   "id": "718362f0-b4ce-4839-afff-c0a4992d4187",
   "metadata": {
    "tags": []
   },
   "outputs": [
    {
     "name": "stderr",
     "output_type": "stream",
     "text": [
      "100%|██████████| 22827/22827 [00:00<00:00, 1922905.29it/s]\n",
      "100%|██████████| 17980/17980 [00:00<00:00, 1793426.54it/s]\n",
      "100%|██████████| 15113/15113 [00:00<00:00, 166985.90it/s]\n",
      "100%|██████████| 12583/12583 [00:00<00:00, 140018.22it/s]\n",
      "100%|██████████| 10819/10819 [00:00<00:00, 123846.36it/s]\n",
      "100%|██████████| 9392/9392 [00:00<00:00, 30378.08it/s]\n",
      "100%|██████████| 8408/8408 [00:00<00:00, 11130.50it/s]\n",
      "100%|██████████| 7568/7568 [00:00<00:00, 7947.17it/s]\n",
      "100%|██████████| 6808/6808 [00:01<00:00, 6498.00it/s]\n",
      "100%|██████████| 6264/6264 [00:01<00:00, 4375.74it/s]\n",
      "100%|██████████| 5744/5744 [00:01<00:00, 3075.18it/s]\n",
      "100%|██████████| 5350/5350 [00:01<00:00, 2959.41it/s]\n",
      "100%|██████████| 5042/5042 [00:02<00:00, 2473.01it/s]\n",
      "100%|██████████| 4702/4702 [00:01<00:00, 2545.97it/s]\n",
      "100%|██████████| 4406/4406 [00:02<00:00, 1988.95it/s]\n",
      "100%|██████████| 4142/4142 [00:02<00:00, 1623.42it/s]\n",
      "100%|██████████| 3886/3886 [00:02<00:00, 1644.34it/s]\n",
      "100%|██████████| 3696/3696 [00:02<00:00, 1603.95it/s]\n",
      "100%|██████████| 3498/3498 [00:02<00:00, 1486.81it/s]\n",
      "100%|██████████| 3352/3352 [00:02<00:00, 1512.04it/s]\n",
      "100%|██████████| 3190/3190 [00:02<00:00, 1266.34it/s]\n",
      "100%|██████████| 3043/3043 [00:02<00:00, 1279.09it/s]\n",
      "100%|██████████| 2905/2905 [00:01<00:00, 1531.89it/s]\n",
      "100%|██████████| 2823/2823 [00:02<00:00, 1064.30it/s]\n",
      "100%|██████████| 2737/2737 [00:02<00:00, 1211.17it/s]\n",
      "100%|██████████| 2639/2639 [00:02<00:00, 1154.55it/s]\n",
      "100%|██████████| 2562/2562 [00:02<00:00, 985.61it/s] \n",
      "100%|██████████| 2457/2457 [00:02<00:00, 1096.67it/s]\n",
      "100%|██████████| 2367/2367 [00:02<00:00, 983.15it/s] \n",
      "100%|██████████| 2281/2281 [00:01<00:00, 1162.87it/s]\n",
      "100%|██████████| 2195/2195 [00:02<00:00, 890.04it/s] \n",
      "100%|██████████| 2127/2127 [00:02<00:00, 946.50it/s] \n",
      "100%|██████████| 2068/2068 [00:02<00:00, 870.51it/s]\n",
      "100%|██████████| 2022/2022 [00:01<00:00, 1090.01it/s]\n",
      "100%|██████████| 1965/1965 [00:01<00:00, 992.02it/s] \n",
      "100%|██████████| 1917/1917 [00:01<00:00, 996.34it/s] \n",
      "100%|██████████| 1845/1845 [00:01<00:00, 1001.58it/s]\n",
      "100%|██████████| 1807/1807 [00:01<00:00, 1074.89it/s]\n",
      "100%|██████████| 1762/1762 [00:01<00:00, 1066.54it/s]\n",
      "100%|██████████| 1703/1703 [00:01<00:00, 1135.51it/s]\n",
      "100%|██████████| 1676/1676 [00:01<00:00, 1100.94it/s]\n",
      "100%|██████████| 1646/1646 [00:01<00:00, 1004.21it/s]\n",
      "100%|██████████| 1610/1610 [00:01<00:00, 1051.04it/s]\n",
      "100%|██████████| 1588/1588 [00:01<00:00, 1089.27it/s]\n",
      "100%|██████████| 1543/1543 [00:01<00:00, 1049.64it/s]\n",
      "100%|██████████| 1503/1503 [00:01<00:00, 1191.30it/s]\n",
      "100%|██████████| 1476/1476 [00:01<00:00, 933.92it/s] \n",
      "100%|██████████| 1447/1447 [00:01<00:00, 1069.49it/s]\n",
      "100%|██████████| 1419/1419 [00:01<00:00, 875.61it/s]\n",
      "100%|██████████| 1396/1396 [00:01<00:00, 904.63it/s]\n",
      "100%|██████████| 1358/1358 [00:01<00:00, 969.38it/s]\n",
      "100%|██████████| 1327/1327 [00:01<00:00, 952.71it/s]\n",
      "100%|██████████| 1302/1302 [00:01<00:00, 1041.52it/s]\n",
      "100%|██████████| 1288/1288 [00:01<00:00, 957.79it/s]\n",
      "100%|██████████| 1256/1256 [00:01<00:00, 864.05it/s] \n",
      "100%|██████████| 1217/1217 [00:01<00:00, 939.44it/s]\n",
      "100%|██████████| 1199/1199 [00:01<00:00, 808.44it/s]\n",
      "100%|██████████| 1184/1184 [00:01<00:00, 838.66it/s]\n",
      "100%|██████████| 1161/1161 [00:01<00:00, 984.56it/s]\n",
      "100%|██████████| 1123/1123 [00:01<00:00, 1031.15it/s]\n",
      "100%|██████████| 1116/1116 [00:01<00:00, 955.43it/s]\n",
      "100%|██████████| 1094/1094 [00:00<00:00, 1129.88it/s]\n",
      "100%|██████████| 1067/1067 [00:01<00:00, 1035.97it/s]\n",
      "100%|██████████| 1049/1049 [00:01<00:00, 783.63it/s]\n",
      "100%|██████████| 1039/1039 [00:01<00:00, 950.83it/s]\n",
      "100%|██████████| 1028/1028 [00:00<00:00, 1265.25it/s]\n",
      "100%|██████████| 1010/1010 [00:00<00:00, 1091.92it/s]\n",
      "100%|██████████| 993/993 [00:01<00:00, 991.99it/s] \n",
      "100%|██████████| 975/975 [00:01<00:00, 836.18it/s]\n",
      "100%|██████████| 963/963 [00:01<00:00, 846.19it/s] \n",
      "100%|██████████| 953/953 [00:01<00:00, 876.16it/s]\n",
      "100%|██████████| 951/951 [00:00<00:00, 1134.66it/s]\n",
      "100%|██████████| 930/930 [00:00<00:00, 1178.04it/s]\n",
      "100%|██████████| 917/917 [00:00<00:00, 1410.70it/s]\n",
      "100%|██████████| 903/903 [00:00<00:00, 1226.97it/s]\n",
      "100%|██████████| 882/882 [00:00<00:00, 1791.35it/s]\n",
      "100%|██████████| 870/870 [00:00<00:00, 1178.69it/s]\n",
      "100%|██████████| 858/858 [00:00<00:00, 1134.61it/s]\n",
      "100%|██████████| 844/844 [00:00<00:00, 1150.49it/s]\n",
      "100%|██████████| 833/833 [00:00<00:00, 1178.04it/s]\n",
      "100%|██████████| 808/808 [00:00<00:00, 1145.58it/s]\n",
      "100%|██████████| 803/803 [00:00<00:00, 1056.76it/s]\n",
      "100%|██████████| 792/792 [00:00<00:00, 1127.70it/s]\n",
      "100%|██████████| 775/775 [00:00<00:00, 804.52it/s] \n",
      "100%|██████████| 765/765 [00:00<00:00, 1006.68it/s]\n",
      "100%|██████████| 753/753 [00:00<00:00, 892.33it/s] \n",
      "100%|██████████| 752/752 [00:00<00:00, 960.47it/s] \n",
      "100%|██████████| 743/743 [00:00<00:00, 1292.81it/s]\n",
      "100%|██████████| 734/734 [00:00<00:00, 1129.42it/s]\n",
      "100%|██████████| 724/724 [00:00<00:00, 1077.77it/s]\n",
      "100%|██████████| 708/708 [00:00<00:00, 1249.55it/s]\n",
      "100%|██████████| 698/698 [00:00<00:00, 1541.25it/s]\n",
      "100%|██████████| 683/683 [00:00<00:00, 936.67it/s] \n",
      "100%|██████████| 681/681 [00:00<00:00, 893.41it/s] \n",
      "100%|██████████| 676/676 [00:00<00:00, 756.18it/s]\n",
      "100%|██████████| 664/664 [00:00<00:00, 992.53it/s] \n",
      "100%|██████████| 662/662 [00:00<00:00, 931.52it/s] \n",
      "100%|██████████| 655/655 [00:00<00:00, 735.06it/s]\n",
      "100%|██████████| 648/648 [00:00<00:00, 1278.62it/s]\n",
      "100%|██████████| 635/635 [00:00<00:00, 947.87it/s]\n",
      "100%|██████████| 618/618 [00:00<00:00, 845.73it/s]\n",
      "100%|██████████| 613/613 [00:00<00:00, 694.07it/s]\n",
      "100%|██████████| 600/600 [00:00<00:00, 686.71it/s]\n",
      "100%|██████████| 598/598 [00:00<00:00, 1099.12it/s]\n",
      "100%|██████████| 594/594 [00:00<00:00, 784.55it/s]\n",
      "100%|██████████| 578/578 [00:00<00:00, 842.79it/s] \n",
      "100%|██████████| 571/571 [00:00<00:00, 1043.59it/s]\n",
      "100%|██████████| 562/562 [00:00<00:00, 1223.57it/s]\n",
      "100%|██████████| 550/550 [00:00<00:00, 927.74it/s] \n",
      "100%|██████████| 553/553 [00:00<00:00, 1187.01it/s]\n",
      "100%|██████████| 549/549 [00:00<00:00, 1085.27it/s]\n",
      "100%|██████████| 542/542 [00:00<00:00, 1052.85it/s]\n",
      "100%|██████████| 540/540 [00:00<00:00, 1055.03it/s]\n",
      "100%|██████████| 539/539 [00:00<00:00, 992.68it/s] \n",
      "100%|██████████| 535/535 [00:00<00:00, 935.30it/s] \n",
      "100%|██████████| 531/531 [00:00<00:00, 924.63it/s] \n",
      "100%|██████████| 531/531 [00:00<00:00, 786.97it/s] \n",
      "100%|██████████| 525/525 [00:00<00:00, 798.20it/s] \n",
      "100%|██████████| 523/523 [00:00<00:00, 848596.13it/s]\n",
      "100%|██████████| 514/514 [00:00<00:00, 986217.87it/s]\n"
     ]
    }
   ],
   "source": [
    "    time_interval = 30\n",
    "    # GB_list_velocity_list = []\n",
    "    GB_antic_list_velocity_list = []\n",
    "    GB_antic_list_GBenergy_list = []\n",
    "    GB_antic_list_anticNum_list = []\n",
    "    GB_id_unfocus_lowE_detail = dict()\n",
    "    for time_step in range(step_num):\n",
    "        if time_step+1 >= step_num: continue\n",
    "        for key in tqdm(GBenergy_information_dict_list[time_step]):\n",
    "            if GBenergy_information_dict_list[time_step+1].get(key) is None: continue\n",
    "            if GBenergy_information_dict_list[time_step][key][5] < 100: continue # remove small GBs\n",
    "            # if abs(GB_infomation_dict_list[time_step][key][4]) < 0.0125: continue # remove low curvature\n",
    "            \n",
    "            # keep the GB with low energy and curvature behavior\n",
    "            if (GBenergy_information_dict_list[time_step][key][4]<0.4) and (key not in GB_id_focus_detail): # do we need to remove random here?\n",
    "                if key in GB_id_unfocus_lowE_detail:\n",
    "                    GB_id_unfocus_lowE_detail[key].append(time_step)\n",
    "                else:\n",
    "                    GB_id_unfocus_lowE_detail[key] = [time_step]\n",
    "            \n",
    "            # anti-curvature behavior list\n",
    "            if (key in GB_id_focus_detail) and (time_step in GB_id_focus_detail[key]):\n",
    "                # Calculate dV\n",
    "                pair_id_pair = GB_infomation_dict_list[time_step][key][6:8]\n",
    "                growth_direction1 = (npy_file_aniso[time_step]==pair_id_pair[0])*(npy_file_aniso[time_step+1]==pair_id_pair[1])\n",
    "                growth_direction2 = (npy_file_aniso[time_step]==pair_id_pair[1])*(npy_file_aniso[time_step+1]==pair_id_pair[0])\n",
    "                dV = np.sum(growth_direction1)-np.sum(growth_direction2) # velocity with direction\n",
    "                # calculate velocity\n",
    "                velocity = dV/time_interval/(GB_infomation_dict_list[time_step][key][5]/2)\n",
    "                # correct the sign of velocity\n",
    "                current_curvature_value = GB_infomation_dict_list[time_step][key][4]\n",
    "                if current_curvature_value < 0: GB_antic_list_velocity_list.append(-velocity)\n",
    "                else: GB_antic_list_velocity_list.append(velocity)\n",
    "                \n",
    "                GB_antic_list_GBenergy_list.append(GBenergy_information_dict_list[time_step][key][4])\n",
    "                GB_antic_list_anticNum_list.append(GB_id_focus[key])\n",
    "            \n",
    "        \n",
    "            "
   ]
  },
  {
   "cell_type": "code",
   "execution_count": 10,
   "id": "7f5ceda3-c17c-45ae-ad05-9aaab0112017",
   "metadata": {
    "tags": []
   },
   "outputs": [
    {
     "name": "stdout",
     "output_type": "stream",
     "text": [
      "The number of the GBs showing anti-curvature during whole simulations is 1306\n",
      "The ratio of anti-curvature GBs during whole simulations is 2.536217811783897% in 51494 GBs\n",
      "dict_values([3, 2, 2, 4, 5, 12, 2, 2, 4, 7, 9, 2, 2, 2, 8, 4, 12, 2, 3, 4, 2, 3, 2, 7, 2, 4, 16, 2, 2, 2, 2, 2, 3, 8, 10, 2, 4, 2, 13, 2, 2, 6, 11, 3, 2, 2, 2, 17, 2, 6, 4, 3, 5, 2, 3, 2, 2, 2, 2, 2, 4, 5, 2, 8, 3, 6, 6, 5, 2, 4, 4, 2, 5, 12, 4, 8, 2, 2, 2, 2, 3, 2, 8, 4, 2, 5, 4, 2, 3, 6, 2, 7, 2, 2, 2, 2, 2, 7, 4, 2, 2, 4, 5, 2, 14, 2, 2, 5, 4, 2, 2, 5, 11, 4, 3, 2, 2, 6, 5, 5, 4, 2, 4, 7, 5, 2, 10, 2, 3, 8, 7, 3, 3, 2, 6, 7, 11, 2, 5, 2, 2, 2, 9, 5, 2, 2, 2, 4, 3, 3, 9, 6, 5, 4, 12, 2, 3, 10, 7, 8, 5, 2, 2, 2, 4, 2, 7, 4, 2, 2, 2, 2, 8, 2, 2, 2, 2, 2, 7, 2, 4, 9, 2, 2, 2, 2, 2, 3, 2, 5, 2, 4, 2, 2, 4, 3, 2, 2, 6, 4, 2, 2, 4, 2, 6, 2, 2, 2, 2, 2, 2, 8, 2, 2, 3, 2, 4, 2, 6, 2, 2, 7, 2, 4, 2, 2, 3, 6, 2, 2, 2, 2, 3, 2, 2, 2, 2, 2, 2, 12, 2, 2, 7, 2, 2, 2, 2, 4, 3, 2, 5, 9, 2, 5, 3, 6, 4, 2, 3, 2, 2, 3, 7, 2, 8, 5, 4, 2, 2, 6, 3, 5, 3, 2, 3, 8, 6, 2, 2, 2, 2, 3, 2, 2, 2, 3, 3, 2, 2, 2, 9, 16, 4, 2, 2, 2, 3, 2, 2, 2, 3, 2, 6, 2, 4, 8, 6, 10, 2, 8, 4, 5, 2, 7, 6, 5, 3, 5, 3, 2, 2, 2, 4, 4, 2, 2, 8, 2, 2, 2, 3, 4, 3, 3, 3, 2, 2, 2, 13, 5, 7, 2, 12, 2, 2, 7, 9, 2, 5, 7, 3, 2, 2, 2, 2, 2, 4, 5, 4, 6, 4, 2, 2, 2, 2, 7, 3, 2, 2, 3, 4, 2, 2, 4, 3, 3, 3, 2, 2, 4, 3, 2, 5, 2, 8, 2, 2, 2, 3, 2, 7, 5, 15, 2, 5, 8, 2, 2, 4, 5, 4, 3, 2, 3, 2, 2, 3, 2, 2, 6, 5, 3, 2, 7, 2, 6, 5, 2, 2, 3, 2, 2, 8, 6, 2, 10, 2, 4, 5, 2, 2, 4, 5, 3, 6, 2, 2, 3, 2, 2, 6, 4, 2, 5, 2, 2, 2, 5, 2, 4, 4, 3, 2, 9, 3, 2, 13, 3, 2, 2, 5, 2, 2, 6, 3, 3, 2, 2, 5, 4, 9, 3, 6, 2, 5, 6, 2, 2, 4, 2, 3, 2, 3, 7, 3, 2, 2, 2, 10, 6, 4, 11, 3, 2, 3, 3, 4, 3, 10, 2, 2, 2, 5, 10, 2, 4, 2, 7, 3, 2, 2, 4, 2, 6, 4, 2, 7, 3, 14, 2, 3, 2, 3, 4, 9, 2, 3, 2, 2, 2, 4, 2, 2, 11, 10, 2, 2, 2, 2, 2, 2, 2, 2, 2, 2, 14, 5, 7, 23, 2, 5, 3, 4, 2, 4, 4, 5, 2, 5, 2, 2, 2, 4, 4, 3, 2, 8, 4, 3, 2, 2, 2, 4, 2, 4, 2, 3, 3, 2, 7, 7, 3, 13, 3, 2, 2, 4, 5, 6, 2, 9, 4, 4, 2, 2, 3, 5, 3, 4, 3, 2, 4, 9, 2, 2, 10, 9, 5, 7, 6, 2, 2, 2, 5, 4, 2, 5, 2, 2, 6, 2, 10, 2, 8, 3, 2, 3, 5, 11, 2, 2, 3, 5, 4, 2, 2, 2, 2, 2, 2, 2, 2, 2, 2, 4, 10, 5, 4, 2, 2, 2, 10, 4, 2, 2, 8, 4, 2, 13, 3, 3, 4, 3, 2, 8, 2, 5, 10, 4, 2, 2, 5, 6, 6, 2, 2, 2, 4, 2, 6, 2, 3, 2, 7, 4, 4, 2, 4, 2, 2, 2, 4, 3, 6, 2, 3, 3, 2, 6, 4, 15, 11, 2, 2, 2, 2, 2, 6, 2, 2, 3, 4, 2, 6, 3, 7, 11, 2, 2, 2, 6, 2, 8, 4, 2, 5, 4, 2, 3, 3, 3, 4, 2, 3, 2, 2, 4, 3, 2, 7, 2, 4, 4, 2, 13, 2, 4, 2, 4, 3, 4, 2, 3, 2, 4, 2, 8, 4, 5, 13, 5, 4, 8, 2, 5, 4, 4, 2, 4, 11, 3, 3, 2, 2, 3, 10, 2, 5, 5, 5, 2, 2, 2, 2, 3, 2, 4, 11, 2, 4, 3, 4, 6, 3, 2, 2, 5, 4, 18, 4, 4, 7, 2, 2, 5, 22, 11, 2, 4, 6, 4, 2, 3, 4, 4, 2, 2, 2, 4, 14, 6, 6, 4, 2, 5, 8, 6, 3, 2, 5, 2, 2, 5, 2, 6, 11, 2, 2, 19, 2, 9, 4, 3, 2, 2, 2, 4, 2, 2, 2, 8, 5, 2, 6, 2, 13, 4, 2, 4, 3, 3, 6, 4, 2, 2, 2, 6, 2, 2, 2, 4, 6, 2, 3, 2, 2, 2, 2, 3, 4, 3, 4, 4, 8, 2, 11, 9, 3, 3, 4, 2, 9, 2, 2, 2, 2, 2, 4, 18, 2, 4, 3, 2, 2, 2, 9, 2, 14, 6, 5, 2, 5, 2, 4, 4, 2, 2, 4, 2, 2, 2, 3, 6, 4, 6, 3, 2, 2, 2, 2, 2, 2, 4, 4, 2, 2, 2, 11, 2, 4, 9, 6, 4, 2, 2, 4, 4, 4, 2, 3, 4, 8, 4, 8, 2, 2, 2, 5, 10, 2, 2, 2, 2, 2, 4, 2, 6, 2, 4, 6, 3, 2, 4, 2, 2, 11, 3, 5, 12, 4, 2, 9, 2, 2, 2, 2, 2, 2, 4, 4, 2, 2, 2, 3, 8, 6, 2, 8, 5, 3, 2, 3, 6, 2, 5, 2, 6, 2, 2, 4, 9, 5, 2, 11, 3, 2, 3, 2, 8, 2, 4, 3, 4, 2, 4, 2, 6, 17, 2, 2, 3, 2, 10, 5, 5, 7, 2, 5, 6, 2, 4, 5, 4, 2, 5, 8, 9, 10, 2, 10, 4, 2, 6, 7, 6, 2, 6, 3, 2, 11, 2, 2, 4, 10, 2, 4, 2, 2, 2, 5, 2, 4, 3, 2, 9, 2, 3, 2, 6, 5, 5, 4, 6, 4, 13, 6, 11, 4, 2, 4, 2, 4, 7, 2, 10, 9, 4, 2, 3, 3, 2, 5, 2, 2, 4, 4, 2, 2, 3, 6, 5, 2, 2, 5, 3, 2, 3, 2, 5, 4, 4, 4, 2, 3, 5, 4, 2, 6, 3, 2, 2, 5, 6, 8, 4, 2, 2, 4, 6, 2, 2, 2, 10, 4, 2, 7, 10, 5, 2, 2, 6, 8, 4, 4, 3, 4, 2, 6, 4, 2, 2, 3, 2, 8, 4, 2, 10, 3, 6, 2, 2, 3, 5, 2, 7, 6, 2, 2, 3, 2, 4, 2, 2, 4, 2, 5, 2, 4, 10, 5, 2, 11, 4, 7, 2, 2, 2, 2, 2, 2, 9, 2, 2, 4, 3, 2, 3, 5, 2, 6, 4, 2, 6, 5, 5, 6, 9, 4, 2, 9, 3, 4, 4, 6, 2, 2, 4, 4, 7, 3, 2, 4, 2, 10, 5, 2, 3, 4, 10, 2, 4, 7, 2, 5, 2, 3, 8, 3, 5, 2, 2, 2, 3, 3, 7, 3, 2, 4, 2, 2, 3, 2, 4, 2, 3, 6, 3, 3, 2, 1, 2, 3, 2, 8, 2, 5, 2, 1, 2, 2, 7, 2, 2, 3, 3, 4, 4, 2, 4, 3, 3, 6, 2, 4, 2, 2, 2, 3, 2, 4, 2, 2, 2, 2, 2, 1])\n"
     ]
    }
   ],
   "source": [
    "    total_GB = set()\n",
    "    for time_step in range(step_num):\n",
    "        step_GB = GB_infomation_dict_list[time_step].keys()\n",
    "        total_GB = total_GB | step_GB\n",
    "\n",
    "    print(f\"The number of the GBs showing anti-curvature during whole simulations is {len(GB_id_focus.values())}\")\n",
    "    print(f\"The ratio of anti-curvature GBs during whole simulations is {len(GB_id_focus.values())/len(total_GB)*100}% in {len(total_GB)} GBs\")\n",
    "    print(GB_id_focus.values())"
   ]
  },
  {
   "cell_type": "code",
   "execution_count": 12,
   "id": "7e609b22-de14-4273-867b-60249af30047",
   "metadata": {},
   "outputs": [
    {
     "data": {
      "text/plain": [
       "Text(0, 0.5, 'velocity (voxel/step)')"
      ]
     },
     "execution_count": 12,
     "metadata": {},
     "output_type": "execute_result"
    },
    {
     "data": {
      "text/plain": [
       "<Figure size 432x288 with 0 Axes>"
      ]
     },
     "metadata": {},
     "output_type": "display_data"
    },
    {
     "data": {
      "image/png": "[encoded data removed]",
      "text/plain": [
       "<Figure size 504x504 with 1 Axes>"
      ]
     },
     "metadata": {
      "needs_background": "light"
     },
     "output_type": "display_data"
    },
    {
     "data": {
      "text/plain": [
       "<Figure size 432x288 with 0 Axes>"
      ]
     },
     "metadata": {},
     "output_type": "display_data"
    },
    {
     "data": {
      "image/png": "[encoded data removed]",
      "text/plain": [
       "<Figure size 504x504 with 1 Axes>"
      ]
     },
     "metadata": {
      "needs_background": "light"
     },
     "output_type": "display_data"
    }
   ],
   "source": [
    "    # All in 1 figrue\n",
    "    curvature_1Dlist_remove_0step = []\n",
    "    velocity_1Dlist_remove_0step = []\n",
    "    GBenergy_1Dlist_remove_0step = []\n",
    "    for i in range(0,len(GB_list_velocity_list)): \n",
    "        curvature_1Dlist_remove_0step.extend(GB_list_curvature_list[i])\n",
    "        velocity_1Dlist_remove_0step.extend(GB_list_velocity_list[i])\n",
    "        GBenergy_1Dlist_remove_0step.extend(GB_list_GBenergy_list[i])\n",
    "    curvature_1Dlist_exrandom_remove_0step = []\n",
    "    velocity_1Dlist_exrandom_remove_0step = []\n",
    "    GBenergy_1Dlist_exrandom_remove_0step = []\n",
    "    for i in range(0,len(GB_list_velocity_list_exrandom)): \n",
    "        curvature_1Dlist_exrandom_remove_0step.extend(GB_list_curvature_list_exrandom[i])\n",
    "        velocity_1Dlist_exrandom_remove_0step.extend(GB_list_velocity_list_exrandom[i])\n",
    "        GBenergy_1Dlist_exrandom_remove_0step.extend(GB_list_GBenergy_list_exrandom[i])\n",
    "    \n",
    "    # ignore the sign of curvature\n",
    "    for i in range(len(curvature_1Dlist_exrandom_remove_0step)):\n",
    "        if curvature_1Dlist_exrandom_remove_0step[i]<0: \n",
    "            curvature_1Dlist_exrandom_remove_0step[i] = - curvature_1Dlist_exrandom_remove_0step[i]\n",
    "            velocity_1Dlist_exrandom_remove_0step[i] = - velocity_1Dlist_exrandom_remove_0step[i]\n",
    "            \n",
    "    figure_name_all = f\"figures/2D_velocity_signedcurvature_{case_name}_5d.png\"\n",
    "    plt.figure()\n",
    "    fig = plt.figure(figsize=(7, 7))\n",
    "    plt.scatter(curvature_1Dlist_exrandom_remove_0step, velocity_1Dlist_exrandom_remove_0step,s=4,alpha=0.5)\n",
    "    plt.xlabel(\"curvature\", fontsize=18)\n",
    "    plt.ylabel(\"velocity (voxel/step)\", fontsize=18)\n",
    "    plt.xlim([0.0,0.1])\n",
    "    plt.ylim([-0.6,0.6])\n",
    "    # plt.savefig(figure_name_all, dpi=400,bbox_inches='tight')\n",
    "    \n",
    "    # plot velocity VS averaged curvature\n",
    "    bin_interval = 0.001\n",
    "    x_lim = [0.0,0.1]\n",
    "    bin_number = int((x_lim[1]-x_lim[0])/bin_interval)\n",
    "    curvature_coordinate = np.arange(x_lim[0],x_lim[1],bin_interval)+bin_interval/2\n",
    "\n",
    "    curvature_bin = np.zeros(bin_number)\n",
    "    velocity_bin = np.zeros(bin_number)\n",
    "    for index in range(len(curvature_1Dlist_exrandom_remove_0step)):\n",
    "        if abs(curvature_1Dlist_exrandom_remove_0step[index])>0.1: continue\n",
    "        curvature_bin[int((curvature_1Dlist_exrandom_remove_0step[index]-x_lim[0])//bin_interval)] += 1\n",
    "        velocity_bin[int((curvature_1Dlist_exrandom_remove_0step[index]-x_lim[0])//bin_interval)] += velocity_1Dlist_exrandom_remove_0step[index]\n",
    "    for i in range(bin_number): \n",
    "        if curvature_bin[i]>0: velocity_bin[i] = velocity_bin[i]/curvature_bin[i]\n",
    "    # plot\n",
    "    figure_name_all_bin = f\"figures/2D_velocity_signedcurvature_{case_name}_5d_afterBin.png\"\n",
    "    plt.figure()\n",
    "    fig = plt.figure(figsize=(7, 7))\n",
    "    # plt.scatter(curvature_coordinate, velocity_bin,s=4,alpha=0.5)\n",
    "    plt.xlim([0.0,0.1])\n",
    "    plt.ylim([-0.2,0.2])\n",
    "    plt.plot(curvature_coordinate[velocity_bin!=0], velocity_bin[velocity_bin!=0],'o', linewidth=2)\n",
    "    plt.xlabel(\"curvature\", fontsize=18)\n",
    "    plt.ylabel(\"velocity (voxel/step)\", fontsize=18)\n",
    "    # plt.savefig(figure_name_all_bin, dpi=400,bbox_inches='tight')\n"
   ]
  },
  {
   "cell_type": "code",
   "execution_count": 13,
   "id": "96aaa591-4902-4adc-bee7-240d3ade3fef",
   "metadata": {
    "tags": []
   },
   "outputs": [
    {
     "data": {
      "text/plain": [
       "Text(0, 0.5, 'num of site')"
      ]
     },
     "execution_count": 13,
     "metadata": {},
     "output_type": "execute_result"
    },
    {
     "data": {
      "text/plain": [
       "<Figure size 432x288 with 0 Axes>"
      ]
     },
     "metadata": {},
     "output_type": "display_data"
    },
    {
     "data": {
      "image/png": "[encoded data removed]",
      "text/plain": [
       "<Figure size 504x504 with 1 Axes>"
      ]
     },
     "metadata": {
      "needs_background": "light"
     },
     "output_type": "display_data"
    },
    {
     "data": {
      "text/plain": [
       "<Figure size 432x288 with 0 Axes>"
      ]
     },
     "metadata": {},
     "output_type": "display_data"
    },
    {
     "data": {
      "image/png": "[encoded data removed]",
      "text/plain": [
       "<Figure size 504x504 with 1 Axes>"
      ]
     },
     "metadata": {
      "needs_background": "light"
     },
     "output_type": "display_data"
    },
    {
     "data": {
      "text/plain": [
       "<Figure size 432x288 with 0 Axes>"
      ]
     },
     "metadata": {},
     "output_type": "display_data"
    },
    {
     "data": {
      "image/png": "[encoded data removed]",
      "text/plain": [
       "<Figure size 504x504 with 1 Axes>"
      ]
     },
     "metadata": {
      "needs_background": "light"
     },
     "output_type": "display_data"
    },
    {
     "data": {
      "text/plain": [
       "<Figure size 432x288 with 0 Axes>"
      ]
     },
     "metadata": {},
     "output_type": "display_data"
    },
    {
     "data": {
      "image/png": "[encoded data removed]",
      "text/plain": [
       "<Figure size 504x504 with 1 Axes>"
      ]
     },
     "metadata": {
      "needs_background": "light"
     },
     "output_type": "display_data"
    },
    {
     "data": {
      "text/plain": [
       "<Figure size 432x288 with 0 Axes>"
      ]
     },
     "metadata": {},
     "output_type": "display_data"
    },
    {
     "data": {
      "image/png": "[encoded data removed]",
      "text/plain": [
       "<Figure size 504x504 with 1 Axes>"
      ]
     },
     "metadata": {
      "needs_background": "light"
     },
     "output_type": "display_data"
    }
   ],
   "source": [
    "\n",
    "    figure_name_all = f\"figures/2D_velocity_GBenergy_{case_name}_5d.png\"\n",
    "    plt.figure()\n",
    "    fig = plt.figure(figsize=(7, 7))\n",
    "    plt.scatter(GBenergy_1Dlist_exrandom_remove_0step, velocity_1Dlist_exrandom_remove_0step,s=4,alpha=0.5,label='All GBs')\n",
    "    GB_antic_list_GBenergy_list = np.array(GB_antic_list_GBenergy_list)\n",
    "    GB_antic_list_velocity_list = np.array(GB_antic_list_velocity_list)\n",
    "    GB_antic_list_anticNum_array = np.array(GB_antic_list_anticNum_list)\n",
    "    plt.scatter(GB_antic_list_GBenergy_list[GB_antic_list_anticNum_array>=5], GB_antic_list_velocity_list[GB_antic_list_anticNum_array>=5],s=4,alpha=0.5,label='anti-c GBs(5 steps)')\n",
    "    plt.xlabel(\"GB energy\", fontsize=18)\n",
    "    plt.ylabel(\"velocity (voxel/step)\", fontsize=18)\n",
    "    plt.xlim([0.3,1.0])\n",
    "    plt.ylim([-0.6,0.6])\n",
    "    plt.legend(fontsize=18)\n",
    "    # plt.savefig(figure_name_all, dpi=400,bbox_inches='tight')\n",
    "    \n",
    "    # plot velocity VS averaged GBenergy\n",
    "    bin_interval = 0.01\n",
    "    x_lim = [0.25,1.0]\n",
    "    bin_number = int((x_lim[1]-x_lim[0])/bin_interval)\n",
    "    GBenergy_coordinate = np.arange(x_lim[0],x_lim[1],bin_interval)+bin_interval/2\n",
    "\n",
    "    GBenergy_bin = np.zeros(bin_number)\n",
    "    velocity_bin = np.zeros(bin_number)\n",
    "    antic_num_bin = np.zeros(bin_number)\n",
    "    for index in range(len(GBenergy_1Dlist_exrandom_remove_0step)):\n",
    "        if abs(GBenergy_1Dlist_exrandom_remove_0step[index])>=1.0: continue\n",
    "        GBenergy_bin[int((GBenergy_1Dlist_exrandom_remove_0step[index]-x_lim[0])//bin_interval)] += 1\n",
    "        velocity_bin[int((GBenergy_1Dlist_exrandom_remove_0step[index]-x_lim[0])//bin_interval)] += velocity_1Dlist_exrandom_remove_0step[index]\n",
    "        if velocity_1Dlist_exrandom_remove_0step[index] < 0: antic_num_bin[int((GBenergy_1Dlist_exrandom_remove_0step[index]-x_lim[0])//bin_interval)] += 1\n",
    "        if int((GBenergy_1Dlist_exrandom_remove_0step[index]-x_lim[0])//bin_interval)<0: print(GBenergy_1Dlist_exrandom_remove_0step[index])\n",
    "    for i in range(bin_number): \n",
    "        if GBenergy_bin[i]>0: velocity_bin[i] = velocity_bin[i]/GBenergy_bin[i]\n",
    "    # plot\n",
    "    figure_name_all_bin = f\"figures/2D_velocity_GBenergy_{case_name}_5d_afterBin.png\"\n",
    "    plt.figure()\n",
    "    fig = plt.figure(figsize=(7, 7))\n",
    "    # plt.scatter(GBenergy_coordinate, velocity_bin,s=4,alpha=0.5)\n",
    "    plt.xlim([0.3,1.0])\n",
    "    plt.ylim([-0.2,0.2])\n",
    "    plt.plot(GBenergy_coordinate[velocity_bin!=0], velocity_bin[velocity_bin!=0],'o', linewidth=2)\n",
    "    plt.xlabel(\"GB energy\", fontsize=18)\n",
    "    plt.ylabel(\"velocity (voxel/step)\", fontsize=18)\n",
    "    # plt.savefig(figure_name_all_bin, dpi=400,bbox_inches='tight')\n",
    "    \n",
    "    plt.figure()\n",
    "    fig = plt.figure(figsize=(7, 7))\n",
    "    plt.xlim([0.3,1.0])\n",
    "    plt.ylim([0,0.15])\n",
    "    plt.plot(GBenergy_coordinate, GBenergy_bin/np.sum(GBenergy_bin),'-', linewidth=2)\n",
    "    plt.xlabel(\"GB energy\", fontsize=18)\n",
    "    plt.ylabel(\"distribution\", fontsize=18)\n",
    "    \n",
    "    antic_ratio_bin = np.zeros(bin_number)\n",
    "    for bin_i in range(len(GBenergy_bin)):\n",
    "        if GBenergy_bin[bin_i] > 0: antic_ratio_bin[bin_i] = antic_num_bin[bin_i]/GBenergy_bin[bin_i]\n",
    "    plt.figure()\n",
    "    fig = plt.figure(figsize=(7, 7))\n",
    "    plt.xlim([0.3,1.0])\n",
    "    plt.ylim([0,0.5])\n",
    "    plt.plot(GBenergy_coordinate[antic_ratio_bin>0], antic_ratio_bin[antic_ratio_bin>0],'o', linewidth=2)\n",
    "    plt.xlabel(\"GB energy\", fontsize=18)\n",
    "    plt.ylabel(\"anti-c ratio\", fontsize=18)\n",
    "    \n",
    "    GBenergy_coordinate_larger0 = GBenergy_coordinate[antic_ratio_bin>0]\n",
    "    delta_n = -0.66*np.log(antic_ratio_bin[antic_ratio_bin>0])/GBenergy_coordinate[antic_ratio_bin>0]\n",
    "    mean_delta_n = np.mean(delta_n)\n",
    "    plt.figure()\n",
    "    fig = plt.figure(figsize=(7, 7))\n",
    "    plt.xlim([0.3,1.0])\n",
    "    plt.ylim([0,5])\n",
    "    plt.plot(GBenergy_coordinate_larger0, delta_n,'o', linewidth=2, label = 'results')\n",
    "    plt.plot(GBenergy_coordinate_larger0, mean_delta_n*np.ones(len(GBenergy_coordinate_larger0)),'--',linewidth=2,color='gray',label=f'mean-{round(mean_delta_n,2)}')\n",
    "    plt.legend(fontsize=18)\n",
    "    plt.xlabel(\"GB energy\", fontsize=18)\n",
    "    plt.ylabel(\"num of site\", fontsize=18)\n",
    "        \n"
   ]
  },
  {
   "cell_type": "code",
   "execution_count": null,
   "id": "2501136d-68e1-40d1-b2b9-f783e9c8309e",
   "metadata": {},
   "outputs": [],
   "source": []
  },
  {
   "cell_type": "code",
   "execution_count": 94,
   "id": "21b813f5-daa4-484e-a6c2-418239a0ccf4",
   "metadata": {},
   "outputs": [],
   "source": [
    "    # Plot relationship for each time steps\n",
    "    for time_step in range(0,len(GB_list_velocity_list),10):\n",
    "        figure_name = f\"figures/2D_velocity_signedcurvature_MI_step{time_step}_{case_name}.png\"\n",
    "        plt.figure()\n",
    "        fig = plt.figure(figsize=(7, 7))\n",
    "        plt.scatter(GB_list_curvature_list[time_step], GB_list_velocity_list[time_step],s=4,alpha=0.5)\n",
    "        plt.xlabel(\"curvature\", fontsize=18)\n",
    "        plt.ylabel(\"velocity (voxel/step)\", fontsize=18)\n",
    "        plt.xlim([-0.6,0.6])\n",
    "        plt.ylim([-10,10])\n",
    "        # plt.savefig(figure_name, dpi=400,bbox_inches='tight')\n",
    "        \n",
    "        # plot velocity VS averaged curvature\n",
    "        bin_interval = 0.001\n",
    "        bin_number = int(1.2/bin_interval)\n",
    "        curvature_coordinate = np.arange(-0.6,0.6,bin_interval)+bin_interval/2\n",
    "\n",
    "        curvature_bin = np.zeros(bin_number)\n",
    "        velocity_bin = np.zeros(bin_number)\n",
    "        for index in range(len(GB_list_curvature_list[time_step])):\n",
    "            if abs(GB_list_curvature_list[time_step][index])>0.6: continue\n",
    "            curvature_bin[int((GB_list_curvature_list[time_step][index]+0.6)//bin_interval)] += 1\n",
    "            velocity_bin[int((GB_list_curvature_list[time_step][index]+0.6)//bin_interval)] += GB_list_velocity_list[time_step][index]\n",
    "        for i in range(bin_number): \n",
    "            if curvature_bin[i]>0: velocity_bin[i] = velocity_bin[i]/curvature_bin[i]\n",
    "        # plot\n",
    "        figure_name_all_bin = f\"figures/2D_velocity_signedcurvature_step{time_step}_{case_name}_afterBin.png\"\n",
    "        plt.figure()\n",
    "        fig = plt.figure(figsize=(7, 7))\n",
    "        # plt.scatter(curvature_coordinate, velocity_bin,s=4,alpha=0.5)\n",
    "        plt.plot(curvature_coordinate, velocity_bin,'o', linewidth=2)\n",
    "        plt.xlabel(\"curvature\", fontsize=18)\n",
    "        plt.ylabel(\"velocity (voxel/step)\", fontsize=18)\n",
    "        plt.xlim([-0.6,0.6])\n",
    "        plt.ylim([-5,5])\n",
    "        # plt.savefig(figure_name_all_bin, dpi=400,bbox_inches='tight')"
   ]
  },
  {
   "cell_type": "code",
   "execution_count": null,
   "id": "47e6a561-4483-49d8-8ddd-f78e643a2ae1",
   "metadata": {},
   "outputs": [],
   "source": []
  },
  {
   "cell_type": "markdown",
   "id": "bba82fb0-9f73-48dc-8a89-0bbd9316c7a0",
   "metadata": {},
   "source": []
  },
  {
   "cell_type": "code",
   "execution_count": 25,
   "id": "b6f0d347-fb1b-4010-a68f-cc171486d9c8",
   "metadata": {},
   "outputs": [],
   "source": []
  },
  {
   "cell_type": "code",
   "execution_count": 24,
   "id": "63a608d4-8807-4dfc-b364-4f0e17d354de",
   "metadata": {
    "tags": []
   },
   "outputs": [],
   "source": []
  },
  {
   "cell_type": "code",
   "execution_count": null,
   "id": "c39770d2-4fd3-4661-b53b-b52437e4dacd",
   "metadata": {
    "tags": []
   },
   "outputs": [],
   "source": []
  },
  {
   "cell_type": "code",
   "execution_count": 17,
   "id": "0ef2391b-b155-42c1-b668-22cedf0227ce",
   "metadata": {
    "tags": []
   },
   "outputs": [
    {
     "name": "stdout",
     "output_type": "stream",
     "text": [
      "The longest anti-curvature behavior is 135601364 with steps 19\n",
      "The anti-curvature step 8 has velocity - -0.018 and curvature - 0.038.\n",
      "The anti-curvature step 10 has velocity - -0.04 and curvature - 0.018.\n",
      "The anti-curvature step 12 has velocity - -0.03 and curvature - 0.016.\n",
      "The anti-curvature step 14 has velocity - -0.016 and curvature - 0.001.\n",
      "The anti-curvature step 15 has velocity - -0.047 and curvature - 0.009.\n",
      "The anti-curvature step 19 has velocity - -0.112 and curvature - 0.018.\n",
      "The anti-curvature step 21 has velocity - -0.055 and curvature - 0.009.\n",
      "The anti-curvature step 24 has velocity - -0.008 and curvature - 0.007.\n",
      "The anti-curvature step 25 has velocity - -0.055 and curvature - 0.007.\n",
      "The anti-curvature step 29 has velocity - -0.018 and curvature - 0.013.\n",
      "The anti-curvature step 31 has velocity - -0.025 and curvature - 0.024.\n",
      "The anti-curvature step 33 has velocity - -0.067 and curvature - 0.036.\n",
      "The anti-curvature step 34 has velocity - -0.009 and curvature - 0.013.\n",
      "The anti-curvature step 35 has velocity - -0.005 and curvature - 0.01.\n",
      "The anti-curvature step 36 has velocity - -0.059 and curvature - 0.027.\n",
      "The anti-curvature step 37 has velocity - -0.033 and curvature - 0.003.\n",
      "The anti-curvature step 39 has velocity - -0.034 and curvature - 0.022.\n",
      "The anti-curvature step 40 has velocity - -0.036 and curvature - 0.01.\n",
      "The anti-curvature step 41 has velocity - -0.014 and curvature - 0.034.\n",
      "The anti-curvature step 42 has velocity - -0.07 and curvature - 0.021.\n",
      "The anti-curvature step 43 has velocity - -0.031 and curvature - 0.006.\n",
      "The anti-curvature step 45 has velocity - -0.003 and curvature - 0.003.\n",
      "The anti-curvature step 47 has velocity - -0.029 and curvature - 0.006.\n",
      "The anti-curvature step 50 has velocity - -0.057 and curvature - 0.017.\n",
      "The anti-curvature step 51 has velocity - -0.035 and curvature - 0.032.\n",
      "The anti-curvature step 53 has velocity - -0.032 and curvature - 0.009.\n",
      "The anti-curvature step 54 has velocity - -0.054 and curvature - 0.049.\n",
      "The anti-curvature step 55 has velocity - -0.023 and curvature - 0.013.\n",
      "The anti-curvature step 57 has velocity - -0.079 and curvature - 0.016.\n",
      "The anti-curvature step 59 has velocity - -0.064 and curvature - 0.02.\n",
      "The anti-curvature step 60 has velocity - -0.007 and curvature - 0.031.\n",
      "The anti-curvature step 63 has velocity - -0.035 and curvature - 0.016.\n",
      "The anti-curvature step 65 has velocity - -0.031 and curvature - 0.088.\n",
      "The anti-curvature step 67 has velocity - -0.033 and curvature - 0.019.\n",
      "The anti-curvature step 68 has velocity - -0.028 and curvature - 0.004.\n",
      "The anti-curvature step 69 has velocity - -0.058 and curvature - 0.02.\n",
      "The anti-curvature step 73 has velocity - -0.066 and curvature - 0.022.\n",
      "The anti-curvature step 74 has velocity - -0.094 and curvature - 0.004.\n",
      "The anti-curvature step 78 has velocity - -0.088 and curvature - 0.002.\n",
      "The anti-curvature step 79 has velocity - -0.016 and curvature - 0.009.\n",
      "The anti-curvature step 85 has velocity - -0.067 and curvature - 0.001.\n",
      "The anti-curvature step 87 has velocity - -0.012 and curvature - 0.009.\n",
      "The anti-curvature step 89 has velocity - -0.036 and curvature - 0.017.\n",
      "The anti-curvature step 91 has velocity - -0.053 and curvature - 0.023.\n",
      "The anti-curvature step 92 has velocity - -0.011 and curvature - 0.012.\n",
      "The anti-curvature step 94 has velocity - -0.058 and curvature - 0.002.\n",
      "The anti-curvature step 95 has velocity - -0.017 and curvature - 0.01.\n",
      "The anti-curvature step 96 has velocity - -0.012 and curvature - 0.002.\n",
      "The anti-curvature step 100 has velocity - -0.049 and curvature - 0.01.\n",
      "The anti-curvature step 101 has velocity - -0.033 and curvature - 0.001.\n",
      "The anti-curvature step 103 has velocity - -0.079 and curvature - 0.01.\n",
      "The anti-curvature step 105 has velocity - -0.033 and curvature - 0.021.\n",
      "The anti-curvature step 106 has velocity - -0.027 and curvature - 0.002.\n",
      "The anti-curvature step 107 has velocity - -0.132 and curvature - 0.005.\n",
      "The anti-curvature step 112 has velocity - -0.035 and curvature - 0.019.\n"
     ]
    },
    {
     "data": {
      "text/plain": [
       "Text(0.5, 1.0, 'GBid 135601364 step all')"
      ]
     },
     "execution_count": 17,
     "metadata": {},
     "output_type": "execute_result"
    },
    {
     "data": {
      "text/plain": [
       "<Figure size 432x288 with 0 Axes>"
      ]
     },
     "metadata": {},
     "output_type": "display_data"
    },
    {
     "data": {
      "image/png": "[encoded data removed]",
      "text/plain": [
       "<Figure size 504x504 with 1 Axes>"
      ]
     },
     "metadata": {
      "needs_background": "light"
     },
     "output_type": "display_data"
    }
   ],
   "source": [
    "# Get more information for a focus GB\n",
    "\n",
    "key_focus = 0\n",
    "for key in GB_id_focus:\n",
    "    if GB_id_focus[key] == 19: \n",
    "        print(f\"The longest anti-curvature behavior is {key} with steps {GB_id_focus[key]}\")\n",
    "        key_focus = key\n",
    "        # break\n",
    "\n",
    "v_focus = []\n",
    "c_focus = []\n",
    "for time_step in range(0,step_num):\n",
    "    if key_focus in GB_infomation_dict_list[time_step]:\n",
    "        # Calculate dV\n",
    "        pair_id_pair_focus = GB_infomation_dict_list[time_step][key_focus][6:8]\n",
    "        growth_direction1 = (npy_file_aniso[time_step]==pair_id_pair_focus[0])*(npy_file_aniso[time_step+1]==pair_id_pair_focus[1])\n",
    "        growth_direction2 = (npy_file_aniso[time_step]==pair_id_pair_focus[1])*(npy_file_aniso[time_step+1]==pair_id_pair_focus[0])\n",
    "        dV = np.sum(growth_direction1)-np.sum(growth_direction2) # velocity with direction\n",
    "        # Calculate velocity\n",
    "        velocity = dV/time_interval/(GB_infomation_dict_list[time_step][key_focus][5]/2)\n",
    "        current_curvature_value = GB_infomation_dict_list[time_step][key_focus][4]\n",
    "        \n",
    "        # make curvature always opposite\n",
    "        if current_curvature_value<0: \n",
    "            current_curvature_value = -current_curvature_value\n",
    "            velocity = -velocity\n",
    "        \n",
    "        # store v-c for a focus GB\n",
    "        v_focus.append(velocity)\n",
    "        c_focus.append(current_curvature_value)\n",
    "        \n",
    "        if current_curvature_value*velocity<-0.00 and GB_infomation_dict_list[time_step][key_focus][5]>=100: \n",
    "            print(f\"The anti-curvature step {time_step} has velocity - {round(velocity,3)} and curvature - {round(current_curvature_value,3)}.\")\n",
    "        \n",
    "        \n",
    "\n",
    "v_focus = np.array(v_focus)\n",
    "c_focus = np.array(c_focus)\n",
    "# plot v-c for a focus GB\n",
    "wanted_steps = v_focus<0\n",
    "alpha_list = np.linspace(0.2,1,np.sum(wanted_steps))\n",
    "\n",
    "figure_name_one_GB = f\"figures/2D_velocity_signedcurvature_{case_name}_GB{key_focus}_5d.png\"\n",
    "plt.figure()\n",
    "fig = plt.figure(figsize=(7, 7))\n",
    "import matplotlib as mpl\n",
    "cmap = mpl.colormaps['tab20']\n",
    "colors = cmap(np.linspace(0, 1, 20))\n",
    "plt.scatter(c_focus[wanted_steps], v_focus[wanted_steps],s=8,alpha=alpha_list,color=colors[0])\n",
    "plt.scatter(c_focus[~wanted_steps], v_focus[~wanted_steps],s=8,alpha=0.2,color=colors[6])\n",
    "plt.plot(c_focus,v_focus,alpha=0.1)\n",
    "plt.xlabel(\"curvature\", fontsize=18)\n",
    "plt.ylabel(\"velocity (voxel/step)\", fontsize=18)\n",
    "plt.xlim([0,0.17])\n",
    "plt.ylim([-0.2,0.2])\n",
    "plt.legend([\"anti-c\", \"c\", \"sequence\"],fontsize=18)\n",
    "plt.title(f\"GBid {key_focus} step all\")\n",
    "# plt.savefig(figure_name_one_GB, dpi=400,bbox_inches='tight')\n",
    "\n",
    "\n",
    "\n",
    "\n"
   ]
  },
  {
   "cell_type": "code",
   "execution_count": 212,
   "id": "8685c367-edac-427c-a027-acbf536ae4a0",
   "metadata": {
    "tags": []
   },
   "outputs": [
    {
     "name": "stderr",
     "output_type": "stream",
     "text": [
      "ffmpeg version 4.3.2 Copyright (c) 2000-2021 the FFmpeg developers\n",
      "  built with gcc 10.3.0 (GCC)\n",
      "  configuration: --prefix=/home/conda/feedstock_root/build_artifacts/ffmpeg_1645955405450/_h_env_placehold_placehold_placehold_placehold_placehold_placehold_placehold_placehold_placehold_placehold_placehold_placehold_placehold_placehold_placehold_placehold_placehold_placehold_plac --cc=/home/conda/feedstock_root/build_artifacts/ffmpeg_1645955405450/_build_env/bin/x86_64-conda-linux-gnu-cc --disable-doc --disable-openssl --enable-avresample --enable-gnutls --enable-gpl --enable-hardcoded-tables --enable-libfreetype --enable-libopenh264 --enable-libx264 --enable-pic --enable-pthreads --enable-shared --disable-static --enable-version3 --enable-zlib --enable-libmp3lame --pkg-config=/home/conda/feedstock_root/build_artifacts/ffmpeg_1645955405450/_build_env/bin/pkg-config\n",
      "  libavutil      56. 51.100 / 56. 51.100\n",
      "  libavcodec     58. 91.100 / 58. 91.100\n",
      "  libavformat    58. 45.100 / 58. 45.100\n",
      "  libavdevice    58. 10.100 / 58. 10.100\n",
      "  libavfilter     7. 85.100 /  7. 85.100\n",
      "  libavresample   4.  0.  0 /  4.  0.  0\n",
      "  libswscale      5.  7.100 /  5.  7.100\n",
      "  libswresample   3.  7.100 /  3.  7.100\n",
      "  libpostproc    55.  7.100 / 55.  7.100\n",
      "Input #0, image2, from '/home/lin.yang/projects/VECTOR/examples/GB_velocity/anti_curvature_figures/Detail_2D_microstructure_key145919744_step.%04d._M_20k.png':\n",
      "  Duration: 00:00:07.60, start: 0.000000, bitrate: N/A\n",
      "    Stream #0:0: Video: png, rgba(pc), 1680x2296 [SAR 15748:15748 DAR 30:41], 10 fps, 10 tbr, 10 tbn, 10 tbc\n",
      "Stream mapping:\n",
      "  Stream #0:0 -> #0:0 (png (native) -> h264 (libx264))\n",
      "Press [q] to stop, [?] for help\n",
      "[libx264 @ 0x5641f9b95240] using SAR=1/1\n",
      "[libx264 @ 0x5641f9b95240] using cpu capabilities: MMX2 SSE2Fast SSSE3 SSE4.2 AVX FMA3 BMI2 AVX2\n",
      "[libx264 @ 0x5641f9b95240] profile High, level 5.0, 4:2:0, 8-bit\n",
      "[libx264 @ 0x5641f9b95240] 264 - core 161 r3030M 8bd6d28 - H.264/MPEG-4 AVC codec - Copyleft 2003-2020 - http://www.videolan.org/x264.html - options: cabac=1 ref=3 deblock=1:0:0 analyse=0x3:0x113 me=hex subme=7 psy=1 psy_rd=1.00:0.00 mixed_ref=1 me_range=16 chroma_me=1 trellis=1 8x8dct=1 cqm=0 deadzone=21,11 fast_pskip=1 chroma_qp_offset=-2 threads=72 lookahead_threads=12 sliced_threads=0 nr=0 decimate=1 interlaced=0 bluray_compat=0 constrained_intra=0 bframes=3 b_pyramid=2 b_adapt=1 b_bias=0 direct=1 weightb=1 open_gop=0 weightp=2 keyint=250 keyint_min=10 scenecut=40 intra_refresh=0 rc_lookahead=40 rc=crf mbtree=1 crf=23.0 qcomp=0.60 qpmin=0 qpmax=69 qpstep=4 ip_ratio=1.40 aq=1:1.00\n",
      "Output #0, mp4, to 'anti_curvature_figures/Detail_2D_microstructure_key145919744_M_20k.mp4':\n",
      "  Metadata:\n",
      "    encoder         : Lavf58.45.100\n",
      "    Stream #0:0: Video: h264 (libx264) (avc1 / 0x31637661), yuv420p, 1680x2296 [SAR 1:1 DAR 30:41], q=-1--1, 10 fps, 10240 tbn, 10 tbc\n",
      "    Metadata:\n",
      "      encoder         : Lavc58.91.100 libx264\n",
      "    Side data:\n",
      "      cpb: bitrate max/min/avg: 0/0/0 buffer size: 0 vbv_delay: N/A\n",
      "frame=   76 fps= 43 q=-1.0 Lsize=    1091kB time=00:00:07.30 bitrate=1224.5kbits/s speed= 4.1x    \n",
      "video:1090kB audio:0kB subtitle:0kB other streams:0kB global headers:0kB muxing overhead: 0.156139%\n",
      "[libx264 @ 0x5641f9b95240] frame I:2     Avg QP: 7.38  size: 30124\n",
      "[libx264 @ 0x5641f9b95240] frame P:25    Avg QP:21.14  size: 16442\n",
      "[libx264 @ 0x5641f9b95240] frame B:49    Avg QP:24.73  size: 13136\n",
      "[libx264 @ 0x5641f9b95240] consecutive B-frames:  2.6% 26.3% 23.7% 47.4%\n",
      "[libx264 @ 0x5641f9b95240] mb I  I16..4: 86.4%  9.1%  4.5%\n",
      "[libx264 @ 0x5641f9b95240] mb P  I16..4:  0.3%  2.4%  1.4%  P16..4:  4.4%  1.0%  0.9%  0.0%  0.0%    skip:89.5%\n",
      "[libx264 @ 0x5641f9b95240] mb B  I16..4:  0.2%  0.3%  0.8%  B16..8:  4.1%  1.3%  0.6%  direct: 0.3%  skip:92.3%  L0:55.7% L1:43.7% BI: 0.6%\n",
      "[libx264 @ 0x5641f9b95240] 8x8 transform intra:25.8% inter:4.1%\n",
      "[libx264 @ 0x5641f9b95240] coded y,uvDC,uvAC intra: 10.7% 22.2% 21.4% inter: 0.7% 2.1% 2.1%\n",
      "[libx264 @ 0x5641f9b95240] i16 v,h,dc,p: 93%  6%  1%  0%\n",
      "[libx264 @ 0x5641f9b95240] i8 v,h,dc,ddl,ddr,vr,hd,vl,hu: 19%  4% 77%  0%  0%  0%  0%  0%  0%\n",
      "[libx264 @ 0x5641f9b95240] i4 v,h,dc,ddl,ddr,vr,hd,vl,hu: 34% 19% 38%  2%  1%  2%  1%  2%  1%\n",
      "[libx264 @ 0x5641f9b95240] i8c dc,h,v,p: 79% 10%  9%  1%\n",
      "[libx264 @ 0x5641f9b95240] Weighted P-Frames: Y:0.0% UV:0.0%\n",
      "[libx264 @ 0x5641f9b95240] ref P L0: 71.1%  1.4% 15.8% 11.7%\n",
      "[libx264 @ 0x5641f9b95240] ref B L0: 69.6% 25.2%  5.1%\n",
      "[libx264 @ 0x5641f9b95240] ref B L1: 92.3%  7.7%\n",
      "[libx264 @ 0x5641f9b95240] kb/s:1173.66\n"
     ]
    },
    {
     "data": {
      "text/plain": [
       "0"
      ]
     },
     "execution_count": 212,
     "metadata": {},
     "output_type": "execute_result"
    }
   ],
   "source": [
    "import os\n",
    "os.system(f'ffmpeg -framerate 10 -i /home/lin.yang/projects/VECTOR/examples/GB_velocity/anti_curvature_figures/Detail_2D_microstructure_key145919744_step.%04d._M_20k.png \\\n",
    "                    -c:v libx264 -vf \"pad=ceil(iw/2)*2:ceil(ih/2)*2\" -pix_fmt yuv420p \\\n",
    "                    anti_curvature_figures/Detail_2D_microstructure_key145919744_M_20k.mp4')"
   ]
  },
  {
   "cell_type": "code",
   "execution_count": 213,
   "id": "f8c6a201-3ce1-40ff-a227-fc129528b8a3",
   "metadata": {
    "tags": []
   },
   "outputs": [],
   "source": [
    "# 197673737\n",
    "# 47836998\n",
    "# fully 88634987\n",
    "# fully 161070774\n",
    "# fully 30685022\n",
    "# Find the exaxt grain id and time steps\n",
    "GB_id = 145919744\n",
    "for time_step in range(40,step_num):\n",
    "    if GB_id not in GB_infomation_dict_list[time_step]: continue\n",
    "    pair_id_pair_focus = GB_infomation_dict_list[time_step][GB_id][6:8]\n",
    "    break\n",
    "print(f\"The id pairs are {list(map(int,pair_id_pair_focus))}\")\n",
    "\n",
    "time_step_init, time_step_end = 24, 100\n",
    "check_edge = 0\n",
    "ss = 0\n",
    "for time_step in tqdm(range(time_step_init,time_step_end)):\n",
    "    current_microstructure_focus = npy_file_aniso[time_step,:,:,0]\n",
    "    grain_location_focus = (current_microstructure_focus==pair_id_pair_focus[0]) + (current_microstructure_focus==pair_id_pair_focus[1])\n",
    "    if check_edge ==0:\n",
    "        x_info = np.arange(0,2400,1)[np.sum(grain_location_focus,0)*np.arange(0,2400,1)>0]\n",
    "        x_len = np.sum(x_info>0)\n",
    "        x_lim_max = int(np.max(x_info)+(x_len/2))\n",
    "        x_lim_min = int(np.min(x_info)-(x_len/2))\n",
    "        y_info = np.arange(0,2400,1)[np.sum(grain_location_focus,1)*np.arange(0,2400,1)>0]\n",
    "        y_len = np.sum(y_info>0)\n",
    "        y_lim_max = int(np.max(y_info)+y_len/2)\n",
    "        y_lim_min = int(np.min(y_info)-y_len/2)\n",
    "        check_edge+=1\n",
    "    if np.sum(grain_location_focus)==0: continue\n",
    "    current_microstructure_focus_updated = current_microstructure_focus*grain_location_focus\n",
    "    \n",
    "    if GB_id in GB_infomation_dict_list[time_step]:\n",
    "        # Calculate velocity\n",
    "        growth_direction1 = (npy_file_aniso[time_step]==pair_id_pair_focus[0])*(npy_file_aniso[time_step+1]==pair_id_pair_focus[1])\n",
    "        growth_direction2 = (npy_file_aniso[time_step]==pair_id_pair_focus[1])*(npy_file_aniso[time_step+1]==pair_id_pair_focus[0])\n",
    "        dV = np.sum(growth_direction1)-np.sum(growth_direction2) # velocity with direction\n",
    "        # Calculate velocity\n",
    "        velocity = dV/time_interval/(GB_infomation_dict_list[time_step][GB_id][5]/2)\n",
    "        current_curvature_value = GB_infomation_dict_list[time_step][GB_id][4]\n",
    "    else:\n",
    "        velocity = 0\n",
    "        current_curvature_value = 0\n",
    "    \n",
    "    if ss<10:\n",
    "        ss_char = f'0{ss}'\n",
    "    else:\n",
    "        ss_char = f'{ss}'\n",
    "    ss+=1\n",
    "    figure_name_anti_curvature_detail = figure_name_anti_curvature = f\"anti_curvature_figures/Detail_2D_microstructure_key{GB_id}_step.00{ss_char}._{case_name}.png\"\n",
    "    plt.figure(figsize=(7,7))\n",
    "    plt.imshow(current_microstructure_focus_updated,vmin=0,vmax=20000)\n",
    "    plt.xlim([x_lim_min, x_lim_max])\n",
    "    plt.ylim([y_lim_max, y_lim_min])\n",
    "    if round(velocity,2)*round(current_curvature_value,3)<0:\n",
    "        plt.title(rf\"v: {round(velocity,2)} $\\kappa$: {round(current_curvature_value,3)} at step {time_step}\", color='orange', fontsize=16)\n",
    "    else:\n",
    "        plt.title(rf\"v: {round(velocity,2)} $\\kappa$: {round(current_curvature_value,3)} at step {time_step}\", fontsize=16)\n",
    "    # plt.axis(\"off\")\n",
    "    # plt.savefig(figure_name_anti_curvature_detail, dpi=400,bbox_inches='tight')"
   ]
  },
  {
   "cell_type": "code",
   "execution_count": 136,
   "id": "b508666b-2912-4561-b1de-3aaf4631a472",
   "metadata": {
    "tags": []
   },
   "outputs": [],
   "source": [
    "\n",
    "def energy_function_m_axis(m_polar_angle, m_azimuth_angle):\n",
    "    return abs(np.cos(m_azimuth_angle)) * m_polar_angle / np.pi\n",
    "\n",
    "def energy_function_m_axis_new(m_polar_angle, m_azimuth_angle):\n",
    "    # ss = abs(np.cos(m_azimuth_angle/2)) + abs(np.cos(m_polar_angle))\n",
    "    \n",
    "    ss = (abs(np.cos(m_azimuth_angle/2))**0.4 + abs(np.cos(m_polar_angle))**0.4)\n",
    "    if ss > 1: return 1\n",
    "    else: return ss\n",
    "    \n",
    "    # if abs(m_azimuth_angle-np.pi) < np.pi/18 and abs(m_polar_angle - np.pi/2) < np.pi/36: return 0.0\n",
    "    # else: return 1.0\n",
    "    \n",
    "    # return (abs(np.cos(m_azimuth_angle/2))**1.0 + abs(np.cos(m_polar_angle))**1.0)\n",
    "\n",
    "def energy_function_m(m_polar_angle, m_azimuth_angle, m_angle):\n",
    "    max_m_angle = 10/180*np.pi\n",
    "    if m_angle == 0: return 0\n",
    "    if m_angle>max_m_angle: m_angle=max_m_angle-0.00001\n",
    "    m_angle_impact = m_angle/max_m_angle*(1-np.log(m_angle/max_m_angle))\n",
    "    return energy_function_m_axis_new(m_polar_angle, m_azimuth_angle)*m_angle_impact\n",
    "\n",
    "def energy_function_i_axis(i_polar_angle, i_azimuth_angle):\n",
    "    return 0.3 + abs(np.cos(i_azimuth_angle)) * (0.7 + i_polar_angle / (np.pi/2) * (0.3 - 0.7))\n",
    "\n",
    "def energy_function_final(m_polar_angle, m_azimuth_angle, m_angle, i_polar_angle, i_azimuth_angle):\n",
    "    \n",
    "    if i_polar_angle>np.pi/2: i_polar_angle = np.pi-i_polar_angle\n",
    "    m_energy_impact = energy_function_m(m_polar_angle, m_azimuth_angle, m_angle)\n",
    "    return 0.3 + abs(np.cos(i_azimuth_angle)) * (0.7*m_energy_impact + i_polar_angle / (np.pi/2) * (0.3*m_energy_impact - 0.7*m_energy_impact))\n",
    "\n",
    "\n",
    "def rotation_matrix_from_vectors(vec1, vec2):\n",
    "    \"\"\" Find the rotation matrix that aligns vec1 to vec2\n",
    "    :param vec1: A 3d \"source\" vector\n",
    "    :param vec2: A 3d \"destination\" vector\n",
    "    :return mat: A transform matrix (3x3) which when applied to vec1, aligns it with vec2.\n",
    "    \"\"\"\n",
    "    a, b = (vec1 / np.linalg.norm(vec1)).reshape(3), (vec2 / np.linalg.norm(vec2)).reshape(3)\n",
    "    v = np.cross(a, b)\n",
    "    c = np.dot(a, b)\n",
    "    s = np.linalg.norm(v)\n",
    "    kmat = np.array([[0, -v[2], v[1]], [v[2], 0, -v[0]], [-v[1], v[0], 0]])\n",
    "    rotation_matrix = np.eye(3) + kmat + kmat.dot(kmat) * ((1 - c) / (s ** 2))\n",
    "    return rotation_matrix"
   ]
  },
  {
   "cell_type": "code",
   "execution_count": 50,
   "id": "11b10ead-c344-4335-b3f6-a9fd2aaea54d",
   "metadata": {},
   "outputs": [],
   "source": [
    "# # Plot more information for a focus GB\n",
    "\n",
    "# # Misorientation\n",
    "# init_file_folder = \"/blue/michael.tonks/lin.yang/SPPARKS-VirtualIncEnergy/2d_poly_multiCoreCompare/IC/\"\n",
    "# init_file_name = f\"Case4.init\"\n",
    "# # misorientation calculation preparation\n",
    "# grain_nums = 20000\n",
    "# Osym = 24\n",
    "# symm2quat_matrix, quartAngle = post_processing.pre_operation_misorientation(grain_nums, init_file_folder + init_file_name, Osym)\n",
    "# print(\"> Pre-work done\")\n",
    "\n",
    "# misorientation = post_processing.multiP_calM(list(map(int,pair_id_pair_focus)), quartAngle, symm2quat_matrix, Osym)\n",
    "# misorientation_angle = misorientation[0] # miso angle in randians\n",
    "# misorientation_axis = misorientation[1:]\n",
    "\n",
    "# # misorientation energy\n",
    "# m_polar_angle = math.acos(round(misorientation_axis[2],3))\n",
    "# m_azimuth_angle = math.atan2(misorientation_axis[1], misorientation_axis[0]) + np.pi\n",
    "# print(f\"The m-angle: {misorientation_angle/np.pi*180}, m_polar_angle: {m_polar_angle/np.pi*180}, m_azimuth_angle: {m_azimuth_angle/np.pi*180}\")\n",
    "# print(f\"The misorientation energy: {energy_function_m(m_polar_angle, m_azimuth_angle, misorientation_angle)}\")\n",
    "\n"
   ]
  },
  {
   "cell_type": "code",
   "execution_count": 51,
   "id": "de699200-8f67-45dc-ad6e-02b0aa8101d5",
   "metadata": {},
   "outputs": [],
   "source": [
    "# # inclination\n",
    "# GB_infomation_inc_dict_list = []\n",
    "# for time_step in tqdm(range(step_num)):\n",
    "#     data_file_name = f\"GB_velocity_data/2D_inclination_velocity_data_{case_name}_step{time_step}.npz\"\n",
    "#     if os.path.exists(data_file_folder + data_file_name):\n",
    "#         npz_file = np.load(data_file_folder + data_file_name,allow_pickle=True)\n",
    "#         GB_infomation_inc_dict = npz_file[\"GB_infomation_dict\"]\n",
    "#         GB_infomation_inc_dict_list.append(GB_infomation_inc_dict.item())\n",
    "#     else:\n",
    "#         print(f\"Please run inclination-velocity analysis for {case_name}\")\n",
    "#         break\n",
    "\n",
    "# time_interval = 30\n",
    "# GB_inclination_energy_list = []\n",
    "# GB_final_energy_list = []\n",
    "# GB_velocity_list = []\n",
    "# for time_step in range(step_num):\n",
    "#     if time_step+1 >= step_num: continue\n",
    "#     if key_focus not in GB_infomation_inc_dict_list[time_step]: continue\n",
    "#     if GB_infomation_inc_dict_list[time_step+1].get(key_focus) is None: continue\n",
    "#     # Calculate volumn change\n",
    "#     growth_direction1 = (npy_file_aniso[time_step]==pair_id_pair_focus[0])*(npy_file_aniso[time_step+1]==pair_id_pair_focus[1])\n",
    "#     growth_direction2 = (npy_file_aniso[time_step]==pair_id_pair_focus[1])*(npy_file_aniso[time_step+1]==pair_id_pair_focus[0])\n",
    "#     dV = np.sum(growth_direction1)-np.sum(growth_direction2) # velocity with direction\n",
    "#     # Calculate velocity\n",
    "#     velocity = dV/time_interval/(GB_infomation_inc_dict_list[time_step][key_focus][6]/2)\n",
    "#     # change velocity sign with curvature\n",
    "#     current_curvature_value = GB_infomation_dict_list[time_step][key_focus][4]\n",
    "#     # make curvature always opposite\n",
    "#     if current_curvature_value<0: \n",
    "#         current_curvature_value = -current_curvature_value\n",
    "#         velocity = -velocity\n",
    "    \n",
    "#     GB_velocity_list.append(velocity)\n",
    "\n",
    "#     # Get inclination\n",
    "#     DX, DY = GB_infomation_inc_dict_list[time_step][key_focus][4:6]\n",
    "#     vec_len = np.sqrt(DX**2+DY**2)\n",
    "#     if vec_len==0: dx, dy = 0, 0\n",
    "#     else: dx, dy = -DX/vec_len, DY/vec_len # the process just repeated get_grad(P,i,j) in myInput.py \n",
    "#     dz = 0\n",
    "#     dy = -dy # Update the issue in VECTOR\n",
    "#     inclination = np.array([dx,dy,dz])\n",
    "#     # Get misorientation\n",
    "#     # rotate misorientation axis to z axis, and incliantion to final vector\n",
    "#     z_axis = np.array([0,0,1])\n",
    "#     rotation_matrix_m_axis_to_z_axis = rotation_matrix_from_vectors(misorientation_axis, z_axis)\n",
    "#     incliantion_refer_m_axis = rotation_matrix_m_axis_to_z_axis.dot(inclination)\n",
    "#     # Get polar and azimuth dsitribution\n",
    "#     i_polar_angle = math.acos(round(incliantion_refer_m_axis[2],3))\n",
    "#     i_azimuth_angle = math.atan2(incliantion_refer_m_axis[1], incliantion_refer_m_axis[0]) + np.pi\n",
    "    \n",
    "#     # inclination energy\n",
    "#     inclination_energy = energy_function_i_axis(i_polar_angle, i_azimuth_angle)\n",
    "#     final_energy = energy_function_final(m_polar_angle, m_azimuth_angle, misorientation_angle, i_polar_angle, i_azimuth_angle)\n",
    "#     GB_inclination_energy_list.append(inclination_energy)\n",
    "#     GB_final_energy_list.append(final_energy)\n",
    "#     # print(inclination_energy)\n",
    "#     # print(final_energy)\n",
    "#     # print()\n",
    "\n",
    "\n"
   ]
  },
  {
   "cell_type": "code",
   "execution_count": 52,
   "id": "4212a4ef-e7ad-4490-b5dc-48195c9defc7",
   "metadata": {},
   "outputs": [],
   "source": [
    "\n",
    "# GB_inclination_energy_list = np.array(GB_inclination_energy_list)\n",
    "# GB_velocity_list = np.array(GB_velocity_list)\n",
    "# GB_final_energy_list = np.array(GB_final_energy_list)\n",
    "\n",
    "# wanted_steps = GB_velocity_list<0\n",
    "# alpha_list = np.linspace(0.2,1,np.sum(wanted_steps))\n",
    "# figure_name_one_GB = f\"figures/2D_velocity_inclinationE_{case_name}_GB{key_focus}_5d.png\"\n",
    "# plt.figure()\n",
    "# fig = plt.figure(figsize=(7, 7))\n",
    "# import matplotlib as mpl\n",
    "# cmap = mpl.colormaps['tab20']\n",
    "# colors = cmap(np.linspace(0, 1, 20))\n",
    "# plt.scatter(GB_inclination_energy_list[wanted_steps], GB_velocity_list[wanted_steps],s=8,alpha=alpha_list,c=colors[0])\n",
    "# plt.scatter(GB_inclination_energy_list[~wanted_steps], GB_velocity_list[~wanted_steps],s=8,alpha=0.2,c=colors[6])\n",
    "# plt.plot(GB_inclination_energy_list,GB_velocity_list,alpha=0.1)\n",
    "# plt.xlabel(\"inclination energy\", fontsize=18)\n",
    "# plt.ylabel(\"velocity (voxel/step)\", fontsize=18)\n",
    "# # plt.xlim([0.334,0.35])\n",
    "# plt.ylim([-0.2,0.2])\n",
    "# plt.legend([\"anti-c\", \"c\", \"sequence\"],fontsize=18)\n",
    "# plt.title(f\"GBid {key_focus} step all\")\n",
    "# # plt.savefig(figure_name_one_GB, dpi=400,bbox_inches='tight')"
   ]
  },
  {
   "cell_type": "code",
   "execution_count": null,
   "id": "e625f572-387b-4aba-a3ed-f91e307f407a",
   "metadata": {
    "tags": []
   },
   "outputs": [],
   "source": []
  },
  {
   "cell_type": "markdown",
   "id": "df3c7fa0-8e13-4939-a880-0e5bf2f8a11d",
   "metadata": {},
   "source": [
    "## TJ study\n"
   ]
  },
  {
   "cell_type": "code",
   "execution_count": 53,
   "id": "e018ea3f-1eaa-4306-b2e8-ba4cd4a338f3",
   "metadata": {
    "tags": []
   },
   "outputs": [
    {
     "name": "stderr",
     "output_type": "stream",
     "text": [
      "100%|██████████| 121/121 [1:05:00<00:00, 32.23s/it]\n"
     ]
    }
   ],
   "source": [
    "    # GB_id_unfocus_lowE_detail and GB_id_focus_detail\n",
    "    \n",
    "    # reorginaize the data structure for GB_id_unfocus_lowE_detail and GB_id_focus_detail\n",
    "    GB_id_unfocus_lowE_detail_time = dict()\n",
    "    GB_id_focus_detail_time = dict()\n",
    "    for key in GB_id_unfocus_lowE_detail:\n",
    "        for key_time in GB_id_unfocus_lowE_detail[key]:\n",
    "            if key_time in GB_id_unfocus_lowE_detail_time:\n",
    "                GB_id_unfocus_lowE_detail_time[key_time].append(key)\n",
    "            else: \n",
    "                GB_id_unfocus_lowE_detail_time[key_time] = [key]\n",
    "                \n",
    "    for key in GB_id_focus_detail:\n",
    "        for key_time in GB_id_focus_detail[key]:\n",
    "            if key_time in GB_id_focus_detail_time:\n",
    "                GB_id_focus_detail_time[key_time].append(key)\n",
    "            else:\n",
    "                GB_id_focus_detail_time[key_time] = [key]\n",
    "            \n",
    "            \n",
    "    # find the TJ around GB with anti-c behavior or low energy c behavior \n",
    "    site_energy_per_unit_focus_list = []\n",
    "    site_energy_per_unit_unfocus_list = []\n",
    "    for time_step in tqdm(range(step_num)):\n",
    "        \n",
    "        if time_step not in GB_id_focus_detail_time: current_focus_GB_id = []\n",
    "        else: current_focus_GB_id = GB_id_focus_detail_time[time_step]\n",
    "        if time_step not in GB_id_unfocus_lowE_detail_time: current_unfocus_GB_id = []\n",
    "        else: current_unfocus_GB_id = GB_id_unfocus_lowE_detail_time[time_step]\n",
    "        if len(current_focus_GB_id) == 0 and len(current_unfocus_GB_id) == 0: continue\n",
    "        # current_GB_id = []\n",
    "        # current_GB_id.extend(current_focus_GB_id)\n",
    "        # current_GB_id.extend(current_unfocus_GB_id)\n",
    "        current_microstructure = npy_file_aniso[time_step]\n",
    "        current_energy = npy_file_aniso_energy[time_step]\n",
    "        \n",
    "        \n",
    "\n",
    "        \n",
    "        size_x, size_y = npy_file_aniso[time_step].shape[0:2]\n",
    "        k=0\n",
    "        for i in range(size_x):\n",
    "            for j in range(size_y):\n",
    "\n",
    "                ip,im,jp,jm = myInput.periodic_bc(size_x,size_y,i,j)\n",
    "                # find window and jump over GB and grain bulk\n",
    "                neighboring_sites_full_list = np.array([current_microstructure[i,j,k], current_microstructure[ip,jp,k], current_microstructure[ip,j,k], current_microstructure[ip,jm,k], current_microstructure[i,jp,k], current_microstructure[i,jm,k], current_microstructure[im,jp,k], current_microstructure[im,j,k], current_microstructure[im,jm,k]]).astype(int)\n",
    "                grain_id_num_in_window = np.unique(neighboring_sites_full_list)\n",
    "                if len(grain_id_num_in_window) < 3: continue\n",
    "                \n",
    "                # \n",
    "                do_you_find = 0\n",
    "                for current_key in current_focus_GB_id:\n",
    "                    pair_id_pair_focus = GB_infomation_dict_list[time_step][current_key][6:8]\n",
    "                    if pair_id_pair_focus[0] in grain_id_num_in_window and pair_id_pair_focus[0] in grain_id_num_in_window:\n",
    "                        # do \n",
    "                        site_energy = current_energy[i,j,k]\n",
    "                        num_nei = 0\n",
    "                        for nei in neighboring_sites_full_list[1:]:\n",
    "                            if neighboring_sites_full_list[0] != nei: num_nei += 1\n",
    "                        site_energy_per_unit_focus_list.append(site_energy/num_nei)\n",
    "                        do_you_find += 1\n",
    "                        break\n",
    "                if do_you_find > 0: continue\n",
    "                for current_key in current_unfocus_GB_id:\n",
    "                    pair_id_pair_focus = GB_infomation_dict_list[time_step][current_key][6:8]\n",
    "                    if pair_id_pair_focus[0] in grain_id_num_in_window and pair_id_pair_focus[0] in grain_id_num_in_window:\n",
    "                        # do \n",
    "                        site_energy = current_energy[i,j,k]\n",
    "                        num_nei = 0\n",
    "                        for nei in neighboring_sites_full_list[1:]:\n",
    "                            if neighboring_sites_full_list[0] != nei: num_nei += 1\n",
    "                        site_energy_per_unit_unfocus_list.append(site_energy/num_nei)\n",
    "                        break\n",
    "                        \n",
    "                \n",
    "    xLim = [0,2.0]\n",
    "    binValue = 0.01001\n",
    "    binNum = round((abs(xLim[0])+abs(xLim[1]))/binValue)\n",
    "    xCor = np.linspace((xLim[0]+binValue/2),(xLim[1]-binValue/2),binNum)\n",
    "    freqArray_focus = np.zeros(binNum)\n",
    "    freqArray_unfocus = np.zeros(binNum)\n",
    "\n",
    "    for i in range(len(site_energy_per_unit_focus_list)): freqArray_focus[int((site_energy_per_unit_focus_list[i] - xCor[0]) / binValue)] += 1\n",
    "    for i in range(len(site_energy_per_unit_unfocus_list)): freqArray_unfocus[int((site_energy_per_unit_unfocus_list[i] - xCor[0]) / binValue)] += 1\n",
    "        \n",
    "            \n",
    "            \n",
    "            "
   ]
  },
  {
   "cell_type": "code",
   "execution_count": 54,
   "id": "507f29ba-42b1-4b69-933a-ca317668c164",
   "metadata": {
    "tags": []
   },
   "outputs": [
    {
     "data": {
      "text/plain": [
       "<matplotlib.legend.Legend at 0x149f7d3de9d0>"
      ]
     },
     "execution_count": 54,
     "metadata": {},
     "output_type": "execute_result"
    },
    {
     "data": {
      "image/png": "[encoded data removed]",
      "text/plain": [
       "<Figure size 504x504 with 1 Axes>"
      ]
     },
     "metadata": {
      "needs_background": "light"
     },
     "output_type": "display_data"
    }
   ],
   "source": [
    "    freqArray_focus = freqArray_focus/np.sum(freqArray_focus)\n",
    "    freqArray_unfocus = freqArray_unfocus/np.sum(freqArray_unfocus)\n",
    "\n",
    "    plt.figure(figsize=(7,7))\n",
    "    plt.plot(xCor, freqArray_focus, label='anti-c')\n",
    "    plt.plot(xCor, freqArray_unfocus, label='c')\n",
    "    plt.xlim([0.25,1.05])\n",
    "    # plt.ylim([-0.15,0.15])\n",
    "    plt.xlabel(\"GB energy\", fontsize=18)\n",
    "    plt.ylabel(\"Frequency\", fontsize=18)\n",
    "    plt.legend(fontsize=18)\n",
    "    # plt.savefig(figure_name_all_bin, dpi=400,bbox_inches='tight')\n"
   ]
  },
  {
   "cell_type": "code",
   "execution_count": 248,
   "id": "ce9edf05-842a-467b-9e55-8ce1d1fde9ed",
   "metadata": {
    "tags": []
   },
   "outputs": [],
   "source": []
  },
  {
   "cell_type": "code",
   "execution_count": null,
   "id": "202e892d-2149-4fd4-ac47-878df34fda4b",
   "metadata": {},
   "outputs": [],
   "source": []
  }
 ],
 "metadata": {
  "kernelspec": {
   "display_name": "UFRC Python-3.8",
   "language": "python",
   "name": "python3-3.8-ufrc"
  },
  "language_info": {
   "codemirror_mode": {
    "name": "ipython",
    "version": 3
   },
   "file_extension": ".py",
   "mimetype": "text/x-python",
   "name": "python",
   "nbconvert_exporter": "python",
   "pygments_lexer": "ipython3",
   "version": "3.8.15"
  }
 },
 "nbformat": 4,
 "nbformat_minor": 5
}
