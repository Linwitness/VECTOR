{
 "cells": [
  {
   "cell_type": "code",
   "execution_count": 137,
   "id": "245a3ce5-5ef0-4b65-b5dd-ddb7e604ff72",
   "metadata": {
    "tags": []
   },
   "outputs": [
    {
     "data": {
      "text/plain": [
       "<module 'PACKAGE_MP_Linear' from '/home/lin.yang/projects/VECTOR/examples/GB_velocity/../../PACKAGE_MP_Linear.py'>"
      ]
     },
     "execution_count": 137,
     "metadata": {},
     "output_type": "execute_result"
    }
   ],
   "source": [
    "import os\n",
    "current_path = os.getcwd()\n",
    "import numpy as np\n",
    "from numpy import seterr\n",
    "seterr(all='raise')\n",
    "import matplotlib.pyplot as plt\n",
    "import math\n",
    "import random\n",
    "from tqdm import tqdm\n",
    "import sys\n",
    "sys.path.append(current_path)\n",
    "sys.path.append(current_path+'/../../')\n",
    "import myInput\n",
    "import PACKAGE_MP_Linear as linear_2d\n",
    "import post_processing\n",
    "import PACKAGE_MP_3DLinear as Linear_3D\n",
    "import PACKAGE_MP_3DVertex as Vertex_3D\n",
    "sys.path.append(current_path+'/../calculate_tangent/')\n",
    "\n",
    "import importlib\n",
    "importlib.reload(post_processing)\n",
    "importlib.reload(Linear_3D)\n",
    "importlib.reload(linear_2d)"
   ]
  },
  {
   "cell_type": "code",
   "execution_count": 122,
   "id": "c74b4e20-a4f6-4d55-8898-29bff5f5c6bd",
   "metadata": {
    "tags": []
   },
   "outputs": [],
   "source": [
    "IC_test,_ = myInput.Circle_IC3d(100,100,100,40)\n",
    "test_full_area = (IC_test[:,:,:,0]==1)*1 + (IC_test[:,:,:,1]==1)*2"
   ]
  },
  {
   "cell_type": "code",
   "execution_count": 123,
   "id": "5c2b0f4d-1223-4afc-a219-5ab0ce2d7368",
   "metadata": {
    "tags": []
   },
   "outputs": [],
   "source": [
    "edge_n = 50\n",
    "\n",
    "test_small_area = IC_test[0:edge_n, 0:edge_n, 0:edge_n,:]\n",
    "test_small_area = (test_small_area[:,:,:,0]==1)*1 + (test_small_area[:,:,:,1]==1)*2\n",
    "\n",
    "test_small_area = np.insert(test_small_area, edge_n, 2*np.ones((edge_n,edge_n)), axis = 0)\n",
    "test_small_area = np.insert(test_small_area, edge_n, 2*np.ones((edge_n+1, edge_n)), axis = 1)\n",
    "test_small_area = np.insert(test_small_area, edge_n, 2*np.ones((edge_n+1, edge_n+1)), axis = 2)\n"
   ]
  },
  {
   "cell_type": "code",
   "execution_count": 124,
   "id": "6bf9ade7-b3b3-4676-b9b9-96a9e094bfa2",
   "metadata": {
    "tags": []
   },
   "outputs": [
    {
     "data": {
      "text/plain": [
       "(51, 51, 51)"
      ]
     },
     "execution_count": 124,
     "metadata": {},
     "output_type": "execute_result"
    },
    {
     "data": {
      "image/png": "[encoded data removed]",
      "text/plain": [
       "<Figure size 432x288 with 2 Axes>"
      ]
     },
     "metadata": {
      "needs_background": "light"
     },
     "output_type": "display_data"
    }
   ],
   "source": [
    "plt.imshow(test_small_area[39,:,:])\n",
    "plt.colorbar()\n",
    "test_small_area.shape"
   ]
  },
  {
   "cell_type": "code",
   "execution_count": 125,
   "id": "b50e8dc4-310a-4ab7-bf16-f24494d25ea7",
   "metadata": {
    "tags": []
   },
   "outputs": [
    {
     "data": {
      "text/plain": [
       "{2: array([ 1.8108000e+04,  1.7160000e+04,  3.0078000e+04, -2.4754221e-02])}"
      ]
     },
     "execution_count": 125,
     "metadata": {},
     "output_type": "execute_result"
    }
   ],
   "source": [
    "test_result_0 = post_processing.IO_curvature(test_full_area)\n",
    "test_result_0"
   ]
  },
  {
   "cell_type": "code",
   "execution_count": null,
   "id": "97fb274a-fa17-4ca5-a23f-44ab371f2d95",
   "metadata": {},
   "outputs": [],
   "source": []
  },
  {
   "cell_type": "code",
   "execution_count": 126,
   "id": "6242b0eb-1feb-4daa-85df-1c8fb2d0c5d4",
   "metadata": {
    "tags": []
   },
   "outputs": [],
   "source": [
    "all_neighbors, num_faces = post_processing.IO_curvature_segment_numface(test_small_area)\n",
    "\n",
    "\n",
    "# get the boundary location\n",
    "matrix_shape = test_small_area.shape\n",
    "nx, ny, nz = matrix_shape\n",
    "idx = np.indices((nx, ny, nz)).reshape(3, -1).T\n",
    "\n",
    "\n"
   ]
  },
  {
   "cell_type": "code",
   "execution_count": 127,
   "id": "bb7a7c67-745d-478c-8a8c-ec5ff75c1a6c",
   "metadata": {
    "tags": []
   },
   "outputs": [],
   "source": [
    "\n",
    "location_smaller = []\n",
    "location_larger = []\n",
    "for i in range(len(all_neighbors)):\n",
    "    if len(np.unique(all_neighbors[i])) != 2: continue # remove TJs\n",
    "    if np.sum(abs(idx[i] - edge_n) < 3): continue     # remove edge points\n",
    "    \n",
    "    if test_small_area[tuple(idx[i])] == 1: location_smaller.append(idx[i])\n",
    "    elif test_small_area[tuple(idx[i])] == 2: location_larger.append(idx[i])"
   ]
  },
  {
   "cell_type": "code",
   "execution_count": 138,
   "id": "9f205cd8-b5af-4430-9c8a-51ac50e791b0",
   "metadata": {
    "tags": []
   },
   "outputs": [
    {
     "data": {
      "text/plain": [
       "array([ 2.06700000e+03,  1.96800000e+03,  3.17700000e+03, -2.44741637e-02])"
      ]
     },
     "execution_count": 138,
     "metadata": {},
     "output_type": "execute_result"
    }
   ],
   "source": [
    "\n",
    "curvature_one_dict = post_processing.IO_curvature_segment_curvature(num_faces, location_smaller, location_larger, matrix_shape)\n",
    "\n",
    "curvature_one_dict"
   ]
  },
  {
   "cell_type": "code",
   "execution_count": null,
   "id": "9bf311ce-2f14-495a-bef3-ac8d4fc30960",
   "metadata": {
    "tags": []
   },
   "outputs": [],
   "source": []
  },
  {
   "cell_type": "code",
   "execution_count": null,
   "id": "dbde0a6f-582a-4d22-b4fd-f6ae9a40960f",
   "metadata": {},
   "outputs": [],
   "source": []
  },
  {
   "cell_type": "code",
   "execution_count": null,
   "id": "10d02d22-e862-4652-aba1-89b8281538f6",
   "metadata": {},
   "outputs": [],
   "source": []
  }
 ],
 "metadata": {
  "kernelspec": {
   "display_name": "UFRC Python-3.8",
   "language": "python",
   "name": "python3-3.8-ufrc"
  },
  "language_info": {
   "codemirror_mode": {
    "name": "ipython",
    "version": 3
   },
   "file_extension": ".py",
   "mimetype": "text/x-python",
   "name": "python",
   "nbconvert_exporter": "python",
   "pygments_lexer": "ipython3",
   "version": "3.8.15"
  }
 },
 "nbformat": 4,
 "nbformat_minor": 5
}
