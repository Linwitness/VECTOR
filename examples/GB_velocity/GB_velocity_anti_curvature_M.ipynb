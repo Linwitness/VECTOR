{
 "cells": [
  {
   "cell_type": "code",
   "execution_count": null,
   "id": "4b195c7c-3d58-4d9f-b559-8e34a5e9789a",
   "metadata": {
    "tags": []
   },
   "outputs": [
    {
     "data": {
      "text/plain": [
       "<module 'PACKAGE_MP_Linear' from '/home/lin.yang/projects/VECTOR/examples/GB_velocity/../../PACKAGE_MP_Linear.py'>"
      ]
     },
     "execution_count": 1,
     "metadata": {},
     "output_type": "execute_result"
    }
   ],
   "source": [
    "# =============================================================================\n",
    "# GRAIN BOUNDARY VELOCITY ANALYSIS - MISORIENTATION-ONLY ANISOTROPY (M)\n",
    "# =============================================================================\n",
    "# This notebook analyzes anti-curvature behavior in grain boundaries for\n",
    "# systems with misorientation-dependent anisotropy ONLY (no inclination dependence).\n",
    "# This is a simplified anisotropic case compared to the full MI analysis.\n",
    "# \n",
    "# M = Misorientation-dependent anisotropy with texture parameter t=0.0\n",
    "# This means grain boundary energy varies only with misorientation angle,\n",
    "# not with crystallographic orientation of the boundary plane (inclination)\n",
    "\n",
    "# Import required libraries and setup paths\n",
    "import os\n",
    "current_path = os.getcwd()  # Get current working directory for path management\n",
    "import numpy as np\n",
    "from numpy import seterr\n",
    "seterr(all='raise')  # Set numpy to raise exceptions on all floating point errors (debugging)\n",
    "import matplotlib.pyplot as plt\n",
    "from tqdm import tqdm  # Progress bar for long-running loops\n",
    "import sys\n",
    "\n",
    "# Add necessary paths for importing custom modules\n",
    "sys.path.append(current_path)  # Current directory\n",
    "sys.path.append(current_path+'/../../')  # Parent directory for main modules\n",
    "import myInput  # Custom input handling module\n",
    "import PACKAGE_MP_Linear as linear2d  # 2D linear multi-physics package for grain boundary tracking\n",
    "import post_processing  # Post-processing utilities for data analysis\n",
    "sys.path.append(current_path+'/../calculate_tangent/')  # Path for tangent calculation utilities\n",
    "\n"
   ]
  },
  {
   "cell_type": "markdown",
   "id": "29d8158d-5d09-4363-b3e8-1a7d857a34ba",
   "metadata": {
    "tags": []
   },
   "source": [
    "## 2D case"
   ]
  },
  {
   "cell_type": "code",
   "execution_count": null,
   "id": "f6ac1373-cac0-435c-bc23-f9c1aa0ef8eb",
   "metadata": {},
   "outputs": [
    {
     "name": "stdout",
     "output_type": "stream",
     "text": [
      "The M_20k_fully data size is: (201, 2400, 2400, 1)\n",
      "READING DATA DONE\n",
      "The M_20k_fully data size is: (201, 2400, 2400, 1)\n",
      "READING ENERGY DATA DONE\n"
     ]
    }
   ],
   "source": [
    "if __name__ == '__main__':\n",
    "    # =============================================================================\n",
    "    # DATA LOADING AND SETUP - MISORIENTATION-ONLY ANISOTROPY\n",
    "    # =============================================================================\n",
    "    \n",
    "    # Define file paths for data storage and retrieval\n",
    "    data_file_folder = \"/blue/michael.tonks/lin.yang/VECTOR_data/\"  # Main data storage folder\n",
    "    npy_file_folder = \"/blue/michael.tonks/lin.yang/SPPARKS-VirtualIncEnergy/2d_poly_fully/results/\"  # SPPARKS anisotropic simulation results\n",
    "    # Alternative path for isotropic comparison (commented out)\n",
    "    # npy_file_folder = \"/blue/michael.tonks/lin.yang/SPPARKS-VirtualIncEnergy/2d_poly_wellEnergy/results/\"\n",
    "    \n",
    "    # Case configuration - MISORIENTATION-ONLY anisotropy\n",
    "    case_name = \"M_20k_fully\"  # M = Misorientation-dependent only (no inclination effects)\n",
    "    \n",
    "    # Define file names for misorientation-only anisotropic data\n",
    "    # Key parameter differences from MI case:\n",
    "    # - \"t0.0\" = texture parameter is 0 (no inclination dependence)\n",
    "    # - \"f1.0\" = misorientation parameter is 1 (full misorientation dependence)\n",
    "    # This creates anisotropy that depends only on the misorientation angle between grains,\n",
    "    # not on the crystallographic orientation of the boundary plane\n",
    "    npy_file_name_aniso = f\"p_aveE_fz_fully5d_20k_J1_f1.0_t0.0_refer_1_0_0_seed56689_kt0.66.npy\"  # M-anisotropic microstructure\n",
    "    # Alternative isotropic file name (commented out for comparison)\n",
    "    # npy_file_name_aniso = f\"p_aveE_20000_Cos_delta0.0_J1_refer_1_0_0_seed56689_kt0.66.npy\"\n",
    "    \n",
    "    npy_file_name_aniso_energy = f\"p_aveE_fz_fully5d_20k_J1_f1.0_t0.0_refer_1_0_0_seed56689_kt0.66_energy.npy\"  # M-anisotropic energy\n",
    "    # Alternative isotropic energy file name (commented out)\n",
    "    # npy_file_name_aniso_energy = f\"p_aveE_20000_Cos_delta0.0_J1_refer_1_0_0_seed56689_kt0.66_energy.npy\"\n",
    "    \n",
    "    # Load misorientation-anisotropic microstructure data\n",
    "    npy_file_aniso = np.load(npy_file_folder + npy_file_name_aniso)  # Load microstructure time evolution\n",
    "    npy_file_aniso = npy_file_aniso.astype(int)  # Convert to integer grain IDs for processing\n",
    "    print(f\"The {case_name} data size is: {npy_file_aniso.shape}\")\n",
    "    print(\"READING DATA DONE\")\n",
    "    \n",
    "    # Load corresponding misorientation-anisotropic energy data\n",
    "    # Energy varies only with misorientation, creating simpler anisotropy than full MI case\n",
    "    npy_file_aniso_energy = np.load(npy_file_folder + npy_file_name_aniso_energy)  # Load energy evolution\n",
    "    print(f\"The {case_name} data size is: {npy_file_aniso_energy.shape}\")\n",
    "    print(\"READING ENERGY DATA DONE\")\n",
    "    \n",
    "    # Extract dimensions: time steps, spatial dimensions\n",
    "    # In misorientation-only systems, energy landscape varies primarily with grain pair misorientations\n",
    "    # This creates intermediate complexity between isotropic and full anisotropic cases\n",
    "    step_num, size_x, size_y, size_z = npy_file_aniso.shape"
   ]
  },
  {
   "cell_type": "code",
   "execution_count": null,
   "id": "376090a2-14b4-4586-b895-e131434a5b67",
   "metadata": {
    "tags": []
   },
   "outputs": [],
   "source": [
    "# =============================================================================\n",
    "# SIMULATION MILESTONE TRACKING - MISORIENTATION-ONLY ANISOTROPY\n",
    "# =============================================================================\n",
    "\n",
    "# Define the time step when the system reaches approximately 1000 grains\n",
    "# In misorientation-only anisotropic systems, grain growth rates are intermediate\n",
    "# between isotropic and fully anisotropic cases due to:\n",
    "# 1. Misorientation-dependent grain boundary energy\n",
    "# 2. No inclination effects (simpler than full anisotropy)\n",
    "# 3. Reduced complexity compared to MI systems\n",
    "step_1000grains = 23  # Time step at which ~1000 grains remain (earlier than MI case)"
   ]
  },
  {
   "cell_type": "code",
   "execution_count": null,
   "id": "7ab679ee-41d7-47d6-8d75-847eeab7fe6b",
   "metadata": {},
   "outputs": [
    {
     "name": "stderr",
     "output_type": "stream",
     "text": [
      "100%|██████████| 121/121 [00:01<00:00, 111.39it/s]\n"
     ]
    }
   ],
   "source": [
    "    # =============================================================================\n",
    "    # GRAIN BOUNDARY CURVATURE CALCULATION - MISORIENTATION-ONLY ANISOTROPY\n",
    "    # =============================================================================\n",
    "    \n",
    "    # Initialize parameters for GB analysis in misorientation-anisotropic systems\n",
    "    step_num = 121  # Number of time steps to analyze\n",
    "    grain_nums = 20000  # Total number of grains in the system\n",
    "    GB_infomation_dict_list = []  # List to store GB information for each time step\n",
    "    curvature_matrix_list = []  # List to store curvature matrices\n",
    "    \n",
    "    # Process each time step to extract GB information and calculate curvature\n",
    "    # In misorientation-only systems, curvature calculation includes anisotropic effects\n",
    "    # but without inclination dependence (simpler than full MI case)\n",
    "    for time_step in tqdm(range(step_num)):\n",
    "        # Define file names for cached data to avoid recomputation\n",
    "        data_file_name = f\"GB_velocity_data/2D_signedcurvature_velocity_data_{case_name}_step{time_step}.npz\"\n",
    "        data_curvature_file_name = f\"GB_velocity_data/2D_matrix_signedcurvature_data_{case_name}_step{time_step}.npz\"\n",
    "        \n",
    "        # Try to load pre-computed data if available\n",
    "        if os.path.exists(data_file_folder + data_file_name):\n",
    "            npz_file = np.load(data_file_folder + data_file_name,allow_pickle=True)\n",
    "            GB_infomation_dict = npz_file[\"GB_infomation_dict\"]\n",
    "            GB_infomation_dict_list.append(GB_infomation_dict.item())\n",
    "        else:\n",
    "            # If pre-computed data doesn't exist, calculate from scratch\n",
    "            current_microstructure = npy_file_aniso[time_step]\n",
    "            \n",
    "            # =============================================================================\n",
    "            # SIGNED CURVATURE CALCULATION FOR MISORIENTATION-ANISOTROPIC SYSTEM\n",
    "            # =============================================================================\n",
    "            \n",
    "            # Calculate signed curvature using the linear solver\n",
    "            # For M-anisotropic systems, curvature reflects misorientation-dependent GB energy\n",
    "            if os.path.exists(data_file_folder + data_curvature_file_name):\n",
    "                # Load pre-computed curvature matrix\n",
    "                npz_file_curvature = np.load(data_file_folder + data_curvature_file_name)\n",
    "                curvature_matrix = npz_file_curvature[\"curvature_matrix\"]\n",
    "                curvature_matrix_list.append(curvature_matrix)\n",
    "            else:\n",
    "                # Calculate curvature using the linear multi-physics solver\n",
    "                cores = 128  # Number of CPU cores for parallel processing\n",
    "                loop_times = 5  # Number of iterations for convergence\n",
    "                R = np.zeros((size_x,size_y,3))  # Initialize reference array\n",
    "                \n",
    "                # Create smoothing class instance for curvature calculation\n",
    "                # In M-anisotropic systems, the curvature accounts for misorientation-dependent energy\n",
    "                smoothing_class = linear2d.linear_class(size_x,size_y,grain_nums,cores,loop_times,current_microstructure[:,:,0],R,verification_system = False,curvature_sign = True)\n",
    "                smoothing_class.linear_main(\"curvature\")  # Run curvature calculation\n",
    "                C_ln = smoothing_class.get_C()  # Get curvature results\n",
    "                curvature_matrix = C_ln[1,:]  # Extract curvature matrix\n",
    "                curvature_matrix_list.append(curvature_matrix)\n",
    "                # Save curvature information for future use\n",
    "                # np.savez(data_file_folder + data_curvature_file_name, curvature_matrix=curvature_matrix)\n",
    "            print(\"Finish curvature calculation\")\n",
    "            \n",
    "            # =============================================================================\n",
    "            # TRIPLE JUNCTION (TJ) AND QUADRUPLE JUNCTION (QJ) DETECTION\n",
    "            # =============================================================================\n",
    "            \n",
    "            # Identify triple and quadruple junctions to exclude them from GB analysis\n",
    "            # In misorientation-anisotropic systems, junctions can affect local energy landscape\n",
    "            TJ_infomation_dict = dict()\n",
    "            for index, result in np.ndenumerate(current_microstructure):\n",
    "                i,j,k = index\n",
    "                # Get periodic boundary conditions for neighbors\n",
    "                ip,im,jp,jm = myInput.periodic_bc(size_x,size_y,i,j)\n",
    "                \n",
    "                # Check if current voxel is at a grain boundary\n",
    "                if ( ((current_microstructure[ip,j,k]-current_microstructure[i,j,k])!=0) or ((current_microstructure[im,j,k]-current_microstructure[i,j,k])!=0) or\\\n",
    "                     ((current_microstructure[i,jp,k]-current_microstructure[i,j,k])!=0) or ((current_microstructure[i,jm,k]-current_microstructure[i,j,k])!=0) ):\n",
    "                    \n",
    "                    central_site = int(current_microstructure[i,j,k])\n",
    "                    \n",
    "                    # Get all neighboring grain IDs\n",
    "                    neighboring_sites_list = np.array([current_microstructure[ip,j,k], current_microstructure[i,jp,k], current_microstructure[im,j,k], current_microstructure[i,jm,k]]).astype(int)\n",
    "                    neighboring_sites_set = set(neighboring_sites_list)  # Get all unique neighboring sites\n",
    "                    if central_site in neighboring_sites_set: neighboring_sites_set.remove(central_site)  # Remove central site\n",
    "                    neighboring_sites_list_unque = list(neighboring_sites_set)\n",
    "                    \n",
    "                    # If more than 1 neighboring grain, this is a junction point\n",
    "                    if len(neighboring_sites_list_unque) > 1: \n",
    "                        for m in range(len(neighboring_sites_list_unque)):\n",
    "                            pair_id = post_processing.get_line(central_site, neighboring_sites_list_unque[m])  # Get pair ID\n",
    "                            if pair_id in TJ_infomation_dict:\n",
    "                                tmp = TJ_infomation_dict[pair_id]\n",
    "                                tmp.append([i,j,k])\n",
    "                                TJ_infomation_dict[pair_id] = tmp\n",
    "                            else: \n",
    "                                TJ_infomation_dict[pair_id] = [[i,j,k]]\n",
    "            print(\"Finish TJ extraction\")\n",
    "            \n",
    "            # Get the center of each GB\n",
    "            GB_infomation_dict = dict()\n",
    "            TJ_distance_max = 6 # voxels\n",
    "            for index, result in np.ndenumerate(current_microstructure):\n",
    "                i,j,k = index\n",
    "                ip,im,jp,jm = myInput.periodic_bc(size_x,size_y,i,j)\n",
    "                if ( ((current_microstructure[ip,j,k]-current_microstructure[i,j,k])!=0) or ((current_microstructure[im,j,k]-current_microstructure[i,j,k])!=0) or\\\n",
    "                     ((current_microstructure[i,jp,k]-current_microstructure[i,j,k])!=0) or ((current_microstructure[i,jm,k]-current_microstructure[i,j,k])!=0) ):\n",
    "                    central_site = int(current_microstructure[i,j,k])\n",
    "                    neighboring_sites_list = np.array([current_microstructure[ip,j,k], current_microstructure[i,jp,k], current_microstructure[im,j,k], current_microstructure[i,jm,k]]).astype(int)\n",
    "                    neighboring_sites_set = set(neighboring_sites_list) # Get all unique neighboring sites\n",
    "                    if central_site in neighboring_sites_set: neighboring_sites_set.remove(central_site) # remove central site\n",
    "                    neighboring_sites_list_unque = list(neighboring_sites_set)\n",
    "                    # remove the TJs and QJs\n",
    "                    if len(neighboring_sites_list_unque) > 1: continue # only remove TJs and QJs\n",
    "                    # CONTINUE...    # remove the voxels around TJs and QJs\n",
    "                    # check the GB voxels is close to TJ or not\n",
    "                    break_point = 0\n",
    "                    pair_id = post_processing.get_line(central_site, neighboring_sites_list_unque[0]) # get pair id\n",
    "                    if central_site<neighboring_sites_list_unque[0]: pair_id_pair = [central_site, neighboring_sites_list_unque[0]]\n",
    "                    else: pair_id_pair = [neighboring_sites_list_unque[0], central_site]\n",
    "                    if pair_id in GB_infomation_dict:\n",
    "                        GB_infomation_dict[pair_id][5] += 1 # GB area\n",
    "                    else:\n",
    "                        GB_infomation = np.array([0,0,0,0,0.0,1,pair_id_pair[0],pair_id_pair[1]]) # GBnum-curvature,i,j,k,curvature,GBnum,gid0,gid1\n",
    "                        GB_infomation_dict[pair_id] = GB_infomation\n",
    "                    if pair_id in TJ_infomation_dict:\n",
    "                        for TJ_site in TJ_infomation_dict[pair_id]:\n",
    "                            TJ_distance = np.linalg.norm(index-np.array(TJ_site))\n",
    "                            if TJ_distance < TJ_distance_max: \n",
    "                                break_point = 1\n",
    "                                break\n",
    "                    if break_point == 1: continue\n",
    "                    # calculate or extract misorientation\n",
    "                    # if pair_id in GB_infomation_dict:\n",
    "                    GB_infomation_dict[pair_id][0] += 1\n",
    "                    if central_site == pair_id_pair[0]:\n",
    "                        GB_infomation_dict[pair_id][1:5] += np.array([i,j,k,curvature_matrix[i,j]])\n",
    "                    else:\n",
    "                        GB_infomation_dict[pair_id][1:5] += np.array([i,j,k,-curvature_matrix[i,j]])\n",
    "                    \n",
    "            # get the correct location for each GB\n",
    "            small_GB_list = []\n",
    "            for key in GB_infomation_dict: \n",
    "                if GB_infomation_dict[key][0] == 0: \n",
    "                    small_GB_list.append(key) # remove the small GB with 0 voxels after remove voxels close to TJs\n",
    "            for s_index in range(len(small_GB_list)): GB_infomation_dict.pop(small_GB_list[s_index])\n",
    "            for key in GB_infomation_dict: \n",
    "                GB_infomation_dict[key][1:5]=GB_infomation_dict[key][1:5]/GB_infomation_dict[key][0]\n",
    "            print(f\"Current GBs len at {time_step} steps: {len(GB_infomation_dict)}\")\n",
    "            # save information\n",
    "            np.savez(data_file_folder + data_file_name, GB_infomation_dict=GB_infomation_dict)\n",
    "            GB_infomation_dict_list.append(GB_infomation_dict)"
   ]
  },
  {
   "cell_type": "code",
   "execution_count": null,
   "id": "1c863c6b-9fd9-45b7-b4ca-b9188479c80d",
   "metadata": {},
   "outputs": [
    {
     "name": "stderr",
     "output_type": "stream",
     "text": [
      "100%|██████████| 121/121 [00:01<00:00, 105.59it/s]\n"
     ]
    }
   ],
   "source": [
    "    # =============================================================================\n",
    "    # GRAIN BOUNDARY ENERGY CALCULATION - MISORIENTATION-ONLY ANISOTROPY\n",
    "    # =============================================================================\n",
    "    \n",
    "    # Similar to curvature calculation, but focused on extracting GB energy information\n",
    "    # In M-anisotropic systems, energy varies only with misorientation (not inclination)\n",
    "    step_num = 121  # Number of time steps to analyze\n",
    "    grain_nums = 20000  # Total number of grains in the system\n",
    "    GBenergy_information_dict_list = []  # Store GB energy information for each time step\n",
    "    \n",
    "    for time_step in tqdm(range(step_num)):\n",
    "        data_file_name_GBenergy = f\"GB_velocity_data/2D_GBenergy_velocity_data_{case_name}_step{time_step}.npz\"\n",
    "        \n",
    "        # Try to load pre-computed energy data\n",
    "        if os.path.exists(data_file_folder + data_file_name_GBenergy):\n",
    "            npz_file = np.load(data_file_folder + data_file_name_GBenergy,allow_pickle=True)\n",
    "            GBenergy_information_dict = npz_file[\"GBenergy_information_dict\"]\n",
    "            GBenergy_information_dict_list.append(GBenergy_information_dict.item())\n",
    "        else:\n",
    "            # Calculate energy information from scratch\n",
    "            current_microstructure = npy_file_aniso[time_step]\n",
    "            current_energy = npy_file_aniso_energy[time_step]  # Load corresponding energy data\n",
    "\n",
    "            # Get TJ and QJ information first\n",
    "            TJ_infomation_dict = dict()\n",
    "            for index, result in np.ndenumerate(current_microstructure):\n",
    "                i,j,k = index\n",
    "                ip,im,jp,jm = myInput.periodic_bc(size_x,size_y,i,j)\n",
    "                if ( ((current_microstructure[ip,j,k]-current_microstructure[i,j,k])!=0) or ((current_microstructure[im,j,k]-current_microstructure[i,j,k])!=0) or\\\n",
    "                     ((current_microstructure[i,jp,k]-current_microstructure[i,j,k])!=0) or ((current_microstructure[i,jm,k]-current_microstructure[i,j,k])!=0) ):\n",
    "                    central_site = int(current_microstructure[i,j,k])\n",
    "                    neighboring_sites_list = np.array([current_microstructure[ip,j,k], current_microstructure[i,jp,k], current_microstructure[im,j,k], current_microstructure[i,jm,k]]).astype(int)\n",
    "                    neighboring_sites_set = set(neighboring_sites_list) # Get all unique neighboring sites\n",
    "                    if central_site in neighboring_sites_set: neighboring_sites_set.remove(central_site) # remove central site\n",
    "                    neighboring_sites_list_unque = list(neighboring_sites_set)\n",
    "                    # remove the TJs and QJs\n",
    "                    if len(neighboring_sites_list_unque) > 1: \n",
    "                        for m in range(len(neighboring_sites_list_unque)):\n",
    "                            pair_id = post_processing.get_line(central_site, neighboring_sites_list_unque[m]) # get pair id\n",
    "                            if pair_id in TJ_infomation_dict:\n",
    "                                tmp = TJ_infomation_dict[pair_id]\n",
    "                                tmp.append([i,j,k])\n",
    "                                TJ_infomation_dict[pair_id] = tmp\n",
    "                            else: \n",
    "                                TJ_infomation_dict[pair_id] = [[i,j,k]]\n",
    "            print(\"Finish TJ extraction\")\n",
    "\n",
    "            # Get the center of each GB\n",
    "            GBenergy_information_dict = dict()\n",
    "            TJ_distance_max = 6 # voxels\n",
    "            for index, result in np.ndenumerate(current_microstructure):\n",
    "                i,j,k = index\n",
    "                ip,im,jp,jm = myInput.periodic_bc(size_x,size_y,i,j)\n",
    "                if ( ((current_microstructure[ip,j,k]-current_microstructure[i,j,k])!=0) or ((current_microstructure[im,j,k]-current_microstructure[i,j,k])!=0) or\\\n",
    "                     ((current_microstructure[i,jp,k]-current_microstructure[i,j,k])!=0) or ((current_microstructure[i,jm,k]-current_microstructure[i,j,k])!=0) ):\n",
    "                    central_site = int(current_microstructure[i,j,k])\n",
    "                    neighboring_sites_list = np.array([current_microstructure[ip,j,k], current_microstructure[i,jp,k], current_microstructure[im,j,k], current_microstructure[i,jm,k]]).astype(int)\n",
    "                    neighboring_sites_set = set(neighboring_sites_list) # Get all unique neighboring sites\n",
    "                    if central_site in neighboring_sites_set: neighboring_sites_set.remove(central_site) # remove central site\n",
    "                    neighboring_sites_list_unque = list(neighboring_sites_set)\n",
    "                    num_other_sites = 0\n",
    "                    neighboring_sites_full_list = np.array([current_microstructure[ip,jp,k], current_microstructure[ip,j,k], current_microstructure[ip,jm,k], current_microstructure[i,jp,k], current_microstructure[i,jm,k], current_microstructure[im,jp,k], current_microstructure[im,j,k], current_microstructure[im,jm,k]]).astype(int)\n",
    "                    for neigh_site in neighboring_sites_full_list:\n",
    "                        if neigh_site != central_site: num_other_sites += 1 # get the sites num different with central id\n",
    "                    # remove the TJs and QJs\n",
    "                    if len(neighboring_sites_list_unque) > 1: continue # only remove TJs and QJs\n",
    "                    # CONTINUE...    # remove the voxels around TJs and QJs\n",
    "                    # check the GB voxels is close to TJ or not\n",
    "                    break_point = 0\n",
    "                    pair_id = post_processing.get_line(central_site, neighboring_sites_list_unque[0]) # get pair id\n",
    "                    if central_site<neighboring_sites_list_unque[0]: pair_id_pair = [central_site, neighboring_sites_list_unque[0]]\n",
    "                    else: pair_id_pair = [neighboring_sites_list_unque[0], central_site]\n",
    "                    if pair_id in GBenergy_information_dict:\n",
    "                        GBenergy_information_dict[pair_id][5] += 1 # GB area\n",
    "                    else:\n",
    "                        GB_infomation = np.array([0,0,0,0,0.0,1,pair_id_pair[0],pair_id_pair[1]]) # GBnum-energy,i,j,k,GB energy,GBnum,gid0,gid1\n",
    "                        GBenergy_information_dict[pair_id] = GB_infomation\n",
    "                    if pair_id in TJ_infomation_dict:\n",
    "                        for TJ_site in TJ_infomation_dict[pair_id]:\n",
    "                            TJ_distance = np.linalg.norm(index-np.array(TJ_site))\n",
    "                            if TJ_distance < TJ_distance_max: \n",
    "                                break_point = 1\n",
    "                                break\n",
    "                    if break_point == 1: continue\n",
    "                    # calculate or extract misorientation\n",
    "                    # if pair_id in GBenergy_information_dict:\n",
    "                    GBenergy_information_dict[pair_id][0] += 1\n",
    "                    GBenergy_information_dict[pair_id][1:5] += np.array([i,j,k,current_energy[i,j,k]/num_other_sites])\n",
    "\n",
    "            # get the correct location for each GB\n",
    "            small_GB_list = []\n",
    "            for key in GBenergy_information_dict: \n",
    "                if GBenergy_information_dict[key][0] == 0: \n",
    "                    small_GB_list.append(key) # remove the small GB with 0 voxels after remove voxels close to TJs\n",
    "            for s_index in range(len(small_GB_list)): GBenergy_information_dict.pop(small_GB_list[s_index])\n",
    "            for key in GBenergy_information_dict: \n",
    "                GBenergy_information_dict[key][1:5]=GBenergy_information_dict[key][1:5]/GBenergy_information_dict[key][0]\n",
    "            print(f\"Current GBs len at {time_step} steps: {len(GBenergy_information_dict)}\")\n",
    "            # save information\n",
    "            np.savez(data_file_folder + data_file_name_GBenergy, GBenergy_information_dict=GBenergy_information_dict)\n",
    "            GBenergy_information_dict_list.append(GBenergy_information_dict)"
   ]
  },
  {
   "cell_type": "code",
   "execution_count": null,
   "id": "6aa1a164-84e3-47ae-a192-fd7d956f6a2e",
   "metadata": {},
   "outputs": [
    {
     "name": "stdout",
     "output_type": "stream",
     "text": [
      "key num start with 22827\n",
      "key num end with 0\n"
     ]
    },
    {
     "name": "stderr",
     "output_type": "stream",
     "text": [
      "0it [00:00, ?it/s]\n"
     ]
    },
    {
     "name": "stdout",
     "output_type": "stream",
     "text": [
      "finish 0 with num of GBs 0, and collected num of GBs 0\n",
      "key num start with 17980\n",
      "key num end with 0\n"
     ]
    },
    {
     "name": "stderr",
     "output_type": "stream",
     "text": [
      "0it [00:00, ?it/s]\n"
     ]
    },
    {
     "name": "stdout",
     "output_type": "stream",
     "text": [
      "finish 1 with num of GBs 0, and collected num of GBs 0\n",
      "key num start with 15113\n",
      "key num end with 0\n"
     ]
    },
    {
     "name": "stderr",
     "output_type": "stream",
     "text": [
      "0it [00:00, ?it/s]\n"
     ]
    },
    {
     "name": "stdout",
     "output_type": "stream",
     "text": [
      "finish 2 with num of GBs 0, and collected num of GBs 0\n",
      "key num start with 12583\n",
      "key num end with 6\n"
     ]
    },
    {
     "name": "stderr",
     "output_type": "stream",
     "text": [
      "100%|██████████| 6/6 [00:00<00:00, 97921.49it/s]\n"
     ]
    },
    {
     "name": "stdout",
     "output_type": "stream",
     "text": [
      "finish 3 with num of GBs 6, and collected num of GBs 0\n",
      "key num start with 10819\n",
      "key num end with 15\n"
     ]
    },
    {
     "name": "stderr",
     "output_type": "stream",
     "text": [
      "100%|██████████| 15/15 [00:00<00:00, 199728.76it/s]\n"
     ]
    },
    {
     "name": "stdout",
     "output_type": "stream",
     "text": [
      "finish 4 with num of GBs 15, and collected num of GBs 3\n",
      "key num start with 9392\n",
      "key num end with 20\n"
     ]
    },
    {
     "name": "stderr",
     "output_type": "stream",
     "text": [
      "100%|██████████| 20/20 [00:00<00:00, 201649.23it/s]\n"
     ]
    },
    {
     "name": "stdout",
     "output_type": "stream",
     "text": [
      "finish 5 with num of GBs 20, and collected num of GBs 6\n",
      "key num start with 8408\n",
      "key num end with 22\n"
     ]
    },
    {
     "name": "stderr",
     "output_type": "stream",
     "text": [
      "100%|██████████| 22/22 [00:00<00:00, 248050.24it/s]\n"
     ]
    },
    {
     "name": "stdout",
     "output_type": "stream",
     "text": [
      "finish 6 with num of GBs 22, and collected num of GBs 12\n",
      "key num start with 7568\n",
      "key num end with 27\n"
     ]
    },
    {
     "name": "stderr",
     "output_type": "stream",
     "text": [
      "100%|██████████| 27/27 [00:00<00:00, 267721.53it/s]\n"
     ]
    },
    {
     "name": "stdout",
     "output_type": "stream",
     "text": [
      "finish 7 with num of GBs 27, and collected num of GBs 13\n",
      "key num start with 6808\n",
      "key num end with 31\n"
     ]
    },
    {
     "name": "stderr",
     "output_type": "stream",
     "text": [
      "100%|██████████| 31/31 [00:00<00:00, 301678.48it/s]\n"
     ]
    },
    {
     "name": "stdout",
     "output_type": "stream",
     "text": [
      "finish 8 with num of GBs 31, and collected num of GBs 21\n",
      "key num start with 6264\n",
      "key num end with 37\n"
     ]
    },
    {
     "name": "stderr",
     "output_type": "stream",
     "text": [
      "100%|██████████| 37/37 [00:00<00:00, 340327.30it/s]\n"
     ]
    },
    {
     "name": "stdout",
     "output_type": "stream",
     "text": [
      "finish 9 with num of GBs 37, and collected num of GBs 22\n",
      "key num start with 5744\n",
      "key num end with 48\n"
     ]
    },
    {
     "name": "stderr",
     "output_type": "stream",
     "text": [
      "100%|██████████| 48/48 [00:00<00:00, 407543.71it/s]\n"
     ]
    },
    {
     "name": "stdout",
     "output_type": "stream",
     "text": [
      "finish 10 with num of GBs 48, and collected num of GBs 28\n",
      "key num start with 5350\n",
      "key num end with 37\n"
     ]
    },
    {
     "name": "stderr",
     "output_type": "stream",
     "text": [
      "100%|██████████| 37/37 [00:00<00:00, 334459.59it/s]\n"
     ]
    },
    {
     "name": "stdout",
     "output_type": "stream",
     "text": [
      "finish 11 with num of GBs 37, and collected num of GBs 36\n",
      "key num start with 5042\n",
      "key num end with 40\n"
     ]
    },
    {
     "name": "stderr",
     "output_type": "stream",
     "text": [
      "100%|██████████| 40/40 [00:00<00:00, 293821.65it/s]\n"
     ]
    },
    {
     "name": "stdout",
     "output_type": "stream",
     "text": [
      "finish 12 with num of GBs 40, and collected num of GBs 39\n",
      "key num start with 4702\n",
      "key num end with 51\n"
     ]
    },
    {
     "name": "stderr",
     "output_type": "stream",
     "text": [
      "100%|██████████| 51/51 [00:00<00:00, 379945.83it/s]\n"
     ]
    },
    {
     "name": "stdout",
     "output_type": "stream",
     "text": [
      "finish 13 with num of GBs 51, and collected num of GBs 46\n",
      "key num start with 4406\n",
      "key num end with 31\n"
     ]
    },
    {
     "name": "stderr",
     "output_type": "stream",
     "text": [
      "100%|██████████| 31/31 [00:00<00:00, 320254.74it/s]\n"
     ]
    },
    {
     "name": "stdout",
     "output_type": "stream",
     "text": [
      "finish 14 with num of GBs 31, and collected num of GBs 48\n",
      "key num start with 4142\n",
      "key num end with 41\n"
     ]
    },
    {
     "name": "stderr",
     "output_type": "stream",
     "text": [
      "100%|██████████| 41/41 [00:00<00:00, 353113.89it/s]\n"
     ]
    },
    {
     "name": "stdout",
     "output_type": "stream",
     "text": [
      "finish 15 with num of GBs 41, and collected num of GBs 56\n",
      "key num start with 3886\n",
      "key num end with 47\n"
     ]
    },
    {
     "name": "stderr",
     "output_type": "stream",
     "text": [
      "100%|██████████| 47/47 [00:00<00:00, 371247.25it/s]\n"
     ]
    },
    {
     "name": "stdout",
     "output_type": "stream",
     "text": [
      "finish 16 with num of GBs 47, and collected num of GBs 63\n",
      "key num start with 3696\n",
      "key num end with 35\n"
     ]
    },
    {
     "name": "stderr",
     "output_type": "stream",
     "text": [
      "100%|██████████| 35/35 [00:00<00:00, 349525.33it/s]\n"
     ]
    },
    {
     "name": "stdout",
     "output_type": "stream",
     "text": [
      "finish 17 with num of GBs 35, and collected num of GBs 67\n",
      "key num start with 3498\n",
      "key num end with 40\n"
     ]
    },
    {
     "name": "stderr",
     "output_type": "stream",
     "text": [
      "100%|██████████| 40/40 [00:00<00:00, 359255.16it/s]\n"
     ]
    },
    {
     "name": "stdout",
     "output_type": "stream",
     "text": [
      "finish 18 with num of GBs 40, and collected num of GBs 71\n",
      "key num start with 3352\n",
      "key num end with 37\n"
     ]
    },
    {
     "name": "stderr",
     "output_type": "stream",
     "text": [
      "100%|██████████| 37/37 [00:00<00:00, 345633.07it/s]\n"
     ]
    },
    {
     "name": "stdout",
     "output_type": "stream",
     "text": [
      "finish 19 with num of GBs 37, and collected num of GBs 73\n",
      "key num start with 3190\n",
      "key num end with 40\n"
     ]
    },
    {
     "name": "stderr",
     "output_type": "stream",
     "text": [
      "100%|██████████| 40/40 [00:00<00:00, 300666.95it/s]\n"
     ]
    },
    {
     "name": "stdout",
     "output_type": "stream",
     "text": [
      "finish 20 with num of GBs 40, and collected num of GBs 75\n",
      "key num start with 3043\n",
      "key num end with 38\n"
     ]
    },
    {
     "name": "stderr",
     "output_type": "stream",
     "text": [
      "100%|██████████| 38/38 [00:00<00:00, 347240.85it/s]\n"
     ]
    },
    {
     "name": "stdout",
     "output_type": "stream",
     "text": [
      "finish 21 with num of GBs 38, and collected num of GBs 81\n",
      "key num start with 2905\n",
      "key num end with 41\n"
     ]
    },
    {
     "name": "stderr",
     "output_type": "stream",
     "text": [
      "100%|██████████| 41/41 [00:00<00:00, 361274.08it/s]\n"
     ]
    },
    {
     "name": "stdout",
     "output_type": "stream",
     "text": [
      "finish 22 with num of GBs 41, and collected num of GBs 82\n",
      "key num start with 2823\n",
      "key num end with 45\n"
     ]
    },
    {
     "name": "stderr",
     "output_type": "stream",
     "text": [
      "100%|██████████| 45/45 [00:00<00:00, 346955.29it/s]\n"
     ]
    },
    {
     "name": "stdout",
     "output_type": "stream",
     "text": [
      "finish 23 with num of GBs 45, and collected num of GBs 85\n",
      "key num start with 2737\n",
      "key num end with 40\n"
     ]
    },
    {
     "name": "stderr",
     "output_type": "stream",
     "text": [
      "100%|██████████| 40/40 [00:00<00:00, 356204.16it/s]\n"
     ]
    },
    {
     "name": "stdout",
     "output_type": "stream",
     "text": [
      "finish 24 with num of GBs 40, and collected num of GBs 89\n",
      "key num start with 2639\n",
      "key num end with 37\n"
     ]
    },
    {
     "name": "stderr",
     "output_type": "stream",
     "text": [
      "100%|██████████| 37/37 [00:00<00:00, 345633.07it/s]\n"
     ]
    },
    {
     "name": "stdout",
     "output_type": "stream",
     "text": [
      "finish 25 with num of GBs 37, and collected num of GBs 93\n",
      "key num start with 2562\n",
      "key num end with 31\n"
     ]
    },
    {
     "name": "stderr",
     "output_type": "stream",
     "text": [
      "100%|██████████| 31/31 [00:00<00:00, 298218.86it/s]\n"
     ]
    },
    {
     "name": "stdout",
     "output_type": "stream",
     "text": [
      "finish 26 with num of GBs 31, and collected num of GBs 96\n",
      "key num start with 2457\n",
      "key num end with 22\n"
     ]
    },
    {
     "name": "stderr",
     "output_type": "stream",
     "text": [
      "100%|██████████| 22/22 [00:00<00:00, 265157.15it/s]\n"
     ]
    },
    {
     "name": "stdout",
     "output_type": "stream",
     "text": [
      "finish 27 with num of GBs 22, and collected num of GBs 97\n",
      "key num start with 2367\n",
      "key num end with 26\n"
     ]
    },
    {
     "name": "stderr",
     "output_type": "stream",
     "text": [
      "100%|██████████| 26/26 [00:00<00:00, 285476.19it/s]\n"
     ]
    },
    {
     "name": "stdout",
     "output_type": "stream",
     "text": [
      "finish 28 with num of GBs 26, and collected num of GBs 97\n",
      "key num start with 2281\n",
      "key num end with 26\n"
     ]
    },
    {
     "name": "stderr",
     "output_type": "stream",
     "text": [
      "100%|██████████| 26/26 [00:00<00:00, 281787.87it/s]\n"
     ]
    },
    {
     "name": "stdout",
     "output_type": "stream",
     "text": [
      "finish 29 with num of GBs 26, and collected num of GBs 101\n",
      "key num start with 2195\n",
      "key num end with 34\n"
     ]
    },
    {
     "name": "stderr",
     "output_type": "stream",
     "text": [
      "100%|██████████| 34/34 [00:00<00:00, 345293.79it/s]\n"
     ]
    },
    {
     "name": "stdout",
     "output_type": "stream",
     "text": [
      "finish 30 with num of GBs 34, and collected num of GBs 102\n",
      "key num start with 2127\n",
      "key num end with 27\n"
     ]
    },
    {
     "name": "stderr",
     "output_type": "stream",
     "text": [
      "100%|██████████| 27/27 [00:00<00:00, 292625.86it/s]\n"
     ]
    },
    {
     "name": "stdout",
     "output_type": "stream",
     "text": [
      "finish 31 with num of GBs 27, and collected num of GBs 103\n",
      "key num start with 2068\n",
      "key num end with 26\n"
     ]
    },
    {
     "name": "stderr",
     "output_type": "stream",
     "text": [
      "100%|██████████| 26/26 [00:00<00:00, 288497.10it/s]\n"
     ]
    },
    {
     "name": "stdout",
     "output_type": "stream",
     "text": [
      "finish 32 with num of GBs 26, and collected num of GBs 105\n",
      "key num start with 2022\n",
      "key num end with 19\n"
     ]
    },
    {
     "name": "stderr",
     "output_type": "stream",
     "text": [
      "100%|██████████| 19/19 [00:00<00:00, 245962.27it/s]\n"
     ]
    },
    {
     "name": "stdout",
     "output_type": "stream",
     "text": [
      "finish 33 with num of GBs 19, and collected num of GBs 105\n",
      "key num start with 1965\n",
      "key num end with 17\n"
     ]
    },
    {
     "name": "stderr",
     "output_type": "stream",
     "text": [
      "100%|██████████| 17/17 [00:00<00:00, 223520.90it/s]\n"
     ]
    },
    {
     "name": "stdout",
     "output_type": "stream",
     "text": [
      "finish 34 with num of GBs 17, and collected num of GBs 107\n",
      "key num start with 1917\n",
      "key num end with 27\n"
     ]
    },
    {
     "name": "stderr",
     "output_type": "stream",
     "text": [
      "100%|██████████| 27/27 [00:00<00:00, 297234.14it/s]\n"
     ]
    },
    {
     "name": "stdout",
     "output_type": "stream",
     "text": [
      "finish 35 with num of GBs 27, and collected num of GBs 111\n",
      "key num start with 1845\n",
      "key num end with 30\n"
     ]
    },
    {
     "name": "stderr",
     "output_type": "stream",
     "text": [
      "100%|██████████| 30/30 [00:00<00:00, 309162.46it/s]\n"
     ]
    },
    {
     "name": "stdout",
     "output_type": "stream",
     "text": [
      "finish 36 with num of GBs 30, and collected num of GBs 114\n",
      "key num start with 1807\n",
      "key num end with 21\n"
     ]
    },
    {
     "name": "stderr",
     "output_type": "stream",
     "text": [
      "100%|██████████| 21/21 [00:00<00:00, 260592.85it/s]\n"
     ]
    },
    {
     "name": "stdout",
     "output_type": "stream",
     "text": [
      "finish 37 with num of GBs 21, and collected num of GBs 116\n",
      "key num start with 1762\n",
      "key num end with 25\n"
     ]
    },
    {
     "name": "stderr",
     "output_type": "stream",
     "text": [
      "100%|██████████| 25/25 [00:00<00:00, 282635.04it/s]\n"
     ]
    },
    {
     "name": "stdout",
     "output_type": "stream",
     "text": [
      "finish 38 with num of GBs 25, and collected num of GBs 119\n",
      "key num start with 1703\n",
      "key num end with 20\n"
     ]
    },
    {
     "name": "stderr",
     "output_type": "stream",
     "text": [
      "100%|██████████| 20/20 [00:00<00:00, 248920.12it/s]"
     ]
    },
    {
     "name": "stdout",
     "output_type": "stream",
     "text": [
      "finish 39 with num of GBs 20, and collected num of GBs 121\n",
      "key num start with 1676\n",
      "key num end with 25\n"
     ]
    },
    {
     "name": "stderr",
     "output_type": "stream",
     "text": [
      "\n",
      "100%|██████████| 25/25 [00:00<00:00, 279620.27it/s]\n"
     ]
    },
    {
     "name": "stdout",
     "output_type": "stream",
     "text": [
      "finish 40 with num of GBs 25, and collected num of GBs 121\n",
      "key num start with 1646\n",
      "key num end with 17\n"
     ]
    },
    {
     "name": "stderr",
     "output_type": "stream",
     "text": [
      "100%|██████████| 17/17 [00:00<00:00, 217387.71it/s]\n"
     ]
    },
    {
     "name": "stdout",
     "output_type": "stream",
     "text": [
      "finish 41 with num of GBs 17, and collected num of GBs 122\n",
      "key num start with 1610\n",
      "key num end with 29\n"
     ]
    },
    {
     "name": "stderr",
     "output_type": "stream",
     "text": [
      "100%|██████████| 29/29 [00:00<00:00, 313491.79it/s]\n"
     ]
    },
    {
     "name": "stdout",
     "output_type": "stream",
     "text": [
      "finish 42 with num of GBs 29, and collected num of GBs 125\n",
      "key num start with 1588\n",
      "key num end with 17\n"
     ]
    },
    {
     "name": "stderr",
     "output_type": "stream",
     "text": [
      "100%|██████████| 17/17 [00:00<00:00, 216070.21it/s]\n"
     ]
    },
    {
     "name": "stdout",
     "output_type": "stream",
     "text": [
      "finish 43 with num of GBs 17, and collected num of GBs 125\n",
      "key num start with 1543\n",
      "key num end with 18\n"
     ]
    },
    {
     "name": "stderr",
     "output_type": "stream",
     "text": [
      "100%|██████████| 18/18 [00:00<00:00, 233016.89it/s]\n"
     ]
    },
    {
     "name": "stdout",
     "output_type": "stream",
     "text": [
      "finish 44 with num of GBs 18, and collected num of GBs 127\n",
      "key num start with 1503\n",
      "key num end with 11\n"
     ]
    },
    {
     "name": "stderr",
     "output_type": "stream",
     "text": [
      "100%|██████████| 11/11 [00:00<00:00, 164776.23it/s]\n"
     ]
    },
    {
     "name": "stdout",
     "output_type": "stream",
     "text": [
      "finish 45 with num of GBs 11, and collected num of GBs 128\n",
      "key num start with 1476\n",
      "key num end with 12\n"
     ]
    },
    {
     "name": "stderr",
     "output_type": "stream",
     "text": [
      "100%|██████████| 12/12 [00:00<00:00, 181702.70it/s]\n"
     ]
    },
    {
     "name": "stdout",
     "output_type": "stream",
     "text": [
      "finish 46 with num of GBs 12, and collected num of GBs 128\n",
      "key num start with 1447\n",
      "key num end with 17\n"
     ]
    },
    {
     "name": "stderr",
     "output_type": "stream",
     "text": [
      "100%|██████████| 17/17 [00:00<00:00, 214768.58it/s]\n"
     ]
    },
    {
     "name": "stdout",
     "output_type": "stream",
     "text": [
      "finish 47 with num of GBs 17, and collected num of GBs 129\n",
      "key num start with 1419\n",
      "key num end with 14\n"
     ]
    },
    {
     "name": "stderr",
     "output_type": "stream",
     "text": [
      "100%|██████████| 14/14 [00:00<00:00, 188811.11it/s]\n"
     ]
    },
    {
     "name": "stdout",
     "output_type": "stream",
     "text": [
      "finish 48 with num of GBs 14, and collected num of GBs 131\n",
      "key num start with 1396\n",
      "key num end with 18\n"
     ]
    },
    {
     "name": "stderr",
     "output_type": "stream",
     "text": [
      "100%|██████████| 18/18 [00:00<00:00, 239674.51it/s]\n"
     ]
    },
    {
     "name": "stdout",
     "output_type": "stream",
     "text": [
      "finish 49 with num of GBs 18, and collected num of GBs 131\n",
      "key num start with 1358\n",
      "key num end with 12\n"
     ]
    },
    {
     "name": "stderr",
     "output_type": "stream",
     "text": [
      "100%|██████████| 12/12 [00:00<00:00, 186413.51it/s]\n"
     ]
    },
    {
     "name": "stdout",
     "output_type": "stream",
     "text": [
      "finish 50 with num of GBs 12, and collected num of GBs 131\n",
      "key num start with 1327\n",
      "key num end with 14\n"
     ]
    },
    {
     "name": "stderr",
     "output_type": "stream",
     "text": [
      "100%|██████████| 14/14 [00:00<00:00, 198379.24it/s]\n"
     ]
    },
    {
     "name": "stdout",
     "output_type": "stream",
     "text": [
      "finish 51 with num of GBs 14, and collected num of GBs 131\n",
      "key num start with 1302\n",
      "key num end with 11\n"
     ]
    },
    {
     "name": "stderr",
     "output_type": "stream",
     "text": [
      "100%|██████████| 11/11 [00:00<00:00, 163029.48it/s]"
     ]
    },
    {
     "name": "stdout",
     "output_type": "stream",
     "text": [
      "finish 52 with num of GBs 11, and collected num of GBs 132\n",
      "key num start with 1288\n",
      "key num end with 16\n"
     ]
    },
    {
     "name": "stderr",
     "output_type": "stream",
     "text": [
      "\n",
      "100%|██████████| 16/16 [00:00<00:00, 218595.65it/s]\n"
     ]
    },
    {
     "name": "stdout",
     "output_type": "stream",
     "text": [
      "finish 53 with num of GBs 16, and collected num of GBs 133\n",
      "key num start with 1256\n",
      "key num end with 12\n"
     ]
    },
    {
     "name": "stderr",
     "output_type": "stream",
     "text": [
      "100%|██████████| 12/12 [00:00<00:00, 146312.93it/s]\n"
     ]
    },
    {
     "name": "stdout",
     "output_type": "stream",
     "text": [
      "finish 54 with num of GBs 12, and collected num of GBs 134\n",
      "key num start with 1217\n",
      "key num end with 13\n"
     ]
    },
    {
     "name": "stderr",
     "output_type": "stream",
     "text": [
      "100%|██████████| 13/13 [00:00<00:00, 186732.71it/s]\n"
     ]
    },
    {
     "name": "stdout",
     "output_type": "stream",
     "text": [
      "finish 55 with num of GBs 13, and collected num of GBs 135\n",
      "key num start with 1199\n",
      "key num end with 5\n"
     ]
    },
    {
     "name": "stderr",
     "output_type": "stream",
     "text": [
      "100%|██████████| 5/5 [00:00<00:00, 85250.08it/s]"
     ]
    },
    {
     "name": "stdout",
     "output_type": "stream",
     "text": [
      "finish 56 with num of GBs 5, and collected num of GBs 135\n",
      "key num start with 1184\n",
      "key num end with 9\n"
     ]
    },
    {
     "name": "stderr",
     "output_type": "stream",
     "text": [
      "\n",
      "100%|██████████| 9/9 [00:00<00:00, 147456.00it/s]\n"
     ]
    },
    {
     "name": "stdout",
     "output_type": "stream",
     "text": [
      "finish 57 with num of GBs 9, and collected num of GBs 136\n",
      "key num start with 1161\n",
      "key num end with 9\n"
     ]
    },
    {
     "name": "stderr",
     "output_type": "stream",
     "text": [
      "100%|██████████| 9/9 [00:00<00:00, 146312.93it/s]\n"
     ]
    },
    {
     "name": "stdout",
     "output_type": "stream",
     "text": [
      "finish 58 with num of GBs 9, and collected num of GBs 136\n",
      "key num start with 1123\n",
      "key num end with 10\n"
     ]
    },
    {
     "name": "stderr",
     "output_type": "stream",
     "text": [
      "100%|██████████| 10/10 [00:00<00:00, 153076.79it/s]\n"
     ]
    },
    {
     "name": "stdout",
     "output_type": "stream",
     "text": [
      "finish 59 with num of GBs 10, and collected num of GBs 137\n",
      "key num start with 1116\n",
      "key num end with 11\n"
     ]
    },
    {
     "name": "stderr",
     "output_type": "stream",
     "text": [
      "100%|██████████| 11/11 [00:00<00:00, 169001.26it/s]\n"
     ]
    },
    {
     "name": "stdout",
     "output_type": "stream",
     "text": [
      "finish 60 with num of GBs 11, and collected num of GBs 137\n",
      "key num start with 1094\n",
      "key num end with 7\n"
     ]
    },
    {
     "name": "stderr",
     "output_type": "stream",
     "text": [
      "100%|██████████| 7/7 [00:00<00:00, 103380.73it/s]\n"
     ]
    },
    {
     "name": "stdout",
     "output_type": "stream",
     "text": [
      "finish 61 with num of GBs 7, and collected num of GBs 139\n",
      "key num start with 1067\n",
      "key num end with 9\n"
     ]
    },
    {
     "name": "stderr",
     "output_type": "stream",
     "text": [
      "100%|██████████| 9/9 [00:00<00:00, 137268.13it/s]\n"
     ]
    },
    {
     "name": "stdout",
     "output_type": "stream",
     "text": [
      "finish 62 with num of GBs 9, and collected num of GBs 140\n",
      "key num start with 1049\n",
      "key num end with 12\n"
     ]
    },
    {
     "name": "stderr",
     "output_type": "stream",
     "text": [
      "100%|██████████| 12/12 [00:00<00:00, 170615.76it/s]\n"
     ]
    },
    {
     "name": "stdout",
     "output_type": "stream",
     "text": [
      "finish 63 with num of GBs 12, and collected num of GBs 141\n",
      "key num start with 1039\n",
      "key num end with 12\n"
     ]
    },
    {
     "name": "stderr",
     "output_type": "stream",
     "text": [
      "100%|██████████| 12/12 [00:00<00:00, 174762.67it/s]"
     ]
    },
    {
     "name": "stdout",
     "output_type": "stream",
     "text": [
      "finish 64 with num of GBs 12, and collected num of GBs 142\n",
      "key num start with 1028\n",
      "key num end with 10\n"
     ]
    },
    {
     "name": "stderr",
     "output_type": "stream",
     "text": [
      "\n",
      "100%|██████████| 10/10 [00:00<00:00, 155344.59it/s]\n"
     ]
    },
    {
     "name": "stdout",
     "output_type": "stream",
     "text": [
      "finish 65 with num of GBs 10, and collected num of GBs 142\n",
      "key num start with 1010\n",
      "key num end with 13\n"
     ]
    },
    {
     "name": "stderr",
     "output_type": "stream",
     "text": [
      "100%|██████████| 13/13 [00:00<00:00, 186095.40it/s]\n"
     ]
    },
    {
     "name": "stdout",
     "output_type": "stream",
     "text": [
      "finish 66 with num of GBs 13, and collected num of GBs 143\n",
      "key num start with 993\n",
      "key num end with 11\n"
     ]
    },
    {
     "name": "stderr",
     "output_type": "stream",
     "text": [
      "100%|██████████| 11/11 [00:00<00:00, 162455.44it/s]\n"
     ]
    },
    {
     "name": "stdout",
     "output_type": "stream",
     "text": [
      "finish 67 with num of GBs 11, and collected num of GBs 143\n",
      "key num start with 975\n",
      "key num end with 9\n"
     ]
    },
    {
     "name": "stderr",
     "output_type": "stream",
     "text": [
      "100%|██████████| 9/9 [00:00<00:00, 140853.49it/s]\n"
     ]
    },
    {
     "name": "stdout",
     "output_type": "stream",
     "text": [
      "finish 68 with num of GBs 9, and collected num of GBs 144\n",
      "key num start with 963\n",
      "key num end with 18\n"
     ]
    },
    {
     "name": "stderr",
     "output_type": "stream",
     "text": [
      "100%|██████████| 18/18 [00:00<00:00, 235929.60it/s]\n"
     ]
    },
    {
     "name": "stdout",
     "output_type": "stream",
     "text": [
      "finish 69 with num of GBs 18, and collected num of GBs 144\n",
      "key num start with 953\n",
      "key num end with 8\n"
     ]
    },
    {
     "name": "stderr",
     "output_type": "stream",
     "text": [
      "100%|██████████| 8/8 [00:00<00:00, 129553.79it/s]\n"
     ]
    },
    {
     "name": "stdout",
     "output_type": "stream",
     "text": [
      "finish 70 with num of GBs 8, and collected num of GBs 144\n",
      "key num start with 951\n",
      "key num end with 11\n"
     ]
    },
    {
     "name": "stderr",
     "output_type": "stream",
     "text": [
      "100%|██████████| 11/11 [00:00<00:00, 164189.84it/s]\n"
     ]
    },
    {
     "name": "stdout",
     "output_type": "stream",
     "text": [
      "finish 71 with num of GBs 11, and collected num of GBs 145\n",
      "key num start with 930\n",
      "key num end with 11\n"
     ]
    },
    {
     "name": "stderr",
     "output_type": "stream",
     "text": [
      "100%|██████████| 11/11 [00:00<00:00, 164776.23it/s]\n"
     ]
    },
    {
     "name": "stdout",
     "output_type": "stream",
     "text": [
      "finish 72 with num of GBs 11, and collected num of GBs 146\n",
      "key num start with 917\n",
      "key num end with 8\n"
     ]
    },
    {
     "name": "stderr",
     "output_type": "stream",
     "text": [
      "100%|██████████| 8/8 [00:00<00:00, 129553.79it/s]\n"
     ]
    },
    {
     "name": "stdout",
     "output_type": "stream",
     "text": [
      "finish 73 with num of GBs 8, and collected num of GBs 146\n",
      "key num start with 903\n",
      "key num end with 8\n"
     ]
    },
    {
     "name": "stderr",
     "output_type": "stream",
     "text": [
      "100%|██████████| 8/8 [00:00<00:00, 137518.16it/s]\n"
     ]
    },
    {
     "name": "stdout",
     "output_type": "stream",
     "text": [
      "finish 74 with num of GBs 8, and collected num of GBs 146\n",
      "key num start with 882\n",
      "key num end with 9\n"
     ]
    },
    {
     "name": "stderr",
     "output_type": "stream",
     "text": [
      "100%|██████████| 9/9 [00:00<00:00, 121770.12it/s]\n"
     ]
    },
    {
     "name": "stdout",
     "output_type": "stream",
     "text": [
      "finish 75 with num of GBs 9, and collected num of GBs 148\n",
      "key num start with 870\n",
      "key num end with 9\n"
     ]
    },
    {
     "name": "stderr",
     "output_type": "stream",
     "text": [
      "100%|██████████| 9/9 [00:00<00:00, 148617.07it/s]\n"
     ]
    },
    {
     "name": "stdout",
     "output_type": "stream",
     "text": [
      "finish 76 with num of GBs 9, and collected num of GBs 148\n",
      "key num start with 858\n",
      "key num end with 7\n"
     ]
    },
    {
     "name": "stderr",
     "output_type": "stream",
     "text": [
      "100%|██████████| 7/7 [00:00<00:00, 116972.62it/s]\n"
     ]
    },
    {
     "name": "stdout",
     "output_type": "stream",
     "text": [
      "finish 77 with num of GBs 7, and collected num of GBs 148\n",
      "key num start with 844\n",
      "key num end with 10\n"
     ]
    },
    {
     "name": "stderr",
     "output_type": "stream",
     "text": [
      "100%|██████████| 10/10 [00:00<00:00, 160087.94it/s]\n"
     ]
    },
    {
     "name": "stdout",
     "output_type": "stream",
     "text": [
      "finish 78 with num of GBs 10, and collected num of GBs 148\n",
      "key num start with 833\n",
      "key num end with 11\n"
     ]
    },
    {
     "name": "stderr",
     "output_type": "stream",
     "text": [
      "100%|██████████| 11/11 [00:00<00:00, 167164.29it/s]"
     ]
    },
    {
     "name": "stdout",
     "output_type": "stream",
     "text": [
      "finish 79 with num of GBs 11, and collected num of GBs 148\n",
      "key num start with 808\n",
      "key num end with 9\n"
     ]
    },
    {
     "name": "stderr",
     "output_type": "stream",
     "text": [
      "\n",
      "100%|██████████| 9/9 [00:00<00:00, 148617.07it/s]\n"
     ]
    },
    {
     "name": "stdout",
     "output_type": "stream",
     "text": [
      "finish 80 with num of GBs 9, and collected num of GBs 148\n",
      "key num start with 803\n",
      "key num end with 13\n"
     ]
    },
    {
     "name": "stderr",
     "output_type": "stream",
     "text": [
      "100%|██████████| 13/13 [00:00<00:00, 190650.18it/s]\n"
     ]
    },
    {
     "name": "stdout",
     "output_type": "stream",
     "text": [
      "finish 81 with num of GBs 13, and collected num of GBs 149\n",
      "key num start with 792\n",
      "key num end with 8\n"
     ]
    },
    {
     "name": "stderr",
     "output_type": "stream",
     "text": [
      "100%|██████████| 8/8 [00:00<00:00, 134217.73it/s]\n"
     ]
    },
    {
     "name": "stdout",
     "output_type": "stream",
     "text": [
      "finish 82 with num of GBs 8, and collected num of GBs 149\n",
      "key num start with 775\n",
      "key num end with 7\n"
     ]
    },
    {
     "name": "stderr",
     "output_type": "stream",
     "text": [
      "100%|██████████| 7/7 [00:00<00:00, 117440.51it/s]\n"
     ]
    },
    {
     "name": "stdout",
     "output_type": "stream",
     "text": [
      "finish 83 with num of GBs 7, and collected num of GBs 150\n",
      "key num start with 765\n",
      "key num end with 4\n"
     ]
    },
    {
     "name": "stderr",
     "output_type": "stream",
     "text": [
      "100%|██████████| 4/4 [00:00<00:00, 72628.64it/s]\n"
     ]
    },
    {
     "name": "stdout",
     "output_type": "stream",
     "text": [
      "finish 84 with num of GBs 4, and collected num of GBs 151\n",
      "key num start with 753\n",
      "key num end with 8\n"
     ]
    },
    {
     "name": "stderr",
     "output_type": "stream",
     "text": [
      "100%|██████████| 8/8 [00:00<00:00, 120699.40it/s]\n"
     ]
    },
    {
     "name": "stdout",
     "output_type": "stream",
     "text": [
      "finish 85 with num of GBs 8, and collected num of GBs 151\n",
      "key num start with 752\n",
      "key num end with 6\n"
     ]
    },
    {
     "name": "stderr",
     "output_type": "stream",
     "text": [
      "100%|██████████| 6/6 [00:00<00:00, 99469.66it/s]\n"
     ]
    },
    {
     "name": "stdout",
     "output_type": "stream",
     "text": [
      "finish 86 with num of GBs 6, and collected num of GBs 152\n",
      "key num start with 743\n",
      "key num end with 6\n"
     ]
    },
    {
     "name": "stderr",
     "output_type": "stream",
     "text": [
      "100%|██████████| 6/6 [00:00<00:00, 108473.38it/s]\n"
     ]
    },
    {
     "name": "stdout",
     "output_type": "stream",
     "text": [
      "finish 87 with num of GBs 6, and collected num of GBs 152\n",
      "key num start with 734\n",
      "key num end with 11\n"
     ]
    },
    {
     "name": "stderr",
     "output_type": "stream",
     "text": [
      "100%|██████████| 11/11 [00:00<00:00, 164776.23it/s]\n"
     ]
    },
    {
     "name": "stdout",
     "output_type": "stream",
     "text": [
      "finish 88 with num of GBs 11, and collected num of GBs 154\n",
      "key num start with 724\n",
      "key num end with 11\n"
     ]
    },
    {
     "name": "stderr",
     "output_type": "stream",
     "text": [
      "100%|██████████| 11/11 [00:00<00:00, 165961.67it/s]\n"
     ]
    },
    {
     "name": "stdout",
     "output_type": "stream",
     "text": [
      "finish 89 with num of GBs 11, and collected num of GBs 155\n",
      "key num start with 708\n",
      "key num end with 6\n"
     ]
    },
    {
     "name": "stderr",
     "output_type": "stream",
     "text": [
      "100%|██████████| 6/6 [00:00<00:00, 103563.06it/s]\n"
     ]
    },
    {
     "name": "stdout",
     "output_type": "stream",
     "text": [
      "finish 90 with num of GBs 6, and collected num of GBs 155\n",
      "key num start with 698\n",
      "key num end with 9\n"
     ]
    },
    {
     "name": "stderr",
     "output_type": "stream",
     "text": [
      "100%|██████████| 9/9 [00:00<00:00, 140853.49it/s]\n"
     ]
    },
    {
     "name": "stdout",
     "output_type": "stream",
     "text": [
      "finish 91 with num of GBs 9, and collected num of GBs 157\n",
      "key num start with 683\n",
      "key num end with 9\n"
     ]
    },
    {
     "name": "stderr",
     "output_type": "stream",
     "text": [
      "100%|██████████| 9/9 [00:00<00:00, 141912.54it/s]\n"
     ]
    },
    {
     "name": "stdout",
     "output_type": "stream",
     "text": [
      "finish 92 with num of GBs 9, and collected num of GBs 157\n",
      "key num start with 681\n",
      "key num end with 3\n"
     ]
    },
    {
     "name": "stderr",
     "output_type": "stream",
     "text": [
      "100%|██████████| 3/3 [00:00<00:00, 60205.32it/s]\n"
     ]
    },
    {
     "name": "stdout",
     "output_type": "stream",
     "text": [
      "finish 93 with num of GBs 3, and collected num of GBs 157\n",
      "key num start with 676\n",
      "key num end with 5\n"
     ]
    },
    {
     "name": "stderr",
     "output_type": "stream",
     "text": [
      "100%|██████████| 5/5 [00:00<00:00, 88862.37it/s]\n"
     ]
    },
    {
     "name": "stdout",
     "output_type": "stream",
     "text": [
      "finish 94 with num of GBs 5, and collected num of GBs 157\n",
      "key num start with 664\n",
      "key num end with 7\n"
     ]
    },
    {
     "name": "stderr",
     "output_type": "stream",
     "text": [
      "100%|██████████| 7/7 [00:00<00:00, 112061.56it/s]\n"
     ]
    },
    {
     "name": "stdout",
     "output_type": "stream",
     "text": [
      "finish 95 with num of GBs 7, and collected num of GBs 157\n",
      "key num start with 662\n",
      "key num end with 9\n"
     ]
    },
    {
     "name": "stderr",
     "output_type": "stream",
     "text": [
      "100%|██████████| 9/9 [00:00<00:00, 146882.24it/s]\n"
     ]
    },
    {
     "name": "stdout",
     "output_type": "stream",
     "text": [
      "finish 96 with num of GBs 9, and collected num of GBs 158\n",
      "key num start with 655\n",
      "key num end with 8\n"
     ]
    },
    {
     "name": "stderr",
     "output_type": "stream",
     "text": [
      "100%|██████████| 8/8 [00:00<00:00, 135300.13it/s]\n"
     ]
    },
    {
     "name": "stdout",
     "output_type": "stream",
     "text": [
      "finish 97 with num of GBs 8, and collected num of GBs 158\n",
      "key num start with 648\n",
      "key num end with 7\n"
     ]
    },
    {
     "name": "stderr",
     "output_type": "stream",
     "text": [
      "100%|██████████| 7/7 [00:00<00:00, 116972.62it/s]\n"
     ]
    },
    {
     "name": "stdout",
     "output_type": "stream",
     "text": [
      "finish 98 with num of GBs 7, and collected num of GBs 159\n",
      "key num start with 635\n",
      "key num end with 9\n"
     ]
    },
    {
     "name": "stderr",
     "output_type": "stream",
     "text": [
      "100%|██████████| 9/9 [00:00<00:00, 146882.24it/s]\n"
     ]
    },
    {
     "name": "stdout",
     "output_type": "stream",
     "text": [
      "finish 99 with num of GBs 9, and collected num of GBs 160\n",
      "key num start with 618\n",
      "key num end with 12\n"
     ]
    },
    {
     "name": "stderr",
     "output_type": "stream",
     "text": [
      "100%|██████████| 12/12 [00:00<00:00, 150693.56it/s]\n"
     ]
    },
    {
     "name": "stdout",
     "output_type": "stream",
     "text": [
      "finish 100 with num of GBs 12, and collected num of GBs 160\n",
      "key num start with 613\n",
      "key num end with 2\n"
     ]
    },
    {
     "name": "stderr",
     "output_type": "stream",
     "text": [
      "100%|██████████| 2/2 [00:00<00:00, 39945.75it/s]\n"
     ]
    },
    {
     "name": "stdout",
     "output_type": "stream",
     "text": [
      "finish 101 with num of GBs 2, and collected num of GBs 160\n",
      "key num start with 600\n",
      "key num end with 2\n"
     ]
    },
    {
     "name": "stderr",
     "output_type": "stream",
     "text": [
      "100%|██████████| 2/2 [00:00<00:00, 40136.88it/s]\n"
     ]
    },
    {
     "name": "stdout",
     "output_type": "stream",
     "text": [
      "finish 102 with num of GBs 2, and collected num of GBs 160\n",
      "key num start with 598\n",
      "key num end with 6\n"
     ]
    },
    {
     "name": "stderr",
     "output_type": "stream",
     "text": [
      "100%|██████████| 6/6 [00:00<00:00, 104422.51it/s]\n"
     ]
    },
    {
     "name": "stdout",
     "output_type": "stream",
     "text": [
      "finish 103 with num of GBs 6, and collected num of GBs 160\n",
      "key num start with 594\n",
      "key num end with 3\n"
     ]
    },
    {
     "name": "stderr",
     "output_type": "stream",
     "text": [
      "100%|██████████| 3/3 [00:00<00:00, 59074.70it/s]\n"
     ]
    },
    {
     "name": "stdout",
     "output_type": "stream",
     "text": [
      "finish 104 with num of GBs 3, and collected num of GBs 160\n",
      "key num start with 578\n",
      "key num end with 0\n"
     ]
    },
    {
     "name": "stderr",
     "output_type": "stream",
     "text": [
      "0it [00:00, ?it/s]\n"
     ]
    },
    {
     "name": "stdout",
     "output_type": "stream",
     "text": [
      "finish 105 with num of GBs 0, and collected num of GBs 160\n",
      "key num start with 571\n",
      "key num end with 4\n"
     ]
    },
    {
     "name": "stderr",
     "output_type": "stream",
     "text": [
      "100%|██████████| 4/4 [00:00<00:00, 76260.07it/s]\n"
     ]
    },
    {
     "name": "stdout",
     "output_type": "stream",
     "text": [
      "finish 106 with num of GBs 4, and collected num of GBs 160\n",
      "key num start with 562\n",
      "key num end with 1\n"
     ]
    },
    {
     "name": "stderr",
     "output_type": "stream",
     "text": [
      "100%|██████████| 1/1 [00:00<00:00, 21183.35it/s]\n"
     ]
    },
    {
     "name": "stdout",
     "output_type": "stream",
     "text": [
      "finish 107 with num of GBs 1, and collected num of GBs 160\n",
      "key num start with 550\n",
      "key num end with 3\n"
     ]
    },
    {
     "name": "stderr",
     "output_type": "stream",
     "text": [
      "100%|██████████| 3/3 [00:00<00:00, 59918.63it/s]\n"
     ]
    },
    {
     "name": "stdout",
     "output_type": "stream",
     "text": [
      "finish 108 with num of GBs 3, and collected num of GBs 160\n",
      "key num start with 553\n",
      "key num end with 2\n"
     ]
    },
    {
     "name": "stderr",
     "output_type": "stream",
     "text": [
      "100%|██████████| 2/2 [00:00<00:00, 39199.10it/s]\n"
     ]
    },
    {
     "name": "stdout",
     "output_type": "stream",
     "text": [
      "finish 109 with num of GBs 2, and collected num of GBs 161\n",
      "key num start with 549\n",
      "key num end with 0\n"
     ]
    },
    {
     "name": "stderr",
     "output_type": "stream",
     "text": [
      "0it [00:00, ?it/s]\n"
     ]
    },
    {
     "name": "stdout",
     "output_type": "stream",
     "text": [
      "finish 110 with num of GBs 0, and collected num of GBs 161\n",
      "key num start with 542\n",
      "key num end with 2\n"
     ]
    },
    {
     "name": "stderr",
     "output_type": "stream",
     "text": [
      "100%|██████████| 2/2 [00:00<00:00, 40524.68it/s]\n"
     ]
    },
    {
     "name": "stdout",
     "output_type": "stream",
     "text": [
      "finish 111 with num of GBs 2, and collected num of GBs 161\n",
      "key num start with 540\n",
      "key num end with 1\n"
     ]
    },
    {
     "name": "stderr",
     "output_type": "stream",
     "text": [
      "100%|██████████| 1/1 [00:00<00:00, 20867.18it/s]\n"
     ]
    },
    {
     "name": "stdout",
     "output_type": "stream",
     "text": [
      "finish 112 with num of GBs 1, and collected num of GBs 162\n",
      "key num start with 539\n",
      "key num end with 2\n"
     ]
    },
    {
     "name": "stderr",
     "output_type": "stream",
     "text": [
      "100%|██████████| 2/2 [00:00<00:00, 39756.44it/s]\n"
     ]
    },
    {
     "name": "stdout",
     "output_type": "stream",
     "text": [
      "finish 113 with num of GBs 2, and collected num of GBs 162\n",
      "key num start with 535\n",
      "key num end with 5\n"
     ]
    },
    {
     "name": "stderr",
     "output_type": "stream",
     "text": [
      "100%|██████████| 5/5 [00:00<00:00, 91180.52it/s]\n"
     ]
    },
    {
     "name": "stdout",
     "output_type": "stream",
     "text": [
      "finish 114 with num of GBs 5, and collected num of GBs 162\n",
      "key num start with 531\n",
      "key num end with 5\n"
     ]
    },
    {
     "name": "stderr",
     "output_type": "stream",
     "text": [
      "100%|██████████| 5/5 [00:00<00:00, 91180.52it/s]\n"
     ]
    },
    {
     "name": "stdout",
     "output_type": "stream",
     "text": [
      "finish 115 with num of GBs 5, and collected num of GBs 163\n",
      "key num start with 531\n",
      "key num end with 2\n"
     ]
    },
    {
     "name": "stderr",
     "output_type": "stream",
     "text": [
      "100%|██████████| 2/2 [00:00<00:00, 41120.63it/s]\n"
     ]
    },
    {
     "name": "stdout",
     "output_type": "stream",
     "text": [
      "finish 116 with num of GBs 2, and collected num of GBs 163\n",
      "key num start with 525\n",
      "key num end with 0\n"
     ]
    },
    {
     "name": "stderr",
     "output_type": "stream",
     "text": [
      "0it [00:00, ?it/s]\n"
     ]
    },
    {
     "name": "stdout",
     "output_type": "stream",
     "text": [
      "finish 117 with num of GBs 0, and collected num of GBs 163\n",
      "key num start with 523\n",
      "key num end with 3\n"
     ]
    },
    {
     "name": "stderr",
     "output_type": "stream",
     "text": [
      "100%|██████████| 3/3 [00:00<00:00, 59353.36it/s]\n"
     ]
    },
    {
     "name": "stdout",
     "output_type": "stream",
     "text": [
      "finish 118 with num of GBs 3, and collected num of GBs 163\n",
      "key num start with 514\n",
      "key num end with 0\n"
     ]
    },
    {
     "name": "stderr",
     "output_type": "stream",
     "text": [
      "0it [00:00, ?it/s]"
     ]
    },
    {
     "name": "stdout",
     "output_type": "stream",
     "text": [
      "finish 119 with num of GBs 0, and collected num of GBs 163\n"
     ]
    },
    {
     "name": "stderr",
     "output_type": "stream",
     "text": [
      "\n"
     ]
    }
   ],
   "source": [
    "    # =============================================================================\n",
    "    # VELOCITY CALCULATION FUNCTIONS AND MAIN PROCESSING\n",
    "    # =============================================================================\n",
    "    \n",
    "    from numba import njit, prange\n",
    "    import multiprocessing as mp\n",
    "    \n",
    "    # Optimized function to calculate volume change (dV) between time steps\n",
    "    @njit(parallel=True)\n",
    "    def compute_dV(npy_file_aniso_current, npy_file_aniso_next, pair_id_pair):\n",
    "        \"\"\"\n",
    "        Calculate net volume change for a grain boundary between two time steps.\n",
    "        \n",
    "        Parameters:\n",
    "        - npy_file_aniso_current: microstructure at current time step\n",
    "        - npy_file_aniso_next: microstructure at next time step  \n",
    "        - pair_id_pair: [grain_id1, grain_id2] for the grain boundary\n",
    "        \n",
    "        Returns:\n",
    "        - Net volume change (positive = grain1 growing into grain2)\n",
    "        \"\"\"\n",
    "        # Count voxels where grain1 grows into grain2\n",
    "        growth_direction1 = (npy_file_aniso_current == pair_id_pair[0]) & (npy_file_aniso_next == pair_id_pair[1])\n",
    "        # Count voxels where grain2 grows into grain1\n",
    "        growth_direction2 = (npy_file_aniso_current == pair_id_pair[1]) & (npy_file_aniso_next == pair_id_pair[0])\n",
    "        return np.sum(growth_direction1) - np.sum(growth_direction2)\n",
    "    \n",
    "    # Extended version that returns individual directional growth components\n",
    "    @njit(parallel=True)\n",
    "    def compute_dV_split(npy_file_aniso_current, npy_file_aniso_next, pair_id_pair):\n",
    "        \"\"\"\n",
    "        Calculate volume change with separated directional components.\n",
    "        \n",
    "        Returns:\n",
    "        - Net volume change, growth_direction1, growth_direction2\n",
    "        \"\"\"\n",
    "        growth_direction1 = (npy_file_aniso_current == pair_id_pair[0]) & (npy_file_aniso_next == pair_id_pair[1])\n",
    "        growth_direction2 = (npy_file_aniso_current == pair_id_pair[1]) & (npy_file_aniso_next == pair_id_pair[0])\n",
    "        return np.sum(growth_direction1) - np.sum(growth_direction2), np.sum(growth_direction1), np.sum(growth_direction2)\n",
    "    \n",
    "    def compute_necessary_info(key, time_interval,\n",
    "                               GB_infomation_dict_list_one_step_one_key,\n",
    "                               GBenergy_information_dict_list_one_step_one_key,\n",
    "                               npy_file_aniso_current,\n",
    "                               npy_file_aniso_next):\n",
    "        \"\"\"\n",
    "        Compute GB velocity, curvature, energy, and anti-curvature behavior for one GB.\n",
    "        \n",
    "        Parameters:\n",
    "        - key: GB identifier\n",
    "        - time_interval: time between steps\n",
    "        - GB_infomation_dict_list_one_step_one_key: GB curvature info\n",
    "        - GBenergy_information_dict_list_one_step_one_key: GB energy info\n",
    "        - npy_file_aniso_current/next: microstructures at current and next time steps\n",
    "        \n",
    "        Returns:\n",
    "        - Dictionary with velocity, curvature, energy, and anti-curvature flag\n",
    "        \"\"\"\n",
    "        # Calculate volume change and convert to velocity\n",
    "        dV = compute_dV(npy_file_aniso_current, npy_file_aniso_next, GB_infomation_dict_list_one_step_one_key[6:8])\n",
    "        velocity = dV / time_interval / (GB_infomation_dict_list_one_step_one_key[5] / 2)  # Normalize by area and time\n",
    "        \n",
    "        # Extract curvature and energy values\n",
    "        current_curvature_value = GB_infomation_dict_list_one_step_one_key[4]\n",
    "        current_eng = GBenergy_information_dict_list_one_step_one_key[4]\n",
    "        \n",
    "        result = {\n",
    "            \"key\": key,\n",
    "            \"velocity\": velocity,\n",
    "            \"current_curvature_value\": current_curvature_value,\n",
    "            \"current_eng\": current_eng,\n",
    "            \"is_anti_curvature\": current_curvature_value * velocity < 0  # Anti-curvature: opposite signs\n",
    "        }\n",
    "        \n",
    "        return result\n",
    "    \n",
    "    def compute_necessary_info_split(key, time_interval,\n",
    "                                   GB_infomation_dict_list_one_step_one_key,\n",
    "                                   GBenergy_information_dict_list_one_step_one_key,\n",
    "                                   npy_file_aniso_current,\n",
    "                                   npy_file_aniso_next):\n",
    "        \"\"\"\n",
    "        Extended version that includes directional growth components.\n",
    "        \"\"\"\n",
    "        # Calculate volume change with directional split\n",
    "        dV, dV_direction1, dV_direction2 = compute_dV_split(npy_file_aniso_current, npy_file_aniso_next, \n",
    "                                                            GB_infomation_dict_list_one_step_one_key[6:8])\n",
    "        velocity = dV / time_interval / (GB_infomation_dict_list_one_step_one_key[5] / 2)\n",
    "        \n",
    "        current_curvature_value = GB_infomation_dict_list_one_step_one_key[4]\n",
    "        current_eng = GBenergy_information_dict_list_one_step_one_key[4]\n",
    "        \n",
    "        result = {\n",
    "            \"key\": key,\n",
    "            \"velocity\": velocity,\n",
    "            \"dV_direction1\": dV_direction1,  # Growth of grain1 into grain2\n",
    "            \"dV_direction2\": dV_direction2,  # Growth of grain2 into grain1\n",
    "            \"current_curvature_value\": current_curvature_value,\n",
    "            \"current_eng\": current_eng,\n",
    "            \"is_anti_curvature\": current_curvature_value * velocity < 0\n",
    "        }\n",
    "        \n",
    "        return result\n",
    "    \n",
    "    # =============================================================================\n",
    "    # MAIN VELOCITY ANALYSIS LOOP\n",
    "    # =============================================================================\n",
    "    \n",
    "    # Analysis parameters\n",
    "    time_interval = 30  # Time interval between steps\n",
    "    curvature_limit = 0.0182  # Minimum curvature threshold for analysis\n",
    "    area_limit = 100  # Minimum GB area threshold\n",
    "    \n",
    "    # Initialize storage arrays for all GB data\n",
    "    GB_list_velocity_list = []  # Store velocities for each time step\n",
    "    GB_list_curvature_list = []  # Store curvatures for each time step\n",
    "    GB_list_GBenergy_list = []  # Store energies for each time step\n",
    "    GB_list_area_list = []  # Store areas for each time step\n",
    "    GB_list_dV_direction1 = []  # Store directional growth data\n",
    "    GB_list_dV_direction2 = []\n",
    "    \n",
    "    # Track anti-curvature GBs specifically\n",
    "    GB_id_focus = dict()  # Count of anti-curvature occurrences per GB\n",
    "    GB_id_focus_detail = dict()  # Detailed time step records per GB\n",
    "    GB_filter_kernel = [set(), set(), set(), set(), set()]  # 5-step sliding window filter\n",
    "    dV_dict = []  # Store all computed results\n",
    "    \n",
    "    # Process each time step to calculate velocities and identify anti-curvature behavior\n",
    "    for time_step in range(step_num):\n",
    "        if time_step + 1 >= step_num: \n",
    "            continue  # Skip last step (no next step for velocity calculation)\n",
    "        \n",
    "        # Initialize temporary storage for current time step\n",
    "        GB_list_velocity_list_tmp = []\n",
    "        GB_list_curvature_list_tmp = []\n",
    "        GB_list_GBenergy_list_tmp = []\n",
    "        GB_list_area_list_tmp = []\n",
    "        GB_list_dV_direction1_tmp = []\n",
    "        GB_list_dV_direction2_tmp = []\n",
    "        key_set = set()\n",
    "\n",
    "        # =============================================================================\n",
    "        # FILTERING: Remove unsuitable GBs for analysis\n",
    "        # =============================================================================\n",
    "        \n",
    "        print(f\"key num start with {len(GB_infomation_dict_list[time_step])}\")\n",
    "        tmp_GB_infomation_dict_for_mp = {}\n",
    "        tmp_GBenergy_information_dict_for_mp = {}\n",
    "        \n",
    "        # Filter GBs based on area, persistence, and curvature criteria\n",
    "        for key in GB_infomation_dict_list[time_step]:\n",
    "            if (GB_infomation_dict_list[time_step][key][5] < area_limit or  # Too small area\n",
    "                GB_infomation_dict_list[time_step + 1].get(key) is None or  # Disappears in next step\n",
    "                abs(GB_infomation_dict_list[time_step][key][4]) < curvature_limit):  # Too low curvature\n",
    "                continue\n",
    "            tmp_GB_infomation_dict_for_mp[key] = GB_infomation_dict_list[time_step][key]\n",
    "            tmp_GBenergy_information_dict_for_mp[key] = GBenergy_information_dict_list[time_step][key]\n",
    "        \n",
    "        print(f\"key num end with {len(tmp_GB_infomation_dict_for_mp)}\")\n",
    "        \n",
    "        # =============================================================================\n",
    "        # VELOCITY CALCULATION WITH CACHING\n",
    "        # =============================================================================\n",
    "        \n",
    "        # Try to load pre-computed velocity data\n",
    "        dV_dict_file_name = f\"GB_velocity_data/2D_dV_split_data_{case_name}_areaLimit{area_limit}_step{time_step}.npz\"\n",
    "        if os.path.exists(data_file_folder + dV_dict_file_name):\n",
    "            npz_file = np.load(data_file_folder + dV_dict_file_name, allow_pickle=True)\n",
    "            dV_dict_tmp = npz_file[\"dV_dict_tmp\"]\n",
    "            dV_dict_tmp = dV_dict_tmp.item()\n",
    "        else:\n",
    "            dV_dict_tmp = {}\n",
    "        \n",
    "        # Calculate or retrieve velocity data for each GB\n",
    "        for key in tqdm(tmp_GB_infomation_dict_for_mp):\n",
    "            if key in dV_dict_tmp:\n",
    "                result = dV_dict_tmp[key]  # Use cached result\n",
    "            else:\n",
    "                # Compute new result\n",
    "                result = compute_necessary_info_split(\n",
    "                    key, time_interval,\n",
    "                    tmp_GB_infomation_dict_for_mp[key],\n",
    "                    tmp_GBenergy_information_dict_for_mp[key],\n",
    "                    npy_file_aniso[time_step],\n",
    "                    npy_file_aniso[time_step + 1]\n",
    "                )\n",
    "                dV_dict_tmp[key] = result\n",
    "            \n",
    "            # Store results for all GBs\n",
    "            GB_list_velocity_list_tmp.append(result[\"velocity\"])\n",
    "            GB_list_curvature_list_tmp.append(result[\"current_curvature_value\"])\n",
    "            GB_list_GBenergy_list_tmp.append(result[\"current_eng\"])\n",
    "            GB_list_dV_direction1_tmp.append(result[\"dV_direction1\"])\n",
    "            GB_list_dV_direction2_tmp.append(result[\"dV_direction2\"])\n",
    "            \n",
    "            # Calculate and store GB area\n",
    "            current_GB_area = 0.5 * tmp_GB_infomation_dict_for_mp[key][0]\n",
    "            GB_list_area_list_tmp.append(current_GB_area)\n",
    "\n",
    "            # =============================================================================\n",
    "            # ANTI-CURVATURE TRACKING\n",
    "            # =============================================================================\n",
    "            \n",
    "            # Track GBs showing anti-curvature behavior\n",
    "            if result[\"is_anti_curvature\"]:\n",
    "                key_set.add(key)\n",
    "                if time_step >= step_num - 3: \n",
    "                    continue  # Skip near end of simulation\n",
    "                if key in GB_id_focus:\n",
    "                    GB_id_focus[key] += 1  # Increment anti-curvature count\n",
    "                    GB_id_focus_detail[key].append(time_step)\n",
    "                else:\n",
    "                    GB_id_focus[key] = 1  # First anti-curvature occurrence\n",
    "                    GB_id_focus_detail[key] = [time_step]\n",
    "        \n",
    "        # Save computed data if not already cached\n",
    "        if not os.path.exists(data_file_folder + dV_dict_file_name):\n",
    "            np.savez(data_file_folder + dV_dict_file_name, dV_dict_tmp=dV_dict_tmp)\n",
    "            # pass\n",
    "        \n",
    "        # Store results for current time step\n",
    "        dV_dict.append(dV_dict_tmp)\n",
    "        GB_list_velocity_list.append(GB_list_velocity_list_tmp)\n",
    "        GB_list_curvature_list.append(GB_list_curvature_list_tmp)\n",
    "        GB_list_GBenergy_list.append(GB_list_GBenergy_list_tmp)\n",
    "        GB_list_area_list.append(GB_list_area_list_tmp)\n",
    "        GB_list_dV_direction1.append(GB_list_dV_direction1_tmp)\n",
    "        GB_list_dV_direction2.append(GB_list_dV_direction2_tmp)\n",
    "\n",
    "        # =============================================================================\n",
    "        # SLIDING WINDOW FILTER FOR ANTI-CURVATURE BEHAVIOR\n",
    "        # =============================================================================\n",
    "        \n",
    "        # Update sliding window filter (5-step window)\n",
    "        GB_filter_kernel[0:4] = GB_filter_kernel[1:]\n",
    "        GB_filter_kernel[4] = key_set\n",
    "        \n",
    "        # Apply \"00100\" filter: anti-curvature at step 2, normal at steps 0,1,3,4\n",
    "        # This filters out random/transient anti-curvature behavior\n",
    "        filtered_set = GB_filter_kernel[2] - (GB_filter_kernel[0] | GB_filter_kernel[1] | \n",
    "                                             GB_filter_kernel[3] | GB_filter_kernel[4])\n",
    "        \n",
    "        # Remove filtered GBs from tracking\n",
    "        for key in filtered_set:\n",
    "            GB_id_focus[key] -= 1\n",
    "            GB_id_focus_detail[key].remove(time_step - 2)\n",
    "        \n",
    "        print(f\"finish {time_step} with num of GBs {len(GB_list_velocity_list_tmp)}, and collected num of GBs {len(GB_id_focus)}\")\n",
    "\n",
    "    # =============================================================================\n",
    "    # FINAL FILTERING: Remove GBs with insufficient anti-curvature behavior\n",
    "    # =============================================================================\n",
    "    \n",
    "    # Remove GBs that don't show consistent anti-curvature behavior\n",
    "    GB_id_focus_copy = GB_id_focus.copy()\n",
    "    for key in GB_id_focus_copy:\n",
    "        if GB_id_focus_copy[key] <= 0:\n",
    "            GB_id_focus.pop(key)\n",
    "            GB_id_focus_detail.pop(key)"
   ]
  },
  {
   "cell_type": "code",
   "execution_count": null,
   "id": "718362f0-b4ce-4839-afff-c0a4992d4187",
   "metadata": {
    "tags": []
   },
   "outputs": [
    {
     "name": "stderr",
     "output_type": "stream",
     "text": [
      "100%|██████████| 121/121 [00:00<00:00, 1221.24it/s]\n"
     ]
    }
   ],
   "source": [
    "    # =============================================================================\n",
    "    # EXTRACT ANTI-CURVATURE AND NORMAL-CURVATURE GB DATA\n",
    "    # =============================================================================\n",
    "    \n",
    "    time_interval = 30\n",
    "    \n",
    "    # Initialize storage arrays for anti-curvature GBs\n",
    "    GB_antic_list_velocity_AllList = []  # Velocity data for each time step\n",
    "    GB_antic_list_curvature_AllList = []  # Curvature data for each time step\n",
    "    GB_antic_list_GBenergy_AllList = []  # Energy data for each time step\n",
    "    GB_antic_list_anticNum_AllList = []  # Anti-curvature occurrence count for each time step\n",
    "    GB_antic_list_area_AllList = []  # Area data for each time step\n",
    "    GB_antic_list_dV_normD_AllList = []  # Normal direction growth for each time step\n",
    "    GB_antic_list_dV_antiD_AllList = []  # Anti-curvature direction growth for each time step\n",
    "    \n",
    "    # Flattened arrays combining all time steps for anti-curvature GBs\n",
    "    GB_antic_list_velocity_list = []\n",
    "    GB_antic_list_curvature_list = []\n",
    "    GB_antic_list_GBenergy_list = []\n",
    "    GB_antic_list_anticNum_list = []\n",
    "    GB_antic_list_area_list = []\n",
    "    GB_antic_list_dV_normD_list = []\n",
    "    GB_antic_list_dV_antiD_list = []\n",
    "    \n",
    "    # Initialize storage arrays for normal-curvature GBs\n",
    "    GB_normc_list_velocity_AllList = []\n",
    "    GB_normc_list_curvature_AllList = []\n",
    "    GB_normc_list_GBenergy_AllList = []\n",
    "    GB_normc_list_area_AllList = []\n",
    "    GB_normc_list_dV_normD_AllList = []\n",
    "    GB_normc_list_dV_antiD_AllList = []\n",
    "    \n",
    "    # Flattened arrays for normal-curvature GBs\n",
    "    GB_normc_list_velocity_list = []\n",
    "    GB_normc_list_curvature_list = []\n",
    "    GB_normc_list_GBenergy_list = []\n",
    "    GB_normc_list_area_list = []\n",
    "    GB_normc_list_dV_normD_list = []\n",
    "    GB_normc_list_dV_antiD_list = []\n",
    "    \n",
    "    # Process each time step to extract anti-curvature and normal-curvature GB data\n",
    "    for time_step in tqdm(range(step_num)):\n",
    "        if time_step + 1 >= step_num: \n",
    "            continue\n",
    "        \n",
    "        # Load pre-computed velocity data for current time step\n",
    "        dV_dict_file_name = f\"GB_velocity_data/2D_dV_split_data_{case_name}_areaLimit{area_limit}_step{time_step}.npz\"\n",
    "        npz_file = np.load(data_file_folder + dV_dict_file_name, allow_pickle=True)\n",
    "        dV_dict_tmp = npz_file[\"dV_dict_tmp\"]\n",
    "        dV_dict_tmp = dV_dict_tmp.item()\n",
    "        \n",
    "        # Initialize temporary storage for current time step\n",
    "        tmp_GB_antic_list_velocity = []\n",
    "        tmp_GB_antic_list_curvature = []\n",
    "        tmp_GB_antic_list_GBenergy = []\n",
    "        tmp_GB_antic_list_anticNum = []\n",
    "        tmp_GB_antic_list_area = []\n",
    "        tmp_GB_antic_list_dV_normD = []\n",
    "        tmp_GB_antic_list_dV_antiD = []\n",
    "        \n",
    "        # =============================================================================\n",
    "        # EXTRACT ANTI-CURVATURE GB DATA\n",
    "        # =============================================================================\n",
    "        \n",
    "        for key in GB_id_focus_detail:\n",
    "            if time_step in GB_id_focus_detail[key]:  # If this GB shows anti-curvature at this time step\n",
    "                \n",
    "                result = dV_dict_tmp[key]\n",
    "                velocity = result[\"velocity\"]\n",
    "                current_curvature_value = result[\"current_curvature_value\"]\n",
    "                current_area = 0.5 * GB_infomation_dict_list[time_step][key][0]\n",
    "                dV_direction1 = result[\"dV_direction1\"]  # Growth of grain1 into grain2\n",
    "                dV_direction2 = result[\"dV_direction2\"]  # Growth of grain2 into grain1\n",
    "                \n",
    "                # Normalize signs: make curvature positive and adjust velocity/growth directions accordingly\n",
    "                # This ensures consistent interpretation regardless of grain ID ordering\n",
    "                if current_curvature_value < 0:\n",
    "                    # If curvature is negative, flip signs to make analysis consistent\n",
    "                    GB_antic_list_velocity_list.append(-velocity)\n",
    "                    GB_antic_list_curvature_list.append(-current_curvature_value)\n",
    "                    GB_antic_list_dV_normD_list.append(dV_direction2)  # Normal direction growth\n",
    "                    GB_antic_list_dV_antiD_list.append(dV_direction1)  # Anti-curvature direction growth\n",
    "                    tmp_GB_antic_list_velocity.append(-velocity)\n",
    "                    tmp_GB_antic_list_curvature.append(-current_curvature_value)\n",
    "                    tmp_GB_antic_list_dV_normD.append(dV_direction2)\n",
    "                    tmp_GB_antic_list_dV_antiD.append(dV_direction1)\n",
    "                else:\n",
    "                    # Keep original signs\n",
    "                    GB_antic_list_velocity_list.append(velocity)\n",
    "                    GB_antic_list_curvature_list.append(current_curvature_value)\n",
    "                    GB_antic_list_dV_normD_list.append(dV_direction1)\n",
    "                    GB_antic_list_dV_antiD_list.append(dV_direction2)\n",
    "                    tmp_GB_antic_list_velocity.append(velocity)\n",
    "                    tmp_GB_antic_list_curvature.append(current_curvature_value)\n",
    "                    tmp_GB_antic_list_dV_normD.append(dV_direction1)\n",
    "                    tmp_GB_antic_list_dV_antiD.append(dV_direction2)\n",
    "                \n",
    "                # Store energy, anti-curvature count, and area data\n",
    "                GB_antic_list_GBenergy_list.append(result[\"current_eng\"])\n",
    "                GB_antic_list_anticNum_list.append(GB_id_focus[key])  # Total anti-curvature occurrences\n",
    "                GB_antic_list_area_list.append(current_area)\n",
    "                tmp_GB_antic_list_GBenergy.append(result[\"current_eng\"])\n",
    "                tmp_GB_antic_list_anticNum.append(GB_id_focus[key])\n",
    "                tmp_GB_antic_list_area.append(current_area)\n",
    "            \n",
    "        # Store anti-curvature data for current time step\n",
    "        GB_antic_list_velocity_AllList.append(tmp_GB_antic_list_velocity)\n",
    "        GB_antic_list_curvature_AllList.append(tmp_GB_antic_list_curvature)\n",
    "        GB_antic_list_GBenergy_AllList.append(tmp_GB_antic_list_GBenergy)\n",
    "        GB_antic_list_anticNum_AllList.append(tmp_GB_antic_list_anticNum)\n",
    "        GB_antic_list_area_AllList.append(tmp_GB_antic_list_area)\n",
    "        GB_antic_list_dV_normD_AllList.append(tmp_GB_antic_list_dV_normD)\n",
    "        GB_antic_list_dV_antiD_AllList.append(tmp_GB_antic_list_dV_antiD)\n",
    "        \n",
    "        # =============================================================================\n",
    "        # EXTRACT NORMAL-CURVATURE GB DATA\n",
    "        # =============================================================================\n",
    "        \n",
    "        tmp_GB_normc_list_velocity = []\n",
    "        tmp_GB_normc_list_curvature = []\n",
    "        tmp_GB_normc_list_GBenergy = []\n",
    "        tmp_GB_normc_list_area = []\n",
    "        tmp_GB_normc_list_dV_normD = []\n",
    "        tmp_GB_normc_list_dV_antiD = []\n",
    "        \n",
    "        for key in dV_dict_tmp:\n",
    "            result = dV_dict_tmp[key]\n",
    "            velocity = result[\"velocity\"]\n",
    "            current_curvature_value = result[\"current_curvature_value\"]\n",
    "            current_area = 0.5 * GB_infomation_dict_list[time_step][key][0]\n",
    "            dV_direction1 = result[\"dV_direction1\"]\n",
    "            dV_direction2 = result[\"dV_direction2\"]\n",
    "            \n",
    "            # Check if this GB shows normal curvature behavior (curvature and velocity same sign)\n",
    "            if current_curvature_value * velocity > 0:  # Normal curvature behavior\n",
    "                \n",
    "                # Normalize signs similar to anti-curvature case\n",
    "                if current_curvature_value < 0:\n",
    "                    GB_normc_list_velocity_list.append(-velocity)\n",
    "                    GB_normc_list_curvature_list.append(-current_curvature_value)\n",
    "                    GB_normc_list_dV_normD_list.append(dV_direction2)\n",
    "                    GB_normc_list_dV_antiD_list.append(dV_direction1)\n",
    "                    tmp_GB_normc_list_velocity.append(-velocity)\n",
    "                    tmp_GB_normc_list_curvature.append(-current_curvature_value)\n",
    "                    tmp_GB_normc_list_dV_normD.append(dV_direction2)\n",
    "                    tmp_GB_normc_list_dV_antiD.append(dV_direction1)\n",
    "                else:\n",
    "                    GB_normc_list_velocity_list.append(velocity)\n",
    "                    GB_normc_list_curvature_list.append(current_curvature_value)\n",
    "                    GB_normc_list_dV_normD_list.append(dV_direction1)\n",
    "                    GB_normc_list_dV_antiD_list.append(dV_direction2)\n",
    "                    tmp_GB_normc_list_velocity.append(velocity)\n",
    "                    tmp_GB_normc_list_curvature.append(current_curvature_value)\n",
    "                    tmp_GB_normc_list_dV_normD.append(dV_direction1)\n",
    "                    tmp_GB_normc_list_dV_antiD.append(dV_direction2)\n",
    "                \n",
    "                # Store energy and area data\n",
    "                GB_normc_list_GBenergy_list.append(result[\"current_eng\"])\n",
    "                GB_normc_list_area_list.append(current_area)\n",
    "                tmp_GB_normc_list_GBenergy.append(result[\"current_eng\"])\n",
    "                tmp_GB_normc_list_area.append(current_area)\n",
    "        \n",
    "        # Store normal-curvature data for current time step\n",
    "        GB_normc_list_velocity_AllList.append(tmp_GB_normc_list_velocity)\n",
    "        GB_normc_list_curvature_AllList.append(tmp_GB_normc_list_curvature)\n",
    "        GB_normc_list_GBenergy_AllList.append(tmp_GB_normc_list_GBenergy)\n",
    "        GB_normc_list_area_AllList.append(tmp_GB_normc_list_area)\n",
    "        GB_normc_list_dV_normD_AllList.append(tmp_GB_normc_list_dV_normD)\n",
    "        GB_normc_list_dV_antiD_AllList.append(tmp_GB_normc_list_dV_antiD)"
   ]
  },
  {
   "cell_type": "code",
   "execution_count": null,
   "id": "7f5ceda3-c17c-45ae-ad05-9aaab0112017",
   "metadata": {
    "tags": []
   },
   "outputs": [
    {
     "name": "stdout",
     "output_type": "stream",
     "text": [
      "anti-c GB\n",
      "The number of the GBs showing anti-curvature during whole simulations is 8\n",
      "The ratio of anti-curvature GBs during whole simulations is 0.0028467623416043642% in 281021 GBs\n",
      "The ratio of norm-curvature GBs during whole simulations is 0.5864330423704991% in 281021 GBs\n",
      "\n",
      "anti-c GB in real total number\n",
      "The ratio of anti-curvature GBs during whole simulations is 0.4830917874396135% in 1656 GBs\n",
      "The ratio of norm-curvature GBs during whole simulations is 99.51690821256038% in 1656 GBs\n",
      "\n",
      "Over all voxels\n",
      "The number of the normal voxels and antic voxels during whole simulations are 328368 and 44401\n",
      "The ratio of anti-curvature voxels during whole simulations is 11.911129949110576% in 372769 voxels\n",
      "\n",
      "Voxels on norm-c GBs\n",
      "The number of the normal voxels and antic voxels during whole simulations are 320970 and 23784\n",
      "The ratio of anti-curvature voxels during whole simulations is 6.898832210793783% in 344754 voxels\n"
     ]
    }
   ],
   "source": [
    "    # =============================================================================\n",
    "    # STATISTICAL ANALYSIS OF ANTI-CURVATURE BEHAVIOR\n",
    "    # =============================================================================\n",
    "    \n",
    "    print(\"ANTI-CURVATURE GB STATISTICS\")\n",
    "    print(\"=\" * 50)\n",
    "    \n",
    "    # Calculate total number of GB observations across all time steps\n",
    "    total_GB_num = 0\n",
    "    for time_step in range(step_num):\n",
    "        step_GB = GB_infomation_dict_list[time_step].keys()\n",
    "        total_GB_num += len(step_GB)\n",
    "        \n",
    "    # Calculate real total (filtered GBs only)\n",
    "    total_GB_num_real = len(GB_antic_list_velocity_list) + len(GB_normc_list_velocity_list)\n",
    "\n",
    "    # Print anti-curvature GB statistics\n",
    "    print(f\"The number of the GBs showing anti-curvature during whole simulations is {len(GB_antic_list_velocity_list)}\")\n",
    "    print(f\"The ratio of anti-curvature GBs during whole simulations is {len(GB_antic_list_velocity_list)/total_GB_num*100:.2f}% in {total_GB_num} GBs\")\n",
    "    print(f\"The ratio of norm-curvature GBs during whole simulations is {len(GB_normc_list_velocity_list)/total_GB_num*100:.2f}% in {total_GB_num} GBs\")\n",
    "    print()\n",
    "    \n",
    "    print(\"ANTI-CURVATURE GB STATISTICS (FILTERED DATA ONLY)\")\n",
    "    print(f\"The ratio of anti-curvature GBs during whole simulations is {len(GB_antic_list_velocity_list)/total_GB_num_real*100:.2f}% in {total_GB_num_real} GBs\")\n",
    "    print(f\"The ratio of norm-curvature GBs during whole simulations is {len(GB_normc_list_velocity_list)/total_GB_num_real*100:.2f}% in {total_GB_num_real} GBs\")\n",
    "    print()\n",
    "    \n",
    "    # =============================================================================\n",
    "    # VOXEL-LEVEL ANALYSIS\n",
    "    # =============================================================================\n",
    "    \n",
    "    print(\"VOXEL-LEVEL STATISTICS (ALL GBs)\")\n",
    "    print(\"=\" * 40)\n",
    "    \n",
    "    normal_growth_voxel = 0\n",
    "    antic_growth_voxel = 0\n",
    "    \n",
    "    # Calculate anti-curvature voxel fraction across all GBs\n",
    "    for i in range(0, len(GB_list_curvature_list)):\n",
    "        for j in range(len(GB_list_curvature_list[i])):\n",
    "            # Determine normal vs anti-curvature growth based on curvature sign\n",
    "            # When curvature < 0: direction2 is normal, direction1 is anti-curvature\n",
    "            # When curvature >= 0: direction1 is normal, direction2 is anti-curvature\n",
    "            if GB_list_curvature_list[i][j] < 0:\n",
    "                normal_growth_voxel += GB_list_dV_direction2[i][j]\n",
    "                antic_growth_voxel += GB_list_dV_direction1[i][j]\n",
    "            elif GB_list_curvature_list[i][j] >= 0:\n",
    "                normal_growth_voxel += GB_list_dV_direction1[i][j]\n",
    "                antic_growth_voxel += GB_list_dV_direction2[i][j]\n",
    "    \n",
    "    total_voxels = antic_growth_voxel + normal_growth_voxel\n",
    "    print(f\"The number of the normal voxels and anti-curvature voxels during whole simulations are {normal_growth_voxel} and {antic_growth_voxel}\")\n",
    "    print(f\"The ratio of anti-curvature voxels during whole simulations is {antic_growth_voxel/total_voxels*100:.2f}% in {total_voxels} voxels\")\n",
    "    print()\n",
    "    \n",
    "    print(\"VOXEL-LEVEL STATISTICS (NORMAL-CURVATURE GBs ONLY)\")\n",
    "    print(\"=\" * 50)\n",
    "    \n",
    "    # Calculate voxel statistics for normal-curvature GBs only\n",
    "    normal_growth_voxel = np.sum(GB_normc_list_dV_normD_list)\n",
    "    antic_growth_voxel = np.sum(GB_normc_list_dV_antiD_list)\n",
    "    total_voxels = antic_growth_voxel + normal_growth_voxel\n",
    "    \n",
    "    print(f\"The number of the normal voxels and anti-curvature voxels are {normal_growth_voxel} and {antic_growth_voxel}\")\n",
    "    print(f\"The ratio of anti-curvature voxels is {antic_growth_voxel/total_voxels*100:.2f}% in {total_voxels} voxels\")"
   ]
  },
  {
   "cell_type": "code",
   "execution_count": 25,
   "id": "6ce46273-2d5a-458c-8d0d-21a9c8684b95",
   "metadata": {
    "tags": []
   },
   "outputs": [
    {
     "data": {
      "text/plain": [
       "<Figure size 432x288 with 0 Axes>"
      ]
     },
     "metadata": {},
     "output_type": "display_data"
    },
    {
     "data": {
      "image/png": "[encoded data removed]",
      "text/plain": [
       "<Figure size 504x504 with 1 Axes>"
      ]
     },
     "metadata": {
      "needs_background": "light"
     },
     "output_type": "display_data"
    },
    {
     "data": {
      "text/plain": [
       "<Figure size 432x288 with 0 Axes>"
      ]
     },
     "metadata": {},
     "output_type": "display_data"
    },
    {
     "data": {
      "image/png": "[encoded data removed]",
      "text/plain": [
       "<Figure size 504x504 with 1 Axes>"
      ]
     },
     "metadata": {
      "needs_background": "light"
     },
     "output_type": "display_data"
    }
   ],
   "source": [
    "    # voxels information in anti-c GBs --- Yes I think it can be confidence!!!!!!\n",
    "    bin_interval = 0.01\n",
    "    x_lim = [0.5,1.0]\n",
    "    bin_number = int((x_lim[1]-x_lim[0])/bin_interval)\n",
    "    Antic_voxel_coordinate = np.arange(x_lim[0],x_lim[1],bin_interval)+bin_interval/2\n",
    "    \n",
    "    antic_voxel_num_bin = np.zeros(bin_number)\n",
    "    normc_voxel_num_bin = np.zeros(bin_number)\n",
    "    for index in range(len(GB_antic_list_dV_normD_list)):\n",
    "        antic_voxel_num_bin[int((GB_antic_list_dV_antiD_list[index]/(GB_antic_list_dV_normD_list[index]+GB_antic_list_dV_antiD_list[index])-x_lim[0])//bin_interval)] += 1\n",
    "    for index in range(len(GB_normc_list_dV_normD_list)):\n",
    "        normc_voxel_num_bin[int((GB_normc_list_dV_normD_list[index]/(GB_normc_list_dV_normD_list[index]+GB_normc_list_dV_antiD_list[index])-x_lim[0])//bin_interval)] += 1\n",
    "    # plot\n",
    "    figure_name_all_bin = f\"figures/2D_antic_voxel_distribution_{case_name}_5d_afterBin.png\"\n",
    "    plt.figure()\n",
    "    fig = plt.figure(figsize=(7, 7))\n",
    "    plt.xlim([0.5,1.0])\n",
    "    plt.ylim([0,0.5])\n",
    "    plt.title(\"anti_c distribution\")\n",
    "    plt.plot(Antic_voxel_coordinate, antic_voxel_num_bin/np.sum(antic_voxel_num_bin),'-', linewidth=2)\n",
    "    plt.xlabel(\"voxels percentage\", fontsize=18)\n",
    "    plt.ylabel(\"distribution\", fontsize=18)\n",
    "    # plt.savefig(figure_name_all_bin, dpi=400,bbox_inches='tight')\n",
    "    \n",
    "    figure_name_all_bin = f\"figures/2D_normc_voxel_distribution_{case_name}_5d_afterBin.png\"\n",
    "    plt.figure()\n",
    "    fig = plt.figure(figsize=(7, 7))\n",
    "    plt.xlim([0.5,1.0])\n",
    "    plt.ylim([0,0.5])\n",
    "    plt.title(\"norm_c distribution\")\n",
    "    plt.plot(Antic_voxel_coordinate, normc_voxel_num_bin/np.sum(normc_voxel_num_bin),'-', linewidth=2)\n",
    "    plt.xlabel(\"voxels percentage\", fontsize=18)\n",
    "    plt.ylabel(\"distribution\", fontsize=18)\n",
    "    # plt.savefig(figure_name_all_bin, dpi=400,bbox_inches='tight')\n",
    "    \n",
    "        \n",
    "    confidence_factor = 0.99\n",
    "    \n",
    "    update_GB_antic_list_velocity_AllList = []\n",
    "    update_GB_antic_list_curvature_AllList = []\n",
    "    update_GB_antic_list_GBenergy_AllList = []\n",
    "    update_GB_antic_list_anticNum_AllList = []\n",
    "    update_GB_antic_list_area_AllList = []\n",
    "    update_GB_antic_list_dV_normD_AllList = []\n",
    "    update_GB_antic_list_dV_antiD_AllList = []\n",
    "    \n",
    "    update_GB_antic_list_velocity_list = []\n",
    "    update_GB_antic_list_curvature_list = []\n",
    "    update_GB_antic_list_GBenergy_list = []\n",
    "    update_GB_antic_list_anticNum_list = []\n",
    "    update_GB_antic_list_area_list = []\n",
    "    update_GB_antic_list_dV_normD_list = []\n",
    "    update_GB_antic_list_dV_antiD_list = []\n",
    "    for index in range(len(GB_antic_list_velocity_list)):\n",
    "        if GB_antic_list_dV_antiD_list[index]/(GB_antic_list_dV_normD_list[index]+GB_antic_list_dV_antiD_list[index]) > confidence_factor:\n",
    "            update_GB_antic_list_velocity_list.append(GB_antic_list_velocity_list[index])\n",
    "            update_GB_antic_list_curvature_list.append(GB_antic_list_curvature_list[index])\n",
    "            update_GB_antic_list_GBenergy_list.append(GB_antic_list_GBenergy_list[index])\n",
    "            update_GB_antic_list_anticNum_list.append(GB_antic_list_anticNum_list[index])\n",
    "            update_GB_antic_list_area_list.append(GB_antic_list_area_list[index])\n",
    "            update_GB_antic_list_dV_normD_list.append(GB_antic_list_dV_normD_list[index])\n",
    "            update_GB_antic_list_dV_antiD_list.append(GB_antic_list_dV_antiD_list[index])\n",
    "    for index_i in range(len(update_GB_antic_list_velocity_AllList)):\n",
    "        tmp_update_GB_antic_list_velocity_AllList =[]\n",
    "        tmp_update_GB_antic_list_curvature_AllList =[]\n",
    "        tmp_update_GB_antic_list_GBenergy_AllList = []\n",
    "        tmp_update_GB_antic_list_anticNum_AllList = []\n",
    "        tmp_update_GB_antic_list_area_AllList = []\n",
    "        tmp_update_GB_antic_list_dV_normD_AllList = []\n",
    "        tmp_update_GB_antic_list_dV_antiD_AllList = []\n",
    "        for index_j in range(len(update_GB_antic_list_velocity_AllList[index_i])):\n",
    "            if GB_antic_list_dV_antiD_AllList[index_i][index_j]/(GB_antic_list_dV_normD_AllList[index_i][index_j]+GB_antic_list_dV_antiD_AllList[index_i][index_j]) > confidence_factor:\n",
    "                tmp_update_GB_antic_list_velocity_AllList.append(GB_antic_list_velocity_AllList[index_i][index_j])\n",
    "                tmp_update_GB_antic_list_curvature_AllList.append(GB_antic_list_curvature_AllList[index_i][index_j])\n",
    "                tmp_update_GB_antic_list_GBenergy_AllList.append(GB_antic_list_GBenergy_AllList[index_i][index_j])\n",
    "                tmp_update_GB_antic_list_anticNum_AllList.append(GB_antic_list_anticNum_AllList[index_i][index_j])\n",
    "                tmp_update_GB_antic_list_area_AllList.append(GB_antic_list_area_AllList[index_i][index_j])\n",
    "                tmp_update_GB_antic_list_dV_normD_AllList.append(GB_antic_list_dV_normD_AllList[index_i][index_j])\n",
    "                tmp_update_GB_antic_list_dV_antiD_AllList.append(GB_antic_list_dV_antiD_AllList[index_i][index_j])\n",
    "        update_GB_antic_list_velocity_AllList.append(tmp_update_GB_antic_list_velocity_AllList)\n",
    "        update_GB_antic_list_curvature_AllList.append(tmp_update_GB_antic_list_curvature_AllList)\n",
    "        update_GB_antic_list_GBenergy_AllList.append(tmp_update_GB_antic_list_GBenergy_AllList)\n",
    "        update_GB_antic_list_anticNum_AllList.append(tmp_update_GB_antic_list_anticNum_AllList)\n",
    "        update_GB_antic_list_area_AllList.append(tmp_update_GB_antic_list_area_AllList)\n",
    "        update_GB_antic_list_dV_normD_AllList.append(tmp_update_GB_antic_list_dV_normD_AllList)\n",
    "        update_GB_antic_list_dV_antiD_AllList.append(tmp_update_GB_antic_list_dV_antiD_AllList)\n",
    "        \n",
    "        \n",
    "    update_GB_normc_list_velocity_AllList = []\n",
    "    update_GB_normc_list_curvature_AllList = []\n",
    "    update_GB_normc_list_GBenergy_AllList = []\n",
    "    update_GB_normc_list_area_AllList = []\n",
    "    update_GB_normc_list_dV_normD_AllList = []\n",
    "    update_GB_normc_list_dV_antiD_AllList = []\n",
    "    \n",
    "    update_GB_normc_list_velocity_list = []\n",
    "    update_GB_normc_list_curvature_list = []\n",
    "    update_GB_normc_list_GBenergy_list = []\n",
    "    update_GB_normc_list_area_list = []\n",
    "    update_GB_normc_list_dV_normD_list = []\n",
    "    update_GB_normc_list_dV_antiD_list = []\n",
    "    for index in range(len(GB_normc_list_velocity_list)):\n",
    "        if GB_normc_list_dV_normD_list[index]/(GB_normc_list_dV_normD_list[index]+GB_normc_list_dV_antiD_list[index]) > confidence_factor:\n",
    "            update_GB_normc_list_velocity_list.append(GB_normc_list_velocity_list[index])\n",
    "            update_GB_normc_list_curvature_list.append(GB_normc_list_curvature_list[index])\n",
    "            update_GB_normc_list_GBenergy_list.append(GB_normc_list_GBenergy_list[index])\n",
    "            update_GB_normc_list_area_list.append(GB_normc_list_area_list[index])\n",
    "            update_GB_normc_list_dV_normD_list.append(GB_normc_list_dV_normD_list[index])\n",
    "            update_GB_normc_list_dV_antiD_list.append(GB_normc_list_dV_antiD_list[index])\n",
    "    for index_i in range(len(update_GB_normc_list_velocity_AllList)):\n",
    "        tmp_update_GB_normc_list_velocity_AllList =[]\n",
    "        tmp_update_GB_normc_list_curvature_AllList =[]\n",
    "        tmp_update_GB_normc_list_GBenergy_AllList = []\n",
    "        tmp_update_GB_normc_list_area_AllList = []\n",
    "        tmp_update_GB_normc_list_dV_normD_AllList = []\n",
    "        tmp_update_GB_normc_list_dV_antiD_AllList = []\n",
    "        for index_j in range(len(update_GB_normc_list_velocity_AllList[index_i])):\n",
    "            if GB_normc_list_dV_normD_AllList[index_i][index_j]/(GB_normc_list_dV_normD_AllList[index_i][index_j]+GB_normc_list_dV_antiD_AllList[index_i][index_j]) > confidence_factor:\n",
    "                tmp_update_GB_normc_list_velocity_AllList.append(GB_normc_list_velocity_AllList[index_i][index_j])\n",
    "                tmp_update_GB_normc_list_curvature_AllList.append(GB_normc_list_curvature_AllList[index_i][index_j])\n",
    "                tmp_update_GB_normc_list_GBenergy_AllList.append(GB_normc_list_GBenergy_AllList[index_i][index_j])\n",
    "                tmp_update_GB_normc_list_area_AllList.append(GB_normc_list_area_AllList[index_i][index_j])\n",
    "                tmp_update_GB_normc_list_dV_normD_AllList.append(GB_normc_list_dV_normD_AllList[index_i][index_j])\n",
    "                tmp_update_GB_normc_list_dV_antiD_AllList.append(GB_normc_list_dV_antiD_AllList[index_i][index_j])\n",
    "        update_GB_normc_list_velocity_AllList.append(tmp_update_GB_normc_list_velocity_AllList)\n",
    "        update_GB_normc_list_curvature_AllList.append(tmp_update_GB_normc_list_curvature_AllList)\n",
    "        update_GB_normc_list_GBenergy_AllList.append(tmp_update_GB_normc_list_GBenergy_AllList)\n",
    "        update_GB_normc_list_area_AllList.append(tmp_update_GB_normc_list_area_AllList)\n",
    "        update_GB_normc_list_dV_normD_AllList.append(tmp_update_GB_normc_list_dV_normD_AllList)\n",
    "        update_GB_normc_list_dV_antiD_AllList.append(tmp_update_GB_normc_list_dV_antiD_AllList)\n",
    "        \n",
    "            \n",
    "    "
   ]
  },
  {
   "cell_type": "code",
   "execution_count": 26,
   "id": "ca32e83d-e56c-43c8-afb1-4f62477686d9",
   "metadata": {
    "tags": []
   },
   "outputs": [
    {
     "name": "stdout",
     "output_type": "stream",
     "text": [
      "Voxels on anti-c GBs\n",
      "The number of the normal voxels and antic voxels during whole simulations are 1 and 159\n",
      "The ratio of anti-curvature voxels during whole simulations is 99.375% in 160 voxels\n",
      "\n",
      "Voxels on norm-c GBs\n",
      "The number of the normal voxels and antic voxels during whole simulations are 171231 and 176\n",
      "The ratio of norm-curvature voxels during whole simulations is 99.89732041281862% in 171407 voxels\n",
      "\n",
      "anti-c GB before removing low fraction\n",
      "The number of the GBs showing anti-curvature during whole simulations is 8\n",
      "The ratio of anti-curvature and norm GBs during whole simulations is 0.4830917874396135% and 99.51690821256038% in 1656 GBs\n",
      "\n",
      "anti-c GB after removing low fraction\n",
      "The number of the GBs showing anti-curvature during whole simulations is 1\n",
      "The ratio of anti-curvature and norm GBs during whole simulations is 0.06038647342995169% and 38.88888888888889% in 1656 GBs\n",
      "\n",
      "The ratio of anti-curvature and norm GBs during whole simulations is (original GBs number) 0.00035584529270054553% and 0.2291643684991513% in 281021 GBs\n",
      "\n"
     ]
    }
   ],
   "source": [
    "    print(\"Voxels on anti-c GBs\")\n",
    "    normal_growth_voxel = 0\n",
    "    antic_growth_voxel = 0\n",
    "    # calculate anti-c voxels fraction\n",
    "    normal_growth_voxel = np.sum(update_GB_antic_list_dV_normD_list)\n",
    "    antic_growth_voxel = np.sum(update_GB_antic_list_dV_antiD_list)\n",
    "    print(f\"The number of the normal voxels and antic voxels during whole simulations are {normal_growth_voxel} and {antic_growth_voxel}\")\n",
    "    print(f\"The ratio of anti-curvature voxels during whole simulations is {antic_growth_voxel/(antic_growth_voxel+normal_growth_voxel)*100}% in {antic_growth_voxel+normal_growth_voxel} voxels\")\n",
    "    print()\n",
    "    print(\"Voxels on norm-c GBs\")\n",
    "    normal_growth_voxel = 0\n",
    "    antic_growth_voxel = 0\n",
    "    # calculate anti-c voxels fraction\n",
    "    normal_growth_voxel = np.sum(update_GB_normc_list_dV_normD_list)\n",
    "    antic_growth_voxel = np.sum(update_GB_normc_list_dV_antiD_list)\n",
    "    print(f\"The number of the normal voxels and antic voxels during whole simulations are {normal_growth_voxel} and {antic_growth_voxel}\")\n",
    "    print(f\"The ratio of norm-curvature voxels during whole simulations is {normal_growth_voxel/(antic_growth_voxel+normal_growth_voxel)*100}% in {antic_growth_voxel+normal_growth_voxel} voxels\")\n",
    "    print()\n",
    "\n",
    "    print(\"anti-c GB before removing low fraction\")\n",
    "    total_GB_num = 0\n",
    "    for time_step in range(step_num):\n",
    "        step_GB = GB_infomation_dict_list[time_step].keys()\n",
    "        total_GB_num += len(step_GB)\n",
    "        \n",
    "    total_GB_num_real = len(GB_antic_list_velocity_list) + len(GB_normc_list_velocity_list)\n",
    "\n",
    "    print(f\"The number of the GBs showing anti-curvature during whole simulations is {len(GB_antic_list_dV_normD_list)}\")\n",
    "    print(f\"The ratio of anti-curvature and norm GBs during whole simulations is {len(GB_antic_list_dV_normD_list)/total_GB_num_real*100}% and {len(GB_normc_list_dV_normD_list)/total_GB_num_real*100}% in {total_GB_num_real} GBs\")\n",
    "    print()\n",
    "    \n",
    "    print(\"anti-c GB after removing low fraction\")\n",
    "\n",
    "    # number of GB woth high anti-c fraction (99%)\n",
    "    print(f\"The number of the GBs showing anti-curvature during whole simulations is {len(update_GB_antic_list_dV_antiD_list)}\")\n",
    "    print(f\"The ratio of anti-curvature and norm GBs during whole simulations is {len(update_GB_antic_list_dV_antiD_list)/total_GB_num_real*100}% and {len(update_GB_normc_list_dV_antiD_list)/total_GB_num_real*100}% in {total_GB_num_real} GBs\")\n",
    "    print()\n",
    "    \n",
    "    print(f\"The ratio of anti-curvature and norm GBs during whole simulations is (original GBs number) {len(update_GB_antic_list_dV_antiD_list)/total_GB_num*100}% and {len(update_GB_normc_list_dV_antiD_list)/total_GB_num*100}% in {total_GB_num} GBs\")\n",
    "    print()\n",
    "    \n",
    "    "
   ]
  },
  {
   "cell_type": "code",
   "execution_count": null,
   "id": "023b6dc5-3462-4c56-b335-2a2e979f4c7a",
   "metadata": {
    "tags": []
   },
   "outputs": [
    {
     "name": "stdout",
     "output_type": "stream",
     "text": [
      "all points fitting: 0.9359468602405758\n",
      "all points slope: 2.770743019188883\n",
      "smaller points fitting: 0.9075446911152127\n",
      "smaller points slope: 2.947342002897959\n",
      "1.9242792860618816\n"
     ]
    },
    {
     "data": {
      "text/plain": [
       "<Figure size 432x288 with 0 Axes>"
      ]
     },
     "metadata": {},
     "output_type": "display_data"
    },
    {
     "data": {
      "image/png": "[encoded data removed]",
      "text/plain": [
       "<Figure size 360x360 with 1 Axes>"
      ]
     },
     "metadata": {
      "needs_background": "light"
     },
     "output_type": "display_data"
    },
    {
     "data": {
      "text/plain": [
       "<Figure size 432x288 with 0 Axes>"
      ]
     },
     "metadata": {},
     "output_type": "display_data"
    },
    {
     "data": {
      "image/png": "[encoded data removed]",
      "text/plain": [
       "<Figure size 360x360 with 2 Axes>"
      ]
     },
     "metadata": {
      "needs_background": "light"
     },
     "output_type": "display_data"
    }
   ],
   "source": [
    "    # =============================================================================\n",
    "    # VISUALIZATION: VELOCITY-CURVATURE RELATIONSHIPS - MISORIENTATION-ONLY ANISOTROPY\n",
    "    # =============================================================================\n",
    "    \n",
    "    # Create comprehensive velocity vs curvature scatter plots\n",
    "    # For M-anisotropic systems, anti-curvature behavior is less pronounced than in full MI case\n",
    "    # but more evident than in isotropic systems\n",
    "    \n",
    "    # Basic scatter plot: All GBs (normal and anti-curvature)\n",
    "    figure_name_all = f\"figures/2D_velocity_signedcurvature_{case_name}_5d.png\"\n",
    "    plt.figure()\n",
    "    fig = plt.figure(figsize=(5, 5))\n",
    "    plt.plot([curvature_limit,0.5],[0,0],'-',color='grey',linewidth=2)  # Zero velocity reference line\n",
    "    plt.scatter(GB_normc_list_curvature_list, GB_normc_list_velocity_list,s=4,alpha=0.5,label='Normal-curvature GBs')\n",
    "    plt.scatter(GB_antic_list_curvature_list, GB_antic_list_velocity_list,s=4,alpha=0.5,color='C01',label='Anti-curvature GBs')\n",
    "    plt.xlabel(\"curvature\", fontsize=20)\n",
    "    plt.ylabel(\"velocity (voxel/step)\", fontsize=18)\n",
    "    plt.xlim([curvature_limit,0.1])\n",
    "    plt.ylim([-0.3,0.3])\n",
    "    plt.savefig(figure_name_all, dpi=400,bbox_inches='tight')\n",
    "    \n",
    "    # hot figure\n",
    "    # Create a 2D histogram to approximate density\n",
    "    x_bins = np.linspace( 0, 0.105, 40)  # X-axis bins (adjust based on your data)\n",
    "    y_bins = np.linspace(-0.4, 0.4, 40)  # Y-axis bins (adjust based on your data)\n",
    "    hist, x_edges, y_edges = np.histogram2d(GB_normc_list_curvature_list+GB_antic_list_curvature_list, GB_normc_list_velocity_list+GB_antic_list_velocity_list, bins=[x_bins, y_bins])\n",
    "    # Compute the bin centers\n",
    "    x_centers = (x_edges[:-1] + x_edges[1:]) / 2\n",
    "    y_centers = (y_edges[:-1] + y_edges[1:]) / 2\n",
    "    \n",
    "    # bin plotting\n",
    "    bin_interval = 0.002\n",
    "    x_lim = [0,0.1]\n",
    "    bin_number = int((x_lim[1]-x_lim[0])/bin_interval)\n",
    "    curvature_coordinate = np.arange(x_lim[0],x_lim[1],bin_interval)+bin_interval/2\n",
    "    \n",
    "    new_curvature_1Dlist_remove_0step = GB_normc_list_curvature_list + GB_antic_list_curvature_list\n",
    "    new_velocity_1Dlist_remove_0step = GB_normc_list_velocity_list + GB_antic_list_velocity_list\n",
    "    new_area_1Dlist_remove_0step = GB_normc_list_area_list+GB_antic_list_area_list\n",
    "    new_GBenergy_1Dlist_remove_0step = GB_normc_list_GBenergy_list+GB_antic_list_GBenergy_list\n",
    "    \n",
    "    curvature_bin_counts = np.zeros(bin_number)\n",
    "    velocity_bin_sums = np.zeros(bin_number)\n",
    "    velocity_bin_squared_sums = np.zeros(bin_number)\n",
    "    for index in range(len(new_curvature_1Dlist_remove_0step)):\n",
    "        curvature_val = new_curvature_1Dlist_remove_0step[index]\n",
    "        velocity_val = new_velocity_1Dlist_remove_0step[index]\n",
    "        if abs(curvature_val) > x_lim[1]:\n",
    "            continue\n",
    "        bin_idx = int((curvature_val - x_lim[0]) // bin_interval)\n",
    "        curvature_bin_counts[bin_idx] += 1\n",
    "        velocity_bin_sums[bin_idx] += velocity_val\n",
    "        velocity_bin_squared_sums[bin_idx] += velocity_val ** 2\n",
    "\n",
    "    velocity_bin_means = np.zeros(bin_number)\n",
    "    velocity_bin_stds = np.zeros(bin_number)\n",
    "\n",
    "    for i in range(bin_number):\n",
    "        if curvature_bin_counts[i] > 0:\n",
    "            velocity_bin_means[i] = velocity_bin_sums[i] / curvature_bin_counts[i]\n",
    "            velocity_bin_stds[i] = np.sqrt((velocity_bin_squared_sums[i] / curvature_bin_counts[i]) - velocity_bin_means[i]**2)\n",
    "    \n",
    "    figure_name_all = f\"figures/2D_velocity_signedcurvature_hot_{case_name}_5d.png\"\n",
    "    plt.figure()\n",
    "    fig = plt.figure(figsize=(5, 5))\n",
    "    plt.plot([curvature_limit,0.5],[0,0],'-',color='grey',linewidth=2)\n",
    "    X, Y = np.meshgrid(x_centers, y_centers)\n",
    "    hist.T[hist.T==0] = 1\n",
    "    plt.contour(X, Y, np.log10(hist.T), levels=20, cmap='gray', alpha=0.1,vmin=0,vmax=2.8)\n",
    "    ax2 = plt.contourf(X, Y, np.log10(hist.T), levels=20, cmap='coolwarm', alpha=0.9,vmin=0,vmax=2.8)\n",
    "    sm = plt.cm.ScalarMappable(cmap='coolwarm',norm=plt.Normalize(vmin=0,vmax=2.8))\n",
    "    cbar = plt.colorbar(sm)\n",
    "    cbar.set_label(u\"$\\log_{10}(density)$\", fontsize=20)\n",
    "    \n",
    "    valid_bins = curvature_bin_counts > 10\n",
    "    plt.errorbar(curvature_coordinate[valid_bins], velocity_bin_means[valid_bins], yerr=velocity_bin_stds[valid_bins],\n",
    "             fmt='o', color='k', linewidth=1, capsize=1, ecolor='black', markersize=2)\n",
    "    \n",
    "    # Linear fit for all valid bins\n",
    "    x_all = curvature_coordinate[valid_bins]\n",
    "    y_all = velocity_bin_means[valid_bins]\n",
    "    p_all = np.polyfit(x_all, y_all, 1)\n",
    "    y_pred_all = np.polyval(p_all, x_all)\n",
    "    r2_all = 1 - np.sum((y_all - y_pred_all)**2) / np.sum((y_all - np.mean(y_all))**2)\n",
    "    print(f\"all points fitting: {r2_all}\")\n",
    "    print(f\"all points slope: {p_all[0]}\")\n",
    "    \n",
    "    # Linear fit for valid bins with curvature < 0.05\n",
    "    mask_sub = x_all < 0.03\n",
    "    x_sub = x_all[mask_sub]\n",
    "    y_sub = y_all[mask_sub]\n",
    "    if len(x_sub) > 1:\n",
    "        p_sub = np.polyfit(x_sub, y_sub, 1)\n",
    "        y_pred_sub = np.polyval(p_sub, x_sub)\n",
    "        r2_sub = 1 - np.sum((y_sub - y_pred_sub)**2) / np.sum((y_sub - np.mean(y_sub))**2)\n",
    "    else:\n",
    "        r2_sub = np.nan\n",
    "    print(f\"smaller points fitting: {r2_sub}\")\n",
    "    print(f\"smaller points slope: {p_sub[0]}\")\n",
    "    \n",
    "    # Plot linear fits\n",
    "    plt.plot(x_all, y_pred_all, '-', color='C1', linewidth=3, label=rf'All points (R$^2$={r2_all:.3f})')\n",
    "    if len(x_sub) > 1:\n",
    "        plt.plot(x_sub, y_pred_sub, '-', color='C2', linewidth=3, label=rf'Points with $\\kappa$<0.03 (R$^2$={r2_sub:.3f})')\n",
    "    plt.legend(loc='lower right')\n",
    "    \n",
    "    plt.xlabel(\"curvature\", fontsize=20)\n",
    "    plt.ylabel(\"velocity (voxel/step)\", fontsize=20)\n",
    "    plt.xlim([curvature_limit,0.1])\n",
    "    plt.ylim([-0.3,0.3])\n",
    "    plt.savefig(figure_name_all, dpi=400,bbox_inches='tight')\n",
    "    print(np.max(np.log10(hist.T)))\n",
    "    "
   ]
  },
  {
   "cell_type": "code",
   "execution_count": 28,
   "id": "7e609b22-de14-4273-867b-60249af30047",
   "metadata": {},
   "outputs": [
    {
     "data": {
      "text/plain": [
       "Text(0, 0.5, 'velocity (voxel/step)')"
      ]
     },
     "execution_count": 28,
     "metadata": {},
     "output_type": "execute_result"
    },
    {
     "data": {
      "text/plain": [
       "<Figure size 432x288 with 0 Axes>"
      ]
     },
     "metadata": {},
     "output_type": "display_data"
    },
    {
     "data": {
      "image/png": "[encoded data removed]",
      "text/plain": [
       "<Figure size 360x360 with 1 Axes>"
      ]
     },
     "metadata": {
      "needs_background": "light"
     },
     "output_type": "display_data"
    },
    {
     "data": {
      "text/plain": [
       "<Figure size 432x288 with 0 Axes>"
      ]
     },
     "metadata": {},
     "output_type": "display_data"
    },
    {
     "data": {
      "image/png": "[encoded data removed]",
      "text/plain": [
       "<Figure size 360x360 with 1 Axes>"
      ]
     },
     "metadata": {
      "needs_background": "light"
     },
     "output_type": "display_data"
    },
    {
     "data": {
      "text/plain": [
       "<Figure size 432x288 with 0 Axes>"
      ]
     },
     "metadata": {},
     "output_type": "display_data"
    },
    {
     "data": {
      "image/png": "[encoded data removed]",
      "text/plain": [
       "<Figure size 504x504 with 1 Axes>"
      ]
     },
     "metadata": {
      "needs_background": "light"
     },
     "output_type": "display_data"
    }
   ],
   "source": [
    "    # All in 1 figrue\n",
    "    figure_name_all = f\"figures/2D_velocity_signedcurvature_confi_{case_name}_5d.png\"\n",
    "    plt.figure()\n",
    "    fig = plt.figure(figsize=(5, 5))\n",
    "    plt.plot([curvature_limit,0.5],[0,0],'-',color='grey',linewidth=2)\n",
    "    plt.scatter(update_GB_normc_list_curvature_list, update_GB_normc_list_velocity_list,s=4,alpha=0.5)\n",
    "    plt.scatter(update_GB_antic_list_curvature_list, update_GB_antic_list_velocity_list,s=4,alpha=0.5,color='C01')\n",
    "    plt.xlabel(\"curvature\", fontsize=20)\n",
    "    plt.ylabel(\"velocity (voxel/step)\", fontsize=18)\n",
    "    plt.xlim([curvature_limit,0.5])\n",
    "    plt.ylim([-0.5,0.5])\n",
    "    plt.savefig(figure_name_all, dpi=400,bbox_inches='tight')\n",
    "    \n",
    "    # hot figure\n",
    "    # Create a 2D histogram to approximate density\n",
    "    x_bins = np.linspace( 0, 0.505, 40)  # X-axis bins (adjust based on your data)\n",
    "    y_bins = np.linspace(-0.6, 0.6, 40)  # Y-axis bins (adjust based on your data)\n",
    "    hist, x_edges, y_edges = np.histogram2d(update_GB_normc_list_curvature_list+update_GB_antic_list_curvature_list, update_GB_normc_list_velocity_list+update_GB_antic_list_velocity_list, bins=[x_bins, y_bins])\n",
    "    # Compute the bin centers\n",
    "    x_centers = (x_edges[:-1] + x_edges[1:]) / 2\n",
    "    y_centers = (y_edges[:-1] + y_edges[1:]) / 2\n",
    "    \n",
    "    figure_name_all = f\"figures/2D_velocity_signedcurvature_confi_hot_{case_name}_5d.png\"\n",
    "    plt.figure()\n",
    "    fig = plt.figure(figsize=(5, 5))\n",
    "    plt.plot([curvature_limit,0.5],[0,0],'-',color='grey',linewidth=2)\n",
    "    X, Y = np.meshgrid(x_centers, y_centers)\n",
    "    hist.T[hist.T==0] = 0.5\n",
    "    plt.contourf(X, Y, np.log10(hist.T), levels=20, cmap='coolwarm', alpha=0.9)\n",
    "    plt.contour(X, Y, np.log10(hist.T), levels=20, cmap='gray', alpha=0.1)\n",
    "    plt.xlabel(\"curvature\", fontsize=20)\n",
    "    plt.ylabel(\"velocity (voxel/step)\", fontsize=20)\n",
    "    plt.xlim([curvature_limit,0.5])\n",
    "    plt.ylim([-0.5,0.5])\n",
    "    plt.savefig(figure_name_all, dpi=400,bbox_inches='tight')\n",
    "    \n",
    "    # plot velocity VS averaged curvature\n",
    "    bin_interval = 0.002\n",
    "    x_lim = [0.0,0.5]\n",
    "    bin_number = int((x_lim[1]-x_lim[0])/bin_interval)\n",
    "    curvature_coordinate = np.arange(x_lim[0],x_lim[1],bin_interval)+bin_interval/2\n",
    "\n",
    "    curvature_bin = np.zeros(bin_number)\n",
    "    velocity_bin = np.zeros(bin_number)\n",
    "    new_curvature_1Dlist_remove_0step = update_GB_normc_list_curvature_list + update_GB_antic_list_curvature_list\n",
    "    new_velocity_1Dlist_remove_0step = update_GB_normc_list_velocity_list + update_GB_antic_list_velocity_list\n",
    "    new_area_1Dlist_remove_0step = update_GB_normc_list_area_list+update_GB_antic_list_area_list\n",
    "    new_GBenergy_1Dlist_remove_0step = update_GB_normc_list_GBenergy_list+update_GB_antic_list_GBenergy_list\n",
    "    for index in range(len(new_curvature_1Dlist_remove_0step)):\n",
    "        if abs(new_curvature_1Dlist_remove_0step[index])>=x_lim[1] or abs(new_curvature_1Dlist_remove_0step[index])<=x_lim[0]: continue\n",
    "        curvature_bin[int((new_curvature_1Dlist_remove_0step[index]-x_lim[0])//bin_interval)] += 1\n",
    "        velocity_bin[int((new_curvature_1Dlist_remove_0step[index]-x_lim[0])//bin_interval)] += new_velocity_1Dlist_remove_0step[index]\n",
    "    for i in range(bin_number): \n",
    "        if curvature_bin[i]>0: velocity_bin[i] = velocity_bin[i]/curvature_bin[i]\n",
    "    # plot\n",
    "    figure_name_all_bin = f\"figures/2D_velocity_signedcurvature_confi_{case_name}_5d_afterBin.png\"\n",
    "    plt.figure()\n",
    "    fig = plt.figure(figsize=(7, 7))\n",
    "    # plt.scatter(curvature_coordinate, velocity_bin,s=4,alpha=0.5)\n",
    "    plt.xlim([curvature_limit,0.3])\n",
    "    plt.ylim([-1,1])\n",
    "    plt.plot(curvature_coordinate[velocity_bin!=0], velocity_bin[velocity_bin!=0],'o', linewidth=2)\n",
    "    plt.xlabel(\"curvature\", fontsize=18)\n",
    "    plt.ylabel(\"velocity (voxel/step)\", fontsize=18)\n",
    "    # plt.savefig(figure_name_all_bin, dpi=400,bbox_inches='tight')"
   ]
  },
  {
   "cell_type": "code",
   "execution_count": null,
   "id": "5234dab5-1b3b-4f0e-afeb-a27733a2d6fe",
   "metadata": {
    "tags": []
   },
   "outputs": [
    {
     "data": {
      "text/plain": [
       "<Figure size 432x288 with 0 Axes>"
      ]
     },
     "metadata": {},
     "output_type": "display_data"
    },
    {
     "data": {
      "image/png": "[encoded data removed]",
      "text/plain": [
       "<Figure size 504x504 with 1 Axes>"
      ]
     },
     "metadata": {
      "needs_background": "light"
     },
     "output_type": "display_data"
    },
    {
     "data": {
      "text/plain": [
       "<Figure size 432x288 with 0 Axes>"
      ]
     },
     "metadata": {},
     "output_type": "display_data"
    },
    {
     "data": {
      "image/png": "[encoded data removed]",
      "text/plain": [
       "<Figure size 504x504 with 1 Axes>"
      ]
     },
     "metadata": {
      "needs_background": "light"
     },
     "output_type": "display_data"
    },
    {
     "data": {
      "text/plain": [
       "<Figure size 432x288 with 0 Axes>"
      ]
     },
     "metadata": {},
     "output_type": "display_data"
    },
    {
     "data": {
      "image/png": "[encoded data removed]",
      "text/plain": [
       "<Figure size 504x504 with 1 Axes>"
      ]
     },
     "metadata": {
      "needs_background": "light"
     },
     "output_type": "display_data"
    },
    {
     "data": {
      "text/plain": [
       "<Figure size 432x288 with 0 Axes>"
      ]
     },
     "metadata": {},
     "output_type": "display_data"
    },
    {
     "data": {
      "image/png": "[encoded data removed]",
      "text/plain": [
       "<Figure size 504x504 with 1 Axes>"
      ]
     },
     "metadata": {
      "needs_background": "light"
     },
     "output_type": "display_data"
    }
   ],
   "source": [
    "    # =============================================================================\n",
    "    # GRAIN BOUNDARY ENERGY ANALYSIS - MISORIENTATION-ONLY ANISOTROPY\n",
    "    # =============================================================================\n",
    "    \n",
    "    # Analyze the relationship between GB energy and velocity for M-anisotropic systems\n",
    "    # In misorientation-only anisotropy, energy varies with misorientation angle but not inclination\n",
    "    # This creates energy landscape complexity intermediate between isotropic and full MI cases\n",
    "\n",
    "    GBenergy_1Dlist_remove_0step = GB_normc_list_GBenergy_list+ GB_antic_list_GBenergy_list\n",
    "    velocity_1Dlist_remove_0step = GB_normc_list_velocity_list+ GB_antic_list_velocity_list\n",
    "    \n",
    "    figure_name_all = f\"figures/2D_velocity_GBenergy_{case_name}_5d.png\"\n",
    "    plt.figure()\n",
    "    fig = plt.figure(figsize=(7, 7))\n",
    "    plt.scatter(GBenergy_1Dlist_remove_0step, velocity_1Dlist_remove_0step,s=4,alpha=0.5,label='All GBs')\n",
    "    GB_antic_list_GBenergy_list = np.array(GB_antic_list_GBenergy_list)\n",
    "    GB_antic_list_velocity_list = np.array(GB_antic_list_velocity_list)\n",
    "    GB_antic_list_anticNum_list = np.array(GB_antic_list_anticNum_list)\n",
    "    plt.scatter(GB_antic_list_GBenergy_list[GB_antic_list_anticNum_list>=5], GB_antic_list_velocity_list[GB_antic_list_anticNum_list>=5],s=4,alpha=0.5,label='anti-c GBs(5 steps)')\n",
    "    plt.xlabel(\"GB energy\", fontsize=18)\n",
    "    plt.ylabel(\"velocity (voxel/step)\", fontsize=18)\n",
    "    plt.xlim([0.3,1.0])\n",
    "    plt.ylim([-0.6,0.6])\n",
    "    plt.legend(fontsize=18)\n",
    "    plt.savefig(figure_name_all, dpi=400,bbox_inches='tight')\n",
    "    \n",
    "    # plot velocity VS averaged GBenergy\n",
    "    bin_interval = 0.01\n",
    "    x_lim = [0.25,1.0]\n",
    "    bin_number = int((x_lim[1]-x_lim[0])/bin_interval)\n",
    "    GBenergy_coordinate = np.arange(x_lim[0],x_lim[1],bin_interval)+bin_interval/2\n",
    "\n",
    "    GBenergy_bin = np.zeros(bin_number)\n",
    "    velocity_bin = np.zeros(bin_number)\n",
    "    antic_num_bin = np.zeros(bin_number)\n",
    "    for index in range(len(GBenergy_1Dlist_remove_0step)):\n",
    "        if abs(GBenergy_1Dlist_remove_0step[index])>=1.0: continue\n",
    "        GBenergy_bin[int((GBenergy_1Dlist_remove_0step[index]-x_lim[0])//bin_interval)] += 1\n",
    "        velocity_bin[int((GBenergy_1Dlist_remove_0step[index]-x_lim[0])//bin_interval)] += velocity_1Dlist_remove_0step[index]\n",
    "        if velocity_1Dlist_remove_0step[index] < 0: antic_num_bin[int((GBenergy_1Dlist_remove_0step[index]-x_lim[0])//bin_interval)] += 1\n",
    "        if int((GBenergy_1Dlist_remove_0step[index]-x_lim[0])//bin_interval)<0: print(GBenergy_1Dlist_remove_0step[index])\n",
    "    for i in range(bin_number): \n",
    "        if GBenergy_bin[i]>0: velocity_bin[i] = velocity_bin[i]/GBenergy_bin[i]\n",
    "    # plot\n",
    "    figure_name_all_bin = f\"figures/2D_velocity_GBenergy_{case_name}_5d_afterBin.png\"\n",
    "    plt.figure()\n",
    "    fig = plt.figure(figsize=(7, 7))\n",
    "    # plt.scatter(GBenergy_coordinate, velocity_bin,s=4,alpha=0.5)\n",
    "    plt.xlim([0.3,1.0])\n",
    "    plt.ylim([-0.2,0.2])\n",
    "    plt.plot(GBenergy_coordinate[velocity_bin!=0], velocity_bin[velocity_bin!=0],'o', linewidth=2)\n",
    "    plt.xlabel(\"GB energy\", fontsize=18)\n",
    "    plt.ylabel(\"velocity (voxel/step)\", fontsize=18)\n",
    "    plt.savefig(figure_name_all_bin, dpi=400,bbox_inches='tight')\n",
    "    \n",
    "    plt.figure()\n",
    "    fig = plt.figure(figsize=(7, 7))\n",
    "    plt.xlim([0.3,1.0])\n",
    "    plt.ylim([0,0.15])\n",
    "    plt.plot(GBenergy_coordinate, GBenergy_bin/np.sum(GBenergy_bin),'-', linewidth=2)\n",
    "    plt.xlabel(\"GB energy\", fontsize=18)\n",
    "    plt.ylabel(\"distribution\", fontsize=18)\n",
    "    \n",
    "    antic_ratio_bin = np.zeros(bin_number)\n",
    "    for bin_i in range(len(GBenergy_bin)):\n",
    "        if GBenergy_bin[bin_i] > 0: antic_ratio_bin[bin_i] = antic_num_bin[bin_i]/GBenergy_bin[bin_i]\n",
    "    plt.figure()\n",
    "    fig = plt.figure(figsize=(7, 7))\n",
    "    plt.xlim([0.3,1.0])\n",
    "    plt.ylim([0,0.5])\n",
    "    plt.plot(GBenergy_coordinate[antic_ratio_bin>0], antic_ratio_bin[antic_ratio_bin>0],'o', linewidth=2)\n",
    "    plt.xlabel(\"GB energy\", fontsize=18)\n",
    "    plt.ylabel(\"anti-c fraction\", fontsize=18)\n",
    "    \n",
    "    anti_c_data_file_name = f\"data/2D_antic_data_{case_name}\"\n",
    "    np.savez(anti_c_data_file_name,antic_ratio_bin=antic_ratio_bin,GBenergy_bin=GBenergy_bin)\n",
    "    \n",
    "        "
   ]
  },
  {
   "cell_type": "code",
   "execution_count": 30,
   "id": "96aaa591-4902-4adc-bee7-240d3ade3fef",
   "metadata": {
    "tags": []
   },
   "outputs": [
    {
     "data": {
      "text/plain": [
       "<Figure size 432x288 with 0 Axes>"
      ]
     },
     "metadata": {},
     "output_type": "display_data"
    },
    {
     "data": {
      "image/png": "[encoded data removed]",
      "text/plain": [
       "<Figure size 504x504 with 1 Axes>"
      ]
     },
     "metadata": {
      "needs_background": "light"
     },
     "output_type": "display_data"
    },
    {
     "data": {
      "text/plain": [
       "<Figure size 432x288 with 0 Axes>"
      ]
     },
     "metadata": {},
     "output_type": "display_data"
    },
    {
     "data": {
      "image/png": "[encoded data removed]",
      "text/plain": [
       "<Figure size 504x504 with 1 Axes>"
      ]
     },
     "metadata": {
      "needs_background": "light"
     },
     "output_type": "display_data"
    },
    {
     "data": {
      "text/plain": [
       "<Figure size 432x288 with 0 Axes>"
      ]
     },
     "metadata": {},
     "output_type": "display_data"
    },
    {
     "data": {
      "image/png": "[encoded data removed]",
      "text/plain": [
       "<Figure size 504x504 with 1 Axes>"
      ]
     },
     "metadata": {
      "needs_background": "light"
     },
     "output_type": "display_data"
    },
    {
     "data": {
      "text/plain": [
       "<Figure size 432x288 with 0 Axes>"
      ]
     },
     "metadata": {},
     "output_type": "display_data"
    },
    {
     "data": {
      "image/png": "[encoded data removed]",
      "text/plain": [
       "<Figure size 504x504 with 1 Axes>"
      ]
     },
     "metadata": {
      "needs_background": "light"
     },
     "output_type": "display_data"
    }
   ],
   "source": [
    "\n",
    "    figure_name_all = f\"figures/2D_velocity_GBenergy_confi_{case_name}_5d.png\"\n",
    "    plt.figure()\n",
    "    fig = plt.figure(figsize=(7, 7))\n",
    "    plt.scatter(new_GBenergy_1Dlist_remove_0step, new_velocity_1Dlist_remove_0step,s=4,alpha=0.5,label='All GBs')\n",
    "    update_GB_antic_list_GBenergy_list = np.array(update_GB_antic_list_GBenergy_list)\n",
    "    update_GB_antic_list_velocity_list = np.array(update_GB_antic_list_velocity_list)\n",
    "    update_GB_antic_list_anticNum_list = np.array(update_GB_antic_list_anticNum_list)\n",
    "    plt.scatter(update_GB_antic_list_GBenergy_list[update_GB_antic_list_anticNum_list>=5], update_GB_antic_list_velocity_list[update_GB_antic_list_anticNum_list>=5],s=4,alpha=0.5,label='anti-c GBs(5 steps)')\n",
    "    plt.xlabel(\"GB energy\", fontsize=18)\n",
    "    plt.ylabel(\"velocity (voxel/step)\", fontsize=18)\n",
    "    plt.xlim([0.3,1.0])\n",
    "    plt.ylim([-0.6,0.6])\n",
    "    plt.legend(fontsize=18)\n",
    "    plt.savefig(figure_name_all, dpi=400,bbox_inches='tight')\n",
    "    \n",
    "    # plot velocity VS averaged GBenergy\n",
    "    bin_interval = 0.01\n",
    "    x_lim = [0.25,1.0]\n",
    "    bin_number = int((x_lim[1]-x_lim[0])/bin_interval)\n",
    "    GBenergy_coordinate = np.arange(x_lim[0],x_lim[1],bin_interval)+bin_interval/2\n",
    "\n",
    "    GBenergy_bin = np.zeros(bin_number)\n",
    "    velocity_bin = np.zeros(bin_number)\n",
    "    antic_num_bin = np.zeros(bin_number)\n",
    "    for index in range(len(new_GBenergy_1Dlist_remove_0step)):\n",
    "        if abs(new_GBenergy_1Dlist_remove_0step[index])>=1.0: continue\n",
    "        GBenergy_bin[int((new_GBenergy_1Dlist_remove_0step[index]-x_lim[0])//bin_interval)] += 1\n",
    "        velocity_bin[int((new_GBenergy_1Dlist_remove_0step[index]-x_lim[0])//bin_interval)] += new_velocity_1Dlist_remove_0step[index]\n",
    "        if new_velocity_1Dlist_remove_0step[index] < 0: antic_num_bin[int((new_GBenergy_1Dlist_remove_0step[index]-x_lim[0])//bin_interval)] += 1\n",
    "        if int((new_GBenergy_1Dlist_remove_0step[index]-x_lim[0])//bin_interval)<0: print(new_GBenergy_1Dlist_remove_0step[index])\n",
    "    for i in range(bin_number): \n",
    "        if GBenergy_bin[i]>0: velocity_bin[i] = velocity_bin[i]/GBenergy_bin[i]\n",
    "    # plot\n",
    "    figure_name_all_bin = f\"figures/2D_velocity_GBenergy_confi_{case_name}_5d_afterBin.png\"\n",
    "    plt.figure()\n",
    "    fig = plt.figure(figsize=(7, 7))\n",
    "    # plt.scatter(GBenergy_coordinate, velocity_bin,s=4,alpha=0.5)\n",
    "    plt.xlim([0.3,1.0])\n",
    "    plt.ylim([-0.2,0.2])\n",
    "    plt.plot(GBenergy_coordinate[velocity_bin!=0], velocity_bin[velocity_bin!=0],'o', linewidth=2)\n",
    "    plt.xlabel(\"GB energy\", fontsize=18)\n",
    "    plt.ylabel(\"velocity (voxel/step)\", fontsize=18)\n",
    "    plt.savefig(figure_name_all_bin, dpi=400,bbox_inches='tight')\n",
    "    \n",
    "    plt.figure()\n",
    "    fig = plt.figure(figsize=(7, 7))\n",
    "    plt.xlim([0.3,1.0])\n",
    "    plt.ylim([0,0.15])\n",
    "    plt.plot(GBenergy_coordinate, GBenergy_bin/np.sum(GBenergy_bin),'-', linewidth=2)\n",
    "    plt.xlabel(\"GB energy\", fontsize=18)\n",
    "    plt.ylabel(\"distribution\", fontsize=18)\n",
    "    \n",
    "    antic_ratio_bin = np.zeros(bin_number)\n",
    "    for bin_i in range(len(GBenergy_bin)):\n",
    "        if GBenergy_bin[bin_i] > 0: antic_ratio_bin[bin_i] = antic_num_bin[bin_i]/GBenergy_bin[bin_i]\n",
    "    plt.figure()\n",
    "    fig = plt.figure(figsize=(7, 7))\n",
    "    plt.xlim([0.3,1.0])\n",
    "    plt.ylim([0,0.5])\n",
    "    plt.plot(GBenergy_coordinate[antic_ratio_bin>0], antic_ratio_bin[antic_ratio_bin>0],'o', linewidth=2)\n",
    "    plt.xlabel(\"GB energy\", fontsize=18)\n",
    "    plt.ylabel(\"anti-c fraction\", fontsize=18)\n",
    "    \n",
    "    anti_c_data_file_name = f\"data/2D_antic_data_confi_{case_name}\"\n",
    "    np.savez(anti_c_data_file_name,antic_ratio_bin=antic_ratio_bin,GBenergy_bin=GBenergy_bin)\n",
    "    \n",
    "#     GBenergy_coordinate_larger0 = GBenergy_coordinate[antic_ratio_bin>0]\n",
    "#     delta_n = -0.66*np.log(antic_ratio_bin[antic_ratio_bin>0])/GBenergy_coordinate[antic_ratio_bin>0]\n",
    "#     mean_delta_n = np.mean(delta_n)\n",
    "#     mean_delta_n_2 = np.sum(delta_n*GBenergy_bin[antic_ratio_bin>0]/np.sum(GBenergy_bin[antic_ratio_bin>0]))\n",
    "#     print(mean_delta_n_2)\n",
    "#     plt.figure()\n",
    "#     fig = plt.figure(figsize=(7, 7))\n",
    "#     plt.xlim([0.3,1.0])\n",
    "#     plt.ylim([0,5])\n",
    "#     plt.plot(GBenergy_coordinate_larger0, delta_n,'o', linewidth=2, label = 'results')\n",
    "#     plt.plot(GBenergy_coordinate_larger0, mean_delta_n*np.ones(len(GBenergy_coordinate_larger0)),'--',linewidth=2,color='gray',label=f'mean-{round(mean_delta_n,2)}')\n",
    "#     plt.legend(fontsize=18)\n",
    "#     plt.xlabel(\"GB energy\", fontsize=18)\n",
    "#     plt.ylabel(\"num of site\", fontsize=18)\n",
    "        "
   ]
  },
  {
   "cell_type": "code",
   "execution_count": null,
   "id": "ea7daddb-4115-4d23-a7a8-6e49b5eeb37d",
   "metadata": {
    "tags": []
   },
   "outputs": [
    {
     "ename": "FloatingPointError",
     "evalue": "invalid value encountered in divide",
     "output_type": "error",
     "traceback": [
      "\u001b[0;31m---------------------------------------------------------------------------\u001b[0m",
      "\u001b[0;31mFloatingPointError\u001b[0m                        Traceback (most recent call last)",
      "\u001b[0;32m/scratch/local/4755728/ipykernel_26798/2572166735.py\u001b[0m in \u001b[0;36m<module>\u001b[0;34m\u001b[0m\n\u001b[1;32m     20\u001b[0m \u001b[0mplt\u001b[0m\u001b[0;34m.\u001b[0m\u001b[0mxlim\u001b[0m\u001b[0;34m(\u001b[0m\u001b[0;34m[\u001b[0m\u001b[0;36m0.3\u001b[0m\u001b[0;34m,\u001b[0m\u001b[0;36m1.0\u001b[0m\u001b[0;34m]\u001b[0m\u001b[0;34m)\u001b[0m\u001b[0;34m\u001b[0m\u001b[0;34m\u001b[0m\u001b[0m\n\u001b[1;32m     21\u001b[0m \u001b[0mplt\u001b[0m\u001b[0;34m.\u001b[0m\u001b[0mylim\u001b[0m\u001b[0;34m(\u001b[0m\u001b[0;34m[\u001b[0m\u001b[0;36m0\u001b[0m\u001b[0;34m,\u001b[0m\u001b[0;36m0.15\u001b[0m\u001b[0;34m]\u001b[0m\u001b[0;34m)\u001b[0m\u001b[0;34m\u001b[0m\u001b[0;34m\u001b[0m\u001b[0m\n\u001b[0;32m---> 22\u001b[0;31m \u001b[0mplt\u001b[0m\u001b[0;34m.\u001b[0m\u001b[0mplot\u001b[0m\u001b[0;34m(\u001b[0m\u001b[0mGBenergy_coordinate\u001b[0m\u001b[0;34m,\u001b[0m \u001b[0mGBenergy_bin_first\u001b[0m\u001b[0;34m/\u001b[0m\u001b[0mnp\u001b[0m\u001b[0;34m.\u001b[0m\u001b[0msum\u001b[0m\u001b[0;34m(\u001b[0m\u001b[0mGBenergy_bin_first\u001b[0m\u001b[0;34m)\u001b[0m\u001b[0;34m,\u001b[0m\u001b[0;34m'-'\u001b[0m\u001b[0;34m,\u001b[0m \u001b[0mlinewidth\u001b[0m\u001b[0;34m=\u001b[0m\u001b[0;36m2\u001b[0m\u001b[0;34m,\u001b[0m\u001b[0mlabel\u001b[0m\u001b[0;34m=\u001b[0m\u001b[0;34m\"20k grains\"\u001b[0m\u001b[0;34m)\u001b[0m\u001b[0;34m\u001b[0m\u001b[0;34m\u001b[0m\u001b[0m\n\u001b[0m\u001b[1;32m     23\u001b[0m \u001b[0mplt\u001b[0m\u001b[0;34m.\u001b[0m\u001b[0mplot\u001b[0m\u001b[0;34m(\u001b[0m\u001b[0mGBenergy_coordinate\u001b[0m\u001b[0;34m,\u001b[0m \u001b[0mGBenergy_bin_second\u001b[0m\u001b[0;34m/\u001b[0m\u001b[0mnp\u001b[0m\u001b[0;34m.\u001b[0m\u001b[0msum\u001b[0m\u001b[0;34m(\u001b[0m\u001b[0mGBenergy_bin_second\u001b[0m\u001b[0;34m)\u001b[0m\u001b[0;34m,\u001b[0m\u001b[0;34m'-'\u001b[0m\u001b[0;34m,\u001b[0m \u001b[0mlinewidth\u001b[0m\u001b[0;34m=\u001b[0m\u001b[0;36m2\u001b[0m\u001b[0;34m,\u001b[0m\u001b[0mlabel\u001b[0m\u001b[0;34m=\u001b[0m\u001b[0;34mf\"1k grains\"\u001b[0m\u001b[0;34m)\u001b[0m\u001b[0;34m\u001b[0m\u001b[0;34m\u001b[0m\u001b[0m\n\u001b[1;32m     24\u001b[0m \u001b[0mplt\u001b[0m\u001b[0;34m.\u001b[0m\u001b[0mlegend\u001b[0m\u001b[0;34m(\u001b[0m\u001b[0mfontsize\u001b[0m\u001b[0;34m=\u001b[0m\u001b[0;36m18\u001b[0m\u001b[0;34m)\u001b[0m\u001b[0;34m\u001b[0m\u001b[0;34m\u001b[0m\u001b[0m\n",
      "\u001b[0;31mFloatingPointError\u001b[0m: invalid value encountered in divide"
     ]
    },
    {
     "data": {
      "text/plain": [
       "<Figure size 432x288 with 0 Axes>"
      ]
     },
     "metadata": {},
     "output_type": "display_data"
    },
    {
     "data": {
      "image/png": "[encoded data removed]",
      "text/plain": [
       "<Figure size 360x360 with 1 Axes>"
      ]
     },
     "metadata": {
      "needs_background": "light"
     },
     "output_type": "display_data"
    }
   ],
   "source": [
    "    # =============================================================================\n",
    "    # ENERGY DISTRIBUTION EVOLUTION ANALYSIS\n",
    "    # =============================================================================\n",
    "    \n",
    "    # Compare energy distributions at different stages of grain growth\n",
    "    # In M-anisotropic systems, energy distribution evolution shows intermediate behavior\n",
    "    # between isotropic and fully anisotropic cases\n",
    "    \n",
    "    # Set up binning for energy distribution analysis\n",
    "    bin_interval = 0.01\n",
    "    x_lim = [0.25,1.0]\n",
    "    bin_number = int((x_lim[1]-x_lim[0])/bin_interval)\n",
    "    GBenergy_coordinate = np.arange(x_lim[0],x_lim[1],bin_interval)+bin_interval/2\n",
    "    \n",
    "    # Compare distributions between initial state (20k grains) and evolved state (1k grains)\n",
    "    figure_name_distri = f\"figures/2D_one_step_distribution_{case_name}.png\"\n",
    "    plt.figure()\n",
    "    fig = plt.figure(figsize=(5, 5))\n",
    "    first_step = 0  # Initial state with 20k grains\n",
    "    second_step = step_1000grains  # Evolved state with ~1k grains\n",
    "    GBenergy_bin_first = np.zeros(bin_number)\n",
    "    for index in range(len(GB_list_GBenergy_list[first_step])):\n",
    "        if abs(GB_list_GBenergy_list[first_step][index])>1.0: continue\n",
    "        GBenergy_bin_first[int((GB_list_GBenergy_list[first_step][index]-x_lim[0])//bin_interval)] += 1\n",
    "    GBenergy_bin_second = np.zeros(bin_number)\n",
    "    for index in range(len(GB_list_GBenergy_list[second_step])):\n",
    "        if abs(GB_list_GBenergy_list[second_step][index])>1.0: continue\n",
    "        GBenergy_bin_second[int((GB_list_GBenergy_list[second_step][index]-x_lim[0])//bin_interval)] += 1\n",
    "    plt.xlim([0.3,1.0])\n",
    "    plt.ylim([0,0.15])\n",
    "    plt.plot(GBenergy_coordinate, GBenergy_bin_first/np.sum(GBenergy_bin_first),'-', linewidth=2,label=\"20k grains\")\n",
    "    plt.plot(GBenergy_coordinate, GBenergy_bin_second/np.sum(GBenergy_bin_second),'-', linewidth=2,label=f\"1k grains\")\n",
    "    plt.legend(fontsize=18)\n",
    "    plt.xlabel(\"GB energy\", fontsize=18)\n",
    "    plt.ylabel(\"distribution\", fontsize=18)\n",
    "    plt.savefig(figure_name_distri, dpi=400,bbox_inches='tight')\n",
    "    \n",
    "    # distribution for init and end\n",
    "    figure_name_distri = f\"figures/2D_culmmulative_distribution_function_{case_name}.png\"\n",
    "    plt.figure()\n",
    "    fig = plt.figure(figsize=(5, 5))\n",
    "    first_step = 0\n",
    "    second_step = step_1000grains\n",
    "    GBenergy_bin_first = np.zeros(bin_number)\n",
    "    for index in range(len(GB_list_GBenergy_list[first_step])):\n",
    "        if abs(GB_list_GBenergy_list[first_step][index])>1.0: continue\n",
    "        GBenergy_bin_first[int((GB_list_GBenergy_list[first_step][index]-x_lim[0])//bin_interval)] += 1\n",
    "    GBenergy_bin_first = GBenergy_bin_first/np.sum(GBenergy_bin_first)\n",
    "    for index in range(len(GB_list_GBenergy_list[second_step])):\n",
    "        if abs(GB_list_GBenergy_list[second_step][index])>1.0: continue\n",
    "        GBenergy_bin_second[int((GB_list_GBenergy_list[second_step][index]-x_lim[0])//bin_interval)] += 1\n",
    "    GBenergy_bin_second = GBenergy_bin_second/np.sum(GBenergy_bin_second)\n",
    "    culmmulative_GBenergy_bin_first = np.zeros(bin_number) \n",
    "    culmmulative_GBenergy_bin_second = np.zeros(bin_number) \n",
    "    for i in range(bin_number):\n",
    "        culmmulative_GBenergy_bin_first[i] = np.sum(GBenergy_bin_first[:i+1])\n",
    "        culmmulative_GBenergy_bin_second[i] = np.sum(GBenergy_bin_second[:i+1])\n",
    "    plt.xlim([0.3,1.0])\n",
    "    plt.ylim([0,1.0])\n",
    "    plt.plot(GBenergy_coordinate, culmmulative_GBenergy_bin_first,'-', linewidth=2,label=\"20k grains\")\n",
    "    plt.plot(GBenergy_coordinate, culmmulative_GBenergy_bin_second,'-', linewidth=2,label=f\"1k grains\")\n",
    "    plt.legend(fontsize=18)\n",
    "    plt.xlabel(\"GB energy\", fontsize=18)\n",
    "    plt.ylabel(\"Energy distribution\", fontsize=18)\n",
    "    plt.savefig(figure_name_distri, dpi=400,bbox_inches='tight')\n"
   ]
  },
  {
   "cell_type": "code",
   "execution_count": null,
   "id": "af0295db-da9e-4096-bef2-2b6380c7eb5e",
   "metadata": {
    "tags": []
   },
   "outputs": [],
   "source": [
    "len(GB_list_GBenergy_list[8])"
   ]
  },
  {
   "cell_type": "code",
   "execution_count": null,
   "id": "3b476076-9fb9-4d90-869a-b5e1d6d9b7d4",
   "metadata": {
    "tags": []
   },
   "outputs": [],
   "source": [
    "    bin_interval = 0.01\n",
    "    x_lim = [0.25,1.0]\n",
    "    bin_number = int((x_lim[1]-x_lim[0])/bin_interval)\n",
    "    GBenergy_coordinate = np.arange(x_lim[0],x_lim[1],bin_interval)+bin_interval/2\n",
    "    GBenergy_bin = np.zeros(bin_number)\n",
    "    GB_list_GBenergy_list_new = sum(GB_list_GBenergy_list, [])\n",
    "    for index in range(len(GB_list_GBenergy_list_new)):\n",
    "        if abs(GB_list_GBenergy_list_new[index])>=1.0: continue\n",
    "        GBenergy_bin[int((GB_list_GBenergy_list_new[index]-x_lim[0])//bin_interval)] += 1\n",
    "    # plot\n",
    "    figure_name_all_bin = f\"figures/2D_velocity_GBenergy_all_{case_name}_5d_afterBin.png\"\n",
    "    plt.figure()\n",
    "    fig = plt.figure(figsize=(7, 7))\n",
    "    plt.xlim([0.3,1.0])\n",
    "    plt.ylim([0,0.15])\n",
    "    plt.plot(GBenergy_coordinate, GBenergy_bin/np.sum(GBenergy_bin),'-', linewidth=2)\n",
    "    plt.xlabel(\"GB energy\", fontsize=18)\n",
    "    plt.ylabel(\"velocity (voxel/step)\", fontsize=18)\n",
    "    plt.savefig(figure_name_all_bin, dpi=400,bbox_inches='tight')\n",
    "    \n",
    "    # distribution for init and end\n",
    "    figure_name_distri = f\"figures/2D_culmmulative_distribution_function_all_{case_name}.png\"\n",
    "    plt.figure()\n",
    "    fig = plt.figure(figsize=(5, 5))\n",
    "    culmmulative_GBenergy_bin = np.zeros(bin_number) \n",
    "    for i in range(bin_number):\n",
    "        culmmulative_GBenergy_bin[i] = np.sum(GBenergy_bin[:i+1]/np.sum(GBenergy_bin))\n",
    "    plt.xlim([0.3,1.0])\n",
    "    plt.ylim([0,1.0])\n",
    "    plt.plot(GBenergy_coordinate, culmmulative_GBenergy_bin,'-', linewidth=2)\n",
    "    # plt.legend(fontsize=18)\n",
    "    plt.xlabel(\"GB energy\", fontsize=18)\n",
    "    plt.ylabel(\"culmmulative distribution function\", fontsize=18)\n",
    "    plt.savefig(figure_name_distri, dpi=400,bbox_inches='tight')"
   ]
  },
  {
   "cell_type": "markdown",
   "id": "21f3ae60-fb58-4f57-8fc3-683d7a1bef8a",
   "metadata": {},
   "source": [
    "# =============================================================================\n",
    "# SINGLE TIME STEP ANALYSIS - MISORIENTATION-ONLY ANISOTROPY\n",
    "# =============================================================================\n",
    "\n",
    "## Analysis of specific grain size state\n",
    "\n",
    "This section analyzes grain boundary behavior at a specific time step when the system has reached approximately 5000 grains. In misorientation-only anisotropic systems, this provides insight into how anti-curvature behavior manifests at intermediate grain sizes, between the fully anisotropic MI case and the isotropic baseline."
   ]
  },
  {
   "cell_type": "code",
   "execution_count": null,
   "id": "410be111-9705-4547-ba4c-1b8ca5a2ceb5",
   "metadata": {
    "tags": []
   },
   "outputs": [],
   "source": [
    "    # =============================================================================\n",
    "    # SINGLE GRAIN COUNT ANALYSIS\n",
    "    # =============================================================================\n",
    "    \n",
    "    # Analyze grain boundary behavior at a specific grain count for detailed examination\n",
    "    # In M-anisotropic systems, intermediate grain sizes show distinct energy-velocity relationships\n",
    "\n",
    "    # get expected time step\n",
    "    expected_grain_num = 5000\n",
    "    grain_num_array = np.zeros(npy_file_aniso.shape[0])\n",
    "    # Calculate the number of grains\n",
    "    for i in tqdm(range(npy_file_aniso.shape[0])):\n",
    "        grain_num = len(np.unique(npy_file_aniso[i,:]))\n",
    "        grain_num_array[i] = grain_num\n",
    "        if grain_num < expected_grain_num/2: break\n",
    "    expected_time_step = int(np.argmin(abs(grain_num_array - expected_grain_num)))\n",
    "\n",
    "    # get all data on specific grain step\n",
    "    expected_step_curvature_list = GB_list_curvature_list[expected_time_step]\n",
    "    expected_step_velocity_list = GB_list_velocity_list[expected_time_step]\n",
    "    expected_step_GBenergy_list = GB_list_GBenergy_list[expected_time_step]\n",
    "    expected_step_curvature_list_exrandom = GB_list_curvature_list_exrandom[expected_time_step]\n",
    "    expected_step_velocity_list_exrandom = GB_list_velocity_list_exrandom[expected_time_step]\n",
    "    expected_step_GBenergy_list_exrandom = GB_list_GBenergy_list_exrandom[expected_time_step]\n",
    "\n",
    "    # plot\n",
    "    figure_name_all = f\"figures/2D_velocity_GBenergy_{case_name}_5d_grain{expected_grain_num}.png\"\n",
    "    plt.figure()\n",
    "    fig = plt.figure(figsize=(7, 7))\n",
    "    plt.scatter(expected_step_GBenergy_list_exrandom, expected_step_velocity_list_exrandom,s=4,alpha=0.5,label='All GBs')\n",
    "    # GB_antic_list_GBenergy_list = np.array(GB_antic_list_GBenergy_list)\n",
    "    # GB_antic_list_velocity_list = np.array(GB_antic_list_velocity_list)\n",
    "    # GB_antic_list_anticNum_array = np.array(GB_antic_list_anticNum_list)\n",
    "    # plt.scatter(GB_antic_list_GBenergy_list[GB_antic_list_anticNum_array>=5], GB_antic_list_velocity_list[GB_antic_list_anticNum_array>=5],s=4,alpha=0.5,label='anti-c GBs(5 steps)')\n",
    "    plt.plot([0.3,1.0],[0,0],'-',color='grey',linewidth=2)\n",
    "    plt.xlabel(\"GB energy\", fontsize=18)\n",
    "    plt.ylabel(\"velocity (voxel/step)\", fontsize=18)\n",
    "    plt.xlim([0.3,1.0])\n",
    "    plt.ylim([-0.6,0.6])\n",
    "    # plt.legend(fontsize=18)\n",
    "    plt.savefig(figure_name_all, dpi=400,bbox_inches='tight')\n",
    "    \n",
    "    # plot velocity VS averaged GBenergy\n",
    "    bin_interval = 0.005\n",
    "    x_lim = [0.25,1.0]\n",
    "    bin_number = int((x_lim[1]-x_lim[0])/bin_interval)\n",
    "    GBenergy_coordinate = np.arange(x_lim[0],x_lim[1],bin_interval)+bin_interval/2\n",
    "    \n",
    "    \n",
    "    GBenergy_bin = np.zeros(bin_number)\n",
    "    velocity_bin = np.zeros(bin_number)\n",
    "    antic_num_bin = np.zeros(bin_number)\n",
    "    for index in range(len(expected_step_GBenergy_list_exrandom)):\n",
    "        if abs(expected_step_GBenergy_list_exrandom[index])>=1.01: continue\n",
    "        GBenergy_bin[int((expected_step_GBenergy_list_exrandom[index]-x_lim[0])//bin_interval)] += 1\n",
    "        velocity_bin[int((expected_step_GBenergy_list_exrandom[index]-x_lim[0])//bin_interval)] += expected_step_velocity_list_exrandom[index]\n",
    "        if expected_step_velocity_list_exrandom[index] < 0: antic_num_bin[int((expected_step_GBenergy_list_exrandom[index]-x_lim[0])//bin_interval)] += 1\n",
    "        if int((expected_step_GBenergy_list_exrandom[index]-x_lim[0])//bin_interval)<0: print(expected_step_GBenergy_list_exrandom[index])\n",
    "    for i in range(bin_number): \n",
    "        if GBenergy_bin[i]>0: velocity_bin[i] = velocity_bin[i]/GBenergy_bin[i]\n",
    "    # plot\n",
    "    figure_name_all_bin = f\"figures/2D_velocity_GBenergy_{case_name}_5d_afterBin_grain{expected_grain_num}.png\"\n",
    "    plt.figure()\n",
    "    fig = plt.figure(figsize=(7, 7))\n",
    "    # plt.scatter(GBenergy_coordinate, velocity_bin,s=4,alpha=0.5)\n",
    "    plt.xlim([0.3,1.0])\n",
    "    plt.ylim([-0.2,0.2])\n",
    "    plt.plot(GBenergy_coordinate[velocity_bin!=0], velocity_bin[velocity_bin!=0],'o', linewidth=2)\n",
    "    plt.xlabel(\"GB energy\", fontsize=18)\n",
    "    plt.ylabel(\"velocity (voxel/step)\", fontsize=18)\n",
    "    plt.savefig(figure_name_all_bin, dpi=400,bbox_inches='tight')\n",
    "\n",
    "    plt.figure()\n",
    "    fig = plt.figure(figsize=(7, 7))\n",
    "    plt.xlim([0.3,1.0])\n",
    "    plt.ylim([0,0.3])\n",
    "    plt.plot(GBenergy_coordinate, GBenergy_bin/np.sum(GBenergy_bin),'-', linewidth=2)\n",
    "    plt.xlabel(\"GB energy\", fontsize=18)\n",
    "    plt.ylabel(\"distribution\", fontsize=18)\n",
    "\n",
    "    antic_ratio_bin = np.zeros(bin_number)\n",
    "    for bin_i in range(len(GBenergy_bin)):\n",
    "        if GBenergy_bin[bin_i] > 0: antic_ratio_bin[bin_i] = antic_num_bin[bin_i]/GBenergy_bin[bin_i]\n",
    "    plt.figure()\n",
    "    fig = plt.figure(figsize=(7, 7))\n",
    "    plt.xlim([0.3,1.0])\n",
    "    plt.ylim([0,1.5])\n",
    "    plt.plot(GBenergy_coordinate[antic_ratio_bin>0], antic_ratio_bin[antic_ratio_bin>0],'o', linewidth=2)\n",
    "    plt.xlabel(\"GB energy\", fontsize=18)\n",
    "    plt.ylabel(\"anti-c fraction\", fontsize=18)\n",
    "\n",
    "    anti_c_data_file_name = f\"data/2D_antic_data_{case_name}_grain{expected_grain_num}\"\n",
    "    np.savez(anti_c_data_file_name,antic_ratio_bin=antic_ratio_bin,GBenergy_bin=GBenergy_bin)\n",
    "\n"
   ]
  },
  {
   "cell_type": "code",
   "execution_count": null,
   "id": "2501136d-68e1-40d1-b2b9-f783e9c8309e",
   "metadata": {},
   "outputs": [],
   "source": []
  },
  {
   "cell_type": "code",
   "execution_count": 94,
   "id": "21b813f5-daa4-484e-a6c2-418239a0ccf4",
   "metadata": {},
   "outputs": [],
   "source": [
    "    # Plot relationship for each time steps\n",
    "    for time_step in range(0,len(GB_list_velocity_list),10):\n",
    "        figure_name = f\"figures/2D_velocity_signedcurvature_MI_step{time_step}_{case_name}.png\"\n",
    "        plt.figure()\n",
    "        fig = plt.figure(figsize=(7, 7))\n",
    "        plt.scatter(GB_list_curvature_list[time_step], GB_list_velocity_list[time_step],s=4,alpha=0.5)\n",
    "        plt.xlabel(\"curvature\", fontsize=18)\n",
    "        plt.ylabel(\"velocity (voxel/step)\", fontsize=18)\n",
    "        plt.xlim([-0.6,0.6])\n",
    "        plt.ylim([-10,10])\n",
    "        # plt.savefig(figure_name, dpi=400,bbox_inches='tight')\n",
    "        \n",
    "        # plot velocity VS averaged curvature\n",
    "        bin_interval = 0.001\n",
    "        bin_number = int(1.2/bin_interval)\n",
    "        curvature_coordinate = np.arange(-0.6,0.6,bin_interval)+bin_interval/2\n",
    "\n",
    "        curvature_bin = np.zeros(bin_number)\n",
    "        velocity_bin = np.zeros(bin_number)\n",
    "        for index in range(len(GB_list_curvature_list[time_step])):\n",
    "            if abs(GB_list_curvature_list[time_step][index])>0.6: continue\n",
    "            curvature_bin[int((GB_list_curvature_list[time_step][index]+0.6)//bin_interval)] += 1\n",
    "            velocity_bin[int((GB_list_curvature_list[time_step][index]+0.6)//bin_interval)] += GB_list_velocity_list[time_step][index]\n",
    "        for i in range(bin_number): \n",
    "            if curvature_bin[i]>0: velocity_bin[i] = velocity_bin[i]/curvature_bin[i]\n",
    "        # plot\n",
    "        figure_name_all_bin = f\"figures/2D_velocity_signedcurvature_step{time_step}_{case_name}_afterBin.png\"\n",
    "        plt.figure()\n",
    "        fig = plt.figure(figsize=(7, 7))\n",
    "        # plt.scatter(curvature_coordinate, velocity_bin,s=4,alpha=0.5)\n",
    "        plt.plot(curvature_coordinate, velocity_bin,'o', linewidth=2)\n",
    "        plt.xlabel(\"curvature\", fontsize=18)\n",
    "        plt.ylabel(\"velocity (voxel/step)\", fontsize=18)\n",
    "        plt.xlim([-0.6,0.6])\n",
    "        plt.ylim([-5,5])\n",
    "        # plt.savefig(figure_name_all_bin, dpi=400,bbox_inches='tight')"
   ]
  },
  {
   "cell_type": "code",
   "execution_count": null,
   "id": "47e6a561-4483-49d8-8ddd-f78e643a2ae1",
   "metadata": {},
   "outputs": [],
   "source": []
  },
  {
   "cell_type": "markdown",
   "id": "bba82fb0-9f73-48dc-8a89-0bbd9316c7a0",
   "metadata": {},
   "source": []
  },
  {
   "cell_type": "code",
   "execution_count": 25,
   "id": "b6f0d347-fb1b-4010-a68f-cc171486d9c8",
   "metadata": {},
   "outputs": [],
   "source": []
  },
  {
   "cell_type": "code",
   "execution_count": 24,
   "id": "63a608d4-8807-4dfc-b364-4f0e17d354de",
   "metadata": {
    "tags": []
   },
   "outputs": [],
   "source": []
  },
  {
   "cell_type": "code",
   "execution_count": null,
   "id": "c39770d2-4fd3-4661-b53b-b52437e4dacd",
   "metadata": {
    "tags": []
   },
   "outputs": [],
   "source": []
  },
  {
   "cell_type": "code",
   "execution_count": 17,
   "id": "0ef2391b-b155-42c1-b668-22cedf0227ce",
   "metadata": {
    "tags": []
   },
   "outputs": [
    {
     "name": "stdout",
     "output_type": "stream",
     "text": [
      "The longest anti-curvature behavior is 135601364 with steps 19\n",
      "The anti-curvature step 8 has velocity - -0.018 and curvature - 0.038.\n",
      "The anti-curvature step 10 has velocity - -0.04 and curvature - 0.018.\n",
      "The anti-curvature step 12 has velocity - -0.03 and curvature - 0.016.\n",
      "The anti-curvature step 14 has velocity - -0.016 and curvature - 0.001.\n",
      "The anti-curvature step 15 has velocity - -0.047 and curvature - 0.009.\n",
      "The anti-curvature step 19 has velocity - -0.112 and curvature - 0.018.\n",
      "The anti-curvature step 21 has velocity - -0.055 and curvature - 0.009.\n",
      "The anti-curvature step 24 has velocity - -0.008 and curvature - 0.007.\n",
      "The anti-curvature step 25 has velocity - -0.055 and curvature - 0.007.\n",
      "The anti-curvature step 29 has velocity - -0.018 and curvature - 0.013.\n",
      "The anti-curvature step 31 has velocity - -0.025 and curvature - 0.024.\n",
      "The anti-curvature step 33 has velocity - -0.067 and curvature - 0.036.\n",
      "The anti-curvature step 34 has velocity - -0.009 and curvature - 0.013.\n",
      "The anti-curvature step 35 has velocity - -0.005 and curvature - 0.01.\n",
      "The anti-curvature step 36 has velocity - -0.059 and curvature - 0.027.\n",
      "The anti-curvature step 37 has velocity - -0.033 and curvature - 0.003.\n",
      "The anti-curvature step 39 has velocity - -0.034 and curvature - 0.022.\n",
      "The anti-curvature step 40 has velocity - -0.036 and curvature - 0.01.\n",
      "The anti-curvature step 41 has velocity - -0.014 and curvature - 0.034.\n",
      "The anti-curvature step 42 has velocity - -0.07 and curvature - 0.021.\n",
      "The anti-curvature step 43 has velocity - -0.031 and curvature - 0.006.\n",
      "The anti-curvature step 45 has velocity - -0.003 and curvature - 0.003.\n",
      "The anti-curvature step 47 has velocity - -0.029 and curvature - 0.006.\n",
      "The anti-curvature step 50 has velocity - -0.057 and curvature - 0.017.\n",
      "The anti-curvature step 51 has velocity - -0.035 and curvature - 0.032.\n",
      "The anti-curvature step 53 has velocity - -0.032 and curvature - 0.009.\n",
      "The anti-curvature step 54 has velocity - -0.054 and curvature - 0.049.\n",
      "The anti-curvature step 55 has velocity - -0.023 and curvature - 0.013.\n",
      "The anti-curvature step 57 has velocity - -0.079 and curvature - 0.016.\n",
      "The anti-curvature step 59 has velocity - -0.064 and curvature - 0.02.\n",
      "The anti-curvature step 60 has velocity - -0.007 and curvature - 0.031.\n",
      "The anti-curvature step 63 has velocity - -0.035 and curvature - 0.016.\n",
      "The anti-curvature step 65 has velocity - -0.031 and curvature - 0.088.\n",
      "The anti-curvature step 67 has velocity - -0.033 and curvature - 0.019.\n",
      "The anti-curvature step 68 has velocity - -0.028 and curvature - 0.004.\n",
      "The anti-curvature step 69 has velocity - -0.058 and curvature - 0.02.\n",
      "The anti-curvature step 73 has velocity - -0.066 and curvature - 0.022.\n",
      "The anti-curvature step 74 has velocity - -0.094 and curvature - 0.004.\n",
      "The anti-curvature step 78 has velocity - -0.088 and curvature - 0.002.\n",
      "The anti-curvature step 79 has velocity - -0.016 and curvature - 0.009.\n",
      "The anti-curvature step 85 has velocity - -0.067 and curvature - 0.001.\n",
      "The anti-curvature step 87 has velocity - -0.012 and curvature - 0.009.\n",
      "The anti-curvature step 89 has velocity - -0.036 and curvature - 0.017.\n",
      "The anti-curvature step 91 has velocity - -0.053 and curvature - 0.023.\n",
      "The anti-curvature step 92 has velocity - -0.011 and curvature - 0.012.\n",
      "The anti-curvature step 94 has velocity - -0.058 and curvature - 0.002.\n",
      "The anti-curvature step 95 has velocity - -0.017 and curvature - 0.01.\n",
      "The anti-curvature step 96 has velocity - -0.012 and curvature - 0.002.\n",
      "The anti-curvature step 100 has velocity - -0.049 and curvature - 0.01.\n",
      "The anti-curvature step 101 has velocity - -0.033 and curvature - 0.001.\n",
      "The anti-curvature step 103 has velocity - -0.079 and curvature - 0.01.\n",
      "The anti-curvature step 105 has velocity - -0.033 and curvature - 0.021.\n",
      "The anti-curvature step 106 has velocity - -0.027 and curvature - 0.002.\n",
      "The anti-curvature step 107 has velocity - -0.132 and curvature - 0.005.\n",
      "The anti-curvature step 112 has velocity - -0.035 and curvature - 0.019.\n"
     ]
    },
    {
     "data": {
      "text/plain": [
       "Text(0.5, 1.0, 'GBid 135601364 step all')"
      ]
     },
     "execution_count": 17,
     "metadata": {},
     "output_type": "execute_result"
    },
    {
     "data": {
      "text/plain": [
       "<Figure size 432x288 with 0 Axes>"
      ]
     },
     "metadata": {},
     "output_type": "display_data"
    },
    {
     "data": {
      "image/png": "[encoded data removed]",
      "text/plain": [
       "<Figure size 504x504 with 1 Axes>"
      ]
     },
     "metadata": {
      "needs_background": "light"
     },
     "output_type": "display_data"
    }
   ],
   "source": [
    "# Get more information for a focus GB\n",
    "\n",
    "key_focus = 0\n",
    "for key in GB_id_focus:\n",
    "    if GB_id_focus[key] == 19: \n",
    "        print(f\"The longest anti-curvature behavior is {key} with steps {GB_id_focus[key]}\")\n",
    "        key_focus = key\n",
    "        # break\n",
    "\n",
    "v_focus = []\n",
    "c_focus = []\n",
    "for time_step in range(0,step_num):\n",
    "    if key_focus in GB_infomation_dict_list[time_step]:\n",
    "        # Calculate dV\n",
    "        pair_id_pair_focus = GB_infomation_dict_list[time_step][key_focus][6:8]\n",
    "        growth_direction1 = (npy_file_aniso[time_step]==pair_id_pair_focus[0])*(npy_file_aniso[time_step+1]==pair_id_pair_focus[1])\n",
    "        growth_direction2 = (npy_file_aniso[time_step]==pair_id_pair_focus[1])*(npy_file_aniso[time_step+1]==pair_id_pair_focus[0])\n",
    "        dV = np.sum(growth_direction1)-np.sum(growth_direction2) # velocity with direction\n",
    "        # Calculate velocity\n",
    "        velocity = dV/time_interval/(GB_infomation_dict_list[time_step][key_focus][5]/2)\n",
    "        current_curvature_value = GB_infomation_dict_list[time_step][key_focus][4]\n",
    "        \n",
    "        # make curvature always opposite\n",
    "        if current_curvature_value<0: \n",
    "            current_curvature_value = -current_curvature_value\n",
    "            velocity = -velocity\n",
    "        \n",
    "        # store v-c for a focus GB\n",
    "        v_focus.append(velocity)\n",
    "        c_focus.append(current_curvature_value)\n",
    "        \n",
    "        if current_curvature_value*velocity<-0.00 and GB_infomation_dict_list[time_step][key_focus][5]>=100: \n",
    "            print(f\"The anti-curvature step {time_step} has velocity - {round(velocity,3)} and curvature - {round(current_curvature_value,3)}.\")\n",
    "        \n",
    "        \n",
    "\n",
    "v_focus = np.array(v_focus)\n",
    "c_focus = np.array(c_focus)\n",
    "# plot v-c for a focus GB\n",
    "wanted_steps = v_focus<0\n",
    "alpha_list = np.linspace(0.2,1,np.sum(wanted_steps))\n",
    "\n",
    "figure_name_one_GB = f\"figures/2D_velocity_signedcurvature_{case_name}_GB{key_focus}_5d.png\"\n",
    "plt.figure()\n",
    "fig = plt.figure(figsize=(7, 7))\n",
    "import matplotlib as mpl\n",
    "cmap = mpl.colormaps['tab20']\n",
    "colors = cmap(np.linspace(0, 1, 20))\n",
    "plt.scatter(c_focus[wanted_steps], v_focus[wanted_steps],s=8,alpha=alpha_list,color=colors[0])\n",
    "plt.scatter(c_focus[~wanted_steps], v_focus[~wanted_steps],s=8,alpha=0.2,color=colors[6])\n",
    "plt.plot(c_focus,v_focus,alpha=0.1)\n",
    "plt.xlabel(\"curvature\", fontsize=18)\n",
    "plt.ylabel(\"velocity (voxel/step)\", fontsize=18)\n",
    "plt.xlim([0,0.17])\n",
    "plt.ylim([-0.2,0.2])\n",
    "plt.legend([\"anti-c\", \"c\", \"sequence\"],fontsize=18)\n",
    "plt.title(f\"GBid {key_focus} step all\")\n",
    "# plt.savefig(figure_name_one_GB, dpi=400,bbox_inches='tight')\n",
    "\n",
    "\n",
    "\n",
    "\n"
   ]
  },
  {
   "cell_type": "code",
   "execution_count": 212,
   "id": "8685c367-edac-427c-a027-acbf536ae4a0",
   "metadata": {
    "tags": []
   },
   "outputs": [
    {
     "name": "stderr",
     "output_type": "stream",
     "text": [
      "ffmpeg version 4.3.2 Copyright (c) 2000-2021 the FFmpeg developers\n",
      "  built with gcc 10.3.0 (GCC)\n",
      "  configuration: --prefix=/home/conda/feedstock_root/build_artifacts/ffmpeg_1645955405450/_h_env_placehold_placehold_placehold_placehold_placehold_placehold_placehold_placehold_placehold_placehold_placehold_placehold_placehold_placehold_placehold_placehold_placehold_placehold_plac --cc=/home/conda/feedstock_root/build_artifacts/ffmpeg_1645955405450/_build_env/bin/x86_64-conda-linux-gnu-cc --disable-doc --disable-openssl --enable-avresample --enable-gnutls --enable-gpl --enable-hardcoded-tables --enable-libfreetype --enable-libopenh264 --enable-libx264 --enable-pic --enable-pthreads --enable-shared --disable-static --enable-version3 --enable-zlib --enable-libmp3lame --pkg-config=/home/conda/feedstock_root/build_artifacts/ffmpeg_1645955405450/_build_env/bin/pkg-config\n",
      "  libavutil      56. 51.100 / 56. 51.100\n",
      "  libavcodec     58. 91.100 / 58. 91.100\n",
      "  libavformat    58. 45.100 / 58. 45.100\n",
      "  libavdevice    58. 10.100 / 58. 10.100\n",
      "  libavfilter     7. 85.100 /  7. 85.100\n",
      "  libavresample   4.  0.  0 /  4.  0.  0\n",
      "  libswscale      5.  7.100 /  5.  7.100\n",
      "  libswresample   3.  7.100 /  3.  7.100\n",
      "  libpostproc    55.  7.100 / 55.  7.100\n",
      "Input #0, image2, from '/home/lin.yang/projects/VECTOR/examples/GB_velocity/anti_curvature_figures/Detail_2D_microstructure_key145919744_step.%04d._M_20k.png':\n",
      "  Duration: 00:00:07.60, start: 0.000000, bitrate: N/A\n",
      "    Stream #0:0: Video: png, rgba(pc), 1680x2296 [SAR 15748:15748 DAR 30:41], 10 fps, 10 tbr, 10 tbn, 10 tbc\n",
      "Stream mapping:\n",
      "  Stream #0:0 -> #0:0 (png (native) -> h264 (libx264))\n",
      "Press [q] to stop, [?] for help\n",
      "[libx264 @ 0x5641f9b95240] using SAR=1/1\n",
      "[libx264 @ 0x5641f9b95240] using cpu capabilities: MMX2 SSE2Fast SSSE3 SSE4.2 AVX FMA3 BMI2 AVX2\n",
      "[libx264 @ 0x5641f9b95240] profile High, level 5.0, 4:2:0, 8-bit\n",
      "[libx264 @ 0x5641f9b95240] 264 - core 161 r3030M 8bd6d28 - H.264/MPEG-4 AVC codec - Copyleft 2003-2020 - http://www.videolan.org/x264.html - options: cabac=1 ref=3 deblock=1:0:0 analyse=0x3:0x113 me=hex subme=7 psy=1 psy_rd=1.00:0.00 mixed_ref=1 me_range=16 chroma_me=1 trellis=1 8x8dct=1 cqm=0 deadzone=21,11 fast_pskip=1 chroma_qp_offset=-2 threads=72 lookahead_threads=12 sliced_threads=0 nr=0 decimate=1 interlaced=0 bluray_compat=0 constrained_intra=0 bframes=3 b_pyramid=2 b_adapt=1 b_bias=0 direct=1 weightb=1 open_gop=0 weightp=2 keyint=250 keyint_min=10 scenecut=40 intra_refresh=0 rc_lookahead=40 rc=crf mbtree=1 crf=23.0 qcomp=0.60 qpmin=0 qpmax=69 qpstep=4 ip_ratio=1.40 aq=1:1.00\n",
      "Output #0, mp4, to 'anti_curvature_figures/Detail_2D_microstructure_key145919744_M_20k.mp4':\n",
      "  Metadata:\n",
      "    encoder         : Lavf58.45.100\n",
      "    Stream #0:0: Video: h264 (libx264) (avc1 / 0x31637661), yuv420p, 1680x2296 [SAR 1:1 DAR 30:41], q=-1--1, 10 fps, 10240 tbn, 10 tbc\n",
      "    Metadata:\n",
      "      encoder         : Lavc58.91.100 libx264\n",
      "    Side data:\n",
      "      cpb: bitrate max/min/avg: 0/0/0 buffer size: 0 vbv_delay: N/A\n",
      "frame=   76 fps= 43 q=-1.0 Lsize=    1091kB time=00:00:07.30 bitrate=1224.5kbits/s speed= 4.1x    \n",
      "video:1090kB audio:0kB subtitle:0kB other streams:0kB global headers:0kB muxing overhead: 0.156139%\n",
      "[libx264 @ 0x5641f9b95240] frame I:2     Avg QP: 7.38  size: 30124\n",
      "[libx264 @ 0x5641f9b95240] frame P:25    Avg QP:21.14  size: 16442\n",
      "[libx264 @ 0x5641f9b95240] frame B:49    Avg QP:24.73  size: 13136\n",
      "[libx264 @ 0x5641f9b95240] consecutive B-frames:  2.6% 26.3% 23.7% 47.4%\n",
      "[libx264 @ 0x5641f9b95240] mb I  I16..4: 86.4%  9.1%  4.5%\n",
      "[libx264 @ 0x5641f9b95240] mb P  I16..4:  0.3%  2.4%  1.4%  P16..4:  4.4%  1.0%  0.9%  0.0%  0.0%    skip:89.5%\n",
      "[libx264 @ 0x5641f9b95240] mb B  I16..4:  0.2%  0.3%  0.8%  B16..8:  4.1%  1.3%  0.6%  direct: 0.3%  skip:92.3%  L0:55.7% L1:43.7% BI: 0.6%\n",
      "[libx264 @ 0x5641f9b95240] 8x8 transform intra:25.8% inter:4.1%\n",
      "[libx264 @ 0x5641f9b95240] coded y,uvDC,uvAC intra: 10.7% 22.2% 21.4% inter: 0.7% 2.1% 2.1%\n",
      "[libx264 @ 0x5641f9b95240] i16 v,h,dc,p: 93%  6%  1%  0%\n",
      "[libx264 @ 0x5641f9b95240] i8 v,h,dc,ddl,ddr,vr,hd,vl,hu: 19%  4% 77%  0%  0%  0%  0%  0%  0%\n",
      "[libx264 @ 0x5641f9b95240] i4 v,h,dc,ddl,ddr,vr,hd,vl,hu: 34% 19% 38%  2%  1%  2%  1%  2%  1%\n",
      "[libx264 @ 0x5641f9b95240] i8c dc,h,v,p: 79% 10%  9%  1%\n",
      "[libx264 @ 0x5641f9b95240] Weighted P-Frames: Y:0.0% UV:0.0%\n",
      "[libx264 @ 0x5641f9b95240] ref P L0: 71.1%  1.4% 15.8% 11.7%\n",
      "[libx264 @ 0x5641f9b95240] ref B L0: 69.6% 25.2%  5.1%\n",
      "[libx264 @ 0x5641f9b95240] ref B L1: 92.3%  7.7%\n",
      "[libx264 @ 0x5641f9b95240] kb/s:1173.66\n"
     ]
    },
    {
     "data": {
      "text/plain": [
       "0"
      ]
     },
     "execution_count": 212,
     "metadata": {},
     "output_type": "execute_result"
    }
   ],
   "source": [
    "import os\n",
    "os.system(f'ffmpeg -framerate 10 -i /home/lin.yang/projects/VECTOR/examples/GB_velocity/anti_curvature_figures/Detail_2D_microstructure_key145919744_step.%04d._M_20k.png \\\n",
    "                    -c:v libx264 -vf \"pad=ceil(iw/2)*2:ceil(ih/2)*2\" -pix_fmt yuv420p \\\n",
    "                    anti_curvature_figures/Detail_2D_microstructure_key145919744_M_20k.mp4')"
   ]
  },
  {
   "cell_type": "code",
   "execution_count": 213,
   "id": "f8c6a201-3ce1-40ff-a227-fc129528b8a3",
   "metadata": {
    "tags": []
   },
   "outputs": [],
   "source": [
    "# 197673737\n",
    "# 47836998\n",
    "# fully 88634987\n",
    "# fully 161070774\n",
    "# fully 30685022\n",
    "# Find the exaxt grain id and time steps\n",
    "GB_id = 145919744\n",
    "for time_step in range(40,step_num):\n",
    "    if GB_id not in GB_infomation_dict_list[time_step]: continue\n",
    "    pair_id_pair_focus = GB_infomation_dict_list[time_step][GB_id][6:8]\n",
    "    break\n",
    "print(f\"The id pairs are {list(map(int,pair_id_pair_focus))}\")\n",
    "\n",
    "time_step_init, time_step_end = 24, 100\n",
    "check_edge = 0\n",
    "ss = 0\n",
    "for time_step in tqdm(range(time_step_init,time_step_end)):\n",
    "    current_microstructure_focus = npy_file_aniso[time_step,:,:,0]\n",
    "    grain_location_focus = (current_microstructure_focus==pair_id_pair_focus[0]) + (current_microstructure_focus==pair_id_pair_focus[1])\n",
    "    if check_edge ==0:\n",
    "        x_info = np.arange(0,2400,1)[np.sum(grain_location_focus,0)*np.arange(0,2400,1)>0]\n",
    "        x_len = np.sum(x_info>0)\n",
    "        x_lim_max = int(np.max(x_info)+(x_len/2))\n",
    "        x_lim_min = int(np.min(x_info)-(x_len/2))\n",
    "        y_info = np.arange(0,2400,1)[np.sum(grain_location_focus,1)*np.arange(0,2400,1)>0]\n",
    "        y_len = np.sum(y_info>0)\n",
    "        y_lim_max = int(np.max(y_info)+y_len/2)\n",
    "        y_lim_min = int(np.min(y_info)-y_len/2)\n",
    "        check_edge+=1\n",
    "    if np.sum(grain_location_focus)==0: continue\n",
    "    current_microstructure_focus_updated = current_microstructure_focus*grain_location_focus\n",
    "    \n",
    "    if GB_id in GB_infomation_dict_list[time_step]:\n",
    "        # Calculate velocity\n",
    "        growth_direction1 = (npy_file_aniso[time_step]==pair_id_pair_focus[0])*(npy_file_aniso[time_step+1]==pair_id_pair_focus[1])\n",
    "        growth_direction2 = (npy_file_aniso[time_step]==pair_id_pair_focus[1])*(npy_file_aniso[time_step+1]==pair_id_pair_focus[0])\n",
    "        dV = np.sum(growth_direction1)-np.sum(growth_direction2) # velocity with direction\n",
    "        # Calculate velocity\n",
    "        velocity = dV/time_interval/(GB_infomation_dict_list[time_step][GB_id][5]/2)\n",
    "        current_curvature_value = GB_infomation_dict_list[time_step][GB_id][4]\n",
    "    else:\n",
    "        velocity = 0\n",
    "        current_curvature_value = 0\n",
    "    \n",
    "    if ss<10:\n",
    "        ss_char = f'0{ss}'\n",
    "    else:\n",
    "        ss_char = f'{ss}'\n",
    "    ss+=1\n",
    "    figure_name_anti_curvature_detail = figure_name_anti_curvature = f\"anti_curvature_figures/Detail_2D_microstructure_key{GB_id}_step.00{ss_char}._{case_name}.png\"\n",
    "    plt.figure(figsize=(7,7))\n",
    "    plt.imshow(current_microstructure_focus_updated,vmin=0,vmax=20000)\n",
    "    plt.xlim([x_lim_min, x_lim_max])\n",
    "    plt.ylim([y_lim_max, y_lim_min])\n",
    "    if round(velocity,2)*round(current_curvature_value,3)<0:\n",
    "        plt.title(rf\"v: {round(velocity,2)} $\\kappa$: {round(current_curvature_value,3)} at step {time_step}\", color='orange', fontsize=16)\n",
    "    else:\n",
    "        plt.title(rf\"v: {round(velocity,2)} $\\kappa$: {round(current_curvature_value,3)} at step {time_step}\", fontsize=16)\n",
    "    # plt.axis(\"off\")\n",
    "    # plt.savefig(figure_name_anti_curvature_detail, dpi=400,bbox_inches='tight')"
   ]
  },
  {
   "cell_type": "code",
   "execution_count": 136,
   "id": "b508666b-2912-4561-b1de-3aaf4631a472",
   "metadata": {
    "tags": []
   },
   "outputs": [],
   "source": [
    "\n",
    "def energy_function_m_axis(m_polar_angle, m_azimuth_angle):\n",
    "    return abs(np.cos(m_azimuth_angle)) * m_polar_angle / np.pi\n",
    "\n",
    "def energy_function_m_axis_new(m_polar_angle, m_azimuth_angle):\n",
    "    # ss = abs(np.cos(m_azimuth_angle/2)) + abs(np.cos(m_polar_angle))\n",
    "    \n",
    "    ss = (abs(np.cos(m_azimuth_angle/2))**0.4 + abs(np.cos(m_polar_angle))**0.4)\n",
    "    if ss > 1: return 1\n",
    "    else: return ss\n",
    "    \n",
    "    # if abs(m_azimuth_angle-np.pi) < np.pi/18 and abs(m_polar_angle - np.pi/2) < np.pi/36: return 0.0\n",
    "    # else: return 1.0\n",
    "    \n",
    "    # return (abs(np.cos(m_azimuth_angle/2))**1.0 + abs(np.cos(m_polar_angle))**1.0)\n",
    "\n",
    "def energy_function_m(m_polar_angle, m_azimuth_angle, m_angle):\n",
    "    max_m_angle = 10/180*np.pi\n",
    "    if m_angle == 0: return 0\n",
    "    if m_angle>max_m_angle: m_angle=max_m_angle-0.00001\n",
    "    m_angle_impact = m_angle/max_m_angle*(1-np.log(m_angle/max_m_angle))\n",
    "    return energy_function_m_axis_new(m_polar_angle, m_azimuth_angle)*m_angle_impact\n",
    "\n",
    "def energy_function_i_axis(i_polar_angle, i_azimuth_angle):\n",
    "    return 0.3 + abs(np.cos(i_azimuth_angle)) * (0.7 + i_polar_angle / (np.pi/2) * (0.3 - 0.7))\n",
    "\n",
    "def energy_function_final(m_polar_angle, m_azimuth_angle, m_angle, i_polar_angle, i_azimuth_angle):\n",
    "    \n",
    "    if i_polar_angle>np.pi/2: i_polar_angle = np.pi-i_polar_angle\n",
    "    m_energy_impact = energy_function_m(m_polar_angle, m_azimuth_angle, m_angle)\n",
    "    return 0.3 + abs(np.cos(i_azimuth_angle)) * (0.7*m_energy_impact + i_polar_angle / (np.pi/2) * (0.3*m_energy_impact - 0.7*m_energy_impact))\n",
    "\n",
    "\n",
    "def rotation_matrix_from_vectors(vec1, vec2):\n",
    "    \"\"\" Find the rotation matrix that aligns vec1 to vec2\n",
    "    :param vec1: A 3d \"source\" vector\n",
    "    :param vec2: A 3d \"destination\" vector\n",
    "    :return mat: A transform matrix (3x3) which when applied to vec1, aligns it with vec2.\n",
    "    \"\"\"\n",
    "    a, b = (vec1 / np.linalg.norm(vec1)).reshape(3), (vec2 / np.linalg.norm(vec2)).reshape(3)\n",
    "    v = np.cross(a, b)\n",
    "    c = np.dot(a, b)\n",
    "    s = np.linalg.norm(v)\n",
    "    kmat = np.array([[0, -v[2], v[1]], [v[2], 0, -v[0]], [-v[1], v[0], 0]])\n",
    "    rotation_matrix = np.eye(3) + kmat + kmat.dot(kmat) * ((1 - c) / (s ** 2))\n",
    "    return rotation_matrix"
   ]
  },
  {
   "cell_type": "code",
   "execution_count": 50,
   "id": "11b10ead-c344-4335-b3f6-a9fd2aaea54d",
   "metadata": {},
   "outputs": [],
   "source": [
    "# # Plot more information for a focus GB\n",
    "\n",
    "# # Misorientation\n",
    "# init_file_folder = \"/blue/michael.tonks/lin.yang/SPPARKS-VirtualIncEnergy/2d_poly_multiCoreCompare/IC/\"\n",
    "# init_file_name = f\"Case4.init\"\n",
    "# # misorientation calculation preparation\n",
    "# grain_nums = 20000\n",
    "# Osym = 24\n",
    "# symm2quat_matrix, quartAngle = post_processing.pre_operation_misorientation(grain_nums, init_file_folder + init_file_name, Osym)\n",
    "# print(\"> Pre-work done\")\n",
    "\n",
    "# misorientation = post_processing.multiP_calM(list(map(int,pair_id_pair_focus)), quartAngle, symm2quat_matrix, Osym)\n",
    "# misorientation_angle = misorientation[0] # miso angle in randians\n",
    "# misorientation_axis = misorientation[1:]\n",
    "\n",
    "# # misorientation energy\n",
    "# m_polar_angle = math.acos(round(misorientation_axis[2],3))\n",
    "# m_azimuth_angle = math.atan2(misorientation_axis[1], misorientation_axis[0]) + np.pi\n",
    "# print(f\"The m-angle: {misorientation_angle/np.pi*180}, m_polar_angle: {m_polar_angle/np.pi*180}, m_azimuth_angle: {m_azimuth_angle/np.pi*180}\")\n",
    "# print(f\"The misorientation energy: {energy_function_m(m_polar_angle, m_azimuth_angle, misorientation_angle)}\")\n",
    "\n"
   ]
  },
  {
   "cell_type": "code",
   "execution_count": 51,
   "id": "de699200-8f67-45dc-ad6e-02b0aa8101d5",
   "metadata": {},
   "outputs": [],
   "source": [
    "# # inclination\n",
    "# GB_infomation_inc_dict_list = []\n",
    "# for time_step in tqdm(range(step_num)):\n",
    "#     data_file_name = f\"GB_velocity_data/2D_inclination_velocity_data_{case_name}_step{time_step}.npz\"\n",
    "#     if os.path.exists(data_file_folder + data_file_name):\n",
    "#         npz_file = np.load(data_file_folder + data_file_name,allow_pickle=True)\n",
    "#         GB_infomation_inc_dict = npz_file[\"GB_infomation_dict\"]\n",
    "#         GB_infomation_inc_dict_list.append(GB_infomation_inc_dict.item())\n",
    "#     else:\n",
    "#         print(f\"Please run inclination-velocity analysis for {case_name}\")\n",
    "#         break\n",
    "\n",
    "# time_interval = 30\n",
    "# GB_inclination_energy_list = []\n",
    "# GB_final_energy_list = []\n",
    "# GB_velocity_list = []\n",
    "# for time_step in range(step_num):\n",
    "#     if time_step+1 >= step_num: continue\n",
    "#     if key_focus not in GB_infomation_inc_dict_list[time_step]: continue\n",
    "#     if GB_infomation_inc_dict_list[time_step+1].get(key_focus) is None: continue\n",
    "#     # Calculate volumn change\n",
    "#     growth_direction1 = (npy_file_aniso[time_step]==pair_id_pair_focus[0])*(npy_file_aniso[time_step+1]==pair_id_pair_focus[1])\n",
    "#     growth_direction2 = (npy_file_aniso[time_step]==pair_id_pair_focus[1])*(npy_file_aniso[time_step+1]==pair_id_pair_focus[0])\n",
    "#     dV = np.sum(growth_direction1)-np.sum(growth_direction2) # velocity with direction\n",
    "#     # Calculate velocity\n",
    "#     velocity = dV/time_interval/(GB_infomation_inc_dict_list[time_step][key_focus][6]/2)\n",
    "#     # change velocity sign with curvature\n",
    "#     current_curvature_value = GB_infomation_dict_list[time_step][key_focus][4]\n",
    "#     # make curvature always opposite\n",
    "#     if current_curvature_value<0: \n",
    "#         current_curvature_value = -current_curvature_value\n",
    "#         velocity = -velocity\n",
    "    \n",
    "#     GB_velocity_list.append(velocity)\n",
    "\n",
    "#     # Get inclination\n",
    "#     DX, DY = GB_infomation_inc_dict_list[time_step][key_focus][4:6]\n",
    "#     vec_len = np.sqrt(DX**2+DY**2)\n",
    "#     if vec_len==0: dx, dy = 0, 0\n",
    "#     else: dx, dy = -DX/vec_len, DY/vec_len # the process just repeated get_grad(P,i,j) in myInput.py \n",
    "#     dz = 0\n",
    "#     dy = -dy # Update the issue in VECTOR\n",
    "#     inclination = np.array([dx,dy,dz])\n",
    "#     # Get misorientation\n",
    "#     # rotate misorientation axis to z axis, and incliantion to final vector\n",
    "#     z_axis = np.array([0,0,1])\n",
    "#     rotation_matrix_m_axis_to_z_axis = rotation_matrix_from_vectors(misorientation_axis, z_axis)\n",
    "#     incliantion_refer_m_axis = rotation_matrix_m_axis_to_z_axis.dot(inclination)\n",
    "#     # Get polar and azimuth dsitribution\n",
    "#     i_polar_angle = math.acos(round(incliantion_refer_m_axis[2],3))\n",
    "#     i_azimuth_angle = math.atan2(incliantion_refer_m_axis[1], incliantion_refer_m_axis[0]) + np.pi\n",
    "    \n",
    "#     # inclination energy\n",
    "#     inclination_energy = energy_function_i_axis(i_polar_angle, i_azimuth_angle)\n",
    "#     final_energy = energy_function_final(m_polar_angle, m_azimuth_angle, misorientation_angle, i_polar_angle, i_azimuth_angle)\n",
    "#     GB_inclination_energy_list.append(inclination_energy)\n",
    "#     GB_final_energy_list.append(final_energy)\n",
    "#     # print(inclination_energy)\n",
    "#     # print(final_energy)\n",
    "#     # print()\n",
    "\n",
    "\n"
   ]
  },
  {
   "cell_type": "code",
   "execution_count": 52,
   "id": "4212a4ef-e7ad-4490-b5dc-48195c9defc7",
   "metadata": {},
   "outputs": [],
   "source": [
    "\n",
    "# GB_inclination_energy_list = np.array(GB_inclination_energy_list)\n",
    "# GB_velocity_list = np.array(GB_velocity_list)\n",
    "# GB_final_energy_list = np.array(GB_final_energy_list)\n",
    "\n",
    "# wanted_steps = GB_velocity_list<0\n",
    "# alpha_list = np.linspace(0.2,1,np.sum(wanted_steps))\n",
    "# figure_name_one_GB = f\"figures/2D_velocity_inclinationE_{case_name}_GB{key_focus}_5d.png\"\n",
    "# plt.figure()\n",
    "# fig = plt.figure(figsize=(7, 7))\n",
    "# import matplotlib as mpl\n",
    "# cmap = mpl.colormaps['tab20']\n",
    "# colors = cmap(np.linspace(0, 1, 20))\n",
    "# plt.scatter(GB_inclination_energy_list[wanted_steps], GB_velocity_list[wanted_steps],s=8,alpha=alpha_list,c=colors[0])\n",
    "# plt.scatter(GB_inclination_energy_list[~wanted_steps], GB_velocity_list[~wanted_steps],s=8,alpha=0.2,c=colors[6])\n",
    "# plt.plot(GB_inclination_energy_list,GB_velocity_list,alpha=0.1)\n",
    "# plt.xlabel(\"inclination energy\", fontsize=18)\n",
    "# plt.ylabel(\"velocity (voxel/step)\", fontsize=18)\n",
    "# # plt.xlim([0.334,0.35])\n",
    "# plt.ylim([-0.2,0.2])\n",
    "# plt.legend([\"anti-c\", \"c\", \"sequence\"],fontsize=18)\n",
    "# plt.title(f\"GBid {key_focus} step all\")\n",
    "# # plt.savefig(figure_name_one_GB, dpi=400,bbox_inches='tight')"
   ]
  },
  {
   "cell_type": "code",
   "execution_count": null,
   "id": "e625f572-387b-4aba-a3ed-f91e307f407a",
   "metadata": {
    "tags": []
   },
   "outputs": [],
   "source": []
  }
 ],
 "metadata": {
  "kernelspec": {
   "display_name": "UFRC Python-3.8",
   "language": "python",
   "name": "python3-3.8-ufrc"
  },
  "language_info": {
   "codemirror_mode": {
    "name": "ipython",
    "version": 3
   },
   "file_extension": ".py",
   "mimetype": "text/x-python",
   "name": "python",
   "nbconvert_exporter": "python",
   "pygments_lexer": "ipython3",
   "version": "3.8.15"
  }
 },
 "nbformat": 4,
 "nbformat_minor": 5
}
