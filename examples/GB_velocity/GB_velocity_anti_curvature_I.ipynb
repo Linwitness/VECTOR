{
 "cells": [
  {
   "cell_type": "code",
   "execution_count": 1,
   "id": "4b195c7c-3d58-4d9f-b559-8e34a5e9789a",
   "metadata": {
    "tags": []
   },
   "outputs": [
    {
     "data": {
      "text/plain": [
       "<module 'PACKAGE_MP_Linear' from '/home/lin.yang/projects/VECTOR/examples/GB_velocity/../../PACKAGE_MP_Linear.py'>"
      ]
     },
     "execution_count": 1,
     "metadata": {},
     "output_type": "execute_result"
    }
   ],
   "source": [
    "import os\n",
    "current_path = os.getcwd()\n",
    "import numpy as np\n",
    "from numpy import seterr\n",
    "seterr(all='raise')\n",
    "import matplotlib.pyplot as plt\n",
    "import math\n",
    "import random\n",
    "from tqdm import tqdm\n",
    "import sys\n",
    "sys.path.append(current_path)\n",
    "sys.path.append(current_path+'/../../')\n",
    "import myInput\n",
    "import PACKAGE_MP_Linear as linear2d\n",
    "import post_processing\n",
    "import PACKAGE_MP_3DLinear as Linear_3D\n",
    "import PACKAGE_MP_3DVertex as Vertex_3D\n",
    "sys.path.append(current_path+'/../calculate_tangent/')\n",
    "\n",
    "import importlib\n",
    "importlib.reload(post_processing)\n",
    "importlib.reload(Linear_3D)\n",
    "importlib.reload(linear2d)\n",
    "\n"
   ]
  },
  {
   "cell_type": "markdown",
   "id": "29d8158d-5d09-4363-b3e8-1a7d857a34ba",
   "metadata": {
    "tags": []
   },
   "source": [
    "## 2D case"
   ]
  },
  {
   "cell_type": "code",
   "execution_count": 2,
   "id": "f6ac1373-cac0-435c-bc23-f9c1aa0ef8eb",
   "metadata": {},
   "outputs": [
    {
     "name": "stdout",
     "output_type": "stream",
     "text": [
      "The I_20k_fully data size is: (201, 2400, 2400, 1)\n",
      "READING DATA DONE\n",
      "The I_20k_fully data size is: (201, 2400, 2400, 1)\n",
      "READING ENERGY DATA DONE\n"
     ]
    }
   ],
   "source": [
    "if __name__ == '__main__':\n",
    "    # File name\n",
    "    data_file_folder = \"/blue/michael.tonks/lin.yang/VECTOR_data/\"\n",
    "    npy_file_folder = \"/blue/michael.tonks/lin.yang/SPPARKS-VirtualIncEnergy/2d_poly_fully/results/\"\n",
    "    # npy_file_folder = \"/blue/michael.tonks/lin.yang/SPPARKS-VirtualIncEnergy/2d_poly_wellEnergy/results/\"\n",
    "    case_name = \"I_20k_fully\"\n",
    "    npy_file_name_aniso = f\"p_aveE_fz_fully5d_20k_J1_f0.0_t1.0_refer_1_0_0_seed56689_kt0.66.npy\"\n",
    "    # npy_file_name_aniso = f\"p_aveE_20000_Cos_delta0.0_J1_refer_1_0_0_seed56689_kt0.66.npy\"\n",
    "    \n",
    "    npy_file_name_aniso_energy = f\"p_aveE_fz_fully5d_20k_J1_f0.0_t1.0_refer_1_0_0_seed56689_kt0.66_energy.npy\"\n",
    "    # npy_file_name_aniso_energy = f\"p_aveE_20000_Cos_delta0.0_J1_refer_1_0_0_seed56689_kt0.66_energy.npy\"\n",
    "    \n",
    "    # Initial data\n",
    "    npy_file_aniso = np.load(npy_file_folder + npy_file_name_aniso) # microstructure\n",
    "    npy_file_aniso = npy_file_aniso.astype(int)\n",
    "    print(f\"The {case_name} data size is: {npy_file_aniso.shape}\")\n",
    "    print(\"READING DATA DONE\")\n",
    "    npy_file_aniso_energy = np.load(npy_file_folder + npy_file_name_aniso_energy) # energy\n",
    "    print(f\"The {case_name} data size is: {npy_file_aniso_energy.shape}\")\n",
    "    print(\"READING ENERGY DATA DONE\")\n",
    "    step_num, size_x, size_y, size_z = npy_file_aniso.shape"
   ]
  },
  {
   "cell_type": "code",
   "execution_count": 3,
   "id": "17be9aea-e6fe-40c8-82fe-91932a47bff1",
   "metadata": {
    "tags": []
   },
   "outputs": [],
   "source": [
    "step_1000grains = 28"
   ]
  },
  {
   "cell_type": "code",
   "execution_count": 4,
   "id": "7ab679ee-41d7-47d6-8d75-847eeab7fe6b",
   "metadata": {},
   "outputs": [
    {
     "name": "stderr",
     "output_type": "stream",
     "text": [
      "100%|██████████| 121/121 [00:01<00:00, 88.57it/s] \n"
     ]
    }
   ],
   "source": [
    "    # GB information\n",
    "    step_num=121\n",
    "    grain_nums = 20000\n",
    "    GB_infomation_dict_list = []\n",
    "    curvature_matrix_list = []\n",
    "    for time_step in tqdm(range(step_num)):\n",
    "        data_file_name = f\"GB_velocity_data/2D_signedcurvature_velocity_data_{case_name}_step{time_step}.npz\"\n",
    "        data_curvature_file_name = f\"GB_velocity_data/2D_matrix_signedcurvature_data_{case_name}_step{time_step}.npz\"\n",
    "        if os.path.exists(data_file_folder + data_file_name):\n",
    "            npz_file = np.load(data_file_folder + data_file_name,allow_pickle=True)\n",
    "            GB_infomation_dict = npz_file[\"GB_infomation_dict\"]\n",
    "            GB_infomation_dict_list.append(GB_infomation_dict.item())\n",
    "        else:\n",
    "            current_microstructure = npy_file_aniso[time_step]\n",
    "            # get curvature with sign\n",
    "            if os.path.exists(data_file_folder + data_curvature_file_name):\n",
    "                npz_file_curvature = np.load(data_file_folder + data_curvature_file_name)\n",
    "                curvature_matrix = npz_file_curvature[\"curvature_matrix\"]\n",
    "                curvature_matrix_list.append(curvature_matrix)\n",
    "            else:\n",
    "                cores = 128\n",
    "                loop_times = 5\n",
    "                R = np.zeros((size_x,size_y,3))\n",
    "                smoothing_class = linear2d.linear_class(size_x,size_y,grain_nums,cores,loop_times,current_microstructure[:,:,0],R,verification_system = False,curvature_sign = True)\n",
    "                smoothing_class.linear_main(\"curvature\")\n",
    "                C_ln = smoothing_class.get_C()\n",
    "                curvature_matrix = C_ln[1,:]\n",
    "                curvature_matrix_list.append(curvature_matrix)\n",
    "                # save curvature information\n",
    "                # np.savez(data_file_folder + data_curvature_file_name, curvature_matrix=curvature_matrix)\n",
    "            print(\"Finish curvature calculation\")\n",
    "            \n",
    "            # Get TJ and QJ information first\n",
    "            TJ_infomation_dict = dict()\n",
    "            for index, result in np.ndenumerate(current_microstructure):\n",
    "                i,j,k = index\n",
    "                ip,im,jp,jm = myInput.periodic_bc(size_x,size_y,i,j)\n",
    "                if ( ((current_microstructure[ip,j,k]-current_microstructure[i,j,k])!=0) or ((current_microstructure[im,j,k]-current_microstructure[i,j,k])!=0) or\\\n",
    "                     ((current_microstructure[i,jp,k]-current_microstructure[i,j,k])!=0) or ((current_microstructure[i,jm,k]-current_microstructure[i,j,k])!=0) ):\n",
    "                    central_site = int(current_microstructure[i,j,k])\n",
    "                    neighboring_sites_list = np.array([current_microstructure[ip,j,k], current_microstructure[i,jp,k], current_microstructure[im,j,k], current_microstructure[i,jm,k]]).astype(int)\n",
    "                    neighboring_sites_set = set(neighboring_sites_list) # Get all unique neighboring sites\n",
    "                    if central_site in neighboring_sites_set: neighboring_sites_set.remove(central_site) # remove central site\n",
    "                    neighboring_sites_list_unque = list(neighboring_sites_set)\n",
    "                    # remove the TJs and QJs\n",
    "                    if len(neighboring_sites_list_unque) > 1: \n",
    "                        for m in range(len(neighboring_sites_list_unque)):\n",
    "                            pair_id = post_processing.get_line(central_site, neighboring_sites_list_unque[m]) # get pair id\n",
    "                            if pair_id in TJ_infomation_dict:\n",
    "                                tmp = TJ_infomation_dict[pair_id]\n",
    "                                tmp.append([i,j,k])\n",
    "                                TJ_infomation_dict[pair_id] = tmp\n",
    "                            else: \n",
    "                                TJ_infomation_dict[pair_id] = [[i,j,k]]\n",
    "            print(\"Finish TJ extraction\")\n",
    "            \n",
    "            # Get the center of each GB\n",
    "            GB_infomation_dict = dict()\n",
    "            TJ_distance_max = 6 # voxels\n",
    "            for index, result in np.ndenumerate(current_microstructure):\n",
    "                i,j,k = index\n",
    "                ip,im,jp,jm = myInput.periodic_bc(size_x,size_y,i,j)\n",
    "                if ( ((current_microstructure[ip,j,k]-current_microstructure[i,j,k])!=0) or ((current_microstructure[im,j,k]-current_microstructure[i,j,k])!=0) or\\\n",
    "                     ((current_microstructure[i,jp,k]-current_microstructure[i,j,k])!=0) or ((current_microstructure[i,jm,k]-current_microstructure[i,j,k])!=0) ):\n",
    "                    central_site = int(current_microstructure[i,j,k])\n",
    "                    neighboring_sites_list = np.array([current_microstructure[ip,j,k], current_microstructure[i,jp,k], current_microstructure[im,j,k], current_microstructure[i,jm,k]]).astype(int)\n",
    "                    neighboring_sites_set = set(neighboring_sites_list) # Get all unique neighboring sites\n",
    "                    if central_site in neighboring_sites_set: neighboring_sites_set.remove(central_site) # remove central site\n",
    "                    neighboring_sites_list_unque = list(neighboring_sites_set)\n",
    "                    # remove the TJs and QJs\n",
    "                    if len(neighboring_sites_list_unque) > 1: continue # only remove TJs and QJs\n",
    "                    # CONTINUE...    # remove the voxels around TJs and QJs\n",
    "                    # check the GB voxels is close to TJ or not\n",
    "                    break_point = 0\n",
    "                    pair_id = post_processing.get_line(central_site, neighboring_sites_list_unque[0]) # get pair id\n",
    "                    if central_site<neighboring_sites_list_unque[0]: pair_id_pair = [central_site, neighboring_sites_list_unque[0]]\n",
    "                    else: pair_id_pair = [neighboring_sites_list_unque[0], central_site]\n",
    "                    if pair_id in GB_infomation_dict:\n",
    "                        GB_infomation_dict[pair_id][5] += 1 # GB area\n",
    "                    else:\n",
    "                        GB_infomation = np.array([0,0,0,0,0.0,1,pair_id_pair[0],pair_id_pair[1]]) # GBnum-curvature,i,j,k,curvature,GBnum,gid0,gid1\n",
    "                        GB_infomation_dict[pair_id] = GB_infomation\n",
    "                    if pair_id in TJ_infomation_dict:\n",
    "                        for TJ_site in TJ_infomation_dict[pair_id]:\n",
    "                            TJ_distance = np.linalg.norm(index-np.array(TJ_site))\n",
    "                            if TJ_distance < TJ_distance_max: \n",
    "                                break_point = 1\n",
    "                                break\n",
    "                    if break_point == 1: continue\n",
    "                    # calculate or extract misorientation\n",
    "                    # if pair_id in GB_infomation_dict:\n",
    "                    GB_infomation_dict[pair_id][0] += 1\n",
    "                    if central_site == pair_id_pair[0]:\n",
    "                        GB_infomation_dict[pair_id][1:5] += np.array([i,j,k,curvature_matrix[i,j]])\n",
    "                    else:\n",
    "                        GB_infomation_dict[pair_id][1:5] += np.array([i,j,k,-curvature_matrix[i,j]])\n",
    "                    \n",
    "            # get the correct location for each GB\n",
    "            small_GB_list = []\n",
    "            for key in GB_infomation_dict: \n",
    "                if GB_infomation_dict[key][0] == 0: \n",
    "                    small_GB_list.append(key) # remove the small GB with 0 voxels after remove voxels close to TJs\n",
    "            for s_index in range(len(small_GB_list)): GB_infomation_dict.pop(small_GB_list[s_index])\n",
    "            for key in GB_infomation_dict: \n",
    "                GB_infomation_dict[key][1:5]=GB_infomation_dict[key][1:5]/GB_infomation_dict[key][0]\n",
    "            print(f\"Current GBs len at {time_step} steps: {len(GB_infomation_dict)}\")\n",
    "            # save information\n",
    "            np.savez(data_file_folder + data_file_name, GB_infomation_dict=GB_infomation_dict)\n",
    "            GB_infomation_dict_list.append(GB_infomation_dict)"
   ]
  },
  {
   "cell_type": "code",
   "execution_count": 5,
   "id": "1c863c6b-9fd9-45b7-b4ca-b9188479c80d",
   "metadata": {},
   "outputs": [
    {
     "name": "stderr",
     "output_type": "stream",
     "text": [
      "100%|██████████| 121/121 [00:01<00:00, 77.81it/s] \n"
     ]
    }
   ],
   "source": [
    "    # GB Energy information\n",
    "    grain_nums = 20000\n",
    "    GBenergy_information_dict_list = []\n",
    "    for time_step in tqdm(range(step_num)):\n",
    "        data_file_name_GBenergy = f\"GB_velocity_data/2D_GBenergy_velocity_data_{case_name}_step{time_step}.npz\"\n",
    "        if os.path.exists(data_file_folder + data_file_name_GBenergy):\n",
    "            npz_file = np.load(data_file_folder + data_file_name_GBenergy,allow_pickle=True)\n",
    "            GBenergy_information_dict = npz_file[\"GBenergy_information_dict\"]\n",
    "            GBenergy_information_dict_list.append(GBenergy_information_dict.item())\n",
    "        else:\n",
    "            current_microstructure = npy_file_aniso[time_step]\n",
    "            current_energy = npy_file_aniso_energy[time_step]\n",
    "\n",
    "            # Get TJ and QJ information first\n",
    "            TJ_infomation_dict = dict()\n",
    "            for index, result in np.ndenumerate(current_microstructure):\n",
    "                i,j,k = index\n",
    "                ip,im,jp,jm = myInput.periodic_bc(size_x,size_y,i,j)\n",
    "                if ( ((current_microstructure[ip,j,k]-current_microstructure[i,j,k])!=0) or ((current_microstructure[im,j,k]-current_microstructure[i,j,k])!=0) or\\\n",
    "                     ((current_microstructure[i,jp,k]-current_microstructure[i,j,k])!=0) or ((current_microstructure[i,jm,k]-current_microstructure[i,j,k])!=0) ):\n",
    "                    central_site = int(current_microstructure[i,j,k])\n",
    "                    neighboring_sites_list = np.array([current_microstructure[ip,j,k], current_microstructure[i,jp,k], current_microstructure[im,j,k], current_microstructure[i,jm,k]]).astype(int)\n",
    "                    neighboring_sites_set = set(neighboring_sites_list) # Get all unique neighboring sites\n",
    "                    if central_site in neighboring_sites_set: neighboring_sites_set.remove(central_site) # remove central site\n",
    "                    neighboring_sites_list_unque = list(neighboring_sites_set)\n",
    "                    # remove the TJs and QJs\n",
    "                    if len(neighboring_sites_list_unque) > 1: \n",
    "                        for m in range(len(neighboring_sites_list_unque)):\n",
    "                            pair_id = post_processing.get_line(central_site, neighboring_sites_list_unque[m]) # get pair id\n",
    "                            if pair_id in TJ_infomation_dict:\n",
    "                                tmp = TJ_infomation_dict[pair_id]\n",
    "                                tmp.append([i,j,k])\n",
    "                                TJ_infomation_dict[pair_id] = tmp\n",
    "                            else: \n",
    "                                TJ_infomation_dict[pair_id] = [[i,j,k]]\n",
    "            print(\"Finish TJ extraction\")\n",
    "\n",
    "            # Get the center of each GB\n",
    "            GBenergy_information_dict = dict()\n",
    "            TJ_distance_max = 6 # voxels\n",
    "            for index, result in np.ndenumerate(current_microstructure):\n",
    "                i,j,k = index\n",
    "                ip,im,jp,jm = myInput.periodic_bc(size_x,size_y,i,j)\n",
    "                if ( ((current_microstructure[ip,j,k]-current_microstructure[i,j,k])!=0) or ((current_microstructure[im,j,k]-current_microstructure[i,j,k])!=0) or\\\n",
    "                     ((current_microstructure[i,jp,k]-current_microstructure[i,j,k])!=0) or ((current_microstructure[i,jm,k]-current_microstructure[i,j,k])!=0) ):\n",
    "                    central_site = int(current_microstructure[i,j,k])\n",
    "                    neighboring_sites_list = np.array([current_microstructure[ip,j,k], current_microstructure[i,jp,k], current_microstructure[im,j,k], current_microstructure[i,jm,k]]).astype(int)\n",
    "                    neighboring_sites_set = set(neighboring_sites_list) # Get all unique neighboring sites\n",
    "                    if central_site in neighboring_sites_set: neighboring_sites_set.remove(central_site) # remove central site\n",
    "                    neighboring_sites_list_unque = list(neighboring_sites_set)\n",
    "                    num_other_sites = 0\n",
    "                    neighboring_sites_full_list = np.array([current_microstructure[ip,jp,k], current_microstructure[ip,j,k], current_microstructure[ip,jm,k], current_microstructure[i,jp,k], current_microstructure[i,jm,k], current_microstructure[im,jp,k], current_microstructure[im,j,k], current_microstructure[im,jm,k]]).astype(int)\n",
    "                    for neigh_site in neighboring_sites_full_list:\n",
    "                        if neigh_site != central_site: num_other_sites += 1 # get the sites num different with central id\n",
    "                    # remove the TJs and QJs\n",
    "                    if len(neighboring_sites_list_unque) > 1: continue # only remove TJs and QJs\n",
    "                    # CONTINUE...    # remove the voxels around TJs and QJs\n",
    "                    # check the GB voxels is close to TJ or not\n",
    "                    break_point = 0\n",
    "                    pair_id = post_processing.get_line(central_site, neighboring_sites_list_unque[0]) # get pair id\n",
    "                    if central_site<neighboring_sites_list_unque[0]: pair_id_pair = [central_site, neighboring_sites_list_unque[0]]\n",
    "                    else: pair_id_pair = [neighboring_sites_list_unque[0], central_site]\n",
    "                    if pair_id in GBenergy_information_dict:\n",
    "                        GBenergy_information_dict[pair_id][5] += 1 # GB area\n",
    "                    else:\n",
    "                        GB_infomation = np.array([0,0,0,0,0.0,1,pair_id_pair[0],pair_id_pair[1]]) # GBnum-energy,i,j,k,GB energy,GBnum,gid0,gid1\n",
    "                        GBenergy_information_dict[pair_id] = GB_infomation\n",
    "                    if pair_id in TJ_infomation_dict:\n",
    "                        for TJ_site in TJ_infomation_dict[pair_id]:\n",
    "                            TJ_distance = np.linalg.norm(index-np.array(TJ_site))\n",
    "                            if TJ_distance < TJ_distance_max: \n",
    "                                break_point = 1\n",
    "                                break\n",
    "                    if break_point == 1: continue\n",
    "                    # calculate or extract misorientation\n",
    "                    # if pair_id in GBenergy_information_dict:\n",
    "                    GBenergy_information_dict[pair_id][0] += 1\n",
    "                    GBenergy_information_dict[pair_id][1:5] += np.array([i,j,k,current_energy[i,j,k]/num_other_sites])\n",
    "\n",
    "            # get the correct location for each GB\n",
    "            small_GB_list = []\n",
    "            for key in GBenergy_information_dict: \n",
    "                if GBenergy_information_dict[key][0] == 0: \n",
    "                    small_GB_list.append(key) # remove the small GB with 0 voxels after remove voxels close to TJs\n",
    "            for s_index in range(len(small_GB_list)): GBenergy_information_dict.pop(small_GB_list[s_index])\n",
    "            for key in GBenergy_information_dict: \n",
    "                GBenergy_information_dict[key][1:5]=GBenergy_information_dict[key][1:5]/GBenergy_information_dict[key][0]\n",
    "            print(f\"Current GBs len at {time_step} steps: {len(GBenergy_information_dict)}\")\n",
    "            # save information\n",
    "            np.savez(data_file_folder + data_file_name_GBenergy, GBenergy_information_dict=GBenergy_information_dict)\n",
    "            GBenergy_information_dict_list.append(GBenergy_information_dict)"
   ]
  },
  {
   "cell_type": "code",
   "execution_count": 6,
   "id": "6aa1a164-84e3-47ae-a192-fd7d956f6a2e",
   "metadata": {},
   "outputs": [
    {
     "name": "stdout",
     "output_type": "stream",
     "text": [
      "key num start with 22827\n",
      "key num end with 0\n"
     ]
    },
    {
     "name": "stderr",
     "output_type": "stream",
     "text": [
      "0it [00:00, ?it/s]\n"
     ]
    },
    {
     "name": "stdout",
     "output_type": "stream",
     "text": [
      "finish 0 with num of GBs 0, and collected num of GBs 0\n",
      "key num start with 18853\n",
      "key num end with 8\n"
     ]
    },
    {
     "name": "stderr",
     "output_type": "stream",
     "text": [
      "100%|██████████| 8/8 [00:00<00:00, 142784.82it/s]\n"
     ]
    },
    {
     "name": "stdout",
     "output_type": "stream",
     "text": [
      "finish 1 with num of GBs 8, and collected num of GBs 1\n",
      "key num start with 16140\n",
      "key num end with 29\n"
     ]
    },
    {
     "name": "stderr",
     "output_type": "stream",
     "text": [
      "100%|██████████| 29/29 [00:00<00:00, 272113.68it/s]\n"
     ]
    },
    {
     "name": "stdout",
     "output_type": "stream",
     "text": [
      "finish 2 with num of GBs 29, and collected num of GBs 13\n",
      "key num start with 13925\n",
      "key num end with 65\n"
     ]
    },
    {
     "name": "stderr",
     "output_type": "stream",
     "text": [
      "100%|██████████| 65/65 [00:00<00:00, 203455.04it/s]\n"
     ]
    },
    {
     "name": "stdout",
     "output_type": "stream",
     "text": [
      "finish 3 with num of GBs 65, and collected num of GBs 37\n",
      "key num start with 12041\n",
      "key num end with 101\n"
     ]
    },
    {
     "name": "stderr",
     "output_type": "stream",
     "text": [
      "100%|██████████| 101/101 [00:00<00:00, 348662.31it/s]\n"
     ]
    },
    {
     "name": "stdout",
     "output_type": "stream",
     "text": [
      "finish 4 with num of GBs 101, and collected num of GBs 71\n",
      "key num start with 10559\n",
      "key num end with 158\n"
     ]
    },
    {
     "name": "stderr",
     "output_type": "stream",
     "text": [
      "100%|██████████| 158/158 [00:00<00:00, 519357.39it/s]\n"
     ]
    },
    {
     "name": "stdout",
     "output_type": "stream",
     "text": [
      "finish 5 with num of GBs 158, and collected num of GBs 117\n",
      "key num start with 9525\n",
      "key num end with 207\n"
     ]
    },
    {
     "name": "stderr",
     "output_type": "stream",
     "text": [
      "100%|██████████| 207/207 [00:00<00:00, 532977.86it/s]\n"
     ]
    },
    {
     "name": "stdout",
     "output_type": "stream",
     "text": [
      "finish 6 with num of GBs 207, and collected num of GBs 180\n",
      "key num start with 8611\n",
      "key num end with 214\n"
     ]
    },
    {
     "name": "stderr",
     "output_type": "stream",
     "text": [
      "100%|██████████| 214/214 [00:00<00:00, 491825.24it/s]\n"
     ]
    },
    {
     "name": "stdout",
     "output_type": "stream",
     "text": [
      "finish 7 with num of GBs 214, and collected num of GBs 239\n",
      "key num start with 7733\n",
      "key num end with 214\n"
     ]
    },
    {
     "name": "stderr",
     "output_type": "stream",
     "text": [
      "100%|██████████| 214/214 [00:00<00:00, 577222.54it/s]\n"
     ]
    },
    {
     "name": "stdout",
     "output_type": "stream",
     "text": [
      "finish 8 with num of GBs 214, and collected num of GBs 295\n",
      "key num start with 7121\n",
      "key num end with 234\n"
     ]
    },
    {
     "name": "stderr",
     "output_type": "stream",
     "text": [
      "100%|██████████| 234/234 [00:00<00:00, 539564.12it/s]\n"
     ]
    },
    {
     "name": "stdout",
     "output_type": "stream",
     "text": [
      "finish 9 with num of GBs 234, and collected num of GBs 358\n",
      "key num start with 6582\n",
      "key num end with 247\n"
     ]
    },
    {
     "name": "stderr",
     "output_type": "stream",
     "text": [
      "100%|██████████| 247/247 [00:00<00:00, 569539.91it/s]\n"
     ]
    },
    {
     "name": "stdout",
     "output_type": "stream",
     "text": [
      "finish 10 with num of GBs 247, and collected num of GBs 411\n",
      "key num start with 6149\n",
      "key num end with 232\n"
     ]
    },
    {
     "name": "stderr",
     "output_type": "stream",
     "text": [
      "100%|██████████| 232/232 [00:00<00:00, 581636.90it/s]\n"
     ]
    },
    {
     "name": "stdout",
     "output_type": "stream",
     "text": [
      "finish 11 with num of GBs 232, and collected num of GBs 470\n",
      "key num start with 5705\n",
      "key num end with 278\n"
     ]
    },
    {
     "name": "stderr",
     "output_type": "stream",
     "text": [
      "100%|██████████| 278/278 [00:00<00:00, 593997.20it/s]\n"
     ]
    },
    {
     "name": "stdout",
     "output_type": "stream",
     "text": [
      "finish 12 with num of GBs 278, and collected num of GBs 535\n",
      "key num start with 5334\n",
      "key num end with 234\n"
     ]
    },
    {
     "name": "stderr",
     "output_type": "stream",
     "text": [
      "100%|██████████| 234/234 [00:00<00:00, 576316.58it/s]\n"
     ]
    },
    {
     "name": "stdout",
     "output_type": "stream",
     "text": [
      "finish 13 with num of GBs 234, and collected num of GBs 582\n",
      "key num start with 5071\n",
      "key num end with 239\n"
     ]
    },
    {
     "name": "stderr",
     "output_type": "stream",
     "text": [
      "100%|██████████| 239/239 [00:00<00:00, 574134.40it/s]\n"
     ]
    },
    {
     "name": "stdout",
     "output_type": "stream",
     "text": [
      "finish 14 with num of GBs 239, and collected num of GBs 634\n",
      "key num start with 4856\n",
      "key num end with 244\n"
     ]
    },
    {
     "name": "stderr",
     "output_type": "stream",
     "text": [
      "100%|██████████| 244/244 [00:00<00:00, 581483.05it/s]\n"
     ]
    },
    {
     "name": "stdout",
     "output_type": "stream",
     "text": [
      "finish 15 with num of GBs 244, and collected num of GBs 689\n",
      "key num start with 4562\n",
      "key num end with 255\n"
     ]
    },
    {
     "name": "stderr",
     "output_type": "stream",
     "text": [
      "100%|██████████| 255/255 [00:00<00:00, 603241.69it/s]\n"
     ]
    },
    {
     "name": "stdout",
     "output_type": "stream",
     "text": [
      "finish 16 with num of GBs 255, and collected num of GBs 732\n",
      "key num start with 4332\n",
      "key num end with 265\n"
     ]
    },
    {
     "name": "stderr",
     "output_type": "stream",
     "text": [
      "100%|██████████| 265/265 [00:00<00:00, 584379.89it/s]\n"
     ]
    },
    {
     "name": "stdout",
     "output_type": "stream",
     "text": [
      "finish 17 with num of GBs 265, and collected num of GBs 788\n",
      "key num start with 4134\n",
      "key num end with 238\n"
     ]
    },
    {
     "name": "stderr",
     "output_type": "stream",
     "text": [
      "100%|██████████| 238/238 [00:00<00:00, 512708.96it/s]\n"
     ]
    },
    {
     "name": "stdout",
     "output_type": "stream",
     "text": [
      "finish 18 with num of GBs 238, and collected num of GBs 836\n",
      "key num start with 3938\n",
      "key num end with 224\n"
     ]
    },
    {
     "name": "stderr",
     "output_type": "stream",
     "text": [
      "100%|██████████| 224/224 [00:00<00:00, 549750.79it/s]\n"
     ]
    },
    {
     "name": "stdout",
     "output_type": "stream",
     "text": [
      "finish 19 with num of GBs 224, and collected num of GBs 886\n",
      "key num start with 3785\n",
      "key num end with 211\n"
     ]
    },
    {
     "name": "stderr",
     "output_type": "stream",
     "text": [
      "100%|██████████| 211/211 [00:00<00:00, 580707.44it/s]\n"
     ]
    },
    {
     "name": "stdout",
     "output_type": "stream",
     "text": [
      "finish 20 with num of GBs 211, and collected num of GBs 920\n",
      "key num start with 3672\n",
      "key num end with 207\n"
     ]
    },
    {
     "name": "stderr",
     "output_type": "stream",
     "text": [
      "100%|██████████| 207/207 [00:00<00:00, 609705.71it/s]\n"
     ]
    },
    {
     "name": "stdout",
     "output_type": "stream",
     "text": [
      "finish 21 with num of GBs 207, and collected num of GBs 952\n",
      "key num start with 3524\n",
      "key num end with 220\n"
     ]
    },
    {
     "name": "stderr",
     "output_type": "stream",
     "text": [
      "100%|██████████| 220/220 [00:00<00:00, 444911.71it/s]\n"
     ]
    },
    {
     "name": "stdout",
     "output_type": "stream",
     "text": [
      "finish 22 with num of GBs 220, and collected num of GBs 996\n",
      "key num start with 3373\n",
      "key num end with 182\n"
     ]
    },
    {
     "name": "stderr",
     "output_type": "stream",
     "text": [
      "100%|██████████| 182/182 [00:00<00:00, 518589.22it/s]\n"
     ]
    },
    {
     "name": "stdout",
     "output_type": "stream",
     "text": [
      "finish 23 with num of GBs 182, and collected num of GBs 1021\n",
      "key num start with 3234\n",
      "key num end with 206\n"
     ]
    },
    {
     "name": "stderr",
     "output_type": "stream",
     "text": [
      "100%|██████████| 206/206 [00:00<00:00, 578718.44it/s]\n"
     ]
    },
    {
     "name": "stdout",
     "output_type": "stream",
     "text": [
      "finish 24 with num of GBs 206, and collected num of GBs 1055\n",
      "key num start with 3104\n",
      "key num end with 176\n"
     ]
    },
    {
     "name": "stderr",
     "output_type": "stream",
     "text": [
      "100%|██████████| 176/176 [00:00<00:00, 565668.59it/s]\n"
     ]
    },
    {
     "name": "stdout",
     "output_type": "stream",
     "text": [
      "finish 25 with num of GBs 176, and collected num of GBs 1081\n",
      "key num start with 2995\n",
      "key num end with 200\n"
     ]
    },
    {
     "name": "stderr",
     "output_type": "stream",
     "text": [
      "100%|██████████| 200/200 [00:00<00:00, 584571.99it/s]\n"
     ]
    },
    {
     "name": "stdout",
     "output_type": "stream",
     "text": [
      "finish 26 with num of GBs 200, and collected num of GBs 1117\n",
      "key num start with 2876\n",
      "key num end with 193\n"
     ]
    },
    {
     "name": "stderr",
     "output_type": "stream",
     "text": [
      "100%|██████████| 193/193 [00:00<00:00, 569669.72it/s]\n"
     ]
    },
    {
     "name": "stdout",
     "output_type": "stream",
     "text": [
      "finish 27 with num of GBs 193, and collected num of GBs 1148\n",
      "key num start with 2788\n",
      "key num end with 174\n"
     ]
    },
    {
     "name": "stderr",
     "output_type": "stream",
     "text": [
      "100%|██████████| 174/174 [00:00<00:00, 574652.67it/s]\n"
     ]
    },
    {
     "name": "stdout",
     "output_type": "stream",
     "text": [
      "finish 28 with num of GBs 174, and collected num of GBs 1176\n",
      "key num start with 2709\n",
      "key num end with 158\n"
     ]
    },
    {
     "name": "stderr",
     "output_type": "stream",
     "text": [
      "100%|██████████| 158/158 [00:00<00:00, 543196.75it/s]\n"
     ]
    },
    {
     "name": "stdout",
     "output_type": "stream",
     "text": [
      "finish 29 with num of GBs 158, and collected num of GBs 1207\n",
      "key num start with 2641\n",
      "key num end with 164\n"
     ]
    },
    {
     "name": "stderr",
     "output_type": "stream",
     "text": [
      "100%|██████████| 164/164 [00:00<00:00, 528720.87it/s]\n"
     ]
    },
    {
     "name": "stdout",
     "output_type": "stream",
     "text": [
      "finish 30 with num of GBs 164, and collected num of GBs 1226\n",
      "key num start with 2546\n",
      "key num end with 153\n"
     ]
    },
    {
     "name": "stderr",
     "output_type": "stream",
     "text": [
      "100%|██████████| 153/153 [00:00<00:00, 472902.37it/s]\n"
     ]
    },
    {
     "name": "stdout",
     "output_type": "stream",
     "text": [
      "finish 31 with num of GBs 153, and collected num of GBs 1246\n",
      "key num start with 2486\n",
      "key num end with 160\n"
     ]
    },
    {
     "name": "stderr",
     "output_type": "stream",
     "text": [
      "100%|██████████| 160/160 [00:00<00:00, 537731.28it/s]\n"
     ]
    },
    {
     "name": "stdout",
     "output_type": "stream",
     "text": [
      "finish 32 with num of GBs 160, and collected num of GBs 1270\n",
      "key num start with 2423\n",
      "key num end with 158\n"
     ]
    },
    {
     "name": "stderr",
     "output_type": "stream",
     "text": [
      "100%|██████████| 158/158 [00:00<00:00, 519764.73it/s]\n"
     ]
    },
    {
     "name": "stdout",
     "output_type": "stream",
     "text": [
      "finish 33 with num of GBs 158, and collected num of GBs 1291\n",
      "key num start with 2374\n",
      "key num end with 140\n"
     ]
    },
    {
     "name": "stderr",
     "output_type": "stream",
     "text": [
      "100%|██████████| 140/140 [00:00<00:00, 534792.86it/s]\n"
     ]
    },
    {
     "name": "stdout",
     "output_type": "stream",
     "text": [
      "finish 34 with num of GBs 140, and collected num of GBs 1309\n",
      "key num start with 2287\n",
      "key num end with 142\n"
     ]
    },
    {
     "name": "stderr",
     "output_type": "stream",
     "text": [
      "100%|██████████| 142/142 [00:00<00:00, 511237.05it/s]\n"
     ]
    },
    {
     "name": "stdout",
     "output_type": "stream",
     "text": [
      "finish 35 with num of GBs 142, and collected num of GBs 1331\n",
      "key num start with 2245\n",
      "key num end with 139\n"
     ]
    },
    {
     "name": "stderr",
     "output_type": "stream",
     "text": [
      "100%|██████████| 139/139 [00:00<00:00, 535361.12it/s]\n"
     ]
    },
    {
     "name": "stdout",
     "output_type": "stream",
     "text": [
      "finish 36 with num of GBs 139, and collected num of GBs 1348\n",
      "key num start with 2177\n",
      "key num end with 140\n"
     ]
    },
    {
     "name": "stderr",
     "output_type": "stream",
     "text": [
      "100%|██████████| 140/140 [00:00<00:00, 396490.59it/s]\n"
     ]
    },
    {
     "name": "stdout",
     "output_type": "stream",
     "text": [
      "finish 37 with num of GBs 140, and collected num of GBs 1366\n",
      "key num start with 2144\n",
      "key num end with 120\n"
     ]
    },
    {
     "name": "stderr",
     "output_type": "stream",
     "text": [
      "100%|██████████| 120/120 [00:00<00:00, 446598.47it/s]\n"
     ]
    },
    {
     "name": "stdout",
     "output_type": "stream",
     "text": [
      "finish 38 with num of GBs 120, and collected num of GBs 1388\n",
      "key num start with 2112\n",
      "key num end with 135\n"
     ]
    },
    {
     "name": "stderr",
     "output_type": "stream",
     "text": [
      "100%|██████████| 135/135 [00:00<00:00, 514755.49it/s]\n"
     ]
    },
    {
     "name": "stdout",
     "output_type": "stream",
     "text": [
      "finish 39 with num of GBs 135, and collected num of GBs 1406\n",
      "key num start with 2063\n",
      "key num end with 122\n"
     ]
    },
    {
     "name": "stderr",
     "output_type": "stream",
     "text": [
      "100%|██████████| 122/122 [00:00<00:00, 482740.65it/s]\n"
     ]
    },
    {
     "name": "stdout",
     "output_type": "stream",
     "text": [
      "finish 40 with num of GBs 122, and collected num of GBs 1428\n",
      "key num start with 2021\n",
      "key num end with 132\n"
     ]
    },
    {
     "name": "stderr",
     "output_type": "stream",
     "text": [
      "100%|██████████| 132/132 [00:00<00:00, 428520.22it/s]\n"
     ]
    },
    {
     "name": "stdout",
     "output_type": "stream",
     "text": [
      "finish 41 with num of GBs 132, and collected num of GBs 1452\n",
      "key num start with 1981\n",
      "key num end with 124\n"
     ]
    },
    {
     "name": "stderr",
     "output_type": "stream",
     "text": [
      "100%|██████████| 124/124 [00:00<00:00, 491117.75it/s]\n"
     ]
    },
    {
     "name": "stdout",
     "output_type": "stream",
     "text": [
      "finish 42 with num of GBs 124, and collected num of GBs 1468\n",
      "key num start with 1935\n",
      "key num end with 122\n"
     ]
    },
    {
     "name": "stderr",
     "output_type": "stream",
     "text": [
      "100%|██████████| 122/122 [00:00<00:00, 502163.97it/s]\n"
     ]
    },
    {
     "name": "stdout",
     "output_type": "stream",
     "text": [
      "finish 43 with num of GBs 122, and collected num of GBs 1480\n",
      "key num start with 1905\n",
      "key num end with 132\n"
     ]
    },
    {
     "name": "stderr",
     "output_type": "stream",
     "text": [
      "100%|██████████| 132/132 [00:00<00:00, 515981.48it/s]\n"
     ]
    },
    {
     "name": "stdout",
     "output_type": "stream",
     "text": [
      "finish 44 with num of GBs 132, and collected num of GBs 1493\n",
      "key num start with 1877\n",
      "key num end with 113\n"
     ]
    },
    {
     "name": "stderr",
     "output_type": "stream",
     "text": [
      "100%|██████████| 113/113 [00:00<00:00, 490130.66it/s]"
     ]
    },
    {
     "name": "stdout",
     "output_type": "stream",
     "text": [
      "finish 45 with num of GBs 113, and collected num of GBs 1507\n",
      "key num start with 1852\n",
      "key num end with 96\n"
     ]
    },
    {
     "name": "stderr",
     "output_type": "stream",
     "text": [
      "\n",
      "100%|██████████| 96/96 [00:00<00:00, 479349.03it/s]\n"
     ]
    },
    {
     "name": "stdout",
     "output_type": "stream",
     "text": [
      "finish 46 with num of GBs 96, and collected num of GBs 1512\n",
      "key num start with 1803\n",
      "key num end with 113\n"
     ]
    },
    {
     "name": "stderr",
     "output_type": "stream",
     "text": [
      "100%|██████████| 113/113 [00:00<00:00, 467412.58it/s]\n"
     ]
    },
    {
     "name": "stdout",
     "output_type": "stream",
     "text": [
      "finish 47 with num of GBs 113, and collected num of GBs 1529\n",
      "key num start with 1769\n",
      "key num end with 108\n"
     ]
    },
    {
     "name": "stderr",
     "output_type": "stream",
     "text": [
      "100%|██████████| 108/108 [00:00<00:00, 503316.48it/s]\n"
     ]
    },
    {
     "name": "stdout",
     "output_type": "stream",
     "text": [
      "finish 48 with num of GBs 108, and collected num of GBs 1538\n",
      "key num start with 1745\n",
      "key num end with 107\n"
     ]
    },
    {
     "name": "stderr",
     "output_type": "stream",
     "text": [
      "100%|██████████| 107/107 [00:00<00:00, 479477.06it/s]\n"
     ]
    },
    {
     "name": "stdout",
     "output_type": "stream",
     "text": [
      "finish 49 with num of GBs 107, and collected num of GBs 1552\n",
      "key num start with 1686\n",
      "key num end with 92\n"
     ]
    },
    {
     "name": "stderr",
     "output_type": "stream",
     "text": [
      "100%|██████████| 92/92 [00:00<00:00, 439995.40it/s]\n"
     ]
    },
    {
     "name": "stdout",
     "output_type": "stream",
     "text": [
      "finish 50 with num of GBs 92, and collected num of GBs 1563\n",
      "key num start with 1646\n",
      "key num end with 100\n"
     ]
    },
    {
     "name": "stderr",
     "output_type": "stream",
     "text": [
      "100%|██████████| 100/100 [00:00<00:00, 467071.71it/s]\n"
     ]
    },
    {
     "name": "stdout",
     "output_type": "stream",
     "text": [
      "finish 51 with num of GBs 100, and collected num of GBs 1574\n",
      "key num start with 1618\n",
      "key num end with 101\n"
     ]
    },
    {
     "name": "stderr",
     "output_type": "stream",
     "text": [
      "100%|██████████| 101/101 [00:00<00:00, 468611.40it/s]\n"
     ]
    },
    {
     "name": "stdout",
     "output_type": "stream",
     "text": [
      "finish 52 with num of GBs 101, and collected num of GBs 1590\n",
      "key num start with 1589\n",
      "key num end with 84\n"
     ]
    },
    {
     "name": "stderr",
     "output_type": "stream",
     "text": [
      "100%|██████████| 84/84 [00:00<00:00, 436581.83it/s]\n"
     ]
    },
    {
     "name": "stdout",
     "output_type": "stream",
     "text": [
      "finish 53 with num of GBs 84, and collected num of GBs 1605\n",
      "key num start with 1563\n",
      "key num end with 83\n"
     ]
    },
    {
     "name": "stderr",
     "output_type": "stream",
     "text": [
      "100%|██████████| 83/83 [00:00<00:00, 470442.21it/s]"
     ]
    },
    {
     "name": "stdout",
     "output_type": "stream",
     "text": [
      "finish 54 with num of GBs 83, and collected num of GBs 1615\n",
      "key num start with 1553\n",
      "key num end with 82\n"
     ]
    },
    {
     "name": "stderr",
     "output_type": "stream",
     "text": [
      "\n",
      "100%|██████████| 82/82 [00:00<00:00, 464774.23it/s]\n"
     ]
    },
    {
     "name": "stdout",
     "output_type": "stream",
     "text": [
      "finish 55 with num of GBs 82, and collected num of GBs 1622\n",
      "key num start with 1533\n",
      "key num end with 89\n"
     ]
    },
    {
     "name": "stderr",
     "output_type": "stream",
     "text": [
      "100%|██████████| 89/89 [00:00<00:00, 403996.81it/s]\n"
     ]
    },
    {
     "name": "stdout",
     "output_type": "stream",
     "text": [
      "finish 56 with num of GBs 89, and collected num of GBs 1624\n",
      "key num start with 1510\n",
      "key num end with 76\n"
     ]
    },
    {
     "name": "stderr",
     "output_type": "stream",
     "text": [
      "100%|██████████| 76/76 [00:00<00:00, 431349.26it/s]\n"
     ]
    },
    {
     "name": "stdout",
     "output_type": "stream",
     "text": [
      "finish 57 with num of GBs 76, and collected num of GBs 1631\n",
      "key num start with 1476\n",
      "key num end with 75\n"
     ]
    },
    {
     "name": "stderr",
     "output_type": "stream",
     "text": [
      "100%|██████████| 75/75 [00:00<00:00, 417759.36it/s]\n"
     ]
    },
    {
     "name": "stdout",
     "output_type": "stream",
     "text": [
      "finish 58 with num of GBs 75, and collected num of GBs 1639\n",
      "key num start with 1447\n",
      "key num end with 60\n"
     ]
    },
    {
     "name": "stderr",
     "output_type": "stream",
     "text": [
      "100%|██████████| 60/60 [00:00<00:00, 415964.03it/s]\n"
     ]
    },
    {
     "name": "stdout",
     "output_type": "stream",
     "text": [
      "finish 59 with num of GBs 60, and collected num of GBs 1643\n",
      "key num start with 1430\n",
      "key num end with 76\n"
     ]
    },
    {
     "name": "stderr",
     "output_type": "stream",
     "text": [
      "100%|██████████| 76/76 [00:00<00:00, 449600.99it/s]"
     ]
    },
    {
     "name": "stdout",
     "output_type": "stream",
     "text": [
      "finish 60 with num of GBs 76, and collected num of GBs 1651\n",
      "key num start with 1394\n",
      "key num end with 72\n"
     ]
    },
    {
     "name": "stderr",
     "output_type": "stream",
     "text": [
      "\n",
      "100%|██████████| 72/72 [00:00<00:00, 406446.69it/s]\n"
     ]
    },
    {
     "name": "stdout",
     "output_type": "stream",
     "text": [
      "finish 61 with num of GBs 72, and collected num of GBs 1663\n",
      "key num start with 1374\n",
      "key num end with 79\n"
     ]
    },
    {
     "name": "stderr",
     "output_type": "stream",
     "text": [
      "100%|██████████| 79/79 [00:00<00:00, 416792.47it/s]"
     ]
    },
    {
     "name": "stdout",
     "output_type": "stream",
     "text": [
      "finish 62 with num of GBs 79, and collected num of GBs 1673\n",
      "key num start with 1354\n",
      "key num end with 68\n"
     ]
    },
    {
     "name": "stderr",
     "output_type": "stream",
     "text": [
      "\n",
      "100%|██████████| 68/68 [00:00<00:00, 428891.24it/s]"
     ]
    },
    {
     "name": "stdout",
     "output_type": "stream",
     "text": [
      "finish 63 with num of GBs 68, and collected num of GBs 1684\n",
      "key num start with 1336\n",
      "key num end with 69\n"
     ]
    },
    {
     "name": "stderr",
     "output_type": "stream",
     "text": [
      "\n",
      "100%|██████████| 69/69 [00:00<00:00, 432596.38it/s]\n"
     ]
    },
    {
     "name": "stdout",
     "output_type": "stream",
     "text": [
      "finish 64 with num of GBs 69, and collected num of GBs 1687\n",
      "key num start with 1326\n",
      "key num end with 66\n"
     ]
    },
    {
     "name": "stderr",
     "output_type": "stream",
     "text": [
      "100%|██████████| 66/66 [00:00<00:00, 427857.90it/s]\n"
     ]
    },
    {
     "name": "stdout",
     "output_type": "stream",
     "text": [
      "finish 65 with num of GBs 66, and collected num of GBs 1694\n",
      "key num start with 1309\n",
      "key num end with 77\n"
     ]
    },
    {
     "name": "stderr",
     "output_type": "stream",
     "text": [
      "100%|██████████| 77/77 [00:00<00:00, 435257.96it/s]\n"
     ]
    },
    {
     "name": "stdout",
     "output_type": "stream",
     "text": [
      "finish 66 with num of GBs 77, and collected num of GBs 1703\n",
      "key num start with 1289\n",
      "key num end with 77\n"
     ]
    },
    {
     "name": "stderr",
     "output_type": "stream",
     "text": [
      "100%|██████████| 77/77 [00:00<00:00, 458752.00it/s]\n"
     ]
    },
    {
     "name": "stdout",
     "output_type": "stream",
     "text": [
      "finish 67 with num of GBs 77, and collected num of GBs 1714\n",
      "key num start with 1282\n",
      "key num end with 65\n"
     ]
    },
    {
     "name": "stderr",
     "output_type": "stream",
     "text": [
      "100%|██████████| 65/65 [00:00<00:00, 386161.13it/s]\n"
     ]
    },
    {
     "name": "stdout",
     "output_type": "stream",
     "text": [
      "finish 68 with num of GBs 65, and collected num of GBs 1722\n",
      "key num start with 1263\n",
      "key num end with 71\n"
     ]
    },
    {
     "name": "stderr",
     "output_type": "stream",
     "text": [
      "100%|██████████| 71/71 [00:00<00:00, 446470.14it/s]"
     ]
    },
    {
     "name": "stdout",
     "output_type": "stream",
     "text": [
      "finish 69 with num of GBs 71, and collected num of GBs 1733\n",
      "key num start with 1246\n",
      "key num end with 58\n"
     ]
    },
    {
     "name": "stderr",
     "output_type": "stream",
     "text": [
      "\n",
      "100%|██████████| 58/58 [00:00<00:00, 424554.33it/s]\n"
     ]
    },
    {
     "name": "stdout",
     "output_type": "stream",
     "text": [
      "finish 70 with num of GBs 58, and collected num of GBs 1739\n",
      "key num start with 1233\n",
      "key num end with 60\n"
     ]
    },
    {
     "name": "stderr",
     "output_type": "stream",
     "text": [
      "100%|██████████| 60/60 [00:00<00:00, 420833.18it/s]\n"
     ]
    },
    {
     "name": "stdout",
     "output_type": "stream",
     "text": [
      "finish 71 with num of GBs 60, and collected num of GBs 1745\n",
      "key num start with 1213\n",
      "key num end with 75\n"
     ]
    },
    {
     "name": "stderr",
     "output_type": "stream",
     "text": [
      "100%|██████████| 75/75 [00:00<00:00, 409600.00it/s]\n"
     ]
    },
    {
     "name": "stdout",
     "output_type": "stream",
     "text": [
      "finish 72 with num of GBs 75, and collected num of GBs 1754\n",
      "key num start with 1201\n",
      "key num end with 76\n"
     ]
    },
    {
     "name": "stderr",
     "output_type": "stream",
     "text": [
      "100%|██████████| 76/76 [00:00<00:00, 442118.04it/s]\n"
     ]
    },
    {
     "name": "stdout",
     "output_type": "stream",
     "text": [
      "finish 73 with num of GBs 76, and collected num of GBs 1758\n",
      "key num start with 1179\n",
      "key num end with 80\n"
     ]
    },
    {
     "name": "stderr",
     "output_type": "stream",
     "text": [
      "100%|██████████| 80/80 [00:00<00:00, 414764.30it/s]"
     ]
    },
    {
     "name": "stdout",
     "output_type": "stream",
     "text": [
      "finish 74 with num of GBs 80, and collected num of GBs 1770\n",
      "key num start with 1150\n",
      "key num end with 47\n"
     ]
    },
    {
     "name": "stderr",
     "output_type": "stream",
     "text": [
      "\n",
      "100%|██████████| 47/47 [00:00<00:00, 380564.26it/s]\n"
     ]
    },
    {
     "name": "stdout",
     "output_type": "stream",
     "text": [
      "finish 75 with num of GBs 47, and collected num of GBs 1774\n",
      "key num start with 1137\n",
      "key num end with 59\n"
     ]
    },
    {
     "name": "stderr",
     "output_type": "stream",
     "text": [
      "100%|██████████| 59/59 [00:00<00:00, 402380.38it/s]\n"
     ]
    },
    {
     "name": "stdout",
     "output_type": "stream",
     "text": [
      "finish 76 with num of GBs 59, and collected num of GBs 1782\n",
      "key num start with 1112\n",
      "key num end with 58\n"
     ]
    },
    {
     "name": "stderr",
     "output_type": "stream",
     "text": [
      "100%|██████████| 58/58 [00:00<00:00, 364176.10it/s]\n"
     ]
    },
    {
     "name": "stdout",
     "output_type": "stream",
     "text": [
      "finish 77 with num of GBs 58, and collected num of GBs 1788\n",
      "key num start with 1112\n",
      "key num end with 67\n"
     ]
    },
    {
     "name": "stderr",
     "output_type": "stream",
     "text": [
      "100%|██████████| 67/67 [00:00<00:00, 435012.95it/s]\n"
     ]
    },
    {
     "name": "stdout",
     "output_type": "stream",
     "text": [
      "finish 78 with num of GBs 67, and collected num of GBs 1793\n",
      "key num start with 1097\n",
      "key num end with 68\n"
     ]
    },
    {
     "name": "stderr",
     "output_type": "stream",
     "text": [
      "100%|██████████| 68/68 [00:00<00:00, 410969.27it/s]\n"
     ]
    },
    {
     "name": "stdout",
     "output_type": "stream",
     "text": [
      "finish 79 with num of GBs 68, and collected num of GBs 1804\n",
      "key num start with 1086\n",
      "key num end with 61\n"
     ]
    },
    {
     "name": "stderr",
     "output_type": "stream",
     "text": [
      "100%|██████████| 61/61 [00:00<00:00, 426420.91it/s]\n"
     ]
    },
    {
     "name": "stdout",
     "output_type": "stream",
     "text": [
      "finish 80 with num of GBs 61, and collected num of GBs 1808\n",
      "key num start with 1065\n",
      "key num end with 64\n"
     ]
    },
    {
     "name": "stderr",
     "output_type": "stream",
     "text": [
      "100%|██████████| 64/64 [00:00<00:00, 426765.43it/s]\n"
     ]
    },
    {
     "name": "stdout",
     "output_type": "stream",
     "text": [
      "finish 81 with num of GBs 64, and collected num of GBs 1816\n",
      "key num start with 1047\n",
      "key num end with 64\n"
     ]
    },
    {
     "name": "stderr",
     "output_type": "stream",
     "text": [
      "100%|██████████| 64/64 [00:00<00:00, 455747.80it/s]\n"
     ]
    },
    {
     "name": "stdout",
     "output_type": "stream",
     "text": [
      "finish 82 with num of GBs 64, and collected num of GBs 1821\n",
      "key num start with 1047\n",
      "key num end with 45\n"
     ]
    },
    {
     "name": "stderr",
     "output_type": "stream",
     "text": [
      "100%|██████████| 45/45 [00:00<00:00, 367921.40it/s]\n"
     ]
    },
    {
     "name": "stdout",
     "output_type": "stream",
     "text": [
      "finish 83 with num of GBs 45, and collected num of GBs 1826\n",
      "key num start with 1031\n",
      "key num end with 53\n"
     ]
    },
    {
     "name": "stderr",
     "output_type": "stream",
     "text": [
      "100%|██████████| 53/53 [00:00<00:00, 416288.60it/s]\n"
     ]
    },
    {
     "name": "stdout",
     "output_type": "stream",
     "text": [
      "finish 84 with num of GBs 53, and collected num of GBs 1834\n",
      "key num start with 1022\n",
      "key num end with 47\n"
     ]
    },
    {
     "name": "stderr",
     "output_type": "stream",
     "text": [
      "100%|██████████| 47/47 [00:00<00:00, 353283.67it/s]\n"
     ]
    },
    {
     "name": "stdout",
     "output_type": "stream",
     "text": [
      "finish 85 with num of GBs 47, and collected num of GBs 1837\n",
      "key num start with 1015\n",
      "key num end with 54\n"
     ]
    },
    {
     "name": "stderr",
     "output_type": "stream",
     "text": [
      "100%|██████████| 54/54 [00:00<00:00, 385191.18it/s]\n"
     ]
    },
    {
     "name": "stdout",
     "output_type": "stream",
     "text": [
      "finish 86 with num of GBs 54, and collected num of GBs 1840\n",
      "key num start with 1003\n",
      "key num end with 53\n"
     ]
    },
    {
     "name": "stderr",
     "output_type": "stream",
     "text": [
      "100%|██████████| 53/53 [00:00<00:00, 420223.27it/s]\n"
     ]
    },
    {
     "name": "stdout",
     "output_type": "stream",
     "text": [
      "finish 87 with num of GBs 53, and collected num of GBs 1846\n",
      "key num start with 983\n",
      "key num end with 58\n"
     ]
    },
    {
     "name": "stderr",
     "output_type": "stream",
     "text": [
      "100%|██████████| 58/58 [00:00<00:00, 406805.40it/s]\n"
     ]
    },
    {
     "name": "stdout",
     "output_type": "stream",
     "text": [
      "finish 88 with num of GBs 58, and collected num of GBs 1857\n",
      "key num start with 962\n",
      "key num end with 45\n"
     ]
    },
    {
     "name": "stderr",
     "output_type": "stream",
     "text": [
      "100%|██████████| 45/45 [00:00<00:00, 361577.93it/s]\n"
     ]
    },
    {
     "name": "stdout",
     "output_type": "stream",
     "text": [
      "finish 89 with num of GBs 45, and collected num of GBs 1863\n",
      "key num start with 949\n",
      "key num end with 43\n"
     ]
    },
    {
     "name": "stderr",
     "output_type": "stream",
     "text": [
      "100%|██████████| 43/43 [00:00<00:00, 375739.73it/s]\n"
     ]
    },
    {
     "name": "stdout",
     "output_type": "stream",
     "text": [
      "finish 90 with num of GBs 43, and collected num of GBs 1868\n",
      "key num start with 932\n",
      "key num end with 49\n"
     ]
    },
    {
     "name": "stderr",
     "output_type": "stream",
     "text": [
      "100%|██████████| 49/49 [00:00<00:00, 392965.38it/s]\n"
     ]
    },
    {
     "name": "stdout",
     "output_type": "stream",
     "text": [
      "finish 91 with num of GBs 49, and collected num of GBs 1871\n",
      "key num start with 926\n",
      "key num end with 42\n"
     ]
    },
    {
     "name": "stderr",
     "output_type": "stream",
     "text": [
      "100%|██████████| 42/42 [00:00<00:00, 377217.92it/s]\n"
     ]
    },
    {
     "name": "stdout",
     "output_type": "stream",
     "text": [
      "finish 92 with num of GBs 42, and collected num of GBs 1873\n",
      "key num start with 923\n",
      "key num end with 34\n"
     ]
    },
    {
     "name": "stderr",
     "output_type": "stream",
     "text": [
      "100%|██████████| 34/34 [00:00<00:00, 346974.05it/s]\n"
     ]
    },
    {
     "name": "stdout",
     "output_type": "stream",
     "text": [
      "finish 93 with num of GBs 34, and collected num of GBs 1874\n",
      "key num start with 902\n",
      "key num end with 43\n"
     ]
    },
    {
     "name": "stderr",
     "output_type": "stream",
     "text": [
      "100%|██████████| 43/43 [00:00<00:00, 391225.75it/s]\n"
     ]
    },
    {
     "name": "stdout",
     "output_type": "stream",
     "text": [
      "finish 94 with num of GBs 43, and collected num of GBs 1876\n",
      "key num start with 893\n",
      "key num end with 46\n"
     ]
    },
    {
     "name": "stderr",
     "output_type": "stream",
     "text": [
      "100%|██████████| 46/46 [00:00<00:00, 385105.76it/s]\n"
     ]
    },
    {
     "name": "stdout",
     "output_type": "stream",
     "text": [
      "finish 95 with num of GBs 46, and collected num of GBs 1887\n",
      "key num start with 880\n",
      "key num end with 40\n"
     ]
    },
    {
     "name": "stderr",
     "output_type": "stream",
     "text": [
      "100%|██████████| 40/40 [00:00<00:00, 310114.90it/s]\n"
     ]
    },
    {
     "name": "stdout",
     "output_type": "stream",
     "text": [
      "finish 96 with num of GBs 40, and collected num of GBs 1892\n",
      "key num start with 880\n",
      "key num end with 39\n"
     ]
    },
    {
     "name": "stderr",
     "output_type": "stream",
     "text": [
      "100%|██████████| 39/39 [00:00<00:00, 366766.49it/s]\n"
     ]
    },
    {
     "name": "stdout",
     "output_type": "stream",
     "text": [
      "finish 97 with num of GBs 39, and collected num of GBs 1897\n",
      "key num start with 877\n",
      "key num end with 46\n"
     ]
    },
    {
     "name": "stderr",
     "output_type": "stream",
     "text": [
      "100%|██████████| 46/46 [00:00<00:00, 365412.85it/s]\n"
     ]
    },
    {
     "name": "stdout",
     "output_type": "stream",
     "text": [
      "finish 98 with num of GBs 46, and collected num of GBs 1904\n",
      "key num start with 869\n",
      "key num end with 40\n"
     ]
    },
    {
     "name": "stderr",
     "output_type": "stream",
     "text": [
      "100%|██████████| 40/40 [00:00<00:00, 370357.97it/s]\n"
     ]
    },
    {
     "name": "stdout",
     "output_type": "stream",
     "text": [
      "finish 99 with num of GBs 40, and collected num of GBs 1906\n",
      "key num start with 870\n",
      "key num end with 43\n"
     ]
    },
    {
     "name": "stderr",
     "output_type": "stream",
     "text": [
      "100%|██████████| 43/43 [00:00<00:00, 360710.14it/s]\n"
     ]
    },
    {
     "name": "stdout",
     "output_type": "stream",
     "text": [
      "finish 100 with num of GBs 43, and collected num of GBs 1910\n",
      "key num start with 853\n",
      "key num end with 36\n"
     ]
    },
    {
     "name": "stderr",
     "output_type": "stream",
     "text": [
      "100%|██████████| 36/36 [00:00<00:00, 359511.77it/s]\n"
     ]
    },
    {
     "name": "stdout",
     "output_type": "stream",
     "text": [
      "finish 101 with num of GBs 36, and collected num of GBs 1913\n",
      "key num start with 847\n",
      "key num end with 35\n"
     ]
    },
    {
     "name": "stderr",
     "output_type": "stream",
     "text": [
      "100%|██████████| 35/35 [00:00<00:00, 343795.41it/s]"
     ]
    },
    {
     "name": "stdout",
     "output_type": "stream",
     "text": [
      "finish 102 with num of GBs 35, and collected num of GBs 1917\n",
      "key num start with 833\n",
      "key num end with 29\n"
     ]
    },
    {
     "name": "stderr",
     "output_type": "stream",
     "text": [
      "\n",
      "100%|██████████| 29/29 [00:00<00:00, 290297.89it/s]\n"
     ]
    },
    {
     "name": "stdout",
     "output_type": "stream",
     "text": [
      "finish 103 with num of GBs 29, and collected num of GBs 1918\n",
      "key num start with 835\n",
      "key num end with 42\n"
     ]
    },
    {
     "name": "stderr",
     "output_type": "stream",
     "text": [
      "100%|██████████| 42/42 [00:00<00:00, 363968.53it/s]\n"
     ]
    },
    {
     "name": "stdout",
     "output_type": "stream",
     "text": [
      "finish 104 with num of GBs 42, and collected num of GBs 1921\n",
      "key num start with 835\n",
      "key num end with 22\n"
     ]
    },
    {
     "name": "stderr",
     "output_type": "stream",
     "text": [
      "100%|██████████| 22/22 [00:00<00:00, 273002.04it/s]\n"
     ]
    },
    {
     "name": "stdout",
     "output_type": "stream",
     "text": [
      "finish 105 with num of GBs 22, and collected num of GBs 1925\n",
      "key num start with 816\n",
      "key num end with 38\n"
     ]
    },
    {
     "name": "stderr",
     "output_type": "stream",
     "text": [
      "100%|██████████| 38/38 [00:00<00:00, 312516.77it/s]\n"
     ]
    },
    {
     "name": "stdout",
     "output_type": "stream",
     "text": [
      "finish 106 with num of GBs 38, and collected num of GBs 1927\n",
      "key num start with 805\n",
      "key num end with 44\n"
     ]
    },
    {
     "name": "stderr",
     "output_type": "stream",
     "text": [
      "100%|██████████| 44/44 [00:00<00:00, 347550.61it/s]\n"
     ]
    },
    {
     "name": "stdout",
     "output_type": "stream",
     "text": [
      "finish 107 with num of GBs 44, and collected num of GBs 1930\n",
      "key num start with 807\n",
      "key num end with 34\n"
     ]
    },
    {
     "name": "stderr",
     "output_type": "stream",
     "text": [
      "100%|██████████| 34/34 [00:00<00:00, 343629.73it/s]\n"
     ]
    },
    {
     "name": "stdout",
     "output_type": "stream",
     "text": [
      "finish 108 with num of GBs 34, and collected num of GBs 1933\n",
      "key num start with 796\n",
      "key num end with 32\n"
     ]
    },
    {
     "name": "stderr",
     "output_type": "stream",
     "text": [
      "100%|██████████| 32/32 [00:00<00:00, 328160.70it/s]\n"
     ]
    },
    {
     "name": "stdout",
     "output_type": "stream",
     "text": [
      "finish 109 with num of GBs 32, and collected num of GBs 1939\n",
      "key num start with 789\n",
      "key num end with 44\n"
     ]
    },
    {
     "name": "stderr",
     "output_type": "stream",
     "text": [
      "100%|██████████| 44/44 [00:00<00:00, 337384.60it/s]\n"
     ]
    },
    {
     "name": "stdout",
     "output_type": "stream",
     "text": [
      "finish 110 with num of GBs 44, and collected num of GBs 1946\n",
      "key num start with 791\n",
      "key num end with 33\n"
     ]
    },
    {
     "name": "stderr",
     "output_type": "stream",
     "text": [
      "100%|██████████| 33/33 [00:00<00:00, 336768.93it/s]\n"
     ]
    },
    {
     "name": "stdout",
     "output_type": "stream",
     "text": [
      "finish 111 with num of GBs 33, and collected num of GBs 1948\n",
      "key num start with 787\n",
      "key num end with 37\n"
     ]
    },
    {
     "name": "stderr",
     "output_type": "stream",
     "text": [
      "100%|██████████| 37/37 [00:00<00:00, 356756.89it/s]\n"
     ]
    },
    {
     "name": "stdout",
     "output_type": "stream",
     "text": [
      "finish 112 with num of GBs 37, and collected num of GBs 1952\n",
      "key num start with 777\n",
      "key num end with 29\n"
     ]
    },
    {
     "name": "stderr",
     "output_type": "stream",
     "text": [
      "100%|██████████| 29/29 [00:00<00:00, 314301.85it/s]\n"
     ]
    },
    {
     "name": "stdout",
     "output_type": "stream",
     "text": [
      "finish 113 with num of GBs 29, and collected num of GBs 1954\n",
      "key num start with 772\n",
      "key num end with 41\n"
     ]
    },
    {
     "name": "stderr",
     "output_type": "stream",
     "text": [
      "100%|██████████| 41/41 [00:00<00:00, 367449.71it/s]\n"
     ]
    },
    {
     "name": "stdout",
     "output_type": "stream",
     "text": [
      "finish 114 with num of GBs 41, and collected num of GBs 1957\n",
      "key num start with 758\n",
      "key num end with 42\n"
     ]
    },
    {
     "name": "stderr",
     "output_type": "stream",
     "text": [
      "100%|██████████| 42/42 [00:00<00:00, 358779.57it/s]\n"
     ]
    },
    {
     "name": "stdout",
     "output_type": "stream",
     "text": [
      "finish 115 with num of GBs 42, and collected num of GBs 1962\n",
      "key num start with 753\n",
      "key num end with 30\n"
     ]
    },
    {
     "name": "stderr",
     "output_type": "stream",
     "text": [
      "100%|██████████| 30/30 [00:00<00:00, 301748.49it/s]"
     ]
    },
    {
     "name": "stdout",
     "output_type": "stream",
     "text": [
      "finish 116 with num of GBs 30, and collected num of GBs 1967\n",
      "key num start with 746\n",
      "key num end with 30\n"
     ]
    },
    {
     "name": "stderr",
     "output_type": "stream",
     "text": [
      "\n",
      "100%|██████████| 30/30 [00:00<00:00, 353452.58it/s]\n"
     ]
    },
    {
     "name": "stdout",
     "output_type": "stream",
     "text": [
      "finish 117 with num of GBs 30, and collected num of GBs 1968\n",
      "key num start with 733\n",
      "key num end with 35\n"
     ]
    },
    {
     "name": "stderr",
     "output_type": "stream",
     "text": [
      "100%|██████████| 35/35 [00:00<00:00, 332881.27it/s]\n"
     ]
    },
    {
     "name": "stdout",
     "output_type": "stream",
     "text": [
      "finish 118 with num of GBs 35, and collected num of GBs 1968\n",
      "key num start with 730\n",
      "key num end with 32\n"
     ]
    },
    {
     "name": "stderr",
     "output_type": "stream",
     "text": [
      "100%|██████████| 32/32 [00:00<00:00, 350437.93it/s]"
     ]
    },
    {
     "name": "stdout",
     "output_type": "stream",
     "text": [
      "finish 119 with num of GBs 32, and collected num of GBs 1968\n"
     ]
    },
    {
     "name": "stderr",
     "output_type": "stream",
     "text": [
      "\n"
     ]
    }
   ],
   "source": [
    "    from numba import njit, prange\n",
    "    import multiprocessing as mp\n",
    "    \n",
    "    @njit(parallel=True)\n",
    "    def compute_dV(npy_file_aniso_current,npy_file_aniso_next, pair_id_pair):\n",
    "        growth_direction1 = (npy_file_aniso_current == pair_id_pair[0]) & (npy_file_aniso_next == pair_id_pair[1])\n",
    "        growth_direction2 = (npy_file_aniso_current == pair_id_pair[1]) & (npy_file_aniso_next == pair_id_pair[0])\n",
    "        return np.sum(growth_direction1) - np.sum(growth_direction2)\n",
    "    \n",
    "    @njit(parallel=True)\n",
    "    def compute_dV_split(npy_file_aniso_current,npy_file_aniso_next, pair_id_pair):\n",
    "        growth_direction1 = (npy_file_aniso_current == pair_id_pair[0]) & (npy_file_aniso_next == pair_id_pair[1])\n",
    "        growth_direction2 = (npy_file_aniso_current == pair_id_pair[1]) & (npy_file_aniso_next == pair_id_pair[0])\n",
    "        return np.sum(growth_direction1) - np.sum(growth_direction2), np.sum(growth_direction1), np.sum(growth_direction2)\n",
    "    \n",
    "    def compute_necessary_info(key,time_interval,\n",
    "                               GB_infomation_dict_list_one_step_one_key,\n",
    "                               GBenergy_information_dict_list_one_step_one_key,\n",
    "                               npy_file_aniso_current,\n",
    "                               npy_file_aniso_next):\n",
    "        \n",
    "        \n",
    "        # Calculate dV and velocity\n",
    "        dV = compute_dV(npy_file_aniso_current,npy_file_aniso_next,GB_infomation_dict_list_one_step_one_key[6:8])\n",
    "        velocity = dV/time_interval/(GB_infomation_dict_list_one_step_one_key[5]/2)\n",
    "        # keep curvature\n",
    "        current_curvature_value = GB_infomation_dict_list_one_step_one_key[4]\n",
    "        # keep GB energy\n",
    "        current_eng = GBenergy_information_dict_list_one_step_one_key[4]\n",
    "        \n",
    "        result = {\n",
    "            \"key\": key,\n",
    "            \"velocity\": velocity,\n",
    "            \"current_curvature_value\": current_curvature_value,\n",
    "            \"current_eng\": current_eng,\n",
    "            \"is_anti_curvature\": current_curvature_value * velocity < -1e-4\n",
    "        }\n",
    "        \n",
    "        return result\n",
    "    \n",
    "    def compute_necessary_info_split(key,time_interval,\n",
    "                               GB_infomation_dict_list_one_step_one_key,\n",
    "                               GBenergy_information_dict_list_one_step_one_key,\n",
    "                               npy_file_aniso_current,\n",
    "                               npy_file_aniso_next):\n",
    "        \n",
    "        \n",
    "        # Calculate dV and velocity\n",
    "        dV, dV_direction1, dV_direction2 = compute_dV_split(npy_file_aniso_current,npy_file_aniso_next,GB_infomation_dict_list_one_step_one_key[6:8])\n",
    "        velocity = dV/time_interval/(GB_infomation_dict_list_one_step_one_key[5]/2)\n",
    "        # keep curvature\n",
    "        current_curvature_value = GB_infomation_dict_list_one_step_one_key[4]\n",
    "        # keep GB energy\n",
    "        current_eng = GBenergy_information_dict_list_one_step_one_key[4]\n",
    "        \n",
    "        result = {\n",
    "            \"key\": key,\n",
    "            \"velocity\": velocity,\n",
    "            \"dV_direction1\": dV_direction1,\n",
    "            \"dV_direction2\": dV_direction2,\n",
    "            \"current_curvature_value\": current_curvature_value,\n",
    "            \"current_eng\": current_eng,\n",
    "            \"is_anti_curvature\": current_curvature_value * velocity < -1e-4\n",
    "        }\n",
    "        \n",
    "        return result\n",
    "    \n",
    "    # if __name__ == '__main__':\n",
    "    time_interval = 30\n",
    "    curvature_limit = 0.0182\n",
    "    area_limit = 100\n",
    "    # store all GB points, include curvature and anti-curvature(include randomness points)\n",
    "    GB_list_velocity_list = []\n",
    "    GB_list_curvature_list = []\n",
    "    GB_list_GBenergy_list = []\n",
    "    GB_list_area_list = []\n",
    "    GB_list_dV_direction1 = []\n",
    "    GB_list_dV_direction2 = []\n",
    "    # store anti-curvature GBs in dictionary\n",
    "    GB_id_focus = dict()\n",
    "    GB_id_focus_detail = dict()\n",
    "    GB_filter_kernel = [set(),set(),set(),set(),set()]\n",
    "    dV_dict = []\n",
    "    for time_step in range(step_num):\n",
    "        if time_step+1 >= step_num: continue\n",
    "        GB_list_velocity_list_tmp = []\n",
    "        GB_list_curvature_list_tmp = []\n",
    "        GB_list_GBenergy_list_tmp = []\n",
    "        GB_list_area_list_tmp = []\n",
    "        GB_list_dV_direction1_tmp = []\n",
    "        GB_list_dV_direction2_tmp = []\n",
    "        key_set = set()\n",
    "\n",
    "        # MP\n",
    "        # remove disappeared GBs and low area GBs and remove low curvature\n",
    "        print(f\"key num start with {len(GB_infomation_dict_list[time_step])}\")\n",
    "        tmp_GB_infomation_dict_for_mp = {}\n",
    "        tmp_GBenergy_information_dict_for_mp = {}\n",
    "        for key in GB_infomation_dict_list[time_step]:\n",
    "            if (GB_infomation_dict_list[time_step][key][5] < area_limit or \n",
    "                GB_infomation_dict_list[time_step+1].get(key) is None or \n",
    "                abs(GB_infomation_dict_list[time_step][key][4]) < curvature_limit): \n",
    "                continue\n",
    "            tmp_GB_infomation_dict_for_mp[key] = GB_infomation_dict_list[time_step][key]\n",
    "            tmp_GBenergy_information_dict_for_mp[key] = GBenergy_information_dict_list[time_step][key]\n",
    "        print(f\"key num end with {len(tmp_GB_infomation_dict_for_mp)}\")\n",
    "        # run key\n",
    "        dV_dict_file_name = f\"GB_velocity_data/2D_dV_split_data_{case_name}_areaLimit{area_limit}_step{time_step}.npz\"\n",
    "        if os.path.exists(data_file_folder + dV_dict_file_name):\n",
    "            npz_file = np.load(data_file_folder + dV_dict_file_name,allow_pickle=True)\n",
    "            dV_dict_tmp = npz_file[\"dV_dict_tmp\"]\n",
    "            dV_dict_tmp=dV_dict_tmp.item()\n",
    "        else:\n",
    "            dV_dict_tmp = {}\n",
    "        for key in tqdm(tmp_GB_infomation_dict_for_mp):\n",
    "            if key in dV_dict_tmp:\n",
    "                result = dV_dict_tmp[key]\n",
    "            else:\n",
    "                result = compute_necessary_info_split(key,time_interval,tmp_GB_infomation_dict_for_mp[key],tmp_GBenergy_information_dict_for_mp[key],npy_file_aniso[time_step],npy_file_aniso[time_step+1])\n",
    "                dV_dict_tmp[key] = result\n",
    "            \n",
    "            # Store these results remove ways-area,lowCurvature\n",
    "            GB_list_velocity_list_tmp.append(result[\"velocity\"])\n",
    "            GB_list_curvature_list_tmp.append(result[\"current_curvature_value\"])\n",
    "            GB_list_GBenergy_list_tmp.append(result[\"current_eng\"])\n",
    "            GB_list_dV_direction1_tmp.append(result[\"dV_direction1\"])\n",
    "            GB_list_dV_direction2_tmp.append(result[\"dV_direction2\"])\n",
    "            \n",
    "            # calculate GB area and store it\n",
    "            current_GB_area = 0.5*tmp_GB_infomation_dict_for_mp[key][0]\n",
    "            GB_list_area_list_tmp.append(current_GB_area)\n",
    "\n",
    "\n",
    "            # keep anti-curvature GB info\n",
    "            if result[\"is_anti_curvature\"]: \n",
    "                key_set.add(key)\n",
    "                if time_step >= step_num-3: continue\n",
    "                if key in GB_id_focus: \n",
    "                    GB_id_focus[key] += 1\n",
    "                    GB_id_focus_detail[key].append(time_step)\n",
    "                else: \n",
    "                    GB_id_focus[key] = 1\n",
    "                    GB_id_focus_detail[key] = [time_step]\n",
    "        if not os.path.exists(data_file_folder + dV_dict_file_name):\n",
    "            np.savez(data_file_folder + dV_dict_file_name, dV_dict_tmp=dV_dict_tmp)\n",
    "\n",
    "        # keep all GBs after ways-area,lowCurvature\n",
    "        dV_dict.append(dV_dict_tmp)\n",
    "        GB_list_velocity_list.append(GB_list_velocity_list_tmp)\n",
    "        GB_list_curvature_list.append(GB_list_curvature_list_tmp)\n",
    "        GB_list_GBenergy_list.append(GB_list_GBenergy_list_tmp)\n",
    "        GB_list_area_list.append(GB_list_area_list_tmp)\n",
    "        GB_list_dV_direction1.append(GB_list_dV_direction1_tmp)\n",
    "        GB_list_dV_direction2.append(GB_list_dV_direction2_tmp)\n",
    "\n",
    "        GB_filter_kernel[0:4] = GB_filter_kernel[1:]\n",
    "        GB_filter_kernel[4] = key_set\n",
    "        # # filter the anti-curvature GB with 11111\n",
    "        # filtered_set = GB_filter_kernel[2] - (GB_filter_kernel[0]&GB_filter_kernel[1]&GB_filter_kernel[3]&GB_filter_kernel[4]&GB_filter_kernel[2])\n",
    "        # # filter the anti-curvature GB with 00100\n",
    "        filtered_set = GB_filter_kernel[2] - (GB_filter_kernel[0]|GB_filter_kernel[1]|GB_filter_kernel[3]|GB_filter_kernel[4])\n",
    "        # # filter the anti-curvature GB with 01100\n",
    "        # filtered_set1 = GB_filter_kernel[2] - (GB_filter_kernel[0]|GB_filter_kernel[3]|GB_filter_kernel[4])\n",
    "        # # filter the anti-curvature GB with 00110\n",
    "        # filtered_set2 = GB_filter_kernel[2] - (GB_filter_kernel[0]|GB_filter_kernel[1]|GB_filter_kernel[4])\n",
    "        # filtered_set = filtered_set0|filtered_set1|filtered_set2\n",
    "        # # filter the anti-curvature GB with 010\n",
    "        # filtered_set = GB_filter_kernel[2] - (GB_filter_kernel[1]|GB_filter_kernel[3])\n",
    "        \n",
    "        for key in filtered_set: \n",
    "            GB_id_focus[key] -= 1\n",
    "            GB_id_focus_detail[key].remove(time_step-2)\n",
    "        print(f\"finish {time_step} with num of GBs {len(GB_list_velocity_list_tmp)}, and collected num of GBs {len(GB_id_focus)}\")\n",
    "\n",
    "\n",
    "    # filter the GBs in GB_id_focus without anti-curvature behavior after 00100\n",
    "    GB_id_focus_copy = GB_id_focus.copy()\n",
    "    for key in GB_id_focus_copy:\n",
    "        if GB_id_focus_copy[key] <=0:\n",
    "            GB_id_focus.pop(key)\n",
    "            GB_id_focus_detail.pop(key)\n",
    "\n",
    "    # add the last two steps for exclude data\n",
    "    # GB_list_velocity_list_exrandom.extend(GB_list_velocity_list[-2:])\n",
    "    # GB_list_curvature_list_exrandom.extend(GB_list_curvature_list[-2:])\n",
    "    # GB_list_GBenergy_list_exrandom.extend(GB_list_GBenergy_list[-2:])\n"
   ]
  },
  {
   "cell_type": "code",
   "execution_count": 7,
   "id": "718362f0-b4ce-4839-afff-c0a4992d4187",
   "metadata": {},
   "outputs": [
    {
     "name": "stderr",
     "output_type": "stream",
     "text": [
      "100%|██████████| 121/121 [00:00<00:00, 918.96it/s]\n"
     ]
    }
   ],
   "source": [
    "    time_interval = 30\n",
    "    # anti_c GBs grabing\n",
    "    GB_antic_list_velocity_AllList = []\n",
    "    GB_antic_list_curvature_AllList = []\n",
    "    GB_antic_list_GBenergy_AllList = []\n",
    "    GB_antic_list_anticNum_AllList = []\n",
    "    GB_antic_list_area_AllList = []\n",
    "    GB_antic_list_dV_normD_AllList = []\n",
    "    GB_antic_list_dV_antiD_AllList = []\n",
    "    \n",
    "    GB_antic_list_velocity_list = []\n",
    "    GB_antic_list_curvature_list = []\n",
    "    GB_antic_list_GBenergy_list = []\n",
    "    GB_antic_list_anticNum_list = []\n",
    "    GB_antic_list_area_list = []\n",
    "    GB_antic_list_dV_normD_list = []\n",
    "    GB_antic_list_dV_antiD_list = []\n",
    "    \n",
    "    # norn_c GBs grabing\n",
    "    GB_normc_list_velocity_AllList = []\n",
    "    GB_normc_list_curvature_AllList = []\n",
    "    GB_normc_list_GBenergy_AllList = []\n",
    "    GB_normc_list_area_AllList = []\n",
    "    GB_normc_list_dV_normD_AllList = []\n",
    "    GB_normc_list_dV_antiD_AllList = []\n",
    "    \n",
    "    GB_normc_list_velocity_list = []\n",
    "    GB_normc_list_curvature_list = []\n",
    "    GB_normc_list_GBenergy_list = []\n",
    "    GB_normc_list_area_list = []\n",
    "    GB_normc_list_dV_normD_list = []\n",
    "    GB_normc_list_dV_antiD_list = []\n",
    "    for time_step in tqdm(range(step_num)):\n",
    "        if time_step+1 >= step_num: continue\n",
    "        # read the info data\n",
    "        dV_dict_file_name = f\"GB_velocity_data/2D_dV_split_data_{case_name}_areaLimit{area_limit}_step{time_step}.npz\"\n",
    "        npz_file = np.load(data_file_folder + dV_dict_file_name,allow_pickle=True)\n",
    "        dV_dict_tmp = npz_file[\"dV_dict_tmp\"]\n",
    "        dV_dict_tmp = dV_dict_tmp.item()\n",
    "        \n",
    "        tmp_GB_antic_list_velocity = []\n",
    "        tmp_GB_antic_list_curvature = []\n",
    "        tmp_GB_antic_list_GBenergy = []\n",
    "        tmp_GB_antic_list_anticNum = []\n",
    "        tmp_GB_antic_list_area = []\n",
    "        tmp_GB_antic_list_dV_normD = []\n",
    "        tmp_GB_antic_list_dV_antiD = []\n",
    "        \n",
    "        # anti_c\n",
    "        for key in GB_id_focus_detail:\n",
    "            if time_step in GB_id_focus_detail[key]:\n",
    "                \n",
    "                result = dV_dict_tmp[key]\n",
    "                velocity = result[\"velocity\"]\n",
    "                current_curvature_value = result[\"current_curvature_value\"]\n",
    "                current_area = 0.5*GB_infomation_dict_list[time_step][key][0]\n",
    "                dV_direction1 = result[\"dV_direction1\"]\n",
    "                dV_direction2 = result[\"dV_direction2\"]\n",
    "                \n",
    "                # change the sign of the velocity by curvature\n",
    "                if current_curvature_value < 0: \n",
    "                    GB_antic_list_velocity_list.append(-velocity)\n",
    "                    GB_antic_list_curvature_list.append(-current_curvature_value)\n",
    "                    GB_antic_list_dV_normD_list.append(dV_direction2)\n",
    "                    GB_antic_list_dV_antiD_list.append(dV_direction1)\n",
    "                    tmp_GB_antic_list_velocity.append(-velocity)\n",
    "                    tmp_GB_antic_list_curvature.append(-current_curvature_value)\n",
    "                    tmp_GB_antic_list_dV_normD.append(dV_direction2)\n",
    "                    tmp_GB_antic_list_dV_antiD.append(dV_direction1)\n",
    "                else: \n",
    "                    GB_antic_list_velocity_list.append(velocity)\n",
    "                    GB_antic_list_curvature_list.append(current_curvature_value)\n",
    "                    GB_antic_list_dV_normD_list.append(dV_direction1)\n",
    "                    GB_antic_list_dV_antiD_list.append(dV_direction2)\n",
    "                    tmp_GB_antic_list_velocity.append(velocity)\n",
    "                    tmp_GB_antic_list_curvature.append(current_curvature_value)\n",
    "                    tmp_GB_antic_list_dV_normD.append(dV_direction1)\n",
    "                    tmp_GB_antic_list_dV_antiD.append(dV_direction2)\n",
    "                GB_antic_list_GBenergy_list.append(result[\"current_eng\"])\n",
    "                GB_antic_list_anticNum_list.append(GB_id_focus[key])\n",
    "                GB_antic_list_area_list.append(current_area)\n",
    "                tmp_GB_antic_list_GBenergy.append(result[\"current_eng\"])\n",
    "                tmp_GB_antic_list_anticNum.append(GB_id_focus[key])\n",
    "                tmp_GB_antic_list_area.append(current_area)\n",
    "            \n",
    "        GB_antic_list_velocity_AllList.append(tmp_GB_antic_list_velocity)\n",
    "        GB_antic_list_curvature_AllList.append(tmp_GB_antic_list_curvature)\n",
    "        GB_antic_list_GBenergy_AllList.append(tmp_GB_antic_list_GBenergy)\n",
    "        GB_antic_list_anticNum_AllList.append(tmp_GB_antic_list_anticNum)\n",
    "        GB_antic_list_area_AllList.append(tmp_GB_antic_list_area)\n",
    "        GB_antic_list_dV_normD_AllList.append(tmp_GB_antic_list_dV_normD)\n",
    "        GB_antic_list_dV_antiD_AllList.append(tmp_GB_antic_list_dV_antiD)\n",
    "        \n",
    "        # norm c\n",
    "        tmp_GB_normc_list_velocity = []\n",
    "        tmp_GB_normc_list_curvature = []\n",
    "        tmp_GB_normc_list_GBenergy = []\n",
    "        tmp_GB_normc_list_area = []\n",
    "        tmp_GB_normc_list_dV_normD = []\n",
    "        tmp_GB_normc_list_dV_antiD = []\n",
    "        \n",
    "        for key in dV_dict_tmp:\n",
    "            result = dV_dict_tmp[key]\n",
    "            velocity = result[\"velocity\"]\n",
    "            current_curvature_value = result[\"current_curvature_value\"]\n",
    "            current_area = 0.5*GB_infomation_dict_list[time_step][key][0]\n",
    "            dV_direction1 = result[\"dV_direction1\"]\n",
    "            dV_direction2 = result[\"dV_direction2\"]\n",
    "            if current_curvature_value * velocity > 0: # norm c\n",
    "                \n",
    "                # change the sign of the velocity by curvature\n",
    "                if current_curvature_value < 0: \n",
    "                    GB_normc_list_velocity_list.append(-velocity)\n",
    "                    GB_normc_list_curvature_list.append(-current_curvature_value)\n",
    "                    GB_normc_list_dV_normD_list.append(dV_direction2)\n",
    "                    GB_normc_list_dV_antiD_list.append(dV_direction1)\n",
    "                    tmp_GB_normc_list_velocity.append(-velocity)\n",
    "                    tmp_GB_normc_list_curvature.append(-current_curvature_value)\n",
    "                    tmp_GB_normc_list_dV_normD.append(dV_direction2)\n",
    "                    tmp_GB_normc_list_dV_antiD.append(dV_direction1)\n",
    "                else: \n",
    "                    GB_normc_list_velocity_list.append(velocity)\n",
    "                    GB_normc_list_curvature_list.append(current_curvature_value)\n",
    "                    GB_normc_list_dV_normD_list.append(dV_direction1)\n",
    "                    GB_normc_list_dV_antiD_list.append(dV_direction2)\n",
    "                    tmp_GB_normc_list_velocity.append(velocity)\n",
    "                    tmp_GB_normc_list_curvature.append(current_curvature_value)\n",
    "                    tmp_GB_normc_list_dV_normD.append(dV_direction1)\n",
    "                    tmp_GB_normc_list_dV_antiD.append(dV_direction2)\n",
    "                GB_normc_list_GBenergy_list.append(result[\"current_eng\"])\n",
    "                GB_normc_list_area_list.append(current_area)\n",
    "                tmp_GB_normc_list_GBenergy.append(result[\"current_eng\"])\n",
    "                tmp_GB_normc_list_area.append(current_area)\n",
    "        \n",
    "        GB_normc_list_velocity_AllList.append(tmp_GB_normc_list_velocity)\n",
    "        GB_normc_list_curvature_AllList.append(tmp_GB_normc_list_curvature)\n",
    "        GB_normc_list_GBenergy_AllList.append(tmp_GB_normc_list_GBenergy)\n",
    "        GB_normc_list_area_AllList.append(tmp_GB_normc_list_area)\n",
    "        GB_normc_list_dV_normD_AllList.append(tmp_GB_normc_list_dV_normD)\n",
    "        GB_normc_list_dV_antiD_AllList.append(tmp_GB_normc_list_dV_antiD)\n",
    "                \n",
    "            \n",
    "        \n",
    "            "
   ]
  },
  {
   "cell_type": "code",
   "execution_count": 8,
   "id": "7f5ceda3-c17c-45ae-ad05-9aaab0112017",
   "metadata": {
    "tags": []
   },
   "outputs": [
    {
     "name": "stdout",
     "output_type": "stream",
     "text": [
      "anti-c GB\n",
      "The number of the GBs showing anti-curvature during whole simulations is 697\n",
      "The ratio of anti-curvature GBs during whole simulations is 0.21182319904694755% in 329048 GBs\n",
      "The ratio of norm-curvature GBs during whole simulations is 2.4646860032578837% in 329048 GBs\n",
      "\n",
      "anti-c GB in real total number\n",
      "The ratio of anti-curvature GBs during whole simulations is 7.914159191552174% in 8807 GBs\n",
      "The ratio of norm-curvature GBs during whole simulations is 92.08584080844783% in 8807 GBs\n",
      "\n",
      "Over all voxels\n",
      "The number of the normal voxels and antic voxels during whole simulations are 1483820 and 769851\n",
      "The ratio of anti-curvature voxels during whole simulations is 34.15986628039319% in 2253671 voxels\n",
      "\n",
      "Voxels on norm-c GBs\n",
      "The number of the normal voxels and antic voxels during whole simulations are 1314597 and 255775\n",
      "The ratio of anti-curvature voxels during whole simulations is 16.287542060097863% in 1570372 voxels\n"
     ]
    }
   ],
   "source": [
    "    print(\"anti-c GB\")\n",
    "    total_GB_num = 0\n",
    "    for time_step in range(step_num):\n",
    "        step_GB = GB_infomation_dict_list[time_step].keys()\n",
    "        total_GB_num += len(step_GB)\n",
    "        \n",
    "    total_GB_num_real = len(GB_antic_list_velocity_list) + len(GB_normc_list_velocity_list)\n",
    "\n",
    "    print(f\"The number of the GBs showing anti-curvature during whole simulations is {len(GB_antic_list_velocity_list)}\")\n",
    "    print(f\"The ratio of anti-curvature GBs during whole simulations is {len(GB_antic_list_velocity_list)/total_GB_num*100}% in {total_GB_num} GBs\")\n",
    "    print(f\"The ratio of norm-curvature GBs during whole simulations is {len(GB_normc_list_velocity_list)/total_GB_num*100}% in {total_GB_num} GBs\")\n",
    "    print()\n",
    "    \n",
    "    print(\"anti-c GB in real total number\")\n",
    "    print(f\"The ratio of anti-curvature GBs during whole simulations is {len(GB_antic_list_velocity_list)/total_GB_num_real*100}% in {total_GB_num_real} GBs\")\n",
    "    print(f\"The ratio of norm-curvature GBs during whole simulations is {len(GB_normc_list_velocity_list)/total_GB_num_real*100}% in {total_GB_num_real} GBs\")\n",
    "    print()\n",
    "    \n",
    "    print(\"Over all voxels\")\n",
    "    normal_growth_voxel = 0\n",
    "    antic_growth_voxel = 0\n",
    "    # calculate anti-c voxels fraction\n",
    "    for i in range(0,len(GB_list_curvature_list)): \n",
    "        for j in range(len(GB_list_curvature_list[i])):\n",
    "            # in general, curvature>0, V_d1 is the voxel in curvature direction, while V_d1 is anti-c when curvature<0\n",
    "            if GB_list_curvature_list[i][j]<0: \n",
    "                normal_growth_voxel += GB_list_dV_direction2[i][j]\n",
    "                antic_growth_voxel += GB_list_dV_direction1[i][j]\n",
    "            elif GB_list_curvature_list[i][j]>=0: \n",
    "                normal_growth_voxel += GB_list_dV_direction1[i][j]\n",
    "                antic_growth_voxel += GB_list_dV_direction2[i][j]\n",
    "    print(f\"The number of the normal voxels and antic voxels during whole simulations are {normal_growth_voxel} and {antic_growth_voxel}\")\n",
    "    print(f\"The ratio of anti-curvature voxels during whole simulations is {antic_growth_voxel/(antic_growth_voxel+normal_growth_voxel)*100}% in {antic_growth_voxel+normal_growth_voxel} voxels\")\n",
    "    print()\n",
    "    \n",
    "    # print(\"Voxels on anti-c GBs\")\n",
    "    # normal_growth_voxel = 0\n",
    "    # antic_growth_voxel = 0\n",
    "    # # calculate anti-c voxels fraction\n",
    "    # normal_growth_voxel = np.sum(GB_antic_list_dV_normD_list)\n",
    "    # antic_growth_voxel = np.sum(GB_antic_list_dV_antiD_list)\n",
    "    # print(f\"The number of the normal voxels and antic voxels during whole simulations are {normal_growth_voxel} and {antic_growth_voxel}\")\n",
    "    # print(f\"The ratio of anti-curvature voxels during whole simulations is {antic_growth_voxel/(antic_growth_voxel+normal_growth_voxel)*100}% in {antic_growth_voxel+normal_growth_voxel} voxels\")\n",
    "    \n",
    "    print(\"Voxels on norm-c GBs\")\n",
    "    normal_growth_voxel = 0\n",
    "    antic_growth_voxel = 0\n",
    "    # calculate anti-c voxels fraction\n",
    "    normal_growth_voxel = np.sum(GB_normc_list_dV_normD_list)\n",
    "    antic_growth_voxel = np.sum(GB_normc_list_dV_antiD_list)\n",
    "    print(f\"The number of the normal voxels and antic voxels during whole simulations are {normal_growth_voxel} and {antic_growth_voxel}\")\n",
    "    print(f\"The ratio of anti-curvature voxels during whole simulations is {antic_growth_voxel/(antic_growth_voxel+normal_growth_voxel)*100}% in {antic_growth_voxel+normal_growth_voxel} voxels\")\n"
   ]
  },
  {
   "cell_type": "code",
   "execution_count": 9,
   "id": "091a9e4a-0f33-4013-82e4-0e99b2ec3d96",
   "metadata": {
    "tags": []
   },
   "outputs": [
    {
     "data": {
      "text/plain": [
       "<Figure size 432x288 with 0 Axes>"
      ]
     },
     "metadata": {},
     "output_type": "display_data"
    },
    {
     "data": {
      "image/png": "[encoded data removed]",
      "text/plain": [
       "<Figure size 504x504 with 1 Axes>"
      ]
     },
     "metadata": {
      "needs_background": "light"
     },
     "output_type": "display_data"
    },
    {
     "data": {
      "text/plain": [
       "<Figure size 432x288 with 0 Axes>"
      ]
     },
     "metadata": {},
     "output_type": "display_data"
    },
    {
     "data": {
      "image/png": "[encoded data removed]",
      "text/plain": [
       "<Figure size 504x504 with 1 Axes>"
      ]
     },
     "metadata": {
      "needs_background": "light"
     },
     "output_type": "display_data"
    }
   ],
   "source": [
    "    # voxels information in anti-c GBs --- Yes I think it can be confidence!!!!!!\n",
    "    bin_interval = 0.01\n",
    "    x_lim = [0.5,1.0]\n",
    "    bin_number = int((x_lim[1]-x_lim[0])/bin_interval)\n",
    "    Antic_voxel_coordinate = np.arange(x_lim[0],x_lim[1],bin_interval)+bin_interval/2\n",
    "    \n",
    "    antic_voxel_num_bin = np.zeros(bin_number)\n",
    "    normc_voxel_num_bin = np.zeros(bin_number)\n",
    "    for index in range(len(GB_antic_list_dV_normD_list)):\n",
    "        antic_voxel_num_bin[int((GB_antic_list_dV_antiD_list[index]/(GB_antic_list_dV_normD_list[index]+GB_antic_list_dV_antiD_list[index])-x_lim[0])//bin_interval)] += 1\n",
    "    for index in range(len(GB_normc_list_dV_normD_list)):\n",
    "        normc_voxel_num_bin[int((GB_normc_list_dV_normD_list[index]/(GB_normc_list_dV_normD_list[index]+GB_normc_list_dV_antiD_list[index])-x_lim[0])//bin_interval)] += 1\n",
    "    # plot\n",
    "    figure_name_all_bin = f\"figures/2D_antic_voxel_distribution_{case_name}_5d_afterBin.png\"\n",
    "    plt.figure()\n",
    "    fig = plt.figure(figsize=(7, 7))\n",
    "    plt.xlim([0.5,1.0])\n",
    "    plt.ylim([0,0.5])\n",
    "    plt.title(\"anti_c distribution\")\n",
    "    plt.plot(Antic_voxel_coordinate, antic_voxel_num_bin/np.sum(antic_voxel_num_bin),'-', linewidth=2)\n",
    "    plt.xlabel(\"voxels percentage\", fontsize=18)\n",
    "    plt.ylabel(\"distribution\", fontsize=18)\n",
    "    # plt.savefig(figure_name_all_bin, dpi=400,bbox_inches='tight')\n",
    "    \n",
    "    figure_name_all_bin = f\"figures/2D_normc_voxel_distribution_{case_name}_5d_afterBin.png\"\n",
    "    plt.figure()\n",
    "    fig = plt.figure(figsize=(7, 7))\n",
    "    plt.xlim([0.5,1.0])\n",
    "    plt.ylim([0,0.5])\n",
    "    plt.title(\"norm_c distribution\")\n",
    "    plt.plot(Antic_voxel_coordinate, normc_voxel_num_bin/np.sum(normc_voxel_num_bin),'-', linewidth=2)\n",
    "    plt.xlabel(\"voxels percentage\", fontsize=18)\n",
    "    plt.ylabel(\"distribution\", fontsize=18)\n",
    "    # plt.savefig(figure_name_all_bin, dpi=400,bbox_inches='tight')\n",
    "    \n",
    "        \n",
    "    confidence_factor = 0.99\n",
    "    \n",
    "    update_GB_antic_list_velocity_AllList = []\n",
    "    update_GB_antic_list_curvature_AllList = []\n",
    "    update_GB_antic_list_GBenergy_AllList = []\n",
    "    update_GB_antic_list_anticNum_AllList = []\n",
    "    update_GB_antic_list_area_AllList = []\n",
    "    update_GB_antic_list_dV_normD_AllList = []\n",
    "    update_GB_antic_list_dV_antiD_AllList = []\n",
    "    \n",
    "    update_GB_antic_list_velocity_list = []\n",
    "    update_GB_antic_list_curvature_list = []\n",
    "    update_GB_antic_list_GBenergy_list = []\n",
    "    update_GB_antic_list_anticNum_list = []\n",
    "    update_GB_antic_list_area_list = []\n",
    "    update_GB_antic_list_dV_normD_list = []\n",
    "    update_GB_antic_list_dV_antiD_list = []\n",
    "    for index in range(len(GB_antic_list_velocity_list)):\n",
    "        if GB_antic_list_dV_antiD_list[index]/(GB_antic_list_dV_normD_list[index]+GB_antic_list_dV_antiD_list[index]) > confidence_factor:\n",
    "            update_GB_antic_list_velocity_list.append(GB_antic_list_velocity_list[index])\n",
    "            update_GB_antic_list_curvature_list.append(GB_antic_list_curvature_list[index])\n",
    "            update_GB_antic_list_GBenergy_list.append(GB_antic_list_GBenergy_list[index])\n",
    "            update_GB_antic_list_anticNum_list.append(GB_antic_list_anticNum_list[index])\n",
    "            update_GB_antic_list_area_list.append(GB_antic_list_area_list[index])\n",
    "            update_GB_antic_list_dV_normD_list.append(GB_antic_list_dV_normD_list[index])\n",
    "            update_GB_antic_list_dV_antiD_list.append(GB_antic_list_dV_antiD_list[index])\n",
    "    for index_i in range(len(update_GB_antic_list_velocity_AllList)):\n",
    "        tmp_update_GB_antic_list_velocity_AllList =[]\n",
    "        tmp_update_GB_antic_list_curvature_AllList =[]\n",
    "        tmp_update_GB_antic_list_GBenergy_AllList = []\n",
    "        tmp_update_GB_antic_list_anticNum_AllList = []\n",
    "        tmp_update_GB_antic_list_area_AllList = []\n",
    "        tmp_update_GB_antic_list_dV_normD_AllList = []\n",
    "        tmp_update_GB_antic_list_dV_antiD_AllList = []\n",
    "        for index_j in range(len(update_GB_antic_list_velocity_AllList[index_i])):\n",
    "            if GB_antic_list_dV_antiD_AllList[index_i][index_j]/(GB_antic_list_dV_normD_AllList[index_i][index_j]+GB_antic_list_dV_antiD_AllList[index_i][index_j]) > confidence_factor:\n",
    "                tmp_update_GB_antic_list_velocity_AllList.append(GB_antic_list_velocity_AllList[index_i][index_j])\n",
    "                tmp_update_GB_antic_list_curvature_AllList.append(GB_antic_list_curvature_AllList[index_i][index_j])\n",
    "                tmp_update_GB_antic_list_GBenergy_AllList.append(GB_antic_list_GBenergy_AllList[index_i][index_j])\n",
    "                tmp_update_GB_antic_list_anticNum_AllList.append(GB_antic_list_anticNum_AllList[index_i][index_j])\n",
    "                tmp_update_GB_antic_list_area_AllList.append(GB_antic_list_area_AllList[index_i][index_j])\n",
    "                tmp_update_GB_antic_list_dV_normD_AllList.append(GB_antic_list_dV_normD_AllList[index_i][index_j])\n",
    "                tmp_update_GB_antic_list_dV_antiD_AllList.append(GB_antic_list_dV_antiD_AllList[index_i][index_j])\n",
    "        update_GB_antic_list_velocity_AllList.append(tmp_update_GB_antic_list_velocity_AllList)\n",
    "        update_GB_antic_list_curvature_AllList.append(tmp_update_GB_antic_list_curvature_AllList)\n",
    "        update_GB_antic_list_GBenergy_AllList.append(tmp_update_GB_antic_list_GBenergy_AllList)\n",
    "        update_GB_antic_list_anticNum_AllList.append(tmp_update_GB_antic_list_anticNum_AllList)\n",
    "        update_GB_antic_list_area_AllList.append(tmp_update_GB_antic_list_area_AllList)\n",
    "        update_GB_antic_list_dV_normD_AllList.append(tmp_update_GB_antic_list_dV_normD_AllList)\n",
    "        update_GB_antic_list_dV_antiD_AllList.append(tmp_update_GB_antic_list_dV_antiD_AllList)\n",
    "        \n",
    "        \n",
    "    update_GB_normc_list_velocity_AllList = []\n",
    "    update_GB_normc_list_curvature_AllList = []\n",
    "    update_GB_normc_list_GBenergy_AllList = []\n",
    "    update_GB_normc_list_area_AllList = []\n",
    "    update_GB_normc_list_dV_normD_AllList = []\n",
    "    update_GB_normc_list_dV_antiD_AllList = []\n",
    "    \n",
    "    update_GB_normc_list_velocity_list = []\n",
    "    update_GB_normc_list_curvature_list = []\n",
    "    update_GB_normc_list_GBenergy_list = []\n",
    "    update_GB_normc_list_area_list = []\n",
    "    update_GB_normc_list_dV_normD_list = []\n",
    "    update_GB_normc_list_dV_antiD_list = []\n",
    "    for index in range(len(GB_normc_list_velocity_list)):\n",
    "        if GB_normc_list_dV_normD_list[index]/(GB_normc_list_dV_normD_list[index]+GB_normc_list_dV_antiD_list[index]) > confidence_factor:\n",
    "            update_GB_normc_list_velocity_list.append(GB_normc_list_velocity_list[index])\n",
    "            update_GB_normc_list_curvature_list.append(GB_normc_list_curvature_list[index])\n",
    "            update_GB_normc_list_GBenergy_list.append(GB_normc_list_GBenergy_list[index])\n",
    "            update_GB_normc_list_area_list.append(GB_normc_list_area_list[index])\n",
    "            update_GB_normc_list_dV_normD_list.append(GB_normc_list_dV_normD_list[index])\n",
    "            update_GB_normc_list_dV_antiD_list.append(GB_normc_list_dV_antiD_list[index])\n",
    "    for index_i in range(len(update_GB_normc_list_velocity_AllList)):\n",
    "        tmp_update_GB_normc_list_velocity_AllList =[]\n",
    "        tmp_update_GB_normc_list_curvature_AllList =[]\n",
    "        tmp_update_GB_normc_list_GBenergy_AllList = []\n",
    "        tmp_update_GB_normc_list_area_AllList = []\n",
    "        tmp_update_GB_normc_list_dV_normD_AllList = []\n",
    "        tmp_update_GB_normc_list_dV_antiD_AllList = []\n",
    "        for index_j in range(len(update_GB_normc_list_velocity_AllList[index_i])):\n",
    "            if GB_normc_list_dV_normD_AllList[index_i][index_j]/(GB_normc_list_dV_normD_AllList[index_i][index_j]+GB_normc_list_dV_antiD_AllList[index_i][index_j]) > confidence_factor:\n",
    "                tmp_update_GB_normc_list_velocity_AllList.append(GB_normc_list_velocity_AllList[index_i][index_j])\n",
    "                tmp_update_GB_normc_list_curvature_AllList.append(GB_normc_list_curvature_AllList[index_i][index_j])\n",
    "                tmp_update_GB_normc_list_GBenergy_AllList.append(GB_normc_list_GBenergy_AllList[index_i][index_j])\n",
    "                tmp_update_GB_normc_list_area_AllList.append(GB_normc_list_area_AllList[index_i][index_j])\n",
    "                tmp_update_GB_normc_list_dV_normD_AllList.append(GB_normc_list_dV_normD_AllList[index_i][index_j])\n",
    "                tmp_update_GB_normc_list_dV_antiD_AllList.append(GB_normc_list_dV_antiD_AllList[index_i][index_j])\n",
    "        update_GB_normc_list_velocity_AllList.append(tmp_update_GB_normc_list_velocity_AllList)\n",
    "        update_GB_normc_list_curvature_AllList.append(tmp_update_GB_normc_list_curvature_AllList)\n",
    "        update_GB_normc_list_GBenergy_AllList.append(tmp_update_GB_normc_list_GBenergy_AllList)\n",
    "        update_GB_normc_list_area_AllList.append(tmp_update_GB_normc_list_area_AllList)\n",
    "        update_GB_normc_list_dV_normD_AllList.append(tmp_update_GB_normc_list_dV_normD_AllList)\n",
    "        update_GB_normc_list_dV_antiD_AllList.append(tmp_update_GB_normc_list_dV_antiD_AllList)\n",
    "        \n",
    "            \n",
    "    "
   ]
  },
  {
   "cell_type": "code",
   "execution_count": 10,
   "id": "8e56756f-f59c-428c-969b-8932ba38e568",
   "metadata": {
    "tags": []
   },
   "outputs": [
    {
     "name": "stdout",
     "output_type": "stream",
     "text": [
      "Voxels on anti-c GBs\n",
      "The number of the normal voxels and antic voxels during whole simulations are 20 and 7757\n",
      "The ratio of anti-curvature voxels during whole simulations is 99.74283142599974% in 7777 voxels\n",
      "\n",
      "Voxels on norm-c GBs\n",
      "The number of the normal voxels and antic voxels during whole simulations are 318471 and 521\n",
      "The ratio of norm-curvature voxels during whole simulations is 99.83667302001305% in 318992 voxels\n",
      "\n",
      "anti-c GB before removing low fraction\n",
      "The number of the GBs showing anti-curvature during whole simulations is 697\n",
      "The ratio of anti-curvature and norm GBs during whole simulations is 7.914159191552174% and 92.08584080844783% in 8807 GBs\n",
      "\n",
      "anti-c GB after removing low fraction\n",
      "The number of the GBs showing anti-curvature during whole simulations is 35\n",
      "The ratio of anti-curvature and norm GBs during whole simulations is 0.39741115022141477% and 14.602021119563982% in 8807 GBs\n",
      "\n",
      "The ratio of anti-curvature and norm GBs during whole simulations is (original GBs number) 0.01063674600666164% and 0.3908244389876249% in 329048 GBs\n",
      "\n"
     ]
    }
   ],
   "source": [
    "    print(\"Voxels on anti-c GBs\")\n",
    "    normal_growth_voxel = 0\n",
    "    antic_growth_voxel = 0\n",
    "    # calculate anti-c voxels fraction\n",
    "    normal_growth_voxel = np.sum(update_GB_antic_list_dV_normD_list)\n",
    "    antic_growth_voxel = np.sum(update_GB_antic_list_dV_antiD_list)\n",
    "    print(f\"The number of the normal voxels and antic voxels during whole simulations are {normal_growth_voxel} and {antic_growth_voxel}\")\n",
    "    print(f\"The ratio of anti-curvature voxels during whole simulations is {antic_growth_voxel/(antic_growth_voxel+normal_growth_voxel)*100}% in {antic_growth_voxel+normal_growth_voxel} voxels\")\n",
    "    print()\n",
    "    print(\"Voxels on norm-c GBs\")\n",
    "    normal_growth_voxel = 0\n",
    "    antic_growth_voxel = 0\n",
    "    # calculate anti-c voxels fraction\n",
    "    normal_growth_voxel = np.sum(update_GB_normc_list_dV_normD_list)\n",
    "    antic_growth_voxel = np.sum(update_GB_normc_list_dV_antiD_list)\n",
    "    print(f\"The number of the normal voxels and antic voxels during whole simulations are {normal_growth_voxel} and {antic_growth_voxel}\")\n",
    "    print(f\"The ratio of norm-curvature voxels during whole simulations is {normal_growth_voxel/(antic_growth_voxel+normal_growth_voxel)*100}% in {antic_growth_voxel+normal_growth_voxel} voxels\")\n",
    "    print()\n",
    "\n",
    "    print(\"anti-c GB before removing low fraction\")\n",
    "    total_GB_num = 0\n",
    "    for time_step in range(step_num):\n",
    "        step_GB = GB_infomation_dict_list[time_step].keys()\n",
    "        total_GB_num += len(step_GB)\n",
    "        \n",
    "    total_GB_num_real = len(GB_antic_list_velocity_list) + len(GB_normc_list_velocity_list)\n",
    "\n",
    "    print(f\"The number of the GBs showing anti-curvature during whole simulations is {len(GB_antic_list_dV_normD_list)}\")\n",
    "    print(f\"The ratio of anti-curvature and norm GBs during whole simulations is {len(GB_antic_list_dV_normD_list)/total_GB_num_real*100}% and {len(GB_normc_list_dV_normD_list)/total_GB_num_real*100}% in {total_GB_num_real} GBs\")\n",
    "    print()\n",
    "    \n",
    "    print(\"anti-c GB after removing low fraction\")\n",
    "\n",
    "    # number of GB woth high anti-c fraction (99%)\n",
    "    print(f\"The number of the GBs showing anti-curvature during whole simulations is {len(update_GB_antic_list_dV_antiD_list)}\")\n",
    "    print(f\"The ratio of anti-curvature and norm GBs during whole simulations is {len(update_GB_antic_list_dV_antiD_list)/total_GB_num_real*100}% and {len(update_GB_normc_list_dV_antiD_list)/total_GB_num_real*100}% in {total_GB_num_real} GBs\")\n",
    "    print()\n",
    "    \n",
    "    print(f\"The ratio of anti-curvature and norm GBs during whole simulations is (original GBs number) {len(update_GB_antic_list_dV_antiD_list)/total_GB_num*100}% and {len(update_GB_normc_list_dV_antiD_list)/total_GB_num*100}% in {total_GB_num} GBs\")\n",
    "    print()\n",
    "    \n",
    "    "
   ]
  },
  {
   "cell_type": "code",
   "execution_count": 11,
   "id": "811a5b4e-1fde-4b57-81ed-7a62338e8b8a",
   "metadata": {
    "tags": []
   },
   "outputs": [
    {
     "name": "stdout",
     "output_type": "stream",
     "text": [
      "3.1829849670035815\n"
     ]
    },
    {
     "data": {
      "text/plain": [
       "Text(0, 0.5, 'velocity (voxel/step)')"
      ]
     },
     "execution_count": 11,
     "metadata": {},
     "output_type": "execute_result"
    },
    {
     "data": {
      "text/plain": [
       "<Figure size 432x288 with 0 Axes>"
      ]
     },
     "metadata": {},
     "output_type": "display_data"
    },
    {
     "data": {
      "image/png": "[encoded data removed]",
      "text/plain": [
       "<Figure size 360x360 with 1 Axes>"
      ]
     },
     "metadata": {
      "needs_background": "light"
     },
     "output_type": "display_data"
    },
    {
     "data": {
      "text/plain": [
       "<Figure size 432x288 with 0 Axes>"
      ]
     },
     "metadata": {},
     "output_type": "display_data"
    },
    {
     "data": {
      "image/png": "[encoded data removed]",
      "text/plain": [
       "<Figure size 360x360 with 2 Axes>"
      ]
     },
     "metadata": {
      "needs_background": "light"
     },
     "output_type": "display_data"
    },
    {
     "data": {
      "text/plain": [
       "<Figure size 432x288 with 0 Axes>"
      ]
     },
     "metadata": {},
     "output_type": "display_data"
    },
    {
     "data": {
      "image/png": "[encoded data removed]",
      "text/plain": [
       "<Figure size 504x504 with 1 Axes>"
      ]
     },
     "metadata": {
      "needs_background": "light"
     },
     "output_type": "display_data"
    }
   ],
   "source": [
    "    # All in 1 figrue\n",
    "    figure_name_all = f\"figures/2D_velocity_signedcurvature_{case_name}_5d.png\"\n",
    "    plt.figure()\n",
    "    fig = plt.figure(figsize=(5, 5))\n",
    "    plt.plot([curvature_limit,0.5],[0,0],'-',color='grey',linewidth=2)\n",
    "    plt.scatter(GB_normc_list_curvature_list, GB_normc_list_velocity_list,s=4,alpha=0.5)\n",
    "    plt.scatter(GB_antic_list_curvature_list, GB_antic_list_velocity_list,s=4,alpha=0.5,color='C01')\n",
    "    plt.xlabel(\"curvature\", fontsize=20)\n",
    "    plt.ylabel(\"velocity (voxel/step)\", fontsize=18)\n",
    "    plt.xlim([curvature_limit,0.5])\n",
    "    plt.ylim([-0.5,0.5])\n",
    "    plt.savefig(figure_name_all, dpi=400,bbox_inches='tight')\n",
    "    \n",
    "    # hot figure\n",
    "    # Create a 2D histogram to approximate density\n",
    "    x_bins = np.linspace( 0, 0.505, 40)  # X-axis bins (adjust based on your data)\n",
    "    y_bins = np.linspace(-0.6, 0.6, 40)  # Y-axis bins (adjust based on your data)\n",
    "    hist, x_edges, y_edges = np.histogram2d(GB_normc_list_curvature_list+GB_antic_list_curvature_list, GB_normc_list_velocity_list+GB_antic_list_velocity_list, bins=[x_bins, y_bins])\n",
    "    # Compute the bin centers\n",
    "    x_centers = (x_edges[:-1] + x_edges[1:]) / 2\n",
    "    y_centers = (y_edges[:-1] + y_edges[1:]) / 2\n",
    "    \n",
    "    figure_name_all = f\"figures/2D_velocity_signedcurvature_hot_{case_name}_5d.png\"\n",
    "    plt.figure()\n",
    "    fig = plt.figure(figsize=(5, 5))\n",
    "    plt.plot([curvature_limit,0.5],[0,0],'-',color='grey',linewidth=2)\n",
    "    X, Y = np.meshgrid(x_centers, y_centers)\n",
    "    hist.T[hist.T==0] = 0.5\n",
    "    plt.contour(X, Y, np.log10(hist.T), levels=20, cmap='gray', alpha=0.1)\n",
    "    ax2 = plt.contourf(X, Y, np.log10(hist.T), levels=20, cmap='coolwarm', alpha=0.9,vmin=-0.7,vmax=3.7)\n",
    "    sm = plt.cm.ScalarMappable(cmap='coolwarm',norm=plt.Normalize(vmin=-0.7,vmax=3.7))\n",
    "    cbar = plt.colorbar(sm)\n",
    "    cbar.set_label(u\"$\\log_{10}(density)$\", fontsize=20)\n",
    "    plt.xlabel(\"curvature\", fontsize=20)\n",
    "    plt.ylabel(\"velocity (voxel/step)\", fontsize=20)\n",
    "    plt.xlim([curvature_limit,0.5])\n",
    "    plt.ylim([-0.5,0.5])\n",
    "    plt.savefig(figure_name_all, dpi=400,bbox_inches='tight')\n",
    "    print(np.max(np.log10(hist.T)))\n",
    "    \n",
    "    # plot velocity VS averaged curvature\n",
    "    bin_interval = 0.002\n",
    "    x_lim = [0,0.5]\n",
    "    bin_number = int((x_lim[1]-x_lim[0])/bin_interval)\n",
    "    curvature_coordinate = np.arange(x_lim[0],x_lim[1],bin_interval)+bin_interval/2\n",
    "\n",
    "    curvature_bin = np.zeros(bin_number)\n",
    "    velocity_bin = np.zeros(bin_number)\n",
    "    new_curvature_1Dlist_remove_0step = GB_normc_list_curvature_list + GB_antic_list_curvature_list\n",
    "    new_velocity_1Dlist_remove_0step = GB_normc_list_velocity_list + GB_antic_list_velocity_list\n",
    "    new_area_1Dlist_remove_0step = GB_normc_list_area_list+GB_antic_list_area_list\n",
    "    new_GBenergy_1Dlist_remove_0step = GB_normc_list_GBenergy_list+GB_antic_list_GBenergy_list\n",
    "    for index in range(len(new_curvature_1Dlist_remove_0step)):\n",
    "        if abs(new_curvature_1Dlist_remove_0step[index])>=x_lim[1] or abs(new_curvature_1Dlist_remove_0step[index])<=x_lim[0]: continue\n",
    "        curvature_bin[int((new_curvature_1Dlist_remove_0step[index]-x_lim[0])//bin_interval)] += 1\n",
    "        velocity_bin[int((new_curvature_1Dlist_remove_0step[index]-x_lim[0])//bin_interval)] += new_velocity_1Dlist_remove_0step[index]\n",
    "    for i in range(bin_number): \n",
    "        if curvature_bin[i]>0: velocity_bin[i] = velocity_bin[i]/curvature_bin[i]\n",
    "    # plot\n",
    "    figure_name_all_bin = f\"figures/2D_velocity_signedcurvature_{case_name}_5d_afterBin.png\"\n",
    "    plt.figure()\n",
    "    fig = plt.figure(figsize=(7, 7))\n",
    "    # plt.scatter(curvature_coordinate, velocity_bin,s=4,alpha=0.5)\n",
    "    plt.xlim([curvature_limit,0.1])\n",
    "    plt.ylim([-1,1])\n",
    "    plt.plot(curvature_coordinate[velocity_bin!=0], velocity_bin[velocity_bin!=0],'o', linewidth=2)\n",
    "    plt.xlabel(\"curvature\", fontsize=18)\n",
    "    plt.ylabel(\"velocity (voxel/step)\", fontsize=18)\n",
    "    # plt.savefig(figure_name_all_bin, dpi=400,bbox_inches='tight')"
   ]
  },
  {
   "cell_type": "code",
   "execution_count": 12,
   "id": "7e609b22-de14-4273-867b-60249af30047",
   "metadata": {},
   "outputs": [
    {
     "data": {
      "text/plain": [
       "Text(0, 0.5, 'velocity (voxel/step)')"
      ]
     },
     "execution_count": 12,
     "metadata": {},
     "output_type": "execute_result"
    },
    {
     "data": {
      "text/plain": [
       "<Figure size 432x288 with 0 Axes>"
      ]
     },
     "metadata": {},
     "output_type": "display_data"
    },
    {
     "data": {
      "image/png": "[encoded data removed]",
      "text/plain": [
       "<Figure size 360x360 with 1 Axes>"
      ]
     },
     "metadata": {
      "needs_background": "light"
     },
     "output_type": "display_data"
    },
    {
     "data": {
      "text/plain": [
       "<Figure size 432x288 with 0 Axes>"
      ]
     },
     "metadata": {},
     "output_type": "display_data"
    },
    {
     "data": {
      "image/png": "[encoded data removed]",
      "text/plain": [
       "<Figure size 360x360 with 1 Axes>"
      ]
     },
     "metadata": {
      "needs_background": "light"
     },
     "output_type": "display_data"
    },
    {
     "data": {
      "text/plain": [
       "<Figure size 432x288 with 0 Axes>"
      ]
     },
     "metadata": {},
     "output_type": "display_data"
    },
    {
     "data": {
      "image/png": "[encoded data removed]",
      "text/plain": [
       "<Figure size 504x504 with 1 Axes>"
      ]
     },
     "metadata": {
      "needs_background": "light"
     },
     "output_type": "display_data"
    }
   ],
   "source": [
    "    # All in 1 figrue\n",
    "    figure_name_all = f\"figures/2D_velocity_signedcurvature_confi_{case_name}_5d.png\"\n",
    "    plt.figure()\n",
    "    fig = plt.figure(figsize=(5, 5))\n",
    "    plt.plot([curvature_limit,0.5],[0,0],'-',color='grey',linewidth=2)\n",
    "    plt.scatter(update_GB_normc_list_curvature_list, update_GB_normc_list_velocity_list,s=4,alpha=0.5)\n",
    "    plt.scatter(update_GB_antic_list_curvature_list, update_GB_antic_list_velocity_list,s=4,alpha=0.5,color='C01')\n",
    "    plt.xlabel(\"curvature\", fontsize=20)\n",
    "    plt.ylabel(\"velocity (voxel/step)\", fontsize=18)\n",
    "    plt.xlim([curvature_limit,0.5])\n",
    "    plt.ylim([-0.5,0.5])\n",
    "    plt.savefig(figure_name_all, dpi=400,bbox_inches='tight')\n",
    "    \n",
    "    # hot figure\n",
    "    # Create a 2D histogram to approximate density\n",
    "    x_bins = np.linspace( 0, 0.505, 40)  # X-axis bins (adjust based on your data)\n",
    "    y_bins = np.linspace(-0.6, 0.6, 40)  # Y-axis bins (adjust based on your data)\n",
    "    hist, x_edges, y_edges = np.histogram2d(update_GB_normc_list_curvature_list+update_GB_antic_list_curvature_list, update_GB_normc_list_velocity_list+update_GB_antic_list_velocity_list, bins=[x_bins, y_bins])\n",
    "    # Compute the bin centers\n",
    "    x_centers = (x_edges[:-1] + x_edges[1:]) / 2\n",
    "    y_centers = (y_edges[:-1] + y_edges[1:]) / 2\n",
    "    \n",
    "    figure_name_all = f\"figures/2D_velocity_signedcurvature_confi_hot_{case_name}_5d.png\"\n",
    "    plt.figure()\n",
    "    fig = plt.figure(figsize=(5, 5))\n",
    "    plt.plot([curvature_limit,0.5],[0,0],'-',color='grey',linewidth=2)\n",
    "    X, Y = np.meshgrid(x_centers, y_centers)\n",
    "    hist.T[hist.T==0] = 0.5\n",
    "    plt.contourf(X, Y, np.log10(hist.T), levels=20, cmap='coolwarm', alpha=0.9)\n",
    "    plt.contour(X, Y, np.log10(hist.T), levels=20, cmap='gray', alpha=0.1)\n",
    "    plt.xlabel(\"curvature\", fontsize=20)\n",
    "    plt.ylabel(\"velocity (voxel/step)\", fontsize=20)\n",
    "    plt.xlim([curvature_limit,0.5])\n",
    "    plt.ylim([-0.5,0.5])\n",
    "    plt.savefig(figure_name_all, dpi=400,bbox_inches='tight')\n",
    "    \n",
    "    # plot velocity VS averaged curvature\n",
    "    bin_interval = 0.002\n",
    "    x_lim = [0.0,0.5]\n",
    "    bin_number = int((x_lim[1]-x_lim[0])/bin_interval)\n",
    "    curvature_coordinate = np.arange(x_lim[0],x_lim[1],bin_interval)+bin_interval/2\n",
    "\n",
    "    curvature_bin = np.zeros(bin_number)\n",
    "    velocity_bin = np.zeros(bin_number)\n",
    "    new_curvature_1Dlist_remove_0step = update_GB_normc_list_curvature_list + update_GB_antic_list_curvature_list\n",
    "    new_velocity_1Dlist_remove_0step = update_GB_normc_list_velocity_list + update_GB_antic_list_velocity_list\n",
    "    new_area_1Dlist_remove_0step = update_GB_normc_list_area_list+update_GB_antic_list_area_list\n",
    "    new_GBenergy_1Dlist_remove_0step = update_GB_normc_list_GBenergy_list+update_GB_antic_list_GBenergy_list\n",
    "    for index in range(len(new_curvature_1Dlist_remove_0step)):\n",
    "        if abs(new_curvature_1Dlist_remove_0step[index])>=x_lim[1] or abs(new_curvature_1Dlist_remove_0step[index])<=x_lim[0]: continue\n",
    "        curvature_bin[int((new_curvature_1Dlist_remove_0step[index]-x_lim[0])//bin_interval)] += 1\n",
    "        velocity_bin[int((new_curvature_1Dlist_remove_0step[index]-x_lim[0])//bin_interval)] += new_velocity_1Dlist_remove_0step[index]\n",
    "    for i in range(bin_number): \n",
    "        if curvature_bin[i]>0: velocity_bin[i] = velocity_bin[i]/curvature_bin[i]\n",
    "    # plot\n",
    "    figure_name_all_bin = f\"figures/2D_velocity_signedcurvature_confi_{case_name}_5d_afterBin.png\"\n",
    "    plt.figure()\n",
    "    fig = plt.figure(figsize=(7, 7))\n",
    "    # plt.scatter(curvature_coordinate, velocity_bin,s=4,alpha=0.5)\n",
    "    plt.xlim([curvature_limit,0.3])\n",
    "    plt.ylim([-1,1])\n",
    "    plt.plot(curvature_coordinate[velocity_bin!=0], velocity_bin[velocity_bin!=0],'o', linewidth=2)\n",
    "    plt.xlabel(\"curvature\", fontsize=18)\n",
    "    plt.ylabel(\"velocity (voxel/step)\", fontsize=18)\n",
    "    # plt.savefig(figure_name_all_bin, dpi=400,bbox_inches='tight')"
   ]
  },
  {
   "cell_type": "code",
   "execution_count": 13,
   "id": "fd684130-78bc-4831-add4-26924b5dc329",
   "metadata": {
    "tags": []
   },
   "outputs": [
    {
     "data": {
      "text/plain": [
       "<Figure size 432x288 with 0 Axes>"
      ]
     },
     "metadata": {},
     "output_type": "display_data"
    },
    {
     "data": {
      "image/png": "[encoded data removed]",
      "text/plain": [
       "<Figure size 504x504 with 1 Axes>"
      ]
     },
     "metadata": {
      "needs_background": "light"
     },
     "output_type": "display_data"
    },
    {
     "data": {
      "text/plain": [
       "<Figure size 432x288 with 0 Axes>"
      ]
     },
     "metadata": {},
     "output_type": "display_data"
    },
    {
     "data": {
      "image/png": "[encoded data removed]",
      "text/plain": [
       "<Figure size 504x504 with 1 Axes>"
      ]
     },
     "metadata": {
      "needs_background": "light"
     },
     "output_type": "display_data"
    },
    {
     "data": {
      "text/plain": [
       "<Figure size 432x288 with 0 Axes>"
      ]
     },
     "metadata": {},
     "output_type": "display_data"
    },
    {
     "data": {
      "image/png": "[encoded data removed]",
      "text/plain": [
       "<Figure size 504x504 with 1 Axes>"
      ]
     },
     "metadata": {
      "needs_background": "light"
     },
     "output_type": "display_data"
    },
    {
     "data": {
      "text/plain": [
       "<Figure size 432x288 with 0 Axes>"
      ]
     },
     "metadata": {},
     "output_type": "display_data"
    },
    {
     "data": {
      "image/png": "[encoded data removed]",
      "text/plain": [
       "<Figure size 504x504 with 1 Axes>"
      ]
     },
     "metadata": {
      "needs_background": "light"
     },
     "output_type": "display_data"
    }
   ],
   "source": [
    "\n",
    "    GBenergy_1Dlist_remove_0step = GB_normc_list_GBenergy_list+ list(GB_antic_list_GBenergy_list)\n",
    "    velocity_1Dlist_remove_0step = GB_normc_list_velocity_list+ list(GB_antic_list_velocity_list)\n",
    "    \n",
    "    figure_name_all = f\"figures/2D_velocity_GBenergy_{case_name}_5d.png\"\n",
    "    plt.figure()\n",
    "    fig = plt.figure(figsize=(7, 7))\n",
    "    plt.scatter(GBenergy_1Dlist_remove_0step, velocity_1Dlist_remove_0step,s=4,alpha=0.5,label='All GBs')\n",
    "    GB_antic_list_GBenergy_list = np.array(GB_antic_list_GBenergy_list)\n",
    "    GB_antic_list_velocity_list = np.array(GB_antic_list_velocity_list)\n",
    "    GB_antic_list_anticNum_list = np.array(GB_antic_list_anticNum_list)\n",
    "    plt.scatter(GB_antic_list_GBenergy_list[GB_antic_list_anticNum_list>=5], GB_antic_list_velocity_list[GB_antic_list_anticNum_list>=5],s=4,alpha=0.5,label='anti-c GBs(5 steps)')\n",
    "    plt.xlabel(\"GB energy\", fontsize=18)\n",
    "    plt.ylabel(\"velocity (voxel/step)\", fontsize=18)\n",
    "    plt.xlim([0.3,1.0])\n",
    "    plt.ylim([-0.6,0.6])\n",
    "    plt.legend(fontsize=18)\n",
    "    plt.savefig(figure_name_all, dpi=400,bbox_inches='tight')\n",
    "    \n",
    "    # plot velocity VS averaged GBenergy\n",
    "    bin_interval = 0.02\n",
    "    x_lim = [0.25,1.01]\n",
    "    bin_number = int((x_lim[1]-x_lim[0])/bin_interval)\n",
    "    GBenergy_coordinate = np.arange(x_lim[0],x_lim[1],bin_interval)+bin_interval/2\n",
    "\n",
    "    GBenergy_bin = np.zeros(bin_number)\n",
    "    velocity_bin = np.zeros(bin_number)\n",
    "    antic_num_bin = np.zeros(bin_number)\n",
    "    for index in range(len(GBenergy_1Dlist_remove_0step)):\n",
    "        if abs(GBenergy_1Dlist_remove_0step[index])>=x_lim[1] or abs(GBenergy_1Dlist_remove_0step[index])<=x_lim[0]: continue\n",
    "        GBenergy_bin[int((GBenergy_1Dlist_remove_0step[index]-x_lim[0])//bin_interval)] += 1\n",
    "        velocity_bin[int((GBenergy_1Dlist_remove_0step[index]-x_lim[0])//bin_interval)] += velocity_1Dlist_remove_0step[index]\n",
    "        if velocity_1Dlist_remove_0step[index] < 0: \n",
    "            antic_num_bin[int((GBenergy_1Dlist_remove_0step[index]-x_lim[0])//bin_interval)] += 1\n",
    "        if int((GBenergy_1Dlist_remove_0step[index]-x_lim[0])//bin_interval)<0: print(GBenergy_1Dlist_remove_0step[index])\n",
    "    for i in range(bin_number): \n",
    "        if GBenergy_bin[i]>0: velocity_bin[i] = velocity_bin[i]/GBenergy_bin[i]\n",
    "    # plot\n",
    "    figure_name_all_bin = f\"figures/2D_velocity_GBenergy_{case_name}_5d_afterBin.png\"\n",
    "    plt.figure()\n",
    "    fig = plt.figure(figsize=(7, 7))\n",
    "    # plt.scatter(GBenergy_coordinate, velocity_bin,s=4,alpha=0.5)\n",
    "    plt.xlim([0.3,1.0])\n",
    "    plt.ylim([-0.2,0.2])\n",
    "    plt.plot(GBenergy_coordinate[velocity_bin!=0], velocity_bin[velocity_bin!=0],'o', linewidth=2)\n",
    "    plt.xlabel(\"GB energy\", fontsize=18)\n",
    "    plt.ylabel(\"velocity (voxel/step)\", fontsize=18)\n",
    "    plt.savefig(figure_name_all_bin, dpi=400,bbox_inches='tight')\n",
    "    \n",
    "    plt.figure()\n",
    "    fig = plt.figure(figsize=(7, 7))\n",
    "    plt.xlim([0.3,1.0])\n",
    "    plt.ylim([0,0.15])\n",
    "    plt.plot(GBenergy_coordinate, GBenergy_bin/np.sum(GBenergy_bin),'-', linewidth=2)\n",
    "    plt.xlabel(\"GB energy\", fontsize=18)\n",
    "    plt.ylabel(\"distribution\", fontsize=18)\n",
    "    \n",
    "    antic_ratio_bin = np.zeros(bin_number)\n",
    "    for bin_i in range(len(GBenergy_bin)):\n",
    "        if GBenergy_bin[bin_i] > 0: antic_ratio_bin[bin_i] = antic_num_bin[bin_i]/GBenergy_bin[bin_i]\n",
    "    plt.figure()\n",
    "    fig = plt.figure(figsize=(7, 7))\n",
    "    plt.xlim([0.25,1.0])\n",
    "    plt.ylim([0,0.5])\n",
    "    plt.plot(GBenergy_coordinate[antic_ratio_bin>0], antic_ratio_bin[antic_ratio_bin>0],'o', linewidth=2)\n",
    "    plt.xlabel(\"GB energy\", fontsize=18)\n",
    "    plt.ylabel(\"anti-c fraction\", fontsize=18)\n",
    "    \n",
    "    anti_c_data_file_name = f\"data/2D_antic_data_{case_name}\"\n",
    "    np.savez(anti_c_data_file_name,antic_ratio_bin=antic_ratio_bin,GBenergy_bin=GBenergy_bin)\n",
    "    \n",
    "        "
   ]
  },
  {
   "cell_type": "code",
   "execution_count": 14,
   "id": "96aaa591-4902-4adc-bee7-240d3ade3fef",
   "metadata": {
    "tags": []
   },
   "outputs": [
    {
     "data": {
      "text/plain": [
       "<Figure size 432x288 with 0 Axes>"
      ]
     },
     "metadata": {},
     "output_type": "display_data"
    },
    {
     "data": {
      "image/png": "[encoded data removed]",
      "text/plain": [
       "<Figure size 504x504 with 1 Axes>"
      ]
     },
     "metadata": {
      "needs_background": "light"
     },
     "output_type": "display_data"
    },
    {
     "data": {
      "text/plain": [
       "<Figure size 432x288 with 0 Axes>"
      ]
     },
     "metadata": {},
     "output_type": "display_data"
    },
    {
     "data": {
      "image/png": "[encoded data removed]",
      "text/plain": [
       "<Figure size 504x504 with 1 Axes>"
      ]
     },
     "metadata": {
      "needs_background": "light"
     },
     "output_type": "display_data"
    },
    {
     "data": {
      "text/plain": [
       "<Figure size 432x288 with 0 Axes>"
      ]
     },
     "metadata": {},
     "output_type": "display_data"
    },
    {
     "data": {
      "image/png": "[encoded data removed]",
      "text/plain": [
       "<Figure size 504x504 with 1 Axes>"
      ]
     },
     "metadata": {
      "needs_background": "light"
     },
     "output_type": "display_data"
    },
    {
     "data": {
      "text/plain": [
       "<Figure size 432x288 with 0 Axes>"
      ]
     },
     "metadata": {},
     "output_type": "display_data"
    },
    {
     "data": {
      "image/png": "[encoded data removed]",
      "text/plain": [
       "<Figure size 504x504 with 1 Axes>"
      ]
     },
     "metadata": {
      "needs_background": "light"
     },
     "output_type": "display_data"
    }
   ],
   "source": [
    "\n",
    "    figure_name_all = f\"figures/2D_velocity_GBenergy_confi_{case_name}_5d.png\"\n",
    "    plt.figure()\n",
    "    fig = plt.figure(figsize=(7, 7))\n",
    "    plt.scatter(new_GBenergy_1Dlist_remove_0step, new_velocity_1Dlist_remove_0step,s=4,alpha=0.5,label='All GBs')\n",
    "    update_GB_antic_list_GBenergy_list = np.array(update_GB_antic_list_GBenergy_list)\n",
    "    update_GB_antic_list_velocity_list = np.array(update_GB_antic_list_velocity_list)\n",
    "    update_GB_antic_list_anticNum_list = np.array(update_GB_antic_list_anticNum_list)\n",
    "    plt.scatter(update_GB_antic_list_GBenergy_list[update_GB_antic_list_anticNum_list>=5], update_GB_antic_list_velocity_list[update_GB_antic_list_anticNum_list>=5],s=4,alpha=0.5,label='anti-c GBs(5 steps)')\n",
    "    plt.xlabel(\"GB energy\", fontsize=18)\n",
    "    plt.ylabel(\"velocity (voxel/step)\", fontsize=18)\n",
    "    plt.xlim([0.3,1.0])\n",
    "    plt.ylim([-0.6,0.6])\n",
    "    plt.legend(fontsize=18)\n",
    "    plt.savefig(figure_name_all, dpi=400,bbox_inches='tight')\n",
    "    \n",
    "    # plot velocity VS averaged GBenergy\n",
    "    bin_interval = 0.02\n",
    "    x_lim = [0.25,1.01]\n",
    "    bin_number = int((x_lim[1]-x_lim[0])/bin_interval)\n",
    "    GBenergy_coordinate = np.arange(x_lim[0],x_lim[1],bin_interval)+bin_interval/2\n",
    "\n",
    "    GBenergy_bin = np.zeros(bin_number)\n",
    "    velocity_bin = np.zeros(bin_number)\n",
    "    antic_num_bin = np.zeros(bin_number)\n",
    "    for index in range(len(new_GBenergy_1Dlist_remove_0step)):\n",
    "        if abs(new_GBenergy_1Dlist_remove_0step[index])>=x_lim[1] or abs(new_GBenergy_1Dlist_remove_0step[index])<=x_lim[0]: continue\n",
    "        GBenergy_bin[int((new_GBenergy_1Dlist_remove_0step[index]-x_lim[0])//bin_interval)] += 1\n",
    "        velocity_bin[int((new_GBenergy_1Dlist_remove_0step[index]-x_lim[0])//bin_interval)] += new_velocity_1Dlist_remove_0step[index]\n",
    "        if new_velocity_1Dlist_remove_0step[index] < 0: antic_num_bin[int((new_GBenergy_1Dlist_remove_0step[index]-x_lim[0])//bin_interval)] += 1\n",
    "        if int((new_GBenergy_1Dlist_remove_0step[index]-x_lim[0])//bin_interval)<0: print(new_GBenergy_1Dlist_remove_0step[index])\n",
    "    for i in range(bin_number): \n",
    "        if GBenergy_bin[i]>0: velocity_bin[i] = velocity_bin[i]/GBenergy_bin[i]\n",
    "    # plot\n",
    "    figure_name_all_bin = f\"figures/2D_velocity_GBenergy_confi_{case_name}_5d_afterBin.png\"\n",
    "    plt.figure()\n",
    "    fig = plt.figure(figsize=(7, 7))\n",
    "    # plt.scatter(GBenergy_coordinate, velocity_bin,s=4,alpha=0.5)\n",
    "    plt.xlim([0.3,1.0])\n",
    "    plt.ylim([-0.2,0.2])\n",
    "    plt.plot(GBenergy_coordinate[velocity_bin!=0], velocity_bin[velocity_bin!=0],'o', linewidth=2)\n",
    "    plt.xlabel(\"GB energy\", fontsize=18)\n",
    "    plt.ylabel(\"velocity (voxel/step)\", fontsize=18)\n",
    "    plt.savefig(figure_name_all_bin, dpi=400,bbox_inches='tight')\n",
    "    \n",
    "    plt.figure()\n",
    "    fig = plt.figure(figsize=(7, 7))\n",
    "    plt.xlim([0.3,1.0])\n",
    "    plt.ylim([0,0.15])\n",
    "    plt.plot(GBenergy_coordinate, GBenergy_bin/np.sum(GBenergy_bin),'-', linewidth=2)\n",
    "    plt.xlabel(\"GB energy\", fontsize=18)\n",
    "    plt.ylabel(\"distribution\", fontsize=18)\n",
    "    \n",
    "    antic_ratio_bin = np.zeros(bin_number)\n",
    "    for bin_i in range(len(GBenergy_bin)):\n",
    "        if GBenergy_bin[bin_i] > 0: antic_ratio_bin[bin_i] = antic_num_bin[bin_i]/GBenergy_bin[bin_i]\n",
    "    plt.figure()\n",
    "    fig = plt.figure(figsize=(7, 7))\n",
    "    plt.xlim([0.25,1.0])\n",
    "    plt.ylim([0,0.5])\n",
    "    plt.plot(GBenergy_coordinate[antic_ratio_bin>0], antic_ratio_bin[antic_ratio_bin>0],'o', linewidth=2)\n",
    "    plt.xlabel(\"GB energy\", fontsize=18)\n",
    "    plt.ylabel(\"anti-c fraction\", fontsize=18)\n",
    "    \n",
    "    anti_c_data_file_name = f\"data/2D_antic_data_confi_{case_name}\"\n",
    "    np.savez(anti_c_data_file_name,antic_ratio_bin=antic_ratio_bin,GBenergy_bin=GBenergy_bin)\n",
    "    \n",
    "#     GBenergy_coordinate_larger0 = GBenergy_coordinate[antic_ratio_bin>0]\n",
    "#     delta_n = -0.66*np.log(antic_ratio_bin[antic_ratio_bin>0])/GBenergy_coordinate[antic_ratio_bin>0]\n",
    "#     mean_delta_n = np.mean(delta_n)\n",
    "#     mean_delta_n_2 = np.sum(delta_n*GBenergy_bin[antic_ratio_bin>0]/np.sum(GBenergy_bin[antic_ratio_bin>0]))\n",
    "#     print(mean_delta_n_2)\n",
    "#     plt.figure()\n",
    "#     fig = plt.figure(figsize=(7, 7))\n",
    "#     plt.xlim([0.3,1.0])\n",
    "#     plt.ylim([0,5])\n",
    "#     plt.plot(GBenergy_coordinate_larger0, delta_n,'o', linewidth=2, label = 'results')\n",
    "#     plt.plot(GBenergy_coordinate_larger0, mean_delta_n*np.ones(len(GBenergy_coordinate_larger0)),'--',linewidth=2,color='gray',label=f'mean-{round(mean_delta_n,2)}')\n",
    "#     plt.legend(fontsize=18)\n",
    "#     plt.xlabel(\"GB energy\", fontsize=18)\n",
    "#     plt.ylabel(\"num of site\", fontsize=18)\n",
    "        "
   ]
  },
  {
   "cell_type": "code",
   "execution_count": 8,
   "id": "04de975f-4cad-46a7-ae2b-a68a8a468d33",
   "metadata": {
    "tags": []
   },
   "outputs": [
    {
     "data": {
      "text/plain": [
       "<Figure size 432x288 with 0 Axes>"
      ]
     },
     "metadata": {},
     "output_type": "display_data"
    },
    {
     "data": {
      "image/png": "[encoded data removed]",
      "text/plain": [
       "<Figure size 360x360 with 1 Axes>"
      ]
     },
     "metadata": {
      "needs_background": "light"
     },
     "output_type": "display_data"
    },
    {
     "data": {
      "text/plain": [
       "<Figure size 432x288 with 0 Axes>"
      ]
     },
     "metadata": {},
     "output_type": "display_data"
    },
    {
     "data": {
      "image/png": "[encoded data removed]",
      "text/plain": [
       "<Figure size 360x360 with 1 Axes>"
      ]
     },
     "metadata": {
      "needs_background": "light"
     },
     "output_type": "display_data"
    }
   ],
   "source": [
    "    # distribution for init and end\n",
    "    figure_name_distri = f\"figures/2D_one_step_distribution_{case_name}.png\"\n",
    "    plt.figure()\n",
    "    fig = plt.figure(figsize=(5, 5))\n",
    "    first_step = 0\n",
    "    second_step = step_1000grains\n",
    "    bin_interval = 0.01\n",
    "    x_lim = [0.25,1.0]\n",
    "    bin_number = int((x_lim[1]-x_lim[0])/bin_interval)\n",
    "    GBenergy_coordinate = np.arange(x_lim[0],x_lim[1],bin_interval)+bin_interval/2\n",
    "    GBenergy_bin_first = np.zeros(bin_number)\n",
    "    for index in range(len(GB_list_GBenergy_list[first_step])):\n",
    "        if abs(GB_list_GBenergy_list[first_step][index])>1.0: continue\n",
    "        GBenergy_bin_first[int((GB_list_GBenergy_list[first_step][index]-x_lim[0])//bin_interval)] += 1\n",
    "    GBenergy_bin_second = np.zeros(bin_number)\n",
    "    for index in range(len(GB_list_GBenergy_list[second_step])):\n",
    "        if abs(GB_list_GBenergy_list[second_step][index])>1.0: continue\n",
    "        GBenergy_bin_second[int((GB_list_GBenergy_list[second_step][index]-x_lim[0])//bin_interval)] += 1\n",
    "    plt.xlim([0.3,1.0])\n",
    "    plt.ylim([0,0.15])\n",
    "    plt.plot(GBenergy_coordinate, GBenergy_bin_first/np.sum(GBenergy_bin_first),'-', linewidth=2,label=\"20k grains\")\n",
    "    plt.plot(GBenergy_coordinate, GBenergy_bin_second/np.sum(GBenergy_bin_second),'-', linewidth=2,label=f\"1k grains\")\n",
    "    plt.legend(fontsize=18)\n",
    "    plt.xlabel(\"GB energy\", fontsize=18)\n",
    "    plt.ylabel(\"distribution\", fontsize=18)\n",
    "    plt.savefig(figure_name_distri, dpi=400,bbox_inches='tight')\n",
    "    \n",
    "    # distribution for init and end\n",
    "    figure_name_distri = f\"figures/2D_culmmulative_distribution_function_{case_name}.png\"\n",
    "    plt.figure()\n",
    "    fig = plt.figure(figsize=(5, 5))\n",
    "    first_step = 0\n",
    "    second_step = step_1000grains\n",
    "    GBenergy_bin_first = np.zeros(bin_number)\n",
    "    for index in range(len(GB_list_GBenergy_list[first_step])):\n",
    "        if abs(GB_list_GBenergy_list[first_step][index])>1.0: continue\n",
    "        GBenergy_bin_first[int((GB_list_GBenergy_list[first_step][index]-x_lim[0])//bin_interval)] += 1\n",
    "    GBenergy_bin_first = GBenergy_bin_first/np.sum(GBenergy_bin_first)\n",
    "    for index in range(len(GB_list_GBenergy_list[second_step])):\n",
    "        if abs(GB_list_GBenergy_list[second_step][index])>1.0: continue\n",
    "        GBenergy_bin_second[int((GB_list_GBenergy_list[second_step][index]-x_lim[0])//bin_interval)] += 1\n",
    "    GBenergy_bin_second = GBenergy_bin_second/np.sum(GBenergy_bin_second)\n",
    "    culmmulative_GBenergy_bin_first = np.zeros(bin_number) \n",
    "    culmmulative_GBenergy_bin_second = np.zeros(bin_number) \n",
    "    for i in range(bin_number):\n",
    "        culmmulative_GBenergy_bin_first[i] = np.sum(GBenergy_bin_first[:i+1])\n",
    "        culmmulative_GBenergy_bin_second[i] = np.sum(GBenergy_bin_second[:i+1])\n",
    "    plt.xlim([0.3,1.0])\n",
    "    plt.ylim([0,1.0])\n",
    "    plt.plot(GBenergy_coordinate, culmmulative_GBenergy_bin_first,'-', linewidth=2,label=\"20k grains\")\n",
    "    plt.plot(GBenergy_coordinate, culmmulative_GBenergy_bin_second,'-', linewidth=2,label=f\"1k grains\")\n",
    "    plt.legend(fontsize=18)\n",
    "    plt.xlabel(\"GB energy\", fontsize=18)\n",
    "    plt.ylabel(\"culmmulative distribution function\", fontsize=18)\n",
    "    plt.savefig(figure_name_distri, dpi=400,bbox_inches='tight')\n"
   ]
  },
  {
   "cell_type": "code",
   "execution_count": 17,
   "id": "a43092de-0ac2-4666-ba29-9d077bd245e1",
   "metadata": {
    "tags": []
   },
   "outputs": [
    {
     "data": {
      "text/plain": [
       "Text(0, 0.5, 'curvature fraction')"
      ]
     },
     "execution_count": 17,
     "metadata": {},
     "output_type": "execute_result"
    },
    {
     "data": {
      "text/plain": [
       "<Figure size 432x288 with 0 Axes>"
      ]
     },
     "metadata": {},
     "output_type": "display_data"
    },
    {
     "data": {
      "image/png": "[encoded data removed]",
      "text/plain": [
       "<Figure size 360x360 with 1 Axes>"
      ]
     },
     "metadata": {
      "needs_background": "light"
     },
     "output_type": "display_data"
    },
    {
     "data": {
      "text/plain": [
       "<Figure size 432x288 with 0 Axes>"
      ]
     },
     "metadata": {},
     "output_type": "display_data"
    },
    {
     "data": {
      "image/png": "[encoded data removed]",
      "text/plain": [
       "<Figure size 360x360 with 1 Axes>"
      ]
     },
     "metadata": {
      "needs_background": "light"
     },
     "output_type": "display_data"
    },
    {
     "data": {
      "text/plain": [
       "<Figure size 432x288 with 0 Axes>"
      ]
     },
     "metadata": {},
     "output_type": "display_data"
    },
    {
     "data": {
      "image/png": "[encoded data removed]",
      "text/plain": [
       "<Figure size 504x504 with 1 Axes>"
      ]
     },
     "metadata": {
      "needs_background": "light"
     },
     "output_type": "display_data"
    },
    {
     "data": {
      "image/png": "[encoded data removed]",
      "text/plain": [
       "<Figure size 504x504 with 1 Axes>"
      ]
     },
     "metadata": {
      "needs_background": "light"
     },
     "output_type": "display_data"
    }
   ],
   "source": [
    "    # curvature VS GB energy\n",
    "            \n",
    "    figure_name_all = f\"figures/2D_signedcurvature_GBenergy_{case_name}_5d.png\"\n",
    "    plt.figure()\n",
    "    fig = plt.figure(figsize=(5, 5))\n",
    "    # plt.plot([0.3,1.0],[0,0],'-',color='grey',linewidth=2)\n",
    "    plt.scatter(GB_normc_list_GBenergy_list, GB_normc_list_curvature_list, s=4,alpha=0.5)\n",
    "    plt.scatter(GB_antic_list_GBenergy_list, GB_antic_list_curvature_list, s=4,alpha=0.5,color='C01')\n",
    "    plt.xlabel(\"GB energy\", fontsize=20)\n",
    "    plt.ylabel(\"curvature\", fontsize=18)\n",
    "    plt.xlim([0.25,1.0])\n",
    "    plt.ylim([-0.01,0.4])\n",
    "    plt.savefig(figure_name_all, dpi=400,bbox_inches='tight')\n",
    "    \n",
    "    plt.figure()\n",
    "    fig = plt.figure(figsize=(5, 5))\n",
    "    plt.scatter(GB_normc_list_area_list, GB_normc_list_curvature_list, s=4,alpha=0.5)\n",
    "    plt.scatter(GB_antic_list_area_list, GB_antic_list_curvature_list, s=4,alpha=0.5,color='C01')\n",
    "    plt.xlabel(\"GB energy\", fontsize=20)\n",
    "    plt.ylabel(\"curvature\", fontsize=18)\n",
    "    plt.xlim([50,200])\n",
    "    plt.ylim([-0.01,0.4])\n",
    "    \n",
    "    # plot signedcurvature VS GBenergy\n",
    "    bin_interval = 0.02\n",
    "    x_lim = [0.29,1.01] # GB energy\n",
    "    bin_number = int((x_lim[1]-x_lim[0])/bin_interval)\n",
    "    GBenergy_coordinate = np.arange(x_lim[0],x_lim[1],bin_interval) + bin_interval/2\n",
    "    y_lim = [50,200] # area\n",
    "    y_bin_interval = (y_lim[1]-y_lim[0])/bin_number\n",
    "    area_coordinate = np.arange(y_lim[0],y_lim[1],y_bin_interval) + bin_interval/2\n",
    "\n",
    "    curvature_bin = np.zeros(bin_number)\n",
    "    curvature_fraction_energy_bin = np.zeros(bin_number)\n",
    "    curvature_fraction_area_bin = np.zeros(bin_number)\n",
    "    curvature_fraction_matrix = np.zeros((bin_number,bin_number))\n",
    "    GBenergy_distribution_bin = np.zeros(bin_number)\n",
    "    area_distribution_bin = np.zeros(bin_number)\n",
    "    distribution_matrix_bin = np.zeros((bin_number,bin_number))\n",
    "    new_curvature_1Dlist_remove_0step = GB_normc_list_curvature_list + list(GB_antic_list_curvature_list)\n",
    "    new_GBenergy_1Dlist_remove_0step = GB_normc_list_GBenergy_list + list(GB_antic_list_GBenergy_list)\n",
    "    new_area_1Dlist_remove_0step = GB_normc_list_area_list + GB_antic_list_area_list\n",
    "    for index in range(len(new_GBenergy_1Dlist_remove_0step)):\n",
    "        # prefactor: avoid GB energy larger 1 and get coordinate index\n",
    "        if abs(new_GBenergy_1Dlist_remove_0step[index]) >= x_lim[1] or abs(new_GBenergy_1Dlist_remove_0step[index]) <= x_lim[0]: continue\n",
    "        if abs(new_area_1Dlist_remove_0step[index]) >= y_lim[1] or abs(new_area_1Dlist_remove_0step[index]) <= y_lim[0]: continue\n",
    "        GB_energy_index = int((new_GBenergy_1Dlist_remove_0step[index]-x_lim[0])//bin_interval)\n",
    "        area_index = int((new_area_1Dlist_remove_0step[index]-y_lim[0])//y_bin_interval)\n",
    "        # distribution\n",
    "        GBenergy_distribution_bin[GB_energy_index] += 1\n",
    "        area_distribution_bin[area_index] += 1\n",
    "        distribution_matrix_bin[GB_energy_index,area_index] += 1\n",
    "        # averaged curvature\n",
    "        curvature_bin[GB_energy_index] += new_curvature_1Dlist_remove_0step[index]\n",
    "        # calculate high curvature fraction vs GB energy or vs energy-area matrix\n",
    "        if new_curvature_1Dlist_remove_0step[index] > 0.03:\n",
    "            curvature_fraction_energy_bin[GB_energy_index] += 1  # calculate high curvature fraction vs GB energy\n",
    "            curvature_fraction_area_bin[area_index] += 1  # calculate high curvature fraction vs area\n",
    "            curvature_fraction_matrix[GB_energy_index,area_index] += 1 # calculate high curvature fraction vs energy-area matrix\n",
    "    # normalized\n",
    "    curvature_bin[GBenergy_distribution_bin>0] /= GBenergy_distribution_bin[GBenergy_distribution_bin>0]\n",
    "    curvature_fraction_energy_bin[GBenergy_distribution_bin>0] /= GBenergy_distribution_bin[GBenergy_distribution_bin>0]\n",
    "    curvature_fraction_energy_bin /= np.sum(curvature_fraction_energy_bin)\n",
    "    curvature_fraction_area_bin[area_distribution_bin>0] /= area_distribution_bin[area_distribution_bin>0]\n",
    "    curvature_fraction_area_bin /= np.sum(curvature_fraction_area_bin)\n",
    "    curvature_fraction_matrix[distribution_matrix_bin>0] /= distribution_matrix_bin[distribution_matrix_bin>0]\n",
    "    curvature_fraction_matrix /= np.sum(curvature_fraction_matrix)\n",
    "    # plot\n",
    "    figure_name_all_bin = f\"figures/2D_signedcurvature_GBenergy_{case_name}_5d_afterBin.png\"\n",
    "    plt.figure()\n",
    "    fig = plt.figure(figsize=(7, 7))\n",
    "    plt.xlim(x_lim)\n",
    "    plt.ylim([0,0.65])\n",
    "    plt.bar(GBenergy_coordinate, curvature_fraction_energy_bin, width=bin_interval*0.8, color=f'C2', label='MI_cos')\n",
    "    # plt.plot(GBenergy_coordinate, velocity_bin,'o', linewidth=2)\n",
    "    plt.xlabel(\"GB energy\", fontsize=30)\n",
    "    plt.ylabel(\"curvature fraction\", fontsize=30)\n",
    "    plt.xticks(fontsize=22)\n",
    "    plt.yticks(fontsize=22)\n",
    "    plt.savefig(figure_name_all_bin, dpi=400,bbox_inches='tight')\n",
    "    \n",
    "    fig = plt.figure(figsize=(7, 7))\n",
    "    # plt.xlim(x_lim)\n",
    "    # plt.ylim([0,0.11])\n",
    "    plt.bar(area_coordinate, curvature_fraction_area_bin, width=y_bin_interval*0.8, color=f'C2', label='MI_cos')\n",
    "    # plt.plot(area_coordinate, curvature_fraction_area_bin, linewidth=2)\n",
    "    plt.xlabel(\"area\", fontsize=30)\n",
    "    plt.ylabel(\"curvature fraction\", fontsize=30)\n"
   ]
  },
  {
   "cell_type": "code",
   "execution_count": 16,
   "id": "917ee7c5-1af5-4ed8-afc3-526d3c42a728",
   "metadata": {
    "tags": []
   },
   "outputs": [
    {
     "data": {
      "image/png": "[encoded data removed]",
      "text/plain": [
       "<Figure size 504x504 with 2 Axes>"
      ]
     },
     "metadata": {
      "needs_background": "light"
     },
     "output_type": "display_data"
    },
    {
     "data": {
      "image/png": "[encoded data removed]",
      "text/plain": [
       "<Figure size 504x432 with 2 Axes>"
      ]
     },
     "metadata": {
      "needs_background": "light"
     },
     "output_type": "display_data"
    }
   ],
   "source": [
    "    # matrix distribution\n",
    "    fig = plt.figure(figsize=(7,7))\n",
    "    distribution_matrix_bin[distribution_matrix_bin==0]=1\n",
    "    plt.imshow(np.log(distribution_matrix_bin.T),cmap='coolwarm')\n",
    "    plt.xlabel(\"GB energy\", fontsize=30)\n",
    "    plt.ylabel(\"Area\", fontsize=30)\n",
    "    cbar = plt.colorbar()\n",
    "    plt.xticks(np.linspace(0,bin_number,5),np.round(np.linspace(x_lim[0],x_lim[1],5),2))\n",
    "    plt.yticks(np.linspace(0,bin_number,5),np.round(np.linspace(y_lim[0],y_lim[1],5),2))\n",
    "    plt.gca().invert_yaxis()\n",
    "    \n",
    "    \n",
    "    x_bins = np.linspace( x_lim[0], x_lim[1], bin_number+1)  # X-axis bins (adjust based on your data)\n",
    "    y_bins = np.linspace( y_lim[0], y_lim[1], bin_number+1)  # Y-axis bins (adjust based on your data)\n",
    "    hist, x_edges, y_edges = np.histogram2d(new_GBenergy_1Dlist_remove_0step, new_area_1Dlist_remove_0step, bins=[x_bins, y_bins])\n",
    "    # Compute the bin centers\n",
    "    x_centers = (x_edges[:-1] + x_edges[1:]) / 2\n",
    "    y_centers = (y_edges[:-1] + y_edges[1:]) / 2\n",
    "    X, Y = np.meshgrid(x_centers, y_centers)\n",
    "    \n",
    "    figure_name_all = f\"figures/2D_GBenergy_area_hotUpdate_{case_name}_5d.png\"\n",
    "    fig = plt.figure(figsize=(7,6))\n",
    "    # curvature_fraction_matrix[curvature_fraction_matrix==0]=1\n",
    "    # plt.imshow(curvature_fraction_matrix.T,cmap='coolwarm',vmax=0.01)\n",
    "    curvature_fraction_matrix[curvature_fraction_matrix==0]=1e-6\n",
    "    curvature_fraction_matrix[distribution_matrix_bin<=5]=1e-6\n",
    "    plt.contourf(X, Y, np.log10(curvature_fraction_matrix.T), levels=20, cmap='coolwarm', alpha=0.9, vmin=-6,vmax=-0.3)\n",
    "    sm = plt.cm.ScalarMappable(cmap='coolwarm',norm=plt.Normalize(vmin=-6,vmax=-0.3))\n",
    "    cbar = plt.colorbar(sm)\n",
    "    cbar.set_label(u\"$\\log_{10}(fraction)$\", fontsize=24)\n",
    "    plt.xlabel(\"GB energy\", fontsize=30)\n",
    "    plt.ylabel(\"Area\", fontsize=30)\n",
    "    # plt.xlim([50,5000])\n",
    "    # plt.ylim([-5.0,5.0])\n",
    "    plt.savefig(figure_name_all, dpi=400,bbox_inches='tight')\n",
    "    \n",
    "    "
   ]
  },
  {
   "cell_type": "markdown",
   "id": "b0487a37-01bb-4ea9-b2d8-01f418e8cb8c",
   "metadata": {},
   "source": [
    "## For one step"
   ]
  },
  {
   "cell_type": "code",
   "execution_count": 9,
   "id": "07d41054-6d9d-4a70-92ec-4b5e4537c03f",
   "metadata": {
    "tags": []
   },
   "outputs": [
    {
     "name": "stderr",
     "output_type": "stream",
     "text": [
      "  5%|▌         | 11/201 [00:01<00:24,  7.74it/s]\n"
     ]
    },
    {
     "data": {
      "text/plain": [
       "<Figure size 432x288 with 0 Axes>"
      ]
     },
     "metadata": {},
     "output_type": "display_data"
    },
    {
     "data": {
      "image/png": "[encoded data removed]",
      "text/plain": [
       "<Figure size 504x504 with 1 Axes>"
      ]
     },
     "metadata": {
      "needs_background": "light"
     },
     "output_type": "display_data"
    },
    {
     "data": {
      "text/plain": [
       "<Figure size 432x288 with 0 Axes>"
      ]
     },
     "metadata": {},
     "output_type": "display_data"
    },
    {
     "data": {
      "image/png": "[encoded data removed]",
      "text/plain": [
       "<Figure size 504x504 with 1 Axes>"
      ]
     },
     "metadata": {
      "needs_background": "light"
     },
     "output_type": "display_data"
    },
    {
     "data": {
      "text/plain": [
       "<Figure size 432x288 with 0 Axes>"
      ]
     },
     "metadata": {},
     "output_type": "display_data"
    },
    {
     "data": {
      "image/png": "[encoded data removed]",
      "text/plain": [
       "<Figure size 504x504 with 1 Axes>"
      ]
     },
     "metadata": {
      "needs_background": "light"
     },
     "output_type": "display_data"
    },
    {
     "data": {
      "text/plain": [
       "<Figure size 432x288 with 0 Axes>"
      ]
     },
     "metadata": {},
     "output_type": "display_data"
    },
    {
     "data": {
      "image/png": "[encoded data removed]",
      "text/plain": [
       "<Figure size 504x504 with 1 Axes>"
      ]
     },
     "metadata": {
      "needs_background": "light"
     },
     "output_type": "display_data"
    }
   ],
   "source": [
    "    # For one specific time steps with 1000 grains\n",
    "\n",
    "    # get expected time step\n",
    "    expected_grain_num = 5000\n",
    "    grain_num_array = np.zeros(npy_file_aniso.shape[0])\n",
    "    # Calculate the number of grains\n",
    "    for i in tqdm(range(npy_file_aniso.shape[0])):\n",
    "        grain_num = len(np.unique(npy_file_aniso[i,:]))\n",
    "        grain_num_array[i] = grain_num\n",
    "        if grain_num < expected_grain_num/2: break\n",
    "    expected_time_step = int(np.argmin(abs(grain_num_array - expected_grain_num)))\n",
    "\n",
    "    # get all data on specific grain step\n",
    "    expected_step_curvature_list = GB_list_curvature_list[expected_time_step]\n",
    "    expected_step_velocity_list = GB_list_velocity_list[expected_time_step]\n",
    "    expected_step_GBenergy_list = GB_list_GBenergy_list[expected_time_step]\n",
    "    expected_step_curvature_list_exrandom = GB_list_curvature_list_exrandom[expected_time_step]\n",
    "    expected_step_velocity_list_exrandom = GB_list_velocity_list_exrandom[expected_time_step]\n",
    "    expected_step_GBenergy_list_exrandom = GB_list_GBenergy_list_exrandom[expected_time_step]\n",
    "\n",
    "    # plot\n",
    "    figure_name_all = f\"figures/2D_velocity_GBenergy_{case_name}_5d_grain{expected_grain_num}.png\"\n",
    "    plt.figure()\n",
    "    fig = plt.figure(figsize=(7, 7))\n",
    "    plt.scatter(expected_step_GBenergy_list_exrandom, expected_step_velocity_list_exrandom,s=4,alpha=0.5,label='All GBs')\n",
    "    # GB_antic_list_GBenergy_list = np.array(GB_antic_list_GBenergy_list)\n",
    "    # GB_antic_list_velocity_list = np.array(GB_antic_list_velocity_list)\n",
    "    # GB_antic_list_anticNum_array = np.array(GB_antic_list_anticNum_list)\n",
    "    # plt.scatter(GB_antic_list_GBenergy_list[GB_antic_list_anticNum_array>=5], GB_antic_list_velocity_list[GB_antic_list_anticNum_array>=5],s=4,alpha=0.5,label='anti-c GBs(5 steps)')\n",
    "    plt.plot([0.3,1.0],[0,0],'-',color='grey',linewidth=2)\n",
    "    plt.xlabel(\"GB energy\", fontsize=18)\n",
    "    plt.ylabel(\"velocity (voxel/step)\", fontsize=18)\n",
    "    plt.xlim([0.3,1.0])\n",
    "    plt.ylim([-0.6,0.6])\n",
    "    # plt.legend(fontsize=18)\n",
    "    plt.savefig(figure_name_all, dpi=400,bbox_inches='tight')\n",
    "    \n",
    "    # plot velocity VS averaged GBenergy\n",
    "    bin_interval = 0.005\n",
    "    x_lim = [0.25,1.0]\n",
    "    bin_number = int((x_lim[1]-x_lim[0])/bin_interval)\n",
    "    GBenergy_coordinate = np.arange(x_lim[0],x_lim[1],bin_interval)+bin_interval/2\n",
    "    \n",
    "    \n",
    "    GBenergy_bin = np.zeros(bin_number)\n",
    "    velocity_bin = np.zeros(bin_number)\n",
    "    antic_num_bin = np.zeros(bin_number)\n",
    "    for index in range(len(expected_step_GBenergy_list_exrandom)):\n",
    "        if abs(expected_step_GBenergy_list_exrandom[index])>=1.01: continue\n",
    "        GBenergy_bin[int((expected_step_GBenergy_list_exrandom[index]-x_lim[0])//bin_interval)] += 1\n",
    "        velocity_bin[int((expected_step_GBenergy_list_exrandom[index]-x_lim[0])//bin_interval)] += expected_step_velocity_list_exrandom[index]\n",
    "        if expected_step_velocity_list_exrandom[index] < 0: antic_num_bin[int((expected_step_GBenergy_list_exrandom[index]-x_lim[0])//bin_interval)] += 1\n",
    "        if int((expected_step_GBenergy_list_exrandom[index]-x_lim[0])//bin_interval)<0: print(expected_step_GBenergy_list_exrandom[index])\n",
    "    for i in range(bin_number): \n",
    "        if GBenergy_bin[i]>0: velocity_bin[i] = velocity_bin[i]/GBenergy_bin[i]\n",
    "    # plot\n",
    "    figure_name_all_bin = f\"figures/2D_velocity_GBenergy_{case_name}_5d_afterBin_grain{expected_grain_num}.png\"\n",
    "    plt.figure()\n",
    "    fig = plt.figure(figsize=(7, 7))\n",
    "    # plt.scatter(GBenergy_coordinate, velocity_bin,s=4,alpha=0.5)\n",
    "    plt.xlim([0.3,1.0])\n",
    "    plt.ylim([-0.2,0.2])\n",
    "    plt.plot(GBenergy_coordinate[velocity_bin!=0], velocity_bin[velocity_bin!=0],'o', linewidth=2)\n",
    "    plt.xlabel(\"GB energy\", fontsize=18)\n",
    "    plt.ylabel(\"velocity (voxel/step)\", fontsize=18)\n",
    "    plt.savefig(figure_name_all_bin, dpi=400,bbox_inches='tight')\n",
    "\n",
    "    plt.figure()\n",
    "    fig = plt.figure(figsize=(7, 7))\n",
    "    plt.xlim([0.3,1.0])\n",
    "    plt.ylim([0,0.3])\n",
    "    plt.plot(GBenergy_coordinate, GBenergy_bin/np.sum(GBenergy_bin),'-', linewidth=2)\n",
    "    plt.xlabel(\"GB energy\", fontsize=18)\n",
    "    plt.ylabel(\"distribution\", fontsize=18)\n",
    "\n",
    "    antic_ratio_bin = np.zeros(bin_number)\n",
    "    for bin_i in range(len(GBenergy_bin)):\n",
    "        if GBenergy_bin[bin_i] > 0: antic_ratio_bin[bin_i] = antic_num_bin[bin_i]/GBenergy_bin[bin_i]\n",
    "    plt.figure()\n",
    "    fig = plt.figure(figsize=(7, 7))\n",
    "    plt.xlim([0.3,1.0])\n",
    "    plt.ylim([0,1.5])\n",
    "    plt.plot(GBenergy_coordinate[antic_ratio_bin>0], antic_ratio_bin[antic_ratio_bin>0],'o', linewidth=2)\n",
    "    plt.xlabel(\"GB energy\", fontsize=18)\n",
    "    plt.ylabel(\"anti-c fraction\", fontsize=18)\n",
    "\n",
    "    anti_c_data_file_name = f\"data/2D_antic_data_{case_name}_grain{expected_grain_num}\"\n",
    "    np.savez(anti_c_data_file_name,antic_ratio_bin=antic_ratio_bin,GBenergy_bin=GBenergy_bin)\n",
    "\n"
   ]
  },
  {
   "cell_type": "code",
   "execution_count": null,
   "id": "2501136d-68e1-40d1-b2b9-f783e9c8309e",
   "metadata": {},
   "outputs": [],
   "source": []
  },
  {
   "cell_type": "code",
   "execution_count": null,
   "id": "21b813f5-daa4-484e-a6c2-418239a0ccf4",
   "metadata": {},
   "outputs": [],
   "source": [
    "    # Plot relationship for each time steps\n",
    "    for time_step in range(0,len(GB_list_velocity_list),10):\n",
    "        figure_name = f\"figures/2D_velocity_signedcurvature_MI_step{time_step}_{case_name}.png\"\n",
    "        plt.figure()\n",
    "        fig = plt.figure(figsize=(7, 7))\n",
    "        plt.scatter(GB_list_curvature_list[time_step], GB_list_velocity_list[time_step],s=4,alpha=0.5)\n",
    "        plt.xlabel(\"curvature\", fontsize=18)\n",
    "        plt.ylabel(\"velocity (voxel/step)\", fontsize=18)\n",
    "        plt.xlim([-0.6,0.6])\n",
    "        plt.ylim([-10,10])\n",
    "        # plt.savefig(figure_name, dpi=400,bbox_inches='tight')\n",
    "        \n",
    "        # plot velocity VS averaged curvature\n",
    "        bin_interval = 0.001\n",
    "        bin_number = int(1.2/bin_interval)\n",
    "        curvature_coordinate = np.arange(-0.6,0.6,bin_interval)+bin_interval/2\n",
    "\n",
    "        curvature_bin = np.zeros(bin_number)\n",
    "        velocity_bin = np.zeros(bin_number)\n",
    "        for index in range(len(GB_list_curvature_list[time_step])):\n",
    "            if abs(GB_list_curvature_list[time_step][index])>0.6: continue\n",
    "            curvature_bin[int((GB_list_curvature_list[time_step][index]+0.6)//bin_interval)] += 1\n",
    "            velocity_bin[int((GB_list_curvature_list[time_step][index]+0.6)//bin_interval)] += GB_list_velocity_list[time_step][index]\n",
    "        for i in range(bin_number): \n",
    "            if curvature_bin[i]>0: velocity_bin[i] = velocity_bin[i]/curvature_bin[i]\n",
    "        # plot\n",
    "        figure_name_all_bin = f\"figures/2D_velocity_signedcurvature_step{time_step}_{case_name}_afterBin.png\"\n",
    "        plt.figure()\n",
    "        fig = plt.figure(figsize=(7, 7))\n",
    "        # plt.scatter(curvature_coordinate, velocity_bin,s=4,alpha=0.5)\n",
    "        plt.plot(curvature_coordinate, velocity_bin,'o', linewidth=2)\n",
    "        plt.xlabel(\"curvature\", fontsize=18)\n",
    "        plt.ylabel(\"velocity (voxel/step)\", fontsize=18)\n",
    "        plt.xlim([-0.6,0.6])\n",
    "        plt.ylim([-5,5])\n",
    "        # plt.savefig(figure_name_all_bin, dpi=400,bbox_inches='tight')"
   ]
  },
  {
   "cell_type": "code",
   "execution_count": null,
   "id": "47e6a561-4483-49d8-8ddd-f78e643a2ae1",
   "metadata": {},
   "outputs": [],
   "source": []
  },
  {
   "cell_type": "markdown",
   "id": "bba82fb0-9f73-48dc-8a89-0bbd9316c7a0",
   "metadata": {},
   "source": []
  },
  {
   "cell_type": "code",
   "execution_count": null,
   "id": "b6f0d347-fb1b-4010-a68f-cc171486d9c8",
   "metadata": {},
   "outputs": [],
   "source": []
  },
  {
   "cell_type": "code",
   "execution_count": null,
   "id": "63a608d4-8807-4dfc-b364-4f0e17d354de",
   "metadata": {
    "tags": []
   },
   "outputs": [],
   "source": []
  },
  {
   "cell_type": "code",
   "execution_count": null,
   "id": "c39770d2-4fd3-4661-b53b-b52437e4dacd",
   "metadata": {
    "tags": []
   },
   "outputs": [],
   "source": []
  },
  {
   "cell_type": "code",
   "execution_count": null,
   "id": "0ef2391b-b155-42c1-b668-22cedf0227ce",
   "metadata": {
    "tags": []
   },
   "outputs": [],
   "source": [
    "# Get more information for a focus GB\n",
    "\n",
    "key_focus = 0\n",
    "for key in GB_id_focus:\n",
    "    if GB_id_focus[key] == 19: \n",
    "        print(f\"The longest anti-curvature behavior is {key} with steps {GB_id_focus[key]}\")\n",
    "        key_focus = key\n",
    "        # break\n",
    "\n",
    "v_focus = []\n",
    "c_focus = []\n",
    "for time_step in range(0,step_num):\n",
    "    if key_focus in GB_infomation_dict_list[time_step]:\n",
    "        # Calculate dV\n",
    "        pair_id_pair_focus = GB_infomation_dict_list[time_step][key_focus][6:8]\n",
    "        growth_direction1 = (npy_file_aniso[time_step]==pair_id_pair_focus[0])*(npy_file_aniso[time_step+1]==pair_id_pair_focus[1])\n",
    "        growth_direction2 = (npy_file_aniso[time_step]==pair_id_pair_focus[1])*(npy_file_aniso[time_step+1]==pair_id_pair_focus[0])\n",
    "        dV = np.sum(growth_direction1)-np.sum(growth_direction2) # velocity with direction\n",
    "        # Calculate velocity\n",
    "        velocity = dV/time_interval/(GB_infomation_dict_list[time_step][key_focus][5]/2)\n",
    "        current_curvature_value = GB_infomation_dict_list[time_step][key_focus][4]\n",
    "        \n",
    "        # make curvature always opposite\n",
    "        if current_curvature_value<0: \n",
    "            current_curvature_value = -current_curvature_value\n",
    "            velocity = -velocity\n",
    "        \n",
    "        # store v-c for a focus GB\n",
    "        v_focus.append(velocity)\n",
    "        c_focus.append(current_curvature_value)\n",
    "        \n",
    "        if current_curvature_value*velocity<-0.00 and GB_infomation_dict_list[time_step][key_focus][5]>=100: \n",
    "            print(f\"The anti-curvature step {time_step} has velocity - {round(velocity,3)} and curvature - {round(current_curvature_value,3)}.\")\n",
    "        \n",
    "        \n",
    "\n",
    "v_focus = np.array(v_focus)\n",
    "c_focus = np.array(c_focus)\n",
    "# plot v-c for a focus GB\n",
    "wanted_steps = v_focus<0\n",
    "alpha_list = np.linspace(0.2,1,np.sum(wanted_steps))\n",
    "\n",
    "figure_name_one_GB = f\"figures/2D_velocity_signedcurvature_{case_name}_GB{key_focus}_5d.png\"\n",
    "plt.figure()\n",
    "fig = plt.figure(figsize=(7, 7))\n",
    "import matplotlib as mpl\n",
    "cmap = mpl.colormaps['tab20']\n",
    "colors = cmap(np.linspace(0, 1, 20))\n",
    "plt.scatter(c_focus[wanted_steps], v_focus[wanted_steps],s=8,alpha=alpha_list,color=colors[0])\n",
    "plt.scatter(c_focus[~wanted_steps], v_focus[~wanted_steps],s=8,alpha=0.2,color=colors[6])\n",
    "plt.plot(c_focus,v_focus,alpha=0.1)\n",
    "plt.xlabel(\"curvature\", fontsize=18)\n",
    "plt.ylabel(\"velocity (voxel/step)\", fontsize=18)\n",
    "plt.xlim([0,0.17])\n",
    "plt.ylim([-0.2,0.2])\n",
    "plt.legend([\"anti-c\", \"c\", \"sequence\"],fontsize=18)\n",
    "plt.title(f\"GBid {key_focus} step all\")\n",
    "# plt.savefig(figure_name_one_GB, dpi=400,bbox_inches='tight')\n",
    "\n",
    "\n",
    "\n",
    "\n"
   ]
  },
  {
   "cell_type": "code",
   "execution_count": null,
   "id": "8685c367-edac-427c-a027-acbf536ae4a0",
   "metadata": {
    "tags": []
   },
   "outputs": [],
   "source": [
    "import os\n",
    "os.system(f'ffmpeg -framerate 10 -i /home/lin.yang/projects/VECTOR/examples/GB_velocity/anti_curvature_figures/Detail_2D_microstructure_key145919744_step.%04d._M_20k.png \\\n",
    "                    -c:v libx264 -vf \"pad=ceil(iw/2)*2:ceil(ih/2)*2\" -pix_fmt yuv420p \\\n",
    "                    anti_curvature_figures/Detail_2D_microstructure_key145919744_M_20k.mp4')"
   ]
  },
  {
   "cell_type": "code",
   "execution_count": null,
   "id": "f8c6a201-3ce1-40ff-a227-fc129528b8a3",
   "metadata": {
    "tags": []
   },
   "outputs": [],
   "source": [
    "# 197673737\n",
    "# 47836998\n",
    "# fully 88634987\n",
    "# fully 161070774\n",
    "# fully 30685022\n",
    "# Find the exaxt grain id and time steps\n",
    "GB_id = 145919744\n",
    "for time_step in range(40,step_num):\n",
    "    if GB_id not in GB_infomation_dict_list[time_step]: continue\n",
    "    pair_id_pair_focus = GB_infomation_dict_list[time_step][GB_id][6:8]\n",
    "    break\n",
    "print(f\"The id pairs are {list(map(int,pair_id_pair_focus))}\")\n",
    "\n",
    "time_step_init, time_step_end = 24, 100\n",
    "check_edge = 0\n",
    "ss = 0\n",
    "for time_step in tqdm(range(time_step_init,time_step_end)):\n",
    "    current_microstructure_focus = npy_file_aniso[time_step,:,:,0]\n",
    "    grain_location_focus = (current_microstructure_focus==pair_id_pair_focus[0]) + (current_microstructure_focus==pair_id_pair_focus[1])\n",
    "    if check_edge ==0:\n",
    "        x_info = np.arange(0,2400,1)[np.sum(grain_location_focus,0)*np.arange(0,2400,1)>0]\n",
    "        x_len = np.sum(x_info>0)\n",
    "        x_lim_max = int(np.max(x_info)+(x_len/2))\n",
    "        x_lim_min = int(np.min(x_info)-(x_len/2))\n",
    "        y_info = np.arange(0,2400,1)[np.sum(grain_location_focus,1)*np.arange(0,2400,1)>0]\n",
    "        y_len = np.sum(y_info>0)\n",
    "        y_lim_max = int(np.max(y_info)+y_len/2)\n",
    "        y_lim_min = int(np.min(y_info)-y_len/2)\n",
    "        check_edge+=1\n",
    "    if np.sum(grain_location_focus)==0: continue\n",
    "    current_microstructure_focus_updated = current_microstructure_focus*grain_location_focus\n",
    "    \n",
    "    if GB_id in GB_infomation_dict_list[time_step]:\n",
    "        # Calculate velocity\n",
    "        growth_direction1 = (npy_file_aniso[time_step]==pair_id_pair_focus[0])*(npy_file_aniso[time_step+1]==pair_id_pair_focus[1])\n",
    "        growth_direction2 = (npy_file_aniso[time_step]==pair_id_pair_focus[1])*(npy_file_aniso[time_step+1]==pair_id_pair_focus[0])\n",
    "        dV = np.sum(growth_direction1)-np.sum(growth_direction2) # velocity with direction\n",
    "        # Calculate velocity\n",
    "        velocity = dV/time_interval/(GB_infomation_dict_list[time_step][GB_id][5]/2)\n",
    "        current_curvature_value = GB_infomation_dict_list[time_step][GB_id][4]\n",
    "    else:\n",
    "        velocity = 0\n",
    "        current_curvature_value = 0\n",
    "    \n",
    "    if ss<10:\n",
    "        ss_char = f'0{ss}'\n",
    "    else:\n",
    "        ss_char = f'{ss}'\n",
    "    ss+=1\n",
    "    figure_name_anti_curvature_detail = figure_name_anti_curvature = f\"anti_curvature_figures/Detail_2D_microstructure_key{GB_id}_step.00{ss_char}._{case_name}.png\"\n",
    "    plt.figure(figsize=(7,7))\n",
    "    plt.imshow(current_microstructure_focus_updated,vmin=0,vmax=20000)\n",
    "    plt.xlim([x_lim_min, x_lim_max])\n",
    "    plt.ylim([y_lim_max, y_lim_min])\n",
    "    if round(velocity,2)*round(current_curvature_value,3)<0:\n",
    "        plt.title(rf\"v: {round(velocity,2)} $\\kappa$: {round(current_curvature_value,3)} at step {time_step}\", color='orange', fontsize=16)\n",
    "    else:\n",
    "        plt.title(rf\"v: {round(velocity,2)} $\\kappa$: {round(current_curvature_value,3)} at step {time_step}\", fontsize=16)\n",
    "    # plt.axis(\"off\")\n",
    "    # plt.savefig(figure_name_anti_curvature_detail, dpi=400,bbox_inches='tight')"
   ]
  },
  {
   "cell_type": "code",
   "execution_count": null,
   "id": "b508666b-2912-4561-b1de-3aaf4631a472",
   "metadata": {
    "tags": []
   },
   "outputs": [],
   "source": [
    "\n",
    "def energy_function_m_axis(m_polar_angle, m_azimuth_angle):\n",
    "    return abs(np.cos(m_azimuth_angle)) * m_polar_angle / np.pi\n",
    "\n",
    "def energy_function_m_axis_new(m_polar_angle, m_azimuth_angle):\n",
    "    # ss = abs(np.cos(m_azimuth_angle/2)) + abs(np.cos(m_polar_angle))\n",
    "    \n",
    "    ss = (abs(np.cos(m_azimuth_angle/2))**0.4 + abs(np.cos(m_polar_angle))**0.4)\n",
    "    if ss > 1: return 1\n",
    "    else: return ss\n",
    "    \n",
    "    # if abs(m_azimuth_angle-np.pi) < np.pi/18 and abs(m_polar_angle - np.pi/2) < np.pi/36: return 0.0\n",
    "    # else: return 1.0\n",
    "    \n",
    "    # return (abs(np.cos(m_azimuth_angle/2))**1.0 + abs(np.cos(m_polar_angle))**1.0)\n",
    "\n",
    "def energy_function_m(m_polar_angle, m_azimuth_angle, m_angle):\n",
    "    max_m_angle = 10/180*np.pi\n",
    "    if m_angle == 0: return 0\n",
    "    if m_angle>max_m_angle: m_angle=max_m_angle-0.00001\n",
    "    m_angle_impact = m_angle/max_m_angle*(1-np.log(m_angle/max_m_angle))\n",
    "    return energy_function_m_axis_new(m_polar_angle, m_azimuth_angle)*m_angle_impact\n",
    "\n",
    "def energy_function_i_axis(i_polar_angle, i_azimuth_angle):\n",
    "    return 0.3 + abs(np.cos(i_azimuth_angle)) * (0.7 + i_polar_angle / (np.pi/2) * (0.3 - 0.7))\n",
    "\n",
    "def energy_function_final(m_polar_angle, m_azimuth_angle, m_angle, i_polar_angle, i_azimuth_angle):\n",
    "    \n",
    "    if i_polar_angle>np.pi/2: i_polar_angle = np.pi-i_polar_angle\n",
    "    m_energy_impact = energy_function_m(m_polar_angle, m_azimuth_angle, m_angle)\n",
    "    return 0.3 + abs(np.cos(i_azimuth_angle)) * (0.7*m_energy_impact + i_polar_angle / (np.pi/2) * (0.3*m_energy_impact - 0.7*m_energy_impact))\n",
    "\n",
    "\n",
    "def rotation_matrix_from_vectors(vec1, vec2):\n",
    "    \"\"\" Find the rotation matrix that aligns vec1 to vec2\n",
    "    :param vec1: A 3d \"source\" vector\n",
    "    :param vec2: A 3d \"destination\" vector\n",
    "    :return mat: A transform matrix (3x3) which when applied to vec1, aligns it with vec2.\n",
    "    \"\"\"\n",
    "    a, b = (vec1 / np.linalg.norm(vec1)).reshape(3), (vec2 / np.linalg.norm(vec2)).reshape(3)\n",
    "    v = np.cross(a, b)\n",
    "    c = np.dot(a, b)\n",
    "    s = np.linalg.norm(v)\n",
    "    kmat = np.array([[0, -v[2], v[1]], [v[2], 0, -v[0]], [-v[1], v[0], 0]])\n",
    "    rotation_matrix = np.eye(3) + kmat + kmat.dot(kmat) * ((1 - c) / (s ** 2))\n",
    "    return rotation_matrix"
   ]
  },
  {
   "cell_type": "code",
   "execution_count": null,
   "id": "11b10ead-c344-4335-b3f6-a9fd2aaea54d",
   "metadata": {},
   "outputs": [],
   "source": [
    "# # Plot more information for a focus GB\n",
    "\n",
    "# # Misorientation\n",
    "# init_file_folder = \"/blue/michael.tonks/lin.yang/SPPARKS-VirtualIncEnergy/2d_poly_multiCoreCompare/IC/\"\n",
    "# init_file_name = f\"Case4.init\"\n",
    "# # misorientation calculation preparation\n",
    "# grain_nums = 20000\n",
    "# Osym = 24\n",
    "# symm2quat_matrix, quartAngle = post_processing.pre_operation_misorientation(grain_nums, init_file_folder + init_file_name, Osym)\n",
    "# print(\"> Pre-work done\")\n",
    "\n",
    "# misorientation = post_processing.multiP_calM(list(map(int,pair_id_pair_focus)), quartAngle, symm2quat_matrix, Osym)\n",
    "# misorientation_angle = misorientation[0] # miso angle in randians\n",
    "# misorientation_axis = misorientation[1:]\n",
    "\n",
    "# # misorientation energy\n",
    "# m_polar_angle = math.acos(round(misorientation_axis[2],3))\n",
    "# m_azimuth_angle = math.atan2(misorientation_axis[1], misorientation_axis[0]) + np.pi\n",
    "# print(f\"The m-angle: {misorientation_angle/np.pi*180}, m_polar_angle: {m_polar_angle/np.pi*180}, m_azimuth_angle: {m_azimuth_angle/np.pi*180}\")\n",
    "# print(f\"The misorientation energy: {energy_function_m(m_polar_angle, m_azimuth_angle, misorientation_angle)}\")\n",
    "\n"
   ]
  },
  {
   "cell_type": "code",
   "execution_count": null,
   "id": "de699200-8f67-45dc-ad6e-02b0aa8101d5",
   "metadata": {},
   "outputs": [],
   "source": [
    "# # inclination\n",
    "# GB_infomation_inc_dict_list = []\n",
    "# for time_step in tqdm(range(step_num)):\n",
    "#     data_file_name = f\"GB_velocity_data/2D_inclination_velocity_data_{case_name}_step{time_step}.npz\"\n",
    "#     if os.path.exists(data_file_folder + data_file_name):\n",
    "#         npz_file = np.load(data_file_folder + data_file_name,allow_pickle=True)\n",
    "#         GB_infomation_inc_dict = npz_file[\"GB_infomation_dict\"]\n",
    "#         GB_infomation_inc_dict_list.append(GB_infomation_inc_dict.item())\n",
    "#     else:\n",
    "#         print(f\"Please run inclination-velocity analysis for {case_name}\")\n",
    "#         break\n",
    "\n",
    "# time_interval = 30\n",
    "# GB_inclination_energy_list = []\n",
    "# GB_final_energy_list = []\n",
    "# GB_velocity_list = []\n",
    "# for time_step in range(step_num):\n",
    "#     if time_step+1 >= step_num: continue\n",
    "#     if key_focus not in GB_infomation_inc_dict_list[time_step]: continue\n",
    "#     if GB_infomation_inc_dict_list[time_step+1].get(key_focus) is None: continue\n",
    "#     # Calculate volumn change\n",
    "#     growth_direction1 = (npy_file_aniso[time_step]==pair_id_pair_focus[0])*(npy_file_aniso[time_step+1]==pair_id_pair_focus[1])\n",
    "#     growth_direction2 = (npy_file_aniso[time_step]==pair_id_pair_focus[1])*(npy_file_aniso[time_step+1]==pair_id_pair_focus[0])\n",
    "#     dV = np.sum(growth_direction1)-np.sum(growth_direction2) # velocity with direction\n",
    "#     # Calculate velocity\n",
    "#     velocity = dV/time_interval/(GB_infomation_inc_dict_list[time_step][key_focus][6]/2)\n",
    "#     # change velocity sign with curvature\n",
    "#     current_curvature_value = GB_infomation_dict_list[time_step][key_focus][4]\n",
    "#     # make curvature always opposite\n",
    "#     if current_curvature_value<0: \n",
    "#         current_curvature_value = -current_curvature_value\n",
    "#         velocity = -velocity\n",
    "    \n",
    "#     GB_velocity_list.append(velocity)\n",
    "\n",
    "#     # Get inclination\n",
    "#     DX, DY = GB_infomation_inc_dict_list[time_step][key_focus][4:6]\n",
    "#     vec_len = np.sqrt(DX**2+DY**2)\n",
    "#     if vec_len==0: dx, dy = 0, 0\n",
    "#     else: dx, dy = -DX/vec_len, DY/vec_len # the process just repeated get_grad(P,i,j) in myInput.py \n",
    "#     dz = 0\n",
    "#     dy = -dy # Update the issue in VECTOR\n",
    "#     inclination = np.array([dx,dy,dz])\n",
    "#     # Get misorientation\n",
    "#     # rotate misorientation axis to z axis, and incliantion to final vector\n",
    "#     z_axis = np.array([0,0,1])\n",
    "#     rotation_matrix_m_axis_to_z_axis = rotation_matrix_from_vectors(misorientation_axis, z_axis)\n",
    "#     incliantion_refer_m_axis = rotation_matrix_m_axis_to_z_axis.dot(inclination)\n",
    "#     # Get polar and azimuth dsitribution\n",
    "#     i_polar_angle = math.acos(round(incliantion_refer_m_axis[2],3))\n",
    "#     i_azimuth_angle = math.atan2(incliantion_refer_m_axis[1], incliantion_refer_m_axis[0]) + np.pi\n",
    "    \n",
    "#     # inclination energy\n",
    "#     inclination_energy = energy_function_i_axis(i_polar_angle, i_azimuth_angle)\n",
    "#     final_energy = energy_function_final(m_polar_angle, m_azimuth_angle, misorientation_angle, i_polar_angle, i_azimuth_angle)\n",
    "#     GB_inclination_energy_list.append(inclination_energy)\n",
    "#     GB_final_energy_list.append(final_energy)\n",
    "#     # print(inclination_energy)\n",
    "#     # print(final_energy)\n",
    "#     # print()\n",
    "\n",
    "\n"
   ]
  },
  {
   "cell_type": "code",
   "execution_count": null,
   "id": "4212a4ef-e7ad-4490-b5dc-48195c9defc7",
   "metadata": {},
   "outputs": [],
   "source": [
    "\n",
    "# GB_inclination_energy_list = np.array(GB_inclination_energy_list)\n",
    "# GB_velocity_list = np.array(GB_velocity_list)\n",
    "# GB_final_energy_list = np.array(GB_final_energy_list)\n",
    "\n",
    "# wanted_steps = GB_velocity_list<0\n",
    "# alpha_list = np.linspace(0.2,1,np.sum(wanted_steps))\n",
    "# figure_name_one_GB = f\"figures/2D_velocity_inclinationE_{case_name}_GB{key_focus}_5d.png\"\n",
    "# plt.figure()\n",
    "# fig = plt.figure(figsize=(7, 7))\n",
    "# import matplotlib as mpl\n",
    "# cmap = mpl.colormaps['tab20']\n",
    "# colors = cmap(np.linspace(0, 1, 20))\n",
    "# plt.scatter(GB_inclination_energy_list[wanted_steps], GB_velocity_list[wanted_steps],s=8,alpha=alpha_list,c=colors[0])\n",
    "# plt.scatter(GB_inclination_energy_list[~wanted_steps], GB_velocity_list[~wanted_steps],s=8,alpha=0.2,c=colors[6])\n",
    "# plt.plot(GB_inclination_energy_list,GB_velocity_list,alpha=0.1)\n",
    "# plt.xlabel(\"inclination energy\", fontsize=18)\n",
    "# plt.ylabel(\"velocity (voxel/step)\", fontsize=18)\n",
    "# # plt.xlim([0.334,0.35])\n",
    "# plt.ylim([-0.2,0.2])\n",
    "# plt.legend([\"anti-c\", \"c\", \"sequence\"],fontsize=18)\n",
    "# plt.title(f\"GBid {key_focus} step all\")\n",
    "# # plt.savefig(figure_name_one_GB, dpi=400,bbox_inches='tight')"
   ]
  },
  {
   "cell_type": "markdown",
   "id": "df3c7fa0-8e13-4939-a880-0e5bf2f8a11d",
   "metadata": {},
   "source": [
    "## TJ study\n"
   ]
  },
  {
   "cell_type": "code",
   "execution_count": 35,
   "id": "e018ea3f-1eaa-4306-b2e8-ba4cd4a338f3",
   "metadata": {
    "tags": []
   },
   "outputs": [
    {
     "name": "stderr",
     "output_type": "stream",
     "text": [
      "100%|██████████| 121/121 [1:50:25<00:00, 54.75s/it]\n"
     ]
    }
   ],
   "source": [
    "    # GB_id_unfocus_lowE_detail and GB_id_focus_detail\n",
    "    \n",
    "    # reorginaize the data structure for GB_id_unfocus_lowE_detail and GB_id_focus_detail\n",
    "    GB_id_unfocus_lowE_detail_time = dict()\n",
    "    GB_id_focus_detail_time = dict()\n",
    "    for key in GB_id_unfocus_lowE_detail:\n",
    "        for key_time in GB_id_unfocus_lowE_detail[key]:\n",
    "            if key_time in GB_id_unfocus_lowE_detail_time:\n",
    "                GB_id_unfocus_lowE_detail_time[key_time].append(key)\n",
    "            else: \n",
    "                GB_id_unfocus_lowE_detail_time[key_time] = [key]\n",
    "                \n",
    "    for key in GB_id_focus_detail:\n",
    "        for key_time in GB_id_focus_detail[key]:\n",
    "            if key_time in GB_id_focus_detail_time:\n",
    "                GB_id_focus_detail_time[key_time].append(key)\n",
    "            else:\n",
    "                GB_id_focus_detail_time[key_time] = [key]\n",
    "            \n",
    "            \n",
    "    # find the TJ around GB with anti-c behavior or low energy c behavior \n",
    "    site_energy_per_unit_focus_list = []\n",
    "    site_energy_per_unit_unfocus_list = []\n",
    "    for time_step in tqdm(range(step_num)):\n",
    "        \n",
    "        if time_step not in GB_id_focus_detail_time: current_focus_GB_id = []\n",
    "        else: current_focus_GB_id = GB_id_focus_detail_time[time_step]\n",
    "        if time_step not in GB_id_unfocus_lowE_detail_time: current_unfocus_GB_id = []\n",
    "        else: current_unfocus_GB_id = GB_id_unfocus_lowE_detail_time[time_step]\n",
    "        if len(current_focus_GB_id) == 0 and len(current_unfocus_GB_id) == 0: continue\n",
    "        # current_GB_id = []\n",
    "        # current_GB_id.extend(current_focus_GB_id)\n",
    "        # current_GB_id.extend(current_unfocus_GB_id)\n",
    "        current_microstructure = npy_file_aniso[time_step]\n",
    "        current_energy = npy_file_aniso_energy[time_step]\n",
    "        \n",
    "        \n",
    "\n",
    "        \n",
    "        size_x, size_y = npy_file_aniso[time_step].shape[0:2]\n",
    "        k=0\n",
    "        for i in range(size_x):\n",
    "            for j in range(size_y):\n",
    "\n",
    "                ip,im,jp,jm = myInput.periodic_bc(size_x,size_y,i,j)\n",
    "                # find window and jump over GB and grain bulk\n",
    "                neighboring_sites_full_list = np.array([current_microstructure[i,j,k], current_microstructure[ip,jp,k], current_microstructure[ip,j,k], current_microstructure[ip,jm,k], current_microstructure[i,jp,k], current_microstructure[i,jm,k], current_microstructure[im,jp,k], current_microstructure[im,j,k], current_microstructure[im,jm,k]]).astype(int)\n",
    "                grain_id_num_in_window = np.unique(neighboring_sites_full_list)\n",
    "                if len(grain_id_num_in_window) < 3: continue\n",
    "                \n",
    "                # \n",
    "                do_you_find = 0\n",
    "                for current_key in current_focus_GB_id:\n",
    "                    pair_id_pair_focus = GB_infomation_dict_list[time_step][current_key][6:8]\n",
    "                    if pair_id_pair_focus[0] in grain_id_num_in_window and pair_id_pair_focus[0] in grain_id_num_in_window:\n",
    "                        # do \n",
    "                        site_energy = current_energy[i,j,k]\n",
    "                        num_nei = 0\n",
    "                        for nei in neighboring_sites_full_list[1:]:\n",
    "                            if neighboring_sites_full_list[0] != nei: num_nei += 1\n",
    "                        site_energy_per_unit_focus_list.append(site_energy/num_nei)\n",
    "                        do_you_find += 1\n",
    "                        break\n",
    "                if do_you_find > 0: continue\n",
    "                for current_key in current_unfocus_GB_id:\n",
    "                    pair_id_pair_focus = GB_infomation_dict_list[time_step][current_key][6:8]\n",
    "                    if pair_id_pair_focus[0] in grain_id_num_in_window and pair_id_pair_focus[0] in grain_id_num_in_window:\n",
    "                        # do \n",
    "                        site_energy = current_energy[i,j,k]\n",
    "                        num_nei = 0\n",
    "                        for nei in neighboring_sites_full_list[1:]:\n",
    "                            if neighboring_sites_full_list[0] != nei: num_nei += 1\n",
    "                        site_energy_per_unit_unfocus_list.append(site_energy/num_nei)\n",
    "                        break\n",
    "                        \n",
    "                \n",
    "    xLim = [0,2.0]\n",
    "    binValue = 0.01001\n",
    "    binNum = round((abs(xLim[0])+abs(xLim[1]))/binValue)\n",
    "    xCor = np.linspace((xLim[0]+binValue/2),(xLim[1]-binValue/2),binNum)\n",
    "    freqArray_focus = np.zeros(binNum)\n",
    "    freqArray_unfocus = np.zeros(binNum)\n",
    "\n",
    "    for i in range(len(site_energy_per_unit_focus_list)): freqArray_focus[int((site_energy_per_unit_focus_list[i] - xCor[0]) / binValue)] += 1\n",
    "    for i in range(len(site_energy_per_unit_unfocus_list)): freqArray_unfocus[int((site_energy_per_unit_unfocus_list[i] - xCor[0]) / binValue)] += 1\n",
    "        \n",
    "            \n",
    "            \n",
    "            "
   ]
  },
  {
   "cell_type": "code",
   "execution_count": 36,
   "id": "507f29ba-42b1-4b69-933a-ca317668c164",
   "metadata": {
    "tags": []
   },
   "outputs": [
    {
     "data": {
      "text/plain": [
       "<matplotlib.legend.Legend at 0x150e47f25430>"
      ]
     },
     "execution_count": 36,
     "metadata": {},
     "output_type": "execute_result"
    },
    {
     "data": {
      "image/png": "[encoded data removed]",
      "text/plain": [
       "<Figure size 504x504 with 1 Axes>"
      ]
     },
     "metadata": {
      "needs_background": "light"
     },
     "output_type": "display_data"
    }
   ],
   "source": [
    "    freqArray_focus = freqArray_focus/np.sum(freqArray_focus)\n",
    "    freqArray_unfocus = freqArray_unfocus/np.sum(freqArray_unfocus)\n",
    "\n",
    "    plt.figure(figsize=(7,7))\n",
    "    plt.plot(xCor, freqArray_focus, label='anti-c')\n",
    "    plt.plot(xCor, freqArray_unfocus, label='c')\n",
    "    plt.xlim([0.25,1.05])\n",
    "    # plt.ylim([-0.15,0.15])\n",
    "    plt.xlabel(\"GB energy\", fontsize=18)\n",
    "    plt.ylabel(\"Frequency\", fontsize=18)\n",
    "    plt.legend(fontsize=18)\n",
    "    # plt.savefig(figure_name_all_bin, dpi=400,bbox_inches='tight')\n"
   ]
  },
  {
   "cell_type": "code",
   "execution_count": null,
   "id": "ce9edf05-842a-467b-9e55-8ce1d1fde9ed",
   "metadata": {
    "tags": []
   },
   "outputs": [],
   "source": []
  },
  {
   "cell_type": "code",
   "execution_count": null,
   "id": "202e892d-2149-4fd4-ac47-878df34fda4b",
   "metadata": {},
   "outputs": [],
   "source": []
  }
 ],
 "metadata": {
  "kernelspec": {
   "display_name": "UFRC Python-3.8",
   "language": "python",
   "name": "python3-3.8-ufrc"
  },
  "language_info": {
   "codemirror_mode": {
    "name": "ipython",
    "version": 3
   },
   "file_extension": ".py",
   "mimetype": "text/x-python",
   "name": "python",
   "nbconvert_exporter": "python",
   "pygments_lexer": "ipython3",
   "version": "3.8.15"
  }
 },
 "nbformat": 4,
 "nbformat_minor": 5
}
