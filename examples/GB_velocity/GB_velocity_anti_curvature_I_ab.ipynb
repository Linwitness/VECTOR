{
 "cells": [
  {
   "cell_type": "code",
   "execution_count": 1,
   "id": "4b195c7c-3d58-4d9f-b559-8e34a5e9789a",
   "metadata": {
    "tags": []
   },
   "outputs": [
    {
     "data": {
      "text/plain": [
       "<module 'PACKAGE_MP_Linear' from '/home/lin.yang/projects/VECTOR/examples/GB_velocity/../../PACKAGE_MP_Linear.py'>"
      ]
     },
     "execution_count": 1,
     "metadata": {},
     "output_type": "execute_result"
    }
   ],
   "source": [
    "import os\n",
    "current_path = os.getcwd()\n",
    "import numpy as np\n",
    "from numpy import seterr\n",
    "seterr(all='raise')\n",
    "import matplotlib.pyplot as plt\n",
    "import math\n",
    "import random\n",
    "from tqdm import tqdm\n",
    "import sys\n",
    "sys.path.append(current_path)\n",
    "sys.path.append(current_path+'/../../')\n",
    "import myInput\n",
    "import PACKAGE_MP_Linear as linear2d\n",
    "import post_processing\n",
    "import PACKAGE_MP_3DLinear as Linear_3D\n",
    "import PACKAGE_MP_3DVertex as Vertex_3D\n",
    "sys.path.append(current_path+'/../calculate_tangent/')\n",
    "\n",
    "import importlib\n",
    "importlib.reload(post_processing)\n",
    "importlib.reload(Linear_3D)\n",
    "importlib.reload(linear2d)\n",
    "\n"
   ]
  },
  {
   "cell_type": "markdown",
   "id": "29d8158d-5d09-4363-b3e8-1a7d857a34ba",
   "metadata": {
    "tags": []
   },
   "source": [
    "## 2D case"
   ]
  },
  {
   "cell_type": "code",
   "execution_count": 2,
   "id": "f6ac1373-cac0-435c-bc23-f9c1aa0ef8eb",
   "metadata": {},
   "outputs": [
    {
     "name": "stdout",
     "output_type": "stream",
     "text": [
      "The I_20k_3 data size is: (201, 2400, 2400, 1)\n",
      "READING DATA DONE\n",
      "The I_20k_3 data size is: (201, 2400, 2400, 1)\n",
      "READING ENERGY DATA DONE\n"
     ]
    }
   ],
   "source": [
    "if __name__ == '__main__':\n",
    "    # File name\n",
    "    data_file_folder = \"/blue/michael.tonks/lin.yang/VECTOR_data/\"\n",
    "    npy_file_folder = \"/blue/michael.tonks/lin.yang/SPPARKS-VirtualIncEnergy/2d_poly_fully/results/\"\n",
    "    # npy_file_folder = \"/blue/michael.tonks/lin.yang/SPPARKS-VirtualIncEnergy/2d_poly_wellEnergy/results/\"\n",
    "    case_name = \"I_20k_3\"\n",
    "    npy_file_name_aniso = f\"p_aveE_fzab3_fully5d_20k_J1_f0.0_t1.0_refer_1_0_0_seed56689_kt0.66.npy\"\n",
    "    # npy_file_name_aniso = f\"p_aveE_20000_Cos_delta0.0_J1_refer_1_0_0_seed56689_kt0.66.npy\"\n",
    "    \n",
    "    npy_file_name_aniso_energy = f\"p_aveE_fzab3_fully5d_20k_J1_f0.0_t1.0_refer_1_0_0_seed56689_kt0.66_energy.npy\"\n",
    "    # npy_file_name_aniso_energy = f\"p_aveE_20000_Cos_delta0.0_J1_refer_1_0_0_seed56689_kt0.66_energy.npy\"\n",
    "    \n",
    "    # Initial data\n",
    "    npy_file_aniso = np.load(npy_file_folder + npy_file_name_aniso) # microstructure\n",
    "    npy_file_aniso = npy_file_aniso.astype(int)\n",
    "    print(f\"The {case_name} data size is: {npy_file_aniso.shape}\")\n",
    "    print(\"READING DATA DONE\")\n",
    "    npy_file_aniso_energy = np.load(npy_file_folder + npy_file_name_aniso_energy) # energy\n",
    "    print(f\"The {case_name} data size is: {npy_file_aniso_energy.shape}\")\n",
    "    print(\"READING ENERGY DATA DONE\")\n",
    "    step_num, size_x, size_y, size_z = npy_file_aniso.shape"
   ]
  },
  {
   "cell_type": "code",
   "execution_count": 3,
   "id": "cf79df83-4b0f-45e6-b225-75a2353df3fd",
   "metadata": {
    "tags": []
   },
   "outputs": [],
   "source": [
    "step_1000grains = 21"
   ]
  },
  {
   "cell_type": "code",
   "execution_count": 4,
   "id": "7ab679ee-41d7-47d6-8d75-847eeab7fe6b",
   "metadata": {},
   "outputs": [
    {
     "name": "stderr",
     "output_type": "stream",
     "text": [
      "100%|██████████| 121/121 [00:01<00:00, 118.41it/s]\n"
     ]
    }
   ],
   "source": [
    "    # GB information\n",
    "    step_num=121\n",
    "    grain_nums = 20000\n",
    "    GB_infomation_dict_list = []\n",
    "    curvature_matrix_list = []\n",
    "    for time_step in tqdm(range(step_num)):\n",
    "        data_file_name = f\"GB_velocity_data/2D_signedcurvature_velocity_data_{case_name}_step{time_step}.npz\"\n",
    "        data_curvature_file_name = f\"GB_velocity_data/2D_matrix_signedcurvature_data_{case_name}_step{time_step}.npz\"\n",
    "        if os.path.exists(data_file_folder + data_file_name):\n",
    "            npz_file = np.load(data_file_folder + data_file_name,allow_pickle=True)\n",
    "            GB_infomation_dict = npz_file[\"GB_infomation_dict\"]\n",
    "            GB_infomation_dict_list.append(GB_infomation_dict.item())\n",
    "        else:\n",
    "            current_microstructure = npy_file_aniso[time_step]\n",
    "            # get curvature with sign\n",
    "            if os.path.exists(data_file_folder + data_curvature_file_name):\n",
    "                npz_file_curvature = np.load(data_file_folder + data_curvature_file_name)\n",
    "                curvature_matrix = npz_file_curvature[\"curvature_matrix\"]\n",
    "                curvature_matrix_list.append(curvature_matrix)\n",
    "            else:\n",
    "                cores = 128\n",
    "                loop_times = 5\n",
    "                R = np.zeros((size_x,size_y,3))\n",
    "                smoothing_class = linear2d.linear_class(size_x,size_y,grain_nums,cores,loop_times,current_microstructure[:,:,0],R,verification_system = False,curvature_sign = True)\n",
    "                smoothing_class.linear_main(\"curvature\")\n",
    "                C_ln = smoothing_class.get_C()\n",
    "                curvature_matrix = C_ln[1,:]\n",
    "                curvature_matrix_list.append(curvature_matrix)\n",
    "                # save curvature information\n",
    "                # np.savez(data_file_folder + data_curvature_file_name, curvature_matrix=curvature_matrix)\n",
    "            print(\"Finish curvature calculation\")\n",
    "            \n",
    "            # Get TJ and QJ information first\n",
    "            TJ_infomation_dict = dict()\n",
    "            for index, result in np.ndenumerate(current_microstructure):\n",
    "                i,j,k = index\n",
    "                ip,im,jp,jm = myInput.periodic_bc(size_x,size_y,i,j)\n",
    "                if ( ((current_microstructure[ip,j,k]-current_microstructure[i,j,k])!=0) or ((current_microstructure[im,j,k]-current_microstructure[i,j,k])!=0) or\\\n",
    "                     ((current_microstructure[i,jp,k]-current_microstructure[i,j,k])!=0) or ((current_microstructure[i,jm,k]-current_microstructure[i,j,k])!=0) ):\n",
    "                    central_site = int(current_microstructure[i,j,k])\n",
    "                    neighboring_sites_list = np.array([current_microstructure[ip,j,k], current_microstructure[i,jp,k], current_microstructure[im,j,k], current_microstructure[i,jm,k]]).astype(int)\n",
    "                    neighboring_sites_set = set(neighboring_sites_list) # Get all unique neighboring sites\n",
    "                    if central_site in neighboring_sites_set: neighboring_sites_set.remove(central_site) # remove central site\n",
    "                    neighboring_sites_list_unque = list(neighboring_sites_set)\n",
    "                    # remove the TJs and QJs\n",
    "                    if len(neighboring_sites_list_unque) > 1: \n",
    "                        for m in range(len(neighboring_sites_list_unque)):\n",
    "                            pair_id = post_processing.get_line(central_site, neighboring_sites_list_unque[m]) # get pair id\n",
    "                            if pair_id in TJ_infomation_dict:\n",
    "                                tmp = TJ_infomation_dict[pair_id]\n",
    "                                tmp.append([i,j,k])\n",
    "                                TJ_infomation_dict[pair_id] = tmp\n",
    "                            else: \n",
    "                                TJ_infomation_dict[pair_id] = [[i,j,k]]\n",
    "            print(\"Finish TJ extraction\")\n",
    "            \n",
    "            # Get the center of each GB\n",
    "            GB_infomation_dict = dict()\n",
    "            TJ_distance_max = 6 # voxels\n",
    "            for index, result in np.ndenumerate(current_microstructure):\n",
    "                i,j,k = index\n",
    "                ip,im,jp,jm = myInput.periodic_bc(size_x,size_y,i,j)\n",
    "                if ( ((current_microstructure[ip,j,k]-current_microstructure[i,j,k])!=0) or ((current_microstructure[im,j,k]-current_microstructure[i,j,k])!=0) or\\\n",
    "                     ((current_microstructure[i,jp,k]-current_microstructure[i,j,k])!=0) or ((current_microstructure[i,jm,k]-current_microstructure[i,j,k])!=0) ):\n",
    "                    central_site = int(current_microstructure[i,j,k])\n",
    "                    neighboring_sites_list = np.array([current_microstructure[ip,j,k], current_microstructure[i,jp,k], current_microstructure[im,j,k], current_microstructure[i,jm,k]]).astype(int)\n",
    "                    neighboring_sites_set = set(neighboring_sites_list) # Get all unique neighboring sites\n",
    "                    if central_site in neighboring_sites_set: neighboring_sites_set.remove(central_site) # remove central site\n",
    "                    neighboring_sites_list_unque = list(neighboring_sites_set)\n",
    "                    # remove the TJs and QJs\n",
    "                    if len(neighboring_sites_list_unque) > 1: continue # only remove TJs and QJs\n",
    "                    # CONTINUE...    # remove the voxels around TJs and QJs\n",
    "                    # check the GB voxels is close to TJ or not\n",
    "                    break_point = 0\n",
    "                    pair_id = post_processing.get_line(central_site, neighboring_sites_list_unque[0]) # get pair id\n",
    "                    if central_site<neighboring_sites_list_unque[0]: pair_id_pair = [central_site, neighboring_sites_list_unque[0]]\n",
    "                    else: pair_id_pair = [neighboring_sites_list_unque[0], central_site]\n",
    "                    if pair_id in GB_infomation_dict:\n",
    "                        GB_infomation_dict[pair_id][5] += 1 # GB area\n",
    "                    else:\n",
    "                        GB_infomation = np.array([0,0,0,0,0.0,1,pair_id_pair[0],pair_id_pair[1]]) # GBnum-curvature,i,j,k,curvature,GBnum,gid0,gid1\n",
    "                        GB_infomation_dict[pair_id] = GB_infomation\n",
    "                    if pair_id in TJ_infomation_dict:\n",
    "                        for TJ_site in TJ_infomation_dict[pair_id]:\n",
    "                            TJ_distance = np.linalg.norm(index-np.array(TJ_site))\n",
    "                            if TJ_distance < TJ_distance_max: \n",
    "                                break_point = 1\n",
    "                                break\n",
    "                    if break_point == 1: continue\n",
    "                    # calculate or extract misorientation\n",
    "                    # if pair_id in GB_infomation_dict:\n",
    "                    GB_infomation_dict[pair_id][0] += 1\n",
    "                    if central_site == pair_id_pair[0]:\n",
    "                        GB_infomation_dict[pair_id][1:5] += np.array([i,j,k,curvature_matrix[i,j]])\n",
    "                    else:\n",
    "                        GB_infomation_dict[pair_id][1:5] += np.array([i,j,k,-curvature_matrix[i,j]])\n",
    "                    \n",
    "            # get the correct location for each GB\n",
    "            small_GB_list = []\n",
    "            for key in GB_infomation_dict: \n",
    "                if GB_infomation_dict[key][0] == 0: \n",
    "                    small_GB_list.append(key) # remove the small GB with 0 voxels after remove voxels close to TJs\n",
    "            for s_index in range(len(small_GB_list)): GB_infomation_dict.pop(small_GB_list[s_index])\n",
    "            for key in GB_infomation_dict: \n",
    "                GB_infomation_dict[key][1:5]=GB_infomation_dict[key][1:5]/GB_infomation_dict[key][0]\n",
    "            print(f\"Current GBs len at {time_step} steps: {len(GB_infomation_dict)}\")\n",
    "            # save information\n",
    "            np.savez(data_file_folder + data_file_name, GB_infomation_dict=GB_infomation_dict)\n",
    "            GB_infomation_dict_list.append(GB_infomation_dict)"
   ]
  },
  {
   "cell_type": "code",
   "execution_count": 5,
   "id": "1c863c6b-9fd9-45b7-b4ca-b9188479c80d",
   "metadata": {},
   "outputs": [
    {
     "name": "stderr",
     "output_type": "stream",
     "text": [
      "100%|██████████| 121/121 [00:01<00:00, 118.43it/s]\n"
     ]
    }
   ],
   "source": [
    "    # GB Energy information\n",
    "    step_num=121\n",
    "    grain_nums = 20000\n",
    "    GBenergy_information_dict_list = []\n",
    "    for time_step in tqdm(range(step_num)):\n",
    "        data_file_name_GBenergy = f\"GB_velocity_data/2D_GBenergy_velocity_data_{case_name}_step{time_step}.npz\"\n",
    "        if os.path.exists(data_file_folder + data_file_name_GBenergy):\n",
    "            npz_file = np.load(data_file_folder + data_file_name_GBenergy,allow_pickle=True)\n",
    "            GBenergy_information_dict = npz_file[\"GBenergy_information_dict\"]\n",
    "            GBenergy_information_dict_list.append(GBenergy_information_dict.item())\n",
    "        else:\n",
    "            current_microstructure = npy_file_aniso[time_step]\n",
    "            current_energy = npy_file_aniso_energy[time_step]\n",
    "\n",
    "            # Get TJ and QJ information first\n",
    "            TJ_infomation_dict = dict()\n",
    "            for index, result in np.ndenumerate(current_microstructure):\n",
    "                i,j,k = index\n",
    "                ip,im,jp,jm = myInput.periodic_bc(size_x,size_y,i,j)\n",
    "                if ( ((current_microstructure[ip,j,k]-current_microstructure[i,j,k])!=0) or ((current_microstructure[im,j,k]-current_microstructure[i,j,k])!=0) or\\\n",
    "                     ((current_microstructure[i,jp,k]-current_microstructure[i,j,k])!=0) or ((current_microstructure[i,jm,k]-current_microstructure[i,j,k])!=0) ):\n",
    "                    central_site = int(current_microstructure[i,j,k])\n",
    "                    neighboring_sites_list = np.array([current_microstructure[ip,j,k], current_microstructure[i,jp,k], current_microstructure[im,j,k], current_microstructure[i,jm,k]]).astype(int)\n",
    "                    neighboring_sites_set = set(neighboring_sites_list) # Get all unique neighboring sites\n",
    "                    if central_site in neighboring_sites_set: neighboring_sites_set.remove(central_site) # remove central site\n",
    "                    neighboring_sites_list_unque = list(neighboring_sites_set)\n",
    "                    # remove the TJs and QJs\n",
    "                    if len(neighboring_sites_list_unque) > 1: \n",
    "                        for m in range(len(neighboring_sites_list_unque)):\n",
    "                            pair_id = post_processing.get_line(central_site, neighboring_sites_list_unque[m]) # get pair id\n",
    "                            if pair_id in TJ_infomation_dict:\n",
    "                                tmp = TJ_infomation_dict[pair_id]\n",
    "                                tmp.append([i,j,k])\n",
    "                                TJ_infomation_dict[pair_id] = tmp\n",
    "                            else: \n",
    "                                TJ_infomation_dict[pair_id] = [[i,j,k]]\n",
    "            print(\"Finish TJ extraction\")\n",
    "\n",
    "            # Get the center of each GB\n",
    "            GBenergy_information_dict = dict()\n",
    "            TJ_distance_max = 6 # voxels\n",
    "            for index, result in np.ndenumerate(current_microstructure):\n",
    "                i,j,k = index\n",
    "                ip,im,jp,jm = myInput.periodic_bc(size_x,size_y,i,j)\n",
    "                if ( ((current_microstructure[ip,j,k]-current_microstructure[i,j,k])!=0) or ((current_microstructure[im,j,k]-current_microstructure[i,j,k])!=0) or\\\n",
    "                     ((current_microstructure[i,jp,k]-current_microstructure[i,j,k])!=0) or ((current_microstructure[i,jm,k]-current_microstructure[i,j,k])!=0) ):\n",
    "                    central_site = int(current_microstructure[i,j,k])\n",
    "                    neighboring_sites_list = np.array([current_microstructure[ip,j,k], current_microstructure[i,jp,k], current_microstructure[im,j,k], current_microstructure[i,jm,k]]).astype(int)\n",
    "                    neighboring_sites_set = set(neighboring_sites_list) # Get all unique neighboring sites\n",
    "                    if central_site in neighboring_sites_set: neighboring_sites_set.remove(central_site) # remove central site\n",
    "                    neighboring_sites_list_unque = list(neighboring_sites_set)\n",
    "                    num_other_sites = 0\n",
    "                    neighboring_sites_full_list = np.array([current_microstructure[ip,jp,k], current_microstructure[ip,j,k], current_microstructure[ip,jm,k], current_microstructure[i,jp,k], current_microstructure[i,jm,k], current_microstructure[im,jp,k], current_microstructure[im,j,k], current_microstructure[im,jm,k]]).astype(int)\n",
    "                    for neigh_site in neighboring_sites_full_list:\n",
    "                        if neigh_site != central_site: num_other_sites += 1 # get the sites num different with central id\n",
    "                    # remove the TJs and QJs\n",
    "                    if len(neighboring_sites_list_unque) > 1: continue # only remove TJs and QJs\n",
    "                    # CONTINUE...    # remove the voxels around TJs and QJs\n",
    "                    # check the GB voxels is close to TJ or not\n",
    "                    break_point = 0\n",
    "                    pair_id = post_processing.get_line(central_site, neighboring_sites_list_unque[0]) # get pair id\n",
    "                    if central_site<neighboring_sites_list_unque[0]: pair_id_pair = [central_site, neighboring_sites_list_unque[0]]\n",
    "                    else: pair_id_pair = [neighboring_sites_list_unque[0], central_site]\n",
    "                    if pair_id in GBenergy_information_dict:\n",
    "                        GBenergy_information_dict[pair_id][5] += 1 # GB area\n",
    "                    else:\n",
    "                        GB_infomation = np.array([0,0,0,0,0.0,1,pair_id_pair[0],pair_id_pair[1]]) # GBnum-energy,i,j,k,GB energy,GBnum,gid0,gid1\n",
    "                        GBenergy_information_dict[pair_id] = GB_infomation\n",
    "                    if pair_id in TJ_infomation_dict:\n",
    "                        for TJ_site in TJ_infomation_dict[pair_id]:\n",
    "                            TJ_distance = np.linalg.norm(index-np.array(TJ_site))\n",
    "                            if TJ_distance < TJ_distance_max: \n",
    "                                break_point = 1\n",
    "                                break\n",
    "                    if break_point == 1: continue\n",
    "                    # calculate or extract misorientation\n",
    "                    # if pair_id in GBenergy_information_dict:\n",
    "                    GBenergy_information_dict[pair_id][0] += 1\n",
    "                    GBenergy_information_dict[pair_id][1:5] += np.array([i,j,k,current_energy[i,j,k]/num_other_sites])\n",
    "\n",
    "            # get the correct location for each GB\n",
    "            small_GB_list = []\n",
    "            for key in GBenergy_information_dict: \n",
    "                if GBenergy_information_dict[key][0] == 0: \n",
    "                    small_GB_list.append(key) # remove the small GB with 0 voxels after remove voxels close to TJs\n",
    "            for s_index in range(len(small_GB_list)): GBenergy_information_dict.pop(small_GB_list[s_index])\n",
    "            for key in GBenergy_information_dict: \n",
    "                GBenergy_information_dict[key][1:5]=GBenergy_information_dict[key][1:5]/GBenergy_information_dict[key][0]\n",
    "            print(f\"Current GBs len at {time_step} steps: {len(GBenergy_information_dict)}\")\n",
    "            # save information\n",
    "            np.savez(data_file_folder + data_file_name_GBenergy, GBenergy_information_dict=GBenergy_information_dict)\n",
    "            GBenergy_information_dict_list.append(GBenergy_information_dict)"
   ]
  },
  {
   "cell_type": "code",
   "execution_count": 22,
   "id": "6aa1a164-84e3-47ae-a192-fd7d956f6a2e",
   "metadata": {},
   "outputs": [
    {
     "name": "stdout",
     "output_type": "stream",
     "text": [
      "key num start with 22827\n",
      "key num end with 0\n"
     ]
    },
    {
     "name": "stderr",
     "output_type": "stream",
     "text": [
      "0it [00:00, ?it/s]\n"
     ]
    },
    {
     "name": "stdout",
     "output_type": "stream",
     "text": [
      "finish 0 with num of GBs 0, and collected num of GBs 0\n",
      "key num start with 17977\n",
      "key num end with 0\n"
     ]
    },
    {
     "name": "stderr",
     "output_type": "stream",
     "text": [
      "0it [00:00, ?it/s]\n"
     ]
    },
    {
     "name": "stdout",
     "output_type": "stream",
     "text": [
      "finish 1 with num of GBs 0, and collected num of GBs 0\n",
      "key num start with 15339\n",
      "key num end with 0\n"
     ]
    },
    {
     "name": "stderr",
     "output_type": "stream",
     "text": [
      "0it [00:00, ?it/s]\n"
     ]
    },
    {
     "name": "stdout",
     "output_type": "stream",
     "text": [
      "finish 2 with num of GBs 0, and collected num of GBs 0\n",
      "key num start with 12698\n",
      "key num end with 0\n"
     ]
    },
    {
     "name": "stderr",
     "output_type": "stream",
     "text": [
      "0it [00:00, ?it/s]\n"
     ]
    },
    {
     "name": "stdout",
     "output_type": "stream",
     "text": [
      "finish 3 with num of GBs 0, and collected num of GBs 0\n",
      "key num start with 10902\n",
      "key num end with 2\n"
     ]
    },
    {
     "name": "stderr",
     "output_type": "stream",
     "text": [
      "100%|██████████| 2/2 [00:00<00:00, 59918.63it/s]\n"
     ]
    },
    {
     "name": "stdout",
     "output_type": "stream",
     "text": [
      "finish 4 with num of GBs 2, and collected num of GBs 1\n",
      "key num start with 9378\n",
      "key num end with 0\n"
     ]
    },
    {
     "name": "stderr",
     "output_type": "stream",
     "text": [
      "0it [00:00, ?it/s]\n"
     ]
    },
    {
     "name": "stdout",
     "output_type": "stream",
     "text": [
      "finish 5 with num of GBs 0, and collected num of GBs 1\n",
      "key num start with 8255\n",
      "key num end with 5\n"
     ]
    },
    {
     "name": "stderr",
     "output_type": "stream",
     "text": [
      "100%|██████████| 5/5 [00:00<00:00, 146653.99it/s]\n"
     ]
    },
    {
     "name": "stdout",
     "output_type": "stream",
     "text": [
      "finish 6 with num of GBs 5, and collected num of GBs 1\n",
      "key num start with 7333\n",
      "key num end with 6\n"
     ]
    },
    {
     "name": "stderr",
     "output_type": "stream",
     "text": [
      "100%|██████████| 6/6 [00:00<00:00, 171196.08it/s]\n"
     ]
    },
    {
     "name": "stdout",
     "output_type": "stream",
     "text": [
      "finish 7 with num of GBs 6, and collected num of GBs 1\n",
      "key num start with 6649\n",
      "key num end with 16\n"
     ]
    },
    {
     "name": "stderr",
     "output_type": "stream",
     "text": [
      "100%|██████████| 16/16 [00:00<00:00, 335544.32it/s]\n"
     ]
    },
    {
     "name": "stdout",
     "output_type": "stream",
     "text": [
      "finish 8 with num of GBs 16, and collected num of GBs 1\n",
      "key num start with 5974\n",
      "key num end with 12\n"
     ]
    },
    {
     "name": "stderr",
     "output_type": "stream",
     "text": [
      "100%|██████████| 12/12 [00:00<00:00, 278075.40it/s]\n"
     ]
    },
    {
     "name": "stdout",
     "output_type": "stream",
     "text": [
      "finish 9 with num of GBs 12, and collected num of GBs 2\n",
      "key num start with 5514\n",
      "key num end with 13\n"
     ]
    },
    {
     "name": "stderr",
     "output_type": "stream",
     "text": [
      "100%|██████████| 13/13 [00:00<00:00, 291582.63it/s]\n"
     ]
    },
    {
     "name": "stdout",
     "output_type": "stream",
     "text": [
      "finish 10 with num of GBs 13, and collected num of GBs 3\n",
      "key num start with 5069\n",
      "key num end with 13\n"
     ]
    },
    {
     "name": "stderr",
     "output_type": "stream",
     "text": [
      "100%|██████████| 13/13 [00:00<00:00, 294734.88it/s]\n"
     ]
    },
    {
     "name": "stdout",
     "output_type": "stream",
     "text": [
      "finish 11 with num of GBs 13, and collected num of GBs 4\n",
      "key num start with 4698\n",
      "key num end with 15\n"
     ]
    },
    {
     "name": "stderr",
     "output_type": "stream",
     "text": [
      "100%|██████████| 15/15 [00:00<00:00, 324301.86it/s]\n"
     ]
    },
    {
     "name": "stdout",
     "output_type": "stream",
     "text": [
      "finish 12 with num of GBs 15, and collected num of GBs 4\n",
      "key num start with 4351\n",
      "key num end with 16\n"
     ]
    },
    {
     "name": "stderr",
     "output_type": "stream",
     "text": [
      "100%|██████████| 16/16 [00:00<00:00, 333874.95it/s]\n"
     ]
    },
    {
     "name": "stdout",
     "output_type": "stream",
     "text": [
      "finish 13 with num of GBs 16, and collected num of GBs 4\n",
      "key num start with 4077\n",
      "key num end with 15\n"
     ]
    },
    {
     "name": "stderr",
     "output_type": "stream",
     "text": [
      "100%|██████████| 15/15 [00:00<00:00, 308404.71it/s]\n"
     ]
    },
    {
     "name": "stdout",
     "output_type": "stream",
     "text": [
      "finish 14 with num of GBs 15, and collected num of GBs 6\n",
      "key num start with 3822\n",
      "key num end with 15\n"
     ]
    },
    {
     "name": "stderr",
     "output_type": "stream",
     "text": [
      "100%|██████████| 15/15 [00:00<00:00, 305410.49it/s]\n"
     ]
    },
    {
     "name": "stdout",
     "output_type": "stream",
     "text": [
      "finish 15 with num of GBs 15, and collected num of GBs 7\n",
      "key num start with 3639\n",
      "key num end with 21\n"
     ]
    },
    {
     "name": "stderr",
     "output_type": "stream",
     "text": [
      "100%|██████████| 21/21 [00:00<00:00, 370085.65it/s]\n"
     ]
    },
    {
     "name": "stdout",
     "output_type": "stream",
     "text": [
      "finish 16 with num of GBs 21, and collected num of GBs 8\n",
      "key num start with 3444\n",
      "key num end with 16\n"
     ]
    },
    {
     "name": "stderr",
     "output_type": "stream",
     "text": [
      "100%|██████████| 16/16 [00:00<00:00, 332222.10it/s]\n"
     ]
    },
    {
     "name": "stdout",
     "output_type": "stream",
     "text": [
      "finish 17 with num of GBs 16, and collected num of GBs 10\n",
      "key num start with 3254\n",
      "key num end with 13\n"
     ]
    },
    {
     "name": "stderr",
     "output_type": "stream",
     "text": [
      "100%|██████████| 13/13 [00:00<00:00, 304614.26it/s]\n"
     ]
    },
    {
     "name": "stdout",
     "output_type": "stream",
     "text": [
      "finish 18 with num of GBs 13, and collected num of GBs 10\n",
      "key num start with 3115\n",
      "key num end with 9\n"
     ]
    },
    {
     "name": "stderr",
     "output_type": "stream",
     "text": [
      "100%|██████████| 9/9 [00:00<00:00, 204047.22it/s]\n"
     ]
    },
    {
     "name": "stdout",
     "output_type": "stream",
     "text": [
      "finish 19 with num of GBs 9, and collected num of GBs 11\n",
      "key num start with 2947\n",
      "key num end with 8\n"
     ]
    },
    {
     "name": "stderr",
     "output_type": "stream",
     "text": [
      "100%|██████████| 8/8 [00:00<00:00, 219310.01it/s]\n"
     ]
    },
    {
     "name": "stdout",
     "output_type": "stream",
     "text": [
      "finish 20 with num of GBs 8, and collected num of GBs 11\n",
      "key num start with 2801\n",
      "key num end with 14\n"
     ]
    },
    {
     "name": "stderr",
     "output_type": "stream",
     "text": [
      "100%|██████████| 14/14 [00:00<00:00, 266910.25it/s]\n"
     ]
    },
    {
     "name": "stdout",
     "output_type": "stream",
     "text": [
      "finish 21 with num of GBs 14, and collected num of GBs 11\n",
      "key num start with 2694\n",
      "key num end with 17\n"
     ]
    },
    {
     "name": "stderr",
     "output_type": "stream",
     "text": [
      "100%|██████████| 17/17 [00:00<00:00, 349525.33it/s]\n"
     ]
    },
    {
     "name": "stdout",
     "output_type": "stream",
     "text": [
      "finish 22 with num of GBs 17, and collected num of GBs 11\n",
      "key num start with 2581\n",
      "key num end with 14\n"
     ]
    },
    {
     "name": "stderr",
     "output_type": "stream",
     "text": [
      "100%|██████████| 14/14 [00:00<00:00, 312341.79it/s]\n"
     ]
    },
    {
     "name": "stdout",
     "output_type": "stream",
     "text": [
      "finish 23 with num of GBs 14, and collected num of GBs 12\n",
      "key num start with 2462\n",
      "key num end with 13\n"
     ]
    },
    {
     "name": "stderr",
     "output_type": "stream",
     "text": [
      "100%|██████████| 13/13 [00:00<00:00, 297956.02it/s]\n"
     ]
    },
    {
     "name": "stdout",
     "output_type": "stream",
     "text": [
      "finish 24 with num of GBs 13, and collected num of GBs 13\n",
      "key num start with 2352\n",
      "key num end with 9\n"
     ]
    },
    {
     "name": "stderr",
     "output_type": "stream",
     "text": [
      "100%|██████████| 9/9 [00:00<00:00, 230175.22it/s]\n"
     ]
    },
    {
     "name": "stdout",
     "output_type": "stream",
     "text": [
      "finish 25 with num of GBs 9, and collected num of GBs 15\n",
      "key num start with 2262\n",
      "key num end with 7\n"
     ]
    },
    {
     "name": "stderr",
     "output_type": "stream",
     "text": [
      "100%|██████████| 7/7 [00:00<00:00, 205315.58it/s]\n"
     ]
    },
    {
     "name": "stdout",
     "output_type": "stream",
     "text": [
      "finish 26 with num of GBs 7, and collected num of GBs 15\n",
      "key num start with 2203\n",
      "key num end with 9\n"
     ]
    },
    {
     "name": "stderr",
     "output_type": "stream",
     "text": [
      "100%|██████████| 9/9 [00:00<00:00, 235929.60it/s]\n"
     ]
    },
    {
     "name": "stdout",
     "output_type": "stream",
     "text": [
      "finish 27 with num of GBs 9, and collected num of GBs 15\n",
      "key num start with 2125\n",
      "key num end with 12\n"
     ]
    },
    {
     "name": "stderr",
     "output_type": "stream",
     "text": [
      "100%|██████████| 12/12 [00:00<00:00, 290934.38it/s]\n"
     ]
    },
    {
     "name": "stdout",
     "output_type": "stream",
     "text": [
      "finish 28 with num of GBs 12, and collected num of GBs 15\n",
      "key num start with 2057\n",
      "key num end with 15\n"
     ]
    },
    {
     "name": "stderr",
     "output_type": "stream",
     "text": [
      "100%|██████████| 15/15 [00:00<00:00, 327680.00it/s]\n"
     ]
    },
    {
     "name": "stdout",
     "output_type": "stream",
     "text": [
      "finish 29 with num of GBs 15, and collected num of GBs 15\n",
      "key num start with 1977\n",
      "key num end with 15\n"
     ]
    },
    {
     "name": "stderr",
     "output_type": "stream",
     "text": [
      "100%|██████████| 15/15 [00:00<00:00, 324301.86it/s]\n"
     ]
    },
    {
     "name": "stdout",
     "output_type": "stream",
     "text": [
      "finish 30 with num of GBs 15, and collected num of GBs 17\n",
      "key num start with 1941\n",
      "key num end with 9\n"
     ]
    },
    {
     "name": "stderr",
     "output_type": "stream",
     "text": [
      "100%|██████████| 9/9 [00:00<00:00, 233016.89it/s]\n"
     ]
    },
    {
     "name": "stdout",
     "output_type": "stream",
     "text": [
      "finish 31 with num of GBs 9, and collected num of GBs 18\n",
      "key num start with 1865\n",
      "key num end with 8\n"
     ]
    },
    {
     "name": "stderr",
     "output_type": "stream",
     "text": [
      "100%|██████████| 8/8 [00:00<00:00, 215092.51it/s]\n"
     ]
    },
    {
     "name": "stdout",
     "output_type": "stream",
     "text": [
      "finish 32 with num of GBs 8, and collected num of GBs 19\n",
      "key num start with 1831\n",
      "key num end with 1\n"
     ]
    },
    {
     "name": "stderr",
     "output_type": "stream",
     "text": [
      "100%|██████████| 1/1 [00:00<00:00, 38130.04it/s]\n"
     ]
    },
    {
     "name": "stdout",
     "output_type": "stream",
     "text": [
      "finish 33 with num of GBs 1, and collected num of GBs 19\n",
      "key num start with 1780\n",
      "key num end with 8\n"
     ]
    },
    {
     "name": "stderr",
     "output_type": "stream",
     "text": [
      "100%|██████████| 8/8 [00:00<00:00, 198546.93it/s]\n"
     ]
    },
    {
     "name": "stdout",
     "output_type": "stream",
     "text": [
      "finish 34 with num of GBs 8, and collected num of GBs 19\n",
      "key num start with 1736\n",
      "key num end with 7\n"
     ]
    },
    {
     "name": "stderr",
     "output_type": "stream",
     "text": [
      "100%|██████████| 7/7 [00:00<00:00, 202483.64it/s]\n"
     ]
    },
    {
     "name": "stdout",
     "output_type": "stream",
     "text": [
      "finish 35 with num of GBs 7, and collected num of GBs 19\n",
      "key num start with 1690\n",
      "key num end with 7\n"
     ]
    },
    {
     "name": "stderr",
     "output_type": "stream",
     "text": [
      "100%|██████████| 7/7 [00:00<00:00, 185823.59it/s]\n"
     ]
    },
    {
     "name": "stdout",
     "output_type": "stream",
     "text": [
      "finish 36 with num of GBs 7, and collected num of GBs 22\n",
      "key num start with 1648\n",
      "key num end with 7\n"
     ]
    },
    {
     "name": "stderr",
     "output_type": "stream",
     "text": [
      "100%|██████████| 7/7 [00:00<00:00, 203889.78it/s]\n"
     ]
    },
    {
     "name": "stdout",
     "output_type": "stream",
     "text": [
      "finish 37 with num of GBs 7, and collected num of GBs 22\n",
      "key num start with 1625\n",
      "key num end with 3\n"
     ]
    },
    {
     "name": "stderr",
     "output_type": "stream",
     "text": [
      "100%|██████████| 3/3 [00:00<00:00, 102300.10it/s]\n"
     ]
    },
    {
     "name": "stdout",
     "output_type": "stream",
     "text": [
      "finish 38 with num of GBs 3, and collected num of GBs 22\n",
      "key num start with 1574\n",
      "key num end with 11\n"
     ]
    },
    {
     "name": "stderr",
     "output_type": "stream",
     "text": [
      "100%|██████████| 11/11 [00:00<00:00, 249391.05it/s]\n"
     ]
    },
    {
     "name": "stdout",
     "output_type": "stream",
     "text": [
      "finish 39 with num of GBs 11, and collected num of GBs 22\n",
      "key num start with 1548\n",
      "key num end with 13\n"
     ]
    },
    {
     "name": "stderr",
     "output_type": "stream",
     "text": [
      "100%|██████████| 13/13 [00:00<00:00, 293150.28it/s]\n"
     ]
    },
    {
     "name": "stdout",
     "output_type": "stream",
     "text": [
      "finish 40 with num of GBs 13, and collected num of GBs 22\n",
      "key num start with 1504\n",
      "key num end with 4\n"
     ]
    },
    {
     "name": "stderr",
     "output_type": "stream",
     "text": [
      "100%|██████████| 4/4 [00:00<00:00, 123361.88it/s]\n"
     ]
    },
    {
     "name": "stdout",
     "output_type": "stream",
     "text": [
      "finish 41 with num of GBs 4, and collected num of GBs 23\n",
      "key num start with 1471\n",
      "key num end with 6\n"
     ]
    },
    {
     "name": "stderr",
     "output_type": "stream",
     "text": [
      "100%|██████████| 6/6 [00:00<00:00, 175984.78it/s]\n"
     ]
    },
    {
     "name": "stdout",
     "output_type": "stream",
     "text": [
      "finish 42 with num of GBs 6, and collected num of GBs 23\n",
      "key num start with 1432\n",
      "key num end with 5\n"
     ]
    },
    {
     "name": "stderr",
     "output_type": "stream",
     "text": [
      "100%|██████████| 5/5 [00:00<00:00, 143640.55it/s]\n"
     ]
    },
    {
     "name": "stdout",
     "output_type": "stream",
     "text": [
      "finish 43 with num of GBs 5, and collected num of GBs 24\n",
      "key num start with 1409\n",
      "key num end with 10\n"
     ]
    },
    {
     "name": "stderr",
     "output_type": "stream",
     "text": [
      "100%|██████████| 10/10 [00:00<00:00, 242445.32it/s]\n"
     ]
    },
    {
     "name": "stdout",
     "output_type": "stream",
     "text": [
      "finish 44 with num of GBs 10, and collected num of GBs 25\n",
      "key num start with 1382\n",
      "key num end with 7\n"
     ]
    },
    {
     "name": "stderr",
     "output_type": "stream",
     "text": [
      "100%|██████████| 7/7 [00:00<00:00, 185823.59it/s]\n"
     ]
    },
    {
     "name": "stdout",
     "output_type": "stream",
     "text": [
      "finish 45 with num of GBs 7, and collected num of GBs 26\n",
      "key num start with 1358\n",
      "key num end with 8\n"
     ]
    },
    {
     "name": "stderr",
     "output_type": "stream",
     "text": [
      "100%|██████████| 8/8 [00:00<00:00, 225197.53it/s]\n"
     ]
    },
    {
     "name": "stdout",
     "output_type": "stream",
     "text": [
      "finish 46 with num of GBs 8, and collected num of GBs 26\n",
      "key num start with 1327\n",
      "key num end with 10\n"
     ]
    },
    {
     "name": "stderr",
     "output_type": "stream",
     "text": [
      "100%|██████████| 10/10 [00:00<00:00, 243854.88it/s]\n"
     ]
    },
    {
     "name": "stdout",
     "output_type": "stream",
     "text": [
      "finish 47 with num of GBs 10, and collected num of GBs 26\n",
      "key num start with 1296\n",
      "key num end with 6\n"
     ]
    },
    {
     "name": "stderr",
     "output_type": "stream",
     "text": [
      "100%|██████████| 6/6 [00:00<00:00, 168898.15it/s]\n"
     ]
    },
    {
     "name": "stdout",
     "output_type": "stream",
     "text": [
      "finish 48 with num of GBs 6, and collected num of GBs 27\n",
      "key num start with 1260\n",
      "key num end with 6\n"
     ]
    },
    {
     "name": "stderr",
     "output_type": "stream",
     "text": [
      "100%|██████████| 6/6 [00:00<00:00, 177224.11it/s]\n"
     ]
    },
    {
     "name": "stdout",
     "output_type": "stream",
     "text": [
      "finish 49 with num of GBs 6, and collected num of GBs 27\n",
      "key num start with 1248\n",
      "key num end with 11\n"
     ]
    },
    {
     "name": "stderr",
     "output_type": "stream",
     "text": [
      "100%|██████████| 11/11 [00:00<00:00, 266689.85it/s]\n"
     ]
    },
    {
     "name": "stdout",
     "output_type": "stream",
     "text": [
      "finish 50 with num of GBs 11, and collected num of GBs 27\n",
      "key num start with 1218\n",
      "key num end with 6\n"
     ]
    },
    {
     "name": "stderr",
     "output_type": "stream",
     "text": [
      "100%|██████████| 6/6 [00:00<00:00, 175984.78it/s]\n"
     ]
    },
    {
     "name": "stdout",
     "output_type": "stream",
     "text": [
      "finish 51 with num of GBs 6, and collected num of GBs 27\n",
      "key num start with 1196\n",
      "key num end with 4\n"
     ]
    },
    {
     "name": "stderr",
     "output_type": "stream",
     "text": [
      "100%|██████████| 4/4 [00:00<00:00, 129055.51it/s]\n"
     ]
    },
    {
     "name": "stdout",
     "output_type": "stream",
     "text": [
      "finish 52 with num of GBs 4, and collected num of GBs 27\n",
      "key num start with 1186\n",
      "key num end with 8\n"
     ]
    },
    {
     "name": "stderr",
     "output_type": "stream",
     "text": [
      "100%|██████████| 8/8 [00:00<00:00, 213722.50it/s]\n"
     ]
    },
    {
     "name": "stdout",
     "output_type": "stream",
     "text": [
      "finish 53 with num of GBs 8, and collected num of GBs 28\n",
      "key num start with 1167\n",
      "key num end with 1\n"
     ]
    },
    {
     "name": "stderr",
     "output_type": "stream",
     "text": [
      "100%|██████████| 1/1 [00:00<00:00, 37117.73it/s]"
     ]
    },
    {
     "name": "stdout",
     "output_type": "stream",
     "text": [
      "finish 54 with num of GBs 1, and collected num of GBs 28\n",
      "key num start with 1147\n",
      "key num end with 3\n"
     ]
    },
    {
     "name": "stderr",
     "output_type": "stream",
     "text": [
      "\n",
      "100%|██████████| 3/3 [00:00<00:00, 101475.10it/s]\n"
     ]
    },
    {
     "name": "stdout",
     "output_type": "stream",
     "text": [
      "finish 55 with num of GBs 3, and collected num of GBs 28\n",
      "key num start with 1127\n",
      "key num end with 4\n"
     ]
    },
    {
     "name": "stderr",
     "output_type": "stream",
     "text": [
      "100%|██████████| 4/4 [00:00<00:00, 129055.51it/s]\n"
     ]
    },
    {
     "name": "stdout",
     "output_type": "stream",
     "text": [
      "finish 56 with num of GBs 4, and collected num of GBs 28\n",
      "key num start with 1110\n",
      "key num end with 4\n"
     ]
    },
    {
     "name": "stderr",
     "output_type": "stream",
     "text": [
      "100%|██████████| 4/4 [00:00<00:00, 129055.51it/s]\n"
     ]
    },
    {
     "name": "stdout",
     "output_type": "stream",
     "text": [
      "finish 57 with num of GBs 4, and collected num of GBs 28\n",
      "key num start with 1092\n",
      "key num end with 5\n"
     ]
    },
    {
     "name": "stderr",
     "output_type": "stream",
     "text": [
      "100%|██████████| 5/5 [00:00<00:00, 155344.59it/s]\n"
     ]
    },
    {
     "name": "stdout",
     "output_type": "stream",
     "text": [
      "finish 58 with num of GBs 5, and collected num of GBs 28\n",
      "key num start with 1069\n",
      "key num end with 6\n"
     ]
    },
    {
     "name": "stderr",
     "output_type": "stream",
     "text": [
      "100%|██████████| 6/6 [00:00<00:00, 178481.02it/s]"
     ]
    },
    {
     "name": "stdout",
     "output_type": "stream",
     "text": [
      "finish 59 with num of GBs 6, and collected num of GBs 28\n",
      "key num start with 1056\n",
      "key num end with 2\n"
     ]
    },
    {
     "name": "stderr",
     "output_type": "stream",
     "text": [
      "\n",
      "100%|██████████| 2/2 [00:00<00:00, 69905.07it/s]\n"
     ]
    },
    {
     "name": "stdout",
     "output_type": "stream",
     "text": [
      "finish 60 with num of GBs 2, and collected num of GBs 28\n",
      "key num start with 1048\n",
      "key num end with 4\n"
     ]
    },
    {
     "name": "stderr",
     "output_type": "stream",
     "text": [
      "100%|██████████| 4/4 [00:00<00:00, 129055.51it/s]\n"
     ]
    },
    {
     "name": "stdout",
     "output_type": "stream",
     "text": [
      "finish 61 with num of GBs 4, and collected num of GBs 28\n",
      "key num start with 1031\n",
      "key num end with 10\n"
     ]
    },
    {
     "name": "stderr",
     "output_type": "stream",
     "text": [
      "100%|██████████| 10/10 [00:00<00:00, 220752.84it/s]\n"
     ]
    },
    {
     "name": "stdout",
     "output_type": "stream",
     "text": [
      "finish 62 with num of GBs 10, and collected num of GBs 29\n",
      "key num start with 1007\n",
      "key num end with 7\n"
     ]
    },
    {
     "name": "stderr",
     "output_type": "stream",
     "text": [
      "100%|██████████| 7/7 [00:00<00:00, 197047.84it/s]\n"
     ]
    },
    {
     "name": "stdout",
     "output_type": "stream",
     "text": [
      "finish 63 with num of GBs 7, and collected num of GBs 29\n",
      "key num start with 986\n",
      "key num end with 3\n"
     ]
    },
    {
     "name": "stderr",
     "output_type": "stream",
     "text": [
      "100%|██████████| 3/3 [00:00<00:00, 101475.10it/s]\n"
     ]
    },
    {
     "name": "stdout",
     "output_type": "stream",
     "text": [
      "finish 64 with num of GBs 3, and collected num of GBs 29\n",
      "key num start with 970\n",
      "key num end with 3\n"
     ]
    },
    {
     "name": "stderr",
     "output_type": "stream",
     "text": [
      "100%|██████████| 3/3 [00:00<00:00, 101475.10it/s]\n"
     ]
    },
    {
     "name": "stdout",
     "output_type": "stream",
     "text": [
      "finish 65 with num of GBs 3, and collected num of GBs 29\n",
      "key num start with 946\n",
      "key num end with 5\n"
     ]
    },
    {
     "name": "stderr",
     "output_type": "stream",
     "text": [
      "100%|██████████| 5/5 [00:00<00:00, 154202.35it/s]\n"
     ]
    },
    {
     "name": "stdout",
     "output_type": "stream",
     "text": [
      "finish 66 with num of GBs 5, and collected num of GBs 29\n",
      "key num start with 934\n",
      "key num end with 0\n"
     ]
    },
    {
     "name": "stderr",
     "output_type": "stream",
     "text": [
      "0it [00:00, ?it/s]\n"
     ]
    },
    {
     "name": "stdout",
     "output_type": "stream",
     "text": [
      "finish 67 with num of GBs 0, and collected num of GBs 29\n",
      "key num start with 921\n",
      "key num end with 1\n"
     ]
    },
    {
     "name": "stderr",
     "output_type": "stream",
     "text": [
      "100%|██████████| 1/1 [00:00<00:00, 38130.04it/s]\n"
     ]
    },
    {
     "name": "stdout",
     "output_type": "stream",
     "text": [
      "finish 68 with num of GBs 1, and collected num of GBs 29\n",
      "key num start with 904\n",
      "key num end with 4\n"
     ]
    },
    {
     "name": "stderr",
     "output_type": "stream",
     "text": [
      "100%|██████████| 4/4 [00:00<00:00, 118149.41it/s]\n"
     ]
    },
    {
     "name": "stdout",
     "output_type": "stream",
     "text": [
      "finish 69 with num of GBs 4, and collected num of GBs 30\n",
      "key num start with 888\n",
      "key num end with 3\n"
     ]
    },
    {
     "name": "stderr",
     "output_type": "stream",
     "text": [
      "100%|██████████| 3/3 [00:00<00:00, 103138.62it/s]\n"
     ]
    },
    {
     "name": "stdout",
     "output_type": "stream",
     "text": [
      "finish 70 with num of GBs 3, and collected num of GBs 30\n",
      "key num start with 878\n",
      "key num end with 6\n"
     ]
    },
    {
     "name": "stderr",
     "output_type": "stream",
     "text": [
      "100%|██████████| 6/6 [00:00<00:00, 175984.78it/s]\n"
     ]
    },
    {
     "name": "stdout",
     "output_type": "stream",
     "text": [
      "finish 71 with num of GBs 6, and collected num of GBs 30\n",
      "key num start with 872\n",
      "key num end with 2\n"
     ]
    },
    {
     "name": "stderr",
     "output_type": "stream",
     "text": [
      "100%|██████████| 2/2 [00:00<00:00, 64035.18it/s]\n"
     ]
    },
    {
     "name": "stdout",
     "output_type": "stream",
     "text": [
      "finish 72 with num of GBs 2, and collected num of GBs 30\n",
      "key num start with 855\n",
      "key num end with 5\n"
     ]
    },
    {
     "name": "stderr",
     "output_type": "stream",
     "text": [
      "100%|██████████| 5/5 [00:00<00:00, 155344.59it/s]\n"
     ]
    },
    {
     "name": "stdout",
     "output_type": "stream",
     "text": [
      "finish 73 with num of GBs 5, and collected num of GBs 30\n",
      "key num start with 854\n",
      "key num end with 6\n"
     ]
    },
    {
     "name": "stderr",
     "output_type": "stream",
     "text": [
      "100%|██████████| 6/6 [00:00<00:00, 179755.89it/s]\n"
     ]
    },
    {
     "name": "stdout",
     "output_type": "stream",
     "text": [
      "finish 74 with num of GBs 6, and collected num of GBs 30\n",
      "key num start with 833\n",
      "key num end with 2\n"
     ]
    },
    {
     "name": "stderr",
     "output_type": "stream",
     "text": [
      "100%|██████████| 2/2 [00:00<00:00, 72315.59it/s]"
     ]
    },
    {
     "name": "stdout",
     "output_type": "stream",
     "text": [
      "finish 75 with num of GBs 2, and collected num of GBs 30\n",
      "key num start with 831\n",
      "key num end with 3\n"
     ]
    },
    {
     "name": "stderr",
     "output_type": "stream",
     "text": [
      "\n",
      "100%|██████████| 3/3 [00:00<00:00, 99864.38it/s]\n"
     ]
    },
    {
     "name": "stdout",
     "output_type": "stream",
     "text": [
      "finish 76 with num of GBs 3, and collected num of GBs 30\n",
      "key num start with 826\n",
      "key num end with 4\n"
     ]
    },
    {
     "name": "stderr",
     "output_type": "stream",
     "text": [
      "100%|██████████| 4/4 [00:00<00:00, 130055.94it/s]\n"
     ]
    },
    {
     "name": "stdout",
     "output_type": "stream",
     "text": [
      "finish 77 with num of GBs 4, and collected num of GBs 30\n",
      "key num start with 812\n",
      "key num end with 2\n"
     ]
    },
    {
     "name": "stderr",
     "output_type": "stream",
     "text": [
      "100%|██████████| 2/2 [00:00<00:00, 63072.24it/s]\n"
     ]
    },
    {
     "name": "stdout",
     "output_type": "stream",
     "text": [
      "finish 78 with num of GBs 2, and collected num of GBs 30\n",
      "key num start with 804\n",
      "key num end with 5\n"
     ]
    },
    {
     "name": "stderr",
     "output_type": "stream",
     "text": [
      "100%|██████████| 5/5 [00:00<00:00, 154202.35it/s]"
     ]
    },
    {
     "name": "stdout",
     "output_type": "stream",
     "text": [
      "finish 79 with num of GBs 5, and collected num of GBs 30\n",
      "key num start with 797\n",
      "key num end with 3\n"
     ]
    },
    {
     "name": "stderr",
     "output_type": "stream",
     "text": [
      "\n",
      "100%|██████████| 3/3 [00:00<00:00, 103138.62it/s]"
     ]
    },
    {
     "name": "stdout",
     "output_type": "stream",
     "text": [
      "finish 80 with num of GBs 3, and collected num of GBs 30\n",
      "key num start with 782\n",
      "key num end with 5\n"
     ]
    },
    {
     "name": "stderr",
     "output_type": "stream",
     "text": [
      "\n",
      "100%|██████████| 5/5 [00:00<00:00, 155344.59it/s]\n"
     ]
    },
    {
     "name": "stdout",
     "output_type": "stream",
     "text": [
      "finish 81 with num of GBs 5, and collected num of GBs 30\n",
      "key num start with 772\n",
      "key num end with 1\n"
     ]
    },
    {
     "name": "stderr",
     "output_type": "stream",
     "text": [
      "100%|██████████| 1/1 [00:00<00:00, 37449.14it/s]\n"
     ]
    },
    {
     "name": "stdout",
     "output_type": "stream",
     "text": [
      "finish 82 with num of GBs 1, and collected num of GBs 30\n",
      "key num start with 760\n",
      "key num end with 4\n"
     ]
    },
    {
     "name": "stderr",
     "output_type": "stream",
     "text": [
      "100%|██████████| 4/4 [00:00<00:00, 132104.06it/s]"
     ]
    },
    {
     "name": "stdout",
     "output_type": "stream",
     "text": [
      "finish 83 with num of GBs 4, and collected num of GBs 30\n",
      "key num start with 749\n",
      "key num end with 4\n"
     ]
    },
    {
     "name": "stderr",
     "output_type": "stream",
     "text": [
      "\n",
      "100%|██████████| 4/4 [00:00<00:00, 129055.51it/s]\n"
     ]
    },
    {
     "name": "stdout",
     "output_type": "stream",
     "text": [
      "finish 84 with num of GBs 4, and collected num of GBs 30\n",
      "key num start with 742\n",
      "key num end with 2\n"
     ]
    },
    {
     "name": "stderr",
     "output_type": "stream",
     "text": [
      "100%|██████████| 2/2 [00:00<00:00, 72315.59it/s]\n"
     ]
    },
    {
     "name": "stdout",
     "output_type": "stream",
     "text": [
      "finish 85 with num of GBs 2, and collected num of GBs 30\n",
      "key num start with 733\n",
      "key num end with 6\n"
     ]
    },
    {
     "name": "stderr",
     "output_type": "stream",
     "text": [
      "100%|██████████| 6/6 [00:00<00:00, 179755.89it/s]\n"
     ]
    },
    {
     "name": "stdout",
     "output_type": "stream",
     "text": [
      "finish 86 with num of GBs 6, and collected num of GBs 30\n",
      "key num start with 726\n",
      "key num end with 1\n"
     ]
    },
    {
     "name": "stderr",
     "output_type": "stream",
     "text": [
      "100%|██████████| 1/1 [00:00<00:00, 36472.21it/s]\n"
     ]
    },
    {
     "name": "stdout",
     "output_type": "stream",
     "text": [
      "finish 87 with num of GBs 1, and collected num of GBs 30\n",
      "key num start with 717\n",
      "key num end with 6\n"
     ]
    },
    {
     "name": "stderr",
     "output_type": "stream",
     "text": [
      "100%|██████████| 6/6 [00:00<00:00, 175984.78it/s]"
     ]
    },
    {
     "name": "stdout",
     "output_type": "stream",
     "text": [
      "finish 88 with num of GBs 6, and collected num of GBs 30\n",
      "key num start with 713\n",
      "key num end with 5\n"
     ]
    },
    {
     "name": "stderr",
     "output_type": "stream",
     "text": [
      "\n",
      "100%|██████████| 5/5 [00:00<00:00, 156503.88it/s]\n"
     ]
    },
    {
     "name": "stdout",
     "output_type": "stream",
     "text": [
      "finish 89 with num of GBs 5, and collected num of GBs 30\n",
      "key num start with 706\n",
      "key num end with 3\n"
     ]
    },
    {
     "name": "stderr",
     "output_type": "stream",
     "text": [
      "100%|██████████| 3/3 [00:00<00:00, 102300.10it/s]\n"
     ]
    },
    {
     "name": "stdout",
     "output_type": "stream",
     "text": [
      "finish 90 with num of GBs 3, and collected num of GBs 30\n",
      "key num start with 702\n",
      "key num end with 0\n"
     ]
    },
    {
     "name": "stderr",
     "output_type": "stream",
     "text": [
      "0it [00:00, ?it/s]\n"
     ]
    },
    {
     "name": "stdout",
     "output_type": "stream",
     "text": [
      "finish 91 with num of GBs 0, and collected num of GBs 30\n",
      "key num start with 696\n",
      "key num end with 4\n"
     ]
    },
    {
     "name": "stderr",
     "output_type": "stream",
     "text": [
      "100%|██████████| 4/4 [00:00<00:00, 129055.51it/s]\n"
     ]
    },
    {
     "name": "stdout",
     "output_type": "stream",
     "text": [
      "finish 92 with num of GBs 4, and collected num of GBs 30\n",
      "key num start with 688\n",
      "key num end with 2\n"
     ]
    },
    {
     "name": "stderr",
     "output_type": "stream",
     "text": [
      "100%|██████████| 2/2 [00:00<00:00, 67650.06it/s]"
     ]
    },
    {
     "name": "stdout",
     "output_type": "stream",
     "text": [
      "finish 93 with num of GBs 2, and collected num of GBs 31\n",
      "key num start with 683\n",
      "key num end with 1\n"
     ]
    },
    {
     "name": "stderr",
     "output_type": "stream",
     "text": [
      "\n",
      "100%|██████████| 1/1 [00:00<00:00, 38836.15it/s]\n"
     ]
    },
    {
     "name": "stdout",
     "output_type": "stream",
     "text": [
      "finish 94 with num of GBs 1, and collected num of GBs 31\n",
      "key num start with 674\n",
      "key num end with 1\n"
     ]
    },
    {
     "name": "stderr",
     "output_type": "stream",
     "text": [
      "100%|██████████| 1/1 [00:00<00:00, 38836.15it/s]"
     ]
    },
    {
     "name": "stdout",
     "output_type": "stream",
     "text": [
      "finish 95 with num of GBs 1, and collected num of GBs 31\n",
      "key num start with 673\n",
      "key num end with 1\n"
     ]
    },
    {
     "name": "stderr",
     "output_type": "stream",
     "text": [
      "\n",
      "100%|██████████| 1/1 [00:00<00:00, 37117.73it/s]\n"
     ]
    },
    {
     "name": "stdout",
     "output_type": "stream",
     "text": [
      "finish 96 with num of GBs 1, and collected num of GBs 31\n",
      "key num start with 669\n",
      "key num end with 3\n"
     ]
    },
    {
     "name": "stderr",
     "output_type": "stream",
     "text": [
      "100%|██████████| 3/3 [00:00<00:00, 99078.05it/s]\n"
     ]
    },
    {
     "name": "stdout",
     "output_type": "stream",
     "text": [
      "finish 97 with num of GBs 3, and collected num of GBs 32\n",
      "key num start with 658\n",
      "key num end with 0\n"
     ]
    },
    {
     "name": "stderr",
     "output_type": "stream",
     "text": [
      "0it [00:00, ?it/s]\n"
     ]
    },
    {
     "name": "stdout",
     "output_type": "stream",
     "text": [
      "finish 98 with num of GBs 0, and collected num of GBs 32\n",
      "key num start with 652\n",
      "key num end with 0\n"
     ]
    },
    {
     "name": "stderr",
     "output_type": "stream",
     "text": [
      "0it [00:00, ?it/s]\n"
     ]
    },
    {
     "name": "stdout",
     "output_type": "stream",
     "text": [
      "finish 99 with num of GBs 0, and collected num of GBs 32\n",
      "key num start with 647\n",
      "key num end with 4\n"
     ]
    },
    {
     "name": "stderr",
     "output_type": "stream",
     "text": [
      "100%|██████████| 4/4 [00:00<00:00, 130055.94it/s]"
     ]
    },
    {
     "name": "stdout",
     "output_type": "stream",
     "text": [
      "finish 100 with num of GBs 4, and collected num of GBs 32\n",
      "key num start with 643\n",
      "key num end with 2\n"
     ]
    },
    {
     "name": "stderr",
     "output_type": "stream",
     "text": [
      "\n",
      "100%|██████████| 2/2 [00:00<00:00, 71089.90it/s]\n"
     ]
    },
    {
     "name": "stdout",
     "output_type": "stream",
     "text": [
      "finish 101 with num of GBs 2, and collected num of GBs 32\n",
      "key num start with 639\n",
      "key num end with 0\n"
     ]
    },
    {
     "name": "stderr",
     "output_type": "stream",
     "text": [
      "0it [00:00, ?it/s]"
     ]
    },
    {
     "name": "stdout",
     "output_type": "stream",
     "text": [
      "finish 102 with num of GBs 0, and collected num of GBs 32\n",
      "key num start with 633\n",
      "key num end with 2\n"
     ]
    },
    {
     "name": "stderr",
     "output_type": "stream",
     "text": [
      "\n",
      "100%|██████████| 2/2 [00:00<00:00, 71697.50it/s]\n"
     ]
    },
    {
     "name": "stdout",
     "output_type": "stream",
     "text": [
      "finish 103 with num of GBs 2, and collected num of GBs 32\n",
      "key num start with 624\n",
      "key num end with 3\n"
     ]
    },
    {
     "name": "stderr",
     "output_type": "stream",
     "text": [
      "100%|██████████| 3/3 [00:00<00:00, 97541.95it/s]\n"
     ]
    },
    {
     "name": "stdout",
     "output_type": "stream",
     "text": [
      "finish 104 with num of GBs 3, and collected num of GBs 33\n",
      "key num start with 618\n",
      "key num end with 2\n"
     ]
    },
    {
     "name": "stderr",
     "output_type": "stream",
     "text": [
      "100%|██████████| 2/2 [00:00<00:00, 16545.58it/s]\n"
     ]
    },
    {
     "name": "stdout",
     "output_type": "stream",
     "text": [
      "finish 105 with num of GBs 2, and collected num of GBs 33\n",
      "key num start with 613\n",
      "key num end with 1\n"
     ]
    },
    {
     "name": "stderr",
     "output_type": "stream",
     "text": [
      "100%|██████████| 1/1 [00:00<00:00, 38130.04it/s]\n"
     ]
    },
    {
     "name": "stdout",
     "output_type": "stream",
     "text": [
      "finish 106 with num of GBs 1, and collected num of GBs 33\n",
      "key num start with 603\n",
      "key num end with 1\n"
     ]
    },
    {
     "name": "stderr",
     "output_type": "stream",
     "text": [
      "100%|██████████| 1/1 [00:00<00:00, 30615.36it/s]\n"
     ]
    },
    {
     "name": "stdout",
     "output_type": "stream",
     "text": [
      "finish 107 with num of GBs 1, and collected num of GBs 33\n",
      "key num start with 599\n",
      "key num end with 1\n"
     ]
    },
    {
     "name": "stderr",
     "output_type": "stream",
     "text": [
      "100%|██████████| 1/1 [00:00<00:00, 38836.15it/s]\n"
     ]
    },
    {
     "name": "stdout",
     "output_type": "stream",
     "text": [
      "finish 108 with num of GBs 1, and collected num of GBs 33\n",
      "key num start with 596\n",
      "key num end with 2\n"
     ]
    },
    {
     "name": "stderr",
     "output_type": "stream",
     "text": [
      "100%|██████████| 2/2 [00:00<00:00, 72944.42it/s]\n"
     ]
    },
    {
     "name": "stdout",
     "output_type": "stream",
     "text": [
      "finish 109 with num of GBs 2, and collected num of GBs 33\n",
      "key num start with 585\n",
      "key num end with 1\n"
     ]
    },
    {
     "name": "stderr",
     "output_type": "stream",
     "text": [
      "100%|██████████| 1/1 [00:00<00:00, 38130.04it/s]\n"
     ]
    },
    {
     "name": "stdout",
     "output_type": "stream",
     "text": [
      "finish 110 with num of GBs 1, and collected num of GBs 33\n",
      "key num start with 577\n",
      "key num end with 3\n"
     ]
    },
    {
     "name": "stderr",
     "output_type": "stream",
     "text": [
      "100%|██████████| 3/3 [00:00<00:00, 103991.01it/s]\n"
     ]
    },
    {
     "name": "stdout",
     "output_type": "stream",
     "text": [
      "finish 111 with num of GBs 3, and collected num of GBs 33\n",
      "key num start with 572\n",
      "key num end with 0\n"
     ]
    },
    {
     "name": "stderr",
     "output_type": "stream",
     "text": [
      "0it [00:00, ?it/s]\n"
     ]
    },
    {
     "name": "stdout",
     "output_type": "stream",
     "text": [
      "finish 112 with num of GBs 0, and collected num of GBs 33\n",
      "key num start with 568\n",
      "key num end with 0\n"
     ]
    },
    {
     "name": "stderr",
     "output_type": "stream",
     "text": [
      "0it [00:00, ?it/s]\n"
     ]
    },
    {
     "name": "stdout",
     "output_type": "stream",
     "text": [
      "finish 113 with num of GBs 0, and collected num of GBs 33\n",
      "key num start with 561\n",
      "key num end with 2\n"
     ]
    },
    {
     "name": "stderr",
     "output_type": "stream",
     "text": [
      "100%|██████████| 2/2 [00:00<00:00, 71089.90it/s]\n"
     ]
    },
    {
     "name": "stdout",
     "output_type": "stream",
     "text": [
      "finish 114 with num of GBs 2, and collected num of GBs 33\n",
      "key num start with 557\n",
      "key num end with 3\n"
     ]
    },
    {
     "name": "stderr",
     "output_type": "stream",
     "text": [
      "100%|██████████| 3/3 [00:00<00:00, 99864.38it/s]"
     ]
    },
    {
     "name": "stdout",
     "output_type": "stream",
     "text": [
      "finish 115 with num of GBs 3, and collected num of GBs 33\n",
      "key num start with 556\n",
      "key num end with 3\n"
     ]
    },
    {
     "name": "stderr",
     "output_type": "stream",
     "text": [
      "\n",
      "100%|██████████| 3/3 [00:00<00:00, 103991.01it/s]\n"
     ]
    },
    {
     "name": "stdout",
     "output_type": "stream",
     "text": [
      "finish 116 with num of GBs 3, and collected num of GBs 33\n",
      "key num start with 555\n",
      "key num end with 5\n"
     ]
    },
    {
     "name": "stderr",
     "output_type": "stream",
     "text": [
      "100%|██████████| 5/5 [00:00<00:00, 149796.57it/s]\n"
     ]
    },
    {
     "name": "stdout",
     "output_type": "stream",
     "text": [
      "finish 117 with num of GBs 5, and collected num of GBs 34\n",
      "key num start with 555\n",
      "key num end with 1\n"
     ]
    },
    {
     "name": "stderr",
     "output_type": "stream",
     "text": [
      "100%|██████████| 1/1 [00:00<00:00, 38130.04it/s]\n"
     ]
    },
    {
     "name": "stdout",
     "output_type": "stream",
     "text": [
      "finish 118 with num of GBs 1, and collected num of GBs 34\n",
      "key num start with 547\n",
      "key num end with 1\n"
     ]
    },
    {
     "name": "stderr",
     "output_type": "stream",
     "text": [
      "100%|██████████| 1/1 [00:00<00:00, 38836.15it/s]"
     ]
    },
    {
     "name": "stdout",
     "output_type": "stream",
     "text": [
      "finish 119 with num of GBs 1, and collected num of GBs 34\n"
     ]
    },
    {
     "name": "stderr",
     "output_type": "stream",
     "text": [
      "\n"
     ]
    }
   ],
   "source": [
    "    from numba import njit, prange\n",
    "    import multiprocessing as mp\n",
    "    \n",
    "    @njit(parallel=True)\n",
    "    def compute_dV(npy_file_aniso_current,npy_file_aniso_next, pair_id_pair):\n",
    "        growth_direction1 = (npy_file_aniso_current == pair_id_pair[0]) & (npy_file_aniso_next == pair_id_pair[1])\n",
    "        growth_direction2 = (npy_file_aniso_current == pair_id_pair[1]) & (npy_file_aniso_next == pair_id_pair[0])\n",
    "        return np.sum(growth_direction1) - np.sum(growth_direction2)\n",
    "    \n",
    "    @njit(parallel=True)\n",
    "    def compute_dV_split(npy_file_aniso_current,npy_file_aniso_next, pair_id_pair):\n",
    "        growth_direction1 = (npy_file_aniso_current == pair_id_pair[0]) & (npy_file_aniso_next == pair_id_pair[1])\n",
    "        growth_direction2 = (npy_file_aniso_current == pair_id_pair[1]) & (npy_file_aniso_next == pair_id_pair[0])\n",
    "        return np.sum(growth_direction1) - np.sum(growth_direction2), np.sum(growth_direction1), np.sum(growth_direction2)\n",
    "    \n",
    "    def compute_necessary_info(key,time_interval,\n",
    "                               GB_infomation_dict_list_one_step_one_key,\n",
    "                               GBenergy_information_dict_list_one_step_one_key,\n",
    "                               npy_file_aniso_current,\n",
    "                               npy_file_aniso_next):\n",
    "        \n",
    "        \n",
    "        # Calculate dV and velocity\n",
    "        dV = compute_dV(npy_file_aniso_current,npy_file_aniso_next,GB_infomation_dict_list_one_step_one_key[6:8])\n",
    "        velocity = dV/time_interval/(GB_infomation_dict_list_one_step_one_key[5]/2)\n",
    "        # keep curvature\n",
    "        current_curvature_value = GB_infomation_dict_list_one_step_one_key[4]\n",
    "        # keep GB energy\n",
    "        current_eng = GBenergy_information_dict_list_one_step_one_key[4]\n",
    "        \n",
    "        result = {\n",
    "            \"key\": key,\n",
    "            \"velocity\": velocity,\n",
    "            \"current_curvature_value\": current_curvature_value,\n",
    "            \"current_eng\": current_eng,\n",
    "            \"is_anti_curvature\": current_curvature_value * velocity < 0\n",
    "        }\n",
    "        \n",
    "        return result\n",
    "    \n",
    "    def compute_necessary_info_split(key,time_interval,\n",
    "                               GB_infomation_dict_list_one_step_one_key,\n",
    "                               GBenergy_information_dict_list_one_step_one_key,\n",
    "                               npy_file_aniso_current,\n",
    "                               npy_file_aniso_next):\n",
    "        \n",
    "        \n",
    "        # Calculate dV and velocity\n",
    "        dV, dV_direction1, dV_direction2 = compute_dV_split(npy_file_aniso_current,npy_file_aniso_next,GB_infomation_dict_list_one_step_one_key[6:8])\n",
    "        velocity = dV/time_interval/(GB_infomation_dict_list_one_step_one_key[5]/2)\n",
    "        # keep curvature\n",
    "        current_curvature_value = GB_infomation_dict_list_one_step_one_key[4]\n",
    "        # keep GB energy\n",
    "        current_eng = GBenergy_information_dict_list_one_step_one_key[4]\n",
    "        \n",
    "        result = {\n",
    "            \"key\": key,\n",
    "            \"velocity\": velocity,\n",
    "            \"dV_direction1\": dV_direction1,\n",
    "            \"dV_direction2\": dV_direction2,\n",
    "            \"current_curvature_value\": current_curvature_value,\n",
    "            \"current_eng\": current_eng,\n",
    "            \"is_anti_curvature\": current_curvature_value * velocity < 0\n",
    "        }\n",
    "        \n",
    "        return result\n",
    "    \n",
    "    # if __name__ == '__main__':\n",
    "    time_interval = 30\n",
    "    curvature_limit = 0.0182\n",
    "    area_limit = 100\n",
    "    # store all GB points, include curvature and anti-curvature(include randomness points)\n",
    "    GB_list_velocity_list = []\n",
    "    GB_list_curvature_list = []\n",
    "    GB_list_GBenergy_list = []\n",
    "    GB_list_area_list = []\n",
    "    GB_list_dV_direction1 = []\n",
    "    GB_list_dV_direction2 = []\n",
    "    # store anti-curvature GBs in dictionary\n",
    "    GB_id_focus = dict()\n",
    "    GB_id_focus_detail = dict()\n",
    "    GB_filter_kernel = [set(),set(),set(),set(),set()]\n",
    "    dV_dict = []\n",
    "    for time_step in range(step_num):\n",
    "        if time_step+1 >= step_num: continue\n",
    "        GB_list_velocity_list_tmp = []\n",
    "        GB_list_curvature_list_tmp = []\n",
    "        GB_list_GBenergy_list_tmp = []\n",
    "        GB_list_area_list_tmp = []\n",
    "        GB_list_dV_direction1_tmp = []\n",
    "        GB_list_dV_direction2_tmp = []\n",
    "        key_set = set()\n",
    "\n",
    "        # MP\n",
    "        # remove disappeared GBs and low area GBs and remove low curvature\n",
    "        print(f\"key num start with {len(GB_infomation_dict_list[time_step])}\")\n",
    "        tmp_GB_infomation_dict_for_mp = {}\n",
    "        tmp_GBenergy_information_dict_for_mp = {}\n",
    "        for key in GB_infomation_dict_list[time_step]:\n",
    "            if (GB_infomation_dict_list[time_step][key][5] < area_limit or \n",
    "                GB_infomation_dict_list[time_step+1].get(key) is None or \n",
    "                abs(GB_infomation_dict_list[time_step][key][4]) < curvature_limit): \n",
    "                continue\n",
    "            tmp_GB_infomation_dict_for_mp[key] = GB_infomation_dict_list[time_step][key]\n",
    "            tmp_GBenergy_information_dict_for_mp[key] = GBenergy_information_dict_list[time_step][key]\n",
    "        print(f\"key num end with {len(tmp_GB_infomation_dict_for_mp)}\")\n",
    "        # run key\n",
    "        dV_dict_file_name = f\"GB_velocity_data/2D_dV_split_data_{case_name}_areaLimit{area_limit}_step{time_step}.npz\"\n",
    "        if os.path.exists(data_file_folder + dV_dict_file_name):\n",
    "            npz_file = np.load(data_file_folder + dV_dict_file_name,allow_pickle=True)\n",
    "            dV_dict_tmp = npz_file[\"dV_dict_tmp\"]\n",
    "            dV_dict_tmp=dV_dict_tmp.item()\n",
    "        else:\n",
    "            dV_dict_tmp = {}\n",
    "        for key in tqdm(tmp_GB_infomation_dict_for_mp):\n",
    "            if key in dV_dict_tmp:\n",
    "                result = dV_dict_tmp[key]\n",
    "            else:\n",
    "                result = compute_necessary_info_split(key,time_interval,tmp_GB_infomation_dict_for_mp[key],tmp_GBenergy_information_dict_for_mp[key],npy_file_aniso[time_step],npy_file_aniso[time_step+1])\n",
    "                dV_dict_tmp[key] = result\n",
    "            \n",
    "            # Store these results remove ways-area,lowCurvature\n",
    "            GB_list_velocity_list_tmp.append(result[\"velocity\"])\n",
    "            GB_list_curvature_list_tmp.append(result[\"current_curvature_value\"])\n",
    "            GB_list_GBenergy_list_tmp.append(result[\"current_eng\"])\n",
    "            GB_list_dV_direction1_tmp.append(result[\"dV_direction1\"])\n",
    "            GB_list_dV_direction2_tmp.append(result[\"dV_direction2\"])\n",
    "            \n",
    "            # calculate GB area and store it\n",
    "            current_GB_area = 0.5*tmp_GB_infomation_dict_for_mp[key][0]\n",
    "            GB_list_area_list_tmp.append(current_GB_area)\n",
    "\n",
    "\n",
    "            # keep anti-curvature GB info\n",
    "            if result[\"is_anti_curvature\"]: \n",
    "                key_set.add(key)\n",
    "                if time_step >= step_num-3: continue\n",
    "                if key in GB_id_focus: \n",
    "                    GB_id_focus[key] += 1\n",
    "                    GB_id_focus_detail[key].append(time_step)\n",
    "                else: \n",
    "                    GB_id_focus[key] = 1\n",
    "                    GB_id_focus_detail[key] = [time_step]\n",
    "        if not os.path.exists(data_file_folder + dV_dict_file_name):\n",
    "            np.savez(data_file_folder + dV_dict_file_name, dV_dict_tmp=dV_dict_tmp)\n",
    "\n",
    "        # keep all GBs after ways-area,lowCurvature\n",
    "        dV_dict.append(dV_dict_tmp)\n",
    "        GB_list_velocity_list.append(GB_list_velocity_list_tmp)\n",
    "        GB_list_curvature_list.append(GB_list_curvature_list_tmp)\n",
    "        GB_list_GBenergy_list.append(GB_list_GBenergy_list_tmp)\n",
    "        GB_list_area_list.append(GB_list_area_list_tmp)\n",
    "        GB_list_dV_direction1.append(GB_list_dV_direction1_tmp)\n",
    "        GB_list_dV_direction2.append(GB_list_dV_direction2_tmp)\n",
    "\n",
    "        GB_filter_kernel[0:4] = GB_filter_kernel[1:]\n",
    "        GB_filter_kernel[4] = key_set\n",
    "        # # filter the anti-curvature GB with 11111\n",
    "        # filtered_set = GB_filter_kernel[2] - (GB_filter_kernel[0]&GB_filter_kernel[1]&GB_filter_kernel[3]&GB_filter_kernel[4]&GB_filter_kernel[2])\n",
    "        # # filter the anti-curvature GB with 00100\n",
    "        filtered_set = GB_filter_kernel[2] - (GB_filter_kernel[0]|GB_filter_kernel[1]|GB_filter_kernel[3]|GB_filter_kernel[4])\n",
    "        # # filter the anti-curvature GB with 01100\n",
    "        # filtered_set1 = GB_filter_kernel[2] - (GB_filter_kernel[0]|GB_filter_kernel[3]|GB_filter_kernel[4])\n",
    "        # # filter the anti-curvature GB with 00110\n",
    "        # filtered_set2 = GB_filter_kernel[2] - (GB_filter_kernel[0]|GB_filter_kernel[1]|GB_filter_kernel[4])\n",
    "        # filtered_set = filtered_set0|filtered_set1|filtered_set2\n",
    "        # # filter the anti-curvature GB with 010\n",
    "        # filtered_set = GB_filter_kernel[2] - (GB_filter_kernel[1]|GB_filter_kernel[3])\n",
    "        \n",
    "        for key in filtered_set: \n",
    "            GB_id_focus[key] -= 1\n",
    "            GB_id_focus_detail[key].remove(time_step-2)\n",
    "        print(f\"finish {time_step} with num of GBs {len(GB_list_velocity_list_tmp)}, and collected num of GBs {len(GB_id_focus)}\")\n",
    "\n",
    "\n",
    "    # filter the GBs in GB_id_focus without anti-curvature behavior after 00100\n",
    "    GB_id_focus_copy = GB_id_focus.copy()\n",
    "    for key in GB_id_focus_copy:\n",
    "        if GB_id_focus_copy[key] <=0:\n",
    "            GB_id_focus.pop(key)\n",
    "            GB_id_focus_detail.pop(key)\n",
    "\n",
    "    # add the last two steps for exclude data\n",
    "    # GB_list_velocity_list_exrandom.extend(GB_list_velocity_list[-2:])\n",
    "    # GB_list_curvature_list_exrandom.extend(GB_list_curvature_list[-2:])\n",
    "    # GB_list_GBenergy_list_exrandom.extend(GB_list_GBenergy_list[-2:])\n"
   ]
  },
  {
   "cell_type": "code",
   "execution_count": 23,
   "id": "718362f0-b4ce-4839-afff-c0a4992d4187",
   "metadata": {},
   "outputs": [
    {
     "name": "stderr",
     "output_type": "stream",
     "text": [
      "100%|██████████| 121/121 [00:00<00:00, 1612.21it/s]\n"
     ]
    }
   ],
   "source": [
    "    time_interval = 30\n",
    "    # anti_c GBs grabing\n",
    "    GB_antic_list_velocity_AllList = []\n",
    "    GB_antic_list_curvature_AllList = []\n",
    "    GB_antic_list_GBenergy_AllList = []\n",
    "    GB_antic_list_anticNum_AllList = []\n",
    "    GB_antic_list_area_AllList = []\n",
    "    GB_antic_list_dV_normD_AllList = []\n",
    "    GB_antic_list_dV_antiD_AllList = []\n",
    "    \n",
    "    GB_antic_list_velocity_list = []\n",
    "    GB_antic_list_curvature_list = []\n",
    "    GB_antic_list_GBenergy_list = []\n",
    "    GB_antic_list_anticNum_list = []\n",
    "    GB_antic_list_area_list = []\n",
    "    GB_antic_list_dV_normD_list = []\n",
    "    GB_antic_list_dV_antiD_list = []\n",
    "    \n",
    "    # norn_c GBs grabing\n",
    "    GB_normc_list_velocity_AllList = []\n",
    "    GB_normc_list_curvature_AllList = []\n",
    "    GB_normc_list_GBenergy_AllList = []\n",
    "    GB_normc_list_area_AllList = []\n",
    "    GB_normc_list_dV_normD_AllList = []\n",
    "    GB_normc_list_dV_antiD_AllList = []\n",
    "    \n",
    "    GB_normc_list_velocity_list = []\n",
    "    GB_normc_list_curvature_list = []\n",
    "    GB_normc_list_GBenergy_list = []\n",
    "    GB_normc_list_area_list = []\n",
    "    GB_normc_list_dV_normD_list = []\n",
    "    GB_normc_list_dV_antiD_list = []\n",
    "    for time_step in tqdm(range(step_num)):\n",
    "        if time_step+1 >= step_num: continue\n",
    "        # read the info data\n",
    "        dV_dict_file_name = f\"GB_velocity_data/2D_dV_split_data_{case_name}_areaLimit{area_limit}_step{time_step}.npz\"\n",
    "        npz_file = np.load(data_file_folder + dV_dict_file_name,allow_pickle=True)\n",
    "        dV_dict_tmp = npz_file[\"dV_dict_tmp\"]\n",
    "        dV_dict_tmp = dV_dict_tmp.item()\n",
    "        \n",
    "        tmp_GB_antic_list_velocity = []\n",
    "        tmp_GB_antic_list_curvature = []\n",
    "        tmp_GB_antic_list_GBenergy = []\n",
    "        tmp_GB_antic_list_anticNum = []\n",
    "        tmp_GB_antic_list_area = []\n",
    "        tmp_GB_antic_list_dV_normD = []\n",
    "        tmp_GB_antic_list_dV_antiD = []\n",
    "        \n",
    "        # anti_c\n",
    "        for key in GB_id_focus_detail:\n",
    "            if time_step in GB_id_focus_detail[key]:\n",
    "                \n",
    "                result = dV_dict_tmp[key]\n",
    "                velocity = result[\"velocity\"]\n",
    "                current_curvature_value = result[\"current_curvature_value\"]\n",
    "                current_area = 0.5*GB_infomation_dict_list[time_step][key][0]\n",
    "                dV_direction1 = result[\"dV_direction1\"]\n",
    "                dV_direction2 = result[\"dV_direction2\"]\n",
    "                \n",
    "                # change the sign of the velocity by curvature\n",
    "                if current_curvature_value < 0: \n",
    "                    GB_antic_list_velocity_list.append(-velocity)\n",
    "                    GB_antic_list_curvature_list.append(-current_curvature_value)\n",
    "                    GB_antic_list_dV_normD_list.append(dV_direction2)\n",
    "                    GB_antic_list_dV_antiD_list.append(dV_direction1)\n",
    "                    tmp_GB_antic_list_velocity.append(-velocity)\n",
    "                    tmp_GB_antic_list_curvature.append(-current_curvature_value)\n",
    "                    tmp_GB_antic_list_dV_normD.append(dV_direction2)\n",
    "                    tmp_GB_antic_list_dV_antiD.append(dV_direction1)\n",
    "                else: \n",
    "                    GB_antic_list_velocity_list.append(velocity)\n",
    "                    GB_antic_list_curvature_list.append(current_curvature_value)\n",
    "                    GB_antic_list_dV_normD_list.append(dV_direction1)\n",
    "                    GB_antic_list_dV_antiD_list.append(dV_direction2)\n",
    "                    tmp_GB_antic_list_velocity.append(velocity)\n",
    "                    tmp_GB_antic_list_curvature.append(current_curvature_value)\n",
    "                    tmp_GB_antic_list_dV_normD.append(dV_direction1)\n",
    "                    tmp_GB_antic_list_dV_antiD.append(dV_direction2)\n",
    "                GB_antic_list_GBenergy_list.append(result[\"current_eng\"])\n",
    "                GB_antic_list_anticNum_list.append(GB_id_focus[key])\n",
    "                GB_antic_list_area_list.append(current_area)\n",
    "                tmp_GB_antic_list_GBenergy.append(result[\"current_eng\"])\n",
    "                tmp_GB_antic_list_anticNum.append(GB_id_focus[key])\n",
    "                tmp_GB_antic_list_area.append(current_area)\n",
    "            \n",
    "        GB_antic_list_velocity_AllList.append(tmp_GB_antic_list_velocity)\n",
    "        GB_antic_list_curvature_AllList.append(tmp_GB_antic_list_curvature)\n",
    "        GB_antic_list_GBenergy_AllList.append(tmp_GB_antic_list_GBenergy)\n",
    "        GB_antic_list_anticNum_AllList.append(tmp_GB_antic_list_anticNum)\n",
    "        GB_antic_list_area_AllList.append(tmp_GB_antic_list_area)\n",
    "        GB_antic_list_dV_normD_AllList.append(tmp_GB_antic_list_dV_normD)\n",
    "        GB_antic_list_dV_antiD_AllList.append(tmp_GB_antic_list_dV_antiD)\n",
    "        \n",
    "        # norm c\n",
    "        tmp_GB_normc_list_velocity = []\n",
    "        tmp_GB_normc_list_curvature = []\n",
    "        tmp_GB_normc_list_GBenergy = []\n",
    "        tmp_GB_normc_list_area = []\n",
    "        tmp_GB_normc_list_dV_normD = []\n",
    "        tmp_GB_normc_list_dV_antiD = []\n",
    "        \n",
    "        for key in dV_dict_tmp:\n",
    "            result = dV_dict_tmp[key]\n",
    "            velocity = result[\"velocity\"]\n",
    "            current_curvature_value = result[\"current_curvature_value\"]\n",
    "            current_area = 0.5*GB_infomation_dict_list[time_step][key][0]\n",
    "            dV_direction1 = result[\"dV_direction1\"]\n",
    "            dV_direction2 = result[\"dV_direction2\"]\n",
    "            if current_curvature_value * velocity > 0: # norm c\n",
    "                \n",
    "                # change the sign of the velocity by curvature\n",
    "                if current_curvature_value < 0: \n",
    "                    GB_normc_list_velocity_list.append(-velocity)\n",
    "                    GB_normc_list_curvature_list.append(-current_curvature_value)\n",
    "                    GB_normc_list_dV_normD_list.append(dV_direction2)\n",
    "                    GB_normc_list_dV_antiD_list.append(dV_direction1)\n",
    "                    tmp_GB_normc_list_velocity.append(-velocity)\n",
    "                    tmp_GB_normc_list_curvature.append(-current_curvature_value)\n",
    "                    tmp_GB_normc_list_dV_normD.append(dV_direction2)\n",
    "                    tmp_GB_normc_list_dV_antiD.append(dV_direction1)\n",
    "                else: \n",
    "                    GB_normc_list_velocity_list.append(velocity)\n",
    "                    GB_normc_list_curvature_list.append(current_curvature_value)\n",
    "                    GB_normc_list_dV_normD_list.append(dV_direction1)\n",
    "                    GB_normc_list_dV_antiD_list.append(dV_direction2)\n",
    "                    tmp_GB_normc_list_velocity.append(velocity)\n",
    "                    tmp_GB_normc_list_curvature.append(current_curvature_value)\n",
    "                    tmp_GB_normc_list_dV_normD.append(dV_direction1)\n",
    "                    tmp_GB_normc_list_dV_antiD.append(dV_direction2)\n",
    "                GB_normc_list_GBenergy_list.append(result[\"current_eng\"])\n",
    "                GB_normc_list_area_list.append(current_area)\n",
    "                tmp_GB_normc_list_GBenergy.append(result[\"current_eng\"])\n",
    "                tmp_GB_normc_list_area.append(current_area)\n",
    "        \n",
    "        GB_normc_list_velocity_AllList.append(tmp_GB_normc_list_velocity)\n",
    "        GB_normc_list_curvature_AllList.append(tmp_GB_normc_list_curvature)\n",
    "        GB_normc_list_GBenergy_AllList.append(tmp_GB_normc_list_GBenergy)\n",
    "        GB_normc_list_area_AllList.append(tmp_GB_normc_list_area)\n",
    "        GB_normc_list_dV_normD_AllList.append(tmp_GB_normc_list_dV_normD)\n",
    "        GB_normc_list_dV_antiD_AllList.append(tmp_GB_normc_list_dV_antiD)\n",
    "                \n",
    "            \n",
    "        \n",
    "            "
   ]
  },
  {
   "cell_type": "code",
   "execution_count": 24,
   "id": "7f5ceda3-c17c-45ae-ad05-9aaab0112017",
   "metadata": {
    "tags": []
   },
   "outputs": [
    {
     "name": "stdout",
     "output_type": "stream",
     "text": [
      "anti-c GB\n",
      "The number of the GBs showing anti-curvature during whole simulations is 0\n",
      "The ratio of anti-curvature GBs during whole simulations is 0.0% in 270951 GBs\n",
      "The ratio of norm-curvature GBs during whole simulations is 0.23583599986713466% in 270951 GBs\n",
      "\n",
      "anti-c GB in real total number\n",
      "The ratio of anti-curvature GBs during whole simulations is 0.0% in 639 GBs\n",
      "The ratio of norm-curvature GBs during whole simulations is 100.0% in 639 GBs\n",
      "\n",
      "Over all voxels\n",
      "The number of the normal voxels and antic voxels during whole simulations are 130009 and 6777\n",
      "The ratio of anti-curvature voxels during whole simulations is 4.9544544032284% in 136786 voxels\n",
      "\n",
      "Voxels on norm-c GBs\n",
      "The number of the normal voxels and antic voxels during whole simulations are 129059 and 4100\n",
      "The ratio of anti-curvature voxels during whole simulations is 3.0790258262678454% in 133159 voxels\n"
     ]
    }
   ],
   "source": [
    "    print(\"anti-c GB\")\n",
    "    total_GB_num = 0\n",
    "    for time_step in range(step_num):\n",
    "        step_GB = GB_infomation_dict_list[time_step].keys()\n",
    "        total_GB_num += len(step_GB)\n",
    "        \n",
    "    total_GB_num_real = len(GB_antic_list_velocity_list) + len(GB_normc_list_velocity_list)\n",
    "\n",
    "    print(f\"The number of the GBs showing anti-curvature during whole simulations is {len(GB_antic_list_velocity_list)}\")\n",
    "    print(f\"The ratio of anti-curvature GBs during whole simulations is {len(GB_antic_list_velocity_list)/total_GB_num*100}% in {total_GB_num} GBs\")\n",
    "    print(f\"The ratio of norm-curvature GBs during whole simulations is {len(GB_normc_list_velocity_list)/total_GB_num*100}% in {total_GB_num} GBs\")\n",
    "    print()\n",
    "    \n",
    "    print(\"anti-c GB in real total number\")\n",
    "    print(f\"The ratio of anti-curvature GBs during whole simulations is {len(GB_antic_list_velocity_list)/total_GB_num_real*100}% in {total_GB_num_real} GBs\")\n",
    "    print(f\"The ratio of norm-curvature GBs during whole simulations is {len(GB_normc_list_velocity_list)/total_GB_num_real*100}% in {total_GB_num_real} GBs\")\n",
    "    print()\n",
    "    \n",
    "    print(\"Over all voxels\")\n",
    "    normal_growth_voxel = 0\n",
    "    antic_growth_voxel = 0\n",
    "    # calculate anti-c voxels fraction\n",
    "    for i in range(0,len(GB_list_curvature_list)): \n",
    "        for j in range(len(GB_list_curvature_list[i])):\n",
    "            # in general, curvature>0, V_d1 is the voxel in curvature direction, while V_d1 is anti-c when curvature<0\n",
    "            if GB_list_curvature_list[i][j]<0: \n",
    "                normal_growth_voxel += GB_list_dV_direction2[i][j]\n",
    "                antic_growth_voxel += GB_list_dV_direction1[i][j]\n",
    "            elif GB_list_curvature_list[i][j]>=0: \n",
    "                normal_growth_voxel += GB_list_dV_direction1[i][j]\n",
    "                antic_growth_voxel += GB_list_dV_direction2[i][j]\n",
    "    print(f\"The number of the normal voxels and antic voxels during whole simulations are {normal_growth_voxel} and {antic_growth_voxel}\")\n",
    "    print(f\"The ratio of anti-curvature voxels during whole simulations is {antic_growth_voxel/(antic_growth_voxel+normal_growth_voxel)*100}% in {antic_growth_voxel+normal_growth_voxel} voxels\")\n",
    "    print()\n",
    "    \n",
    "    # print(\"Voxels on anti-c GBs\")\n",
    "    # normal_growth_voxel = 0\n",
    "    # antic_growth_voxel = 0\n",
    "    # # calculate anti-c voxels fraction\n",
    "    # normal_growth_voxel = np.sum(GB_antic_list_dV_normD_list)\n",
    "    # antic_growth_voxel = np.sum(GB_antic_list_dV_antiD_list)\n",
    "    # print(f\"The number of the normal voxels and antic voxels during whole simulations are {normal_growth_voxel} and {antic_growth_voxel}\")\n",
    "    # print(f\"The ratio of anti-curvature voxels during whole simulations is {antic_growth_voxel/(antic_growth_voxel+normal_growth_voxel)*100}% in {antic_growth_voxel+normal_growth_voxel} voxels\")\n",
    "    \n",
    "    print(\"Voxels on norm-c GBs\")\n",
    "    normal_growth_voxel = 0\n",
    "    antic_growth_voxel = 0\n",
    "    # calculate anti-c voxels fraction\n",
    "    normal_growth_voxel = np.sum(GB_normc_list_dV_normD_list)\n",
    "    antic_growth_voxel = np.sum(GB_normc_list_dV_antiD_list)\n",
    "    print(f\"The number of the normal voxels and antic voxels during whole simulations are {normal_growth_voxel} and {antic_growth_voxel}\")\n",
    "    print(f\"The ratio of anti-curvature voxels during whole simulations is {antic_growth_voxel/(antic_growth_voxel+normal_growth_voxel)*100}% in {antic_growth_voxel+normal_growth_voxel} voxels\")\n"
   ]
  },
  {
   "cell_type": "code",
   "execution_count": 25,
   "id": "c2355c5c-6120-4077-8a00-343bd92b6b5f",
   "metadata": {
    "tags": []
   },
   "outputs": [
    {
     "data": {
      "text/plain": [
       "<Figure size 432x288 with 0 Axes>"
      ]
     },
     "metadata": {},
     "output_type": "display_data"
    },
    {
     "data": {
      "image/png": "[encoded data removed]",
      "text/plain": [
       "<Figure size 504x504 with 1 Axes>"
      ]
     },
     "metadata": {
      "needs_background": "light"
     },
     "output_type": "display_data"
    }
   ],
   "source": [
    "    # voxels information in anti-c GBs --- Yes I think it can be confidence!!!!!!\n",
    "    bin_interval = 0.01\n",
    "    x_lim = [0.5,1.0]\n",
    "    bin_number = int((x_lim[1]-x_lim[0])/bin_interval)\n",
    "    Antic_voxel_coordinate = np.arange(x_lim[0],x_lim[1],bin_interval)+bin_interval/2\n",
    "    \n",
    "    antic_voxel_num_bin = np.zeros(bin_number)\n",
    "    normc_voxel_num_bin = np.zeros(bin_number)\n",
    "    for index in range(len(GB_antic_list_dV_normD_list)):\n",
    "        antic_voxel_num_bin[int((GB_antic_list_dV_antiD_list[index]/(GB_antic_list_dV_normD_list[index]+GB_antic_list_dV_antiD_list[index])-x_lim[0])//bin_interval)] += 1\n",
    "    for index in range(len(GB_normc_list_dV_normD_list)):\n",
    "        normc_voxel_num_bin[int((GB_normc_list_dV_normD_list[index]/(GB_normc_list_dV_normD_list[index]+GB_normc_list_dV_antiD_list[index])-x_lim[0])//bin_interval)] += 1\n",
    "    # plot\n",
    "    figure_name_all_bin = f\"figures/2D_antic_voxel_distribution_{case_name}_5d_afterBin.png\"\n",
    "    # plt.figure()\n",
    "    # fig = plt.figure(figsize=(7, 7))\n",
    "    # plt.xlim([0.5,1.0])\n",
    "    # plt.ylim([0,0.5])\n",
    "    # plt.title(\"anti_c distribution\")\n",
    "    # plt.plot(Antic_voxel_coordinate, antic_voxel_num_bin/np.sum(antic_voxel_num_bin),'-', linewidth=2)\n",
    "    # plt.xlabel(\"voxels percentage\", fontsize=18)\n",
    "    # plt.ylabel(\"distribution\", fontsize=18)\n",
    "    # plt.savefig(figure_name_all_bin, dpi=400,bbox_inches='tight')\n",
    "    \n",
    "    figure_name_all_bin = f\"figures/2D_normc_voxel_distribution_{case_name}_5d_afterBin.png\"\n",
    "    plt.figure()\n",
    "    fig = plt.figure(figsize=(7, 7))\n",
    "    plt.xlim([0.5,1.0])\n",
    "    plt.ylim([0,0.5])\n",
    "    plt.title(\"norm_c distribution\")\n",
    "    plt.plot(Antic_voxel_coordinate, normc_voxel_num_bin/np.sum(normc_voxel_num_bin),'-', linewidth=2)\n",
    "    plt.xlabel(\"voxels percentage\", fontsize=18)\n",
    "    plt.ylabel(\"distribution\", fontsize=18)\n",
    "    # plt.savefig(figure_name_all_bin, dpi=400,bbox_inches='tight')\n",
    "    \n",
    "        \n",
    "    confidence_factor = 0.99\n",
    "    \n",
    "    update_GB_antic_list_velocity_AllList = []\n",
    "    update_GB_antic_list_curvature_AllList = []\n",
    "    update_GB_antic_list_GBenergy_AllList = []\n",
    "    update_GB_antic_list_anticNum_AllList = []\n",
    "    update_GB_antic_list_area_AllList = []\n",
    "    update_GB_antic_list_dV_normD_AllList = []\n",
    "    update_GB_antic_list_dV_antiD_AllList = []\n",
    "    \n",
    "    update_GB_antic_list_velocity_list = []\n",
    "    update_GB_antic_list_curvature_list = []\n",
    "    update_GB_antic_list_GBenergy_list = []\n",
    "    update_GB_antic_list_anticNum_list = []\n",
    "    update_GB_antic_list_area_list = []\n",
    "    update_GB_antic_list_dV_normD_list = []\n",
    "    update_GB_antic_list_dV_antiD_list = []\n",
    "    for index in range(len(GB_antic_list_velocity_list)):\n",
    "        if GB_antic_list_dV_antiD_list[index]/(GB_antic_list_dV_normD_list[index]+GB_antic_list_dV_antiD_list[index]) > confidence_factor:\n",
    "            update_GB_antic_list_velocity_list.append(GB_antic_list_velocity_list[index])\n",
    "            update_GB_antic_list_curvature_list.append(GB_antic_list_curvature_list[index])\n",
    "            update_GB_antic_list_GBenergy_list.append(GB_antic_list_GBenergy_list[index])\n",
    "            update_GB_antic_list_anticNum_list.append(GB_antic_list_anticNum_list[index])\n",
    "            update_GB_antic_list_area_list.append(GB_antic_list_area_list[index])\n",
    "            update_GB_antic_list_dV_normD_list.append(GB_antic_list_dV_normD_list[index])\n",
    "            update_GB_antic_list_dV_antiD_list.append(GB_antic_list_dV_antiD_list[index])\n",
    "    for index_i in range(len(update_GB_antic_list_velocity_AllList)):\n",
    "        tmp_update_GB_antic_list_velocity_AllList =[]\n",
    "        tmp_update_GB_antic_list_curvature_AllList =[]\n",
    "        tmp_update_GB_antic_list_GBenergy_AllList = []\n",
    "        tmp_update_GB_antic_list_anticNum_AllList = []\n",
    "        tmp_update_GB_antic_list_area_AllList = []\n",
    "        tmp_update_GB_antic_list_dV_normD_AllList = []\n",
    "        tmp_update_GB_antic_list_dV_antiD_AllList = []\n",
    "        for index_j in range(len(update_GB_antic_list_velocity_AllList[index_i])):\n",
    "            if GB_antic_list_dV_antiD_AllList[index_i][index_j]/(GB_antic_list_dV_normD_AllList[index_i][index_j]+GB_antic_list_dV_antiD_AllList[index_i][index_j]) > confidence_factor:\n",
    "                tmp_update_GB_antic_list_velocity_AllList.append(GB_antic_list_velocity_AllList[index_i][index_j])\n",
    "                tmp_update_GB_antic_list_curvature_AllList.append(GB_antic_list_curvature_AllList[index_i][index_j])\n",
    "                tmp_update_GB_antic_list_GBenergy_AllList.append(GB_antic_list_GBenergy_AllList[index_i][index_j])\n",
    "                tmp_update_GB_antic_list_anticNum_AllList.append(GB_antic_list_anticNum_AllList[index_i][index_j])\n",
    "                tmp_update_GB_antic_list_area_AllList.append(GB_antic_list_area_AllList[index_i][index_j])\n",
    "                tmp_update_GB_antic_list_dV_normD_AllList.append(GB_antic_list_dV_normD_AllList[index_i][index_j])\n",
    "                tmp_update_GB_antic_list_dV_antiD_AllList.append(GB_antic_list_dV_antiD_AllList[index_i][index_j])\n",
    "        update_GB_antic_list_velocity_AllList.append(tmp_update_GB_antic_list_velocity_AllList)\n",
    "        update_GB_antic_list_curvature_AllList.append(tmp_update_GB_antic_list_curvature_AllList)\n",
    "        update_GB_antic_list_GBenergy_AllList.append(tmp_update_GB_antic_list_GBenergy_AllList)\n",
    "        update_GB_antic_list_anticNum_AllList.append(tmp_update_GB_antic_list_anticNum_AllList)\n",
    "        update_GB_antic_list_area_AllList.append(tmp_update_GB_antic_list_area_AllList)\n",
    "        update_GB_antic_list_dV_normD_AllList.append(tmp_update_GB_antic_list_dV_normD_AllList)\n",
    "        update_GB_antic_list_dV_antiD_AllList.append(tmp_update_GB_antic_list_dV_antiD_AllList)\n",
    "        \n",
    "        \n",
    "    update_GB_normc_list_velocity_AllList = []\n",
    "    update_GB_normc_list_curvature_AllList = []\n",
    "    update_GB_normc_list_GBenergy_AllList = []\n",
    "    update_GB_normc_list_area_AllList = []\n",
    "    update_GB_normc_list_dV_normD_AllList = []\n",
    "    update_GB_normc_list_dV_antiD_AllList = []\n",
    "    \n",
    "    update_GB_normc_list_velocity_list = []\n",
    "    update_GB_normc_list_curvature_list = []\n",
    "    update_GB_normc_list_GBenergy_list = []\n",
    "    update_GB_normc_list_area_list = []\n",
    "    update_GB_normc_list_dV_normD_list = []\n",
    "    update_GB_normc_list_dV_antiD_list = []\n",
    "    for index in range(len(GB_normc_list_velocity_list)):\n",
    "        if GB_normc_list_dV_normD_list[index]/(GB_normc_list_dV_normD_list[index]+GB_normc_list_dV_antiD_list[index]) > confidence_factor:\n",
    "            update_GB_normc_list_velocity_list.append(GB_normc_list_velocity_list[index])\n",
    "            update_GB_normc_list_curvature_list.append(GB_normc_list_curvature_list[index])\n",
    "            update_GB_normc_list_GBenergy_list.append(GB_normc_list_GBenergy_list[index])\n",
    "            update_GB_normc_list_area_list.append(GB_normc_list_area_list[index])\n",
    "            update_GB_normc_list_dV_normD_list.append(GB_normc_list_dV_normD_list[index])\n",
    "            update_GB_normc_list_dV_antiD_list.append(GB_normc_list_dV_antiD_list[index])\n",
    "    for index_i in range(len(update_GB_normc_list_velocity_AllList)):\n",
    "        tmp_update_GB_normc_list_velocity_AllList =[]\n",
    "        tmp_update_GB_normc_list_curvature_AllList =[]\n",
    "        tmp_update_GB_normc_list_GBenergy_AllList = []\n",
    "        tmp_update_GB_normc_list_area_AllList = []\n",
    "        tmp_update_GB_normc_list_dV_normD_AllList = []\n",
    "        tmp_update_GB_normc_list_dV_antiD_AllList = []\n",
    "        for index_j in range(len(update_GB_normc_list_velocity_AllList[index_i])):\n",
    "            if GB_normc_list_dV_normD_AllList[index_i][index_j]/(GB_normc_list_dV_normD_AllList[index_i][index_j]+GB_normc_list_dV_antiD_AllList[index_i][index_j]) > confidence_factor:\n",
    "                tmp_update_GB_normc_list_velocity_AllList.append(GB_normc_list_velocity_AllList[index_i][index_j])\n",
    "                tmp_update_GB_normc_list_curvature_AllList.append(GB_normc_list_curvature_AllList[index_i][index_j])\n",
    "                tmp_update_GB_normc_list_GBenergy_AllList.append(GB_normc_list_GBenergy_AllList[index_i][index_j])\n",
    "                tmp_update_GB_normc_list_area_AllList.append(GB_normc_list_area_AllList[index_i][index_j])\n",
    "                tmp_update_GB_normc_list_dV_normD_AllList.append(GB_normc_list_dV_normD_AllList[index_i][index_j])\n",
    "                tmp_update_GB_normc_list_dV_antiD_AllList.append(GB_normc_list_dV_antiD_AllList[index_i][index_j])\n",
    "        update_GB_normc_list_velocity_AllList.append(tmp_update_GB_normc_list_velocity_AllList)\n",
    "        update_GB_normc_list_curvature_AllList.append(tmp_update_GB_normc_list_curvature_AllList)\n",
    "        update_GB_normc_list_GBenergy_AllList.append(tmp_update_GB_normc_list_GBenergy_AllList)\n",
    "        update_GB_normc_list_area_AllList.append(tmp_update_GB_normc_list_area_AllList)\n",
    "        update_GB_normc_list_dV_normD_AllList.append(tmp_update_GB_normc_list_dV_normD_AllList)\n",
    "        update_GB_normc_list_dV_antiD_AllList.append(tmp_update_GB_normc_list_dV_antiD_AllList)\n",
    "        \n",
    "            \n",
    "    "
   ]
  },
  {
   "cell_type": "code",
   "execution_count": 26,
   "id": "1395fb39-abf5-4a14-8196-95e45a1b2cd8",
   "metadata": {
    "tags": []
   },
   "outputs": [
    {
     "name": "stdout",
     "output_type": "stream",
     "text": [
      "Voxels on anti-c GBs\n",
      "The number of the normal voxels and antic voxels during whole simulations are 0.0 and 0.0\n",
      "\n",
      "Voxels on norm-c GBs\n",
      "The number of the normal voxels and antic voxels during whole simulations are 93050 and 73\n",
      "The ratio of norm-curvature voxels during whole simulations is 99.9216090546911% in 93123 voxels\n",
      "\n",
      "anti-c GB before removing low fraction\n",
      "The number of the GBs showing anti-curvature during whole simulations is 0\n",
      "The ratio of anti-curvature and norm GBs during whole simulations is 0.0% and 100.0% in 639 GBs\n",
      "\n",
      "anti-c GB after removing low fraction\n",
      "The number of the GBs showing anti-curvature during whole simulations is 0\n",
      "The ratio of anti-curvature and norm GBs during whole simulations is 0.0% and 59.31142410015649% in 639 GBs\n",
      "\n",
      "The ratio of anti-curvature and norm GBs during whole simulations is (original GBs number) 0.0% and 0.13987769006204076% in 270951 GBs\n",
      "\n"
     ]
    }
   ],
   "source": [
    "    print(\"Voxels on anti-c GBs\")\n",
    "    normal_growth_voxel = 0\n",
    "    antic_growth_voxel = 0\n",
    "    # calculate anti-c voxels fraction\n",
    "    normal_growth_voxel = np.sum(update_GB_antic_list_dV_normD_list)\n",
    "    antic_growth_voxel = np.sum(update_GB_antic_list_dV_antiD_list)\n",
    "    print(f\"The number of the normal voxels and antic voxels during whole simulations are {normal_growth_voxel} and {antic_growth_voxel}\")\n",
    "    # print(f\"The ratio of anti-curvature voxels during whole simulations is {antic_growth_voxel/(antic_growth_voxel+normal_growth_voxel)*100}% in {antic_growth_voxel+normal_growth_voxel} voxels\")\n",
    "    print()\n",
    "    print(\"Voxels on norm-c GBs\")\n",
    "    normal_growth_voxel = 0\n",
    "    antic_growth_voxel = 0\n",
    "    # calculate anti-c voxels fraction\n",
    "    normal_growth_voxel = np.sum(update_GB_normc_list_dV_normD_list)\n",
    "    antic_growth_voxel = np.sum(update_GB_normc_list_dV_antiD_list)\n",
    "    print(f\"The number of the normal voxels and antic voxels during whole simulations are {normal_growth_voxel} and {antic_growth_voxel}\")\n",
    "    print(f\"The ratio of norm-curvature voxels during whole simulations is {normal_growth_voxel/(antic_growth_voxel+normal_growth_voxel)*100}% in {antic_growth_voxel+normal_growth_voxel} voxels\")\n",
    "    print()\n",
    "\n",
    "    print(\"anti-c GB before removing low fraction\")\n",
    "    total_GB_num = 0\n",
    "    for time_step in range(step_num):\n",
    "        step_GB = GB_infomation_dict_list[time_step].keys()\n",
    "        total_GB_num += len(step_GB)\n",
    "        \n",
    "    total_GB_num_real = len(GB_antic_list_velocity_list) + len(GB_normc_list_velocity_list)\n",
    "\n",
    "    print(f\"The number of the GBs showing anti-curvature during whole simulations is {len(GB_antic_list_dV_normD_list)}\")\n",
    "    print(f\"The ratio of anti-curvature and norm GBs during whole simulations is {len(GB_antic_list_dV_normD_list)/total_GB_num_real*100}% and {len(GB_normc_list_dV_normD_list)/total_GB_num_real*100}% in {total_GB_num_real} GBs\")\n",
    "    print()\n",
    "    \n",
    "    print(\"anti-c GB after removing low fraction\")\n",
    "\n",
    "    # number of GB woth high anti-c fraction (99%)\n",
    "    print(f\"The number of the GBs showing anti-curvature during whole simulations is {len(update_GB_antic_list_dV_antiD_list)}\")\n",
    "    print(f\"The ratio of anti-curvature and norm GBs during whole simulations is {len(update_GB_antic_list_dV_antiD_list)/total_GB_num_real*100}% and {len(update_GB_normc_list_dV_antiD_list)/total_GB_num_real*100}% in {total_GB_num_real} GBs\")\n",
    "    print()\n",
    "    \n",
    "    print(f\"The ratio of anti-curvature and norm GBs during whole simulations is (original GBs number) {len(update_GB_antic_list_dV_antiD_list)/total_GB_num*100}% and {len(update_GB_normc_list_dV_antiD_list)/total_GB_num*100}% in {total_GB_num} GBs\")\n",
    "    print()\n",
    "    \n",
    "    \n",
    "    "
   ]
  },
  {
   "cell_type": "code",
   "execution_count": 27,
   "id": "2ce8aec8-3d68-4bb6-a8a9-89ff7dd37978",
   "metadata": {
    "tags": []
   },
   "outputs": [
    {
     "name": "stdout",
     "output_type": "stream",
     "text": [
      "all points fitting: 0.9251504628058103\n",
      "all points slope: 4.017085549864946\n",
      "smaller points fitting: 0.9251504628058103\n",
      "smaller points slope: 4.017085549864946\n",
      "1.662757831681574\n"
     ]
    },
    {
     "data": {
      "text/plain": [
       "<Figure size 432x288 with 0 Axes>"
      ]
     },
     "metadata": {},
     "output_type": "display_data"
    },
    {
     "data": {
      "image/png": "[encoded data removed]",
      "text/plain": [
       "<Figure size 360x360 with 1 Axes>"
      ]
     },
     "metadata": {
      "needs_background": "light"
     },
     "output_type": "display_data"
    },
    {
     "data": {
      "text/plain": [
       "<Figure size 432x288 with 0 Axes>"
      ]
     },
     "metadata": {},
     "output_type": "display_data"
    },
    {
     "data": {
      "image/png": "[encoded data removed]",
      "text/plain": [
       "<Figure size 360x360 with 2 Axes>"
      ]
     },
     "metadata": {
      "needs_background": "light"
     },
     "output_type": "display_data"
    }
   ],
   "source": [
    "    # All in 1 figrue\n",
    "    figure_name_all = f\"figures/2D_velocity_signedcurvature_{case_name}_5d.png\"\n",
    "    plt.figure()\n",
    "    fig = plt.figure(figsize=(5, 5))\n",
    "    plt.plot([curvature_limit,0.5],[0,0],'-',color='grey',linewidth=2)\n",
    "    plt.scatter(GB_normc_list_curvature_list, GB_normc_list_velocity_list,s=4,alpha=0.5)\n",
    "    plt.scatter(GB_antic_list_curvature_list, GB_antic_list_velocity_list,s=4,alpha=0.5,color='C01')\n",
    "    plt.xlabel(\"curvature\", fontsize=20)\n",
    "    plt.ylabel(\"velocity (voxel/step)\", fontsize=18)\n",
    "    plt.xlim([curvature_limit,0.1])\n",
    "    plt.ylim([-0.3,0.3])\n",
    "    plt.savefig(figure_name_all, dpi=400,bbox_inches='tight')\n",
    "    \n",
    "    # hot figure\n",
    "    # Create a 2D histogram to approximate density\n",
    "    x_bins = np.linspace( 0, 0.105, 40)  # X-axis bins (adjust based on your data)\n",
    "    y_bins = np.linspace(-0.4, 0.4, 40)  # Y-axis bins (adjust based on your data)\n",
    "    hist, x_edges, y_edges = np.histogram2d(GB_normc_list_curvature_list+GB_antic_list_curvature_list, GB_normc_list_velocity_list+GB_antic_list_velocity_list, bins=[x_bins, y_bins])\n",
    "    # Compute the bin centers\n",
    "    x_centers = (x_edges[:-1] + x_edges[1:]) / 2\n",
    "    y_centers = (y_edges[:-1] + y_edges[1:]) / 2\n",
    "    \n",
    "    # bin plotting\n",
    "    bin_interval = 0.002\n",
    "    x_lim = [0,0.1]\n",
    "    bin_number = int((x_lim[1]-x_lim[0])/bin_interval)\n",
    "    curvature_coordinate = np.arange(x_lim[0],x_lim[1],bin_interval)+bin_interval/2\n",
    "    \n",
    "    new_curvature_1Dlist_remove_0step = GB_normc_list_curvature_list + GB_antic_list_curvature_list\n",
    "    new_velocity_1Dlist_remove_0step = GB_normc_list_velocity_list + GB_antic_list_velocity_list\n",
    "    new_area_1Dlist_remove_0step = GB_normc_list_area_list+GB_antic_list_area_list\n",
    "    new_GBenergy_1Dlist_remove_0step = GB_normc_list_GBenergy_list+GB_antic_list_GBenergy_list\n",
    "    \n",
    "    curvature_bin_counts = np.zeros(bin_number)\n",
    "    velocity_bin_sums = np.zeros(bin_number)\n",
    "    velocity_bin_squared_sums = np.zeros(bin_number)\n",
    "    for index in range(len(new_curvature_1Dlist_remove_0step)):\n",
    "        curvature_val = new_curvature_1Dlist_remove_0step[index]\n",
    "        velocity_val = new_velocity_1Dlist_remove_0step[index]\n",
    "        if abs(curvature_val) > x_lim[1]:\n",
    "            continue\n",
    "        bin_idx = int((curvature_val - x_lim[0]) // bin_interval)\n",
    "        curvature_bin_counts[bin_idx] += 1\n",
    "        velocity_bin_sums[bin_idx] += velocity_val\n",
    "        velocity_bin_squared_sums[bin_idx] += velocity_val ** 2\n",
    "\n",
    "    velocity_bin_means = np.zeros(bin_number)\n",
    "    velocity_bin_stds = np.zeros(bin_number)\n",
    "\n",
    "    for i in range(bin_number):\n",
    "        if curvature_bin_counts[i] > 0:\n",
    "            velocity_bin_means[i] = velocity_bin_sums[i] / curvature_bin_counts[i]\n",
    "            velocity_bin_stds[i] = np.sqrt((velocity_bin_squared_sums[i] / curvature_bin_counts[i]) - velocity_bin_means[i]**2)\n",
    "    \n",
    "    figure_name_all = f\"figures/2D_velocity_signedcurvature_hot_{case_name}_5d.png\"\n",
    "    plt.figure()\n",
    "    fig = plt.figure(figsize=(5, 5))\n",
    "    plt.plot([curvature_limit,0.5],[0,0],'-',color='grey',linewidth=2)\n",
    "    X, Y = np.meshgrid(x_centers, y_centers)\n",
    "    hist.T[hist.T==0] = 1\n",
    "    plt.contour(X, Y, np.log10(hist.T), levels=20, cmap='gray', alpha=0.1,vmin=0,vmax=2.8)\n",
    "    ax2 = plt.contourf(X, Y, np.log10(hist.T), levels=20, cmap='coolwarm', alpha=0.9,vmin=0,vmax=2.8)\n",
    "    sm = plt.cm.ScalarMappable(cmap='coolwarm',norm=plt.Normalize(vmin=0,vmax=2.8))\n",
    "    cbar = plt.colorbar(sm)\n",
    "    cbar.set_label(u\"$\\log_{10}(density)$\", fontsize=20)\n",
    "    \n",
    "    valid_bins = curvature_bin_counts > 10\n",
    "    plt.errorbar(curvature_coordinate[valid_bins], velocity_bin_means[valid_bins], yerr=velocity_bin_stds[valid_bins],\n",
    "             fmt='o', color='k', linewidth=1, capsize=1, ecolor='black', markersize=2)\n",
    "    \n",
    "    # Linear fit for all valid bins\n",
    "    x_all = curvature_coordinate[valid_bins]\n",
    "    y_all = velocity_bin_means[valid_bins]\n",
    "    p_all = np.polyfit(x_all, y_all, 1)\n",
    "    y_pred_all = np.polyval(p_all, x_all)\n",
    "    r2_all = 1 - np.sum((y_all - y_pred_all)**2) / np.sum((y_all - np.mean(y_all))**2)\n",
    "    print(f\"all points fitting: {r2_all}\")\n",
    "    print(f\"all points slope: {p_all[0]}\")\n",
    "    \n",
    "    # Linear fit for valid bins with curvature < 0.05\n",
    "    mask_sub = x_all < 0.03\n",
    "    x_sub = x_all[mask_sub]\n",
    "    y_sub = y_all[mask_sub]\n",
    "    if len(x_sub) > 1:\n",
    "        p_sub = np.polyfit(x_sub, y_sub, 1)\n",
    "        y_pred_sub = np.polyval(p_sub, x_sub)\n",
    "        r2_sub = 1 - np.sum((y_sub - y_pred_sub)**2) / np.sum((y_sub - np.mean(y_sub))**2)\n",
    "    else:\n",
    "        r2_sub = np.nan\n",
    "    print(f\"smaller points fitting: {r2_sub}\")\n",
    "    print(f\"smaller points slope: {p_sub[0]}\")\n",
    "    \n",
    "    # Plot linear fits\n",
    "    plt.plot(x_all, y_pred_all, '-', color='C1', linewidth=3, label=rf'All (R$^2$={r2_all:.3f})')\n",
    "    if len(x_sub) > 1:\n",
    "        plt.plot(x_sub, y_pred_sub, '-', color='C2', linewidth=3, label=rf'$\\kappa$<0.03 (R$^2$={r2_sub:.3f})')\n",
    "    plt.legend(loc='lower right', fontsize=14)\n",
    "    \n",
    "    plt.xlabel(\"curvature\", fontsize=20)\n",
    "    plt.ylabel(\"velocity (voxel/step)\", fontsize=20)\n",
    "    plt.xlim([curvature_limit,0.1])\n",
    "    plt.ylim([-0.3,0.3])\n",
    "    plt.savefig(figure_name_all, dpi=400,bbox_inches='tight')\n",
    "    print(np.max(np.log10(hist.T)))\n",
    "    "
   ]
  },
  {
   "cell_type": "code",
   "execution_count": 28,
   "id": "7e609b22-de14-4273-867b-60249af30047",
   "metadata": {},
   "outputs": [
    {
     "data": {
      "text/plain": [
       "Text(0, 0.5, 'velocity (voxel/step)')"
      ]
     },
     "execution_count": 28,
     "metadata": {},
     "output_type": "execute_result"
    },
    {
     "data": {
      "text/plain": [
       "<Figure size 432x288 with 0 Axes>"
      ]
     },
     "metadata": {},
     "output_type": "display_data"
    },
    {
     "data": {
      "image/png": "[encoded data removed]",
      "text/plain": [
       "<Figure size 360x360 with 1 Axes>"
      ]
     },
     "metadata": {
      "needs_background": "light"
     },
     "output_type": "display_data"
    },
    {
     "data": {
      "text/plain": [
       "<Figure size 432x288 with 0 Axes>"
      ]
     },
     "metadata": {},
     "output_type": "display_data"
    },
    {
     "data": {
      "image/png": "[encoded data removed]",
      "text/plain": [
       "<Figure size 360x360 with 1 Axes>"
      ]
     },
     "metadata": {
      "needs_background": "light"
     },
     "output_type": "display_data"
    },
    {
     "data": {
      "text/plain": [
       "<Figure size 432x288 with 0 Axes>"
      ]
     },
     "metadata": {},
     "output_type": "display_data"
    },
    {
     "data": {
      "image/png": "[encoded data removed]",
      "text/plain": [
       "<Figure size 504x504 with 1 Axes>"
      ]
     },
     "metadata": {
      "needs_background": "light"
     },
     "output_type": "display_data"
    }
   ],
   "source": [
    "    # All in 1 figrue\n",
    "    figure_name_all = f\"figures/2D_velocity_signedcurvature_confi_{case_name}_5d.png\"\n",
    "    plt.figure()\n",
    "    fig = plt.figure(figsize=(5, 5))\n",
    "    plt.plot([curvature_limit,0.5],[0,0],'-',color='grey',linewidth=2)\n",
    "    plt.scatter(update_GB_normc_list_curvature_list, update_GB_normc_list_velocity_list,s=4,alpha=0.5)\n",
    "    plt.scatter(update_GB_antic_list_curvature_list, update_GB_antic_list_velocity_list,s=4,alpha=0.5,color='C01')\n",
    "    plt.xlabel(\"curvature\", fontsize=20)\n",
    "    plt.ylabel(\"velocity (voxel/step)\", fontsize=18)\n",
    "    plt.xlim([curvature_limit,0.5])\n",
    "    plt.ylim([-0.5,0.5])\n",
    "    plt.savefig(figure_name_all, dpi=400,bbox_inches='tight')\n",
    "    \n",
    "    # hot figure\n",
    "    # Create a 2D histogram to approximate density\n",
    "    x_bins = np.linspace( 0, 0.505, 40)  # X-axis bins (adjust based on your data)\n",
    "    y_bins = np.linspace(-0.6, 0.6, 40)  # Y-axis bins (adjust based on your data)\n",
    "    hist, x_edges, y_edges = np.histogram2d(update_GB_normc_list_curvature_list+update_GB_antic_list_curvature_list, update_GB_normc_list_velocity_list+update_GB_antic_list_velocity_list, bins=[x_bins, y_bins])\n",
    "    # Compute the bin centers\n",
    "    x_centers = (x_edges[:-1] + x_edges[1:]) / 2\n",
    "    y_centers = (y_edges[:-1] + y_edges[1:]) / 2\n",
    "    \n",
    "    figure_name_all = f\"figures/2D_velocity_signedcurvature_confi_hot_{case_name}_5d.png\"\n",
    "    plt.figure()\n",
    "    fig = plt.figure(figsize=(5, 5))\n",
    "    plt.plot([curvature_limit,0.5],[0,0],'-',color='grey',linewidth=2)\n",
    "    X, Y = np.meshgrid(x_centers, y_centers)\n",
    "    hist.T[hist.T==0] = 0.5\n",
    "    plt.contourf(X, Y, np.log10(hist.T), levels=20, cmap='coolwarm', alpha=0.9)\n",
    "    plt.contour(X, Y, np.log10(hist.T), levels=20, cmap='gray', alpha=0.1)\n",
    "    plt.xlabel(\"curvature\", fontsize=20)\n",
    "    plt.ylabel(\"velocity (voxel/step)\", fontsize=20)\n",
    "    plt.xlim([curvature_limit,0.5])\n",
    "    plt.ylim([-0.5,0.5])\n",
    "    plt.savefig(figure_name_all, dpi=400,bbox_inches='tight')\n",
    "    \n",
    "    # plot velocity VS averaged curvature\n",
    "    bin_interval = 0.002\n",
    "    x_lim = [0.0,0.5]\n",
    "    bin_number = int((x_lim[1]-x_lim[0])/bin_interval)\n",
    "    curvature_coordinate = np.arange(x_lim[0],x_lim[1],bin_interval)+bin_interval/2\n",
    "\n",
    "    curvature_bin = np.zeros(bin_number)\n",
    "    velocity_bin = np.zeros(bin_number)\n",
    "    new_curvature_1Dlist_remove_0step = update_GB_normc_list_curvature_list + update_GB_antic_list_curvature_list\n",
    "    new_velocity_1Dlist_remove_0step = update_GB_normc_list_velocity_list + update_GB_antic_list_velocity_list\n",
    "    new_area_1Dlist_remove_0step = update_GB_normc_list_area_list+update_GB_antic_list_area_list\n",
    "    new_GBenergy_1Dlist_remove_0step = update_GB_normc_list_GBenergy_list+update_GB_antic_list_GBenergy_list\n",
    "    for index in range(len(new_curvature_1Dlist_remove_0step)):\n",
    "        if abs(new_curvature_1Dlist_remove_0step[index])>=x_lim[1] or abs(new_curvature_1Dlist_remove_0step[index])<=x_lim[0]: continue\n",
    "        curvature_bin[int((new_curvature_1Dlist_remove_0step[index]-x_lim[0])//bin_interval)] += 1\n",
    "        velocity_bin[int((new_curvature_1Dlist_remove_0step[index]-x_lim[0])//bin_interval)] += new_velocity_1Dlist_remove_0step[index]\n",
    "    for i in range(bin_number): \n",
    "        if curvature_bin[i]>0: velocity_bin[i] = velocity_bin[i]/curvature_bin[i]\n",
    "    # plot\n",
    "    figure_name_all_bin = f\"figures/2D_velocity_signedcurvature_confi_{case_name}_5d_afterBin.png\"\n",
    "    plt.figure()\n",
    "    fig = plt.figure(figsize=(7, 7))\n",
    "    # plt.scatter(curvature_coordinate, velocity_bin,s=4,alpha=0.5)\n",
    "    plt.xlim([curvature_limit,0.3])\n",
    "    plt.ylim([-1,1])\n",
    "    plt.plot(curvature_coordinate[velocity_bin!=0], velocity_bin[velocity_bin!=0],'o', linewidth=2)\n",
    "    plt.xlabel(\"curvature\", fontsize=18)\n",
    "    plt.ylabel(\"velocity (voxel/step)\", fontsize=18)\n",
    "    # plt.savefig(figure_name_all_bin, dpi=400,bbox_inches='tight')"
   ]
  },
  {
   "cell_type": "code",
   "execution_count": 29,
   "id": "4872845b-89b5-4e3f-9912-399bb926038b",
   "metadata": {
    "tags": []
   },
   "outputs": [
    {
     "data": {
      "text/plain": [
       "<Figure size 432x288 with 0 Axes>"
      ]
     },
     "metadata": {},
     "output_type": "display_data"
    },
    {
     "data": {
      "image/png": "[encoded data removed]",
      "text/plain": [
       "<Figure size 504x504 with 1 Axes>"
      ]
     },
     "metadata": {
      "needs_background": "light"
     },
     "output_type": "display_data"
    },
    {
     "data": {
      "text/plain": [
       "<Figure size 432x288 with 0 Axes>"
      ]
     },
     "metadata": {},
     "output_type": "display_data"
    },
    {
     "data": {
      "image/png": "[encoded data removed]",
      "text/plain": [
       "<Figure size 504x504 with 1 Axes>"
      ]
     },
     "metadata": {
      "needs_background": "light"
     },
     "output_type": "display_data"
    },
    {
     "data": {
      "text/plain": [
       "<Figure size 432x288 with 0 Axes>"
      ]
     },
     "metadata": {},
     "output_type": "display_data"
    },
    {
     "data": {
      "image/png": "[encoded data removed]",
      "text/plain": [
       "<Figure size 504x504 with 1 Axes>"
      ]
     },
     "metadata": {
      "needs_background": "light"
     },
     "output_type": "display_data"
    },
    {
     "data": {
      "text/plain": [
       "<Figure size 432x288 with 0 Axes>"
      ]
     },
     "metadata": {},
     "output_type": "display_data"
    },
    {
     "data": {
      "image/png": "[encoded data removed]",
      "text/plain": [
       "<Figure size 504x504 with 1 Axes>"
      ]
     },
     "metadata": {
      "needs_background": "light"
     },
     "output_type": "display_data"
    }
   ],
   "source": [
    "\n",
    "    GBenergy_1Dlist_remove_0step = GB_normc_list_GBenergy_list+ GB_antic_list_GBenergy_list\n",
    "    velocity_1Dlist_remove_0step = GB_normc_list_velocity_list+ GB_antic_list_velocity_list\n",
    "    \n",
    "    figure_name_all = f\"figures/2D_velocity_GBenergy_{case_name}_5d.png\"\n",
    "    plt.figure()\n",
    "    fig = plt.figure(figsize=(7, 7))\n",
    "    plt.scatter(GBenergy_1Dlist_remove_0step, velocity_1Dlist_remove_0step,s=4,alpha=0.5,label='All GBs')\n",
    "    GB_antic_list_GBenergy_list = np.array(GB_antic_list_GBenergy_list)\n",
    "    GB_antic_list_velocity_list = np.array(GB_antic_list_velocity_list)\n",
    "    GB_antic_list_anticNum_list = np.array(GB_antic_list_anticNum_list)\n",
    "    plt.scatter(GB_antic_list_GBenergy_list[GB_antic_list_anticNum_list>=5], GB_antic_list_velocity_list[GB_antic_list_anticNum_list>=5],s=4,alpha=0.5,label='anti-c GBs(5 steps)')\n",
    "    plt.xlabel(\"GB energy\", fontsize=18)\n",
    "    plt.ylabel(\"velocity (voxel/step)\", fontsize=18)\n",
    "    plt.xlim([0.3,1.0])\n",
    "    plt.ylim([-0.6,0.6])\n",
    "    plt.legend(fontsize=18)\n",
    "    plt.savefig(figure_name_all, dpi=400,bbox_inches='tight')\n",
    "    \n",
    "    # plot velocity VS averaged GBenergy\n",
    "    bin_interval = 0.01\n",
    "    x_lim = [0.25,1.0]\n",
    "    bin_number = int((x_lim[1]-x_lim[0])/bin_interval)\n",
    "    GBenergy_coordinate = np.arange(x_lim[0],x_lim[1],bin_interval)+bin_interval/2\n",
    "\n",
    "    GBenergy_bin = np.zeros(bin_number)\n",
    "    velocity_bin = np.zeros(bin_number)\n",
    "    antic_num_bin = np.zeros(bin_number)\n",
    "    for index in range(len(GBenergy_1Dlist_remove_0step)):\n",
    "        if abs(GBenergy_1Dlist_remove_0step[index])>=1.0: continue\n",
    "        GBenergy_bin[int((GBenergy_1Dlist_remove_0step[index]-x_lim[0])//bin_interval)] += 1\n",
    "        velocity_bin[int((GBenergy_1Dlist_remove_0step[index]-x_lim[0])//bin_interval)] += velocity_1Dlist_remove_0step[index]\n",
    "        if velocity_1Dlist_remove_0step[index] < 0: antic_num_bin[int((GBenergy_1Dlist_remove_0step[index]-x_lim[0])//bin_interval)] += 1\n",
    "        if int((GBenergy_1Dlist_remove_0step[index]-x_lim[0])//bin_interval)<0: print(GBenergy_1Dlist_remove_0step[index])\n",
    "    for i in range(bin_number): \n",
    "        if GBenergy_bin[i]>0: velocity_bin[i] = velocity_bin[i]/GBenergy_bin[i]\n",
    "    # plot\n",
    "    figure_name_all_bin = f\"figures/2D_velocity_GBenergy_{case_name}_5d_afterBin.png\"\n",
    "    plt.figure()\n",
    "    fig = plt.figure(figsize=(7, 7))\n",
    "    # plt.scatter(GBenergy_coordinate, velocity_bin,s=4,alpha=0.5)\n",
    "    plt.xlim([0.3,1.0])\n",
    "    plt.ylim([-0.2,0.2])\n",
    "    plt.plot(GBenergy_coordinate[velocity_bin!=0], velocity_bin[velocity_bin!=0],'o', linewidth=2)\n",
    "    plt.xlabel(\"GB energy\", fontsize=18)\n",
    "    plt.ylabel(\"velocity (voxel/step)\", fontsize=18)\n",
    "    plt.savefig(figure_name_all_bin, dpi=400,bbox_inches='tight')\n",
    "    \n",
    "    plt.figure()\n",
    "    fig = plt.figure(figsize=(7, 7))\n",
    "    plt.xlim([0.3,1.0])\n",
    "    plt.ylim([0,0.15])\n",
    "    plt.plot(GBenergy_coordinate, GBenergy_bin/np.sum(GBenergy_bin),'-', linewidth=2)\n",
    "    plt.xlabel(\"GB energy\", fontsize=18)\n",
    "    plt.ylabel(\"distribution\", fontsize=18)\n",
    "    \n",
    "    antic_ratio_bin = np.zeros(bin_number)\n",
    "    for bin_i in range(len(GBenergy_bin)):\n",
    "        if GBenergy_bin[bin_i] > 0: antic_ratio_bin[bin_i] = antic_num_bin[bin_i]/GBenergy_bin[bin_i]\n",
    "    plt.figure()\n",
    "    fig = plt.figure(figsize=(7, 7))\n",
    "    plt.xlim([0.3,1.0])\n",
    "    plt.ylim([0,0.5])\n",
    "    plt.plot(GBenergy_coordinate[antic_ratio_bin>0], antic_ratio_bin[antic_ratio_bin>0],'o', linewidth=2)\n",
    "    plt.xlabel(\"GB energy\", fontsize=18)\n",
    "    plt.ylabel(\"anti-c fraction\", fontsize=18)\n",
    "    \n",
    "    anti_c_data_file_name = f\"data/2D_antic_data_{case_name}\"\n",
    "    np.savez(anti_c_data_file_name,antic_ratio_bin=antic_ratio_bin,GBenergy_bin=GBenergy_bin)\n",
    "    \n",
    "        "
   ]
  },
  {
   "cell_type": "code",
   "execution_count": 30,
   "id": "96aaa591-4902-4adc-bee7-240d3ade3fef",
   "metadata": {
    "tags": []
   },
   "outputs": [
    {
     "data": {
      "text/plain": [
       "<Figure size 432x288 with 0 Axes>"
      ]
     },
     "metadata": {},
     "output_type": "display_data"
    },
    {
     "data": {
      "image/png": "[encoded data removed]",
      "text/plain": [
       "<Figure size 504x504 with 1 Axes>"
      ]
     },
     "metadata": {
      "needs_background": "light"
     },
     "output_type": "display_data"
    },
    {
     "data": {
      "text/plain": [
       "<Figure size 432x288 with 0 Axes>"
      ]
     },
     "metadata": {},
     "output_type": "display_data"
    },
    {
     "data": {
      "image/png": "[encoded data removed]",
      "text/plain": [
       "<Figure size 504x504 with 1 Axes>"
      ]
     },
     "metadata": {
      "needs_background": "light"
     },
     "output_type": "display_data"
    },
    {
     "data": {
      "text/plain": [
       "<Figure size 432x288 with 0 Axes>"
      ]
     },
     "metadata": {},
     "output_type": "display_data"
    },
    {
     "data": {
      "image/png": "[encoded data removed]",
      "text/plain": [
       "<Figure size 504x504 with 1 Axes>"
      ]
     },
     "metadata": {
      "needs_background": "light"
     },
     "output_type": "display_data"
    },
    {
     "data": {
      "text/plain": [
       "<Figure size 432x288 with 0 Axes>"
      ]
     },
     "metadata": {},
     "output_type": "display_data"
    },
    {
     "data": {
      "image/png": "[encoded data removed]",
      "text/plain": [
       "<Figure size 504x504 with 1 Axes>"
      ]
     },
     "metadata": {
      "needs_background": "light"
     },
     "output_type": "display_data"
    }
   ],
   "source": [
    "\n",
    "    figure_name_all = f\"figures/2D_velocity_GBenergy_confi_{case_name}_5d.png\"\n",
    "    plt.figure()\n",
    "    fig = plt.figure(figsize=(7, 7))\n",
    "    plt.scatter(new_GBenergy_1Dlist_remove_0step, new_velocity_1Dlist_remove_0step,s=4,alpha=0.5,label='All GBs')\n",
    "    update_GB_antic_list_GBenergy_list = np.array(update_GB_antic_list_GBenergy_list)\n",
    "    update_GB_antic_list_velocity_list = np.array(update_GB_antic_list_velocity_list)\n",
    "    update_GB_antic_list_anticNum_list = np.array(update_GB_antic_list_anticNum_list)\n",
    "    plt.scatter(update_GB_antic_list_GBenergy_list[update_GB_antic_list_anticNum_list>=5], update_GB_antic_list_velocity_list[update_GB_antic_list_anticNum_list>=5],s=4,alpha=0.5,label='anti-c GBs(5 steps)')\n",
    "    plt.xlabel(\"GB energy\", fontsize=18)\n",
    "    plt.ylabel(\"velocity (voxel/step)\", fontsize=18)\n",
    "    plt.xlim([0.3,1.0])\n",
    "    plt.ylim([-0.6,0.6])\n",
    "    plt.legend(fontsize=18)\n",
    "    plt.savefig(figure_name_all, dpi=400,bbox_inches='tight')\n",
    "    \n",
    "    # plot velocity VS averaged GBenergy\n",
    "    bin_interval = 0.01\n",
    "    x_lim = [0.25,1.0]\n",
    "    bin_number = int((x_lim[1]-x_lim[0])/bin_interval)\n",
    "    GBenergy_coordinate = np.arange(x_lim[0],x_lim[1],bin_interval)+bin_interval/2\n",
    "\n",
    "    GBenergy_bin = np.zeros(bin_number)\n",
    "    velocity_bin = np.zeros(bin_number)\n",
    "    antic_num_bin = np.zeros(bin_number)\n",
    "    for index in range(len(new_GBenergy_1Dlist_remove_0step)):\n",
    "        if abs(new_GBenergy_1Dlist_remove_0step[index])>=1.0: continue\n",
    "        GBenergy_bin[int((new_GBenergy_1Dlist_remove_0step[index]-x_lim[0])//bin_interval)] += 1\n",
    "        velocity_bin[int((new_GBenergy_1Dlist_remove_0step[index]-x_lim[0])//bin_interval)] += new_velocity_1Dlist_remove_0step[index]\n",
    "        if new_velocity_1Dlist_remove_0step[index] < 0: antic_num_bin[int((new_GBenergy_1Dlist_remove_0step[index]-x_lim[0])//bin_interval)] += 1\n",
    "        if int((new_GBenergy_1Dlist_remove_0step[index]-x_lim[0])//bin_interval)<0: print(new_GBenergy_1Dlist_remove_0step[index])\n",
    "    for i in range(bin_number): \n",
    "        if GBenergy_bin[i]>0: velocity_bin[i] = velocity_bin[i]/GBenergy_bin[i]\n",
    "    # plot\n",
    "    figure_name_all_bin = f\"figures/2D_velocity_GBenergy_confi_{case_name}_5d_afterBin.png\"\n",
    "    plt.figure()\n",
    "    fig = plt.figure(figsize=(7, 7))\n",
    "    # plt.scatter(GBenergy_coordinate, velocity_bin,s=4,alpha=0.5)\n",
    "    plt.xlim([0.3,1.0])\n",
    "    plt.ylim([-0.2,0.2])\n",
    "    plt.plot(GBenergy_coordinate[velocity_bin!=0], velocity_bin[velocity_bin!=0],'o', linewidth=2)\n",
    "    plt.xlabel(\"GB energy\", fontsize=18)\n",
    "    plt.ylabel(\"velocity (voxel/step)\", fontsize=18)\n",
    "    plt.savefig(figure_name_all_bin, dpi=400,bbox_inches='tight')\n",
    "    \n",
    "    plt.figure()\n",
    "    fig = plt.figure(figsize=(7, 7))\n",
    "    plt.xlim([0.3,1.0])\n",
    "    plt.ylim([0,0.15])\n",
    "    plt.plot(GBenergy_coordinate, GBenergy_bin/np.sum(GBenergy_bin),'-', linewidth=2)\n",
    "    plt.xlabel(\"GB energy\", fontsize=18)\n",
    "    plt.ylabel(\"distribution\", fontsize=18)\n",
    "    \n",
    "    antic_ratio_bin = np.zeros(bin_number)\n",
    "    for bin_i in range(len(GBenergy_bin)):\n",
    "        if GBenergy_bin[bin_i] > 0: antic_ratio_bin[bin_i] = antic_num_bin[bin_i]/GBenergy_bin[bin_i]\n",
    "    plt.figure()\n",
    "    fig = plt.figure(figsize=(7, 7))\n",
    "    plt.xlim([0.3,1.0])\n",
    "    plt.ylim([0,0.5])\n",
    "    plt.plot(GBenergy_coordinate[antic_ratio_bin>0], antic_ratio_bin[antic_ratio_bin>0],'o', linewidth=2)\n",
    "    plt.xlabel(\"GB energy\", fontsize=18)\n",
    "    plt.ylabel(\"anti-c fraction\", fontsize=18)\n",
    "    \n",
    "    anti_c_data_file_name = f\"data/2D_antic_data_confi_{case_name}\"\n",
    "    np.savez(anti_c_data_file_name,antic_ratio_bin=antic_ratio_bin,GBenergy_bin=GBenergy_bin)\n",
    "    \n",
    "#     GBenergy_coordinate_larger0 = GBenergy_coordinate[antic_ratio_bin>0]\n",
    "#     delta_n = -0.66*np.log(antic_ratio_bin[antic_ratio_bin>0])/GBenergy_coordinate[antic_ratio_bin>0]\n",
    "#     mean_delta_n = np.mean(delta_n)\n",
    "#     mean_delta_n_2 = np.sum(delta_n*GBenergy_bin[antic_ratio_bin>0]/np.sum(GBenergy_bin[antic_ratio_bin>0]))\n",
    "#     print(mean_delta_n_2)\n",
    "#     plt.figure()\n",
    "#     fig = plt.figure(figsize=(7, 7))\n",
    "#     plt.xlim([0.3,1.0])\n",
    "#     plt.ylim([0,5])\n",
    "#     plt.plot(GBenergy_coordinate_larger0, delta_n,'o', linewidth=2, label = 'results')\n",
    "#     plt.plot(GBenergy_coordinate_larger0, mean_delta_n*np.ones(len(GBenergy_coordinate_larger0)),'--',linewidth=2,color='gray',label=f'mean-{round(mean_delta_n,2)}')\n",
    "#     plt.legend(fontsize=18)\n",
    "#     plt.xlabel(\"GB energy\", fontsize=18)\n",
    "#     plt.ylabel(\"num of site\", fontsize=18)\n",
    "        "
   ]
  },
  {
   "cell_type": "code",
   "execution_count": 31,
   "id": "bebb480d-1a8f-477d-a85e-75b5b813f8dd",
   "metadata": {
    "tags": []
   },
   "outputs": [
    {
     "ename": "FloatingPointError",
     "evalue": "invalid value encountered in divide",
     "output_type": "error",
     "traceback": [
      "\u001b[0;31m---------------------------------------------------------------------------\u001b[0m",
      "\u001b[0;31mFloatingPointError\u001b[0m                        Traceback (most recent call last)",
      "\u001b[0;32m/scratch/local/4755732/ipykernel_3636328/2572166735.py\u001b[0m in \u001b[0;36m<module>\u001b[0;34m\u001b[0m\n\u001b[1;32m     20\u001b[0m \u001b[0mplt\u001b[0m\u001b[0;34m.\u001b[0m\u001b[0mxlim\u001b[0m\u001b[0;34m(\u001b[0m\u001b[0;34m[\u001b[0m\u001b[0;36m0.3\u001b[0m\u001b[0;34m,\u001b[0m\u001b[0;36m1.0\u001b[0m\u001b[0;34m]\u001b[0m\u001b[0;34m)\u001b[0m\u001b[0;34m\u001b[0m\u001b[0;34m\u001b[0m\u001b[0m\n\u001b[1;32m     21\u001b[0m \u001b[0mplt\u001b[0m\u001b[0;34m.\u001b[0m\u001b[0mylim\u001b[0m\u001b[0;34m(\u001b[0m\u001b[0;34m[\u001b[0m\u001b[0;36m0\u001b[0m\u001b[0;34m,\u001b[0m\u001b[0;36m0.15\u001b[0m\u001b[0;34m]\u001b[0m\u001b[0;34m)\u001b[0m\u001b[0;34m\u001b[0m\u001b[0;34m\u001b[0m\u001b[0m\n\u001b[0;32m---> 22\u001b[0;31m \u001b[0mplt\u001b[0m\u001b[0;34m.\u001b[0m\u001b[0mplot\u001b[0m\u001b[0;34m(\u001b[0m\u001b[0mGBenergy_coordinate\u001b[0m\u001b[0;34m,\u001b[0m \u001b[0mGBenergy_bin_first\u001b[0m\u001b[0;34m/\u001b[0m\u001b[0mnp\u001b[0m\u001b[0;34m.\u001b[0m\u001b[0msum\u001b[0m\u001b[0;34m(\u001b[0m\u001b[0mGBenergy_bin_first\u001b[0m\u001b[0;34m)\u001b[0m\u001b[0;34m,\u001b[0m\u001b[0;34m'-'\u001b[0m\u001b[0;34m,\u001b[0m \u001b[0mlinewidth\u001b[0m\u001b[0;34m=\u001b[0m\u001b[0;36m2\u001b[0m\u001b[0;34m,\u001b[0m\u001b[0mlabel\u001b[0m\u001b[0;34m=\u001b[0m\u001b[0;34m\"20k grains\"\u001b[0m\u001b[0;34m)\u001b[0m\u001b[0;34m\u001b[0m\u001b[0;34m\u001b[0m\u001b[0m\n\u001b[0m\u001b[1;32m     23\u001b[0m \u001b[0mplt\u001b[0m\u001b[0;34m.\u001b[0m\u001b[0mplot\u001b[0m\u001b[0;34m(\u001b[0m\u001b[0mGBenergy_coordinate\u001b[0m\u001b[0;34m,\u001b[0m \u001b[0mGBenergy_bin_second\u001b[0m\u001b[0;34m/\u001b[0m\u001b[0mnp\u001b[0m\u001b[0;34m.\u001b[0m\u001b[0msum\u001b[0m\u001b[0;34m(\u001b[0m\u001b[0mGBenergy_bin_second\u001b[0m\u001b[0;34m)\u001b[0m\u001b[0;34m,\u001b[0m\u001b[0;34m'-'\u001b[0m\u001b[0;34m,\u001b[0m \u001b[0mlinewidth\u001b[0m\u001b[0;34m=\u001b[0m\u001b[0;36m2\u001b[0m\u001b[0;34m,\u001b[0m\u001b[0mlabel\u001b[0m\u001b[0;34m=\u001b[0m\u001b[0;34mf\"1k grains\"\u001b[0m\u001b[0;34m)\u001b[0m\u001b[0;34m\u001b[0m\u001b[0;34m\u001b[0m\u001b[0m\n\u001b[1;32m     24\u001b[0m \u001b[0mplt\u001b[0m\u001b[0;34m.\u001b[0m\u001b[0mlegend\u001b[0m\u001b[0;34m(\u001b[0m\u001b[0mfontsize\u001b[0m\u001b[0;34m=\u001b[0m\u001b[0;36m18\u001b[0m\u001b[0;34m)\u001b[0m\u001b[0;34m\u001b[0m\u001b[0;34m\u001b[0m\u001b[0m\n",
      "\u001b[0;31mFloatingPointError\u001b[0m: invalid value encountered in divide"
     ]
    },
    {
     "data": {
      "text/plain": [
       "<Figure size 432x288 with 0 Axes>"
      ]
     },
     "metadata": {},
     "output_type": "display_data"
    },
    {
     "data": {
      "image/png": "[encoded data removed]",
      "text/plain": [
       "<Figure size 360x360 with 1 Axes>"
      ]
     },
     "metadata": {
      "needs_background": "light"
     },
     "output_type": "display_data"
    }
   ],
   "source": [
    "    # distribution for init and end\n",
    "    bin_interval = 0.01\n",
    "    x_lim = [0.25,1.0]\n",
    "    bin_number = int((x_lim[1]-x_lim[0])/bin_interval)\n",
    "    GBenergy_coordinate = np.arange(x_lim[0],x_lim[1],bin_interval)+bin_interval/2\n",
    "    \n",
    "    figure_name_distri = f\"figures/2D_one_step_distribution_{case_name}.png\"\n",
    "    plt.figure()\n",
    "    fig = plt.figure(figsize=(5, 5))\n",
    "    first_step = 0\n",
    "    second_step = step_1000grains\n",
    "    GBenergy_bin_first = np.zeros(bin_number)\n",
    "    for index in range(len(GB_list_GBenergy_list[first_step])):\n",
    "        if abs(GB_list_GBenergy_list[first_step][index])>1.0: continue\n",
    "        GBenergy_bin_first[int((GB_list_GBenergy_list[first_step][index]-x_lim[0])//bin_interval)] += 1\n",
    "    GBenergy_bin_second = np.zeros(bin_number)\n",
    "    for index in range(len(GB_list_GBenergy_list[second_step])):\n",
    "        if abs(GB_list_GBenergy_list[second_step][index])>1.0: continue\n",
    "        GBenergy_bin_second[int((GB_list_GBenergy_list[second_step][index]-x_lim[0])//bin_interval)] += 1\n",
    "    plt.xlim([0.3,1.0])\n",
    "    plt.ylim([0,0.15])\n",
    "    plt.plot(GBenergy_coordinate, GBenergy_bin_first/np.sum(GBenergy_bin_first),'-', linewidth=2,label=\"20k grains\")\n",
    "    plt.plot(GBenergy_coordinate, GBenergy_bin_second/np.sum(GBenergy_bin_second),'-', linewidth=2,label=f\"1k grains\")\n",
    "    plt.legend(fontsize=18)\n",
    "    plt.xlabel(\"GB energy\", fontsize=18)\n",
    "    plt.ylabel(\"distribution\", fontsize=18)\n",
    "    plt.savefig(figure_name_distri, dpi=400,bbox_inches='tight')\n",
    "    \n",
    "    # distribution for init and end\n",
    "    figure_name_distri = f\"figures/2D_culmmulative_distribution_function_{case_name}.png\"\n",
    "    plt.figure()\n",
    "    fig = plt.figure(figsize=(5, 5))\n",
    "    first_step = 0\n",
    "    second_step = step_1000grains\n",
    "    GBenergy_bin_first = np.zeros(bin_number)\n",
    "    for index in range(len(GB_list_GBenergy_list[first_step])):\n",
    "        if abs(GB_list_GBenergy_list[first_step][index])>1.0: continue\n",
    "        GBenergy_bin_first[int((GB_list_GBenergy_list[first_step][index]-x_lim[0])//bin_interval)] += 1\n",
    "    GBenergy_bin_first = GBenergy_bin_first/np.sum(GBenergy_bin_first)\n",
    "    for index in range(len(GB_list_GBenergy_list[second_step])):\n",
    "        if abs(GB_list_GBenergy_list[second_step][index])>1.0: continue\n",
    "        GBenergy_bin_second[int((GB_list_GBenergy_list[second_step][index]-x_lim[0])//bin_interval)] += 1\n",
    "    GBenergy_bin_second = GBenergy_bin_second/np.sum(GBenergy_bin_second)\n",
    "    culmmulative_GBenergy_bin_first = np.zeros(bin_number) \n",
    "    culmmulative_GBenergy_bin_second = np.zeros(bin_number) \n",
    "    for i in range(bin_number):\n",
    "        culmmulative_GBenergy_bin_first[i] = np.sum(GBenergy_bin_first[:i+1])\n",
    "        culmmulative_GBenergy_bin_second[i] = np.sum(GBenergy_bin_second[:i+1])\n",
    "    plt.xlim([0.3,1.0])\n",
    "    plt.ylim([0,1.0])\n",
    "    plt.plot(GBenergy_coordinate, culmmulative_GBenergy_bin_first,'-', linewidth=2,label=\"20k grains\")\n",
    "    plt.plot(GBenergy_coordinate, culmmulative_GBenergy_bin_second,'-', linewidth=2,label=f\"1k grains\")\n",
    "    plt.legend(fontsize=18)\n",
    "    plt.xlabel(\"GB energy\", fontsize=18)\n",
    "    plt.ylabel(\"Energy distribution\", fontsize=18)\n",
    "    plt.savefig(figure_name_distri, dpi=400,bbox_inches='tight')\n"
   ]
  },
  {
   "cell_type": "code",
   "execution_count": null,
   "id": "7c766fe4-7192-4120-aa25-b1b6d4118d92",
   "metadata": {
    "tags": []
   },
   "outputs": [],
   "source": [
    "len(GB_list_GBenergy_list[-1])"
   ]
  },
  {
   "cell_type": "code",
   "execution_count": null,
   "id": "4c7e2c5b-0bb3-4c9b-a7b4-29175fe27f1e",
   "metadata": {
    "tags": []
   },
   "outputs": [],
   "source": [
    "    bin_interval = 0.01\n",
    "    x_lim = [0.25,1.0]\n",
    "    bin_number = int((x_lim[1]-x_lim[0])/bin_interval)\n",
    "    GBenergy_coordinate = np.arange(x_lim[0],x_lim[1],bin_interval)+bin_interval/2\n",
    "    GBenergy_bin = np.zeros(bin_number)\n",
    "    GB_list_GBenergy_list_new = sum(GB_list_GBenergy_list, [])\n",
    "    for index in range(len(GB_list_GBenergy_list_new)):\n",
    "        if abs(GB_list_GBenergy_list_new[index])>=1.0: continue\n",
    "        GBenergy_bin[int((GB_list_GBenergy_list_new[index]-x_lim[0])//bin_interval)] += 1\n",
    "    # plot\n",
    "    figure_name_all_bin = f\"figures/2D_velocity_GBenergy_all_{case_name}_5d_afterBin.png\"\n",
    "    plt.figure()\n",
    "    fig = plt.figure(figsize=(7, 7))\n",
    "    plt.xlim([0.3,1.0])\n",
    "    plt.ylim([0,0.15])\n",
    "    plt.plot(GBenergy_coordinate, GBenergy_bin/np.sum(GBenergy_bin),'-', linewidth=2)\n",
    "    plt.xlabel(\"GB energy\", fontsize=18)\n",
    "    plt.ylabel(\"velocity (voxel/step)\", fontsize=18)\n",
    "    plt.savefig(figure_name_all_bin, dpi=400,bbox_inches='tight')\n",
    "    \n",
    "    # distribution for init and end\n",
    "    figure_name_distri = f\"figures/2D_culmmulative_distribution_function_all_{case_name}.png\"\n",
    "    plt.figure()\n",
    "    fig = plt.figure(figsize=(5, 5))\n",
    "    culmmulative_GBenergy_bin = np.zeros(bin_number) \n",
    "    for i in range(bin_number):\n",
    "        culmmulative_GBenergy_bin[i] = np.sum(GBenergy_bin[:i+1]/np.sum(GBenergy_bin))\n",
    "    plt.xlim([0.3,1.0])\n",
    "    plt.ylim([0,1.0])\n",
    "    plt.plot(GBenergy_coordinate, culmmulative_GBenergy_bin,'-', linewidth=2)\n",
    "    # plt.legend(fontsize=18)\n",
    "    plt.xlabel(\"GB energy\", fontsize=18)\n",
    "    plt.ylabel(\"culmmulative distribution function\", fontsize=18)\n",
    "    plt.savefig(figure_name_distri, dpi=400,bbox_inches='tight')"
   ]
  },
  {
   "cell_type": "markdown",
   "id": "e8c693cd-aa6e-4e36-a79d-a2b92209653b",
   "metadata": {},
   "source": [
    "## For one step"
   ]
  },
  {
   "cell_type": "code",
   "execution_count": 11,
   "id": "2501136d-68e1-40d1-b2b9-f783e9c8309e",
   "metadata": {},
   "outputs": [
    {
     "name": "stderr",
     "output_type": "stream",
     "text": [
      "  4%|▍         | 9/201 [00:01<00:26,  7.21it/s]\n"
     ]
    },
    {
     "data": {
      "text/plain": [
       "<Figure size 432x288 with 0 Axes>"
      ]
     },
     "metadata": {},
     "output_type": "display_data"
    },
    {
     "data": {
      "image/png": "[encoded data removed]",
      "text/plain": [
       "<Figure size 504x504 with 1 Axes>"
      ]
     },
     "metadata": {
      "needs_background": "light"
     },
     "output_type": "display_data"
    },
    {
     "data": {
      "text/plain": [
       "<Figure size 432x288 with 0 Axes>"
      ]
     },
     "metadata": {},
     "output_type": "display_data"
    },
    {
     "data": {
      "image/png": "[encoded data removed]",
      "text/plain": [
       "<Figure size 504x504 with 1 Axes>"
      ]
     },
     "metadata": {
      "needs_background": "light"
     },
     "output_type": "display_data"
    },
    {
     "data": {
      "text/plain": [
       "<Figure size 432x288 with 0 Axes>"
      ]
     },
     "metadata": {},
     "output_type": "display_data"
    },
    {
     "data": {
      "image/png": "[encoded data removed]",
      "text/plain": [
       "<Figure size 504x504 with 1 Axes>"
      ]
     },
     "metadata": {
      "needs_background": "light"
     },
     "output_type": "display_data"
    },
    {
     "data": {
      "text/plain": [
       "<Figure size 432x288 with 0 Axes>"
      ]
     },
     "metadata": {},
     "output_type": "display_data"
    },
    {
     "data": {
      "image/png": "[encoded data removed]",
      "text/plain": [
       "<Figure size 504x504 with 1 Axes>"
      ]
     },
     "metadata": {
      "needs_background": "light"
     },
     "output_type": "display_data"
    }
   ],
   "source": [
    "    # For one specific time steps with 1000 grains\n",
    "\n",
    "    # get expected time step\n",
    "    expected_grain_num = 5000\n",
    "    grain_num_array = np.zeros(npy_file_aniso.shape[0])\n",
    "    # Calculate the number of grains\n",
    "    for i in tqdm(range(npy_file_aniso.shape[0])):\n",
    "        grain_num = len(np.unique(npy_file_aniso[i,:]))\n",
    "        grain_num_array[i] = grain_num\n",
    "        if grain_num < expected_grain_num/2: break\n",
    "    expected_time_step = int(np.argmin(abs(grain_num_array - expected_grain_num)))\n",
    "\n",
    "    # get all data on specific grain step\n",
    "    expected_step_curvature_list = GB_list_curvature_list[expected_time_step]\n",
    "    expected_step_velocity_list = GB_list_velocity_list[expected_time_step]\n",
    "    expected_step_GBenergy_list = GB_list_GBenergy_list[expected_time_step]\n",
    "    expected_step_curvature_list_exrandom = GB_list_curvature_list_exrandom[expected_time_step]\n",
    "    expected_step_velocity_list_exrandom = GB_list_velocity_list_exrandom[expected_time_step]\n",
    "    expected_step_GBenergy_list_exrandom = GB_list_GBenergy_list_exrandom[expected_time_step]\n",
    "\n",
    "    # plot\n",
    "    figure_name_all = f\"figures/2D_velocity_GBenergy_{case_name}_5d_grain{expected_grain_num}.png\"\n",
    "    plt.figure()\n",
    "    fig = plt.figure(figsize=(7, 7))\n",
    "    plt.scatter(expected_step_GBenergy_list_exrandom, expected_step_velocity_list_exrandom,s=4,alpha=0.5,label='All GBs')\n",
    "    # GB_antic_list_GBenergy_list = np.array(GB_antic_list_GBenergy_list)\n",
    "    # GB_antic_list_velocity_list = np.array(GB_antic_list_velocity_list)\n",
    "    # GB_antic_list_anticNum_array = np.array(GB_antic_list_anticNum_list)\n",
    "    # plt.scatter(GB_antic_list_GBenergy_list[GB_antic_list_anticNum_array>=5], GB_antic_list_velocity_list[GB_antic_list_anticNum_array>=5],s=4,alpha=0.5,label='anti-c GBs(5 steps)')\n",
    "    plt.plot([0.3,1.0],[0,0],'-',color='grey',linewidth=2)\n",
    "    plt.xlabel(\"GB energy\", fontsize=18)\n",
    "    plt.ylabel(\"velocity (voxel/step)\", fontsize=18)\n",
    "    plt.xlim([0.3,1.0])\n",
    "    plt.ylim([-0.6,0.6])\n",
    "    # plt.legend(fontsize=18)\n",
    "    plt.savefig(figure_name_all, dpi=400,bbox_inches='tight')\n",
    "    \n",
    "    # plot velocity VS averaged GBenergy\n",
    "    bin_interval = 0.005\n",
    "    x_lim = [0.25,1.0]\n",
    "    bin_number = int((x_lim[1]-x_lim[0])/bin_interval)\n",
    "    GBenergy_coordinate = np.arange(x_lim[0],x_lim[1],bin_interval)+bin_interval/2\n",
    "    \n",
    "    \n",
    "    GBenergy_bin = np.zeros(bin_number)\n",
    "    velocity_bin = np.zeros(bin_number)\n",
    "    antic_num_bin = np.zeros(bin_number)\n",
    "    for index in range(len(expected_step_GBenergy_list_exrandom)):\n",
    "        if abs(expected_step_GBenergy_list_exrandom[index])>=1.01: continue\n",
    "        GBenergy_bin[int((expected_step_GBenergy_list_exrandom[index]-x_lim[0])//bin_interval)] += 1\n",
    "        velocity_bin[int((expected_step_GBenergy_list_exrandom[index]-x_lim[0])//bin_interval)] += expected_step_velocity_list_exrandom[index]\n",
    "        if expected_step_velocity_list_exrandom[index] < 0: antic_num_bin[int((expected_step_GBenergy_list_exrandom[index]-x_lim[0])//bin_interval)] += 1\n",
    "        if int((expected_step_GBenergy_list_exrandom[index]-x_lim[0])//bin_interval)<0: print(expected_step_GBenergy_list_exrandom[index])\n",
    "    for i in range(bin_number): \n",
    "        if GBenergy_bin[i]>0: velocity_bin[i] = velocity_bin[i]/GBenergy_bin[i]\n",
    "    # plot\n",
    "    figure_name_all_bin = f\"figures/2D_velocity_GBenergy_{case_name}_5d_afterBin_grain{expected_grain_num}.png\"\n",
    "    plt.figure()\n",
    "    fig = plt.figure(figsize=(7, 7))\n",
    "    # plt.scatter(GBenergy_coordinate, velocity_bin,s=4,alpha=0.5)\n",
    "    plt.xlim([0.3,1.0])\n",
    "    plt.ylim([-0.2,0.2])\n",
    "    plt.plot(GBenergy_coordinate[velocity_bin!=0], velocity_bin[velocity_bin!=0],'o', linewidth=2)\n",
    "    plt.xlabel(\"GB energy\", fontsize=18)\n",
    "    plt.ylabel(\"velocity (voxel/step)\", fontsize=18)\n",
    "    plt.savefig(figure_name_all_bin, dpi=400,bbox_inches='tight')\n",
    "\n",
    "    plt.figure()\n",
    "    fig = plt.figure(figsize=(7, 7))\n",
    "    plt.xlim([0.3,1.0])\n",
    "    plt.ylim([0,0.3])\n",
    "    plt.plot(GBenergy_coordinate, GBenergy_bin/np.sum(GBenergy_bin),'-', linewidth=2)\n",
    "    plt.xlabel(\"GB energy\", fontsize=18)\n",
    "    plt.ylabel(\"distribution\", fontsize=18)\n",
    "\n",
    "    antic_ratio_bin = np.zeros(bin_number)\n",
    "    for bin_i in range(len(GBenergy_bin)):\n",
    "        if GBenergy_bin[bin_i] > 0: antic_ratio_bin[bin_i] = antic_num_bin[bin_i]/GBenergy_bin[bin_i]\n",
    "    plt.figure()\n",
    "    fig = plt.figure(figsize=(7, 7))\n",
    "    plt.xlim([0.3,1.0])\n",
    "    plt.ylim([0,1.5])\n",
    "    plt.plot(GBenergy_coordinate[antic_ratio_bin>0], antic_ratio_bin[antic_ratio_bin>0],'o', linewidth=2)\n",
    "    plt.xlabel(\"GB energy\", fontsize=18)\n",
    "    plt.ylabel(\"anti-c fraction\", fontsize=18)\n",
    "\n",
    "    anti_c_data_file_name = f\"data/2D_antic_data_{case_name}_grain{expected_grain_num}\"\n",
    "    np.savez(anti_c_data_file_name,antic_ratio_bin=antic_ratio_bin,GBenergy_bin=GBenergy_bin)\n",
    "\n"
   ]
  },
  {
   "cell_type": "code",
   "execution_count": null,
   "id": "21b813f5-daa4-484e-a6c2-418239a0ccf4",
   "metadata": {},
   "outputs": [],
   "source": []
  },
  {
   "cell_type": "code",
   "execution_count": null,
   "id": "47e6a561-4483-49d8-8ddd-f78e643a2ae1",
   "metadata": {},
   "outputs": [],
   "source": []
  },
  {
   "cell_type": "markdown",
   "id": "bba82fb0-9f73-48dc-8a89-0bbd9316c7a0",
   "metadata": {},
   "source": []
  },
  {
   "cell_type": "code",
   "execution_count": null,
   "id": "b6f0d347-fb1b-4010-a68f-cc171486d9c8",
   "metadata": {},
   "outputs": [],
   "source": []
  },
  {
   "cell_type": "code",
   "execution_count": null,
   "id": "63a608d4-8807-4dfc-b364-4f0e17d354de",
   "metadata": {
    "tags": []
   },
   "outputs": [],
   "source": []
  },
  {
   "cell_type": "code",
   "execution_count": null,
   "id": "c39770d2-4fd3-4661-b53b-b52437e4dacd",
   "metadata": {
    "tags": []
   },
   "outputs": [],
   "source": []
  },
  {
   "cell_type": "code",
   "execution_count": null,
   "id": "0ef2391b-b155-42c1-b668-22cedf0227ce",
   "metadata": {
    "tags": []
   },
   "outputs": [],
   "source": [
    "# Get more information for a focus GB\n",
    "\n",
    "key_focus = 0\n",
    "for key in GB_id_focus:\n",
    "    if GB_id_focus[key] == 19: \n",
    "        print(f\"The longest anti-curvature behavior is {key} with steps {GB_id_focus[key]}\")\n",
    "        key_focus = key\n",
    "        # break\n",
    "\n",
    "v_focus = []\n",
    "c_focus = []\n",
    "for time_step in range(0,step_num):\n",
    "    if key_focus in GB_infomation_dict_list[time_step]:\n",
    "        # Calculate dV\n",
    "        pair_id_pair_focus = GB_infomation_dict_list[time_step][key_focus][6:8]\n",
    "        growth_direction1 = (npy_file_aniso[time_step]==pair_id_pair_focus[0])*(npy_file_aniso[time_step+1]==pair_id_pair_focus[1])\n",
    "        growth_direction2 = (npy_file_aniso[time_step]==pair_id_pair_focus[1])*(npy_file_aniso[time_step+1]==pair_id_pair_focus[0])\n",
    "        dV = np.sum(growth_direction1)-np.sum(growth_direction2) # velocity with direction\n",
    "        # Calculate velocity\n",
    "        velocity = dV/time_interval/(GB_infomation_dict_list[time_step][key_focus][5]/2)\n",
    "        current_curvature_value = GB_infomation_dict_list[time_step][key_focus][4]\n",
    "        \n",
    "        # make curvature always opposite\n",
    "        if current_curvature_value<0: \n",
    "            current_curvature_value = -current_curvature_value\n",
    "            velocity = -velocity\n",
    "        \n",
    "        # store v-c for a focus GB\n",
    "        v_focus.append(velocity)\n",
    "        c_focus.append(current_curvature_value)\n",
    "        \n",
    "        if current_curvature_value*velocity<-0.00 and GB_infomation_dict_list[time_step][key_focus][5]>=100: \n",
    "            print(f\"The anti-curvature step {time_step} has velocity - {round(velocity,3)} and curvature - {round(current_curvature_value,3)}.\")\n",
    "        \n",
    "        \n",
    "\n",
    "v_focus = np.array(v_focus)\n",
    "c_focus = np.array(c_focus)\n",
    "# plot v-c for a focus GB\n",
    "wanted_steps = v_focus<0\n",
    "alpha_list = np.linspace(0.2,1,np.sum(wanted_steps))\n",
    "\n",
    "figure_name_one_GB = f\"figures/2D_velocity_signedcurvature_{case_name}_GB{key_focus}_5d.png\"\n",
    "plt.figure()\n",
    "fig = plt.figure(figsize=(7, 7))\n",
    "import matplotlib as mpl\n",
    "cmap = mpl.colormaps['tab20']\n",
    "colors = cmap(np.linspace(0, 1, 20))\n",
    "plt.scatter(c_focus[wanted_steps], v_focus[wanted_steps],s=8,alpha=alpha_list,color=colors[0])\n",
    "plt.scatter(c_focus[~wanted_steps], v_focus[~wanted_steps],s=8,alpha=0.2,color=colors[6])\n",
    "plt.plot(c_focus,v_focus,alpha=0.1)\n",
    "plt.xlabel(\"curvature\", fontsize=18)\n",
    "plt.ylabel(\"velocity (voxel/step)\", fontsize=18)\n",
    "plt.xlim([0,0.17])\n",
    "plt.ylim([-0.2,0.2])\n",
    "plt.legend([\"anti-c\", \"c\", \"sequence\"],fontsize=18)\n",
    "plt.title(f\"GBid {key_focus} step all\")\n",
    "# plt.savefig(figure_name_one_GB, dpi=400,bbox_inches='tight')\n",
    "\n",
    "\n",
    "\n",
    "\n"
   ]
  },
  {
   "cell_type": "code",
   "execution_count": null,
   "id": "8685c367-edac-427c-a027-acbf536ae4a0",
   "metadata": {
    "tags": []
   },
   "outputs": [],
   "source": [
    "import os\n",
    "os.system(f'ffmpeg -framerate 10 -i /home/lin.yang/projects/VECTOR/examples/GB_velocity/anti_curvature_figures/Detail_2D_microstructure_key145919744_step.%04d._M_20k.png \\\n",
    "                    -c:v libx264 -vf \"pad=ceil(iw/2)*2:ceil(ih/2)*2\" -pix_fmt yuv420p \\\n",
    "                    anti_curvature_figures/Detail_2D_microstructure_key145919744_M_20k.mp4')"
   ]
  },
  {
   "cell_type": "code",
   "execution_count": null,
   "id": "f8c6a201-3ce1-40ff-a227-fc129528b8a3",
   "metadata": {
    "tags": []
   },
   "outputs": [],
   "source": [
    "# 197673737\n",
    "# 47836998\n",
    "# fully 88634987\n",
    "# fully 161070774\n",
    "# fully 30685022\n",
    "# Find the exaxt grain id and time steps\n",
    "GB_id = 145919744\n",
    "for time_step in range(40,step_num):\n",
    "    if GB_id not in GB_infomation_dict_list[time_step]: continue\n",
    "    pair_id_pair_focus = GB_infomation_dict_list[time_step][GB_id][6:8]\n",
    "    break\n",
    "print(f\"The id pairs are {list(map(int,pair_id_pair_focus))}\")\n",
    "\n",
    "time_step_init, time_step_end = 24, 100\n",
    "check_edge = 0\n",
    "ss = 0\n",
    "for time_step in tqdm(range(time_step_init,time_step_end)):\n",
    "    current_microstructure_focus = npy_file_aniso[time_step,:,:,0]\n",
    "    grain_location_focus = (current_microstructure_focus==pair_id_pair_focus[0]) + (current_microstructure_focus==pair_id_pair_focus[1])\n",
    "    if check_edge ==0:\n",
    "        x_info = np.arange(0,2400,1)[np.sum(grain_location_focus,0)*np.arange(0,2400,1)>0]\n",
    "        x_len = np.sum(x_info>0)\n",
    "        x_lim_max = int(np.max(x_info)+(x_len/2))\n",
    "        x_lim_min = int(np.min(x_info)-(x_len/2))\n",
    "        y_info = np.arange(0,2400,1)[np.sum(grain_location_focus,1)*np.arange(0,2400,1)>0]\n",
    "        y_len = np.sum(y_info>0)\n",
    "        y_lim_max = int(np.max(y_info)+y_len/2)\n",
    "        y_lim_min = int(np.min(y_info)-y_len/2)\n",
    "        check_edge+=1\n",
    "    if np.sum(grain_location_focus)==0: continue\n",
    "    current_microstructure_focus_updated = current_microstructure_focus*grain_location_focus\n",
    "    \n",
    "    if GB_id in GB_infomation_dict_list[time_step]:\n",
    "        # Calculate velocity\n",
    "        growth_direction1 = (npy_file_aniso[time_step]==pair_id_pair_focus[0])*(npy_file_aniso[time_step+1]==pair_id_pair_focus[1])\n",
    "        growth_direction2 = (npy_file_aniso[time_step]==pair_id_pair_focus[1])*(npy_file_aniso[time_step+1]==pair_id_pair_focus[0])\n",
    "        dV = np.sum(growth_direction1)-np.sum(growth_direction2) # velocity with direction\n",
    "        # Calculate velocity\n",
    "        velocity = dV/time_interval/(GB_infomation_dict_list[time_step][GB_id][5]/2)\n",
    "        current_curvature_value = GB_infomation_dict_list[time_step][GB_id][4]\n",
    "    else:\n",
    "        velocity = 0\n",
    "        current_curvature_value = 0\n",
    "    \n",
    "    if ss<10:\n",
    "        ss_char = f'0{ss}'\n",
    "    else:\n",
    "        ss_char = f'{ss}'\n",
    "    ss+=1\n",
    "    figure_name_anti_curvature_detail = figure_name_anti_curvature = f\"anti_curvature_figures/Detail_2D_microstructure_key{GB_id}_step.00{ss_char}._{case_name}.png\"\n",
    "    plt.figure(figsize=(7,7))\n",
    "    plt.imshow(current_microstructure_focus_updated,vmin=0,vmax=20000)\n",
    "    plt.xlim([x_lim_min, x_lim_max])\n",
    "    plt.ylim([y_lim_max, y_lim_min])\n",
    "    if round(velocity,2)*round(current_curvature_value,3)<0:\n",
    "        plt.title(rf\"v: {round(velocity,2)} $\\kappa$: {round(current_curvature_value,3)} at step {time_step}\", color='orange', fontsize=16)\n",
    "    else:\n",
    "        plt.title(rf\"v: {round(velocity,2)} $\\kappa$: {round(current_curvature_value,3)} at step {time_step}\", fontsize=16)\n",
    "    # plt.axis(\"off\")\n",
    "    # plt.savefig(figure_name_anti_curvature_detail, dpi=400,bbox_inches='tight')"
   ]
  },
  {
   "cell_type": "code",
   "execution_count": null,
   "id": "b508666b-2912-4561-b1de-3aaf4631a472",
   "metadata": {
    "tags": []
   },
   "outputs": [],
   "source": [
    "\n",
    "def energy_function_m_axis(m_polar_angle, m_azimuth_angle):\n",
    "    return abs(np.cos(m_azimuth_angle)) * m_polar_angle / np.pi\n",
    "\n",
    "def energy_function_m_axis_new(m_polar_angle, m_azimuth_angle):\n",
    "    # ss = abs(np.cos(m_azimuth_angle/2)) + abs(np.cos(m_polar_angle))\n",
    "    \n",
    "    ss = (abs(np.cos(m_azimuth_angle/2))**0.4 + abs(np.cos(m_polar_angle))**0.4)\n",
    "    if ss > 1: return 1\n",
    "    else: return ss\n",
    "    \n",
    "    # if abs(m_azimuth_angle-np.pi) < np.pi/18 and abs(m_polar_angle - np.pi/2) < np.pi/36: return 0.0\n",
    "    # else: return 1.0\n",
    "    \n",
    "    # return (abs(np.cos(m_azimuth_angle/2))**1.0 + abs(np.cos(m_polar_angle))**1.0)\n",
    "\n",
    "def energy_function_m(m_polar_angle, m_azimuth_angle, m_angle):\n",
    "    max_m_angle = 10/180*np.pi\n",
    "    if m_angle == 0: return 0\n",
    "    if m_angle>max_m_angle: m_angle=max_m_angle-0.00001\n",
    "    m_angle_impact = m_angle/max_m_angle*(1-np.log(m_angle/max_m_angle))\n",
    "    return energy_function_m_axis_new(m_polar_angle, m_azimuth_angle)*m_angle_impact\n",
    "\n",
    "def energy_function_i_axis(i_polar_angle, i_azimuth_angle):\n",
    "    return 0.3 + abs(np.cos(i_azimuth_angle)) * (0.7 + i_polar_angle / (np.pi/2) * (0.3 - 0.7))\n",
    "\n",
    "def energy_function_final(m_polar_angle, m_azimuth_angle, m_angle, i_polar_angle, i_azimuth_angle):\n",
    "    \n",
    "    if i_polar_angle>np.pi/2: i_polar_angle = np.pi-i_polar_angle\n",
    "    m_energy_impact = energy_function_m(m_polar_angle, m_azimuth_angle, m_angle)\n",
    "    return 0.3 + abs(np.cos(i_azimuth_angle)) * (0.7*m_energy_impact + i_polar_angle / (np.pi/2) * (0.3*m_energy_impact - 0.7*m_energy_impact))\n",
    "\n",
    "\n",
    "def rotation_matrix_from_vectors(vec1, vec2):\n",
    "    \"\"\" Find the rotation matrix that aligns vec1 to vec2\n",
    "    :param vec1: A 3d \"source\" vector\n",
    "    :param vec2: A 3d \"destination\" vector\n",
    "    :return mat: A transform matrix (3x3) which when applied to vec1, aligns it with vec2.\n",
    "    \"\"\"\n",
    "    a, b = (vec1 / np.linalg.norm(vec1)).reshape(3), (vec2 / np.linalg.norm(vec2)).reshape(3)\n",
    "    v = np.cross(a, b)\n",
    "    c = np.dot(a, b)\n",
    "    s = np.linalg.norm(v)\n",
    "    kmat = np.array([[0, -v[2], v[1]], [v[2], 0, -v[0]], [-v[1], v[0], 0]])\n",
    "    rotation_matrix = np.eye(3) + kmat + kmat.dot(kmat) * ((1 - c) / (s ** 2))\n",
    "    return rotation_matrix"
   ]
  },
  {
   "cell_type": "code",
   "execution_count": null,
   "id": "11b10ead-c344-4335-b3f6-a9fd2aaea54d",
   "metadata": {},
   "outputs": [],
   "source": [
    "# # Plot more information for a focus GB\n",
    "\n",
    "# # Misorientation\n",
    "# init_file_folder = \"/blue/michael.tonks/lin.yang/SPPARKS-VirtualIncEnergy/2d_poly_multiCoreCompare/IC/\"\n",
    "# init_file_name = f\"Case4.init\"\n",
    "# # misorientation calculation preparation\n",
    "# grain_nums = 20000\n",
    "# Osym = 24\n",
    "# symm2quat_matrix, quartAngle = post_processing.pre_operation_misorientation(grain_nums, init_file_folder + init_file_name, Osym)\n",
    "# print(\"> Pre-work done\")\n",
    "\n",
    "# misorientation = post_processing.multiP_calM(list(map(int,pair_id_pair_focus)), quartAngle, symm2quat_matrix, Osym)\n",
    "# misorientation_angle = misorientation[0] # miso angle in randians\n",
    "# misorientation_axis = misorientation[1:]\n",
    "\n",
    "# # misorientation energy\n",
    "# m_polar_angle = math.acos(round(misorientation_axis[2],3))\n",
    "# m_azimuth_angle = math.atan2(misorientation_axis[1], misorientation_axis[0]) + np.pi\n",
    "# print(f\"The m-angle: {misorientation_angle/np.pi*180}, m_polar_angle: {m_polar_angle/np.pi*180}, m_azimuth_angle: {m_azimuth_angle/np.pi*180}\")\n",
    "# print(f\"The misorientation energy: {energy_function_m(m_polar_angle, m_azimuth_angle, misorientation_angle)}\")\n",
    "\n"
   ]
  },
  {
   "cell_type": "code",
   "execution_count": null,
   "id": "de699200-8f67-45dc-ad6e-02b0aa8101d5",
   "metadata": {},
   "outputs": [],
   "source": [
    "# # inclination\n",
    "# GB_infomation_inc_dict_list = []\n",
    "# for time_step in tqdm(range(step_num)):\n",
    "#     data_file_name = f\"GB_velocity_data/2D_inclination_velocity_data_{case_name}_step{time_step}.npz\"\n",
    "#     if os.path.exists(data_file_folder + data_file_name):\n",
    "#         npz_file = np.load(data_file_folder + data_file_name,allow_pickle=True)\n",
    "#         GB_infomation_inc_dict = npz_file[\"GB_infomation_dict\"]\n",
    "#         GB_infomation_inc_dict_list.append(GB_infomation_inc_dict.item())\n",
    "#     else:\n",
    "#         print(f\"Please run inclination-velocity analysis for {case_name}\")\n",
    "#         break\n",
    "\n",
    "# time_interval = 30\n",
    "# GB_inclination_energy_list = []\n",
    "# GB_final_energy_list = []\n",
    "# GB_velocity_list = []\n",
    "# for time_step in range(step_num):\n",
    "#     if time_step+1 >= step_num: continue\n",
    "#     if key_focus not in GB_infomation_inc_dict_list[time_step]: continue\n",
    "#     if GB_infomation_inc_dict_list[time_step+1].get(key_focus) is None: continue\n",
    "#     # Calculate volumn change\n",
    "#     growth_direction1 = (npy_file_aniso[time_step]==pair_id_pair_focus[0])*(npy_file_aniso[time_step+1]==pair_id_pair_focus[1])\n",
    "#     growth_direction2 = (npy_file_aniso[time_step]==pair_id_pair_focus[1])*(npy_file_aniso[time_step+1]==pair_id_pair_focus[0])\n",
    "#     dV = np.sum(growth_direction1)-np.sum(growth_direction2) # velocity with direction\n",
    "#     # Calculate velocity\n",
    "#     velocity = dV/time_interval/(GB_infomation_inc_dict_list[time_step][key_focus][6]/2)\n",
    "#     # change velocity sign with curvature\n",
    "#     current_curvature_value = GB_infomation_dict_list[time_step][key_focus][4]\n",
    "#     # make curvature always opposite\n",
    "#     if current_curvature_value<0: \n",
    "#         current_curvature_value = -current_curvature_value\n",
    "#         velocity = -velocity\n",
    "    \n",
    "#     GB_velocity_list.append(velocity)\n",
    "\n",
    "#     # Get inclination\n",
    "#     DX, DY = GB_infomation_inc_dict_list[time_step][key_focus][4:6]\n",
    "#     vec_len = np.sqrt(DX**2+DY**2)\n",
    "#     if vec_len==0: dx, dy = 0, 0\n",
    "#     else: dx, dy = -DX/vec_len, DY/vec_len # the process just repeated get_grad(P,i,j) in myInput.py \n",
    "#     dz = 0\n",
    "#     dy = -dy # Update the issue in VECTOR\n",
    "#     inclination = np.array([dx,dy,dz])\n",
    "#     # Get misorientation\n",
    "#     # rotate misorientation axis to z axis, and incliantion to final vector\n",
    "#     z_axis = np.array([0,0,1])\n",
    "#     rotation_matrix_m_axis_to_z_axis = rotation_matrix_from_vectors(misorientation_axis, z_axis)\n",
    "#     incliantion_refer_m_axis = rotation_matrix_m_axis_to_z_axis.dot(inclination)\n",
    "#     # Get polar and azimuth dsitribution\n",
    "#     i_polar_angle = math.acos(round(incliantion_refer_m_axis[2],3))\n",
    "#     i_azimuth_angle = math.atan2(incliantion_refer_m_axis[1], incliantion_refer_m_axis[0]) + np.pi\n",
    "    \n",
    "#     # inclination energy\n",
    "#     inclination_energy = energy_function_i_axis(i_polar_angle, i_azimuth_angle)\n",
    "#     final_energy = energy_function_final(m_polar_angle, m_azimuth_angle, misorientation_angle, i_polar_angle, i_azimuth_angle)\n",
    "#     GB_inclination_energy_list.append(inclination_energy)\n",
    "#     GB_final_energy_list.append(final_energy)\n",
    "#     # print(inclination_energy)\n",
    "#     # print(final_energy)\n",
    "#     # print()\n",
    "\n",
    "\n"
   ]
  },
  {
   "cell_type": "code",
   "execution_count": null,
   "id": "4212a4ef-e7ad-4490-b5dc-48195c9defc7",
   "metadata": {},
   "outputs": [],
   "source": [
    "\n",
    "# GB_inclination_energy_list = np.array(GB_inclination_energy_list)\n",
    "# GB_velocity_list = np.array(GB_velocity_list)\n",
    "# GB_final_energy_list = np.array(GB_final_energy_list)\n",
    "\n",
    "# wanted_steps = GB_velocity_list<0\n",
    "# alpha_list = np.linspace(0.2,1,np.sum(wanted_steps))\n",
    "# figure_name_one_GB = f\"figures/2D_velocity_inclinationE_{case_name}_GB{key_focus}_5d.png\"\n",
    "# plt.figure()\n",
    "# fig = plt.figure(figsize=(7, 7))\n",
    "# import matplotlib as mpl\n",
    "# cmap = mpl.colormaps['tab20']\n",
    "# colors = cmap(np.linspace(0, 1, 20))\n",
    "# plt.scatter(GB_inclination_energy_list[wanted_steps], GB_velocity_list[wanted_steps],s=8,alpha=alpha_list,c=colors[0])\n",
    "# plt.scatter(GB_inclination_energy_list[~wanted_steps], GB_velocity_list[~wanted_steps],s=8,alpha=0.2,c=colors[6])\n",
    "# plt.plot(GB_inclination_energy_list,GB_velocity_list,alpha=0.1)\n",
    "# plt.xlabel(\"inclination energy\", fontsize=18)\n",
    "# plt.ylabel(\"velocity (voxel/step)\", fontsize=18)\n",
    "# # plt.xlim([0.334,0.35])\n",
    "# plt.ylim([-0.2,0.2])\n",
    "# plt.legend([\"anti-c\", \"c\", \"sequence\"],fontsize=18)\n",
    "# plt.title(f\"GBid {key_focus} step all\")\n",
    "# # plt.savefig(figure_name_one_GB, dpi=400,bbox_inches='tight')"
   ]
  },
  {
   "cell_type": "markdown",
   "id": "df3c7fa0-8e13-4939-a880-0e5bf2f8a11d",
   "metadata": {},
   "source": [
    "## TJ study\n"
   ]
  },
  {
   "cell_type": "code",
   "execution_count": 35,
   "id": "e018ea3f-1eaa-4306-b2e8-ba4cd4a338f3",
   "metadata": {
    "tags": []
   },
   "outputs": [
    {
     "name": "stderr",
     "output_type": "stream",
     "text": [
      "100%|██████████| 121/121 [1:54:55<00:00, 56.99s/it]\n"
     ]
    }
   ],
   "source": [
    "    # GB_id_unfocus_lowE_detail and GB_id_focus_detail\n",
    "    \n",
    "    # reorginaize the data structure for GB_id_unfocus_lowE_detail and GB_id_focus_detail\n",
    "    GB_id_unfocus_lowE_detail_time = dict()\n",
    "    GB_id_focus_detail_time = dict()\n",
    "    for key in GB_id_unfocus_lowE_detail:\n",
    "        for key_time in GB_id_unfocus_lowE_detail[key]:\n",
    "            if key_time in GB_id_unfocus_lowE_detail_time:\n",
    "                GB_id_unfocus_lowE_detail_time[key_time].append(key)\n",
    "            else: \n",
    "                GB_id_unfocus_lowE_detail_time[key_time] = [key]\n",
    "                \n",
    "    for key in GB_id_focus_detail:\n",
    "        for key_time in GB_id_focus_detail[key]:\n",
    "            if key_time in GB_id_focus_detail_time:\n",
    "                GB_id_focus_detail_time[key_time].append(key)\n",
    "            else:\n",
    "                GB_id_focus_detail_time[key_time] = [key]\n",
    "            \n",
    "            \n",
    "    # find the TJ around GB with anti-c behavior or low energy c behavior \n",
    "    site_energy_per_unit_focus_list = []\n",
    "    site_energy_per_unit_unfocus_list = []\n",
    "    for time_step in tqdm(range(step_num)):\n",
    "        \n",
    "        if time_step not in GB_id_focus_detail_time: current_focus_GB_id = []\n",
    "        else: current_focus_GB_id = GB_id_focus_detail_time[time_step]\n",
    "        if time_step not in GB_id_unfocus_lowE_detail_time: current_unfocus_GB_id = []\n",
    "        else: current_unfocus_GB_id = GB_id_unfocus_lowE_detail_time[time_step]\n",
    "        if len(current_focus_GB_id) == 0 and len(current_unfocus_GB_id) == 0: continue\n",
    "        # current_GB_id = []\n",
    "        # current_GB_id.extend(current_focus_GB_id)\n",
    "        # current_GB_id.extend(current_unfocus_GB_id)\n",
    "        current_microstructure = npy_file_aniso[time_step]\n",
    "        current_energy = npy_file_aniso_energy[time_step]\n",
    "        \n",
    "        \n",
    "\n",
    "        \n",
    "        size_x, size_y = npy_file_aniso[time_step].shape[0:2]\n",
    "        k=0\n",
    "        for i in range(size_x):\n",
    "            for j in range(size_y):\n",
    "\n",
    "                ip,im,jp,jm = myInput.periodic_bc(size_x,size_y,i,j)\n",
    "                # find window and jump over GB and grain bulk\n",
    "                neighboring_sites_full_list = np.array([current_microstructure[i,j,k], current_microstructure[ip,jp,k], current_microstructure[ip,j,k], current_microstructure[ip,jm,k], current_microstructure[i,jp,k], current_microstructure[i,jm,k], current_microstructure[im,jp,k], current_microstructure[im,j,k], current_microstructure[im,jm,k]]).astype(int)\n",
    "                grain_id_num_in_window = np.unique(neighboring_sites_full_list)\n",
    "                if len(grain_id_num_in_window) < 3: continue\n",
    "                \n",
    "                # \n",
    "                do_you_find = 0\n",
    "                for current_key in current_focus_GB_id:\n",
    "                    pair_id_pair_focus = GB_infomation_dict_list[time_step][current_key][6:8]\n",
    "                    if pair_id_pair_focus[0] in grain_id_num_in_window and pair_id_pair_focus[0] in grain_id_num_in_window:\n",
    "                        # do \n",
    "                        site_energy = current_energy[i,j,k]\n",
    "                        num_nei = 0\n",
    "                        for nei in neighboring_sites_full_list[1:]:\n",
    "                            if neighboring_sites_full_list[0] != nei: num_nei += 1\n",
    "                        site_energy_per_unit_focus_list.append(site_energy/num_nei)\n",
    "                        do_you_find += 1\n",
    "                        break\n",
    "                if do_you_find > 0: continue\n",
    "                for current_key in current_unfocus_GB_id:\n",
    "                    pair_id_pair_focus = GB_infomation_dict_list[time_step][current_key][6:8]\n",
    "                    if pair_id_pair_focus[0] in grain_id_num_in_window and pair_id_pair_focus[0] in grain_id_num_in_window:\n",
    "                        # do \n",
    "                        site_energy = current_energy[i,j,k]\n",
    "                        num_nei = 0\n",
    "                        for nei in neighboring_sites_full_list[1:]:\n",
    "                            if neighboring_sites_full_list[0] != nei: num_nei += 1\n",
    "                        site_energy_per_unit_unfocus_list.append(site_energy/num_nei)\n",
    "                        break\n",
    "                        \n",
    "                \n",
    "    xLim = [0,2.0]\n",
    "    binValue = 0.01001\n",
    "    binNum = round((abs(xLim[0])+abs(xLim[1]))/binValue)\n",
    "    xCor = np.linspace((xLim[0]+binValue/2),(xLim[1]-binValue/2),binNum)\n",
    "    freqArray_focus = np.zeros(binNum)\n",
    "    freqArray_unfocus = np.zeros(binNum)\n",
    "\n",
    "    for i in range(len(site_energy_per_unit_focus_list)): freqArray_focus[int((site_energy_per_unit_focus_list[i] - xCor[0]) / binValue)] += 1\n",
    "    for i in range(len(site_energy_per_unit_unfocus_list)): freqArray_unfocus[int((site_energy_per_unit_unfocus_list[i] - xCor[0]) / binValue)] += 1\n",
    "        \n",
    "            \n",
    "            \n",
    "            "
   ]
  },
  {
   "cell_type": "code",
   "execution_count": 36,
   "id": "507f29ba-42b1-4b69-933a-ca317668c164",
   "metadata": {
    "tags": []
   },
   "outputs": [
    {
     "data": {
      "text/plain": [
       "<matplotlib.legend.Legend at 0x14dbe7f01760>"
      ]
     },
     "execution_count": 36,
     "metadata": {},
     "output_type": "execute_result"
    },
    {
     "data": {
      "image/png": "[encoded data removed]",
      "text/plain": [
       "<Figure size 504x504 with 1 Axes>"
      ]
     },
     "metadata": {
      "needs_background": "light"
     },
     "output_type": "display_data"
    }
   ],
   "source": [
    "    freqArray_focus = freqArray_focus/np.sum(freqArray_focus)\n",
    "    freqArray_unfocus = freqArray_unfocus/np.sum(freqArray_unfocus)\n",
    "\n",
    "    plt.figure(figsize=(7,7))\n",
    "    plt.plot(xCor, freqArray_focus, label='anti-c')\n",
    "    plt.plot(xCor, freqArray_unfocus, label='c')\n",
    "    plt.xlim([0.25,1.05])\n",
    "    # plt.ylim([-0.15,0.15])\n",
    "    plt.xlabel(\"GB energy\", fontsize=18)\n",
    "    plt.ylabel(\"Frequency\", fontsize=18)\n",
    "    plt.legend(fontsize=18)\n",
    "    # plt.savefig(figure_name_all_bin, dpi=400,bbox_inches='tight')\n"
   ]
  },
  {
   "cell_type": "code",
   "execution_count": null,
   "id": "ce9edf05-842a-467b-9e55-8ce1d1fde9ed",
   "metadata": {
    "tags": []
   },
   "outputs": [],
   "source": []
  },
  {
   "cell_type": "code",
   "execution_count": null,
   "id": "202e892d-2149-4fd4-ac47-878df34fda4b",
   "metadata": {},
   "outputs": [],
   "source": []
  }
 ],
 "metadata": {
  "kernelspec": {
   "display_name": "UFRC Python-3.8",
   "language": "python",
   "name": "python3-3.8-ufrc"
  },
  "language_info": {
   "codemirror_mode": {
    "name": "ipython",
    "version": 3
   },
   "file_extension": ".py",
   "mimetype": "text/x-python",
   "name": "python",
   "nbconvert_exporter": "python",
   "pygments_lexer": "ipython3",
   "version": "3.8.15"
  }
 },
 "nbformat": 4,
 "nbformat_minor": 5
}
