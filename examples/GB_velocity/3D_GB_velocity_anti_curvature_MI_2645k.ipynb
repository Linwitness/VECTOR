{
 "cells": [
  {
   "cell_type": "code",
   "execution_count": 1,
   "id": "4b195c7c-3d58-4d9f-b559-8e34a5e9789a",
   "metadata": {
    "tags": []
   },
   "outputs": [
    {
     "data": {
      "text/plain": [
       "<module 'PACKAGE_MP_Linear' from '/home/lin.yang/projects/VECTOR/examples/GB_velocity/../../PACKAGE_MP_Linear.py'>"
      ]
     },
     "execution_count": 1,
     "metadata": {},
     "output_type": "execute_result"
    }
   ],
   "source": [
    "import os\n",
    "current_path = os.getcwd()\n",
    "import numpy as np\n",
    "from numpy import seterr\n",
    "seterr(all='raise')\n",
    "import matplotlib.pyplot as plt\n",
    "import math\n",
    "import random\n",
    "from tqdm import tqdm\n",
    "import sys\n",
    "sys.path.append(current_path)\n",
    "sys.path.append(current_path+'/../../')\n",
    "import myInput\n",
    "import PACKAGE_MP_Linear as linear2d\n",
    "import post_processing\n",
    "import PACKAGE_MP_3DLinear as Linear_3D\n",
    "import PACKAGE_MP_3DVertex as Vertex_3D\n",
    "sys.path.append(current_path+'/../calculate_tangent/')\n",
    "\n",
    "import importlib\n",
    "importlib.reload(post_processing)\n",
    "importlib.reload(Linear_3D)\n",
    "importlib.reload(linear2d)\n",
    "\n"
   ]
  },
  {
   "cell_type": "code",
   "execution_count": 2,
   "id": "fcb7ac33-912b-4634-8822-c41d1c32bd8b",
   "metadata": {
    "tags": []
   },
   "outputs": [
    {
     "name": "stdout",
     "output_type": "stream",
     "text": [
      "The MI_264_5k_fully data size is: (51, 264, 264, 264)\n",
      "READING DATA DONE\n",
      "The MI_264_5k_fully energy data size is: (51, 264, 264, 264)\n",
      "READING ENERGY DATA DONE\n"
     ]
    }
   ],
   "source": [
    "if __name__ == '__main__':\n",
    "    # File name\n",
    "    data_file_folder = \"/blue/michael.tonks/lin.yang/VECTOR_data/\"\n",
    "    npy_file_folder = \"/blue/michael.tonks/lin.yang/SPPARKS-VirtualIncEnergy/3d_poly_fully/results/\"\n",
    "    case_name = \"MI_264_5k_fully\"\n",
    "    npy_file_name_aniso = f\"p_ori_fully5d_fz_aveE_f1.0_t1.0_264_5k_multiCore64_J1_refer_1_0_0_seed56689_kt1.95.npy\"\n",
    "    npy_file_name_aniso_dat = f\"p_ori_fully5d_fz_aveE_f1.0_t1.0_264_5k_multiCore64_J1_refer_1_0_0_seed56689_kt1.95.dat\"\n",
    "    npy_file_name_aniso_energy = f\"p_ori_fully5d_fz_aveE_f1.0_t1.0_264_5k_multiCore64_J1_refer_1_0_0_seed56689_kt1.95_energy.npy\"\n",
    "    \n",
    "    # Initial data\n",
    "    # npy_file_aniso = np.load(npy_file_folder + npy_file_name_aniso)\n",
    "    # npy_file_aniso = npy_file_aniso.astype(int)\n",
    "    # npy_file_aniso.tofile(npy_file_folder + npy_file_name_aniso_dat)\n",
    "    npy_file_aniso = np.memmap(npy_file_folder + npy_file_name_aniso_dat, dtype='int64', mode='r',shape=(51,264,264,264))\n",
    "    print(f\"The {case_name} data size is: {npy_file_aniso.shape}\")\n",
    "    print(\"READING DATA DONE\")\n",
    "    npy_file_aniso_energy = np.load(npy_file_folder + npy_file_name_aniso_energy) # energy\n",
    "    print(f\"The {case_name} energy data size is: {npy_file_aniso_energy.shape}\")\n",
    "    print(\"READING ENERGY DATA DONE\")\n",
    "    step_num, size_x, size_y, size_z = npy_file_aniso.shape"
   ]
  },
  {
   "cell_type": "code",
   "execution_count": null,
   "id": "60e849fc-d5bb-4b1d-afde-e9cc51c28d3f",
   "metadata": {
    "tags": []
   },
   "outputs": [],
   "source": []
  },
  {
   "cell_type": "code",
   "execution_count": 3,
   "id": "0be80f39-f248-4153-b7e0-535c9544ad3b",
   "metadata": {
    "tags": []
   },
   "outputs": [
    {
     "name": "stderr",
     "output_type": "stream",
     "text": [
      "100%|██████████| 51/51 [00:00<00:00, 69.82it/s]\n"
     ]
    }
   ],
   "source": [
    "    # YOU should remove the very small GB due to the less impact on curvature study\n",
    "    # YOU should use different accuracy algorithm on voxels around the TJs.\n",
    "    # A potential error: some small spherical GB are generated around large GB with same GB id\n",
    "    \n",
    "    \n",
    "    step_num=51\n",
    "    grain_nums = 5000\n",
    "    GB_infomation_dict_list = []\n",
    "    curvature_matrix_list = []\n",
    "    for time_step in tqdm(range(step_num)):\n",
    "        data_file_name = f\"GB_velocity_data/signedcurvature_velocity_data_{case_name}_step{time_step}.npz\"\n",
    "        data_curvature_file_name = f\"GB_velocity_data/matrix_signedcurvature_data_{case_name}_step{time_step}.npz\"\n",
    "        if os.path.exists(data_file_folder + data_file_name):\n",
    "            npz_file = np.load(data_file_folder + data_file_name,allow_pickle=True)\n",
    "            GB_infomation_dict = npz_file[\"GB_infomation_dict\"]\n",
    "            GB_infomation_dict_list.append(GB_infomation_dict.item())\n",
    "        else:\n",
    "            current_microstructure = npy_file_aniso[time_step]\n",
    "            # get curvature\n",
    "            if os.path.exists(data_file_folder + data_curvature_file_name):\n",
    "                npz_file_curvature = np.load(data_file_folder + data_curvature_file_name,allow_pickle=True)\n",
    "                curvature_matrix = npz_file_curvature[\"curvature_matrix\"]\n",
    "                curvature_matrix_list.append(curvature_matrix.item())\n",
    "            else:\n",
    "                # cores = 128\n",
    "                # loop_times = 5\n",
    "                # R = np.zeros((size_x,size_y,size_z,4))\n",
    "                # smoothing_class = Linear_3D.linear3d_class(size_x,size_y,size_z,grain_nums,cores,loop_times,current_microstructure,R,'p',verification_system = False,curvature_sign = True)\n",
    "                # smoothing_class.linear3d_main(\"curvature\")\n",
    "                # C_ln = smoothing_class.get_C()\n",
    "                # curvature_matrix = C_ln[1,:]\n",
    "                # curvature_matrix_list.append(curvature_matrix)\n",
    "                curvature_matrix = post_processing.IO_curvature(current_microstructure)\n",
    "                # save curvature information\n",
    "                np.savez(data_file_folder + data_curvature_file_name, curvature_matrix=curvature_matrix)\n",
    "            print(\"Finish curvature calculation\")\n",
    "            \n",
    "            # Get TJ and QJ information first\n",
    "            TJ_infomation_dict = dict()\n",
    "            for index, result in np.ndenumerate(current_microstructure):\n",
    "                i,j,k = index\n",
    "                ip,im,jp,jm,kp,km = myInput.periodic_bc3d(size_x,size_y,size_z,i,j,k)\n",
    "                if ( ((current_microstructure[ip,j,k]-current_microstructure[i,j,k])!=0) or ((current_microstructure[im,j,k]-current_microstructure[i,j,k])!=0) or\\\n",
    "                     ((current_microstructure[i,jp,k]-current_microstructure[i,j,k])!=0) or ((current_microstructure[i,jm,k]-current_microstructure[i,j,k])!=0) or\\\n",
    "                     ((current_microstructure[i,j,kp]-current_microstructure[i,j,k])!=0) or ((current_microstructure[i,j,km]-current_microstructure[i,j,k])!=0) ):\n",
    "                    central_site = int(current_microstructure[i,j,k])\n",
    "                    neighboring_sites_list = np.array([current_microstructure[ip,j,k], current_microstructure[i,jp,k], current_microstructure[i,j,kp], current_microstructure[im,j,k], current_microstructure[i,jm,k], current_microstructure[i,j,km]]).astype(int)\n",
    "                    neighboring_sites_set = set(neighboring_sites_list) # Get all unique neighboring sites\n",
    "                    if central_site in neighboring_sites_set: neighboring_sites_set.remove(central_site) # remove central site\n",
    "                    neighboring_sites_list_unque = list(neighboring_sites_set)\n",
    "                    # remove the TJs and QJs\n",
    "                    if len(neighboring_sites_list_unque) > 1: \n",
    "                        for m in range(len(neighboring_sites_list_unque)):\n",
    "                            pair_id = post_processing.get_line(central_site, neighboring_sites_list_unque[m]) # get pair id\n",
    "                            if pair_id in TJ_infomation_dict:\n",
    "                                tmp = TJ_infomation_dict[pair_id]\n",
    "                                tmp.append([i,j,k])\n",
    "                                TJ_infomation_dict[pair_id] = tmp\n",
    "                            else: \n",
    "                                TJ_infomation_dict[pair_id] = [[i,j,k]]\n",
    "            print(\"Finish TJ extraction\")\n",
    "            \n",
    "            # Get the center of each GB\n",
    "            GB_infomation_dict = dict()\n",
    "            TJ_distance_max = 6 # voxels\n",
    "            for index, result in np.ndenumerate(current_microstructure):\n",
    "                i,j,k = index\n",
    "                ip,im,jp,jm,kp,km = myInput.periodic_bc3d(size_x,size_y,size_z,i,j,k)\n",
    "                if ( ((current_microstructure[ip,j,k]-current_microstructure[i,j,k])!=0) or ((current_microstructure[im,j,k]-current_microstructure[i,j,k])!=0) or\\\n",
    "                     ((current_microstructure[i,jp,k]-current_microstructure[i,j,k])!=0) or ((current_microstructure[i,jm,k]-current_microstructure[i,j,k])!=0) or\\\n",
    "                     ((current_microstructure[i,j,kp]-current_microstructure[i,j,k])!=0) or ((current_microstructure[i,j,km]-current_microstructure[i,j,k])!=0) ):\n",
    "                    central_site = int(current_microstructure[i,j,k])\n",
    "                    neighboring_sites_list = np.array([current_microstructure[ip,j,k], current_microstructure[i,jp,k], current_microstructure[i,j,kp], current_microstructure[im,j,k], current_microstructure[i,jm,k], current_microstructure[i,j,km]]).astype(int)\n",
    "                    neighboring_sites_set = set(neighboring_sites_list) # Get all unique neighboring sites\n",
    "                    if central_site in neighboring_sites_set: neighboring_sites_set.remove(central_site) # remove central site\n",
    "                    neighboring_sites_list_unque = list(neighboring_sites_set)\n",
    "                    # remove the TJs and QJs\n",
    "                    if len(neighboring_sites_list_unque) > 1: continue # only remove TJs and QJs\n",
    "                    # CONTINUE...    # remove the voxels around TJs and QJs\n",
    "                    # check the GB voxels is close to TJ or not\n",
    "                    break_point = 0\n",
    "                    pair_id = post_processing.get_line(central_site, neighboring_sites_list_unque[0]) # get pair id\n",
    "                    if central_site<neighboring_sites_list_unque[0]: pair_id_pair = [central_site, neighboring_sites_list_unque[0]]\n",
    "                    else: pair_id_pair = [neighboring_sites_list_unque[0], central_site]\n",
    "                    if pair_id in GB_infomation_dict:\n",
    "                        GB_infomation_dict[pair_id][5] += 1 # GB area\n",
    "                    else:\n",
    "                        GB_infomation = np.array([0,0,0,0,0.0,1,pair_id_pair[0],pair_id_pair[1]]) # GBnum-curvature,i,j,k,curvature,GBnum,gid0,gid1\n",
    "                        GB_infomation_dict[pair_id] = GB_infomation\n",
    "                    if pair_id in TJ_infomation_dict:\n",
    "                        for TJ_site in TJ_infomation_dict[pair_id]:\n",
    "                            TJ_distance = np.linalg.norm(index-np.array(TJ_site))\n",
    "                            if TJ_distance < TJ_distance_max: \n",
    "                                break_point = 1\n",
    "                                break\n",
    "                    if break_point == 1: continue\n",
    "                    # calculate or extract misorientation\n",
    "                    # if pair_id in GB_infomation_dict:\n",
    "                    GB_infomation_dict[pair_id][0] += 1\n",
    "                    \n",
    "                    if pair_id not in curvature_matrix: continue\n",
    "                    if central_site == pair_id_pair[0]:\n",
    "                        GB_infomation_dict[pair_id][1:5] += np.array([i,j,k,curvature_matrix[pair_id][3]])\n",
    "                    else:\n",
    "                        GB_infomation_dict[pair_id][1:5] += np.array([i,j,k,curvature_matrix[pair_id][3]])\n",
    "            # get the correct location for each GB\n",
    "            small_GB_list = []\n",
    "            for key in GB_infomation_dict: \n",
    "                if GB_infomation_dict[key][0] == 0: \n",
    "                    small_GB_list.append(key) # remove the small GB with 0 voxels after remove voxels close to TJs\n",
    "            for s_index in range(len(small_GB_list)): GB_infomation_dict.pop(small_GB_list[s_index])\n",
    "            for key in GB_infomation_dict: \n",
    "                GB_infomation_dict[key][1:5]=GB_infomation_dict[key][1:5]/GB_infomation_dict[key][0]\n",
    "            print(f\"Current GBs len at {time_step} steps: {len(GB_infomation_dict)}\")\n",
    "            # save information\n",
    "            np.savez(data_file_folder + data_file_name, GB_infomation_dict=GB_infomation_dict)\n",
    "            GB_infomation_dict_list.append(GB_infomation_dict)\n",
    "            \n",
    "            \n",
    "            "
   ]
  },
  {
   "cell_type": "code",
   "execution_count": null,
   "id": "f25e6ff9-d365-4bdf-9cd8-3c5227ab8286",
   "metadata": {},
   "outputs": [],
   "source": []
  },
  {
   "cell_type": "code",
   "execution_count": 4,
   "id": "127df95e-c650-41f9-bc2c-ddcea1cc0f55",
   "metadata": {},
   "outputs": [
    {
     "name": "stderr",
     "output_type": "stream",
     "text": [
      "100%|██████████| 51/51 [00:00<00:00, 52.85it/s]\n"
     ]
    }
   ],
   "source": [
    "    # GB Energy information\n",
    "    step_num=51\n",
    "    grain_nums = 5000\n",
    "    GBenergy_information_dict_list = []\n",
    "    for time_step in tqdm(range(step_num)):\n",
    "        data_file_name_GBenergy = f\"GB_velocity_data/3D_GBenergy_velocity_data_{case_name}_step{time_step}.npz\"\n",
    "        if os.path.exists(data_file_folder + data_file_name_GBenergy):\n",
    "            npz_file = np.load(data_file_folder + data_file_name_GBenergy,allow_pickle=True)\n",
    "            GBenergy_information_dict = npz_file[\"GBenergy_information_dict\"]\n",
    "            GBenergy_information_dict_list.append(GBenergy_information_dict.item())\n",
    "        else:\n",
    "            current_microstructure = npy_file_aniso[time_step]\n",
    "            current_energy = npy_file_aniso_energy[time_step]\n",
    "\n",
    "            # Get TJ and QJ information first\n",
    "            TJ_infomation_dict = dict()\n",
    "            for index, result in np.ndenumerate(current_microstructure):\n",
    "                i,j,k = index\n",
    "                ip,im,jp,jm,kp,km = myInput.periodic_bc3d(size_x,size_y,size_z,i,j,k)\n",
    "                if ( ((current_microstructure[ip,j,k]-current_microstructure[i,j,k])!=0) or ((current_microstructure[im,j,k]-current_microstructure[i,j,k])!=0) or\\\n",
    "                     ((current_microstructure[i,jp,k]-current_microstructure[i,j,k])!=0) or ((current_microstructure[i,jm,k]-current_microstructure[i,j,k])!=0) or\\\n",
    "                     ((current_microstructure[i,j,kp]-current_microstructure[i,j,k])!=0) or ((current_microstructure[i,j,km]-current_microstructure[i,j,k])!=0) ):\n",
    "                    central_site = int(current_microstructure[i,j,k])\n",
    "                    neighboring_sites_list = np.array([current_microstructure[ip,j,k], current_microstructure[i,jp,k], current_microstructure[i,j,kp], current_microstructure[im,j,k], current_microstructure[i,jm,k], current_microstructure[i,j,km]]).astype(int)\n",
    "                    neighboring_sites_set = set(neighboring_sites_list) # Get all unique neighboring sites\n",
    "                    if central_site in neighboring_sites_set: neighboring_sites_set.remove(central_site) # remove central site\n",
    "                    neighboring_sites_list_unque = list(neighboring_sites_set)\n",
    "                    # remove the TJs and QJs\n",
    "                    if len(neighboring_sites_list_unque) > 1: \n",
    "                        for m in range(len(neighboring_sites_list_unque)):\n",
    "                            pair_id = post_processing.get_line(central_site, neighboring_sites_list_unque[m]) # get pair id\n",
    "                            if pair_id in TJ_infomation_dict:\n",
    "                                tmp = TJ_infomation_dict[pair_id]\n",
    "                                tmp.append([i,j,k])\n",
    "                                TJ_infomation_dict[pair_id] = tmp\n",
    "                            else: \n",
    "                                TJ_infomation_dict[pair_id] = [[i,j,k]]\n",
    "            print(\"Finish TJ extraction\")\n",
    "\n",
    "            # Get the center of each GB\n",
    "            GBenergy_information_dict = dict()\n",
    "            TJ_distance_max = 6 # voxels\n",
    "            for index, result in np.ndenumerate(current_microstructure):\n",
    "                i,j,k = index\n",
    "                ip,im,jp,jm,kp,km = myInput.periodic_bc3d(size_x,size_y,size_z,i,j,k)\n",
    "                if ( ((current_microstructure[ip,j,k]-current_microstructure[i,j,k])!=0) or ((current_microstructure[im,j,k]-current_microstructure[i,j,k])!=0) or\\\n",
    "                     ((current_microstructure[i,jp,k]-current_microstructure[i,j,k])!=0) or ((current_microstructure[i,jm,k]-current_microstructure[i,j,k])!=0) or\\\n",
    "                     ((current_microstructure[i,j,kp]-current_microstructure[i,j,k])!=0) or ((current_microstructure[i,j,km]-current_microstructure[i,j,k])!=0) ):\n",
    "                    central_site = int(current_microstructure[i,j,k])\n",
    "                    neighboring_sites_list = np.array([current_microstructure[ip,j,k], current_microstructure[i,jp,k], current_microstructure[i,j,kp], current_microstructure[im,j,k], current_microstructure[i,jm,k], current_microstructure[i,j,km]]).astype(int)\n",
    "                    neighboring_sites_set = set(neighboring_sites_list) # Get all unique neighboring sites\n",
    "                    if central_site in neighboring_sites_set: neighboring_sites_set.remove(central_site) # remove central site\n",
    "                    neighboring_sites_list_unque = list(neighboring_sites_set)\n",
    "                    num_other_sites = 0\n",
    "                    neighboring_sites_full_list = np.array([current_microstructure[ip,jp,k], current_microstructure[ip,j,k], current_microstructure[ip,jm,k], current_microstructure[i,jp,k], current_microstructure[i,jm,k], current_microstructure[im,jp,k], current_microstructure[im,j,k], current_microstructure[im,jm,k],\n",
    "                                                            current_microstructure[i,j,km], current_microstructure[ip,jp,km], current_microstructure[ip,j,km], current_microstructure[ip,jm,km], current_microstructure[i,jp,km], current_microstructure[i,jm,km], current_microstructure[im,jp,km], current_microstructure[im,j,km], current_microstructure[im,jm,km],\n",
    "                                                            current_microstructure[i,j,kp], current_microstructure[ip,jp,kp], current_microstructure[ip,j,kp], current_microstructure[ip,jm,kp], current_microstructure[i,jp,kp], current_microstructure[i,jm,kp], current_microstructure[im,jp,kp], current_microstructure[im,j,kp], current_microstructure[im,jm,kp]]).astype(int)\n",
    "                    for neigh_site in neighboring_sites_full_list:\n",
    "                        if neigh_site != central_site: num_other_sites += 1 # get the sites num different with central id\n",
    "                    # remove the TJs and QJs\n",
    "                    if len(neighboring_sites_list_unque) > 1: continue # only remove TJs and QJs\n",
    "                    # CONTINUE...    # remove the voxels around TJs and QJs\n",
    "                    # check the GB voxels is close to TJ or not\n",
    "                    break_point = 0\n",
    "                    pair_id = post_processing.get_line(central_site, neighboring_sites_list_unque[0]) # get pair id\n",
    "                    if central_site<neighboring_sites_list_unque[0]: pair_id_pair = [central_site, neighboring_sites_list_unque[0]]\n",
    "                    else: pair_id_pair = [neighboring_sites_list_unque[0], central_site]\n",
    "                    if pair_id in GBenergy_information_dict:\n",
    "                        GBenergy_information_dict[pair_id][5] += 1 # GB area\n",
    "                    else:\n",
    "                        GB_infomation = np.array([0,0,0,0,0.0,1,pair_id_pair[0],pair_id_pair[1]]) # GBnum-energy,i,j,k,GB energy,GBnum,gid0,gid1\n",
    "                        GBenergy_information_dict[pair_id] = GB_infomation\n",
    "                    if pair_id in TJ_infomation_dict:\n",
    "                        for TJ_site in TJ_infomation_dict[pair_id]:\n",
    "                            TJ_distance = np.linalg.norm(index-np.array(TJ_site))\n",
    "                            if TJ_distance < TJ_distance_max: \n",
    "                                break_point = 1\n",
    "                                break\n",
    "                    if break_point == 1: continue\n",
    "                    # calculate or extract misorientation\n",
    "                    # if pair_id in GBenergy_information_dict:\n",
    "                    GBenergy_information_dict[pair_id][0] += 1\n",
    "                    GBenergy_information_dict[pair_id][1:5] += np.array([i,j,k,current_energy[i,j,k]/num_other_sites])\n",
    "\n",
    "            # get the correct location for each GB\n",
    "            small_GB_list = []\n",
    "            for key in GBenergy_information_dict: \n",
    "                if GBenergy_information_dict[key][0] == 0: \n",
    "                    small_GB_list.append(key) # remove the small GB with 0 voxels after remove voxels close to TJs\n",
    "            for s_index in range(len(small_GB_list)): GBenergy_information_dict.pop(small_GB_list[s_index])\n",
    "            for key in GBenergy_information_dict: \n",
    "                GBenergy_information_dict[key][1:5]=GBenergy_information_dict[key][1:5]/GBenergy_information_dict[key][0]\n",
    "            print(f\"Current GBs len at {time_step} steps: {len(GBenergy_information_dict)}\")\n",
    "            # save information\n",
    "            np.savez(data_file_folder + data_file_name_GBenergy, GBenergy_information_dict=GBenergy_information_dict)\n",
    "            GBenergy_information_dict_list.append(GBenergy_information_dict)"
   ]
  },
  {
   "cell_type": "code",
   "execution_count": 5,
   "id": "53b29d51-1d5d-4731-92e8-aa4a6894a46b",
   "metadata": {
    "tags": []
   },
   "outputs": [],
   "source": [
    "#     from numba import njit, prange\n",
    "#     import multiprocessing as mp\n",
    "    \n",
    "#     @njit(parallel=True)\n",
    "#     def compute_dV(npy_file_aniso_current,npy_file_aniso_next, pair_id_pair):\n",
    "#         growth_direction1 = (npy_file_aniso_current == pair_id_pair[0]) & (npy_file_aniso_next == pair_id_pair[1])\n",
    "#         growth_direction2 = (npy_file_aniso_current == pair_id_pair[1]) & (npy_file_aniso_next == pair_id_pair[0])\n",
    "#         return np.sum(growth_direction1) - np.sum(growth_direction2)\n",
    "    \n",
    "#     def compute_necessary_info(key,time_interval,\n",
    "#                                GB_infomation_dict_list_one_step_one_key,\n",
    "#                                GBenergy_information_dict_list_one_step_one_key,\n",
    "#                                npy_file_aniso_current,\n",
    "#                                npy_file_aniso_next):\n",
    "        \n",
    "        \n",
    "#         # Calculate dV and velocity\n",
    "#         dV = compute_dV(npy_file_aniso_current,npy_file_aniso_next,GB_infomation_dict_list_one_step_one_key[6:8])\n",
    "#         velocity = dV/time_interval/(GB_infomation_dict_list_one_step_one_key[5]/2)\n",
    "#         # keep curvature\n",
    "#         current_curvature_value = GB_infomation_dict_list_one_step_one_key[4]\n",
    "#         # keep GB energy\n",
    "#         current_eng = GBenergy_information_dict_list_one_step_one_key[4]\n",
    "        \n",
    "#         result = {\n",
    "#             \"key\": key,\n",
    "#             \"velocity\": velocity,\n",
    "#             \"current_curvature_value\": current_curvature_value,\n",
    "#             \"current_eng\": current_eng,\n",
    "#             \"is_anti_curvature\": current_curvature_value * velocity < -0.0001\n",
    "#         }\n",
    "        \n",
    "#         return result\n",
    "    \n",
    "#     if __name__ == '__main__':\n",
    "#         cores_num = 2\n",
    "#         time_interval = 2\n",
    "#         curvature_limit = 0.00794\n",
    "#         # store all GB points, include curvature and anti-curvature(include randomness points)\n",
    "#         GB_list_velocity_list = []\n",
    "#         GB_list_curvature_list = []\n",
    "#         GB_list_GBenergy_list = []\n",
    "#         # store all GB point exclude anti-curvature randomness points\n",
    "#         GB_list_velocity_list_exrandom = []\n",
    "#         GB_list_curvature_list_exrandom = []\n",
    "#         # store GB energy point exclude anti_c randomness points\n",
    "#         GB_list_GBenergy_list_exrandom = []\n",
    "#         # store anti-curvature GBs in dictionary\n",
    "#         GB_id_focus = dict()\n",
    "#         GB_id_focus_detail = dict()\n",
    "#         GB_filter_kernel = [set(),set(),set(),set(),set()]\n",
    "#         dV_dict = []\n",
    "#         for time_step in range(3):#step_num):\n",
    "#             if time_step+1 >= step_num: continue\n",
    "#             GB_list_velocity_list_tmp = []\n",
    "#             GB_list_curvature_list_tmp = []\n",
    "#             GB_list_GBenergy_list_tmp = []\n",
    "#             GB_list_velocity_list_exrandom_tmp = []\n",
    "#             GB_list_curvature_list_exrandom_tmp = []\n",
    "#             GB_list_GBenergy_list_exrandom_tmp = []\n",
    "#             key_set = set()\n",
    "            \n",
    "#             # MP\n",
    "#             # remove disappeared GBs and low area GBs and remove low curvature\n",
    "#             print(f\"key num start with {len(GB_infomation_dict_list[time_step])}\")\n",
    "#             tmp_GB_infomation_dict_for_mp = {}\n",
    "#             tmp_GBenergy_information_dict_for_mp = {}\n",
    "#             for key in GB_infomation_dict_list[time_step]:\n",
    "#                 if (GB_infomation_dict_list[time_step][key][5] < 100 or \n",
    "#                     GB_infomation_dict_list[time_step+1].get(key) is None or \n",
    "#                     abs(GB_infomation_dict_list[time_step][key][4]) < curvature_limit): \n",
    "#                     continue\n",
    "#                 tmp_GB_infomation_dict_for_mp[key] = GB_infomation_dict_list[time_step][key]\n",
    "#                 tmp_GBenergy_information_dict_for_mp[key] = GBenergy_information_dict_list[time_step][key]\n",
    "#             print(f\"key num end with {len(tmp_GB_infomation_dict_for_mp)}\")\n",
    "#             # run key\n",
    "#             dV_dict_tmp = {}\n",
    "#             for key in tqdm(tmp_GB_infomation_dict_for_mp):\n",
    "#                 result = compute_necessary_info(key,time_interval,tmp_GB_infomation_dict_for_mp[key],tmp_GBenergy_information_dict_for_mp[key],npy_file_aniso[time_step],npy_file_aniso[time_step+1])\n",
    "#                 dV_dict_tmp[key] = result\n",
    "                \n",
    "#                 GB_list_velocity_list_tmp.append(result[\"velocity\"])\n",
    "#                 GB_list_curvature_list_tmp.append(result[\"current_curvature_value\"])\n",
    "#                 GB_list_GBenergy_list_tmp.append(result[\"current_eng\"])\n",
    "                    \n",
    "\n",
    "#                 # keep anti-curvature GB info\n",
    "#                 if result[\"is_anti_curvature\"]<-0.0001: \n",
    "#                     key_set.add(key)\n",
    "#                     if time_step >= step_num-3: continue\n",
    "#                     if key in GB_id_focus: \n",
    "#                         GB_id_focus[key] += 1\n",
    "#                         GB_id_focus_detail[key].append(time_step)\n",
    "#                     else: \n",
    "#                         GB_id_focus[key] = 1\n",
    "#                         GB_id_focus_detail[key] = [time_step]\n",
    "\n",
    "#             # keep all GBs with GB length larger than 100\n",
    "#             dV_dict.append(dV_dict_tmp)\n",
    "#             GB_list_velocity_list.append(GB_list_velocity_list_tmp)\n",
    "#             GB_list_curvature_list.append(GB_list_curvature_list_tmp)\n",
    "#             GB_list_GBenergy_list.append(GB_list_GBenergy_list_tmp)\n",
    "\n",
    "#             # filter the anti-curvature GB with 00100\n",
    "#             GB_filter_kernel[0:4] = GB_filter_kernel[1:]\n",
    "#             GB_filter_kernel[4] = key_set\n",
    "#             filtered_set = GB_filter_kernel[2] - (GB_filter_kernel[0]|GB_filter_kernel[1]|GB_filter_kernel[3]|GB_filter_kernel[4])\n",
    "#             for key in filtered_set: \n",
    "#                 GB_id_focus[key] -= 1\n",
    "#                 GB_id_focus_detail[key].remove(time_step-2)\n",
    "#             print(f\"finish {time_step} with num of GBs {len(GB_list_velocity_list_tmp)}, and collected num of GBs {len(GB_id_focus)}\")\n",
    "\n",
    "#             # remove exclude data\n",
    "#             if time_step < 2: continue\n",
    "            \n",
    "#             # MP\n",
    "#             print(f\"key num start with {len(GB_infomation_dict_list[time_step-2])}\")\n",
    "#             tmp_GB_infomation_dict_for_mp = {}\n",
    "#             tmp_GBenergy_information_dict_for_mp = {}\n",
    "#             for key in GB_infomation_dict_list[time_step-2]:\n",
    "#                 if (GB_infomation_dict_list[time_step-2][key][5] < 100 or \n",
    "#                     GB_infomation_dict_list[time_step-1].get(key) is None or \n",
    "#                     abs(GB_infomation_dict_list[time_step-2][key][4]) < curvature_limit): \n",
    "#                     continue\n",
    "#                 tmp_GB_infomation_dict_for_mp[key] = GB_infomation_dict_list[time_step-2][key]\n",
    "#                 tmp_GBenergy_information_dict_for_mp[key] = GBenergy_information_dict_list[time_step-2][key]\n",
    "#             print(f\"key num end with {len(tmp_GB_infomation_dict_for_mp)}\")\n",
    "#             # run key\n",
    "#             dV_dict_tmp = dV_dict[time_step-2]\n",
    "#             for key in tqdm(tmp_GB_infomation_dict_for_mp):\n",
    "#                 if key in dV_dict_tmp:\n",
    "#                     result = dV_dict_tmp[key]\n",
    "#                 else:\n",
    "#                     print(\"There are one issue!\")\n",
    "#                 # output results\n",
    "#                 if result[\"key\"] in filtered_set: continue\n",
    "#                 GB_list_velocity_list_exrandom_tmp.append(result[\"velocity\"])\n",
    "#                 GB_list_curvature_list_exrandom_tmp.append(result[\"current_curvature_value\"])\n",
    "#                 GB_list_GBenergy_list_exrandom_tmp.append(result[\"current_eng\"])\n",
    "#             GB_list_velocity_list_exrandom.append(GB_list_velocity_list_exrandom_tmp)\n",
    "#             GB_list_curvature_list_exrandom.append(GB_list_curvature_list_exrandom_tmp)\n",
    "#             GB_list_GBenergy_list_exrandom.append(GB_list_GBenergy_list_exrandom_tmp)\n",
    "\n",
    "\n",
    "#         # filter the anti-curvature GB with 00100\n",
    "#         GB_id_focus_copy = GB_id_focus.copy()\n",
    "#         for key in GB_id_focus_copy:\n",
    "#             if GB_id_focus_copy[key] <=0:\n",
    "#                 GB_id_focus.pop(key)\n",
    "#                 GB_id_focus_detail.pop(key)\n",
    "\n",
    "#         # add the last two steps for exclude data\n",
    "#         # GB_list_velocity_list_exrandom.extend(GB_list_velocity_list[-2:])\n",
    "#         # GB_list_curvature_list_exrandom.extend(GB_list_curvature_list[-2:])\n",
    "#         # GB_list_GBenergy_list_exrandom.extend(GB_list_GBenergy_list[-2:])\n"
   ]
  },
  {
   "cell_type": "code",
   "execution_count": null,
   "id": "a24ba591-7803-4cb2-ba66-b8249940cfc3",
   "metadata": {
    "tags": []
   },
   "outputs": [],
   "source": []
  },
  {
   "cell_type": "code",
   "execution_count": 6,
   "id": "2f308b73-0513-45d8-a932-7d65cd3c5e66",
   "metadata": {
    "tags": []
   },
   "outputs": [
    {
     "name": "stderr",
     "output_type": "stream",
     "text": [
      "100%|██████████| 4058/4058 [00:12<00:00, 316.16it/s]\n"
     ]
    },
    {
     "name": "stdout",
     "output_type": "stream",
     "text": [
      "finish 0 with num of GBs 142, and collected num of GBs 71\n"
     ]
    },
    {
     "name": "stderr",
     "output_type": "stream",
     "text": [
      "100%|██████████| 1892/1892 [01:18<00:00, 23.96it/s]\n"
     ]
    },
    {
     "name": "stdout",
     "output_type": "stream",
     "text": [
      "finish 1 with num of GBs 1010, and collected num of GBs 432\n"
     ]
    },
    {
     "name": "stderr",
     "output_type": "stream",
     "text": [
      "100%|██████████| 2295/2295 [01:51<00:00, 20.60it/s]\n"
     ]
    },
    {
     "name": "stdout",
     "output_type": "stream",
     "text": [
      "finish 2 with num of GBs 1434, and collected num of GBs 845\n"
     ]
    },
    {
     "name": "stderr",
     "output_type": "stream",
     "text": [
      "100%|██████████| 4058/4058 [00:07<00:00, 567.55it/s]\n",
      "100%|██████████| 2754/2754 [02:14<00:00, 20.48it/s]\n"
     ]
    },
    {
     "name": "stdout",
     "output_type": "stream",
     "text": [
      "finish 3 with num of GBs 1729, and collected num of GBs 1276\n"
     ]
    },
    {
     "name": "stderr",
     "output_type": "stream",
     "text": [
      "100%|██████████| 1892/1892 [00:59<00:00, 31.57it/s]\n",
      "100%|██████████| 3125/3125 [02:32<00:00, 20.50it/s]\n"
     ]
    },
    {
     "name": "stdout",
     "output_type": "stream",
     "text": [
      "finish 4 with num of GBs 1948, and collected num of GBs 1716\n"
     ]
    },
    {
     "name": "stderr",
     "output_type": "stream",
     "text": [
      "100%|██████████| 2295/2295 [01:32<00:00, 24.83it/s]\n",
      "100%|██████████| 3295/3295 [02:40<00:00, 20.53it/s]\n"
     ]
    },
    {
     "name": "stdout",
     "output_type": "stream",
     "text": [
      "finish 5 with num of GBs 2038, and collected num of GBs 2129\n"
     ]
    },
    {
     "name": "stderr",
     "output_type": "stream",
     "text": [
      "100%|██████████| 2754/2754 [01:52<00:00, 24.53it/s]\n",
      "100%|██████████| 3360/3360 [02:46<00:00, 20.22it/s]\n"
     ]
    },
    {
     "name": "stdout",
     "output_type": "stream",
     "text": [
      "finish 6 with num of GBs 2105, and collected num of GBs 2500\n"
     ]
    },
    {
     "name": "stderr",
     "output_type": "stream",
     "text": [
      "100%|██████████| 3125/3125 [02:09<00:00, 24.07it/s]\n",
      "100%|██████████| 3397/3397 [02:42<00:00, 20.90it/s]\n"
     ]
    },
    {
     "name": "stdout",
     "output_type": "stream",
     "text": [
      "finish 7 with num of GBs 2073, and collected num of GBs 2857\n"
     ]
    },
    {
     "name": "stderr",
     "output_type": "stream",
     "text": [
      "100%|██████████| 3295/3295 [02:17<00:00, 23.93it/s]\n",
      "100%|██████████| 3288/3288 [02:41<00:00, 20.37it/s]\n"
     ]
    },
    {
     "name": "stdout",
     "output_type": "stream",
     "text": [
      "finish 8 with num of GBs 2051, and collected num of GBs 3140\n"
     ]
    },
    {
     "name": "stderr",
     "output_type": "stream",
     "text": [
      "100%|██████████| 3360/3360 [02:25<00:00, 23.11it/s]\n",
      "100%|██████████| 3262/3262 [02:41<00:00, 20.24it/s]\n"
     ]
    },
    {
     "name": "stdout",
     "output_type": "stream",
     "text": [
      "finish 9 with num of GBs 2022, and collected num of GBs 3411\n"
     ]
    },
    {
     "name": "stderr",
     "output_type": "stream",
     "text": [
      "100%|██████████| 3397/3397 [02:26<00:00, 23.22it/s]\n",
      "100%|██████████| 3173/3173 [02:37<00:00, 20.12it/s]\n"
     ]
    },
    {
     "name": "stdout",
     "output_type": "stream",
     "text": [
      "finish 10 with num of GBs 1973, and collected num of GBs 3639\n"
     ]
    },
    {
     "name": "stderr",
     "output_type": "stream",
     "text": [
      "100%|██████████| 3288/3288 [02:25<00:00, 22.61it/s]\n",
      "100%|██████████| 3083/3083 [02:29<00:00, 20.61it/s]\n"
     ]
    },
    {
     "name": "stdout",
     "output_type": "stream",
     "text": [
      "finish 11 with num of GBs 1848, and collected num of GBs 3837\n"
     ]
    },
    {
     "name": "stderr",
     "output_type": "stream",
     "text": [
      "100%|██████████| 3262/3262 [02:21<00:00, 23.05it/s]\n",
      "100%|██████████| 2985/2985 [02:30<00:00, 19.86it/s]\n"
     ]
    },
    {
     "name": "stdout",
     "output_type": "stream",
     "text": [
      "finish 12 with num of GBs 1852, and collected num of GBs 4026\n"
     ]
    },
    {
     "name": "stderr",
     "output_type": "stream",
     "text": [
      "100%|██████████| 3173/3173 [02:20<00:00, 22.65it/s]\n",
      "100%|██████████| 2869/2869 [02:16<00:00, 21.00it/s]\n"
     ]
    },
    {
     "name": "stdout",
     "output_type": "stream",
     "text": [
      "finish 13 with num of GBs 1696, and collected num of GBs 4179\n"
     ]
    },
    {
     "name": "stderr",
     "output_type": "stream",
     "text": [
      "100%|██████████| 3083/3083 [02:11<00:00, 23.40it/s]\n",
      "100%|██████████| 2710/2710 [02:10<00:00, 20.83it/s]\n"
     ]
    },
    {
     "name": "stdout",
     "output_type": "stream",
     "text": [
      "finish 14 with num of GBs 1616, and collected num of GBs 4316\n"
     ]
    },
    {
     "name": "stderr",
     "output_type": "stream",
     "text": [
      "100%|██████████| 2985/2985 [02:13<00:00, 22.43it/s]\n",
      "100%|██████████| 2611/2611 [02:02<00:00, 21.38it/s]\n"
     ]
    },
    {
     "name": "stdout",
     "output_type": "stream",
     "text": [
      "finish 15 with num of GBs 1492, and collected num of GBs 4432\n"
     ]
    },
    {
     "name": "stderr",
     "output_type": "stream",
     "text": [
      "100%|██████████| 2869/2869 [01:59<00:00, 24.10it/s]\n",
      "100%|██████████| 2520/2520 [01:54<00:00, 22.02it/s]\n"
     ]
    },
    {
     "name": "stdout",
     "output_type": "stream",
     "text": [
      "finish 16 with num of GBs 1461, and collected num of GBs 4559\n"
     ]
    },
    {
     "name": "stderr",
     "output_type": "stream",
     "text": [
      "100%|██████████| 2710/2710 [01:53<00:00, 23.84it/s]\n",
      "100%|██████████| 2421/2421 [01:47<00:00, 22.47it/s]\n"
     ]
    },
    {
     "name": "stdout",
     "output_type": "stream",
     "text": [
      "finish 17 with num of GBs 1377, and collected num of GBs 4670\n"
     ]
    },
    {
     "name": "stderr",
     "output_type": "stream",
     "text": [
      "100%|██████████| 2611/2611 [01:44<00:00, 24.87it/s]\n",
      "100%|██████████| 2265/2265 [01:43<00:00, 21.98it/s]\n"
     ]
    },
    {
     "name": "stdout",
     "output_type": "stream",
     "text": [
      "finish 18 with num of GBs 1312, and collected num of GBs 4762\n"
     ]
    },
    {
     "name": "stderr",
     "output_type": "stream",
     "text": [
      "100%|██████████| 2180/2180 [01:39<00:00, 21.93it/s]\n"
     ]
    },
    {
     "name": "stdout",
     "output_type": "stream",
     "text": [
      "finish 19 with num of GBs 1263, and collected num of GBs 4844\n"
     ]
    },
    {
     "name": "stderr",
     "output_type": "stream",
     "text": [
      "100%|██████████| 2421/2421 [01:36<00:00, 25.21it/s]\n",
      "100%|██████████| 2101/2101 [01:31<00:00, 22.97it/s]\n"
     ]
    },
    {
     "name": "stdout",
     "output_type": "stream",
     "text": [
      "finish 20 with num of GBs 1175, and collected num of GBs 4906\n"
     ]
    },
    {
     "name": "stderr",
     "output_type": "stream",
     "text": [
      "100%|██████████| 2265/2265 [01:31<00:00, 24.73it/s]\n",
      "100%|██████████| 2014/2014 [01:24<00:00, 23.77it/s]\n"
     ]
    },
    {
     "name": "stdout",
     "output_type": "stream",
     "text": [
      "finish 21 with num of GBs 1092, and collected num of GBs 4980\n"
     ]
    },
    {
     "name": "stderr",
     "output_type": "stream",
     "text": [
      " 71%|███████   | 1545/2180 [01:02<00:26, 24.23it/s]IOPub message rate exceeded.\n",
      "The Jupyter server will temporarily stop sending output\n",
      "to the client in order to avoid crashing it.\n",
      "To change this limit, set the config variable\n",
      "`--ServerApp.iopub_msg_rate_limit`.\n",
      "\n",
      "Current values:\n",
      "ServerApp.iopub_msg_rate_limit=1000.0 (msgs/sec)\n",
      "ServerApp.rate_limit_window=3.0 (secs)\n",
      "\n",
      "100%|██████████| 1038/1038 [00:32<00:00, 31.99it/s]\n",
      "100%|██████████| 943/943 [00:34<00:00, 26.97it/s]\n"
     ]
    },
    {
     "name": "stdout",
     "output_type": "stream",
     "text": [
      "finish 39 with num of GBs 455, and collected num of GBs 5605\n"
     ]
    },
    {
     "name": "stderr",
     "output_type": "stream",
     "text": [
      "100%|██████████| 998/998 [00:31<00:00, 31.50it/s]\n",
      "100%|██████████| 927/927 [00:32<00:00, 28.44it/s]\n"
     ]
    },
    {
     "name": "stdout",
     "output_type": "stream",
     "text": [
      "finish 40 with num of GBs 424, and collected num of GBs 5622\n"
     ]
    },
    {
     "name": "stderr",
     "output_type": "stream",
     "text": [
      "100%|██████████| 963/963 [00:28<00:00, 34.32it/s]\n",
      "100%|██████████| 914/914 [00:33<00:00, 27.55it/s]\n"
     ]
    },
    {
     "name": "stdout",
     "output_type": "stream",
     "text": [
      "finish 41 with num of GBs 430, and collected num of GBs 5638\n"
     ]
    },
    {
     "name": "stderr",
     "output_type": "stream",
     "text": [
      "100%|██████████| 943/943 [00:32<00:00, 29.22it/s]\n",
      "100%|██████████| 892/892 [00:30<00:00, 29.32it/s]\n"
     ]
    },
    {
     "name": "stdout",
     "output_type": "stream",
     "text": [
      "finish 42 with num of GBs 396, and collected num of GBs 5651\n"
     ]
    },
    {
     "name": "stderr",
     "output_type": "stream",
     "text": [
      "100%|██████████| 927/927 [00:29<00:00, 31.55it/s]\n",
      "100%|██████████| 883/883 [00:29<00:00, 30.12it/s]\n"
     ]
    },
    {
     "name": "stdout",
     "output_type": "stream",
     "text": [
      "finish 43 with num of GBs 386, and collected num of GBs 5666\n"
     ]
    },
    {
     "name": "stderr",
     "output_type": "stream",
     "text": [
      "100%|██████████| 914/914 [00:30<00:00, 30.22it/s]\n",
      "100%|██████████| 867/867 [00:28<00:00, 30.47it/s]\n"
     ]
    },
    {
     "name": "stdout",
     "output_type": "stream",
     "text": [
      "finish 44 with num of GBs 369, and collected num of GBs 5679\n"
     ]
    },
    {
     "name": "stderr",
     "output_type": "stream",
     "text": [
      "100%|██████████| 892/892 [00:27<00:00, 32.10it/s]\n",
      "100%|██████████| 850/850 [00:31<00:00, 26.71it/s]\n"
     ]
    },
    {
     "name": "stdout",
     "output_type": "stream",
     "text": [
      "finish 45 with num of GBs 362, and collected num of GBs 5688\n"
     ]
    },
    {
     "name": "stderr",
     "output_type": "stream",
     "text": [
      "100%|██████████| 883/883 [00:26<00:00, 33.01it/s]\n",
      "100%|██████████| 835/835 [00:27<00:00, 29.97it/s]\n"
     ]
    },
    {
     "name": "stdout",
     "output_type": "stream",
     "text": [
      "finish 46 with num of GBs 363, and collected num of GBs 5700\n"
     ]
    },
    {
     "name": "stderr",
     "output_type": "stream",
     "text": [
      "100%|██████████| 867/867 [00:25<00:00, 34.15it/s]\n",
      " 65%|██████▌   | 533/814 [00:15<00:08, 31.42it/s]IOPub message rate exceeded.\n",
      "The Jupyter server will temporarily stop sending output\n",
      "to the client in order to avoid crashing it.\n",
      "To change this limit, set the config variable\n",
      "`--ServerApp.iopub_msg_rate_limit`.\n",
      "\n",
      "Current values:\n",
      "ServerApp.iopub_msg_rate_limit=1000.0 (msgs/sec)\n",
      "ServerApp.rate_limit_window=3.0 (secs)\n",
      "\n"
     ]
    }
   ],
   "source": [
    "    time_interval = 2\n",
    "    curvature_limit = 0.00794\n",
    "    # store all GB points, include curvature and anti-curvature(include randomness points)\n",
    "    GB_list_velocity_list = []\n",
    "    GB_list_curvature_list = []\n",
    "    GB_list_GBenergy_list = []\n",
    "    # store all GB point exclude anti-curvature randomness points\n",
    "    GB_list_velocity_list_exrandom = []\n",
    "    GB_list_curvature_list_exrandom = []\n",
    "    # store GB energy point exclude anti_c randomness points\n",
    "    GB_list_GBenergy_list_exrandom = []\n",
    "    # store anti-curvature GBs in dictionary\n",
    "    GB_id_focus = dict()\n",
    "    GB_id_focus_detail = dict()\n",
    "    GB_filter_kernel = [set(),set(),set(),set(),set()]\n",
    "    for time_step in range(step_num):\n",
    "        if time_step+1 >= step_num: continue\n",
    "        GB_list_velocity_list_tmp = []\n",
    "        GB_list_curvature_list_tmp = []\n",
    "        GB_list_GBenergy_list_tmp = []\n",
    "        GB_list_velocity_list_exrandom_tmp = []\n",
    "        GB_list_curvature_list_exrandom_tmp = []\n",
    "        GB_list_GBenergy_list_exrandom_tmp = []\n",
    "        key_set = set()\n",
    "        for key in tqdm(GB_infomation_dict_list[time_step]):\n",
    "            if GB_infomation_dict_list[time_step+1].get(key) is None: continue\n",
    "            if GB_infomation_dict_list[time_step][key][5] < 100: continue # remove small GBs\n",
    "            if abs(GB_infomation_dict_list[time_step][key][4]) < curvature_limit: continue # remove low curvature\n",
    "            # Calculate dV\n",
    "            pair_id_pair = GB_infomation_dict_list[time_step][key][6:8]\n",
    "            growth_direction1 = (npy_file_aniso[time_step]==pair_id_pair[0])*(npy_file_aniso[time_step+1]==pair_id_pair[1])\n",
    "            growth_direction2 = (npy_file_aniso[time_step]==pair_id_pair[1])*(npy_file_aniso[time_step+1]==pair_id_pair[0])\n",
    "            dV = np.sum(growth_direction1)-np.sum(growth_direction2) # velocity with direction\n",
    "            # calculate velocity\n",
    "            velocity = dV/time_interval/(GB_infomation_dict_list[time_step][key][5]/2)\n",
    "            GB_list_velocity_list_tmp.append(velocity)\n",
    "            # keep curvature\n",
    "            current_curvature_value = GB_infomation_dict_list[time_step][key][4]\n",
    "            GB_list_curvature_list_tmp.append(current_curvature_value)\n",
    "            # keep GB energy\n",
    "            GB_list_GBenergy_list_tmp.append(GBenergy_information_dict_list[time_step][key][4])\n",
    "            \n",
    "            # keep anti-curvature GB info\n",
    "            if current_curvature_value*velocity<-0.0001: \n",
    "                key_set.add(key)\n",
    "                if time_step >= step_num-3: continue\n",
    "                if key in GB_id_focus: \n",
    "                    GB_id_focus[key] += 1\n",
    "                    GB_id_focus_detail[key].append(time_step)\n",
    "                else: \n",
    "                    GB_id_focus[key] = 1\n",
    "                    GB_id_focus_detail[key] = [time_step]\n",
    "        \n",
    "        # keep all GBs with GB length larger than 100\n",
    "        GB_list_velocity_list.append(GB_list_velocity_list_tmp)\n",
    "        GB_list_curvature_list.append(GB_list_curvature_list_tmp)\n",
    "        GB_list_GBenergy_list.append(GB_list_GBenergy_list_tmp)\n",
    "        \n",
    "        # filter the anti-curvature GB with 00100\n",
    "        GB_filter_kernel[0:4] = GB_filter_kernel[1:]\n",
    "        GB_filter_kernel[4] = key_set\n",
    "        filtered_set = GB_filter_kernel[2] - (GB_filter_kernel[0]|GB_filter_kernel[1]|GB_filter_kernel[3]|GB_filter_kernel[4])\n",
    "        for key in filtered_set: \n",
    "            GB_id_focus[key] -= 1\n",
    "            GB_id_focus_detail[key].remove(time_step-2)\n",
    "        print(f\"finish {time_step} with num of GBs {len(GB_list_velocity_list_tmp)}, and collected num of GBs {len(GB_id_focus)}\")\n",
    "        \n",
    "        # remove exclude data\n",
    "        if time_step < 2: continue\n",
    "        for key in tqdm(GB_infomation_dict_list[time_step-2]):\n",
    "            if GB_infomation_dict_list[time_step-1].get(key) is None: continue\n",
    "            if GB_infomation_dict_list[time_step-2][key][5] < 100: continue # remove small GBs\n",
    "            if key in filtered_set: continue # remove the randomness points\n",
    "            if abs(GB_infomation_dict_list[time_step-2][key][4]) < curvature_limit: continue # remove low curvature\n",
    "            # Calculate dV\n",
    "            pair_id_pair = GB_infomation_dict_list[time_step-2][key][6:8]\n",
    "            growth_direction1 = (npy_file_aniso[time_step-2]==pair_id_pair[0])*(npy_file_aniso[time_step-1]==pair_id_pair[1])\n",
    "            growth_direction2 = (npy_file_aniso[time_step-2]==pair_id_pair[1])*(npy_file_aniso[time_step-1]==pair_id_pair[0])\n",
    "            dV = np.sum(growth_direction1)-np.sum(growth_direction2) # velocity with direction\n",
    "            # calculate velocity\n",
    "            velocity = dV/time_interval/(GB_infomation_dict_list[time_step-2][key][5]/2)\n",
    "            GB_list_velocity_list_exrandom_tmp.append(velocity)\n",
    "            # keep curvature\n",
    "            current_curvature_value = GB_infomation_dict_list[time_step-2][key][4]\n",
    "            GB_list_curvature_list_exrandom_tmp.append(current_curvature_value)\n",
    "            # keep GB energy\n",
    "            GB_list_GBenergy_list_exrandom_tmp.append(GBenergy_information_dict_list[time_step-2][key][4])\n",
    "        GB_list_velocity_list_exrandom.append(GB_list_velocity_list_exrandom_tmp)\n",
    "        GB_list_curvature_list_exrandom.append(GB_list_curvature_list_exrandom_tmp)\n",
    "        GB_list_GBenergy_list_exrandom.append(GB_list_GBenergy_list_exrandom_tmp)\n",
    "        \n",
    "    \n",
    "    # filter the anti-curvature GB with 00100\n",
    "    GB_id_focus_copy = GB_id_focus.copy()\n",
    "    for key in GB_id_focus_copy:\n",
    "        if GB_id_focus_copy[key] <=0:\n",
    "            GB_id_focus.pop(key)\n",
    "            GB_id_focus_detail.pop(key)\n",
    "            \n",
    "    # add the last two steps for exclude data\n",
    "    # GB_list_velocity_list_exrandom.extend(GB_list_velocity_list[-2:])\n",
    "    # GB_list_curvature_list_exrandom.extend(GB_list_curvature_list[-2:])\n",
    "    # GB_list_GBenergy_list_exrandom.extend(GB_list_GBenergy_list[-2:])\n",
    "            "
   ]
  },
  {
   "cell_type": "code",
   "execution_count": null,
   "id": "e005f15d-de3d-4aec-b560-6461034c2984",
   "metadata": {},
   "outputs": [],
   "source": []
  },
  {
   "cell_type": "code",
   "execution_count": 7,
   "id": "81c85dbd-a6b5-4075-b7c2-6d2fa8f85092",
   "metadata": {},
   "outputs": [
    {
     "data": {
      "text/plain": [
       "5712"
      ]
     },
     "execution_count": 7,
     "metadata": {},
     "output_type": "execute_result"
    }
   ],
   "source": [
    "len(GB_id_focus_copy)"
   ]
  },
  {
   "cell_type": "code",
   "execution_count": 8,
   "id": "6304ac9f-da16-406b-9a55-1d84184e3369",
   "metadata": {},
   "outputs": [
    {
     "name": "stderr",
     "output_type": "stream",
     "text": [
      "100%|██████████| 4058/4058 [00:03<00:00, 1015.76it/s]\n",
      "100%|██████████| 1892/1892 [00:10<00:00, 183.86it/s]\n",
      "100%|██████████| 2295/2295 [00:19<00:00, 115.03it/s]\n",
      "100%|██████████| 2754/2754 [00:24<00:00, 112.48it/s]\n",
      "100%|██████████| 3125/3125 [00:28<00:00, 108.12it/s]\n",
      "100%|██████████| 3295/3295 [00:30<00:00, 106.42it/s]\n",
      "100%|██████████| 3360/3360 [00:30<00:00, 110.12it/s]\n",
      "100%|██████████| 3397/3397 [00:32<00:00, 104.42it/s]\n",
      "100%|██████████| 3288/3288 [00:29<00:00, 109.95it/s]\n",
      "100%|██████████| 3262/3262 [00:28<00:00, 116.26it/s]\n",
      "100%|██████████| 3173/3173 [00:26<00:00, 121.59it/s]\n",
      "100%|██████████| 3083/3083 [00:22<00:00, 137.87it/s]\n",
      "100%|██████████| 2985/2985 [00:22<00:00, 132.82it/s]\n",
      "100%|██████████| 2869/2869 [00:18<00:00, 151.35it/s]\n",
      "100%|██████████| 2710/2710 [00:16<00:00, 161.02it/s]\n",
      "100%|██████████| 2611/2611 [00:16<00:00, 159.28it/s]\n",
      "100%|██████████| 2520/2520 [00:15<00:00, 158.39it/s]\n",
      "100%|██████████| 2421/2421 [00:14<00:00, 163.80it/s]\n",
      "100%|██████████| 2265/2265 [00:15<00:00, 148.66it/s]\n",
      "100%|██████████| 2180/2180 [00:14<00:00, 148.60it/s]\n",
      "100%|██████████| 2101/2101 [00:11<00:00, 175.16it/s]\n",
      "100%|██████████| 2014/2014 [00:10<00:00, 191.31it/s]\n",
      "100%|██████████| 1894/1894 [00:08<00:00, 214.99it/s]\n",
      "100%|██████████| 1824/1824 [00:08<00:00, 208.22it/s]\n",
      "100%|██████████| 1756/1756 [00:07<00:00, 221.69it/s]\n",
      "100%|██████████| 1663/1663 [00:07<00:00, 211.16it/s]\n",
      "100%|██████████| 1558/1558 [00:06<00:00, 245.00it/s]\n",
      "100%|██████████| 1519/1519 [00:06<00:00, 250.47it/s]\n",
      "100%|██████████| 1464/1464 [00:06<00:00, 222.85it/s]\n",
      "100%|██████████| 1411/1411 [00:05<00:00, 244.10it/s]\n",
      "100%|██████████| 1359/1359 [00:04<00:00, 296.37it/s]\n",
      " 32%|███▏      | 414/1300 [00:01<00:03, 227.90it/s]IOPub message rate exceeded.\n",
      "The Jupyter server will temporarily stop sending output\n",
      "to the client in order to avoid crashing it.\n",
      "To change this limit, set the config variable\n",
      "`--ServerApp.iopub_msg_rate_limit`.\n",
      "\n",
      "Current values:\n",
      "ServerApp.iopub_msg_rate_limit=1000.0 (msgs/sec)\n",
      "ServerApp.rate_limit_window=3.0 (secs)\n",
      "\n"
     ]
    }
   ],
   "source": [
    "    time_interval = 2\n",
    "    # GB_list_velocity_list = []\n",
    "    GB_antic_list_velocity_list = []\n",
    "    GB_antic_list_GBenergy_list = []\n",
    "    GB_antic_list_anticNum_list = []\n",
    "    GB_id_unfocus_lowE_detail = dict()\n",
    "    for time_step in range(step_num):\n",
    "        if time_step+1 >= step_num: continue\n",
    "        for key in tqdm(GBenergy_information_dict_list[time_step]):\n",
    "            if GBenergy_information_dict_list[time_step+1].get(key) is None: continue\n",
    "            if GBenergy_information_dict_list[time_step][key][5] < 100: continue # remove small GBs\n",
    "            if abs(GB_infomation_dict_list[time_step][key][4]) < curvature_limit: continue # remove low curvature\n",
    "            \n",
    "            # keep the GB with low energy and curvature behavior\n",
    "            if (GBenergy_information_dict_list[time_step][key][4]<0.4) and (key not in GB_id_focus_detail): # do we need to remove random here?\n",
    "                if key in GB_id_unfocus_lowE_detail:\n",
    "                    GB_id_unfocus_lowE_detail[key].append(time_step)\n",
    "                else:\n",
    "                    GB_id_unfocus_lowE_detail[key] = [time_step]\n",
    "            \n",
    "            # anti-curvature behavior list\n",
    "            if (key in GB_id_focus_detail) and (time_step in GB_id_focus_detail[key]):\n",
    "                # Calculate dV\n",
    "                pair_id_pair = GB_infomation_dict_list[time_step][key][6:8]\n",
    "                growth_direction1 = (npy_file_aniso[time_step]==pair_id_pair[0])*(npy_file_aniso[time_step+1]==pair_id_pair[1])\n",
    "                growth_direction2 = (npy_file_aniso[time_step]==pair_id_pair[1])*(npy_file_aniso[time_step+1]==pair_id_pair[0])\n",
    "                dV = np.sum(growth_direction1)-np.sum(growth_direction2) # velocity with direction\n",
    "                # calculate velocity\n",
    "                velocity = dV/time_interval/(GB_infomation_dict_list[time_step][key][5]/2)\n",
    "                # correct the sign of velocity\n",
    "                current_curvature_value = GB_infomation_dict_list[time_step][key][4]\n",
    "                if current_curvature_value < 0: GB_antic_list_velocity_list.append(-velocity)\n",
    "                else: GB_antic_list_velocity_list.append(velocity)\n",
    "                \n",
    "                GB_antic_list_GBenergy_list.append(GBenergy_information_dict_list[time_step][key][4])\n",
    "                GB_antic_list_anticNum_list.append(GB_id_focus[key])\n",
    "            \n",
    "        \n",
    "            "
   ]
  },
  {
   "cell_type": "code",
   "execution_count": 9,
   "id": "bf804f69-a21f-462e-8dc6-ea100eb771f0",
   "metadata": {
    "tags": []
   },
   "outputs": [
    {
     "name": "stdout",
     "output_type": "stream",
     "text": [
      "The number of the GBs showing anti-curvature during whole simulations is 2472\n",
      "The ratio of anti-curvature GBs during whole simulations is 19.19254658385093% in 12880 GBs\n"
     ]
    }
   ],
   "source": [
    "    total_GB = set()\n",
    "    for time_step in range(step_num):\n",
    "        step_GB = GB_infomation_dict_list[time_step].keys()\n",
    "        total_GB = total_GB | step_GB\n",
    "\n",
    "    print(f\"The number of the GBs showing anti-curvature during whole simulations is {len(GB_id_focus.values())}\")\n",
    "    print(f\"The ratio of anti-curvature GBs during whole simulations is {len(GB_id_focus.values())/len(total_GB)*100}% in {len(total_GB)} GBs\")\n",
    "    # print(GB_id_focus.values())"
   ]
  },
  {
   "cell_type": "code",
   "execution_count": 10,
   "id": "440477d8-8bbe-40d5-bd26-9465ea52cd2d",
   "metadata": {
    "tags": []
   },
   "outputs": [
    {
     "name": "stdout",
     "output_type": "stream",
     "text": [
      "The number of the GBs showing anti-curvature during whole simulations is 7212\n",
      "The ratio of anti-curvature GBs during whole simulations is 7.572289536129019% in 95242 GBs\n"
     ]
    }
   ],
   "source": [
    "    total_GB_num = 0\n",
    "    for time_step in range(step_num):\n",
    "        step_GB = GB_infomation_dict_list[time_step].keys()\n",
    "        total_GB_num += len(step_GB)\n",
    "\n",
    "    anti_c_num = 0\n",
    "    for key in GB_id_focus:\n",
    "        anti_c_num += GB_id_focus[key]\n",
    "    print(f\"The number of the GBs showing anti-curvature during whole simulations is {anti_c_num}\")\n",
    "    print(f\"The ratio of anti-curvature GBs during whole simulations is {anti_c_num/total_GB_num*100}% in {total_GB_num} GBs\")\n",
    "    # print(GB_id_focus.values())"
   ]
  },
  {
   "cell_type": "code",
   "execution_count": 10,
   "id": "6eceee40-5f34-4605-959f-364b9588bb1d",
   "metadata": {
    "tags": []
   },
   "outputs": [
    {
     "data": {
      "text/plain": [
       "50"
      ]
     },
     "execution_count": 10,
     "metadata": {},
     "output_type": "execute_result"
    }
   ],
   "source": [
    "len(GB_list_velocity_list)"
   ]
  },
  {
   "cell_type": "code",
   "execution_count": 11,
   "id": "96203cab-0393-40ca-b372-89bb3d25a952",
   "metadata": {},
   "outputs": [
    {
     "data": {
      "text/plain": [
       "<Figure size 432x288 with 0 Axes>"
      ]
     },
     "metadata": {},
     "output_type": "display_data"
    },
    {
     "data": {
      "image/png": "[encoded data removed]",
      "text/plain": [
       "<Figure size 360x360 with 1 Axes>"
      ]
     },
     "metadata": {
      "needs_background": "light"
     },
     "output_type": "display_data"
    },
    {
     "data": {
      "text/plain": [
       "<Figure size 432x288 with 0 Axes>"
      ]
     },
     "metadata": {},
     "output_type": "display_data"
    },
    {
     "data": {
      "image/png": "[encoded data removed]",
      "text/plain": [
       "<Figure size 504x504 with 1 Axes>"
      ]
     },
     "metadata": {
      "needs_background": "light"
     },
     "output_type": "display_data"
    }
   ],
   "source": [
    "    # All in 1 figrue\n",
    "    curvature_1Dlist_remove_0step = []\n",
    "    velocity_1Dlist_remove_0step = []\n",
    "    GBenergy_1Dlist_remove_0step = []\n",
    "    for i in range(0,len(GB_list_velocity_list)): \n",
    "        curvature_1Dlist_remove_0step.extend(GB_list_curvature_list[i])\n",
    "        velocity_1Dlist_remove_0step.extend(GB_list_velocity_list[i])\n",
    "        GBenergy_1Dlist_remove_0step.extend(GB_list_GBenergy_list[i])\n",
    "    curvature_1Dlist_exrandom_remove_0step = []\n",
    "    velocity_1Dlist_exrandom_remove_0step = []\n",
    "    GBenergy_1Dlist_exrandom_remove_0step = []\n",
    "    for i in range(0,len(GB_list_velocity_list_exrandom)): \n",
    "        curvature_1Dlist_exrandom_remove_0step.extend(GB_list_curvature_list_exrandom[i])\n",
    "        velocity_1Dlist_exrandom_remove_0step.extend(GB_list_velocity_list_exrandom[i])\n",
    "        GBenergy_1Dlist_exrandom_remove_0step.extend(GB_list_GBenergy_list_exrandom[i])\n",
    "    \n",
    "    # ignore the sign of curvature\n",
    "    for i in range(len(curvature_1Dlist_exrandom_remove_0step)):\n",
    "        if curvature_1Dlist_exrandom_remove_0step[i]<0: \n",
    "            curvature_1Dlist_exrandom_remove_0step[i] = - curvature_1Dlist_exrandom_remove_0step[i]\n",
    "            velocity_1Dlist_exrandom_remove_0step[i] = - velocity_1Dlist_exrandom_remove_0step[i]\n",
    "    velocity_1Dlist_exrandom_remove_0step = np.array(velocity_1Dlist_exrandom_remove_0step)\n",
    "    curvature_1Dlist_exrandom_remove_0step = np.array(curvature_1Dlist_exrandom_remove_0step)\n",
    "            \n",
    "    figure_name_all = f\"figures/3D_velocity_signedcurvature_{case_name}_5d.png\"\n",
    "    plt.figure()\n",
    "    fig = plt.figure(figsize=(5, 5))\n",
    "    plt.plot([curvature_limit,0.1],[0,0],'-',color='grey',linewidth=2)\n",
    "    plt.scatter(curvature_1Dlist_exrandom_remove_0step[velocity_1Dlist_exrandom_remove_0step>0], velocity_1Dlist_exrandom_remove_0step[velocity_1Dlist_exrandom_remove_0step>0],s=4,alpha=0.5)\n",
    "    plt.scatter(curvature_1Dlist_exrandom_remove_0step[velocity_1Dlist_exrandom_remove_0step<0], velocity_1Dlist_exrandom_remove_0step[velocity_1Dlist_exrandom_remove_0step<0],s=4,alpha=0.5,color='C01')\n",
    "    plt.xlabel(\"curvature\", fontsize=20)\n",
    "    plt.ylabel(\"velocity (voxel/step)\", fontsize=20)\n",
    "    plt.xlim([curvature_limit,0.1])\n",
    "    plt.ylim([-2.0,2.0])\n",
    "    plt.savefig(figure_name_all, dpi=400,bbox_inches='tight')\n",
    "    \n",
    "    # plot velocity VS averaged curvature\n",
    "    bin_interval = 0.001\n",
    "    x_lim = [0.0,0.1]\n",
    "    bin_number = int((x_lim[1]-x_lim[0])/bin_interval)\n",
    "    curvature_coordinate = np.arange(x_lim[0],x_lim[1],bin_interval)+bin_interval/2\n",
    "\n",
    "    curvature_bin = np.zeros(bin_number)\n",
    "    velocity_bin = np.zeros(bin_number)\n",
    "    for index in range(len(curvature_1Dlist_exrandom_remove_0step)):\n",
    "        if abs(curvature_1Dlist_exrandom_remove_0step[index])>x_lim[1]: continue\n",
    "        curvature_bin[int((curvature_1Dlist_exrandom_remove_0step[index]-x_lim[0])//bin_interval)] += 1\n",
    "        velocity_bin[int((curvature_1Dlist_exrandom_remove_0step[index]-x_lim[0])//bin_interval)] += velocity_1Dlist_exrandom_remove_0step[index]\n",
    "    for i in range(bin_number): \n",
    "        if curvature_bin[i]>0: velocity_bin[i] = velocity_bin[i]/curvature_bin[i]\n",
    "    # plot\n",
    "    figure_name_all_bin = f\"figures/3D_velocity_signedcurvature_{case_name}_5d_afterBin.png\"\n",
    "    plt.figure()\n",
    "    fig = plt.figure(figsize=(7, 7))\n",
    "    # plt.scatter(curvature_coordinate, velocity_bin,s=4,alpha=0.5)\n",
    "    plt.xlim([curvature_limit,0.1])\n",
    "    plt.ylim([-1,1])\n",
    "    plt.plot(curvature_coordinate[velocity_bin!=0], velocity_bin[velocity_bin!=0],'o', linewidth=2)\n",
    "    plt.xlabel(\"curvature\", fontsize=18)\n",
    "    plt.ylabel(\"velocity (voxel/step)\", fontsize=18)\n",
    "    plt.savefig(figure_name_all_bin, dpi=400,bbox_inches='tight')\n"
   ]
  },
  {
   "cell_type": "code",
   "execution_count": 12,
   "id": "2f952603-c1b8-4aae-8900-25fef984672d",
   "metadata": {
    "tags": []
   },
   "outputs": [
    {
     "name": "stdout",
     "output_type": "stream",
     "text": [
      "0.0\n",
      "0.18623145833333332\n",
      "0.19448\n",
      "0.12640175\n",
      "0.0\n",
      "0.22045933333333334\n",
      "0.094585\n",
      "0.212243\n",
      "0.188171\n",
      "0.2459447\n",
      "0.1773672777777778\n",
      "0.182518\n",
      "0.2037036111111111\n",
      "0.2015695\n",
      "0.0\n",
      "0.2148565\n",
      "0.076164\n",
      "0.15896416666666666\n",
      "0.0\n",
      "0.23299066666666668\n",
      "0.2094715\n",
      "0.0\n",
      "0.0\n",
      "0.0\n",
      "0.0\n",
      "0.0\n",
      "0.154816\n",
      "0.10236883333333334\n",
      "0.21808933333333333\n",
      "0.21065216666666667\n",
      "0.23145000000000002\n",
      "0.171595\n",
      "0.2213895\n",
      "0.24458\n",
      "0.22580698333333332\n",
      "0.22185803333333332\n",
      "0.17410889999999998\n",
      "0.0\n",
      "0.166955875\n",
      "0.2127625\n",
      "0.24179099999999998\n",
      "0.19194375\n",
      "0.0\n",
      "0.0\n",
      "0.0\n",
      "0.2330852777777778\n",
      "0.243282\n",
      "0.21714333910533912\n",
      "0.172919\n",
      "0.0\n",
      "0.22954466666666665\n",
      "0.0\n",
      "0.0\n",
      "0.169251\n",
      "0.24536826315789473\n",
      "0.0\n",
      "0.09312983333333334\n",
      "3.1518770302213444\n"
     ]
    },
    {
     "data": {
      "text/plain": [
       "Text(0, 0.5, 'num of site')"
      ]
     },
     "execution_count": 12,
     "metadata": {},
     "output_type": "execute_result"
    },
    {
     "data": {
      "text/plain": [
       "<Figure size 432x288 with 0 Axes>"
      ]
     },
     "metadata": {},
     "output_type": "display_data"
    },
    {
     "data": {
      "image/png": "[encoded data removed]",
      "text/plain": [
       "<Figure size 504x504 with 1 Axes>"
      ]
     },
     "metadata": {
      "needs_background": "light"
     },
     "output_type": "display_data"
    },
    {
     "data": {
      "text/plain": [
       "<Figure size 432x288 with 0 Axes>"
      ]
     },
     "metadata": {},
     "output_type": "display_data"
    },
    {
     "data": {
      "image/png": "[encoded data removed]",
      "text/plain": [
       "<Figure size 504x504 with 1 Axes>"
      ]
     },
     "metadata": {
      "needs_background": "light"
     },
     "output_type": "display_data"
    },
    {
     "data": {
      "text/plain": [
       "<Figure size 432x288 with 0 Axes>"
      ]
     },
     "metadata": {},
     "output_type": "display_data"
    },
    {
     "data": {
      "image/png": "[encoded data removed]",
      "text/plain": [
       "<Figure size 504x504 with 1 Axes>"
      ]
     },
     "metadata": {
      "needs_background": "light"
     },
     "output_type": "display_data"
    },
    {
     "data": {
      "text/plain": [
       "<Figure size 432x288 with 0 Axes>"
      ]
     },
     "metadata": {},
     "output_type": "display_data"
    },
    {
     "data": {
      "image/png": "[encoded data removed]",
      "text/plain": [
       "<Figure size 504x504 with 1 Axes>"
      ]
     },
     "metadata": {
      "needs_background": "light"
     },
     "output_type": "display_data"
    },
    {
     "data": {
      "text/plain": [
       "<Figure size 432x288 with 0 Axes>"
      ]
     },
     "metadata": {},
     "output_type": "display_data"
    },
    {
     "data": {
      "image/png": "[encoded data removed]",
      "text/plain": [
       "<Figure size 504x504 with 1 Axes>"
      ]
     },
     "metadata": {
      "needs_background": "light"
     },
     "output_type": "display_data"
    }
   ],
   "source": [
    "\n",
    "    figure_name_all = f\"figures/3D_velocity_GBenergy_{case_name}_5d.png\"\n",
    "    plt.figure()\n",
    "    fig = plt.figure(figsize=(7, 7))\n",
    "    plt.scatter(GBenergy_1Dlist_exrandom_remove_0step, velocity_1Dlist_exrandom_remove_0step,s=4,alpha=0.5,label='All GBs')\n",
    "    GB_antic_list_GBenergy_list = np.array(GB_antic_list_GBenergy_list)\n",
    "    GB_antic_list_velocity_list = np.array(GB_antic_list_velocity_list)\n",
    "    GB_antic_list_anticNum_array = np.array(GB_antic_list_anticNum_list)\n",
    "    plt.scatter(GB_antic_list_GBenergy_list[GB_antic_list_anticNum_array>=5], GB_antic_list_velocity_list[GB_antic_list_anticNum_array>=5],s=4,alpha=0.5,label='anti-c GBs(5 steps)')\n",
    "    plt.xlabel(\"GB energy\", fontsize=18)\n",
    "    plt.ylabel(\"velocity (voxel/step)\", fontsize=18)\n",
    "    plt.xlim([0.3,1.0])\n",
    "    plt.ylim([-2,2])\n",
    "    plt.legend(fontsize=18)\n",
    "    plt.savefig(figure_name_all, dpi=400,bbox_inches='tight')\n",
    "    \n",
    "    # plot velocity VS averaged GBenergy\n",
    "    bin_interval = 0.01\n",
    "    x_lim = [0.25,1.0]\n",
    "    bin_number = int((x_lim[1]-x_lim[0])/bin_interval)\n",
    "    GBenergy_coordinate = np.arange(x_lim[0],x_lim[1],bin_interval)+bin_interval/2\n",
    "\n",
    "    GBenergy_bin = np.zeros(bin_number)\n",
    "    velocity_bin = np.zeros(bin_number)\n",
    "    antic_num_bin = np.zeros(bin_number)\n",
    "    for index in range(len(GBenergy_1Dlist_exrandom_remove_0step)):\n",
    "        if abs(GBenergy_1Dlist_exrandom_remove_0step[index])>=1.0: continue\n",
    "        GBenergy_bin[int((GBenergy_1Dlist_exrandom_remove_0step[index]-x_lim[0])//bin_interval)] += 1\n",
    "        velocity_bin[int((GBenergy_1Dlist_exrandom_remove_0step[index]-x_lim[0])//bin_interval)] += velocity_1Dlist_exrandom_remove_0step[index]\n",
    "        if velocity_1Dlist_exrandom_remove_0step[index] < 0: antic_num_bin[int((GBenergy_1Dlist_exrandom_remove_0step[index]-x_lim[0])//bin_interval)] += 1\n",
    "        if int((GBenergy_1Dlist_exrandom_remove_0step[index]-x_lim[0])//bin_interval)<0: print(GBenergy_1Dlist_exrandom_remove_0step[index])\n",
    "    for i in range(bin_number): \n",
    "        if GBenergy_bin[i]>0: velocity_bin[i] = velocity_bin[i]/GBenergy_bin[i]\n",
    "    # plot\n",
    "    figure_name_all_bin = f\"figures/3D_velocity_GBenergy_{case_name}_5d_afterBin.png\"\n",
    "    plt.figure()\n",
    "    fig = plt.figure(figsize=(7, 7))\n",
    "    # plt.scatter(GBenergy_coordinate, velocity_bin,s=4,alpha=0.5)\n",
    "    plt.xlim([0.3,1.0])\n",
    "    plt.ylim([-1,1])\n",
    "    plt.plot(GBenergy_coordinate[velocity_bin!=0], velocity_bin[velocity_bin!=0],'o', linewidth=2)\n",
    "    plt.xlabel(\"GB energy\", fontsize=18)\n",
    "    plt.ylabel(\"velocity (voxel/step)\", fontsize=18)\n",
    "    plt.savefig(figure_name_all_bin, dpi=400,bbox_inches='tight')\n",
    "    \n",
    "    plt.figure()\n",
    "    fig = plt.figure(figsize=(7, 7))\n",
    "    plt.xlim([0.3,1.0])\n",
    "    plt.ylim([0,0.15])\n",
    "    plt.plot(GBenergy_coordinate, GBenergy_bin/np.sum(GBenergy_bin),'-', linewidth=2)\n",
    "    plt.xlabel(\"GB energy\", fontsize=18)\n",
    "    plt.ylabel(\"distribution\", fontsize=18)\n",
    "    \n",
    "    antic_ratio_bin = np.zeros(bin_number)\n",
    "    for bin_i in range(len(GBenergy_bin)):\n",
    "        if GBenergy_bin[bin_i] > 0: antic_ratio_bin[bin_i] = antic_num_bin[bin_i]/GBenergy_bin[bin_i]\n",
    "    plt.figure()\n",
    "    fig = plt.figure(figsize=(7, 7))\n",
    "    plt.xlim([0.3,1.0])\n",
    "    plt.ylim([0,0.5])\n",
    "    plt.plot(GBenergy_coordinate[antic_ratio_bin>0], antic_ratio_bin[antic_ratio_bin>0],'o', linewidth=2)\n",
    "    plt.xlabel(\"GB energy\", fontsize=18)\n",
    "    plt.ylabel(\"anti-c fraction\", fontsize=18)\n",
    "    \n",
    "    anti_c_data_file_name = f\"data/3D_antic_data_{case_name}\"\n",
    "    np.savez(anti_c_data_file_name,antic_ratio_bin=antic_ratio_bin,GBenergy_bin=GBenergy_bin)\n",
    "    \n",
    "    GBenergy_coordinate_larger0 = GBenergy_coordinate[antic_ratio_bin>0]\n",
    "    delta_n = -0.66*np.log(antic_ratio_bin[antic_ratio_bin>0])/GBenergy_coordinate[antic_ratio_bin>0]\n",
    "    mean_delta_n = np.mean(delta_n)\n",
    "    mean_delta_n_2 = np.sum(delta_n*GBenergy_bin[antic_ratio_bin>0]/np.sum(GBenergy_bin[antic_ratio_bin>0]))\n",
    "    print(mean_delta_n_2)\n",
    "    plt.figure()\n",
    "    fig = plt.figure(figsize=(7, 7))\n",
    "    plt.xlim([0.3,1.0])\n",
    "    plt.ylim([0,5])\n",
    "    plt.plot(GBenergy_coordinate_larger0, delta_n,'o', linewidth=2, label = 'results')\n",
    "    plt.plot(GBenergy_coordinate_larger0, mean_delta_n*np.ones(len(GBenergy_coordinate_larger0)),'--',linewidth=2,color='gray',label=f'mean-{round(mean_delta_n,2)}')\n",
    "    plt.legend(fontsize=18)\n",
    "    plt.xlabel(\"GB energy\", fontsize=18)\n",
    "    plt.ylabel(\"num of site\", fontsize=18)\n",
    "        \n"
   ]
  },
  {
   "cell_type": "code",
   "execution_count": 14,
   "id": "a02be276-7b6a-4ee7-975b-23800e3f3269",
   "metadata": {
    "tags": []
   },
   "outputs": [
    {
     "name": "stderr",
     "output_type": "stream",
     "text": [
      " 27%|██▋       | 14/51 [00:06<00:17,  2.12it/s]\n"
     ]
    },
    {
     "data": {
      "text/plain": [
       "<Figure size 432x288 with 0 Axes>"
      ]
     },
     "metadata": {},
     "output_type": "display_data"
    },
    {
     "data": {
      "image/png": "[encoded data removed]",
      "text/plain": [
       "<Figure size 504x504 with 1 Axes>"
      ]
     },
     "metadata": {
      "needs_background": "light"
     },
     "output_type": "display_data"
    },
    {
     "data": {
      "text/plain": [
       "<Figure size 432x288 with 0 Axes>"
      ]
     },
     "metadata": {},
     "output_type": "display_data"
    },
    {
     "data": {
      "image/png": "[encoded data removed]",
      "text/plain": [
       "<Figure size 504x504 with 1 Axes>"
      ]
     },
     "metadata": {
      "needs_background": "light"
     },
     "output_type": "display_data"
    },
    {
     "data": {
      "text/plain": [
       "<Figure size 432x288 with 0 Axes>"
      ]
     },
     "metadata": {},
     "output_type": "display_data"
    },
    {
     "data": {
      "image/png": "[encoded data removed]",
      "text/plain": [
       "<Figure size 504x504 with 1 Axes>"
      ]
     },
     "metadata": {
      "needs_background": "light"
     },
     "output_type": "display_data"
    },
    {
     "data": {
      "text/plain": [
       "<Figure size 432x288 with 0 Axes>"
      ]
     },
     "metadata": {},
     "output_type": "display_data"
    },
    {
     "data": {
      "image/png": "[encoded data removed]",
      "text/plain": [
       "<Figure size 504x504 with 1 Axes>"
      ]
     },
     "metadata": {
      "needs_background": "light"
     },
     "output_type": "display_data"
    }
   ],
   "source": [
    "    # For one specific time steps with 1000 grains\n",
    "\n",
    "    # get expected time step\n",
    "    expected_grain_num = 2000\n",
    "    grain_num_array = np.zeros(npy_file_aniso.shape[0])\n",
    "    # Calculate the number of grains\n",
    "    for i in tqdm(range(npy_file_aniso.shape[0])):\n",
    "        grain_num = len(np.unique(npy_file_aniso[i,:]))\n",
    "        grain_num_array[i] = grain_num\n",
    "        if grain_num < expected_grain_num/2: break\n",
    "    expected_time_step = int(np.argmin(abs(grain_num_array - expected_grain_num)))\n",
    "\n",
    "    # get all data on specific grain step\n",
    "    expected_step_curvature_list = GB_list_curvature_list[expected_time_step]\n",
    "    expected_step_velocity_list = GB_list_velocity_list[expected_time_step]\n",
    "    expected_step_GBenergy_list = GB_list_GBenergy_list[expected_time_step]\n",
    "    expected_step_curvature_list_exrandom = GB_list_curvature_list_exrandom[expected_time_step]\n",
    "    expected_step_velocity_list_exrandom = GB_list_velocity_list_exrandom[expected_time_step]\n",
    "    expected_step_GBenergy_list_exrandom = GB_list_GBenergy_list_exrandom[expected_time_step]\n",
    "\n",
    "    # plot\n",
    "    figure_name_all = f\"figures/2D_velocity_GBenergy_{case_name}_5d_grain{expected_grain_num}.png\"\n",
    "    plt.figure()\n",
    "    fig = plt.figure(figsize=(7, 7))\n",
    "    plt.scatter(expected_step_GBenergy_list_exrandom, expected_step_velocity_list_exrandom,s=4,alpha=0.5,label='All GBs')\n",
    "    # GB_antic_list_GBenergy_list = np.array(GB_antic_list_GBenergy_list)\n",
    "    # GB_antic_list_velocity_list = np.array(GB_antic_list_velocity_list)\n",
    "    # GB_antic_list_anticNum_array = np.array(GB_antic_list_anticNum_list)\n",
    "    # plt.scatter(GB_antic_list_GBenergy_list[GB_antic_list_anticNum_array>=5], GB_antic_list_velocity_list[GB_antic_list_anticNum_array>=5],s=4,alpha=0.5,label='anti-c GBs(5 steps)')\n",
    "    plt.plot([0.3,1.0],[0,0],'-',color='grey',linewidth=2)\n",
    "    plt.xlabel(\"GB energy\", fontsize=18)\n",
    "    plt.ylabel(\"velocity (voxel/step)\", fontsize=18)\n",
    "    plt.xlim([0.3,1.0])\n",
    "    plt.ylim([-0.6,0.6])\n",
    "    # plt.legend(fontsize=18)\n",
    "    plt.savefig(figure_name_all, dpi=400,bbox_inches='tight')\n",
    "    \n",
    "    # plot velocity VS averaged GBenergy\n",
    "    bin_interval = 0.02\n",
    "    x_lim = [0.20,1.0]\n",
    "    bin_number = int((x_lim[1]-x_lim[0])/bin_interval)\n",
    "    GBenergy_coordinate = np.arange(x_lim[0],x_lim[1],bin_interval)+bin_interval/2\n",
    "    \n",
    "    \n",
    "    GBenergy_bin = np.zeros(bin_number)\n",
    "    velocity_bin = np.zeros(bin_number)\n",
    "    antic_num_bin = np.zeros(bin_number)\n",
    "    for index in range(len(expected_step_GBenergy_list_exrandom)):\n",
    "        if abs(expected_step_GBenergy_list_exrandom[index])>=1.01: continue\n",
    "        GBenergy_bin[int((expected_step_GBenergy_list_exrandom[index]-x_lim[0])//bin_interval)] += 1\n",
    "        velocity_bin[int((expected_step_GBenergy_list_exrandom[index]-x_lim[0])//bin_interval)] += expected_step_velocity_list_exrandom[index]\n",
    "        if expected_step_velocity_list_exrandom[index] < 0: antic_num_bin[int((expected_step_GBenergy_list_exrandom[index]-x_lim[0])//bin_interval)] += 1\n",
    "        if int((expected_step_GBenergy_list_exrandom[index]-x_lim[0])//bin_interval)<0: print(expected_step_GBenergy_list_exrandom[index])\n",
    "    for i in range(bin_number): \n",
    "        if GBenergy_bin[i]>0: velocity_bin[i] = velocity_bin[i]/GBenergy_bin[i]\n",
    "    # plot\n",
    "    figure_name_all_bin = f\"figures/2D_velocity_GBenergy_{case_name}_5d_afterBin_grain{expected_grain_num}.png\"\n",
    "    plt.figure()\n",
    "    fig = plt.figure(figsize=(7, 7))\n",
    "    # plt.scatter(GBenergy_coordinate, velocity_bin,s=4,alpha=0.5)\n",
    "    plt.xlim([0.3,1.0])\n",
    "    plt.ylim([-0.2,0.2])\n",
    "    plt.plot(GBenergy_coordinate[velocity_bin!=0], velocity_bin[velocity_bin!=0],'o', linewidth=2)\n",
    "    plt.xlabel(\"GB energy\", fontsize=18)\n",
    "    plt.ylabel(\"velocity (voxel/step)\", fontsize=18)\n",
    "    plt.savefig(figure_name_all_bin, dpi=400,bbox_inches='tight')\n",
    "\n",
    "    plt.figure()\n",
    "    fig = plt.figure(figsize=(7, 7))\n",
    "    plt.xlim([0.3,1.0])\n",
    "    plt.ylim([0,0.3])\n",
    "    plt.plot(GBenergy_coordinate, GBenergy_bin/np.sum(GBenergy_bin),'-', linewidth=2)\n",
    "    plt.xlabel(\"GB energy\", fontsize=18)\n",
    "    plt.ylabel(\"distribution\", fontsize=18)\n",
    "\n",
    "    antic_ratio_bin = np.zeros(bin_number)\n",
    "    for bin_i in range(len(GBenergy_bin)):\n",
    "        if GBenergy_bin[bin_i] > 0: antic_ratio_bin[bin_i] = antic_num_bin[bin_i]/GBenergy_bin[bin_i]\n",
    "    plt.figure()\n",
    "    fig = plt.figure(figsize=(7, 7))\n",
    "    plt.xlim([0.3,1.0])\n",
    "    plt.ylim([0,1.5])\n",
    "    plt.plot(GBenergy_coordinate[antic_ratio_bin>0], antic_ratio_bin[antic_ratio_bin>0],'o', linewidth=2)\n",
    "    plt.xlabel(\"GB energy\", fontsize=18)\n",
    "    plt.ylabel(\"anti-c fraction\", fontsize=18)\n",
    "\n",
    "    anti_c_data_file_name = f\"data/2D_antic_data_{case_name}_grain{expected_grain_num}\"\n",
    "    np.savez(anti_c_data_file_name,antic_ratio_bin=antic_ratio_bin,GBenergy_bin=GBenergy_bin)\n",
    "\n"
   ]
  },
  {
   "cell_type": "code",
   "execution_count": null,
   "id": "ae445608-f2f7-48ad-9190-a9f112608900",
   "metadata": {},
   "outputs": [],
   "source": []
  },
  {
   "cell_type": "code",
   "execution_count": null,
   "id": "4bb80fb6-c8cf-4c92-b846-5ac2ada48165",
   "metadata": {},
   "outputs": [],
   "source": [
    "    # Plot relationship for each time steps\n",
    "    for time_step in range(0,len(GB_list_velocity_list),10):\n",
    "        figure_name = f\"figures/3D_velocity_signedcurvature_MI_step{time_step}_{case_name}.png\"\n",
    "        plt.figure()\n",
    "        fig = plt.figure(figsize=(7, 7))\n",
    "        plt.scatter(GB_list_curvature_list[time_step], GB_list_velocity_list[time_step],s=4,alpha=0.5)\n",
    "        plt.xlabel(\"curvature\", fontsize=18)\n",
    "        plt.ylabel(\"velocity (voxel/step)\", fontsize=18)\n",
    "        plt.xlim([-0.6,0.6])\n",
    "        plt.ylim([-10,10])\n",
    "        # plt.savefig(figure_name, dpi=400,bbox_inches='tight')\n",
    "        \n",
    "        # plot velocity VS averaged curvature\n",
    "        bin_interval = 0.001\n",
    "        x_lim = [0.0,0.1]\n",
    "        bin_number = int((x_lim[1]-x_lim[0])/bin_interval)\n",
    "        curvature_coordinate = np.arange(x_lim[0],x_lim[1],bin_interval)+bin_interval/2\n",
    "\n",
    "        curvature_bin = np.zeros(bin_number)\n",
    "        velocity_bin = np.zeros(bin_number)\n",
    "        for index in range(len(GB_list_curvature_list[time_step])):\n",
    "            if abs(GB_list_curvature_list[time_step][index])>x_lim[1]: continue\n",
    "            curvature_bin[int((GB_list_curvature_list[time_step][index]-x_lim[0])//bin_interval)] += 1\n",
    "            velocity_bin[int((GB_list_curvature_list[time_step][index]-x_lim[0])//bin_interval)] += GB_list_velocity_list[time_step][index]\n",
    "        for i in range(bin_number): \n",
    "            if curvature_bin[i]>0: velocity_bin[i] = velocity_bin[i]/curvature_bin[i]\n",
    "        # plot\n",
    "        figure_name_all_bin = f\"figures/3D_velocity_signedcurvature_step{time_step}_{case_name}_afterBin.png\"\n",
    "        plt.figure()\n",
    "        fig = plt.figure(figsize=(7, 7))\n",
    "        # plt.scatter(curvature_coordinate, velocity_bin,s=4,alpha=0.5)\n",
    "        plt.plot(curvature_coordinate, velocity_bin,'o', linewidth=2)\n",
    "        plt.xlabel(\"curvature\", fontsize=18)\n",
    "        plt.ylabel(\"velocity (voxel/step)\", fontsize=18)\n",
    "        plt.xlim([-0.6,0.6])\n",
    "        plt.ylim([-5,5])\n",
    "        # plt.savefig(figure_name_all_bin, dpi=400,bbox_inches='tight')"
   ]
  },
  {
   "cell_type": "code",
   "execution_count": null,
   "id": "f6ac1373-cac0-435c-bc23-f9c1aa0ef8eb",
   "metadata": {},
   "outputs": [],
   "source": []
  },
  {
   "cell_type": "code",
   "execution_count": null,
   "id": "7ab679ee-41d7-47d6-8d75-847eeab7fe6b",
   "metadata": {},
   "outputs": [],
   "source": []
  },
  {
   "cell_type": "code",
   "execution_count": null,
   "id": "1c863c6b-9fd9-45b7-b4ca-b9188479c80d",
   "metadata": {},
   "outputs": [],
   "source": []
  },
  {
   "cell_type": "code",
   "execution_count": null,
   "id": "6aa1a164-84e3-47ae-a192-fd7d956f6a2e",
   "metadata": {},
   "outputs": [],
   "source": []
  },
  {
   "cell_type": "code",
   "execution_count": null,
   "id": "718362f0-b4ce-4839-afff-c0a4992d4187",
   "metadata": {
    "tags": []
   },
   "outputs": [],
   "source": []
  },
  {
   "cell_type": "code",
   "execution_count": null,
   "id": "7f5ceda3-c17c-45ae-ad05-9aaab0112017",
   "metadata": {
    "tags": []
   },
   "outputs": [],
   "source": []
  },
  {
   "cell_type": "code",
   "execution_count": null,
   "id": "7e609b22-de14-4273-867b-60249af30047",
   "metadata": {},
   "outputs": [],
   "source": []
  },
  {
   "cell_type": "code",
   "execution_count": null,
   "id": "96aaa591-4902-4adc-bee7-240d3ade3fef",
   "metadata": {
    "tags": []
   },
   "outputs": [],
   "source": []
  },
  {
   "cell_type": "code",
   "execution_count": null,
   "id": "2501136d-68e1-40d1-b2b9-f783e9c8309e",
   "metadata": {},
   "outputs": [],
   "source": []
  },
  {
   "cell_type": "code",
   "execution_count": null,
   "id": "21b813f5-daa4-484e-a6c2-418239a0ccf4",
   "metadata": {},
   "outputs": [],
   "source": []
  },
  {
   "cell_type": "code",
   "execution_count": null,
   "id": "47e6a561-4483-49d8-8ddd-f78e643a2ae1",
   "metadata": {},
   "outputs": [],
   "source": []
  },
  {
   "cell_type": "markdown",
   "id": "bba82fb0-9f73-48dc-8a89-0bbd9316c7a0",
   "metadata": {},
   "source": []
  },
  {
   "cell_type": "code",
   "execution_count": 25,
   "id": "b6f0d347-fb1b-4010-a68f-cc171486d9c8",
   "metadata": {},
   "outputs": [],
   "source": []
  },
  {
   "cell_type": "code",
   "execution_count": 24,
   "id": "63a608d4-8807-4dfc-b364-4f0e17d354de",
   "metadata": {
    "tags": []
   },
   "outputs": [],
   "source": []
  },
  {
   "cell_type": "code",
   "execution_count": null,
   "id": "c39770d2-4fd3-4661-b53b-b52437e4dacd",
   "metadata": {
    "tags": []
   },
   "outputs": [],
   "source": []
  },
  {
   "cell_type": "code",
   "execution_count": null,
   "id": "0ef2391b-b155-42c1-b668-22cedf0227ce",
   "metadata": {
    "tags": []
   },
   "outputs": [],
   "source": []
  },
  {
   "cell_type": "code",
   "execution_count": null,
   "id": "8685c367-edac-427c-a027-acbf536ae4a0",
   "metadata": {
    "tags": []
   },
   "outputs": [],
   "source": []
  },
  {
   "cell_type": "code",
   "execution_count": null,
   "id": "f8c6a201-3ce1-40ff-a227-fc129528b8a3",
   "metadata": {
    "tags": []
   },
   "outputs": [],
   "source": []
  },
  {
   "cell_type": "code",
   "execution_count": null,
   "id": "b508666b-2912-4561-b1de-3aaf4631a472",
   "metadata": {
    "tags": []
   },
   "outputs": [],
   "source": []
  },
  {
   "cell_type": "code",
   "execution_count": 50,
   "id": "11b10ead-c344-4335-b3f6-a9fd2aaea54d",
   "metadata": {},
   "outputs": [],
   "source": []
  },
  {
   "cell_type": "code",
   "execution_count": 51,
   "id": "de699200-8f67-45dc-ad6e-02b0aa8101d5",
   "metadata": {},
   "outputs": [],
   "source": []
  },
  {
   "cell_type": "code",
   "execution_count": 52,
   "id": "4212a4ef-e7ad-4490-b5dc-48195c9defc7",
   "metadata": {},
   "outputs": [],
   "source": []
  },
  {
   "cell_type": "code",
   "execution_count": null,
   "id": "e625f572-387b-4aba-a3ed-f91e307f407a",
   "metadata": {
    "tags": []
   },
   "outputs": [],
   "source": []
  },
  {
   "cell_type": "code",
   "execution_count": null,
   "id": "e018ea3f-1eaa-4306-b2e8-ba4cd4a338f3",
   "metadata": {
    "tags": []
   },
   "outputs": [],
   "source": []
  },
  {
   "cell_type": "code",
   "execution_count": null,
   "id": "507f29ba-42b1-4b69-933a-ca317668c164",
   "metadata": {
    "tags": []
   },
   "outputs": [],
   "source": []
  },
  {
   "cell_type": "code",
   "execution_count": 248,
   "id": "ce9edf05-842a-467b-9e55-8ce1d1fde9ed",
   "metadata": {
    "tags": []
   },
   "outputs": [],
   "source": []
  },
  {
   "cell_type": "code",
   "execution_count": null,
   "id": "202e892d-2149-4fd4-ac47-878df34fda4b",
   "metadata": {},
   "outputs": [],
   "source": []
  }
 ],
 "metadata": {
  "kernelspec": {
   "display_name": "UFRC Python-3.8",
   "language": "python",
   "name": "python3-3.8-ufrc"
  },
  "language_info": {
   "codemirror_mode": {
    "name": "ipython",
    "version": 3
   },
   "file_extension": ".py",
   "mimetype": "text/x-python",
   "name": "python",
   "nbconvert_exporter": "python",
   "pygments_lexer": "ipython3",
   "version": "3.8.15"
  }
 },
 "nbformat": 4,
 "nbformat_minor": 5
}
