{
 "cells": [
  {
   "cell_type": "code",
   "execution_count": 2,
   "id": "18d280c4-3f4b-4b7c-a6eb-93cd60eb67f8",
   "metadata": {
    "tags": []
   },
   "outputs": [],
   "source": [
    "#!/usr/bin/env python3\n",
    "# -*- coding: utf-8 -*-\n",
    "\"\"\"\n",
    "Created on Mon Jul 31 14:33:57 2023\n",
    "\n",
    "@author: Lin\n",
    "\"\"\"\n",
    "\n",
    "import os\n",
    "current_path = os.getcwd()\n",
    "import numpy as np\n",
    "from numpy import seterr\n",
    "seterr(all='raise')\n",
    "import matplotlib.pyplot as plt\n",
    "import math\n",
    "from tqdm import tqdm\n",
    "import sys\n",
    "sys.path.append(current_path)\n",
    "sys.path.append(current_path+'/../../')\n",
    "import myInput\n",
    "import PACKAGE_MP_Linear as linear2d\n",
    "sys.path.append(current_path+'/../calculate_tangent/')\n"
   ]
  },
  {
   "cell_type": "code",
   "execution_count": 32,
   "id": "af5f76a0-e7d5-4053-9115-6b7bca92f7f3",
   "metadata": {
    "tags": []
   },
   "outputs": [],
   "source": [
    "def find_fittingEllipse3(array): #failure\n",
    "\n",
    "    # Get the self-variable\n",
    "    X = array[:,0]\n",
    "    Y = array[:,1]\n",
    "    X=X[:,None]\n",
    "    Y=Y[:,None]\n",
    "\n",
    "    K_mat = np.hstack([X**2, X*Y, Y**2, X, Y])\n",
    "    Y_mat = np.ones_like(X)\n",
    "\n",
    "    # K_matT = K_mat.transpose()\n",
    "    # K_matTK_mat = np.dot(K_matT,K_mat)\n",
    "    # InvK_matTK_mat=np.linalg.inv(K_matTK_mat);\n",
    "    # X_mat = np.dot(InvK_matTK_mat, np.dot(K_matT,K))\n",
    "    X_mat = np.linalg.lstsq(K_mat, Y_mat)[0].squeeze()\n",
    "    # X_mat = (K_mat.T*K_mat).I * K_mat.T * Y_mat\n",
    "\n",
    "    print('The ellipse is given by {0:.3}x^2 + {1:.3}xy+{2:.3}y^2+{3:.3}x+{4:.3}y = 1'.format(X_mat[0], X_mat[1], X_mat[2], X_mat[3], X_mat[4]))\n",
    "    print(X_mat)\n",
    "\n",
    "    return X_mat\n",
    "\n",
    "from numpy.linalg import eig, inv\n",
    "def polyToParams(v,printMe):\n",
    "\n",
    "   # convert the polynomial form of the ellipse to parameters\n",
    "   # center, axes, and tilt\n",
    "   # v is the vector whose elements are the polynomial\n",
    "   # coefficients A..F\n",
    "   # returns (center, axes, tilt degrees, rotation matrix)\n",
    "\n",
    "   #Algebraic form: X.T * Amat * X --> polynomial form\n",
    "\n",
    "   Amat = np.array(\n",
    "   [\n",
    "   [v[0],     v[1]/2.0, v[3]/2.0],\n",
    "   [v[1]/2.0, v[2],     v[4]/2.0],\n",
    "   [v[3]/2.0, v[4]/2.0, v[5]    ]\n",
    "   ])\n",
    "\n",
    "   if printMe: print('\\nAlgebraic form of polynomial\\n',Amat)\n",
    "\n",
    "   #See B.Bartoni, Preprint SMU-HEP-10-14 Multi-dimensional Ellipsoidal Fitting\n",
    "   # equation 20 for the following method for finding the center\n",
    "   A2=Amat[0:2,0:2]\n",
    "   A2Inv=inv(A2)\n",
    "   ofs=v[3:5]/2.0\n",
    "   cc = -np.dot(A2Inv,ofs)\n",
    "   if printMe: print('\\nCenter at:',cc)\n",
    "\n",
    "   # Center the ellipse at the origin\n",
    "   Tofs=np.eye(3)\n",
    "   Tofs[2,0:2]=cc\n",
    "   R = np.dot(Tofs,np.dot(Amat,Tofs.T))\n",
    "   if printMe: print('\\nAlgebraic form translated to center\\n',R,'\\n')\n",
    "\n",
    "   R2=R[0:2,0:2]\n",
    "   s1=-R[2, 2]\n",
    "   RS=R2/s1\n",
    "   (el,ec)=eig(RS)\n",
    "\n",
    "   recip=1.0/np.abs(el)\n",
    "   axes=np.sqrt(recip)\n",
    "   if printMe: print('\\nAxes are\\n',axes  ,'\\n')\n",
    "\n",
    "   rads=np.arctan2(ec[1,0],ec[0,0])\n",
    "   deg=np.degrees(rads) #convert radians to degrees (r2d=180.0/np.pi)\n",
    "   if printMe: print('Rotation is ',deg,'\\n')\n",
    "\n",
    "   inve=inv(ec) #inverse is actually the transpose here\n",
    "   if printMe: print('\\nRotation matrix\\n',inve)\n",
    "   return (cc[0],cc[1],axes[0],axes[1],deg,inve)"
   ]
  },
  {
   "cell_type": "code",
   "execution_count": 38,
   "id": "757b87ea-9be8-41e8-883e-a7b524cca722",
   "metadata": {
    "tags": []
   },
   "outputs": [
    {
     "name": "stdout",
     "output_type": "stream",
     "text": [
      "The ellipse is given by 1.0x^2 + 2.0xy+1.0y^2+6.66e-16x+2.22e-16y = 1\n",
      "[1.00000000e+00 2.00000000e+00 1.00000000e+00 6.66133815e-16\n",
      " 2.22044605e-16]\n",
      "aspect ratio: 2.5809568279517857e-08\n",
      "\n",
      "Algebraic form of polynomial\n",
      " [[ 1.00000000e+00  1.00000000e+00  3.33066907e-16]\n",
      " [ 1.00000000e+00  1.00000000e+00  1.11022302e-16]\n",
      " [ 3.33066907e-16  1.11022302e-16 -1.00000000e+00]]\n",
      "\n",
      "Center at: [-0.08333333  0.08333333]\n",
      "\n",
      "Algebraic form translated to center\n",
      " [[ 1.00000000e+00  1.00000000e+00  4.62592927e-18]\n",
      " [ 1.00000000e+00  1.00000000e+00  1.38777878e-17]\n",
      " [ 4.62592927e-18  1.38777878e-17 -1.00000000e+00]] \n",
      "\n",
      "\n",
      "Axes are\n",
      " [2.63222621e+07 7.07106781e-01] \n",
      "\n",
      "Rotation is  135.0 \n",
      "\n",
      "\n",
      "Rotation matrix\n",
      " [[-0.70710678  0.70710678]\n",
      " [-0.70710678 -0.70710678]]\n"
     ]
    },
    {
     "name": "stderr",
     "output_type": "stream",
     "text": [
      "/scratch/local/26947664/ipykernel_8241/934158088.py:16: FutureWarning: `rcond` parameter will change to the default of machine precision times ``max(M, N)`` where M and N are the input matrix dimensions.\n",
      "To use the future default and silence this warning we advise to pass `rcond=None`, to keep using the old, explicitly pass `rcond=-1`.\n",
      "  X_mat = np.linalg.lstsq(K_mat, Y_mat)[0].squeeze()\n"
     ]
    },
    {
     "data": {
      "text/plain": [
       "(-0.0833333333333334,\n",
       " 0.08333333333333318,\n",
       " 26322262.08238803,\n",
       " 0.7071067811865478,\n",
       " 135.0,\n",
       " array([[-0.70710678,  0.70710678],\n",
       "        [-0.70710678, -0.70710678]]))"
      ]
     },
     "execution_count": 38,
     "metadata": {},
     "output_type": "execute_result"
    }
   ],
   "source": []
  },
  {
   "cell_type": "code",
   "execution_count": 37,
   "id": "ba7a840a-408d-4cbb-92d3-6a98bc376431",
   "metadata": {
    "tags": []
   },
   "outputs": [
    {
     "data": {
      "text/plain": [
       "array([ 1.00000000e+00,  2.00000000e+00,  1.00000000e+00,  6.66133815e-16,\n",
       "        2.22044605e-16, -1.00000000e+00])"
      ]
     },
     "execution_count": 37,
     "metadata": {},
     "output_type": "execute_result"
    }
   ],
   "source": [
    "np.append(X_mat,-1)"
   ]
  },
  {
   "cell_type": "code",
   "execution_count": 3,
   "id": "f849e3ff-07e7-47f0-a305-cdd2e3bff02e",
   "metadata": {
    "tags": []
   },
   "outputs": [],
   "source": []
  },
  {
   "cell_type": "code",
   "execution_count": 42,
   "id": "00b38e37-721d-43f0-90c3-994eab35cc76",
   "metadata": {
    "tags": []
   },
   "outputs": [
    {
     "name": "stdout",
     "output_type": "stream",
     "text": [
      "((0.6076068878173828, 0.6538649201393127), (0.40415069460868835, 1.0959283113479614), 53.571189880371094)\n",
      "aspect ratio: 0.36877475508557145\n"
     ]
    }
   ],
   "source": [
    "# Generate some sample 2D points\n",
    "points = np.random.rand(5, 2)\n",
    "points = points.astype(np.float32)\n",
    "\n",
    "import cv2\n",
    "# Fit ellipse to the points\n",
    "ellipse = cv2.fitEllipse(points)\n",
    "print(ellipse)\n",
    "print(f\"aspect ratio: {ellipse[1][0]/ellipse[1][1]}\")\n"
   ]
  },
  {
   "cell_type": "code",
   "execution_count": null,
   "id": "06a5a345-a305-484e-bac5-0bb700886f6c",
   "metadata": {
    "tags": []
   },
   "outputs": [],
   "source": []
  },
  {
   "cell_type": "code",
   "execution_count": null,
   "id": "1cad101a-a9bc-436e-9e9a-57760e6efefb",
   "metadata": {},
   "outputs": [],
   "source": []
  }
 ],
 "metadata": {
  "kernelspec": {
   "display_name": "UFRC Python-3.8",
   "language": "python",
   "name": "python3-3.8-ufrc"
  },
  "language_info": {
   "codemirror_mode": {
    "name": "ipython",
    "version": 3
   },
   "file_extension": ".py",
   "mimetype": "text/x-python",
   "name": "python",
   "nbconvert_exporter": "python",
   "pygments_lexer": "ipython3",
   "version": "3.8.15"
  }
 },
 "nbformat": 4,
 "nbformat_minor": 5
}
