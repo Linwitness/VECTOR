{
 "cells": [
  {
   "cell_type": "code",
   "execution_count": 1,
   "id": "4b195c7c-3d58-4d9f-b559-8e34a5e9789a",
   "metadata": {
    "tags": []
   },
   "outputs": [
    {
     "data": {
      "text/plain": [
       "<module 'PACKAGE_MP_Linear' from '/home/lin.yang/projects/VECTOR/examples/GB_velocity/../../PACKAGE_MP_Linear.py'>"
      ]
     },
     "execution_count": 1,
     "metadata": {},
     "output_type": "execute_result"
    }
   ],
   "source": [
    "import os\n",
    "current_path = os.getcwd()\n",
    "import numpy as np\n",
    "from numpy import seterr\n",
    "seterr(all='raise')\n",
    "import matplotlib.pyplot as plt\n",
    "import math\n",
    "import random\n",
    "from tqdm import tqdm\n",
    "import sys\n",
    "sys.path.append(current_path)\n",
    "sys.path.append(current_path+'/../../')\n",
    "import myInput\n",
    "import PACKAGE_MP_Linear as linear2d\n",
    "import post_processing\n",
    "import PACKAGE_MP_3DLinear as Linear_3D\n",
    "import PACKAGE_MP_3DVertex as Vertex_3D\n",
    "sys.path.append(current_path+'/../calculate_tangent/')\n",
    "\n",
    "import importlib\n",
    "importlib.reload(post_processing)\n",
    "importlib.reload(Linear_3D)\n",
    "importlib.reload(linear2d)\n",
    "\n"
   ]
  },
  {
   "cell_type": "code",
   "execution_count": 2,
   "id": "fcb7ac33-912b-4634-8822-c41d1c32bd8b",
   "metadata": {
    "tags": []
   },
   "outputs": [
    {
     "name": "stdout",
     "output_type": "stream",
     "text": [
      "The M_264_5k data size is: (51, 264, 264, 264)\n",
      "READING DATA DONE\n",
      "The M_264_5k energy data size is: (51, 264, 264, 264)\n",
      "READING ENERGY DATA DONE\n"
     ]
    }
   ],
   "source": [
    "if __name__ == '__main__':\n",
    "    # File name\n",
    "    data_file_folder = \"/blue/michael.tonks/lin.yang/VECTOR_data/\"\n",
    "    npy_file_folder = \"/blue/michael.tonks/lin.yang/SPPARKS-VirtualIncEnergy/3d_poly_fully/results/\"\n",
    "    case_name = \"M_264_5k\"\n",
    "    npy_file_name_aniso = f\"p_ori_fully5d_fzab_aveE_f1.0_t0.0_264_5k_multiCore64_J1_refer_1_0_0_seed56689_kt1.95.npy\"\n",
    "    npy_file_name_aniso_energy = f\"p_ori_fully5d_fzab_aveE_f1.0_t0.0_264_5k_multiCore64_J1_refer_1_0_0_seed56689_kt1.95_energy.npy\"\n",
    "    \n",
    "    # Initial data\n",
    "    npy_file_aniso = np.load(npy_file_folder + npy_file_name_aniso)\n",
    "    npy_file_aniso = npy_file_aniso.astype(int)\n",
    "    print(f\"The {case_name} data size is: {npy_file_aniso.shape}\")\n",
    "    print(\"READING DATA DONE\")\n",
    "    npy_file_aniso_energy = np.load(npy_file_folder + npy_file_name_aniso_energy) # energy\n",
    "    print(f\"The {case_name} energy data size is: {npy_file_aniso_energy.shape}\")\n",
    "    print(\"READING ENERGY DATA DONE\")\n",
    "    step_num, size_x, size_y, size_z = npy_file_aniso.shape"
   ]
  },
  {
   "cell_type": "code",
   "execution_count": 3,
   "id": "0be80f39-f248-4153-b7e0-535c9544ad3b",
   "metadata": {
    "tags": []
   },
   "outputs": [
    {
     "name": "stderr",
     "output_type": "stream",
     "text": [
      "100%|██████████| 51/51 [00:00<00:00, 134.72it/s]\n"
     ]
    }
   ],
   "source": [
    "    # YOU should remove the very small GB due to the less impact on curvature study\n",
    "    # YOU should use different accuracy algorithm on voxels around the TJs.\n",
    "    # A potential error: some small spherical GB are generated around large GB with same GB id\n",
    "    \n",
    "    \n",
    "    step_num=51\n",
    "    grain_nums = 5000\n",
    "    GB_infomation_dict_list = []\n",
    "    curvature_matrix_list = []\n",
    "    for time_step in tqdm(range(step_num)):\n",
    "        data_file_name = f\"GB_velocity_data/signedcurvature_velocity_data_{case_name}_step{time_step}.npz\"\n",
    "        data_curvature_file_name = f\"GB_velocity_data/matrix_signedcurvature_data_{case_name}_step{time_step}.npz\"\n",
    "        if os.path.exists(data_file_folder + data_file_name):\n",
    "            npz_file = np.load(data_file_folder + data_file_name,allow_pickle=True)\n",
    "            GB_infomation_dict = npz_file[\"GB_infomation_dict\"]\n",
    "            GB_infomation_dict_list.append(GB_infomation_dict.item())\n",
    "        else:\n",
    "            current_microstructure = npy_file_aniso[time_step]\n",
    "            # get curvature\n",
    "            if os.path.exists(data_file_folder + data_curvature_file_name):\n",
    "                npz_file_curvature = np.load(data_file_folder + data_curvature_file_name,allow_pickle=True)\n",
    "                curvature_matrix = npz_file_curvature[\"curvature_matrix\"]\n",
    "                curvature_matrix_list.append(curvature_matrix.item())\n",
    "            else:\n",
    "                # cores = 128\n",
    "                # loop_times = 5\n",
    "                # R = np.zeros((size_x,size_y,size_z,4))\n",
    "                # smoothing_class = Linear_3D.linear3d_class(size_x,size_y,size_z,grain_nums,cores,loop_times,current_microstructure,R,'p',verification_system = False,curvature_sign = True)\n",
    "                # smoothing_class.linear3d_main(\"curvature\")\n",
    "                # C_ln = smoothing_class.get_C()\n",
    "                # curvature_matrix = C_ln[1,:]\n",
    "                # curvature_matrix_list.append(curvature_matrix)\n",
    "                curvature_matrix = post_processing.IO_curvature(current_microstructure)\n",
    "                # save curvature information\n",
    "                np.savez(data_file_folder + data_curvature_file_name, curvature_matrix=curvature_matrix)\n",
    "            print(\"Finish curvature calculation\")\n",
    "            \n",
    "            # # Get TJ and QJ information first\n",
    "            # TJ_infomation_dict = dict()\n",
    "            # for index, result in np.ndenumerate(current_microstructure):\n",
    "            #     i,j,k = index\n",
    "            #     ip,im,jp,jm,kp,km = myInput.periodic_bc3d(size_x,size_y,size_z,i,j,k)\n",
    "            #     if ( ((current_microstructure[ip,j,k]-current_microstructure[i,j,k])!=0) or ((current_microstructure[im,j,k]-current_microstructure[i,j,k])!=0) or\\\n",
    "            #          ((current_microstructure[i,jp,k]-current_microstructure[i,j,k])!=0) or ((current_microstructure[i,jm,k]-current_microstructure[i,j,k])!=0) or\\\n",
    "            #          ((current_microstructure[i,j,kp]-current_microstructure[i,j,k])!=0) or ((current_microstructure[i,j,km]-current_microstructure[i,j,k])!=0) ):\n",
    "            #         central_site = int(current_microstructure[i,j,k])\n",
    "            #         neighboring_sites_list = np.array([current_microstructure[ip,j,k], current_microstructure[i,jp,k], current_microstructure[i,j,kp], current_microstructure[im,j,k], current_microstructure[i,jm,k], current_microstructure[i,j,km]]).astype(int)\n",
    "            #         neighboring_sites_set = set(neighboring_sites_list) # Get all unique neighboring sites\n",
    "            #         if central_site in neighboring_sites_set: neighboring_sites_set.remove(central_site) # remove central site\n",
    "            #         neighboring_sites_list_unque = list(neighboring_sites_set)\n",
    "            #         # remove the TJs and QJs\n",
    "            #         if len(neighboring_sites_list_unque) > 1: \n",
    "            #             for m in range(len(neighboring_sites_list_unque)):\n",
    "            #                 pair_id = post_processing.get_line(central_site, neighboring_sites_list_unque[m]) # get pair id\n",
    "            #                 if pair_id in TJ_infomation_dict:\n",
    "            #                     tmp = TJ_infomation_dict[pair_id]\n",
    "            #                     tmp.append([i,j,k])\n",
    "            #                     TJ_infomation_dict[pair_id] = tmp\n",
    "            #                 else: \n",
    "            #                     TJ_infomation_dict[pair_id] = [[i,j,k]]\n",
    "            # print(\"Finish TJ extraction\")\n",
    "            \n",
    "            # Get the center of each GB\n",
    "            GB_infomation_dict = dict()\n",
    "            TJ_distance_max = 1 # voxels\n",
    "            for index, result in np.ndenumerate(current_microstructure):\n",
    "                i,j,k = index\n",
    "                ip,im,jp,jm,kp,km = myInput.periodic_bc3d(size_x,size_y,size_z,i,j,k)\n",
    "                if ( ((current_microstructure[ip,j,k]-current_microstructure[i,j,k])!=0) or ((current_microstructure[im,j,k]-current_microstructure[i,j,k])!=0) or\\\n",
    "                     ((current_microstructure[i,jp,k]-current_microstructure[i,j,k])!=0) or ((current_microstructure[i,jm,k]-current_microstructure[i,j,k])!=0) or\\\n",
    "                     ((current_microstructure[i,j,kp]-current_microstructure[i,j,k])!=0) or ((current_microstructure[i,j,km]-current_microstructure[i,j,k])!=0) ):\n",
    "                    central_site = int(current_microstructure[i,j,k])\n",
    "                    neighboring_sites_list = np.array([current_microstructure[ip,j,k], current_microstructure[i,jp,k], current_microstructure[i,j,kp], current_microstructure[im,j,k], current_microstructure[i,jm,k], current_microstructure[i,j,km]]).astype(int)\n",
    "                    neighboring_sites_set = set(neighboring_sites_list) # Get all unique neighboring sites\n",
    "                    if central_site in neighboring_sites_set: neighboring_sites_set.remove(central_site) # remove central site\n",
    "                    neighboring_sites_list_unque = list(neighboring_sites_set)\n",
    "                    # remove the TJs and QJs\n",
    "                    if len(neighboring_sites_list_unque) > 1: continue # only remove TJs and QJs\n",
    "                    pair_id = post_processing.get_line(central_site, neighboring_sites_list_unque[0]) # get pair id\n",
    "                    if central_site<neighboring_sites_list_unque[0]: pair_id_pair = [central_site, neighboring_sites_list_unque[0]]\n",
    "                    else: pair_id_pair = [neighboring_sites_list_unque[0], central_site]\n",
    "                    if pair_id in GB_infomation_dict:\n",
    "                        GB_infomation_dict[pair_id][5] += 1 # GB area\n",
    "                        GB_infomation_dict[pair_id][0] += 1 # GB area\n",
    "                    else:\n",
    "                        GB_infomation = np.array([1,0,0,0,0.0,1,pair_id_pair[0],pair_id_pair[1]]) # GBnum-curvature,i,j,k,curvature,GBnum,gid0,gid1\n",
    "                        GB_infomation_dict[pair_id] = GB_infomation\n",
    "                    # # CONTINUE...    # remove the voxels around TJs and QJs\n",
    "                    # # check the GB voxels is close to TJ or not\n",
    "                    # break_point = 0\n",
    "                    # if pair_id in TJ_infomation_dict:\n",
    "                    #     for TJ_site in TJ_infomation_dict[pair_id]:\n",
    "                    #         TJ_distance = np.linalg.norm(index-np.array(TJ_site))\n",
    "                    #         if TJ_distance < TJ_distance_max: \n",
    "                    #             break_point = 1\n",
    "                    #             break\n",
    "                    # if break_point == 1: continue\n",
    "                    \n",
    "                    # calculate or extract curvature\n",
    "                    if pair_id not in curvature_matrix: continue\n",
    "                    GB_infomation_dict[pair_id][1:5] += np.array([i,j,k,curvature_matrix[pair_id][3]])\n",
    "            # get the correct location for each GB\n",
    "            small_GB_list = []\n",
    "            for key in GB_infomation_dict: \n",
    "                if GB_infomation_dict[key][0] == 0: \n",
    "                    small_GB_list.append(key) # remove the small GB with 0 voxels after remove voxels close to TJs\n",
    "            for s_index in range(len(small_GB_list)): GB_infomation_dict.pop(small_GB_list[s_index])\n",
    "            for key in GB_infomation_dict: \n",
    "                GB_infomation_dict[key][1:5]=GB_infomation_dict[key][1:5]/GB_infomation_dict[key][0]\n",
    "            print(f\"Current GBs len at {time_step} steps: {len(GB_infomation_dict)}\")\n",
    "            # save information\n",
    "            np.savez(data_file_folder + data_file_name, GB_infomation_dict=GB_infomation_dict)\n",
    "            GB_infomation_dict_list.append(GB_infomation_dict)\n",
    "            \n",
    "            \n",
    "            "
   ]
  },
  {
   "cell_type": "code",
   "execution_count": null,
   "id": "f25e6ff9-d365-4bdf-9cd8-3c5227ab8286",
   "metadata": {},
   "outputs": [],
   "source": []
  },
  {
   "cell_type": "code",
   "execution_count": 4,
   "id": "127df95e-c650-41f9-bc2c-ddcea1cc0f55",
   "metadata": {},
   "outputs": [
    {
     "name": "stderr",
     "output_type": "stream",
     "text": [
      "100%|██████████| 51/51 [00:00<00:00, 139.37it/s]\n"
     ]
    }
   ],
   "source": [
    "    # GB Energy information\n",
    "    step_num=51\n",
    "    grain_nums = 5000\n",
    "    GBenergy_information_dict_list = []\n",
    "    for time_step in tqdm(range(step_num)):\n",
    "        data_file_name_GBenergy = f\"GB_velocity_data/3D_GBenergy_velocity_data_{case_name}_step{time_step}.npz\"\n",
    "        if os.path.exists(data_file_folder + data_file_name_GBenergy):\n",
    "            npz_file = np.load(data_file_folder + data_file_name_GBenergy,allow_pickle=True)\n",
    "            GBenergy_information_dict = npz_file[\"GBenergy_information_dict\"]\n",
    "            GBenergy_information_dict_list.append(GBenergy_information_dict.item())\n",
    "        else:\n",
    "            current_microstructure = npy_file_aniso[time_step]\n",
    "            current_energy = npy_file_aniso_energy[time_step]\n",
    "\n",
    "            # # Get TJ and QJ information first\n",
    "            # TJ_infomation_dict = dict()\n",
    "            # for index, result in np.ndenumerate(current_microstructure):\n",
    "            #     i,j,k = index\n",
    "            #     ip,im,jp,jm,kp,km = myInput.periodic_bc3d(size_x,size_y,size_z,i,j,k)\n",
    "            #     if ( ((current_microstructure[ip,j,k]-current_microstructure[i,j,k])!=0) or ((current_microstructure[im,j,k]-current_microstructure[i,j,k])!=0) or\\\n",
    "            #          ((current_microstructure[i,jp,k]-current_microstructure[i,j,k])!=0) or ((current_microstructure[i,jm,k]-current_microstructure[i,j,k])!=0) or\\\n",
    "            #          ((current_microstructure[i,j,kp]-current_microstructure[i,j,k])!=0) or ((current_microstructure[i,j,km]-current_microstructure[i,j,k])!=0) ):\n",
    "            #         central_site = int(current_microstructure[i,j,k])\n",
    "            #         neighboring_sites_list = np.array([current_microstructure[ip,j,k], current_microstructure[i,jp,k], current_microstructure[i,j,kp], current_microstructure[im,j,k], current_microstructure[i,jm,k], current_microstructure[i,j,km]]).astype(int)\n",
    "            #         neighboring_sites_set = set(neighboring_sites_list) # Get all unique neighboring sites\n",
    "            #         if central_site in neighboring_sites_set: neighboring_sites_set.remove(central_site) # remove central site\n",
    "            #         neighboring_sites_list_unque = list(neighboring_sites_set)\n",
    "            #         # remove the TJs and QJs\n",
    "            #         if len(neighboring_sites_list_unque) > 1: \n",
    "            #             for m in range(len(neighboring_sites_list_unque)):\n",
    "            #                 pair_id = post_processing.get_line(central_site, neighboring_sites_list_unque[m]) # get pair id\n",
    "            #                 if pair_id in TJ_infomation_dict:\n",
    "            #                     tmp = TJ_infomation_dict[pair_id]\n",
    "            #                     tmp.append([i,j,k])\n",
    "            #                     TJ_infomation_dict[pair_id] = tmp\n",
    "            #                 else: \n",
    "            #                     TJ_infomation_dict[pair_id] = [[i,j,k]]\n",
    "            # print(\"Finish TJ extraction\")\n",
    "\n",
    "            # Get the center of each GB\n",
    "            GBenergy_information_dict = dict()\n",
    "            TJ_distance_max = 1 # voxels\n",
    "            for index, result in np.ndenumerate(current_microstructure):\n",
    "                i,j,k = index\n",
    "                ip,im,jp,jm,kp,km = myInput.periodic_bc3d(size_x,size_y,size_z,i,j,k)\n",
    "                if ( ((current_microstructure[ip,j,k]-current_microstructure[i,j,k])!=0) or ((current_microstructure[im,j,k]-current_microstructure[i,j,k])!=0) or\\\n",
    "                     ((current_microstructure[i,jp,k]-current_microstructure[i,j,k])!=0) or ((current_microstructure[i,jm,k]-current_microstructure[i,j,k])!=0) or\\\n",
    "                     ((current_microstructure[i,j,kp]-current_microstructure[i,j,k])!=0) or ((current_microstructure[i,j,km]-current_microstructure[i,j,k])!=0) ):\n",
    "                    central_site = int(current_microstructure[i,j,k])\n",
    "                    neighboring_sites_list = np.array([current_microstructure[ip,j,k], current_microstructure[i,jp,k], current_microstructure[i,j,kp], current_microstructure[im,j,k], current_microstructure[i,jm,k], current_microstructure[i,j,km]]).astype(int)\n",
    "                    neighboring_sites_set = set(neighboring_sites_list) # Get all unique neighboring sites\n",
    "                    if central_site in neighboring_sites_set: neighboring_sites_set.remove(central_site) # remove central site\n",
    "                    neighboring_sites_list_unque = list(neighboring_sites_set)\n",
    "                    num_other_sites = 0\n",
    "                    neighboring_sites_full_list = np.array([current_microstructure[ip,jp,k], current_microstructure[ip,j,k], current_microstructure[ip,jm,k], current_microstructure[i,jp,k], current_microstructure[i,jm,k], current_microstructure[im,jp,k], current_microstructure[im,j,k], current_microstructure[im,jm,k],\n",
    "                                                            current_microstructure[i,j,km], current_microstructure[ip,jp,km], current_microstructure[ip,j,km], current_microstructure[ip,jm,km], current_microstructure[i,jp,km], current_microstructure[i,jm,km], current_microstructure[im,jp,km], current_microstructure[im,j,km], current_microstructure[im,jm,km],\n",
    "                                                            current_microstructure[i,j,kp], current_microstructure[ip,jp,kp], current_microstructure[ip,j,kp], current_microstructure[ip,jm,kp], current_microstructure[i,jp,kp], current_microstructure[i,jm,kp], current_microstructure[im,jp,kp], current_microstructure[im,j,kp], current_microstructure[im,jm,kp]]).astype(int)\n",
    "                    for neigh_site in neighboring_sites_full_list:\n",
    "                        if neigh_site != central_site: num_other_sites += 1 # get the sites num different with central id\n",
    "                    pair_id = post_processing.get_line(central_site, neighboring_sites_list_unque[0]) # get pair id\n",
    "                    if central_site<neighboring_sites_list_unque[0]: pair_id_pair = [central_site, neighboring_sites_list_unque[0]]\n",
    "                    else: pair_id_pair = [neighboring_sites_list_unque[0], central_site]\n",
    "                    if pair_id in GBenergy_information_dict:\n",
    "                        GBenergy_information_dict[pair_id][5] += 1 # GB area\n",
    "                        GBenergy_information_dict[pair_id][0] += 1 # GB area\n",
    "                    else:\n",
    "                        GB_infomation = np.array([1,0,0,0,0.0,1,pair_id_pair[0],pair_id_pair[1]]) # GBnum-energy,i,j,k,GB energy,GBnum,gid0,gid1\n",
    "                        GBenergy_information_dict[pair_id] = GB_infomation\n",
    "                    # remove the TJs and QJs\n",
    "                    # if len(neighboring_sites_list_unque) > 1: continue # only remove TJs and QJs\n",
    "                    # # CONTINUE...    # remove the voxels around TJs and QJs\n",
    "                    # # check the GB voxels is close to TJ or not\n",
    "                    # break_point = 0\n",
    "                    # if pair_id in TJ_infomation_dict:\n",
    "                    #     for TJ_site in TJ_infomation_dict[pair_id]:\n",
    "                    #         TJ_distance = np.linalg.norm(index-np.array(TJ_site))\n",
    "                    #         if TJ_distance < TJ_distance_max: \n",
    "                    #             break_point = 1\n",
    "                    #             break\n",
    "                    # if break_point == 1: continue\n",
    "                    # calculate or extract GB energy\n",
    "                    GBenergy_information_dict[pair_id][1:5] += np.array([i,j,k,current_energy[i,j,k]/num_other_sites])\n",
    "\n",
    "            # get the correct location for each GB\n",
    "            small_GB_list = []\n",
    "            for key in GBenergy_information_dict: \n",
    "                if GBenergy_information_dict[key][0] == 0: \n",
    "                    small_GB_list.append(key) # remove the small GB with 0 voxels after remove voxels close to TJs\n",
    "            for s_index in range(len(small_GB_list)): GBenergy_information_dict.pop(small_GB_list[s_index])\n",
    "            for key in GBenergy_information_dict: \n",
    "                GBenergy_information_dict[key][1:5]=GBenergy_information_dict[key][1:5]/GBenergy_information_dict[key][0]\n",
    "            print(f\"Current GBs len at {time_step} steps: {len(GBenergy_information_dict)}\")\n",
    "            # save information\n",
    "            np.savez(data_file_folder + data_file_name_GBenergy, GBenergy_information_dict=GBenergy_information_dict)\n",
    "            GBenergy_information_dict_list.append(GBenergy_information_dict)"
   ]
  },
  {
   "cell_type": "code",
   "execution_count": 5,
   "id": "2f308b73-0513-45d8-a932-7d65cd3c5e66",
   "metadata": {
    "tags": []
   },
   "outputs": [
    {
     "name": "stderr",
     "output_type": "stream",
     "text": [
      "100%|██████████| 4058/4058 [00:15<00:00, 264.97it/s]\n"
     ]
    },
    {
     "name": "stdout",
     "output_type": "stream",
     "text": [
      "finish 0 with num of GBs 198, and collected num of GBs 96\n"
     ]
    },
    {
     "name": "stderr",
     "output_type": "stream",
     "text": [
      "100%|██████████| 2235/2235 [01:26<00:00, 25.85it/s]\n"
     ]
    },
    {
     "name": "stdout",
     "output_type": "stream",
     "text": [
      "finish 1 with num of GBs 1121, and collected num of GBs 404\n"
     ]
    },
    {
     "name": "stderr",
     "output_type": "stream",
     "text": [
      "100%|██████████| 2638/2638 [01:52<00:00, 23.50it/s]\n"
     ]
    },
    {
     "name": "stdout",
     "output_type": "stream",
     "text": [
      "finish 2 with num of GBs 1463, and collected num of GBs 779\n"
     ]
    },
    {
     "name": "stderr",
     "output_type": "stream",
     "text": [
      "100%|██████████| 4058/4058 [00:09<00:00, 430.24it/s]\n",
      "100%|██████████| 3084/3084 [02:12<00:00, 23.32it/s]\n"
     ]
    },
    {
     "name": "stdout",
     "output_type": "stream",
     "text": [
      "finish 3 with num of GBs 1727, and collected num of GBs 1142\n"
     ]
    },
    {
     "name": "stderr",
     "output_type": "stream",
     "text": [
      "100%|██████████| 2235/2235 [01:07<00:00, 33.26it/s]\n",
      "100%|██████████| 3553/3553 [02:31<00:00, 23.48it/s]\n"
     ]
    },
    {
     "name": "stdout",
     "output_type": "stream",
     "text": [
      "finish 4 with num of GBs 1944, and collected num of GBs 1554\n"
     ]
    },
    {
     "name": "stderr",
     "output_type": "stream",
     "text": [
      "100%|██████████| 2638/2638 [01:30<00:00, 29.07it/s]\n",
      "100%|██████████| 3770/3770 [02:33<00:00, 24.60it/s]\n"
     ]
    },
    {
     "name": "stdout",
     "output_type": "stream",
     "text": [
      "finish 5 with num of GBs 2006, and collected num of GBs 1897\n"
     ]
    },
    {
     "name": "stderr",
     "output_type": "stream",
     "text": [
      "100%|██████████| 3084/3084 [01:50<00:00, 27.80it/s]\n",
      "100%|██████████| 3836/3836 [02:32<00:00, 25.11it/s]\n"
     ]
    },
    {
     "name": "stdout",
     "output_type": "stream",
     "text": [
      "finish 6 with num of GBs 2012, and collected num of GBs 2239\n"
     ]
    },
    {
     "name": "stderr",
     "output_type": "stream",
     "text": [
      "100%|██████████| 3553/3553 [02:03<00:00, 28.66it/s]\n",
      "100%|██████████| 3813/3813 [02:34<00:00, 24.67it/s]\n"
     ]
    },
    {
     "name": "stdout",
     "output_type": "stream",
     "text": [
      "finish 7 with num of GBs 2001, and collected num of GBs 2502\n"
     ]
    },
    {
     "name": "stderr",
     "output_type": "stream",
     "text": [
      "100%|██████████| 3770/3770 [02:11<00:00, 28.71it/s]\n",
      "100%|██████████| 3775/3775 [02:32<00:00, 24.76it/s]\n"
     ]
    },
    {
     "name": "stdout",
     "output_type": "stream",
     "text": [
      "finish 8 with num of GBs 1993, and collected num of GBs 2740\n"
     ]
    },
    {
     "name": "stderr",
     "output_type": "stream",
     "text": [
      "100%|██████████| 3836/3836 [02:11<00:00, 29.20it/s]\n",
      "100%|██████████| 3720/3720 [02:24<00:00, 25.80it/s]\n"
     ]
    },
    {
     "name": "stdout",
     "output_type": "stream",
     "text": [
      "finish 9 with num of GBs 1884, and collected num of GBs 2940\n"
     ]
    },
    {
     "name": "stderr",
     "output_type": "stream",
     "text": [
      "100%|██████████| 3813/3813 [02:13<00:00, 28.65it/s]\n",
      "100%|██████████| 3585/3585 [02:19<00:00, 25.66it/s]\n"
     ]
    },
    {
     "name": "stdout",
     "output_type": "stream",
     "text": [
      "finish 10 with num of GBs 1835, and collected num of GBs 3137\n"
     ]
    },
    {
     "name": "stderr",
     "output_type": "stream",
     "text": [
      "100%|██████████| 3775/3775 [02:15<00:00, 27.84it/s]\n",
      "100%|██████████| 3429/3429 [02:09<00:00, 26.41it/s]\n"
     ]
    },
    {
     "name": "stdout",
     "output_type": "stream",
     "text": [
      "finish 11 with num of GBs 1693, and collected num of GBs 3299\n"
     ]
    },
    {
     "name": "stderr",
     "output_type": "stream",
     "text": [
      "100%|██████████| 3720/3720 [02:09<00:00, 28.80it/s]\n",
      "100%|██████████| 3260/3260 [02:07<00:00, 25.62it/s]\n"
     ]
    },
    {
     "name": "stdout",
     "output_type": "stream",
     "text": [
      "finish 12 with num of GBs 1669, and collected num of GBs 3464\n"
     ]
    },
    {
     "name": "stderr",
     "output_type": "stream",
     "text": [
      "100%|██████████| 3585/3585 [02:04<00:00, 28.81it/s]\n",
      "100%|██████████| 3158/3158 [01:59<00:00, 26.36it/s]\n"
     ]
    },
    {
     "name": "stdout",
     "output_type": "stream",
     "text": [
      "finish 13 with num of GBs 1571, and collected num of GBs 3609\n"
     ]
    },
    {
     "name": "stderr",
     "output_type": "stream",
     "text": [
      "100%|██████████| 3429/3429 [01:55<00:00, 29.68it/s]\n",
      "100%|██████████| 3024/3024 [01:52<00:00, 26.91it/s]\n"
     ]
    },
    {
     "name": "stdout",
     "output_type": "stream",
     "text": [
      "finish 14 with num of GBs 1473, and collected num of GBs 3731\n"
     ]
    },
    {
     "name": "stderr",
     "output_type": "stream",
     "text": [
      "100%|██████████| 3260/3260 [01:54<00:00, 28.38it/s]\n",
      "100%|██████████| 2861/2861 [01:44<00:00, 27.43it/s]\n"
     ]
    },
    {
     "name": "stdout",
     "output_type": "stream",
     "text": [
      "finish 15 with num of GBs 1371, and collected num of GBs 3832\n"
     ]
    },
    {
     "name": "stderr",
     "output_type": "stream",
     "text": [
      "100%|██████████| 3158/3158 [01:46<00:00, 29.74it/s]\n",
      "100%|██████████| 2703/2703 [01:36<00:00, 27.98it/s]\n"
     ]
    },
    {
     "name": "stdout",
     "output_type": "stream",
     "text": [
      "finish 16 with num of GBs 1270, and collected num of GBs 3925\n"
     ]
    },
    {
     "name": "stderr",
     "output_type": "stream",
     "text": [
      "100%|██████████| 3024/3024 [01:41<00:00, 29.73it/s]\n",
      "100%|██████████| 2570/2570 [01:34<00:00, 27.23it/s]\n"
     ]
    },
    {
     "name": "stdout",
     "output_type": "stream",
     "text": [
      "finish 17 with num of GBs 1244, and collected num of GBs 4000\n"
     ]
    },
    {
     "name": "stderr",
     "output_type": "stream",
     "text": [
      "100%|██████████| 2861/2861 [01:34<00:00, 30.41it/s]\n",
      "100%|██████████| 2456/2456 [01:28<00:00, 27.84it/s]\n"
     ]
    },
    {
     "name": "stdout",
     "output_type": "stream",
     "text": [
      "finish 18 with num of GBs 1160, and collected num of GBs 4072\n"
     ]
    },
    {
     "name": "stderr",
     "output_type": "stream",
     "text": [
      "100%|██████████| 2703/2703 [01:26<00:00, 31.11it/s]\n",
      "100%|██████████| 2343/2343 [01:26<00:00, 27.02it/s]\n"
     ]
    },
    {
     "name": "stdout",
     "output_type": "stream",
     "text": [
      "finish 19 with num of GBs 1134, and collected num of GBs 4137\n"
     ]
    },
    {
     "name": "stderr",
     "output_type": "stream",
     "text": [
      "100%|██████████| 2570/2570 [01:27<00:00, 29.31it/s]\n",
      "100%|██████████| 2258/2258 [01:22<00:00, 27.23it/s]\n"
     ]
    },
    {
     "name": "stdout",
     "output_type": "stream",
     "text": [
      "finish 20 with num of GBs 1084, and collected num of GBs 4207\n"
     ]
    },
    {
     "name": "stderr",
     "output_type": "stream",
     "text": [
      "100%|██████████| 2456/2456 [01:22<00:00, 29.83it/s]\n",
      "100%|██████████| 2140/2140 [01:15<00:00, 28.21it/s]\n"
     ]
    },
    {
     "name": "stdout",
     "output_type": "stream",
     "text": [
      "finish 21 with num of GBs 989, and collected num of GBs 4254\n"
     ]
    },
    {
     "name": "stderr",
     "output_type": "stream",
     "text": [
      "100%|██████████| 2343/2343 [01:20<00:00, 29.23it/s]\n",
      "100%|██████████| 2047/2047 [01:12<00:00, 28.36it/s]\n"
     ]
    },
    {
     "name": "stdout",
     "output_type": "stream",
     "text": [
      "finish 22 with num of GBs 955, and collected num of GBs 4298\n"
     ]
    },
    {
     "name": "stderr",
     "output_type": "stream",
     "text": [
      "100%|██████████| 2258/2258 [01:16<00:00, 29.67it/s]\n",
      "100%|██████████| 1937/1937 [01:08<00:00, 28.46it/s]\n"
     ]
    },
    {
     "name": "stdout",
     "output_type": "stream",
     "text": [
      "finish 23 with num of GBs 899, and collected num of GBs 4347\n"
     ]
    },
    {
     "name": "stderr",
     "output_type": "stream",
     "text": [
      "100%|██████████| 2140/2140 [01:10<00:00, 30.50it/s]\n",
      "100%|██████████| 1858/1858 [01:02<00:00, 29.50it/s]\n"
     ]
    },
    {
     "name": "stdout",
     "output_type": "stream",
     "text": [
      "finish 24 with num of GBs 830, and collected num of GBs 4380\n"
     ]
    },
    {
     "name": "stderr",
     "output_type": "stream",
     "text": [
      "100%|██████████| 2047/2047 [01:07<00:00, 30.40it/s]\n",
      "100%|██████████| 1770/1770 [01:01<00:00, 28.78it/s]\n"
     ]
    },
    {
     "name": "stdout",
     "output_type": "stream",
     "text": [
      "finish 25 with num of GBs 811, and collected num of GBs 4416\n"
     ]
    },
    {
     "name": "stderr",
     "output_type": "stream",
     "text": [
      "100%|██████████| 1937/1937 [01:03<00:00, 30.72it/s]\n",
      "100%|██████████| 1681/1681 [00:56<00:00, 29.88it/s]\n"
     ]
    },
    {
     "name": "stdout",
     "output_type": "stream",
     "text": [
      "finish 26 with num of GBs 744, and collected num of GBs 4450\n"
     ]
    },
    {
     "name": "stderr",
     "output_type": "stream",
     "text": [
      "100%|██████████| 1858/1858 [00:59<00:00, 31.08it/s]\n",
      "100%|██████████| 1578/1578 [00:51<00:00, 30.37it/s]\n"
     ]
    },
    {
     "name": "stdout",
     "output_type": "stream",
     "text": [
      "finish 27 with num of GBs 686, and collected num of GBs 4479\n"
     ]
    },
    {
     "name": "stderr",
     "output_type": "stream",
     "text": [
      "100%|██████████| 1770/1770 [00:58<00:00, 30.48it/s]\n",
      "100%|██████████| 1491/1491 [00:48<00:00, 30.64it/s]\n"
     ]
    },
    {
     "name": "stdout",
     "output_type": "stream",
     "text": [
      "finish 28 with num of GBs 641, and collected num of GBs 4508\n"
     ]
    },
    {
     "name": "stderr",
     "output_type": "stream",
     "text": [
      "100%|██████████| 1681/1681 [00:52<00:00, 31.85it/s]\n",
      "100%|██████████| 1443/1443 [00:45<00:00, 31.83it/s]\n"
     ]
    },
    {
     "name": "stdout",
     "output_type": "stream",
     "text": [
      "finish 29 with num of GBs 597, and collected num of GBs 4534\n"
     ]
    },
    {
     "name": "stderr",
     "output_type": "stream",
     "text": [
      "100%|██████████| 1578/1578 [00:49<00:00, 32.10it/s]\n",
      "100%|██████████| 1374/1374 [00:39<00:00, 34.72it/s]\n"
     ]
    },
    {
     "name": "stdout",
     "output_type": "stream",
     "text": [
      "finish 30 with num of GBs 521, and collected num of GBs 4546\n"
     ]
    },
    {
     "name": "stderr",
     "output_type": "stream",
     "text": [
      "100%|██████████| 1491/1491 [00:45<00:00, 32.47it/s]\n",
      "100%|██████████| 1292/1292 [00:38<00:00, 33.61it/s]\n"
     ]
    },
    {
     "name": "stdout",
     "output_type": "stream",
     "text": [
      "finish 31 with num of GBs 508, and collected num of GBs 4571\n"
     ]
    },
    {
     "name": "stderr",
     "output_type": "stream",
     "text": [
      "100%|██████████| 1443/1443 [00:43<00:00, 33.55it/s]\n",
      "100%|██████████| 1252/1252 [00:36<00:00, 33.86it/s]\n"
     ]
    },
    {
     "name": "stdout",
     "output_type": "stream",
     "text": [
      "finish 32 with num of GBs 486, and collected num of GBs 4599\n"
     ]
    },
    {
     "name": "stderr",
     "output_type": "stream",
     "text": [
      "100%|██████████| 1374/1374 [00:38<00:00, 36.09it/s]\n",
      "100%|██████████| 1198/1198 [00:34<00:00, 35.14it/s]\n"
     ]
    },
    {
     "name": "stdout",
     "output_type": "stream",
     "text": [
      "finish 33 with num of GBs 448, and collected num of GBs 4614\n"
     ]
    },
    {
     "name": "stderr",
     "output_type": "stream",
     "text": [
      "100%|██████████| 1292/1292 [00:35<00:00, 36.52it/s]\n",
      "100%|██████████| 1162/1162 [00:33<00:00, 34.84it/s]\n"
     ]
    },
    {
     "name": "stdout",
     "output_type": "stream",
     "text": [
      "finish 34 with num of GBs 439, and collected num of GBs 4630\n"
     ]
    },
    {
     "name": "stderr",
     "output_type": "stream",
     "text": [
      "100%|██████████| 1252/1252 [00:34<00:00, 36.36it/s]\n",
      "100%|██████████| 1115/1115 [00:33<00:00, 33.51it/s]\n"
     ]
    },
    {
     "name": "stdout",
     "output_type": "stream",
     "text": [
      "finish 35 with num of GBs 438, and collected num of GBs 4655\n"
     ]
    },
    {
     "name": "stderr",
     "output_type": "stream",
     "text": [
      "100%|██████████| 1198/1198 [00:32<00:00, 37.08it/s]\n",
      "100%|██████████| 1093/1093 [00:30<00:00, 35.58it/s]\n"
     ]
    },
    {
     "name": "stdout",
     "output_type": "stream",
     "text": [
      "finish 36 with num of GBs 404, and collected num of GBs 4668\n"
     ]
    },
    {
     "name": "stderr",
     "output_type": "stream",
     "text": [
      "100%|██████████| 1162/1162 [00:31<00:00, 36.53it/s]\n",
      "100%|██████████| 1050/1050 [00:29<00:00, 35.49it/s]\n"
     ]
    },
    {
     "name": "stdout",
     "output_type": "stream",
     "text": [
      "finish 37 with num of GBs 389, and collected num of GBs 4687\n"
     ]
    },
    {
     "name": "stderr",
     "output_type": "stream",
     "text": [
      "100%|██████████| 1115/1115 [00:31<00:00, 35.61it/s]\n",
      "100%|██████████| 1014/1014 [00:27<00:00, 36.97it/s]\n"
     ]
    },
    {
     "name": "stdout",
     "output_type": "stream",
     "text": [
      "finish 38 with num of GBs 359, and collected num of GBs 4703\n"
     ]
    },
    {
     "name": "stderr",
     "output_type": "stream",
     "text": [
      "100%|██████████| 1093/1093 [00:29<00:00, 37.58it/s]\n",
      "100%|██████████| 988/988 [00:26<00:00, 37.67it/s]\n"
     ]
    },
    {
     "name": "stdout",
     "output_type": "stream",
     "text": [
      "finish 39 with num of GBs 345, and collected num of GBs 4720\n"
     ]
    },
    {
     "name": "stderr",
     "output_type": "stream",
     "text": [
      "100%|██████████| 1050/1050 [00:27<00:00, 37.89it/s]\n",
      "100%|██████████| 948/948 [00:24<00:00, 38.29it/s]\n"
     ]
    },
    {
     "name": "stdout",
     "output_type": "stream",
     "text": [
      "finish 40 with num of GBs 325, and collected num of GBs 4729\n"
     ]
    },
    {
     "name": "stderr",
     "output_type": "stream",
     "text": [
      "100%|██████████| 1014/1014 [00:25<00:00, 39.99it/s]\n",
      "100%|██████████| 934/934 [00:24<00:00, 38.83it/s]\n"
     ]
    },
    {
     "name": "stdout",
     "output_type": "stream",
     "text": [
      "finish 41 with num of GBs 316, and collected num of GBs 4743\n"
     ]
    },
    {
     "name": "stderr",
     "output_type": "stream",
     "text": [
      "100%|██████████| 988/988 [00:24<00:00, 39.62it/s]\n",
      "100%|██████████| 905/905 [00:22<00:00, 39.83it/s]\n"
     ]
    },
    {
     "name": "stdout",
     "output_type": "stream",
     "text": [
      "finish 42 with num of GBs 299, and collected num of GBs 4749\n"
     ]
    },
    {
     "name": "stderr",
     "output_type": "stream",
     "text": [
      "100%|██████████| 948/948 [00:23<00:00, 40.16it/s]\n",
      "100%|██████████| 886/886 [00:22<00:00, 39.52it/s]\n"
     ]
    },
    {
     "name": "stdout",
     "output_type": "stream",
     "text": [
      "finish 43 with num of GBs 295, and collected num of GBs 4754\n"
     ]
    },
    {
     "name": "stderr",
     "output_type": "stream",
     "text": [
      "100%|██████████| 934/934 [00:22<00:00, 41.95it/s]\n",
      "100%|██████████| 874/874 [00:22<00:00, 39.08it/s]\n"
     ]
    },
    {
     "name": "stdout",
     "output_type": "stream",
     "text": [
      "finish 44 with num of GBs 296, and collected num of GBs 4761\n"
     ]
    },
    {
     "name": "stderr",
     "output_type": "stream",
     "text": [
      "100%|██████████| 905/905 [00:21<00:00, 41.80it/s]\n",
      "100%|██████████| 844/844 [00:20<00:00, 40.35it/s]\n"
     ]
    },
    {
     "name": "stdout",
     "output_type": "stream",
     "text": [
      "finish 45 with num of GBs 276, and collected num of GBs 4774\n"
     ]
    },
    {
     "name": "stderr",
     "output_type": "stream",
     "text": [
      "100%|██████████| 886/886 [00:21<00:00, 41.74it/s]\n",
      "100%|██████████| 806/806 [00:21<00:00, 37.37it/s]\n"
     ]
    },
    {
     "name": "stdout",
     "output_type": "stream",
     "text": [
      "finish 46 with num of GBs 284, and collected num of GBs 4782\n"
     ]
    },
    {
     "name": "stderr",
     "output_type": "stream",
     "text": [
      "100%|██████████| 874/874 [00:21<00:00, 40.70it/s]\n",
      "100%|██████████| 787/787 [00:20<00:00, 39.04it/s]\n"
     ]
    },
    {
     "name": "stdout",
     "output_type": "stream",
     "text": [
      "finish 47 with num of GBs 265, and collected num of GBs 4794\n"
     ]
    },
    {
     "name": "stderr",
     "output_type": "stream",
     "text": [
      "100%|██████████| 844/844 [00:19<00:00, 44.09it/s]\n",
      "100%|██████████| 775/775 [00:18<00:00, 42.36it/s]\n"
     ]
    },
    {
     "name": "stdout",
     "output_type": "stream",
     "text": [
      "finish 48 with num of GBs 242, and collected num of GBs 4794\n"
     ]
    },
    {
     "name": "stderr",
     "output_type": "stream",
     "text": [
      "100%|██████████| 806/806 [00:20<00:00, 39.89it/s]\n",
      "100%|██████████| 756/756 [00:19<00:00, 39.29it/s]\n"
     ]
    },
    {
     "name": "stdout",
     "output_type": "stream",
     "text": [
      "finish 49 with num of GBs 251, and collected num of GBs 4794\n"
     ]
    },
    {
     "name": "stderr",
     "output_type": "stream",
     "text": [
      "100%|██████████| 787/787 [00:19<00:00, 41.34it/s]\n"
     ]
    }
   ],
   "source": [
    "    time_interval = 2\n",
    "    curvature_limit = 0.00794\n",
    "    # store all GB points, include curvature and anti-curvature(include randomness points)\n",
    "    GB_list_velocity_list = []\n",
    "    GB_list_curvature_list = []\n",
    "    GB_list_GBenergy_list = []\n",
    "    # store all GB point exclude anti-curvature randomness points\n",
    "    GB_list_velocity_list_exrandom = []\n",
    "    GB_list_curvature_list_exrandom = []\n",
    "    # store GB energy point exclude anti_c randomness points\n",
    "    GB_list_GBenergy_list_exrandom = []\n",
    "    # store anti-curvature GBs in dictionary\n",
    "    GB_id_focus = dict()\n",
    "    GB_id_focus_detail = dict()\n",
    "    GB_filter_kernel = [set(),set(),set(),set(),set()]\n",
    "    for time_step in range(step_num):\n",
    "        if time_step+1 >= step_num: continue\n",
    "        GB_list_velocity_list_tmp = []\n",
    "        GB_list_curvature_list_tmp = []\n",
    "        GB_list_GBenergy_list_tmp = []\n",
    "        GB_list_velocity_list_exrandom_tmp = []\n",
    "        GB_list_curvature_list_exrandom_tmp = []\n",
    "        GB_list_GBenergy_list_exrandom_tmp = []\n",
    "        key_set = set()\n",
    "        for key in tqdm(GB_infomation_dict_list[time_step]):\n",
    "            if GB_infomation_dict_list[time_step+1].get(key) is None: continue\n",
    "            if GB_infomation_dict_list[time_step][key][5] < 100: continue # remove small GBs\n",
    "            if abs(GB_infomation_dict_list[time_step][key][4]) < curvature_limit: continue # remove low curvature\n",
    "            # Calculate dV\n",
    "            pair_id_pair = GB_infomation_dict_list[time_step][key][6:8]\n",
    "            growth_direction1 = (npy_file_aniso[time_step]==pair_id_pair[0])*(npy_file_aniso[time_step+1]==pair_id_pair[1])\n",
    "            growth_direction2 = (npy_file_aniso[time_step]==pair_id_pair[1])*(npy_file_aniso[time_step+1]==pair_id_pair[0])\n",
    "            dV = np.sum(growth_direction1)-np.sum(growth_direction2) # velocity with direction\n",
    "            # calculate velocity\n",
    "            velocity = dV/time_interval/(GB_infomation_dict_list[time_step][key][5]/2)\n",
    "            GB_list_velocity_list_tmp.append(velocity)\n",
    "            # keep curvature\n",
    "            current_curvature_value = GB_infomation_dict_list[time_step][key][4]\n",
    "            GB_list_curvature_list_tmp.append(current_curvature_value)\n",
    "            # keep GB energy\n",
    "            GB_list_GBenergy_list_tmp.append(GBenergy_information_dict_list[time_step][key][4])\n",
    "            \n",
    "            # keep anti-curvature GB info\n",
    "            if current_curvature_value*velocity<-0.0001: \n",
    "                key_set.add(key)\n",
    "                if time_step >= step_num-3: continue\n",
    "                if key in GB_id_focus: \n",
    "                    GB_id_focus[key] += 1\n",
    "                    GB_id_focus_detail[key].append(time_step)\n",
    "                else: \n",
    "                    GB_id_focus[key] = 1\n",
    "                    GB_id_focus_detail[key] = [time_step]\n",
    "        \n",
    "        # keep all GBs with GB length larger than 100\n",
    "        GB_list_velocity_list.append(GB_list_velocity_list_tmp)\n",
    "        GB_list_curvature_list.append(GB_list_curvature_list_tmp)\n",
    "        GB_list_GBenergy_list.append(GB_list_GBenergy_list_tmp)\n",
    "        \n",
    "        # filter the anti-curvature GB with 00100\n",
    "        GB_filter_kernel[0:4] = GB_filter_kernel[1:]\n",
    "        GB_filter_kernel[4] = key_set\n",
    "        filtered_set = GB_filter_kernel[2] - (GB_filter_kernel[0]|GB_filter_kernel[1]|GB_filter_kernel[3]|GB_filter_kernel[4])\n",
    "        for key in filtered_set: \n",
    "            GB_id_focus[key] -= 1\n",
    "            GB_id_focus_detail[key].remove(time_step-2)\n",
    "        print(f\"finish {time_step} with num of GBs {len(GB_list_velocity_list_tmp)}, and collected num of GBs {len(GB_id_focus)}\")\n",
    "        \n",
    "        # remove exclude data\n",
    "        if time_step < 2: continue\n",
    "        for key in tqdm(GB_infomation_dict_list[time_step-2]):\n",
    "            if GB_infomation_dict_list[time_step-1].get(key) is None: continue\n",
    "            if GB_infomation_dict_list[time_step-2][key][5] < 100: continue # remove small GBs\n",
    "            if key in filtered_set: continue # remove the randomness points\n",
    "            if abs(GB_infomation_dict_list[time_step-2][key][4]) < curvature_limit: continue # remove low curvature\n",
    "            # Calculate dV\n",
    "            pair_id_pair = GB_infomation_dict_list[time_step-2][key][6:8]\n",
    "            growth_direction1 = (npy_file_aniso[time_step-2]==pair_id_pair[0])*(npy_file_aniso[time_step-1]==pair_id_pair[1])\n",
    "            growth_direction2 = (npy_file_aniso[time_step-2]==pair_id_pair[1])*(npy_file_aniso[time_step-1]==pair_id_pair[0])\n",
    "            dV = np.sum(growth_direction1)-np.sum(growth_direction2) # velocity with direction\n",
    "            # calculate velocity\n",
    "            velocity = dV/time_interval/(GB_infomation_dict_list[time_step-2][key][5]/2)\n",
    "            GB_list_velocity_list_exrandom_tmp.append(velocity)\n",
    "            # keep curvature\n",
    "            current_curvature_value = GB_infomation_dict_list[time_step-2][key][4]\n",
    "            GB_list_curvature_list_exrandom_tmp.append(current_curvature_value)\n",
    "            # keep GB energy\n",
    "            GB_list_GBenergy_list_exrandom_tmp.append(GBenergy_information_dict_list[time_step-2][key][4])\n",
    "        GB_list_velocity_list_exrandom.append(GB_list_velocity_list_exrandom_tmp)\n",
    "        GB_list_curvature_list_exrandom.append(GB_list_curvature_list_exrandom_tmp)\n",
    "        GB_list_GBenergy_list_exrandom.append(GB_list_GBenergy_list_exrandom_tmp)\n",
    "        \n",
    "    \n",
    "    # filter the anti-curvature GB with 00100\n",
    "    GB_id_focus_copy = GB_id_focus.copy()\n",
    "    for key in GB_id_focus_copy:\n",
    "        if GB_id_focus_copy[key] <=0:\n",
    "            GB_id_focus.pop(key)\n",
    "            GB_id_focus_detail.pop(key)\n",
    "            \n",
    "    # add the last two steps for exclude data\n",
    "    # GB_list_velocity_list_exrandom.extend(GB_list_velocity_list[-2:])\n",
    "    # GB_list_curvature_list_exrandom.extend(GB_list_curvature_list[-2:])\n",
    "    # GB_list_GBenergy_list_exrandom.extend(GB_list_GBenergy_list[-2:])\n",
    "            "
   ]
  },
  {
   "cell_type": "code",
   "execution_count": 6,
   "id": "81c85dbd-a6b5-4075-b7c2-6d2fa8f85092",
   "metadata": {},
   "outputs": [
    {
     "data": {
      "text/plain": [
       "4794"
      ]
     },
     "execution_count": 6,
     "metadata": {},
     "output_type": "execute_result"
    }
   ],
   "source": [
    "len(GB_id_focus_copy)"
   ]
  },
  {
   "cell_type": "code",
   "execution_count": 7,
   "id": "6304ac9f-da16-406b-9a55-1d84184e3369",
   "metadata": {},
   "outputs": [
    {
     "name": "stderr",
     "output_type": "stream",
     "text": [
      "100%|██████████| 4058/4058 [00:01<00:00, 2519.22it/s]\n",
      "100%|██████████| 2235/2235 [00:06<00:00, 369.98it/s]\n",
      "100%|██████████| 2638/2638 [00:10<00:00, 251.66it/s]\n",
      "100%|██████████| 3084/3084 [00:15<00:00, 201.05it/s]\n",
      "100%|██████████| 3553/3553 [00:18<00:00, 191.61it/s]\n",
      "100%|██████████| 3770/3770 [00:18<00:00, 206.20it/s]\n",
      "100%|██████████| 3836/3836 [00:17<00:00, 216.63it/s]\n",
      "100%|██████████| 3813/3813 [00:16<00:00, 237.64it/s]\n",
      "100%|██████████| 3775/3775 [00:13<00:00, 283.34it/s]\n",
      "100%|██████████| 3720/3720 [00:12<00:00, 307.36it/s]\n",
      "100%|██████████| 3585/3585 [00:11<00:00, 309.35it/s]\n",
      "100%|██████████| 3429/3429 [00:09<00:00, 356.32it/s]\n",
      "100%|██████████| 3260/3260 [00:08<00:00, 368.52it/s]\n",
      "100%|██████████| 3158/3158 [00:08<00:00, 386.95it/s]\n",
      "100%|██████████| 3024/3024 [00:07<00:00, 417.21it/s]\n",
      "100%|██████████| 2861/2861 [00:07<00:00, 407.53it/s]\n",
      "100%|██████████| 2703/2703 [00:06<00:00, 431.55it/s]\n",
      "100%|██████████| 2570/2570 [00:05<00:00, 447.89it/s]\n",
      "100%|██████████| 2456/2456 [00:05<00:00, 412.15it/s]\n",
      "100%|██████████| 2343/2343 [00:04<00:00, 495.80it/s]\n",
      "100%|██████████| 2258/2258 [00:04<00:00, 548.50it/s]\n",
      "100%|██████████| 2140/2140 [00:03<00:00, 573.50it/s]\n",
      "100%|██████████| 2047/2047 [00:03<00:00, 596.62it/s]\n",
      "100%|██████████| 1937/1937 [00:03<00:00, 552.27it/s]\n",
      "100%|██████████| 1858/1858 [00:02<00:00, 696.12it/s]\n",
      "100%|██████████| 1770/1770 [00:02<00:00, 662.95it/s]\n",
      "100%|██████████| 1681/1681 [00:01<00:00, 882.90it/s] \n",
      "100%|██████████| 1578/1578 [00:01<00:00, 826.45it/s] \n",
      "100%|██████████| 1491/1491 [00:02<00:00, 697.58it/s]\n",
      "100%|██████████| 1443/1443 [00:01<00:00, 782.43it/s]\n",
      "100%|██████████| 1374/1374 [00:01<00:00, 999.89it/s] \n",
      "100%|██████████| 1292/1292 [00:01<00:00, 1057.41it/s]\n",
      "100%|██████████| 1252/1252 [00:01<00:00, 821.51it/s] \n",
      "100%|██████████| 1198/1198 [00:01<00:00, 784.55it/s]\n",
      "100%|██████████| 1162/1162 [00:01<00:00, 634.53it/s]\n",
      "100%|██████████| 1115/1115 [00:01<00:00, 609.12it/s]\n",
      "100%|██████████| 1093/1093 [00:01<00:00, 843.29it/s]\n",
      "100%|██████████| 1050/1050 [00:01<00:00, 810.70it/s]\n",
      "100%|██████████| 1014/1014 [00:01<00:00, 830.63it/s]\n",
      "100%|██████████| 988/988 [00:01<00:00, 761.45it/s]\n",
      "100%|██████████| 948/948 [00:01<00:00, 827.38it/s]\n",
      "100%|██████████| 934/934 [00:00<00:00, 939.92it/s]\n",
      "100%|██████████| 905/905 [00:00<00:00, 1315.02it/s]\n",
      "100%|██████████| 886/886 [00:01<00:00, 829.65it/s] \n",
      "100%|██████████| 874/874 [00:00<00:00, 1427.03it/s]\n",
      "100%|██████████| 844/844 [00:00<00:00, 1383.24it/s]\n",
      "100%|██████████| 806/806 [00:00<00:00, 1055.76it/s]\n",
      "100%|██████████| 787/787 [00:01<00:00, 688.95it/s] \n",
      "100%|██████████| 775/775 [00:00<00:00, 868443.92it/s]\n",
      "100%|██████████| 756/756 [00:00<00:00, 920968.29it/s]\n"
     ]
    }
   ],
   "source": [
    "    time_interval = 2\n",
    "    # GB_list_velocity_list = []\n",
    "    GB_antic_list_velocity_list = []\n",
    "    GB_antic_list_GBenergy_list = []\n",
    "    GB_antic_list_anticNum_list = []\n",
    "    GB_id_unfocus_lowE_detail = dict()\n",
    "    for time_step in range(step_num):\n",
    "        if time_step+1 >= step_num: continue\n",
    "        for key in tqdm(GBenergy_information_dict_list[time_step]):\n",
    "            if GBenergy_information_dict_list[time_step+1].get(key) is None: continue\n",
    "            if GBenergy_information_dict_list[time_step][key][5] < 100: continue # remove small GBs\n",
    "            if abs(GB_infomation_dict_list[time_step][key][4]) < curvature_limit: continue # remove low curvature\n",
    "            \n",
    "            # keep the GB with low energy and curvature behavior\n",
    "            if (GBenergy_information_dict_list[time_step][key][4]<0.4) and (key not in GB_id_focus_detail): # do we need to remove random here?\n",
    "                if key in GB_id_unfocus_lowE_detail:\n",
    "                    GB_id_unfocus_lowE_detail[key].append(time_step)\n",
    "                else:\n",
    "                    GB_id_unfocus_lowE_detail[key] = [time_step]\n",
    "            \n",
    "            # anti-curvature behavior list\n",
    "            if (key in GB_id_focus_detail) and (time_step in GB_id_focus_detail[key]):\n",
    "                # Calculate dV\n",
    "                pair_id_pair = GB_infomation_dict_list[time_step][key][6:8]\n",
    "                growth_direction1 = (npy_file_aniso[time_step]==pair_id_pair[0])*(npy_file_aniso[time_step+1]==pair_id_pair[1])\n",
    "                growth_direction2 = (npy_file_aniso[time_step]==pair_id_pair[1])*(npy_file_aniso[time_step+1]==pair_id_pair[0])\n",
    "                dV = np.sum(growth_direction1)-np.sum(growth_direction2) # velocity with direction\n",
    "                # calculate velocity\n",
    "                velocity = dV/time_interval/(GB_infomation_dict_list[time_step][key][5]/2)\n",
    "                # correct the sign of velocity\n",
    "                current_curvature_value = GB_infomation_dict_list[time_step][key][4]\n",
    "                if current_curvature_value < 0: GB_antic_list_velocity_list.append(-velocity)\n",
    "                else: GB_antic_list_velocity_list.append(velocity)\n",
    "                \n",
    "                GB_antic_list_GBenergy_list.append(GBenergy_information_dict_list[time_step][key][4])\n",
    "                GB_antic_list_anticNum_list.append(GB_id_focus[key])\n",
    "            \n",
    "        \n",
    "            "
   ]
  },
  {
   "cell_type": "code",
   "execution_count": 8,
   "id": "bf804f69-a21f-462e-8dc6-ea100eb771f0",
   "metadata": {
    "tags": []
   },
   "outputs": [
    {
     "name": "stdout",
     "output_type": "stream",
     "text": [
      "The number of the GBs showing anti-curvature during whole simulations is 1354\n",
      "The ratio of anti-curvature GBs during whole simulations is 10.399385560675883% in 13020 GBs\n",
      "dict_values([2, 2, 2, 2, 2, 2, 2, 2, 3, 3, 3, 2, 2, 2, 2, 2, 2, 2, 4, 3, 2, 2, 2, 2, 2, 2, 3, 3, 2, 2, 2, 3, 3, 2, 2, 4, 2, 2, 2, 2, 3, 4, 3, 2, 2, 2, 5, 2, 3, 3, 2, 2, 2, 2, 2, 3, 2, 3, 2, 2, 2, 3, 2, 2, 3, 2, 2, 2, 2, 2, 2, 2, 3, 2, 3, 4, 2, 3, 2, 2, 2, 4, 2, 2, 2, 3, 6, 2, 2, 2, 2, 3, 2, 2, 4, 2, 2, 2, 3, 2, 2, 2, 2, 2, 2, 2, 2, 2, 2, 5, 3, 3, 2, 2, 3, 2, 2, 2, 2, 3, 2, 2, 2, 3, 2, 4, 3, 2, 2, 2, 3, 2, 2, 2, 4, 3, 3, 3, 2, 2, 2, 3, 2, 2, 2, 2, 2, 3, 2, 2, 2, 3, 3, 2, 2, 2, 2, 3, 2, 2, 2, 2, 3, 2, 2, 2, 2, 2, 2, 2, 2, 2, 3, 2, 2, 2, 2, 2, 2, 2, 2, 4, 2, 3, 2, 2, 5, 2, 2, 3, 2, 3, 3, 2, 5, 2, 3, 2, 2, 3, 2, 3, 2, 3, 2, 3, 2, 2, 5, 2, 2, 2, 2, 4, 2, 2, 2, 2, 2, 2, 2, 2, 2, 4, 3, 2, 3, 2, 2, 2, 2, 3, 2, 2, 2, 2, 2, 2, 2, 2, 2, 2, 2, 2, 2, 2, 2, 3, 2, 2, 2, 4, 2, 5, 3, 4, 2, 2, 2, 3, 3, 2, 2, 3, 2, 6, 4, 2, 3, 4, 3, 3, 4, 2, 2, 2, 2, 2, 2, 2, 3, 2, 2, 2, 3, 2, 2, 2, 3, 4, 2, 3, 2, 2, 5, 2, 2, 3, 2, 2, 2, 2, 2, 2, 2, 2, 2, 2, 3, 3, 2, 2, 2, 3, 2, 4, 2, 2, 3, 2, 2, 2, 2, 4, 2, 2, 2, 2, 5, 4, 4, 3, 2, 2, 2, 2, 4, 2, 2, 2, 2, 2, 2, 2, 2, 4, 2, 2, 2, 3, 4, 2, 2, 3, 3, 4, 3, 2, 2, 2, 3, 4, 2, 2, 2, 3, 2, 3, 2, 2, 3, 2, 2, 5, 4, 3, 3, 2, 2, 2, 2, 2, 2, 2, 2, 2, 3, 3, 2, 2, 2, 2, 4, 4, 2, 2, 2, 4, 2, 3, 2, 2, 3, 2, 3, 3, 3, 2, 4, 2, 2, 2, 3, 2, 2, 2, 2, 3, 2, 4, 2, 2, 2, 2, 3, 2, 3, 2, 4, 4, 2, 4, 2, 2, 2, 3, 3, 2, 3, 3, 2, 3, 2, 2, 2, 2, 3, 2, 2, 2, 2, 2, 4, 2, 3, 4, 2, 2, 2, 2, 2, 2, 3, 3, 5, 2, 2, 2, 2, 2, 2, 3, 2, 2, 2, 2, 2, 6, 3, 2, 2, 2, 2, 2, 2, 2, 4, 2, 2, 2, 2, 3, 2, 2, 2, 2, 2, 2, 3, 4, 2, 4, 5, 3, 2, 2, 2, 2, 2, 2, 2, 2, 2, 2, 2, 2, 2, 3, 2, 2, 2, 3, 2, 2, 4, 4, 2, 2, 4, 2, 2, 4, 2, 2, 2, 2, 2, 2, 4, 2, 2, 2, 4, 4, 3, 2, 3, 2, 2, 2, 2, 2, 2, 2, 2, 2, 2, 2, 3, 4, 2, 2, 2, 2, 2, 2, 2, 2, 3, 2, 2, 2, 2, 4, 3, 2, 4, 2, 2, 3, 2, 2, 2, 2, 2, 3, 3, 2, 2, 2, 2, 2, 3, 2, 2, 2, 2, 2, 2, 2, 2, 3, 2, 4, 2, 3, 2, 2, 2, 4, 4, 2, 3, 4, 2, 2, 5, 2, 2, 3, 2, 4, 6, 2, 3, 5, 2, 2, 2, 2, 2, 2, 2, 2, 2, 3, 2, 2, 2, 2, 2, 3, 2, 2, 3, 3, 2, 3, 2, 2, 2, 3, 3, 2, 4, 2, 5, 2, 2, 2, 2, 2, 2, 2, 3, 2, 2, 3, 2, 2, 3, 4, 3, 2, 2, 2, 2, 3, 2, 3, 2, 2, 3, 2, 5, 2, 2, 3, 2, 2, 3, 2, 4, 2, 2, 2, 2, 2, 3, 2, 4, 2, 2, 3, 2, 2, 3, 2, 2, 4, 2, 2, 4, 2, 2, 2, 2, 2, 2, 2, 2, 4, 2, 2, 7, 3, 2, 2, 2, 2, 2, 2, 3, 5, 2, 2, 2, 2, 4, 2, 2, 3, 3, 3, 2, 3, 3, 2, 3, 2, 2, 2, 2, 2, 2, 2, 2, 4, 4, 2, 3, 2, 2, 4, 2, 2, 2, 2, 2, 3, 2, 3, 3, 4, 2, 2, 2, 2, 2, 3, 2, 4, 3, 2, 3, 2, 2, 2, 3, 2, 2, 3, 2, 3, 3, 2, 2, 2, 2, 2, 2, 3, 3, 2, 2, 3, 5, 2, 3, 2, 4, 4, 2, 6, 5, 2, 3, 2, 2, 3, 2, 2, 2, 4, 3, 2, 2, 2, 2, 2, 3, 2, 2, 2, 2, 2, 2, 3, 3, 2, 2, 2, 5, 2, 2, 2, 4, 2, 3, 6, 2, 2, 2, 2, 4, 2, 3, 3, 5, 2, 3, 3, 2, 2, 2, 2, 2, 3, 3, 2, 3, 2, 4, 2, 3, 2, 2, 3, 2, 2, 3, 2, 2, 2, 3, 2, 2, 5, 2, 3, 3, 2, 2, 2, 2, 2, 2, 2, 2, 2, 2, 2, 2, 2, 2, 2, 3, 3, 2, 3, 6, 2, 3, 2, 3, 3, 4, 2, 2, 2, 2, 2, 6, 2, 3, 2, 2, 3, 2, 4, 3, 2, 2, 3, 2, 3, 2, 4, 2, 2, 2, 2, 2, 2, 3, 2, 4, 2, 2, 2, 2, 2, 2, 2, 3, 3, 2, 2, 2, 2, 2, 2, 2, 2, 2, 2, 2, 4, 3, 2, 3, 2, 2, 2, 2, 3, 2, 3, 2, 4, 2, 2, 2, 2, 5, 2, 4, 3, 2, 2, 3, 2, 2, 2, 2, 3, 4, 4, 2, 2, 3, 2, 2, 2, 2, 2, 2, 2, 6, 2, 2, 3, 8, 2, 2, 2, 2, 3, 2, 2, 2, 3, 2, 3, 2, 2, 4, 2, 2, 2, 2, 2, 2, 3, 2, 2, 2, 2, 2, 3, 2, 3, 2, 2, 3, 3, 3, 2, 2, 3, 3, 2, 2, 2, 4, 2, 2, 3, 2, 2, 3, 2, 2, 4, 2, 3, 2, 2, 2, 2, 4, 2, 2, 3, 2, 2, 2, 2, 2, 2, 3, 2, 4, 4, 2, 2, 2, 2, 2, 2, 2, 2, 3, 3, 2, 2, 2, 2, 2, 2, 2, 2, 2, 2, 2, 3, 3, 3, 2, 2, 2, 3, 3, 5, 2, 2, 2, 3, 4, 2, 3, 2, 2, 2, 2, 2, 3, 2, 2, 2, 3, 2, 2, 2, 2, 2, 2, 2, 2, 3, 2, 2, 3, 4, 2, 2, 2, 2, 3, 3, 2, 2, 2, 2, 2, 2, 2, 2, 2, 2, 2, 2, 2, 2, 2, 3, 2, 2, 2, 2, 5, 3, 2, 2, 3, 2, 2, 4, 2, 2, 2, 2, 2, 2, 2, 2, 3, 2, 3, 2, 2, 2, 3, 2, 3, 2, 2, 2, 4, 3, 2, 2, 2, 2, 2, 3, 2, 2, 3, 2, 2, 4, 2, 2, 1, 3, 2, 2, 2, 2, 2, 2, 4, 2, 2, 2, 3, 2, 2, 2, 2, 2, 2, 2, 2, 2, 2, 2, 2, 3, 2, 2, 2, 2, 2, 2, 2, 2, 2, 4, 2, 2, 2, 2, 2, 3, 2, 2, 2, 2, 3, 2, 2, 2, 2, 2, 2, 2, 2, 2, 5, 5, 2, 4, 2, 2, 2, 2, 4, 4, 3, 2, 3, 4, 2, 2, 2, 2, 2, 2, 2, 4, 2, 4, 5, 5, 2, 2, 4, 3, 1, 2, 7, 2, 2, 4, 2, 2, 4, 2, 4, 2, 5, 2, 2, 2, 2, 6, 2, 5, 2, 2, 4, 3, 3, 2, 2, 2, 2, 3, 2, 2, 2, 2, 2, 2, 2, 3, 2, 2, 2, 2, 2, 2, 2, 2, 2, 3, 2, 1, 2, 1, 1, 1])\n"
     ]
    }
   ],
   "source": [
    "    total_GB = set()\n",
    "    for time_step in range(step_num):\n",
    "        step_GB = GB_infomation_dict_list[time_step].keys()\n",
    "        total_GB = total_GB | step_GB\n",
    "\n",
    "    print(f\"The number of the GBs showing anti-curvature during whole simulations is {len(GB_id_focus.values())}\")\n",
    "    print(f\"The ratio of anti-curvature GBs during whole simulations is {len(GB_id_focus.values())/len(total_GB)*100}% in {len(total_GB)} GBs\")\n",
    "    print(GB_id_focus.values())"
   ]
  },
  {
   "cell_type": "code",
   "execution_count": 9,
   "id": "6eceee40-5f34-4605-959f-364b9588bb1d",
   "metadata": {
    "tags": []
   },
   "outputs": [
    {
     "data": {
      "text/plain": [
       "50"
      ]
     },
     "execution_count": 9,
     "metadata": {},
     "output_type": "execute_result"
    }
   ],
   "source": [
    "len(GB_list_velocity_list)"
   ]
  },
  {
   "cell_type": "code",
   "execution_count": 10,
   "id": "96203cab-0393-40ca-b372-89bb3d25a952",
   "metadata": {},
   "outputs": [
    {
     "data": {
      "text/plain": [
       "<Figure size 432x288 with 0 Axes>"
      ]
     },
     "metadata": {},
     "output_type": "display_data"
    },
    {
     "data": {
      "image/png": "[encoded data removed]",
      "text/plain": [
       "<Figure size 360x360 with 1 Axes>"
      ]
     },
     "metadata": {
      "needs_background": "light"
     },
     "output_type": "display_data"
    },
    {
     "data": {
      "text/plain": [
       "<Figure size 432x288 with 0 Axes>"
      ]
     },
     "metadata": {},
     "output_type": "display_data"
    },
    {
     "data": {
      "image/png": "[encoded data removed]",
      "text/plain": [
       "<Figure size 504x504 with 1 Axes>"
      ]
     },
     "metadata": {
      "needs_background": "light"
     },
     "output_type": "display_data"
    }
   ],
   "source": [
    "    # All in 1 figrue\n",
    "    curvature_1Dlist_remove_0step = []\n",
    "    velocity_1Dlist_remove_0step = []\n",
    "    GBenergy_1Dlist_remove_0step = []\n",
    "    for i in range(0,len(GB_list_velocity_list)): \n",
    "        curvature_1Dlist_remove_0step.extend(GB_list_curvature_list[i])\n",
    "        velocity_1Dlist_remove_0step.extend(GB_list_velocity_list[i])\n",
    "        GBenergy_1Dlist_remove_0step.extend(GB_list_GBenergy_list[i])\n",
    "    curvature_1Dlist_exrandom_remove_0step = []\n",
    "    velocity_1Dlist_exrandom_remove_0step = []\n",
    "    GBenergy_1Dlist_exrandom_remove_0step = []\n",
    "    for i in range(0,len(GB_list_velocity_list_exrandom)): \n",
    "        curvature_1Dlist_exrandom_remove_0step.extend(GB_list_curvature_list_exrandom[i])\n",
    "        velocity_1Dlist_exrandom_remove_0step.extend(GB_list_velocity_list_exrandom[i])\n",
    "        GBenergy_1Dlist_exrandom_remove_0step.extend(GB_list_GBenergy_list_exrandom[i])\n",
    "    \n",
    "    # ignore the sign of curvature\n",
    "    for i in range(len(curvature_1Dlist_exrandom_remove_0step)):\n",
    "        if curvature_1Dlist_exrandom_remove_0step[i]<0: \n",
    "            curvature_1Dlist_exrandom_remove_0step[i] = - curvature_1Dlist_exrandom_remove_0step[i]\n",
    "            velocity_1Dlist_exrandom_remove_0step[i] = - velocity_1Dlist_exrandom_remove_0step[i]\n",
    "    velocity_1Dlist_exrandom_remove_0step = np.array(velocity_1Dlist_exrandom_remove_0step)\n",
    "    curvature_1Dlist_exrandom_remove_0step = np.array(curvature_1Dlist_exrandom_remove_0step)\n",
    "            \n",
    "    figure_name_all = f\"figures/3D_velocity_signedcurvature_{case_name}_5d.png\"\n",
    "    plt.figure()\n",
    "    fig = plt.figure(figsize=(5, 5))\n",
    "    plt.plot([curvature_limit,0.1],[0,0],'-',color='grey',linewidth=2)\n",
    "    plt.scatter(curvature_1Dlist_exrandom_remove_0step[velocity_1Dlist_exrandom_remove_0step>0], velocity_1Dlist_exrandom_remove_0step[velocity_1Dlist_exrandom_remove_0step>0],s=4,alpha=0.5)\n",
    "    plt.scatter(curvature_1Dlist_exrandom_remove_0step[velocity_1Dlist_exrandom_remove_0step<0], velocity_1Dlist_exrandom_remove_0step[velocity_1Dlist_exrandom_remove_0step<0],s=4,alpha=0.5,color='C01')\n",
    "    plt.xlabel(\"curvature\", fontsize=20)\n",
    "    plt.ylabel(\"velocity (voxel/step)\", fontsize=20)\n",
    "    plt.xlim([curvature_limit,0.1])\n",
    "    plt.ylim([-2.0,2.0])\n",
    "    plt.savefig(figure_name_all, dpi=400,bbox_inches='tight')\n",
    "    \n",
    "    # plot velocity VS averaged curvature\n",
    "    bin_interval = 0.001\n",
    "    x_lim = [0.0,0.1]\n",
    "    bin_number = int((x_lim[1]-x_lim[0])/bin_interval)\n",
    "    curvature_coordinate = np.arange(x_lim[0],x_lim[1],bin_interval)+bin_interval/2\n",
    "\n",
    "    curvature_bin = np.zeros(bin_number)\n",
    "    velocity_bin = np.zeros(bin_number)\n",
    "    for index in range(len(curvature_1Dlist_exrandom_remove_0step)):\n",
    "        if abs(curvature_1Dlist_exrandom_remove_0step[index])>x_lim[1]: continue\n",
    "        curvature_bin[int((curvature_1Dlist_exrandom_remove_0step[index]-x_lim[0])//bin_interval)] += 1\n",
    "        velocity_bin[int((curvature_1Dlist_exrandom_remove_0step[index]-x_lim[0])//bin_interval)] += velocity_1Dlist_exrandom_remove_0step[index]\n",
    "    for i in range(bin_number): \n",
    "        if curvature_bin[i]>0: velocity_bin[i] = velocity_bin[i]/curvature_bin[i]\n",
    "    # plot\n",
    "    figure_name_all_bin = f\"figures/3D_velocity_signedcurvature_{case_name}_5d_afterBin.png\"\n",
    "    plt.figure()\n",
    "    fig = plt.figure(figsize=(7, 7))\n",
    "    # plt.scatter(curvature_coordinate, velocity_bin,s=4,alpha=0.5)\n",
    "    plt.xlim([curvature_limit,0.1])\n",
    "    plt.ylim([-1,1])\n",
    "    plt.plot(curvature_coordinate[velocity_bin!=0], velocity_bin[velocity_bin!=0],'o', linewidth=2)\n",
    "    plt.xlabel(\"curvature\", fontsize=18)\n",
    "    plt.ylabel(\"velocity (voxel/step)\", fontsize=18)\n",
    "    plt.savefig(figure_name_all_bin, dpi=400,bbox_inches='tight')\n"
   ]
  },
  {
   "cell_type": "code",
   "execution_count": 11,
   "id": "2f952603-c1b8-4aae-8900-25fef984672d",
   "metadata": {
    "tags": []
   },
   "outputs": [
    {
     "name": "stdout",
     "output_type": "stream",
     "text": [
      "2.0385789496555367\n"
     ]
    },
    {
     "data": {
      "text/plain": [
       "Text(0, 0.5, 'num of site')"
      ]
     },
     "execution_count": 11,
     "metadata": {},
     "output_type": "execute_result"
    },
    {
     "data": {
      "text/plain": [
       "<Figure size 432x288 with 0 Axes>"
      ]
     },
     "metadata": {},
     "output_type": "display_data"
    },
    {
     "data": {
      "image/png": "[encoded data removed]",
      "text/plain": [
       "<Figure size 504x504 with 1 Axes>"
      ]
     },
     "metadata": {
      "needs_background": "light"
     },
     "output_type": "display_data"
    },
    {
     "data": {
      "text/plain": [
       "<Figure size 432x288 with 0 Axes>"
      ]
     },
     "metadata": {},
     "output_type": "display_data"
    },
    {
     "data": {
      "image/png": "[encoded data removed]",
      "text/plain": [
       "<Figure size 504x504 with 1 Axes>"
      ]
     },
     "metadata": {
      "needs_background": "light"
     },
     "output_type": "display_data"
    },
    {
     "data": {
      "text/plain": [
       "<Figure size 432x288 with 0 Axes>"
      ]
     },
     "metadata": {},
     "output_type": "display_data"
    },
    {
     "data": {
      "image/png": "[encoded data removed]",
      "text/plain": [
       "<Figure size 504x504 with 1 Axes>"
      ]
     },
     "metadata": {
      "needs_background": "light"
     },
     "output_type": "display_data"
    },
    {
     "data": {
      "text/plain": [
       "<Figure size 432x288 with 0 Axes>"
      ]
     },
     "metadata": {},
     "output_type": "display_data"
    },
    {
     "data": {
      "image/png": "[encoded data removed]",
      "text/plain": [
       "<Figure size 504x504 with 1 Axes>"
      ]
     },
     "metadata": {
      "needs_background": "light"
     },
     "output_type": "display_data"
    },
    {
     "data": {
      "text/plain": [
       "<Figure size 432x288 with 0 Axes>"
      ]
     },
     "metadata": {},
     "output_type": "display_data"
    },
    {
     "data": {
      "image/png": "[encoded data removed]",
      "text/plain": [
       "<Figure size 504x504 with 1 Axes>"
      ]
     },
     "metadata": {
      "needs_background": "light"
     },
     "output_type": "display_data"
    }
   ],
   "source": [
    "\n",
    "    figure_name_all = f\"figures/3D_velocity_GBenergy_{case_name}_5d.png\"\n",
    "    plt.figure()\n",
    "    fig = plt.figure(figsize=(7, 7))\n",
    "    plt.scatter(GBenergy_1Dlist_exrandom_remove_0step, velocity_1Dlist_exrandom_remove_0step,s=4,alpha=0.5,label='All GBs')\n",
    "    GB_antic_list_GBenergy_list = np.array(GB_antic_list_GBenergy_list)\n",
    "    GB_antic_list_velocity_list = np.array(GB_antic_list_velocity_list)\n",
    "    GB_antic_list_anticNum_array = np.array(GB_antic_list_anticNum_list)\n",
    "    plt.scatter(GB_antic_list_GBenergy_list[GB_antic_list_anticNum_array>=5], GB_antic_list_velocity_list[GB_antic_list_anticNum_array>=5],s=4,alpha=0.5,label='anti-c GBs(5 steps)')\n",
    "    plt.xlabel(\"GB energy\", fontsize=18)\n",
    "    plt.ylabel(\"velocity (voxel/step)\", fontsize=18)\n",
    "    plt.xlim([0.3,1.0])\n",
    "    plt.ylim([-2,2])\n",
    "    plt.legend(fontsize=18)\n",
    "    plt.savefig(figure_name_all, dpi=400,bbox_inches='tight')\n",
    "    \n",
    "    # plot velocity VS averaged GBenergy\n",
    "    bin_interval = 0.01\n",
    "    x_lim = [0.25,1.0]\n",
    "    bin_number = int((x_lim[1]-x_lim[0])/bin_interval)\n",
    "    GBenergy_coordinate = np.arange(x_lim[0],x_lim[1],bin_interval)+bin_interval/2\n",
    "\n",
    "    GBenergy_bin = np.zeros(bin_number)\n",
    "    velocity_bin = np.zeros(bin_number)\n",
    "    antic_num_bin = np.zeros(bin_number)\n",
    "    for index in range(len(GBenergy_1Dlist_exrandom_remove_0step)):\n",
    "        if abs(GBenergy_1Dlist_exrandom_remove_0step[index])>=1.0: continue\n",
    "        GBenergy_bin[int((GBenergy_1Dlist_exrandom_remove_0step[index]-x_lim[0])//bin_interval)] += 1\n",
    "        velocity_bin[int((GBenergy_1Dlist_exrandom_remove_0step[index]-x_lim[0])//bin_interval)] += velocity_1Dlist_exrandom_remove_0step[index]\n",
    "        if velocity_1Dlist_exrandom_remove_0step[index] < 0: antic_num_bin[int((GBenergy_1Dlist_exrandom_remove_0step[index]-x_lim[0])//bin_interval)] += 1\n",
    "        if int((GBenergy_1Dlist_exrandom_remove_0step[index]-x_lim[0])//bin_interval)<0: print(GBenergy_1Dlist_exrandom_remove_0step[index])\n",
    "    for i in range(bin_number): \n",
    "        if GBenergy_bin[i]>0: velocity_bin[i] = velocity_bin[i]/GBenergy_bin[i]\n",
    "    # plot\n",
    "    figure_name_all_bin = f\"figures/3D_velocity_GBenergy_{case_name}_5d_afterBin.png\"\n",
    "    plt.figure()\n",
    "    fig = plt.figure(figsize=(7, 7))\n",
    "    # plt.scatter(GBenergy_coordinate, velocity_bin,s=4,alpha=0.5)\n",
    "    plt.xlim([0.3,1.0])\n",
    "    plt.ylim([-1,1])\n",
    "    plt.plot(GBenergy_coordinate[velocity_bin!=0], velocity_bin[velocity_bin!=0],'o', linewidth=2)\n",
    "    plt.xlabel(\"GB energy\", fontsize=18)\n",
    "    plt.ylabel(\"velocity (voxel/step)\", fontsize=18)\n",
    "    plt.savefig(figure_name_all_bin, dpi=400,bbox_inches='tight')\n",
    "    \n",
    "    plt.figure()\n",
    "    fig = plt.figure(figsize=(7, 7))\n",
    "    plt.xlim([0.3,1.0])\n",
    "    plt.ylim([0,0.15])\n",
    "    plt.plot(GBenergy_coordinate, GBenergy_bin/np.sum(GBenergy_bin),'-', linewidth=2)\n",
    "    plt.xlabel(\"GB energy\", fontsize=18)\n",
    "    plt.ylabel(\"distribution\", fontsize=18)\n",
    "    \n",
    "    antic_ratio_bin = np.zeros(bin_number)\n",
    "    for bin_i in range(len(GBenergy_bin)):\n",
    "        if GBenergy_bin[bin_i] > 0: antic_ratio_bin[bin_i] = antic_num_bin[bin_i]/GBenergy_bin[bin_i]\n",
    "    plt.figure()\n",
    "    fig = plt.figure(figsize=(7, 7))\n",
    "    plt.xlim([0.3,1.0])\n",
    "    plt.ylim([0,0.5])\n",
    "    plt.plot(GBenergy_coordinate[antic_ratio_bin>0], antic_ratio_bin[antic_ratio_bin>0],'o', linewidth=2)\n",
    "    plt.xlabel(\"GB energy\", fontsize=18)\n",
    "    plt.ylabel(\"anti-c fraction\", fontsize=18)\n",
    "    \n",
    "    anti_c_data_file_name = f\"data/3D_antic_data_{case_name}\"\n",
    "    np.savez(anti_c_data_file_name,antic_ratio_bin=antic_ratio_bin,GBenergy_bin=GBenergy_bin)\n",
    "    \n",
    "    GBenergy_coordinate_larger0 = GBenergy_coordinate[antic_ratio_bin>0]\n",
    "    delta_n = -0.66*np.log(antic_ratio_bin[antic_ratio_bin>0])/GBenergy_coordinate[antic_ratio_bin>0]\n",
    "    mean_delta_n = np.mean(delta_n)\n",
    "    mean_delta_n_2 = np.sum(delta_n*GBenergy_bin[antic_ratio_bin>0]/np.sum(GBenergy_bin[antic_ratio_bin>0]))\n",
    "    print(mean_delta_n_2)\n",
    "    plt.figure()\n",
    "    fig = plt.figure(figsize=(7, 7))\n",
    "    plt.xlim([0.3,1.0])\n",
    "    plt.ylim([0,5])\n",
    "    plt.plot(GBenergy_coordinate_larger0, delta_n,'o', linewidth=2, label = 'results')\n",
    "    plt.plot(GBenergy_coordinate_larger0, mean_delta_n*np.ones(len(GBenergy_coordinate_larger0)),'--',linewidth=2,color='gray',label=f'mean-{round(mean_delta_n,2)}')\n",
    "    plt.legend(fontsize=18)\n",
    "    plt.xlabel(\"GB energy\", fontsize=18)\n",
    "    plt.ylabel(\"num of site\", fontsize=18)\n",
    "        \n"
   ]
  },
  {
   "cell_type": "code",
   "execution_count": 13,
   "id": "a02be276-7b6a-4ee7-975b-23800e3f3269",
   "metadata": {
    "tags": []
   },
   "outputs": [
    {
     "name": "stderr",
     "output_type": "stream",
     "text": [
      " 27%|██▋       | 14/51 [00:05<00:15,  2.34it/s]\n"
     ]
    },
    {
     "data": {
      "text/plain": [
       "<Figure size 432x288 with 0 Axes>"
      ]
     },
     "metadata": {},
     "output_type": "display_data"
    },
    {
     "data": {
      "image/png": "[encoded data removed]",
      "text/plain": [
       "<Figure size 504x504 with 1 Axes>"
      ]
     },
     "metadata": {
      "needs_background": "light"
     },
     "output_type": "display_data"
    },
    {
     "data": {
      "text/plain": [
       "<Figure size 432x288 with 0 Axes>"
      ]
     },
     "metadata": {},
     "output_type": "display_data"
    },
    {
     "data": {
      "image/png": "[encoded data removed]",
      "text/plain": [
       "<Figure size 504x504 with 1 Axes>"
      ]
     },
     "metadata": {
      "needs_background": "light"
     },
     "output_type": "display_data"
    },
    {
     "data": {
      "text/plain": [
       "<Figure size 432x288 with 0 Axes>"
      ]
     },
     "metadata": {},
     "output_type": "display_data"
    },
    {
     "data": {
      "image/png": "[encoded data removed]",
      "text/plain": [
       "<Figure size 504x504 with 1 Axes>"
      ]
     },
     "metadata": {
      "needs_background": "light"
     },
     "output_type": "display_data"
    },
    {
     "data": {
      "text/plain": [
       "<Figure size 432x288 with 0 Axes>"
      ]
     },
     "metadata": {},
     "output_type": "display_data"
    },
    {
     "data": {
      "image/png": "[encoded data removed]",
      "text/plain": [
       "<Figure size 504x504 with 1 Axes>"
      ]
     },
     "metadata": {
      "needs_background": "light"
     },
     "output_type": "display_data"
    }
   ],
   "source": [
    "    # For one specific time steps with 1000 grains\n",
    "\n",
    "    # get expected time step\n",
    "    expected_grain_num = 2000\n",
    "    grain_num_array = np.zeros(npy_file_aniso.shape[0])\n",
    "    # Calculate the number of grains\n",
    "    for i in tqdm(range(npy_file_aniso.shape[0])):\n",
    "        grain_num = len(np.unique(npy_file_aniso[i,:]))\n",
    "        grain_num_array[i] = grain_num\n",
    "        if grain_num < expected_grain_num/2: break\n",
    "    expected_time_step = int(np.argmin(abs(grain_num_array - expected_grain_num)))\n",
    "\n",
    "    # get all data on specific grain step\n",
    "    expected_step_curvature_list = GB_list_curvature_list[expected_time_step]\n",
    "    expected_step_velocity_list = GB_list_velocity_list[expected_time_step]\n",
    "    expected_step_GBenergy_list = GB_list_GBenergy_list[expected_time_step]\n",
    "    expected_step_curvature_list_exrandom = GB_list_curvature_list_exrandom[expected_time_step]\n",
    "    expected_step_velocity_list_exrandom = GB_list_velocity_list_exrandom[expected_time_step]\n",
    "    expected_step_GBenergy_list_exrandom = GB_list_GBenergy_list_exrandom[expected_time_step]\n",
    "\n",
    "    # plot\n",
    "    figure_name_all = f\"figures/2D_velocity_GBenergy_{case_name}_5d_grain{expected_grain_num}.png\"\n",
    "    plt.figure()\n",
    "    fig = plt.figure(figsize=(7, 7))\n",
    "    plt.scatter(expected_step_GBenergy_list_exrandom, expected_step_velocity_list_exrandom,s=4,alpha=0.5,label='All GBs')\n",
    "    # GB_antic_list_GBenergy_list = np.array(GB_antic_list_GBenergy_list)\n",
    "    # GB_antic_list_velocity_list = np.array(GB_antic_list_velocity_list)\n",
    "    # GB_antic_list_anticNum_array = np.array(GB_antic_list_anticNum_list)\n",
    "    # plt.scatter(GB_antic_list_GBenergy_list[GB_antic_list_anticNum_array>=5], GB_antic_list_velocity_list[GB_antic_list_anticNum_array>=5],s=4,alpha=0.5,label='anti-c GBs(5 steps)')\n",
    "    plt.plot([0.3,1.0],[0,0],'-',color='grey',linewidth=2)\n",
    "    plt.xlabel(\"GB energy\", fontsize=18)\n",
    "    plt.ylabel(\"velocity (voxel/step)\", fontsize=18)\n",
    "    plt.xlim([0.3,1.0])\n",
    "    plt.ylim([-0.6,0.6])\n",
    "    # plt.legend(fontsize=18)\n",
    "    plt.savefig(figure_name_all, dpi=400,bbox_inches='tight')\n",
    "    \n",
    "    # plot velocity VS averaged GBenergy\n",
    "    bin_interval = 0.02\n",
    "    x_lim = [0.20,1.2]\n",
    "    bin_number = int((x_lim[1]-x_lim[0])/bin_interval)\n",
    "    GBenergy_coordinate = np.arange(x_lim[0],x_lim[1],bin_interval)+bin_interval/2\n",
    "    \n",
    "    \n",
    "    GBenergy_bin = np.zeros(bin_number)\n",
    "    velocity_bin = np.zeros(bin_number)\n",
    "    antic_num_bin = np.zeros(bin_number)\n",
    "    for index in range(len(expected_step_GBenergy_list_exrandom)):\n",
    "        if abs(expected_step_GBenergy_list_exrandom[index])>=1.01: continue\n",
    "        GBenergy_bin[int((expected_step_GBenergy_list_exrandom[index]-x_lim[0])//bin_interval)] += 1\n",
    "        velocity_bin[int((expected_step_GBenergy_list_exrandom[index]-x_lim[0])//bin_interval)] += expected_step_velocity_list_exrandom[index]\n",
    "        if expected_step_velocity_list_exrandom[index] < 0: antic_num_bin[int((expected_step_GBenergy_list_exrandom[index]-x_lim[0])//bin_interval)] += 1\n",
    "        if int((expected_step_GBenergy_list_exrandom[index]-x_lim[0])//bin_interval)<0: print(expected_step_GBenergy_list_exrandom[index])\n",
    "    for i in range(bin_number): \n",
    "        if GBenergy_bin[i]>0: velocity_bin[i] = velocity_bin[i]/GBenergy_bin[i]\n",
    "    # plot\n",
    "    figure_name_all_bin = f\"figures/2D_velocity_GBenergy_{case_name}_5d_afterBin_grain{expected_grain_num}.png\"\n",
    "    plt.figure()\n",
    "    fig = plt.figure(figsize=(7, 7))\n",
    "    # plt.scatter(GBenergy_coordinate, velocity_bin,s=4,alpha=0.5)\n",
    "    plt.xlim([0.3,1.0])\n",
    "    plt.ylim([-0.2,0.2])\n",
    "    plt.plot(GBenergy_coordinate[velocity_bin!=0], velocity_bin[velocity_bin!=0],'o', linewidth=2)\n",
    "    plt.xlabel(\"GB energy\", fontsize=18)\n",
    "    plt.ylabel(\"velocity (voxel/step)\", fontsize=18)\n",
    "    plt.savefig(figure_name_all_bin, dpi=400,bbox_inches='tight')\n",
    "\n",
    "    plt.figure()\n",
    "    fig = plt.figure(figsize=(7, 7))\n",
    "    plt.xlim([0.3,1.0])\n",
    "    plt.ylim([0,0.3])\n",
    "    plt.plot(GBenergy_coordinate, GBenergy_bin/np.sum(GBenergy_bin),'-', linewidth=2)\n",
    "    plt.xlabel(\"GB energy\", fontsize=18)\n",
    "    plt.ylabel(\"distribution\", fontsize=18)\n",
    "\n",
    "    antic_ratio_bin = np.zeros(bin_number)\n",
    "    for bin_i in range(len(GBenergy_bin)):\n",
    "        if GBenergy_bin[bin_i] > 0: antic_ratio_bin[bin_i] = antic_num_bin[bin_i]/GBenergy_bin[bin_i]\n",
    "    plt.figure()\n",
    "    fig = plt.figure(figsize=(7, 7))\n",
    "    plt.xlim([0.3,1.0])\n",
    "    plt.ylim([0,1.5])\n",
    "    plt.plot(GBenergy_coordinate[antic_ratio_bin>0], antic_ratio_bin[antic_ratio_bin>0],'o', linewidth=2)\n",
    "    plt.xlabel(\"GB energy\", fontsize=18)\n",
    "    plt.ylabel(\"anti-c fraction\", fontsize=18)\n",
    "\n",
    "    anti_c_data_file_name = f\"data/2D_antic_data_{case_name}_grain{expected_grain_num}\"\n",
    "    np.savez(anti_c_data_file_name,antic_ratio_bin=antic_ratio_bin,GBenergy_bin=GBenergy_bin)\n",
    "\n"
   ]
  },
  {
   "cell_type": "code",
   "execution_count": null,
   "id": "ae445608-f2f7-48ad-9190-a9f112608900",
   "metadata": {},
   "outputs": [],
   "source": []
  },
  {
   "cell_type": "code",
   "execution_count": null,
   "id": "4bb80fb6-c8cf-4c92-b846-5ac2ada48165",
   "metadata": {},
   "outputs": [],
   "source": [
    "    # Plot relationship for each time steps\n",
    "    for time_step in range(0,len(GB_list_velocity_list),10):\n",
    "        figure_name = f\"figures/3D_velocity_signedcurvature_MI_step{time_step}_{case_name}.png\"\n",
    "        plt.figure()\n",
    "        fig = plt.figure(figsize=(7, 7))\n",
    "        plt.scatter(GB_list_curvature_list[time_step], GB_list_velocity_list[time_step],s=4,alpha=0.5)\n",
    "        plt.xlabel(\"curvature\", fontsize=18)\n",
    "        plt.ylabel(\"velocity (voxel/step)\", fontsize=18)\n",
    "        plt.xlim([-0.6,0.6])\n",
    "        plt.ylim([-10,10])\n",
    "        # plt.savefig(figure_name, dpi=400,bbox_inches='tight')\n",
    "        \n",
    "        # plot velocity VS averaged curvature\n",
    "        bin_interval = 0.001\n",
    "        x_lim = [0.0,0.1]\n",
    "        bin_number = int((x_lim[1]-x_lim[0])/bin_interval)\n",
    "        curvature_coordinate = np.arange(x_lim[0],x_lim[1],bin_interval)+bin_interval/2\n",
    "\n",
    "        curvature_bin = np.zeros(bin_number)\n",
    "        velocity_bin = np.zeros(bin_number)\n",
    "        for index in range(len(GB_list_curvature_list[time_step])):\n",
    "            if abs(GB_list_curvature_list[time_step][index])>x_lim[1]: continue\n",
    "            curvature_bin[int((GB_list_curvature_list[time_step][index]-x_lim[0])//bin_interval)] += 1\n",
    "            velocity_bin[int((GB_list_curvature_list[time_step][index]-x_lim[0])//bin_interval)] += GB_list_velocity_list[time_step][index]\n",
    "        for i in range(bin_number): \n",
    "            if curvature_bin[i]>0: velocity_bin[i] = velocity_bin[i]/curvature_bin[i]\n",
    "        # plot\n",
    "        figure_name_all_bin = f\"figures/3D_velocity_signedcurvature_step{time_step}_{case_name}_afterBin.png\"\n",
    "        plt.figure()\n",
    "        fig = plt.figure(figsize=(7, 7))\n",
    "        # plt.scatter(curvature_coordinate, velocity_bin,s=4,alpha=0.5)\n",
    "        plt.plot(curvature_coordinate, velocity_bin,'o', linewidth=2)\n",
    "        plt.xlabel(\"curvature\", fontsize=18)\n",
    "        plt.ylabel(\"velocity (voxel/step)\", fontsize=18)\n",
    "        plt.xlim([-0.6,0.6])\n",
    "        plt.ylim([-5,5])\n",
    "        # plt.savefig(figure_name_all_bin, dpi=400,bbox_inches='tight')"
   ]
  },
  {
   "cell_type": "code",
   "execution_count": null,
   "id": "f6ac1373-cac0-435c-bc23-f9c1aa0ef8eb",
   "metadata": {},
   "outputs": [],
   "source": []
  },
  {
   "cell_type": "code",
   "execution_count": null,
   "id": "7ab679ee-41d7-47d6-8d75-847eeab7fe6b",
   "metadata": {},
   "outputs": [],
   "source": []
  },
  {
   "cell_type": "code",
   "execution_count": null,
   "id": "1c863c6b-9fd9-45b7-b4ca-b9188479c80d",
   "metadata": {},
   "outputs": [],
   "source": []
  },
  {
   "cell_type": "code",
   "execution_count": null,
   "id": "6aa1a164-84e3-47ae-a192-fd7d956f6a2e",
   "metadata": {},
   "outputs": [],
   "source": []
  },
  {
   "cell_type": "code",
   "execution_count": null,
   "id": "718362f0-b4ce-4839-afff-c0a4992d4187",
   "metadata": {
    "tags": []
   },
   "outputs": [],
   "source": []
  },
  {
   "cell_type": "code",
   "execution_count": null,
   "id": "7f5ceda3-c17c-45ae-ad05-9aaab0112017",
   "metadata": {
    "tags": []
   },
   "outputs": [],
   "source": []
  },
  {
   "cell_type": "code",
   "execution_count": null,
   "id": "7e609b22-de14-4273-867b-60249af30047",
   "metadata": {},
   "outputs": [],
   "source": []
  },
  {
   "cell_type": "code",
   "execution_count": null,
   "id": "96aaa591-4902-4adc-bee7-240d3ade3fef",
   "metadata": {
    "tags": []
   },
   "outputs": [],
   "source": []
  },
  {
   "cell_type": "code",
   "execution_count": null,
   "id": "2501136d-68e1-40d1-b2b9-f783e9c8309e",
   "metadata": {},
   "outputs": [],
   "source": []
  },
  {
   "cell_type": "code",
   "execution_count": null,
   "id": "21b813f5-daa4-484e-a6c2-418239a0ccf4",
   "metadata": {},
   "outputs": [],
   "source": []
  },
  {
   "cell_type": "code",
   "execution_count": null,
   "id": "47e6a561-4483-49d8-8ddd-f78e643a2ae1",
   "metadata": {},
   "outputs": [],
   "source": []
  },
  {
   "cell_type": "markdown",
   "id": "bba82fb0-9f73-48dc-8a89-0bbd9316c7a0",
   "metadata": {},
   "source": []
  },
  {
   "cell_type": "code",
   "execution_count": 25,
   "id": "b6f0d347-fb1b-4010-a68f-cc171486d9c8",
   "metadata": {},
   "outputs": [],
   "source": []
  },
  {
   "cell_type": "code",
   "execution_count": 24,
   "id": "63a608d4-8807-4dfc-b364-4f0e17d354de",
   "metadata": {
    "tags": []
   },
   "outputs": [],
   "source": []
  },
  {
   "cell_type": "code",
   "execution_count": null,
   "id": "c39770d2-4fd3-4661-b53b-b52437e4dacd",
   "metadata": {
    "tags": []
   },
   "outputs": [],
   "source": []
  },
  {
   "cell_type": "code",
   "execution_count": null,
   "id": "0ef2391b-b155-42c1-b668-22cedf0227ce",
   "metadata": {
    "tags": []
   },
   "outputs": [],
   "source": []
  },
  {
   "cell_type": "code",
   "execution_count": null,
   "id": "8685c367-edac-427c-a027-acbf536ae4a0",
   "metadata": {
    "tags": []
   },
   "outputs": [],
   "source": []
  },
  {
   "cell_type": "code",
   "execution_count": null,
   "id": "f8c6a201-3ce1-40ff-a227-fc129528b8a3",
   "metadata": {
    "tags": []
   },
   "outputs": [],
   "source": []
  },
  {
   "cell_type": "code",
   "execution_count": null,
   "id": "b508666b-2912-4561-b1de-3aaf4631a472",
   "metadata": {
    "tags": []
   },
   "outputs": [],
   "source": []
  },
  {
   "cell_type": "code",
   "execution_count": 50,
   "id": "11b10ead-c344-4335-b3f6-a9fd2aaea54d",
   "metadata": {},
   "outputs": [],
   "source": []
  },
  {
   "cell_type": "code",
   "execution_count": 51,
   "id": "de699200-8f67-45dc-ad6e-02b0aa8101d5",
   "metadata": {},
   "outputs": [],
   "source": []
  },
  {
   "cell_type": "code",
   "execution_count": 52,
   "id": "4212a4ef-e7ad-4490-b5dc-48195c9defc7",
   "metadata": {},
   "outputs": [],
   "source": []
  },
  {
   "cell_type": "code",
   "execution_count": null,
   "id": "e625f572-387b-4aba-a3ed-f91e307f407a",
   "metadata": {
    "tags": []
   },
   "outputs": [],
   "source": []
  },
  {
   "cell_type": "code",
   "execution_count": null,
   "id": "e018ea3f-1eaa-4306-b2e8-ba4cd4a338f3",
   "metadata": {
    "tags": []
   },
   "outputs": [],
   "source": []
  },
  {
   "cell_type": "code",
   "execution_count": null,
   "id": "507f29ba-42b1-4b69-933a-ca317668c164",
   "metadata": {
    "tags": []
   },
   "outputs": [],
   "source": []
  },
  {
   "cell_type": "code",
   "execution_count": 248,
   "id": "ce9edf05-842a-467b-9e55-8ce1d1fde9ed",
   "metadata": {
    "tags": []
   },
   "outputs": [],
   "source": []
  },
  {
   "cell_type": "code",
   "execution_count": null,
   "id": "202e892d-2149-4fd4-ac47-878df34fda4b",
   "metadata": {},
   "outputs": [],
   "source": []
  }
 ],
 "metadata": {
  "kernelspec": {
   "display_name": "UFRC Python-3.8",
   "language": "python",
   "name": "python3-3.8-ufrc"
  },
  "language_info": {
   "codemirror_mode": {
    "name": "ipython",
    "version": 3
   },
   "file_extension": ".py",
   "mimetype": "text/x-python",
   "name": "python",
   "nbconvert_exporter": "python",
   "pygments_lexer": "ipython3",
   "version": "3.8.15"
  }
 },
 "nbformat": 4,
 "nbformat_minor": 5
}
