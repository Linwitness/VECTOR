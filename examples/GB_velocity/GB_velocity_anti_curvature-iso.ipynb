{
 "cells": [
  {
   "cell_type": "code",
   "execution_count": null,
   "id": "4b195c7c-3d58-4d9f-b559-8e34a5e9789a",
   "metadata": {
    "tags": []
   },
   "outputs": [
    {
     "data": {
      "text/plain": [
       "<module 'PACKAGE_MP_Linear' from '/home/lin.yang/projects/VECTOR/examples/GB_velocity/../../PACKAGE_MP_Linear.py'>"
      ]
     },
     "execution_count": 1,
     "metadata": {},
     "output_type": "execute_result"
    }
   ],
   "source": [
    "# Import required libraries and setup paths for grain boundary velocity analysis\n",
    "import os\n",
    "current_path = os.getcwd()  # Get current working directory\n",
    "import numpy as np\n",
    "from numpy import seterr\n",
    "seterr(all='raise')  # Set numpy to raise exceptions on all floating point errors\n",
    "import matplotlib.pyplot as plt\n",
    "from tqdm import tqdm  # Progress bar for loops\n",
    "import sys\n",
    "\n",
    "# Add necessary paths for importing custom modules\n",
    "sys.path.append(current_path)  # Current directory\n",
    "sys.path.append(current_path+'/../../')  # Parent directory for main modules\n",
    "import myInput  # Custom input handling module\n",
    "import PACKAGE_MP_Linear as linear2d  # 2D linear multi-physics package\n",
    "import post_processing  # Post-processing utilities\n",
    "sys.path.append(current_path+'/../calculate_tangent/')  # Path for tangent calculation utilities"
   ]
  },
  {
   "cell_type": "markdown",
   "id": "29d8158d-5d09-4363-b3e8-1a7d857a34ba",
   "metadata": {
    "tags": []
   },
   "source": [
    "## 2D case"
   ]
  },
  {
   "cell_type": "code",
   "execution_count": null,
   "id": "f6ac1373-cac0-435c-bc23-f9c1aa0ef8eb",
   "metadata": {},
   "outputs": [
    {
     "name": "stdout",
     "output_type": "stream",
     "text": [
      "The MI_20k_iso data size is: (201, 2400, 2400, 1)\n",
      "READING DATA DONE\n",
      "The MI_20k_iso data size is: (201, 2400, 2400, 1)\n",
      "READING ENERGY DATA DONE\n"
     ]
    }
   ],
   "source": [
    "if __name__ == '__main__':\n",
    "    # =============================================================================\n",
    "    # DATA LOADING AND SETUP\n",
    "    # =============================================================================\n",
    "    \n",
    "    # Define file paths for data storage and retrieval\n",
    "    data_file_folder = \"/blue/michael.tonks/lin.yang/VECTOR_data/\"  # Main data folder\n",
    "    npy_file_folder = \"/blue/michael.tonks/lin.yang/SPPARKS-VirtualIncEnergy/2d_poly_wellEnergy/results/\"  # SPPARKS simulation results\n",
    "    \n",
    "    # Case configuration - this is an isotropic case with 20k grains\n",
    "    case_name = \"MI_20k_iso\"\n",
    "    \n",
    "    # Define file names for microstructure and energy data\n",
    "    # These files contain the simulation results from SPPARKS\n",
    "    npy_file_name_aniso = f\"p_aveE_20000_Cos_delta0.0_J1_refer_1_0_0_seed56689_kt0.66.npy\"  # Microstructure data\n",
    "    npy_file_name_aniso_energy = f\"p_aveE_20000_Cos_delta0.0_J1_refer_1_0_0_seed56689_kt0.66_energy.npy\"  # Energy data\n",
    "    \n",
    "    # Load microstructure data\n",
    "    npy_file_aniso = np.load(npy_file_folder + npy_file_name_aniso)  # Load microstructure evolution\n",
    "    npy_file_aniso = npy_file_aniso.astype(int)  # Convert to integer grain IDs\n",
    "    print(f\"The {case_name} data size is: {npy_file_aniso.shape}\")\n",
    "    print(\"READING DATA DONE\")\n",
    "    \n",
    "    # Load energy data corresponding to the microstructure\n",
    "    npy_file_aniso_energy = np.load(npy_file_folder + npy_file_name_aniso_energy)  # Load energy evolution\n",
    "    print(f\"The {case_name} data size is: {npy_file_aniso_energy.shape}\")\n",
    "    print(\"READING ENERGY DATA DONE\")\n",
    "    \n",
    "    # Extract dimensions: time steps, spatial dimensions\n",
    "    step_num, size_x, size_y, size_z = npy_file_aniso.shape"
   ]
  },
  {
   "cell_type": "code",
   "execution_count": null,
   "id": "648cafcd-72e5-4b39-a8ce-7a8e630d8a47",
   "metadata": {
    "tags": []
   },
   "outputs": [
    {
     "name": "stderr",
     "output_type": "stream",
     "text": [
      "100%|██████████| 121/121 [00:00<00:00, 128.11it/s]\n"
     ]
    }
   ],
   "source": [
    "    # =============================================================================\n",
    "    # GRAIN BOUNDARY CURVATURE CALCULATION\n",
    "    # =============================================================================\n",
    "    \n",
    "    # Initialize parameters for GB analysis\n",
    "    step_num = 121  # Number of time steps to analyze\n",
    "    grain_nums = 20000  # Total number of grains in the system\n",
    "    GB_infomation_dict_list = []  # List to store GB information for each time step\n",
    "    curvature_matrix_list = []  # List to store curvature matrices\n",
    "    \n",
    "    # Process each time step to extract GB information and calculate curvature\n",
    "    for time_step in tqdm(range(step_num)):\n",
    "        # Define file names for cached data to avoid recomputation\n",
    "        data_file_name = f\"GB_velocity_data/2D_signedcurvature_velocity_data_{case_name}_step{time_step}.npz\"\n",
    "        data_curvature_file_name = f\"GB_velocity_data/2D_matrix_signedcurvature_data_{case_name}_step{time_step}.npz\"\n",
    "        \n",
    "        # Try to load pre-computed data if available\n",
    "        if os.path.exists(data_file_folder + data_file_name):\n",
    "            npz_file = np.load(data_file_folder + data_file_name, allow_pickle=True)\n",
    "            GB_infomation_dict = npz_file[\"GB_infomation_dict\"]\n",
    "            GB_infomation_dict_list.append(GB_infomation_dict.item())\n",
    "        else:\n",
    "            # If pre-computed data doesn't exist, calculate from scratch\n",
    "            current_microstructure = npy_file_aniso[time_step]\n",
    "            \n",
    "            # Calculate signed curvature using the linear solver\n",
    "            if os.path.exists(data_file_folder + data_curvature_file_name):\n",
    "                # Load pre-computed curvature matrix\n",
    "                npz_file_curvature = np.load(data_file_folder + data_curvature_file_name)\n",
    "                curvature_matrix = npz_file_curvature[\"curvature_matrix\"]\n",
    "                curvature_matrix_list.append(curvature_matrix)\n",
    "            else:\n",
    "                # Calculate curvature using the linear multi-physics solver\n",
    "                cores = 128  # Number of CPU cores for parallel processing\n",
    "                loop_times = 5  # Number of iterations for convergence\n",
    "                R = np.zeros((size_x, size_y, 3))  # Initialize reference array\n",
    "                \n",
    "                # Create smoothing class instance for curvature calculation\n",
    "                smoothing_class = linear2d.linear_class(\n",
    "                    size_x, size_y, grain_nums, cores, loop_times,\n",
    "                    current_microstructure[:, :, 0], R,\n",
    "                    verification_system=False,\n",
    "                    curvature_sign=True  # Calculate signed curvature\n",
    "                )\n",
    "                smoothing_class.linear_main(\"curvature\")  # Run curvature calculation\n",
    "                C_ln = smoothing_class.get_C()  # Get curvature results\n",
    "                curvature_matrix = C_ln[1, :]  # Extract curvature matrix\n",
    "                curvature_matrix_list.append(curvature_matrix)\n",
    "                # save curvature information\n",
    "                # np.savez(data_file_folder + data_curvature_file_name, curvature_matrix=curvature_matrix)\n",
    "            print(\"Finish curvature calculation\")\n",
    "            \n",
    "            # =============================================================================\n",
    "            # TRIPLE JUNCTION (TJ) AND QUADRUPLE JUNCTION (QJ) DETECTION\n",
    "            # =============================================================================\n",
    "            \n",
    "            # Identify triple and quadruple junctions to exclude them from GB analysis\n",
    "            TJ_infomation_dict = dict()\n",
    "            for index, result in np.ndenumerate(current_microstructure):\n",
    "                i, j, k = index\n",
    "                # Get periodic boundary conditions for neighbors\n",
    "                ip, im, jp, jm = myInput.periodic_bc(size_x, size_y, i, j)\n",
    "                \n",
    "                # Check if current voxel is at a grain boundary\n",
    "                if (((current_microstructure[ip, j, k] - current_microstructure[i, j, k]) != 0) or \n",
    "                    ((current_microstructure[im, j, k] - current_microstructure[i, j, k]) != 0) or\n",
    "                    ((current_microstructure[i, jp, k] - current_microstructure[i, j, k]) != 0) or \n",
    "                    ((current_microstructure[i, jm, k] - current_microstructure[i, j, k]) != 0)):\n",
    "                    \n",
    "                    central_site = int(current_microstructure[i, j, k])\n",
    "                    \n",
    "                    # Get all neighboring grain IDs\n",
    "                    neighboring_sites_list = np.array([\n",
    "                        current_microstructure[ip, j, k], current_microstructure[i, jp, k],\n",
    "                        current_microstructure[im, j, k], current_microstructure[i, jm, k]\n",
    "                    ]).astype(int)\n",
    "                    \n",
    "                    # Find unique neighboring grain IDs\n",
    "                    neighboring_sites_set = set(neighboring_sites_list)\n",
    "                    if central_site in neighboring_sites_set: \n",
    "                        neighboring_sites_set.remove(central_site)  # Remove central grain ID\n",
    "                    neighboring_sites_list_unque = list(neighboring_sites_set)\n",
    "                    \n",
    "                    # If more than 1 neighboring grain, this is a junction point\n",
    "                    if len(neighboring_sites_list_unque) > 1:\n",
    "                        for m in range(len(neighboring_sites_list_unque)):\n",
    "                            pair_id = post_processing.get_line(central_site, neighboring_sites_list_unque[m])\n",
    "                            if pair_id in TJ_infomation_dict:\n",
    "                                tmp = TJ_infomation_dict[pair_id]\n",
    "                                tmp.append([i, j, k])\n",
    "                                TJ_infomation_dict[pair_id] = tmp\n",
    "                            else:\n",
    "                                TJ_infomation_dict[pair_id] = [[i, j, k]]\n",
    "            print(\"Finish TJ extraction\")\n",
    "            \n",
    "            # =============================================================================\n",
    "            # GRAIN BOUNDARY CENTER CALCULATION\n",
    "            # =============================================================================\n",
    "            \n",
    "            # Calculate the center position and properties of each grain boundary\n",
    "            GB_infomation_dict = dict()\n",
    "            TJ_distance_max = 6  # Maximum distance from TJ to exclude (in voxels)\n",
    "            \n",
    "            for index, result in np.ndenumerate(current_microstructure):\n",
    "                i, j, k = index\n",
    "                ip, im, jp, jm = myInput.periodic_bc(size_x, size_y, i, j)\n",
    "                \n",
    "                # Check if current voxel is at a grain boundary\n",
    "                if (((current_microstructure[ip, j, k] - current_microstructure[i, j, k]) != 0) or \n",
    "                    ((current_microstructure[im, j, k] - current_microstructure[i, j, k]) != 0) or\n",
    "                    ((current_microstructure[i, jp, k] - current_microstructure[i, j, k]) != 0) or \n",
    "                    ((current_microstructure[i, jm, k] - current_microstructure[i, j, k]) != 0)):\n",
    "                    \n",
    "                    central_site = int(current_microstructure[i, j, k])\n",
    "                    neighboring_sites_list = np.array([\n",
    "                        current_microstructure[ip, j, k], current_microstructure[i, jp, k],\n",
    "                        current_microstructure[im, j, k], current_microstructure[i, jm, k]\n",
    "                    ]).astype(int)\n",
    "                    \n",
    "                    neighboring_sites_set = set(neighboring_sites_list)\n",
    "                    if central_site in neighboring_sites_set: \n",
    "                        neighboring_sites_set.remove(central_site)\n",
    "                    neighboring_sites_list_unque = list(neighboring_sites_set)\n",
    "                    \n",
    "                    # Skip junction points (more than 2 grains meeting)\n",
    "                    if len(neighboring_sites_list_unque) > 1: \n",
    "                        continue\n",
    "                    \n",
    "                    # Check distance from triple junctions to exclude nearby voxels\n",
    "                    break_point = 0\n",
    "                    pair_id = post_processing.get_line(central_site, neighboring_sites_list_unque[0])\n",
    "                    if central_site < neighboring_sites_list_unque[0]: \n",
    "                        pair_id_pair = [central_site, neighboring_sites_list_unque[0]]\n",
    "                    else: \n",
    "                        pair_id_pair = [neighboring_sites_list_unque[0], central_site]\n",
    "                    \n",
    "                    # Initialize or update GB information\n",
    "                    if pair_id in GB_infomation_dict:\n",
    "                        GB_infomation_dict[pair_id][5] += 1  # Increment GB area count\n",
    "                    else:\n",
    "                        # [GB_count, sum_i, sum_j, sum_k, sum_curvature, area, grain_id1, grain_id2]\n",
    "                        GB_infomation = np.array([0, 0, 0, 0, 0.0, 1, pair_id_pair[0], pair_id_pair[1]])\n",
    "                        GB_infomation_dict[pair_id] = GB_infomation\n",
    "                    \n",
    "                    # Check if this voxel is too close to a triple junction\n",
    "                    if pair_id in TJ_infomation_dict:\n",
    "                        for TJ_site in TJ_infomation_dict[pair_id]:\n",
    "                            TJ_distance = np.linalg.norm(index - np.array(TJ_site))\n",
    "                            if TJ_distance < TJ_distance_max:\n",
    "                                break_point = 1\n",
    "                                break\n",
    "                    if break_point == 1: \n",
    "                        continue\n",
    "                    \n",
    "                    # Accumulate GB properties (position and curvature)\n",
    "                    GB_infomation_dict[pair_id][0] += 1  # Increment valid voxel count\n",
    "                    if central_site == pair_id_pair[0]:\n",
    "                        # Add position and curvature with correct sign\n",
    "                        GB_infomation_dict[pair_id][1:5] += np.array([i, j, k, curvature_matrix[i, j]])\n",
    "                    else:\n",
    "                        # Flip curvature sign for opposite grain orientation\n",
    "                        GB_infomation_dict[pair_id][1:5] += np.array([i, j, k, -curvature_matrix[i, j]])\n",
    "            \n",
    "            # =============================================================================\n",
    "            # POST-PROCESSING: REMOVE SMALL GBs AND CALCULATE AVERAGES\n",
    "            # =============================================================================\n",
    "            \n",
    "            # Remove grain boundaries with no valid voxels after TJ filtering\n",
    "            small_GB_list = []\n",
    "            for key in GB_infomation_dict:\n",
    "                if GB_infomation_dict[key][0] == 0:\n",
    "                    small_GB_list.append(key)\n",
    "            for s_index in range(len(small_GB_list)): \n",
    "                GB_infomation_dict.pop(small_GB_list[s_index])\n",
    "            \n",
    "            # Calculate average position and curvature for each GB\n",
    "            for key in GB_infomation_dict:\n",
    "                GB_infomation_dict[key][1:5] = GB_infomation_dict[key][1:5] / GB_infomation_dict[key][0]\n",
    "            \n",
    "            print(f\"Current GBs len at {time_step} steps: {len(GB_infomation_dict)}\")\n",
    "            \n",
    "            # Save computed information for future use\n",
    "            np.savez(data_file_folder + data_file_name, GB_infomation_dict=GB_infomation_dict)\n",
    "            GB_infomation_dict_list.append(GB_infomation_dict)"
   ]
  },
  {
   "cell_type": "code",
   "execution_count": null,
   "id": "1c863c6b-9fd9-45b7-b4ca-b9188479c80d",
   "metadata": {},
   "outputs": [
    {
     "name": "stderr",
     "output_type": "stream",
     "text": [
      "100%|██████████| 121/121 [00:00<00:00, 132.49it/s]\n"
     ]
    }
   ],
   "source": [
    "    # =============================================================================\n",
    "    # GRAIN BOUNDARY ENERGY CALCULATION\n",
    "    # =============================================================================\n",
    "    \n",
    "    # Similar to curvature calculation, but focused on extracting GB energy information\n",
    "    step_num = 121\n",
    "    grain_nums = 20000\n",
    "    GBenergy_information_dict_list = []  # Store GB energy information for each time step\n",
    "    \n",
    "    for time_step in tqdm(range(step_num)):\n",
    "        data_file_name_GBenergy = f\"GB_velocity_data/2D_GBenergy_velocity_data_{case_name}_step{time_step}.npz\"\n",
    "        \n",
    "        # Try to load pre-computed energy data\n",
    "        if os.path.exists(data_file_folder + data_file_name_GBenergy):\n",
    "            npz_file = np.load(data_file_folder + data_file_name_GBenergy, allow_pickle=True)\n",
    "            GBenergy_information_dict = npz_file[\"GBenergy_information_dict\"]\n",
    "            GBenergy_information_dict_list.append(GBenergy_information_dict.item())\n",
    "        else:\n",
    "            # Calculate energy information from scratch\n",
    "            current_microstructure = npy_file_aniso[time_step]\n",
    "            current_energy = npy_file_aniso_energy[time_step]  # Load corresponding energy data\n",
    "\n",
    "            # Re-extract triple junction information for energy calculation\n",
    "            TJ_infomation_dict = dict()\n",
    "            for index, result in np.ndenumerate(current_microstructure):\n",
    "                i, j, k = index\n",
    "                ip, im, jp, jm = myInput.periodic_bc(size_x, size_y, i, j)\n",
    "                \n",
    "                if (((current_microstructure[ip, j, k] - current_microstructure[i, j, k]) != 0) or \n",
    "                    ((current_microstructure[im, j, k] - current_microstructure[i, j, k]) != 0) or\n",
    "                    ((current_microstructure[i, jp, k] - current_microstructure[i, j, k]) != 0) or \n",
    "                    ((current_microstructure[i, jm, k] - current_microstructure[i, j, k]) != 0)):\n",
    "                    \n",
    "                    central_site = int(current_microstructure[i, j, k])\n",
    "                    neighboring_sites_list = np.array([\n",
    "                        current_microstructure[ip, j, k], current_microstructure[i, jp, k],\n",
    "                        current_microstructure[im, j, k], current_microstructure[i, jm, k]\n",
    "                    ]).astype(int)\n",
    "                    \n",
    "                    neighboring_sites_set = set(neighboring_sites_list)\n",
    "                    if central_site in neighboring_sites_set: \n",
    "                        neighboring_sites_set.remove(central_site)\n",
    "                    neighboring_sites_list_unque = list(neighboring_sites_set)\n",
    "                    \n",
    "                    # Identify triple and quadruple junctions\n",
    "                    if len(neighboring_sites_list_unque) > 1:\n",
    "                        for m in range(len(neighboring_sites_list_unque)):\n",
    "                            pair_id = post_processing.get_line(central_site, neighboring_sites_list_unque[m])\n",
    "                            if pair_id in TJ_infomation_dict:\n",
    "                                tmp = TJ_infomation_dict[pair_id]\n",
    "                                tmp.append([i, j, k])\n",
    "                                TJ_infomation_dict[pair_id] = tmp\n",
    "                            else:\n",
    "                                TJ_infomation_dict[pair_id] = [[i, j, k]]\n",
    "            print(\"Finish TJ extraction\")\n",
    "\n",
    "            # Calculate GB energy information\n",
    "            GBenergy_information_dict = dict()\n",
    "            TJ_distance_max = 6  # Maximum distance from TJ to exclude (in voxels)\n",
    "            \n",
    "            for index, result in np.ndenumerate(current_microstructure):\n",
    "                i, j, k = index\n",
    "                ip, im, jp, jm = myInput.periodic_bc(size_x, size_y, i, j)\n",
    "                \n",
    "                if (((current_microstructure[ip, j, k] - current_microstructure[i, j, k]) != 0) or \n",
    "                    ((current_microstructure[im, j, k] - current_microstructure[i, j, k]) != 0) or\n",
    "                    ((current_microstructure[i, jp, k] - current_microstructure[i, j, k]) != 0) or \n",
    "                    ((current_microstructure[i, jm, k] - current_microstructure[i, j, k]) != 0)):\n",
    "                    \n",
    "                    central_site = int(current_microstructure[i, j, k])\n",
    "                    neighboring_sites_list = np.array([\n",
    "                        current_microstructure[ip, j, k], current_microstructure[i, jp, k],\n",
    "                        current_microstructure[im, j, k], current_microstructure[i, jm, k]\n",
    "                    ]).astype(int)\n",
    "                    \n",
    "                    neighboring_sites_set = set(neighboring_sites_list)\n",
    "                    if central_site in neighboring_sites_set: \n",
    "                        neighboring_sites_set.remove(central_site)\n",
    "                    neighboring_sites_list_unque = list(neighboring_sites_set)\n",
    "                    \n",
    "                    # Count the number of different neighboring grains in extended neighborhood\n",
    "                    num_other_sites = 0\n",
    "                    neighboring_sites_full_list = np.array([\n",
    "                        current_microstructure[ip, jp, k], current_microstructure[ip, j, k], \n",
    "                        current_microstructure[ip, jm, k], current_microstructure[i, jp, k], \n",
    "                        current_microstructure[i, jm, k], current_microstructure[im, jp, k], \n",
    "                        current_microstructure[im, j, k], current_microstructure[im, jm, k]\n",
    "                    ]).astype(int)\n",
    "                    \n",
    "                    for neigh_site in neighboring_sites_full_list:\n",
    "                        if neigh_site != central_site: \n",
    "                            num_other_sites += 1  # Count sites different from central grain\n",
    "                    \n",
    "                    # Skip junction points\n",
    "                    if len(neighboring_sites_list_unque) > 1: \n",
    "                        continue\n",
    "                    \n",
    "                    # Check distance from triple junctions\n",
    "                    break_point = 0\n",
    "                    pair_id = post_processing.get_line(central_site, neighboring_sites_list_unque[0])\n",
    "                    if central_site < neighboring_sites_list_unque[0]: \n",
    "                        pair_id_pair = [central_site, neighboring_sites_list_unque[0]]\n",
    "                    else: \n",
    "                        pair_id_pair = [neighboring_sites_list_unque[0], central_site]\n",
    "                    \n",
    "                    # Initialize or update GB energy information\n",
    "                    if pair_id in GBenergy_information_dict:\n",
    "                        GBenergy_information_dict[pair_id][5] += 1  # Increment area count\n",
    "                    else:\n",
    "                        # [GB_count, sum_i, sum_j, sum_k, sum_energy, area, grain_id1, grain_id2]\n",
    "                        GB_infomation = np.array([0, 0, 0, 0, 0.0, 1, pair_id_pair[0], pair_id_pair[1]])\n",
    "                        GBenergy_information_dict[pair_id] = GB_infomation\n",
    "                    \n",
    "                    # Check distance from triple junctions\n",
    "                    if pair_id in TJ_infomation_dict:\n",
    "                        for TJ_site in TJ_infomation_dict[pair_id]:\n",
    "                            TJ_distance = np.linalg.norm(index - np.array(TJ_site))\n",
    "                            if TJ_distance < TJ_distance_max:\n",
    "                                break_point = 1\n",
    "                                break\n",
    "                    if break_point == 1: \n",
    "                        continue\n",
    "                    \n",
    "                    # Accumulate GB energy and position information\n",
    "                    GBenergy_information_dict[pair_id][0] += 1  # Increment valid voxel count\n",
    "                    # Add position and normalized energy (energy per neighboring grain)\n",
    "                    GBenergy_information_dict[pair_id][1:5] += np.array([i, j, k, current_energy[i, j, k] / num_other_sites])\n",
    "\n",
    "            # Remove small GBs and calculate averages\n",
    "            small_GB_list = []\n",
    "            for key in GBenergy_information_dict:\n",
    "                if GBenergy_information_dict[key][0] == 0:\n",
    "                    small_GB_list.append(key)\n",
    "            for s_index in range(len(small_GB_list)): \n",
    "                GBenergy_information_dict.pop(small_GB_list[s_index])\n",
    "            \n",
    "            # Calculate average position and energy for each GB\n",
    "            for key in GBenergy_information_dict:\n",
    "                GBenergy_information_dict[key][1:5] = GBenergy_information_dict[key][1:5] / GBenergy_information_dict[key][0]\n",
    "            \n",
    "            print(f\"Current GBs len at {time_step} steps: {len(GBenergy_information_dict)}\")\n",
    "            \n",
    "            # Save energy information\n",
    "            np.savez(data_file_folder + data_file_name_GBenergy, GBenergy_information_dict=GBenergy_information_dict)\n",
    "            GBenergy_information_dict_list.append(GBenergy_information_dict)"
   ]
  },
  {
   "cell_type": "code",
   "execution_count": null,
   "id": "6aa1a164-84e3-47ae-a192-fd7d956f6a2e",
   "metadata": {},
   "outputs": [
    {
     "name": "stdout",
     "output_type": "stream",
     "text": [
      "key num start with 22827\n",
      "key num end with 0\n"
     ]
    },
    {
     "name": "stderr",
     "output_type": "stream",
     "text": [
      "0it [00:00, ?it/s]\n"
     ]
    },
    {
     "name": "stdout",
     "output_type": "stream",
     "text": [
      "finish 0 with num of GBs 0, and collected num of GBs 0\n",
      "key num start with 17928\n",
      "key num end with 0\n"
     ]
    },
    {
     "name": "stderr",
     "output_type": "stream",
     "text": [
      "0it [00:00, ?it/s]\n"
     ]
    },
    {
     "name": "stdout",
     "output_type": "stream",
     "text": [
      "finish 1 with num of GBs 0, and collected num of GBs 0\n",
      "key num start with 15315\n",
      "key num end with 0\n"
     ]
    },
    {
     "name": "stderr",
     "output_type": "stream",
     "text": [
      "0it [00:00, ?it/s]\n"
     ]
    },
    {
     "name": "stdout",
     "output_type": "stream",
     "text": [
      "finish 2 with num of GBs 0, and collected num of GBs 0\n",
      "key num start with 12849\n",
      "key num end with 0\n"
     ]
    },
    {
     "name": "stderr",
     "output_type": "stream",
     "text": [
      "0it [00:00, ?it/s]\n"
     ]
    },
    {
     "name": "stdout",
     "output_type": "stream",
     "text": [
      "finish 3 with num of GBs 0, and collected num of GBs 0\n",
      "key num start with 10792\n",
      "key num end with 2\n"
     ]
    },
    {
     "name": "stderr",
     "output_type": "stream",
     "text": [
      "100%|██████████| 2/2 [00:00<00:00, 37282.70it/s]\n"
     ]
    },
    {
     "name": "stdout",
     "output_type": "stream",
     "text": [
      "finish 4 with num of GBs 2, and collected num of GBs 0\n",
      "key num start with 9309\n",
      "key num end with 5\n"
     ]
    },
    {
     "name": "stderr",
     "output_type": "stream",
     "text": [
      "100%|██████████| 5/5 [00:00<00:00, 77672.30it/s]\n"
     ]
    },
    {
     "name": "stdout",
     "output_type": "stream",
     "text": [
      "finish 5 with num of GBs 5, and collected num of GBs 1\n",
      "key num start with 8283\n",
      "key num end with 6\n"
     ]
    },
    {
     "name": "stderr",
     "output_type": "stream",
     "text": [
      "100%|██████████| 6/6 [00:00<00:00, 96420.78it/s]\n"
     ]
    },
    {
     "name": "stdout",
     "output_type": "stream",
     "text": [
      "finish 6 with num of GBs 6, and collected num of GBs 3\n",
      "key num start with 7359\n",
      "key num end with 4\n"
     ]
    },
    {
     "name": "stderr",
     "output_type": "stream",
     "text": [
      "100%|██████████| 4/4 [00:00<00:00, 61455.00it/s]\n"
     ]
    },
    {
     "name": "stdout",
     "output_type": "stream",
     "text": [
      "finish 7 with num of GBs 4, and collected num of GBs 4\n",
      "key num start with 6606\n",
      "key num end with 6\n"
     ]
    },
    {
     "name": "stderr",
     "output_type": "stream",
     "text": [
      "100%|██████████| 6/6 [00:00<00:00, 92862.82it/s]\n"
     ]
    },
    {
     "name": "stdout",
     "output_type": "stream",
     "text": [
      "finish 8 with num of GBs 6, and collected num of GBs 5\n",
      "key num start with 5992\n",
      "key num end with 10\n"
     ]
    },
    {
     "name": "stderr",
     "output_type": "stream",
     "text": [
      "100%|██████████| 10/10 [00:00<00:00, 129854.61it/s]\n"
     ]
    },
    {
     "name": "stdout",
     "output_type": "stream",
     "text": [
      "finish 9 with num of GBs 10, and collected num of GBs 6\n",
      "key num start with 5577\n",
      "key num end with 8\n"
     ]
    },
    {
     "name": "stderr",
     "output_type": "stream",
     "text": [
      "100%|██████████| 8/8 [00:00<00:00, 129055.51it/s]\n"
     ]
    },
    {
     "name": "stdout",
     "output_type": "stream",
     "text": [
      "finish 10 with num of GBs 8, and collected num of GBs 6\n",
      "key num start with 5143\n",
      "key num end with 10\n"
     ]
    },
    {
     "name": "stderr",
     "output_type": "stream",
     "text": [
      "100%|██████████| 10/10 [00:00<00:00, 147168.56it/s]\n"
     ]
    },
    {
     "name": "stdout",
     "output_type": "stream",
     "text": [
      "finish 11 with num of GBs 10, and collected num of GBs 6\n",
      "key num start with 4697\n",
      "key num end with 17\n"
     ]
    },
    {
     "name": "stderr",
     "output_type": "stream",
     "text": [
      "100%|██████████| 17/17 [00:00<00:00, 180972.51it/s]\n"
     ]
    },
    {
     "name": "stdout",
     "output_type": "stream",
     "text": [
      "finish 12 with num of GBs 17, and collected num of GBs 7\n",
      "key num start with 4453\n",
      "key num end with 16\n"
     ]
    },
    {
     "name": "stderr",
     "output_type": "stream",
     "text": [
      "100%|██████████| 16/16 [00:00<00:00, 168615.24it/s]\n"
     ]
    },
    {
     "name": "stdout",
     "output_type": "stream",
     "text": [
      "finish 13 with num of GBs 16, and collected num of GBs 10\n",
      "key num start with 4192\n",
      "key num end with 14\n"
     ]
    },
    {
     "name": "stderr",
     "output_type": "stream",
     "text": [
      "100%|██████████| 14/14 [00:00<00:00, 181235.36it/s]\n"
     ]
    },
    {
     "name": "stdout",
     "output_type": "stream",
     "text": [
      "finish 14 with num of GBs 14, and collected num of GBs 10\n",
      "key num start with 3993\n",
      "key num end with 13\n"
     ]
    },
    {
     "name": "stderr",
     "output_type": "stream",
     "text": [
      "100%|██████████| 13/13 [00:00<00:00, 193354.44it/s]\n"
     ]
    },
    {
     "name": "stdout",
     "output_type": "stream",
     "text": [
      "finish 15 with num of GBs 13, and collected num of GBs 10\n",
      "key num start with 3761\n",
      "key num end with 17\n"
     ]
    },
    {
     "name": "stderr",
     "output_type": "stream",
     "text": [
      "100%|██████████| 17/17 [00:00<00:00, 193758.61it/s]\n"
     ]
    },
    {
     "name": "stdout",
     "output_type": "stream",
     "text": [
      "finish 16 with num of GBs 17, and collected num of GBs 10\n",
      "key num start with 3562\n",
      "key num end with 14\n"
     ]
    },
    {
     "name": "stderr",
     "output_type": "stream",
     "text": [
      "100%|██████████| 14/14 [00:00<00:00, 196388.82it/s]\n"
     ]
    },
    {
     "name": "stdout",
     "output_type": "stream",
     "text": [
      "finish 17 with num of GBs 14, and collected num of GBs 11\n",
      "key num start with 3378\n",
      "key num end with 13\n"
     ]
    },
    {
     "name": "stderr",
     "output_type": "stream",
     "text": [
      "100%|██████████| 13/13 [00:00<00:00, 192671.21it/s]\n"
     ]
    },
    {
     "name": "stdout",
     "output_type": "stream",
     "text": [
      "finish 18 with num of GBs 13, and collected num of GBs 11\n",
      "key num start with 3241\n",
      "key num end with 16\n"
     ]
    },
    {
     "name": "stderr",
     "output_type": "stream",
     "text": [
      "100%|██████████| 16/16 [00:00<00:00, 209715.20it/s]\n"
     ]
    },
    {
     "name": "stdout",
     "output_type": "stream",
     "text": [
      "finish 19 with num of GBs 16, and collected num of GBs 11\n",
      "key num start with 3116\n",
      "key num end with 15\n"
     ]
    },
    {
     "name": "stderr",
     "output_type": "stream",
     "text": [
      "100%|██████████| 15/15 [00:00<00:00, 198468.64it/s]\n"
     ]
    },
    {
     "name": "stdout",
     "output_type": "stream",
     "text": [
      "finish 20 with num of GBs 15, and collected num of GBs 13\n",
      "key num start with 2991\n",
      "key num end with 8\n"
     ]
    },
    {
     "name": "stderr",
     "output_type": "stream",
     "text": [
      "100%|██████████| 8/8 [00:00<00:00, 132104.06it/s]\n"
     ]
    },
    {
     "name": "stdout",
     "output_type": "stream",
     "text": [
      "finish 21 with num of GBs 8, and collected num of GBs 13\n",
      "key num start with 2871\n",
      "key num end with 7\n"
     ]
    },
    {
     "name": "stderr",
     "output_type": "stream",
     "text": [
      "100%|██████████| 7/7 [00:00<00:00, 123361.88it/s]\n"
     ]
    },
    {
     "name": "stdout",
     "output_type": "stream",
     "text": [
      "finish 22 with num of GBs 7, and collected num of GBs 13\n",
      "key num start with 2730\n",
      "key num end with 14\n"
     ]
    },
    {
     "name": "stderr",
     "output_type": "stream",
     "text": [
      "100%|██████████| 14/14 [00:00<00:00, 192525.43it/s]\n"
     ]
    },
    {
     "name": "stdout",
     "output_type": "stream",
     "text": [
      "finish 23 with num of GBs 14, and collected num of GBs 13\n",
      "key num start with 2607\n",
      "key num end with 13\n"
     ]
    },
    {
     "name": "stderr",
     "output_type": "stream",
     "text": [
      "100%|██████████| 13/13 [00:00<00:00, 154464.45it/s]\n"
     ]
    },
    {
     "name": "stdout",
     "output_type": "stream",
     "text": [
      "finish 24 with num of GBs 13, and collected num of GBs 14\n",
      "key num start with 2545\n",
      "key num end with 10\n"
     ]
    },
    {
     "name": "stderr",
     "output_type": "stream",
     "text": [
      "100%|██████████| 10/10 [00:00<00:00, 147168.56it/s]\n"
     ]
    },
    {
     "name": "stdout",
     "output_type": "stream",
     "text": [
      "finish 25 with num of GBs 10, and collected num of GBs 14\n",
      "key num start with 2460\n",
      "key num end with 5\n"
     ]
    },
    {
     "name": "stderr",
     "output_type": "stream",
     "text": [
      "100%|██████████| 5/5 [00:00<00:00, 82891.38it/s]\n"
     ]
    },
    {
     "name": "stdout",
     "output_type": "stream",
     "text": [
      "finish 26 with num of GBs 5, and collected num of GBs 15\n",
      "key num start with 2370\n",
      "key num end with 10\n"
     ]
    },
    {
     "name": "stderr",
     "output_type": "stream",
     "text": [
      "100%|██████████| 10/10 [00:00<00:00, 105120.40it/s]\n"
     ]
    },
    {
     "name": "stdout",
     "output_type": "stream",
     "text": [
      "finish 27 with num of GBs 10, and collected num of GBs 17\n",
      "key num start with 2270\n",
      "key num end with 12\n"
     ]
    },
    {
     "name": "stderr",
     "output_type": "stream",
     "text": [
      "100%|██████████| 12/12 [00:00<00:00, 153919.41it/s]\n"
     ]
    },
    {
     "name": "stdout",
     "output_type": "stream",
     "text": [
      "finish 28 with num of GBs 12, and collected num of GBs 19\n",
      "key num start with 2186\n",
      "key num end with 7\n"
     ]
    },
    {
     "name": "stderr",
     "output_type": "stream",
     "text": [
      "100%|██████████| 7/7 [00:00<00:00, 101592.14it/s]\n"
     ]
    },
    {
     "name": "stdout",
     "output_type": "stream",
     "text": [
      "finish 29 with num of GBs 7, and collected num of GBs 19\n",
      "key num start with 2136\n",
      "key num end with 13\n"
     ]
    },
    {
     "name": "stderr",
     "output_type": "stream",
     "text": [
      "100%|██████████| 13/13 [00:00<00:00, 148572.08it/s]\n"
     ]
    },
    {
     "name": "stdout",
     "output_type": "stream",
     "text": [
      "finish 30 with num of GBs 13, and collected num of GBs 21\n",
      "key num start with 2068\n",
      "key num end with 9\n"
     ]
    },
    {
     "name": "stderr",
     "output_type": "stream",
     "text": [
      "100%|██████████| 9/9 [00:00<00:00, 134337.14it/s]\n"
     ]
    },
    {
     "name": "stdout",
     "output_type": "stream",
     "text": [
      "finish 31 with num of GBs 9, and collected num of GBs 21\n",
      "key num start with 2010\n",
      "key num end with 8\n"
     ]
    },
    {
     "name": "stderr",
     "output_type": "stream",
     "text": [
      "100%|██████████| 8/8 [00:00<00:00, 93727.46it/s]\n"
     ]
    },
    {
     "name": "stdout",
     "output_type": "stream",
     "text": [
      "finish 32 with num of GBs 8, and collected num of GBs 22\n",
      "key num start with 1960\n",
      "key num end with 11\n"
     ]
    },
    {
     "name": "stderr",
     "output_type": "stream",
     "text": [
      "100%|██████████| 11/11 [00:00<00:00, 151269.98it/s]\n"
     ]
    },
    {
     "name": "stdout",
     "output_type": "stream",
     "text": [
      "finish 33 with num of GBs 11, and collected num of GBs 23\n",
      "key num start with 1913\n",
      "key num end with 8\n"
     ]
    },
    {
     "name": "stderr",
     "output_type": "stream",
     "text": [
      "100%|██████████| 8/8 [00:00<00:00, 124275.67it/s]\n"
     ]
    },
    {
     "name": "stdout",
     "output_type": "stream",
     "text": [
      "finish 34 with num of GBs 8, and collected num of GBs 24\n",
      "key num start with 1841\n",
      "key num end with 8\n"
     ]
    },
    {
     "name": "stderr",
     "output_type": "stream",
     "text": [
      "100%|██████████| 8/8 [00:00<00:00, 130055.94it/s]\n"
     ]
    },
    {
     "name": "stdout",
     "output_type": "stream",
     "text": [
      "finish 35 with num of GBs 8, and collected num of GBs 24\n",
      "key num start with 1799\n",
      "key num end with 5\n"
     ]
    },
    {
     "name": "stderr",
     "output_type": "stream",
     "text": [
      "100%|██████████| 5/5 [00:00<00:00, 81284.96it/s]\n"
     ]
    },
    {
     "name": "stdout",
     "output_type": "stream",
     "text": [
      "finish 36 with num of GBs 5, and collected num of GBs 24\n",
      "key num start with 1744\n",
      "key num end with 10\n"
     ]
    },
    {
     "name": "stderr",
     "output_type": "stream",
     "text": [
      "100%|██████████| 10/10 [00:00<00:00, 135300.13it/s]\n"
     ]
    },
    {
     "name": "stdout",
     "output_type": "stream",
     "text": [
      "finish 37 with num of GBs 10, and collected num of GBs 25\n",
      "key num start with 1705\n",
      "key num end with 8\n"
     ]
    },
    {
     "name": "stderr",
     "output_type": "stream",
     "text": [
      "100%|██████████| 8/8 [00:00<00:00, 129055.51it/s]\n"
     ]
    },
    {
     "name": "stdout",
     "output_type": "stream",
     "text": [
      "finish 38 with num of GBs 8, and collected num of GBs 26\n",
      "key num start with 1665\n",
      "key num end with 2\n"
     ]
    },
    {
     "name": "stderr",
     "output_type": "stream",
     "text": [
      "100%|██████████| 2/2 [00:00<00:00, 40920.04it/s]\n"
     ]
    },
    {
     "name": "stdout",
     "output_type": "stream",
     "text": [
      "finish 39 with num of GBs 2, and collected num of GBs 26\n",
      "key num start with 1623\n",
      "key num end with 2\n"
     ]
    },
    {
     "name": "stderr",
     "output_type": "stream",
     "text": [
      "100%|██████████| 2/2 [00:00<00:00, 37617.08it/s]\n"
     ]
    },
    {
     "name": "stdout",
     "output_type": "stream",
     "text": [
      "finish 40 with num of GBs 2, and collected num of GBs 27\n",
      "key num start with 1598\n",
      "key num end with 4\n"
     ]
    },
    {
     "name": "stderr",
     "output_type": "stream",
     "text": [
      "100%|██████████| 4/4 [00:00<00:00, 69905.07it/s]"
     ]
    },
    {
     "name": "stdout",
     "output_type": "stream",
     "text": [
      "finish 41 with num of GBs 4, and collected num of GBs 28\n",
      "key num start with 1559\n",
      "key num end with 3\n"
     ]
    },
    {
     "name": "stderr",
     "output_type": "stream",
     "text": [
      "\n",
      "100%|██████████| 3/3 [00:00<00:00, 49539.02it/s]\n"
     ]
    },
    {
     "name": "stdout",
     "output_type": "stream",
     "text": [
      "finish 42 with num of GBs 3, and collected num of GBs 29\n",
      "key num start with 1519\n",
      "key num end with 3\n"
     ]
    },
    {
     "name": "stderr",
     "output_type": "stream",
     "text": [
      "100%|██████████| 3/3 [00:00<00:00, 58798.65it/s]\n"
     ]
    },
    {
     "name": "stdout",
     "output_type": "stream",
     "text": [
      "finish 43 with num of GBs 3, and collected num of GBs 29\n",
      "key num start with 1494\n",
      "key num end with 6\n"
     ]
    },
    {
     "name": "stderr",
     "output_type": "stream",
     "text": [
      "100%|██████████| 6/6 [00:00<00:00, 93902.33it/s]\n"
     ]
    },
    {
     "name": "stdout",
     "output_type": "stream",
     "text": [
      "finish 44 with num of GBs 6, and collected num of GBs 29\n",
      "key num start with 1472\n",
      "key num end with 3\n"
     ]
    },
    {
     "name": "stderr",
     "output_type": "stream",
     "text": [
      "100%|██████████| 3/3 [00:00<00:00, 51150.05it/s]\n"
     ]
    },
    {
     "name": "stdout",
     "output_type": "stream",
     "text": [
      "finish 45 with num of GBs 3, and collected num of GBs 29\n",
      "key num start with 1408\n",
      "key num end with 5\n"
     ]
    },
    {
     "name": "stderr",
     "output_type": "stream",
     "text": [
      "100%|██████████| 5/5 [00:00<00:00, 80659.69it/s]\n"
     ]
    },
    {
     "name": "stdout",
     "output_type": "stream",
     "text": [
      "finish 46 with num of GBs 5, and collected num of GBs 29\n",
      "key num start with 1388\n",
      "key num end with 6\n"
     ]
    },
    {
     "name": "stderr",
     "output_type": "stream",
     "text": [
      "100%|██████████| 6/6 [00:00<00:00, 90200.09it/s]\n"
     ]
    },
    {
     "name": "stdout",
     "output_type": "stream",
     "text": [
      "finish 47 with num of GBs 6, and collected num of GBs 31\n",
      "key num start with 1356\n",
      "key num end with 2\n"
     ]
    },
    {
     "name": "stderr",
     "output_type": "stream",
     "text": [
      "100%|██████████| 2/2 [00:00<00:00, 36314.32it/s]\n"
     ]
    },
    {
     "name": "stdout",
     "output_type": "stream",
     "text": [
      "finish 48 with num of GBs 2, and collected num of GBs 31\n",
      "key num start with 1327\n",
      "key num end with 6\n"
     ]
    },
    {
     "name": "stderr",
     "output_type": "stream",
     "text": [
      "100%|██████████| 6/6 [00:00<00:00, 105738.76it/s]\n"
     ]
    },
    {
     "name": "stdout",
     "output_type": "stream",
     "text": [
      "finish 49 with num of GBs 6, and collected num of GBs 31\n",
      "key num start with 1313\n",
      "key num end with 1\n"
     ]
    },
    {
     "name": "stderr",
     "output_type": "stream",
     "text": [
      "100%|██████████| 1/1 [00:00<00:00, 19972.88it/s]\n"
     ]
    },
    {
     "name": "stdout",
     "output_type": "stream",
     "text": [
      "finish 50 with num of GBs 1, and collected num of GBs 31\n",
      "key num start with 1286\n",
      "key num end with 11\n"
     ]
    },
    {
     "name": "stderr",
     "output_type": "stream",
     "text": [
      "100%|██████████| 11/11 [00:00<00:00, 154823.30it/s]\n"
     ]
    },
    {
     "name": "stdout",
     "output_type": "stream",
     "text": [
      "finish 51 with num of GBs 11, and collected num of GBs 31\n",
      "key num start with 1265\n",
      "key num end with 2\n"
     ]
    },
    {
     "name": "stderr",
     "output_type": "stream",
     "text": [
      "100%|██████████| 2/2 [00:00<00:00, 37117.73it/s]\n"
     ]
    },
    {
     "name": "stdout",
     "output_type": "stream",
     "text": [
      "finish 52 with num of GBs 2, and collected num of GBs 31\n",
      "key num start with 1241\n",
      "key num end with 7\n"
     ]
    },
    {
     "name": "stderr",
     "output_type": "stream",
     "text": [
      "100%|██████████| 7/7 [00:00<00:00, 107546.26it/s]\n"
     ]
    },
    {
     "name": "stdout",
     "output_type": "stream",
     "text": [
      "finish 53 with num of GBs 7, and collected num of GBs 31\n",
      "key num start with 1224\n",
      "key num end with 10\n"
     ]
    },
    {
     "name": "stderr",
     "output_type": "stream",
     "text": [
      "100%|██████████| 10/10 [00:00<00:00, 153637.51it/s]\n"
     ]
    },
    {
     "name": "stdout",
     "output_type": "stream",
     "text": [
      "finish 54 with num of GBs 10, and collected num of GBs 31\n",
      "key num start with 1203\n",
      "key num end with 7\n"
     ]
    },
    {
     "name": "stderr",
     "output_type": "stream",
     "text": [
      "100%|██████████| 7/7 [00:00<00:00, 112923.57it/s]\n"
     ]
    },
    {
     "name": "stdout",
     "output_type": "stream",
     "text": [
      "finish 55 with num of GBs 7, and collected num of GBs 31\n",
      "key num start with 1175\n",
      "key num end with 11\n"
     ]
    },
    {
     "name": "stderr",
     "output_type": "stream",
     "text": [
      "100%|██████████| 11/11 [00:00<00:00, 152772.66it/s]\n"
     ]
    },
    {
     "name": "stdout",
     "output_type": "stream",
     "text": [
      "finish 56 with num of GBs 11, and collected num of GBs 31\n",
      "key num start with 1148\n",
      "key num end with 5\n"
     ]
    },
    {
     "name": "stderr",
     "output_type": "stream",
     "text": [
      "100%|██████████| 5/5 [00:00<00:00, 74898.29it/s]"
     ]
    },
    {
     "name": "stdout",
     "output_type": "stream",
     "text": [
      "finish 57 with num of GBs 5, and collected num of GBs 32\n",
      "key num start with 1136\n",
      "key num end with 3\n"
     ]
    },
    {
     "name": "stderr",
     "output_type": "stream",
     "text": [
      "\n",
      "100%|██████████| 3/3 [00:00<00:00, 48770.98it/s]\n"
     ]
    },
    {
     "name": "stdout",
     "output_type": "stream",
     "text": [
      "finish 58 with num of GBs 3, and collected num of GBs 32\n",
      "key num start with 1126\n",
      "key num end with 8\n"
     ]
    },
    {
     "name": "stderr",
     "output_type": "stream",
     "text": [
      "100%|██████████| 8/8 [00:00<00:00, 129553.79it/s]\n"
     ]
    },
    {
     "name": "stdout",
     "output_type": "stream",
     "text": [
      "finish 59 with num of GBs 8, and collected num of GBs 32\n",
      "key num start with 1098\n",
      "key num end with 5\n"
     ]
    },
    {
     "name": "stderr",
     "output_type": "stream",
     "text": [
      "100%|██████████| 5/5 [00:00<00:00, 81284.96it/s]"
     ]
    },
    {
     "name": "stdout",
     "output_type": "stream",
     "text": [
      "finish 60 with num of GBs 5, and collected num of GBs 33\n",
      "key num start with 1082\n",
      "key num end with 3\n"
     ]
    },
    {
     "name": "stderr",
     "output_type": "stream",
     "text": [
      "\n",
      "100%|██████████| 3/3 [00:00<00:00, 50533.78it/s]"
     ]
    },
    {
     "name": "stdout",
     "output_type": "stream",
     "text": [
      "finish 61 with num of GBs 3, and collected num of GBs 33\n",
      "key num start with 1073\n",
      "key num end with 4\n"
     ]
    },
    {
     "name": "stderr",
     "output_type": "stream",
     "text": [
      "\n",
      "100%|██████████| 4/4 [00:00<00:00, 116508.44it/s]\n"
     ]
    },
    {
     "name": "stdout",
     "output_type": "stream",
     "text": [
      "finish 62 with num of GBs 4, and collected num of GBs 33\n",
      "key num start with 1053\n",
      "key num end with 2\n"
     ]
    },
    {
     "name": "stderr",
     "output_type": "stream",
     "text": [
      "100%|██████████| 2/2 [00:00<00:00, 62601.55it/s]\n"
     ]
    },
    {
     "name": "stdout",
     "output_type": "stream",
     "text": [
      "finish 63 with num of GBs 2, and collected num of GBs 33\n",
      "key num start with 1029\n",
      "key num end with 6\n"
     ]
    },
    {
     "name": "stderr",
     "output_type": "stream",
     "text": [
      "100%|██████████| 6/6 [00:00<00:00, 155344.59it/s]\n"
     ]
    },
    {
     "name": "stdout",
     "output_type": "stream",
     "text": [
      "finish 64 with num of GBs 6, and collected num of GBs 33\n",
      "key num start with 1014\n",
      "key num end with 6\n"
     ]
    },
    {
     "name": "stderr",
     "output_type": "stream",
     "text": [
      "100%|██████████| 6/6 [00:00<00:00, 164482.51it/s]\n"
     ]
    },
    {
     "name": "stdout",
     "output_type": "stream",
     "text": [
      "finish 65 with num of GBs 6, and collected num of GBs 33\n",
      "key num start with 997\n",
      "key num end with 3\n"
     ]
    },
    {
     "name": "stderr",
     "output_type": "stream",
     "text": [
      "100%|██████████| 3/3 [00:00<00:00, 87992.39it/s]\n"
     ]
    },
    {
     "name": "stdout",
     "output_type": "stream",
     "text": [
      "finish 66 with num of GBs 3, and collected num of GBs 34\n",
      "key num start with 980\n",
      "key num end with 3\n"
     ]
    },
    {
     "name": "stderr",
     "output_type": "stream",
     "text": [
      "100%|██████████| 3/3 [00:00<00:00, 93902.33it/s]\n"
     ]
    },
    {
     "name": "stdout",
     "output_type": "stream",
     "text": [
      "finish 67 with num of GBs 3, and collected num of GBs 34\n",
      "key num start with 968\n",
      "key num end with 4\n"
     ]
    },
    {
     "name": "stderr",
     "output_type": "stream",
     "text": [
      "100%|██████████| 4/4 [00:00<00:00, 122461.43it/s]"
     ]
    },
    {
     "name": "stdout",
     "output_type": "stream",
     "text": [
      "finish 68 with num of GBs 4, and collected num of GBs 34\n",
      "key num start with 953\n",
      "key num end with 5\n"
     ]
    },
    {
     "name": "stderr",
     "output_type": "stream",
     "text": [
      "\n",
      "100%|██████████| 5/5 [00:00<00:00, 129453.83it/s]\n"
     ]
    },
    {
     "name": "stdout",
     "output_type": "stream",
     "text": [
      "finish 69 with num of GBs 5, and collected num of GBs 35\n",
      "key num start with 930\n",
      "key num end with 4\n"
     ]
    },
    {
     "name": "stderr",
     "output_type": "stream",
     "text": [
      "100%|██████████| 4/4 [00:00<00:00, 121574.03it/s]\n"
     ]
    },
    {
     "name": "stdout",
     "output_type": "stream",
     "text": [
      "finish 70 with num of GBs 4, and collected num of GBs 35\n",
      "key num start with 914\n",
      "key num end with 3\n"
     ]
    },
    {
     "name": "stderr",
     "output_type": "stream",
     "text": [
      "100%|██████████| 3/3 [00:00<00:00, 97541.95it/s]\n"
     ]
    },
    {
     "name": "stdout",
     "output_type": "stream",
     "text": [
      "finish 71 with num of GBs 3, and collected num of GBs 35\n",
      "key num start with 893\n",
      "key num end with 1\n"
     ]
    },
    {
     "name": "stderr",
     "output_type": "stream",
     "text": [
      "100%|██████████| 1/1 [00:00<00:00, 36157.79it/s]"
     ]
    },
    {
     "name": "stdout",
     "output_type": "stream",
     "text": [
      "finish 72 with num of GBs 1, and collected num of GBs 35\n",
      "key num start with 887\n",
      "key num end with 5\n"
     ]
    },
    {
     "name": "stderr",
     "output_type": "stream",
     "text": [
      "\n",
      "100%|██████████| 5/5 [00:00<00:00, 144631.17it/s]\n"
     ]
    },
    {
     "name": "stdout",
     "output_type": "stream",
     "text": [
      "finish 73 with num of GBs 5, and collected num of GBs 35\n",
      "key num start with 878\n",
      "key num end with 4\n"
     ]
    },
    {
     "name": "stderr",
     "output_type": "stream",
     "text": [
      "100%|██████████| 4/4 [00:00<00:00, 114912.44it/s]\n"
     ]
    },
    {
     "name": "stdout",
     "output_type": "stream",
     "text": [
      "finish 74 with num of GBs 4, and collected num of GBs 36\n",
      "key num start with 870\n",
      "key num end with 1\n"
     ]
    },
    {
     "name": "stderr",
     "output_type": "stream",
     "text": [
      "100%|██████████| 1/1 [00:00<00:00, 36472.21it/s]\n"
     ]
    },
    {
     "name": "stdout",
     "output_type": "stream",
     "text": [
      "finish 75 with num of GBs 1, and collected num of GBs 36\n",
      "key num start with 854\n",
      "key num end with 0\n"
     ]
    },
    {
     "name": "stderr",
     "output_type": "stream",
     "text": [
      "0it [00:00, ?it/s]\n"
     ]
    },
    {
     "name": "stdout",
     "output_type": "stream",
     "text": [
      "finish 76 with num of GBs 0, and collected num of GBs 36\n",
      "key num start with 832\n",
      "key num end with 2\n"
     ]
    },
    {
     "name": "stderr",
     "output_type": "stream",
     "text": [
      "100%|██████████| 2/2 [00:00<00:00, 66576.25it/s]\n"
     ]
    },
    {
     "name": "stdout",
     "output_type": "stream",
     "text": [
      "finish 77 with num of GBs 2, and collected num of GBs 36\n",
      "key num start with 826\n",
      "key num end with 3\n"
     ]
    },
    {
     "name": "stderr",
     "output_type": "stream",
     "text": [
      "100%|██████████| 3/3 [00:00<00:00, 98304.00it/s]\n"
     ]
    },
    {
     "name": "stdout",
     "output_type": "stream",
     "text": [
      "finish 78 with num of GBs 3, and collected num of GBs 36\n",
      "key num start with 819\n",
      "key num end with 2\n"
     ]
    },
    {
     "name": "stderr",
     "output_type": "stream",
     "text": [
      "100%|██████████| 2/2 [00:00<00:00, 68200.07it/s]\n"
     ]
    },
    {
     "name": "stdout",
     "output_type": "stream",
     "text": [
      "finish 79 with num of GBs 2, and collected num of GBs 36\n",
      "key num start with 797\n",
      "key num end with 1\n"
     ]
    },
    {
     "name": "stderr",
     "output_type": "stream",
     "text": [
      "100%|██████████| 1/1 [00:00<00:00, 36472.21it/s]\n"
     ]
    },
    {
     "name": "stdout",
     "output_type": "stream",
     "text": [
      "finish 80 with num of GBs 1, and collected num of GBs 36\n",
      "key num start with 797\n",
      "key num end with 1\n"
     ]
    },
    {
     "name": "stderr",
     "output_type": "stream",
     "text": [
      "100%|██████████| 1/1 [00:00<00:00, 36472.21it/s]\n"
     ]
    },
    {
     "name": "stdout",
     "output_type": "stream",
     "text": [
      "finish 81 with num of GBs 1, and collected num of GBs 36\n",
      "key num start with 790\n",
      "key num end with 1\n"
     ]
    },
    {
     "name": "stderr",
     "output_type": "stream",
     "text": [
      "100%|██████████| 1/1 [00:00<00:00, 35544.95it/s]\n"
     ]
    },
    {
     "name": "stdout",
     "output_type": "stream",
     "text": [
      "finish 82 with num of GBs 1, and collected num of GBs 36\n",
      "key num start with 790\n",
      "key num end with 3\n"
     ]
    },
    {
     "name": "stderr",
     "output_type": "stream",
     "text": [
      "100%|██████████| 3/3 [00:00<00:00, 95325.09it/s]\n"
     ]
    },
    {
     "name": "stdout",
     "output_type": "stream",
     "text": [
      "finish 83 with num of GBs 3, and collected num of GBs 36\n",
      "key num start with 788\n",
      "key num end with 1\n"
     ]
    },
    {
     "name": "stderr",
     "output_type": "stream",
     "text": [
      "100%|██████████| 1/1 [00:00<00:00, 35848.75it/s]\n"
     ]
    },
    {
     "name": "stdout",
     "output_type": "stream",
     "text": [
      "finish 84 with num of GBs 1, and collected num of GBs 36\n",
      "key num start with 778\n",
      "key num end with 3\n"
     ]
    },
    {
     "name": "stderr",
     "output_type": "stream",
     "text": [
      "100%|██████████| 3/3 [00:00<00:00, 97541.95it/s]\n"
     ]
    },
    {
     "name": "stdout",
     "output_type": "stream",
     "text": [
      "finish 85 with num of GBs 3, and collected num of GBs 36\n",
      "key num start with 765\n",
      "key num end with 1\n"
     ]
    },
    {
     "name": "stderr",
     "output_type": "stream",
     "text": [
      "100%|██████████| 1/1 [00:00<00:00, 36472.21it/s]\n"
     ]
    },
    {
     "name": "stdout",
     "output_type": "stream",
     "text": [
      "finish 86 with num of GBs 1, and collected num of GBs 36\n",
      "key num start with 749\n",
      "key num end with 0\n"
     ]
    },
    {
     "name": "stderr",
     "output_type": "stream",
     "text": [
      "0it [00:00, ?it/s]\n"
     ]
    },
    {
     "name": "stdout",
     "output_type": "stream",
     "text": [
      "finish 87 with num of GBs 0, and collected num of GBs 36\n",
      "key num start with 748\n",
      "key num end with 5\n"
     ]
    },
    {
     "name": "stderr",
     "output_type": "stream",
     "text": [
      "100%|██████████| 5/5 [00:00<00:00, 146653.99it/s]"
     ]
    },
    {
     "name": "stdout",
     "output_type": "stream",
     "text": [
      "finish 88 with num of GBs 5, and collected num of GBs 36\n",
      "key num start with 737\n",
      "key num end with 0\n"
     ]
    },
    {
     "name": "stderr",
     "output_type": "stream",
     "text": [
      "\n",
      "0it [00:00, ?it/s]\n"
     ]
    },
    {
     "name": "stdout",
     "output_type": "stream",
     "text": [
      "finish 89 with num of GBs 0, and collected num of GBs 36\n",
      "key num start with 723\n",
      "key num end with 1\n"
     ]
    },
    {
     "name": "stderr",
     "output_type": "stream",
     "text": [
      "100%|██████████| 1/1 [00:00<00:00, 35848.75it/s]\n"
     ]
    },
    {
     "name": "stdout",
     "output_type": "stream",
     "text": [
      "finish 90 with num of GBs 1, and collected num of GBs 36\n",
      "key num start with 708\n",
      "key num end with 1\n"
     ]
    },
    {
     "name": "stderr",
     "output_type": "stream",
     "text": [
      "100%|██████████| 1/1 [00:00<00:00, 36792.14it/s]"
     ]
    },
    {
     "name": "stdout",
     "output_type": "stream",
     "text": [
      "finish 91 with num of GBs 1, and collected num of GBs 36\n",
      "key num start with 705\n",
      "key num end with 3\n"
     ]
    },
    {
     "name": "stderr",
     "output_type": "stream",
     "text": [
      "\n",
      "100%|██████████| 3/3 [00:00<00:00, 96791.63it/s]\n"
     ]
    },
    {
     "name": "stdout",
     "output_type": "stream",
     "text": [
      "finish 92 with num of GBs 3, and collected num of GBs 36\n",
      "key num start with 695\n",
      "key num end with 5\n"
     ]
    },
    {
     "name": "stderr",
     "output_type": "stream",
     "text": [
      "100%|██████████| 5/5 [00:00<00:00, 150874.24it/s]\n"
     ]
    },
    {
     "name": "stdout",
     "output_type": "stream",
     "text": [
      "finish 93 with num of GBs 5, and collected num of GBs 36\n",
      "key num start with 696\n",
      "key num end with 2\n"
     ]
    },
    {
     "name": "stderr",
     "output_type": "stream",
     "text": [
      "100%|██████████| 2/2 [00:00<00:00, 66576.25it/s]\n"
     ]
    },
    {
     "name": "stdout",
     "output_type": "stream",
     "text": [
      "finish 94 with num of GBs 2, and collected num of GBs 36\n",
      "key num start with 689\n",
      "key num end with 3\n"
     ]
    },
    {
     "name": "stderr",
     "output_type": "stream",
     "text": [
      "100%|██████████| 3/3 [00:00<00:00, 99864.38it/s]\n"
     ]
    },
    {
     "name": "stdout",
     "output_type": "stream",
     "text": [
      "finish 95 with num of GBs 3, and collected num of GBs 36\n",
      "key num start with 686\n",
      "key num end with 2\n"
     ]
    },
    {
     "name": "stderr",
     "output_type": "stream",
     "text": [
      "100%|██████████| 2/2 [00:00<00:00, 69327.34it/s]\n"
     ]
    },
    {
     "name": "stdout",
     "output_type": "stream",
     "text": [
      "finish 96 with num of GBs 2, and collected num of GBs 36\n",
      "key num start with 669\n",
      "key num end with 1\n"
     ]
    },
    {
     "name": "stderr",
     "output_type": "stream",
     "text": [
      "100%|██████████| 1/1 [00:00<00:00, 33026.02it/s]\n"
     ]
    },
    {
     "name": "stdout",
     "output_type": "stream",
     "text": [
      "finish 97 with num of GBs 1, and collected num of GBs 36\n",
      "key num start with 656\n",
      "key num end with 2\n"
     ]
    },
    {
     "name": "stderr",
     "output_type": "stream",
     "text": [
      "100%|██████████| 2/2 [00:00<00:00, 67650.06it/s]\n"
     ]
    },
    {
     "name": "stdout",
     "output_type": "stream",
     "text": [
      "finish 98 with num of GBs 2, and collected num of GBs 36\n",
      "key num start with 654\n",
      "key num end with 3\n"
     ]
    },
    {
     "name": "stderr",
     "output_type": "stream",
     "text": [
      "100%|██████████| 3/3 [00:00<00:00, 91180.52it/s]\n"
     ]
    },
    {
     "name": "stdout",
     "output_type": "stream",
     "text": [
      "finish 99 with num of GBs 3, and collected num of GBs 37\n",
      "key num start with 652\n",
      "key num end with 1\n"
     ]
    },
    {
     "name": "stderr",
     "output_type": "stream",
     "text": [
      "100%|██████████| 1/1 [00:00<00:00, 34663.67it/s]\n"
     ]
    },
    {
     "name": "stdout",
     "output_type": "stream",
     "text": [
      "finish 100 with num of GBs 1, and collected num of GBs 37\n",
      "key num start with 639\n",
      "key num end with 6\n"
     ]
    },
    {
     "name": "stderr",
     "output_type": "stream",
     "text": [
      "100%|██████████| 6/6 [00:00<00:00, 163414.44it/s]\n"
     ]
    },
    {
     "name": "stdout",
     "output_type": "stream",
     "text": [
      "finish 101 with num of GBs 6, and collected num of GBs 38\n",
      "key num start with 635\n",
      "key num end with 1\n"
     ]
    },
    {
     "name": "stderr",
     "output_type": "stream",
     "text": [
      "100%|██████████| 1/1 [00:00<00:00, 37117.73it/s]\n"
     ]
    },
    {
     "name": "stdout",
     "output_type": "stream",
     "text": [
      "finish 102 with num of GBs 1, and collected num of GBs 38\n",
      "key num start with 632\n",
      "key num end with 0\n"
     ]
    },
    {
     "name": "stderr",
     "output_type": "stream",
     "text": [
      "0it [00:00, ?it/s]\n"
     ]
    },
    {
     "name": "stdout",
     "output_type": "stream",
     "text": [
      "finish 103 with num of GBs 0, and collected num of GBs 38\n",
      "key num start with 623\n",
      "key num end with 1\n"
     ]
    },
    {
     "name": "stderr",
     "output_type": "stream",
     "text": [
      "100%|██████████| 1/1 [00:00<00:00, 37117.73it/s]\n"
     ]
    },
    {
     "name": "stdout",
     "output_type": "stream",
     "text": [
      "finish 104 with num of GBs 1, and collected num of GBs 38\n",
      "key num start with 621\n",
      "key num end with 4\n"
     ]
    },
    {
     "name": "stderr",
     "output_type": "stream",
     "text": [
      "100%|██████████| 4/4 [00:00<00:00, 125203.10it/s]\n"
     ]
    },
    {
     "name": "stdout",
     "output_type": "stream",
     "text": [
      "finish 105 with num of GBs 4, and collected num of GBs 38\n",
      "key num start with 616\n",
      "key num end with 3\n"
     ]
    },
    {
     "name": "stderr",
     "output_type": "stream",
     "text": [
      "100%|██████████| 3/3 [00:00<00:00, 100663.30it/s]"
     ]
    },
    {
     "name": "stdout",
     "output_type": "stream",
     "text": [
      "finish 106 with num of GBs 3, and collected num of GBs 38\n",
      "key num start with 608\n",
      "key num end with 1\n"
     ]
    },
    {
     "name": "stderr",
     "output_type": "stream",
     "text": [
      "\n",
      "100%|██████████| 1/1 [00:00<00:00, 29127.11it/s]\n"
     ]
    },
    {
     "name": "stdout",
     "output_type": "stream",
     "text": [
      "finish 107 with num of GBs 1, and collected num of GBs 38\n",
      "key num start with 600\n",
      "key num end with 0\n"
     ]
    },
    {
     "name": "stderr",
     "output_type": "stream",
     "text": [
      "0it [00:00, ?it/s]\n"
     ]
    },
    {
     "name": "stdout",
     "output_type": "stream",
     "text": [
      "finish 108 with num of GBs 0, and collected num of GBs 38\n",
      "key num start with 596\n",
      "key num end with 0\n"
     ]
    },
    {
     "name": "stderr",
     "output_type": "stream",
     "text": [
      "0it [00:00, ?it/s]\n"
     ]
    },
    {
     "name": "stdout",
     "output_type": "stream",
     "text": [
      "finish 109 with num of GBs 0, and collected num of GBs 38\n",
      "key num start with 597\n",
      "key num end with 0\n"
     ]
    },
    {
     "name": "stderr",
     "output_type": "stream",
     "text": [
      "0it [00:00, ?it/s]\n"
     ]
    },
    {
     "name": "stdout",
     "output_type": "stream",
     "text": [
      "finish 110 with num of GBs 0, and collected num of GBs 38\n",
      "key num start with 585\n",
      "key num end with 0\n"
     ]
    },
    {
     "name": "stderr",
     "output_type": "stream",
     "text": [
      "0it [00:00, ?it/s]\n"
     ]
    },
    {
     "name": "stdout",
     "output_type": "stream",
     "text": [
      "finish 111 with num of GBs 0, and collected num of GBs 38\n",
      "key num start with 585\n",
      "key num end with 1\n"
     ]
    },
    {
     "name": "stderr",
     "output_type": "stream",
     "text": [
      "100%|██████████| 1/1 [00:00<00:00, 37449.14it/s]\n"
     ]
    },
    {
     "name": "stdout",
     "output_type": "stream",
     "text": [
      "finish 112 with num of GBs 1, and collected num of GBs 38\n",
      "key num start with 584\n",
      "key num end with 1\n"
     ]
    },
    {
     "name": "stderr",
     "output_type": "stream",
     "text": [
      "100%|██████████| 1/1 [00:00<00:00, 37786.52it/s]"
     ]
    },
    {
     "name": "stdout",
     "output_type": "stream",
     "text": [
      "finish 113 with num of GBs 1, and collected num of GBs 38\n",
      "key num start with 582\n",
      "key num end with 0\n"
     ]
    },
    {
     "name": "stderr",
     "output_type": "stream",
     "text": [
      "\n",
      "0it [00:00, ?it/s]\n"
     ]
    },
    {
     "name": "stdout",
     "output_type": "stream",
     "text": [
      "finish 114 with num of GBs 0, and collected num of GBs 38\n",
      "key num start with 577\n",
      "key num end with 1\n"
     ]
    },
    {
     "name": "stderr",
     "output_type": "stream",
     "text": [
      "100%|██████████| 1/1 [00:00<00:00, 35848.75it/s]\n"
     ]
    },
    {
     "name": "stdout",
     "output_type": "stream",
     "text": [
      "finish 115 with num of GBs 1, and collected num of GBs 38\n",
      "key num start with 575\n",
      "key num end with 1\n"
     ]
    },
    {
     "name": "stderr",
     "output_type": "stream",
     "text": [
      "100%|██████████| 1/1 [00:00<00:00, 35246.25it/s]\n"
     ]
    },
    {
     "name": "stdout",
     "output_type": "stream",
     "text": [
      "finish 116 with num of GBs 1, and collected num of GBs 39\n",
      "key num start with 571\n",
      "key num end with 0\n"
     ]
    },
    {
     "name": "stderr",
     "output_type": "stream",
     "text": [
      "0it [00:00, ?it/s]\n"
     ]
    },
    {
     "name": "stdout",
     "output_type": "stream",
     "text": [
      "finish 117 with num of GBs 0, and collected num of GBs 39\n",
      "key num start with 570\n",
      "key num end with 1\n"
     ]
    },
    {
     "name": "stderr",
     "output_type": "stream",
     "text": [
      "100%|██████████| 1/1 [00:00<00:00, 36472.21it/s]\n"
     ]
    },
    {
     "name": "stdout",
     "output_type": "stream",
     "text": [
      "finish 118 with num of GBs 1, and collected num of GBs 39\n",
      "key num start with 556\n",
      "key num end with 1\n"
     ]
    },
    {
     "name": "stderr",
     "output_type": "stream",
     "text": [
      "100%|██████████| 1/1 [00:00<00:00, 38130.04it/s]"
     ]
    },
    {
     "name": "stdout",
     "output_type": "stream",
     "text": [
      "finish 119 with num of GBs 1, and collected num of GBs 39\n"
     ]
    },
    {
     "name": "stderr",
     "output_type": "stream",
     "text": [
      "\n"
     ]
    }
   ],
   "source": [
    "    # =============================================================================\n",
    "    # VELOCITY CALCULATION FUNCTIONS AND MAIN PROCESSING\n",
    "    # =============================================================================\n",
    "    \n",
    "    from numba import njit, prange\n",
    "    import multiprocessing as mp\n",
    "    \n",
    "    # Optimized function to calculate volume change (dV) between time steps\n",
    "    @njit(parallel=True)\n",
    "    def compute_dV(npy_file_aniso_current, npy_file_aniso_next, pair_id_pair):\n",
    "        \"\"\"\n",
    "        Calculate net volume change for a grain boundary between two time steps.\n",
    "        \n",
    "        Parameters:\n",
    "        - npy_file_aniso_current: microstructure at current time step\n",
    "        - npy_file_aniso_next: microstructure at next time step  \n",
    "        - pair_id_pair: [grain_id1, grain_id2] for the grain boundary\n",
    "        \n",
    "        Returns:\n",
    "        - Net volume change (positive = grain1 growing into grain2)\n",
    "        \"\"\"\n",
    "        # Count voxels where grain1 grows into grain2\n",
    "        growth_direction1 = (npy_file_aniso_current == pair_id_pair[0]) & (npy_file_aniso_next == pair_id_pair[1])\n",
    "        # Count voxels where grain2 grows into grain1\n",
    "        growth_direction2 = (npy_file_aniso_current == pair_id_pair[1]) & (npy_file_aniso_next == pair_id_pair[0])\n",
    "        return np.sum(growth_direction1) - np.sum(growth_direction2)\n",
    "    \n",
    "    # Extended version that returns individual directional growth components\n",
    "    @njit(parallel=True)\n",
    "    def compute_dV_split(npy_file_aniso_current, npy_file_aniso_next, pair_id_pair):\n",
    "        \"\"\"\n",
    "        Calculate volume change with separated directional components.\n",
    "        \n",
    "        Returns:\n",
    "        - Net volume change, growth_direction1, growth_direction2\n",
    "        \"\"\"\n",
    "        growth_direction1 = (npy_file_aniso_current == pair_id_pair[0]) & (npy_file_aniso_next == pair_id_pair[1])\n",
    "        growth_direction2 = (npy_file_aniso_current == pair_id_pair[1]) & (npy_file_aniso_next == pair_id_pair[0])\n",
    "        return np.sum(growth_direction1) - np.sum(growth_direction2), np.sum(growth_direction1), np.sum(growth_direction2)\n",
    "    \n",
    "    def compute_necessary_info(key, time_interval,\n",
    "                               GB_infomation_dict_list_one_step_one_key,\n",
    "                               GBenergy_information_dict_list_one_step_one_key,\n",
    "                               npy_file_aniso_current,\n",
    "                               npy_file_aniso_next):\n",
    "        \"\"\"\n",
    "        Compute GB velocity, curvature, energy, and anti-curvature behavior for one GB.\n",
    "        \n",
    "        Parameters:\n",
    "        - key: GB identifier\n",
    "        - time_interval: time between steps\n",
    "        - GB_infomation_dict_list_one_step_one_key: GB curvature info\n",
    "        - GBenergy_information_dict_list_one_step_one_key: GB energy info\n",
    "        - npy_file_aniso_current/next: microstructures at current and next time steps\n",
    "        \n",
    "        Returns:\n",
    "        - Dictionary with velocity, curvature, energy, and anti-curvature flag\n",
    "        \"\"\"\n",
    "        # Calculate volume change and convert to velocity\n",
    "        dV = compute_dV(npy_file_aniso_current, npy_file_aniso_next, GB_infomation_dict_list_one_step_one_key[6:8])\n",
    "        velocity = dV / time_interval / (GB_infomation_dict_list_one_step_one_key[5] / 2)  # Normalize by area and time\n",
    "        \n",
    "        # Extract curvature and energy values\n",
    "        current_curvature_value = GB_infomation_dict_list_one_step_one_key[4]\n",
    "        current_eng = GBenergy_information_dict_list_one_step_one_key[4]\n",
    "        \n",
    "        result = {\n",
    "            \"key\": key,\n",
    "            \"velocity\": velocity,\n",
    "            \"current_curvature_value\": current_curvature_value,\n",
    "            \"current_eng\": current_eng,\n",
    "            \"is_anti_curvature\": current_curvature_value * velocity < 0  # Anti-curvature: opposite signs\n",
    "        }\n",
    "        \n",
    "        return result\n",
    "    \n",
    "    def compute_necessary_info_split(key, time_interval,\n",
    "                                   GB_infomation_dict_list_one_step_one_key,\n",
    "                                   GBenergy_information_dict_list_one_step_one_key,\n",
    "                                   npy_file_aniso_current,\n",
    "                                   npy_file_aniso_next):\n",
    "        \"\"\"\n",
    "        Extended version that includes directional growth components.\n",
    "        \"\"\"\n",
    "        # Calculate volume change with directional split\n",
    "        dV, dV_direction1, dV_direction2 = compute_dV_split(npy_file_aniso_current, npy_file_aniso_next, \n",
    "                                                            GB_infomation_dict_list_one_step_one_key[6:8])\n",
    "        velocity = dV / time_interval / (GB_infomation_dict_list_one_step_one_key[5] / 2)\n",
    "        \n",
    "        current_curvature_value = GB_infomation_dict_list_one_step_one_key[4]\n",
    "        current_eng = GBenergy_information_dict_list_one_step_one_key[4]\n",
    "        \n",
    "        result = {\n",
    "            \"key\": key,\n",
    "            \"velocity\": velocity,\n",
    "            \"dV_direction1\": dV_direction1,  # Growth of grain1 into grain2\n",
    "            \"dV_direction2\": dV_direction2,  # Growth of grain2 into grain1\n",
    "            \"current_curvature_value\": current_curvature_value,\n",
    "            \"current_eng\": current_eng,\n",
    "            \"is_anti_curvature\": current_curvature_value * velocity < 0\n",
    "        }\n",
    "        \n",
    "        return result\n",
    "    \n",
    "    # =============================================================================\n",
    "    # MAIN VELOCITY ANALYSIS LOOP\n",
    "    # =============================================================================\n",
    "    \n",
    "    # Analysis parameters\n",
    "    time_interval = 30  # Time interval between steps\n",
    "    curvature_limit = 0.0182  # Minimum curvature threshold for analysis\n",
    "    area_limit = 100  # Minimum GB area threshold\n",
    "    \n",
    "    # Initialize storage arrays for all GB data\n",
    "    GB_list_velocity_list = []  # Store velocities for each time step\n",
    "    GB_list_curvature_list = []  # Store curvatures for each time step\n",
    "    GB_list_GBenergy_list = []  # Store energies for each time step\n",
    "    GB_list_area_list = []  # Store areas for each time step\n",
    "    GB_list_dV_direction1 = []  # Store directional growth data\n",
    "    GB_list_dV_direction2 = []\n",
    "    \n",
    "    # Track anti-curvature GBs specifically\n",
    "    GB_id_focus = dict()  # Count of anti-curvature occurrences per GB\n",
    "    GB_id_focus_detail = dict()  # Detailed time step records per GB\n",
    "    GB_filter_kernel = [set(), set(), set(), set(), set()]  # 5-step sliding window filter\n",
    "    dV_dict = []  # Store all computed results\n",
    "    \n",
    "    # Process each time step to calculate velocities and identify anti-curvature behavior\n",
    "    for time_step in range(step_num):\n",
    "        if time_step + 1 >= step_num: \n",
    "            continue  # Skip last step (no next step for velocity calculation)\n",
    "        \n",
    "        # Initialize temporary storage for current time step\n",
    "        GB_list_velocity_list_tmp = []\n",
    "        GB_list_curvature_list_tmp = []\n",
    "        GB_list_GBenergy_list_tmp = []\n",
    "        GB_list_area_list_tmp = []\n",
    "        GB_list_dV_direction1_tmp = []\n",
    "        GB_list_dV_direction2_tmp = []\n",
    "        key_set = set()\n",
    "\n",
    "        # =============================================================================\n",
    "        # FILTERING: Remove unsuitable GBs for analysis\n",
    "        # =============================================================================\n",
    "        \n",
    "        print(f\"key num start with {len(GB_infomation_dict_list[time_step])}\")\n",
    "        tmp_GB_infomation_dict_for_mp = {}\n",
    "        tmp_GBenergy_information_dict_for_mp = {}\n",
    "        \n",
    "        # Filter GBs based on area, persistence, and curvature criteria\n",
    "        for key in GB_infomation_dict_list[time_step]:\n",
    "            if (GB_infomation_dict_list[time_step][key][5] < area_limit or  # Too small area\n",
    "                GB_infomation_dict_list[time_step + 1].get(key) is None or  # Disappears in next step\n",
    "                abs(GB_infomation_dict_list[time_step][key][4]) < curvature_limit):  # Too low curvature\n",
    "                continue\n",
    "            tmp_GB_infomation_dict_for_mp[key] = GB_infomation_dict_list[time_step][key]\n",
    "            tmp_GBenergy_information_dict_for_mp[key] = GBenergy_information_dict_list[time_step][key]\n",
    "        \n",
    "        print(f\"key num end with {len(tmp_GB_infomation_dict_for_mp)}\")\n",
    "        \n",
    "        # =============================================================================\n",
    "        # VELOCITY CALCULATION WITH CACHING\n",
    "        # =============================================================================\n",
    "        \n",
    "        # Try to load pre-computed velocity data\n",
    "        dV_dict_file_name = f\"GB_velocity_data/2D_dV_split_data_{case_name}_areaLimit{area_limit}_step{time_step}.npz\"\n",
    "        if os.path.exists(data_file_folder + dV_dict_file_name):\n",
    "            npz_file = np.load(data_file_folder + dV_dict_file_name, allow_pickle=True)\n",
    "            dV_dict_tmp = npz_file[\"dV_dict_tmp\"]\n",
    "            dV_dict_tmp = dV_dict_tmp.item()\n",
    "        else:\n",
    "            dV_dict_tmp = {}\n",
    "        \n",
    "        # Calculate or retrieve velocity data for each GB\n",
    "        for key in tqdm(tmp_GB_infomation_dict_for_mp):\n",
    "            if key in dV_dict_tmp:\n",
    "                result = dV_dict_tmp[key]  # Use cached result\n",
    "            else:\n",
    "                # Compute new result\n",
    "                result = compute_necessary_info_split(\n",
    "                    key, time_interval,\n",
    "                    tmp_GB_infomation_dict_for_mp[key],\n",
    "                    tmp_GBenergy_information_dict_for_mp[key],\n",
    "                    npy_file_aniso[time_step],\n",
    "                    npy_file_aniso[time_step + 1]\n",
    "                )\n",
    "                dV_dict_tmp[key] = result\n",
    "            \n",
    "            # Store results for all GBs\n",
    "            GB_list_velocity_list_tmp.append(result[\"velocity\"])\n",
    "            GB_list_curvature_list_tmp.append(result[\"current_curvature_value\"])\n",
    "            GB_list_GBenergy_list_tmp.append(result[\"current_eng\"])\n",
    "            GB_list_dV_direction1_tmp.append(result[\"dV_direction1\"])\n",
    "            GB_list_dV_direction2_tmp.append(result[\"dV_direction2\"])\n",
    "            \n",
    "            # Calculate and store GB area\n",
    "            current_GB_area = 0.5 * tmp_GB_infomation_dict_for_mp[key][0]\n",
    "            GB_list_area_list_tmp.append(current_GB_area)\n",
    "\n",
    "            # =============================================================================\n",
    "            # ANTI-CURVATURE TRACKING\n",
    "            # =============================================================================\n",
    "            \n",
    "            # Track GBs showing anti-curvature behavior\n",
    "            if result[\"is_anti_curvature\"]:\n",
    "                key_set.add(key)\n",
    "                if time_step >= step_num - 3: \n",
    "                    continue  # Skip near end of simulation\n",
    "                if key in GB_id_focus:\n",
    "                    GB_id_focus[key] += 1  # Increment anti-curvature count\n",
    "                    GB_id_focus_detail[key].append(time_step)\n",
    "                else:\n",
    "                    GB_id_focus[key] = 1  # First anti-curvature occurrence\n",
    "                    GB_id_focus_detail[key] = [time_step]\n",
    "        \n",
    "        # Save computed data if not already cached\n",
    "        if not os.path.exists(data_file_folder + dV_dict_file_name):\n",
    "            np.savez(data_file_folder + dV_dict_file_name, dV_dict_tmp=dV_dict_tmp)\n",
    "            # pass\n",
    "        \n",
    "        # Store results for current time step\n",
    "        dV_dict.append(dV_dict_tmp)\n",
    "        GB_list_velocity_list.append(GB_list_velocity_list_tmp)\n",
    "        GB_list_curvature_list.append(GB_list_curvature_list_tmp)\n",
    "        GB_list_GBenergy_list.append(GB_list_GBenergy_list_tmp)\n",
    "        GB_list_area_list.append(GB_list_area_list_tmp)\n",
    "        GB_list_dV_direction1.append(GB_list_dV_direction1_tmp)\n",
    "        GB_list_dV_direction2.append(GB_list_dV_direction2_tmp)\n",
    "\n",
    "        # =============================================================================\n",
    "        # SLIDING WINDOW FILTER FOR ANTI-CURVATURE BEHAVIOR\n",
    "        # =============================================================================\n",
    "        \n",
    "        # Update sliding window filter (5-step window)\n",
    "        GB_filter_kernel[0:4] = GB_filter_kernel[1:]\n",
    "        GB_filter_kernel[4] = key_set\n",
    "        \n",
    "        # Apply \"00100\" filter: anti-curvature at step 2, normal at steps 0,1,3,4\n",
    "        # This filters out random/transient anti-curvature behavior\n",
    "        filtered_set = GB_filter_kernel[2] - (GB_filter_kernel[0] | GB_filter_kernel[1] | \n",
    "                                             GB_filter_kernel[3] | GB_filter_kernel[4])\n",
    "        \n",
    "        # Remove filtered GBs from tracking\n",
    "        for key in filtered_set:\n",
    "            GB_id_focus[key] -= 1\n",
    "            GB_id_focus_detail[key].remove(time_step - 2)\n",
    "        \n",
    "        print(f\"finish {time_step} with num of GBs {len(GB_list_velocity_list_tmp)}, and collected num of GBs {len(GB_id_focus)}\")\n",
    "\n",
    "    # =============================================================================\n",
    "    # FINAL FILTERING: Remove GBs with insufficient anti-curvature behavior\n",
    "    # =============================================================================\n",
    "    \n",
    "    # Remove GBs that don't show consistent anti-curvature behavior\n",
    "    GB_id_focus_copy = GB_id_focus.copy()\n",
    "    for key in GB_id_focus_copy:\n",
    "        if GB_id_focus_copy[key] <= 0:\n",
    "            GB_id_focus.pop(key)\n",
    "            GB_id_focus_detail.pop(key)"
   ]
  },
  {
   "cell_type": "code",
   "execution_count": null,
   "id": "718362f0-b4ce-4839-afff-c0a4992d4187",
   "metadata": {
    "tags": []
   },
   "outputs": [
    {
     "name": "stderr",
     "output_type": "stream",
     "text": [
      "100%|██████████| 121/121 [00:00<00:00, 1709.92it/s]\n"
     ]
    }
   ],
   "source": [
    "    # =============================================================================\n",
    "    # EXTRACT ANTI-CURVATURE AND NORMAL-CURVATURE GB DATA\n",
    "    # =============================================================================\n",
    "    \n",
    "    time_interval = 30\n",
    "    \n",
    "    # Initialize storage arrays for anti-curvature GBs\n",
    "    GB_antic_list_velocity_AllList = []  # Velocity data for each time step\n",
    "    GB_antic_list_curvature_AllList = []  # Curvature data for each time step\n",
    "    GB_antic_list_GBenergy_AllList = []  # Energy data for each time step\n",
    "    GB_antic_list_anticNum_AllList = []  # Anti-curvature occurrence count for each time step\n",
    "    GB_antic_list_area_AllList = []  # Area data for each time step\n",
    "    GB_antic_list_dV_normD_AllList = []  # Normal direction growth for each time step\n",
    "    GB_antic_list_dV_antiD_AllList = []  # Anti-curvature direction growth for each time step\n",
    "    \n",
    "    # Flattened arrays combining all time steps for anti-curvature GBs\n",
    "    GB_antic_list_velocity_list = []\n",
    "    GB_antic_list_curvature_list = []\n",
    "    GB_antic_list_GBenergy_list = []\n",
    "    GB_antic_list_anticNum_list = []\n",
    "    GB_antic_list_area_list = []\n",
    "    GB_antic_list_dV_normD_list = []\n",
    "    GB_antic_list_dV_antiD_list = []\n",
    "    \n",
    "    # Initialize storage arrays for normal-curvature GBs\n",
    "    GB_normc_list_velocity_AllList = []\n",
    "    GB_normc_list_curvature_AllList = []\n",
    "    GB_normc_list_GBenergy_AllList = []\n",
    "    GB_normc_list_area_AllList = []\n",
    "    GB_normc_list_dV_normD_AllList = []\n",
    "    GB_normc_list_dV_antiD_AllList = []\n",
    "    \n",
    "    # Flattened arrays for normal-curvature GBs\n",
    "    GB_normc_list_velocity_list = []\n",
    "    GB_normc_list_curvature_list = []\n",
    "    GB_normc_list_GBenergy_list = []\n",
    "    GB_normc_list_area_list = []\n",
    "    GB_normc_list_dV_normD_list = []\n",
    "    GB_normc_list_dV_antiD_list = []\n",
    "    \n",
    "    # Process each time step to extract anti-curvature and normal-curvature GB data\n",
    "    for time_step in tqdm(range(step_num)):\n",
    "        if time_step + 1 >= step_num: \n",
    "            continue\n",
    "        \n",
    "        # Load pre-computed velocity data for current time step\n",
    "        dV_dict_file_name = f\"GB_velocity_data/2D_dV_split_data_{case_name}_areaLimit{area_limit}_step{time_step}.npz\"\n",
    "        npz_file = np.load(data_file_folder + dV_dict_file_name, allow_pickle=True)\n",
    "        dV_dict_tmp = npz_file[\"dV_dict_tmp\"]\n",
    "        dV_dict_tmp = dV_dict_tmp.item()\n",
    "        \n",
    "        # Initialize temporary storage for current time step\n",
    "        tmp_GB_antic_list_velocity = []\n",
    "        tmp_GB_antic_list_curvature = []\n",
    "        tmp_GB_antic_list_GBenergy = []\n",
    "        tmp_GB_antic_list_anticNum = []\n",
    "        tmp_GB_antic_list_area = []\n",
    "        tmp_GB_antic_list_dV_normD = []\n",
    "        tmp_GB_antic_list_dV_antiD = []\n",
    "        \n",
    "        # =============================================================================\n",
    "        # EXTRACT ANTI-CURVATURE GB DATA\n",
    "        # =============================================================================\n",
    "        \n",
    "        for key in GB_id_focus_detail:\n",
    "            if time_step in GB_id_focus_detail[key]:  # If this GB shows anti-curvature at this time step\n",
    "                \n",
    "                result = dV_dict_tmp[key]\n",
    "                velocity = result[\"velocity\"]\n",
    "                current_curvature_value = result[\"current_curvature_value\"]\n",
    "                current_area = 0.5 * GB_infomation_dict_list[time_step][key][0]\n",
    "                dV_direction1 = result[\"dV_direction1\"]  # Growth of grain1 into grain2\n",
    "                dV_direction2 = result[\"dV_direction2\"]  # Growth of grain2 into grain1\n",
    "                \n",
    "                # Normalize signs: make curvature positive and adjust velocity/growth directions accordingly\n",
    "                # This ensures consistent interpretation regardless of grain ID ordering\n",
    "                if current_curvature_value < 0:\n",
    "                    # If curvature is negative, flip signs to make analysis consistent\n",
    "                    GB_antic_list_velocity_list.append(-velocity)\n",
    "                    GB_antic_list_curvature_list.append(-current_curvature_value)\n",
    "                    GB_antic_list_dV_normD_list.append(dV_direction2)  # Normal direction growth\n",
    "                    GB_antic_list_dV_antiD_list.append(dV_direction1)  # Anti-curvature direction growth\n",
    "                    tmp_GB_antic_list_velocity.append(-velocity)\n",
    "                    tmp_GB_antic_list_curvature.append(-current_curvature_value)\n",
    "                    tmp_GB_antic_list_dV_normD.append(dV_direction2)\n",
    "                    tmp_GB_antic_list_dV_antiD.append(dV_direction1)\n",
    "                else:\n",
    "                    # Keep original signs\n",
    "                    GB_antic_list_velocity_list.append(velocity)\n",
    "                    GB_antic_list_curvature_list.append(current_curvature_value)\n",
    "                    GB_antic_list_dV_normD_list.append(dV_direction1)\n",
    "                    GB_antic_list_dV_antiD_list.append(dV_direction2)\n",
    "                    tmp_GB_antic_list_velocity.append(velocity)\n",
    "                    tmp_GB_antic_list_curvature.append(current_curvature_value)\n",
    "                    tmp_GB_antic_list_dV_normD.append(dV_direction1)\n",
    "                    tmp_GB_antic_list_dV_antiD.append(dV_direction2)\n",
    "                \n",
    "                # Store energy, anti-curvature count, and area data\n",
    "                GB_antic_list_GBenergy_list.append(result[\"current_eng\"])\n",
    "                GB_antic_list_anticNum_list.append(GB_id_focus[key])  # Total anti-curvature occurrences\n",
    "                GB_antic_list_area_list.append(current_area)\n",
    "                tmp_GB_antic_list_GBenergy.append(result[\"current_eng\"])\n",
    "                tmp_GB_antic_list_anticNum.append(GB_id_focus[key])\n",
    "                tmp_GB_antic_list_area.append(current_area)\n",
    "            \n",
    "        # Store anti-curvature data for current time step\n",
    "        GB_antic_list_velocity_AllList.append(tmp_GB_antic_list_velocity)\n",
    "        GB_antic_list_curvature_AllList.append(tmp_GB_antic_list_curvature)\n",
    "        GB_antic_list_GBenergy_AllList.append(tmp_GB_antic_list_GBenergy)\n",
    "        GB_antic_list_anticNum_AllList.append(tmp_GB_antic_list_anticNum)\n",
    "        GB_antic_list_area_AllList.append(tmp_GB_antic_list_area)\n",
    "        GB_antic_list_dV_normD_AllList.append(tmp_GB_antic_list_dV_normD)\n",
    "        GB_antic_list_dV_antiD_AllList.append(tmp_GB_antic_list_dV_antiD)\n",
    "        \n",
    "        # =============================================================================\n",
    "        # EXTRACT NORMAL-CURVATURE GB DATA\n",
    "        # =============================================================================\n",
    "        \n",
    "        tmp_GB_normc_list_velocity = []\n",
    "        tmp_GB_normc_list_curvature = []\n",
    "        tmp_GB_normc_list_GBenergy = []\n",
    "        tmp_GB_normc_list_area = []\n",
    "        tmp_GB_normc_list_dV_normD = []\n",
    "        tmp_GB_normc_list_dV_antiD = []\n",
    "        \n",
    "        for key in dV_dict_tmp:\n",
    "            result = dV_dict_tmp[key]\n",
    "            velocity = result[\"velocity\"]\n",
    "            current_curvature_value = result[\"current_curvature_value\"]\n",
    "            current_area = 0.5 * GB_infomation_dict_list[time_step][key][0]\n",
    "            dV_direction1 = result[\"dV_direction1\"]\n",
    "            dV_direction2 = result[\"dV_direction2\"]\n",
    "            \n",
    "            # Check if this GB shows normal curvature behavior (curvature and velocity same sign)\n",
    "            if current_curvature_value * velocity > 0:  # Normal curvature behavior\n",
    "                \n",
    "                # Normalize signs similar to anti-curvature case\n",
    "                if current_curvature_value < 0:\n",
    "                    GB_normc_list_velocity_list.append(-velocity)\n",
    "                    GB_normc_list_curvature_list.append(-current_curvature_value)\n",
    "                    GB_normc_list_dV_normD_list.append(dV_direction2)\n",
    "                    GB_normc_list_dV_antiD_list.append(dV_direction1)\n",
    "                    tmp_GB_normc_list_velocity.append(-velocity)\n",
    "                    tmp_GB_normc_list_curvature.append(-current_curvature_value)\n",
    "                    tmp_GB_normc_list_dV_normD.append(dV_direction2)\n",
    "                    tmp_GB_normc_list_dV_antiD.append(dV_direction1)\n",
    "                else:\n",
    "                    GB_normc_list_velocity_list.append(velocity)\n",
    "                    GB_normc_list_curvature_list.append(current_curvature_value)\n",
    "                    GB_normc_list_dV_normD_list.append(dV_direction1)\n",
    "                    GB_normc_list_dV_antiD_list.append(dV_direction2)\n",
    "                    tmp_GB_normc_list_velocity.append(velocity)\n",
    "                    tmp_GB_normc_list_curvature.append(current_curvature_value)\n",
    "                    tmp_GB_normc_list_dV_normD.append(dV_direction1)\n",
    "                    tmp_GB_normc_list_dV_antiD.append(dV_direction2)\n",
    "                \n",
    "                # Store energy and area data\n",
    "                GB_normc_list_GBenergy_list.append(result[\"current_eng\"])\n",
    "                GB_normc_list_area_list.append(current_area)\n",
    "                tmp_GB_normc_list_GBenergy.append(result[\"current_eng\"])\n",
    "                tmp_GB_normc_list_area.append(current_area)\n",
    "        \n",
    "        # Store normal-curvature data for current time step\n",
    "        GB_normc_list_velocity_AllList.append(tmp_GB_normc_list_velocity)\n",
    "        GB_normc_list_curvature_AllList.append(tmp_GB_normc_list_curvature)\n",
    "        GB_normc_list_GBenergy_AllList.append(tmp_GB_normc_list_GBenergy)\n",
    "        GB_normc_list_area_AllList.append(tmp_GB_normc_list_area)\n",
    "        GB_normc_list_dV_normD_AllList.append(tmp_GB_normc_list_dV_normD)\n",
    "        GB_normc_list_dV_antiD_AllList.append(tmp_GB_normc_list_dV_antiD)"
   ]
  },
  {
   "cell_type": "code",
   "execution_count": null,
   "id": "7f5ceda3-c17c-45ae-ad05-9aaab0112017",
   "metadata": {
    "tags": []
   },
   "outputs": [
    {
     "name": "stdout",
     "output_type": "stream",
     "text": [
      "anti-c GB\n",
      "The number of the GBs showing anti-curvature during whole simulations is 0\n",
      "The ratio of anti-curvature GBs during whole simulations is 0.0% in 277233 GBs\n",
      "The ratio of norm-curvature GBs during whole simulations is 0.19730695840682747% in 277233 GBs\n",
      "\n",
      "anti-c GB in real total number\n",
      "The ratio of anti-curvature GBs during whole simulations is 0.0% in 547 GBs\n",
      "The ratio of norm-curvature GBs during whole simulations is 100.0% in 547 GBs\n",
      "\n",
      "Over all voxels\n",
      "The number of the normal voxels and antic voxels during whole simulations are 107274 and 6726\n",
      "The ratio of anti-curvature voxels during whole simulations is 5.8999999999999995% in 114000 voxels\n",
      "\n",
      "Voxels on norm-c GBs\n",
      "The number of the normal voxels and antic voxels during whole simulations are 106247 and 4071\n",
      "The ratio of anti-curvature voxels during whole simulations is 3.6902409398284957% in 110318 voxels\n"
     ]
    }
   ],
   "source": [
    "    # =============================================================================\n",
    "    # STATISTICAL ANALYSIS OF ANTI-CURVATURE BEHAVIOR\n",
    "    # =============================================================================\n",
    "    \n",
    "    print(\"ANTI-CURVATURE GB STATISTICS\")\n",
    "    print(\"=\" * 50)\n",
    "    \n",
    "    # Calculate total number of GB observations across all time steps\n",
    "    total_GB_num = 0\n",
    "    for time_step in range(step_num):\n",
    "        step_GB = GB_infomation_dict_list[time_step].keys()\n",
    "        total_GB_num += len(step_GB)\n",
    "        \n",
    "    # Calculate real total (filtered GBs only)\n",
    "    total_GB_num_real = len(GB_antic_list_velocity_list) + len(GB_normc_list_velocity_list)\n",
    "\n",
    "    # Print anti-curvature GB statistics\n",
    "    print(f\"The number of the GBs showing anti-curvature during whole simulations is {len(GB_antic_list_velocity_list)}\")\n",
    "    print(f\"The ratio of anti-curvature GBs during whole simulations is {len(GB_antic_list_velocity_list)/total_GB_num*100:.2f}% in {total_GB_num} GBs\")\n",
    "    print(f\"The ratio of norm-curvature GBs during whole simulations is {len(GB_normc_list_velocity_list)/total_GB_num*100:.2f}% in {total_GB_num} GBs\")\n",
    "    print()\n",
    "    \n",
    "    print(\"ANTI-CURVATURE GB STATISTICS (FILTERED DATA ONLY)\")\n",
    "    print(f\"The ratio of anti-curvature GBs during whole simulations is {len(GB_antic_list_velocity_list)/total_GB_num_real*100:.2f}% in {total_GB_num_real} GBs\")\n",
    "    print(f\"The ratio of norm-curvature GBs during whole simulations is {len(GB_normc_list_velocity_list)/total_GB_num_real*100:.2f}% in {total_GB_num_real} GBs\")\n",
    "    print()\n",
    "    \n",
    "    # =============================================================================\n",
    "    # VOXEL-LEVEL ANALYSIS\n",
    "    # =============================================================================\n",
    "    \n",
    "    print(\"VOXEL-LEVEL STATISTICS (ALL GBs)\")\n",
    "    print(\"=\" * 40)\n",
    "    \n",
    "    normal_growth_voxel = 0\n",
    "    antic_growth_voxel = 0\n",
    "    \n",
    "    # Calculate anti-curvature voxel fraction across all GBs\n",
    "    for i in range(0, len(GB_list_curvature_list)):\n",
    "        for j in range(len(GB_list_curvature_list[i])):\n",
    "            # Determine normal vs anti-curvature growth based on curvature sign\n",
    "            # When curvature < 0: direction2 is normal, direction1 is anti-curvature\n",
    "            # When curvature >= 0: direction1 is normal, direction2 is anti-curvature\n",
    "            if GB_list_curvature_list[i][j] < 0:\n",
    "                normal_growth_voxel += GB_list_dV_direction2[i][j]\n",
    "                antic_growth_voxel += GB_list_dV_direction1[i][j]\n",
    "            elif GB_list_curvature_list[i][j] >= 0:\n",
    "                normal_growth_voxel += GB_list_dV_direction1[i][j]\n",
    "                antic_growth_voxel += GB_list_dV_direction2[i][j]\n",
    "    \n",
    "    total_voxels = antic_growth_voxel + normal_growth_voxel\n",
    "    print(f\"The number of the normal voxels and anti-curvature voxels during whole simulations are {normal_growth_voxel} and {antic_growth_voxel}\")\n",
    "    print(f\"The ratio of anti-curvature voxels during whole simulations is {antic_growth_voxel/total_voxels*100:.2f}% in {total_voxels} voxels\")\n",
    "    print()\n",
    "    \n",
    "    print(\"VOXEL-LEVEL STATISTICS (NORMAL-CURVATURE GBs ONLY)\")\n",
    "    print(\"=\" * 50)\n",
    "    \n",
    "    # Calculate voxel statistics for normal-curvature GBs only\n",
    "    normal_growth_voxel = np.sum(GB_normc_list_dV_normD_list)\n",
    "    antic_growth_voxel = np.sum(GB_normc_list_dV_antiD_list)\n",
    "    total_voxels = antic_growth_voxel + normal_growth_voxel\n",
    "    \n",
    "    print(f\"The number of the normal voxels and anti-curvature voxels are {normal_growth_voxel} and {antic_growth_voxel}\")\n",
    "    print(f\"The ratio of anti-curvature voxels is {antic_growth_voxel/total_voxels*100:.2f}% in {total_voxels} voxels\")"
   ]
  },
  {
   "cell_type": "code",
   "execution_count": null,
   "id": "d12b35db-f0b2-4171-8202-428f13f15891",
   "metadata": {
    "tags": []
   },
   "outputs": [
    {
     "data": {
      "text/plain": [
       "<Figure size 432x288 with 0 Axes>"
      ]
     },
     "metadata": {},
     "output_type": "display_data"
    },
    {
     "data": {
      "image/png": "[encoded data removed]",
      "text/plain": [
       "<Figure size 504x504 with 1 Axes>"
      ]
     },
     "metadata": {
      "needs_background": "light"
     },
     "output_type": "display_data"
    }
   ],
   "source": [
    "    # =============================================================================\n",
    "    # VOXEL DISTRIBUTION ANALYSIS AND CONFIDENCE FILTERING\n",
    "    # =============================================================================\n",
    "    \n",
    "    # Set up binning parameters for analyzing anti-curvature voxel fractions\n",
    "    bin_interval = 0.01  # Bin width for histogram\n",
    "    x_lim = [0.5, 1.0]  # Range: 50% to 100% anti-curvature voxels\n",
    "    bin_number = int((x_lim[1] - x_lim[0]) / bin_interval)\n",
    "    Antic_voxel_coordinate = np.arange(x_lim[0], x_lim[1], bin_interval) + bin_interval / 2\n",
    "    \n",
    "    # Initialize histograms for anti-curvature and normal-curvature GBs\n",
    "    antic_voxel_num_bin = np.zeros(bin_number)\n",
    "    normc_voxel_num_bin = np.zeros(bin_number)\n",
    "    \n",
    "    # Calculate voxel fraction distribution for anti-curvature GBs\n",
    "    for index in range(len(GB_antic_list_dV_normD_list)):\n",
    "        total_voxels = GB_antic_list_dV_normD_list[index] + GB_antic_list_dV_antiD_list[index]\n",
    "        if total_voxels > 0:  # Avoid division by zero\n",
    "            antic_fraction = GB_antic_list_dV_antiD_list[index] / total_voxels\n",
    "            if x_lim[0] <= antic_fraction < x_lim[1]:  # Check if within range\n",
    "                bin_idx = int((antic_fraction - x_lim[0]) // bin_interval)\n",
    "                if 0 <= bin_idx < bin_number:  # Ensure valid bin index\n",
    "                    antic_voxel_num_bin[bin_idx] += 1\n",
    "    \n",
    "    # Calculate voxel fraction distribution for normal-curvature GBs\n",
    "    for index in range(len(GB_normc_list_dV_normD_list)):\n",
    "        total_voxels = GB_normc_list_dV_normD_list[index] + GB_normc_list_dV_antiD_list[index]\n",
    "        if total_voxels > 0:\n",
    "            normc_fraction = GB_normc_list_dV_normD_list[index] / total_voxels\n",
    "            if x_lim[0] <= normc_fraction < x_lim[1]:\n",
    "                bin_idx = int((normc_fraction - x_lim[0]) // bin_interval)\n",
    "                if 0 <= bin_idx < bin_number:\n",
    "                    normc_voxel_num_bin[bin_idx] += 1\n",
    "    \n",
    "    # =============================================================================\n",
    "    # PLOT NORMAL-CURVATURE VOXEL DISTRIBUTION\n",
    "    # =============================================================================\n",
    "    \n",
    "    figure_name_all_bin = f\"figures/2D_normc_voxel_distribution_{case_name}_5d_afterBin.png\"\n",
    "    plt.figure()\n",
    "    fig = plt.figure(figsize=(7, 7))\n",
    "    plt.xlim([0.5, 1.0])\n",
    "    plt.ylim([0, 0.5])\n",
    "    plt.title(\"Normal-curvature GB voxel distribution\", fontsize=16)\n",
    "    \n",
    "    # Plot normalized distribution\n",
    "    if np.sum(normc_voxel_num_bin) > 0:\n",
    "        plt.plot(Antic_voxel_coordinate, normc_voxel_num_bin / np.sum(normc_voxel_num_bin), \n",
    "                '-', linewidth=2, label='Normal-curvature GBs')\n",
    "    \n",
    "    plt.xlabel(\"Fraction of voxels moving in curvature direction\", fontsize=18)\n",
    "    plt.ylabel(\"Probability density\", fontsize=18)\n",
    "    plt.legend()\n",
    "    # plt.savefig(figure_name_all_bin, dpi=400, bbox_inches='tight')\n",
    "        \n",
    "    # =============================================================================\n",
    "    # CONFIDENCE-BASED FILTERING\n",
    "    # =============================================================================\n",
    "    \n",
    "    confidence_factor = 0.99  # 99% confidence threshold for anti-curvature behavior\n",
    "    \n",
    "    # Initialize filtered arrays for anti-curvature GBs with high confidence\n",
    "    update_GB_antic_list_velocity_AllList = []\n",
    "    update_GB_antic_list_curvature_AllList = []\n",
    "    update_GB_antic_list_GBenergy_AllList = []\n",
    "    update_GB_antic_list_anticNum_AllList = []\n",
    "    update_GB_antic_list_area_AllList = []\n",
    "    update_GB_antic_list_dV_normD_AllList = []\n",
    "    update_GB_antic_list_dV_antiD_AllList = []\n",
    "    \n",
    "    # Flattened arrays for high-confidence anti-curvature GBs\n",
    "    update_GB_antic_list_velocity_list = []\n",
    "    update_GB_antic_list_curvature_list = []\n",
    "    update_GB_antic_list_GBenergy_list = []\n",
    "    update_GB_antic_list_anticNum_list = []\n",
    "    update_GB_antic_list_area_list = []\n",
    "    update_GB_antic_list_dV_normD_list = []\n",
    "    update_GB_antic_list_dV_antiD_list = []\n",
    "    \n",
    "    # Filter anti-curvature GBs based on confidence factor\n",
    "    for index in range(len(GB_antic_list_velocity_list)):\n",
    "        total_voxels = GB_antic_list_dV_normD_list[index] + GB_antic_list_dV_antiD_list[index]\n",
    "        if total_voxels > 0:\n",
    "            antic_fraction = GB_antic_list_dV_antiD_list[index] / total_voxels\n",
    "            if antic_fraction > confidence_factor:  # High confidence anti-curvature\n",
    "                update_GB_antic_list_velocity_list.append(GB_antic_list_velocity_list[index])\n",
    "                update_GB_antic_list_curvature_list.append(GB_antic_list_curvature_list[index])\n",
    "                update_GB_antic_list_GBenergy_list.append(GB_antic_list_GBenergy_list[index])\n",
    "                update_GB_antic_list_anticNum_list.append(GB_antic_list_anticNum_list[index])\n",
    "                update_GB_antic_list_area_list.append(GB_antic_list_area_list[index])\n",
    "                update_GB_antic_list_dV_normD_list.append(GB_antic_list_dV_normD_list[index])\n",
    "                update_GB_antic_list_dV_antiD_list.append(GB_antic_list_dV_antiD_list[index])\n",
    "    \n",
    "    # Filter time-step-wise data (currently empty initialization, would need similar filtering)\n",
    "    for index_i in range(len(GB_antic_list_velocity_AllList)):\n",
    "        tmp_update_lists = [[] for _ in range(7)]  # Initialize temporary lists\n",
    "        \n",
    "        for index_j in range(len(GB_antic_list_velocity_AllList[index_i])):\n",
    "            total_voxels = (GB_antic_list_dV_normD_AllList[index_i][index_j] + \n",
    "                          GB_antic_list_dV_antiD_AllList[index_i][index_j])\n",
    "            if total_voxels > 0:\n",
    "                antic_fraction = GB_antic_list_dV_antiD_AllList[index_i][index_j] / total_voxels\n",
    "                if antic_fraction > confidence_factor:\n",
    "                    # Add to filtered lists\n",
    "                    tmp_update_lists[0].append(GB_antic_list_velocity_AllList[index_i][index_j])\n",
    "                    tmp_update_lists[1].append(GB_antic_list_curvature_AllList[index_i][index_j])\n",
    "                    tmp_update_lists[2].append(GB_antic_list_GBenergy_AllList[index_i][index_j])\n",
    "                    tmp_update_lists[3].append(GB_antic_list_anticNum_AllList[index_i][index_j])\n",
    "                    tmp_update_lists[4].append(GB_antic_list_area_AllList[index_i][index_j])\n",
    "                    tmp_update_lists[5].append(GB_antic_list_dV_normD_AllList[index_i][index_j])\n",
    "                    tmp_update_lists[6].append(GB_antic_list_dV_antiD_AllList[index_i][index_j])\n",
    "        \n",
    "        # Store filtered data for this time step\n",
    "        update_GB_antic_list_velocity_AllList.append(tmp_update_lists[0])\n",
    "        update_GB_antic_list_curvature_AllList.append(tmp_update_lists[1])\n",
    "        update_GB_antic_list_GBenergy_AllList.append(tmp_update_lists[2])\n",
    "        update_GB_antic_list_anticNum_AllList.append(tmp_update_lists[3])\n",
    "        update_GB_antic_list_area_AllList.append(tmp_update_lists[4])\n",
    "        update_GB_antic_list_dV_normD_AllList.append(tmp_update_lists[5])\n",
    "        update_GB_antic_list_dV_antiD_AllList.append(tmp_update_lists[6])\n",
    "        \n",
    "    # =============================================================================\n",
    "    # FILTER NORMAL-CURVATURE GBs WITH HIGH CONFIDENCE\n",
    "    # =============================================================================\n",
    "        \n",
    "    # Similar filtering for normal-curvature GBs\n",
    "    update_GB_normc_list_velocity_AllList = []\n",
    "    update_GB_normc_list_curvature_AllList = []\n",
    "    update_GB_normc_list_GBenergy_AllList = []\n",
    "    update_GB_normc_list_area_AllList = []\n",
    "    update_GB_normc_list_dV_normD_AllList = []\n",
    "    update_GB_normc_list_dV_antiD_AllList = []\n",
    "    \n",
    "    update_GB_normc_list_velocity_list = []\n",
    "    update_GB_normc_list_curvature_list = []\n",
    "    update_GB_normc_list_GBenergy_list = []\n",
    "    update_GB_normc_list_area_list = []\n",
    "    update_GB_normc_list_dV_normD_list = []\n",
    "    update_GB_normc_list_dV_antiD_list = []\n",
    "    \n",
    "    # Filter normal-curvature GBs based on confidence factor\n",
    "    for index in range(len(GB_normc_list_velocity_list)):\n",
    "        total_voxels = GB_normc_list_dV_normD_list[index] + GB_normc_list_dV_antiD_list[index]\n",
    "        if total_voxels > 0:\n",
    "            normc_fraction = GB_normc_list_dV_normD_list[index] / total_voxels\n",
    "            if normc_fraction > confidence_factor:  # High confidence normal-curvature\n",
    "                update_GB_normc_list_velocity_list.append(GB_normc_list_velocity_list[index])\n",
    "                update_GB_normc_list_curvature_list.append(GB_normc_list_curvature_list[index])\n",
    "                update_GB_normc_list_GBenergy_list.append(GB_normc_list_GBenergy_list[index])\n",
    "                update_GB_normc_list_area_list.append(GB_normc_list_area_list[index])\n",
    "                update_GB_normc_list_dV_normD_list.append(GB_normc_list_dV_normD_list[index])\n",
    "                update_GB_normc_list_dV_antiD_list.append(GB_normc_list_dV_antiD_list[index])\n",
    "    \n",
    "    # Filter time-step-wise normal-curvature data (similar process)\n",
    "    for index_i in range(len(GB_normc_list_velocity_AllList)):\n",
    "        tmp_update_lists = [[] for _ in range(6)]  # Initialize temporary lists\n",
    "        \n",
    "        for index_j in range(len(GB_normc_list_velocity_AllList[index_i])):\n",
    "            total_voxels = (GB_normc_list_dV_normD_AllList[index_i][index_j] + \n",
    "                          GB_normc_list_dV_antiD_AllList[index_i][index_j])\n",
    "            if total_voxels > 0:\n",
    "                normc_fraction = GB_normc_list_dV_normD_AllList[index_i][index_j] / total_voxels\n",
    "                if normc_fraction > confidence_factor:\n",
    "                    # Add to filtered lists\n",
    "                    tmp_update_lists[0].append(GB_normc_list_velocity_AllList[index_i][index_j])\n",
    "                    tmp_update_lists[1].append(GB_normc_list_curvature_AllList[index_i][index_j])\n",
    "                    tmp_update_lists[2].append(GB_normc_list_GBenergy_AllList[index_i][index_j])\n",
    "                    tmp_update_lists[3].append(GB_normc_list_area_AllList[index_i][index_j])\n",
    "                    tmp_update_lists[4].append(GB_normc_list_dV_normD_AllList[index_i][index_j])\n",
    "                    tmp_update_lists[5].append(GB_normc_list_dV_antiD_AllList[index_i][index_j])\n",
    "        \n",
    "        # Store filtered data for this time step\n",
    "        update_GB_normc_list_velocity_AllList.append(tmp_update_lists[0])\n",
    "        update_GB_normc_list_curvature_AllList.append(tmp_update_lists[1])\n",
    "        update_GB_normc_list_GBenergy_AllList.append(tmp_update_lists[2])\n",
    "        update_GB_normc_list_area_AllList.append(tmp_update_lists[3])\n",
    "        update_GB_normc_list_dV_normD_AllList.append(tmp_update_lists[4])\n",
    "        update_GB_normc_list_dV_antiD_AllList.append(tmp_update_lists[5])"
   ]
  },
  {
   "cell_type": "code",
   "execution_count": null,
   "id": "36731870-ef11-431d-9e7e-5af0ad61b9c0",
   "metadata": {
    "tags": []
   },
   "outputs": [
    {
     "name": "stdout",
     "output_type": "stream",
     "text": [
      "Voxels on anti-c GBs\n",
      "The number of the normal voxels and antic voxels during whole simulations are 0.0 and 0.0\n",
      "\n",
      "Voxels on norm-c GBs\n",
      "The number of the normal voxels and antic voxels during whole simulations are 73075 and 41\n",
      "The ratio of norm-curvature voxels during whole simulations is 99.94392472235899% in 73116 voxels\n",
      "\n",
      "anti-c GB before removing low fraction\n",
      "The number of the GBs showing anti-curvature during whole simulations is 0\n",
      "The ratio of anti-curvature and norm GBs during whole simulations is 0.0% and 100.0% in 547 GBs\n",
      "\n",
      "anti-c GB after removing low fraction\n",
      "The number of the GBs showing anti-curvature during whole simulations is 0\n",
      "The ratio of anti-curvature and norm GBs during whole simulations is 0.0% and 53.56489945155393% in 547 GBs\n",
      "\n",
      "The ratio of anti-curvature and norm GBs during whole simulations is (original GBs number) 0.0% and 0.10568727388153647% in 277233 GBs\n",
      "\n"
     ]
    }
   ],
   "source": [
    "    # =============================================================================\n",
    "    # FILTERED STATISTICS ANALYSIS (HIGH-CONFIDENCE DATA)\n",
    "    # =============================================================================\n",
    "    \n",
    "    print(\"VOXEL-LEVEL STATISTICS (HIGH-CONFIDENCE ANTI-CURVATURE GBs)\")\n",
    "    print(\"=\" * 60)\n",
    "    \n",
    "    # Calculate voxel statistics for high-confidence anti-curvature GBs\n",
    "    normal_growth_voxel = np.sum(update_GB_antic_list_dV_normD_list)\n",
    "    antic_growth_voxel = np.sum(update_GB_antic_list_dV_antiD_list)\n",
    "    total_voxels = normal_growth_voxel + antic_growth_voxel\n",
    "    \n",
    "    print(f\"Normal voxels: {normal_growth_voxel}\")\n",
    "    print(f\"Anti-curvature voxels: {antic_growth_voxel}\")\n",
    "    print(f\"Total voxels: {total_voxels}\")\n",
    "    if total_voxels > 0:\n",
    "        print(f\"Anti-curvature voxel fraction: {antic_growth_voxel/total_voxels*100:.2f}%\")\n",
    "    print()\n",
    "    \n",
    "    print(\"VOXEL-LEVEL STATISTICS (HIGH-CONFIDENCE NORMAL-CURVATURE GBs)\")\n",
    "    print(\"=\" * 60)\n",
    "    \n",
    "    # Calculate voxel statistics for high-confidence normal-curvature GBs\n",
    "    normal_growth_voxel = np.sum(update_GB_normc_list_dV_normD_list)\n",
    "    antic_growth_voxel = np.sum(update_GB_normc_list_dV_antiD_list)\n",
    "    total_voxels = normal_growth_voxel + antic_growth_voxel\n",
    "    \n",
    "    print(f\"Normal voxels: {normal_growth_voxel}\")\n",
    "    print(f\"Anti-curvature voxels: {antic_growth_voxel}\")\n",
    "    print(f\"Total voxels: {total_voxels}\")\n",
    "    if total_voxels > 0:\n",
    "        print(f\"Normal-curvature voxel fraction: {normal_growth_voxel/total_voxels*100:.2f}%\")\n",
    "    print()\n",
    "\n",
    "    print(\"GB-LEVEL STATISTICS COMPARISON\")\n",
    "    print(\"=\" * 40)\n",
    "    \n",
    "    # Calculate total GB numbers for comparison\n",
    "    total_GB_num = 0\n",
    "    for time_step in range(step_num):\n",
    "        step_GB = GB_infomation_dict_list[time_step].keys()\n",
    "        total_GB_num += len(step_GB)\n",
    "        \n",
    "    total_GB_num_real = len(GB_antic_list_velocity_list) + len(GB_normc_list_velocity_list)\n",
    "\n",
    "    print(\"BEFORE CONFIDENCE FILTERING:\")\n",
    "    print(f\"Anti-curvature GBs: {len(GB_antic_list_dV_normD_list)} ({len(GB_antic_list_dV_normD_list)/total_GB_num_real*100:.2f}%)\")\n",
    "    print(f\"Normal-curvature GBs: {len(GB_normc_list_dV_normD_list)} ({len(GB_normc_list_dV_normD_list)/total_GB_num_real*100:.2f}%)\")\n",
    "    print(f\"Total filtered GBs: {total_GB_num_real}\")\n",
    "    print()\n",
    "    \n",
    "    print(\"AFTER CONFIDENCE FILTERING (99% threshold):\")\n",
    "    print(f\"High-confidence anti-curvature GBs: {len(update_GB_antic_list_dV_antiD_list)} ({len(update_GB_antic_list_dV_antiD_list)/total_GB_num_real*100:.2f}%)\")\n",
    "    print(f\"High-confidence normal-curvature GBs: {len(update_GB_normc_list_dV_antiD_list)} ({len(update_GB_normc_list_dV_antiD_list)/total_GB_num_real*100:.2f}%)\")\n",
    "    print()\n",
    "    \n",
    "    print(\"PERCENTAGE OF ORIGINAL TOTAL GBs:\")\n",
    "    print(f\"High-confidence anti-curvature GBs: {len(update_GB_antic_list_dV_antiD_list)/total_GB_num*100:.3f}%\")\n",
    "    print(f\"High-confidence normal-curvature GBs: {len(update_GB_normc_list_dV_antiD_list)/total_GB_num*100:.3f}%\")\n",
    "    print(f\"Original total GBs: {total_GB_num}\")\n",
    "    print()"
   ]
  },
  {
   "cell_type": "code",
   "execution_count": null,
   "id": "7e609b22-de14-4273-867b-60249af30047",
   "metadata": {},
   "outputs": [
    {
     "name": "stdout",
     "output_type": "stream",
     "text": [
      "all points fitting: 0.5851302788570785\n",
      "all points slope: 2.2952265467306354\n",
      "smaller points fitting: 0.5851302788570785\n",
      "smaller points slope: 2.2952265467306354\n"
     ]
    },
    {
     "data": {
      "text/plain": [
       "<Figure size 432x288 with 0 Axes>"
      ]
     },
     "metadata": {},
     "output_type": "display_data"
    },
    {
     "data": {
      "image/png": "[encoded data removed]",
      "text/plain": [
       "<Figure size 360x360 with 1 Axes>"
      ]
     },
     "metadata": {
      "needs_background": "light"
     },
     "output_type": "display_data"
    },
    {
     "data": {
      "text/plain": [
       "<Figure size 432x288 with 0 Axes>"
      ]
     },
     "metadata": {},
     "output_type": "display_data"
    },
    {
     "data": {
      "image/png": "[encoded data removed]",
      "text/plain": [
       "<Figure size 360x360 with 2 Axes>"
      ]
     },
     "metadata": {
      "needs_background": "light"
     },
     "output_type": "display_data"
    }
   ],
   "source": [
    "    # =============================================================================\n",
    "    # VELOCITY vs CURVATURE RELATIONSHIP ANALYSIS\n",
    "    # =============================================================================\n",
    "    \n",
    "    # Create comprehensive scatter plot showing all GB data\n",
    "    figure_name_all = f\"figures/2D_velocity_signedcurvature_{case_name}_5d.png\"\n",
    "    plt.figure()\n",
    "    fig = plt.figure(figsize=(5, 5))\n",
    "    \n",
    "    # Plot reference line at velocity = 0\n",
    "    plt.plot([curvature_limit, 0.5], [0, 0], '-', color='grey', linewidth=2, alpha=0.7, label='V=0 reference')\n",
    "    \n",
    "    # Scatter plot: normal-curvature GBs (blue) and anti-curvature GBs (orange)\n",
    "    plt.scatter(GB_normc_list_curvature_list, GB_normc_list_velocity_list, \n",
    "                s=4, alpha=0.5, label='Normal-curvature GBs', color='C0')\n",
    "    plt.scatter(GB_antic_list_curvature_list, GB_antic_list_velocity_list, \n",
    "                s=4, alpha=0.5, color='C1', label='Anti-curvature GBs')\n",
    "    \n",
    "    plt.xlabel(\"Curvature κ\", fontsize=20)\n",
    "    plt.ylabel(\"Velocity (voxel/step)\", fontsize=18)\n",
    "    plt.xlim([curvature_limit, 0.1])\n",
    "    plt.ylim([-0.3, 0.3])\n",
    "    plt.legend()\n",
    "    plt.title(\"GB Velocity vs Curvature\", fontsize=16)\n",
    "    plt.savefig(figure_name_all, dpi=400, bbox_inches='tight')\n",
    "    \n",
    "    # =============================================================================\n",
    "    # DENSITY PLOT WITH STATISTICAL ANALYSIS\n",
    "    # =============================================================================\n",
    "    \n",
    "    # Create 2D histogram for density visualization\n",
    "    x_bins = np.linspace(0, 0.105, 40)  # Curvature bins\n",
    "    y_bins = np.linspace(-0.4, 0.4, 40)  # Velocity bins\n",
    "    \n",
    "    # Combine all GB data for density analysis\n",
    "    all_curvatures = GB_normc_list_curvature_list + GB_antic_list_curvature_list\n",
    "    all_velocities = GB_normc_list_velocity_list + GB_antic_list_velocity_list\n",
    "    \n",
    "    hist, x_edges, y_edges = np.histogram2d(all_curvatures, all_velocities, bins=[x_bins, y_bins])\n",
    "    \n",
    "    # Compute bin centers for plotting\n",
    "    x_centers = (x_edges[:-1] + x_edges[1:]) / 2\n",
    "    y_centers = (y_edges[:-1] + y_edges[1:]) / 2\n",
    "    \n",
    "    # =============================================================================\n",
    "    # BINNED STATISTICAL ANALYSIS\n",
    "    # =============================================================================\n",
    "    \n",
    "    # Set up fine binning for statistical analysis\n",
    "    bin_interval = 0.002  # Fine bin width\n",
    "    x_lim = [0, 0.1]  # Curvature range\n",
    "    bin_number = int((x_lim[1] - x_lim[0]) / bin_interval)\n",
    "    curvature_coordinate = np.arange(x_lim[0], x_lim[1], bin_interval) + bin_interval / 2\n",
    "    \n",
    "    # Combine data for analysis\n",
    "    new_curvature_1Dlist_remove_0step = GB_normc_list_curvature_list + GB_antic_list_curvature_list\n",
    "    new_velocity_1Dlist_remove_0step = GB_normc_list_velocity_list + GB_antic_list_velocity_list\n",
    "    new_area_1Dlist_remove_0step = GB_normc_list_area_list + GB_antic_list_area_list\n",
    "    new_GBenergy_1Dlist_remove_0step = GB_normc_list_GBenergy_list + GB_antic_list_GBenergy_list\n",
    "    \n",
    "    # Calculate binned statistics (mean and standard deviation)\n",
    "    curvature_bin_counts = np.zeros(bin_number)\n",
    "    velocity_bin_sums = np.zeros(bin_number)\n",
    "    velocity_bin_squared_sums = np.zeros(bin_number)\n",
    "    \n",
    "    for index in range(len(new_curvature_1Dlist_remove_0step)):\n",
    "        curvature_val = new_curvature_1Dlist_remove_0step[index]\n",
    "        velocity_val = new_velocity_1Dlist_remove_0step[index]\n",
    "        \n",
    "        if abs(curvature_val) > x_lim[1]:  # Skip high curvature values\n",
    "            continue\n",
    "            \n",
    "        bin_idx = int((curvature_val - x_lim[0]) // bin_interval)\n",
    "        if 0 <= bin_idx < bin_number:\n",
    "            curvature_bin_counts[bin_idx] += 1\n",
    "            velocity_bin_sums[bin_idx] += velocity_val\n",
    "            velocity_bin_squared_sums[bin_idx] += velocity_val ** 2\n",
    "\n",
    "    # Calculate means and standard deviations\n",
    "    velocity_bin_means = np.zeros(bin_number)\n",
    "    velocity_bin_stds = np.zeros(bin_number)\n",
    "\n",
    "    for i in range(bin_number):\n",
    "        if curvature_bin_counts[i] > 0:\n",
    "            velocity_bin_means[i] = velocity_bin_sums[i] / curvature_bin_counts[i]\n",
    "            # Standard deviation calculation\n",
    "            mean_squared = velocity_bin_means[i] ** 2\n",
    "            mean_of_squares = velocity_bin_squared_sums[i] / curvature_bin_counts[i]\n",
    "            velocity_bin_stds[i] = np.sqrt(mean_of_squares - mean_squared)\n",
    "    \n",
    "    # =============================================================================\n",
    "    # ADVANCED DENSITY PLOT WITH LINEAR FITTING\n",
    "    # =============================================================================\n",
    "    \n",
    "    figure_name_all = f\"figures/2D_velocity_signedcurvature_hot_{case_name}_5d.png\"\n",
    "    plt.figure()\n",
    "    fig = plt.figure(figsize=(5, 5))\n",
    "    \n",
    "    # Plot reference line\n",
    "    plt.plot([curvature_limit, 0.5], [0, 0], '-', color='grey', linewidth=2, alpha=0.7)\n",
    "    \n",
    "    # Create density contour plot\n",
    "    X, Y = np.meshgrid(x_centers, y_centers)\n",
    "    hist.T[hist.T == 0] = 1  # Avoid log(0) issues\n",
    "    \n",
    "    # Plot density with log scale\n",
    "    plt.contour(X, Y, np.log10(hist.T), levels=20, cmap='gray', alpha=0.1, vmin=0, vmax=2.8)\n",
    "    ax2 = plt.contourf(X, Y, np.log10(hist.T), levels=20, cmap='coolwarm', alpha=0.9, vmin=0, vmax=2.8)\n",
    "    \n",
    "    # Add colorbar\n",
    "    sm = plt.cm.ScalarMappable(cmap='coolwarm', norm=plt.Normalize(vmin=0, vmax=2.8))\n",
    "    cbar = plt.colorbar(sm)\n",
    "    cbar.set_label(u\"$\\log_{10}(density)$\", fontsize=20)\n",
    "    \n",
    "    # =============================================================================\n",
    "    # STATISTICAL ERROR BARS AND LINEAR FITTING\n",
    "    # =============================================================================\n",
    "    \n",
    "    # Plot error bars for bins with sufficient data\n",
    "    valid_bins = curvature_bin_counts > 10  # Minimum 10 data points per bin\n",
    "    plt.errorbar(curvature_coordinate[valid_bins], velocity_bin_means[valid_bins], \n",
    "                yerr=velocity_bin_stds[valid_bins],\n",
    "                fmt='o', color='k', linewidth=1, capsize=1, ecolor='black', markersize=2,\n",
    "                label='Binned statistics')\n",
    "    \n",
    "    # Linear fit for all valid bins\n",
    "    x_all = curvature_coordinate[valid_bins]\n",
    "    y_all = velocity_bin_means[valid_bins]\n",
    "    \n",
    "    if len(x_all) > 1:  # Need at least 2 points for fitting\n",
    "        p_all = np.polyfit(x_all, y_all, 1)  # Linear fit\n",
    "        y_pred_all = np.polyval(p_all, x_all)\n",
    "        r2_all = 1 - np.sum((y_all - y_pred_all)**2) / np.sum((y_all - np.mean(y_all))**2)\n",
    "        print(f\"All points fitting R²: {r2_all:.4f}\")\n",
    "        print(f\"All points slope (mobility): {p_all[0]:.6f}\")\n",
    "        \n",
    "        # Linear fit for low curvature region (κ < 0.03)\n",
    "        mask_sub = x_all < 0.03\n",
    "        x_sub = x_all[mask_sub]\n",
    "        y_sub = y_all[mask_sub]\n",
    "        \n",
    "        if len(x_sub) > 1:\n",
    "            p_sub = np.polyfit(x_sub, y_sub, 1)\n",
    "            y_pred_sub = np.polyval(p_sub, x_sub)\n",
    "            r2_sub = 1 - np.sum((y_sub - y_pred_sub)**2) / np.sum((y_sub - np.mean(y_sub))**2)\n",
    "            print(f\"Low curvature (κ<0.03) fitting R²: {r2_sub:.4f}\")\n",
    "            print(f\"Low curvature slope (mobility): {p_sub[0]:.6f}\")\n",
    "        else:\n",
    "            r2_sub = np.nan\n",
    "            p_sub = [np.nan, np.nan]\n",
    "        \n",
    "        # Plot linear fits\n",
    "        plt.plot(x_all, y_pred_all, '-', color='C1', linewidth=3, \n",
    "                label=rf'All points (R$^2$={r2_all:.3f})')\n",
    "        if len(x_sub) > 1:\n",
    "            plt.plot(x_sub, y_pred_sub, '-', color='C2', linewidth=3, \n",
    "                    label=rf'κ<0.03 (R$^2$={r2_sub:.3f})')\n",
    "        \n",
    "        plt.legend(loc='lower right')\n",
    "    \n",
    "    plt.xlabel(\"Curvature κ\", fontsize=20)\n",
    "    plt.ylabel(\"Velocity (voxel/step)\", fontsize=20)\n",
    "    plt.xlim([curvature_limit, 0.1])\n",
    "    plt.ylim([-0.3, 0.3])\n",
    "    plt.title(\"GB Velocity vs Curvature (Density Plot)\", fontsize=14)\n",
    "    plt.savefig(figure_name_all, dpi=400, bbox_inches='tight')"
   ]
  },
  {
   "cell_type": "code",
   "execution_count": null,
   "id": "23b2fcfe-324f-4b06-9891-a5ec591f5c4c",
   "metadata": {
    "tags": []
   },
   "outputs": [],
   "source": []
  },
  {
   "cell_type": "code",
   "execution_count": null,
   "id": "8c475770-0ca9-404c-9fbb-b78ca051b5ab",
   "metadata": {
    "tags": []
   },
   "outputs": [
    {
     "data": {
      "text/plain": [
       "Text(0, 0.5, 'velocity (voxel/step)')"
      ]
     },
     "execution_count": 46,
     "metadata": {},
     "output_type": "execute_result"
    },
    {
     "data": {
      "text/plain": [
       "<Figure size 432x288 with 0 Axes>"
      ]
     },
     "metadata": {},
     "output_type": "display_data"
    },
    {
     "data": {
      "image/png": "[encoded data removed]",
      "text/plain": [
       "<Figure size 360x360 with 1 Axes>"
      ]
     },
     "metadata": {
      "needs_background": "light"
     },
     "output_type": "display_data"
    },
    {
     "data": {
      "text/plain": [
       "<Figure size 432x288 with 0 Axes>"
      ]
     },
     "metadata": {},
     "output_type": "display_data"
    },
    {
     "data": {
      "image/png": "[encoded data removed]",
      "text/plain": [
       "<Figure size 360x360 with 1 Axes>"
      ]
     },
     "metadata": {
      "needs_background": "light"
     },
     "output_type": "display_data"
    },
    {
     "data": {
      "text/plain": [
       "<Figure size 432x288 with 0 Axes>"
      ]
     },
     "metadata": {},
     "output_type": "display_data"
    },
    {
     "data": {
      "image/png": "[encoded data removed]",
      "text/plain": [
       "<Figure size 504x504 with 1 Axes>"
      ]
     },
     "metadata": {
      "needs_background": "light"
     },
     "output_type": "display_data"
    }
   ],
   "source": [
    "    # =============================================================================\n",
    "    # HIGH-CONFIDENCE FILTERED DATA VISUALIZATION\n",
    "    # =============================================================================\n",
    "    \n",
    "    # Create scatter plot for high-confidence filtered data\n",
    "    figure_name_all = f\"figures/2D_velocity_signedcurvature_confi_{case_name}_5d.png\"\n",
    "    plt.figure()\n",
    "    fig = plt.figure(figsize=(5, 5))\n",
    "    \n",
    "    # Plot reference line at velocity = 0\n",
    "    plt.plot([curvature_limit, 0.5], [0, 0], '-', color='grey', linewidth=2, alpha=0.7)\n",
    "    \n",
    "    # Scatter plot for high-confidence data\n",
    "    plt.scatter(update_GB_normc_list_curvature_list, update_GB_normc_list_velocity_list, \n",
    "                s=4, alpha=0.5, label='High-confidence normal-curvature GBs')\n",
    "    plt.scatter(update_GB_antic_list_curvature_list, update_GB_antic_list_velocity_list, \n",
    "                s=4, alpha=0.5, color='C1', label='High-confidence anti-curvature GBs')\n",
    "    \n",
    "    plt.xlabel(\"Curvature κ\", fontsize=20)\n",
    "    plt.ylabel(\"Velocity (voxel/step)\", fontsize=18)\n",
    "    plt.xlim([curvature_limit, 0.5])\n",
    "    plt.ylim([-0.5, 0.5])\n",
    "    plt.legend()\n",
    "    plt.title(\"High-Confidence GB Data (99% threshold)\", fontsize=14)\n",
    "    plt.savefig(figure_name_all, dpi=400, bbox_inches='tight')\n",
    "    \n",
    "    # =============================================================================\n",
    "    # HIGH-CONFIDENCE DENSITY PLOT\n",
    "    # =============================================================================\n",
    "    \n",
    "    # Create 2D histogram for high-confidence filtered data\n",
    "    x_bins = np.linspace(0, 0.505, 40)  # Extended curvature range\n",
    "    y_bins = np.linspace(-0.6, 0.6, 40)  # Extended velocity range\n",
    "    \n",
    "    # Combine high-confidence data\n",
    "    filtered_curvatures = update_GB_normc_list_curvature_list + update_GB_antic_list_curvature_list\n",
    "    filtered_velocities = update_GB_normc_list_velocity_list + update_GB_antic_list_velocity_list\n",
    "    \n",
    "    hist, x_edges, y_edges = np.histogram2d(filtered_curvatures, filtered_velocities, bins=[x_bins, y_bins])\n",
    "    \n",
    "    # Compute bin centers\n",
    "    x_centers = (x_edges[:-1] + x_edges[1:]) / 2\n",
    "    y_centers = (y_edges[:-1] + y_edges[1:]) / 2\n",
    "    \n",
    "    figure_name_all = f\"figures/2D_velocity_signedcurvature_confi_hot_{case_name}_5d.png\"\n",
    "    plt.figure()\n",
    "    fig = plt.figure(figsize=(5, 5))\n",
    "    \n",
    "    # Plot reference line\n",
    "    plt.plot([curvature_limit, 0.5], [0, 0], '-', color='grey', linewidth=2, alpha=0.7)\n",
    "    \n",
    "    # Create density plot\n",
    "    X, Y = np.meshgrid(x_centers, y_centers)\n",
    "    hist.T[hist.T == 0] = 0.5  # Set minimum value for log plot\n",
    "    \n",
    "    plt.contourf(X, Y, np.log10(hist.T), levels=20, cmap='coolwarm', alpha=0.9)\n",
    "    plt.contour(X, Y, np.log10(hist.T), levels=20, cmap='gray', alpha=0.1)\n",
    "    \n",
    "    plt.xlabel(\"Curvature κ\", fontsize=20)\n",
    "    plt.ylabel(\"Velocity (voxel/step)\", fontsize=20)\n",
    "    plt.xlim([curvature_limit, 0.5])\n",
    "    plt.ylim([-0.5, 0.5])\n",
    "    plt.title(\"High-Confidence Density Plot\", fontsize=14)\n",
    "    plt.savefig(figure_name_all, dpi=400, bbox_inches='tight')\n",
    "    \n",
    "    # =============================================================================\n",
    "    # BINNED ANALYSIS FOR HIGH-CONFIDENCE DATA\n",
    "    # =============================================================================\n",
    "    \n",
    "    # Set up binning parameters for detailed analysis\n",
    "    bin_interval = 0.002\n",
    "    x_lim = [0.0, 0.5]  # Extended range for high-confidence data\n",
    "    bin_number = int((x_lim[1] - x_lim[0]) / bin_interval)\n",
    "    curvature_coordinate = np.arange(x_lim[0], x_lim[1], bin_interval) + bin_interval / 2\n",
    "\n",
    "    # Initialize binning arrays\n",
    "    curvature_bin = np.zeros(bin_number)\n",
    "    velocity_bin = np.zeros(bin_number)\n",
    "    \n",
    "    # Combine high-confidence data for analysis\n",
    "    new_curvature_1Dlist_remove_0step = update_GB_normc_list_curvature_list + update_GB_antic_list_curvature_list\n",
    "    new_velocity_1Dlist_remove_0step = update_GB_normc_list_velocity_list + update_GB_antic_list_velocity_list\n",
    "    new_area_1Dlist_remove_0step = update_GB_normc_list_area_list + update_GB_antic_list_area_list\n",
    "    new_GBenergy_1Dlist_remove_0step = update_GB_normc_list_GBenergy_list + update_GB_antic_list_GBenergy_list\n",
    "    \n",
    "    # Bin the data\n",
    "    for index in range(len(new_curvature_1Dlist_remove_0step)):\n",
    "        curvature_val = new_curvature_1Dlist_remove_0step[index]\n",
    "        velocity_val = new_velocity_1Dlist_remove_0step[index]\n",
    "        \n",
    "        # Check if within analysis range\n",
    "        if abs(curvature_val) >= x_lim[1] or abs(curvature_val) <= x_lim[0]: \n",
    "            continue\n",
    "            \n",
    "        bin_idx = int((curvature_val - x_lim[0]) // bin_interval)\n",
    "        if 0 <= bin_idx < bin_number:\n",
    "            curvature_bin[bin_idx] += 1  # Count data points in bin\n",
    "            velocity_bin[bin_idx] += velocity_val  # Sum velocities in bin\n",
    "    \n",
    "    # Calculate average velocity per bin\n",
    "    for i in range(bin_number):\n",
    "        if curvature_bin[i] > 0:\n",
    "            velocity_bin[i] = velocity_bin[i] / curvature_bin[i]\n",
    "    \n",
    "    # =============================================================================\n",
    "    # PLOT BINNED RESULTS\n",
    "    # =============================================================================\n",
    "    \n",
    "    figure_name_all_bin = f\"figures/2D_velocity_signedcurvature_confi_{case_name}_5d_afterBin.png\"\n",
    "    plt.figure()\n",
    "    fig = plt.figure(figsize=(7, 7))\n",
    "    \n",
    "    # Plot only bins with data\n",
    "    valid_bins = velocity_bin != 0\n",
    "    plt.plot(curvature_coordinate[valid_bins], velocity_bin[valid_bins], 'o', \n",
    "             linewidth=2, markersize=6, label='Binned averages')\n",
    "    \n",
    "    plt.xlim([curvature_limit, 0.3])\n",
    "    plt.ylim([-1, 1])\n",
    "    plt.xlabel(\"Curvature κ\", fontsize=18)\n",
    "    plt.ylabel(\"Average velocity (voxel/step)\", fontsize=18)\n",
    "    plt.title(\"Binned Velocity vs Curvature (High-Confidence)\", fontsize=14)\n",
    "    plt.legend()\n",
    "    plt.grid(True, alpha=0.3)\n",
    "    # plt.savefig(figure_name_all_bin, dpi=400, bbox_inches='tight')"
   ]
  },
  {
   "cell_type": "code",
   "execution_count": null,
   "id": "5647218e-bbbb-4d0a-a92b-758df878268c",
   "metadata": {
    "tags": []
   },
   "outputs": [],
   "source": []
  },
  {
   "cell_type": "code",
   "execution_count": null,
   "id": "7f977d58-62e4-4d8a-8eb3-dccc3f3c59d2",
   "metadata": {
    "tags": []
   },
   "outputs": [],
   "source": []
  },
  {
   "cell_type": "code",
   "execution_count": null,
   "id": "53f2f5fa-e366-48e7-9ced-440ebb4bd6b2",
   "metadata": {
    "tags": []
   },
   "outputs": [
    {
     "data": {
      "text/plain": [
       "Text(0, 0.5, 'area')"
      ]
     },
     "execution_count": 47,
     "metadata": {},
     "output_type": "execute_result"
    },
    {
     "data": {
      "text/plain": [
       "<Figure size 432x288 with 0 Axes>"
      ]
     },
     "metadata": {},
     "output_type": "display_data"
    },
    {
     "data": {
      "image/png": "[encoded data removed]",
      "text/plain": [
       "<Figure size 360x360 with 1 Axes>"
      ]
     },
     "metadata": {
      "needs_background": "light"
     },
     "output_type": "display_data"
    },
    {
     "data": {
      "text/plain": [
       "<Figure size 432x288 with 0 Axes>"
      ]
     },
     "metadata": {},
     "output_type": "display_data"
    },
    {
     "data": {
      "image/png": "[encoded data removed]",
      "text/plain": [
       "<Figure size 504x504 with 1 Axes>"
      ]
     },
     "metadata": {
      "needs_background": "light"
     },
     "output_type": "display_data"
    }
   ],
   "source": [
    "    # =============================================================================\n",
    "    # CURVATURE vs AREA RELATIONSHIP ANALYSIS\n",
    "    # =============================================================================\n",
    "    \n",
    "    # Create scatter plot showing relationship between curvature and GB area\n",
    "    figure_name_all = f\"figures/2D_signedcurvature_area_{case_name}_5d.png\"\n",
    "    plt.figure()\n",
    "    fig = plt.figure(figsize=(5, 5))\n",
    "    \n",
    "    # Plot reference line at area = 0\n",
    "    plt.plot([curvature_limit, 0.1], [0, 0], '-', color='grey', linewidth=2, alpha=0.7)\n",
    "    \n",
    "    # Scatter plot: curvature vs area\n",
    "    plt.scatter(new_curvature_1Dlist_remove_0step, new_area_1Dlist_remove_0step, \n",
    "                s=4, alpha=0.5, color='C0', label='All filtered GBs')\n",
    "    \n",
    "    plt.xlabel(\"Curvature κ\", fontsize=20)\n",
    "    plt.ylabel(\"GB Area (voxels)\", fontsize=20)\n",
    "    plt.xlim([curvature_limit, 0.1])\n",
    "    plt.ylim([0, 100])\n",
    "    plt.title(\"Curvature vs GB Area\", fontsize=16)\n",
    "    plt.legend()\n",
    "    # plt.savefig(figure_name_all, dpi=400, bbox_inches='tight')\n",
    "    \n",
    "    # =============================================================================\n",
    "    # BINNED AREA ANALYSIS\n",
    "    # =============================================================================\n",
    "    \n",
    "    # Set up binning for area vs curvature analysis\n",
    "    bin_interval = 0.001  # Fine binning for detailed analysis\n",
    "    x_lim = [0.0, 0.1]  # Curvature range\n",
    "    bin_number = int((x_lim[1] - x_lim[0]) / bin_interval)\n",
    "    curvature_coordinate = np.arange(x_lim[0], x_lim[1], bin_interval) + bin_interval / 2\n",
    "\n",
    "    # Initialize binning arrays\n",
    "    curvature_bin = np.zeros(bin_number)  # Count of GBs per bin\n",
    "    area_bin = np.zeros(bin_number)  # Sum of areas per bin\n",
    "    \n",
    "    # Bin the curvature-area data\n",
    "    for index in range(len(new_curvature_1Dlist_remove_0step)):\n",
    "        curvature_val = new_curvature_1Dlist_remove_0step[index]\n",
    "        area_val = new_area_1Dlist_remove_0step[index]\n",
    "        \n",
    "        if abs(curvature_val) > 0.1:  # Skip high curvature values\n",
    "            continue\n",
    "            \n",
    "        bin_idx = int((curvature_val - x_lim[0]) // bin_interval)\n",
    "        if 0 <= bin_idx < bin_number:\n",
    "            curvature_bin[bin_idx] += 1  # Count GBs in this bin\n",
    "            area_bin[bin_idx] += area_val  # Sum areas in this bin\n",
    "    \n",
    "    # Calculate average area per curvature bin\n",
    "    for i in range(bin_number):\n",
    "        if curvature_bin[i] > 0:\n",
    "            area_bin[i] = area_bin[i] / curvature_bin[i]\n",
    "    \n",
    "    # =============================================================================\n",
    "    # PLOT BINNED AREA RESULTS\n",
    "    # =============================================================================\n",
    "    \n",
    "    figure_name_all_bin = f\"figures/2D_signedcurvature_area_{case_name}_5d_afterBin.png\"\n",
    "    plt.figure()\n",
    "    fig = plt.figure(figsize=(7, 7))\n",
    "    \n",
    "    # Plot only bins with data\n",
    "    valid_bins = area_bin != 0\n",
    "    plt.plot(curvature_coordinate[valid_bins], area_bin[valid_bins], 'o', \n",
    "             linewidth=2, markersize=6, color='C2', label='Average area per bin')\n",
    "    \n",
    "    plt.xlim([curvature_limit, 0.1])\n",
    "    plt.ylim([0, 80])\n",
    "    plt.xlabel(\"Curvature κ\", fontsize=18)\n",
    "    plt.ylabel(\"Average GB Area (voxels)\", fontsize=18)\n",
    "    plt.title(\"Binned Analysis: Curvature vs Area\", fontsize=14)\n",
    "    plt.legend()\n",
    "    plt.grid(True, alpha=0.3)\n",
    "    \n",
    "    # Add trend interpretation\n",
    "    if len(curvature_coordinate[valid_bins]) > 1:\n",
    "        # Simple trend analysis\n",
    "        x_trend = curvature_coordinate[valid_bins]\n",
    "        y_trend = area_bin[valid_bins]\n",
    "        correlation = np.corrcoef(x_trend, y_trend)[0, 1]\n",
    "        plt.text(0.02, 70, f'Correlation: {correlation:.3f}', fontsize=12, \n",
    "                bbox=dict(boxstyle='round', facecolor='white', alpha=0.8))\n",
    "    \n",
    "    # plt.savefig(figure_name_all_bin, dpi=400, bbox_inches='tight')"
   ]
  },
  {
   "cell_type": "code",
   "execution_count": null,
   "id": "e9e069d0-b213-4c89-9134-15925581c26b",
   "metadata": {
    "tags": []
   },
   "outputs": [
    {
     "data": {
      "text/plain": [
       "Text(0, 0.5, 'velocity (voxel/step)')"
      ]
     },
     "execution_count": 48,
     "metadata": {},
     "output_type": "execute_result"
    },
    {
     "data": {
      "text/plain": [
       "<Figure size 432x288 with 0 Axes>"
      ]
     },
     "metadata": {},
     "output_type": "display_data"
    },
    {
     "data": {
      "image/png": "[encoded data removed]",
      "text/plain": [
       "<Figure size 360x360 with 1 Axes>"
      ]
     },
     "metadata": {
      "needs_background": "light"
     },
     "output_type": "display_data"
    },
    {
     "data": {
      "text/plain": [
       "<Figure size 432x288 with 0 Axes>"
      ]
     },
     "metadata": {},
     "output_type": "display_data"
    },
    {
     "data": {
      "image/png": "[encoded data removed]",
      "text/plain": [
       "<Figure size 504x504 with 1 Axes>"
      ]
     },
     "metadata": {
      "needs_background": "light"
     },
     "output_type": "display_data"
    }
   ],
   "source": [
    "    # =============================================================================\n",
    "    # VELOCITY vs AREA RELATIONSHIP ANALYSIS\n",
    "    # =============================================================================\n",
    "    \n",
    "    # Create scatter plot showing relationship between velocity and GB area\n",
    "    figure_name_all = f\"figures/2D_velocity_area_{case_name}_5d.png\"\n",
    "    plt.figure()\n",
    "    fig = plt.figure(figsize=(5, 5))\n",
    "    \n",
    "    # Scatter plot: area vs velocity\n",
    "    plt.scatter(new_area_1Dlist_remove_0step, new_velocity_1Dlist_remove_0step, \n",
    "                s=4, alpha=0.5, color='C0', label='All filtered GBs')\n",
    "    \n",
    "    plt.xlabel(\"GB Area (voxels)\", fontsize=20)\n",
    "    plt.ylabel(\"Velocity (voxel/step)\", fontsize=20)\n",
    "    plt.xlim([0, 100])\n",
    "    plt.ylim([-0.3, 0.3])\n",
    "    plt.title(\"Velocity vs GB Area\", fontsize=16)\n",
    "    plt.legend()\n",
    "    plt.grid(True, alpha=0.3)\n",
    "    # plt.savefig(figure_name_all, dpi=400, bbox_inches='tight')\n",
    "    \n",
    "    # =============================================================================\n",
    "    # BINNED VELOCITY vs AREA ANALYSIS\n",
    "    # =============================================================================\n",
    "    \n",
    "    # Set up binning for area vs velocity analysis\n",
    "    bin_interval = 0.1  # Area bin width (in voxels)\n",
    "    x_lim = [0.0, 100]  # Area range\n",
    "    bin_number = int((x_lim[1] - x_lim[0]) / bin_interval)\n",
    "    area_coordinate = np.arange(x_lim[0], x_lim[1], bin_interval) + bin_interval / 2\n",
    "\n",
    "    # Initialize binning arrays\n",
    "    area_bin = np.zeros(bin_number)  # Count of GBs per area bin\n",
    "    velocity_bin = np.zeros(bin_number)  # Sum of velocities per area bin\n",
    "    antic_num_bin = np.zeros(bin_number)  # Count of anti-curvature GBs per area bin\n",
    "    \n",
    "    # Bin the area-velocity data\n",
    "    for index in range(len(new_area_1Dlist_remove_0step)):\n",
    "        area_val = new_area_1Dlist_remove_0step[index]\n",
    "        velocity_val = new_velocity_1Dlist_remove_0step[index]\n",
    "        \n",
    "        if abs(area_val) > x_lim[1]:  # Skip very large areas\n",
    "            continue\n",
    "            \n",
    "        bin_idx = int((area_val - x_lim[0]) // bin_interval)\n",
    "        if 0 <= bin_idx < bin_number:\n",
    "            area_bin[bin_idx] += 1  # Count GBs in this area bin\n",
    "            velocity_bin[bin_idx] += velocity_val  # Sum velocities\n",
    "            \n",
    "            # Count anti-curvature instances (negative velocity indicates anti-curvature)\n",
    "            if velocity_val < 0:\n",
    "                antic_num_bin[bin_idx] += 1\n",
    "    \n",
    "    # Calculate average velocity per area bin\n",
    "    for i in range(bin_number):\n",
    "        if area_bin[i] > 0:\n",
    "            velocity_bin[i] = velocity_bin[i] / area_bin[i]\n",
    "    \n",
    "    # =============================================================================\n",
    "    # PLOT BINNED VELOCITY vs AREA RESULTS\n",
    "    # =============================================================================\n",
    "    \n",
    "    figure_name_all_bin = f\"figures/2D_velocity_area_{case_name}_5d_afterBin.png\"\n",
    "    plt.figure()\n",
    "    fig = plt.figure(figsize=(7, 7))\n",
    "    \n",
    "    # Plot only bins with data\n",
    "    valid_bins = velocity_bin != 0\n",
    "    plt.plot(area_coordinate[valid_bins], velocity_bin[valid_bins], 'o', \n",
    "             linewidth=2, markersize=6, color='C3', label='Average velocity per area bin')\n",
    "    \n",
    "    plt.xlim([0, 100])\n",
    "    plt.ylim([-0.2, 0.2])\n",
    "    plt.xlabel(\"GB Area (voxels)\", fontsize=18)\n",
    "    plt.ylabel(\"Average Velocity (voxel/step)\", fontsize=18)\n",
    "    plt.title(\"Binned Analysis: Velocity vs Area\", fontsize=14)\n",
    "    plt.legend()\n",
    "    plt.grid(True, alpha=0.3)\n",
    "    \n",
    "    # Add trend line if sufficient data\n",
    "    if len(area_coordinate[valid_bins]) > 1:\n",
    "        x_trend = area_coordinate[valid_bins]\n",
    "        y_trend = velocity_bin[valid_bins]\n",
    "        correlation = np.corrcoef(x_trend, y_trend)[0, 1]\n",
    "        plt.text(20, 0.15, f'Correlation: {correlation:.3f}', fontsize=12,\n",
    "                bbox=dict(boxstyle='round', facecolor='white', alpha=0.8))\n",
    "    \n",
    "    # plt.savefig(figure_name_all_bin, dpi=400, bbox_inches='tight')"
   ]
  },
  {
   "cell_type": "code",
   "execution_count": null,
   "id": "56c0da81-30c1-40fd-bac2-72338011cbd5",
   "metadata": {
    "tags": []
   },
   "outputs": [
    {
     "data": {
      "text/plain": [
       "Text(0, 0.5, 'anti-curvature fraction')"
      ]
     },
     "execution_count": 49,
     "metadata": {},
     "output_type": "execute_result"
    },
    {
     "data": {
      "text/plain": [
       "<Figure size 432x288 with 0 Axes>"
      ]
     },
     "metadata": {},
     "output_type": "display_data"
    },
    {
     "data": {
      "image/png": "[encoded data removed]",
      "text/plain": [
       "<Figure size 504x504 with 1 Axes>"
      ]
     },
     "metadata": {
      "needs_background": "light"
     },
     "output_type": "display_data"
    },
    {
     "data": {
      "text/plain": [
       "<Figure size 432x288 with 0 Axes>"
      ]
     },
     "metadata": {},
     "output_type": "display_data"
    },
    {
     "data": {
      "image/png": "[encoded data removed]",
      "text/plain": [
       "<Figure size 504x504 with 1 Axes>"
      ]
     },
     "metadata": {
      "needs_background": "light"
     },
     "output_type": "display_data"
    }
   ],
   "source": [
    "    # =============================================================================\n",
    "    # AREA DISTRIBUTION AND ANTI-CURVATURE FRACTION ANALYSIS\n",
    "    # =============================================================================\n",
    "    \n",
    "    # Plot the distribution of GB areas\n",
    "    plt.figure()\n",
    "    fig = plt.figure(figsize=(7, 7))\n",
    "    plt.xlim([0, 100])\n",
    "    plt.ylim([0, 0.1])\n",
    "    \n",
    "    # Normalize area distribution to show probability density\n",
    "    total_area_bins = np.sum(area_bin)\n",
    "    if total_area_bins > 0:\n",
    "        plt.plot(area_coordinate, area_bin / total_area_bins, '-', linewidth=2, \n",
    "                color='C4', label='Area distribution')\n",
    "    \n",
    "    plt.xlabel(\"GB Area (voxels)\", fontsize=18)\n",
    "    plt.ylabel(\"Probability density\", fontsize=18)\n",
    "    plt.title(\"Distribution of GB Areas\", fontsize=16)\n",
    "    plt.legend()\n",
    "    plt.grid(True, alpha=0.3)\n",
    "    \n",
    "    # =============================================================================\n",
    "    # ANTI-CURVATURE FRACTION vs AREA ANALYSIS\n",
    "    # =============================================================================\n",
    "    \n",
    "    # Calculate anti-curvature fraction per area bin\n",
    "    antic_ratio_bin = np.zeros(bin_number)\n",
    "    for bin_i in range(len(area_bin)):\n",
    "        if area_bin[bin_i] > 0:  # Avoid division by zero\n",
    "            antic_ratio_bin[bin_i] = antic_num_bin[bin_i] / area_bin[bin_i]\n",
    "    \n",
    "    # Plot anti-curvature fraction vs area\n",
    "    plt.figure()\n",
    "    fig = plt.figure(figsize=(7, 7))\n",
    "    plt.xlim([0, 100])\n",
    "    plt.ylim([0, 1.1])\n",
    "    \n",
    "    # Plot only bins with data\n",
    "    valid_ratio_bins = antic_ratio_bin > 0\n",
    "    plt.plot(area_coordinate[valid_ratio_bins], antic_ratio_bin[valid_ratio_bins], 'o', \n",
    "             linewidth=2, markersize=6, color='C5', label='Anti-curvature fraction')\n",
    "    \n",
    "    # Add reference lines\n",
    "    plt.axhline(y=0.5, color='gray', linestyle='--', alpha=0.7, label='50% threshold')\n",
    "    plt.axhline(y=1.0, color='red', linestyle='--', alpha=0.7, label='100% anti-curvature')\n",
    "    \n",
    "    plt.xlabel(\"GB Area (voxels)\", fontsize=18)\n",
    "    plt.ylabel(\"Anti-curvature fraction\", fontsize=18)\n",
    "    plt.title(\"Anti-curvature Fraction vs GB Area\", fontsize=16)\n",
    "    plt.legend()\n",
    "    plt.grid(True, alpha=0.3)\n",
    "    \n",
    "    # Statistical analysis of area dependence\n",
    "    if len(area_coordinate[valid_ratio_bins]) > 1:\n",
    "        x_area = area_coordinate[valid_ratio_bins]\n",
    "        y_ratio = antic_ratio_bin[valid_ratio_bins]\n",
    "        \n",
    "        # Calculate correlation between area and anti-curvature fraction\n",
    "        correlation = np.corrcoef(x_area, y_ratio)[0, 1]\n",
    "        \n",
    "        # Calculate statistics\n",
    "        mean_ratio = np.mean(y_ratio)\n",
    "        std_ratio = np.std(y_ratio)\n",
    "        \n",
    "        # Add statistics to plot\n",
    "        stats_text = f'Mean fraction: {mean_ratio:.3f}\\nStd deviation: {std_ratio:.3f}\\nCorrelation: {correlation:.3f}'\n",
    "        plt.text(60, 0.2, stats_text, fontsize=12,\n",
    "                bbox=dict(boxstyle='round', facecolor='white', alpha=0.8))\n",
    "        \n",
    "        print(f\"AREA vs ANTI-CURVATURE FRACTION STATISTICS:\")\n",
    "        print(f\"Mean anti-curvature fraction: {mean_ratio:.3f}\")\n",
    "        print(f\"Standard deviation: {std_ratio:.3f}\")\n",
    "        print(f\"Correlation (area vs anti-curvature fraction): {correlation:.3f}\")\n",
    "        \n",
    "        # Identify area ranges with high anti-curvature behavior\n",
    "        high_antic_mask = y_ratio > 0.7  # Areas with >70% anti-curvature\n",
    "        if np.any(high_antic_mask):\n",
    "            high_antic_areas = x_area[high_antic_mask]\n",
    "            print(f\"Area ranges with high anti-curvature (>70%): {high_antic_areas.min():.1f} - {high_antic_areas.max():.1f} voxels\")"
   ]
  },
  {
   "cell_type": "code",
   "execution_count": null,
   "id": "0ee7d930-73cb-435f-9458-2316e523c203",
   "metadata": {
    "tags": []
   },
   "outputs": [],
   "source": []
  },
  {
   "cell_type": "code",
   "execution_count": null,
   "id": "96aaa591-4902-4adc-bee7-240d3ade3fef",
   "metadata": {
    "tags": []
   },
   "outputs": [
    {
     "data": {
      "text/plain": [
       "Text(0, 0.5, 'distribution')"
      ]
     },
     "execution_count": 50,
     "metadata": {},
     "output_type": "execute_result"
    },
    {
     "data": {
      "text/plain": [
       "<Figure size 432x288 with 0 Axes>"
      ]
     },
     "metadata": {},
     "output_type": "display_data"
    },
    {
     "data": {
      "image/png": "[encoded data removed]",
      "text/plain": [
       "<Figure size 504x504 with 1 Axes>"
      ]
     },
     "metadata": {
      "needs_background": "light"
     },
     "output_type": "display_data"
    },
    {
     "data": {
      "text/plain": [
       "<Figure size 432x288 with 0 Axes>"
      ]
     },
     "metadata": {},
     "output_type": "display_data"
    },
    {
     "data": {
      "image/png": "[encoded data removed]",
      "text/plain": [
       "<Figure size 504x504 with 1 Axes>"
      ]
     },
     "metadata": {
      "needs_background": "light"
     },
     "output_type": "display_data"
    },
    {
     "data": {
      "text/plain": [
       "<Figure size 432x288 with 0 Axes>"
      ]
     },
     "metadata": {},
     "output_type": "display_data"
    },
    {
     "data": {
      "image/png": "[encoded data removed]",
      "text/plain": [
       "<Figure size 504x504 with 1 Axes>"
      ]
     },
     "metadata": {
      "needs_background": "light"
     },
     "output_type": "display_data"
    }
   ],
   "source": [
    "    # =============================================================================\n",
    "    # VELOCITY vs GRAIN BOUNDARY ENERGY ANALYSIS\n",
    "    # =============================================================================\n",
    "    \n",
    "    # Create scatter plot showing velocity vs GB energy relationship\n",
    "    figure_name_all = f\"figures/2D_velocity_GBenergy_{case_name}_5d.png\"\n",
    "    plt.figure()\n",
    "    fig = plt.figure(figsize=(7, 7))\n",
    "    \n",
    "    # Scatter plot for all GBs\n",
    "    plt.scatter(new_GBenergy_1Dlist_remove_0step, new_velocity_1Dlist_remove_0step, \n",
    "                s=4, alpha=0.5, label='All GBs', color='C0')\n",
    "    \n",
    "    # Highlight high-confidence anti-curvature GBs with multiple occurrences\n",
    "    update_GB_antic_list_GBenergy_list = np.array(update_GB_antic_list_GBenergy_list)\n",
    "    update_GB_antic_list_velocity_list = np.array(update_GB_antic_list_velocity_list)\n",
    "    update_GB_antic_list_anticNum_list = np.array(update_GB_antic_list_anticNum_list)\n",
    "    \n",
    "    # Filter for GBs with at least 5 anti-curvature occurrences (persistent behavior)\n",
    "    persistent_mask = update_GB_antic_list_anticNum_list >= 5\n",
    "    plt.scatter(update_GB_antic_list_GBenergy_list[persistent_mask], \n",
    "                update_GB_antic_list_velocity_list[persistent_mask],\n",
    "                s=4, alpha=0.5, color='C1', label='Persistent anti-curvature GBs (≥5 steps)')\n",
    "    \n",
    "    plt.xlabel(\"GB Energy\", fontsize=18)\n",
    "    plt.ylabel(\"Velocity (voxel/step)\", fontsize=18)\n",
    "    plt.xlim([0.3, 1.0])\n",
    "    plt.ylim([-0.6, 0.6])\n",
    "    plt.title(\"GB Velocity vs Energy\", fontsize=16)\n",
    "    plt.legend(fontsize=18)\n",
    "    plt.grid(True, alpha=0.3)\n",
    "    plt.savefig(figure_name_all, dpi=400, bbox_inches='tight')\n",
    "    \n",
    "    # =============================================================================\n",
    "    # BINNED VELOCITY vs ENERGY ANALYSIS\n",
    "    # =============================================================================\n",
    "    \n",
    "    # Set up binning for energy vs velocity analysis\n",
    "    bin_interval = 0.01  # Energy bin width\n",
    "    x_lim = [0.25, 1.0]  # Energy range\n",
    "    bin_number = int((x_lim[1] - x_lim[0]) / bin_interval)\n",
    "    GBenergy_coordinate = np.arange(x_lim[0], x_lim[1], bin_interval) + bin_interval / 2\n",
    "\n",
    "    # Initialize binning arrays\n",
    "    GBenergy_bin = np.zeros(bin_number)  # Count of GBs per energy bin\n",
    "    velocity_bin = np.zeros(bin_number)  # Sum of velocities per energy bin\n",
    "    \n",
    "    # Bin the energy-velocity data\n",
    "    for index in range(len(new_GBenergy_1Dlist_remove_0step)):\n",
    "        energy_val = new_GBenergy_1Dlist_remove_0step[index]\n",
    "        velocity_val = new_velocity_1Dlist_remove_0step[index]\n",
    "        \n",
    "        if abs(energy_val) >= 1.0:  # Skip very high energy values\n",
    "            continue\n",
    "            \n",
    "        bin_idx = int((energy_val - x_lim[0]) // bin_interval)\n",
    "        if 0 <= bin_idx < bin_number:\n",
    "            GBenergy_bin[bin_idx] += 1  # Count GBs in this energy bin\n",
    "            velocity_bin[bin_idx] += velocity_val  # Sum velocities\n",
    "            \n",
    "        # Debug: check for negative bin indices\n",
    "        if bin_idx < 0:\n",
    "            print(f\"Warning: Negative bin index for energy {energy_val}\")\n",
    "    \n",
    "    # Calculate average velocity per energy bin\n",
    "    for i in range(bin_number):\n",
    "        if GBenergy_bin[i] > 0:\n",
    "            velocity_bin[i] = velocity_bin[i] / GBenergy_bin[i]\n",
    "    \n",
    "    # =============================================================================\n",
    "    # PLOT BINNED ENERGY ANALYSIS RESULTS\n",
    "    # =============================================================================\n",
    "    \n",
    "    figure_name_all_bin = f\"figures/2D_velocity_GBenergy_{case_name}_5d_afterBin.png\"\n",
    "    plt.figure()\n",
    "    fig = plt.figure(figsize=(7, 7))\n",
    "    \n",
    "    # Plot only bins with data\n",
    "    valid_bins = velocity_bin != 0\n",
    "    plt.plot(GBenergy_coordinate[valid_bins], velocity_bin[valid_bins], 'o', \n",
    "             linewidth=2, markersize=6, color='C6', label='Average velocity per energy bin')\n",
    "    \n",
    "    plt.xlim([0.3, 1.0])\n",
    "    plt.ylim([-0.2, 0.2])\n",
    "    plt.xlabel(\"GB Energy\", fontsize=18)\n",
    "    plt.ylabel(\"Average Velocity (voxel/step)\", fontsize=18)\n",
    "    plt.title(\"Binned Analysis: Velocity vs GB Energy\", fontsize=14)\n",
    "    plt.legend()\n",
    "    plt.grid(True, alpha=0.3)\n",
    "    \n",
    "    # Add trend analysis\n",
    "    if len(GBenergy_coordinate[valid_bins]) > 1:\n",
    "        x_energy = GBenergy_coordinate[valid_bins]\n",
    "        y_vel = velocity_bin[valid_bins]\n",
    "        correlation = np.corrcoef(x_energy, y_vel)[0, 1]\n",
    "        \n",
    "        plt.text(0.35, 0.15, f'Correlation: {correlation:.3f}', fontsize=12,\n",
    "                bbox=dict(boxstyle='round', facecolor='white', alpha=0.8))\n",
    "    \n",
    "    plt.savefig(figure_name_all_bin, dpi=400, bbox_inches='tight')\n",
    "    \n",
    "    # =============================================================================\n",
    "    # GB ENERGY DISTRIBUTION ANALYSIS\n",
    "    # =============================================================================\n",
    "    \n",
    "    # Plot the distribution of GB energies\n",
    "    plt.figure()\n",
    "    fig = plt.figure(figsize=(7, 7))\n",
    "    plt.xlim([0.3, 1.0])\n",
    "    plt.ylim([0, 0.15])\n",
    "    \n",
    "    # Normalize energy distribution\n",
    "    total_energy_bins = np.sum(GBenergy_bin)\n",
    "    if total_energy_bins > 0:\n",
    "        plt.plot(GBenergy_coordinate, GBenergy_bin / total_energy_bins, '-', \n",
    "                linewidth=2, color='C7', label='Energy distribution')\n",
    "    \n",
    "    plt.xlabel(\"GB Energy\", fontsize=18)\n",
    "    plt.ylabel(\"Probability density\", fontsize=18)\n",
    "    plt.title(\"Distribution of GB Energies\", fontsize=16)\n",
    "    plt.legend()\n",
    "    plt.grid(True, alpha=0.3)\n",
    "    \n",
    "    # Statistical analysis\n",
    "    if total_energy_bins > 0:\n",
    "        # Calculate weighted mean and standard deviation\n",
    "        weights = GBenergy_bin / total_energy_bins\n",
    "        mean_energy = np.sum(GBenergy_coordinate * weights)\n",
    "        var_energy = np.sum(weights * (GBenergy_coordinate - mean_energy)**2)\n",
    "        std_energy = np.sqrt(var_energy)\n",
    "        \n",
    "        print(f\"GB ENERGY DISTRIBUTION STATISTICS:\")\n",
    "        print(f\"Mean GB energy: {mean_energy:.3f}\")\n",
    "        print(f\"Standard deviation: {std_energy:.3f}\")\n",
    "        print(f\"Energy range: {GBenergy_coordinate[GBenergy_bin > 0].min():.3f} - {GBenergy_coordinate[GBenergy_bin > 0].max():.3f}\")\n",
    "        \n",
    "        # Add statistics to plot\n",
    "        stats_text = f'Mean: {mean_energy:.3f}\\nStd: {std_energy:.3f}'\n",
    "        plt.text(0.8, 0.12, stats_text, fontsize=12,\n",
    "                bbox=dict(boxstyle='round', facecolor='white', alpha=0.8))"
   ]
  },
  {
   "cell_type": "code",
   "execution_count": null,
   "id": "2501136d-68e1-40d1-b2b9-f783e9c8309e",
   "metadata": {},
   "outputs": [
    {
     "ename": "FloatingPointError",
     "evalue": "invalid value encountered in divide",
     "output_type": "error",
     "traceback": [
      "\u001b[0;31m---------------------------------------------------------------------------\u001b[0m",
      "\u001b[0;31mFloatingPointError\u001b[0m                        Traceback (most recent call last)",
      "\u001b[0;32m/scratch/local/4755728/ipykernel_26834/92404918.py\u001b[0m in \u001b[0;36m<module>\u001b[0;34m\u001b[0m\n\u001b[1;32m     15\u001b[0m \u001b[0mplt\u001b[0m\u001b[0;34m.\u001b[0m\u001b[0mxlim\u001b[0m\u001b[0;34m(\u001b[0m\u001b[0;34m[\u001b[0m\u001b[0;36m0.3\u001b[0m\u001b[0;34m,\u001b[0m\u001b[0;36m1.0\u001b[0m\u001b[0;34m]\u001b[0m\u001b[0;34m)\u001b[0m\u001b[0;34m\u001b[0m\u001b[0;34m\u001b[0m\u001b[0m\n\u001b[1;32m     16\u001b[0m \u001b[0mplt\u001b[0m\u001b[0;34m.\u001b[0m\u001b[0mylim\u001b[0m\u001b[0;34m(\u001b[0m\u001b[0;34m[\u001b[0m\u001b[0;36m0\u001b[0m\u001b[0;34m,\u001b[0m\u001b[0;36m0.15\u001b[0m\u001b[0;34m]\u001b[0m\u001b[0;34m)\u001b[0m\u001b[0;34m\u001b[0m\u001b[0;34m\u001b[0m\u001b[0m\n\u001b[0;32m---> 17\u001b[0;31m \u001b[0mplt\u001b[0m\u001b[0;34m.\u001b[0m\u001b[0mplot\u001b[0m\u001b[0;34m(\u001b[0m\u001b[0mGBenergy_coordinate\u001b[0m\u001b[0;34m,\u001b[0m \u001b[0mGBenergy_bin_first\u001b[0m\u001b[0;34m/\u001b[0m\u001b[0mnp\u001b[0m\u001b[0;34m.\u001b[0m\u001b[0msum\u001b[0m\u001b[0;34m(\u001b[0m\u001b[0mGBenergy_bin_first\u001b[0m\u001b[0;34m)\u001b[0m\u001b[0;34m,\u001b[0m\u001b[0;34m'-'\u001b[0m\u001b[0;34m,\u001b[0m \u001b[0mlinewidth\u001b[0m\u001b[0;34m=\u001b[0m\u001b[0;36m2\u001b[0m\u001b[0;34m,\u001b[0m\u001b[0mlabel\u001b[0m\u001b[0;34m=\u001b[0m\u001b[0;34m\"step 0\"\u001b[0m\u001b[0;34m)\u001b[0m\u001b[0;34m\u001b[0m\u001b[0;34m\u001b[0m\u001b[0m\n\u001b[0m\u001b[1;32m     18\u001b[0m \u001b[0mplt\u001b[0m\u001b[0;34m.\u001b[0m\u001b[0mplot\u001b[0m\u001b[0;34m(\u001b[0m\u001b[0mGBenergy_coordinate\u001b[0m\u001b[0;34m,\u001b[0m \u001b[0mGBenergy_bin_second\u001b[0m\u001b[0;34m/\u001b[0m\u001b[0mnp\u001b[0m\u001b[0;34m.\u001b[0m\u001b[0msum\u001b[0m\u001b[0;34m(\u001b[0m\u001b[0mGBenergy_bin_second\u001b[0m\u001b[0;34m)\u001b[0m\u001b[0;34m,\u001b[0m\u001b[0;34m'-'\u001b[0m\u001b[0;34m,\u001b[0m \u001b[0mlinewidth\u001b[0m\u001b[0;34m=\u001b[0m\u001b[0;36m2\u001b[0m\u001b[0;34m,\u001b[0m\u001b[0mlabel\u001b[0m\u001b[0;34m=\u001b[0m\u001b[0;34m\"step 49\"\u001b[0m\u001b[0;34m)\u001b[0m\u001b[0;34m\u001b[0m\u001b[0;34m\u001b[0m\u001b[0m\n\u001b[1;32m     19\u001b[0m \u001b[0mplt\u001b[0m\u001b[0;34m.\u001b[0m\u001b[0mlegend\u001b[0m\u001b[0;34m(\u001b[0m\u001b[0mfontsize\u001b[0m\u001b[0;34m=\u001b[0m\u001b[0;36m18\u001b[0m\u001b[0;34m)\u001b[0m\u001b[0;34m\u001b[0m\u001b[0;34m\u001b[0m\u001b[0m\n",
      "\u001b[0;31mFloatingPointError\u001b[0m: invalid value encountered in divide"
     ]
    },
    {
     "data": {
      "text/plain": [
       "<Figure size 432x288 with 0 Axes>"
      ]
     },
     "metadata": {},
     "output_type": "display_data"
    },
    {
     "data": {
      "image/png": "[encoded data removed]",
      "text/plain": [
       "<Figure size 360x360 with 1 Axes>"
      ]
     },
     "metadata": {
      "needs_background": "light"
     },
     "output_type": "display_data"
    }
   ],
   "source": [
    "    # =============================================================================\n",
    "    # TEMPORAL EVOLUTION OF GB ENERGY DISTRIBUTION\n",
    "    # =============================================================================\n",
    "    \n",
    "    # Compare energy distributions between initial and final simulation steps\n",
    "    figure_name_distri = f\"figures/2D_one_step_distribution_{case_name}.png\"\n",
    "    plt.figure()\n",
    "    fig = plt.figure(figsize=(5, 5))\n",
    "    \n",
    "    # Define time steps for comparison\n",
    "    first_step = 0    # Initial step\n",
    "    second_step = -1  # Final step (using negative indexing)\n",
    "    \n",
    "    # Calculate energy distribution for first time step\n",
    "    GBenergy_bin_first = np.zeros(bin_number)\n",
    "    for index in range(len(GB_list_GBenergy_list[first_step])):\n",
    "        energy_val = GB_list_GBenergy_list[first_step][index]\n",
    "        if abs(energy_val) > 1.0:  # Skip high energy outliers\n",
    "            continue\n",
    "        bin_idx = int((energy_val - x_lim[0]) // bin_interval)\n",
    "        if 0 <= bin_idx < bin_number:\n",
    "            GBenergy_bin_first[bin_idx] += 1\n",
    "    \n",
    "    # Calculate energy distribution for final time step\n",
    "    GBenergy_bin_second = np.zeros(bin_number)\n",
    "    for index in range(len(GB_list_GBenergy_list[second_step])):\n",
    "        energy_val = GB_list_GBenergy_list[second_step][index]\n",
    "        if abs(energy_val) > 1.0:  # Skip high energy outliers\n",
    "            continue\n",
    "        bin_idx = int((energy_val - x_lim[0]) // bin_interval)\n",
    "        if 0 <= bin_idx < bin_number:\n",
    "            GBenergy_bin_second[bin_idx] += 1\n",
    "    \n",
    "    # Normalize distributions\n",
    "    total_first = np.sum(GBenergy_bin_first)\n",
    "    total_second = np.sum(GBenergy_bin_second)\n",
    "    \n",
    "    plt.xlim([0.3, 1.0])\n",
    "    plt.ylim([0, 0.15])\n",
    "    \n",
    "    if total_first > 0:\n",
    "        plt.plot(GBenergy_coordinate, GBenergy_bin_first / total_first, '-', \n",
    "                linewidth=2, label=\"Initial step (t=0)\", color='C0')\n",
    "    if total_second > 0:\n",
    "        plt.plot(GBenergy_coordinate, GBenergy_bin_second / total_second, '-', \n",
    "                linewidth=2, label=\"Final step\", color='C1')\n",
    "    \n",
    "    plt.legend(fontsize=18)\n",
    "    plt.xlabel(\"GB Energy\", fontsize=18)\n",
    "    plt.ylabel(\"Probability density\", fontsize=18)\n",
    "    plt.title(\"Temporal Evolution of GB Energy Distribution\", fontsize=14)\n",
    "    plt.grid(True, alpha=0.3)\n",
    "    plt.savefig(figure_name_distri, dpi=400, bbox_inches='tight')\n",
    "    \n",
    "    # =============================================================================\n",
    "    # CUMULATIVE DISTRIBUTION FUNCTION (CDF) ANALYSIS\n",
    "    # =============================================================================\n",
    "    \n",
    "    figure_name_distri = f\"figures/2D_culmmulative_distribution_function_{case_name}.png\"\n",
    "    plt.figure()\n",
    "    fig = plt.figure(figsize=(5, 5))\n",
    "    \n",
    "    # Normalize distributions first\n",
    "    if total_first > 0:\n",
    "        GBenergy_bin_first = GBenergy_bin_first / total_first\n",
    "    if total_second > 0:\n",
    "        GBenergy_bin_second = GBenergy_bin_second / total_second\n",
    "    \n",
    "    # Calculate cumulative distribution functions\n",
    "    culmmulative_GBenergy_bin_first = np.zeros(bin_number)\n",
    "    culmmulative_GBenergy_bin_second = np.zeros(bin_number)\n",
    "    \n",
    "    for i in range(bin_number):\n",
    "        culmmulative_GBenergy_bin_first[i] = np.sum(GBenergy_bin_first[:i+1])\n",
    "        culmmulative_GBenergy_bin_second[i] = np.sum(GBenergy_bin_second[:i+1])\n",
    "    \n",
    "    plt.xlim([0.3, 1.0])\n",
    "    plt.ylim([0, 1.0])\n",
    "    \n",
    "    plt.plot(GBenergy_coordinate, culmmulative_GBenergy_bin_first, '-', \n",
    "             linewidth=2, label=\"Initial step (t=0)\", color='C0')\n",
    "    plt.plot(GBenergy_coordinate, culmmulative_GBenergy_bin_second, '-', \n",
    "             linewidth=2, label=\"Final step\", color='C1')\n",
    "    \n",
    "    plt.legend(fontsize=18)\n",
    "    plt.xlabel(\"GB Energy\", fontsize=18)\n",
    "    plt.ylabel(\"Cumulative probability\", fontsize=18)\n",
    "    plt.title(\"Cumulative Distribution Function of GB Energy\", fontsize=14)\n",
    "    plt.grid(True, alpha=0.3)\n",
    "    plt.savefig(figure_name_distri, dpi=400, bbox_inches='tight')\n",
    "    \n",
    "    # =============================================================================\n",
    "    # STATISTICAL COMPARISON OF INITIAL vs FINAL DISTRIBUTIONS\n",
    "    # =============================================================================\n",
    "    \n",
    "    # Calculate statistical measures for comparison\n",
    "    if total_first > 0 and total_second > 0:\n",
    "        # Calculate means\n",
    "        mean_first = np.sum(GBenergy_coordinate * GBenergy_bin_first)\n",
    "        mean_second = np.sum(GBenergy_coordinate * GBenergy_bin_second)\n",
    "        \n",
    "        # Calculate standard deviations\n",
    "        var_first = np.sum(GBenergy_bin_first * (GBenergy_coordinate - mean_first)**2)\n",
    "        var_second = np.sum(GBenergy_bin_second * (GBenergy_coordinate - mean_second)**2)\n",
    "        std_first = np.sqrt(var_first)\n",
    "        std_second = np.sqrt(var_second)\n",
    "        \n",
    "        print(f\"TEMPORAL EVOLUTION STATISTICS:\")\n",
    "        print(f\"Initial step - Mean energy: {mean_first:.3f}, Std: {std_first:.3f}\")\n",
    "        print(f\"Final step - Mean energy: {mean_second:.3f}, Std: {std_second:.3f}\")\n",
    "        print(f\"Change in mean energy: {mean_second - mean_first:.3f}\")\n",
    "        print(f\"Change in std deviation: {std_second - std_first:.3f}\")\n",
    "        \n",
    "        # Kolmogorov-Smirnov test statistic (maximum difference in CDFs)\n",
    "        ks_statistic = np.max(np.abs(culmmulative_GBenergy_bin_first - culmmulative_GBenergy_bin_second))\n",
    "        print(f\"KS statistic (max CDF difference): {ks_statistic:.3f}\")\n",
    "        \n",
    "        # Identify energy ranges with largest changes\n",
    "        distribution_diff = GBenergy_bin_second - GBenergy_bin_first\n",
    "        max_increase_idx = np.argmax(distribution_diff)\n",
    "        max_decrease_idx = np.argmin(distribution_diff)\n",
    "        \n",
    "        print(f\"Largest increase in density at energy: {GBenergy_coordinate[max_increase_idx]:.3f}\")\n",
    "        print(f\"Largest decrease in density at energy: {GBenergy_coordinate[max_decrease_idx]:.3f}\")"
   ]
  },
  {
   "cell_type": "code",
   "execution_count": null,
   "id": "21b813f5-daa4-484e-a6c2-418239a0ccf4",
   "metadata": {},
   "outputs": [
    {
     "ename": "IndexError",
     "evalue": "list index out of range",
     "output_type": "error",
     "traceback": [
      "\u001b[0;31m---------------------------------------------------------------------------\u001b[0m",
      "\u001b[0;31mIndexError\u001b[0m                                Traceback (most recent call last)",
      "\u001b[0;32m/scratch/local/4755728/ipykernel_26834/2120897260.py\u001b[0m in \u001b[0;36m<module>\u001b[0;34m\u001b[0m\n\u001b[1;32m      4\u001b[0m     \u001b[0mplt\u001b[0m\u001b[0;34m.\u001b[0m\u001b[0mfigure\u001b[0m\u001b[0;34m(\u001b[0m\u001b[0;34m)\u001b[0m\u001b[0;34m\u001b[0m\u001b[0;34m\u001b[0m\u001b[0m\n\u001b[1;32m      5\u001b[0m     \u001b[0mfig\u001b[0m \u001b[0;34m=\u001b[0m \u001b[0mplt\u001b[0m\u001b[0;34m.\u001b[0m\u001b[0mfigure\u001b[0m\u001b[0;34m(\u001b[0m\u001b[0mfigsize\u001b[0m\u001b[0;34m=\u001b[0m\u001b[0;34m(\u001b[0m\u001b[0;36m7\u001b[0m\u001b[0;34m,\u001b[0m \u001b[0;36m7\u001b[0m\u001b[0;34m)\u001b[0m\u001b[0;34m)\u001b[0m\u001b[0;34m\u001b[0m\u001b[0;34m\u001b[0m\u001b[0m\n\u001b[0;32m----> 6\u001b[0;31m     \u001b[0mplt\u001b[0m\u001b[0;34m.\u001b[0m\u001b[0mscatter\u001b[0m\u001b[0;34m(\u001b[0m\u001b[0;34m(\u001b[0m\u001b[0mupdate_GB_antic_list_curvature_AllList\u001b[0m\u001b[0;34m+\u001b[0m\u001b[0mupdate_GB_normc_list_curvature_AllList\u001b[0m\u001b[0;34m)\u001b[0m\u001b[0;34m[\u001b[0m\u001b[0mtime_step\u001b[0m\u001b[0;34m]\u001b[0m\u001b[0;34m,\u001b[0m \u001b[0;34m(\u001b[0m\u001b[0mupdate_GB_antic_list_velocity_AllList\u001b[0m\u001b[0;34m+\u001b[0m\u001b[0mupdate_GB_normc_list_velocity_AllList\u001b[0m\u001b[0;34m)\u001b[0m\u001b[0;34m[\u001b[0m\u001b[0mtime_step\u001b[0m\u001b[0;34m]\u001b[0m\u001b[0;34m,\u001b[0m\u001b[0ms\u001b[0m\u001b[0;34m=\u001b[0m\u001b[0;36m4\u001b[0m\u001b[0;34m,\u001b[0m\u001b[0malpha\u001b[0m\u001b[0;34m=\u001b[0m\u001b[0;36m0.5\u001b[0m\u001b[0;34m)\u001b[0m\u001b[0;34m\u001b[0m\u001b[0;34m\u001b[0m\u001b[0m\n\u001b[0m\u001b[1;32m      7\u001b[0m     \u001b[0mplt\u001b[0m\u001b[0;34m.\u001b[0m\u001b[0mxlabel\u001b[0m\u001b[0;34m(\u001b[0m\u001b[0;34m\"curvature\"\u001b[0m\u001b[0;34m,\u001b[0m \u001b[0mfontsize\u001b[0m\u001b[0;34m=\u001b[0m\u001b[0;36m18\u001b[0m\u001b[0;34m)\u001b[0m\u001b[0;34m\u001b[0m\u001b[0;34m\u001b[0m\u001b[0m\n\u001b[1;32m      8\u001b[0m     \u001b[0mplt\u001b[0m\u001b[0;34m.\u001b[0m\u001b[0mylabel\u001b[0m\u001b[0;34m(\u001b[0m\u001b[0;34m\"velocity (voxel/step)\"\u001b[0m\u001b[0;34m,\u001b[0m \u001b[0mfontsize\u001b[0m\u001b[0;34m=\u001b[0m\u001b[0;36m18\u001b[0m\u001b[0;34m)\u001b[0m\u001b[0;34m\u001b[0m\u001b[0;34m\u001b[0m\u001b[0m\n",
      "\u001b[0;31mIndexError\u001b[0m: list index out of range"
     ]
    },
    {
     "data": {
      "text/plain": [
       "<Figure size 432x288 with 0 Axes>"
      ]
     },
     "metadata": {},
     "output_type": "display_data"
    },
    {
     "data": {
      "text/plain": [
       "<Figure size 504x504 with 0 Axes>"
      ]
     },
     "metadata": {},
     "output_type": "display_data"
    }
   ],
   "source": [
    "    # =============================================================================\n",
    "    # TIME-RESOLVED VELOCITY-CURVATURE RELATIONSHIP ANALYSIS\n",
    "    # =============================================================================\n",
    "    \n",
    "    # Analyze velocity-curvature relationships at specific time intervals\n",
    "    # This helps understand how the relationship evolves during the simulation\n",
    "    for time_step in range(0, len(GB_list_velocity_list), 10):  # Sample every 10 steps\n",
    "        \n",
    "        # =============================================================================\n",
    "        # SCATTER PLOT FOR INDIVIDUAL TIME STEP\n",
    "        # =============================================================================\n",
    "        \n",
    "        figure_name = f\"figures/2D_velocity_signedcurvature_MI_step{time_step}_{case_name}.png\"\n",
    "        plt.figure()\n",
    "        fig = plt.figure(figsize=(7, 7))\n",
    "        \n",
    "        # Combine high-confidence data for current time step\n",
    "        combined_curvatures = (update_GB_antic_list_curvature_AllList + \n",
    "                             update_GB_normc_list_curvature_AllList)[time_step]\n",
    "        combined_velocities = (update_GB_antic_list_velocity_AllList + \n",
    "                             update_GB_normc_list_velocity_AllList)[time_step]\n",
    "        \n",
    "        # Scatter plot for current time step\n",
    "        plt.scatter(combined_curvatures, combined_velocities, s=4, alpha=0.5, \n",
    "                   color='C0', label=f'Time step {time_step}')\n",
    "        \n",
    "        plt.xlabel(\"Curvature κ\", fontsize=18)\n",
    "        plt.ylabel(\"Velocity (voxel/step)\", fontsize=18)\n",
    "        plt.xlim([-0.6, 0.6])  # Extended range to capture all data\n",
    "        plt.ylim([-10, 10])    # Extended range for velocity\n",
    "        plt.title(f\"Velocity vs Curvature at Time Step {time_step}\", fontsize=14)\n",
    "        plt.legend()\n",
    "        plt.grid(True, alpha=0.3)\n",
    "        # plt.savefig(figure_name, dpi=400, bbox_inches='tight')\n",
    "        \n",
    "        # =============================================================================\n",
    "        # BINNED ANALYSIS FOR INDIVIDUAL TIME STEP\n",
    "        # =============================================================================\n",
    "        \n",
    "        # Set up fine binning for temporal analysis\n",
    "        bin_interval = 0.001  # Very fine binning\n",
    "        bin_number = int(1.2 / bin_interval)  # Total range: -0.6 to +0.6\n",
    "        curvature_coordinate = np.arange(-0.6, 0.6, bin_interval) + bin_interval / 2\n",
    "\n",
    "        # Initialize binning arrays for current time step\n",
    "        curvature_bin = np.zeros(bin_number)\n",
    "        velocity_bin = np.zeros(bin_number)\n",
    "        \n",
    "        # Bin the data for current time step\n",
    "        for index in range(len(combined_curvatures)):\n",
    "            curvature_val = combined_curvatures[index]\n",
    "            velocity_val = combined_velocities[index]\n",
    "            \n",
    "            if abs(curvature_val) > 0.6:  # Skip extreme curvature values\n",
    "                continue\n",
    "                \n",
    "            # Calculate bin index (offset by 0.6 to handle negative curvatures)\n",
    "            bin_idx = int((curvature_val + 0.6) // bin_interval)\n",
    "            if 0 <= bin_idx < bin_number:\n",
    "                curvature_bin[bin_idx] += 1  # Count data points\n",
    "                velocity_bin[bin_idx] += velocity_val  # Sum velocities\n",
    "        \n",
    "        # Calculate average velocity per bin\n",
    "        for i in range(bin_number):\n",
    "            if curvature_bin[i] > 0:\n",
    "                velocity_bin[i] = velocity_bin[i] / curvature_bin[i]\n",
    "        \n",
    "        # =============================================================================\n",
    "        # PLOT BINNED RESULTS FOR INDIVIDUAL TIME STEP\n",
    "        # =============================================================================\n",
    "        \n",
    "        figure_name_all_bin = f\"figures/2D_velocity_signedcurvature_step{time_step}_{case_name}_afterBin.png\"\n",
    "        plt.figure()\n",
    "        fig = plt.figure(figsize=(7, 7))\n",
    "        \n",
    "        # Plot binned data (only non-zero bins)\n",
    "        valid_bins = velocity_bin != 0\n",
    "        plt.plot(curvature_coordinate[valid_bins], velocity_bin[valid_bins], 'o', \n",
    "                linewidth=2, markersize=4, label=f'Binned data (step {time_step})')\n",
    "        \n",
    "        # Add reference line at velocity = 0\n",
    "        plt.axhline(y=0, color='gray', linestyle='--', alpha=0.7, label='V=0 reference')\n",
    "        \n",
    "        plt.xlabel(\"Curvature κ\", fontsize=18)\n",
    "        plt.ylabel(\"Average velocity (voxel/step)\", fontsize=18)\n",
    "        plt.xlim([-0.6, 0.6])\n",
    "        plt.ylim([-5, 5])\n",
    "        plt.title(f\"Binned Velocity vs Curvature at Time Step {time_step}\", fontsize=14)\n",
    "        plt.legend()\n",
    "        plt.grid(True, alpha=0.3)\n",
    "        \n",
    "        # Statistical analysis for current time step\n",
    "        if np.sum(valid_bins) > 5:  # Need sufficient data points\n",
    "            x_valid = curvature_coordinate[valid_bins]\n",
    "            y_valid = velocity_bin[valid_bins]\n",
    "            \n",
    "            # Linear correlation analysis\n",
    "            if len(x_valid) > 1:\n",
    "                correlation = np.corrcoef(x_valid, y_valid)[0, 1]\n",
    "                \n",
    "                # Split analysis for positive and negative curvatures\n",
    "                pos_mask = x_valid > 0\n",
    "                neg_mask = x_valid < 0\n",
    "                \n",
    "                if np.sum(pos_mask) > 1:\n",
    "                    pos_corr = np.corrcoef(x_valid[pos_mask], y_valid[pos_mask])[0, 1]\n",
    "                else:\n",
    "                    pos_corr = np.nan\n",
    "                    \n",
    "                if np.sum(neg_mask) > 1:\n",
    "                    neg_corr = np.corrcoef(x_valid[neg_mask], y_valid[neg_mask])[0, 1]\n",
    "                else:\n",
    "                    neg_corr = np.nan\n",
    "                \n",
    "                # Add statistics to plot\n",
    "                stats_text = f'Overall R: {correlation:.3f}\\nPos. κ R: {pos_corr:.3f}\\nNeg. κ R: {neg_corr:.3f}'\n",
    "                plt.text(-0.5, 4, stats_text, fontsize=10,\n",
    "                        bbox=dict(boxstyle='round', facecolor='white', alpha=0.8))\n",
    "                \n",
    "                # Print time step statistics\n",
    "                if time_step % 20 == 0:  # Print every 20 steps to avoid clutter\n",
    "                    print(f\"TIME STEP {time_step} STATISTICS:\")\n",
    "                    print(f\"  Overall correlation: {correlation:.3f}\")\n",
    "                    print(f\"  Positive curvature correlation: {pos_corr:.3f}\")\n",
    "                    print(f\"  Negative curvature correlation: {neg_corr:.3f}\")\n",
    "                    print(f\"  Valid data points: {len(x_valid)}\")\n",
    "        \n",
    "        # plt.savefig(figure_name_all_bin, dpi=400, bbox_inches='tight')"
   ]
  },
  {
   "cell_type": "code",
   "execution_count": null,
   "id": "47e6a561-4483-49d8-8ddd-f78e643a2ae1",
   "metadata": {},
   "outputs": [],
   "source": []
  }
 ],
 "metadata": {
  "kernelspec": {
   "display_name": "UFRC Python-3.8",
   "language": "python",
   "name": "python3-3.8-ufrc"
  },
  "language_info": {
   "codemirror_mode": {
    "name": "ipython",
    "version": 3
   },
   "file_extension": ".py",
   "mimetype": "text/x-python",
   "name": "python",
   "nbconvert_exporter": "python",
   "pygments_lexer": "ipython3",
   "version": "3.8.15"
  }
 },
 "nbformat": 4,
 "nbformat_minor": 5
}
