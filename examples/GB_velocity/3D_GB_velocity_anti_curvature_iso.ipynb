{
 "cells": [
  {
   "cell_type": "code",
   "execution_count": 1,
   "id": "4b195c7c-3d58-4d9f-b559-8e34a5e9789a",
   "metadata": {
    "tags": []
   },
   "outputs": [
    {
     "data": {
      "text/plain": [
       "<module 'PACKAGE_MP_3DLinear' from '/home/lin.yang/projects/VECTOR/examples/GB_velocity/../../PACKAGE_MP_3DLinear.py'>"
      ]
     },
     "execution_count": 1,
     "metadata": {},
     "output_type": "execute_result"
    }
   ],
   "source": [
    "import os\n",
    "current_path = os.getcwd()\n",
    "import numpy as np\n",
    "from numpy import seterr\n",
    "seterr(all='raise')\n",
    "import matplotlib.pyplot as plt\n",
    "import math\n",
    "import random\n",
    "from tqdm import tqdm\n",
    "import sys\n",
    "from collections import defaultdict\n",
    "from scipy.spatial import cKDTree\n",
    "sys.path.append(current_path)\n",
    "sys.path.append(current_path+'/../../')\n",
    "import myInput\n",
    "import post_processing\n",
    "import PACKAGE_MP_3DLinear as Linear_3D\n",
    "import PACKAGE_MP_3DVertex as Vertex_3D\n",
    "sys.path.append(current_path+'/../calculate_tangent/')\n",
    "\n",
    "import importlib\n",
    "importlib.reload(post_processing)\n",
    "importlib.reload(Linear_3D)\n",
    "\n"
   ]
  },
  {
   "cell_type": "code",
   "execution_count": 2,
   "id": "fcb7ac33-912b-4634-8822-c41d1c32bd8b",
   "metadata": {
    "tags": []
   },
   "outputs": [
    {
     "name": "stdout",
     "output_type": "stream",
     "text": [
      "The 450_20k_iso data size is: (76, 450, 450, 450)\n",
      "READING DATA DONE\n",
      "The 450_20k_iso energy data size is: (76, 450, 450, 450)\n",
      "READING ENERGY DATA DONE\n"
     ]
    }
   ],
   "source": [
    "if __name__ == '__main__':\n",
    "    # File name\n",
    "    data_file_folder = \"/blue/michael.tonks/lin.yang/VECTOR_data/\"\n",
    "    npy_file_folder = \"/blue/michael.tonks/lin.yang/SPPARKS-VirtualIncEnergy/3d_poly_fully/results/\"\n",
    "    case_name = \"450_20k_iso\"\n",
    "    npy_file_name_aniso = f\"p_iso_450_20k_multiCore64_J1_refer_1_0_0_seed56689_kt1.95.npy\"\n",
    "    npy_file_name_aniso_energy = f\"p_iso_450_20k_multiCore64_J1_refer_1_0_0_seed56689_kt1.95_energy.npy\"\n",
    "    \n",
    "    # Initial data\n",
    "    npy_file_aniso = np.load(npy_file_folder + npy_file_name_aniso)\n",
    "    npy_file_aniso = npy_file_aniso.astype(int)\n",
    "    print(f\"The {case_name} data size is: {npy_file_aniso.shape}\")\n",
    "    print(\"READING DATA DONE\")\n",
    "    npy_file_aniso_energy = np.load(npy_file_folder + npy_file_name_aniso_energy) # energy\n",
    "    print(f\"The {case_name} energy data size is: {npy_file_aniso_energy.shape}\")\n",
    "    print(\"READING ENERGY DATA DONE\")\n",
    "    step_num, size_x, size_y, size_z = npy_file_aniso.shape"
   ]
  },
  {
   "cell_type": "code",
   "execution_count": 3,
   "id": "4c2696c9-76d8-4662-8383-2ef04eb32779",
   "metadata": {
    "tags": []
   },
   "outputs": [
    {
     "data": {
      "text/plain": [
       "992"
      ]
     },
     "execution_count": 3,
     "metadata": {},
     "output_type": "execute_result"
    }
   ],
   "source": [
    "step_1000grains = 44\n",
    "len(np.unique(npy_file_aniso[step_1000grains,:]))"
   ]
  },
  {
   "cell_type": "code",
   "execution_count": 4,
   "id": "0be80f39-f248-4153-b7e0-535c9544ad3b",
   "metadata": {
    "tags": []
   },
   "outputs": [
    {
     "name": "stderr",
     "output_type": "stream",
     "text": [
      "100%|██████████| 51/51 [00:06<00:00,  8.43it/s]\n"
     ]
    }
   ],
   "source": [
    "    # YOU should remove the very small GB due to the less impact on curvature study\n",
    "    # YOU should use different accuracy algorithm on voxels around the TJs.\n",
    "    # A potential error: some small spherical GB are generated around large GB with same GB id\n",
    "    \n",
    "    from collections import defaultdict\n",
    "    step_num=51\n",
    "    grain_nums = 20000\n",
    "    GB_infomation_dict_list = []\n",
    "    curvature_matrix_list = []\n",
    "    for time_step in tqdm(range(step_num)):\n",
    "        data_file_name = f\"GB_velocity_data/3D_signedcurvature_velocity_data_{case_name}_step{time_step}.npz\"\n",
    "        data_curvature_file_name = f\"GB_velocity_data/3D_matrix_signedcurvature_data_{case_name}_step{time_step}.npz\"\n",
    "        if os.path.exists(data_file_folder + data_file_name):\n",
    "            npz_file = np.load(data_file_folder + data_file_name,allow_pickle=True)\n",
    "            GB_infomation_dict = npz_file[\"GB_infomation_dict\"].item()\n",
    "            GB_infomation_dict_list.append(GB_infomation_dict)\n",
    "        else:\n",
    "            current_microstructure = npy_file_aniso[time_step]\n",
    "            # get curvature\n",
    "            if os.path.exists(data_file_folder + data_curvature_file_name):\n",
    "                npz_file_curvature = np.load(data_file_folder + data_curvature_file_name,allow_pickle=True)\n",
    "                curvature_matrix = npz_file_curvature[\"curvature_matrix\"].item()\n",
    "                curvature_matrix_list.append(curvature_matrix)\n",
    "            else:\n",
    "                curvature_matrix = post_processing.IO_curvature(current_microstructure)\n",
    "                # save curvature information\n",
    "                np.savez(data_file_folder + data_curvature_file_name, curvature_matrix=curvature_matrix)\n",
    "            print(\"Finish curvature calculation\")\n",
    "            \n",
    "            # Create shifted arrays for all 6 directions at once\n",
    "            neighbors = np.stack([\n",
    "                np.roll(current_microstructure, -1, axis=0),\n",
    "                np.roll(current_microstructure, 1, axis=0),\n",
    "                np.roll(current_microstructure, -1, axis=1),\n",
    "                np.roll(current_microstructure, 1, axis=1),\n",
    "                np.roll(current_microstructure, -1, axis=2),\n",
    "                np.roll(current_microstructure, 1, axis=2)\n",
    "            ])\n",
    "            neighbor_array = neighbors.reshape(6, -1).T\n",
    "            \n",
    "            # Find boundary voxels efficiently\n",
    "            boundary_mask = (neighbors != current_microstructure[None,...]).any(axis=0)\n",
    "            boundary_coords = np.argwhere(boundary_mask)\n",
    "            \n",
    "            GB_infomation_dict = defaultdict(list)\n",
    "            gb_points_by_pair = defaultdict(list)\n",
    "            pair_id_pair_dict = defaultdict(list)\n",
    "            \n",
    "            for idx, (i, j, k) in enumerate(boundary_coords):\n",
    "                flat_idx = i * size_y * size_z + j * size_z + k\n",
    "                neighbor_vals = neighbor_array[flat_idx]\n",
    "                central_site = current_microstructure[i,j,k]\n",
    "                unique_neighbors = np.unique(neighbor_vals[neighbor_vals != central_site])\n",
    "                \n",
    "                if len(unique_neighbors) == 1:  # Single boundary point\n",
    "                    neighbor = unique_neighbors[0]\n",
    "                    pair_id = post_processing.get_line(central_site, neighbor)\n",
    "                    pair_id_pair = sorted([central_site, neighbor])\n",
    "                        \n",
    "                    # Collect points for batch processing\n",
    "                    gb_points_by_pair[pair_id].append([i,j,k])\n",
    "                    if pair_id not in pair_id_pair_dict:\n",
    "                        pair_id_pair_dict[pair_id].append(pair_id_pair)\n",
    "            print(\"completed GB voxel collection\")\n",
    "            \n",
    "            # Process each pair_id's points in batch\n",
    "            for pair_id, points in gb_points_by_pair.items():\n",
    "                # calculate or extract curvature\n",
    "                if pair_id not in curvature_matrix: continue\n",
    "                pair_id_pair = pair_id_pair_dict[pair_id][0]\n",
    "                \n",
    "                area = len(points)\n",
    "                pos_ave = np.sum(points, axis=0) / area\n",
    "                \n",
    "                GB_infomation_dict[pair_id] = np.array([area, pos_ave[0],pos_ave[1],pos_ave[2],-curvature_matrix[pair_id][3],area,pair_id_pair[0],pair_id_pair[1]])\n",
    "            print(\"Completed GB information collection\")    \n",
    "            \n",
    "            # get the correct location for each GB\n",
    "            small_GB_list = []\n",
    "            for key in GB_infomation_dict: \n",
    "                if GB_infomation_dict[key][0] == 0: \n",
    "                    small_GB_list.append(key) # remove the small GB with 0 voxels after remove voxels close to TJs\n",
    "            for s_index in range(len(small_GB_list)): GB_infomation_dict.pop(small_GB_list[s_index])\n",
    "            print(f\"Current GBs len at {time_step} steps: {len(GB_infomation_dict)}\")\n",
    "            # save information\n",
    "            np.savez(data_file_folder + data_file_name, GB_infomation_dict=GB_infomation_dict)\n",
    "            GB_infomation_dict_list.append(GB_infomation_dict)\n",
    "            "
   ]
  },
  {
   "cell_type": "code",
   "execution_count": null,
   "id": "82d48491-2a3c-4225-b7dd-93f10515572e",
   "metadata": {
    "tags": []
   },
   "outputs": [],
   "source": []
  },
  {
   "cell_type": "code",
   "execution_count": 5,
   "id": "127df95e-c650-41f9-bc2c-ddcea1cc0f55",
   "metadata": {
    "tags": []
   },
   "outputs": [
    {
     "name": "stderr",
     "output_type": "stream",
     "text": [
      "100%|██████████| 51/51 [00:07<00:00,  6.69it/s]\n"
     ]
    }
   ],
   "source": [
    "    # GB Energy information\n",
    "    step_num=51\n",
    "    grain_nums = 20000\n",
    "    TJ_distance_max = 1 # voxels\n",
    "    GBenergy_information_dict_list = []\n",
    "    for time_step in tqdm(range(step_num)):\n",
    "        data_file_name_GBenergy = f\"GB_velocity_data/3D_GBenergy_velocity_data_{case_name}_step{time_step}.npz\"\n",
    "        if os.path.exists(data_file_folder + data_file_name_GBenergy):\n",
    "            npz_file = np.load(data_file_folder + data_file_name_GBenergy,allow_pickle=True)\n",
    "            GBenergy_information_dict = npz_file[\"GBenergy_information_dict\"]\n",
    "            GBenergy_information_dict_list.append(GBenergy_information_dict.item())\n",
    "        else:\n",
    "            current_microstructure = npy_file_aniso[time_step]\n",
    "            current_energy = npy_file_aniso_energy[time_step]\n",
    "\n",
    "            # Get TJ and QJ information first\n",
    "            TJ_infomation_dict = dict()\n",
    "            for index, result in np.ndenumerate(current_microstructure):\n",
    "                i,j,k = index\n",
    "                ip,im,jp,jm,kp,km = myInput.periodic_bc3d(size_x,size_y,size_z,i,j,k)\n",
    "                if ( ((current_microstructure[ip,j,k]-current_microstructure[i,j,k])!=0) or ((current_microstructure[im,j,k]-current_microstructure[i,j,k])!=0) or\\\n",
    "                     ((current_microstructure[i,jp,k]-current_microstructure[i,j,k])!=0) or ((current_microstructure[i,jm,k]-current_microstructure[i,j,k])!=0) or\\\n",
    "                     ((current_microstructure[i,j,kp]-current_microstructure[i,j,k])!=0) or ((current_microstructure[i,j,km]-current_microstructure[i,j,k])!=0) ):\n",
    "                    central_site = int(current_microstructure[i,j,k])\n",
    "                    neighboring_sites_list = np.array([current_microstructure[ip,j,k], current_microstructure[i,jp,k], current_microstructure[i,j,kp], current_microstructure[im,j,k], current_microstructure[i,jm,k], current_microstructure[i,j,km]]).astype(int)\n",
    "                    neighboring_sites_set = set(neighboring_sites_list) # Get all unique neighboring sites\n",
    "                    if central_site in neighboring_sites_set: neighboring_sites_set.remove(central_site) # remove central site\n",
    "                    neighboring_sites_list_unque = list(neighboring_sites_set)\n",
    "                    # remove the TJs and QJs\n",
    "                    if len(neighboring_sites_list_unque) > 1: \n",
    "                        for m in range(len(neighboring_sites_list_unque)):\n",
    "                            pair_id = post_processing.get_line(central_site, neighboring_sites_list_unque[m]) # get pair id\n",
    "                            if pair_id in TJ_infomation_dict:\n",
    "                                tmp = TJ_infomation_dict[pair_id]\n",
    "                                tmp.append([i,j,k])\n",
    "                                TJ_infomation_dict[pair_id] = tmp\n",
    "                            else: \n",
    "                                TJ_infomation_dict[pair_id] = [[i,j,k]]\n",
    "            print(\"Finish TJ extraction\")\n",
    "\n",
    "            # Get the center of each GB\n",
    "            GBenergy_information_dict = dict()\n",
    "            for index, result in np.ndenumerate(current_microstructure):\n",
    "                i,j,k = index\n",
    "                ip,im,jp,jm,kp,km = myInput.periodic_bc3d(size_x,size_y,size_z,i,j,k)\n",
    "                if ( ((current_microstructure[ip,j,k]-current_microstructure[i,j,k])!=0) or ((current_microstructure[im,j,k]-current_microstructure[i,j,k])!=0) or\\\n",
    "                     ((current_microstructure[i,jp,k]-current_microstructure[i,j,k])!=0) or ((current_microstructure[i,jm,k]-current_microstructure[i,j,k])!=0) or\\\n",
    "                     ((current_microstructure[i,j,kp]-current_microstructure[i,j,k])!=0) or ((current_microstructure[i,j,km]-current_microstructure[i,j,k])!=0) ):\n",
    "                    central_site = int(current_microstructure[i,j,k])\n",
    "                    neighboring_sites_list = np.array([current_microstructure[ip,j,k], current_microstructure[i,jp,k], current_microstructure[i,j,kp], current_microstructure[im,j,k], current_microstructure[i,jm,k], current_microstructure[i,j,km]]).astype(int)\n",
    "                    neighboring_sites_set = set(neighboring_sites_list) # Get all unique neighboring sites\n",
    "                    if central_site in neighboring_sites_set: neighboring_sites_set.remove(central_site) # remove central site\n",
    "                    neighboring_sites_list_unque = list(neighboring_sites_set)\n",
    "                    num_other_sites = 0\n",
    "                    neighboring_sites_full_list = np.array([current_microstructure[ip,jp,k], current_microstructure[ip,j,k], current_microstructure[ip,jm,k], current_microstructure[i,jp,k], current_microstructure[i,jm,k], current_microstructure[im,jp,k], current_microstructure[im,j,k], current_microstructure[im,jm,k],\n",
    "                                                            current_microstructure[i,j,km], current_microstructure[ip,jp,km], current_microstructure[ip,j,km], current_microstructure[ip,jm,km], current_microstructure[i,jp,km], current_microstructure[i,jm,km], current_microstructure[im,jp,km], current_microstructure[im,j,km], current_microstructure[im,jm,km],\n",
    "                                                            current_microstructure[i,j,kp], current_microstructure[ip,jp,kp], current_microstructure[ip,j,kp], current_microstructure[ip,jm,kp], current_microstructure[i,jp,kp], current_microstructure[i,jm,kp], current_microstructure[im,jp,kp], current_microstructure[im,j,kp], current_microstructure[im,jm,kp]]).astype(int)\n",
    "                    for neigh_site in neighboring_sites_full_list:\n",
    "                        if neigh_site != central_site: num_other_sites += 1 # get the sites num different with central id\n",
    "                    pair_id = post_processing.get_line(central_site, neighboring_sites_list_unque[0]) # get pair id\n",
    "                    if central_site<neighboring_sites_list_unque[0]: pair_id_pair = [central_site, neighboring_sites_list_unque[0]]\n",
    "                    else: pair_id_pair = [neighboring_sites_list_unque[0], central_site]\n",
    "                    if pair_id in GBenergy_information_dict:\n",
    "                        GBenergy_information_dict[pair_id][5] += 1 # GB area\n",
    "                        GBenergy_information_dict[pair_id][0] += 1 # GB area\n",
    "                    else:\n",
    "                        GB_infomation = np.array([1,0,0,0,0.0,1,pair_id_pair[0],pair_id_pair[1]]) # GBnum-energy,i,j,k,GB energy,GBnum,gid0,gid1\n",
    "                        GBenergy_information_dict[pair_id] = GB_infomation\n",
    "                    # remove the TJs and QJs\n",
    "                    if len(neighboring_sites_list_unque) > 1: continue # only remove TJs and QJs\n",
    "                    # CONTINUE...    # remove the voxels around TJs and QJs\n",
    "                    # check the GB voxels is close to TJ or not\n",
    "                    break_point = 0\n",
    "                    if pair_id in TJ_infomation_dict:\n",
    "                        for TJ_site in TJ_infomation_dict[pair_id]:\n",
    "                            TJ_distance = np.linalg.norm(index-np.array(TJ_site))\n",
    "                            if TJ_distance < TJ_distance_max: \n",
    "                                break_point = 1\n",
    "                                break\n",
    "                    if break_point == 1: continue\n",
    "                    # calculate or extract GB energy\n",
    "                    GBenergy_information_dict[pair_id][1:5] += np.array([i,j,k,current_energy[i,j,k]/num_other_sites])\n",
    "\n",
    "            # get the correct location for each GB\n",
    "            small_GB_list = []\n",
    "            for key in GBenergy_information_dict: \n",
    "                if GBenergy_information_dict[key][0] == 0: \n",
    "                    small_GB_list.append(key) # remove the small GB with 0 voxels after remove voxels close to TJs\n",
    "            for s_index in range(len(small_GB_list)): GBenergy_information_dict.pop(small_GB_list[s_index])\n",
    "            for key in GBenergy_information_dict: \n",
    "                GBenergy_information_dict[key][1:5]=GBenergy_information_dict[key][1:5]/GBenergy_information_dict[key][0]\n",
    "            print(f\"Current GBs len at {time_step} steps: {len(GBenergy_information_dict)}\")\n",
    "            # save information\n",
    "            np.savez(data_file_folder + data_file_name_GBenergy, GBenergy_information_dict=GBenergy_information_dict)\n",
    "            GBenergy_information_dict_list.append(GBenergy_information_dict)"
   ]
  },
  {
   "cell_type": "code",
   "execution_count": null,
   "id": "be2b27df-2ae5-4219-badd-b1aa454daa0f",
   "metadata": {
    "tags": []
   },
   "outputs": [],
   "source": []
  },
  {
   "cell_type": "code",
   "execution_count": 6,
   "id": "2f308b73-0513-45d8-a932-7d65cd3c5e66",
   "metadata": {
    "tags": []
   },
   "outputs": [
    {
     "name": "stdout",
     "output_type": "stream",
     "text": [
      "key num start with 119006\n",
      "key num end with 54525\n"
     ]
    },
    {
     "name": "stderr",
     "output_type": "stream",
     "text": [
      "100%|██████████| 54525/54525 [00:00<00:00, 615759.81it/s]\n"
     ]
    },
    {
     "name": "stdout",
     "output_type": "stream",
     "text": [
      "finish 3 with num of GBs 54525, and collected num of GBs 19276\n",
      "key num start with 105936\n",
      "key num end with 49299\n"
     ]
    },
    {
     "name": "stderr",
     "output_type": "stream",
     "text": [
      "100%|██████████| 49299/49299 [00:00<00:00, 588281.30it/s]\n"
     ]
    },
    {
     "name": "stdout",
     "output_type": "stream",
     "text": [
      "finish 4 with num of GBs 49299, and collected num of GBs 31682\n",
      "key num start with 93648\n",
      "key num end with 44393\n"
     ]
    },
    {
     "name": "stderr",
     "output_type": "stream",
     "text": [
      "100%|██████████| 44393/44393 [00:00<00:00, 578072.52it/s]\n"
     ]
    },
    {
     "name": "stdout",
     "output_type": "stream",
     "text": [
      "finish 5 with num of GBs 44393, and collected num of GBs 39929\n",
      "key num start with 82699\n",
      "key num end with 40319\n"
     ]
    },
    {
     "name": "stderr",
     "output_type": "stream",
     "text": [
      "100%|██████████| 40319/40319 [00:00<00:00, 557616.88it/s]\n"
     ]
    },
    {
     "name": "stdout",
     "output_type": "stream",
     "text": [
      "finish 6 with num of GBs 40319, and collected num of GBs 45778\n",
      "key num start with 73655\n",
      "key num end with 36370\n"
     ]
    },
    {
     "name": "stderr",
     "output_type": "stream",
     "text": [
      "100%|██████████| 36370/36370 [00:00<00:00, 570213.13it/s]\n"
     ]
    },
    {
     "name": "stdout",
     "output_type": "stream",
     "text": [
      "finish 7 with num of GBs 36370, and collected num of GBs 50127\n",
      "key num start with 65352\n",
      "key num end with 32781\n"
     ]
    },
    {
     "name": "stderr",
     "output_type": "stream",
     "text": [
      "100%|██████████| 32781/32781 [00:00<00:00, 576449.07it/s]\n"
     ]
    },
    {
     "name": "stdout",
     "output_type": "stream",
     "text": [
      "finish 8 with num of GBs 32781, and collected num of GBs 53592\n",
      "key num start with 58112\n",
      "key num end with 29469\n"
     ]
    },
    {
     "name": "stderr",
     "output_type": "stream",
     "text": [
      "100%|██████████| 29469/29469 [00:00<00:00, 583683.31it/s]\n"
     ]
    },
    {
     "name": "stdout",
     "output_type": "stream",
     "text": [
      "finish 9 with num of GBs 29469, and collected num of GBs 56358\n",
      "key num start with 51859\n",
      "key num end with 26905\n"
     ]
    },
    {
     "name": "stderr",
     "output_type": "stream",
     "text": [
      "100%|██████████| 26905/26905 [00:00<00:00, 581320.86it/s]\n"
     ]
    },
    {
     "name": "stdout",
     "output_type": "stream",
     "text": [
      "finish 10 with num of GBs 26905, and collected num of GBs 58672\n",
      "key num start with 46578\n",
      "key num end with 24593\n"
     ]
    },
    {
     "name": "stderr",
     "output_type": "stream",
     "text": [
      "100%|██████████| 24593/24593 [00:00<00:00, 583275.48it/s]\n"
     ]
    },
    {
     "name": "stdout",
     "output_type": "stream",
     "text": [
      "finish 11 with num of GBs 24593, and collected num of GBs 60554\n",
      "key num start with 41980\n",
      "key num end with 22264\n"
     ]
    },
    {
     "name": "stderr",
     "output_type": "stream",
     "text": [
      "100%|██████████| 22264/22264 [00:00<00:00, 583167.22it/s]\n"
     ]
    },
    {
     "name": "stdout",
     "output_type": "stream",
     "text": [
      "finish 12 with num of GBs 22264, and collected num of GBs 62193\n",
      "key num start with 37926\n",
      "key num end with 20290\n"
     ]
    },
    {
     "name": "stderr",
     "output_type": "stream",
     "text": [
      "100%|██████████| 20290/20290 [00:00<00:00, 588948.22it/s]\n"
     ]
    },
    {
     "name": "stdout",
     "output_type": "stream",
     "text": [
      "finish 13 with num of GBs 20290, and collected num of GBs 63552\n",
      "key num start with 34485\n",
      "key num end with 18577\n"
     ]
    },
    {
     "name": "stderr",
     "output_type": "stream",
     "text": [
      "100%|██████████| 18577/18577 [00:00<00:00, 588794.91it/s]\n"
     ]
    },
    {
     "name": "stdout",
     "output_type": "stream",
     "text": [
      "finish 14 with num of GBs 18577, and collected num of GBs 64752\n",
      "key num start with 31486\n",
      "key num end with 17049\n"
     ]
    },
    {
     "name": "stderr",
     "output_type": "stream",
     "text": [
      "100%|██████████| 17049/17049 [00:00<00:00, 588558.57it/s]\n"
     ]
    },
    {
     "name": "stdout",
     "output_type": "stream",
     "text": [
      "finish 15 with num of GBs 17049, and collected num of GBs 65816\n",
      "key num start with 28925\n",
      "key num end with 15794\n"
     ]
    },
    {
     "name": "stderr",
     "output_type": "stream",
     "text": [
      "100%|██████████| 15794/15794 [00:00<00:00, 596016.39it/s]\n"
     ]
    },
    {
     "name": "stdout",
     "output_type": "stream",
     "text": [
      "finish 16 with num of GBs 15794, and collected num of GBs 66725\n",
      "key num start with 26657\n",
      "key num end with 14637\n"
     ]
    },
    {
     "name": "stderr",
     "output_type": "stream",
     "text": [
      "100%|██████████| 14637/14637 [00:00<00:00, 596629.94it/s]"
     ]
    },
    {
     "name": "stdout",
     "output_type": "stream",
     "text": [
      "finish 17 with num of GBs 14637, and collected num of GBs 67563\n",
      "key num start with 24713\n"
     ]
    },
    {
     "name": "stderr",
     "output_type": "stream",
     "text": [
      "\n"
     ]
    },
    {
     "name": "stdout",
     "output_type": "stream",
     "text": [
      "key num end with 13545\n"
     ]
    },
    {
     "name": "stderr",
     "output_type": "stream",
     "text": [
      "100%|██████████| 13545/13545 [00:00<00:00, 600192.78it/s]\n"
     ]
    },
    {
     "name": "stdout",
     "output_type": "stream",
     "text": [
      "finish 18 with num of GBs 13545, and collected num of GBs 68273\n",
      "key num start with 22965\n",
      "key num end with 12616\n"
     ]
    },
    {
     "name": "stderr",
     "output_type": "stream",
     "text": [
      "100%|██████████| 12616/12616 [00:00<00:00, 604042.59it/s]\n"
     ]
    },
    {
     "name": "stdout",
     "output_type": "stream",
     "text": [
      "finish 19 with num of GBs 12616, and collected num of GBs 68832\n",
      "key num start with 21384\n",
      "key num end with 11779\n"
     ]
    },
    {
     "name": "stderr",
     "output_type": "stream",
     "text": [
      "100%|██████████| 11779/11779 [00:00<00:00, 609851.83it/s]\n"
     ]
    },
    {
     "name": "stdout",
     "output_type": "stream",
     "text": [
      "finish 20 with num of GBs 11779, and collected num of GBs 69406\n",
      "key num start with 19964\n",
      "key num end with 11074\n"
     ]
    },
    {
     "name": "stderr",
     "output_type": "stream",
     "text": [
      "100%|██████████| 11074/11074 [00:00<00:00, 605426.59it/s]\n"
     ]
    },
    {
     "name": "stdout",
     "output_type": "stream",
     "text": [
      "finish 21 with num of GBs 11074, and collected num of GBs 69898\n",
      "key num start with 18800\n",
      "key num end with 10303\n"
     ]
    },
    {
     "name": "stderr",
     "output_type": "stream",
     "text": [
      "100%|██████████| 10303/10303 [00:00<00:00, 598489.22it/s]\n"
     ]
    },
    {
     "name": "stdout",
     "output_type": "stream",
     "text": [
      "finish 22 with num of GBs 10303, and collected num of GBs 70337\n",
      "key num start with 17703\n",
      "key num end with 9589\n"
     ]
    },
    {
     "name": "stderr",
     "output_type": "stream",
     "text": [
      "100%|██████████| 9589/9589 [00:00<00:00, 617275.17it/s]\n"
     ]
    },
    {
     "name": "stdout",
     "output_type": "stream",
     "text": [
      "finish 23 with num of GBs 9589, and collected num of GBs 70771\n",
      "key num start with 16635\n",
      "key num end with 9110\n"
     ]
    },
    {
     "name": "stderr",
     "output_type": "stream",
     "text": [
      "100%|██████████| 9110/9110 [00:00<00:00, 618076.53it/s]\n"
     ]
    },
    {
     "name": "stdout",
     "output_type": "stream",
     "text": [
      "finish 24 with num of GBs 9110, and collected num of GBs 71138\n",
      "key num start with 15686\n",
      "key num end with 8526\n"
     ]
    },
    {
     "name": "stderr",
     "output_type": "stream",
     "text": [
      "100%|██████████| 8526/8526 [00:00<00:00, 611355.62it/s]\n"
     ]
    },
    {
     "name": "stdout",
     "output_type": "stream",
     "text": [
      "finish 25 with num of GBs 8526, and collected num of GBs 71431\n",
      "key num start with 14816\n",
      "key num end with 7960\n"
     ]
    },
    {
     "name": "stderr",
     "output_type": "stream",
     "text": [
      "100%|██████████| 7960/7960 [00:00<00:00, 612655.47it/s]\n"
     ]
    },
    {
     "name": "stdout",
     "output_type": "stream",
     "text": [
      "finish 26 with num of GBs 7960, and collected num of GBs 71707\n",
      "key num start with 14039\n",
      "key num end with 7512\n"
     ]
    },
    {
     "name": "stderr",
     "output_type": "stream",
     "text": [
      "100%|██████████| 7512/7512 [00:00<00:00, 613848.42it/s]\n"
     ]
    },
    {
     "name": "stdout",
     "output_type": "stream",
     "text": [
      "finish 27 with num of GBs 7512, and collected num of GBs 71999\n",
      "key num start with 13300\n",
      "key num end with 7220\n"
     ]
    },
    {
     "name": "stderr",
     "output_type": "stream",
     "text": [
      "100%|██████████| 7220/7220 [00:00<00:00, 620029.79it/s]\n"
     ]
    },
    {
     "name": "stdout",
     "output_type": "stream",
     "text": [
      "finish 28 with num of GBs 7220, and collected num of GBs 72250\n",
      "key num start with 12561\n",
      "key num end with 6811\n"
     ]
    },
    {
     "name": "stderr",
     "output_type": "stream",
     "text": [
      "100%|██████████| 6811/6811 [00:00<00:00, 635565.64it/s]"
     ]
    },
    {
     "name": "stdout",
     "output_type": "stream",
     "text": [
      "finish 29 with num of GBs 6811, and collected num of GBs 72465\n",
      "key num start with 12010\n"
     ]
    },
    {
     "name": "stderr",
     "output_type": "stream",
     "text": [
      "\n"
     ]
    },
    {
     "name": "stdout",
     "output_type": "stream",
     "text": [
      "key num end with 6412\n"
     ]
    },
    {
     "name": "stderr",
     "output_type": "stream",
     "text": [
      "100%|██████████| 6412/6412 [00:00<00:00, 623828.66it/s]\n"
     ]
    },
    {
     "name": "stdout",
     "output_type": "stream",
     "text": [
      "finish 30 with num of GBs 6412, and collected num of GBs 72690\n",
      "key num start with 11377\n",
      "key num end with 5913\n"
     ]
    },
    {
     "name": "stderr",
     "output_type": "stream",
     "text": [
      "100%|██████████| 5913/5913 [00:00<00:00, 639644.07it/s]\n"
     ]
    },
    {
     "name": "stdout",
     "output_type": "stream",
     "text": [
      "finish 31 with num of GBs 5913, and collected num of GBs 72879\n",
      "key num start with 10835\n",
      "key num end with 5680\n"
     ]
    },
    {
     "name": "stderr",
     "output_type": "stream",
     "text": [
      "100%|██████████| 5680/5680 [00:00<00:00, 633894.23it/s]\n"
     ]
    },
    {
     "name": "stdout",
     "output_type": "stream",
     "text": [
      "finish 32 with num of GBs 5680, and collected num of GBs 73069\n",
      "key num start with 10330\n",
      "key num end with 5477\n"
     ]
    },
    {
     "name": "stderr",
     "output_type": "stream",
     "text": [
      "100%|██████████| 5477/5477 [00:00<00:00, 626833.74it/s]\n"
     ]
    },
    {
     "name": "stdout",
     "output_type": "stream",
     "text": [
      "finish 33 with num of GBs 5477, and collected num of GBs 73218\n",
      "key num start with 9908\n",
      "key num end with 5184\n"
     ]
    },
    {
     "name": "stderr",
     "output_type": "stream",
     "text": [
      "100%|██████████| 5184/5184 [00:00<00:00, 640563.04it/s]\n"
     ]
    },
    {
     "name": "stdout",
     "output_type": "stream",
     "text": [
      "finish 34 with num of GBs 5184, and collected num of GBs 73378\n",
      "key num start with 9512\n",
      "key num end with 4917\n"
     ]
    },
    {
     "name": "stderr",
     "output_type": "stream",
     "text": [
      "100%|██████████| 4917/4917 [00:00<00:00, 636681.67it/s]\n"
     ]
    },
    {
     "name": "stdout",
     "output_type": "stream",
     "text": [
      "finish 35 with num of GBs 4917, and collected num of GBs 73525\n",
      "key num start with 9082\n",
      "key num end with 4637\n"
     ]
    },
    {
     "name": "stderr",
     "output_type": "stream",
     "text": [
      "100%|██████████| 4637/4637 [00:00<00:00, 615844.58it/s]\n"
     ]
    },
    {
     "name": "stdout",
     "output_type": "stream",
     "text": [
      "finish 36 with num of GBs 4637, and collected num of GBs 73663\n",
      "key num start with 8688\n",
      "key num end with 4469\n"
     ]
    },
    {
     "name": "stderr",
     "output_type": "stream",
     "text": [
      "100%|██████████| 4469/4469 [00:00<00:00, 635358.44it/s]\n"
     ]
    },
    {
     "name": "stdout",
     "output_type": "stream",
     "text": [
      "finish 37 with num of GBs 4469, and collected num of GBs 73789\n",
      "key num start with 8371\n",
      "key num end with 4250\n"
     ]
    },
    {
     "name": "stderr",
     "output_type": "stream",
     "text": [
      "100%|██████████| 4250/4250 [00:00<00:00, 657899.69it/s]"
     ]
    },
    {
     "name": "stdout",
     "output_type": "stream",
     "text": [
      "finish 38 with num of GBs 4250, and collected num of GBs 73903\n",
      "key num start with 8070\n"
     ]
    },
    {
     "name": "stderr",
     "output_type": "stream",
     "text": [
      "\n"
     ]
    },
    {
     "name": "stdout",
     "output_type": "stream",
     "text": [
      "key num end with 4129\n"
     ]
    },
    {
     "name": "stderr",
     "output_type": "stream",
     "text": [
      "100%|██████████| 4129/4129 [00:00<00:00, 638367.84it/s]\n"
     ]
    },
    {
     "name": "stdout",
     "output_type": "stream",
     "text": [
      "finish 39 with num of GBs 4129, and collected num of GBs 73997\n",
      "key num start with 7768\n",
      "key num end with 3900\n"
     ]
    },
    {
     "name": "stderr",
     "output_type": "stream",
     "text": [
      "100%|██████████| 3900/3900 [00:00<00:00, 640953.94it/s]\n"
     ]
    },
    {
     "name": "stdout",
     "output_type": "stream",
     "text": [
      "finish 40 with num of GBs 3900, and collected num of GBs 74115\n",
      "key num start with 7475\n",
      "key num end with 3823\n"
     ]
    },
    {
     "name": "stderr",
     "output_type": "stream",
     "text": [
      "100%|██████████| 3823/3823 [00:00<00:00, 652272.88it/s]\n"
     ]
    },
    {
     "name": "stdout",
     "output_type": "stream",
     "text": [
      "finish 41 with num of GBs 3823, and collected num of GBs 74223\n",
      "key num start with 7208\n",
      "key num end with 3645\n"
     ]
    },
    {
     "name": "stderr",
     "output_type": "stream",
     "text": [
      "100%|██████████| 3645/3645 [00:00<00:00, 646737.94it/s]\n"
     ]
    },
    {
     "name": "stdout",
     "output_type": "stream",
     "text": [
      "finish 42 with num of GBs 3645, and collected num of GBs 74323\n",
      "key num start with 6963\n",
      "key num end with 3525\n"
     ]
    },
    {
     "name": "stderr",
     "output_type": "stream",
     "text": [
      "100%|██████████| 3525/3525 [00:00<00:00, 656728.18it/s]\n"
     ]
    },
    {
     "name": "stdout",
     "output_type": "stream",
     "text": [
      "finish 43 with num of GBs 3525, and collected num of GBs 74413\n",
      "key num start with 6777\n",
      "key num end with 3392\n"
     ]
    },
    {
     "name": "stderr",
     "output_type": "stream",
     "text": [
      "100%|██████████| 3392/3392 [00:00<00:00, 674460.94it/s]"
     ]
    },
    {
     "name": "stdout",
     "output_type": "stream",
     "text": [
      "finish 44 with num of GBs 3392, and collected num of GBs 74491\n",
      "key num start with 6512\n"
     ]
    },
    {
     "name": "stderr",
     "output_type": "stream",
     "text": [
      "\n"
     ]
    },
    {
     "name": "stdout",
     "output_type": "stream",
     "text": [
      "key num end with 3237\n"
     ]
    },
    {
     "name": "stderr",
     "output_type": "stream",
     "text": [
      "100%|██████████| 3237/3237 [00:00<00:00, 679459.62it/s]\n"
     ]
    },
    {
     "name": "stdout",
     "output_type": "stream",
     "text": [
      "finish 45 with num of GBs 3237, and collected num of GBs 74562\n",
      "key num start with 6305\n",
      "key num end with 3113\n"
     ]
    },
    {
     "name": "stderr",
     "output_type": "stream",
     "text": [
      "100%|██████████| 3113/3113 [00:00<00:00, 677434.28it/s]\n"
     ]
    },
    {
     "name": "stdout",
     "output_type": "stream",
     "text": [
      "finish 46 with num of GBs 3113, and collected num of GBs 74643\n",
      "key num start with 6072\n",
      "key num end with 3015\n"
     ]
    },
    {
     "name": "stderr",
     "output_type": "stream",
     "text": [
      "100%|██████████| 3015/3015 [00:00<00:00, 674264.28it/s]\n"
     ]
    },
    {
     "name": "stdout",
     "output_type": "stream",
     "text": [
      "finish 47 with num of GBs 3015, and collected num of GBs 74711\n",
      "key num start with 5867\n",
      "key num end with 2910\n"
     ]
    },
    {
     "name": "stderr",
     "output_type": "stream",
     "text": [
      "100%|██████████| 2910/2910 [00:00<00:00, 829623.75it/s]"
     ]
    },
    {
     "name": "stdout",
     "output_type": "stream",
     "text": [
      "finish 48 with num of GBs 2910, and collected num of GBs 74711\n",
      "key num start with 5708\n"
     ]
    },
    {
     "name": "stderr",
     "output_type": "stream",
     "text": [
      "\n"
     ]
    },
    {
     "name": "stdout",
     "output_type": "stream",
     "text": [
      "key num end with 2713\n"
     ]
    },
    {
     "name": "stderr",
     "output_type": "stream",
     "text": [
      "100%|██████████| 2713/2713 [00:00<00:00, 818584.76it/s]\n"
     ]
    },
    {
     "name": "stdout",
     "output_type": "stream",
     "text": [
      "finish 49 with num of GBs 2713, and collected num of GBs 74711\n"
     ]
    }
   ],
   "source": [
    "    from numba import njit, prange\n",
    "    import multiprocessing as mp\n",
    "    \n",
    "    @njit(parallel=True)\n",
    "    def compute_dV(npy_file_aniso_current,npy_file_aniso_next, pair_id_pair):\n",
    "        growth_direction1 = (npy_file_aniso_current == pair_id_pair[0]) & (npy_file_aniso_next == pair_id_pair[1])\n",
    "        growth_direction2 = (npy_file_aniso_current == pair_id_pair[1]) & (npy_file_aniso_next == pair_id_pair[0])\n",
    "        return np.sum(growth_direction1) - np.sum(growth_direction2)\n",
    "    \n",
    "    @njit(parallel=True)\n",
    "    def compute_dV_split(npy_file_aniso_current,npy_file_aniso_next, pair_id_pair):\n",
    "        growth_direction1 = (npy_file_aniso_current == pair_id_pair[0]) & (npy_file_aniso_next == pair_id_pair[1])\n",
    "        growth_direction2 = (npy_file_aniso_current == pair_id_pair[1]) & (npy_file_aniso_next == pair_id_pair[0])\n",
    "        return np.sum(growth_direction1) - np.sum(growth_direction2), np.sum(growth_direction1), np.sum(growth_direction2)\n",
    "    \n",
    "    def compute_necessary_info(key,time_interval,\n",
    "                               GB_infomation_dict_list_one_step_one_key,\n",
    "                               GBenergy_information_dict_list_one_step_one_key,\n",
    "                               npy_file_aniso_current,\n",
    "                               npy_file_aniso_next):\n",
    "        \n",
    "        \n",
    "        # Calculate dV and velocity\n",
    "        dV = compute_dV(npy_file_aniso_current,npy_file_aniso_next,GB_infomation_dict_list_one_step_one_key[6:8])\n",
    "        velocity = dV/time_interval/(GB_infomation_dict_list_one_step_one_key[5]/2)\n",
    "        # keep curvature\n",
    "        current_curvature_value = GB_infomation_dict_list_one_step_one_key[4]\n",
    "        # keep GB energy\n",
    "        current_eng = GBenergy_information_dict_list_one_step_one_key[4]\n",
    "        \n",
    "        result = {\n",
    "            \"key\": key,\n",
    "            \"velocity\": velocity,\n",
    "            \"current_curvature_value\": current_curvature_value,\n",
    "            \"current_eng\": current_eng,\n",
    "            \"is_anti_curvature\": current_curvature_value * velocity < -0.0001\n",
    "        }\n",
    "        \n",
    "        return result\n",
    "    \n",
    "    def compute_necessary_info_split(key,time_interval,\n",
    "                               GB_infomation_dict_list_one_step_one_key,\n",
    "                               GBenergy_information_dict_list_one_step_one_key,\n",
    "                               npy_file_aniso_current,\n",
    "                               npy_file_aniso_next):\n",
    "        \n",
    "        \n",
    "        # Calculate dV and velocity\n",
    "        dV, dV_direction1, dV_direction2 = compute_dV_split(npy_file_aniso_current,npy_file_aniso_next,GB_infomation_dict_list_one_step_one_key[6:8])\n",
    "        velocity = dV/time_interval/(GB_infomation_dict_list_one_step_one_key[5]/2)\n",
    "        # keep curvature\n",
    "        current_curvature_value = GB_infomation_dict_list_one_step_one_key[4]\n",
    "        # keep GB energy\n",
    "        current_eng = GBenergy_information_dict_list_one_step_one_key[4]\n",
    "        \n",
    "        result = {\n",
    "            \"key\": key,\n",
    "            \"velocity\": velocity,\n",
    "            \"dV_direction1\": dV_direction1,\n",
    "            \"dV_direction2\": dV_direction2,\n",
    "            \"current_curvature_value\": current_curvature_value,\n",
    "            \"current_eng\": current_eng,\n",
    "            \"is_anti_curvature\": current_curvature_value * velocity < -0.0001\n",
    "        }\n",
    "        \n",
    "        return result\n",
    "    \n",
    "    # if __name__ == '__main__':\n",
    "    time_interval = 2\n",
    "    curvature_limit = 0.00794\n",
    "    area_limit = 100\n",
    "    # store all GB points, include curvature and anti-curvature(include randomness points)\n",
    "    GB_list_velocity_list = []\n",
    "    GB_list_curvature_list = []\n",
    "    GB_list_GBenergy_list = []\n",
    "    GB_list_area_list = []\n",
    "    GB_list_dV_direction1 = []\n",
    "    GB_list_dV_direction2 = []\n",
    "    # store anti-curvature GBs in dictionary\n",
    "    GB_id_focus = dict()\n",
    "    GB_id_focus_detail = dict()\n",
    "    GB_filter_kernel = [set(),set(),set(),set(),set()]\n",
    "    dV_dict = []\n",
    "    for time_step in range(3,step_num):\n",
    "        if time_step+1 >= step_num: continue\n",
    "        GB_list_velocity_list_tmp = []\n",
    "        GB_list_curvature_list_tmp = []\n",
    "        GB_list_GBenergy_list_tmp = []\n",
    "        GB_list_area_list_tmp = []\n",
    "        GB_list_dV_direction1_tmp = []\n",
    "        GB_list_dV_direction2_tmp = []\n",
    "        key_set = set()\n",
    "\n",
    "        # MP\n",
    "        # remove disappeared GBs and low area GBs and remove low curvature\n",
    "        print(f\"key num start with {len(GB_infomation_dict_list[time_step])}\")\n",
    "        tmp_GB_infomation_dict_for_mp = {}\n",
    "        tmp_GBenergy_information_dict_for_mp = {}\n",
    "        for key in GB_infomation_dict_list[time_step]:\n",
    "            if (GB_infomation_dict_list[time_step][key][5] < area_limit or \n",
    "                GB_infomation_dict_list[time_step+1].get(key) is None or \n",
    "                abs(GB_infomation_dict_list[time_step][key][4]) < curvature_limit): \n",
    "                continue\n",
    "            tmp_GB_infomation_dict_for_mp[key] = GB_infomation_dict_list[time_step][key]\n",
    "            tmp_GBenergy_information_dict_for_mp[key] = GBenergy_information_dict_list[time_step][key]\n",
    "        print(f\"key num end with {len(tmp_GB_infomation_dict_for_mp)}\")\n",
    "        # run key\n",
    "        if area_limit != 100:\n",
    "            dV_dict_file_name = f\"GB_velocity_data/3D_dV_split_data_{case_name}_areaLimit{area_limit}_step{time_step}.npz\"\n",
    "        else:\n",
    "            dV_dict_file_name = f\"GB_velocity_data/3D_dV_split_data_{case_name}_step{time_step}.npz\"\n",
    "        if os.path.exists(data_file_folder + dV_dict_file_name):\n",
    "            npz_file = np.load(data_file_folder + dV_dict_file_name,allow_pickle=True)\n",
    "            dV_dict_tmp = npz_file[\"dV_dict_tmp\"]\n",
    "            dV_dict_tmp=dV_dict_tmp.item()\n",
    "        else:\n",
    "            dV_dict_tmp = {}\n",
    "        for key in tqdm(tmp_GB_infomation_dict_for_mp):\n",
    "            if key in dV_dict_tmp:\n",
    "                result = dV_dict_tmp[key]\n",
    "            else:\n",
    "                result = compute_necessary_info_split(key,time_interval,tmp_GB_infomation_dict_for_mp[key],tmp_GBenergy_information_dict_for_mp[key],npy_file_aniso[time_step],npy_file_aniso[time_step+1])\n",
    "                dV_dict_tmp[key] = result\n",
    "            \n",
    "            # Store these results remove ways-area,lowCurvature\n",
    "            GB_list_velocity_list_tmp.append(result[\"velocity\"])\n",
    "            GB_list_curvature_list_tmp.append(result[\"current_curvature_value\"])\n",
    "            GB_list_GBenergy_list_tmp.append(result[\"current_eng\"])\n",
    "            GB_list_dV_direction1_tmp.append(result[\"dV_direction1\"])\n",
    "            GB_list_dV_direction2_tmp.append(result[\"dV_direction2\"])\n",
    "            \n",
    "            # calculate GB area and store it\n",
    "            current_GB_area = 0.5*tmp_GB_infomation_dict_for_mp[key][0]\n",
    "            GB_list_area_list_tmp.append(current_GB_area)\n",
    "\n",
    "\n",
    "            # keep anti-curvature GB info\n",
    "            if result[\"is_anti_curvature\"]: \n",
    "                key_set.add(key)\n",
    "                if time_step >= step_num-3: continue\n",
    "                if key in GB_id_focus: \n",
    "                    GB_id_focus[key] += 1\n",
    "                    GB_id_focus_detail[key].append(time_step)\n",
    "                else: \n",
    "                    GB_id_focus[key] = 1\n",
    "                    GB_id_focus_detail[key] = [time_step]\n",
    "        if not os.path.exists(data_file_folder + dV_dict_file_name):\n",
    "            np.savez(data_file_folder + dV_dict_file_name, dV_dict_tmp=dV_dict_tmp)\n",
    "\n",
    "        # keep all GBs after ways-area,lowCurvature\n",
    "        dV_dict.append(dV_dict_tmp)\n",
    "        GB_list_velocity_list.append(GB_list_velocity_list_tmp)\n",
    "        GB_list_curvature_list.append(GB_list_curvature_list_tmp)\n",
    "        GB_list_GBenergy_list.append(GB_list_GBenergy_list_tmp)\n",
    "        GB_list_area_list.append(GB_list_area_list_tmp)\n",
    "        GB_list_dV_direction1.append(GB_list_dV_direction1_tmp)\n",
    "        GB_list_dV_direction2.append(GB_list_dV_direction2_tmp)\n",
    "\n",
    "        GB_filter_kernel[0:4] = GB_filter_kernel[1:]\n",
    "        GB_filter_kernel[4] = key_set\n",
    "        # # filter the anti-curvature GB with 11111\n",
    "        # filtered_set = GB_filter_kernel[2] - (GB_filter_kernel[0]&GB_filter_kernel[1]&GB_filter_kernel[3]&GB_filter_kernel[4]&GB_filter_kernel[2])\n",
    "        # # filter the anti-curvature GB with 00100\n",
    "        filtered_set = GB_filter_kernel[2] - (GB_filter_kernel[0]|GB_filter_kernel[1]|GB_filter_kernel[3]|GB_filter_kernel[4])\n",
    "        # # filter the anti-curvature GB with 01100\n",
    "        # filtered_set1 = GB_filter_kernel[2] - (GB_filter_kernel[0]|GB_filter_kernel[3]|GB_filter_kernel[4])\n",
    "        # # filter the anti-curvature GB with 00110\n",
    "        # filtered_set2 = GB_filter_kernel[2] - (GB_filter_kernel[0]|GB_filter_kernel[1]|GB_filter_kernel[4])\n",
    "        # filtered_set = filtered_set0|filtered_set1|filtered_set2\n",
    "        # # filter the anti-curvature GB with 010\n",
    "        # filtered_set = GB_filter_kernel[2] - (GB_filter_kernel[1]|GB_filter_kernel[3])\n",
    "        \n",
    "        for key in filtered_set: \n",
    "            GB_id_focus[key] -= 1\n",
    "            GB_id_focus_detail[key].remove(time_step-2)\n",
    "        print(f\"finish {time_step} with num of GBs {len(GB_list_velocity_list_tmp)}, and collected num of GBs {len(GB_id_focus)}\")\n",
    "\n",
    "\n",
    "    # filter the GBs in GB_id_focus without anti-curvature behavior after 00100\n",
    "    GB_id_focus_copy = GB_id_focus.copy()\n",
    "    for key in GB_id_focus_copy:\n",
    "        if GB_id_focus_copy[key] <=0:\n",
    "            GB_id_focus.pop(key)\n",
    "            GB_id_focus_detail.pop(key)\n",
    "\n",
    "    # add the last two steps for exclude data\n",
    "    # GB_list_velocity_list_exrandom.extend(GB_list_velocity_list[-2:])\n",
    "    # GB_list_curvature_list_exrandom.extend(GB_list_curvature_list[-2:])\n",
    "    # GB_list_GBenergy_list_exrandom.extend(GB_list_GBenergy_list[-2:])\n"
   ]
  },
  {
   "cell_type": "code",
   "execution_count": null,
   "id": "81c85dbd-a6b5-4075-b7c2-6d2fa8f85092",
   "metadata": {
    "tags": []
   },
   "outputs": [],
   "source": []
  },
  {
   "cell_type": "code",
   "execution_count": 7,
   "id": "6304ac9f-da16-406b-9a55-1d84184e3369",
   "metadata": {
    "tags": []
   },
   "outputs": [
    {
     "name": "stderr",
     "output_type": "stream",
     "text": [
      "100%|██████████| 48/48 [00:03<00:00, 12.97it/s]\n"
     ]
    }
   ],
   "source": [
    "    time_interval = 2\n",
    "    # anti_c GBs grabing\n",
    "    GB_antic_list_velocity_AllList = []\n",
    "    GB_antic_list_curvature_AllList = []\n",
    "    GB_antic_list_GBenergy_AllList = []\n",
    "    GB_antic_list_anticNum_AllList = []\n",
    "    GB_antic_list_area_AllList = []\n",
    "    GB_antic_list_dV_normD_AllList = []\n",
    "    GB_antic_list_dV_antiD_AllList = []\n",
    "    \n",
    "    GB_antic_list_velocity_list = []\n",
    "    GB_antic_list_curvature_list = []\n",
    "    GB_antic_list_GBenergy_list = []\n",
    "    GB_antic_list_anticNum_list = []\n",
    "    GB_antic_list_area_list = []\n",
    "    GB_antic_list_dV_normD_list = []\n",
    "    GB_antic_list_dV_antiD_list = []\n",
    "    \n",
    "    # norn_c GBs grabing\n",
    "    GB_normc_list_velocity_AllList = []\n",
    "    GB_normc_list_curvature_AllList = []\n",
    "    GB_normc_list_GBenergy_AllList = []\n",
    "    GB_normc_list_area_AllList = []\n",
    "    GB_normc_list_dV_normD_AllList = []\n",
    "    GB_normc_list_dV_antiD_AllList = []\n",
    "    \n",
    "    GB_normc_list_velocity_list = []\n",
    "    GB_normc_list_curvature_list = []\n",
    "    GB_normc_list_GBenergy_list = []\n",
    "    GB_normc_list_area_list = []\n",
    "    GB_normc_list_dV_normD_list = []\n",
    "    GB_normc_list_dV_antiD_list = []\n",
    "    for time_step in tqdm(range(3,step_num)):\n",
    "        if time_step+1 >= step_num: continue\n",
    "        # read the info data\n",
    "        if area_limit != 100:\n",
    "            dV_dict_file_name = f\"GB_velocity_data/3D_dV_split_data_{case_name}_areaLimit{area_limit}_step{time_step}.npz\"\n",
    "        else:\n",
    "            dV_dict_file_name = f\"GB_velocity_data/3D_dV_split_data_{case_name}_step{time_step}.npz\"\n",
    "        npz_file = np.load(data_file_folder + dV_dict_file_name,allow_pickle=True)\n",
    "        dV_dict_tmp = npz_file[\"dV_dict_tmp\"]\n",
    "        dV_dict_tmp = dV_dict_tmp.item()\n",
    "        \n",
    "        tmp_GB_antic_list_velocity = []\n",
    "        tmp_GB_antic_list_curvature = []\n",
    "        tmp_GB_antic_list_GBenergy = []\n",
    "        tmp_GB_antic_list_anticNum = []\n",
    "        tmp_GB_antic_list_area = []\n",
    "        tmp_GB_antic_list_dV_normD = []\n",
    "        tmp_GB_antic_list_dV_antiD = []\n",
    "        \n",
    "        # anti_c\n",
    "        for key in GB_id_focus_detail:\n",
    "            if time_step in GB_id_focus_detail[key]:\n",
    "                \n",
    "                result = dV_dict_tmp[key]\n",
    "                velocity = result[\"velocity\"]\n",
    "                current_curvature_value = result[\"current_curvature_value\"]\n",
    "                current_area = 0.5*GB_infomation_dict_list[time_step][key][0]\n",
    "                dV_direction1 = result[\"dV_direction1\"]\n",
    "                dV_direction2 = result[\"dV_direction2\"]\n",
    "                \n",
    "                # change the sign of the velocity by curvature\n",
    "                if current_curvature_value < 0: \n",
    "                    GB_antic_list_velocity_list.append(-velocity)\n",
    "                    GB_antic_list_curvature_list.append(-current_curvature_value)\n",
    "                    GB_antic_list_dV_normD_list.append(dV_direction2)\n",
    "                    GB_antic_list_dV_antiD_list.append(dV_direction1)\n",
    "                    tmp_GB_antic_list_velocity.append(-velocity)\n",
    "                    tmp_GB_antic_list_curvature.append(-current_curvature_value)\n",
    "                    tmp_GB_antic_list_dV_normD.append(dV_direction2)\n",
    "                    tmp_GB_antic_list_dV_antiD.append(dV_direction1)\n",
    "                else: \n",
    "                    GB_antic_list_velocity_list.append(velocity)\n",
    "                    GB_antic_list_curvature_list.append(current_curvature_value)\n",
    "                    GB_antic_list_dV_normD_list.append(dV_direction1)\n",
    "                    GB_antic_list_dV_antiD_list.append(dV_direction2)\n",
    "                    tmp_GB_antic_list_velocity.append(velocity)\n",
    "                    tmp_GB_antic_list_curvature.append(current_curvature_value)\n",
    "                    tmp_GB_antic_list_dV_normD.append(dV_direction1)\n",
    "                    tmp_GB_antic_list_dV_antiD.append(dV_direction2)\n",
    "                GB_antic_list_GBenergy_list.append(result[\"current_eng\"])\n",
    "                GB_antic_list_anticNum_list.append(GB_id_focus[key])\n",
    "                GB_antic_list_area_list.append(current_area)\n",
    "                tmp_GB_antic_list_GBenergy.append(result[\"current_eng\"])\n",
    "                tmp_GB_antic_list_anticNum.append(GB_id_focus[key])\n",
    "                tmp_GB_antic_list_area.append(current_area)\n",
    "            \n",
    "        GB_antic_list_velocity_AllList.append(tmp_GB_antic_list_velocity)\n",
    "        GB_antic_list_curvature_AllList.append(tmp_GB_antic_list_curvature)\n",
    "        GB_antic_list_GBenergy_AllList.append(tmp_GB_antic_list_GBenergy)\n",
    "        GB_antic_list_anticNum_AllList.append(tmp_GB_antic_list_anticNum)\n",
    "        GB_antic_list_area_AllList.append(tmp_GB_antic_list_area)\n",
    "        GB_antic_list_dV_normD_AllList.append(tmp_GB_antic_list_dV_normD)\n",
    "        GB_antic_list_dV_antiD_AllList.append(tmp_GB_antic_list_dV_antiD)\n",
    "        \n",
    "        # norm c\n",
    "        tmp_GB_normc_list_velocity = []\n",
    "        tmp_GB_normc_list_curvature = []\n",
    "        tmp_GB_normc_list_GBenergy = []\n",
    "        tmp_GB_normc_list_area = []\n",
    "        tmp_GB_normc_list_dV_normD = []\n",
    "        tmp_GB_normc_list_dV_antiD = []\n",
    "        \n",
    "        for key in dV_dict_tmp:\n",
    "            result = dV_dict_tmp[key]\n",
    "            velocity = result[\"velocity\"]\n",
    "            current_curvature_value = result[\"current_curvature_value\"]\n",
    "            current_area = 0.5*GB_infomation_dict_list[time_step][key][0]\n",
    "            dV_direction1 = result[\"dV_direction1\"]\n",
    "            dV_direction2 = result[\"dV_direction2\"]\n",
    "            if current_curvature_value * velocity > 0: # norm c\n",
    "                \n",
    "                # change the sign of the velocity by curvature\n",
    "                if current_curvature_value < 0: \n",
    "                    GB_normc_list_velocity_list.append(-velocity)\n",
    "                    GB_normc_list_curvature_list.append(-current_curvature_value)\n",
    "                    GB_normc_list_dV_normD_list.append(dV_direction2)\n",
    "                    GB_normc_list_dV_antiD_list.append(dV_direction1)\n",
    "                    tmp_GB_normc_list_velocity.append(-velocity)\n",
    "                    tmp_GB_normc_list_curvature.append(-current_curvature_value)\n",
    "                    tmp_GB_normc_list_dV_normD.append(dV_direction2)\n",
    "                    tmp_GB_normc_list_dV_antiD.append(dV_direction1)\n",
    "                else: \n",
    "                    GB_normc_list_velocity_list.append(velocity)\n",
    "                    GB_normc_list_curvature_list.append(current_curvature_value)\n",
    "                    GB_normc_list_dV_normD_list.append(dV_direction1)\n",
    "                    GB_normc_list_dV_antiD_list.append(dV_direction2)\n",
    "                    tmp_GB_normc_list_velocity.append(velocity)\n",
    "                    tmp_GB_normc_list_curvature.append(current_curvature_value)\n",
    "                    tmp_GB_normc_list_dV_normD.append(dV_direction1)\n",
    "                    tmp_GB_normc_list_dV_antiD.append(dV_direction2)\n",
    "                GB_normc_list_GBenergy_list.append(result[\"current_eng\"])\n",
    "                GB_normc_list_area_list.append(current_area)\n",
    "                tmp_GB_normc_list_GBenergy.append(result[\"current_eng\"])\n",
    "                tmp_GB_normc_list_area.append(current_area)\n",
    "        \n",
    "        GB_normc_list_velocity_AllList.append(tmp_GB_normc_list_velocity)\n",
    "        GB_normc_list_curvature_AllList.append(tmp_GB_normc_list_curvature)\n",
    "        GB_normc_list_GBenergy_AllList.append(tmp_GB_normc_list_GBenergy)\n",
    "        GB_normc_list_area_AllList.append(tmp_GB_normc_list_area)\n",
    "        GB_normc_list_dV_normD_AllList.append(tmp_GB_normc_list_dV_normD)\n",
    "        GB_normc_list_dV_antiD_AllList.append(tmp_GB_normc_list_dV_antiD)\n",
    "                \n",
    "            \n",
    "        \n",
    "            "
   ]
  },
  {
   "cell_type": "code",
   "execution_count": null,
   "id": "e4ea909b-08b9-49cb-8854-0dad0df31648",
   "metadata": {
    "tags": []
   },
   "outputs": [],
   "source": []
  },
  {
   "cell_type": "code",
   "execution_count": 8,
   "id": "bf804f69-a21f-462e-8dc6-ea100eb771f0",
   "metadata": {
    "tags": []
   },
   "outputs": [
    {
     "name": "stdout",
     "output_type": "stream",
     "text": [
      "anti-c GB\n",
      "The number of the GBs showing anti-curvature during whole simulations is 114697\n",
      "The ratio of anti-curvature GBs during whole simulations is 8.952149625787236% in 1281223 GBs\n",
      "The ratio of norm-curvature GBs during whole simulations is 35.16468249477257% in 1281223 GBs\n",
      "\n",
      "anti-c GB in real total number\n",
      "The ratio of anti-curvature GBs during whole simulations is 20.29191398267977% in 565235 GBs\n",
      "The ratio of norm-curvature GBs during whole simulations is 79.70808601732024% in 565235 GBs\n",
      "\n",
      "Over all voxels\n",
      "The number of the normal voxels and antic voxels during whole simulations are 103269942 and 29148000\n",
      "The ratio of anti-curvature voxels during whole simulations is 22.012122798283634% in 132417942 voxels\n",
      "\n",
      "Voxels on anti-c GBs\n",
      "The number of the normal voxels and antic voxels during whole simulations are 1987820 and 11676328\n",
      "The ratio of anti-curvature voxels during whole simulations is 85.45229457409272% in 13664148 voxels\n",
      "Voxels on norm-c GBs\n",
      "The number of the normal voxels and antic voxels during whole simulations are 99651406 and 6592984\n",
      "The ratio of anti-curvature voxels during whole simulations is 6.205489061587158% in 106244390 voxels\n"
     ]
    }
   ],
   "source": [
    "    print(\"anti-c GB\")\n",
    "    total_GB_num = 0\n",
    "    for time_step in range(3,step_num):\n",
    "        step_GB = GB_infomation_dict_list[time_step].keys()\n",
    "        total_GB_num += len(step_GB)\n",
    "        \n",
    "    total_GB_num_real = len(GB_antic_list_velocity_list) + len(GB_normc_list_velocity_list)\n",
    "\n",
    "    print(f\"The number of the GBs showing anti-curvature during whole simulations is {len(GB_antic_list_velocity_list)}\")\n",
    "    print(f\"The ratio of anti-curvature GBs during whole simulations is {len(GB_antic_list_velocity_list)/total_GB_num*100}% in {total_GB_num} GBs\")\n",
    "    print(f\"The ratio of norm-curvature GBs during whole simulations is {len(GB_normc_list_velocity_list)/total_GB_num*100}% in {total_GB_num} GBs\")\n",
    "    print()\n",
    "    \n",
    "    print(\"anti-c GB in real total number\")\n",
    "    print(f\"The ratio of anti-curvature GBs during whole simulations is {len(GB_antic_list_velocity_list)/total_GB_num_real*100}% in {total_GB_num_real} GBs\")\n",
    "    print(f\"The ratio of norm-curvature GBs during whole simulations is {len(GB_normc_list_velocity_list)/total_GB_num_real*100}% in {total_GB_num_real} GBs\")\n",
    "    print()\n",
    "    \n",
    "    print(\"Over all voxels\")\n",
    "    normal_growth_voxel = 0\n",
    "    antic_growth_voxel = 0\n",
    "    # calculate anti-c voxels fraction\n",
    "    for i in range(0,len(GB_list_curvature_list)): \n",
    "        for j in range(len(GB_list_curvature_list[i])):\n",
    "            # in general, curvature>0, V_d1 is the voxel in curvature direction, while V_d1 is anti-c when curvature<0\n",
    "            if GB_list_curvature_list[i][j]<0: \n",
    "                normal_growth_voxel += GB_list_dV_direction2[i][j]\n",
    "                antic_growth_voxel += GB_list_dV_direction1[i][j]\n",
    "            elif GB_list_curvature_list[i][j]>=0: \n",
    "                normal_growth_voxel += GB_list_dV_direction1[i][j]\n",
    "                antic_growth_voxel += GB_list_dV_direction2[i][j]\n",
    "    print(f\"The number of the normal voxels and antic voxels during whole simulations are {normal_growth_voxel} and {antic_growth_voxel}\")\n",
    "    print(f\"The ratio of anti-curvature voxels during whole simulations is {antic_growth_voxel/(antic_growth_voxel+normal_growth_voxel)*100}% in {antic_growth_voxel+normal_growth_voxel} voxels\")\n",
    "    print()\n",
    "    \n",
    "    print(\"Voxels on anti-c GBs\")\n",
    "    normal_growth_voxel = 0\n",
    "    antic_growth_voxel = 0\n",
    "    # calculate anti-c voxels fraction\n",
    "    normal_growth_voxel = np.sum(GB_antic_list_dV_normD_list)\n",
    "    antic_growth_voxel = np.sum(GB_antic_list_dV_antiD_list)\n",
    "    print(f\"The number of the normal voxels and antic voxels during whole simulations are {normal_growth_voxel} and {antic_growth_voxel}\")\n",
    "    print(f\"The ratio of anti-curvature voxels during whole simulations is {antic_growth_voxel/(antic_growth_voxel+normal_growth_voxel)*100}% in {antic_growth_voxel+normal_growth_voxel} voxels\")\n",
    "    \n",
    "    print(\"Voxels on norm-c GBs\")\n",
    "    normal_growth_voxel = 0\n",
    "    antic_growth_voxel = 0\n",
    "    # calculate anti-c voxels fraction\n",
    "    normal_growth_voxel = np.sum(GB_normc_list_dV_normD_list)\n",
    "    antic_growth_voxel = np.sum(GB_normc_list_dV_antiD_list)\n",
    "    print(f\"The number of the normal voxels and antic voxels during whole simulations are {normal_growth_voxel} and {antic_growth_voxel}\")\n",
    "    print(f\"The ratio of anti-curvature voxels during whole simulations is {antic_growth_voxel/(antic_growth_voxel+normal_growth_voxel)*100}% in {antic_growth_voxel+normal_growth_voxel} voxels\")\n"
   ]
  },
  {
   "cell_type": "code",
   "execution_count": 9,
   "id": "6eceee40-5f34-4605-959f-364b9588bb1d",
   "metadata": {
    "tags": []
   },
   "outputs": [
    {
     "data": {
      "text/plain": [
       "<Figure size 432x288 with 0 Axes>"
      ]
     },
     "metadata": {},
     "output_type": "display_data"
    },
    {
     "data": {
      "image/png": "[encoded data removed]",
      "text/plain": [
       "<Figure size 504x504 with 1 Axes>"
      ]
     },
     "metadata": {
      "needs_background": "light"
     },
     "output_type": "display_data"
    },
    {
     "data": {
      "text/plain": [
       "<Figure size 432x288 with 0 Axes>"
      ]
     },
     "metadata": {},
     "output_type": "display_data"
    },
    {
     "data": {
      "image/png": "[encoded data removed]",
      "text/plain": [
       "<Figure size 504x504 with 1 Axes>"
      ]
     },
     "metadata": {
      "needs_background": "light"
     },
     "output_type": "display_data"
    }
   ],
   "source": [
    "    # voxels information in anti-c GBs --- Yes I think it can be confidence!!!!!!\n",
    "    bin_interval = 0.01\n",
    "    x_lim = [0.5,1.0]\n",
    "    bin_number = int((x_lim[1]-x_lim[0])/bin_interval)\n",
    "    Antic_voxel_coordinate = np.arange(x_lim[0],x_lim[1],bin_interval)+bin_interval/2\n",
    "    \n",
    "    antic_voxel_num_bin = np.zeros(bin_number)\n",
    "    normc_voxel_num_bin = np.zeros(bin_number)\n",
    "    for index in range(len(GB_antic_list_dV_normD_list)):\n",
    "        antic_voxel_num_bin[int((GB_antic_list_dV_antiD_list[index]/(GB_antic_list_dV_normD_list[index]+GB_antic_list_dV_antiD_list[index])-x_lim[0])//bin_interval)] += 1\n",
    "    for index in range(len(GB_normc_list_dV_normD_list)):\n",
    "        normc_voxel_num_bin[int((GB_normc_list_dV_normD_list[index]/(GB_normc_list_dV_normD_list[index]+GB_normc_list_dV_antiD_list[index])-x_lim[0])//bin_interval)] += 1\n",
    "    # plot\n",
    "    figure_name_all_bin = f\"figures/3D_antic_voxel_distribution_{case_name}_5d_afterBin.png\"\n",
    "    plt.figure()\n",
    "    fig = plt.figure(figsize=(7, 7))\n",
    "    plt.xlim([0.5,1.0])\n",
    "    plt.ylim([0,0.5])\n",
    "    plt.title(\"anti_c distribution\")\n",
    "    plt.plot(Antic_voxel_coordinate, antic_voxel_num_bin/np.sum(antic_voxel_num_bin),'-', linewidth=2)\n",
    "    plt.xlabel(\"voxels percentage\", fontsize=18)\n",
    "    plt.ylabel(\"distribution\", fontsize=18)\n",
    "    # plt.savefig(figure_name_all_bin, dpi=400,bbox_inches='tight')\n",
    "    \n",
    "    figure_name_all_bin = f\"figures/3D_normc_voxel_distribution_{case_name}_5d_afterBin.png\"\n",
    "    plt.figure()\n",
    "    fig = plt.figure(figsize=(7, 7))\n",
    "    plt.xlim([0.5,1.0])\n",
    "    plt.ylim([0,0.5])\n",
    "    plt.title(\"norm_c distribution\")\n",
    "    plt.plot(Antic_voxel_coordinate, normc_voxel_num_bin/np.sum(normc_voxel_num_bin),'-', linewidth=2)\n",
    "    plt.xlabel(\"voxels percentage\", fontsize=18)\n",
    "    plt.ylabel(\"distribution\", fontsize=18)\n",
    "    # plt.savefig(figure_name_all_bin, dpi=400,bbox_inches='tight')\n",
    "    \n",
    "        \n",
    "    confidence_factor = 0.99\n",
    "    \n",
    "    update_GB_antic_list_velocity_AllList = []\n",
    "    update_GB_antic_list_curvature_AllList = []\n",
    "    update_GB_antic_list_GBenergy_AllList = []\n",
    "    update_GB_antic_list_anticNum_AllList = []\n",
    "    update_GB_antic_list_area_AllList = []\n",
    "    update_GB_antic_list_dV_normD_AllList = []\n",
    "    update_GB_antic_list_dV_antiD_AllList = []\n",
    "    \n",
    "    update_GB_antic_list_velocity_list = []\n",
    "    update_GB_antic_list_curvature_list = []\n",
    "    update_GB_antic_list_GBenergy_list = []\n",
    "    update_GB_antic_list_anticNum_list = []\n",
    "    update_GB_antic_list_area_list = []\n",
    "    update_GB_antic_list_dV_normD_list = []\n",
    "    update_GB_antic_list_dV_antiD_list = []\n",
    "    for index in range(len(GB_antic_list_velocity_list)):\n",
    "        if GB_antic_list_dV_antiD_list[index]/(GB_antic_list_dV_normD_list[index]+GB_antic_list_dV_antiD_list[index]) > confidence_factor:\n",
    "            update_GB_antic_list_velocity_list.append(GB_antic_list_velocity_list[index])\n",
    "            update_GB_antic_list_curvature_list.append(GB_antic_list_curvature_list[index])\n",
    "            update_GB_antic_list_GBenergy_list.append(GB_antic_list_GBenergy_list[index])\n",
    "            update_GB_antic_list_anticNum_list.append(GB_antic_list_anticNum_list[index])\n",
    "            update_GB_antic_list_area_list.append(GB_antic_list_area_list[index])\n",
    "            update_GB_antic_list_dV_normD_list.append(GB_antic_list_dV_normD_list[index])\n",
    "            update_GB_antic_list_dV_antiD_list.append(GB_antic_list_dV_antiD_list[index])\n",
    "    for index_i in range(len(update_GB_antic_list_velocity_AllList)):\n",
    "        tmp_update_GB_antic_list_velocity_AllList =[]\n",
    "        tmp_update_GB_antic_list_curvature_AllList =[]\n",
    "        tmp_update_GB_antic_list_GBenergy_AllList = []\n",
    "        tmp_update_GB_antic_list_anticNum_AllList = []\n",
    "        tmp_update_GB_antic_list_area_AllList = []\n",
    "        tmp_update_GB_antic_list_dV_normD_AllList = []\n",
    "        tmp_update_GB_antic_list_dV_antiD_AllList = []\n",
    "        for index_j in range(len(update_GB_antic_list_velocity_AllList[index_i])):\n",
    "            if GB_antic_list_dV_antiD_AllList[index_i][index_j]/(GB_antic_list_dV_normD_AllList[index_i][index_j]+GB_antic_list_dV_antiD_AllList[index_i][index_j]) > confidence_factor:\n",
    "                tmp_update_GB_antic_list_velocity_AllList.append(GB_antic_list_velocity_AllList[index_i][index_j])\n",
    "                tmp_update_GB_antic_list_curvature_AllList.append(GB_antic_list_curvature_AllList[index_i][index_j])\n",
    "                tmp_update_GB_antic_list_GBenergy_AllList.append(GB_antic_list_GBenergy_AllList[index_i][index_j])\n",
    "                tmp_update_GB_antic_list_anticNum_AllList.append(GB_antic_list_anticNum_AllList[index_i][index_j])\n",
    "                tmp_update_GB_antic_list_area_AllList.append(GB_antic_list_area_AllList[index_i][index_j])\n",
    "                tmp_update_GB_antic_list_dV_normD_AllList.append(GB_antic_list_dV_normD_AllList[index_i][index_j])\n",
    "                tmp_update_GB_antic_list_dV_antiD_AllList.append(GB_antic_list_dV_antiD_AllList[index_i][index_j])\n",
    "        update_GB_antic_list_velocity_AllList.append(tmp_update_GB_antic_list_velocity_AllList)\n",
    "        update_GB_antic_list_curvature_AllList.append(tmp_update_GB_antic_list_curvature_AllList)\n",
    "        update_GB_antic_list_GBenergy_AllList.append(tmp_update_GB_antic_list_GBenergy_AllList)\n",
    "        update_GB_antic_list_anticNum_AllList.append(tmp_update_GB_antic_list_anticNum_AllList)\n",
    "        update_GB_antic_list_area_AllList.append(tmp_update_GB_antic_list_area_AllList)\n",
    "        update_GB_antic_list_dV_normD_AllList.append(tmp_update_GB_antic_list_dV_normD_AllList)\n",
    "        update_GB_antic_list_dV_antiD_AllList.append(tmp_update_GB_antic_list_dV_antiD_AllList)\n",
    "        \n",
    "        \n",
    "    update_GB_normc_list_velocity_AllList = []\n",
    "    update_GB_normc_list_curvature_AllList = []\n",
    "    update_GB_normc_list_GBenergy_AllList = []\n",
    "    update_GB_normc_list_area_AllList = []\n",
    "    update_GB_normc_list_dV_normD_AllList = []\n",
    "    update_GB_normc_list_dV_antiD_AllList = []\n",
    "    \n",
    "    update_GB_normc_list_velocity_list = []\n",
    "    update_GB_normc_list_curvature_list = []\n",
    "    update_GB_normc_list_GBenergy_list = []\n",
    "    update_GB_normc_list_area_list = []\n",
    "    update_GB_normc_list_dV_normD_list = []\n",
    "    update_GB_normc_list_dV_antiD_list = []\n",
    "    for index in range(len(GB_normc_list_velocity_list)):\n",
    "        if GB_normc_list_dV_normD_list[index]/(GB_normc_list_dV_normD_list[index]+GB_normc_list_dV_antiD_list[index]) > confidence_factor:\n",
    "            update_GB_normc_list_velocity_list.append(GB_normc_list_velocity_list[index])\n",
    "            update_GB_normc_list_curvature_list.append(GB_normc_list_curvature_list[index])\n",
    "            update_GB_normc_list_GBenergy_list.append(GB_normc_list_GBenergy_list[index])\n",
    "            update_GB_normc_list_area_list.append(GB_normc_list_area_list[index])\n",
    "            update_GB_normc_list_dV_normD_list.append(GB_normc_list_dV_normD_list[index])\n",
    "            update_GB_normc_list_dV_antiD_list.append(GB_normc_list_dV_antiD_list[index])\n",
    "    for index_i in range(len(update_GB_normc_list_velocity_AllList)):\n",
    "        tmp_update_GB_normc_list_velocity_AllList =[]\n",
    "        tmp_update_GB_normc_list_curvature_AllList =[]\n",
    "        tmp_update_GB_normc_list_GBenergy_AllList = []\n",
    "        tmp_update_GB_normc_list_area_AllList = []\n",
    "        tmp_update_GB_normc_list_dV_normD_AllList = []\n",
    "        tmp_update_GB_normc_list_dV_antiD_AllList = []\n",
    "        for index_j in range(len(update_GB_normc_list_velocity_AllList[index_i])):\n",
    "            if GB_normc_list_dV_normD_AllList[index_i][index_j]/(GB_normc_list_dV_normD_AllList[index_i][index_j]+GB_normc_list_dV_antiD_AllList[index_i][index_j]) > confidence_factor:\n",
    "                tmp_update_GB_normc_list_velocity_AllList.append(GB_normc_list_velocity_AllList[index_i][index_j])\n",
    "                tmp_update_GB_normc_list_curvature_AllList.append(GB_normc_list_curvature_AllList[index_i][index_j])\n",
    "                tmp_update_GB_normc_list_GBenergy_AllList.append(GB_normc_list_GBenergy_AllList[index_i][index_j])\n",
    "                tmp_update_GB_normc_list_area_AllList.append(GB_normc_list_area_AllList[index_i][index_j])\n",
    "                tmp_update_GB_normc_list_dV_normD_AllList.append(GB_normc_list_dV_normD_AllList[index_i][index_j])\n",
    "                tmp_update_GB_normc_list_dV_antiD_AllList.append(GB_normc_list_dV_antiD_AllList[index_i][index_j])\n",
    "        update_GB_normc_list_velocity_AllList.append(tmp_update_GB_normc_list_velocity_AllList)\n",
    "        update_GB_normc_list_curvature_AllList.append(tmp_update_GB_normc_list_curvature_AllList)\n",
    "        update_GB_normc_list_GBenergy_AllList.append(tmp_update_GB_normc_list_GBenergy_AllList)\n",
    "        update_GB_normc_list_area_AllList.append(tmp_update_GB_normc_list_area_AllList)\n",
    "        update_GB_normc_list_dV_normD_AllList.append(tmp_update_GB_normc_list_dV_normD_AllList)\n",
    "        update_GB_normc_list_dV_antiD_AllList.append(tmp_update_GB_normc_list_dV_antiD_AllList)\n",
    "        \n",
    "            \n",
    "    "
   ]
  },
  {
   "cell_type": "code",
   "execution_count": 10,
   "id": "21431b14-ebd8-46a5-97b8-07e62ade892d",
   "metadata": {
    "tags": []
   },
   "outputs": [
    {
     "name": "stdout",
     "output_type": "stream",
     "text": [
      "Voxels on anti-c GBs\n",
      "The number of the normal voxels and antic voxels during whole simulations are 4932 and 3794335\n",
      "The ratio of anti-curvature voxels during whole simulations is 99.87018548577923% in 3799267 voxels\n",
      "\n",
      "Voxels on norm-c GBs\n",
      "The number of the normal voxels and antic voxels during whole simulations are 57259666 and 67949\n",
      "The ratio of norm-curvature voxels during whole simulations is 99.88147248058374% in 57327615 voxels\n",
      "\n",
      "anti-c GB before removing low fraction\n",
      "The number of the GBs showing anti-curvature during whole simulations is 114697\n",
      "The ratio of anti-curvature and norm GBs during whole simulations is 20.29191398267977% and 79.70808601732024% in 565235 GBs\n",
      "\n",
      "anti-c GB after removing low fraction\n",
      "The number of the GBs showing anti-curvature during whole simulations is 23816\n",
      "The ratio of anti-curvature and norm GBs during whole simulations is 4.213468734243279% and 33.65025166523659% in 565235 GBs\n",
      "\n",
      "The ratio of anti-curvature and norm GBs during whole simulations is (original GBs number) 1.858848927938384% and 14.845425035298303% in 1281223 GBs\n",
      "\n"
     ]
    }
   ],
   "source": [
    "    print(\"Voxels on anti-c GBs\")\n",
    "    normal_growth_voxel = 0\n",
    "    antic_growth_voxel = 0\n",
    "    # calculate anti-c voxels fraction\n",
    "    normal_growth_voxel = np.sum(update_GB_antic_list_dV_normD_list)\n",
    "    antic_growth_voxel = np.sum(update_GB_antic_list_dV_antiD_list)\n",
    "    print(f\"The number of the normal voxels and antic voxels during whole simulations are {normal_growth_voxel} and {antic_growth_voxel}\")\n",
    "    print(f\"The ratio of anti-curvature voxels during whole simulations is {antic_growth_voxel/(antic_growth_voxel+normal_growth_voxel)*100}% in {antic_growth_voxel+normal_growth_voxel} voxels\")\n",
    "    print()\n",
    "    print(\"Voxels on norm-c GBs\")\n",
    "    normal_growth_voxel = 0\n",
    "    antic_growth_voxel = 0\n",
    "    # calculate anti-c voxels fraction\n",
    "    normal_growth_voxel = np.sum(update_GB_normc_list_dV_normD_list)\n",
    "    antic_growth_voxel = np.sum(update_GB_normc_list_dV_antiD_list)\n",
    "    print(f\"The number of the normal voxels and antic voxels during whole simulations are {normal_growth_voxel} and {antic_growth_voxel}\")\n",
    "    print(f\"The ratio of norm-curvature voxels during whole simulations is {normal_growth_voxel/(antic_growth_voxel+normal_growth_voxel)*100}% in {antic_growth_voxel+normal_growth_voxel} voxels\")\n",
    "    print()\n",
    "\n",
    "    print(\"anti-c GB before removing low fraction\")\n",
    "    total_GB_num = 0\n",
    "    for time_step in range(3,step_num):\n",
    "        step_GB = GB_infomation_dict_list[time_step].keys()\n",
    "        total_GB_num += len(step_GB)\n",
    "        \n",
    "    total_GB_num_real = len(GB_antic_list_velocity_list) + len(GB_normc_list_velocity_list)\n",
    "\n",
    "    print(f\"The number of the GBs showing anti-curvature during whole simulations is {len(GB_antic_list_dV_normD_list)}\")\n",
    "    print(f\"The ratio of anti-curvature and norm GBs during whole simulations is {len(GB_antic_list_dV_normD_list)/total_GB_num_real*100}% and {len(GB_normc_list_dV_normD_list)/total_GB_num_real*100}% in {total_GB_num_real} GBs\")\n",
    "    print()\n",
    "    \n",
    "    print(\"anti-c GB after removing low fraction\")\n",
    "\n",
    "    # number of GB woth high anti-c fraction (99%)\n",
    "    print(f\"The number of the GBs showing anti-curvature during whole simulations is {len(update_GB_antic_list_dV_antiD_list)}\")\n",
    "    print(f\"The ratio of anti-curvature and norm GBs during whole simulations is {len(update_GB_antic_list_dV_antiD_list)/total_GB_num_real*100}% and {len(update_GB_normc_list_dV_antiD_list)/total_GB_num_real*100}% in {total_GB_num_real} GBs\")\n",
    "    print()\n",
    "    \n",
    "    print(f\"The ratio of anti-curvature and norm GBs during whole simulations is (original GBs number) {len(update_GB_antic_list_dV_antiD_list)/total_GB_num*100}% and {len(update_GB_normc_list_dV_antiD_list)/total_GB_num*100}% in {total_GB_num} GBs\")\n",
    "    print()\n",
    "    \n",
    "    "
   ]
  },
  {
   "cell_type": "code",
   "execution_count": null,
   "id": "61c99186-5fe1-423a-9da5-bd5ff3039de9",
   "metadata": {
    "tags": []
   },
   "outputs": [],
   "source": []
  },
  {
   "cell_type": "code",
   "execution_count": 17,
   "id": "25e58527-4bf3-4a3c-a374-9db3d7581711",
   "metadata": {
    "tags": []
   },
   "outputs": [
    {
     "name": "stdout",
     "output_type": "stream",
     "text": [
      "99.98850035825807% GBs with curvature smaller than 0.2\n",
      "4.839459191922258\n",
      "all points fitting: 0.6770155035978167\n",
      "all points slope: 2.464700575214375\n",
      "smaller points fitting: 0.9953085382984244\n",
      "smaller points slope: 7.314413590199346\n"
     ]
    },
    {
     "data": {
      "text/plain": [
       "<Figure size 432x288 with 0 Axes>"
      ]
     },
     "metadata": {},
     "output_type": "display_data"
    },
    {
     "data": {
      "image/png": "[encoded data removed]",
      "text/plain": [
       "<Figure size 360x360 with 1 Axes>"
      ]
     },
     "metadata": {
      "needs_background": "light"
     },
     "output_type": "display_data"
    },
    {
     "data": {
      "text/plain": [
       "<Figure size 432x288 with 0 Axes>"
      ]
     },
     "metadata": {},
     "output_type": "display_data"
    },
    {
     "data": {
      "image/png": "[encoded data removed]",
      "text/plain": [
       "<Figure size 360x360 with 2 Axes>"
      ]
     },
     "metadata": {
      "needs_background": "light"
     },
     "output_type": "display_data"
    }
   ],
   "source": [
    "    # All in 1 figrue\n",
    "            \n",
    "    figure_name_all = f\"figures/3D_velocity_signedcurvature_{case_name}_5d.png\"\n",
    "    plt.figure()\n",
    "    fig = plt.figure(figsize=(5, 5))\n",
    "    plt.plot([curvature_limit,0.5],[0,0],'-',color='grey',linewidth=2)\n",
    "    plt.scatter(GB_normc_list_curvature_list, GB_normc_list_velocity_list,s=4,alpha=0.5)\n",
    "    plt.scatter(GB_antic_list_curvature_list, GB_antic_list_velocity_list,s=4,alpha=0.5,color='C01')\n",
    "    plt.xlabel(\"curvature\", fontsize=20)\n",
    "    plt.ylabel(\"velocity (voxel/step)\", fontsize=18)\n",
    "    plt.xlim([curvature_limit,0.5])\n",
    "    plt.ylim([-4.0,4.0])\n",
    "    plt.savefig(figure_name_all, dpi=400,bbox_inches='tight')\n",
    "    \n",
    "    # hot figure\n",
    "    # Create a 2D histogram to approximate density\n",
    "    x_bins = np.linspace( 0, 0.8, 40)  # X-axis bins (adjust based on your data)\n",
    "    y_bins = np.linspace(-5.0, 5.0, 40)  # Y-axis bins (adjust based on your data)\n",
    "    hist, x_edges, y_edges = np.histogram2d(GB_normc_list_curvature_list+GB_antic_list_curvature_list, GB_normc_list_velocity_list+GB_antic_list_velocity_list, bins=[x_bins, y_bins])\n",
    "    # Compute the bin centers\n",
    "    x_centers = (x_edges[:-1] + x_edges[1:]) / 2\n",
    "    y_centers = (y_edges[:-1] + y_edges[1:]) / 2\n",
    "    \n",
    "    # bin plot\n",
    "    bin_interval = 0.01\n",
    "    x_lim = [0.0,0.5]\n",
    "    bin_number = int((x_lim[1]-x_lim[0])/bin_interval)\n",
    "    curvature_coordinate = np.arange(x_lim[0],x_lim[1],bin_interval)+bin_interval/2\n",
    "    \n",
    "    curvature_bin_counts = np.zeros(bin_number)\n",
    "    velocity_bin_sums = np.zeros(bin_number)\n",
    "    velocity_bin_squared_sums = np.zeros(bin_number)\n",
    "\n",
    "    new_curvature_1Dlist_remove_0step = GB_normc_list_curvature_list + GB_antic_list_curvature_list\n",
    "    print(f\"{np.sum(np.array(new_curvature_1Dlist_remove_0step)<0.2)/len(new_curvature_1Dlist_remove_0step)*100}% GBs with curvature smaller than 0.2\")\n",
    "    new_velocity_1Dlist_remove_0step = GB_normc_list_velocity_list + GB_antic_list_velocity_list\n",
    "\n",
    "    for index in range(len(new_curvature_1Dlist_remove_0step)):\n",
    "        curvature_val = new_curvature_1Dlist_remove_0step[index]\n",
    "        velocity_val = new_velocity_1Dlist_remove_0step[index]\n",
    "        if abs(curvature_val) > x_lim[1]:\n",
    "            continue\n",
    "        bin_idx = int((curvature_val - x_lim[0]) // bin_interval)\n",
    "        curvature_bin_counts[bin_idx] += 1\n",
    "        velocity_bin_sums[bin_idx] += velocity_val\n",
    "        velocity_bin_squared_sums[bin_idx] += velocity_val ** 2\n",
    "\n",
    "    velocity_bin_means = np.zeros(bin_number)\n",
    "    velocity_bin_stds = np.zeros(bin_number)\n",
    "\n",
    "    for i in range(bin_number):\n",
    "        if curvature_bin_counts[i] > 0:\n",
    "            velocity_bin_means[i] = velocity_bin_sums[i] / curvature_bin_counts[i]\n",
    "            velocity_bin_stds[i] = np.sqrt((velocity_bin_squared_sums[i] / curvature_bin_counts[i]) - velocity_bin_means[i]**2)\n",
    "\n",
    "    \n",
    "    \n",
    "    figure_name_all = f\"figures/3D_velocity_signedcurvature_hotUpdate_{case_name}_5d.png\"\n",
    "    plt.figure()\n",
    "    fig = plt.figure(figsize=(5, 5))\n",
    "    plt.plot([curvature_limit,0.5],[0,0],'-',color='grey',linewidth=2)\n",
    "    X, Y = np.meshgrid(x_centers, y_centers)\n",
    "    hist.T[hist.T==0] = 1\n",
    "    print(np.max(np.log10(hist.T)))\n",
    "    plt.contour(X, Y, np.log10(hist.T), levels=20, cmap='gray', alpha=0.1,vmin=0,vmax=4.9)\n",
    "    plt.contourf(X, Y, np.log10(hist.T), levels=20, cmap='coolwarm', alpha=0.9,vmin=0,vmax=4.9)\n",
    "    sm = plt.cm.ScalarMappable(cmap='coolwarm',norm=plt.Normalize(vmin=0,vmax=4.9))\n",
    "    cbar = plt.colorbar(sm)\n",
    "    cbar.set_label(u\"$\\log_{10}(density)$\", fontsize=20)\n",
    "    \n",
    "    # plt.plot(curvature_coordinate[velocity_bin!=0], velocity_bin[velocity_bin!=0],'o-', c='k', linewidth=1)\n",
    "    valid_bins = curvature_bin_counts > 10\n",
    "    plt.errorbar(curvature_coordinate[valid_bins], velocity_bin_means[valid_bins], yerr=velocity_bin_stds[valid_bins],\n",
    "             fmt='o', color='k', linewidth=1, capsize=1, ecolor='black', markersize=2)\n",
    "    \n",
    "    # Linear fit for all valid bins\n",
    "    x_all = curvature_coordinate[valid_bins]\n",
    "    y_all = velocity_bin_means[valid_bins]\n",
    "    p_all = np.polyfit(x_all, y_all, 1)\n",
    "    y_pred_all = np.polyval(p_all, x_all)\n",
    "    r2_all = 1 - np.sum((y_all - y_pred_all)**2) / np.sum((y_all - np.mean(y_all))**2)\n",
    "    print(f\"all points fitting: {r2_all}\")\n",
    "    print(f\"all points slope: {p_all[0]}\")\n",
    "    \n",
    "    # Linear fit for valid bins with curvature < 0.05\n",
    "    mask_sub = x_all < 0.05\n",
    "    x_sub = x_all[mask_sub]\n",
    "    y_sub = y_all[mask_sub]\n",
    "    if len(x_sub) > 1:\n",
    "        p_sub = np.polyfit(x_sub, y_sub, 1)\n",
    "        y_pred_sub = np.polyval(p_sub, x_sub)\n",
    "        r2_sub = 1 - np.sum((y_sub - y_pred_sub)**2) / np.sum((y_sub - np.mean(y_sub))**2)\n",
    "    else:\n",
    "        r2_sub = np.nan\n",
    "    print(f\"smaller points fitting: {r2_sub}\")\n",
    "    print(f\"smaller points slope: {p_sub[0]}\")\n",
    "    \n",
    "    # Plot linear fits\n",
    "    plt.plot(x_all, y_pred_all, '-', color='C1', linewidth=3, label=rf'All (R$^2$={r2_all:.3f})')\n",
    "    if len(x_sub) > 1:\n",
    "        plt.plot(x_sub, y_pred_sub, '-', color='C2', linewidth=3, label=rf'$\\kappa$<0.05 (R$^2$={r2_sub:.3f})')\n",
    "    plt.legend(loc='lower right', fontsize=14)\n",
    "    \n",
    "    \n",
    "    plt.xlabel(\"curvature\", fontsize=20)\n",
    "    plt.ylabel(\"velocity (voxel/step)\", fontsize=20)\n",
    "    plt.xlim([curvature_limit,0.5])\n",
    "    plt.ylim([-4.0,4.0])\n",
    "    plt.savefig(figure_name_all, dpi=400,bbox_inches='tight')\n",
    "    \n"
   ]
  },
  {
   "cell_type": "code",
   "execution_count": null,
   "id": "5a2dbcb5-75bf-43f0-8cf3-9486dc998e84",
   "metadata": {
    "tags": []
   },
   "outputs": [],
   "source": []
  },
  {
   "cell_type": "code",
   "execution_count": 12,
   "id": "96203cab-0393-40ca-b372-89bb3d25a952",
   "metadata": {
    "tags": []
   },
   "outputs": [
    {
     "data": {
      "text/plain": [
       "Text(0, 0.5, 'velocity (voxel/step)')"
      ]
     },
     "execution_count": 12,
     "metadata": {},
     "output_type": "execute_result"
    },
    {
     "data": {
      "text/plain": [
       "<Figure size 432x288 with 0 Axes>"
      ]
     },
     "metadata": {},
     "output_type": "display_data"
    },
    {
     "data": {
      "image/png": "[encoded data removed]",
      "text/plain": [
       "<Figure size 360x360 with 1 Axes>"
      ]
     },
     "metadata": {
      "needs_background": "light"
     },
     "output_type": "display_data"
    },
    {
     "data": {
      "text/plain": [
       "<Figure size 432x288 with 0 Axes>"
      ]
     },
     "metadata": {},
     "output_type": "display_data"
    },
    {
     "data": {
      "image/png": "[encoded data removed]",
      "text/plain": [
       "<Figure size 360x360 with 1 Axes>"
      ]
     },
     "metadata": {
      "needs_background": "light"
     },
     "output_type": "display_data"
    },
    {
     "data": {
      "text/plain": [
       "<Figure size 432x288 with 0 Axes>"
      ]
     },
     "metadata": {},
     "output_type": "display_data"
    },
    {
     "data": {
      "image/png": "[encoded data removed]",
      "text/plain": [
       "<Figure size 504x504 with 1 Axes>"
      ]
     },
     "metadata": {
      "needs_background": "light"
     },
     "output_type": "display_data"
    }
   ],
   "source": [
    "    # All in 1 figrue\n",
    "            \n",
    "    figure_name_all = f\"figures/3D_velocity_signedcurvature_confi_{case_name}_5d.png\"\n",
    "    plt.figure()\n",
    "    fig = plt.figure(figsize=(5, 5))\n",
    "    plt.plot([curvature_limit,0.5],[0,0],'-',color='grey',linewidth=2)\n",
    "    plt.scatter(update_GB_normc_list_curvature_list, update_GB_normc_list_velocity_list,s=4,alpha=0.5)\n",
    "    plt.scatter(update_GB_antic_list_curvature_list, update_GB_antic_list_velocity_list,s=4,alpha=0.5,color='C01')\n",
    "    plt.xlabel(\"curvature\", fontsize=20)\n",
    "    plt.ylabel(\"velocity (voxel/step)\", fontsize=18)\n",
    "    plt.xlim([curvature_limit,0.5])\n",
    "    plt.ylim([-4.0,4.0])\n",
    "    plt.savefig(figure_name_all, dpi=400,bbox_inches='tight')\n",
    "    \n",
    "    # hot figure\n",
    "    # Create a 2D histogram to approximate density\n",
    "    x_bins = np.linspace( 0, 0.8, 40)  # X-axis bins (adjust based on your data)\n",
    "    y_bins = np.linspace(-5.0, 5.0, 40)  # Y-axis bins (adjust based on your data)\n",
    "    hist, x_edges, y_edges = np.histogram2d(update_GB_normc_list_curvature_list+update_GB_antic_list_curvature_list, update_GB_normc_list_velocity_list+update_GB_antic_list_velocity_list, bins=[x_bins, y_bins])\n",
    "    # Compute the bin centers\n",
    "    x_centers = (x_edges[:-1] + x_edges[1:]) / 2\n",
    "    y_centers = (y_edges[:-1] + y_edges[1:]) / 2\n",
    "    \n",
    "    figure_name_all = f\"figures/3D_velocity_signedcurvature_confi_hotUpdate_{case_name}_5d.png\"\n",
    "    plt.figure()\n",
    "    fig = plt.figure(figsize=(5, 5))\n",
    "    plt.plot([curvature_limit,0.5],[0,0],'-',color='grey',linewidth=2)\n",
    "    X, Y = np.meshgrid(x_centers, y_centers)\n",
    "    hist.T[hist.T==0] = 0.5\n",
    "    plt.contourf(X, Y, np.log(hist.T), levels=20, cmap='coolwarm', alpha=0.9)\n",
    "    plt.contour(X, Y, np.log(hist.T), levels=20, cmap='gray', alpha=0.1)\n",
    "    plt.xlabel(\"curvature\", fontsize=20)\n",
    "    plt.ylabel(\"velocity (voxel/step)\", fontsize=20)\n",
    "    plt.xlim([curvature_limit,0.5])\n",
    "    plt.ylim([-4.0,4.0])\n",
    "    plt.savefig(figure_name_all, dpi=400,bbox_inches='tight')\n",
    "    \n",
    "    # plot velocity VS averaged curvature\n",
    "    bin_interval = 0.001\n",
    "    x_lim = [0.0,0.5]\n",
    "    bin_number = int((x_lim[1]-x_lim[0])/bin_interval)\n",
    "    curvature_coordinate = np.arange(x_lim[0],x_lim[1],bin_interval)+bin_interval/2\n",
    "\n",
    "    curvature_bin = np.zeros(bin_number)\n",
    "    velocity_bin = np.zeros(bin_number)\n",
    "    new_curvature_1Dlist_remove_0step = update_GB_normc_list_curvature_list + update_GB_antic_list_curvature_list\n",
    "    new_velocity_1Dlist_remove_0step = update_GB_normc_list_velocity_list + update_GB_antic_list_velocity_list\n",
    "    for index in range(len(new_curvature_1Dlist_remove_0step)):\n",
    "        if abs(new_curvature_1Dlist_remove_0step[index])>x_lim[1]: continue\n",
    "        curvature_bin[int((new_curvature_1Dlist_remove_0step[index]-x_lim[0])//bin_interval)] += 1\n",
    "        velocity_bin[int((new_curvature_1Dlist_remove_0step[index]-x_lim[0])//bin_interval)] += new_velocity_1Dlist_remove_0step[index]\n",
    "    for i in range(bin_number): \n",
    "        if curvature_bin[i]>0: velocity_bin[i] = velocity_bin[i]/curvature_bin[i]\n",
    "    # plot\n",
    "    figure_name_all_bin = f\"figures/3D_velocity_signedcurvature_confi_{case_name}_5d_afterBin.png\"\n",
    "    plt.figure()\n",
    "    fig = plt.figure(figsize=(7, 7))\n",
    "    # plt.scatter(curvature_coordinate, velocity_bin,s=4,alpha=0.5)\n",
    "    plt.xlim([curvature_limit,0.5])\n",
    "    plt.ylim([-1,1])\n",
    "    plt.plot(curvature_coordinate[velocity_bin!=0], velocity_bin[velocity_bin!=0],'o', linewidth=2)\n",
    "    plt.xlabel(\"curvature\", fontsize=18)\n",
    "    plt.ylabel(\"velocity (voxel/step)\", fontsize=18)\n",
    "    # plt.savefig(figure_name_all_bin, dpi=400,bbox_inches='tight')\n"
   ]
  },
  {
   "cell_type": "code",
   "execution_count": 13,
   "id": "2a3831e4-261e-4cf3-8f1a-ae5c73ed75df",
   "metadata": {
    "tags": []
   },
   "outputs": [],
   "source": [
    "#     # curvature VS area\n",
    "#     figure_name_all = f\"figures/3D_signedcurvature_area_{case_name}_5d.png\"\n",
    "#     plt.figure()\n",
    "#     fig = plt.figure(figsize=(5, 5))\n",
    "#     plt.plot([curvature_limit,0.3],[0,0],'-',color='grey',linewidth=2)\n",
    "#     plt.scatter(new_curvature_1Dlist_remove_0step, update_GB_normc_list_area_list + update_GB_antic_list_area_list,s=4,alpha=0.5)\n",
    "#     plt.xlabel(\"curvature\", fontsize=20)\n",
    "#     plt.ylabel(\"area\", fontsize=18)\n",
    "#     plt.xlim([curvature_limit,0.3])\n",
    "#     plt.ylim([50,4000])\n",
    "#     # plt.savefig(figure_name_all, dpi=400,bbox_inches='tight')\n",
    "    \n",
    "#     # plot average\n",
    "#     bin_interval = 0.001\n",
    "#     x_lim = [0.0,0.3]\n",
    "#     bin_number = int((x_lim[1]-x_lim[0])/bin_interval)\n",
    "#     curvature_coordinate = np.arange(x_lim[0],x_lim[1],bin_interval)+bin_interval/2\n",
    "\n",
    "#     curvature_bin = np.zeros(bin_number)\n",
    "#     area_bin = np.zeros(bin_number)\n",
    "#     for index in range(len(new_curvature_1Dlist_remove_0step)):\n",
    "#         if abs(new_curvature_1Dlist_remove_0step[index])>x_lim[1]: continue\n",
    "#         curvature_bin[int((new_curvature_1Dlist_remove_0step[index]-x_lim[0])//bin_interval)] += 1\n",
    "#         area_bin[int((new_curvature_1Dlist_remove_0step[index]-x_lim[0])//bin_interval)] += (update_GB_normc_list_area_list + update_GB_antic_list_area_list)[index]\n",
    "#     for i in range(bin_number): \n",
    "#         if curvature_bin[i]>0: area_bin[i] = area_bin[i]/curvature_bin[i]\n",
    "#     # plot\n",
    "#     figure_name_all_bin = f\"figures/3D_signedcurvature_area_{case_name}_5d_afterBin.png\"\n",
    "#     plt.figure()\n",
    "#     fig = plt.figure(figsize=(7, 7))\n",
    "#     plt.xlim([curvature_limit,0.30])\n",
    "#     plt.ylim([40,400])\n",
    "#     plt.plot(curvature_coordinate[area_bin!=0], area_bin[area_bin!=0],'o', linewidth=2)\n",
    "#     plt.xlabel(\"curvature\", fontsize=18)\n",
    "#     plt.ylabel(\"area\", fontsize=18)\n",
    "#     # plt.savefig(figure_name_all_bin, dpi=400,bbox_inches='tight')"
   ]
  },
  {
   "cell_type": "code",
   "execution_count": 14,
   "id": "8ed728f9-8df4-4892-8f4d-cccd7c2ef193",
   "metadata": {
    "tags": []
   },
   "outputs": [
    {
     "data": {
      "text/plain": [
       "Text(0, 0.5, 'velocity (voxel/step)')"
      ]
     },
     "execution_count": 14,
     "metadata": {},
     "output_type": "execute_result"
    },
    {
     "data": {
      "text/plain": [
       "<Figure size 432x288 with 0 Axes>"
      ]
     },
     "metadata": {},
     "output_type": "display_data"
    },
    {
     "data": {
      "image/png": "[encoded data removed]",
      "text/plain": [
       "<Figure size 360x360 with 1 Axes>"
      ]
     },
     "metadata": {
      "needs_background": "light"
     },
     "output_type": "display_data"
    },
    {
     "data": {
      "text/plain": [
       "<Figure size 432x288 with 0 Axes>"
      ]
     },
     "metadata": {},
     "output_type": "display_data"
    },
    {
     "data": {
      "image/png": "[encoded data removed]",
      "text/plain": [
       "<Figure size 504x504 with 1 Axes>"
      ]
     },
     "metadata": {
      "needs_background": "light"
     },
     "output_type": "display_data"
    }
   ],
   "source": [
    "    # area VS velocity\n",
    "    figure_name_all = f\"figures/3D_velocity_area_{case_name}_5d.png\"\n",
    "    plt.figure()\n",
    "    fig = plt.figure(figsize=(5, 5))\n",
    "    # plt.scatter(area_1Dlist_remove_0step[velocity_1Dlist_remove_0step>0], velocity_1Dlist_remove_0step[velocity_1Dlist_remove_0step>0],s=4,alpha=0.5)\n",
    "    plt.scatter(update_GB_normc_list_area_list, update_GB_normc_list_velocity_list,s=4,alpha=0.5)\n",
    "    plt.scatter(update_GB_antic_list_area_list, update_GB_antic_list_velocity_list,s=4,alpha=0.5,color='C01')\n",
    "    plt.xlabel(\"area\", fontsize=20)\n",
    "    plt.ylabel(\"velocity (voxel/step)\", fontsize=18)\n",
    "    plt.xlim([50,4000])\n",
    "    plt.ylim([-5,5])\n",
    "    plt.savefig(figure_name_all, dpi=400,bbox_inches='tight')\n",
    "    \n",
    "    # plot velocity VS averaged area\n",
    "    bin_interval = 1\n",
    "    x_lim = [0.0,6000]\n",
    "    bin_number = int((x_lim[1]-x_lim[0])/bin_interval)\n",
    "    area_coordinate = np.arange(x_lim[0],x_lim[1],bin_interval)+bin_interval/2\n",
    "\n",
    "    area_bin = np.zeros(bin_number)\n",
    "    velocity_bin = np.zeros(bin_number)\n",
    "    antic_num_bin = np.zeros(bin_number)\n",
    "    new_area_1Dlist_remove_0step = update_GB_normc_list_area_list + update_GB_antic_list_area_list\n",
    "    new_velocity_1Dlist_remove_0step = update_GB_normc_list_velocity_list + update_GB_antic_list_velocity_list\n",
    "    for index in range(len(new_area_1Dlist_remove_0step)):\n",
    "        if abs(new_area_1Dlist_remove_0step[index])>x_lim[1]: continue\n",
    "        area_bin[int((new_area_1Dlist_remove_0step[index]-x_lim[0])//bin_interval)] += 1\n",
    "        velocity_bin[int((new_area_1Dlist_remove_0step[index]-x_lim[0])//bin_interval)] += new_velocity_1Dlist_remove_0step[index]\n",
    "        if new_velocity_1Dlist_remove_0step[index] < 0: antic_num_bin[int((new_area_1Dlist_remove_0step[index]-x_lim[0])//bin_interval)] += 1\n",
    "    for i in range(bin_number): \n",
    "        if area_bin[i]>0: velocity_bin[i] = velocity_bin[i]/area_bin[i]\n",
    "    # plot\n",
    "    figure_name_all_bin = f\"figures/3D_velocity_area_{case_name}_5d_afterBin.png\"\n",
    "    plt.figure()\n",
    "    fig = plt.figure(figsize=(7, 7))\n",
    "    plt.xlim([50,4000])\n",
    "    plt.ylim([-1,1])\n",
    "    plt.plot(area_coordinate[velocity_bin!=0], velocity_bin[velocity_bin!=0],'o', linewidth=2)\n",
    "    plt.xlabel(\"area\", fontsize=18)\n",
    "    plt.ylabel(\"velocity (voxel/step)\", fontsize=18)\n",
    "    # plt.savefig(figure_name_all_bin, dpi=400,bbox_inches='tight')"
   ]
  },
  {
   "cell_type": "code",
   "execution_count": 15,
   "id": "efc0a29c-6280-420c-96d0-ce5e1b9dea1c",
   "metadata": {
    "tags": []
   },
   "outputs": [
    {
     "name": "stdout",
     "output_type": "stream",
     "text": [
      "average area is 164.35129591297968\n"
     ]
    },
    {
     "data": {
      "text/plain": [
       "<Figure size 432x288 with 0 Axes>"
      ]
     },
     "metadata": {},
     "output_type": "display_data"
    },
    {
     "data": {
      "image/png": "[encoded data removed]",
      "text/plain": [
       "<Figure size 504x504 with 1 Axes>"
      ]
     },
     "metadata": {
      "needs_background": "light"
     },
     "output_type": "display_data"
    },
    {
     "data": {
      "text/plain": [
       "<Figure size 432x288 with 0 Axes>"
      ]
     },
     "metadata": {},
     "output_type": "display_data"
    },
    {
     "data": {
      "image/png": "[encoded data removed]",
      "text/plain": [
       "<Figure size 504x504 with 1 Axes>"
      ]
     },
     "metadata": {
      "needs_background": "light"
     },
     "output_type": "display_data"
    }
   ],
   "source": [
    "    # anti-c fraction VS area bin\n",
    "    plt.figure()\n",
    "    fig = plt.figure(figsize=(7, 7))\n",
    "    plt.xlim([50,1000])\n",
    "    plt.ylim([0,0.01])\n",
    "    plt.plot(area_coordinate, area_bin/np.sum(area_bin),'-', linewidth=2)\n",
    "    plt.xlabel(\"area\", fontsize=18)\n",
    "    plt.ylabel(\"distribution\", fontsize=18)\n",
    "    \n",
    "    antic_ratio_bin = np.zeros(bin_number)\n",
    "    for bin_i in range(len(area_bin)):\n",
    "        if area_bin[bin_i] > 0: antic_ratio_bin[bin_i] = antic_num_bin[bin_i]/area_bin[bin_i]\n",
    "    plt.figure()\n",
    "    fig = plt.figure(figsize=(7, 7))\n",
    "    plt.xlim([50,1000])\n",
    "    plt.ylim([0,1.1])\n",
    "    plt.plot(area_coordinate[antic_ratio_bin>0], antic_ratio_bin[antic_ratio_bin>0],'o', linewidth=2)\n",
    "    plt.xlabel(\"area\", fontsize=18)\n",
    "    plt.ylabel(\"anti-curvature fraction\", fontsize=18)\n",
    "    \n",
    "    print(f\"average area is {np.mean(new_area_1Dlist_remove_0step)}\")"
   ]
  },
  {
   "cell_type": "code",
   "execution_count": 16,
   "id": "2f952603-c1b8-4aae-8900-25fef984672d",
   "metadata": {
    "tags": []
   },
   "outputs": [
    {
     "name": "stdout",
     "output_type": "stream",
     "text": [
      "-0.013312203101183692\n"
     ]
    },
    {
     "data": {
      "text/plain": [
       "Text(0, 0.5, 'num of site')"
      ]
     },
     "execution_count": 16,
     "metadata": {},
     "output_type": "execute_result"
    },
    {
     "data": {
      "text/plain": [
       "<Figure size 432x288 with 0 Axes>"
      ]
     },
     "metadata": {},
     "output_type": "display_data"
    },
    {
     "data": {
      "image/png": "[encoded data removed]",
      "text/plain": [
       "<Figure size 504x504 with 1 Axes>"
      ]
     },
     "metadata": {
      "needs_background": "light"
     },
     "output_type": "display_data"
    },
    {
     "data": {
      "text/plain": [
       "<Figure size 432x288 with 0 Axes>"
      ]
     },
     "metadata": {},
     "output_type": "display_data"
    },
    {
     "data": {
      "image/png": "[encoded data removed]",
      "text/plain": [
       "<Figure size 504x504 with 1 Axes>"
      ]
     },
     "metadata": {
      "needs_background": "light"
     },
     "output_type": "display_data"
    },
    {
     "data": {
      "text/plain": [
       "<Figure size 432x288 with 0 Axes>"
      ]
     },
     "metadata": {},
     "output_type": "display_data"
    },
    {
     "data": {
      "image/png": "[encoded data removed]",
      "text/plain": [
       "<Figure size 504x504 with 1 Axes>"
      ]
     },
     "metadata": {
      "needs_background": "light"
     },
     "output_type": "display_data"
    },
    {
     "data": {
      "text/plain": [
       "<Figure size 432x288 with 0 Axes>"
      ]
     },
     "metadata": {},
     "output_type": "display_data"
    },
    {
     "data": {
      "image/png": "[encoded data removed]",
      "text/plain": [
       "<Figure size 504x504 with 1 Axes>"
      ]
     },
     "metadata": {
      "needs_background": "light"
     },
     "output_type": "display_data"
    },
    {
     "data": {
      "text/plain": [
       "<Figure size 432x288 with 0 Axes>"
      ]
     },
     "metadata": {},
     "output_type": "display_data"
    },
    {
     "data": {
      "image/png": "[encoded data removed]",
      "text/plain": [
       "<Figure size 504x504 with 1 Axes>"
      ]
     },
     "metadata": {
      "needs_background": "light"
     },
     "output_type": "display_data"
    }
   ],
   "source": [
    "\n",
    "    figure_name_all = f\"figures/3D_velocity_GBenergy_{case_name}_5d.png\"\n",
    "    plt.figure()\n",
    "    fig = plt.figure(figsize=(7, 7))\n",
    "    # plt.scatter(GBenergy_1Dlist_remove_0step, velocity_1Dlist_remove_0step,s=4,alpha=0.5,label='All GBs')\n",
    "    # GB_antic_list_GBenergy_list = np.array(GB_antic_list_GBenergy_list)\n",
    "    # GB_antic_list_velocity_list = np.array(GB_antic_list_velocity_list)\n",
    "    # GB_antic_list_anticNum_array = np.array(GB_antic_list_anticNum_list)\n",
    "    # plt.scatter(GB_antic_list_GBenergy_list[GB_antic_list_anticNum_array>=5], GB_antic_list_velocity_list[GB_antic_list_anticNum_array>=5],s=4,alpha=0.5,label='anti-c GBs(5 steps)')\n",
    "    plt.scatter(update_GB_normc_list_GBenergy_list, update_GB_normc_list_velocity_list,s=4,alpha=0.5,label='All GBs')\n",
    "    plt.scatter(update_GB_antic_list_GBenergy_list, update_GB_antic_list_velocity_list,s=4,alpha=0.5,label='anti-c GBs(5 steps)')\n",
    "    plt.xlabel(\"GB energy\", fontsize=18)\n",
    "    plt.ylabel(\"velocity (voxel/step)\", fontsize=18)\n",
    "    plt.xlim([0.3,1.0])\n",
    "    plt.ylim([-4,4])\n",
    "    plt.legend(fontsize=18)\n",
    "    # plt.savefig(figure_name_all, dpi=400,bbox_inches='tight')\n",
    "    \n",
    "    # plot velocity VS averaged GBenergy\n",
    "    bin_interval = 0.01\n",
    "    x_lim = [0.25,1.2]\n",
    "    bin_number = int((x_lim[1]-x_lim[0])/bin_interval)\n",
    "    GBenergy_coordinate = np.arange(x_lim[0],x_lim[1],bin_interval)+bin_interval/2\n",
    "\n",
    "    GBenergy_bin = np.zeros(bin_number)\n",
    "    velocity_bin = np.zeros(bin_number)\n",
    "    antic_num_bin = np.zeros(bin_number)\n",
    "    new_GBenergy_1Dlist_remove_0step = update_GB_normc_list_GBenergy_list+update_GB_antic_list_GBenergy_list\n",
    "    new_velocity_1Dlist_remove_0step = update_GB_normc_list_velocity_list+update_GB_antic_list_velocity_list\n",
    "    for index in range(len(new_GBenergy_1Dlist_remove_0step)):\n",
    "        if abs(new_GBenergy_1Dlist_remove_0step[index])>=1.0: continue\n",
    "        GBenergy_bin[int((new_GBenergy_1Dlist_remove_0step[index]-x_lim[0])//bin_interval)] += 1\n",
    "        velocity_bin[int((new_GBenergy_1Dlist_remove_0step[index]-x_lim[0])//bin_interval)] += new_velocity_1Dlist_remove_0step[index]\n",
    "        # if new_velocity_1Dlist_remove_0step[index] < 0: antic_num_bin[int((new_GBenergy_1Dlist_remove_0step[index]-x_lim[0])//bin_interval)] += 1\n",
    "        if int((new_GBenergy_1Dlist_remove_0step[index]-x_lim[0])//bin_interval)<0: print(new_GBenergy_1Dlist_remove_0step[index])\n",
    "    for index in range(len(update_GB_antic_list_GBenergy_list)):\n",
    "        antic_num_bin[int((update_GB_antic_list_GBenergy_list[index]-x_lim[0])//bin_interval)] += 1\n",
    "    for i in range(bin_number): \n",
    "        if GBenergy_bin[i]>0: velocity_bin[i] = velocity_bin[i]/GBenergy_bin[i]\n",
    "    # plot\n",
    "    figure_name_all_bin = f\"figures/3D_velocity_GBenergy_{case_name}_5d_afterBin.png\"\n",
    "    plt.figure()\n",
    "    fig = plt.figure(figsize=(7, 7))\n",
    "    plt.xlim([0.3,1.0])\n",
    "    plt.ylim([-1,1])\n",
    "    plt.plot(GBenergy_coordinate[velocity_bin!=0], velocity_bin[velocity_bin!=0],'o', linewidth=2)\n",
    "    plt.xlabel(\"GB energy\", fontsize=18)\n",
    "    plt.ylabel(\"velocity (voxel/step)\", fontsize=18)\n",
    "    # plt.savefig(figure_name_all_bin, dpi=400,bbox_inches='tight')\n",
    "    \n",
    "    plt.figure()\n",
    "    fig = plt.figure(figsize=(7, 7))\n",
    "    plt.xlim([0.3,1.0])\n",
    "    plt.ylim([0,0.15])\n",
    "    plt.plot(GBenergy_coordinate, GBenergy_bin/np.sum(GBenergy_bin),'-', linewidth=2)\n",
    "    plt.xlabel(\"GB energy\", fontsize=18)\n",
    "    plt.ylabel(\"distribution\", fontsize=18)\n",
    "    \n",
    "    antic_ratio_bin = np.zeros(bin_number)\n",
    "    for bin_i in range(len(GBenergy_bin)):\n",
    "        if GBenergy_bin[bin_i] > 0: antic_ratio_bin[bin_i] = antic_num_bin[bin_i]/GBenergy_bin[bin_i]\n",
    "    plt.figure()\n",
    "    fig = plt.figure(figsize=(7, 7))\n",
    "    plt.xlim([0.3,1.0])\n",
    "    plt.ylim([0,0.8])\n",
    "    plt.plot(GBenergy_coordinate[antic_ratio_bin>0], antic_ratio_bin[antic_ratio_bin>0],'o', linewidth=2)\n",
    "    plt.xlabel(\"GB energy\", fontsize=18)\n",
    "    plt.ylabel(\"anti-curvature fraction\", fontsize=18)\n",
    "    \n",
    "    # anti_c_data_file_name = f\"data/3D_antic_data_{case_name}\"\n",
    "    # np.savez(anti_c_data_file_name,antic_ratio_bin=antic_ratio_bin,GBenergy_bin=GBenergy_bin)\n",
    "    \n",
    "    GBenergy_coordinate_larger0 = GBenergy_coordinate[antic_ratio_bin>0]\n",
    "    delta_n = -0.66*np.log(antic_ratio_bin[antic_ratio_bin>0])/GBenergy_coordinate[antic_ratio_bin>0]\n",
    "    mean_delta_n = np.mean(delta_n)\n",
    "    mean_delta_n_2 = np.sum(delta_n*GBenergy_bin[antic_ratio_bin>0]/np.sum(GBenergy_bin[antic_ratio_bin>0]))\n",
    "    print(mean_delta_n_2)\n",
    "    plt.figure()\n",
    "    fig = plt.figure(figsize=(7, 7))\n",
    "    plt.xlim([0.3,1.0])\n",
    "    plt.ylim([0,5])\n",
    "    plt.plot(GBenergy_coordinate_larger0, delta_n,'o', linewidth=2, label = 'results')\n",
    "    plt.plot(GBenergy_coordinate_larger0, mean_delta_n*np.ones(len(GBenergy_coordinate_larger0)),'--',linewidth=2,color='gray',label=f'mean-{round(mean_delta_n,2)}')\n",
    "    plt.legend(fontsize=18)\n",
    "    plt.xlabel(\"GB energy\", fontsize=18)\n",
    "    plt.ylabel(\"num of site\", fontsize=18)\n",
    "        \n"
   ]
  },
  {
   "cell_type": "code",
   "execution_count": null,
   "id": "a1744cc8-f4b0-465f-92ea-68804da5076f",
   "metadata": {
    "tags": []
   },
   "outputs": [],
   "source": []
  },
  {
   "cell_type": "code",
   "execution_count": null,
   "id": "a02be276-7b6a-4ee7-975b-23800e3f3269",
   "metadata": {
    "tags": []
   },
   "outputs": [],
   "source": []
  },
  {
   "cell_type": "markdown",
   "id": "efc407cd-7fca-42e6-9196-36711a6a5814",
   "metadata": {
    "tags": []
   },
   "source": [
    "## For one time step"
   ]
  },
  {
   "cell_type": "code",
   "execution_count": 20,
   "id": "2c87f37d-c086-46cc-9cd1-4fa7cdfe3b68",
   "metadata": {},
   "outputs": [
    {
     "name": "stderr",
     "output_type": "stream",
     "text": [
      " 51%|█████▏    | 39/76 [01:16<01:12,  1.97s/it]\n"
     ]
    }
   ],
   "source": [
    " \n",
    "    expected_grain_num = 1000\n",
    "    \n",
    "    # get corresponding step\n",
    "    grain_num_array = np.zeros(npy_file_aniso.shape[0])\n",
    "    for time_step in tqdm(range(npy_file_aniso.shape[0])):\n",
    "        # Calculate the number of grains\n",
    "        unique_id_num = len(np.unique(npy_file_aniso[time_step,:]))\n",
    "        grain_num_array[time_step] = unique_id_num\n",
    "        if unique_id_num < expected_grain_num*0.9: break # jump out of the loop if the id is too less\n",
    "    expected_step = int(np.argmin(abs(grain_num_array - expected_grain_num)))\n",
    "    "
   ]
  },
  {
   "cell_type": "code",
   "execution_count": 21,
   "id": "f6ac1373-cac0-435c-bc23-f9c1aa0ef8eb",
   "metadata": {},
   "outputs": [
    {
     "name": "stdout",
     "output_type": "stream",
     "text": [
      "Anti-curvature GBs at step 36 with 1000 grains is 2370\n",
      "Anti-curvature fraction at step 36 with 1000 grains is 34.89399293286219% in 6792 GBs\n"
     ]
    }
   ],
   "source": [
    "    # fraction\n",
    "    total_GB_num_1step = len(GB_infomation_dict_list[expected_step].keys())\n",
    "    anti_c_num_1step = 0\n",
    "    for key in GB_id_focus_detail:\n",
    "        if expected_step in GB_id_focus_detail[key]: anti_c_num_1step += 1\n",
    "    print(f\"Anti-curvature GBs at step {expected_step} with {expected_grain_num} grains is {anti_c_num_1step}\")\n",
    "    print(f\"Anti-curvature fraction at step {expected_step} with {expected_grain_num} grains is {anti_c_num_1step/total_GB_num_1step*100}% in {total_GB_num_1step} GBs\")\n",
    "\n"
   ]
  },
  {
   "cell_type": "code",
   "execution_count": 12,
   "id": "7ab679ee-41d7-47d6-8d75-847eeab7fe6b",
   "metadata": {},
   "outputs": [
    {
     "data": {
      "text/plain": [
       "<Figure size 432x288 with 0 Axes>"
      ]
     },
     "metadata": {},
     "output_type": "display_data"
    },
    {
     "data": {
      "image/png": "[encoded data removed]",
      "text/plain": [
       "<Figure size 360x360 with 1 Axes>"
      ]
     },
     "metadata": {
      "needs_background": "light"
     },
     "output_type": "display_data"
    },
    {
     "data": {
      "text/plain": [
       "<Figure size 432x288 with 0 Axes>"
      ]
     },
     "metadata": {},
     "output_type": "display_data"
    },
    {
     "data": {
      "image/png": "[encoded data removed]",
      "text/plain": [
       "<Figure size 504x504 with 1 Axes>"
      ]
     },
     "metadata": {
      "needs_background": "light"
     },
     "output_type": "display_data"
    }
   ],
   "source": [
    "    # All in 1 figrue\n",
    "    curvature_1Dlist_1step = GB_list_curvature_list[expected_step]\n",
    "    velocity_1Dlist_1step = GB_list_velocity_list[expected_step]\n",
    "    GBenergy_1Dlist_1step = GB_list_GBenergy_list[expected_step]\n",
    "    GB_antic_list_curvature_1step = GB_antic_list_curvature_AllList[expected_step]\n",
    "    GB_antic_list_velocity_1step = GB_antic_list_velocity_AllList[expected_step]\n",
    "    GB_antic_list_GBenergy_1step = GB_antic_list_GBenergy_AllList[expected_step]\n",
    "    GB_antic_list_anticNum_1step = GB_antic_list_anticNum_AllList[expected_step]\n",
    "    \n",
    "    # ignore the sign of curvature for all GBs list\n",
    "    for i in range(len(curvature_1Dlist_1step)):\n",
    "        if curvature_1Dlist_1step[i]<0: \n",
    "            curvature_1Dlist_1step[i] = - curvature_1Dlist_1step[i]\n",
    "            velocity_1Dlist_1step[i] = - velocity_1Dlist_1step[i]\n",
    "    velocity_1Dlist_1step = np.array(velocity_1Dlist_1step)\n",
    "    curvature_1Dlist_1step = np.array(curvature_1Dlist_1step)\n",
    "            \n",
    "    figure_name_all = f\"figures/3D_velocity_signedcurvature_{case_name}_5d_{expected_grain_num}grains.png\"\n",
    "    plt.figure()\n",
    "    fig = plt.figure(figsize=(5, 5))\n",
    "    plt.plot([curvature_limit,0.3],[0,0],'-',color='grey',linewidth=2)\n",
    "    plt.scatter(curvature_1Dlist_1step[velocity_1Dlist_1step>0], velocity_1Dlist_1step[velocity_1Dlist_1step>0],s=4,alpha=0.5)\n",
    "    # plt.scatter(curvature_1Dlist_1step[velocity_1Dlist_1step<0], velocity_1Dlist_1step[velocity_1Dlist_1step<0],s=4,alpha=0.5,color='C01')\n",
    "    plt.scatter(GB_antic_list_curvature_1step, GB_antic_list_velocity_1step,s=4,alpha=0.5,color='C01')\n",
    "    plt.xlabel(\"curvature\", fontsize=20)\n",
    "    plt.ylabel(\"velocity (voxel/step)\", fontsize=18)\n",
    "    plt.xlim([curvature_limit,0.3])\n",
    "    plt.ylim([-4.0,4.0])\n",
    "    plt.savefig(figure_name_all, dpi=400,bbox_inches='tight')\n",
    "    \n",
    "    # plot velocity VS averaged curvature\n",
    "    bin_interval = 0.001\n",
    "    x_lim = [0.0,0.3]\n",
    "    bin_number = int((x_lim[1]-x_lim[0])/bin_interval)\n",
    "    curvature_coordinate = np.arange(x_lim[0],x_lim[1],bin_interval)+bin_interval/2\n",
    "\n",
    "    curvature_bin = np.zeros(bin_number)\n",
    "    velocity_bin = np.zeros(bin_number)\n",
    "    for index in range(len(curvature_1Dlist_1step)):\n",
    "        if abs(curvature_1Dlist_1step[index])>x_lim[1]: continue\n",
    "        curvature_bin[int((curvature_1Dlist_1step[index]-x_lim[0])//bin_interval)] += 1\n",
    "        velocity_bin[int((curvature_1Dlist_1step[index]-x_lim[0])//bin_interval)] += velocity_1Dlist_1step[index]\n",
    "    for i in range(bin_number): \n",
    "        if curvature_bin[i]>0: velocity_bin[i] = velocity_bin[i]/curvature_bin[i]\n",
    "    # plot\n",
    "    figure_name_all_bin = f\"figures/3D_velocity_signedcurvature_{case_name}_5d_afterBin_{expected_grain_num}grains.png\"\n",
    "    plt.figure()\n",
    "    fig = plt.figure(figsize=(7, 7))\n",
    "    # plt.scatter(curvature_coordinate, velocity_bin,s=4,alpha=0.5)\n",
    "    plt.xlim([curvature_limit,0.3])\n",
    "    plt.ylim([-1,1])\n",
    "    plt.plot(curvature_coordinate[velocity_bin!=0], velocity_bin[velocity_bin!=0],'o', linewidth=2)\n",
    "    plt.xlabel(\"curvature\", fontsize=18)\n",
    "    plt.ylabel(\"velocity (voxel/step)\", fontsize=18)\n",
    "    plt.savefig(figure_name_all_bin, dpi=400,bbox_inches='tight')\n"
   ]
  },
  {
   "cell_type": "code",
   "execution_count": 13,
   "id": "1c863c6b-9fd9-45b7-b4ca-b9188479c80d",
   "metadata": {},
   "outputs": [
    {
     "name": "stdout",
     "output_type": "stream",
     "text": [
      "0.20764253442762368\n"
     ]
    },
    {
     "data": {
      "text/plain": [
       "Text(0, 0.5, 'num of site')"
      ]
     },
     "execution_count": 13,
     "metadata": {},
     "output_type": "execute_result"
    },
    {
     "data": {
      "text/plain": [
       "<Figure size 432x288 with 0 Axes>"
      ]
     },
     "metadata": {},
     "output_type": "display_data"
    },
    {
     "data": {
      "image/png": "[encoded data removed]",
      "text/plain": [
       "<Figure size 504x504 with 1 Axes>"
      ]
     },
     "metadata": {
      "needs_background": "light"
     },
     "output_type": "display_data"
    },
    {
     "data": {
      "text/plain": [
       "<Figure size 432x288 with 0 Axes>"
      ]
     },
     "metadata": {},
     "output_type": "display_data"
    },
    {
     "data": {
      "image/png": "[encoded data removed]",
      "text/plain": [
       "<Figure size 504x504 with 1 Axes>"
      ]
     },
     "metadata": {
      "needs_background": "light"
     },
     "output_type": "display_data"
    },
    {
     "data": {
      "text/plain": [
       "<Figure size 432x288 with 0 Axes>"
      ]
     },
     "metadata": {},
     "output_type": "display_data"
    },
    {
     "data": {
      "image/png": "[encoded data removed]",
      "text/plain": [
       "<Figure size 504x504 with 1 Axes>"
      ]
     },
     "metadata": {
      "needs_background": "light"
     },
     "output_type": "display_data"
    },
    {
     "data": {
      "text/plain": [
       "<Figure size 432x288 with 0 Axes>"
      ]
     },
     "metadata": {},
     "output_type": "display_data"
    },
    {
     "data": {
      "image/png": "[encoded data removed]",
      "text/plain": [
       "<Figure size 504x504 with 1 Axes>"
      ]
     },
     "metadata": {
      "needs_background": "light"
     },
     "output_type": "display_data"
    },
    {
     "data": {
      "text/plain": [
       "<Figure size 432x288 with 0 Axes>"
      ]
     },
     "metadata": {},
     "output_type": "display_data"
    },
    {
     "data": {
      "image/png": "[encoded data removed]",
      "text/plain": [
       "<Figure size 504x504 with 1 Axes>"
      ]
     },
     "metadata": {
      "needs_background": "light"
     },
     "output_type": "display_data"
    }
   ],
   "source": [
    "\n",
    "    figure_name_all = f\"figures/3D_velocity_GBenergy_{case_name}_5d_{expected_grain_num}grains.png\"\n",
    "    plt.figure()\n",
    "    fig = plt.figure(figsize=(7, 7))\n",
    "    plt.scatter(GBenergy_1Dlist_1step, velocity_1Dlist_1step,s=4,alpha=0.5,label='All GBs')\n",
    "    GB_antic_list_GBenergy_1step = np.array(GB_antic_list_GBenergy_1step)\n",
    "    GB_antic_list_velocity_1step = np.array(GB_antic_list_velocity_1step)\n",
    "    GB_antic_list_anticNum_1step = np.array(GB_antic_list_anticNum_1step)\n",
    "    plt.scatter(GB_antic_list_GBenergy_1step[GB_antic_list_anticNum_1step>=5], GB_antic_list_velocity_1step[GB_antic_list_anticNum_1step>=5],s=4,alpha=0.5,label='anti-c GBs(5 steps)')\n",
    "    plt.xlabel(\"GB energy\", fontsize=18)\n",
    "    plt.ylabel(\"velocity (voxel/step)\", fontsize=18)\n",
    "    plt.xlim([0.3,1.0])\n",
    "    plt.ylim([-4,4])\n",
    "    plt.legend(fontsize=18)\n",
    "    plt.savefig(figure_name_all, dpi=400,bbox_inches='tight')\n",
    "    \n",
    "    # plot velocity VS averaged GBenergy\n",
    "    bin_interval = 0.01\n",
    "    x_lim = [0.25,1.0]\n",
    "    bin_number = int((x_lim[1]-x_lim[0])/bin_interval)\n",
    "    GBenergy_coordinate = np.arange(x_lim[0],x_lim[1],bin_interval)+bin_interval/2\n",
    "\n",
    "    GBenergy_bin = np.zeros(bin_number)\n",
    "    velocity_bin = np.zeros(bin_number)\n",
    "    antic_num_bin = np.zeros(bin_number)\n",
    "    for index in range(len(GBenergy_1Dlist_1step)):\n",
    "        if abs(GBenergy_1Dlist_1step[index])>=1.0: continue\n",
    "        GBenergy_bin[int((GBenergy_1Dlist_1step[index]-x_lim[0])//bin_interval)] += 1\n",
    "        velocity_bin[int((GBenergy_1Dlist_1step[index]-x_lim[0])//bin_interval)] += velocity_1Dlist_1step[index]\n",
    "        if velocity_1Dlist_1step[index] < 0: antic_num_bin[int((GBenergy_1Dlist_1step[index]-x_lim[0])//bin_interval)] += 1\n",
    "        if int((GBenergy_1Dlist_1step[index]-x_lim[0])//bin_interval)<0: print(GBenergy_1Dlist_1step[index])\n",
    "    for i in range(bin_number): \n",
    "        if GBenergy_bin[i]>0: velocity_bin[i] = velocity_bin[i]/GBenergy_bin[i]\n",
    "    # plot\n",
    "    figure_name_all_bin = f\"figures/3D_velocity_GBenergy_{case_name}_5d_afterBin_{expected_grain_num}grains.png\"\n",
    "    plt.figure()\n",
    "    fig = plt.figure(figsize=(7, 7))\n",
    "    # plt.scatter(GBenergy_coordinate, velocity_bin,s=4,alpha=0.5)\n",
    "    plt.xlim([0.3,1.0])\n",
    "    plt.ylim([-1,1])\n",
    "    plt.plot(GBenergy_coordinate[velocity_bin!=0], velocity_bin[velocity_bin!=0],'o', linewidth=2)\n",
    "    plt.xlabel(\"GB energy\", fontsize=18)\n",
    "    plt.ylabel(\"velocity (voxel/step)\", fontsize=18)\n",
    "    plt.savefig(figure_name_all_bin, dpi=400,bbox_inches='tight')\n",
    "    \n",
    "    plt.figure()\n",
    "    fig = plt.figure(figsize=(7, 7))\n",
    "    plt.xlim([0.3,1.0])\n",
    "    plt.ylim([0,0.15])\n",
    "    plt.plot(GBenergy_coordinate, GBenergy_bin/np.sum(GBenergy_bin),'-', linewidth=2)\n",
    "    plt.xlabel(\"GB energy\", fontsize=18)\n",
    "    plt.ylabel(\"distribution\", fontsize=18)\n",
    "    \n",
    "    antic_ratio_bin = np.zeros(bin_number)\n",
    "    for bin_i in range(len(GBenergy_bin)):\n",
    "        if GBenergy_bin[bin_i] > 0: antic_ratio_bin[bin_i] = antic_num_bin[bin_i]/GBenergy_bin[bin_i]\n",
    "    plt.figure()\n",
    "    fig = plt.figure(figsize=(7, 7))\n",
    "    plt.xlim([0.3,1.0])\n",
    "    plt.ylim([0,0.8])\n",
    "    plt.plot(GBenergy_coordinate[antic_ratio_bin>0], antic_ratio_bin[antic_ratio_bin>0],'o', linewidth=2)\n",
    "    plt.xlabel(\"GB energy\", fontsize=18)\n",
    "    plt.ylabel(\"anti-curvature fraction\", fontsize=18)\n",
    "    \n",
    "    anti_c_data_file_name = f\"data/3D_antic_data_{case_name}_{expected_grain_num}grains\"\n",
    "    np.savez(anti_c_data_file_name,antic_ratio_bin=antic_ratio_bin,GBenergy_bin=GBenergy_bin)\n",
    "    \n",
    "    GBenergy_coordinate_larger0 = GBenergy_coordinate[antic_ratio_bin>0]\n",
    "    delta_n = -0.66*np.log(antic_ratio_bin[antic_ratio_bin>0])/GBenergy_coordinate[antic_ratio_bin>0]\n",
    "    mean_delta_n = np.mean(delta_n)\n",
    "    mean_delta_n_2 = np.sum(delta_n*GBenergy_bin[antic_ratio_bin>0]/np.sum(GBenergy_bin[antic_ratio_bin>0]))\n",
    "    print(mean_delta_n_2)\n",
    "    plt.figure()\n",
    "    fig = plt.figure(figsize=(7, 7))\n",
    "    plt.xlim([0.3,1.0])\n",
    "    plt.ylim([0,5])\n",
    "    plt.plot(GBenergy_coordinate_larger0, delta_n,'o', linewidth=2, label = 'results')\n",
    "    plt.plot(GBenergy_coordinate_larger0, mean_delta_n*np.ones(len(GBenergy_coordinate_larger0)),'--',linewidth=2,color='gray',label=f'mean-{round(mean_delta_n,2)}')\n",
    "    plt.legend(fontsize=18)\n",
    "    plt.xlabel(\"GB energy\", fontsize=18)\n",
    "    plt.ylabel(\"num of site\", fontsize=18)\n",
    "        \n"
   ]
  },
  {
   "cell_type": "code",
   "execution_count": null,
   "id": "ce9edf05-842a-467b-9e55-8ce1d1fde9ed",
   "metadata": {
    "tags": []
   },
   "outputs": [],
   "source": []
  },
  {
   "cell_type": "code",
   "execution_count": null,
   "id": "202e892d-2149-4fd4-ac47-878df34fda4b",
   "metadata": {},
   "outputs": [],
   "source": []
  }
 ],
 "metadata": {
  "kernelspec": {
   "display_name": "UFRC Python-3.8",
   "language": "python",
   "name": "python3-3.8-ufrc"
  },
  "language_info": {
   "codemirror_mode": {
    "name": "ipython",
    "version": 3
   },
   "file_extension": ".py",
   "mimetype": "text/x-python",
   "name": "python",
   "nbconvert_exporter": "python",
   "pygments_lexer": "ipython3",
   "version": "3.8.15"
  }
 },
 "nbformat": 4,
 "nbformat_minor": 5
}
