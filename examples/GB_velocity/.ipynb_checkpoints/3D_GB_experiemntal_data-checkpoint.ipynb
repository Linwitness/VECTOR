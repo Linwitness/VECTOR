{
 "cells": [
  {
   "cell_type": "code",
   "execution_count": 1,
   "id": "ef3bd5e3-a910-4db9-a765-2d510c20596b",
   "metadata": {
    "tags": []
   },
   "outputs": [],
   "source": [
    "import os\n",
    "current_path = os.getcwd()\n",
    "import sys\n",
    "sys.path.append(current_path)\n",
    "sys.path.append('./../../.')\n",
    "import numpy as np\n",
    "import math\n",
    "from itertools import repeat\n",
    "import h5py\n",
    "import matplotlib.pyplot as plt\n",
    "from tqdm import tqdm"
   ]
  },
  {
   "cell_type": "code",
   "execution_count": null,
   "id": "fe035799-6f77-4af5-98f1-dcf9547b61b9",
   "metadata": {},
   "outputs": [],
   "source": []
  },
  {
   "cell_type": "code",
   "execution_count": 25,
   "id": "6436e3f4-e489-471a-82d4-b2359be4e3e5",
   "metadata": {
    "tags": []
   },
   "outputs": [],
   "source": [
    "path0=\"/blue/michael.tonks/share/PRIMME_Inclination/spparks_sz(2400x2400)_ng(20000)_nsteps(1600)_freq(1.0)_kt(0.00)_cut(0).h5\"\n",
    "path1=\"/blue/michael.tonks/share/PRIMME_Inclination/spparks_sz(2400x2400)_ng(20000)_nsteps(1600)_freq(1.0)_kt(0.95)_cut(0).h5\"\n",
    "output0=\"/blue/michael.tonks/lin.yang/output_spparks_kT0.00.npy\"\n",
    "output1=\"/blue/michael.tonks/lin.yang/output_spparks_kT0.95.npy\""
   ]
  },
  {
   "cell_type": "code",
   "execution_count": 27,
   "id": "df42cd96-e73c-4b3d-add6-ee4ec6d19acf",
   "metadata": {
    "tags": []
   },
   "outputs": [],
   "source": [
    "f = h5py.File(path1, 'r')\n",
    "simulation = f['sim0']\n",
    "simulation_id = simulation['ims_id']\n",
    "prefer_steps = np.arange(0,simulation_id.shape[0],100)\n",
    "\n",
    "prefer_results = simulation_id[prefer_steps,0,:,:]\n",
    "\n",
    "np.save(output1, prefer_results)"
   ]
  },
  {
   "cell_type": "code",
   "execution_count": 28,
   "id": "81c85ffe-a62c-467b-98c2-f37e3312f8cf",
   "metadata": {
    "tags": []
   },
   "outputs": [
    {
     "data": {
      "text/plain": [
       "(17, 2400, 2400)"
      ]
     },
     "execution_count": 28,
     "metadata": {},
     "output_type": "execute_result"
    }
   ],
   "source": [
    "prefer_results.shape"
   ]
  },
  {
   "cell_type": "code",
   "execution_count": null,
   "id": "8bf28052-cf68-488d-ab27-d8452b11c0cf",
   "metadata": {},
   "outputs": [],
   "source": []
  }
 ],
 "metadata": {
  "kernelspec": {
   "display_name": "UFRC Python-3.10",
   "language": "python",
   "name": "python3-3.10-ufrc"
  },
  "language_info": {
   "codemirror_mode": {
    "name": "ipython",
    "version": 3
   },
   "file_extension": ".py",
   "mimetype": "text/x-python",
   "name": "python",
   "nbconvert_exporter": "python",
   "pygments_lexer": "ipython3",
   "version": "3.10.8"
  }
 },
 "nbformat": 4,
 "nbformat_minor": 5
}
