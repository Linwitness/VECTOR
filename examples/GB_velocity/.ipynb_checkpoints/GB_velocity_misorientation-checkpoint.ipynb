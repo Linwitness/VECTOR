{
 "cells": [
  {
   "cell_type": "code",
   "execution_count": 1,
   "id": "72c04853-1226-4b89-b9a5-7c01a6b71d55",
   "metadata": {
    "tags": []
   },
   "outputs": [
    {
     "data": {
      "text/plain": [
       "<module 'PACKAGE_MP_Linear' from '/home/lin.yang/projects/VECTOR/examples/GB_velocity/../../PACKAGE_MP_Linear.py'>"
      ]
     },
     "execution_count": 1,
     "metadata": {},
     "output_type": "execute_result"
    }
   ],
   "source": [
    "import os\n",
    "current_path = os.getcwd()\n",
    "import numpy as np\n",
    "from numpy import seterr\n",
    "seterr(all='raise')\n",
    "import matplotlib.pyplot as plt\n",
    "import math\n",
    "import random\n",
    "from tqdm import tqdm\n",
    "import sys\n",
    "sys.path.append(current_path)\n",
    "sys.path.append(current_path+'/../../')\n",
    "import myInput\n",
    "import PACKAGE_MP_Linear as linear2d\n",
    "import post_processing\n",
    "import PACKAGE_MP_3DLinear as Linear_3D\n",
    "import PACKAGE_MP_3DVertex as Vertex_3D\n",
    "sys.path.append(current_path+'/../calculate_tangent/')\n",
    "\n",
    "import importlib\n",
    "importlib.reload(post_processing)\n",
    "importlib.reload(Linear_3D)\n",
    "importlib.reload(linear2d)\n"
   ]
  },
  {
   "cell_type": "markdown",
   "id": "c7494444-7f30-4f08-b0cf-e13fa6d1fba5",
   "metadata": {},
   "source": [
    "## 2D case"
   ]
  },
  {
   "cell_type": "code",
   "execution_count": 2,
   "id": "f3dbe5e9-61e1-4337-af9b-38d810ee1003",
   "metadata": {
    "tags": []
   },
   "outputs": [
    {
     "name": "stdout",
     "output_type": "stream",
     "text": [
      "The 20k data size is: (121, 2400, 2400, 1)\n",
      "READING DATA DONE\n"
     ]
    }
   ],
   "source": [
    "if __name__ == '__main__':\n",
    "    # File name\n",
    "    init_file_folder = \"/blue/michael.tonks/lin.yang/SPPARKS-VirtualIncEnergy/2d_poly_multiCoreCompare/IC/\"\n",
    "    data_file_folder = \"/blue/michael.tonks/lin.yang/VECTOR_data/\"\n",
    "    npy_file_folder = \"/blue/michael.tonks/lin.yang/SPPARKS-VirtualIncEnergy/2d_poly_fully/results/\"\n",
    "    # npy_file_folder = \"/blue/michael.tonks/lin.yang/SPPARKS-VirtualIncEnergy/2d_poly_wellEnergy/results/\"\n",
    "    case_name = \"20k\"\n",
    "    init_file_name = f\"Case4.init\"\n",
    "    npy_file_name_aniso = f\"p_aveE_fzab_fully5d_20k_J1_f1.0_t1.0_refer_1_0_0_seed56689_kt0.66.npy\"\n",
    "    # npy_file_name_aniso = f\"p_aveE_20000_Cos_delta0.0_J1_refer_1_0_0_seed56689_kt0.66.npy\"\n",
    "    \n",
    "    # Initial data\n",
    "    npy_file_aniso = np.load(npy_file_folder + npy_file_name_aniso)\n",
    "    npy_file_aniso = npy_file_aniso.astype(int)\n",
    "    print(f\"The {case_name} data size is: {npy_file_aniso.shape}\")\n",
    "    print(\"READING DATA DONE\")\n",
    "    step_num, size_x, size_y, size_z = npy_file_aniso.shape\n",
    "    "
   ]
  },
  {
   "cell_type": "code",
   "execution_count": 3,
   "id": "df642a7e-44b7-4fdb-90d2-3595276670b0",
   "metadata": {
    "tags": []
   },
   "outputs": [
    {
     "name": "stdout",
     "output_type": "stream",
     "text": [
      "> Pre-work done\n"
     ]
    }
   ],
   "source": [
    "    # misorientation calculation preparation\n",
    "    grain_nums = 20000\n",
    "    Osym = 24\n",
    "    symm2quat_matrix, quartAngle = post_processing.pre_operation_misorientation(grain_nums, init_file_folder + init_file_name, Osym)\n",
    "    miso_dict = dict()\n",
    "    print(\"> Pre-work done\")"
   ]
  },
  {
   "cell_type": "code",
   "execution_count": 4,
   "id": "145a4562-f267-4a14-9669-484621ca4080",
   "metadata": {
    "tags": []
   },
   "outputs": [
    {
     "name": "stderr",
     "output_type": "stream",
     "text": [
      "100%|██████████| 121/121 [00:01<00:00, 91.36it/s]\n"
     ]
    }
   ],
   "source": [
    "    # Read the GB area!!\n",
    "    step_num = 121\n",
    "    GB_infomation_dict_list = []\n",
    "    for time_step in tqdm(range(step_num)):\n",
    "        data_file_name = f\"GB_velocity_data/2D_curvature_velocity_data_MI_{case_name}_step{time_step}.npz\"\n",
    "        if os.path.exists(data_file_folder + data_file_name):\n",
    "            npz_file = np.load(data_file_folder + data_file_name,allow_pickle=True)\n",
    "            GB_infomation_dict = npz_file[\"GB_infomation_dict\"]\n",
    "            GB_infomation_dict_list.append(GB_infomation_dict.item())\n",
    "        else:\n",
    "            print(\"> You need to finish the velocity-curvature calculation or velocity-inclination calculation first\")\n",
    "            "
   ]
  },
  {
   "cell_type": "code",
   "execution_count": null,
   "id": "0c5817da-dcf2-472c-a441-fb507e15a678",
   "metadata": {
    "tags": []
   },
   "outputs": [
    {
     "name": "stderr",
     "output_type": "stream",
     "text": [
      "100%|██████████| 22827/22827 [11:31<00:00, 33.01it/s]\n",
      " 19%|█▉        | 3535/18679 [02:24<08:28, 29.76it/s]"
     ]
    }
   ],
   "source": [
    "    # Get the list of velocity and misorientation\n",
    "    \n",
    "    \n",
    "    time_interval = 2\n",
    "    GB_list_velocity = np.zeros((step_num,int(grain_nums*(grain_nums+1)/2)))\n",
    "    GB_list_velocity_list = []\n",
    "    GB_list_misorientation_angle_list = []\n",
    "    GB_list_misorientation_axis_list = []\n",
    "    for time_step in range(step_num):\n",
    "        if time_step+1 >= step_num: continue\n",
    "        GB_list_velocity_list_tmp = []\n",
    "        GB_list_misorientation_angle_list_tmp = []\n",
    "        GB_list_misorientation_axis_list_tmp = []\n",
    "        for key in tqdm(GB_infomation_dict_list[time_step]):\n",
    "            if GB_infomation_dict_list[time_step+1].get(key) is None: continue\n",
    "            # Calculate volumn change\n",
    "            pair_id_pair = GB_infomation_dict_list[time_step][key][6:8]\n",
    "            growth_direction1 = (npy_file_aniso[time_step]==pair_id_pair[0])*(npy_file_aniso[time_step+1]==pair_id_pair[1])\n",
    "            growth_direction2 = (npy_file_aniso[time_step]==pair_id_pair[1])*(npy_file_aniso[time_step+1]==pair_id_pair[0])\n",
    "            dV = abs(np.sum(growth_direction1)-np.sum(growth_direction2))\n",
    "            # Calculate velocity\n",
    "            velocity = dV/time_interval/(GB_infomation_dict_list[time_step][key][5]/2)\n",
    "            GB_list_velocity_list_tmp.append(velocity)\n",
    "            \n",
    "            # Calculate misorientation\n",
    "            if key in miso_dict:\n",
    "                misorientation_angle = miso_dict[key][0]\n",
    "                misorientation_axis = miso_dict[key][1:]\n",
    "                GB_list_misorientation_angle_list_tmp.append(misorientation_angle)\n",
    "                GB_list_misorientation_axis_list_tmp.append(misorientation_axis)\n",
    "            else:\n",
    "                misorientation = post_processing.multiP_calM(list(map(int,GB_infomation_dict_list[time_step][key][6:8])), quartAngle, symm2quat_matrix, Osym)\n",
    "                misorientation_angle = misorientation[0] # miso angle\n",
    "                misorientation_axis = misorientation[1:]\n",
    "                miso_dict[key] = misorientation\n",
    "                GB_list_misorientation_angle_list_tmp.append(misorientation_angle)\n",
    "                GB_list_misorientation_axis_list_tmp.append(misorientation_axis)\n",
    "            \n",
    "        GB_list_velocity_list.append(GB_list_velocity_list_tmp)\n",
    "        GB_list_misorientation_angle_list.append(GB_list_misorientation_angle_list_tmp)\n",
    "        GB_list_misorientation_axis_list.append(GB_list_misorientation_axis_list_tmp)\n",
    "            "
   ]
  },
  {
   "cell_type": "code",
   "execution_count": null,
   "id": "ce01be9e-7e2d-4d28-b85d-a7ffc52e9378",
   "metadata": {
    "tags": []
   },
   "outputs": [],
   "source": []
  },
  {
   "cell_type": "code",
   "execution_count": null,
   "id": "5a36b78e-9694-4cac-9676-0173f132db79",
   "metadata": {
    "tags": []
   },
   "outputs": [],
   "source": [
    "    # All in 1 figrue\n",
    "    velocity_1Dlist = []\n",
    "    misorientation_angle_1Dlist = []\n",
    "    misorientation_angle_1Dlist_remove_0step = []\n",
    "    velocity_1Dlist_remove_0step = []\n",
    "    for i in range(len(GB_list_velocity_list)): \n",
    "        velocity_1Dlist.extend(GB_list_velocity_list[i])\n",
    "        misorientation_angle_1Dlist.extend(GB_list_misorientation_angle_list[i])\n",
    "        if i > 0: \n",
    "            misorientation_angle_1Dlist_remove_0step.extend(GB_list_misorientation_angle_list[i])\n",
    "            velocity_1Dlist_remove_0step.extend(GB_list_velocity_list[i])\n",
    "    figure_name_all = f\"figures/2D_velocity_misorientation_angle_MI_{case_name}_5d.png\"\n",
    "    plt.figure()\n",
    "    fig = plt.figure(figsize=(7, 7))\n",
    "    plt.scatter(misorientation_angle_1Dlist_remove_0step, velocity_1Dlist_remove_0step,s=4,alpha=0.5)\n",
    "    plt.xlabel(\"misorientation angle\", fontsize=18)\n",
    "    plt.ylabel(\"velocity (voxel/step)\", fontsize=18)\n",
    "    # plt.xlim([0,0.6])\n",
    "    # plt.ylim([0,10])\n",
    "    plt.savefig(figure_name_all, dpi=400,bbox_inches='tight')\n",
    "    \n",
    "    # plot velocity VS averaged misorientation_angle\n",
    "    bin_interval = 0.001\n",
    "    bin_number = int(0.6/bin_interval)\n",
    "    misorientation_angle_coordinate = np.arange(0,np.pi/2,bin_interval)+bin_interval/2\n",
    "\n",
    "    misorientation_angle_bin = np.zeros(bin_number)\n",
    "    velocity_bin = np.zeros(bin_number)\n",
    "    for index in range(len(misorientation_angle_1Dlist_remove_0step)):\n",
    "        if misorientation_angle_1Dlist_remove_0step[index]>0.6: continue\n",
    "        misorientation_angle_bin[int(misorientation_angle_1Dlist_remove_0step[index]//bin_interval)] += 1\n",
    "        velocity_bin[int(misorientation_angle_1Dlist_remove_0step[index]//bin_interval)] += velocity_1Dlist_remove_0step[index]\n",
    "    for i in range(bin_number): \n",
    "        if misorientation_angle_bin[i]>0: velocity_bin[i] = velocity_bin[i]/misorientation_angle_bin[i]\n",
    "    # plot\n",
    "    figure_name_all_bin = f\"figures/2D_velocity_misorientation_MI_{case_name}_5d_afterBin.png\"\n",
    "    plt.figure()\n",
    "    fig = plt.figure(figsize=(7, 7))\n",
    "    plt.plot(misorientation_angle_coordinate, velocity_bin,'o', linewidth=2)\n",
    "    plt.xlabel(\"misorientation angle\", fontsize=18)\n",
    "    plt.ylabel(\"velocity (voxel/step)\", fontsize=18)\n",
    "    # plt.xlim([0,0.6])\n",
    "    # plt.ylim([0,5])\n",
    "    plt.savefig(figure_name_all_bin, dpi=400,bbox_inches='tight')\n"
   ]
  },
  {
   "cell_type": "code",
   "execution_count": null,
   "id": "417ac509-2a54-4f73-9ed1-12344f8dc969",
   "metadata": {},
   "outputs": [],
   "source": []
  }
 ],
 "metadata": {
  "kernelspec": {
   "display_name": "UFRC Python-3.8",
   "language": "python",
   "name": "python3-3.8-ufrc"
  },
  "language_info": {
   "codemirror_mode": {
    "name": "ipython",
    "version": 3
   },
   "file_extension": ".py",
   "mimetype": "text/x-python",
   "name": "python",
   "nbconvert_exporter": "python",
   "pygments_lexer": "ipython3",
   "version": "3.8.15"
  }
 },
 "nbformat": 4,
 "nbformat_minor": 5
}
