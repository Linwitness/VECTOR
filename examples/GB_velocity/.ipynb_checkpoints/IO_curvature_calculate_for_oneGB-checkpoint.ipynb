{
 "cells": [
  {
   "cell_type": "code",
   "execution_count": 54,
   "id": "dc21cefd-c733-4144-8e1b-8caf4aadd439",
   "metadata": {
    "tags": []
   },
   "outputs": [
    {
     "data": {
      "text/plain": [
       "<module 'PACKAGE_MP_Linear' from '/home/lin.yang/projects/VECTOR/examples/GB_velocity/../../PACKAGE_MP_Linear.py'>"
      ]
     },
     "execution_count": 54,
     "metadata": {},
     "output_type": "execute_result"
    }
   ],
   "source": [
    "import os\n",
    "current_path = os.getcwd()\n",
    "import numpy as np\n",
    "from numpy import seterr\n",
    "seterr(all='raise')\n",
    "import matplotlib.pyplot as plt\n",
    "import math\n",
    "import random\n",
    "from tqdm import tqdm\n",
    "import sys\n",
    "sys.path.append(current_path)\n",
    "sys.path.append(current_path+'/../../')\n",
    "import myInput\n",
    "import PACKAGE_MP_Linear as linear2d\n",
    "import post_processing\n",
    "import PACKAGE_MP_3DLinear as Linear_3D\n",
    "import PACKAGE_MP_3DVertex as Vertex_3D\n",
    "sys.path.append(current_path+'/../calculate_tangent/')\n",
    "\n",
    "import importlib\n",
    "importlib.reload(post_processing)\n",
    "importlib.reload(Linear_3D)\n",
    "importlib.reload(linear2d)\n",
    "\n"
   ]
  },
  {
   "cell_type": "markdown",
   "id": "507bf4dc-d54a-44c4-a21d-38024b2e14fc",
   "metadata": {},
   "source": [
    "# just calculate curvature\n"
   ]
  },
  {
   "cell_type": "markdown",
   "id": "c2209112-7986-4c65-aca2-614bd9824222",
   "metadata": {},
   "source": [
    "## 2D one GB"
   ]
  },
  {
   "cell_type": "code",
   "execution_count": 99,
   "id": "2abe7b96-5643-49d3-889c-108706ee19e9",
   "metadata": {
    "tags": []
   },
   "outputs": [
    {
     "name": "stdout",
     "output_type": "stream",
     "text": [
      "The 2d_oneGB_GBE03 data size is: (321, 512, 512, 1)\n",
      "READING DATA DONE\n"
     ]
    }
   ],
   "source": [
    "if __name__ == '__main__':\n",
    "    # File name\n",
    "    # data_file_folder = \"/blue/michael.tonks/lin.yang/VECTOR_data/\"\n",
    "    npy_file_folder = \"/blue/michael.tonks/lin.yang/SPPARKS-VirtualIncEnergy/2d_poly_multiCoreCompare/results/\"\n",
    "    case_name = \"2d_oneGB_GBE03\"\n",
    "    npy_file_name_aniso = f\"p_iso_2_oneGB_GB_0.3_J1_seed56689_kt0.66.npy\"\n",
    "    \n",
    "    # Initial data\n",
    "    npy_file_aniso = np.load(npy_file_folder + npy_file_name_aniso) # microstructure\n",
    "    npy_file_aniso = npy_file_aniso.astype(int)\n",
    "    print(f\"The {case_name} data size is: {npy_file_aniso.shape}\")\n",
    "    print(\"READING DATA DONE\")\n",
    "    step_num, size_x, size_y, size_z = npy_file_aniso.shape"
   ]
  },
  {
   "cell_type": "code",
   "execution_count": 100,
   "id": "37ec941c-e9b0-41dc-86df-96efb55c32bc",
   "metadata": {
    "tags": []
   },
   "outputs": [
    {
     "name": "stderr",
     "output_type": "stream",
     "text": [
      "100%|██████████| 321/321 [41:40<00:00,  7.79s/it]\n"
     ]
    }
   ],
   "source": [
    "    # GB information\n",
    "    grain_nums = 2\n",
    "    curvature = np.zeros(step_num)\n",
    "    curvature_matrix_list = []\n",
    "    for time_step in tqdm(range(step_num)):\n",
    "        current_microstructure = npy_file_aniso[time_step]\n",
    "        cores = 128\n",
    "        loop_times = 5\n",
    "        R = np.zeros((size_x,size_y,3))\n",
    "        smoothing_class = linear2d.linear_class(size_x,size_y,grain_nums,cores,loop_times,current_microstructure[:,:,0],R,verification_system = False,curvature_sign = True)\n",
    "        smoothing_class.linear_main(\"curvature\")\n",
    "        C_ln = smoothing_class.get_C()\n",
    "        curvature_matrix = C_ln[1,:]\n",
    "        curvature_matrix_list.append(curvature_matrix)\n",
    "    \n",
    "        \n",
    "        "
   ]
  },
  {
   "cell_type": "code",
   "execution_count": null,
   "id": "184fc2cd-3b5b-497e-9d70-0e8f6f486205",
   "metadata": {
    "tags": []
   },
   "outputs": [
    {
     "name": "stderr",
     "output_type": "stream",
     "text": [
      " 52%|█████▏    | 166/321 [01:06<01:02,  2.48it/s]"
     ]
    }
   ],
   "source": [
    "    for time_step in tqdm(range(step_num)):\n",
    "        num_site = 0\n",
    "        for index, result in np.ndenumerate(current_microstructure):\n",
    "            i,j,k = index\n",
    "            if i < 150 or i > 400: continue\n",
    "            ip,im,jp,jm = myInput.periodic_bc(size_x,size_y,i,j)\n",
    "            if ( ((current_microstructure[ip,j,k]-current_microstructure[i,j,k])!=0) or ((current_microstructure[im,j,k]-current_microstructure[i,j,k])!=0) or\\\n",
    "                 ((current_microstructure[i,jp,k]-current_microstructure[i,j,k])!=0) or ((current_microstructure[i,jm,k]-current_microstructure[i,j,k])!=0) ) and\\\n",
    "               (current_microstructure[i,j,k]==1):\n",
    "                curvature[time_step] += curvature_matrix_list[time_step][i,j]\n",
    "                num_site += 1\n",
    "        curvature[time_step] = curvature[time_step]/num_site"
   ]
  },
  {
   "cell_type": "code",
   "execution_count": null,
   "id": "a2a76057-623b-459f-a430-e2b825825e18",
   "metadata": {
    "tags": []
   },
   "outputs": [],
   "source": [
    "plt.figure(figsize=(18,5))\n",
    "plt.imshow(curvature_matrix_list[160][240:280])\n",
    "plt.colorbar()"
   ]
  },
  {
   "cell_type": "code",
   "execution_count": null,
   "id": "fcbcc187-3ae5-475e-923d-689c3475e5a7",
   "metadata": {
    "tags": []
   },
   "outputs": [],
   "source": [
    "    plt.figure()\n",
    "    plt.figure(figsize=(7,7))\n",
    "    plt.plot(30*np.arange(len(curvature)), curvature)\n",
    "    plt.plot(30*np.arange(len(curvature)),np.max(abs(curvature))*np.ones(len(curvature)), '--', color='grey')\n",
    "    plt.plot(30*np.arange(len(curvature)),-np.max(abs(curvature))*np.ones(len(curvature)), '--', color='grey')\n",
    "    plt.xlabel(\"Time steps (MCS)\", fontsize=18)\n",
    "    plt.ylabel(r\"$\\kappa$ (MCU$^{-1}$)\", fontsize=18)\n",
    "    plt.xlim([0,30*len(curvature)])\n",
    "    plt.ylim([-np.max(abs(curvature))*1.2,np.max(abs(curvature))*1.2])\n",
    "    figure_name_flatGB = f\"figures/2D_iso_flatGB_maximum_curvature.png\"\n",
    "    plt.savefig(figure_name_flatGB, dpi=400,bbox_inches='tight')\n",
    "    print(f\"The max curvature is {np.max(abs(curvature))}\")\n",
    "    "
   ]
  },
  {
   "cell_type": "code",
   "execution_count": null,
   "id": "0adce8f0-b7b2-41e5-9abc-c33fe0e6e8c2",
   "metadata": {
    "tags": []
   },
   "outputs": [],
   "source": [
    "np.sum(curvature_matrix_list[1][200:300])"
   ]
  },
  {
   "cell_type": "markdown",
   "id": "2b0a65c4-36e0-4ab7-b532-8f44e3eef62c",
   "metadata": {},
   "source": [
    "## 3D one GB"
   ]
  },
  {
   "cell_type": "code",
   "execution_count": 46,
   "id": "37576fb3-942c-437c-a5fc-01c76a49fde5",
   "metadata": {
    "tags": []
   },
   "outputs": [
    {
     "name": "stdout",
     "output_type": "stream",
     "text": [
      "The 3d_oneGB_GBE10 data size is: (76, 150, 150, 150)\n",
      "READING DATA DONE\n"
     ]
    }
   ],
   "source": [
    "if __name__ == '__main__':\n",
    "    # File name\n",
    "    # data_file_folder = \"/blue/michael.tonks/lin.yang/VECTOR_data/\"\n",
    "    npy_file_folder = \"/blue/michael.tonks/lin.yang/SPPARKS-VirtualIncEnergy/3d_poly_fully/results/\"\n",
    "    case_name = \"3d_oneGB_GBE10\"\n",
    "    npy_file_name_aniso = f\"p_iso_2_oneGB_GB_1.0_multiCore64_J1_refer_1_0_0_seed56689_kt1.95.npy\"\n",
    "    \n",
    "    # Initial data\n",
    "    npy_file_aniso = np.load(npy_file_folder + npy_file_name_aniso) # microstructure\n",
    "    npy_file_aniso = npy_file_aniso.astype(int)\n",
    "    print(f\"The {case_name} data size is: {npy_file_aniso.shape}\")\n",
    "    print(\"READING DATA DONE\")\n",
    "    step_num, size_x, size_y, size_z = npy_file_aniso.shape"
   ]
  },
  {
   "cell_type": "code",
   "execution_count": 47,
   "id": "76375770-ff76-457d-89be-5c75454d3324",
   "metadata": {
    "tags": []
   },
   "outputs": [
    {
     "name": "stderr",
     "output_type": "stream",
     "text": [
      "100%|██████████| 76/76 [1:12:09<00:00, 56.97s/it]\n"
     ]
    }
   ],
   "source": [
    "    # GB information\n",
    "    grain_nums = 2\n",
    "    curvature_matrix_list = []\n",
    "    for time_step in tqdm(range(step_num)):\n",
    "        current_microstructure = npy_file_aniso[time_step]\n",
    "        curvature_matrix = post_processing.IO_curvature(current_microstructure)\n",
    "        curvature_matrix_list.append(curvature_matrix)\n",
    "        \n",
    "        "
   ]
  },
  {
   "cell_type": "code",
   "execution_count": 48,
   "id": "04622122-cb51-49f6-a2e0-e726d40c0f16",
   "metadata": {
    "tags": []
   },
   "outputs": [],
   "source": [
    "    curvature = np.zeros(step_num)\n",
    "    for i in range(step_num):\n",
    "        curvature[i] = curvature_matrix_list[i][2][3]"
   ]
  },
  {
   "cell_type": "code",
   "execution_count": 50,
   "id": "3499f2a2-d94a-4c81-a4fe-6315ebb648e6",
   "metadata": {
    "tags": []
   },
   "outputs": [
    {
     "name": "stdout",
     "output_type": "stream",
     "text": [
      "The max curvature is 0.005338626505416684\n"
     ]
    },
    {
     "data": {
      "image/png": "[encoded data removed]",
      "text/plain": [
       "<Figure size 432x288 with 1 Axes>"
      ]
     },
     "metadata": {
      "needs_background": "light"
     },
     "output_type": "display_data"
    }
   ],
   "source": [
    "    plt.plot(curvature)\n",
    "    print(f\"The max curvature is {np.max(abs(curvature))}\")"
   ]
  },
  {
   "cell_type": "code",
   "execution_count": null,
   "id": "28bceaff-b4fb-4338-a600-02b7f50e5757",
   "metadata": {},
   "outputs": [],
   "source": []
  }
 ],
 "metadata": {
  "kernelspec": {
   "display_name": "UFRC Python-3.8",
   "language": "python",
   "name": "python3-3.8-ufrc"
  },
  "language_info": {
   "codemirror_mode": {
    "name": "ipython",
    "version": 3
   },
   "file_extension": ".py",
   "mimetype": "text/x-python",
   "name": "python",
   "nbconvert_exporter": "python",
   "pygments_lexer": "ipython3",
   "version": "3.8.15"
  }
 },
 "nbformat": 4,
 "nbformat_minor": 5
}
