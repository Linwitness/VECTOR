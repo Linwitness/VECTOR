{
 "cells": [
  {
   "cell_type": "code",
   "execution_count": 16,
   "id": "4b195c7c-3d58-4d9f-b559-8e34a5e9789a",
   "metadata": {
    "tags": []
   },
   "outputs": [
    {
     "data": {
      "text/plain": [
       "<module 'PACKAGE_MP_Linear' from '/home/lin.yang/projects/VECTOR/examples/GB_velocity/../../PACKAGE_MP_Linear.py'>"
      ]
     },
     "execution_count": 16,
     "metadata": {},
     "output_type": "execute_result"
    }
   ],
   "source": [
    "import os\n",
    "current_path = os.getcwd()\n",
    "import numpy as np\n",
    "from numpy import seterr\n",
    "seterr(all='raise')\n",
    "import matplotlib.pyplot as plt\n",
    "import math\n",
    "import random\n",
    "from tqdm import tqdm\n",
    "import sys\n",
    "sys.path.append(current_path)\n",
    "sys.path.append(current_path+'/../../')\n",
    "import myInput\n",
    "import PACKAGE_MP_Linear as linear2d\n",
    "import post_processing\n",
    "import PACKAGE_MP_3DLinear as Linear_3D\n",
    "import PACKAGE_MP_3DVertex as Vertex_3D\n",
    "sys.path.append(current_path+'/../calculate_tangent/')\n",
    "\n",
    "import importlib\n",
    "importlib.reload(post_processing)\n",
    "importlib.reload(Linear_3D)\n",
    "importlib.reload(linear2d)\n",
    "\n"
   ]
  },
  {
   "cell_type": "code",
   "execution_count": null,
   "id": "fcb7ac33-912b-4634-8822-c41d1c32bd8b",
   "metadata": {
    "tags": []
   },
   "outputs": [],
   "source": []
  },
  {
   "cell_type": "code",
   "execution_count": null,
   "id": "0be80f39-f248-4153-b7e0-535c9544ad3b",
   "metadata": {
    "tags": []
   },
   "outputs": [],
   "source": []
  },
  {
   "cell_type": "code",
   "execution_count": null,
   "id": "127df95e-c650-41f9-bc2c-ddcea1cc0f55",
   "metadata": {},
   "outputs": [],
   "source": []
  },
  {
   "cell_type": "code",
   "execution_count": null,
   "id": "2f308b73-0513-45d8-a932-7d65cd3c5e66",
   "metadata": {
    "tags": []
   },
   "outputs": [],
   "source": []
  },
  {
   "cell_type": "code",
   "execution_count": null,
   "id": "bf804f69-a21f-462e-8dc6-ea100eb771f0",
   "metadata": {
    "tags": []
   },
   "outputs": [],
   "source": []
  },
  {
   "cell_type": "code",
   "execution_count": null,
   "id": "6eceee40-5f34-4605-959f-364b9588bb1d",
   "metadata": {
    "tags": []
   },
   "outputs": [],
   "source": []
  },
  {
   "cell_type": "code",
   "execution_count": null,
   "id": "2f952603-c1b8-4aae-8900-25fef984672d",
   "metadata": {
    "tags": []
   },
   "outputs": [],
   "source": []
  },
  {
   "cell_type": "code",
   "execution_count": null,
   "id": "a02be276-7b6a-4ee7-975b-23800e3f3269",
   "metadata": {
    "tags": []
   },
   "outputs": [],
   "source": []
  },
  {
   "cell_type": "code",
   "execution_count": null,
   "id": "7bbffe1f-eb30-4cf3-8ae8-e9be37766360",
   "metadata": {},
   "outputs": [],
   "source": []
  },
  {
   "cell_type": "code",
   "execution_count": null,
   "id": "7b50cdde-491a-41ee-98b4-2c19d83e4686",
   "metadata": {},
   "outputs": [],
   "source": []
  },
  {
   "cell_type": "code",
   "execution_count": null,
   "id": "8f659057-3d03-468b-a26d-a1383026fee0",
   "metadata": {},
   "outputs": [],
   "source": []
  },
  {
   "cell_type": "markdown",
   "id": "29d8158d-5d09-4363-b3e8-1a7d857a34ba",
   "metadata": {
    "tags": []
   },
   "source": [
    "## 2D case"
   ]
  },
  {
   "cell_type": "code",
   "execution_count": 2,
   "id": "f6ac1373-cac0-435c-bc23-f9c1aa0ef8eb",
   "metadata": {},
   "outputs": [
    {
     "name": "stdout",
     "output_type": "stream",
     "text": [
      "The MI_20k_fully data size is: (201, 2400, 2400, 1)\n",
      "READING DATA DONE\n",
      "The MI_20k_fully energy data size is: (201, 2400, 2400, 1)\n",
      "READING ENERGY DATA DONE\n"
     ]
    }
   ],
   "source": [
    "if __name__ == '__main__':\n",
    "    # File name\n",
    "    data_file_folder = \"/blue/michael.tonks/lin.yang/VECTOR_data/\"\n",
    "    npy_file_folder = \"/blue/michael.tonks/lin.yang/SPPARKS-VirtualIncEnergy/2d_poly_fully/results/\"\n",
    "    # npy_file_folder = \"/blue/michael.tonks/lin.yang/SPPARKS-VirtualIncEnergy/2d_poly_wellEnergy/results/\"\n",
    "    case_name = \"MI_20k_fully\"\n",
    "    npy_file_name_aniso = f\"p_aveE_fz_fully5d_20k_J1_f1.0_t1.0_refer_1_0_0_seed56689_kt0.66.npy\"\n",
    "    # npy_file_name_aniso = f\"p_aveE_20000_Cos_delta0.0_J1_refer_1_0_0_seed56689_kt0.66.npy\"\n",
    "    \n",
    "    npy_file_name_aniso_energy = f\"p_aveE_fz_fully5d_20k_J1_f1.0_t1.0_refer_1_0_0_seed56689_kt0.66_energy.npy\"\n",
    "    # npy_file_name_aniso_energy = f\"p_aveE_20000_Cos_delta0.0_J1_refer_1_0_0_seed56689_kt0.66_energy.npy\"\n",
    "    \n",
    "    # Initial data\n",
    "    npy_file_aniso = np.load(npy_file_folder + npy_file_name_aniso) # microstructure\n",
    "    npy_file_aniso = npy_file_aniso.astype(int)\n",
    "    print(f\"The {case_name} data size is: {npy_file_aniso.shape}\")\n",
    "    print(\"READING DATA DONE\")\n",
    "    npy_file_aniso_energy = np.load(npy_file_folder + npy_file_name_aniso_energy) # energy\n",
    "    print(f\"The {case_name} energy data size is: {npy_file_aniso_energy.shape}\")\n",
    "    print(\"READING ENERGY DATA DONE\")\n",
    "    step_num, size_x, size_y, size_z = npy_file_aniso.shape"
   ]
  },
  {
   "cell_type": "code",
   "execution_count": 17,
   "id": "7ab679ee-41d7-47d6-8d75-847eeab7fe6b",
   "metadata": {},
   "outputs": [
    {
     "name": "stderr",
     "output_type": "stream",
     "text": [
      "100%|██████████| 121/121 [00:01<00:00, 75.26it/s] \n"
     ]
    }
   ],
   "source": [
    "    # GB information\n",
    "    step_num=121\n",
    "    grain_nums = 20000\n",
    "    GB_infomation_dict_list = []\n",
    "    curvature_matrix_list = []\n",
    "    for time_step in tqdm(range(step_num)):\n",
    "        data_file_name = f\"GB_velocity_data/2D_signedcurvature_velocity_data_{case_name}_step{time_step}.npz\"\n",
    "        data_curvature_file_name = f\"GB_velocity_data/2D_matrix_signedcurvature_data_{case_name}_step{time_step}.npz\"\n",
    "        if os.path.exists(data_file_folder + data_file_name):\n",
    "            npz_file = np.load(data_file_folder + data_file_name,allow_pickle=True)\n",
    "            GB_infomation_dict = npz_file[\"GB_infomation_dict\"]\n",
    "            GB_infomation_dict_list.append(GB_infomation_dict.item())\n",
    "        else:\n",
    "            current_microstructure = npy_file_aniso[time_step]\n",
    "            # get curvature with sign\n",
    "            if os.path.exists(data_file_folder + data_curvature_file_name):\n",
    "                npz_file_curvature = np.load(data_file_folder + data_curvature_file_name)\n",
    "                curvature_matrix = npz_file_curvature[\"curvature_matrix\"]\n",
    "                curvature_matrix_list.append(curvature_matrix)\n",
    "            else:\n",
    "                cores = 128\n",
    "                loop_times = 5\n",
    "                R = np.zeros((size_x,size_y,3))\n",
    "                smoothing_class = linear2d.linear_class(size_x,size_y,grain_nums,cores,loop_times,current_microstructure[:,:,0],R,verification_system = False,curvature_sign = True)\n",
    "                smoothing_class.linear_main(\"curvature\")\n",
    "                C_ln = smoothing_class.get_C()\n",
    "                curvature_matrix = C_ln[1,:]\n",
    "                curvature_matrix_list.append(curvature_matrix)\n",
    "                # save curvature information\n",
    "                # np.savez(data_file_folder + data_curvature_file_name, curvature_matrix=curvature_matrix)\n",
    "            print(\"Finish curvature calculation\")\n",
    "            \n",
    "            # Get TJ and QJ information first\n",
    "            TJ_infomation_dict = dict()\n",
    "            for index, result in np.ndenumerate(current_microstructure):\n",
    "                i,j,k = index\n",
    "                ip,im,jp,jm = myInput.periodic_bc(size_x,size_y,i,j)\n",
    "                if ( ((current_microstructure[ip,j,k]-current_microstructure[i,j,k])!=0) or ((current_microstructure[im,j,k]-current_microstructure[i,j,k])!=0) or\\\n",
    "                     ((current_microstructure[i,jp,k]-current_microstructure[i,j,k])!=0) or ((current_microstructure[i,jm,k]-current_microstructure[i,j,k])!=0) ):\n",
    "                    central_site = int(current_microstructure[i,j,k])\n",
    "                    neighboring_sites_list = np.array([current_microstructure[ip,j,k], current_microstructure[i,jp,k], current_microstructure[im,j,k], current_microstructure[i,jm,k]]).astype(int)\n",
    "                    neighboring_sites_set = set(neighboring_sites_list) # Get all unique neighboring sites\n",
    "                    if central_site in neighboring_sites_set: neighboring_sites_set.remove(central_site) # remove central site\n",
    "                    neighboring_sites_list_unque = list(neighboring_sites_set)\n",
    "                    # remove the TJs and QJs\n",
    "                    if len(neighboring_sites_list_unque) > 1: \n",
    "                        for m in range(len(neighboring_sites_list_unque)):\n",
    "                            pair_id = post_processing.get_line(central_site, neighboring_sites_list_unque[m]) # get pair id\n",
    "                            if pair_id in TJ_infomation_dict:\n",
    "                                tmp = TJ_infomation_dict[pair_id]\n",
    "                                tmp.append([i,j,k])\n",
    "                                TJ_infomation_dict[pair_id] = tmp\n",
    "                            else: \n",
    "                                TJ_infomation_dict[pair_id] = [[i,j,k]]\n",
    "            print(\"Finish TJ extraction\")\n",
    "            \n",
    "            # Get the center of each GB\n",
    "            GB_infomation_dict = dict()\n",
    "            TJ_distance_max = 6 # voxels\n",
    "            for index, result in np.ndenumerate(current_microstructure):\n",
    "                i,j,k = index\n",
    "                ip,im,jp,jm = myInput.periodic_bc(size_x,size_y,i,j)\n",
    "                if ( ((current_microstructure[ip,j,k]-current_microstructure[i,j,k])!=0) or ((current_microstructure[im,j,k]-current_microstructure[i,j,k])!=0) or\\\n",
    "                     ((current_microstructure[i,jp,k]-current_microstructure[i,j,k])!=0) or ((current_microstructure[i,jm,k]-current_microstructure[i,j,k])!=0) ):\n",
    "                    central_site = int(current_microstructure[i,j,k])\n",
    "                    neighboring_sites_list = np.array([current_microstructure[ip,j,k], current_microstructure[i,jp,k], current_microstructure[im,j,k], current_microstructure[i,jm,k]]).astype(int)\n",
    "                    neighboring_sites_set = set(neighboring_sites_list) # Get all unique neighboring sites\n",
    "                    if central_site in neighboring_sites_set: neighboring_sites_set.remove(central_site) # remove central site\n",
    "                    neighboring_sites_list_unque = list(neighboring_sites_set)\n",
    "                    # remove the TJs and QJs\n",
    "                    if len(neighboring_sites_list_unque) > 1: continue # only remove TJs and QJs\n",
    "                    # CONTINUE...    # remove the voxels around TJs and QJs\n",
    "                    # check the GB voxels is close to TJ or not\n",
    "                    break_point = 0\n",
    "                    pair_id = post_processing.get_line(central_site, neighboring_sites_list_unque[0]) # get pair id\n",
    "                    if central_site<neighboring_sites_list_unque[0]: pair_id_pair = [central_site, neighboring_sites_list_unque[0]]\n",
    "                    else: pair_id_pair = [neighboring_sites_list_unque[0], central_site]\n",
    "                    if pair_id in GB_infomation_dict:\n",
    "                        GB_infomation_dict[pair_id][5] += 1 # GB area\n",
    "                    else:\n",
    "                        GB_infomation = np.array([0,0,0,0,0.0,1,pair_id_pair[0],pair_id_pair[1]]) # GBnum-curvature,i,j,k,curvature,GBnum,gid0,gid1\n",
    "                        GB_infomation_dict[pair_id] = GB_infomation\n",
    "                    if pair_id in TJ_infomation_dict:\n",
    "                        for TJ_site in TJ_infomation_dict[pair_id]:\n",
    "                            TJ_distance = np.linalg.norm(index-np.array(TJ_site))\n",
    "                            if TJ_distance < TJ_distance_max: \n",
    "                                break_point = 1\n",
    "                                break\n",
    "                    if break_point == 1: continue\n",
    "                    # calculate or extract misorientation\n",
    "                    # if pair_id in GB_infomation_dict:\n",
    "                    GB_infomation_dict[pair_id][0] += 1\n",
    "                    if central_site == pair_id_pair[0]:\n",
    "                        GB_infomation_dict[pair_id][1:5] += np.array([i,j,k,curvature_matrix[i,j]])\n",
    "                    else:\n",
    "                        GB_infomation_dict[pair_id][1:5] += np.array([i,j,k,-curvature_matrix[i,j]])\n",
    "                    \n",
    "            # get the correct location for each GB\n",
    "            small_GB_list = []\n",
    "            for key in GB_infomation_dict: \n",
    "                if GB_infomation_dict[key][0] == 0: \n",
    "                    small_GB_list.append(key) # remove the small GB with 0 voxels after remove voxels close to TJs\n",
    "            for s_index in range(len(small_GB_list)): GB_infomation_dict.pop(small_GB_list[s_index])\n",
    "            for key in GB_infomation_dict: \n",
    "                GB_infomation_dict[key][1:5]=GB_infomation_dict[key][1:5]/GB_infomation_dict[key][0]\n",
    "            print(f\"Current GBs len at {time_step} steps: {len(GB_infomation_dict)}\")\n",
    "            # save information\n",
    "            np.savez(data_file_folder + data_file_name, GB_infomation_dict=GB_infomation_dict)\n",
    "            GB_infomation_dict_list.append(GB_infomation_dict)"
   ]
  },
  {
   "cell_type": "code",
   "execution_count": 18,
   "id": "1c863c6b-9fd9-45b7-b4ca-b9188479c80d",
   "metadata": {},
   "outputs": [
    {
     "name": "stderr",
     "output_type": "stream",
     "text": [
      "100%|██████████| 121/121 [00:01<00:00, 99.68it/s]\n"
     ]
    }
   ],
   "source": [
    "    # GB Energy information\n",
    "    step_num=121\n",
    "    grain_nums = 20000\n",
    "    GBenergy_information_dict_list = []\n",
    "    for time_step in tqdm(range(step_num)):\n",
    "        data_file_name_GBenergy = f\"GB_velocity_data/2D_GBenergy_velocity_data_{case_name}_step{time_step}.npz\"\n",
    "        if os.path.exists(data_file_folder + data_file_name_GBenergy):\n",
    "            npz_file = np.load(data_file_folder + data_file_name_GBenergy,allow_pickle=True)\n",
    "            GBenergy_information_dict = npz_file[\"GBenergy_information_dict\"]\n",
    "            GBenergy_information_dict_list.append(GBenergy_information_dict.item())\n",
    "        else:\n",
    "            current_microstructure = npy_file_aniso[time_step]\n",
    "            current_energy = npy_file_aniso_energy[time_step]\n",
    "\n",
    "            # Get TJ and QJ information first\n",
    "            TJ_infomation_dict = dict()\n",
    "            for index, result in np.ndenumerate(current_microstructure):\n",
    "                i,j,k = index\n",
    "                ip,im,jp,jm = myInput.periodic_bc(size_x,size_y,i,j)\n",
    "                if ( ((current_microstructure[ip,j,k]-current_microstructure[i,j,k])!=0) or ((current_microstructure[im,j,k]-current_microstructure[i,j,k])!=0) or\\\n",
    "                     ((current_microstructure[i,jp,k]-current_microstructure[i,j,k])!=0) or ((current_microstructure[i,jm,k]-current_microstructure[i,j,k])!=0) ):\n",
    "                    central_site = int(current_microstructure[i,j,k])\n",
    "                    neighboring_sites_list = np.array([current_microstructure[ip,j,k], current_microstructure[i,jp,k], current_microstructure[im,j,k], current_microstructure[i,jm,k]]).astype(int)\n",
    "                    neighboring_sites_set = set(neighboring_sites_list) # Get all unique neighboring sites\n",
    "                    if central_site in neighboring_sites_set: neighboring_sites_set.remove(central_site) # remove central site\n",
    "                    neighboring_sites_list_unque = list(neighboring_sites_set)\n",
    "                    # remove the TJs and QJs\n",
    "                    if len(neighboring_sites_list_unque) > 1: \n",
    "                        for m in range(len(neighboring_sites_list_unque)):\n",
    "                            pair_id = post_processing.get_line(central_site, neighboring_sites_list_unque[m]) # get pair id\n",
    "                            if pair_id in TJ_infomation_dict:\n",
    "                                tmp = TJ_infomation_dict[pair_id]\n",
    "                                tmp.append([i,j,k])\n",
    "                                TJ_infomation_dict[pair_id] = tmp\n",
    "                            else: \n",
    "                                TJ_infomation_dict[pair_id] = [[i,j,k]]\n",
    "            print(\"Finish TJ extraction\")\n",
    "\n",
    "            # Get the center of each GB\n",
    "            GBenergy_information_dict = dict()\n",
    "            TJ_distance_max = 6 # voxels\n",
    "            for index, result in np.ndenumerate(current_microstructure):\n",
    "                i,j,k = index\n",
    "                ip,im,jp,jm = myInput.periodic_bc(size_x,size_y,i,j)\n",
    "                if ( ((current_microstructure[ip,j,k]-current_microstructure[i,j,k])!=0) or ((current_microstructure[im,j,k]-current_microstructure[i,j,k])!=0) or\\\n",
    "                     ((current_microstructure[i,jp,k]-current_microstructure[i,j,k])!=0) or ((current_microstructure[i,jm,k]-current_microstructure[i,j,k])!=0) ):\n",
    "                    central_site = int(current_microstructure[i,j,k])\n",
    "                    neighboring_sites_list = np.array([current_microstructure[ip,j,k], current_microstructure[i,jp,k], current_microstructure[im,j,k], current_microstructure[i,jm,k]]).astype(int)\n",
    "                    neighboring_sites_set = set(neighboring_sites_list) # Get all unique neighboring sites\n",
    "                    if central_site in neighboring_sites_set: neighboring_sites_set.remove(central_site) # remove central site\n",
    "                    neighboring_sites_list_unque = list(neighboring_sites_set)\n",
    "                    num_other_sites = 0\n",
    "                    neighboring_sites_full_list = np.array([current_microstructure[ip,jp,k], current_microstructure[ip,j,k], current_microstructure[ip,jm,k], current_microstructure[i,jp,k], current_microstructure[i,jm,k], current_microstructure[im,jp,k], current_microstructure[im,j,k], current_microstructure[im,jm,k]]).astype(int)\n",
    "                    for neigh_site in neighboring_sites_full_list:\n",
    "                        if neigh_site != central_site: num_other_sites += 1 # get the sites num different with central id\n",
    "                    # remove the TJs and QJs\n",
    "                    if len(neighboring_sites_list_unque) > 1: continue # only remove TJs and QJs\n",
    "                    # CONTINUE...    # remove the voxels around TJs and QJs\n",
    "                    # check the GB voxels is close to TJ or not\n",
    "                    break_point = 0\n",
    "                    pair_id = post_processing.get_line(central_site, neighboring_sites_list_unque[0]) # get pair id\n",
    "                    if central_site<neighboring_sites_list_unque[0]: pair_id_pair = [central_site, neighboring_sites_list_unque[0]]\n",
    "                    else: pair_id_pair = [neighboring_sites_list_unque[0], central_site]\n",
    "                    if pair_id in GBenergy_information_dict:\n",
    "                        GBenergy_information_dict[pair_id][5] += 1 # GB area\n",
    "                    else:\n",
    "                        GB_infomation = np.array([0,0,0,0,0.0,1,pair_id_pair[0],pair_id_pair[1]]) # GBnum-energy,i,j,k,GB energy,GBnum,gid0,gid1\n",
    "                        GBenergy_information_dict[pair_id] = GB_infomation\n",
    "                    if pair_id in TJ_infomation_dict:\n",
    "                        for TJ_site in TJ_infomation_dict[pair_id]:\n",
    "                            TJ_distance = np.linalg.norm(index-np.array(TJ_site))\n",
    "                            if TJ_distance < TJ_distance_max: \n",
    "                                break_point = 1\n",
    "                                break\n",
    "                    if break_point == 1: continue\n",
    "                    # calculate or extract misorientation\n",
    "                    # if pair_id in GBenergy_information_dict:\n",
    "                    GBenergy_information_dict[pair_id][0] += 1\n",
    "                    GBenergy_information_dict[pair_id][1:5] += np.array([i,j,k,current_energy[i,j,k]/num_other_sites])\n",
    "\n",
    "            # get the correct location for each GB\n",
    "            small_GB_list = []\n",
    "            for key in GBenergy_information_dict: \n",
    "                if GBenergy_information_dict[key][0] == 0: \n",
    "                    small_GB_list.append(key) # remove the small GB with 0 voxels after remove voxels close to TJs\n",
    "            for s_index in range(len(small_GB_list)): GBenergy_information_dict.pop(small_GB_list[s_index])\n",
    "            for key in GBenergy_information_dict: \n",
    "                GBenergy_information_dict[key][1:5]=GBenergy_information_dict[key][1:5]/GBenergy_information_dict[key][0]\n",
    "            print(f\"Current GBs len at {time_step} steps: {len(GBenergy_information_dict)}\")\n",
    "            # save information\n",
    "            np.savez(data_file_folder + data_file_name_GBenergy, GBenergy_information_dict=GBenergy_information_dict)\n",
    "            GBenergy_information_dict_list.append(GBenergy_information_dict)"
   ]
  },
  {
   "cell_type": "code",
   "execution_count": 5,
   "id": "6aa1a164-84e3-47ae-a192-fd7d956f6a2e",
   "metadata": {},
   "outputs": [
    {
     "name": "stderr",
     "output_type": "stream",
     "text": [
      "100%|██████████| 22827/22827 [00:00<00:00, 1710894.68it/s]\n"
     ]
    },
    {
     "name": "stdout",
     "output_type": "stream",
     "text": [
      "finish 0 with num of GBs 0, and collected num of GBs 0\n"
     ]
    },
    {
     "name": "stderr",
     "output_type": "stream",
     "text": [
      "100%|██████████| 18957/18957 [00:00<00:00, 37421.58it/s]\n"
     ]
    },
    {
     "name": "stdout",
     "output_type": "stream",
     "text": [
      "finish 1 with num of GBs 17, and collected num of GBs 6\n"
     ]
    },
    {
     "name": "stderr",
     "output_type": "stream",
     "text": [
      "100%|██████████| 16156/16156 [00:02<00:00, 7021.36it/s]\n"
     ]
    },
    {
     "name": "stdout",
     "output_type": "stream",
     "text": [
      "finish 2 with num of GBs 80, and collected num of GBs 29\n"
     ]
    },
    {
     "name": "stderr",
     "output_type": "stream",
     "text": [
      "100%|██████████| 22827/22827 [00:00<00:00, 1657693.05it/s]\n",
      "100%|██████████| 13834/13834 [00:04<00:00, 3153.31it/s]\n"
     ]
    },
    {
     "name": "stdout",
     "output_type": "stream",
     "text": [
      "finish 3 with num of GBs 153, and collected num of GBs 88\n"
     ]
    },
    {
     "name": "stderr",
     "output_type": "stream",
     "text": [
      "100%|██████████| 18957/18957 [00:00<00:00, 57575.50it/s]\n",
      "100%|██████████| 11980/11980 [00:07<00:00, 1669.04it/s]\n"
     ]
    },
    {
     "name": "stdout",
     "output_type": "stream",
     "text": [
      "finish 4 with num of GBs 250, and collected num of GBs 168\n"
     ]
    },
    {
     "name": "stderr",
     "output_type": "stream",
     "text": [
      "100%|██████████| 16156/16156 [00:01<00:00, 9027.32it/s] \n",
      "100%|██████████| 10494/10494 [00:10<00:00, 1016.24it/s]\n"
     ]
    },
    {
     "name": "stdout",
     "output_type": "stream",
     "text": [
      "finish 5 with num of GBs 360, and collected num of GBs 275\n"
     ]
    },
    {
     "name": "stderr",
     "output_type": "stream",
     "text": [
      "100%|██████████| 13834/13834 [00:03<00:00, 4436.84it/s]\n",
      "100%|██████████| 9305/9305 [00:12<00:00, 755.33it/s] \n"
     ]
    },
    {
     "name": "stdout",
     "output_type": "stream",
     "text": [
      "finish 6 with num of GBs 427, and collected num of GBs 384\n"
     ]
    },
    {
     "name": "stderr",
     "output_type": "stream",
     "text": [
      "100%|██████████| 11980/11980 [00:05<00:00, 2114.54it/s]\n",
      "100%|██████████| 8450/8450 [00:13<00:00, 612.50it/s]\n"
     ]
    },
    {
     "name": "stdout",
     "output_type": "stream",
     "text": [
      "finish 7 with num of GBs 476, and collected num of GBs 517\n"
     ]
    },
    {
     "name": "stderr",
     "output_type": "stream",
     "text": [
      "100%|██████████| 10494/10494 [00:08<00:00, 1311.39it/s]\n",
      "100%|██████████| 7701/7701 [00:14<00:00, 517.25it/s]\n"
     ]
    },
    {
     "name": "stdout",
     "output_type": "stream",
     "text": [
      "finish 8 with num of GBs 515, and collected num of GBs 636\n"
     ]
    },
    {
     "name": "stderr",
     "output_type": "stream",
     "text": [
      "100%|██████████| 9305/9305 [00:09<00:00, 948.18it/s] \n",
      "100%|██████████| 7107/7107 [00:14<00:00, 493.51it/s]\n"
     ]
    },
    {
     "name": "stdout",
     "output_type": "stream",
     "text": [
      "finish 9 with num of GBs 495, and collected num of GBs 739\n"
     ]
    },
    {
     "name": "stderr",
     "output_type": "stream",
     "text": [
      "100%|██████████| 8450/8450 [00:10<00:00, 777.36it/s] \n",
      "100%|██████████| 6606/6606 [00:14<00:00, 441.06it/s]\n"
     ]
    },
    {
     "name": "stdout",
     "output_type": "stream",
     "text": [
      "finish 10 with num of GBs 514, and collected num of GBs 832\n"
     ]
    },
    {
     "name": "stderr",
     "output_type": "stream",
     "text": [
      "100%|██████████| 7701/7701 [00:11<00:00, 646.61it/s] \n",
      "100%|██████████| 6184/6184 [00:15<00:00, 387.34it/s]\n"
     ]
    },
    {
     "name": "stdout",
     "output_type": "stream",
     "text": [
      "finish 11 with num of GBs 550, and collected num of GBs 951\n"
     ]
    },
    {
     "name": "stderr",
     "output_type": "stream",
     "text": [
      "100%|██████████| 7107/7107 [00:11<00:00, 604.50it/s]\n",
      "100%|██████████| 5777/5777 [00:14<00:00, 389.99it/s]\n"
     ]
    },
    {
     "name": "stdout",
     "output_type": "stream",
     "text": [
      "finish 12 with num of GBs 510, and collected num of GBs 1055\n"
     ]
    },
    {
     "name": "stderr",
     "output_type": "stream",
     "text": [
      "100%|██████████| 6606/6606 [00:12<00:00, 549.22it/s]\n",
      "100%|██████████| 5411/5411 [00:16<00:00, 334.05it/s]\n"
     ]
    },
    {
     "name": "stdout",
     "output_type": "stream",
     "text": [
      "finish 13 with num of GBs 558, and collected num of GBs 1166\n"
     ]
    },
    {
     "name": "stderr",
     "output_type": "stream",
     "text": [
      "100%|██████████| 6184/6184 [00:12<00:00, 492.94it/s]\n",
      "100%|██████████| 5112/5112 [00:15<00:00, 320.86it/s]\n"
     ]
    },
    {
     "name": "stdout",
     "output_type": "stream",
     "text": [
      "finish 14 with num of GBs 555, and collected num of GBs 1270\n"
     ]
    },
    {
     "name": "stderr",
     "output_type": "stream",
     "text": [
      "100%|██████████| 5777/5777 [00:11<00:00, 520.39it/s]\n",
      "100%|██████████| 4791/4791 [00:15<00:00, 308.19it/s]\n"
     ]
    },
    {
     "name": "stdout",
     "output_type": "stream",
     "text": [
      "finish 15 with num of GBs 549, and collected num of GBs 1354\n"
     ]
    },
    {
     "name": "stderr",
     "output_type": "stream",
     "text": [
      "100%|██████████| 5411/5411 [00:12<00:00, 431.89it/s]\n",
      "100%|██████████| 4564/4564 [00:15<00:00, 285.63it/s]\n"
     ]
    },
    {
     "name": "stdout",
     "output_type": "stream",
     "text": [
      "finish 16 with num of GBs 565, and collected num of GBs 1423\n"
     ]
    },
    {
     "name": "stderr",
     "output_type": "stream",
     "text": [
      "100%|██████████| 5112/5112 [00:12<00:00, 412.28it/s]\n",
      "100%|██████████| 4385/4385 [00:15<00:00, 275.81it/s]\n"
     ]
    },
    {
     "name": "stdout",
     "output_type": "stream",
     "text": [
      "finish 17 with num of GBs 562, and collected num of GBs 1507\n"
     ]
    },
    {
     "name": "stderr",
     "output_type": "stream",
     "text": [
      "100%|██████████| 4791/4791 [00:12<00:00, 390.18it/s]\n",
      "100%|██████████| 4154/4154 [00:15<00:00, 270.49it/s]\n"
     ]
    },
    {
     "name": "stdout",
     "output_type": "stream",
     "text": [
      "finish 18 with num of GBs 544, and collected num of GBs 1579\n"
     ]
    },
    {
     "name": "stderr",
     "output_type": "stream",
     "text": [
      "100%|██████████| 4564/4564 [00:13<00:00, 343.13it/s]\n",
      "100%|██████████| 3960/3960 [00:15<00:00, 254.93it/s]\n"
     ]
    },
    {
     "name": "stdout",
     "output_type": "stream",
     "text": [
      "finish 19 with num of GBs 549, and collected num of GBs 1645\n"
     ]
    },
    {
     "name": "stderr",
     "output_type": "stream",
     "text": [
      "100%|██████████| 4385/4385 [00:12<00:00, 347.67it/s]\n",
      "100%|██████████| 3813/3813 [00:13<00:00, 280.58it/s]\n"
     ]
    },
    {
     "name": "stdout",
     "output_type": "stream",
     "text": [
      "finish 20 with num of GBs 491, and collected num of GBs 1703\n"
     ]
    },
    {
     "name": "stderr",
     "output_type": "stream",
     "text": [
      "100%|██████████| 4154/4154 [00:11<00:00, 353.34it/s]\n",
      "100%|██████████| 3648/3648 [00:13<00:00, 264.98it/s]\n"
     ]
    },
    {
     "name": "stdout",
     "output_type": "stream",
     "text": [
      "finish 21 with num of GBs 486, and collected num of GBs 1773\n"
     ]
    },
    {
     "name": "stderr",
     "output_type": "stream",
     "text": [
      "100%|██████████| 3960/3960 [00:12<00:00, 313.16it/s]\n",
      "100%|██████████| 3511/3511 [00:18<00:00, 195.01it/s]\n"
     ]
    },
    {
     "name": "stdout",
     "output_type": "stream",
     "text": [
      "finish 22 with num of GBs 503, and collected num of GBs 1837\n"
     ]
    },
    {
     "name": "stderr",
     "output_type": "stream",
     "text": [
      "100%|██████████| 3813/3813 [00:14<00:00, 264.86it/s]\n",
      "100%|██████████| 3377/3377 [00:17<00:00, 191.14it/s]\n"
     ]
    },
    {
     "name": "stdout",
     "output_type": "stream",
     "text": [
      "finish 23 with num of GBs 490, and collected num of GBs 1898\n"
     ]
    },
    {
     "name": "stderr",
     "output_type": "stream",
     "text": [
      "100%|██████████| 3648/3648 [00:13<00:00, 261.49it/s]\n",
      "100%|██████████| 3281/3281 [00:17<00:00, 192.83it/s]\n"
     ]
    },
    {
     "name": "stdout",
     "output_type": "stream",
     "text": [
      "finish 24 with num of GBs 475, and collected num of GBs 1941\n"
     ]
    },
    {
     "name": "stderr",
     "output_type": "stream",
     "text": [
      "100%|██████████| 3511/3511 [00:14<00:00, 238.43it/s]\n",
      "100%|██████████| 3164/3164 [00:18<00:00, 174.61it/s]\n"
     ]
    },
    {
     "name": "stdout",
     "output_type": "stream",
     "text": [
      "finish 25 with num of GBs 497, and collected num of GBs 2002\n"
     ]
    },
    {
     "name": "stderr",
     "output_type": "stream",
     "text": [
      "100%|██████████| 3377/3377 [00:14<00:00, 240.85it/s]\n",
      "100%|██████████| 3067/3067 [00:16<00:00, 187.08it/s]\n"
     ]
    },
    {
     "name": "stdout",
     "output_type": "stream",
     "text": [
      "finish 26 with num of GBs 449, and collected num of GBs 2044\n"
     ]
    },
    {
     "name": "stderr",
     "output_type": "stream",
     "text": [
      "100%|██████████| 3281/3281 [00:14<00:00, 230.19it/s]\n",
      "100%|██████████| 2930/2930 [00:16<00:00, 173.58it/s]\n"
     ]
    },
    {
     "name": "stdout",
     "output_type": "stream",
     "text": [
      "finish 27 with num of GBs 462, and collected num of GBs 2093\n"
     ]
    },
    {
     "name": "stderr",
     "output_type": "stream",
     "text": [
      "100%|██████████| 3164/3164 [00:14<00:00, 217.21it/s]\n",
      "100%|██████████| 2840/2840 [00:16<00:00, 171.60it/s]\n"
     ]
    },
    {
     "name": "stdout",
     "output_type": "stream",
     "text": [
      "finish 28 with num of GBs 452, and collected num of GBs 2130\n"
     ]
    },
    {
     "name": "stderr",
     "output_type": "stream",
     "text": [
      "100%|██████████| 3067/3067 [00:12<00:00, 237.27it/s]\n",
      "100%|██████████| 2744/2744 [00:16<00:00, 166.88it/s]\n"
     ]
    },
    {
     "name": "stdout",
     "output_type": "stream",
     "text": [
      "finish 29 with num of GBs 450, and collected num of GBs 2182\n"
     ]
    },
    {
     "name": "stderr",
     "output_type": "stream",
     "text": [
      "100%|██████████| 2930/2930 [00:13<00:00, 214.88it/s]\n",
      "100%|██████████| 2675/2675 [00:16<00:00, 161.16it/s]\n"
     ]
    },
    {
     "name": "stdout",
     "output_type": "stream",
     "text": [
      "finish 30 with num of GBs 453, and collected num of GBs 2230\n"
     ]
    },
    {
     "name": "stderr",
     "output_type": "stream",
     "text": [
      "100%|██████████| 2840/2840 [00:13<00:00, 212.70it/s]\n",
      "100%|██████████| 2579/2579 [00:16<00:00, 158.22it/s]\n"
     ]
    },
    {
     "name": "stdout",
     "output_type": "stream",
     "text": [
      "finish 31 with num of GBs 445, and collected num of GBs 2267\n"
     ]
    },
    {
     "name": "stderr",
     "output_type": "stream",
     "text": [
      "100%|██████████| 2744/2744 [00:12<00:00, 214.55it/s]\n",
      "100%|██████████| 2511/2511 [00:14<00:00, 168.92it/s]\n"
     ]
    },
    {
     "name": "stdout",
     "output_type": "stream",
     "text": [
      "finish 32 with num of GBs 418, and collected num of GBs 2308\n"
     ]
    },
    {
     "name": "stderr",
     "output_type": "stream",
     "text": [
      "100%|██████████| 2675/2675 [00:12<00:00, 215.72it/s]\n",
      "100%|██████████| 2441/2441 [00:14<00:00, 164.07it/s]\n"
     ]
    },
    {
     "name": "stdout",
     "output_type": "stream",
     "text": [
      "finish 33 with num of GBs 417, and collected num of GBs 2339\n"
     ]
    },
    {
     "name": "stderr",
     "output_type": "stream",
     "text": [
      "100%|██████████| 2579/2579 [00:12<00:00, 201.83it/s]\n",
      "100%|██████████| 2378/2378 [00:15<00:00, 158.50it/s]\n"
     ]
    },
    {
     "name": "stdout",
     "output_type": "stream",
     "text": [
      "finish 34 with num of GBs 421, and collected num of GBs 2386\n"
     ]
    },
    {
     "name": "stderr",
     "output_type": "stream",
     "text": [
      "100%|██████████| 2511/2511 [00:12<00:00, 207.68it/s]\n",
      "100%|██████████| 2344/2344 [00:14<00:00, 165.61it/s]\n"
     ]
    },
    {
     "name": "stdout",
     "output_type": "stream",
     "text": [
      "finish 35 with num of GBs 400, and collected num of GBs 2424\n"
     ]
    },
    {
     "name": "stderr",
     "output_type": "stream",
     "text": [
      "100%|██████████| 2441/2441 [00:11<00:00, 211.06it/s]\n",
      "100%|██████████| 2320/2320 [00:13<00:00, 172.34it/s]\n"
     ]
    },
    {
     "name": "stdout",
     "output_type": "stream",
     "text": [
      "finish 36 with num of GBs 380, and collected num of GBs 2447\n"
     ]
    },
    {
     "name": "stderr",
     "output_type": "stream",
     "text": [
      "100%|██████████| 2378/2378 [00:11<00:00, 205.68it/s]\n",
      "100%|██████████| 2254/2254 [00:14<00:00, 160.90it/s]\n"
     ]
    },
    {
     "name": "stdout",
     "output_type": "stream",
     "text": [
      "finish 37 with num of GBs 394, and collected num of GBs 2494\n"
     ]
    },
    {
     "name": "stderr",
     "output_type": "stream",
     "text": [
      "100%|██████████| 2344/2344 [00:11<00:00, 208.32it/s]\n",
      "100%|██████████| 2193/2193 [00:12<00:00, 174.15it/s]\n"
     ]
    },
    {
     "name": "stdout",
     "output_type": "stream",
     "text": [
      "finish 38 with num of GBs 355, and collected num of GBs 2521\n"
     ]
    },
    {
     "name": "stderr",
     "output_type": "stream",
     "text": [
      "100%|██████████| 2320/2320 [00:10<00:00, 215.66it/s]\n",
      "100%|██████████| 2151/2151 [00:12<00:00, 170.53it/s]\n"
     ]
    },
    {
     "name": "stdout",
     "output_type": "stream",
     "text": [
      "finish 39 with num of GBs 354, and collected num of GBs 2553\n"
     ]
    },
    {
     "name": "stderr",
     "output_type": "stream",
     "text": [
      "100%|██████████| 2254/2254 [00:10<00:00, 208.62it/s]\n",
      "100%|██████████| 2075/2075 [00:13<00:00, 157.92it/s]\n"
     ]
    },
    {
     "name": "stdout",
     "output_type": "stream",
     "text": [
      "finish 40 with num of GBs 369, and collected num of GBs 2589\n"
     ]
    },
    {
     "name": "stderr",
     "output_type": "stream",
     "text": [
      "100%|██████████| 2193/2193 [00:10<00:00, 218.48it/s]\n",
      "100%|██████████| 2032/2032 [00:12<00:00, 156.83it/s]\n"
     ]
    },
    {
     "name": "stdout",
     "output_type": "stream",
     "text": [
      "finish 41 with num of GBs 363, and collected num of GBs 2617\n"
     ]
    },
    {
     "name": "stderr",
     "output_type": "stream",
     "text": [
      "100%|██████████| 2151/2151 [00:09<00:00, 222.49it/s]\n",
      "100%|██████████| 1983/1983 [00:12<00:00, 156.06it/s]\n"
     ]
    },
    {
     "name": "stdout",
     "output_type": "stream",
     "text": [
      "finish 42 with num of GBs 358, and collected num of GBs 2638\n"
     ]
    },
    {
     "name": "stderr",
     "output_type": "stream",
     "text": [
      "100%|██████████| 2075/2075 [00:09<00:00, 208.53it/s]\n",
      "100%|██████████| 1928/1928 [00:12<00:00, 155.65it/s]\n"
     ]
    },
    {
     "name": "stdout",
     "output_type": "stream",
     "text": [
      "finish 43 with num of GBs 349, and collected num of GBs 2659\n"
     ]
    },
    {
     "name": "stderr",
     "output_type": "stream",
     "text": [
      "100%|██████████| 2032/2032 [00:09<00:00, 207.12it/s]\n",
      "100%|██████████| 1908/1908 [00:12<00:00, 150.97it/s]\n"
     ]
    },
    {
     "name": "stdout",
     "output_type": "stream",
     "text": [
      "finish 44 with num of GBs 359, and collected num of GBs 2679\n"
     ]
    },
    {
     "name": "stderr",
     "output_type": "stream",
     "text": [
      "100%|██████████| 1983/1983 [00:10<00:00, 197.77it/s]\n",
      "100%|██████████| 1883/1883 [00:11<00:00, 168.98it/s]\n"
     ]
    },
    {
     "name": "stdout",
     "output_type": "stream",
     "text": [
      "finish 45 with num of GBs 315, and collected num of GBs 2698\n"
     ]
    },
    {
     "name": "stderr",
     "output_type": "stream",
     "text": [
      "100%|██████████| 1928/1928 [00:09<00:00, 204.46it/s]\n",
      "100%|██████████| 1852/1852 [00:10<00:00, 174.08it/s]\n"
     ]
    },
    {
     "name": "stdout",
     "output_type": "stream",
     "text": [
      "finish 46 with num of GBs 325, and collected num of GBs 2724\n"
     ]
    },
    {
     "name": "stderr",
     "output_type": "stream",
     "text": [
      "100%|██████████| 1908/1908 [00:09<00:00, 197.07it/s]\n",
      "100%|██████████| 1813/1813 [00:09<00:00, 183.14it/s]\n"
     ]
    },
    {
     "name": "stdout",
     "output_type": "stream",
     "text": [
      "finish 47 with num of GBs 295, and collected num of GBs 2743\n"
     ]
    },
    {
     "name": "stderr",
     "output_type": "stream",
     "text": [
      "100%|██████████| 1883/1883 [00:08<00:00, 228.61it/s]\n",
      "100%|██████████| 1768/1768 [00:10<00:00, 166.62it/s]\n"
     ]
    },
    {
     "name": "stdout",
     "output_type": "stream",
     "text": [
      "finish 48 with num of GBs 316, and collected num of GBs 2754\n"
     ]
    },
    {
     "name": "stderr",
     "output_type": "stream",
     "text": [
      "100%|██████████| 1852/1852 [00:08<00:00, 219.34it/s]\n",
      "100%|██████████| 1737/1737 [00:10<00:00, 162.25it/s]\n"
     ]
    },
    {
     "name": "stdout",
     "output_type": "stream",
     "text": [
      "finish 49 with num of GBs 318, and collected num of GBs 2774\n"
     ]
    },
    {
     "name": "stderr",
     "output_type": "stream",
     "text": [
      "100%|██████████| 1813/1813 [00:07<00:00, 232.50it/s]\n",
      "100%|██████████| 1700/1700 [00:10<00:00, 166.38it/s]\n"
     ]
    },
    {
     "name": "stdout",
     "output_type": "stream",
     "text": [
      "finish 50 with num of GBs 307, and collected num of GBs 2794\n"
     ]
    },
    {
     "name": "stderr",
     "output_type": "stream",
     "text": [
      "100%|██████████| 1768/1768 [00:08<00:00, 208.42it/s]\n",
      "100%|██████████| 1672/1672 [00:09<00:00, 168.67it/s]\n"
     ]
    },
    {
     "name": "stdout",
     "output_type": "stream",
     "text": [
      "finish 51 with num of GBs 294, and collected num of GBs 2816\n"
     ]
    },
    {
     "name": "stderr",
     "output_type": "stream",
     "text": [
      "100%|██████████| 1737/1737 [00:08<00:00, 201.67it/s]\n",
      "100%|██████████| 1653/1653 [00:11<00:00, 149.07it/s]\n"
     ]
    },
    {
     "name": "stdout",
     "output_type": "stream",
     "text": [
      "finish 52 with num of GBs 329, and collected num of GBs 2829\n"
     ]
    },
    {
     "name": "stderr",
     "output_type": "stream",
     "text": [
      "100%|██████████| 1700/1700 [00:08<00:00, 206.26it/s]\n",
      "100%|██████████| 1629/1629 [00:09<00:00, 163.60it/s]\n"
     ]
    },
    {
     "name": "stdout",
     "output_type": "stream",
     "text": [
      "finish 53 with num of GBs 296, and collected num of GBs 2848\n"
     ]
    },
    {
     "name": "stderr",
     "output_type": "stream",
     "text": [
      "100%|██████████| 1672/1672 [00:08<00:00, 208.86it/s]\n",
      "100%|██████████| 1595/1595 [00:10<00:00, 154.36it/s]\n"
     ]
    },
    {
     "name": "stdout",
     "output_type": "stream",
     "text": [
      "finish 54 with num of GBs 308, and collected num of GBs 2864\n"
     ]
    },
    {
     "name": "stderr",
     "output_type": "stream",
     "text": [
      "100%|██████████| 1653/1653 [00:08<00:00, 189.70it/s]\n",
      "100%|██████████| 1566/1566 [00:08<00:00, 174.75it/s]\n"
     ]
    },
    {
     "name": "stdout",
     "output_type": "stream",
     "text": [
      "finish 55 with num of GBs 267, and collected num of GBs 2878\n"
     ]
    },
    {
     "name": "stderr",
     "output_type": "stream",
     "text": [
      "100%|██████████| 1629/1629 [00:08<00:00, 201.37it/s]\n",
      "100%|██████████| 1542/1542 [00:09<00:00, 171.08it/s]\n"
     ]
    },
    {
     "name": "stdout",
     "output_type": "stream",
     "text": [
      "finish 56 with num of GBs 268, and collected num of GBs 2892\n"
     ]
    },
    {
     "name": "stderr",
     "output_type": "stream",
     "text": [
      "100%|██████████| 1595/1595 [00:08<00:00, 191.46it/s]\n",
      "100%|██████████| 1512/1512 [00:09<00:00, 167.02it/s]\n"
     ]
    },
    {
     "name": "stdout",
     "output_type": "stream",
     "text": [
      "finish 57 with num of GBs 265, and collected num of GBs 2905\n"
     ]
    },
    {
     "name": "stderr",
     "output_type": "stream",
     "text": [
      "100%|██████████| 1566/1566 [00:06<00:00, 227.05it/s]\n",
      "100%|██████████| 1495/1495 [00:09<00:00, 163.80it/s]\n"
     ]
    },
    {
     "name": "stdout",
     "output_type": "stream",
     "text": [
      "finish 58 with num of GBs 267, and collected num of GBs 2911\n"
     ]
    },
    {
     "name": "stderr",
     "output_type": "stream",
     "text": [
      "100%|██████████| 1542/1542 [00:07<00:00, 207.78it/s]\n",
      "100%|██████████| 1480/1480 [00:09<00:00, 151.14it/s]\n"
     ]
    },
    {
     "name": "stdout",
     "output_type": "stream",
     "text": [
      "finish 59 with num of GBs 285, and collected num of GBs 2926\n"
     ]
    },
    {
     "name": "stderr",
     "output_type": "stream",
     "text": [
      "100%|██████████| 1512/1512 [00:07<00:00, 211.53it/s]\n",
      "100%|██████████| 1447/1447 [00:09<00:00, 155.89it/s]\n"
     ]
    },
    {
     "name": "stdout",
     "output_type": "stream",
     "text": [
      "finish 60 with num of GBs 270, and collected num of GBs 2936\n"
     ]
    },
    {
     "name": "stderr",
     "output_type": "stream",
     "text": [
      "100%|██████████| 1495/1495 [00:07<00:00, 210.25it/s]\n",
      "100%|██████████| 1429/1429 [00:08<00:00, 170.58it/s]\n"
     ]
    },
    {
     "name": "stdout",
     "output_type": "stream",
     "text": [
      "finish 61 with num of GBs 244, and collected num of GBs 2949\n"
     ]
    },
    {
     "name": "stderr",
     "output_type": "stream",
     "text": [
      "100%|██████████| 1480/1480 [00:08<00:00, 183.14it/s]\n",
      "100%|██████████| 1396/1396 [00:09<00:00, 151.03it/s]\n"
     ]
    },
    {
     "name": "stdout",
     "output_type": "stream",
     "text": [
      "finish 62 with num of GBs 269, and collected num of GBs 2956\n"
     ]
    },
    {
     "name": "stderr",
     "output_type": "stream",
     "text": [
      "100%|██████████| 1447/1447 [00:07<00:00, 199.44it/s]\n",
      "100%|██████████| 1381/1381 [00:07<00:00, 172.69it/s]\n"
     ]
    },
    {
     "name": "stdout",
     "output_type": "stream",
     "text": [
      "finish 63 with num of GBs 233, and collected num of GBs 2973\n"
     ]
    },
    {
     "name": "stderr",
     "output_type": "stream",
     "text": [
      "100%|██████████| 1429/1429 [00:06<00:00, 219.07it/s]\n",
      "100%|██████████| 1367/1367 [00:07<00:00, 174.85it/s]\n"
     ]
    },
    {
     "name": "stdout",
     "output_type": "stream",
     "text": [
      "finish 64 with num of GBs 233, and collected num of GBs 2983\n"
     ]
    },
    {
     "name": "stderr",
     "output_type": "stream",
     "text": [
      "100%|██████████| 1396/1396 [00:07<00:00, 195.43it/s]\n",
      "100%|██████████| 1356/1356 [00:08<00:00, 164.35it/s]\n"
     ]
    },
    {
     "name": "stdout",
     "output_type": "stream",
     "text": [
      "finish 65 with num of GBs 246, and collected num of GBs 2999\n"
     ]
    },
    {
     "name": "stderr",
     "output_type": "stream",
     "text": [
      "100%|██████████| 1381/1381 [00:06<00:00, 228.94it/s]\n",
      "100%|██████████| 1333/1333 [00:08<00:00, 160.05it/s]\n"
     ]
    },
    {
     "name": "stdout",
     "output_type": "stream",
     "text": [
      "finish 66 with num of GBs 247, and collected num of GBs 3011\n"
     ]
    },
    {
     "name": "stderr",
     "output_type": "stream",
     "text": [
      "100%|██████████| 1367/1367 [00:06<00:00, 209.41it/s]\n",
      "100%|██████████| 1318/1318 [00:07<00:00, 171.37it/s]\n"
     ]
    },
    {
     "name": "stdout",
     "output_type": "stream",
     "text": [
      "finish 67 with num of GBs 225, and collected num of GBs 3026\n"
     ]
    },
    {
     "name": "stderr",
     "output_type": "stream",
     "text": [
      "100%|██████████| 1356/1356 [00:06<00:00, 203.61it/s]\n",
      "100%|██████████| 1300/1300 [00:08<00:00, 160.48it/s]\n"
     ]
    },
    {
     "name": "stdout",
     "output_type": "stream",
     "text": [
      "finish 68 with num of GBs 237, and collected num of GBs 3036\n"
     ]
    },
    {
     "name": "stderr",
     "output_type": "stream",
     "text": [
      "100%|██████████| 1333/1333 [00:06<00:00, 199.11it/s]\n",
      "100%|██████████| 1269/1269 [00:06<00:00, 185.07it/s]\n"
     ]
    },
    {
     "name": "stdout",
     "output_type": "stream",
     "text": [
      "finish 69 with num of GBs 204, and collected num of GBs 3042\n"
     ]
    },
    {
     "name": "stderr",
     "output_type": "stream",
     "text": [
      "100%|██████████| 1318/1318 [00:06<00:00, 215.57it/s]\n",
      "100%|██████████| 1251/1251 [00:07<00:00, 178.50it/s]\n"
     ]
    },
    {
     "name": "stdout",
     "output_type": "stream",
     "text": [
      "finish 70 with num of GBs 208, and collected num of GBs 3050\n"
     ]
    },
    {
     "name": "stderr",
     "output_type": "stream",
     "text": [
      "100%|██████████| 1300/1300 [00:06<00:00, 202.21it/s]\n",
      "100%|██████████| 1247/1247 [00:07<00:00, 174.38it/s]\n"
     ]
    },
    {
     "name": "stdout",
     "output_type": "stream",
     "text": [
      "finish 71 with num of GBs 209, and collected num of GBs 3057\n"
     ]
    },
    {
     "name": "stderr",
     "output_type": "stream",
     "text": [
      "100%|██████████| 1269/1269 [00:05<00:00, 230.59it/s]\n",
      "100%|██████████| 1221/1221 [00:07<00:00, 171.63it/s]\n"
     ]
    },
    {
     "name": "stdout",
     "output_type": "stream",
     "text": [
      "finish 72 with num of GBs 208, and collected num of GBs 3064\n"
     ]
    },
    {
     "name": "stderr",
     "output_type": "stream",
     "text": [
      "100%|██████████| 1251/1251 [00:05<00:00, 223.77it/s]\n",
      "100%|██████████| 1205/1205 [00:05<00:00, 201.24it/s]\n"
     ]
    },
    {
     "name": "stdout",
     "output_type": "stream",
     "text": [
      "finish 73 with num of GBs 175, and collected num of GBs 3077\n"
     ]
    },
    {
     "name": "stderr",
     "output_type": "stream",
     "text": [
      "100%|██████████| 1247/1247 [00:05<00:00, 225.24it/s]\n",
      "100%|██████████| 1187/1187 [00:06<00:00, 180.77it/s]\n"
     ]
    },
    {
     "name": "stdout",
     "output_type": "stream",
     "text": [
      "finish 74 with num of GBs 192, and collected num of GBs 3086\n"
     ]
    },
    {
     "name": "stderr",
     "output_type": "stream",
     "text": [
      "100%|██████████| 1221/1221 [00:05<00:00, 213.36it/s]\n",
      "100%|██████████| 1161/1161 [00:05<00:00, 206.84it/s]\n"
     ]
    },
    {
     "name": "stdout",
     "output_type": "stream",
     "text": [
      "finish 75 with num of GBs 164, and collected num of GBs 3092\n"
     ]
    },
    {
     "name": "stderr",
     "output_type": "stream",
     "text": [
      "100%|██████████| 1205/1205 [00:04<00:00, 299.05it/s]\n",
      "100%|██████████| 1137/1137 [00:06<00:00, 183.86it/s]\n"
     ]
    },
    {
     "name": "stdout",
     "output_type": "stream",
     "text": [
      "finish 76 with num of GBs 181, and collected num of GBs 3102\n"
     ]
    },
    {
     "name": "stderr",
     "output_type": "stream",
     "text": [
      "100%|██████████| 1187/1187 [00:05<00:00, 232.32it/s]\n",
      "100%|██████████| 1114/1114 [00:06<00:00, 173.83it/s]\n"
     ]
    },
    {
     "name": "stdout",
     "output_type": "stream",
     "text": [
      "finish 77 with num of GBs 187, and collected num of GBs 3112\n"
     ]
    },
    {
     "name": "stderr",
     "output_type": "stream",
     "text": [
      "100%|██████████| 1161/1161 [00:04<00:00, 241.06it/s]\n",
      "100%|██████████| 1097/1097 [00:06<00:00, 168.03it/s]\n"
     ]
    },
    {
     "name": "stdout",
     "output_type": "stream",
     "text": [
      "finish 78 with num of GBs 191, and collected num of GBs 3119\n"
     ]
    },
    {
     "name": "stderr",
     "output_type": "stream",
     "text": [
      "100%|██████████| 1137/1137 [00:04<00:00, 238.28it/s]\n",
      "100%|██████████| 1084/1084 [00:06<00:00, 175.64it/s]\n"
     ]
    },
    {
     "name": "stdout",
     "output_type": "stream",
     "text": [
      "finish 79 with num of GBs 180, and collected num of GBs 3126\n"
     ]
    },
    {
     "name": "stderr",
     "output_type": "stream",
     "text": [
      "100%|██████████| 1114/1114 [00:04<00:00, 224.93it/s]\n",
      "100%|██████████| 1079/1079 [00:05<00:00, 194.95it/s]\n"
     ]
    },
    {
     "name": "stdout",
     "output_type": "stream",
     "text": [
      "finish 80 with num of GBs 162, and collected num of GBs 3136\n"
     ]
    },
    {
     "name": "stderr",
     "output_type": "stream",
     "text": [
      "100%|██████████| 1097/1097 [00:05<00:00, 208.56it/s]\n",
      "100%|██████████| 1062/1062 [00:05<00:00, 192.39it/s]\n"
     ]
    },
    {
     "name": "stdout",
     "output_type": "stream",
     "text": [
      "finish 81 with num of GBs 161, and collected num of GBs 3140\n"
     ]
    },
    {
     "name": "stderr",
     "output_type": "stream",
     "text": [
      "100%|██████████| 1084/1084 [00:04<00:00, 218.81it/s]\n",
      "100%|██████████| 1054/1054 [00:06<00:00, 168.33it/s]\n"
     ]
    },
    {
     "name": "stdout",
     "output_type": "stream",
     "text": [
      "finish 82 with num of GBs 183, and collected num of GBs 3154\n"
     ]
    },
    {
     "name": "stderr",
     "output_type": "stream",
     "text": [
      "100%|██████████| 1079/1079 [00:04<00:00, 243.53it/s]\n",
      "100%|██████████| 1032/1032 [00:06<00:00, 171.12it/s]\n"
     ]
    },
    {
     "name": "stdout",
     "output_type": "stream",
     "text": [
      "finish 83 with num of GBs 176, and collected num of GBs 3163\n"
     ]
    },
    {
     "name": "stderr",
     "output_type": "stream",
     "text": [
      "100%|██████████| 1062/1062 [00:04<00:00, 232.38it/s]\n",
      "100%|██████████| 1028/1028 [00:05<00:00, 184.22it/s]\n"
     ]
    },
    {
     "name": "stdout",
     "output_type": "stream",
     "text": [
      "finish 84 with num of GBs 163, and collected num of GBs 3178\n"
     ]
    },
    {
     "name": "stderr",
     "output_type": "stream",
     "text": [
      "100%|██████████| 1054/1054 [00:04<00:00, 222.40it/s]\n",
      "100%|██████████| 1020/1020 [00:05<00:00, 174.17it/s]\n"
     ]
    },
    {
     "name": "stdout",
     "output_type": "stream",
     "text": [
      "finish 85 with num of GBs 171, and collected num of GBs 3186\n"
     ]
    },
    {
     "name": "stderr",
     "output_type": "stream",
     "text": [
      "100%|██████████| 1032/1032 [00:04<00:00, 216.42it/s]\n",
      "100%|██████████| 1009/1009 [00:06<00:00, 164.73it/s]\n"
     ]
    },
    {
     "name": "stdout",
     "output_type": "stream",
     "text": [
      "finish 86 with num of GBs 179, and collected num of GBs 3193\n"
     ]
    },
    {
     "name": "stderr",
     "output_type": "stream",
     "text": [
      "100%|██████████| 1028/1028 [00:04<00:00, 240.85it/s]\n",
      "100%|██████████| 995/995 [00:05<00:00, 174.66it/s]\n"
     ]
    },
    {
     "name": "stdout",
     "output_type": "stream",
     "text": [
      "finish 87 with num of GBs 167, and collected num of GBs 3201\n"
     ]
    },
    {
     "name": "stderr",
     "output_type": "stream",
     "text": [
      "100%|██████████| 1020/1020 [00:04<00:00, 222.78it/s]\n",
      "100%|██████████| 986/986 [00:05<00:00, 186.84it/s]\n"
     ]
    },
    {
     "name": "stdout",
     "output_type": "stream",
     "text": [
      "finish 88 with num of GBs 157, and collected num of GBs 3209\n"
     ]
    },
    {
     "name": "stderr",
     "output_type": "stream",
     "text": [
      "100%|██████████| 1009/1009 [00:04<00:00, 221.53it/s]\n",
      "100%|██████████| 980/980 [00:05<00:00, 165.90it/s]\n"
     ]
    },
    {
     "name": "stdout",
     "output_type": "stream",
     "text": [
      "finish 89 with num of GBs 176, and collected num of GBs 3215\n"
     ]
    },
    {
     "name": "stderr",
     "output_type": "stream",
     "text": [
      "100%|██████████| 995/995 [00:04<00:00, 235.94it/s]\n",
      "100%|██████████| 969/969 [00:05<00:00, 170.43it/s]\n"
     ]
    },
    {
     "name": "stdout",
     "output_type": "stream",
     "text": [
      "finish 90 with num of GBs 169, and collected num of GBs 3219\n"
     ]
    },
    {
     "name": "stderr",
     "output_type": "stream",
     "text": [
      "100%|██████████| 986/986 [00:04<00:00, 228.22it/s]\n",
      "100%|██████████| 966/966 [00:05<00:00, 182.65it/s]\n"
     ]
    },
    {
     "name": "stdout",
     "output_type": "stream",
     "text": [
      "finish 91 with num of GBs 157, and collected num of GBs 3223\n"
     ]
    },
    {
     "name": "stderr",
     "output_type": "stream",
     "text": [
      "100%|██████████| 980/980 [00:04<00:00, 213.13it/s]\n",
      "100%|██████████| 950/950 [00:04<00:00, 190.62it/s]\n"
     ]
    },
    {
     "name": "stdout",
     "output_type": "stream",
     "text": [
      "finish 92 with num of GBs 148, and collected num of GBs 3229\n"
     ]
    },
    {
     "name": "stderr",
     "output_type": "stream",
     "text": [
      "100%|██████████| 969/969 [00:04<00:00, 227.63it/s]\n",
      "100%|██████████| 934/934 [00:04<00:00, 188.14it/s]\n"
     ]
    },
    {
     "name": "stdout",
     "output_type": "stream",
     "text": [
      "finish 93 with num of GBs 147, and collected num of GBs 3237\n"
     ]
    },
    {
     "name": "stderr",
     "output_type": "stream",
     "text": [
      "100%|██████████| 966/966 [00:04<00:00, 219.96it/s]\n",
      "100%|██████████| 933/933 [00:04<00:00, 209.88it/s]\n"
     ]
    },
    {
     "name": "stdout",
     "output_type": "stream",
     "text": [
      "finish 94 with num of GBs 132, and collected num of GBs 3240\n"
     ]
    },
    {
     "name": "stderr",
     "output_type": "stream",
     "text": [
      "100%|██████████| 950/950 [00:03<00:00, 238.13it/s]\n",
      "100%|██████████| 919/919 [00:04<00:00, 195.29it/s]\n"
     ]
    },
    {
     "name": "stdout",
     "output_type": "stream",
     "text": [
      "finish 95 with num of GBs 139, and collected num of GBs 3246\n"
     ]
    },
    {
     "name": "stderr",
     "output_type": "stream",
     "text": [
      "100%|██████████| 934/934 [00:03<00:00, 244.54it/s]\n",
      "100%|██████████| 895/895 [00:04<00:00, 198.05it/s]\n"
     ]
    },
    {
     "name": "stdout",
     "output_type": "stream",
     "text": [
      "finish 96 with num of GBs 134, and collected num of GBs 3252\n"
     ]
    },
    {
     "name": "stderr",
     "output_type": "stream",
     "text": [
      "100%|██████████| 933/933 [00:03<00:00, 254.85it/s]\n",
      "100%|██████████| 898/898 [00:04<00:00, 220.34it/s]\n"
     ]
    },
    {
     "name": "stdout",
     "output_type": "stream",
     "text": [
      "finish 97 with num of GBs 121, and collected num of GBs 3259\n"
     ]
    },
    {
     "name": "stderr",
     "output_type": "stream",
     "text": [
      "100%|██████████| 919/919 [00:03<00:00, 269.53it/s]\n",
      "100%|██████████| 879/879 [00:04<00:00, 211.48it/s]\n"
     ]
    },
    {
     "name": "stdout",
     "output_type": "stream",
     "text": [
      "finish 98 with num of GBs 123, and collected num of GBs 3265\n"
     ]
    },
    {
     "name": "stderr",
     "output_type": "stream",
     "text": [
      "100%|██████████| 895/895 [00:03<00:00, 278.69it/s]\n",
      "100%|██████████| 874/874 [00:05<00:00, 173.58it/s]\n"
     ]
    },
    {
     "name": "stdout",
     "output_type": "stream",
     "text": [
      "finish 99 with num of GBs 149, and collected num of GBs 3274\n"
     ]
    },
    {
     "name": "stderr",
     "output_type": "stream",
     "text": [
      "100%|██████████| 898/898 [00:03<00:00, 279.57it/s]\n",
      "100%|██████████| 869/869 [00:04<00:00, 191.87it/s]\n"
     ]
    },
    {
     "name": "stdout",
     "output_type": "stream",
     "text": [
      "finish 100 with num of GBs 134, and collected num of GBs 3279\n"
     ]
    },
    {
     "name": "stderr",
     "output_type": "stream",
     "text": [
      "100%|██████████| 879/879 [00:03<00:00, 281.17it/s]\n",
      "100%|██████████| 855/855 [00:04<00:00, 172.84it/s]\n"
     ]
    },
    {
     "name": "stdout",
     "output_type": "stream",
     "text": [
      "finish 101 with num of GBs 147, and collected num of GBs 3290\n"
     ]
    },
    {
     "name": "stderr",
     "output_type": "stream",
     "text": [
      "100%|██████████| 874/874 [00:03<00:00, 230.13it/s]\n",
      "100%|██████████| 843/843 [00:04<00:00, 203.25it/s]\n"
     ]
    },
    {
     "name": "stdout",
     "output_type": "stream",
     "text": [
      "finish 102 with num of GBs 123, and collected num of GBs 3294\n"
     ]
    },
    {
     "name": "stderr",
     "output_type": "stream",
     "text": [
      "100%|██████████| 869/869 [00:03<00:00, 231.78it/s]\n",
      "100%|██████████| 835/835 [00:04<00:00, 170.97it/s]\n"
     ]
    },
    {
     "name": "stdout",
     "output_type": "stream",
     "text": [
      "finish 103 with num of GBs 145, and collected num of GBs 3296\n"
     ]
    },
    {
     "name": "stderr",
     "output_type": "stream",
     "text": [
      "100%|██████████| 855/855 [00:03<00:00, 220.08it/s]\n",
      "100%|██████████| 837/837 [00:04<00:00, 200.66it/s]\n"
     ]
    },
    {
     "name": "stdout",
     "output_type": "stream",
     "text": [
      "finish 104 with num of GBs 124, and collected num of GBs 3298\n"
     ]
    },
    {
     "name": "stderr",
     "output_type": "stream",
     "text": [
      "100%|██████████| 843/843 [00:03<00:00, 267.26it/s]\n",
      "100%|██████████| 829/829 [00:04<00:00, 173.68it/s]\n"
     ]
    },
    {
     "name": "stdout",
     "output_type": "stream",
     "text": [
      "finish 105 with num of GBs 142, and collected num of GBs 3305\n"
     ]
    },
    {
     "name": "stderr",
     "output_type": "stream",
     "text": [
      "100%|██████████| 835/835 [00:04<00:00, 206.06it/s]\n",
      "100%|██████████| 817/817 [00:03<00:00, 205.63it/s]\n"
     ]
    },
    {
     "name": "stdout",
     "output_type": "stream",
     "text": [
      "finish 106 with num of GBs 118, and collected num of GBs 3312\n"
     ]
    },
    {
     "name": "stderr",
     "output_type": "stream",
     "text": [
      "100%|██████████| 837/837 [00:03<00:00, 261.92it/s]\n",
      "100%|██████████| 815/815 [00:04<00:00, 170.65it/s]\n"
     ]
    },
    {
     "name": "stdout",
     "output_type": "stream",
     "text": [
      "finish 107 with num of GBs 142, and collected num of GBs 3323\n"
     ]
    },
    {
     "name": "stderr",
     "output_type": "stream",
     "text": [
      "100%|██████████| 829/829 [00:03<00:00, 222.88it/s]\n",
      "100%|██████████| 815/815 [00:04<00:00, 184.56it/s]\n"
     ]
    },
    {
     "name": "stdout",
     "output_type": "stream",
     "text": [
      "finish 108 with num of GBs 131, and collected num of GBs 3328\n"
     ]
    },
    {
     "name": "stderr",
     "output_type": "stream",
     "text": [
      "100%|██████████| 817/817 [00:03<00:00, 266.07it/s]\n",
      "100%|██████████| 806/806 [00:04<00:00, 166.16it/s]\n"
     ]
    },
    {
     "name": "stdout",
     "output_type": "stream",
     "text": [
      "finish 109 with num of GBs 144, and collected num of GBs 3333\n"
     ]
    },
    {
     "name": "stderr",
     "output_type": "stream",
     "text": [
      "100%|██████████| 815/815 [00:03<00:00, 228.89it/s]\n",
      "100%|██████████| 798/798 [00:04<00:00, 194.48it/s]\n"
     ]
    },
    {
     "name": "stdout",
     "output_type": "stream",
     "text": [
      "finish 110 with num of GBs 122, and collected num of GBs 3335\n"
     ]
    },
    {
     "name": "stderr",
     "output_type": "stream",
     "text": [
      "100%|██████████| 815/815 [00:03<00:00, 231.17it/s]\n",
      "100%|██████████| 793/793 [00:04<00:00, 177.00it/s]\n"
     ]
    },
    {
     "name": "stdout",
     "output_type": "stream",
     "text": [
      "finish 111 with num of GBs 133, and collected num of GBs 3338\n"
     ]
    },
    {
     "name": "stderr",
     "output_type": "stream",
     "text": [
      "100%|██████████| 806/806 [00:03<00:00, 220.21it/s]\n",
      "100%|██████████| 783/783 [00:04<00:00, 190.38it/s]\n"
     ]
    },
    {
     "name": "stdout",
     "output_type": "stream",
     "text": [
      "finish 112 with num of GBs 122, and collected num of GBs 3339\n"
     ]
    },
    {
     "name": "stderr",
     "output_type": "stream",
     "text": [
      "100%|██████████| 798/798 [00:03<00:00, 248.75it/s]\n",
      "100%|██████████| 781/781 [00:04<00:00, 174.64it/s]\n"
     ]
    },
    {
     "name": "stdout",
     "output_type": "stream",
     "text": [
      "finish 113 with num of GBs 130, and collected num of GBs 3341\n"
     ]
    },
    {
     "name": "stderr",
     "output_type": "stream",
     "text": [
      "100%|██████████| 793/793 [00:03<00:00, 208.78it/s]\n",
      "100%|██████████| 780/780 [00:04<00:00, 180.58it/s]\n"
     ]
    },
    {
     "name": "stdout",
     "output_type": "stream",
     "text": [
      "finish 114 with num of GBs 126, and collected num of GBs 3345\n"
     ]
    },
    {
     "name": "stderr",
     "output_type": "stream",
     "text": [
      "100%|██████████| 783/783 [00:03<00:00, 246.82it/s]\n",
      "100%|██████████| 769/769 [00:03<00:00, 207.23it/s]\n"
     ]
    },
    {
     "name": "stdout",
     "output_type": "stream",
     "text": [
      "finish 115 with num of GBs 110, and collected num of GBs 3353\n"
     ]
    },
    {
     "name": "stderr",
     "output_type": "stream",
     "text": [
      "100%|██████████| 781/781 [00:03<00:00, 235.98it/s]\n",
      "100%|██████████| 762/762 [00:04<00:00, 164.96it/s]\n"
     ]
    },
    {
     "name": "stdout",
     "output_type": "stream",
     "text": [
      "finish 116 with num of GBs 137, and collected num of GBs 3354\n"
     ]
    },
    {
     "name": "stderr",
     "output_type": "stream",
     "text": [
      "100%|██████████| 780/780 [00:03<00:00, 259.94it/s]\n",
      "100%|██████████| 760/760 [00:03<00:00, 202.95it/s]\n"
     ]
    },
    {
     "name": "stdout",
     "output_type": "stream",
     "text": [
      "finish 117 with num of GBs 111, and collected num of GBs 3354\n"
     ]
    },
    {
     "name": "stderr",
     "output_type": "stream",
     "text": [
      "100%|██████████| 769/769 [00:02<00:00, 260.29it/s]\n",
      "100%|██████████| 744/744 [00:03<00:00, 189.40it/s]\n"
     ]
    },
    {
     "name": "stdout",
     "output_type": "stream",
     "text": [
      "finish 118 with num of GBs 117, and collected num of GBs 3354\n"
     ]
    },
    {
     "name": "stderr",
     "output_type": "stream",
     "text": [
      "100%|██████████| 762/762 [00:03<00:00, 208.50it/s]\n",
      "100%|██████████| 735/735 [00:04<00:00, 180.63it/s]\n"
     ]
    },
    {
     "name": "stdout",
     "output_type": "stream",
     "text": [
      "finish 119 with num of GBs 119, and collected num of GBs 3354\n"
     ]
    },
    {
     "name": "stderr",
     "output_type": "stream",
     "text": [
      "100%|██████████| 760/760 [00:03<00:00, 248.76it/s]\n"
     ]
    }
   ],
   "source": [
    "    time_interval = 30\n",
    "    # store all GB points, include curvature and anti-curvature(include randomness points)\n",
    "    GB_list_velocity_list = []\n",
    "    GB_list_curvature_list = []\n",
    "    GB_list_GBenergy_list = []\n",
    "    # store all GB point exclude anti-curvature randomness points\n",
    "    GB_list_velocity_list_exrandom = []\n",
    "    GB_list_curvature_list_exrandom = []\n",
    "    # store GB energy point exclude anti_c randomness points\n",
    "    GB_list_GBenergy_list_exrandom = []\n",
    "    # store anti-curvature GBs in dictionary\n",
    "    GB_id_focus = dict()\n",
    "    GB_id_focus_detail = dict()\n",
    "    GB_filter_kernel = [set(),set(),set(),set(),set()]\n",
    "    for time_step in range(step_num):\n",
    "        if time_step+1 >= step_num: continue\n",
    "        GB_list_velocity_list_tmp = []\n",
    "        GB_list_curvature_list_tmp = []\n",
    "        GB_list_GBenergy_list_tmp = []\n",
    "        GB_list_velocity_list_exrandom_tmp = []\n",
    "        GB_list_curvature_list_exrandom_tmp = []\n",
    "        GB_list_GBenergy_list_exrandom_tmp = []\n",
    "        key_set = set()\n",
    "        for key in tqdm(GB_infomation_dict_list[time_step]):\n",
    "            if GB_infomation_dict_list[time_step+1].get(key) is None: continue\n",
    "            if GB_infomation_dict_list[time_step][key][5] < 100: continue # remove small GBs\n",
    "            if abs(GB_infomation_dict_list[time_step][key][4]) < 0.0125: continue # remove low curvature\n",
    "            # Calculate dV\n",
    "            pair_id_pair = GB_infomation_dict_list[time_step][key][6:8]\n",
    "            growth_direction1 = (npy_file_aniso[time_step]==pair_id_pair[0])*(npy_file_aniso[time_step+1]==pair_id_pair[1])\n",
    "            growth_direction2 = (npy_file_aniso[time_step]==pair_id_pair[1])*(npy_file_aniso[time_step+1]==pair_id_pair[0])\n",
    "            dV = np.sum(growth_direction1)-np.sum(growth_direction2) # velocity with direction\n",
    "            # calculate velocity\n",
    "            velocity = dV/time_interval/(GB_infomation_dict_list[time_step][key][5]/2)\n",
    "            GB_list_velocity_list_tmp.append(velocity)\n",
    "            # keep curvature\n",
    "            current_curvature_value = GB_infomation_dict_list[time_step][key][4]\n",
    "            GB_list_curvature_list_tmp.append(current_curvature_value)\n",
    "            # keep GB energy\n",
    "            GB_list_GBenergy_list_tmp.append(GBenergy_information_dict_list[time_step][key][4])\n",
    "            \n",
    "            # keep anti-curvature GB info\n",
    "            if current_curvature_value*velocity<-0.0001: \n",
    "                key_set.add(key)\n",
    "                if time_step >= step_num-3: continue\n",
    "                if key in GB_id_focus: \n",
    "                    GB_id_focus[key] += 1\n",
    "                    GB_id_focus_detail[key].append(time_step)\n",
    "                else: \n",
    "                    GB_id_focus[key] = 1\n",
    "                    GB_id_focus_detail[key] = [time_step]\n",
    "        \n",
    "        # keep all GBs with GB length larger than 100\n",
    "        GB_list_velocity_list.append(GB_list_velocity_list_tmp)\n",
    "        GB_list_curvature_list.append(GB_list_curvature_list_tmp)\n",
    "        GB_list_GBenergy_list.append(GB_list_GBenergy_list_tmp)\n",
    "        \n",
    "        # filter the anti-curvature GB with 00100\n",
    "        GB_filter_kernel[0:4] = GB_filter_kernel[1:]\n",
    "        GB_filter_kernel[4] = key_set\n",
    "        filtered_set = GB_filter_kernel[2] - (GB_filter_kernel[0]|GB_filter_kernel[1]|GB_filter_kernel[3]|GB_filter_kernel[4])\n",
    "        for key in filtered_set: \n",
    "            GB_id_focus[key] -= 1\n",
    "            GB_id_focus_detail[key].remove(time_step-2)\n",
    "        print(f\"finish {time_step} with num of GBs {len(GB_list_velocity_list_tmp)}, and collected num of GBs {len(GB_id_focus)}\")\n",
    "        \n",
    "        # remove exclude data\n",
    "        if time_step < 2: continue\n",
    "        for key in tqdm(GB_infomation_dict_list[time_step-2]):\n",
    "            if GB_infomation_dict_list[time_step-1].get(key) is None: continue\n",
    "            if GB_infomation_dict_list[time_step-2][key][5] < 100: continue # remove small GBs\n",
    "            if key in filtered_set: continue # remove the randomness points\n",
    "            if abs(GB_infomation_dict_list[time_step-2][key][4]) < 0.0125: continue # remove low curvature\n",
    "            # Calculate dV\n",
    "            pair_id_pair = GB_infomation_dict_list[time_step-2][key][6:8]\n",
    "            growth_direction1 = (npy_file_aniso[time_step-2]==pair_id_pair[0])*(npy_file_aniso[time_step-1]==pair_id_pair[1])\n",
    "            growth_direction2 = (npy_file_aniso[time_step-2]==pair_id_pair[1])*(npy_file_aniso[time_step-1]==pair_id_pair[0])\n",
    "            dV = np.sum(growth_direction1)-np.sum(growth_direction2) # velocity with direction\n",
    "            # calculate velocity\n",
    "            velocity = dV/time_interval/(GB_infomation_dict_list[time_step-2][key][5]/2)\n",
    "            GB_list_velocity_list_exrandom_tmp.append(velocity)\n",
    "            # keep curvature\n",
    "            current_curvature_value = GB_infomation_dict_list[time_step-2][key][4]\n",
    "            GB_list_curvature_list_exrandom_tmp.append(current_curvature_value)\n",
    "            # keep GB energy\n",
    "            GB_list_GBenergy_list_exrandom_tmp.append(GBenergy_information_dict_list[time_step-2][key][4])\n",
    "        GB_list_velocity_list_exrandom.append(GB_list_velocity_list_exrandom_tmp)\n",
    "        GB_list_curvature_list_exrandom.append(GB_list_curvature_list_exrandom_tmp)\n",
    "        GB_list_GBenergy_list_exrandom.append(GB_list_GBenergy_list_exrandom_tmp)\n",
    "        \n",
    "    \n",
    "    # filter the anti-curvature GB with 00100\n",
    "    GB_id_focus_copy = GB_id_focus.copy()\n",
    "    for key in GB_id_focus_copy:\n",
    "        if GB_id_focus_copy[key] <=0:\n",
    "            GB_id_focus.pop(key)\n",
    "            GB_id_focus_detail.pop(key)\n",
    "            \n",
    "    # add the last two steps for exclude data\n",
    "    # GB_list_velocity_list_exrandom.extend(GB_list_velocity_list[-2:])\n",
    "    # GB_list_curvature_list_exrandom.extend(GB_list_curvature_list[-2:])\n",
    "    # GB_list_GBenergy_list_exrandom.extend(GB_list_GBenergy_list[-2:])\n",
    "            "
   ]
  },
  {
   "cell_type": "code",
   "execution_count": 6,
   "id": "260be9c8-e85f-4ad1-aa3f-e9044d4b9dbd",
   "metadata": {
    "tags": []
   },
   "outputs": [
    {
     "data": {
      "text/plain": [
       "3354"
      ]
     },
     "execution_count": 6,
     "metadata": {},
     "output_type": "execute_result"
    }
   ],
   "source": [
    "len(GB_id_focus_copy)"
   ]
  },
  {
   "cell_type": "code",
   "execution_count": 7,
   "id": "718362f0-b4ce-4839-afff-c0a4992d4187",
   "metadata": {},
   "outputs": [
    {
     "name": "stderr",
     "output_type": "stream",
     "text": [
      "100%|██████████| 22827/22827 [00:00<00:00, 1668991.69it/s]\n",
      "100%|██████████| 18957/18957 [00:00<00:00, 1536660.44it/s]\n",
      "100%|██████████| 16156/16156 [00:00<00:00, 75784.17it/s]\n",
      "100%|██████████| 13834/13834 [00:00<00:00, 25111.96it/s]\n",
      "100%|██████████| 11980/11980 [00:01<00:00, 9541.62it/s]\n",
      "100%|██████████| 10494/10494 [00:01<00:00, 6162.80it/s]\n",
      "100%|██████████| 9305/9305 [00:01<00:00, 5166.60it/s]\n",
      "100%|██████████| 8450/8450 [00:02<00:00, 3274.00it/s]\n",
      "100%|██████████| 7701/7701 [00:02<00:00, 3153.06it/s]\n",
      "100%|██████████| 7107/7107 [00:02<00:00, 2796.43it/s]\n",
      "100%|██████████| 6606/6606 [00:02<00:00, 3203.97it/s]\n",
      "100%|██████████| 6184/6184 [00:02<00:00, 2183.22it/s]\n",
      "100%|██████████| 5777/5777 [00:02<00:00, 2847.32it/s]\n",
      "100%|██████████| 5411/5411 [00:02<00:00, 2221.14it/s]\n",
      "100%|██████████| 5112/5112 [00:02<00:00, 1988.08it/s]\n",
      "100%|██████████| 4791/4791 [00:02<00:00, 1967.03it/s]\n",
      "100%|██████████| 4564/4564 [00:02<00:00, 1957.31it/s]\n",
      "100%|██████████| 4385/4385 [00:02<00:00, 2166.10it/s]\n",
      "100%|██████████| 4154/4154 [00:01<00:00, 2087.25it/s]\n",
      "100%|██████████| 3960/3960 [00:02<00:00, 1864.99it/s]\n",
      "100%|██████████| 3813/3813 [00:02<00:00, 1716.43it/s]\n",
      "100%|██████████| 3648/3648 [00:02<00:00, 1654.70it/s]\n",
      "100%|██████████| 3511/3511 [00:02<00:00, 1214.72it/s]\n",
      "100%|██████████| 3377/3377 [00:02<00:00, 1519.32it/s]\n",
      "100%|██████████| 3281/3281 [00:02<00:00, 1495.88it/s]\n",
      "100%|██████████| 3164/3164 [00:02<00:00, 1561.47it/s]\n",
      "100%|██████████| 3067/3067 [00:01<00:00, 1566.52it/s]\n",
      "100%|██████████| 2930/2930 [00:02<00:00, 1289.20it/s]\n",
      "100%|██████████| 2840/2840 [00:01<00:00, 1497.13it/s]\n",
      "100%|██████████| 2744/2744 [00:02<00:00, 1368.87it/s]\n",
      "100%|██████████| 2675/2675 [00:02<00:00, 1174.52it/s]\n",
      "100%|██████████| 2579/2579 [00:01<00:00, 1333.77it/s]\n",
      "100%|██████████| 2511/2511 [00:02<00:00, 1120.80it/s]\n",
      "100%|██████████| 2441/2441 [00:01<00:00, 1693.24it/s]\n",
      "100%|██████████| 2378/2378 [00:01<00:00, 1229.49it/s]\n",
      "100%|██████████| 2344/2344 [00:01<00:00, 1439.38it/s]\n",
      "100%|██████████| 2320/2320 [00:01<00:00, 1553.42it/s]\n",
      "100%|██████████| 2254/2254 [00:01<00:00, 1620.86it/s]\n",
      "100%|██████████| 2193/2193 [00:01<00:00, 1802.75it/s]\n",
      "100%|██████████| 2151/2151 [00:01<00:00, 1668.08it/s]\n",
      "100%|██████████| 2075/2075 [00:01<00:00, 1249.07it/s]\n",
      "100%|██████████| 2032/2032 [00:01<00:00, 1711.25it/s]\n",
      "100%|██████████| 1983/1983 [00:01<00:00, 1582.74it/s]\n",
      "100%|██████████| 1928/1928 [00:01<00:00, 1672.06it/s]\n",
      "100%|██████████| 1908/1908 [00:01<00:00, 1615.26it/s]\n",
      "100%|██████████| 1883/1883 [00:01<00:00, 1545.66it/s]\n",
      "100%|██████████| 1852/1852 [00:01<00:00, 1561.28it/s]\n",
      "100%|██████████| 1813/1813 [00:01<00:00, 1214.58it/s]\n",
      "100%|██████████| 1768/1768 [00:01<00:00, 1306.29it/s]\n",
      "100%|██████████| 1737/1737 [00:01<00:00, 1348.09it/s]\n",
      "100%|██████████| 1700/1700 [00:01<00:00, 1474.93it/s]\n",
      "100%|██████████| 1672/1672 [00:01<00:00, 1446.05it/s]\n",
      "100%|██████████| 1653/1653 [00:01<00:00, 1077.98it/s]\n",
      "100%|██████████| 1629/1629 [00:01<00:00, 1403.25it/s]\n",
      "100%|██████████| 1595/1595 [00:01<00:00, 1143.22it/s]\n",
      "100%|██████████| 1566/1566 [00:01<00:00, 1532.22it/s]\n",
      "100%|██████████| 1542/1542 [00:01<00:00, 1459.38it/s]\n",
      "100%|██████████| 1512/1512 [00:00<00:00, 1584.37it/s]\n",
      "100%|██████████| 1495/1495 [00:00<00:00, 1510.14it/s]\n",
      "100%|██████████| 1480/1480 [00:01<00:00, 1206.44it/s]\n",
      "100%|██████████| 1447/1447 [00:00<00:00, 1573.31it/s]\n",
      "100%|██████████| 1429/1429 [00:00<00:00, 1680.97it/s]\n",
      "100%|██████████| 1396/1396 [00:00<00:00, 1470.24it/s]\n",
      "100%|██████████| 1381/1381 [00:01<00:00, 1043.42it/s]\n",
      "100%|██████████| 1367/1367 [00:01<00:00, 1259.49it/s]\n",
      "100%|██████████| 1356/1356 [00:01<00:00, 1126.64it/s]\n",
      "100%|██████████| 1333/1333 [00:00<00:00, 1334.17it/s]\n",
      "100%|██████████| 1318/1318 [00:00<00:00, 1733.35it/s]\n",
      "100%|██████████| 1300/1300 [00:00<00:00, 1452.41it/s]\n",
      "100%|██████████| 1269/1269 [00:00<00:00, 1626.62it/s]\n",
      "100%|██████████| 1251/1251 [00:00<00:00, 1603.98it/s]\n",
      "100%|██████████| 1247/1247 [00:00<00:00, 1601.16it/s]\n",
      "100%|██████████| 1221/1221 [00:00<00:00, 1438.82it/s]\n",
      "100%|██████████| 1205/1205 [00:00<00:00, 2367.23it/s]\n",
      "100%|██████████| 1187/1187 [00:00<00:00, 1258.62it/s]\n",
      "100%|██████████| 1161/1161 [00:00<00:00, 1368.66it/s]\n",
      "100%|██████████| 1137/1137 [00:00<00:00, 1458.25it/s]\n",
      "100%|██████████| 1114/1114 [00:00<00:00, 1821.17it/s]\n",
      "100%|██████████| 1097/1097 [00:00<00:00, 2015.42it/s]\n",
      "100%|██████████| 1084/1084 [00:00<00:00, 1771.68it/s]\n",
      "100%|██████████| 1079/1079 [00:00<00:00, 1387.91it/s]\n",
      "100%|██████████| 1062/1062 [00:00<00:00, 1838.80it/s]\n",
      "100%|██████████| 1054/1054 [00:00<00:00, 1295.79it/s]\n",
      "100%|██████████| 1032/1032 [00:00<00:00, 2027.99it/s]\n",
      "100%|██████████| 1028/1028 [00:00<00:00, 1694.88it/s]\n",
      "100%|██████████| 1020/1020 [00:00<00:00, 1776.85it/s]\n",
      "100%|██████████| 1009/1009 [00:00<00:00, 1487.31it/s]\n",
      "100%|██████████| 995/995 [00:00<00:00, 1725.20it/s]\n",
      "100%|██████████| 986/986 [00:00<00:00, 2084.80it/s]\n",
      "100%|██████████| 980/980 [00:00<00:00, 1445.59it/s]\n",
      "100%|██████████| 969/969 [00:00<00:00, 1677.38it/s]\n",
      "100%|██████████| 966/966 [00:00<00:00, 2196.57it/s]\n",
      "100%|██████████| 950/950 [00:00<00:00, 1996.01it/s]\n",
      "100%|██████████| 934/934 [00:00<00:00, 2113.37it/s]\n",
      "100%|██████████| 933/933 [00:00<00:00, 1375.28it/s]\n",
      "100%|██████████| 919/919 [00:00<00:00, 2090.39it/s]\n",
      "100%|██████████| 895/895 [00:00<00:00, 1760.70it/s]\n",
      "100%|██████████| 898/898 [00:00<00:00, 4406.90it/s]\n",
      "100%|██████████| 879/879 [00:00<00:00, 2170.33it/s]\n",
      "100%|██████████| 874/874 [00:00<00:00, 1987.89it/s]\n",
      "100%|██████████| 869/869 [00:00<00:00, 1599.64it/s]\n",
      "100%|██████████| 855/855 [00:00<00:00, 1331.82it/s]\n",
      "100%|██████████| 843/843 [00:00<00:00, 1565.42it/s]\n",
      "100%|██████████| 835/835 [00:00<00:00, 1462.87it/s]\n",
      "100%|██████████| 837/837 [00:00<00:00, 1655.15it/s]\n",
      "100%|██████████| 829/829 [00:00<00:00, 1230.66it/s]\n",
      "100%|██████████| 817/817 [00:00<00:00, 1732.63it/s]\n",
      "100%|██████████| 815/815 [00:00<00:00, 2197.80it/s]\n",
      "100%|██████████| 815/815 [00:00<00:00, 1248.08it/s]\n",
      "100%|██████████| 806/806 [00:00<00:00, 1382.87it/s]\n",
      "100%|██████████| 798/798 [00:00<00:00, 1787.15it/s]\n",
      "100%|██████████| 793/793 [00:00<00:00, 2306.89it/s]\n",
      "100%|██████████| 783/783 [00:00<00:00, 2575.08it/s]\n",
      "100%|██████████| 781/781 [00:00<00:00, 2582.37it/s]\n",
      "100%|██████████| 780/780 [00:00<00:00, 1914.18it/s]\n",
      "100%|██████████| 769/769 [00:00<00:00, 1889.41it/s]\n",
      "100%|██████████| 762/762 [00:00<00:00, 1640.04it/s]\n",
      "100%|██████████| 760/760 [00:00<00:00, 2862.65it/s]\n",
      "100%|██████████| 744/744 [00:00<00:00, 858004.45it/s]\n",
      "100%|██████████| 735/735 [00:00<00:00, 888418.86it/s]\n"
     ]
    }
   ],
   "source": [
    "    time_interval = 30\n",
    "    # GB_list_velocity_list = []\n",
    "    GB_antic_list_velocity_list = []\n",
    "    GB_antic_list_GBenergy_list = []\n",
    "    GB_antic_list_anticNum_list = []\n",
    "    GB_id_unfocus_lowE_detail = dict()\n",
    "    for time_step in range(step_num):\n",
    "        if time_step+1 >= step_num: continue\n",
    "        for key in tqdm(GBenergy_information_dict_list[time_step]):\n",
    "            if GBenergy_information_dict_list[time_step+1].get(key) is None: continue\n",
    "            if GBenergy_information_dict_list[time_step][key][5] < 100: continue # remove small GBs\n",
    "            if abs(GB_infomation_dict_list[time_step][key][4]) < 0.0125: continue # remove low curvature\n",
    "            \n",
    "            # keep the GB with low energy and curvature behavior\n",
    "            if (GBenergy_information_dict_list[time_step][key][4]<0.4) and (key not in GB_id_focus_detail): # do we need to remove random here?\n",
    "                if key in GB_id_unfocus_lowE_detail:\n",
    "                    GB_id_unfocus_lowE_detail[key].append(time_step)\n",
    "                else:\n",
    "                    GB_id_unfocus_lowE_detail[key] = [time_step]\n",
    "            \n",
    "            # anti-curvature behavior list\n",
    "            if (key in GB_id_focus_detail) and (time_step in GB_id_focus_detail[key]):\n",
    "                # Calculate dV\n",
    "                pair_id_pair = GB_infomation_dict_list[time_step][key][6:8]\n",
    "                growth_direction1 = (npy_file_aniso[time_step]==pair_id_pair[0])*(npy_file_aniso[time_step+1]==pair_id_pair[1])\n",
    "                growth_direction2 = (npy_file_aniso[time_step]==pair_id_pair[1])*(npy_file_aniso[time_step+1]==pair_id_pair[0])\n",
    "                dV = np.sum(growth_direction1)-np.sum(growth_direction2) # velocity with direction\n",
    "                # calculate velocity\n",
    "                velocity = dV/time_interval/(GB_infomation_dict_list[time_step][key][5]/2)\n",
    "                # correct the sign of velocity\n",
    "                current_curvature_value = GB_infomation_dict_list[time_step][key][4]\n",
    "                if current_curvature_value < 0: GB_antic_list_velocity_list.append(-velocity)\n",
    "                else: GB_antic_list_velocity_list.append(velocity)\n",
    "                \n",
    "                GB_antic_list_GBenergy_list.append(GBenergy_information_dict_list[time_step][key][4])\n",
    "                GB_antic_list_anticNum_list.append(GB_id_focus[key])\n",
    "            \n",
    "        \n",
    "            "
   ]
  },
  {
   "cell_type": "code",
   "execution_count": 19,
   "id": "7f5ceda3-c17c-45ae-ad05-9aaab0112017",
   "metadata": {
    "tags": []
   },
   "outputs": [
    {
     "name": "stdout",
     "output_type": "stream",
     "text": [
      "The number of the GBs showing anti-curvature during whole simulations is 1216\n",
      "The ratio of anti-curvature GBs during whole simulations is 2.2550255915733253% in 53924 GBs\n",
      "dict_values([2, 2, 2, 2, 8, 2, 6, 2, 2, 10, 2, 2, 3, 3, 2, 3, 2, 3, 2, 4, 2, 3, 2, 17, 2, 3, 4, 2, 8, 2, 2, 2, 2, 2, 2, 3, 2, 2, 6, 12, 4, 5, 2, 2, 2, 2, 4, 2, 2, 4, 5, 2, 11, 2, 2, 2, 2, 7, 2, 2, 2, 3, 3, 2, 2, 2, 4, 3, 10, 7, 2, 4, 3, 2, 2, 2, 6, 2, 2, 2, 4, 6, 7, 2, 7, 2, 4, 8, 8, 3, 2, 3, 2, 2, 3, 2, 4, 2, 5, 2, 2, 2, 3, 2, 5, 4, 3, 2, 2, 2, 2, 2, 3, 3, 2, 3, 3, 3, 3, 6, 2, 4, 3, 2, 8, 2, 3, 4, 2, 2, 2, 6, 8, 2, 2, 15, 2, 2, 2, 5, 9, 2, 2, 3, 4, 4, 4, 4, 2, 2, 2, 4, 2, 2, 4, 2, 6, 2, 4, 9, 3, 6, 4, 2, 4, 2, 9, 2, 2, 4, 2, 8, 2, 2, 2, 7, 6, 4, 2, 4, 2, 3, 2, 2, 7, 2, 15, 2, 9, 2, 3, 7, 2, 2, 12, 2, 3, 2, 4, 2, 2, 2, 2, 2, 2, 3, 2, 2, 2, 2, 2, 2, 6, 4, 2, 3, 2, 3, 2, 5, 3, 2, 5, 4, 2, 2, 4, 2, 2, 2, 2, 11, 4, 2, 24, 5, 2, 2, 3, 2, 9, 8, 2, 2, 2, 2, 2, 3, 2, 2, 3, 2, 2, 2, 2, 2, 2, 2, 2, 2, 2, 2, 2, 3, 4, 2, 2, 2, 2, 2, 2, 2, 2, 4, 4, 2, 3, 2, 2, 2, 2, 2, 2, 4, 2, 2, 2, 2, 2, 2, 2, 2, 5, 4, 3, 2, 4, 2, 4, 2, 21, 2, 2, 6, 3, 3, 3, 2, 6, 2, 2, 2, 4, 2, 2, 2, 2, 2, 2, 4, 2, 2, 2, 2, 2, 2, 3, 2, 4, 4, 2, 5, 3, 6, 3, 2, 2, 6, 2, 2, 2, 2, 2, 5, 4, 2, 2, 5, 2, 4, 2, 6, 3, 6, 3, 3, 4, 2, 3, 2, 2, 4, 2, 2, 2, 8, 2, 2, 2, 5, 2, 2, 2, 2, 2, 12, 3, 3, 2, 2, 8, 2, 2, 2, 4, 4, 2, 2, 2, 4, 4, 6, 6, 5, 2, 2, 2, 2, 2, 2, 2, 2, 6, 2, 2, 2, 2, 2, 2, 4, 2, 2, 2, 4, 4, 4, 8, 11, 2, 2, 5, 5, 11, 8, 6, 2, 4, 4, 2, 2, 2, 4, 2, 2, 4, 2, 4, 2, 3, 10, 4, 5, 2, 2, 3, 2, 4, 2, 5, 2, 9, 6, 2, 6, 2, 2, 8, 3, 2, 2, 2, 2, 2, 4, 2, 2, 3, 2, 4, 5, 2, 4, 2, 6, 2, 2, 6, 3, 3, 8, 2, 2, 3, 4, 4, 4, 2, 3, 3, 3, 9, 2, 2, 2, 2, 2, 2, 2, 2, 2, 2, 2, 3, 2, 2, 4, 4, 6, 4, 2, 6, 2, 4, 2, 6, 2, 2, 2, 6, 2, 2, 6, 4, 2, 4, 8, 9, 2, 2, 3, 2, 6, 3, 3, 7, 5, 3, 8, 6, 2, 2, 6, 2, 3, 6, 3, 4, 2, 4, 3, 6, 4, 2, 2, 2, 2, 2, 2, 4, 2, 2, 2, 5, 2, 2, 11, 4, 2, 2, 2, 12, 2, 2, 2, 2, 4, 2, 4, 2, 3, 2, 2, 2, 8, 2, 2, 2, 2, 2, 3, 2, 2, 11, 8, 2, 2, 3, 7, 2, 6, 2, 2, 2, 2, 11, 5, 2, 2, 5, 2, 2, 6, 2, 2, 2, 5, 3, 2, 3, 5, 4, 9, 4, 2, 4, 9, 3, 2, 2, 3, 5, 2, 4, 2, 2, 8, 2, 13, 2, 3, 2, 4, 3, 12, 2, 2, 3, 2, 2, 2, 2, 2, 2, 4, 2, 6, 2, 4, 4, 2, 2, 2, 2, 2, 2, 2, 4, 2, 4, 2, 2, 2, 2, 2, 4, 2, 2, 2, 2, 4, 7, 6, 2, 2, 2, 8, 5, 2, 2, 6, 3, 5, 7, 3, 4, 9, 2, 6, 5, 3, 4, 9, 2, 2, 4, 2, 2, 2, 2, 2, 3, 2, 2, 2, 3, 2, 2, 2, 2, 2, 2, 2, 2, 2, 2, 3, 2, 5, 4, 2, 2, 2, 2, 2, 2, 4, 6, 6, 2, 2, 3, 3, 2, 2, 4, 2, 4, 2, 7, 2, 2, 6, 5, 2, 2, 5, 6, 2, 4, 2, 4, 6, 2, 2, 2, 2, 2, 2, 2, 4, 2, 2, 2, 2, 3, 2, 2, 5, 2, 2, 4, 6, 5, 2, 4, 2, 2, 5, 2, 3, 2, 2, 2, 2, 6, 2, 2, 2, 2, 5, 2, 3, 10, 6, 2, 4, 4, 4, 2, 3, 3, 2, 2, 5, 6, 3, 4, 2, 5, 12, 2, 4, 3, 2, 4, 2, 2, 2, 2, 3, 3, 2, 2, 3, 2, 3, 2, 2, 2, 5, 12, 2, 2, 5, 2, 2, 2, 2, 2, 2, 2, 4, 2, 6, 2, 2, 2, 2, 5, 2, 4, 2, 2, 4, 3, 4, 2, 2, 2, 4, 2, 2, 4, 2, 3, 3, 3, 2, 2, 5, 3, 2, 11, 3, 2, 2, 3, 2, 4, 4, 7, 3, 4, 3, 2, 5, 2, 4, 2, 2, 4, 2, 2, 2, 2, 2, 2, 2, 2, 2, 3, 3, 2, 2, 2, 3, 2, 6, 2, 2, 2, 2, 2, 11, 2, 2, 4, 2, 2, 2, 2, 4, 2, 2, 2, 4, 2, 2, 7, 6, 4, 2, 6, 2, 2, 7, 6, 2, 2, 2, 2, 4, 4, 3, 2, 3, 2, 2, 3, 2, 2, 2, 2, 2, 6, 3, 3, 2, 2, 2, 8, 3, 3, 4, 4, 4, 4, 4, 4, 3, 2, 8, 2, 3, 3, 2, 2, 4, 2, 4, 4, 5, 2, 5, 2, 4, 2, 4, 2, 2, 2, 2, 2, 2, 2, 4, 2, 2, 4, 2, 2, 2, 2, 2, 2, 2, 2, 3, 2, 3, 2, 2, 2, 2, 2, 2, 2, 4, 2, 2, 2, 2, 2, 7, 2, 2, 3, 2, 8, 5, 2, 1, 2, 4, 2, 4, 2, 2, 2, 7, 2, 2, 6, 3, 4, 7, 2, 2, 2, 2, 4, 4, 2, 2, 3, 2, 6, 2, 6, 2, 2, 6, 2, 6, 4, 4, 2, 2, 4, 5, 2, 5, 6, 2, 3, 4, 2, 6, 2, 7, 3, 3, 1, 4, 6, 6, 2, 2, 8, 2, 2, 2, 2, 2, 2, 3, 2, 5, 7, 2, 2, 2, 2, 6, 2, 9, 3, 2, 4, 10, 2, 4, 2, 2, 2, 2, 2, 3, 2, 5, 4, 2, 9, 5, 2, 2, 2, 5, 1, 3, 2, 2, 4, 4, 2, 2, 2, 2, 3, 2, 2, 3, 2, 3, 2, 2, 2, 2, 2, 2, 4, 2, 3, 3, 4, 2, 2, 2, 7, 2, 2, 2, 4, 4, 2, 2, 2, 4, 5, 2, 2, 3, 4, 5, 2, 4, 7, 2, 5, 2, 2, 2, 4, 2, 3, 2, 2, 10, 8, 2, 3, 2, 2, 2, 4, 7, 2, 2, 2, 2, 2, 4, 2, 2, 2, 2])\n"
     ]
    }
   ],
   "source": [
    "    total_GB = set()\n",
    "    for time_step in range(step_num):\n",
    "        step_GB = GB_infomation_dict_list[time_step].keys()\n",
    "        total_GB = total_GB | step_GB\n",
    "\n",
    "    print(f\"The number of the GBs showing anti-curvature during whole simulations is {len(GB_id_focus.values())}\")\n",
    "    print(f\"The ratio of anti-curvature GBs during whole simulations is {len(GB_id_focus.values())/len(total_GB)*100}% in {len(total_GB)} GBs\")\n",
    "    print(GB_id_focus.values())"
   ]
  },
  {
   "cell_type": "code",
   "execution_count": 9,
   "id": "d0ab6eb5-e9db-4284-af1f-0d8741b3f3b8",
   "metadata": {
    "tags": []
   },
   "outputs": [
    {
     "data": {
      "text/plain": [
       "120"
      ]
     },
     "execution_count": 9,
     "metadata": {},
     "output_type": "execute_result"
    }
   ],
   "source": [
    "len(GB_list_velocity_list)"
   ]
  },
  {
   "cell_type": "code",
   "execution_count": 10,
   "id": "7e609b22-de14-4273-867b-60249af30047",
   "metadata": {},
   "outputs": [
    {
     "data": {
      "text/plain": [
       "<Figure size 432x288 with 0 Axes>"
      ]
     },
     "metadata": {},
     "output_type": "display_data"
    },
    {
     "data": {
      "image/png": "[encoded data removed]",
      "text/plain": [
       "<Figure size 504x504 with 1 Axes>"
      ]
     },
     "metadata": {
      "needs_background": "light"
     },
     "output_type": "display_data"
    },
    {
     "data": {
      "text/plain": [
       "<Figure size 432x288 with 0 Axes>"
      ]
     },
     "metadata": {},
     "output_type": "display_data"
    },
    {
     "data": {
      "image/png": "[encoded data removed]",
      "text/plain": [
       "<Figure size 504x504 with 1 Axes>"
      ]
     },
     "metadata": {
      "needs_background": "light"
     },
     "output_type": "display_data"
    }
   ],
   "source": [
    "    # All in 1 figrue\n",
    "    curvature_1Dlist_remove_0step = []\n",
    "    velocity_1Dlist_remove_0step = []\n",
    "    GBenergy_1Dlist_remove_0step = []\n",
    "    for i in range(0,len(GB_list_velocity_list)): \n",
    "        curvature_1Dlist_remove_0step.extend(GB_list_curvature_list[i])\n",
    "        velocity_1Dlist_remove_0step.extend(GB_list_velocity_list[i])\n",
    "        GBenergy_1Dlist_remove_0step.extend(GB_list_GBenergy_list[i])\n",
    "    curvature_1Dlist_exrandom_remove_0step = []\n",
    "    velocity_1Dlist_exrandom_remove_0step = []\n",
    "    GBenergy_1Dlist_exrandom_remove_0step = []\n",
    "    for i in range(0,len(GB_list_velocity_list_exrandom)): \n",
    "        curvature_1Dlist_exrandom_remove_0step.extend(GB_list_curvature_list_exrandom[i])\n",
    "        velocity_1Dlist_exrandom_remove_0step.extend(GB_list_velocity_list_exrandom[i])\n",
    "        GBenergy_1Dlist_exrandom_remove_0step.extend(GB_list_GBenergy_list_exrandom[i])\n",
    "    \n",
    "    # ignore the sign of curvature\n",
    "    for i in range(len(curvature_1Dlist_exrandom_remove_0step)):\n",
    "        if curvature_1Dlist_exrandom_remove_0step[i]<0: \n",
    "            curvature_1Dlist_exrandom_remove_0step[i] = - curvature_1Dlist_exrandom_remove_0step[i]\n",
    "            velocity_1Dlist_exrandom_remove_0step[i] = - velocity_1Dlist_exrandom_remove_0step[i]\n",
    "            \n",
    "    figure_name_all = f\"figures/2D_velocity_signedcurvature_{case_name}_5d.png\"\n",
    "    plt.figure()\n",
    "    fig = plt.figure(figsize=(7, 7))\n",
    "    plt.scatter(curvature_1Dlist_exrandom_remove_0step, velocity_1Dlist_exrandom_remove_0step,s=4,alpha=0.5)\n",
    "    plt.xlabel(\"curvature\", fontsize=18)\n",
    "    plt.ylabel(\"velocity (voxel/step)\", fontsize=18)\n",
    "    plt.xlim([0.0125,0.1])\n",
    "    plt.ylim([-0.6,0.6])\n",
    "    plt.savefig(figure_name_all, dpi=400,bbox_inches='tight')\n",
    "    \n",
    "    # plot velocity VS averaged curvature\n",
    "    bin_interval = 0.001\n",
    "    x_lim = [0.0,0.1]\n",
    "    bin_number = int((x_lim[1]-x_lim[0])/bin_interval)\n",
    "    curvature_coordinate = np.arange(x_lim[0],x_lim[1],bin_interval)+bin_interval/2\n",
    "\n",
    "    curvature_bin = np.zeros(bin_number)\n",
    "    velocity_bin = np.zeros(bin_number)\n",
    "    for index in range(len(curvature_1Dlist_exrandom_remove_0step)):\n",
    "        if abs(curvature_1Dlist_exrandom_remove_0step[index])>=0.1: continue\n",
    "        curvature_bin[int((curvature_1Dlist_exrandom_remove_0step[index]-x_lim[0])//bin_interval)] += 1\n",
    "        velocity_bin[int((curvature_1Dlist_exrandom_remove_0step[index]-x_lim[0])//bin_interval)] += velocity_1Dlist_exrandom_remove_0step[index]\n",
    "    for i in range(bin_number): \n",
    "        if curvature_bin[i]>0: velocity_bin[i] = velocity_bin[i]/curvature_bin[i]\n",
    "    # plot\n",
    "    figure_name_all_bin = f\"figures/2D_velocity_signedcurvature_{case_name}_5d_afterBin.png\"\n",
    "    plt.figure()\n",
    "    fig = plt.figure(figsize=(7, 7))\n",
    "    # plt.scatter(curvature_coordinate, velocity_bin,s=4,alpha=0.5)\n",
    "    plt.xlim([0.0125,0.1])\n",
    "    plt.ylim([-0.2,0.2])\n",
    "    plt.plot(curvature_coordinate[velocity_bin!=0], velocity_bin[velocity_bin!=0],'o', linewidth=2)\n",
    "    plt.xlabel(\"curvature\", fontsize=18)\n",
    "    plt.ylabel(\"velocity (voxel/step)\", fontsize=18)\n",
    "    plt.savefig(figure_name_all_bin, dpi=400,bbox_inches='tight')\n"
   ]
  },
  {
   "cell_type": "code",
   "execution_count": null,
   "id": "ab3df0f3-67dc-4928-83c6-f47b3703dc81",
   "metadata": {
    "tags": []
   },
   "outputs": [],
   "source": []
  },
  {
   "cell_type": "code",
   "execution_count": 11,
   "id": "96aaa591-4902-4adc-bee7-240d3ade3fef",
   "metadata": {
    "tags": []
   },
   "outputs": [
    {
     "name": "stdout",
     "output_type": "stream",
     "text": [
      "2.719640098563693\n"
     ]
    },
    {
     "data": {
      "text/plain": [
       "Text(0, 0.5, 'num of site')"
      ]
     },
     "execution_count": 11,
     "metadata": {},
     "output_type": "execute_result"
    },
    {
     "data": {
      "text/plain": [
       "<Figure size 432x288 with 0 Axes>"
      ]
     },
     "metadata": {},
     "output_type": "display_data"
    },
    {
     "data": {
      "image/png": "[encoded data removed]",
      "text/plain": [
       "<Figure size 504x504 with 1 Axes>"
      ]
     },
     "metadata": {
      "needs_background": "light"
     },
     "output_type": "display_data"
    },
    {
     "data": {
      "text/plain": [
       "<Figure size 432x288 with 0 Axes>"
      ]
     },
     "metadata": {},
     "output_type": "display_data"
    },
    {
     "data": {
      "image/png": "[encoded data removed]",
      "text/plain": [
       "<Figure size 504x504 with 1 Axes>"
      ]
     },
     "metadata": {
      "needs_background": "light"
     },
     "output_type": "display_data"
    },
    {
     "data": {
      "text/plain": [
       "<Figure size 432x288 with 0 Axes>"
      ]
     },
     "metadata": {},
     "output_type": "display_data"
    },
    {
     "data": {
      "image/png": "[encoded data removed]",
      "text/plain": [
       "<Figure size 504x504 with 1 Axes>"
      ]
     },
     "metadata": {
      "needs_background": "light"
     },
     "output_type": "display_data"
    },
    {
     "data": {
      "text/plain": [
       "<Figure size 432x288 with 0 Axes>"
      ]
     },
     "metadata": {},
     "output_type": "display_data"
    },
    {
     "data": {
      "image/png": "[encoded data removed]",
      "text/plain": [
       "<Figure size 504x504 with 1 Axes>"
      ]
     },
     "metadata": {
      "needs_background": "light"
     },
     "output_type": "display_data"
    },
    {
     "data": {
      "text/plain": [
       "<Figure size 432x288 with 0 Axes>"
      ]
     },
     "metadata": {},
     "output_type": "display_data"
    },
    {
     "data": {
      "image/png": "[encoded data removed]",
      "text/plain": [
       "<Figure size 504x504 with 1 Axes>"
      ]
     },
     "metadata": {
      "needs_background": "light"
     },
     "output_type": "display_data"
    }
   ],
   "source": [
    "\n",
    "    figure_name_all = f\"figures/2D_velocity_GBenergy_{case_name}_5d.png\"\n",
    "    plt.figure()\n",
    "    fig = plt.figure(figsize=(7, 7))\n",
    "    plt.scatter(GBenergy_1Dlist_exrandom_remove_0step, velocity_1Dlist_exrandom_remove_0step,s=4,alpha=0.5,label='All GBs')\n",
    "    GB_antic_list_GBenergy_list = np.array(GB_antic_list_GBenergy_list)\n",
    "    GB_antic_list_velocity_list = np.array(GB_antic_list_velocity_list)\n",
    "    GB_antic_list_anticNum_array = np.array(GB_antic_list_anticNum_list)\n",
    "    plt.scatter(GB_antic_list_GBenergy_list[GB_antic_list_anticNum_array>=5], GB_antic_list_velocity_list[GB_antic_list_anticNum_array>=5],s=4,alpha=0.5,label='anti-c GBs(5 steps)')\n",
    "    plt.xlabel(\"GB energy\", fontsize=18)\n",
    "    plt.ylabel(\"velocity (voxel/step)\", fontsize=18)\n",
    "    plt.xlim([0.3,1.0])\n",
    "    plt.ylim([-0.6,0.6])\n",
    "    plt.legend(fontsize=18)\n",
    "    plt.savefig(figure_name_all, dpi=400,bbox_inches='tight')\n",
    "    \n",
    "    # plot velocity VS averaged GBenergy\n",
    "    bin_interval = 0.01\n",
    "    x_lim = [0.25,1.0]\n",
    "    bin_number = int((x_lim[1]-x_lim[0])/bin_interval)\n",
    "    GBenergy_coordinate = np.arange(x_lim[0],x_lim[1],bin_interval)+bin_interval/2\n",
    "\n",
    "    GBenergy_bin = np.zeros(bin_number)\n",
    "    velocity_bin = np.zeros(bin_number)\n",
    "    antic_num_bin = np.zeros(bin_number)\n",
    "    for index in range(len(GBenergy_1Dlist_exrandom_remove_0step)):\n",
    "        if abs(GBenergy_1Dlist_exrandom_remove_0step[index])>=1.0: continue\n",
    "        GBenergy_bin[int((GBenergy_1Dlist_exrandom_remove_0step[index]-x_lim[0])//bin_interval)] += 1\n",
    "        velocity_bin[int((GBenergy_1Dlist_exrandom_remove_0step[index]-x_lim[0])//bin_interval)] += velocity_1Dlist_exrandom_remove_0step[index]\n",
    "        if velocity_1Dlist_exrandom_remove_0step[index] < 0: antic_num_bin[int((GBenergy_1Dlist_exrandom_remove_0step[index]-x_lim[0])//bin_interval)] += 1\n",
    "        if int((GBenergy_1Dlist_exrandom_remove_0step[index]-x_lim[0])//bin_interval)<0: print(GBenergy_1Dlist_exrandom_remove_0step[index])\n",
    "    for i in range(bin_number): \n",
    "        if GBenergy_bin[i]>0: velocity_bin[i] = velocity_bin[i]/GBenergy_bin[i]\n",
    "    # plot\n",
    "    figure_name_all_bin = f\"figures/2D_velocity_GBenergy_{case_name}_5d_afterBin.png\"\n",
    "    plt.figure()\n",
    "    fig = plt.figure(figsize=(7, 7))\n",
    "    # plt.scatter(GBenergy_coordinate, velocity_bin,s=4,alpha=0.5)\n",
    "    plt.xlim([0.3,1.0])\n",
    "    plt.ylim([-0.2,0.2])\n",
    "    plt.plot(GBenergy_coordinate[velocity_bin!=0], velocity_bin[velocity_bin!=0],'o', linewidth=2)\n",
    "    plt.xlabel(\"GB energy\", fontsize=18)\n",
    "    plt.ylabel(\"velocity (voxel/step)\", fontsize=18)\n",
    "    plt.savefig(figure_name_all_bin, dpi=400,bbox_inches='tight')\n",
    "    \n",
    "    plt.figure()\n",
    "    fig = plt.figure(figsize=(7, 7))\n",
    "    plt.xlim([0.3,1.0])\n",
    "    plt.ylim([0,0.15])\n",
    "    plt.plot(GBenergy_coordinate, GBenergy_bin/np.sum(GBenergy_bin),'-', linewidth=2)\n",
    "    plt.xlabel(\"GB energy\", fontsize=18)\n",
    "    plt.ylabel(\"distribution\", fontsize=18)\n",
    "    \n",
    "    antic_ratio_bin = np.zeros(bin_number)\n",
    "    for bin_i in range(len(GBenergy_bin)):\n",
    "        if GBenergy_bin[bin_i] > 0: antic_ratio_bin[bin_i] = antic_num_bin[bin_i]/GBenergy_bin[bin_i]\n",
    "    plt.figure()\n",
    "    fig = plt.figure(figsize=(7, 7))\n",
    "    plt.xlim([0.3,1.0])\n",
    "    plt.ylim([0,0.5])\n",
    "    plt.plot(GBenergy_coordinate[antic_ratio_bin>0], antic_ratio_bin[antic_ratio_bin>0],'o', linewidth=2)\n",
    "    plt.xlabel(\"GB energy\", fontsize=18)\n",
    "    plt.ylabel(\"anti-c fraction\", fontsize=18)\n",
    "    \n",
    "    GBenergy_coordinate_larger0 = GBenergy_coordinate[antic_ratio_bin>0]\n",
    "    delta_n = -0.66*np.log(antic_ratio_bin[antic_ratio_bin>0])/GBenergy_coordinate[antic_ratio_bin>0]\n",
    "    mean_delta_n = np.mean(delta_n)\n",
    "    mean_delta_n_2 = np.sum(delta_n*GBenergy_bin[antic_ratio_bin>0]/np.sum(GBenergy_bin[antic_ratio_bin>0]))\n",
    "    print(mean_delta_n_2)\n",
    "    plt.figure()\n",
    "    fig = plt.figure(figsize=(7, 7))\n",
    "    plt.xlim([0.3,1.0])\n",
    "    plt.ylim([0,5])\n",
    "    plt.plot(GBenergy_coordinate_larger0, delta_n,'o', linewidth=2, label = 'results')\n",
    "    plt.plot(GBenergy_coordinate_larger0, mean_delta_n*np.ones(len(GBenergy_coordinate_larger0)),'--',linewidth=2,color='gray',label=f'mean-{round(mean_delta_n,2)}')\n",
    "    plt.legend(fontsize=18)\n",
    "    plt.xlabel(\"GB energy\", fontsize=18)\n",
    "    plt.ylabel(\"num of site\", fontsize=18)\n",
    "        \n"
   ]
  },
  {
   "cell_type": "code",
   "execution_count": 15,
   "id": "2501136d-68e1-40d1-b2b9-f783e9c8309e",
   "metadata": {},
   "outputs": [
    {
     "name": "stdout",
     "output_type": "stream",
     "text": [
      "The theta is 1.7639639639639642 rads or 101.06769034830198\n",
      "The radius is 1.85636344617276 and curvature is 0.5386876164049054\n"
     ]
    },
    {
     "data": {
      "image/png": "[encoded data removed]",
      "text/plain": [
       "<Figure size 432x288 with 1 Axes>"
      ]
     },
     "metadata": {
      "needs_background": "light"
     },
     "output_type": "display_data"
    }
   ],
   "source": [
    "def equation(theta):\n",
    "    return 4.5/np.sin(theta)*(1-np.cos(theta)) + 2.25/(np.sin(theta)**2)*(np.sin(theta)*np.cos(theta)-theta)\n",
    "\n",
    "def equation2(theta,delta_site=2.6):\n",
    "    diff = (9-delta_site)/2\n",
    "    return 2.25/((1+np.cos(theta))**2)*(np.pi-theta+np.sin(theta)*np.cos(theta))-diff\n",
    "\n",
    "x_list = np.linspace(1,2.2,1000)\n",
    "y_list = np.zeros(100)\n",
    "\n",
    "y_list = equation2(x_list,0.8)\n",
    "\n",
    "plt.plot(x_list,y_list)\n",
    "theta_expect = x_list[np.argmin(abs(y_list))]\n",
    "print(f\"The theta is {theta_expect} rads or {theta_expect/np.pi*180}\")\n",
    "print(f\"The radius is {1.5/(1+np.cos(theta_expect))} and curvature is {(1+np.cos(theta_expect))/1.5}\")"
   ]
  },
  {
   "cell_type": "code",
   "execution_count": null,
   "id": "13a7f4f9-b3f9-40f2-84ff-e2ac93990cc4",
   "metadata": {
    "tags": []
   },
   "outputs": [],
   "source": []
  },
  {
   "cell_type": "code",
   "execution_count": 94,
   "id": "21b813f5-daa4-484e-a6c2-418239a0ccf4",
   "metadata": {},
   "outputs": [],
   "source": [
    "    # Plot relationship for each time steps\n",
    "    for time_step in range(0,len(GB_list_velocity_list),10):\n",
    "        figure_name = f\"figures/2D_velocity_signedcurvature_MI_step{time_step}_{case_name}.png\"\n",
    "        plt.figure()\n",
    "        fig = plt.figure(figsize=(7, 7))\n",
    "        plt.scatter(GB_list_curvature_list[time_step], GB_list_velocity_list[time_step],s=4,alpha=0.5)\n",
    "        plt.xlabel(\"curvature\", fontsize=18)\n",
    "        plt.ylabel(\"velocity (voxel/step)\", fontsize=18)\n",
    "        plt.xlim([-0.6,0.6])\n",
    "        plt.ylim([-10,10])\n",
    "        # plt.savefig(figure_name, dpi=400,bbox_inches='tight')\n",
    "        \n",
    "        # plot velocity VS averaged curvature\n",
    "        bin_interval = 0.001\n",
    "        bin_number = int(1.2/bin_interval)\n",
    "        curvature_coordinate = np.arange(-0.6,0.6,bin_interval)+bin_interval/2\n",
    "\n",
    "        curvature_bin = np.zeros(bin_number)\n",
    "        velocity_bin = np.zeros(bin_number)\n",
    "        for index in range(len(GB_list_curvature_list[time_step])):\n",
    "            if abs(GB_list_curvature_list[time_step][index])>0.6: continue\n",
    "            curvature_bin[int((GB_list_curvature_list[time_step][index]+0.6)//bin_interval)] += 1\n",
    "            velocity_bin[int((GB_list_curvature_list[time_step][index]+0.6)//bin_interval)] += GB_list_velocity_list[time_step][index]\n",
    "        for i in range(bin_number): \n",
    "            if curvature_bin[i]>0: velocity_bin[i] = velocity_bin[i]/curvature_bin[i]\n",
    "        # plot\n",
    "        figure_name_all_bin = f\"figures/2D_velocity_signedcurvature_step{time_step}_{case_name}_afterBin.png\"\n",
    "        plt.figure()\n",
    "        fig = plt.figure(figsize=(7, 7))\n",
    "        # plt.scatter(curvature_coordinate, velocity_bin,s=4,alpha=0.5)\n",
    "        plt.plot(curvature_coordinate, velocity_bin,'o', linewidth=2)\n",
    "        plt.xlabel(\"curvature\", fontsize=18)\n",
    "        plt.ylabel(\"velocity (voxel/step)\", fontsize=18)\n",
    "        plt.xlim([-0.6,0.6])\n",
    "        plt.ylim([-5,5])\n",
    "        # plt.savefig(figure_name_all_bin, dpi=400,bbox_inches='tight')"
   ]
  },
  {
   "cell_type": "code",
   "execution_count": null,
   "id": "47e6a561-4483-49d8-8ddd-f78e643a2ae1",
   "metadata": {},
   "outputs": [],
   "source": []
  },
  {
   "cell_type": "markdown",
   "id": "bba82fb0-9f73-48dc-8a89-0bbd9316c7a0",
   "metadata": {},
   "source": []
  },
  {
   "cell_type": "code",
   "execution_count": null,
   "id": "b6f0d347-fb1b-4010-a68f-cc171486d9c8",
   "metadata": {},
   "outputs": [],
   "source": []
  },
  {
   "cell_type": "code",
   "execution_count": null,
   "id": "63a608d4-8807-4dfc-b364-4f0e17d354de",
   "metadata": {
    "tags": []
   },
   "outputs": [],
   "source": []
  },
  {
   "cell_type": "code",
   "execution_count": null,
   "id": "c39770d2-4fd3-4661-b53b-b52437e4dacd",
   "metadata": {
    "tags": []
   },
   "outputs": [],
   "source": []
  },
  {
   "cell_type": "code",
   "execution_count": 17,
   "id": "0ef2391b-b155-42c1-b668-22cedf0227ce",
   "metadata": {
    "tags": []
   },
   "outputs": [
    {
     "name": "stdout",
     "output_type": "stream",
     "text": [
      "The longest anti-curvature behavior is 135601364 with steps 19\n",
      "The anti-curvature step 8 has velocity - -0.018 and curvature - 0.038.\n",
      "The anti-curvature step 10 has velocity - -0.04 and curvature - 0.018.\n",
      "The anti-curvature step 12 has velocity - -0.03 and curvature - 0.016.\n",
      "The anti-curvature step 14 has velocity - -0.016 and curvature - 0.001.\n",
      "The anti-curvature step 15 has velocity - -0.047 and curvature - 0.009.\n",
      "The anti-curvature step 19 has velocity - -0.112 and curvature - 0.018.\n",
      "The anti-curvature step 21 has velocity - -0.055 and curvature - 0.009.\n",
      "The anti-curvature step 24 has velocity - -0.008 and curvature - 0.007.\n",
      "The anti-curvature step 25 has velocity - -0.055 and curvature - 0.007.\n",
      "The anti-curvature step 29 has velocity - -0.018 and curvature - 0.013.\n",
      "The anti-curvature step 31 has velocity - -0.025 and curvature - 0.024.\n",
      "The anti-curvature step 33 has velocity - -0.067 and curvature - 0.036.\n",
      "The anti-curvature step 34 has velocity - -0.009 and curvature - 0.013.\n",
      "The anti-curvature step 35 has velocity - -0.005 and curvature - 0.01.\n",
      "The anti-curvature step 36 has velocity - -0.059 and curvature - 0.027.\n",
      "The anti-curvature step 37 has velocity - -0.033 and curvature - 0.003.\n",
      "The anti-curvature step 39 has velocity - -0.034 and curvature - 0.022.\n",
      "The anti-curvature step 40 has velocity - -0.036 and curvature - 0.01.\n",
      "The anti-curvature step 41 has velocity - -0.014 and curvature - 0.034.\n",
      "The anti-curvature step 42 has velocity - -0.07 and curvature - 0.021.\n",
      "The anti-curvature step 43 has velocity - -0.031 and curvature - 0.006.\n",
      "The anti-curvature step 45 has velocity - -0.003 and curvature - 0.003.\n",
      "The anti-curvature step 47 has velocity - -0.029 and curvature - 0.006.\n",
      "The anti-curvature step 50 has velocity - -0.057 and curvature - 0.017.\n",
      "The anti-curvature step 51 has velocity - -0.035 and curvature - 0.032.\n",
      "The anti-curvature step 53 has velocity - -0.032 and curvature - 0.009.\n",
      "The anti-curvature step 54 has velocity - -0.054 and curvature - 0.049.\n",
      "The anti-curvature step 55 has velocity - -0.023 and curvature - 0.013.\n",
      "The anti-curvature step 57 has velocity - -0.079 and curvature - 0.016.\n",
      "The anti-curvature step 59 has velocity - -0.064 and curvature - 0.02.\n",
      "The anti-curvature step 60 has velocity - -0.007 and curvature - 0.031.\n",
      "The anti-curvature step 63 has velocity - -0.035 and curvature - 0.016.\n",
      "The anti-curvature step 65 has velocity - -0.031 and curvature - 0.088.\n",
      "The anti-curvature step 67 has velocity - -0.033 and curvature - 0.019.\n",
      "The anti-curvature step 68 has velocity - -0.028 and curvature - 0.004.\n",
      "The anti-curvature step 69 has velocity - -0.058 and curvature - 0.02.\n",
      "The anti-curvature step 73 has velocity - -0.066 and curvature - 0.022.\n",
      "The anti-curvature step 74 has velocity - -0.094 and curvature - 0.004.\n",
      "The anti-curvature step 78 has velocity - -0.088 and curvature - 0.002.\n",
      "The anti-curvature step 79 has velocity - -0.016 and curvature - 0.009.\n",
      "The anti-curvature step 85 has velocity - -0.067 and curvature - 0.001.\n",
      "The anti-curvature step 87 has velocity - -0.012 and curvature - 0.009.\n",
      "The anti-curvature step 89 has velocity - -0.036 and curvature - 0.017.\n",
      "The anti-curvature step 91 has velocity - -0.053 and curvature - 0.023.\n",
      "The anti-curvature step 92 has velocity - -0.011 and curvature - 0.012.\n",
      "The anti-curvature step 94 has velocity - -0.058 and curvature - 0.002.\n",
      "The anti-curvature step 95 has velocity - -0.017 and curvature - 0.01.\n",
      "The anti-curvature step 96 has velocity - -0.012 and curvature - 0.002.\n",
      "The anti-curvature step 100 has velocity - -0.049 and curvature - 0.01.\n",
      "The anti-curvature step 101 has velocity - -0.033 and curvature - 0.001.\n",
      "The anti-curvature step 103 has velocity - -0.079 and curvature - 0.01.\n",
      "The anti-curvature step 105 has velocity - -0.033 and curvature - 0.021.\n",
      "The anti-curvature step 106 has velocity - -0.027 and curvature - 0.002.\n",
      "The anti-curvature step 107 has velocity - -0.132 and curvature - 0.005.\n",
      "The anti-curvature step 112 has velocity - -0.035 and curvature - 0.019.\n"
     ]
    },
    {
     "data": {
      "text/plain": [
       "Text(0.5, 1.0, 'GBid 135601364 step all')"
      ]
     },
     "execution_count": 17,
     "metadata": {},
     "output_type": "execute_result"
    },
    {
     "data": {
      "text/plain": [
       "<Figure size 432x288 with 0 Axes>"
      ]
     },
     "metadata": {},
     "output_type": "display_data"
    },
    {
     "data": {
      "image/png": "[encoded data removed]",
      "text/plain": [
       "<Figure size 504x504 with 1 Axes>"
      ]
     },
     "metadata": {
      "needs_background": "light"
     },
     "output_type": "display_data"
    }
   ],
   "source": [
    "# Get more information for a focus GB\n",
    "\n",
    "key_focus = 0\n",
    "for key in GB_id_focus:\n",
    "    if GB_id_focus[key] == 19: \n",
    "        print(f\"The longest anti-curvature behavior is {key} with steps {GB_id_focus[key]}\")\n",
    "        key_focus = key\n",
    "        # break\n",
    "\n",
    "v_focus = []\n",
    "c_focus = []\n",
    "for time_step in range(0,step_num):\n",
    "    if key_focus in GB_infomation_dict_list[time_step]:\n",
    "        # Calculate dV\n",
    "        pair_id_pair_focus = GB_infomation_dict_list[time_step][key_focus][6:8]\n",
    "        growth_direction1 = (npy_file_aniso[time_step]==pair_id_pair_focus[0])*(npy_file_aniso[time_step+1]==pair_id_pair_focus[1])\n",
    "        growth_direction2 = (npy_file_aniso[time_step]==pair_id_pair_focus[1])*(npy_file_aniso[time_step+1]==pair_id_pair_focus[0])\n",
    "        dV = np.sum(growth_direction1)-np.sum(growth_direction2) # velocity with direction\n",
    "        # Calculate velocity\n",
    "        velocity = dV/time_interval/(GB_infomation_dict_list[time_step][key_focus][5]/2)\n",
    "        current_curvature_value = GB_infomation_dict_list[time_step][key_focus][4]\n",
    "        \n",
    "        # make curvature always opposite\n",
    "        if current_curvature_value<0: \n",
    "            current_curvature_value = -current_curvature_value\n",
    "            velocity = -velocity\n",
    "        \n",
    "        # store v-c for a focus GB\n",
    "        v_focus.append(velocity)\n",
    "        c_focus.append(current_curvature_value)\n",
    "        \n",
    "        if current_curvature_value*velocity<-0.00 and GB_infomation_dict_list[time_step][key_focus][5]>=100: \n",
    "            print(f\"The anti-curvature step {time_step} has velocity - {round(velocity,3)} and curvature - {round(current_curvature_value,3)}.\")\n",
    "        \n",
    "        \n",
    "\n",
    "v_focus = np.array(v_focus)\n",
    "c_focus = np.array(c_focus)\n",
    "# plot v-c for a focus GB\n",
    "wanted_steps = v_focus<0\n",
    "alpha_list = np.linspace(0.2,1,np.sum(wanted_steps))\n",
    "\n",
    "figure_name_one_GB = f\"figures/2D_velocity_signedcurvature_{case_name}_GB{key_focus}_5d.png\"\n",
    "plt.figure()\n",
    "fig = plt.figure(figsize=(7, 7))\n",
    "import matplotlib as mpl\n",
    "cmap = mpl.colormaps['tab20']\n",
    "colors = cmap(np.linspace(0, 1, 20))\n",
    "plt.scatter(c_focus[wanted_steps], v_focus[wanted_steps],s=8,alpha=alpha_list,color=colors[0])\n",
    "plt.scatter(c_focus[~wanted_steps], v_focus[~wanted_steps],s=8,alpha=0.2,color=colors[6])\n",
    "plt.plot(c_focus,v_focus,alpha=0.1)\n",
    "plt.xlabel(\"curvature\", fontsize=18)\n",
    "plt.ylabel(\"velocity (voxel/step)\", fontsize=18)\n",
    "plt.xlim([0,0.17])\n",
    "plt.ylim([-0.2,0.2])\n",
    "plt.legend([\"anti-c\", \"c\", \"sequence\"],fontsize=18)\n",
    "plt.title(f\"GBid {key_focus} step all\")\n",
    "# plt.savefig(figure_name_one_GB, dpi=400,bbox_inches='tight')\n",
    "\n",
    "\n",
    "\n",
    "\n"
   ]
  },
  {
   "cell_type": "code",
   "execution_count": 212,
   "id": "8685c367-edac-427c-a027-acbf536ae4a0",
   "metadata": {
    "tags": []
   },
   "outputs": [
    {
     "name": "stderr",
     "output_type": "stream",
     "text": [
      "ffmpeg version 4.3.2 Copyright (c) 2000-2021 the FFmpeg developers\n",
      "  built with gcc 10.3.0 (GCC)\n",
      "  configuration: --prefix=/home/conda/feedstock_root/build_artifacts/ffmpeg_1645955405450/_h_env_placehold_placehold_placehold_placehold_placehold_placehold_placehold_placehold_placehold_placehold_placehold_placehold_placehold_placehold_placehold_placehold_placehold_placehold_plac --cc=/home/conda/feedstock_root/build_artifacts/ffmpeg_1645955405450/_build_env/bin/x86_64-conda-linux-gnu-cc --disable-doc --disable-openssl --enable-avresample --enable-gnutls --enable-gpl --enable-hardcoded-tables --enable-libfreetype --enable-libopenh264 --enable-libx264 --enable-pic --enable-pthreads --enable-shared --disable-static --enable-version3 --enable-zlib --enable-libmp3lame --pkg-config=/home/conda/feedstock_root/build_artifacts/ffmpeg_1645955405450/_build_env/bin/pkg-config\n",
      "  libavutil      56. 51.100 / 56. 51.100\n",
      "  libavcodec     58. 91.100 / 58. 91.100\n",
      "  libavformat    58. 45.100 / 58. 45.100\n",
      "  libavdevice    58. 10.100 / 58. 10.100\n",
      "  libavfilter     7. 85.100 /  7. 85.100\n",
      "  libavresample   4.  0.  0 /  4.  0.  0\n",
      "  libswscale      5.  7.100 /  5.  7.100\n",
      "  libswresample   3.  7.100 /  3.  7.100\n",
      "  libpostproc    55.  7.100 / 55.  7.100\n",
      "Input #0, image2, from '/home/lin.yang/projects/VECTOR/examples/GB_velocity/anti_curvature_figures/Detail_2D_microstructure_key145919744_step.%04d._M_20k.png':\n",
      "  Duration: 00:00:07.60, start: 0.000000, bitrate: N/A\n",
      "    Stream #0:0: Video: png, rgba(pc), 1680x2296 [SAR 15748:15748 DAR 30:41], 10 fps, 10 tbr, 10 tbn, 10 tbc\n",
      "Stream mapping:\n",
      "  Stream #0:0 -> #0:0 (png (native) -> h264 (libx264))\n",
      "Press [q] to stop, [?] for help\n",
      "[libx264 @ 0x5641f9b95240] using SAR=1/1\n",
      "[libx264 @ 0x5641f9b95240] using cpu capabilities: MMX2 SSE2Fast SSSE3 SSE4.2 AVX FMA3 BMI2 AVX2\n",
      "[libx264 @ 0x5641f9b95240] profile High, level 5.0, 4:2:0, 8-bit\n",
      "[libx264 @ 0x5641f9b95240] 264 - core 161 r3030M 8bd6d28 - H.264/MPEG-4 AVC codec - Copyleft 2003-2020 - http://www.videolan.org/x264.html - options: cabac=1 ref=3 deblock=1:0:0 analyse=0x3:0x113 me=hex subme=7 psy=1 psy_rd=1.00:0.00 mixed_ref=1 me_range=16 chroma_me=1 trellis=1 8x8dct=1 cqm=0 deadzone=21,11 fast_pskip=1 chroma_qp_offset=-2 threads=72 lookahead_threads=12 sliced_threads=0 nr=0 decimate=1 interlaced=0 bluray_compat=0 constrained_intra=0 bframes=3 b_pyramid=2 b_adapt=1 b_bias=0 direct=1 weightb=1 open_gop=0 weightp=2 keyint=250 keyint_min=10 scenecut=40 intra_refresh=0 rc_lookahead=40 rc=crf mbtree=1 crf=23.0 qcomp=0.60 qpmin=0 qpmax=69 qpstep=4 ip_ratio=1.40 aq=1:1.00\n",
      "Output #0, mp4, to 'anti_curvature_figures/Detail_2D_microstructure_key145919744_M_20k.mp4':\n",
      "  Metadata:\n",
      "    encoder         : Lavf58.45.100\n",
      "    Stream #0:0: Video: h264 (libx264) (avc1 / 0x31637661), yuv420p, 1680x2296 [SAR 1:1 DAR 30:41], q=-1--1, 10 fps, 10240 tbn, 10 tbc\n",
      "    Metadata:\n",
      "      encoder         : Lavc58.91.100 libx264\n",
      "    Side data:\n",
      "      cpb: bitrate max/min/avg: 0/0/0 buffer size: 0 vbv_delay: N/A\n",
      "frame=   76 fps= 43 q=-1.0 Lsize=    1091kB time=00:00:07.30 bitrate=1224.5kbits/s speed= 4.1x    \n",
      "video:1090kB audio:0kB subtitle:0kB other streams:0kB global headers:0kB muxing overhead: 0.156139%\n",
      "[libx264 @ 0x5641f9b95240] frame I:2     Avg QP: 7.38  size: 30124\n",
      "[libx264 @ 0x5641f9b95240] frame P:25    Avg QP:21.14  size: 16442\n",
      "[libx264 @ 0x5641f9b95240] frame B:49    Avg QP:24.73  size: 13136\n",
      "[libx264 @ 0x5641f9b95240] consecutive B-frames:  2.6% 26.3% 23.7% 47.4%\n",
      "[libx264 @ 0x5641f9b95240] mb I  I16..4: 86.4%  9.1%  4.5%\n",
      "[libx264 @ 0x5641f9b95240] mb P  I16..4:  0.3%  2.4%  1.4%  P16..4:  4.4%  1.0%  0.9%  0.0%  0.0%    skip:89.5%\n",
      "[libx264 @ 0x5641f9b95240] mb B  I16..4:  0.2%  0.3%  0.8%  B16..8:  4.1%  1.3%  0.6%  direct: 0.3%  skip:92.3%  L0:55.7% L1:43.7% BI: 0.6%\n",
      "[libx264 @ 0x5641f9b95240] 8x8 transform intra:25.8% inter:4.1%\n",
      "[libx264 @ 0x5641f9b95240] coded y,uvDC,uvAC intra: 10.7% 22.2% 21.4% inter: 0.7% 2.1% 2.1%\n",
      "[libx264 @ 0x5641f9b95240] i16 v,h,dc,p: 93%  6%  1%  0%\n",
      "[libx264 @ 0x5641f9b95240] i8 v,h,dc,ddl,ddr,vr,hd,vl,hu: 19%  4% 77%  0%  0%  0%  0%  0%  0%\n",
      "[libx264 @ 0x5641f9b95240] i4 v,h,dc,ddl,ddr,vr,hd,vl,hu: 34% 19% 38%  2%  1%  2%  1%  2%  1%\n",
      "[libx264 @ 0x5641f9b95240] i8c dc,h,v,p: 79% 10%  9%  1%\n",
      "[libx264 @ 0x5641f9b95240] Weighted P-Frames: Y:0.0% UV:0.0%\n",
      "[libx264 @ 0x5641f9b95240] ref P L0: 71.1%  1.4% 15.8% 11.7%\n",
      "[libx264 @ 0x5641f9b95240] ref B L0: 69.6% 25.2%  5.1%\n",
      "[libx264 @ 0x5641f9b95240] ref B L1: 92.3%  7.7%\n",
      "[libx264 @ 0x5641f9b95240] kb/s:1173.66\n"
     ]
    },
    {
     "data": {
      "text/plain": [
       "0"
      ]
     },
     "execution_count": 212,
     "metadata": {},
     "output_type": "execute_result"
    }
   ],
   "source": [
    "import os\n",
    "os.system(f'ffmpeg -framerate 10 -i /home/lin.yang/projects/VECTOR/examples/GB_velocity/anti_curvature_figures/Detail_2D_microstructure_key145919744_step.%04d._M_20k.png \\\n",
    "                    -c:v libx264 -vf \"pad=ceil(iw/2)*2:ceil(ih/2)*2\" -pix_fmt yuv420p \\\n",
    "                    anti_curvature_figures/Detail_2D_microstructure_key145919744_M_20k.mp4')"
   ]
  },
  {
   "cell_type": "code",
   "execution_count": 213,
   "id": "f8c6a201-3ce1-40ff-a227-fc129528b8a3",
   "metadata": {
    "tags": []
   },
   "outputs": [],
   "source": [
    "# 197673737\n",
    "# 47836998\n",
    "# fully 88634987\n",
    "# fully 161070774\n",
    "# fully 30685022\n",
    "# Find the exaxt grain id and time steps\n",
    "GB_id = 145919744\n",
    "for time_step in range(40,step_num):\n",
    "    if GB_id not in GB_infomation_dict_list[time_step]: continue\n",
    "    pair_id_pair_focus = GB_infomation_dict_list[time_step][GB_id][6:8]\n",
    "    break\n",
    "print(f\"The id pairs are {list(map(int,pair_id_pair_focus))}\")\n",
    "\n",
    "time_step_init, time_step_end = 24, 100\n",
    "check_edge = 0\n",
    "ss = 0\n",
    "for time_step in tqdm(range(time_step_init,time_step_end)):\n",
    "    current_microstructure_focus = npy_file_aniso[time_step,:,:,0]\n",
    "    grain_location_focus = (current_microstructure_focus==pair_id_pair_focus[0]) + (current_microstructure_focus==pair_id_pair_focus[1])\n",
    "    if check_edge ==0:\n",
    "        x_info = np.arange(0,2400,1)[np.sum(grain_location_focus,0)*np.arange(0,2400,1)>0]\n",
    "        x_len = np.sum(x_info>0)\n",
    "        x_lim_max = int(np.max(x_info)+(x_len/2))\n",
    "        x_lim_min = int(np.min(x_info)-(x_len/2))\n",
    "        y_info = np.arange(0,2400,1)[np.sum(grain_location_focus,1)*np.arange(0,2400,1)>0]\n",
    "        y_len = np.sum(y_info>0)\n",
    "        y_lim_max = int(np.max(y_info)+y_len/2)\n",
    "        y_lim_min = int(np.min(y_info)-y_len/2)\n",
    "        check_edge+=1\n",
    "    if np.sum(grain_location_focus)==0: continue\n",
    "    current_microstructure_focus_updated = current_microstructure_focus*grain_location_focus\n",
    "    \n",
    "    if GB_id in GB_infomation_dict_list[time_step]:\n",
    "        # Calculate velocity\n",
    "        growth_direction1 = (npy_file_aniso[time_step]==pair_id_pair_focus[0])*(npy_file_aniso[time_step+1]==pair_id_pair_focus[1])\n",
    "        growth_direction2 = (npy_file_aniso[time_step]==pair_id_pair_focus[1])*(npy_file_aniso[time_step+1]==pair_id_pair_focus[0])\n",
    "        dV = np.sum(growth_direction1)-np.sum(growth_direction2) # velocity with direction\n",
    "        # Calculate velocity\n",
    "        velocity = dV/time_interval/(GB_infomation_dict_list[time_step][GB_id][5]/2)\n",
    "        current_curvature_value = GB_infomation_dict_list[time_step][GB_id][4]\n",
    "    else:\n",
    "        velocity = 0\n",
    "        current_curvature_value = 0\n",
    "    \n",
    "    if ss<10:\n",
    "        ss_char = f'0{ss}'\n",
    "    else:\n",
    "        ss_char = f'{ss}'\n",
    "    ss+=1\n",
    "    figure_name_anti_curvature_detail = figure_name_anti_curvature = f\"anti_curvature_figures/Detail_2D_microstructure_key{GB_id}_step.00{ss_char}._{case_name}.png\"\n",
    "    plt.figure(figsize=(7,7))\n",
    "    plt.imshow(current_microstructure_focus_updated,vmin=0,vmax=20000)\n",
    "    plt.xlim([x_lim_min, x_lim_max])\n",
    "    plt.ylim([y_lim_max, y_lim_min])\n",
    "    if round(velocity,2)*round(current_curvature_value,3)<0:\n",
    "        plt.title(rf\"v: {round(velocity,2)} $\\kappa$: {round(current_curvature_value,3)} at step {time_step}\", color='orange', fontsize=16)\n",
    "    else:\n",
    "        plt.title(rf\"v: {round(velocity,2)} $\\kappa$: {round(current_curvature_value,3)} at step {time_step}\", fontsize=16)\n",
    "    # plt.axis(\"off\")\n",
    "    # plt.savefig(figure_name_anti_curvature_detail, dpi=400,bbox_inches='tight')"
   ]
  },
  {
   "cell_type": "code",
   "execution_count": 80,
   "id": "b508666b-2912-4561-b1de-3aaf4631a472",
   "metadata": {
    "tags": []
   },
   "outputs": [],
   "source": [
    "\n",
    "def energy_function_m_axis(m_polar_angle, m_azimuth_angle):\n",
    "    return abs(np.cos(m_azimuth_angle)) * m_polar_angle / np.pi\n",
    "\n",
    "def energy_function_m_axis_new(m_polar_angle, m_azimuth_angle):\n",
    "    # ss = abs(np.cos(m_azimuth_angle/2)) + abs(np.cos(m_polar_angle))\n",
    "    \n",
    "    ss = (abs(np.cos(m_azimuth_angle/2))**0.4 + abs(np.cos(m_polar_angle))**0.4)\n",
    "    if ss > 1: return 1\n",
    "    else: return ss\n",
    "    \n",
    "    # if abs(m_azimuth_angle-np.pi) < np.pi/18 and abs(m_polar_angle - np.pi/2) < np.pi/36: return 0.0\n",
    "    # else: return 1.0\n",
    "    \n",
    "    # return (abs(np.cos(m_azimuth_angle/2))**1.0 + abs(np.cos(m_polar_angle))**1.0)\n",
    "\n",
    "def energy_function_m(m_polar_angle, m_azimuth_angle, m_angle):\n",
    "    max_m_angle = 10/180*np.pi\n",
    "    if m_angle == 0: return 0\n",
    "    if m_angle>max_m_angle: m_angle=max_m_angle-0.00001\n",
    "    m_angle_impact = m_angle/max_m_angle*(1-np.log(m_angle/max_m_angle))\n",
    "    return energy_function_m_axis_new(m_polar_angle, m_azimuth_angle)*m_angle_impact\n",
    "\n",
    "def energy_function_i_axis(i_polar_angle, i_azimuth_angle):\n",
    "    return 0.3 + abs(np.cos(i_azimuth_angle)) * (0.7 + i_polar_angle / (np.pi/2) * (0.3 - 0.7))\n",
    "\n",
    "def energy_function_final(m_polar_angle, m_azimuth_angle, m_angle, i_polar_angle, i_azimuth_angle):\n",
    "    \n",
    "    if i_polar_angle>np.pi/2: i_polar_angle = np.pi-i_polar_angle\n",
    "    m_energy_impact = energy_function_m(m_polar_angle, m_azimuth_angle, m_angle)\n",
    "    return 0.3 + abs(np.cos(i_azimuth_angle)) * (0.7*m_energy_impact + i_polar_angle / (np.pi/2) * (0.3*m_energy_impact - 0.7*m_energy_impact))\n",
    "\n",
    "\n",
    "def rotation_matrix_from_vectors(vec1, vec2):\n",
    "    \"\"\" Find the rotation matrix that aligns vec1 to vec2\n",
    "    :param vec1: A 3d \"source\" vector\n",
    "    :param vec2: A 3d \"destination\" vector\n",
    "    :return mat: A transform matrix (3x3) which when applied to vec1, aligns it with vec2.\n",
    "    \"\"\"\n",
    "    a, b = (vec1 / np.linalg.norm(vec1)).reshape(3), (vec2 / np.linalg.norm(vec2)).reshape(3)\n",
    "    v = np.cross(a, b)\n",
    "    c = np.dot(a, b)\n",
    "    s = np.linalg.norm(v)\n",
    "    kmat = np.array([[0, -v[2], v[1]], [v[2], 0, -v[0]], [-v[1], v[0], 0]])\n",
    "    rotation_matrix = np.eye(3) + kmat + kmat.dot(kmat) * ((1 - c) / (s ** 2))\n",
    "    return rotation_matrix"
   ]
  },
  {
   "cell_type": "code",
   "execution_count": 79,
   "id": "11b10ead-c344-4335-b3f6-a9fd2aaea54d",
   "metadata": {},
   "outputs": [],
   "source": [
    "# # Plot The change of inclination or misorientation in one specific GB\n",
    "\n",
    "# # Misorientation\n",
    "# init_file_folder = \"/blue/michael.tonks/lin.yang/SPPARKS-VirtualIncEnergy/2d_poly_multiCoreCompare/IC/\"\n",
    "# init_file_name = f\"Case4.init\"\n",
    "# # misorientation calculation preparation\n",
    "# grain_nums = 20000\n",
    "# Osym = 24\n",
    "# symm2quat_matrix, quartAngle = post_processing.pre_operation_misorientation(grain_nums, init_file_folder + init_file_name, Osym)\n",
    "# print(\"> Pre-work done\")\n",
    "\n",
    "# misorientation = post_processing.multiP_calM(list(map(int,pair_id_pair_focus)), quartAngle, symm2quat_matrix, Osym)\n",
    "# misorientation_angle = misorientation[0] # miso angle in randians\n",
    "# misorientation_axis = misorientation[1:]\n",
    "\n",
    "# # misorientation energy\n",
    "# m_polar_angle = math.acos(round(misorientation_axis[2],3))\n",
    "# m_azimuth_angle = math.atan2(misorientation_axis[1], misorientation_axis[0]) + np.pi\n",
    "# print(f\"The m-angle: {misorientation_angle/np.pi*180}, m_polar_angle: {m_polar_angle/np.pi*180}, m_azimuth_angle: {m_azimuth_angle/np.pi*180}\")\n",
    "# print(f\"The misorientation energy: {energy_function_m(m_polar_angle, m_azimuth_angle, misorientation_angle)}\")\n",
    "\n"
   ]
  },
  {
   "cell_type": "code",
   "execution_count": 78,
   "id": "de699200-8f67-45dc-ad6e-02b0aa8101d5",
   "metadata": {},
   "outputs": [],
   "source": [
    "# # inclination\n",
    "# GB_infomation_inc_dict_list = []\n",
    "# for time_step in tqdm(range(step_num)):\n",
    "#     data_file_name = f\"GB_velocity_data/2D_inclination_velocity_data_{case_name}_step{time_step}.npz\"\n",
    "#     if os.path.exists(data_file_folder + data_file_name):\n",
    "#         npz_file = np.load(data_file_folder + data_file_name,allow_pickle=True)\n",
    "#         GB_infomation_inc_dict = npz_file[\"GB_infomation_dict\"]\n",
    "#         GB_infomation_inc_dict_list.append(GB_infomation_inc_dict.item())\n",
    "#     else:\n",
    "#         print(f\"Please run inclination-velocity analysis for {case_name}\")\n",
    "#         break\n",
    "\n",
    "# time_interval = 30\n",
    "# GB_inclination_energy_list = []\n",
    "# GB_final_energy_list = []\n",
    "# GB_velocity_list = []\n",
    "# for time_step in range(step_num):\n",
    "#     if time_step+1 >= step_num: continue\n",
    "#     if key_focus not in GB_infomation_inc_dict_list[time_step]: continue\n",
    "#     if GB_infomation_inc_dict_list[time_step+1].get(key_focus) is None: continue\n",
    "#     # Calculate volumn change\n",
    "#     growth_direction1 = (npy_file_aniso[time_step]==pair_id_pair_focus[0])*(npy_file_aniso[time_step+1]==pair_id_pair_focus[1])\n",
    "#     growth_direction2 = (npy_file_aniso[time_step]==pair_id_pair_focus[1])*(npy_file_aniso[time_step+1]==pair_id_pair_focus[0])\n",
    "#     dV = np.sum(growth_direction1)-np.sum(growth_direction2) # velocity with direction\n",
    "#     # Calculate velocity\n",
    "#     velocity = dV/time_interval/(GB_infomation_inc_dict_list[time_step][key_focus][6]/2)\n",
    "#     # change velocity sign with curvature\n",
    "#     current_curvature_value = GB_infomation_dict_list[time_step][key_focus][4]\n",
    "#     # make curvature always opposite\n",
    "#     if current_curvature_value<0: \n",
    "#         current_curvature_value = -current_curvature_value\n",
    "#         velocity = -velocity\n",
    "    \n",
    "#     GB_velocity_list.append(velocity)\n",
    "\n",
    "#     # Get inclination\n",
    "#     DX, DY = GB_infomation_inc_dict_list[time_step][key_focus][4:6]\n",
    "#     vec_len = np.sqrt(DX**2+DY**2)\n",
    "#     if vec_len==0: dx, dy = 0, 0\n",
    "#     else: dx, dy = -DX/vec_len, DY/vec_len # the process just repeated get_grad(P,i,j) in myInput.py \n",
    "#     dz = 0\n",
    "#     dy = -dy # Update the issue in VECTOR\n",
    "#     inclination = np.array([dx,dy,dz])\n",
    "#     # Get misorientation\n",
    "#     # rotate misorientation axis to z axis, and incliantion to final vector\n",
    "#     z_axis = np.array([0,0,1])\n",
    "#     rotation_matrix_m_axis_to_z_axis = rotation_matrix_from_vectors(misorientation_axis, z_axis)\n",
    "#     incliantion_refer_m_axis = rotation_matrix_m_axis_to_z_axis.dot(inclination)\n",
    "#     # Get polar and azimuth dsitribution\n",
    "#     i_polar_angle = math.acos(round(incliantion_refer_m_axis[2],3))\n",
    "#     i_azimuth_angle = math.atan2(incliantion_refer_m_axis[1], incliantion_refer_m_axis[0]) + np.pi\n",
    "    \n",
    "#     # inclination energy\n",
    "#     inclination_energy = energy_function_i_axis(i_polar_angle, i_azimuth_angle)\n",
    "#     final_energy = energy_function_final(m_polar_angle, m_azimuth_angle, misorientation_angle, i_polar_angle, i_azimuth_angle)\n",
    "#     GB_inclination_energy_list.append(inclination_energy)\n",
    "#     GB_final_energy_list.append(final_energy)\n",
    "#     # print(inclination_energy)\n",
    "#     # print(final_energy)\n",
    "#     # print()\n",
    "\n",
    "\n"
   ]
  },
  {
   "cell_type": "code",
   "execution_count": 77,
   "id": "4212a4ef-e7ad-4490-b5dc-48195c9defc7",
   "metadata": {},
   "outputs": [],
   "source": [
    "\n",
    "# GB_inclination_energy_list = np.array(GB_inclination_energy_list)\n",
    "# GB_velocity_list = np.array(GB_velocity_list)\n",
    "# GB_final_energy_list = np.array(GB_final_energy_list)\n",
    "\n",
    "# wanted_steps = GB_velocity_list<0\n",
    "# alpha_list = np.linspace(0.2,1,np.sum(wanted_steps))\n",
    "# figure_name_one_GB = f\"figures/2D_velocity_inclinationE_{case_name}_GB{key_focus}_5d.png\"\n",
    "# plt.figure()\n",
    "# fig = plt.figure(figsize=(7, 7))\n",
    "# import matplotlib as mpl\n",
    "# cmap = mpl.colormaps['tab20']\n",
    "# colors = cmap(np.linspace(0, 1, 20))\n",
    "# plt.scatter(GB_inclination_energy_list[wanted_steps], GB_velocity_list[wanted_steps],s=8,alpha=alpha_list,c=colors[0])\n",
    "# plt.scatter(GB_inclination_energy_list[~wanted_steps], GB_velocity_list[~wanted_steps],s=8,alpha=0.2,c=colors[6])\n",
    "# plt.plot(GB_inclination_energy_list,GB_velocity_list,alpha=0.1)\n",
    "# plt.xlabel(\"inclination energy\", fontsize=18)\n",
    "# plt.ylabel(\"velocity (voxel/step)\", fontsize=18)\n",
    "# # plt.xlim([0.334,0.35])\n",
    "# plt.ylim([-0.2,0.2])\n",
    "# plt.legend([\"anti-c\", \"c\", \"sequence\"],fontsize=18)\n",
    "# plt.title(f\"GBid {key_focus} step all\")\n",
    "# # plt.savefig(figure_name_one_GB, dpi=400,bbox_inches='tight')"
   ]
  },
  {
   "cell_type": "code",
   "execution_count": null,
   "id": "e625f572-387b-4aba-a3ed-f91e307f407a",
   "metadata": {
    "tags": []
   },
   "outputs": [],
   "source": []
  },
  {
   "cell_type": "markdown",
   "id": "df3c7fa0-8e13-4939-a880-0e5bf2f8a11d",
   "metadata": {},
   "source": [
    "## TJ study\n"
   ]
  },
  {
   "cell_type": "code",
   "execution_count": 23,
   "id": "968b3d34-4207-4ceb-b971-b40062e53559",
   "metadata": {
    "tags": []
   },
   "outputs": [],
   "source": [
    "#     # GB_id_unfocus_lowE_detail and GB_id_focus_detail\n",
    "    \n",
    "#     # reorginaize the data structure for GB_id_unfocus_lowE_detail and GB_id_focus_detail\n",
    "#     GB_id_unfocus_lowE_detail_time = dict()\n",
    "#     GB_id_focus_detail_time = dict()\n",
    "#     for key in GB_id_unfocus_lowE_detail:\n",
    "#         for key_time in GB_id_unfocus_lowE_detail[key]:\n",
    "#             if key_time in GB_id_unfocus_lowE_detail_time:\n",
    "#                 GB_id_unfocus_lowE_detail_time[key_time].append(key)\n",
    "#             else: \n",
    "#                 GB_id_unfocus_lowE_detail_time[key_time] = [key]\n",
    "                \n",
    "#     for key in GB_id_focus_detail:\n",
    "#         for key_time in GB_id_focus_detail[key]:\n",
    "#             if key_time in GB_id_focus_detail_time:\n",
    "#                 GB_id_focus_detail_time[key_time].append(key)\n",
    "#             else:\n",
    "#                 GB_id_focus_detail_time[key_time] = [key]"
   ]
  },
  {
   "cell_type": "code",
   "execution_count": 38,
   "id": "e018ea3f-1eaa-4306-b2e8-ba4cd4a338f3",
   "metadata": {
    "tags": []
   },
   "outputs": [],
   "source": [
    "    # GB_id_unfocus_lowE_detail and GB_id_focus_detail\n",
    "    \n",
    "    # reorginaize the data structure for GB_id_unfocus_lowE_detail and GB_id_focus_detail\n",
    "    GB_id_unfocus_lowE_detail_time = dict()\n",
    "    GB_id_focus_detail_time = dict()\n",
    "    for key in GB_id_unfocus_lowE_detail:\n",
    "        for key_time in GB_id_unfocus_lowE_detail[key]:\n",
    "            if key_time in GB_id_unfocus_lowE_detail_time:\n",
    "                GB_id_unfocus_lowE_detail_time[key_time].append(key)\n",
    "            else: \n",
    "                GB_id_unfocus_lowE_detail_time[key_time] = [key]\n",
    "                \n",
    "    for key in GB_id_focus_detail:\n",
    "        for key_time in GB_id_focus_detail[key]:\n",
    "            if key_time in GB_id_focus_detail_time:\n",
    "                GB_id_focus_detail_time[key_time].append(key)\n",
    "            else:\n",
    "                GB_id_focus_detail_time[key_time] = [key]\n",
    "            \n",
    "            \n",
    "    # find the TJ around GB with anti-c behavior or low energy c behavior \n",
    "    site_energy_per_unit_focus_list = []\n",
    "    site_energy_per_unit_unfocus_list = []\n",
    "    for time_step in tqdm(range(step_num)):\n",
    "        \n",
    "        if time_step not in GB_id_focus_detail_time: current_focus_GB_id = []\n",
    "        else: current_focus_GB_id = GB_id_focus_detail_time[time_step]\n",
    "        if time_step not in GB_id_unfocus_lowE_detail_time: current_unfocus_GB_id = []\n",
    "        else: current_unfocus_GB_id = GB_id_unfocus_lowE_detail_time[time_step]\n",
    "        if len(current_focus_GB_id) == 0 and len(current_unfocus_GB_id) == 0: continue\n",
    "        # current_GB_id = []\n",
    "        # current_GB_id.extend(current_focus_GB_id)\n",
    "        # current_GB_id.extend(current_unfocus_GB_id)\n",
    "        current_microstructure = npy_file_aniso[time_step]\n",
    "        current_energy = npy_file_aniso_energy[time_step]\n",
    "        \n",
    "        \n",
    "\n",
    "        \n",
    "        size_x, size_y = npy_file_aniso[time_step].shape[0:2]\n",
    "        k=0\n",
    "        for i in range(size_x):\n",
    "            for j in range(size_y):\n",
    "\n",
    "                ip,im,jp,jm = myInput.periodic_bc(size_x,size_y,i,j)\n",
    "                # find window and jump over GB and grain bulk\n",
    "                neighboring_sites_full_list = np.array([current_microstructure[i,j,k], current_microstructure[ip,jp,k], current_microstructure[ip,j,k], current_microstructure[ip,jm,k], current_microstructure[i,jp,k], current_microstructure[i,jm,k], current_microstructure[im,jp,k], current_microstructure[im,j,k], current_microstructure[im,jm,k]]).astype(int)\n",
    "                grain_id_num_in_window = np.unique(neighboring_sites_full_list)\n",
    "                if len(grain_id_num_in_window) < 3: continue\n",
    "                \n",
    "                # \n",
    "                do_you_find = 0\n",
    "                for current_key in current_focus_GB_id:\n",
    "                    pair_id_pair_focus = GB_infomation_dict_list[time_step][current_key][6:8]\n",
    "                    if pair_id_pair_focus[0] in grain_id_num_in_window and pair_id_pair_focus[0] in grain_id_num_in_window:\n",
    "                        # do \n",
    "                        site_energy = current_energy[i,j,k]\n",
    "                        num_nei = 0\n",
    "                        for nei in neighboring_sites_full_list[1:]:\n",
    "                            if neighboring_sites_full_list[0] != nei: num_nei += 1\n",
    "                        site_energy_per_unit_focus_list.append(site_energy/num_nei)\n",
    "                        do_you_find += 1\n",
    "                        break\n",
    "                if do_you_find > 0: continue\n",
    "                for current_key in current_unfocus_GB_id:\n",
    "                    pair_id_pair_focus = GB_infomation_dict_list[time_step][current_key][6:8]\n",
    "                    if pair_id_pair_focus[0] in grain_id_num_in_window and pair_id_pair_focus[0] in grain_id_num_in_window:\n",
    "                        # do \n",
    "                        site_energy = current_energy[i,j,k]\n",
    "                        num_nei = 0\n",
    "                        for nei in neighboring_sites_full_list[1:]:\n",
    "                            if neighboring_sites_full_list[0] != nei: num_nei += 1\n",
    "                        site_energy_per_unit_unfocus_list.append(site_energy/num_nei)\n",
    "                        break\n",
    "                        \n",
    "                \n",
    "    xLim = [0,2.0]\n",
    "    binValue = 0.01001\n",
    "    binNum = round((abs(xLim[0])+abs(xLim[1]))/binValue)\n",
    "    xCor = np.linspace((xLim[0]+binValue/2),(xLim[1]-binValue/2),binNum)\n",
    "    freqArray_focus = np.zeros(binNum)\n",
    "    freqArray_unfocus = np.zeros(binNum)\n",
    "\n",
    "    for i in range(len(site_energy_per_unit_focus_list)): freqArray_focus[int((site_energy_per_unit_focus_list[i] - xCor[0]) / binValue)] += 1\n",
    "    for i in range(len(site_energy_per_unit_unfocus_list)): freqArray_unfocus[int((site_energy_per_unit_unfocus_list[i] - xCor[0]) / binValue)] += 1\n",
    "        \n",
    "            \n",
    "            \n",
    "            "
   ]
  },
  {
   "cell_type": "code",
   "execution_count": 83,
   "id": "507f29ba-42b1-4b69-933a-ca317668c164",
   "metadata": {
    "tags": []
   },
   "outputs": [
    {
     "data": {
      "text/plain": [
       "<matplotlib.legend.Legend at 0x14712044af70>"
      ]
     },
     "execution_count": 83,
     "metadata": {},
     "output_type": "execute_result"
    },
    {
     "data": {
      "image/png": "[encoded data removed]",
      "text/plain": [
       "<Figure size 504x504 with 1 Axes>"
      ]
     },
     "metadata": {
      "needs_background": "light"
     },
     "output_type": "display_data"
    }
   ],
   "source": [
    "    freqArray_focus = freqArray_focus/np.sum(freqArray_focus)\n",
    "    freqArray_unfocus = freqArray_unfocus/np.sum(freqArray_unfocus)\n",
    "\n",
    "    plt.figure(figsize=(7,7))\n",
    "    plt.plot(xCor, freqArray_focus, label='anti-c')\n",
    "    plt.plot(xCor, freqArray_unfocus, label='c')\n",
    "    plt.xlim([0.25,1.05])\n",
    "    # plt.ylim([-0.15,0.15])\n",
    "    plt.xlabel(\"GB energy\", fontsize=18)\n",
    "    plt.ylabel(\"Frequency\", fontsize=18)\n",
    "    plt.legend(fontsize=18)\n",
    "    # plt.savefig(figure_name_all_bin, dpi=400,bbox_inches='tight')\n"
   ]
  },
  {
   "cell_type": "markdown",
   "id": "c2b07070-bb29-44be-804d-5945fa933b0c",
   "metadata": {
    "tags": []
   },
   "source": [
    "## TJ movement"
   ]
  },
  {
   "cell_type": "code",
   "execution_count": 20,
   "id": "202e892d-2149-4fd4-ac47-878df34fda4b",
   "metadata": {},
   "outputs": [
    {
     "name": "stderr",
     "output_type": "stream",
     "text": [
      "100%|██████████| 121/121 [00:02<00:00, 48.60it/s] \n"
     ]
    }
   ],
   "source": [
    "    # GB_id_unfocus_lowE_detail and GB_id_focus_detail\n",
    "    # Compare the TJ movement around anti-c GBs and all TJ movement\n",
    "            \n",
    "    # TJ information\n",
    "    step_num = 121\n",
    "    TJ_information_dict_list = []\n",
    "    for time_step in tqdm(range(step_num)):\n",
    "        data_file_name_TJ = f\"GB_velocity_data/2D_TJ_information_data_{case_name}_step{time_step}.npz\"\n",
    "        \n",
    "        if os.path.exists(data_file_folder + data_file_name_TJ):\n",
    "            npz_file = np.load(data_file_folder + data_file_name_TJ,allow_pickle=True)\n",
    "            TJ_information_dict = npz_file[\"TJ_information_dict\"]\n",
    "            TJ_information_dict_list.append(TJ_information_dict.item())\n",
    "        else:\n",
    "            TJ_information_dict = dict()\n",
    "            current_microstructure = npy_file_aniso[time_step]\n",
    "            current_energy = npy_file_aniso_energy[time_step]\n",
    "\n",
    "            size_x, size_y = npy_file_aniso[time_step].shape[0:2]\n",
    "            k=0\n",
    "            for i in range(size_x):\n",
    "                for j in range(size_y):\n",
    "                    ip,im,jp,jm = myInput.periodic_bc(size_x,size_y,i,j)\n",
    "                    # find window and jump over GB and grain bulk\n",
    "                    neighboring_sites_full_list = np.array([current_microstructure[i,j,k], current_microstructure[ip,jp,k], current_microstructure[ip,j,k], current_microstructure[ip,jm,k], current_microstructure[i,jp,k], current_microstructure[i,jm,k], current_microstructure[im,jp,k], current_microstructure[im,j,k], current_microstructure[im,jm,k]]).astype(int)\n",
    "                    # neighboring_sites_full_list = np.array([current_microstructure[i,j,k], current_microstructure[ip,jp,k], current_microstructure[ip,j,k], current_microstructure[i,jp,k]]).astype(int)\n",
    "                    grain_id_num_in_window = np.unique(neighboring_sites_full_list) # the result is in order [1,2,3]\n",
    "                    TJ_key_tuple = tuple(grain_id_num_in_window)\n",
    "                    if len(grain_id_num_in_window) != 3: continue # jump over GBs and bulks and QJs\n",
    "\n",
    "                    # keep TJ information\n",
    "                    if TJ_key_tuple in TJ_information_dict:\n",
    "                        # take the voxel on the edge into account\n",
    "                        known_location = TJ_information_dict[TJ_key_tuple][:3]/TJ_information_dict[TJ_key_tuple][4]\n",
    "                        current_location = np.array([i,j,k])\n",
    "                        location_distance = known_location-current_location\n",
    "                        location_distance_bool = abs(location_distance)>size_x/2\n",
    "                        if np.sum(location_distance_bool)>0: \n",
    "                            i_new,j_new,k_new = current_location + (location_distance*location_distance_bool>0)*size_x+(location_distance*location_distance_bool<0)*-size_x\n",
    "                            TJ_information_dict[TJ_key_tuple] += np.array([i_new,j_new,k_new, current_energy[i,j,k], 1])\n",
    "                        else: \n",
    "                            TJ_information_dict[TJ_key_tuple] += np.array([i,j,k, current_energy[i,j,k], 1])\n",
    "                    else:\n",
    "                        TJ_information_dict[TJ_key_tuple] = np.array([i,j,k, current_energy[i,j,k], 1]) # i,j,k,TJenergy,TJnum\n",
    "            # finish the normalize\n",
    "            for TJ_key in TJ_information_dict:\n",
    "                TJ_information_dict[TJ_key][:4] = TJ_information_dict[TJ_key][:4]/TJ_information_dict[TJ_key][4]\n",
    "                if np.sum(TJ_information_dict[TJ_key][:3] < 0):\n",
    "                    TJ_information_dict[TJ_key][:3] = TJ_information_dict[TJ_key][:3] + (TJ_information_dict[TJ_key][:3] < 0)*size_x\n",
    "                elif np.sum(TJ_information_dict[TJ_key][:3] >size_x):\n",
    "                    TJ_information_dict[TJ_key][:3] = TJ_information_dict[TJ_key][:3] + (TJ_information_dict[TJ_key][:3] < 0)*-size_x\n",
    "            \n",
    "            print(f\"TJs in {time_step} step is {len(TJ_information_dict)}\")\n",
    "            wierd_TJ = 0\n",
    "            for TJ_info in TJ_information_dict.values():\n",
    "                if TJ_info[4] < 4: wierd_TJ+=1\n",
    "            print(f\"Weird TJs is {wierd_TJ}\")\n",
    "            # save information\n",
    "            np.savez(data_file_folder + data_file_name_TJ, TJ_information_dict=TJ_information_dict)\n",
    "            TJ_information_dict_list.append(TJ_information_dict)\n",
    "\n",
    "            "
   ]
  },
  {
   "cell_type": "code",
   "execution_count": 34,
   "id": "545eac1b-c771-441d-8d07-0dc1676f6fce",
   "metadata": {
    "tags": []
   },
   "outputs": [
    {
     "name": "stdout",
     "output_type": "stream",
     "text": [
      "14252\n"
     ]
    }
   ],
   "source": [
    "for i in TJ_key: \n",
    "    if i not in (2733, 7565):\n",
    "        print(i)"
   ]
  },
  {
   "cell_type": "code",
   "execution_count": 47,
   "id": "8c374513-50b9-4898-8666-9ff196642f44",
   "metadata": {
    "tags": []
   },
   "outputs": [
    {
     "name": "stderr",
     "output_type": "stream",
     "text": [
      "100%|██████████| 41448/41448 [00:00<00:00, 185743.10it/s]\n"
     ]
    },
    {
     "name": "stdout",
     "output_type": "stream",
     "text": [
      "All TJs in 0 step is 11563, focused TJs is 0\n"
     ]
    },
    {
     "name": "stderr",
     "output_type": "stream",
     "text": [
      "100%|██████████| 27217/27217 [00:00<00:00, 155534.87it/s]\n"
     ]
    },
    {
     "name": "stdout",
     "output_type": "stream",
     "text": [
      "All TJs in 1 step is 9291, focused TJs is 0\n"
     ]
    },
    {
     "name": "stderr",
     "output_type": "stream",
     "text": [
      "100%|██████████| 18768/18768 [00:00<00:00, 55995.18it/s]\n"
     ]
    },
    {
     "name": "stdout",
     "output_type": "stream",
     "text": [
      "All TJs in 2 step is 8544, focused TJs is 6\n"
     ]
    },
    {
     "name": "stderr",
     "output_type": "stream",
     "text": [
      "100%|██████████| 14209/14209 [00:00<00:00, 17659.91it/s]\n"
     ]
    },
    {
     "name": "stdout",
     "output_type": "stream",
     "text": [
      "All TJs in 3 step is 7757, focused TJs is 24\n"
     ]
    },
    {
     "name": "stderr",
     "output_type": "stream",
     "text": [
      "100%|██████████| 11461/11461 [00:01<00:00, 7256.28it/s]\n"
     ]
    },
    {
     "name": "stdout",
     "output_type": "stream",
     "text": [
      "All TJs in 4 step is 6722, focused TJs is 54\n"
     ]
    },
    {
     "name": "stderr",
     "output_type": "stream",
     "text": [
      "100%|██████████| 9538/9538 [00:02<00:00, 4327.29it/s]\n"
     ]
    },
    {
     "name": "stdout",
     "output_type": "stream",
     "text": [
      "All TJs in 5 step is 6116, focused TJs is 79\n"
     ]
    },
    {
     "name": "stderr",
     "output_type": "stream",
     "text": [
      "100%|██████████| 8145/8145 [00:02<00:00, 3488.43it/s]\n"
     ]
    },
    {
     "name": "stdout",
     "output_type": "stream",
     "text": [
      "All TJs in 6 step is 5675, focused TJs is 85\n"
     ]
    },
    {
     "name": "stderr",
     "output_type": "stream",
     "text": [
      "100%|██████████| 7179/7179 [00:03<00:00, 2240.92it/s]\n"
     ]
    },
    {
     "name": "stdout",
     "output_type": "stream",
     "text": [
      "All TJs in 7 step is 5204, focused TJs is 119\n"
     ]
    },
    {
     "name": "stderr",
     "output_type": "stream",
     "text": [
      "100%|██████████| 6409/6409 [00:03<00:00, 1979.61it/s]\n"
     ]
    },
    {
     "name": "stdout",
     "output_type": "stream",
     "text": [
      "All TJs in 8 step is 4820, focused TJs is 122\n"
     ]
    },
    {
     "name": "stderr",
     "output_type": "stream",
     "text": [
      "100%|██████████| 5813/5813 [00:03<00:00, 1627.59it/s]\n"
     ]
    },
    {
     "name": "stdout",
     "output_type": "stream",
     "text": [
      "All TJs in 9 step is 4400, focused TJs is 137\n"
     ]
    },
    {
     "name": "stderr",
     "output_type": "stream",
     "text": [
      "100%|██████████| 5274/5274 [00:02<00:00, 1967.13it/s]\n"
     ]
    },
    {
     "name": "stdout",
     "output_type": "stream",
     "text": [
      "All TJs in 10 step is 4177, focused TJs is 102\n"
     ]
    },
    {
     "name": "stderr",
     "output_type": "stream",
     "text": [
      "100%|██████████| 4857/4857 [00:03<00:00, 1279.11it/s]\n"
     ]
    },
    {
     "name": "stdout",
     "output_type": "stream",
     "text": [
      "All TJs in 11 step is 3890, focused TJs is 147\n"
     ]
    },
    {
     "name": "stderr",
     "output_type": "stream",
     "text": [
      "100%|██████████| 4484/4484 [00:02<00:00, 1607.79it/s]\n"
     ]
    },
    {
     "name": "stdout",
     "output_type": "stream",
     "text": [
      "All TJs in 12 step is 3658, focused TJs is 108\n"
     ]
    },
    {
     "name": "stderr",
     "output_type": "stream",
     "text": [
      "100%|██████████| 4189/4189 [00:03<00:00, 1239.51it/s]\n"
     ]
    },
    {
     "name": "stdout",
     "output_type": "stream",
     "text": [
      "All TJs in 13 step is 3461, focused TJs is 132\n"
     ]
    },
    {
     "name": "stderr",
     "output_type": "stream",
     "text": [
      "100%|██████████| 3896/3896 [00:03<00:00, 1129.33it/s]\n"
     ]
    },
    {
     "name": "stdout",
     "output_type": "stream",
     "text": [
      "All TJs in 14 step is 3255, focused TJs is 136\n"
     ]
    },
    {
     "name": "stderr",
     "output_type": "stream",
     "text": [
      "100%|██████████| 3665/3665 [00:03<00:00, 1169.26it/s]\n"
     ]
    },
    {
     "name": "stdout",
     "output_type": "stream",
     "text": [
      "All TJs in 15 step is 3112, focused TJs is 125\n"
     ]
    },
    {
     "name": "stderr",
     "output_type": "stream",
     "text": [
      "100%|██████████| 3449/3449 [00:03<00:00, 1124.49it/s]\n"
     ]
    },
    {
     "name": "stdout",
     "output_type": "stream",
     "text": [
      "All TJs in 16 step is 2983, focused TJs is 123\n"
     ]
    },
    {
     "name": "stderr",
     "output_type": "stream",
     "text": [
      "100%|██████████| 3293/3293 [00:02<00:00, 1240.61it/s]\n"
     ]
    },
    {
     "name": "stdout",
     "output_type": "stream",
     "text": [
      "All TJs in 17 step is 2781, focused TJs is 105\n"
     ]
    },
    {
     "name": "stderr",
     "output_type": "stream",
     "text": [
      "100%|██████████| 3116/3116 [00:02<00:00, 1120.17it/s]\n"
     ]
    },
    {
     "name": "stdout",
     "output_type": "stream",
     "text": [
      "All TJs in 18 step is 2671, focused TJs is 110\n"
     ]
    },
    {
     "name": "stderr",
     "output_type": "stream",
     "text": [
      "100%|██████████| 2950/2950 [00:02<00:00, 1000.93it/s]\n"
     ]
    },
    {
     "name": "stdout",
     "output_type": "stream",
     "text": [
      "All TJs in 19 step is 2593, focused TJs is 117\n"
     ]
    },
    {
     "name": "stderr",
     "output_type": "stream",
     "text": [
      "100%|██████████| 2829/2829 [00:03<00:00, 917.08it/s] \n"
     ]
    },
    {
     "name": "stdout",
     "output_type": "stream",
     "text": [
      "All TJs in 20 step is 2476, focused TJs is 123\n"
     ]
    },
    {
     "name": "stderr",
     "output_type": "stream",
     "text": [
      "100%|██████████| 2699/2699 [00:02<00:00, 921.87it/s] \n"
     ]
    },
    {
     "name": "stdout",
     "output_type": "stream",
     "text": [
      "All TJs in 21 step is 2374, focused TJs is 117\n"
     ]
    },
    {
     "name": "stderr",
     "output_type": "stream",
     "text": [
      "100%|██████████| 2594/2594 [00:03<00:00, 698.50it/s] \n"
     ]
    },
    {
     "name": "stdout",
     "output_type": "stream",
     "text": [
      "All TJs in 22 step is 2272, focused TJs is 149\n"
     ]
    },
    {
     "name": "stderr",
     "output_type": "stream",
     "text": [
      "100%|██████████| 2473/2473 [00:02<00:00, 868.39it/s] \n"
     ]
    },
    {
     "name": "stdout",
     "output_type": "stream",
     "text": [
      "All TJs in 23 step is 2241, focused TJs is 114\n"
     ]
    },
    {
     "name": "stderr",
     "output_type": "stream",
     "text": [
      "100%|██████████| 2401/2401 [00:02<00:00, 855.60it/s] \n"
     ]
    },
    {
     "name": "stdout",
     "output_type": "stream",
     "text": [
      "All TJs in 24 step is 2119, focused TJs is 113\n"
     ]
    },
    {
     "name": "stderr",
     "output_type": "stream",
     "text": [
      "100%|██████████| 2307/2307 [00:02<00:00, 840.29it/s]\n"
     ]
    },
    {
     "name": "stdout",
     "output_type": "stream",
     "text": [
      "All TJs in 25 step is 2070, focused TJs is 110\n"
     ]
    },
    {
     "name": "stderr",
     "output_type": "stream",
     "text": [
      "100%|██████████| 2229/2229 [00:02<00:00, 866.52it/s]\n"
     ]
    },
    {
     "name": "stdout",
     "output_type": "stream",
     "text": [
      "All TJs in 26 step is 1988, focused TJs is 104\n"
     ]
    },
    {
     "name": "stderr",
     "output_type": "stream",
     "text": [
      "100%|██████████| 2157/2157 [00:02<00:00, 723.98it/s] \n"
     ]
    },
    {
     "name": "stdout",
     "output_type": "stream",
     "text": [
      "All TJs in 27 step is 1933, focused TJs is 121\n"
     ]
    },
    {
     "name": "stderr",
     "output_type": "stream",
     "text": [
      "100%|██████████| 2084/2084 [00:02<00:00, 851.81it/s]\n"
     ]
    },
    {
     "name": "stdout",
     "output_type": "stream",
     "text": [
      "All TJs in 28 step is 1846, focused TJs is 99\n"
     ]
    },
    {
     "name": "stderr",
     "output_type": "stream",
     "text": [
      "100%|██████████| 2000/2000 [00:02<00:00, 676.04it/s]\n"
     ]
    },
    {
     "name": "stdout",
     "output_type": "stream",
     "text": [
      "All TJs in 29 step is 1803, focused TJs is 106\n"
     ]
    },
    {
     "name": "stderr",
     "output_type": "stream",
     "text": [
      "100%|██████████| 1921/1921 [00:03<00:00, 561.12it/s]\n"
     ]
    },
    {
     "name": "stdout",
     "output_type": "stream",
     "text": [
      "All TJs in 30 step is 1758, focused TJs is 123\n"
     ]
    },
    {
     "name": "stderr",
     "output_type": "stream",
     "text": [
      "100%|██████████| 1874/1874 [00:02<00:00, 660.87it/s]\n"
     ]
    },
    {
     "name": "stdout",
     "output_type": "stream",
     "text": [
      "All TJs in 31 step is 1686, focused TJs is 105\n"
     ]
    },
    {
     "name": "stderr",
     "output_type": "stream",
     "text": [
      "100%|██████████| 1800/1800 [00:02<00:00, 601.50it/s]\n"
     ]
    },
    {
     "name": "stdout",
     "output_type": "stream",
     "text": [
      "All TJs in 32 step is 1650, focused TJs is 123\n"
     ]
    },
    {
     "name": "stderr",
     "output_type": "stream",
     "text": [
      "100%|██████████| 1749/1749 [00:01<00:00, 939.17it/s]\n"
     ]
    },
    {
     "name": "stdout",
     "output_type": "stream",
     "text": [
      "All TJs in 33 step is 1588, focused TJs is 76\n"
     ]
    },
    {
     "name": "stderr",
     "output_type": "stream",
     "text": [
      "100%|██████████| 1703/1703 [00:02<00:00, 646.05it/s]\n"
     ]
    },
    {
     "name": "stdout",
     "output_type": "stream",
     "text": [
      "All TJs in 34 step is 1579, focused TJs is 109\n"
     ]
    },
    {
     "name": "stderr",
     "output_type": "stream",
     "text": [
      "100%|██████████| 1679/1679 [00:02<00:00, 774.18it/s]\n"
     ]
    },
    {
     "name": "stdout",
     "output_type": "stream",
     "text": [
      "All TJs in 35 step is 1566, focused TJs is 90\n"
     ]
    },
    {
     "name": "stderr",
     "output_type": "stream",
     "text": [
      "100%|██████████| 1648/1648 [00:02<00:00, 805.75it/s]\n"
     ]
    },
    {
     "name": "stdout",
     "output_type": "stream",
     "text": [
      "All TJs in 36 step is 1516, focused TJs is 85\n"
     ]
    },
    {
     "name": "stderr",
     "output_type": "stream",
     "text": [
      "100%|██████████| 1598/1598 [00:01<00:00, 882.53it/s]\n"
     ]
    },
    {
     "name": "stdout",
     "output_type": "stream",
     "text": [
      "All TJs in 37 step is 1479, focused TJs is 75\n"
     ]
    },
    {
     "name": "stderr",
     "output_type": "stream",
     "text": [
      "100%|██████████| 1565/1565 [00:01<00:00, 915.87it/s]\n"
     ]
    },
    {
     "name": "stdout",
     "output_type": "stream",
     "text": [
      "All TJs in 38 step is 1442, focused TJs is 71\n"
     ]
    },
    {
     "name": "stderr",
     "output_type": "stream",
     "text": [
      "100%|██████████| 1520/1520 [00:01<00:00, 890.29it/s] \n"
     ]
    },
    {
     "name": "stdout",
     "output_type": "stream",
     "text": [
      "All TJs in 39 step is 1399, focused TJs is 71\n"
     ]
    },
    {
     "name": "stderr",
     "output_type": "stream",
     "text": [
      "100%|██████████| 1473/1473 [00:02<00:00, 682.84it/s]\n"
     ]
    },
    {
     "name": "stdout",
     "output_type": "stream",
     "text": [
      "All TJs in 40 step is 1361, focused TJs is 90\n"
     ]
    },
    {
     "name": "stderr",
     "output_type": "stream",
     "text": [
      "100%|██████████| 1441/1441 [00:01<00:00, 905.84it/s]\n"
     ]
    },
    {
     "name": "stdout",
     "output_type": "stream",
     "text": [
      "All TJs in 41 step is 1341, focused TJs is 66\n"
     ]
    },
    {
     "name": "stderr",
     "output_type": "stream",
     "text": [
      "100%|██████████| 1409/1409 [00:01<00:00, 805.22it/s]\n"
     ]
    },
    {
     "name": "stdout",
     "output_type": "stream",
     "text": [
      "All TJs in 42 step is 1290, focused TJs is 73\n"
     ]
    },
    {
     "name": "stderr",
     "output_type": "stream",
     "text": [
      "100%|██████████| 1379/1379 [00:01<00:00, 866.67it/s]\n"
     ]
    },
    {
     "name": "stdout",
     "output_type": "stream",
     "text": [
      "All TJs in 43 step is 1289, focused TJs is 66\n"
     ]
    },
    {
     "name": "stderr",
     "output_type": "stream",
     "text": [
      "100%|██████████| 1354/1354 [00:01<00:00, 853.95it/s]\n"
     ]
    },
    {
     "name": "stdout",
     "output_type": "stream",
     "text": [
      "All TJs in 44 step is 1256, focused TJs is 66\n"
     ]
    },
    {
     "name": "stderr",
     "output_type": "stream",
     "text": [
      "100%|██████████| 1324/1324 [00:01<00:00, 767.67it/s]\n"
     ]
    },
    {
     "name": "stdout",
     "output_type": "stream",
     "text": [
      "All TJs in 45 step is 1253, focused TJs is 72\n"
     ]
    },
    {
     "name": "stderr",
     "output_type": "stream",
     "text": [
      "100%|██████████| 1299/1299 [00:01<00:00, 781.22it/s]\n"
     ]
    },
    {
     "name": "stdout",
     "output_type": "stream",
     "text": [
      "All TJs in 46 step is 1225, focused TJs is 69\n"
     ]
    },
    {
     "name": "stderr",
     "output_type": "stream",
     "text": [
      "100%|██████████| 1279/1279 [00:02<00:00, 628.92it/s]\n"
     ]
    },
    {
     "name": "stdout",
     "output_type": "stream",
     "text": [
      "All TJs in 47 step is 1195, focused TJs is 84\n"
     ]
    },
    {
     "name": "stderr",
     "output_type": "stream",
     "text": [
      "100%|██████████| 1252/1252 [00:01<00:00, 670.76it/s]\n"
     ]
    },
    {
     "name": "stdout",
     "output_type": "stream",
     "text": [
      "All TJs in 48 step is 1179, focused TJs is 77\n"
     ]
    },
    {
     "name": "stderr",
     "output_type": "stream",
     "text": [
      "100%|██████████| 1230/1230 [00:01<00:00, 687.32it/s]\n"
     ]
    },
    {
     "name": "stdout",
     "output_type": "stream",
     "text": [
      "All TJs in 49 step is 1153, focused TJs is 74\n"
     ]
    },
    {
     "name": "stderr",
     "output_type": "stream",
     "text": [
      "100%|██████████| 1205/1205 [00:01<00:00, 774.57it/s]\n"
     ]
    },
    {
     "name": "stdout",
     "output_type": "stream",
     "text": [
      "All TJs in 50 step is 1140, focused TJs is 65\n"
     ]
    },
    {
     "name": "stderr",
     "output_type": "stream",
     "text": [
      "100%|██████████| 1185/1185 [00:01<00:00, 747.34it/s]\n"
     ]
    },
    {
     "name": "stdout",
     "output_type": "stream",
     "text": [
      "All TJs in 51 step is 1134, focused TJs is 66\n"
     ]
    },
    {
     "name": "stderr",
     "output_type": "stream",
     "text": [
      "100%|██████████| 1178/1178 [00:02<00:00, 578.51it/s]\n"
     ]
    },
    {
     "name": "stdout",
     "output_type": "stream",
     "text": [
      "All TJs in 52 step is 1098, focused TJs is 84\n"
     ]
    },
    {
     "name": "stderr",
     "output_type": "stream",
     "text": [
      "100%|██████████| 1146/1146 [00:01<00:00, 724.60it/s]\n"
     ]
    },
    {
     "name": "stdout",
     "output_type": "stream",
     "text": [
      "All TJs in 53 step is 1078, focused TJs is 65\n"
     ]
    },
    {
     "name": "stderr",
     "output_type": "stream",
     "text": [
      "100%|██████████| 1130/1130 [00:01<00:00, 602.72it/s]\n"
     ]
    },
    {
     "name": "stdout",
     "output_type": "stream",
     "text": [
      "All TJs in 54 step is 1047, focused TJs is 77\n"
     ]
    },
    {
     "name": "stderr",
     "output_type": "stream",
     "text": [
      "100%|██████████| 1103/1103 [00:01<00:00, 812.41it/s]\n"
     ]
    },
    {
     "name": "stdout",
     "output_type": "stream",
     "text": [
      "All TJs in 55 step is 1041, focused TJs is 56\n"
     ]
    },
    {
     "name": "stderr",
     "output_type": "stream",
     "text": [
      "100%|██████████| 1083/1083 [00:01<00:00, 770.77it/s]\n"
     ]
    },
    {
     "name": "stdout",
     "output_type": "stream",
     "text": [
      "All TJs in 56 step is 1019, focused TJs is 58\n"
     ]
    },
    {
     "name": "stderr",
     "output_type": "stream",
     "text": [
      "100%|██████████| 1064/1064 [00:01<00:00, 889.65it/s]\n"
     ]
    },
    {
     "name": "stdout",
     "output_type": "stream",
     "text": [
      "All TJs in 57 step is 1026, focused TJs is 49\n"
     ]
    },
    {
     "name": "stderr",
     "output_type": "stream",
     "text": [
      "100%|██████████| 1055/1055 [00:01<00:00, 807.74it/s]\n"
     ]
    },
    {
     "name": "stdout",
     "output_type": "stream",
     "text": [
      "All TJs in 58 step is 1004, focused TJs is 54\n"
     ]
    },
    {
     "name": "stderr",
     "output_type": "stream",
     "text": [
      "100%|██████████| 1038/1038 [00:01<00:00, 648.31it/s]\n"
     ]
    },
    {
     "name": "stdout",
     "output_type": "stream",
     "text": [
      "All TJs in 59 step is 978, focused TJs is 66\n"
     ]
    },
    {
     "name": "stderr",
     "output_type": "stream",
     "text": [
      "100%|██████████| 1021/1021 [00:01<00:00, 820.66it/s]\n"
     ]
    },
    {
     "name": "stdout",
     "output_type": "stream",
     "text": [
      "All TJs in 60 step is 963, focused TJs is 51\n"
     ]
    },
    {
     "name": "stderr",
     "output_type": "stream",
     "text": [
      "100%|██████████| 1007/1007 [00:01<00:00, 828.88it/s]\n"
     ]
    },
    {
     "name": "stdout",
     "output_type": "stream",
     "text": [
      "All TJs in 61 step is 941, focused TJs is 50\n"
     ]
    },
    {
     "name": "stderr",
     "output_type": "stream",
     "text": [
      "100%|██████████| 985/985 [00:01<00:00, 793.06it/s]\n"
     ]
    },
    {
     "name": "stdout",
     "output_type": "stream",
     "text": [
      "All TJs in 62 step is 915, focused TJs is 52\n"
     ]
    },
    {
     "name": "stderr",
     "output_type": "stream",
     "text": [
      "100%|██████████| 959/959 [00:01<00:00, 538.09it/s]\n"
     ]
    },
    {
     "name": "stdout",
     "output_type": "stream",
     "text": [
      "All TJs in 63 step is 940, focused TJs is 75\n"
     ]
    },
    {
     "name": "stderr",
     "output_type": "stream",
     "text": [
      "100%|██████████| 954/954 [00:01<00:00, 668.37it/s] \n"
     ]
    },
    {
     "name": "stdout",
     "output_type": "stream",
     "text": [
      "All TJs in 64 step is 916, focused TJs is 60\n"
     ]
    },
    {
     "name": "stderr",
     "output_type": "stream",
     "text": [
      "100%|██████████| 942/942 [00:01<00:00, 569.43it/s]\n"
     ]
    },
    {
     "name": "stdout",
     "output_type": "stream",
     "text": [
      "All TJs in 65 step is 896, focused TJs is 69\n"
     ]
    },
    {
     "name": "stderr",
     "output_type": "stream",
     "text": [
      "100%|██████████| 931/931 [00:01<00:00, 717.94it/s] \n"
     ]
    },
    {
     "name": "stdout",
     "output_type": "stream",
     "text": [
      "All TJs in 66 step is 890, focused TJs is 54\n"
     ]
    },
    {
     "name": "stderr",
     "output_type": "stream",
     "text": [
      "100%|██████████| 915/915 [00:01<00:00, 883.87it/s] \n"
     ]
    },
    {
     "name": "stdout",
     "output_type": "stream",
     "text": [
      "All TJs in 67 step is 877, focused TJs is 43\n"
     ]
    },
    {
     "name": "stderr",
     "output_type": "stream",
     "text": [
      "100%|██████████| 905/905 [00:01<00:00, 751.99it/s] \n"
     ]
    },
    {
     "name": "stdout",
     "output_type": "stream",
     "text": [
      "All TJs in 68 step is 848, focused TJs is 49\n"
     ]
    },
    {
     "name": "stderr",
     "output_type": "stream",
     "text": [
      "100%|██████████| 886/886 [00:01<00:00, 852.07it/s] \n"
     ]
    },
    {
     "name": "stdout",
     "output_type": "stream",
     "text": [
      "All TJs in 69 step is 835, focused TJs is 43\n"
     ]
    },
    {
     "name": "stderr",
     "output_type": "stream",
     "text": [
      "100%|██████████| 869/869 [00:01<00:00, 817.35it/s] \n"
     ]
    },
    {
     "name": "stdout",
     "output_type": "stream",
     "text": [
      "All TJs in 70 step is 838, focused TJs is 44\n"
     ]
    },
    {
     "name": "stderr",
     "output_type": "stream",
     "text": [
      "100%|██████████| 860/860 [00:01<00:00, 791.73it/s] \n"
     ]
    },
    {
     "name": "stdout",
     "output_type": "stream",
     "text": [
      "All TJs in 71 step is 825, focused TJs is 45\n"
     ]
    },
    {
     "name": "stderr",
     "output_type": "stream",
     "text": [
      "100%|██████████| 847/847 [00:01<00:00, 707.41it/s]\n"
     ]
    },
    {
     "name": "stdout",
     "output_type": "stream",
     "text": [
      "All TJs in 72 step is 809, focused TJs is 50\n"
     ]
    },
    {
     "name": "stderr",
     "output_type": "stream",
     "text": [
      "100%|██████████| 835/835 [00:00<00:00, 1182.87it/s]\n"
     ]
    },
    {
     "name": "stdout",
     "output_type": "stream",
     "text": [
      "All TJs in 73 step is 808, focused TJs is 29\n"
     ]
    },
    {
     "name": "stderr",
     "output_type": "stream",
     "text": [
      "100%|██████████| 826/826 [00:01<00:00, 639.65it/s]\n"
     ]
    },
    {
     "name": "stdout",
     "output_type": "stream",
     "text": [
      "All TJs in 74 step is 784, focused TJs is 53\n"
     ]
    },
    {
     "name": "stderr",
     "output_type": "stream",
     "text": [
      "100%|██████████| 813/813 [00:01<00:00, 683.35it/s]\n"
     ]
    },
    {
     "name": "stdout",
     "output_type": "stream",
     "text": [
      "All TJs in 75 step is 769, focused TJs is 49\n"
     ]
    },
    {
     "name": "stderr",
     "output_type": "stream",
     "text": [
      "100%|██████████| 796/796 [00:01<00:00, 754.48it/s]\n"
     ]
    },
    {
     "name": "stdout",
     "output_type": "stream",
     "text": [
      "All TJs in 76 step is 753, focused TJs is 44\n"
     ]
    },
    {
     "name": "stderr",
     "output_type": "stream",
     "text": [
      "100%|██████████| 779/779 [00:00<00:00, 922.13it/s] \n"
     ]
    },
    {
     "name": "stdout",
     "output_type": "stream",
     "text": [
      "All TJs in 77 step is 745, focused TJs is 35\n"
     ]
    },
    {
     "name": "stderr",
     "output_type": "stream",
     "text": [
      "100%|██████████| 772/772 [00:00<00:00, 1029.09it/s]\n"
     ]
    },
    {
     "name": "stdout",
     "output_type": "stream",
     "text": [
      "All TJs in 78 step is 729, focused TJs is 31\n"
     ]
    },
    {
     "name": "stderr",
     "output_type": "stream",
     "text": [
      "100%|██████████| 758/758 [00:00<00:00, 920.57it/s]\n"
     ]
    },
    {
     "name": "stdout",
     "output_type": "stream",
     "text": [
      "All TJs in 79 step is 730, focused TJs is 34\n"
     ]
    },
    {
     "name": "stderr",
     "output_type": "stream",
     "text": [
      "100%|██████████| 753/753 [00:01<00:00, 697.30it/s]\n"
     ]
    },
    {
     "name": "stdout",
     "output_type": "stream",
     "text": [
      "All TJs in 80 step is 729, focused TJs is 45\n"
     ]
    },
    {
     "name": "stderr",
     "output_type": "stream",
     "text": [
      "100%|██████████| 746/746 [00:00<00:00, 991.82it/s] \n"
     ]
    },
    {
     "name": "stdout",
     "output_type": "stream",
     "text": [
      "All TJs in 81 step is 705, focused TJs is 31\n"
     ]
    },
    {
     "name": "stderr",
     "output_type": "stream",
     "text": [
      "100%|██████████| 734/734 [00:01<00:00, 688.95it/s]\n"
     ]
    },
    {
     "name": "stdout",
     "output_type": "stream",
     "text": [
      "All TJs in 82 step is 695, focused TJs is 44\n"
     ]
    },
    {
     "name": "stderr",
     "output_type": "stream",
     "text": [
      "100%|██████████| 727/727 [00:00<00:00, 1063.50it/s]\n"
     ]
    },
    {
     "name": "stdout",
     "output_type": "stream",
     "text": [
      "All TJs in 83 step is 685, focused TJs is 28\n"
     ]
    },
    {
     "name": "stderr",
     "output_type": "stream",
     "text": [
      "100%|██████████| 713/713 [00:00<00:00, 876.66it/s] \n"
     ]
    },
    {
     "name": "stdout",
     "output_type": "stream",
     "text": [
      "All TJs in 84 step is 685, focused TJs is 34\n"
     ]
    },
    {
     "name": "stderr",
     "output_type": "stream",
     "text": [
      "100%|██████████| 701/701 [00:00<00:00, 855.51it/s]\n"
     ]
    },
    {
     "name": "stdout",
     "output_type": "stream",
     "text": [
      "All TJs in 85 step is 675, focused TJs is 34\n"
     ]
    },
    {
     "name": "stderr",
     "output_type": "stream",
     "text": [
      "100%|██████████| 696/696 [00:00<00:00, 759.56it/s] \n"
     ]
    },
    {
     "name": "stdout",
     "output_type": "stream",
     "text": [
      "All TJs in 86 step is 666, focused TJs is 38\n"
     ]
    },
    {
     "name": "stderr",
     "output_type": "stream",
     "text": [
      "100%|██████████| 688/688 [00:00<00:00, 835.15it/s] \n"
     ]
    },
    {
     "name": "stdout",
     "output_type": "stream",
     "text": [
      "All TJs in 87 step is 665, focused TJs is 34\n"
     ]
    },
    {
     "name": "stderr",
     "output_type": "stream",
     "text": [
      "100%|██████████| 676/676 [00:00<00:00, 988.46it/s] \n"
     ]
    },
    {
     "name": "stdout",
     "output_type": "stream",
     "text": [
      "All TJs in 88 step is 655, focused TJs is 28\n"
     ]
    },
    {
     "name": "stderr",
     "output_type": "stream",
     "text": [
      "100%|██████████| 670/670 [00:00<00:00, 711.41it/s]\n"
     ]
    },
    {
     "name": "stdout",
     "output_type": "stream",
     "text": [
      "All TJs in 89 step is 659, focused TJs is 39\n"
     ]
    },
    {
     "name": "stderr",
     "output_type": "stream",
     "text": [
      "100%|██████████| 666/666 [00:00<00:00, 843.67it/s] \n"
     ]
    },
    {
     "name": "stdout",
     "output_type": "stream",
     "text": [
      "All TJs in 90 step is 648, focused TJs is 33\n"
     ]
    },
    {
     "name": "stderr",
     "output_type": "stream",
     "text": [
      "100%|██████████| 660/660 [00:00<00:00, 1050.68it/s]\n"
     ]
    },
    {
     "name": "stdout",
     "output_type": "stream",
     "text": [
      "All TJs in 91 step is 641, focused TJs is 26\n"
     ]
    },
    {
     "name": "stderr",
     "output_type": "stream",
     "text": [
      "100%|██████████| 654/654 [00:00<00:00, 968.70it/s] \n"
     ]
    },
    {
     "name": "stdout",
     "output_type": "stream",
     "text": [
      "All TJs in 92 step is 635, focused TJs is 28\n"
     ]
    },
    {
     "name": "stderr",
     "output_type": "stream",
     "text": [
      "100%|██████████| 647/647 [00:00<00:00, 1072.31it/s]\n"
     ]
    },
    {
     "name": "stdout",
     "output_type": "stream",
     "text": [
      "All TJs in 93 step is 625, focused TJs is 25\n"
     ]
    },
    {
     "name": "stderr",
     "output_type": "stream",
     "text": [
      "100%|██████████| 638/638 [00:00<00:00, 683.58it/s] \n"
     ]
    },
    {
     "name": "stdout",
     "output_type": "stream",
     "text": [
      "All TJs in 94 step is 621, focused TJs is 39\n"
     ]
    },
    {
     "name": "stderr",
     "output_type": "stream",
     "text": [
      "100%|██████████| 630/630 [00:00<00:00, 1054.91it/s]\n"
     ]
    },
    {
     "name": "stdout",
     "output_type": "stream",
     "text": [
      "All TJs in 95 step is 604, focused TJs is 25\n"
     ]
    },
    {
     "name": "stderr",
     "output_type": "stream",
     "text": [
      "100%|██████████| 622/622 [00:00<00:00, 867.07it/s] \n"
     ]
    },
    {
     "name": "stdout",
     "output_type": "stream",
     "text": [
      "All TJs in 96 step is 604, focused TJs is 30\n"
     ]
    },
    {
     "name": "stderr",
     "output_type": "stream",
     "text": [
      "100%|██████████| 613/613 [00:00<00:00, 2065.21it/s]\n"
     ]
    },
    {
     "name": "stdout",
     "output_type": "stream",
     "text": [
      "All TJs in 97 step is 593, focused TJs is 12\n"
     ]
    },
    {
     "name": "stderr",
     "output_type": "stream",
     "text": [
      "100%|██████████| 606/606 [00:00<00:00, 1088.49it/s]\n"
     ]
    },
    {
     "name": "stdout",
     "output_type": "stream",
     "text": [
      "All TJs in 98 step is 588, focused TJs is 23\n"
     ]
    },
    {
     "name": "stderr",
     "output_type": "stream",
     "text": [
      "100%|██████████| 598/598 [00:00<00:00, 952.15it/s] \n"
     ]
    },
    {
     "name": "stdout",
     "output_type": "stream",
     "text": [
      "All TJs in 99 step is 581, focused TJs is 26\n"
     ]
    },
    {
     "name": "stderr",
     "output_type": "stream",
     "text": [
      "100%|██████████| 596/596 [00:00<00:00, 776.05it/s]\n"
     ]
    },
    {
     "name": "stdout",
     "output_type": "stream",
     "text": [
      "All TJs in 100 step is 570, focused TJs is 32\n"
     ]
    },
    {
     "name": "stderr",
     "output_type": "stream",
     "text": [
      "100%|██████████| 587/587 [00:00<00:00, 661.59it/s]\n"
     ]
    },
    {
     "name": "stdout",
     "output_type": "stream",
     "text": [
      "All TJs in 101 step is 559, focused TJs is 37\n"
     ]
    },
    {
     "name": "stderr",
     "output_type": "stream",
     "text": [
      "100%|██████████| 575/575 [00:00<00:00, 824.36it/s]\n"
     ]
    },
    {
     "name": "stdout",
     "output_type": "stream",
     "text": [
      "All TJs in 102 step is 565, focused TJs is 29\n"
     ]
    },
    {
     "name": "stderr",
     "output_type": "stream",
     "text": [
      "100%|██████████| 572/572 [00:00<00:00, 724.18it/s] \n"
     ]
    },
    {
     "name": "stdout",
     "output_type": "stream",
     "text": [
      "All TJs in 103 step is 558, focused TJs is 33\n"
     ]
    },
    {
     "name": "stderr",
     "output_type": "stream",
     "text": [
      "100%|██████████| 568/568 [00:00<00:00, 810.86it/s] \n"
     ]
    },
    {
     "name": "stdout",
     "output_type": "stream",
     "text": [
      "All TJs in 104 step is 557, focused TJs is 29\n"
     ]
    },
    {
     "name": "stderr",
     "output_type": "stream",
     "text": [
      "100%|██████████| 566/566 [00:00<00:00, 601.91it/s]\n"
     ]
    },
    {
     "name": "stdout",
     "output_type": "stream",
     "text": [
      "All TJs in 105 step is 557, focused TJs is 39\n"
     ]
    },
    {
     "name": "stderr",
     "output_type": "stream",
     "text": [
      "100%|██████████| 562/562 [00:00<00:00, 924.96it/s] \n"
     ]
    },
    {
     "name": "stdout",
     "output_type": "stream",
     "text": [
      "All TJs in 106 step is 541, focused TJs is 25\n"
     ]
    },
    {
     "name": "stderr",
     "output_type": "stream",
     "text": [
      "100%|██████████| 555/555 [00:00<00:00, 1138.63it/s]\n"
     ]
    },
    {
     "name": "stdout",
     "output_type": "stream",
     "text": [
      "All TJs in 107 step is 542, focused TJs is 20\n"
     ]
    },
    {
     "name": "stderr",
     "output_type": "stream",
     "text": [
      "100%|██████████| 554/554 [00:00<00:00, 644.92it/s]\n"
     ]
    },
    {
     "name": "stdout",
     "output_type": "stream",
     "text": [
      "All TJs in 108 step is 540, focused TJs is 36\n"
     ]
    },
    {
     "name": "stderr",
     "output_type": "stream",
     "text": [
      "100%|██████████| 556/556 [00:00<00:00, 692.59it/s]\n"
     ]
    },
    {
     "name": "stdout",
     "output_type": "stream",
     "text": [
      "All TJs in 109 step is 531, focused TJs is 33\n"
     ]
    },
    {
     "name": "stderr",
     "output_type": "stream",
     "text": [
      "100%|██████████| 545/545 [00:00<00:00, 898.18it/s]\n"
     ]
    },
    {
     "name": "stdout",
     "output_type": "stream",
     "text": [
      "All TJs in 110 step is 536, focused TJs is 25\n"
     ]
    },
    {
     "name": "stderr",
     "output_type": "stream",
     "text": [
      "100%|██████████| 540/540 [00:00<00:00, 1165.71it/s]\n"
     ]
    },
    {
     "name": "stdout",
     "output_type": "stream",
     "text": [
      "All TJs in 111 step is 527, focused TJs is 19\n"
     ]
    },
    {
     "name": "stderr",
     "output_type": "stream",
     "text": [
      "100%|██████████| 536/536 [00:00<00:00, 1214.50it/s]\n"
     ]
    },
    {
     "name": "stdout",
     "output_type": "stream",
     "text": [
      "All TJs in 112 step is 525, focused TJs is 18\n"
     ]
    },
    {
     "name": "stderr",
     "output_type": "stream",
     "text": [
      "100%|██████████| 534/534 [00:00<00:00, 1134.61it/s]\n"
     ]
    },
    {
     "name": "stdout",
     "output_type": "stream",
     "text": [
      "All TJs in 113 step is 518, focused TJs is 18\n"
     ]
    },
    {
     "name": "stderr",
     "output_type": "stream",
     "text": [
      "100%|██████████| 531/531 [00:00<00:00, 907.46it/s] \n"
     ]
    },
    {
     "name": "stdout",
     "output_type": "stream",
     "text": [
      "All TJs in 114 step is 518, focused TJs is 24\n"
     ]
    },
    {
     "name": "stderr",
     "output_type": "stream",
     "text": [
      "100%|██████████| 529/529 [00:00<00:00, 955.11it/s] \n"
     ]
    },
    {
     "name": "stdout",
     "output_type": "stream",
     "text": [
      "All TJs in 115 step is 512, focused TJs is 23\n"
     ]
    },
    {
     "name": "stderr",
     "output_type": "stream",
     "text": [
      "100%|██████████| 521/521 [00:00<00:00, 767.97it/s]\n"
     ]
    },
    {
     "name": "stdout",
     "output_type": "stream",
     "text": [
      "All TJs in 116 step is 507, focused TJs is 28\n"
     ]
    },
    {
     "name": "stderr",
     "output_type": "stream",
     "text": [
      "100%|██████████| 519/519 [00:00<00:00, 1336.65it/s]\n"
     ]
    },
    {
     "name": "stdout",
     "output_type": "stream",
     "text": [
      "All TJs in 117 step is 502, focused TJs is 16\n"
     ]
    },
    {
     "name": "stderr",
     "output_type": "stream",
     "text": [
      "100%|██████████| 512/512 [00:00<00:00, 49811.74it/s]\n"
     ]
    },
    {
     "name": "stdout",
     "output_type": "stream",
     "text": [
      "All TJs in 118 step is 493, focused TJs is 0\n"
     ]
    },
    {
     "name": "stderr",
     "output_type": "stream",
     "text": [
      "100%|██████████| 502/502 [00:00<00:00, 46069.07it/s]"
     ]
    },
    {
     "name": "stdout",
     "output_type": "stream",
     "text": [
      "All TJs in 119 step is 493, focused TJs is 0\n"
     ]
    },
    {
     "name": "stderr",
     "output_type": "stream",
     "text": [
      "\n"
     ]
    }
   ],
   "source": [
    "    # extract TJ velocity\n",
    "    time_interval = 30\n",
    "    TJ_velocity_list = []\n",
    "    TJ_velocity_1Dlist = []\n",
    "    TJ_focus_velocity_list = []\n",
    "    TJ_focus_velocity_1Dlist = []\n",
    "    TJ_energy_list = []\n",
    "    TJ_energy_1Dlist = []\n",
    "    TJ_focus_energy_list = []\n",
    "    TJ_focus_energy_1Dlist = []\n",
    "    TJ_GBenergy_list = []\n",
    "    TJ_GBenergy_1Dlist = []\n",
    "    TJ_GBenergy_1Dlist_three = [[],[],[]]\n",
    "    TJ_GBenergy_1Dlist_two = [[],[]]\n",
    "    TJ_focus_GBenergy_list = []\n",
    "    TJ_focus_GBenergy_1Dlist = []\n",
    "    TJ_focus_GBenergy_1Dlist_three = [[],[],[]]\n",
    "    TJ_focus_GBenergy_1Dlist_two = [[],[]]\n",
    "    for time_step in range(step_num):\n",
    "        if time_step + 1 >= step_num: continue\n",
    "        TJ_velocity_list_tmp = []\n",
    "        TJ_energy_list_tmp = []\n",
    "        TJ_focus_velocity_list_tmp = []\n",
    "        TJ_focus_energy_list_tmp = []\n",
    "        TJ_GBenergy_list_tmp = []\n",
    "        TJ_GBenergy_list_three_tmp = []\n",
    "        TJ_focus_GBenergy_list_tmp = []\n",
    "        TJ_focus_GBenergy_list_three_tmp = []\n",
    "        for TJ_key in tqdm(TJ_information_dict_list[time_step]):\n",
    "            if TJ_information_dict_list[time_step+1].get(TJ_key) is None: continue\n",
    "            edge_matrix = np.array([[size_x,0,0],[-size_x,0,0],[0,size_y,0],[0,-size_y,0],[size_x,size_y,0],[-size_x,-size_y,0],[-size_x,size_y,0],[size_x,-size_y,0]])\n",
    "            \n",
    "            # calculate three GB energy\n",
    "            GB_key1_at_TJ = post_processing.get_line(TJ_key[0],TJ_key[1])\n",
    "            GB_key2_at_TJ = post_processing.get_line(TJ_key[0],TJ_key[2])\n",
    "            GB_key3_at_TJ = post_processing.get_line(TJ_key[1],TJ_key[2])\n",
    "            if (GB_key1_at_TJ in GBenergy_information_dict_list[time_step] and\n",
    "                GB_key2_at_TJ in GBenergy_information_dict_list[time_step] and\n",
    "                GB_key3_at_TJ in GBenergy_information_dict_list[time_step]):\n",
    "                \n",
    "                GB_key1_energy = GBenergy_information_dict_list[time_step][GB_key1_at_TJ][4]\n",
    "                GB_key2_energy = GBenergy_information_dict_list[time_step][GB_key2_at_TJ][4]\n",
    "                GB_key3_energy = GBenergy_information_dict_list[time_step][GB_key3_at_TJ][4]\n",
    "                GB_3keys_energy = [GB_key1_energy,GB_key2_energy,GB_key3_energy]\n",
    "                GB_3keys_energy.sort()\n",
    "                TJ_GBenergy_list_tmp.extend(GB_3keys_energy)\n",
    "                TJ_GBenergy_1Dlist_three[0].append(GB_3keys_energy[0])\n",
    "                TJ_GBenergy_1Dlist_three[1].append(GB_3keys_energy[1])\n",
    "                TJ_GBenergy_1Dlist_three[2].append(GB_3keys_energy[2])\n",
    "                \n",
    "                # get the energy for the two GB keys\n",
    "                # get the velocity direction - 01\n",
    "                growth_direction1 = (npy_file_aniso[time_step]==TJ_key[0])*(npy_file_aniso[time_step+1]==TJ_key[1])\n",
    "                growth_direction2 = (npy_file_aniso[time_step]==TJ_key[1])*(npy_file_aniso[time_step+1]==TJ_key[0])\n",
    "                dV = np.sum(growth_direction1)-np.sum(growth_direction2) # velocity with direction\n",
    "                velocity = dV/time_interval/(GB_infomation_dict_list[time_step][GB_key1_at_TJ][5]/2) # 1 direction get negative, 0 get positive\n",
    "                # Get the GB key same as velocity direction and opposite to v direciton\n",
    "                if velocity>0:\n",
    "                    TJ_GBenergy_1Dlist_two[0].append(GB_key2_energy-GB_key1_energy)\n",
    "                    TJ_GBenergy_1Dlist_two[1].append(GB_key3_energy-GB_key1_energy)\n",
    "                else:\n",
    "                    TJ_GBenergy_1Dlist_two[0].append(GB_key3_energy-GB_key1_energy)\n",
    "                    TJ_GBenergy_1Dlist_two[1].append(GB_key2_energy-GB_key1_energy)\n",
    "                # get the velocity direction - 02\n",
    "                growth_direction1 = (npy_file_aniso[time_step]==TJ_key[0])*(npy_file_aniso[time_step+1]==TJ_key[2])\n",
    "                growth_direction2 = (npy_file_aniso[time_step]==TJ_key[2])*(npy_file_aniso[time_step+1]==TJ_key[0])\n",
    "                dV = np.sum(growth_direction1)-np.sum(growth_direction2) # velocity with direction\n",
    "                velocity = dV/time_interval/(GB_infomation_dict_list[time_step][GB_key2_at_TJ][5]/2) # 1 direction get negative, 0 get positive\n",
    "                # Get the GB key same as velocity direction and opposite to v direciton\n",
    "                if velocity>0:\n",
    "                    TJ_GBenergy_1Dlist_two[0].append(GB_key1_energy-GB_key2_energy)\n",
    "                    TJ_GBenergy_1Dlist_two[1].append(GB_key3_energy-GB_key2_energy)\n",
    "                else:\n",
    "                    TJ_GBenergy_1Dlist_two[0].append(GB_key3_energy-GB_key2_energy)\n",
    "                    TJ_GBenergy_1Dlist_two[1].append(GB_key1_energy-GB_key2_energy)\n",
    "                # get the velocity direction - 12\n",
    "                growth_direction1 = (npy_file_aniso[time_step]==TJ_key[1])*(npy_file_aniso[time_step+1]==TJ_key[2])\n",
    "                growth_direction2 = (npy_file_aniso[time_step]==TJ_key[2])*(npy_file_aniso[time_step+1]==TJ_key[1])\n",
    "                dV = np.sum(growth_direction1)-np.sum(growth_direction2) # velocity with direction\n",
    "                velocity = dV/time_interval/(GB_infomation_dict_list[time_step][GB_key3_at_TJ][5]/2) # 1 direction get negative, 0 get positive\n",
    "                # Get the GB key same as velocity direction and opposite to v direciton\n",
    "                if velocity>0:\n",
    "                    TJ_GBenergy_1Dlist_two[0].append(GB_key1_energy-GB_key3_energy)\n",
    "                    TJ_GBenergy_1Dlist_two[1].append(GB_key2_energy-GB_key3_energy)\n",
    "                else:\n",
    "                    TJ_GBenergy_1Dlist_two[0].append(GB_key2_energy-GB_key3_energy)\n",
    "                    TJ_GBenergy_1Dlist_two[1].append(GB_key1_energy-GB_key3_energy)\n",
    "                \n",
    "            \n",
    "            # get two points location\n",
    "            location_next_step = TJ_information_dict_list[time_step+1][TJ_key][:3]\n",
    "            location_current = TJ_information_dict_list[time_step][TJ_key][:3]\n",
    "            # get distance between two points, \"not in edge\" and \"in edge\" cases\n",
    "            if np.linalg.norm(location_next_step-location_current) < size_x/10:\n",
    "                distance = np.linalg.norm(location_next_step-location_current)\n",
    "            else:\n",
    "                difference_8points = np.tile(location_next_step,(8,1)) + edge_matrix - np.tile(location_current,(8,1))\n",
    "                distance_8points = np.linalg.norm(difference_8points,axis=1)\n",
    "                distance = np.min(distance_8points)\n",
    "            # calculate velocity\n",
    "            velocity = distance / time_interval\n",
    "            TJ_velocity_list_tmp.append(velocity)\n",
    "            # TJ averaged energy\n",
    "            TJ_energy = TJ_information_dict_list[time_step][TJ_key][3]\n",
    "            TJ_energy_list_tmp.append(TJ_energy)\n",
    "            \n",
    "            # consider the TJ around the anti-c GB\n",
    "            if time_step not in GB_id_focus_detail_time: continue\n",
    "            else: current_focus_GB_id = GB_id_focus_detail_time[time_step]\n",
    "            for GB_key in current_focus_GB_id:\n",
    "                pair_id_pair_focus = GB_infomation_dict_list[time_step][GB_key][6:8]\n",
    "                # We take the difference of two other GB and anti-c GB into account\n",
    "                \n",
    "                if pair_id_pair_focus[0] in TJ_key and pair_id_pair_focus[1] in TJ_key:\n",
    "                    # current TJ is around anti-c GB\n",
    "                    TJ_focus_velocity_list_tmp.append(velocity)\n",
    "                    TJ_focus_energy_list_tmp.append(TJ_energy)\n",
    "                    \n",
    "                    # get the third grain id\n",
    "                    for grain_id in TJ_key:\n",
    "                        if grain_id not in pair_id_pair_focus:\n",
    "                            grain_id_third_grain = grain_id\n",
    "                    \n",
    "                    # get the velocity direction\n",
    "                    growth_direction1 = (npy_file_aniso[time_step]==pair_id_pair_focus[0])*(npy_file_aniso[time_step+1]==pair_id_pair_focus[1])\n",
    "                    growth_direction2 = (npy_file_aniso[time_step]==pair_id_pair_focus[1])*(npy_file_aniso[time_step+1]==pair_id_pair_focus[0])\n",
    "                    dV = np.sum(growth_direction1)-np.sum(growth_direction2) # velocity with direction\n",
    "                    velocity = dV/time_interval/(GB_infomation_dict_list[time_step][GB_key][5]/2) # 1 direction get negative, 0 get positive\n",
    "                    # Get the GB key same as velocity direction and opposite to v direciton\n",
    "                    if velocity>0:\n",
    "                        GB_key_positive_velocity = post_processing.get_line(pair_id_pair_focus[0],grain_id_third_grain)\n",
    "                        GB_key_negative_velocity = post_processing.get_line(pair_id_pair_focus[1],grain_id_third_grain)\n",
    "                    else:\n",
    "                        GB_key_positive_velocity = post_processing.get_line(pair_id_pair_focus[1],grain_id_third_grain)\n",
    "                        GB_key_negative_velocity = post_processing.get_line(pair_id_pair_focus[0],grain_id_third_grain)\n",
    "                        \n",
    "                    if (GB_key_positive_velocity in GBenergy_information_dict_list[time_step] and\n",
    "                        GB_key_negative_velocity in GBenergy_information_dict_list[time_step] and\n",
    "                        GB_key in GBenergy_information_dict_list[time_step]):    \n",
    "                        TJ_focus_GBenergy_list_tmp.extend(GB_3keys_energy) # old information\n",
    "                    \n",
    "                        # get the energy for the two GB keys\n",
    "                        GB_key_pv_energy = GBenergy_information_dict_list[time_step][GB_key_positive_velocity][4]\n",
    "                        GB_key_nv_energy = GBenergy_information_dict_list[time_step][GB_key_negative_velocity][4]\n",
    "                        GB_antic_energy = GBenergy_information_dict_list[time_step][GB_key][4]\n",
    "                        # keep\n",
    "                        TJ_focus_GBenergy_1Dlist_two[0].append(GB_key_pv_energy-GB_antic_energy)\n",
    "                        TJ_focus_GBenergy_1Dlist_two[1].append(GB_key_nv_energy-GB_antic_energy)\n",
    "                    \n",
    "                    break # because each TJ will have maximum of one anti-c GB\n",
    "                \n",
    "                \n",
    "                \n",
    "#                 if pair_id_pair_focus[0] in TJ_key and pair_id_pair_focus[1] in TJ_key:\n",
    "#                     # current TJ is around anti-c GB\n",
    "#                     TJ_focus_velocity_list_tmp.append(velocity)\n",
    "#                     TJ_focus_energy_list_tmp.append(TJ_energy)\n",
    "#                     # calculate three GB energy\n",
    "#                     if (GB_key1_at_TJ in GBenergy_information_dict_list[time_step] and\n",
    "#                         GB_key2_at_TJ in GBenergy_information_dict_list[time_step] and\n",
    "#                         GB_key3_at_TJ in GBenergy_information_dict_list[time_step]):\n",
    "#                         TJ_focus_GBenergy_list_tmp.extend(GB_3keys_energy)\n",
    "#                         TJ_focus_GBenergy_1Dlist_three[0].append(GB_3keys_energy[0])\n",
    "#                         TJ_focus_GBenergy_1Dlist_three[1].append(GB_3keys_energy[1])\n",
    "#                         TJ_focus_GBenergy_1Dlist_three[2].append(GB_3keys_energy[2])\n",
    "#                     break\n",
    "            \n",
    "        \n",
    "        print(f\"All TJs in {time_step} step is {len(TJ_velocity_list_tmp)}, focused TJs is {len(TJ_focus_velocity_list_tmp)}\")\n",
    "        TJ_velocity_list.append(TJ_velocity_list_tmp)\n",
    "        TJ_velocity_1Dlist.extend(TJ_velocity_list_tmp)\n",
    "        TJ_focus_velocity_list.append(TJ_focus_velocity_list_tmp)\n",
    "        TJ_focus_velocity_1Dlist.extend(TJ_focus_velocity_list_tmp)\n",
    "        TJ_energy_list.append(TJ_energy_list_tmp)\n",
    "        TJ_energy_1Dlist.extend(TJ_energy_list_tmp)\n",
    "        TJ_focus_energy_list.append(TJ_focus_energy_list_tmp)\n",
    "        TJ_focus_energy_1Dlist.extend(TJ_focus_energy_list_tmp)\n",
    "        TJ_GBenergy_list.append(TJ_GBenergy_list_tmp)\n",
    "        TJ_GBenergy_1Dlist.extend(TJ_GBenergy_list_tmp)\n",
    "        TJ_focus_GBenergy_list.append(TJ_focus_GBenergy_list_tmp)\n",
    "        TJ_focus_GBenergy_1Dlist.extend(TJ_focus_GBenergy_list_tmp)\n",
    "        \n",
    "    \n",
    "        "
   ]
  },
  {
   "cell_type": "code",
   "execution_count": 56,
   "id": "b6ae821a-4688-4358-870e-a04d9a5a1884",
   "metadata": {
    "tags": []
   },
   "outputs": [
    {
     "data": {
      "text/plain": [
       "<matplotlib.legend.Legend at 0x14983a134220>"
      ]
     },
     "execution_count": 56,
     "metadata": {},
     "output_type": "execute_result"
    },
    {
     "data": {
      "text/plain": [
       "<Figure size 432x288 with 0 Axes>"
      ]
     },
     "metadata": {},
     "output_type": "display_data"
    },
    {
     "data": {
      "image/png": "[encoded data removed]",
      "text/plain": [
       "<Figure size 504x504 with 1 Axes>"
      ]
     },
     "metadata": {
      "needs_background": "light"
     },
     "output_type": "display_data"
    },
    {
     "data": {
      "text/plain": [
       "<Figure size 432x288 with 0 Axes>"
      ]
     },
     "metadata": {},
     "output_type": "display_data"
    },
    {
     "data": {
      "image/png": "[encoded data removed]",
      "text/plain": [
       "<Figure size 504x504 with 1 Axes>"
      ]
     },
     "metadata": {
      "needs_background": "light"
     },
     "output_type": "display_data"
    },
    {
     "data": {
      "image/png": "[encoded data removed]",
      "text/plain": [
       "<Figure size 504x504 with 1 Axes>"
      ]
     },
     "metadata": {
      "needs_background": "light"
     },
     "output_type": "display_data"
    }
   ],
   "source": [
    "\n",
    "    xLim = [0,2.1]\n",
    "    binValue = 0.01001\n",
    "    binNum = round((abs(xLim[0])+abs(xLim[1]))/binValue)\n",
    "    xCor = np.linspace((xLim[0]+binValue/2),(xLim[1]-binValue/2),binNum)\n",
    "    xLim_energy = [0.5,3.5]\n",
    "    binNum_energy = round((abs(xLim_energy[0])+abs(xLim_energy[1]))/binValue)\n",
    "    xCor_energy = np.linspace((xLim_energy[0]+binValue/2),(xLim_energy[1]-binValue/2),binNum_energy)\n",
    "    xLim_GBenergy = [0.0,1.2]\n",
    "    binNum_GBenergy = round((abs(xLim_GBenergy[0])+abs(xLim_GBenergy[1]))/binValue)\n",
    "    xCor_GBenergy = np.linspace((xLim_GBenergy[0]+binValue/2),(xLim_GBenergy[1]-binValue/2),binNum_GBenergy)\n",
    "    xLim_GBDiffenergy = [-0.5,1.0]\n",
    "    binNum_GBenergy = round((abs(xLim_GBDiffenergy[0])+abs(xLim_GBDiffenergy[1]))/binValue)\n",
    "    xCor_GBenergy = np.linspace((xLim_GBDiffenergy[0]+binValue/2),(xLim_GBDiffenergy[1]-binValue/2),binNum_GBenergy)\n",
    "    freqArray_velocity = np.zeros(binNum)\n",
    "    freqArray_velocity_focus = np.zeros(binNum)\n",
    "    freqArray_energy = np.zeros(binNum_energy)\n",
    "    freqArray_energy_focus = np.zeros(binNum_energy)\n",
    "    freqArray_GBenergy = np.zeros(binNum_GBenergy)\n",
    "    freqArray_GBenergy_three = np.zeros((3,binNum_GBenergy))\n",
    "    freqArray_GBenergy_focus = np.zeros(binNum_GBenergy)\n",
    "    # freqArray_GBenergy_focus_three = np.zeros((3,binNum_GBenergy))\n",
    "    freqArray_GBenergy_focus_two = np.zeros((2,binNum_GBenergy))\n",
    "    \n",
    "    \n",
    "    for site_i in range(len(TJ_velocity_1Dlist)):\n",
    "        velocity = TJ_velocity_1Dlist[site_i]\n",
    "        freqArray_velocity[int((velocity-xLim[0])//binValue)] += 1\n",
    "        energy = TJ_energy_1Dlist[site_i]\n",
    "        freqArray_energy[int((energy-xLim_energy[0])//binValue)] += 1\n",
    "    freqArray_velocity = freqArray_velocity/np.sum(freqArray_velocity*binValue)\n",
    "    freqArray_energy = freqArray_energy/np.sum(freqArray_energy*binValue)\n",
    "    for site_i in range(len(TJ_focus_velocity_1Dlist)):\n",
    "        velocity = TJ_focus_velocity_1Dlist[site_i]\n",
    "        freqArray_velocity_focus[int((velocity-xLim[0])//binValue)] += 1\n",
    "        energy = TJ_focus_energy_1Dlist[site_i]\n",
    "        freqArray_energy_focus[int((energy-xLim_energy[0])//binValue)] += 1\n",
    "    freqArray_velocity_focus = freqArray_velocity_focus/np.sum(freqArray_velocity_focus*binValue)\n",
    "    freqArray_energy_focus = freqArray_energy_focus/np.sum(freqArray_energy_focus*binValue)\n",
    "    for site_i in range(len(TJ_GBenergy_1Dlist)):\n",
    "        GBenergy = TJ_GBenergy_1Dlist[site_i]\n",
    "        freqArray_GBenergy[int((GBenergy-xLim_GBenergy[0])//binValue)] += 1\n",
    "    freqArray_GBenergy = freqArray_GBenergy/np.sum(freqArray_GBenergy*binValue)\n",
    "    for site_i in range(len(TJ_focus_GBenergy_1Dlist)):\n",
    "        GBenergy = TJ_focus_GBenergy_1Dlist[site_i]\n",
    "        freqArray_GBenergy_focus[int((GBenergy-xLim_GBenergy[0])//binValue)] += 1\n",
    "    freqArray_GBenergy_focus = freqArray_GBenergy_focus/np.sum(freqArray_GBenergy_focus*binValue)\n",
    "    for site_i in range(len(TJ_GBenergy_1Dlist_three[0])):\n",
    "        GBenergy0 = TJ_GBenergy_1Dlist_three[0][site_i]\n",
    "        GBenergy1 = TJ_GBenergy_1Dlist_three[1][site_i]\n",
    "        GBenergy2 = TJ_GBenergy_1Dlist_three[2][site_i]\n",
    "        freqArray_GBenergy_three[0][int((GBenergy0-xLim_GBenergy[0])//binValue)] += 1\n",
    "        freqArray_GBenergy_three[1][int((GBenergy1-xLim_GBenergy[0])//binValue)] += 1\n",
    "        freqArray_GBenergy_three[2][int((GBenergy2-xLim_GBenergy[0])//binValue)] += 1\n",
    "    freqArray_GBenergy_three[0] = freqArray_GBenergy_three[0]/np.sum(freqArray_GBenergy_three[0]*binValue)\n",
    "    freqArray_GBenergy_three[1] = freqArray_GBenergy_three[1]/np.sum(freqArray_GBenergy_three[1]*binValue)\n",
    "    freqArray_GBenergy_three[2] = freqArray_GBenergy_three[2]/np.sum(freqArray_GBenergy_three[2]*binValue)\n",
    "    # for site_i in range(len(TJ_focus_GBenergy_1Dlist_three[0])):\n",
    "    #     GBenergy0 = TJ_focus_GBenergy_1Dlist_three[0][site_i]\n",
    "    #     GBenergy1 = TJ_focus_GBenergy_1Dlist_three[1][site_i]\n",
    "    #     GBenergy2 = TJ_focus_GBenergy_1Dlist_three[2][site_i]\n",
    "    #     freqArray_GBenergy_focus_three[0][int((GBenergy0-xLim_GBenergy[0])//binValue)] += 1\n",
    "    #     freqArray_GBenergy_focus_three[1][int((GBenergy1-xLim_GBenergy[0])//binValue)] += 1\n",
    "    #     freqArray_GBenergy_focus_three[2][int((GBenergy2-xLim_GBenergy[0])//binValue)] += 1\n",
    "    # freqArray_GBenergy_focus_three[0] = freqArray_GBenergy_focus_three[0]/np.sum(freqArray_GBenergy_focus_three[0]*binValue)\n",
    "    # freqArray_GBenergy_focus_three[1] = freqArray_GBenergy_focus_three[1]/np.sum(freqArray_GBenergy_focus_three[1]*binValue)\n",
    "    # freqArray_GBenergy_focus_three[2] = freqArray_GBenergy_focus_three[2]/np.sum(freqArray_GBenergy_focus_three[2]*binValue)\n",
    "    for site_i in range(len(TJ_focus_GBenergy_1Dlist_two[0])):\n",
    "        GBenergy_p = TJ_focus_GBenergy_1Dlist_two[0][site_i]\n",
    "        GBenergy_n = TJ_focus_GBenergy_1Dlist_two[1][site_i]\n",
    "        freqArray_GBenergy_focus_two[0][int((GBenergy_p-xLim_GBDiffenergy[0])//binValue)] += 1\n",
    "        freqArray_GBenergy_focus_two[1][int((GBenergy_n-xLim_GBDiffenergy[0])//binValue)] += 1\n",
    "    freqArray_GBenergy_focus_two[0] = freqArray_GBenergy_focus_two[0]/np.sum(freqArray_GBenergy_focus_two[0]*binValue)\n",
    "    freqArray_GBenergy_focus_two[1] = freqArray_GBenergy_focus_two[1]/np.sum(freqArray_GBenergy_focus_two[1]*binValue)\n",
    "    \n",
    "    # plot\n",
    "    figure_name_TJvelocity = f\"figures/2D_TJ_velocity_{case_name}_afterBin.png\"\n",
    "    plt.figure()\n",
    "    fig = plt.figure(figsize=(7, 7))\n",
    "    plt.xlim([0,0.8])\n",
    "    plt.ylim([0,5.0])\n",
    "    plt.plot(xCor, freqArray_velocity,'-', linewidth=2,label='all TJs')\n",
    "    plt.plot(xCor, freqArray_velocity_focus,'-', linewidth=2, label='anti-c TJs')\n",
    "    plt.xlabel(\"TJ velocity\", fontsize=18)\n",
    "    plt.ylabel(\"distribution\", fontsize=18)\n",
    "    plt.legend(fontsize=18)\n",
    "    # plt.savefig(figure_name_TJvelocity, dpi=400,bbox_inches='tight')\n",
    "    \n",
    "    # plot\n",
    "    figure_name_TJenergy = f\"figures/2D_TJ_energy_{case_name}_afterBin.png\"\n",
    "    plt.figure()\n",
    "    fig = plt.figure(figsize=(7, 7))\n",
    "    # plt.xlim([0,0.8])\n",
    "    # plt.ylim([0,0.05])\n",
    "    plt.plot(xCor_energy, freqArray_energy,'-', linewidth=2,label='all TJs')\n",
    "    plt.plot(xCor_energy, freqArray_energy_focus,'-', linewidth=2, label='anti-c TJs')\n",
    "    plt.xlabel(\"TJ energy\", fontsize=18)\n",
    "    plt.ylabel(\"distribution\", fontsize=18)\n",
    "    plt.legend(fontsize=18)\n",
    "    # plt.savefig(figure_name_TJenergy, dpi=400,bbox_inches='tight')\n",
    "    \n",
    "    # plot\n",
    "    figure_name_TJ_GBenergy = f\"figures/2D_TJ_GBenergy_{case_name}_afterBin.png\"\n",
    "    plt.figure(figsize=(7,7))\n",
    "    import matplotlib as mpl\n",
    "    cmap = mpl.colormaps['tab20']\n",
    "    colors = cmap(np.linspace(0, 1, 20))\n",
    "    # plt.plot(xCor_GBenergy, freqArray_GBenergy_three[0],'-', linewidth=2, label='all GBs',color=colors[0])\n",
    "    # plt.plot(xCor_GBenergy, freqArray_GBenergy_three[1],'-', linewidth=2,color=colors[0])\n",
    "    # plt.plot(xCor_GBenergy, freqArray_GBenergy_three[2],'-', linewidth=2,color=colors[0])\n",
    "    # plt.plot(xCor_GBenergy, freqArray_GBenergy_focus_three[0],'-', linewidth=2, label='anti-c GBs',color=colors[2])\n",
    "    # plt.plot(xCor_GBenergy, freqArray_GBenergy_focus_three[1],'-', linewidth=2,color=colors[2])\n",
    "    # plt.plot(xCor_GBenergy, freqArray_GBenergy_focus_three[2],'-', linewidth=2,color=colors[2])\n",
    "    plt.plot(xCor_GBenergy, freqArray_GBenergy_focus_two[0],'-', linewidth=2, label='anti-c GBs(p))',color=colors[0])\n",
    "    plt.plot(xCor_GBenergy, freqArray_GBenergy_focus_two[1],'-', linewidth=2, label='anti-c GBs(n))',color=colors[2])\n",
    "    plt.plot([0,0],[0,6],'--', linewidth=2,color='grey')\n",
    "    plt.xlim([-0.5,1.0])\n",
    "    plt.ylim([0,5])\n",
    "    plt.xlabel(\"GB energy difference\", fontsize=18)\n",
    "    plt.ylabel(\"Frequency\", fontsize=18)\n",
    "    plt.legend(fontsize=18)\n",
    "    # print(f\"The total is {len(TJ_GBenergy_1Dlist)}, the focus is {len(TJ_focus_GBenergy_1Dlist)}, the unfocus is {len(TJ_unfocus_GBenergy_1Dlist)}\")\n",
    "    # plt.savefig(figure_name_TJ_GBenergy, dpi=400,bbox_inches='tight')\n",
    "    \n",
    "    \n"
   ]
  },
  {
   "cell_type": "code",
   "execution_count": null,
   "id": "e8ba002f-1e6f-41a7-8c3b-28a7c4a311d5",
   "metadata": {
    "tags": []
   },
   "outputs": [],
   "source": []
  },
  {
   "cell_type": "code",
   "execution_count": 272,
   "id": "dd29601a-15af-419c-8f28-da9cdc2fa365",
   "metadata": {
    "tags": []
   },
   "outputs": [
    {
     "name": "stderr",
     "output_type": "stream",
     "text": [
      "100%|██████████| 1216/1216 [00:01<00:00, 748.69it/s] \n"
     ]
    }
   ],
   "source": [
    "    # extract TJ average velocity \n",
    "    time_interval = 30\n",
    "    edge_matrix = np.array([[0,0,0],[size_x,0,0],[-size_x,0,0],[0,size_y,0],[0,-size_y,0],[size_x,size_y,0],[-size_x,-size_y,0],[-size_x,size_y,0],[size_x,-size_y,0]])\n",
    "    \n",
    "    init_TJ_keys = dict()\n",
    "    mean_velocity_TJs = dict()\n",
    "    for TJ_key in TJ_information_dict_list[0]: init_TJ_keys[TJ_key] = 0 # add all TJs in 0 step as init\n",
    "    for time_step in range(1, step_num):\n",
    "        \n",
    "        for TJ_key in TJ_information_dict_list[time_step]:\n",
    "            if TJ_key in init_TJ_keys: # know the init step\n",
    "                if time_step==step_num-1 or TJ_key not in TJ_information_dict_list[time_step+1]: # last step for current TJs\n",
    "                    # calculate velocity and keep it\n",
    "                    init_step = init_TJ_keys[TJ_key]\n",
    "                    location_init_step = TJ_information_dict_list[init_step][TJ_key][:3]\n",
    "                    location_end_step = TJ_information_dict_list[time_step][TJ_key][:3]\n",
    "                    difference_9points = np.tile(location_end_step,(9,1)) + edge_matrix - np.tile(location_init_step,(9,1))\n",
    "                    distance_9points = np.linalg.norm(difference_9points,axis=1)\n",
    "                    distance = np.min(distance_9points)\n",
    "                    # calculate velocity\n",
    "                    mean_velocity = distance / (time_interval*(time_step-init_step))\n",
    "                    mean_velocity_TJs[TJ_key] = mean_velocity\n",
    "            else: # don't know the init step\n",
    "                init_TJ_keys[TJ_key] = time_step\n",
    "    TJ_mean_velocity_1Dlist = list(mean_velocity_TJs.values())\n",
    "    \n",
    "    mean_velocity_focus_TJs = dict()\n",
    "    for GB_key in tqdm(GB_id_focus_detail):\n",
    "        if len(GB_id_focus_detail[GB_key]) < 2: continue\n",
    "        init_step = GB_id_focus_detail[GB_key][0]\n",
    "        end_step = GB_id_focus_detail[GB_key][-1]\n",
    "        pair_id_pair_focus = GB_infomation_dict_list[init_step][GB_key][6:8]\n",
    "        \n",
    "        for TJ_key in TJ_information_dict_list[init_step]:\n",
    "            if pair_id_pair_focus[0] in TJ_key and pair_id_pair_focus[1] in TJ_key:\n",
    "                location_init_step = TJ_information_dict_list[init_step][TJ_key][:3]\n",
    "                if TJ_key not in TJ_information_dict_list[end_step]: continue\n",
    "                \n",
    "                location_end_step = TJ_information_dict_list[end_step][TJ_key][:3]\n",
    "                difference_9points = np.tile(location_end_step,(9,1)) + edge_matrix - np.tile(location_init_step,(9,1))\n",
    "                distance_9points = np.linalg.norm(difference_9points,axis=1)\n",
    "                distance = np.min(distance_9points)\n",
    "                # calculate velocity\n",
    "                mean_velocity = distance / (time_interval*(end_step-init_step))\n",
    "                mean_velocity_focus_TJs[TJ_key] = mean_velocity\n",
    "                \n",
    "        \n",
    "        # location_init_step = TJ_information_dict_list[init_step][TJ_key][:3]\n",
    "        # location_end_step = TJ_information_dict_list[end_step][TJ_key][:3]\n",
    "        # difference_9points = np.tile(location_end_step,(9,1)) + edge_matrix - np.tile(location_init_step,(9,1))\n",
    "        # distance_9points = np.linalg.norm(difference_9points,axis=1)\n",
    "        # distance = np.min(distance_9points)\n",
    "        # # calculate velocity\n",
    "        # mean_velocity = distance / (time_interval*(time_step-init_step))\n",
    "        # mean_velocity_focus_TJs[TJ_key] = mean_velocity\n",
    "    TJ_focus_mean_velocity_1Dlist = list(mean_velocity_focus_TJs.values())\n",
    "    \n",
    "        "
   ]
  },
  {
   "cell_type": "code",
   "execution_count": 300,
   "id": "1d3d1906-df68-4ee5-96a9-5aedf153e781",
   "metadata": {
    "tags": []
   },
   "outputs": [
    {
     "data": {
      "text/plain": [
       "<matplotlib.legend.Legend at 0x1471005b29d0>"
      ]
     },
     "execution_count": 300,
     "metadata": {},
     "output_type": "execute_result"
    },
    {
     "data": {
      "text/plain": [
       "<Figure size 432x288 with 0 Axes>"
      ]
     },
     "metadata": {},
     "output_type": "display_data"
    },
    {
     "data": {
      "image/png": "[encoded data removed]",
      "text/plain": [
       "<Figure size 504x504 with 1 Axes>"
      ]
     },
     "metadata": {
      "needs_background": "light"
     },
     "output_type": "display_data"
    }
   ],
   "source": [
    "\n",
    "    xLim = [0,2.1]\n",
    "    binValue = 0.02001\n",
    "    binNum = round((abs(xLim[0])+abs(xLim[1]))/binValue)\n",
    "    xCor = np.linspace((xLim[0]+binValue/2),(xLim[1]-binValue/2),binNum)\n",
    "    freqArray_mean_velocity = np.zeros(binNum)\n",
    "    freqArray_mean_velocity_focus = np.zeros(binNum)\n",
    "    \n",
    "    for site_i in range(len(TJ_mean_velocity_1Dlist)):\n",
    "        mean_velocity = TJ_mean_velocity_1Dlist[site_i]\n",
    "        freqArray_mean_velocity[int((mean_velocity-xLim[0])//binValue)] += 1\n",
    "    freqArray_mean_velocity = freqArray_mean_velocity/np.sum(freqArray_mean_velocity*binValue)\n",
    "    for site_i in range(len(TJ_focus_mean_velocity_1Dlist)):\n",
    "        mean_velocity = TJ_focus_mean_velocity_1Dlist[site_i]\n",
    "        freqArray_mean_velocity_focus[int((mean_velocity-xLim[0])//binValue)] += 1\n",
    "    freqArray_mean_velocity_focus = freqArray_mean_velocity_focus/np.sum(freqArray_mean_velocity_focus*binValue)\n",
    "    \n",
    "    # plot\n",
    "    figure_name_TJmeanvelocity = f\"figures/2D_TJ_mean_velocity_{case_name}_afterBin.png\"\n",
    "    plt.figure()\n",
    "    fig = plt.figure(figsize=(7, 7))\n",
    "    plt.xlim([0,0.7])\n",
    "    plt.ylim([0,6])\n",
    "    plt.plot(xCor, freqArray_mean_velocity,'-', linewidth=2,label='all TJs')\n",
    "    plt.plot(xCor, freqArray_mean_velocity_focus,'-', linewidth=2, label='anti-c TJs')\n",
    "    plt.xlabel(\"TJ velocity\", fontsize=18)\n",
    "    plt.ylabel(\"distribution\", fontsize=18)\n",
    "    plt.legend(fontsize=18)\n",
    "    # plt.savefig(figure_name_TJvelocity, dpi=400,bbox_inches='tight')\n",
    "    \n"
   ]
  },
  {
   "cell_type": "code",
   "execution_count": 274,
   "id": "2e99a9ba-a5ca-4ea3-91cf-c1c8860fe314",
   "metadata": {
    "tags": []
   },
   "outputs": [
    {
     "data": {
      "text/plain": [
       "1640"
      ]
     },
     "execution_count": 274,
     "metadata": {},
     "output_type": "execute_result"
    }
   ],
   "source": []
  },
  {
   "cell_type": "code",
   "execution_count": null,
   "id": "c0cb0b46-044f-4a2d-aae8-6c0affbe880a",
   "metadata": {},
   "outputs": [],
   "source": []
  }
 ],
 "metadata": {
  "kernelspec": {
   "display_name": "UFRC Python-3.8",
   "language": "python",
   "name": "python3-3.8-ufrc"
  },
  "language_info": {
   "codemirror_mode": {
    "name": "ipython",
    "version": 3
   },
   "file_extension": ".py",
   "mimetype": "text/x-python",
   "name": "python",
   "nbconvert_exporter": "python",
   "pygments_lexer": "ipython3",
   "version": "3.8.15"
  }
 },
 "nbformat": 4,
 "nbformat_minor": 5
}
