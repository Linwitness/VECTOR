{
 "cells": [
  {
   "cell_type": "code",
   "execution_count": 1,
   "id": "05c78941-2680-4f93-b79a-065b4c6b467a",
   "metadata": {},
   "outputs": [
    {
     "data": {
      "text/plain": [
       "<module 'PACKAGE_MP_Linear' from '/home/lin.yang/projects/VECTOR/examples/GB_velocity/../../PACKAGE_MP_Linear.py'>"
      ]
     },
     "execution_count": 1,
     "metadata": {},
     "output_type": "execute_result"
    }
   ],
   "source": [
    "import os\n",
    "current_path = os.getcwd()\n",
    "import numpy as np\n",
    "from numpy import seterr\n",
    "seterr(all='raise')\n",
    "import matplotlib.pyplot as plt\n",
    "import math\n",
    "import random\n",
    "from tqdm import tqdm\n",
    "import sys\n",
    "sys.path.append(current_path)\n",
    "sys.path.append(current_path+'/../../')\n",
    "import myInput\n",
    "import PACKAGE_MP_Linear as linear2d\n",
    "import post_processing\n",
    "import PACKAGE_MP_3DLinear as Linear_3D\n",
    "import PACKAGE_MP_3DVertex as Vertex_3D\n",
    "sys.path.append(current_path+'/../calculate_tangent/')\n",
    "\n",
    "import importlib\n",
    "importlib.reload(post_processing)\n",
    "importlib.reload(Linear_3D)\n",
    "importlib.reload(linear2d)\n"
   ]
  },
  {
   "cell_type": "code",
   "execution_count": 2,
   "id": "9afadf8f-c08e-48d4-92fc-cacb96e3c0ce",
   "metadata": {
    "tags": []
   },
   "outputs": [],
   "source": [
    "\n",
    "def rotation_matrix_from_vectors(vec1, vec2):\n",
    "    \"\"\" Find the rotation matrix that aligns vec1 to vec2\n",
    "    :param vec1: A 3d \"source\" vector\n",
    "    :param vec2: A 3d \"destination\" vector\n",
    "    :return mat: A transform matrix (3x3) which when applied to vec1, aligns it with vec2.\n",
    "    \"\"\"\n",
    "    a, b = (vec1 / np.linalg.norm(vec1)).reshape(3), (vec2 / np.linalg.norm(vec2)).reshape(3)\n",
    "    v = np.cross(a, b)\n",
    "    c = np.dot(a, b)\n",
    "    s = np.linalg.norm(v)\n",
    "    kmat = np.array([[0, -v[2], v[1]], [v[2], 0, -v[0]], [-v[1], v[0], 0]])\n",
    "    rotation_matrix = np.eye(3) + kmat + kmat.dot(kmat) * ((1 - c) / (s ** 2))\n",
    "    return rotation_matrix"
   ]
  },
  {
   "cell_type": "markdown",
   "id": "6bda9958-2b42-4798-99e0-766e6d69d81a",
   "metadata": {},
   "source": [
    "## 2D"
   ]
  },
  {
   "cell_type": "code",
   "execution_count": 3,
   "id": "d39fedfa-0ef3-4a13-8ff8-9327ddcdcb04",
   "metadata": {},
   "outputs": [
    {
     "name": "stdout",
     "output_type": "stream",
     "text": [
      "The 20k_fully data size is: (201, 2400, 2400, 1)\n",
      "READING DATA DONE\n",
      "miso_dict DATA DONE\n"
     ]
    }
   ],
   "source": [
    "if __name__ == '__main__':\n",
    "    # File name\n",
    "    init_file_folder = \"/blue/michael.tonks/lin.yang/SPPARKS-VirtualIncEnergy/2d_poly_multiCoreCompare/IC/\"\n",
    "    data_file_folder = \"/blue/michael.tonks/lin.yang/VECTOR_data/\"\n",
    "    npy_file_folder = \"/blue/michael.tonks/lin.yang/SPPARKS-VirtualIncEnergy/2d_poly_fully/results/\"\n",
    "    # npy_file_folder = \"/blue/michael.tonks/lin.yang/SPPARKS-VirtualIncEnergy/2d_poly_wellEnergy/results/\"\n",
    "    case_name = \"20k_fully\"\n",
    "    init_file_name = f\"Case4.init\"\n",
    "    npy_file_name_aniso = f\"p_aveE_fz_fully5d_20k_J1_f1.0_t1.0_refer_1_0_0_seed56689_kt0.66.npy\"\n",
    "    # npy_file_name_aniso = f\"p_aveE_20000_Cos_delta0.0_J1_refer_1_0_0_seed56689_kt0.66.npy\"\n",
    "    \n",
    "    # Initial data\n",
    "    npy_file_aniso = np.load(npy_file_folder + npy_file_name_aniso)\n",
    "    npy_file_aniso = npy_file_aniso.astype(int)\n",
    "    print(f\"The {case_name} data size is: {npy_file_aniso.shape}\")\n",
    "    print(\"READING DATA DONE\")\n",
    "    step_num, size_x, size_y, size_z = npy_file_aniso.shape\n",
    "    \n",
    "    data_miso_dict_file_name = f\"GB_velocity_data/2D_miso_dict_data_MI_{case_name}.npz\"\n",
    "    miso_dict = np.load(data_file_folder+data_miso_dict_file_name,allow_pickle=True)[\"miso_dict\"].item()\n",
    "    print(\"miso_dict DATA DONE\")\n",
    "    "
   ]
  },
  {
   "cell_type": "code",
   "execution_count": 4,
   "id": "d27e9f2d-a458-4cba-9ebc-6b16080f5a37",
   "metadata": {},
   "outputs": [
    {
     "name": "stderr",
     "output_type": "stream",
     "text": [
      "  0%|          | 0/121 [00:00<?, ?it/s]"
     ]
    },
    {
     "name": "stdout",
     "output_type": "stream",
     "text": [
      "Finish inclination calculation\n",
      "Finish TJ extraction\n"
     ]
    },
    {
     "name": "stderr",
     "output_type": "stream",
     "text": [
      "  1%|          | 1/121 [02:36<5:13:09, 156.58s/it]"
     ]
    },
    {
     "name": "stdout",
     "output_type": "stream",
     "text": [
      "Current GBs len at 0 steps: 22827\n",
      "Finish inclination calculation\n",
      "Finish TJ extraction\n"
     ]
    },
    {
     "name": "stderr",
     "output_type": "stream",
     "text": [
      "  2%|▏         | 2/121 [05:15<5:13:28, 158.05s/it]"
     ]
    },
    {
     "name": "stdout",
     "output_type": "stream",
     "text": [
      "Current GBs len at 1 steps: 18957\n",
      "Finish inclination calculation\n",
      "Finish TJ extraction\n"
     ]
    },
    {
     "name": "stderr",
     "output_type": "stream",
     "text": [
      "  2%|▏         | 3/121 [07:55<5:12:26, 158.87s/it]"
     ]
    },
    {
     "name": "stdout",
     "output_type": "stream",
     "text": [
      "Current GBs len at 2 steps: 16156\n",
      "Finish inclination calculation\n",
      "Finish TJ extraction\n"
     ]
    },
    {
     "name": "stderr",
     "output_type": "stream",
     "text": [
      "  3%|▎         | 4/121 [10:25<5:03:10, 155.47s/it]"
     ]
    },
    {
     "name": "stdout",
     "output_type": "stream",
     "text": [
      "Current GBs len at 3 steps: 13834\n",
      "Finish inclination calculation\n",
      "Finish TJ extraction\n"
     ]
    },
    {
     "name": "stderr",
     "output_type": "stream",
     "text": [
      "  4%|▍         | 5/121 [12:54<4:56:08, 153.17s/it]"
     ]
    },
    {
     "name": "stdout",
     "output_type": "stream",
     "text": [
      "Current GBs len at 4 steps: 11980\n",
      "Finish inclination calculation\n",
      "Finish TJ extraction\n"
     ]
    },
    {
     "name": "stderr",
     "output_type": "stream",
     "text": [
      "  5%|▍         | 6/121 [15:23<4:50:54, 151.78s/it]"
     ]
    },
    {
     "name": "stdout",
     "output_type": "stream",
     "text": [
      "Current GBs len at 5 steps: 10494\n",
      "Finish inclination calculation\n",
      "Finish TJ extraction\n"
     ]
    },
    {
     "name": "stderr",
     "output_type": "stream",
     "text": [
      "  6%|▌         | 7/121 [17:52<4:46:11, 150.62s/it]"
     ]
    },
    {
     "name": "stdout",
     "output_type": "stream",
     "text": [
      "Current GBs len at 6 steps: 9305\n",
      "Finish inclination calculation\n",
      "Finish TJ extraction\n"
     ]
    },
    {
     "name": "stderr",
     "output_type": "stream",
     "text": [
      "  7%|▋         | 8/121 [20:17<4:40:29, 148.93s/it]"
     ]
    },
    {
     "name": "stdout",
     "output_type": "stream",
     "text": [
      "Current GBs len at 7 steps: 8450\n",
      "Finish inclination calculation\n",
      "Finish TJ extraction\n"
     ]
    },
    {
     "name": "stderr",
     "output_type": "stream",
     "text": [
      "  7%|▋         | 9/121 [22:45<4:37:13, 148.51s/it]"
     ]
    },
    {
     "name": "stdout",
     "output_type": "stream",
     "text": [
      "Current GBs len at 8 steps: 7701\n",
      "Finish inclination calculation\n",
      "Finish TJ extraction\n"
     ]
    },
    {
     "name": "stderr",
     "output_type": "stream",
     "text": [
      "  8%|▊         | 10/121 [25:13<4:34:42, 148.49s/it]"
     ]
    },
    {
     "name": "stdout",
     "output_type": "stream",
     "text": [
      "Current GBs len at 9 steps: 7107\n",
      "Finish inclination calculation\n",
      "Finish TJ extraction\n"
     ]
    },
    {
     "name": "stderr",
     "output_type": "stream",
     "text": [
      "  9%|▉         | 11/121 [27:42<4:32:46, 148.79s/it]"
     ]
    },
    {
     "name": "stdout",
     "output_type": "stream",
     "text": [
      "Current GBs len at 10 steps: 6606\n",
      "Finish inclination calculation\n",
      "Finish TJ extraction\n"
     ]
    },
    {
     "name": "stderr",
     "output_type": "stream",
     "text": [
      " 10%|▉         | 12/121 [30:12<4:30:29, 148.90s/it]"
     ]
    },
    {
     "name": "stdout",
     "output_type": "stream",
     "text": [
      "Current GBs len at 11 steps: 6184\n",
      "Finish inclination calculation\n",
      "Finish TJ extraction\n"
     ]
    },
    {
     "name": "stderr",
     "output_type": "stream",
     "text": [
      " 11%|█         | 13/121 [32:39<4:27:02, 148.36s/it]"
     ]
    },
    {
     "name": "stdout",
     "output_type": "stream",
     "text": [
      "Current GBs len at 12 steps: 5777\n",
      "Finish inclination calculation\n",
      "Finish TJ extraction\n"
     ]
    },
    {
     "name": "stderr",
     "output_type": "stream",
     "text": [
      " 12%|█▏        | 14/121 [35:06<4:24:03, 148.07s/it]"
     ]
    },
    {
     "name": "stdout",
     "output_type": "stream",
     "text": [
      "Current GBs len at 13 steps: 5411\n",
      "Finish inclination calculation\n",
      "Finish TJ extraction\n"
     ]
    },
    {
     "name": "stderr",
     "output_type": "stream",
     "text": [
      " 12%|█▏        | 15/121 [37:34<4:21:30, 148.03s/it]"
     ]
    },
    {
     "name": "stdout",
     "output_type": "stream",
     "text": [
      "Current GBs len at 14 steps: 5112\n",
      "Finish inclination calculation\n",
      "Finish TJ extraction\n"
     ]
    },
    {
     "name": "stderr",
     "output_type": "stream",
     "text": [
      " 13%|█▎        | 16/121 [40:03<4:19:40, 148.39s/it]"
     ]
    },
    {
     "name": "stdout",
     "output_type": "stream",
     "text": [
      "Current GBs len at 15 steps: 4791\n",
      "Finish inclination calculation\n",
      "Finish TJ extraction\n"
     ]
    },
    {
     "name": "stderr",
     "output_type": "stream",
     "text": [
      " 14%|█▍        | 17/121 [42:32<4:17:31, 148.57s/it]"
     ]
    },
    {
     "name": "stdout",
     "output_type": "stream",
     "text": [
      "Current GBs len at 16 steps: 4564\n",
      "Finish inclination calculation\n",
      "Finish TJ extraction\n"
     ]
    },
    {
     "name": "stderr",
     "output_type": "stream",
     "text": [
      " 15%|█▍        | 18/121 [44:59<4:14:06, 148.02s/it]"
     ]
    },
    {
     "name": "stdout",
     "output_type": "stream",
     "text": [
      "Current GBs len at 17 steps: 4385\n",
      "Finish inclination calculation\n",
      "Finish TJ extraction\n"
     ]
    },
    {
     "name": "stderr",
     "output_type": "stream",
     "text": [
      " 16%|█▌        | 19/121 [47:25<4:10:41, 147.46s/it]"
     ]
    },
    {
     "name": "stdout",
     "output_type": "stream",
     "text": [
      "Current GBs len at 18 steps: 4154\n",
      "Finish inclination calculation\n",
      "Finish TJ extraction\n"
     ]
    },
    {
     "name": "stderr",
     "output_type": "stream",
     "text": [
      " 17%|█▋        | 20/121 [49:51<4:07:32, 147.05s/it]"
     ]
    },
    {
     "name": "stdout",
     "output_type": "stream",
     "text": [
      "Current GBs len at 19 steps: 3960\n",
      "Finish inclination calculation\n",
      "Finish TJ extraction\n"
     ]
    },
    {
     "name": "stderr",
     "output_type": "stream",
     "text": [
      " 17%|█▋        | 21/121 [52:19<4:05:38, 147.38s/it]"
     ]
    },
    {
     "name": "stdout",
     "output_type": "stream",
     "text": [
      "Current GBs len at 20 steps: 3813\n",
      "Finish inclination calculation\n",
      "Finish TJ extraction\n"
     ]
    },
    {
     "name": "stderr",
     "output_type": "stream",
     "text": [
      " 18%|█▊        | 22/121 [54:49<4:04:08, 147.96s/it]"
     ]
    },
    {
     "name": "stdout",
     "output_type": "stream",
     "text": [
      "Current GBs len at 21 steps: 3648\n",
      "Finish inclination calculation\n",
      "Finish TJ extraction\n"
     ]
    },
    {
     "name": "stderr",
     "output_type": "stream",
     "text": [
      " 19%|█▉        | 23/121 [57:19<4:03:01, 148.80s/it]"
     ]
    },
    {
     "name": "stdout",
     "output_type": "stream",
     "text": [
      "Current GBs len at 22 steps: 3511\n",
      "Finish inclination calculation\n",
      "Finish TJ extraction\n"
     ]
    },
    {
     "name": "stderr",
     "output_type": "stream",
     "text": [
      " 20%|█▉        | 24/121 [59:50<4:01:36, 149.45s/it]"
     ]
    },
    {
     "name": "stdout",
     "output_type": "stream",
     "text": [
      "Current GBs len at 23 steps: 3377\n",
      "Finish inclination calculation\n",
      "Finish TJ extraction\n"
     ]
    },
    {
     "name": "stderr",
     "output_type": "stream",
     "text": [
      " 21%|██        | 25/121 [1:02:18<3:58:10, 148.86s/it]"
     ]
    },
    {
     "name": "stdout",
     "output_type": "stream",
     "text": [
      "Current GBs len at 24 steps: 3281\n",
      "Finish inclination calculation\n",
      "Finish TJ extraction\n"
     ]
    },
    {
     "name": "stderr",
     "output_type": "stream",
     "text": [
      " 21%|██▏       | 26/121 [1:04:47<3:55:34, 148.79s/it]"
     ]
    },
    {
     "name": "stdout",
     "output_type": "stream",
     "text": [
      "Current GBs len at 25 steps: 3164\n",
      "Finish inclination calculation\n",
      "Finish TJ extraction\n"
     ]
    },
    {
     "name": "stderr",
     "output_type": "stream",
     "text": [
      " 22%|██▏       | 27/121 [1:07:16<3:53:27, 149.01s/it]"
     ]
    },
    {
     "name": "stdout",
     "output_type": "stream",
     "text": [
      "Current GBs len at 26 steps: 3067\n",
      "Finish inclination calculation\n",
      "Finish TJ extraction\n"
     ]
    },
    {
     "name": "stderr",
     "output_type": "stream",
     "text": [
      " 23%|██▎       | 28/121 [1:09:47<3:51:57, 149.65s/it]"
     ]
    },
    {
     "name": "stdout",
     "output_type": "stream",
     "text": [
      "Current GBs len at 27 steps: 2930\n",
      "Finish inclination calculation\n",
      "Finish TJ extraction\n"
     ]
    },
    {
     "name": "stderr",
     "output_type": "stream",
     "text": [
      " 24%|██▍       | 29/121 [1:12:17<3:49:31, 149.69s/it]"
     ]
    },
    {
     "name": "stdout",
     "output_type": "stream",
     "text": [
      "Current GBs len at 28 steps: 2840\n",
      "Finish inclination calculation\n",
      "Finish TJ extraction\n"
     ]
    },
    {
     "name": "stderr",
     "output_type": "stream",
     "text": [
      " 25%|██▍       | 30/121 [1:14:46<3:46:54, 149.61s/it]"
     ]
    },
    {
     "name": "stdout",
     "output_type": "stream",
     "text": [
      "Current GBs len at 29 steps: 2744\n",
      "Finish inclination calculation\n",
      "Finish TJ extraction\n"
     ]
    },
    {
     "name": "stderr",
     "output_type": "stream",
     "text": [
      " 26%|██▌       | 31/121 [1:17:17<3:44:46, 149.85s/it]"
     ]
    },
    {
     "name": "stdout",
     "output_type": "stream",
     "text": [
      "Current GBs len at 30 steps: 2675\n",
      "Finish inclination calculation\n",
      "Finish TJ extraction\n"
     ]
    },
    {
     "name": "stderr",
     "output_type": "stream",
     "text": [
      " 26%|██▋       | 32/121 [1:19:46<3:41:53, 149.59s/it]"
     ]
    },
    {
     "name": "stdout",
     "output_type": "stream",
     "text": [
      "Current GBs len at 31 steps: 2579\n",
      "Finish inclination calculation\n",
      "Finish TJ extraction\n"
     ]
    },
    {
     "name": "stderr",
     "output_type": "stream",
     "text": [
      " 27%|██▋       | 33/121 [1:22:16<3:39:33, 149.69s/it]"
     ]
    },
    {
     "name": "stdout",
     "output_type": "stream",
     "text": [
      "Current GBs len at 32 steps: 2511\n",
      "Finish inclination calculation\n",
      "Finish TJ extraction\n"
     ]
    },
    {
     "name": "stderr",
     "output_type": "stream",
     "text": [
      " 28%|██▊       | 34/121 [1:24:44<3:36:26, 149.27s/it]"
     ]
    },
    {
     "name": "stdout",
     "output_type": "stream",
     "text": [
      "Current GBs len at 33 steps: 2441\n",
      "Finish inclination calculation\n",
      "Finish TJ extraction\n"
     ]
    },
    {
     "name": "stderr",
     "output_type": "stream",
     "text": [
      " 29%|██▉       | 35/121 [1:27:13<3:33:40, 149.07s/it]"
     ]
    },
    {
     "name": "stdout",
     "output_type": "stream",
     "text": [
      "Current GBs len at 34 steps: 2378\n",
      "Finish inclination calculation\n",
      "Finish TJ extraction\n"
     ]
    },
    {
     "name": "stderr",
     "output_type": "stream",
     "text": [
      " 30%|██▉       | 36/121 [1:29:41<3:30:58, 148.93s/it]"
     ]
    },
    {
     "name": "stdout",
     "output_type": "stream",
     "text": [
      "Current GBs len at 35 steps: 2344\n",
      "Finish inclination calculation\n",
      "Finish TJ extraction\n"
     ]
    },
    {
     "name": "stderr",
     "output_type": "stream",
     "text": [
      " 31%|███       | 37/121 [1:32:11<3:29:02, 149.31s/it]"
     ]
    },
    {
     "name": "stdout",
     "output_type": "stream",
     "text": [
      "Current GBs len at 36 steps: 2320\n",
      "Finish inclination calculation\n",
      "Finish TJ extraction\n"
     ]
    },
    {
     "name": "stderr",
     "output_type": "stream",
     "text": [
      " 31%|███▏      | 38/121 [1:34:43<3:27:30, 150.00s/it]"
     ]
    },
    {
     "name": "stdout",
     "output_type": "stream",
     "text": [
      "Current GBs len at 37 steps: 2254\n",
      "Finish inclination calculation\n",
      "Finish TJ extraction\n"
     ]
    },
    {
     "name": "stderr",
     "output_type": "stream",
     "text": [
      " 32%|███▏      | 39/121 [1:37:14<3:25:15, 150.19s/it]"
     ]
    },
    {
     "name": "stdout",
     "output_type": "stream",
     "text": [
      "Current GBs len at 38 steps: 2193\n",
      "Finish inclination calculation\n",
      "Finish TJ extraction\n"
     ]
    },
    {
     "name": "stderr",
     "output_type": "stream",
     "text": [
      " 33%|███▎      | 40/121 [1:39:47<3:23:56, 151.07s/it]"
     ]
    },
    {
     "name": "stdout",
     "output_type": "stream",
     "text": [
      "Current GBs len at 39 steps: 2151\n",
      "Finish inclination calculation\n",
      "Finish TJ extraction\n"
     ]
    },
    {
     "name": "stderr",
     "output_type": "stream",
     "text": [
      " 34%|███▍      | 41/121 [1:42:19<3:21:41, 151.26s/it]"
     ]
    },
    {
     "name": "stdout",
     "output_type": "stream",
     "text": [
      "Current GBs len at 40 steps: 2075\n",
      "Finish inclination calculation\n",
      "Finish TJ extraction\n"
     ]
    },
    {
     "name": "stderr",
     "output_type": "stream",
     "text": [
      " 35%|███▍      | 42/121 [1:44:51<3:19:32, 151.55s/it]"
     ]
    },
    {
     "name": "stdout",
     "output_type": "stream",
     "text": [
      "Current GBs len at 41 steps: 2032\n",
      "Finish inclination calculation\n",
      "Finish TJ extraction\n"
     ]
    },
    {
     "name": "stderr",
     "output_type": "stream",
     "text": [
      " 36%|███▌      | 43/121 [1:47:24<3:17:35, 151.99s/it]"
     ]
    },
    {
     "name": "stdout",
     "output_type": "stream",
     "text": [
      "Current GBs len at 42 steps: 1983\n",
      "Finish inclination calculation\n",
      "Finish TJ extraction\n"
     ]
    },
    {
     "name": "stderr",
     "output_type": "stream",
     "text": [
      " 36%|███▋      | 44/121 [1:49:58<3:15:49, 152.59s/it]"
     ]
    },
    {
     "name": "stdout",
     "output_type": "stream",
     "text": [
      "Current GBs len at 43 steps: 1928\n",
      "Finish inclination calculation\n",
      "Finish TJ extraction\n"
     ]
    },
    {
     "name": "stderr",
     "output_type": "stream",
     "text": [
      " 37%|███▋      | 45/121 [1:52:32<3:13:48, 153.00s/it]"
     ]
    },
    {
     "name": "stdout",
     "output_type": "stream",
     "text": [
      "Current GBs len at 44 steps: 1908\n",
      "Finish inclination calculation\n",
      "Finish TJ extraction\n"
     ]
    },
    {
     "name": "stderr",
     "output_type": "stream",
     "text": [
      " 38%|███▊      | 46/121 [1:55:03<3:10:46, 152.62s/it]"
     ]
    },
    {
     "name": "stdout",
     "output_type": "stream",
     "text": [
      "Current GBs len at 45 steps: 1883\n",
      "Finish inclination calculation\n",
      "Finish TJ extraction\n"
     ]
    },
    {
     "name": "stderr",
     "output_type": "stream",
     "text": [
      " 39%|███▉      | 47/121 [1:57:38<3:09:01, 153.26s/it]"
     ]
    },
    {
     "name": "stdout",
     "output_type": "stream",
     "text": [
      "Current GBs len at 46 steps: 1852\n",
      "Finish inclination calculation\n",
      "Finish TJ extraction\n"
     ]
    },
    {
     "name": "stderr",
     "output_type": "stream",
     "text": [
      " 40%|███▉      | 48/121 [2:00:14<3:07:12, 153.87s/it]"
     ]
    },
    {
     "name": "stdout",
     "output_type": "stream",
     "text": [
      "Current GBs len at 47 steps: 1813\n",
      "Finish inclination calculation\n",
      "Finish TJ extraction\n"
     ]
    },
    {
     "name": "stderr",
     "output_type": "stream",
     "text": [
      " 40%|████      | 49/121 [2:02:48<3:04:45, 153.96s/it]"
     ]
    },
    {
     "name": "stdout",
     "output_type": "stream",
     "text": [
      "Current GBs len at 48 steps: 1768\n",
      "Finish inclination calculation\n",
      "Finish TJ extraction\n"
     ]
    },
    {
     "name": "stderr",
     "output_type": "stream",
     "text": [
      " 41%|████▏     | 50/121 [2:05:22<3:02:10, 153.95s/it]"
     ]
    },
    {
     "name": "stdout",
     "output_type": "stream",
     "text": [
      "Current GBs len at 49 steps: 1737\n",
      "Finish inclination calculation\n",
      "Finish TJ extraction\n"
     ]
    },
    {
     "name": "stderr",
     "output_type": "stream",
     "text": [
      " 42%|████▏     | 51/121 [2:07:56<2:59:35, 153.94s/it]"
     ]
    },
    {
     "name": "stdout",
     "output_type": "stream",
     "text": [
      "Current GBs len at 50 steps: 1700\n",
      "Finish inclination calculation\n",
      "Finish TJ extraction\n"
     ]
    },
    {
     "name": "stderr",
     "output_type": "stream",
     "text": [
      " 43%|████▎     | 52/121 [2:10:29<2:56:50, 153.77s/it]"
     ]
    },
    {
     "name": "stdout",
     "output_type": "stream",
     "text": [
      "Current GBs len at 51 steps: 1672\n",
      "Finish inclination calculation\n",
      "Finish TJ extraction\n"
     ]
    },
    {
     "name": "stderr",
     "output_type": "stream",
     "text": [
      " 44%|████▍     | 53/121 [2:13:04<2:54:36, 154.07s/it]"
     ]
    },
    {
     "name": "stdout",
     "output_type": "stream",
     "text": [
      "Current GBs len at 52 steps: 1653\n",
      "Finish inclination calculation\n",
      "Finish TJ extraction\n"
     ]
    },
    {
     "name": "stderr",
     "output_type": "stream",
     "text": [
      " 45%|████▍     | 54/121 [2:15:38<2:52:16, 154.28s/it]"
     ]
    },
    {
     "name": "stdout",
     "output_type": "stream",
     "text": [
      "Current GBs len at 53 steps: 1629\n",
      "Finish inclination calculation\n",
      "Finish TJ extraction\n"
     ]
    },
    {
     "name": "stderr",
     "output_type": "stream",
     "text": [
      " 45%|████▌     | 55/121 [2:18:14<2:50:13, 154.75s/it]"
     ]
    },
    {
     "name": "stdout",
     "output_type": "stream",
     "text": [
      "Current GBs len at 54 steps: 1595\n",
      "Finish inclination calculation\n",
      "Finish TJ extraction\n"
     ]
    },
    {
     "name": "stderr",
     "output_type": "stream",
     "text": [
      " 46%|████▋     | 56/121 [2:20:52<2:48:35, 155.62s/it]"
     ]
    },
    {
     "name": "stdout",
     "output_type": "stream",
     "text": [
      "Current GBs len at 55 steps: 1566\n",
      "Finish inclination calculation\n",
      "Finish TJ extraction\n"
     ]
    },
    {
     "name": "stderr",
     "output_type": "stream",
     "text": [
      " 47%|████▋     | 57/121 [2:23:28<2:46:10, 155.79s/it]"
     ]
    },
    {
     "name": "stdout",
     "output_type": "stream",
     "text": [
      "Current GBs len at 56 steps: 1542\n",
      "Finish inclination calculation\n",
      "Finish TJ extraction\n"
     ]
    },
    {
     "name": "stderr",
     "output_type": "stream",
     "text": [
      " 48%|████▊     | 58/121 [2:26:04<2:43:33, 155.78s/it]"
     ]
    },
    {
     "name": "stdout",
     "output_type": "stream",
     "text": [
      "Current GBs len at 57 steps: 1512\n",
      "Finish inclination calculation\n",
      "Finish TJ extraction\n"
     ]
    },
    {
     "name": "stderr",
     "output_type": "stream",
     "text": [
      " 49%|████▉     | 59/121 [2:28:40<2:41:13, 156.02s/it]"
     ]
    },
    {
     "name": "stdout",
     "output_type": "stream",
     "text": [
      "Current GBs len at 58 steps: 1495\n",
      "Finish inclination calculation\n",
      "Finish TJ extraction\n"
     ]
    },
    {
     "name": "stderr",
     "output_type": "stream",
     "text": [
      " 50%|████▉     | 60/121 [2:31:17<2:38:51, 156.26s/it]"
     ]
    },
    {
     "name": "stdout",
     "output_type": "stream",
     "text": [
      "Current GBs len at 59 steps: 1480\n",
      "Finish inclination calculation\n",
      "Finish TJ extraction\n"
     ]
    },
    {
     "name": "stderr",
     "output_type": "stream",
     "text": [
      " 50%|█████     | 61/121 [2:33:56<2:37:08, 157.14s/it]"
     ]
    },
    {
     "name": "stdout",
     "output_type": "stream",
     "text": [
      "Current GBs len at 60 steps: 1447\n",
      "Finish inclination calculation\n",
      "Finish TJ extraction\n"
     ]
    },
    {
     "name": "stderr",
     "output_type": "stream",
     "text": [
      " 51%|█████     | 62/121 [2:36:36<2:35:15, 157.88s/it]"
     ]
    },
    {
     "name": "stdout",
     "output_type": "stream",
     "text": [
      "Current GBs len at 61 steps: 1429\n",
      "Finish inclination calculation\n",
      "Finish TJ extraction\n"
     ]
    },
    {
     "name": "stderr",
     "output_type": "stream",
     "text": [
      " 52%|█████▏    | 63/121 [2:39:15<2:32:58, 158.25s/it]"
     ]
    },
    {
     "name": "stdout",
     "output_type": "stream",
     "text": [
      "Current GBs len at 62 steps: 1396\n",
      "Finish inclination calculation\n",
      "Finish TJ extraction\n"
     ]
    },
    {
     "name": "stderr",
     "output_type": "stream",
     "text": [
      " 53%|█████▎    | 64/121 [2:41:57<2:31:18, 159.27s/it]"
     ]
    },
    {
     "name": "stdout",
     "output_type": "stream",
     "text": [
      "Current GBs len at 63 steps: 1381\n",
      "Finish inclination calculation\n",
      "Finish TJ extraction\n"
     ]
    },
    {
     "name": "stderr",
     "output_type": "stream",
     "text": [
      " 54%|█████▎    | 65/121 [2:44:40<2:29:41, 160.38s/it]"
     ]
    },
    {
     "name": "stdout",
     "output_type": "stream",
     "text": [
      "Current GBs len at 64 steps: 1367\n",
      "Finish inclination calculation\n",
      "Finish TJ extraction\n"
     ]
    },
    {
     "name": "stderr",
     "output_type": "stream",
     "text": [
      " 55%|█████▍    | 66/121 [2:47:21<2:27:19, 160.72s/it]"
     ]
    },
    {
     "name": "stdout",
     "output_type": "stream",
     "text": [
      "Current GBs len at 65 steps: 1356\n",
      "Finish inclination calculation\n",
      "Finish TJ extraction\n"
     ]
    },
    {
     "name": "stderr",
     "output_type": "stream",
     "text": [
      " 55%|█████▌    | 67/121 [2:50:06<2:25:35, 161.77s/it]"
     ]
    },
    {
     "name": "stdout",
     "output_type": "stream",
     "text": [
      "Current GBs len at 66 steps: 1333\n",
      "Finish inclination calculation\n",
      "Finish TJ extraction\n"
     ]
    },
    {
     "name": "stderr",
     "output_type": "stream",
     "text": [
      " 56%|█████▌    | 68/121 [2:52:49<2:23:19, 162.26s/it]"
     ]
    },
    {
     "name": "stdout",
     "output_type": "stream",
     "text": [
      "Current GBs len at 67 steps: 1318\n",
      "Finish inclination calculation\n",
      "Finish TJ extraction\n"
     ]
    },
    {
     "name": "stderr",
     "output_type": "stream",
     "text": [
      " 57%|█████▋    | 69/121 [2:55:33<2:21:03, 162.75s/it]"
     ]
    },
    {
     "name": "stdout",
     "output_type": "stream",
     "text": [
      "Current GBs len at 68 steps: 1300\n",
      "Finish inclination calculation\n",
      "Finish TJ extraction\n"
     ]
    },
    {
     "name": "stderr",
     "output_type": "stream",
     "text": [
      " 58%|█████▊    | 70/121 [2:58:17<2:18:48, 163.31s/it]"
     ]
    },
    {
     "name": "stdout",
     "output_type": "stream",
     "text": [
      "Current GBs len at 69 steps: 1269\n",
      "Finish inclination calculation\n",
      "Finish TJ extraction\n"
     ]
    },
    {
     "name": "stderr",
     "output_type": "stream",
     "text": [
      " 59%|█████▊    | 71/121 [3:01:02<2:16:21, 163.63s/it]"
     ]
    },
    {
     "name": "stdout",
     "output_type": "stream",
     "text": [
      "Current GBs len at 70 steps: 1251\n",
      "Finish inclination calculation\n",
      "Finish TJ extraction\n"
     ]
    },
    {
     "name": "stderr",
     "output_type": "stream",
     "text": [
      " 60%|█████▉    | 72/121 [3:03:47<2:13:54, 163.97s/it]"
     ]
    },
    {
     "name": "stdout",
     "output_type": "stream",
     "text": [
      "Current GBs len at 71 steps: 1247\n",
      "Finish inclination calculation\n",
      "Finish TJ extraction\n"
     ]
    },
    {
     "name": "stderr",
     "output_type": "stream",
     "text": [
      " 60%|██████    | 73/121 [3:06:33<2:11:39, 164.58s/it]"
     ]
    },
    {
     "name": "stdout",
     "output_type": "stream",
     "text": [
      "Current GBs len at 72 steps: 1221\n",
      "Finish inclination calculation\n",
      "Finish TJ extraction\n"
     ]
    },
    {
     "name": "stderr",
     "output_type": "stream",
     "text": [
      " 61%|██████    | 74/121 [3:09:20<2:09:36, 165.47s/it]"
     ]
    },
    {
     "name": "stdout",
     "output_type": "stream",
     "text": [
      "Current GBs len at 73 steps: 1205\n",
      "Finish inclination calculation\n",
      "Finish TJ extraction\n"
     ]
    },
    {
     "name": "stderr",
     "output_type": "stream",
     "text": [
      " 62%|██████▏   | 75/121 [3:12:06<2:07:00, 165.67s/it]"
     ]
    },
    {
     "name": "stdout",
     "output_type": "stream",
     "text": [
      "Current GBs len at 74 steps: 1187\n",
      "Finish inclination calculation\n",
      "Finish TJ extraction\n"
     ]
    },
    {
     "name": "stderr",
     "output_type": "stream",
     "text": [
      " 63%|██████▎   | 76/121 [3:14:50<2:03:47, 165.05s/it]"
     ]
    },
    {
     "name": "stdout",
     "output_type": "stream",
     "text": [
      "Current GBs len at 75 steps: 1161\n",
      "Finish inclination calculation\n",
      "Finish TJ extraction\n"
     ]
    },
    {
     "name": "stderr",
     "output_type": "stream",
     "text": [
      " 64%|██████▎   | 77/121 [3:17:36<2:01:13, 165.30s/it]"
     ]
    },
    {
     "name": "stdout",
     "output_type": "stream",
     "text": [
      "Current GBs len at 76 steps: 1137\n",
      "Finish inclination calculation\n",
      "Finish TJ extraction\n"
     ]
    },
    {
     "name": "stderr",
     "output_type": "stream",
     "text": [
      " 64%|██████▍   | 78/121 [3:20:23<1:58:58, 166.02s/it]"
     ]
    },
    {
     "name": "stdout",
     "output_type": "stream",
     "text": [
      "Current GBs len at 77 steps: 1114\n",
      "Finish inclination calculation\n",
      "Finish TJ extraction\n"
     ]
    },
    {
     "name": "stderr",
     "output_type": "stream",
     "text": [
      " 65%|██████▌   | 79/121 [3:23:12<1:56:44, 166.77s/it]"
     ]
    },
    {
     "name": "stdout",
     "output_type": "stream",
     "text": [
      "Current GBs len at 78 steps: 1097\n",
      "Finish inclination calculation\n",
      "Finish TJ extraction\n"
     ]
    },
    {
     "name": "stderr",
     "output_type": "stream",
     "text": [
      " 66%|██████▌   | 80/121 [3:26:01<1:54:25, 167.44s/it]"
     ]
    },
    {
     "name": "stdout",
     "output_type": "stream",
     "text": [
      "Current GBs len at 79 steps: 1084\n",
      "Finish inclination calculation\n",
      "Finish TJ extraction\n"
     ]
    },
    {
     "name": "stderr",
     "output_type": "stream",
     "text": [
      " 67%|██████▋   | 81/121 [3:28:48<1:51:36, 167.40s/it]"
     ]
    },
    {
     "name": "stdout",
     "output_type": "stream",
     "text": [
      "Current GBs len at 80 steps: 1079\n",
      "Finish inclination calculation\n",
      "Finish TJ extraction\n"
     ]
    },
    {
     "name": "stderr",
     "output_type": "stream",
     "text": [
      " 68%|██████▊   | 82/121 [3:31:38<1:49:14, 168.07s/it]"
     ]
    },
    {
     "name": "stdout",
     "output_type": "stream",
     "text": [
      "Current GBs len at 81 steps: 1062\n",
      "Finish inclination calculation\n",
      "Finish TJ extraction\n"
     ]
    },
    {
     "name": "stderr",
     "output_type": "stream",
     "text": [
      " 69%|██████▊   | 83/121 [3:34:26<1:46:24, 168.02s/it]"
     ]
    },
    {
     "name": "stdout",
     "output_type": "stream",
     "text": [
      "Current GBs len at 82 steps: 1054\n",
      "Finish inclination calculation\n",
      "Finish TJ extraction\n"
     ]
    },
    {
     "name": "stderr",
     "output_type": "stream",
     "text": [
      " 69%|██████▉   | 84/121 [3:37:16<1:43:56, 168.54s/it]"
     ]
    },
    {
     "name": "stdout",
     "output_type": "stream",
     "text": [
      "Current GBs len at 83 steps: 1032\n",
      "Finish inclination calculation\n",
      "Finish TJ extraction\n"
     ]
    },
    {
     "name": "stderr",
     "output_type": "stream",
     "text": [
      " 70%|███████   | 85/121 [3:40:05<1:41:14, 168.73s/it]"
     ]
    },
    {
     "name": "stdout",
     "output_type": "stream",
     "text": [
      "Current GBs len at 84 steps: 1028\n",
      "Finish inclination calculation\n",
      "Finish TJ extraction\n"
     ]
    },
    {
     "name": "stderr",
     "output_type": "stream",
     "text": [
      " 71%|███████   | 86/121 [3:42:56<1:38:50, 169.45s/it]"
     ]
    },
    {
     "name": "stdout",
     "output_type": "stream",
     "text": [
      "Current GBs len at 85 steps: 1020\n",
      "Finish inclination calculation\n",
      "Finish TJ extraction\n"
     ]
    },
    {
     "name": "stderr",
     "output_type": "stream",
     "text": [
      " 72%|███████▏  | 87/121 [3:45:44<1:35:48, 169.08s/it]"
     ]
    },
    {
     "name": "stdout",
     "output_type": "stream",
     "text": [
      "Current GBs len at 86 steps: 1009\n",
      "Finish inclination calculation\n",
      "Finish TJ extraction\n"
     ]
    },
    {
     "name": "stderr",
     "output_type": "stream",
     "text": [
      " 73%|███████▎  | 88/121 [3:48:33<1:32:59, 169.07s/it]"
     ]
    },
    {
     "name": "stdout",
     "output_type": "stream",
     "text": [
      "Current GBs len at 87 steps: 995\n",
      "Finish inclination calculation\n",
      "Finish TJ extraction\n"
     ]
    },
    {
     "name": "stderr",
     "output_type": "stream",
     "text": [
      " 74%|███████▎  | 89/121 [3:51:23<1:30:17, 169.28s/it]"
     ]
    },
    {
     "name": "stdout",
     "output_type": "stream",
     "text": [
      "Current GBs len at 88 steps: 986\n",
      "Finish inclination calculation\n",
      "Finish TJ extraction\n"
     ]
    },
    {
     "name": "stderr",
     "output_type": "stream",
     "text": [
      " 74%|███████▍  | 90/121 [3:54:14<1:27:47, 169.91s/it]"
     ]
    },
    {
     "name": "stdout",
     "output_type": "stream",
     "text": [
      "Current GBs len at 89 steps: 980\n",
      "Finish inclination calculation\n",
      "Finish TJ extraction\n"
     ]
    },
    {
     "name": "stderr",
     "output_type": "stream",
     "text": [
      " 75%|███████▌  | 91/121 [3:57:05<1:25:06, 170.23s/it]"
     ]
    },
    {
     "name": "stdout",
     "output_type": "stream",
     "text": [
      "Current GBs len at 90 steps: 969\n",
      "Finish inclination calculation\n",
      "Finish TJ extraction\n"
     ]
    },
    {
     "name": "stderr",
     "output_type": "stream",
     "text": [
      " 76%|███████▌  | 92/121 [3:59:59<1:22:43, 171.14s/it]"
     ]
    },
    {
     "name": "stdout",
     "output_type": "stream",
     "text": [
      "Current GBs len at 91 steps: 966\n",
      "Finish inclination calculation\n",
      "Finish TJ extraction\n"
     ]
    },
    {
     "name": "stderr",
     "output_type": "stream",
     "text": [
      " 77%|███████▋  | 93/121 [4:02:52<1:20:14, 171.95s/it]"
     ]
    },
    {
     "name": "stdout",
     "output_type": "stream",
     "text": [
      "Current GBs len at 92 steps: 950\n",
      "Finish inclination calculation\n",
      "Finish TJ extraction\n"
     ]
    },
    {
     "name": "stderr",
     "output_type": "stream",
     "text": [
      " 78%|███████▊  | 94/121 [4:05:46<1:17:39, 172.58s/it]"
     ]
    },
    {
     "name": "stdout",
     "output_type": "stream",
     "text": [
      "Current GBs len at 93 steps: 934\n",
      "Finish inclination calculation\n",
      "Finish TJ extraction\n"
     ]
    },
    {
     "name": "stderr",
     "output_type": "stream",
     "text": [
      " 79%|███████▊  | 95/121 [4:08:40<1:14:56, 172.95s/it]"
     ]
    },
    {
     "name": "stdout",
     "output_type": "stream",
     "text": [
      "Current GBs len at 94 steps: 933\n",
      "Finish inclination calculation\n",
      "Finish TJ extraction\n"
     ]
    },
    {
     "name": "stderr",
     "output_type": "stream",
     "text": [
      " 79%|███████▉  | 96/121 [4:11:35<1:12:16, 173.46s/it]"
     ]
    },
    {
     "name": "stdout",
     "output_type": "stream",
     "text": [
      "Current GBs len at 95 steps: 919\n",
      "Finish inclination calculation\n",
      "Finish TJ extraction\n"
     ]
    },
    {
     "name": "stderr",
     "output_type": "stream",
     "text": [
      " 80%|████████  | 97/121 [4:14:31<1:09:40, 174.20s/it]"
     ]
    },
    {
     "name": "stdout",
     "output_type": "stream",
     "text": [
      "Current GBs len at 96 steps: 895\n",
      "Finish inclination calculation\n",
      "Finish TJ extraction\n"
     ]
    },
    {
     "name": "stderr",
     "output_type": "stream",
     "text": [
      " 81%|████████  | 98/121 [4:17:28<1:07:09, 175.21s/it]"
     ]
    },
    {
     "name": "stdout",
     "output_type": "stream",
     "text": [
      "Current GBs len at 97 steps: 898\n",
      "Finish inclination calculation\n",
      "Finish TJ extraction\n"
     ]
    },
    {
     "name": "stderr",
     "output_type": "stream",
     "text": [
      " 82%|████████▏ | 99/121 [4:20:25<1:04:22, 175.59s/it]"
     ]
    },
    {
     "name": "stdout",
     "output_type": "stream",
     "text": [
      "Current GBs len at 98 steps: 879\n",
      "Finish inclination calculation\n",
      "Finish TJ extraction\n"
     ]
    },
    {
     "name": "stderr",
     "output_type": "stream",
     "text": [
      " 83%|████████▎ | 100/121 [4:23:19<1:01:19, 175.20s/it]"
     ]
    },
    {
     "name": "stdout",
     "output_type": "stream",
     "text": [
      "Current GBs len at 99 steps: 874\n",
      "Finish inclination calculation\n",
      "Finish TJ extraction\n"
     ]
    },
    {
     "name": "stderr",
     "output_type": "stream",
     "text": [
      " 83%|████████▎ | 101/121 [4:26:13<58:12, 174.64s/it]  "
     ]
    },
    {
     "name": "stdout",
     "output_type": "stream",
     "text": [
      "Current GBs len at 100 steps: 869\n",
      "Finish inclination calculation\n",
      "Finish TJ extraction\n"
     ]
    },
    {
     "name": "stderr",
     "output_type": "stream",
     "text": [
      " 84%|████████▍ | 102/121 [4:29:06<55:12, 174.32s/it]"
     ]
    },
    {
     "name": "stdout",
     "output_type": "stream",
     "text": [
      "Current GBs len at 101 steps: 855\n",
      "Finish inclination calculation\n",
      "Finish TJ extraction\n"
     ]
    },
    {
     "name": "stderr",
     "output_type": "stream",
     "text": [
      " 85%|████████▌ | 103/121 [4:32:02<52:25, 174.73s/it]"
     ]
    },
    {
     "name": "stdout",
     "output_type": "stream",
     "text": [
      "Current GBs len at 102 steps: 843\n",
      "Finish inclination calculation\n",
      "Finish TJ extraction\n"
     ]
    },
    {
     "name": "stderr",
     "output_type": "stream",
     "text": [
      " 86%|████████▌ | 104/121 [4:34:57<49:33, 174.89s/it]"
     ]
    },
    {
     "name": "stdout",
     "output_type": "stream",
     "text": [
      "Current GBs len at 103 steps: 835\n",
      "Finish inclination calculation\n",
      "Finish TJ extraction\n"
     ]
    },
    {
     "name": "stderr",
     "output_type": "stream",
     "text": [
      " 87%|████████▋ | 105/121 [4:37:53<46:44, 175.31s/it]"
     ]
    },
    {
     "name": "stdout",
     "output_type": "stream",
     "text": [
      "Current GBs len at 104 steps: 837\n",
      "Finish inclination calculation\n",
      "Finish TJ extraction\n"
     ]
    },
    {
     "name": "stderr",
     "output_type": "stream",
     "text": [
      " 88%|████████▊ | 106/121 [4:40:49<43:52, 175.47s/it]"
     ]
    },
    {
     "name": "stdout",
     "output_type": "stream",
     "text": [
      "Current GBs len at 105 steps: 829\n",
      "Finish inclination calculation\n",
      "Finish TJ extraction\n"
     ]
    },
    {
     "name": "stderr",
     "output_type": "stream",
     "text": [
      " 88%|████████▊ | 107/121 [4:43:46<41:02, 175.87s/it]"
     ]
    },
    {
     "name": "stdout",
     "output_type": "stream",
     "text": [
      "Current GBs len at 106 steps: 817\n",
      "Finish inclination calculation\n",
      "Finish TJ extraction\n"
     ]
    },
    {
     "name": "stderr",
     "output_type": "stream",
     "text": [
      " 89%|████████▉ | 108/121 [4:46:45<38:18, 176.82s/it]"
     ]
    },
    {
     "name": "stdout",
     "output_type": "stream",
     "text": [
      "Current GBs len at 107 steps: 815\n",
      "Finish inclination calculation\n",
      "Finish TJ extraction\n"
     ]
    },
    {
     "name": "stderr",
     "output_type": "stream",
     "text": [
      " 90%|█████████ | 109/121 [4:49:43<35:27, 177.32s/it]"
     ]
    },
    {
     "name": "stdout",
     "output_type": "stream",
     "text": [
      "Current GBs len at 108 steps: 815\n",
      "Finish inclination calculation\n",
      "Finish TJ extraction\n"
     ]
    },
    {
     "name": "stderr",
     "output_type": "stream",
     "text": [
      " 91%|█████████ | 110/121 [4:52:40<32:28, 177.14s/it]"
     ]
    },
    {
     "name": "stdout",
     "output_type": "stream",
     "text": [
      "Current GBs len at 109 steps: 806\n",
      "Finish inclination calculation\n",
      "Finish TJ extraction\n"
     ]
    },
    {
     "name": "stderr",
     "output_type": "stream",
     "text": [
      " 92%|█████████▏| 111/121 [4:55:40<29:38, 177.82s/it]"
     ]
    },
    {
     "name": "stdout",
     "output_type": "stream",
     "text": [
      "Current GBs len at 110 steps: 798\n",
      "Finish inclination calculation\n",
      "Finish TJ extraction\n"
     ]
    },
    {
     "name": "stderr",
     "output_type": "stream",
     "text": [
      " 93%|█████████▎| 112/121 [4:58:40<26:47, 178.59s/it]"
     ]
    },
    {
     "name": "stdout",
     "output_type": "stream",
     "text": [
      "Current GBs len at 111 steps: 793\n",
      "Finish inclination calculation\n",
      "Finish TJ extraction\n"
     ]
    },
    {
     "name": "stderr",
     "output_type": "stream",
     "text": [
      " 93%|█████████▎| 113/121 [5:01:40<23:52, 179.12s/it]"
     ]
    },
    {
     "name": "stdout",
     "output_type": "stream",
     "text": [
      "Current GBs len at 112 steps: 783\n",
      "Finish inclination calculation\n",
      "Finish TJ extraction\n"
     ]
    },
    {
     "name": "stderr",
     "output_type": "stream",
     "text": [
      " 94%|█████████▍| 114/121 [5:04:42<20:58, 179.77s/it]"
     ]
    },
    {
     "name": "stdout",
     "output_type": "stream",
     "text": [
      "Current GBs len at 113 steps: 781\n",
      "Finish inclination calculation\n",
      "Finish TJ extraction\n"
     ]
    },
    {
     "name": "stderr",
     "output_type": "stream",
     "text": [
      " 95%|█████████▌| 115/121 [5:07:44<18:02, 180.41s/it]"
     ]
    },
    {
     "name": "stdout",
     "output_type": "stream",
     "text": [
      "Current GBs len at 114 steps: 780\n",
      "Finish inclination calculation\n",
      "Finish TJ extraction\n"
     ]
    },
    {
     "name": "stderr",
     "output_type": "stream",
     "text": [
      " 96%|█████████▌| 116/121 [5:10:44<15:02, 180.43s/it]"
     ]
    },
    {
     "name": "stdout",
     "output_type": "stream",
     "text": [
      "Current GBs len at 115 steps: 769\n",
      "Finish inclination calculation\n",
      "Finish TJ extraction\n"
     ]
    },
    {
     "name": "stderr",
     "output_type": "stream",
     "text": [
      " 97%|█████████▋| 117/121 [5:13:45<12:01, 180.47s/it]"
     ]
    },
    {
     "name": "stdout",
     "output_type": "stream",
     "text": [
      "Current GBs len at 116 steps: 762\n",
      "Finish inclination calculation\n",
      "Finish TJ extraction\n"
     ]
    },
    {
     "name": "stderr",
     "output_type": "stream",
     "text": [
      " 98%|█████████▊| 118/121 [5:16:44<09:00, 180.27s/it]"
     ]
    },
    {
     "name": "stdout",
     "output_type": "stream",
     "text": [
      "Current GBs len at 117 steps: 760\n",
      "Finish inclination calculation\n",
      "Finish TJ extraction\n"
     ]
    },
    {
     "name": "stderr",
     "output_type": "stream",
     "text": [
      " 98%|█████████▊| 119/121 [5:19:47<06:01, 180.94s/it]"
     ]
    },
    {
     "name": "stdout",
     "output_type": "stream",
     "text": [
      "Current GBs len at 118 steps: 744\n",
      "Finish inclination calculation\n",
      "Finish TJ extraction\n"
     ]
    },
    {
     "name": "stderr",
     "output_type": "stream",
     "text": [
      " 99%|█████████▉| 120/121 [5:22:50<03:01, 181.58s/it]"
     ]
    },
    {
     "name": "stdout",
     "output_type": "stream",
     "text": [
      "Current GBs len at 119 steps: 735\n",
      "Finish inclination calculation\n",
      "Finish TJ extraction\n"
     ]
    },
    {
     "name": "stderr",
     "output_type": "stream",
     "text": [
      "100%|██████████| 121/121 [5:25:53<00:00, 161.60s/it]"
     ]
    },
    {
     "name": "stdout",
     "output_type": "stream",
     "text": [
      "Current GBs len at 120 steps: 736\n"
     ]
    },
    {
     "name": "stderr",
     "output_type": "stream",
     "text": [
      "\n"
     ]
    }
   ],
   "source": [
    "    step_num=121\n",
    "    grain_nums = 20000\n",
    "    GB_infomation_dict_list = []\n",
    "    inclination_matrix_list = []\n",
    "    for time_step in tqdm(range(step_num)):\n",
    "        data_file_name = f\"GB_velocity_data/2D_inclination_velocity_data_MI_{case_name}_step{time_step}.npz\"\n",
    "        data_inclination_file_name = f\"GB_velocity_data/2D_matrix_inclination_data_MI_{case_name}_step{time_step}.npz\"\n",
    "        if os.path.exists(data_file_folder + data_file_name):\n",
    "            npz_file = np.load(data_file_folder + data_file_name,allow_pickle=True)\n",
    "            GB_infomation_dict = npz_file[\"GB_infomation_dict\"]\n",
    "            GB_infomation_dict_list.append(GB_infomation_dict.item())\n",
    "        else:\n",
    "            current_microstructure = npy_file_aniso[time_step]\n",
    "            # get inclination\n",
    "            if os.path.exists(data_file_folder + data_inclination_file_name):\n",
    "                npz_file_inclination = np.load(data_file_folder + data_inclination_file_name)\n",
    "                inclination_matrix = npz_file_inclination[\"inclination_matrix\"]\n",
    "                inclination_matrix_list.append(inclination_matrix)\n",
    "            else:\n",
    "                cores = 128\n",
    "                loop_times = 5\n",
    "                R = np.zeros((size_x,size_y,3))\n",
    "                smoothing_class = linear2d.linear_class(size_x,size_y,grain_nums,cores,loop_times,current_microstructure[:,:,0],R,verification_system = False)\n",
    "                smoothing_class.linear_main(\"inclination\")\n",
    "                P_ln = smoothing_class.get_P()\n",
    "                inclination_matrix = P_ln[1:3,:]\n",
    "                inclination_matrix_list.append(inclination_matrix)\n",
    "                # save inclination information\n",
    "                # np.savez(data_file_folder + data_inclination_file_name, inclination_matrix=inclination_matrix)\n",
    "            print(\"Finish inclination calculation\")\n",
    "            \n",
    "            # Get TJ and QJ information first\n",
    "            TJ_infomation_dict = dict()\n",
    "            for index, result in np.ndenumerate(current_microstructure):\n",
    "                i,j,k = index\n",
    "                ip,im,jp,jm = myInput.periodic_bc(size_x,size_y,i,j)\n",
    "                if ( ((current_microstructure[ip,j,k]-current_microstructure[i,j,k])!=0) or ((current_microstructure[im,j,k]-current_microstructure[i,j,k])!=0) or\\\n",
    "                     ((current_microstructure[i,jp,k]-current_microstructure[i,j,k])!=0) or ((current_microstructure[i,jm,k]-current_microstructure[i,j,k])!=0) ):\n",
    "                    central_site = int(current_microstructure[i,j,k])\n",
    "                    neighboring_sites_list = np.array([current_microstructure[ip,j,k], current_microstructure[i,jp,k], current_microstructure[im,j,k], current_microstructure[i,jm,k]]).astype(int)\n",
    "                    neighboring_sites_set = set(neighboring_sites_list) # Get all unique neighboring sites\n",
    "                    if central_site in neighboring_sites_set: neighboring_sites_set.remove(central_site) # remove central site\n",
    "                    neighboring_sites_list_unque = list(neighboring_sites_set)\n",
    "                    # remove the TJs and QJs\n",
    "                    if len(neighboring_sites_list_unque) > 1: \n",
    "                        for m in range(len(neighboring_sites_list_unque)):\n",
    "                            pair_id = post_processing.get_line(central_site, neighboring_sites_list_unque[m]) # get pair id\n",
    "                            if pair_id in TJ_infomation_dict:\n",
    "                                tmp = TJ_infomation_dict[pair_id]\n",
    "                                tmp.append([i,j,k])\n",
    "                                TJ_infomation_dict[pair_id] = tmp\n",
    "                            else: \n",
    "                                TJ_infomation_dict[pair_id] = [[i,j,k]]\n",
    "            print(\"Finish TJ extraction\")\n",
    "            \n",
    "            # Get the center of each GB\n",
    "            GB_infomation_dict = dict()\n",
    "            TJ_distance_max = 6 # voxels\n",
    "            for index, result in np.ndenumerate(current_microstructure):\n",
    "                i,j,k = index\n",
    "                ip,im,jp,jm = myInput.periodic_bc(size_x,size_y,i,j)\n",
    "                if ( ((current_microstructure[ip,j,k]-current_microstructure[i,j,k])!=0) or ((current_microstructure[im,j,k]-current_microstructure[i,j,k])!=0) or\\\n",
    "                     ((current_microstructure[i,jp,k]-current_microstructure[i,j,k])!=0) or ((current_microstructure[i,jm,k]-current_microstructure[i,j,k])!=0) ):\n",
    "                    central_site = int(current_microstructure[i,j,k])\n",
    "                    neighboring_sites_list = np.array([current_microstructure[ip,j,k], current_microstructure[i,jp,k], current_microstructure[im,j,k], current_microstructure[i,jm,k]]).astype(int)\n",
    "                    neighboring_sites_set = set(neighboring_sites_list) # Get all unique neighboring sites\n",
    "                    if central_site in neighboring_sites_set: neighboring_sites_set.remove(central_site) # remove central site\n",
    "                    neighboring_sites_list_unque = list(neighboring_sites_set)\n",
    "                    # remove the TJs and QJs\n",
    "                    if len(neighboring_sites_list_unque) > 1: continue # only remove TJs and QJs\n",
    "                    # CONTINUE...    # remove the voxels around TJs and QJs\n",
    "                    # check the GB voxels is close to TJ or not\n",
    "                    break_point = 0\n",
    "                    pair_id = post_processing.get_line(central_site, neighboring_sites_list_unque[0]) # get pair id\n",
    "                    if central_site<neighboring_sites_list_unque[0]: pair_id_pair = [central_site, neighboring_sites_list_unque[0]]\n",
    "                    else: pair_id_pair = [neighboring_sites_list_unque[0], central_site]\n",
    "                    if pair_id in GB_infomation_dict:\n",
    "                        GB_infomation_dict[pair_id][6] += 1 # GB area\n",
    "                    else:\n",
    "                        GB_infomation = np.array([0,0,0,0,0.0,0.0,1,pair_id_pair[0],pair_id_pair[1]]) # GBnum-inclination,i,j,k,inclination0,inclination1,GBnum,gid0,gid1\n",
    "                        GB_infomation_dict[pair_id] = GB_infomation\n",
    "                    if pair_id in TJ_infomation_dict:\n",
    "                        for TJ_site in TJ_infomation_dict[pair_id]:\n",
    "                            TJ_distance = np.linalg.norm(index-np.array(TJ_site))\n",
    "                            if TJ_distance < TJ_distance_max: \n",
    "                                break_point = 1\n",
    "                                break\n",
    "                    if break_point == 1: continue\n",
    "                    # calculate or extract inclination\n",
    "                    # if pair_id in GB_infomation_dict:\n",
    "                    GB_infomation_dict[pair_id][0] += 1\n",
    "                    if central_site == pair_id_pair[0]:\n",
    "                        GB_infomation_dict[pair_id][1:6] += np.array([i,j,k,inclination_matrix[0,i,j],inclination_matrix[1,i,j]])\n",
    "                    else: \n",
    "                        GB_infomation_dict[pair_id][1:6] += np.array([i,j,k,-inclination_matrix[0,i,j],-inclination_matrix[1,i,j]])\n",
    "                    \n",
    "            # get the correct location for each GB\n",
    "            small_GB_list = []\n",
    "            for key in GB_infomation_dict: \n",
    "                if GB_infomation_dict[key][0] == 0: \n",
    "                    small_GB_list.append(key) # get the small GB with 0 voxels after remove voxels close to TJs\n",
    "            for s_index in range(len(small_GB_list)): GB_infomation_dict.pop(small_GB_list[s_index]) # remove small GB\n",
    "            for key in GB_infomation_dict: \n",
    "                GB_infomation_dict[key][1:4]=GB_infomation_dict[key][1:4]/GB_infomation_dict[key][0]\n",
    "                GB_infomation_dict[key][4:6]=GB_infomation_dict[key][4:6]/np.linalg.norm(GB_infomation_dict[key][4:6])\n",
    "            print(f\"Current GBs len at {time_step} steps: {len(GB_infomation_dict)}\")\n",
    "            # save information\n",
    "            np.savez(data_file_folder + data_file_name, GB_infomation_dict=GB_infomation_dict)\n",
    "            GB_infomation_dict_list.append(GB_infomation_dict)\n",
    "            "
   ]
  },
  {
   "cell_type": "code",
   "execution_count": null,
   "id": "33598b7a-6960-49c9-b86b-78b68a2bde98",
   "metadata": {
    "tags": []
   },
   "outputs": [],
   "source": []
  },
  {
   "cell_type": "code",
   "execution_count": 5,
   "id": "2a25dc46-d65f-43f8-9d16-be5831cccaca",
   "metadata": {},
   "outputs": [
    {
     "name": "stderr",
     "output_type": "stream",
     "text": [
      "100%|██████████| 22827/22827 [03:00<00:00, 126.17it/s]\n",
      "100%|██████████| 18957/18957 [04:24<00:00, 71.57it/s] \n",
      "100%|██████████| 16156/16156 [04:28<00:00, 60.23it/s]\n",
      "100%|██████████| 13834/13834 [04:10<00:00, 55.18it/s]\n",
      "100%|██████████| 11980/11980 [03:49<00:00, 52.29it/s]\n",
      "100%|██████████| 10494/10494 [03:28<00:00, 50.39it/s]\n",
      "100%|██████████| 9305/9305 [03:14<00:00, 47.96it/s]\n",
      "100%|██████████| 8450/8450 [02:59<00:00, 47.12it/s]\n",
      "100%|██████████| 7701/7701 [02:46<00:00, 46.13it/s]\n",
      "100%|██████████| 7107/7107 [02:34<00:00, 46.01it/s]\n",
      "100%|██████████| 6606/6606 [02:26<00:00, 45.19it/s]\n",
      "100%|██████████| 6184/6184 [02:18<00:00, 44.75it/s]\n",
      "100%|██████████| 5777/5777 [02:09<00:00, 44.47it/s]\n",
      "100%|██████████| 5411/5411 [02:02<00:00, 44.15it/s]\n",
      "100%|██████████| 5112/5112 [01:55<00:00, 44.12it/s]\n",
      "100%|██████████| 4791/4791 [01:50<00:00, 43.28it/s]\n",
      "100%|██████████| 4564/4564 [01:46<00:00, 42.78it/s]\n",
      "100%|██████████| 4385/4385 [01:41<00:00, 43.36it/s]\n",
      "100%|██████████| 4154/4154 [01:38<00:00, 42.35it/s]\n",
      "100%|██████████| 3960/3960 [01:33<00:00, 42.28it/s]\n",
      "100%|██████████| 3813/3813 [01:29<00:00, 42.57it/s]\n",
      "100%|██████████| 3648/3648 [01:26<00:00, 42.27it/s]\n",
      "100%|██████████| 3511/3511 [01:23<00:00, 42.25it/s]\n",
      "100%|██████████| 3377/3377 [01:21<00:00, 41.64it/s]\n",
      "100%|██████████| 3281/3281 [01:17<00:00, 42.26it/s]\n",
      "100%|██████████| 3164/3164 [01:15<00:00, 42.07it/s]\n",
      "100%|██████████| 3067/3067 [01:12<00:00, 42.36it/s]\n",
      "100%|██████████| 2930/2930 [01:09<00:00, 41.90it/s]\n",
      "100%|██████████| 2840/2840 [01:07<00:00, 42.15it/s]\n",
      "100%|██████████| 2744/2744 [01:05<00:00, 41.71it/s]\n",
      "100%|██████████| 2675/2675 [01:03<00:00, 41.96it/s]\n",
      "100%|██████████| 2579/2579 [01:01<00:00, 41.77it/s]\n",
      "100%|██████████| 2511/2511 [01:00<00:00, 41.67it/s]\n",
      "100%|██████████| 2441/2441 [00:58<00:00, 41.61it/s]\n",
      "100%|██████████| 2378/2378 [00:58<00:00, 40.98it/s]\n",
      "100%|██████████| 2344/2344 [00:57<00:00, 40.99it/s]\n",
      "100%|██████████| 2320/2320 [00:55<00:00, 41.51it/s]\n",
      "100%|██████████| 2254/2254 [00:54<00:00, 41.43it/s]\n",
      "100%|██████████| 2193/2193 [00:53<00:00, 41.13it/s]\n",
      "100%|██████████| 2151/2151 [00:52<00:00, 41.11it/s]\n",
      "100%|██████████| 2075/2075 [00:50<00:00, 41.16it/s]\n",
      "100%|██████████| 2032/2032 [00:49<00:00, 41.27it/s]\n",
      "100%|██████████| 1983/1983 [00:47<00:00, 41.47it/s]\n",
      "100%|██████████| 1928/1928 [00:47<00:00, 40.62it/s]\n",
      "100%|██████████| 1908/1908 [00:46<00:00, 41.03it/s]\n",
      "100%|██████████| 1883/1883 [00:45<00:00, 41.05it/s]\n",
      "100%|██████████| 1852/1852 [00:45<00:00, 41.00it/s]\n",
      "100%|██████████| 1813/1813 [00:44<00:00, 41.07it/s]\n",
      "100%|██████████| 1768/1768 [00:43<00:00, 40.80it/s]\n",
      "100%|██████████| 1737/1737 [00:42<00:00, 40.95it/s]\n",
      "100%|██████████| 1700/1700 [00:41<00:00, 40.75it/s]\n",
      "100%|██████████| 1672/1672 [00:41<00:00, 40.61it/s]\n",
      "100%|██████████| 1653/1653 [00:40<00:00, 40.91it/s]\n",
      "100%|██████████| 1629/1629 [00:39<00:00, 40.86it/s]\n",
      "100%|██████████| 1595/1595 [00:39<00:00, 40.86it/s]\n",
      "100%|██████████| 1566/1566 [00:38<00:00, 40.76it/s]\n",
      "100%|██████████| 1542/1542 [00:37<00:00, 40.72it/s]\n",
      "100%|██████████| 1512/1512 [00:37<00:00, 40.58it/s]\n",
      "100%|██████████| 1495/1495 [00:36<00:00, 40.69it/s]\n",
      "100%|██████████| 1480/1480 [00:36<00:00, 40.87it/s]\n",
      "100%|██████████| 1447/1447 [00:35<00:00, 40.32it/s]\n",
      "100%|██████████| 1429/1429 [00:34<00:00, 41.06it/s]\n",
      "100%|██████████| 1396/1396 [00:34<00:00, 39.91it/s]\n",
      "100%|██████████| 1381/1381 [00:34<00:00, 39.86it/s]\n",
      "100%|██████████| 1367/1367 [00:34<00:00, 39.68it/s]\n",
      "100%|██████████| 1356/1356 [00:33<00:00, 39.95it/s]\n",
      "100%|██████████| 1333/1333 [00:33<00:00, 40.01it/s]\n",
      "100%|██████████| 1318/1318 [00:32<00:00, 39.97it/s]\n",
      "100%|██████████| 1300/1300 [00:32<00:00, 40.36it/s]\n",
      "100%|██████████| 1269/1269 [00:31<00:00, 39.87it/s]\n",
      "100%|██████████| 1251/1251 [00:31<00:00, 39.32it/s]\n",
      "100%|██████████| 1247/1247 [00:31<00:00, 40.07it/s]\n",
      "100%|██████████| 1221/1221 [00:30<00:00, 39.68it/s]\n",
      "100%|██████████| 1205/1205 [00:30<00:00, 39.84it/s]\n",
      "100%|██████████| 1187/1187 [00:29<00:00, 39.89it/s]\n",
      "100%|██████████| 1161/1161 [00:28<00:00, 40.20it/s]\n",
      "100%|██████████| 1137/1137 [00:28<00:00, 39.91it/s]\n",
      "100%|██████████| 1114/1114 [00:28<00:00, 39.75it/s]\n",
      "100%|██████████| 1097/1097 [00:27<00:00, 39.66it/s]\n",
      "100%|██████████| 1084/1084 [00:27<00:00, 39.29it/s]\n",
      "100%|██████████| 1079/1079 [00:27<00:00, 39.80it/s]\n",
      "100%|██████████| 1062/1062 [00:26<00:00, 39.65it/s]\n",
      "100%|██████████| 1054/1054 [00:26<00:00, 39.97it/s]\n",
      "100%|██████████| 1032/1032 [00:25<00:00, 39.74it/s]\n",
      "100%|██████████| 1028/1028 [00:25<00:00, 40.27it/s]\n",
      "100%|██████████| 1020/1020 [00:25<00:00, 39.88it/s]\n",
      "100%|██████████| 1009/1009 [00:24<00:00, 40.45it/s]\n",
      "100%|██████████| 995/995 [00:24<00:00, 40.25it/s]\n",
      "100%|██████████| 986/986 [00:24<00:00, 39.72it/s]\n",
      "100%|██████████| 980/980 [00:24<00:00, 39.88it/s]\n",
      "100%|██████████| 969/969 [00:24<00:00, 39.86it/s]\n",
      "100%|██████████| 966/966 [00:23<00:00, 40.35it/s]\n",
      "100%|██████████| 950/950 [00:23<00:00, 40.42it/s]\n",
      "100%|██████████| 934/934 [00:23<00:00, 40.23it/s]\n",
      "100%|██████████| 933/933 [00:23<00:00, 40.41it/s]\n",
      "100%|██████████| 919/919 [00:22<00:00, 40.73it/s]\n",
      "100%|██████████| 895/895 [00:22<00:00, 39.71it/s]\n",
      "100%|██████████| 898/898 [00:22<00:00, 40.39it/s]\n",
      "100%|██████████| 879/879 [00:22<00:00, 39.18it/s]\n",
      "100%|██████████| 874/874 [00:21<00:00, 39.78it/s]\n",
      "100%|██████████| 869/869 [00:21<00:00, 40.44it/s]\n",
      "100%|██████████| 855/855 [00:21<00:00, 40.47it/s]\n",
      "100%|██████████| 843/843 [00:20<00:00, 40.22it/s]\n",
      "100%|██████████| 835/835 [00:20<00:00, 40.06it/s]\n",
      "100%|██████████| 837/837 [00:20<00:00, 40.08it/s]\n",
      "100%|██████████| 829/829 [00:20<00:00, 40.08it/s]\n",
      "100%|██████████| 817/817 [00:20<00:00, 39.87it/s]\n",
      "100%|██████████| 815/815 [00:20<00:00, 39.85it/s]\n",
      "100%|██████████| 815/815 [00:20<00:00, 40.04it/s]\n",
      "100%|██████████| 806/806 [00:20<00:00, 40.06it/s]\n",
      "100%|██████████| 798/798 [00:19<00:00, 40.15it/s]\n",
      "100%|██████████| 793/793 [00:19<00:00, 40.25it/s]\n",
      "100%|██████████| 783/783 [00:19<00:00, 39.73it/s]\n",
      "100%|██████████| 781/781 [00:19<00:00, 39.79it/s]\n",
      "100%|██████████| 780/780 [00:19<00:00, 40.36it/s]\n",
      "100%|██████████| 769/769 [00:19<00:00, 40.08it/s]\n",
      "100%|██████████| 762/762 [00:18<00:00, 40.11it/s]\n",
      "100%|██████████| 760/760 [00:18<00:00, 40.63it/s]\n",
      "100%|██████████| 744/744 [00:18<00:00, 40.34it/s]\n",
      "100%|██████████| 735/735 [00:18<00:00, 39.82it/s]\n"
     ]
    }
   ],
   "source": [
    "    time_interval = 2\n",
    "    GB_list_velocity_list = []\n",
    "    GB_list_inclination_list = []\n",
    "    for time_step in range(step_num):\n",
    "        if time_step+1 >= step_num: continue\n",
    "        GB_list_velocity_list_tmp = []\n",
    "        GB_list_inclination_list_tmp = []\n",
    "        for key in tqdm(GB_infomation_dict_list[time_step]):\n",
    "            if GB_infomation_dict_list[time_step+1].get(key) is None: continue\n",
    "            # Calculate volumn change\n",
    "            pair_id_pair = GB_infomation_dict_list[time_step][key][7:9]\n",
    "            growth_direction1 = (npy_file_aniso[time_step]==pair_id_pair[0])*(npy_file_aniso[time_step+1]==pair_id_pair[1])\n",
    "            growth_direction2 = (npy_file_aniso[time_step]==pair_id_pair[1])*(npy_file_aniso[time_step+1]==pair_id_pair[0])\n",
    "            dV = abs(np.sum(growth_direction1)-np.sum(growth_direction2))\n",
    "            # Calculate velocity\n",
    "            velocity = dV/time_interval/(GB_infomation_dict_list[time_step][key][6]/2)\n",
    "            GB_list_velocity_list_tmp.append(velocity)\n",
    "            \n",
    "            # Get inclination\n",
    "            DX, DY = GB_infomation_dict_list[time_step][key][4:6]\n",
    "            vec_len = np.sqrt(DX**2+DY**2)\n",
    "            if vec_len==0: dx, dy = 0, 0\n",
    "            else: dx, dy = -DX/vec_len, DY/vec_len # the process just repeated get_grad(P,i,j) in myInput.py \n",
    "            dz = 0\n",
    "            dy = -dy # Update the issue in VECTOR\n",
    "            inclination = np.array([dx,dy,dz])\n",
    "            # Get misorientation\n",
    "            misorientation_axis = miso_dict[key][1:]\n",
    "            # rotate misorientation axis to z axis, and incliantion to final vector\n",
    "            z_axis = np.array([0,0,1])\n",
    "            rotation_matrix_m_axis_to_z_axis = rotation_matrix_from_vectors(misorientation_axis, z_axis)\n",
    "            incliantion_refer_m_axis = rotation_matrix_m_axis_to_z_axis.dot(inclination)\n",
    "            # Get polar and azimuth dsitribution\n",
    "            i_polar_angle = math.acos(round(incliantion_refer_m_axis[2],3))\n",
    "            i_azimuth_angle = math.atan2(incliantion_refer_m_axis[1], incliantion_refer_m_axis[0]) + np.pi\n",
    "            # Add the two angles here\n",
    "            GB_list_inclination_list_tmp.append(np.array([i_polar_angle,i_azimuth_angle]))\n",
    "            \n",
    "        GB_list_velocity_list.append(GB_list_velocity_list_tmp)\n",
    "        GB_list_inclination_list.append(GB_list_inclination_list_tmp)\n",
    "            "
   ]
  },
  {
   "cell_type": "code",
   "execution_count": 6,
   "id": "5e167236-4207-4ead-9b71-9851917cb78a",
   "metadata": {},
   "outputs": [
    {
     "data": {
      "text/plain": [
       "<matplotlib.colorbar.Colorbar at 0x14d4c9239670>"
      ]
     },
     "execution_count": 6,
     "metadata": {},
     "output_type": "execute_result"
    },
    {
     "data": {
      "text/plain": [
       "<Figure size 432x288 with 0 Axes>"
      ]
     },
     "metadata": {},
     "output_type": "display_data"
    },
    {
     "data": {
      "image/png": "[encoded data removed]",
      "text/plain": [
       "<Figure size 1080x1080 with 2 Axes>"
      ]
     },
     "metadata": {
      "needs_background": "light"
     },
     "output_type": "display_data"
    }
   ],
   "source": [
    "    # All in 1 figrue\n",
    "    inclination_axis_1Dlist_remove_0step = []\n",
    "    velocity_1Dlist_remove_0step = []\n",
    "    for i in range(1,len(GB_list_velocity_list)): \n",
    "        inclination_axis_1Dlist_remove_0step.extend(GB_list_inclination_list[i])\n",
    "        velocity_1Dlist_remove_0step.extend(GB_list_velocity_list[i])\n",
    "        \n",
    "    \n",
    "    bin_num = 200\n",
    "    inclination_axis_matrix = np.zeros((bin_num,bin_num))\n",
    "    velocity_bin = np.zeros((bin_num,bin_num))\n",
    "    \n",
    "    for i in range(len(inclination_axis_1Dlist_remove_0step)):\n",
    "        \n",
    "        i_polar_angle,i_azimuth_angle = inclination_axis_1Dlist_remove_0step[i]\n",
    "        # Make sure inclination polar angle is between [0, pi/2] and calculate the distribution\n",
    "        if i_polar_angle > np.pi/2: i_polar_angle = np.pi - i_polar_angle\n",
    "        inclination_polar_angle_index = int(i_polar_angle//(np.pi/bin_num/2)) # get polar angle index to check the angle distribution\n",
    "        # Calculate the azimuth angle distribution\n",
    "        if i_azimuth_angle < 0 or i_azimuth_angle > 2*np.pi: print(\"The inclinaiton azimuth angle is wrong, please double check.\")\n",
    "        inclination_azimuth_angle_index = int(i_azimuth_angle//(2*np.pi/bin_num)) # get azimuth angle index to check the angle distribution\n",
    "        # Calculate num distribution and velocity distribution\n",
    "        x_index = inclination_polar_angle_index\n",
    "        y_index = inclination_azimuth_angle_index\n",
    "        if inclination_polar_angle_index == bin_num: x_index = x_index - 1\n",
    "        if inclination_azimuth_angle_index == bin_num: y_index = y_index - 1\n",
    "        inclination_axis_matrix[x_index, y_index] += 1 # num distribution matrix\n",
    "        velocity_bin[x_index,y_index] += velocity_1Dlist_remove_0step[i]\n",
    "    \n",
    "    for i in range(bin_num):\n",
    "        for j in range(bin_num):\n",
    "            if inclination_axis_matrix[i,j]>0: velocity_bin[i,j] = velocity_bin[i,j]/inclination_axis_matrix[i,j]\n",
    "                        \n",
    "    \n",
    "    # plot matrix figure for inclination axis distribution\n",
    "    X, Y = np.meshgrid(np.arange(bin_num),np.arange(bin_num))\n",
    "    plt.figure()\n",
    "    fig = plt.figure(figsize=(15, 15))\n",
    "    plt.imshow(velocity_bin,cmap='tab20c')#,vmin=0,vmax=np.max(inclination_axis_matrix_norm_list))\n",
    "    # plt.contourf(X, Y, velocity_bin, 5,cmap='viridis_r')\n",
    "    plt.xlabel(r\"inclination Axis Azimuth Angle ($^\\circ$)\", fontsize=16)\n",
    "    plt.ylabel(r\"inclination Axis Polar Angle ($^\\circ$)\", fontsize=16)\n",
    "    plt.xticks(np.linspace(0,bin_num,5), ['0',r'$\\pi/2$',r'$\\pi$',r'3$\\pi$/2',r'2$\\pi$'])\n",
    "    plt.yticks(np.linspace(0,bin_num,3), ['0',r'$\\pi/2$',r'$\\pi$'])\n",
    "    plt.title(f\"velocity distribution on m-axis\")\n",
    "    # plt.axis(\"off\")\n",
    "    plt.colorbar()\n"
   ]
  },
  {
   "cell_type": "code",
   "execution_count": null,
   "id": "5d073de7-5298-4844-8f4d-5113dcd1ccf5",
   "metadata": {
    "tags": []
   },
   "outputs": [],
   "source": []
  },
  {
   "cell_type": "code",
   "execution_count": null,
   "id": "6363bfed-f500-4f6e-8757-924dffb6d97d",
   "metadata": {},
   "outputs": [],
   "source": []
  }
 ],
 "metadata": {
  "kernelspec": {
   "display_name": "UFRC Python-3.8",
   "language": "python",
   "name": "python3-3.8-ufrc"
  },
  "language_info": {
   "codemirror_mode": {
    "name": "ipython",
    "version": 3
   },
   "file_extension": ".py",
   "mimetype": "text/x-python",
   "name": "python",
   "nbconvert_exporter": "python",
   "pygments_lexer": "ipython3",
   "version": "3.8.15"
  }
 },
 "nbformat": 4,
 "nbformat_minor": 5
}
