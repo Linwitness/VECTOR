{
 "cells": [
  {
   "cell_type": "code",
   "execution_count": 30,
   "id": "ef3bd5e3-a910-4db9-a765-2d510c20596b",
   "metadata": {
    "tags": []
   },
   "outputs": [],
   "source": [
    "import os\n",
    "current_path = os.getcwd()\n",
    "import sys\n",
    "sys.path.append(current_path)\n",
    "sys.path.append('./../../.')\n",
    "import numpy as np\n",
    "import math\n",
    "from itertools import repeat\n",
    "import h5py\n",
    "import matplotlib.pyplot as plt\n",
    "from tqdm import tqdm"
   ]
  },
  {
   "cell_type": "code",
   "execution_count": 31,
   "id": "fe035799-6f77-4af5-98f1-dcf9547b61b9",
   "metadata": {
    "tags": []
   },
   "outputs": [],
   "source": [
    "## Get the id data"
   ]
  },
  {
   "cell_type": "code",
   "execution_count": 62,
   "id": "6436e3f4-e489-471a-82d4-b2359be4e3e5",
   "metadata": {
    "tags": []
   },
   "outputs": [],
   "source": [
    "\n",
    "data_folder=\"/blue/michael.tonks/lin.yang/VECTOR_data/experimental_data/\"\n",
    "data_name_t0 = \"s1400poly1_t0_optimized.dream3d\"\n",
    "data_name_t1 = \"s1400poly1_t1_fiftytwoslices_optimized.dream3d\""
   ]
  },
  {
   "cell_type": "code",
   "execution_count": 63,
   "id": "df42cd96-e73c-4b3d-add6-ee4ec6d19acf",
   "metadata": {
    "tags": []
   },
   "outputs": [],
   "source": [
    "\n",
    "\n",
    "# t0\n",
    "f = h5py.File(data_folder+data_name_t0, 'r')\n",
    "simulation = f['DataContainers']['ImageDataContainer']['CellData']\n",
    "simulation_id = simulation['FeatureIds']\n",
    "microstructure_t0 = simulation_id[:,:,:,0]\n",
    "# t1\n",
    "f = h5py.File(data_folder+data_name_t1, 'r')\n",
    "simulation = f['DataContainers']['ImageDataContainer']['CellData']\n",
    "simulation_id = simulation['FeatureIds']\n",
    "microstructure_t1 = simulation_id[:,:,:,0]\n",
    "\n",
    "\n"
   ]
  },
  {
   "cell_type": "code",
   "execution_count": 64,
   "id": "81c85ffe-a62c-467b-98c2-f37e3312f8cf",
   "metadata": {
    "tags": []
   },
   "outputs": [
    {
     "data": {
      "text/plain": [
       "(52, 500, 500)"
      ]
     },
     "execution_count": 64,
     "metadata": {},
     "output_type": "execute_result"
    }
   ],
   "source": [
    "microstructure_t1.shape"
   ]
  },
  {
   "cell_type": "code",
   "execution_count": null,
   "id": "8bf28052-cf68-488d-ab27-d8452b11c0cf",
   "metadata": {},
   "outputs": [],
   "source": []
  }
 ],
 "metadata": {
  "kernelspec": {
   "display_name": "UFRC Python-3.10",
   "language": "python",
   "name": "python3-3.10-ufrc"
  },
  "language_info": {
   "codemirror_mode": {
    "name": "ipython",
    "version": 3
   },
   "file_extension": ".py",
   "mimetype": "text/x-python",
   "name": "python",
   "nbconvert_exporter": "python",
   "pygments_lexer": "ipython3",
   "version": "3.10.8"
  }
 },
 "nbformat": 4,
 "nbformat_minor": 5
}
