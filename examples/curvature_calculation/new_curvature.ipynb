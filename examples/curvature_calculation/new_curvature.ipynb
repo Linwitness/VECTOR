{
 "cells": [
  {
   "cell_type": "code",
   "execution_count": 18,
   "metadata": {
    "tags": []
   },
   "outputs": [
    {
     "data": {
      "text/plain": [
       "<module 'PACKAGE_MP_Linear' from '/home/lin.yang/projects/VECTOR/examples/curvature_calculation/../../PACKAGE_MP_Linear.py'>"
      ]
     },
     "execution_count": 18,
     "metadata": {},
     "output_type": "execute_result"
    }
   ],
   "source": [
    "import os\n",
    "current_path = os.getcwd()\n",
    "import numpy as np\n",
    "from numpy import seterr\n",
    "seterr(all='raise')\n",
    "import matplotlib.pyplot as plt\n",
    "import math\n",
    "import random\n",
    "from tqdm import tqdm\n",
    "import sys\n",
    "sys.path.append(current_path)\n",
    "sys.path.append(current_path+'/../../')\n",
    "import myInput\n",
    "import PACKAGE_MP_Linear as linear2d\n",
    "import post_processing\n",
    "import PACKAGE_MP_3DLinear as Linear_3D\n",
    "import PACKAGE_MP_3DVertex as Vertex_3D\n",
    "sys.path.append(current_path+'/../calculate_tangent/')\n",
    "\n",
    "import importlib\n",
    "importlib.reload(post_processing)\n",
    "importlib.reload(Linear_3D)\n",
    "importlib.reload(linear2d)"
   ]
  },
  {
   "cell_type": "code",
   "execution_count": null,
   "metadata": {},
   "outputs": [],
   "source": []
  },
  {
   "cell_type": "code",
   "execution_count": 12,
   "metadata": {
    "tags": []
   },
   "outputs": [],
   "source": [
    "\n",
    "\n",
    "nx, ny, nz = 200,200,200\n",
    "r = 10\n",
    "P0,R = myInput.Circle_IC3d(nx,ny,nz,r)\n",
    "P = np.zeros((4,nx,ny,nz))\n",
    "for i in range(0,np.shape(P0)[3]):\n",
    "    P[0,:,:,:] += P0[:,:,:,i]*(i+1)\n"
   ]
  },
  {
   "cell_type": "code",
   "execution_count": 19,
   "metadata": {
    "tags": []
   },
   "outputs": [
    {
     "name": "stderr",
     "output_type": "stream",
     "text": [
      "100%|██████████| 8000000/8000000 [00:56<00:00, 142116.52it/s]"
     ]
    },
    {
     "name": "stdout",
     "output_type": "stream",
     "text": [
      "High efficiency: 58.77749729156494 s\n"
     ]
    },
    {
     "name": "stderr",
     "output_type": "stream",
     "text": [
      "\n"
     ]
    }
   ],
   "source": [
    "import time\n",
    "\n",
    "start_time = time.time()\n",
    "curvature_dict = post_processing.IO_curvature_high_efficiency(P[0,:,:,:])\n",
    "end_time = time.time()\n",
    "print(f\"High efficiency: {end_time-start_time} s\")\n",
    "\n",
    "# start_time = time.time()\n",
    "# curvature_dict = post_processing.IO_curvature(P[0,:,:,:])\n",
    "# end_time = time.time()\n",
    "# print(f\"Nomal: {end_time-start_time} s\")"
   ]
  },
  {
   "cell_type": "code",
   "execution_count": 20,
   "metadata": {
    "tags": []
   },
   "outputs": [
    {
     "data": {
      "text/plain": [
       "{2: array([ 1.11600000e+03,  8.88000000e+02,  1.83000000e+03, -9.78528859e-02])}"
      ]
     },
     "execution_count": 20,
     "metadata": {},
     "output_type": "execute_result"
    }
   ],
   "source": [
    "curvature_dict"
   ]
  },
  {
   "cell_type": "code",
   "execution_count": 25,
   "metadata": {
    "tags": []
   },
   "outputs": [
    {
     "name": "stdout",
     "output_type": "stream",
     "text": [
      "The inner voxel num is 1116.0, the outer is 888.0, the face num is 1830.0\n",
      "The curvature is -0.09785288593148535, the error is 0.002147114068514658, the error fraction is 0.021942266169012372\n"
     ]
    }
   ],
   "source": [
    "\n",
    "curvature = np.pi/4 * (curvature_dict[2][1] - curvature_dict[2][0]) / curvature_dict[2][2]\n",
    "print(f\"The inner voxel num is {curvature_dict[2][0]}, the outer is {curvature_dict[2][1]}, the face num is {curvature_dict[2][2]}\")\n",
    "print(f\"The curvature is {curvature}, the error is {abs(abs(curvature)-1/r)}, the error fraction is {abs(abs(curvature)-1/r)/abs(curvature)}\")"
   ]
  },
  {
   "cell_type": "code",
   "execution_count": 58,
   "metadata": {},
   "outputs": [],
   "source": [
    "\n",
    "nx, ny, nz = 200,200,30\n",
    "wave = 10\n",
    "P0,R=myInput.Complex2G_IC3d(nx,ny,nz,wave)\n",
    "P = np.zeros((4,nx,ny,nz))\n",
    "for i in range(0,np.shape(P0)[3]):\n",
    "  P[0,:,:,:] += P0[:,:,:,i]*(i+1)\n",
    "\n",
    "voxel_num_edge_inner = 0\n",
    "voxel_num_edge_outer = 0\n",
    "face_num_inner = 0\n",
    "face_num_outer = 0\n",
    "R_list=[]\n",
    "for i in range(nx):\n",
    "  for j in range(ny):\n",
    "    for k in range(5,25):\n",
    "      ip,im,jp,jm,kp,km = myInput.periodic_bc3d(nx,ny,nz,i,j,k)\n",
    "      nn_id = np.array([P[0,ip,j,k],P[0,im,j,k],P[0,i,jp,k],P[0,i,jm,k],P[0,i,j,kp],P[0,i,j,km]])\n",
    "      nn_id_connect = (nn_id - P[0,i,j,k]) != 0\n",
    "      nn_id_unique_num = len(np.unique(nn_id))\n",
    "      if nn_id_unique_num > 2: continue # ignore the TJs and QJs\n",
    "      if np.sum(nn_id_connect) > 0:\n",
    "        R_list.append(R[i,j,k,3])\n",
    "        if P[0,i,j,k] == 1:\n",
    "          # figure out the num of faces for each sites\n",
    "          num_faces = np.sum(nn_id_connect)\n",
    "          face_num_inner += num_faces\n",
    "          # figure out the number of edges\n",
    "          if num_faces == 2: voxel_num_edge_outer += 1\n",
    "          if num_faces == 3: voxel_num_edge_outer += 3\n",
    "          if num_faces == 4: voxel_num_edge_outer += 5\n",
    "          if num_faces == 5: voxel_num_edge_outer += 8\n",
    "          if num_faces == 6: voxel_num_edge_outer += 12\n",
    "        elif P[0,i,j,k] == 2:\n",
    "          num_faces = np.sum(nn_id_connect)\n",
    "          face_num_outer += num_faces\n",
    "          # figure out the number of edges\n",
    "          if num_faces == 2: voxel_num_edge_inner += 1\n",
    "          if num_faces == 3: voxel_num_edge_inner += 3\n",
    "          if num_faces == 4: voxel_num_edge_inner += 5\n",
    "          if num_faces == 5: voxel_num_edge_inner += 8\n",
    "          if num_faces == 6: voxel_num_edge_inner += 12\n",
    "\n",
    "\n"
   ]
  },
  {
   "cell_type": "code",
   "execution_count": 59,
   "metadata": {},
   "outputs": [
    {
     "name": "stdout",
     "output_type": "stream",
     "text": [
      "The inner voxel num is 90990, the outer is 90990, the face num os 119600\n",
      "The curvature is 0.0, the error fraction is 0.015841956726246473\n"
     ]
    }
   ],
   "source": [
    "\n",
    "curvature = np.pi/4 * (voxel_num_edge_outer - voxel_num_edge_inner) / face_num_inner\n",
    "print(f\"The inner voxel num is {voxel_num_edge_inner}, the outer is {voxel_num_edge_outer}, the face num os {face_num_inner}\")\n",
    "error = 0\n",
    "for i in range(len(R_list)):\n",
    "  if R_list[i] == 0: continue\n",
    "  error += abs(R_list[i] - curvature)/R_list[i]\n",
    "error = error/len(R_list)\n",
    "print(f\"The curvature is {curvature}, the error fraction is {error}\")"
   ]
  },
  {
   "cell_type": "markdown",
   "metadata": {},
   "source": [
    "## A simple test for 2D curvature algorithm"
   ]
  },
  {
   "cell_type": "code",
   "execution_count": 4,
   "metadata": {
    "tags": []
   },
   "outputs": [
    {
     "ename": "ValueError",
     "evalue": "not enough values to unpack (expected 3, got 2)",
     "output_type": "error",
     "traceback": [
      "\u001b[0;31m---------------------------------------------------------------------------\u001b[0m",
      "\u001b[0;31mValueError\u001b[0m                                Traceback (most recent call last)",
      "\u001b[0;32m/scratch/local/34613769/ipykernel_215571/1212617145.py\u001b[0m in \u001b[0;36m<module>\u001b[0;34m\u001b[0m\n\u001b[1;32m      6\u001b[0m     \u001b[0mP\u001b[0m\u001b[0;34m[\u001b[0m\u001b[0;36m0\u001b[0m\u001b[0;34m,\u001b[0m\u001b[0;34m:\u001b[0m\u001b[0;34m,\u001b[0m\u001b[0;34m:\u001b[0m\u001b[0;34m]\u001b[0m \u001b[0;34m+=\u001b[0m \u001b[0mP0\u001b[0m\u001b[0;34m[\u001b[0m\u001b[0;34m:\u001b[0m\u001b[0;34m,\u001b[0m\u001b[0;34m:\u001b[0m\u001b[0;34m,\u001b[0m\u001b[0mi\u001b[0m\u001b[0;34m]\u001b[0m\u001b[0;34m*\u001b[0m\u001b[0;34m(\u001b[0m\u001b[0mi\u001b[0m\u001b[0;34m+\u001b[0m\u001b[0;36m1\u001b[0m\u001b[0;34m)\u001b[0m\u001b[0;34m\u001b[0m\u001b[0;34m\u001b[0m\u001b[0m\n\u001b[1;32m      7\u001b[0m \u001b[0;34m\u001b[0m\u001b[0m\n\u001b[0;32m----> 8\u001b[0;31m \u001b[0mcurvature_dict\u001b[0m \u001b[0;34m=\u001b[0m \u001b[0mpost_processing\u001b[0m\u001b[0;34m.\u001b[0m\u001b[0mIO_curvature\u001b[0m\u001b[0;34m(\u001b[0m\u001b[0mP\u001b[0m\u001b[0;34m[\u001b[0m\u001b[0;36m0\u001b[0m\u001b[0;34m,\u001b[0m\u001b[0;34m:\u001b[0m\u001b[0;34m,\u001b[0m\u001b[0;34m:\u001b[0m\u001b[0;34m]\u001b[0m\u001b[0;34m)\u001b[0m\u001b[0;34m\u001b[0m\u001b[0;34m\u001b[0m\u001b[0m\n\u001b[0m\u001b[1;32m      9\u001b[0m \u001b[0;34m\u001b[0m\u001b[0m\n\u001b[1;32m     10\u001b[0m \u001b[0;34m\u001b[0m\u001b[0m\n",
      "\u001b[0;32m~/projects/VECTOR/examples/curvature_calculation/../../post_processing.py\u001b[0m in \u001b[0;36mIO_curvature\u001b[0;34m(microstructure)\u001b[0m\n\u001b[1;32m     22\u001b[0m \u001b[0;32mdef\u001b[0m \u001b[0mIO_curvature\u001b[0m\u001b[0;34m(\u001b[0m\u001b[0mmicrostructure\u001b[0m\u001b[0;34m)\u001b[0m\u001b[0;34m:\u001b[0m\u001b[0;34m\u001b[0m\u001b[0;34m\u001b[0m\u001b[0m\n\u001b[1;32m     23\u001b[0m     \u001b[0mvoxel_and_face_num_edge\u001b[0m \u001b[0;34m=\u001b[0m \u001b[0mdict\u001b[0m\u001b[0;34m(\u001b[0m\u001b[0;34m)\u001b[0m \u001b[0;31m# each GB: voxel_inner, voxel_outer, face_num, curvature\u001b[0m\u001b[0;34m\u001b[0m\u001b[0;34m\u001b[0m\u001b[0m\n\u001b[0;32m---> 24\u001b[0;31m     \u001b[0mnx\u001b[0m\u001b[0;34m,\u001b[0m \u001b[0mny\u001b[0m\u001b[0;34m,\u001b[0m \u001b[0mnz\u001b[0m \u001b[0;34m=\u001b[0m \u001b[0mmicrostructure\u001b[0m\u001b[0;34m.\u001b[0m\u001b[0mshape\u001b[0m\u001b[0;34m\u001b[0m\u001b[0;34m\u001b[0m\u001b[0m\n\u001b[0m\u001b[1;32m     25\u001b[0m     \u001b[0medge_list\u001b[0m \u001b[0;34m=\u001b[0m \u001b[0;34m[\u001b[0m\u001b[0;36m0\u001b[0m\u001b[0;34m,\u001b[0m\u001b[0;36m1\u001b[0m\u001b[0;34m,\u001b[0m\u001b[0;36m3\u001b[0m\u001b[0;34m,\u001b[0m\u001b[0;36m5\u001b[0m\u001b[0;34m,\u001b[0m\u001b[0;36m8\u001b[0m\u001b[0;34m,\u001b[0m\u001b[0;36m12\u001b[0m\u001b[0;34m]\u001b[0m\u001b[0;34m\u001b[0m\u001b[0;34m\u001b[0m\u001b[0m\n\u001b[1;32m     26\u001b[0m     \u001b[0;32mfor\u001b[0m \u001b[0mi\u001b[0m \u001b[0;32min\u001b[0m \u001b[0;34m(\u001b[0m\u001b[0mrange\u001b[0m\u001b[0;34m(\u001b[0m\u001b[0mnx\u001b[0m\u001b[0;34m)\u001b[0m\u001b[0;34m)\u001b[0m\u001b[0;34m:\u001b[0m\u001b[0;34m\u001b[0m\u001b[0;34m\u001b[0m\u001b[0m\n",
      "\u001b[0;31mValueError\u001b[0m: not enough values to unpack (expected 3, got 2)"
     ]
    }
   ],
   "source": [
    "\n",
    "\n",
    "nx, ny = 200,200\n",
    "r = 10\n",
    "P0,R = myInput.Circle_IC(nx,ny,r)\n",
    "P = np.zeros((3,nx,ny))\n",
    "for i in range(0,np.shape(P0)[2]):\n",
    "  P[0,:,:] += P0[:,:,i]*(i+1)\n",
    "\n",
    "voxel_num_edge_inner = 0\n",
    "voxel_num_edge_outer = 0\n",
    "face_num_inner = 0\n",
    "face_num_outer = 0\n",
    "for i in range(nx):\n",
    "  for j in range(ny):\n",
    "    ip,im,jp,jm = myInput.periodic_bc(nx,ny,i,j)\n",
    "    nn_id = np.array([P[0,ip,j],P[0,im,j],P[0,i,jp],P[0,i,jm]])\n",
    "    nn_id_connect = (nn_id - P[0,i,j]) != 0\n",
    "    nn_id_unique_num = len(np.unique(nn_id))\n",
    "    if nn_id_unique_num > 2: continue # ignore the TJs and QJs\n",
    "    if np.sum(nn_id_connect) > 0:\n",
    "\n",
    "      if P[0,i,j] == 1:\n",
    "        # figure out the num of faces for each sites\n",
    "        num_faces = np.sum(nn_id_connect)\n",
    "        face_num_inner += num_faces\n",
    "        # figure out the number of edges\n",
    "        if num_faces == 2: voxel_num_edge_outer += 1\n",
    "        if num_faces == 3: voxel_num_edge_outer += 2\n",
    "        if num_faces == 4: voxel_num_edge_outer += 4\n",
    "      elif P[0,i,j] == 2:\n",
    "        num_faces = np.sum(nn_id_connect)\n",
    "        face_num_outer += num_faces\n",
    "        # figure out the number of edges\n",
    "        if num_faces == 2: voxel_num_edge_inner += 1\n",
    "        if num_faces == 3: voxel_num_edge_inner += 2\n",
    "        if num_faces == 4: voxel_num_edge_inner += 4\n",
    "\n"
   ]
  },
  {
   "cell_type": "code",
   "execution_count": 18,
   "metadata": {},
   "outputs": [
    {
     "name": "stdout",
     "output_type": "stream",
     "text": [
      "The inner voxel num is 16, the outer is 20, the face num os 76\n",
      "The curvature is 0.1033418636049274, the error is 0.0033418636049274003, the error fraction is 0.03233794600127628\n"
     ]
    }
   ],
   "source": [
    "\n",
    "curvature = 5*np.pi/8 * (voxel_num_edge_outer - voxel_num_edge_inner) / face_num_inner\n",
    "print(f\"The inner voxel num is {voxel_num_edge_inner}, the outer is {voxel_num_edge_outer}, the face num os {face_num_inner}\")\n",
    "print(f\"The curvature is {curvature}, the error is {abs(curvature-1/r)}, the error fraction is {abs(curvature-1/r)/curvature}\")"
   ]
  },
  {
   "cell_type": "code",
   "execution_count": null,
   "metadata": {},
   "outputs": [],
   "source": []
  }
 ],
 "metadata": {
  "kernelspec": {
   "display_name": "UFRC Python-3.8",
   "language": "python",
   "name": "python3-3.8-ufrc"
  },
  "language_info": {
   "codemirror_mode": {
    "name": "ipython",
    "version": 3
   },
   "file_extension": ".py",
   "mimetype": "text/x-python",
   "name": "python",
   "nbconvert_exporter": "python",
   "pygments_lexer": "ipython3",
   "version": "3.8.15"
  }
 },
 "nbformat": 4,
 "nbformat_minor": 4
}
