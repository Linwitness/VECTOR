{
 "cells": [
  {
   "cell_type": "code",
   "execution_count": 6,
   "metadata": {},
   "outputs": [],
   "source": [
    "#!/usr/bin/env python3\n",
    "# -*- coding: utf-8 -*-\n",
    "\"\"\"\n",
    "Created on Thu Sep 22 17:46:02 2022\n",
    "\n",
    "@author: Lin\n",
    "\"\"\"\n",
    "\n",
    "import os\n",
    "current_path = os.getcwd()+'/'\n",
    "import sys\n",
    "sys.path.append(current_path)\n",
    "sys.path.append(current_path+'../../')\n",
    "import numpy as np\n",
    "import math\n",
    "\n",
    "import PACKAGE_MP_Linear as Linear_2D\n",
    "import PACKAGE_MP_Vertex as Vertex_2D\n",
    "import PACKAGE_MP_3DLinear as Linear_3D\n",
    "import PACKAGE_MP_3DVertex as Vertex_3D\n",
    "import myInput"
   ]
  },
  {
   "cell_type": "code",
   "execution_count": 32,
   "metadata": {},
   "outputs": [],
   "source": [
    "\n",
    "def test_vertex_3d():\n",
    "    nx, ny, nz = 200, 200, 200\n",
    "    ng = 2\n",
    "    cores = 8\n",
    "    max_iteration = 20\n",
    "    radius = [5, 20, 50, 80, 2, 1]\n",
    "\n",
    "    for r in radius:\n",
    "        filename_save = f\"./VT3D_Curvature_R{r}_Iteration_1_{max_iteration}\"\n",
    "\n",
    "        VT_errors =np.zeros(max_iteration)\n",
    "        VT_runningTime = np.zeros(max_iteration)\n",
    "\n",
    "        # P0,R=myInput.init2IC(nx, ny, ng, \"PolyIC.init\")\n",
    "        P0,R=myInput.Circle_IC3d(nx,ny,nz,r)\n",
    "        # P0,R=myInput.Voronoi_IC(nx,ny,ng)\n",
    "\n",
    "        for cores in [cores]:\n",
    "            # loop_times=10\n",
    "            for interval in range(1,max_iteration):\n",
    "\n",
    "\n",
    "                test1 = Vertex_3D.vertex3d_class(nx,ny,nz,ng,cores,interval,P0,R)\n",
    "                # test1.linear_main()\n",
    "                # P = test1.get_P()\n",
    "\n",
    "                test1.vertex3d_main(\"curvature\")\n",
    "                C_ln = test1.get_C()\n",
    "\n",
    "                # error\n",
    "\n",
    "                print('loop_times = ' + str(test1.interval))\n",
    "                print('running_time = %.2f' % test1.running_time)\n",
    "                print('running_core time = %.2f' % test1.running_coreTime)\n",
    "                print('total_errors = %.2f' % test1.errors)\n",
    "                print('per_errors = %.3f' % test1.errors_per_site)\n",
    "                print()\n",
    "\n",
    "\n",
    "                VT_errors[interval-1] = test1.errors_per_site\n",
    "                VT_runningTime[interval-1] = test1.running_coreTime\n",
    "\n",
    "        np.savez(filename_save, VT_errors=VT_errors, VT_runningTime=VT_runningTime)\n",
    "\n"
   ]
  },
  {
   "cell_type": "code",
   "execution_count": 19,
   "metadata": {},
   "outputs": [],
   "source": [
    "\n",
    "\n",
    "nx, ny, nz = 200,200,200\n",
    "r = 10\n",
    "P0,R = myInput.Circle_IC3d(nx,ny,nz,r)\n",
    "P = np.zeros((4,nx,ny,nz))\n",
    "for i in range(0,np.shape(P0)[3]):\n",
    "  P[0,:,:,:] += P0[:,:,:,i]*(i+1)\n",
    "\n",
    "voxel_num_edge_inner = 0\n",
    "voxel_num_edge_outer = 0\n",
    "face_num_inner = 0\n",
    "face_num_outer = 0\n",
    "for i in range(nx):\n",
    "  for j in range(ny):\n",
    "    for k in range(nz):\n",
    "      ip,im,jp,jm,kp,km = myInput.periodic_bc3d(nx,ny,nz,i,j,k)\n",
    "      nn_id = np.array([P[0,ip,j,k],P[0,im,j,k],P[0,i,jp,k],P[0,i,jm,k],P[0,i,j,kp],P[0,i,j,km]])\n",
    "      nn_id_connect = (nn_id - P[0,i,j,k]) != 0\n",
    "      nn_id_unique_num = len(np.unique(nn_id))\n",
    "      if nn_id_unique_num > 2: continue # ignore the TJs and QJs\n",
    "      if np.sum(nn_id_connect) > 0:\n",
    "\n",
    "        if P[0,i,j,k] == 1:\n",
    "          # figure out the num of faces for each sites\n",
    "          num_faces = np.sum(nn_id_connect)\n",
    "          face_num_inner += num_faces\n",
    "          # figure out the number of edges\n",
    "          if num_faces == 2: voxel_num_edge_outer += 1\n",
    "          if num_faces == 3: voxel_num_edge_outer += 3\n",
    "          if num_faces == 4: voxel_num_edge_outer += 5\n",
    "          if num_faces == 5: voxel_num_edge_outer += 8\n",
    "          if num_faces == 6: voxel_num_edge_outer += 12\n",
    "        elif P[0,i,j,k] == 2:\n",
    "          num_faces = np.sum(nn_id_connect)\n",
    "          face_num_outer += num_faces\n",
    "          # figure out the number of edges\n",
    "          if num_faces == 2: voxel_num_edge_inner += 1\n",
    "          if num_faces == 3: voxel_num_edge_inner += 3\n",
    "          if num_faces == 4: voxel_num_edge_inner += 5\n",
    "          if num_faces == 5: voxel_num_edge_inner += 8\n",
    "          if num_faces == 6: voxel_num_edge_inner += 12\n",
    "\n"
   ]
  },
  {
   "cell_type": "code",
   "execution_count": 20,
   "metadata": {},
   "outputs": [
    {
     "name": "stdout",
     "output_type": "stream",
     "text": [
      "The inner voxel num is 888, the outer is 1116, the face num os 1830\n",
      "The curvature is 0.09785288593148535, the error is 0.002147114068514658, the error fraction is 0.021942266169012372\n"
     ]
    }
   ],
   "source": [
    "\n",
    "curvature = np.pi/4 * (voxel_num_edge_outer - voxel_num_edge_inner) / face_num_inner\n",
    "print(f\"The inner voxel num is {voxel_num_edge_inner}, the outer is {voxel_num_edge_outer}, the face num os {face_num_inner}\")\n",
    "print(f\"The curvature is {curvature}, the error is {abs(curvature-1/r)}, the error fraction is {abs(curvature-1/r)/curvature}\")"
   ]
  },
  {
   "cell_type": "code",
   "execution_count": 58,
   "metadata": {},
   "outputs": [],
   "source": [
    "\n",
    "nx, ny, nz = 200,200,30\n",
    "wave = 10\n",
    "P0,R=myInput.Complex2G_IC3d(nx,ny,nz,wave)\n",
    "P = np.zeros((4,nx,ny,nz))\n",
    "for i in range(0,np.shape(P0)[3]):\n",
    "  P[0,:,:,:] += P0[:,:,:,i]*(i+1)\n",
    "\n",
    "voxel_num_edge_inner = 0\n",
    "voxel_num_edge_outer = 0\n",
    "face_num_inner = 0\n",
    "face_num_outer = 0\n",
    "R_list=[]\n",
    "for i in range(nx):\n",
    "  for j in range(ny):\n",
    "    for k in range(5,25):\n",
    "      ip,im,jp,jm,kp,km = myInput.periodic_bc3d(nx,ny,nz,i,j,k)\n",
    "      nn_id = np.array([P[0,ip,j,k],P[0,im,j,k],P[0,i,jp,k],P[0,i,jm,k],P[0,i,j,kp],P[0,i,j,km]])\n",
    "      nn_id_connect = (nn_id - P[0,i,j,k]) != 0\n",
    "      nn_id_unique_num = len(np.unique(nn_id))\n",
    "      if nn_id_unique_num > 2: continue # ignore the TJs and QJs\n",
    "      if np.sum(nn_id_connect) > 0:\n",
    "        R_list.append(R[i,j,k,3])\n",
    "        if P[0,i,j,k] == 1:\n",
    "          # figure out the num of faces for each sites\n",
    "          num_faces = np.sum(nn_id_connect)\n",
    "          face_num_inner += num_faces\n",
    "          # figure out the number of edges\n",
    "          if num_faces == 2: voxel_num_edge_outer += 1\n",
    "          if num_faces == 3: voxel_num_edge_outer += 3\n",
    "          if num_faces == 4: voxel_num_edge_outer += 5\n",
    "          if num_faces == 5: voxel_num_edge_outer += 8\n",
    "          if num_faces == 6: voxel_num_edge_outer += 12\n",
    "        elif P[0,i,j,k] == 2:\n",
    "          num_faces = np.sum(nn_id_connect)\n",
    "          face_num_outer += num_faces\n",
    "          # figure out the number of edges\n",
    "          if num_faces == 2: voxel_num_edge_inner += 1\n",
    "          if num_faces == 3: voxel_num_edge_inner += 3\n",
    "          if num_faces == 4: voxel_num_edge_inner += 5\n",
    "          if num_faces == 5: voxel_num_edge_inner += 8\n",
    "          if num_faces == 6: voxel_num_edge_inner += 12\n",
    "\n",
    "\n"
   ]
  },
  {
   "cell_type": "code",
   "execution_count": 59,
   "metadata": {},
   "outputs": [
    {
     "name": "stdout",
     "output_type": "stream",
     "text": [
      "The inner voxel num is 90990, the outer is 90990, the face num os 119600\n",
      "The curvature is 0.0, the error fraction is 0.015841956726246473\n"
     ]
    }
   ],
   "source": [
    "\n",
    "curvature = np.pi/4 * (voxel_num_edge_outer - voxel_num_edge_inner) / face_num_inner\n",
    "print(f\"The inner voxel num is {voxel_num_edge_inner}, the outer is {voxel_num_edge_outer}, the face num os {face_num_inner}\")\n",
    "error = 0\n",
    "for i in range(len(R_list)):\n",
    "  if R_list[i] == 0: continue\n",
    "  error += abs(R_list[i] - curvature)/R_list[i]\n",
    "error = error/len(R_list)\n",
    "print(f\"The curvature is {curvature}, the error fraction is {error}\")"
   ]
  },
  {
   "cell_type": "markdown",
   "metadata": {},
   "source": [
    "## A simple test for 2D curvature algorithm"
   ]
  },
  {
   "cell_type": "code",
   "execution_count": 17,
   "metadata": {},
   "outputs": [],
   "source": [
    "\n",
    "\n",
    "nx, ny = 200,200\n",
    "r = 10\n",
    "P0,R = myInput.Circle_IC(nx,ny,r)\n",
    "P = np.zeros((3,nx,ny))\n",
    "for i in range(0,np.shape(P0)[2]):\n",
    "  P[0,:,:] += P0[:,:,i]*(i+1)\n",
    "\n",
    "voxel_num_edge_inner = 0\n",
    "voxel_num_edge_outer = 0\n",
    "face_num_inner = 0\n",
    "face_num_outer = 0\n",
    "for i in range(nx):\n",
    "  for j in range(ny):\n",
    "    ip,im,jp,jm = myInput.periodic_bc(nx,ny,i,j)\n",
    "    nn_id = np.array([P[0,ip,j],P[0,im,j],P[0,i,jp],P[0,i,jm]])\n",
    "    nn_id_connect = (nn_id - P[0,i,j]) != 0\n",
    "    nn_id_unique_num = len(np.unique(nn_id))\n",
    "    if nn_id_unique_num > 2: continue # ignore the TJs and QJs\n",
    "    if np.sum(nn_id_connect) > 0:\n",
    "\n",
    "      if P[0,i,j] == 1:\n",
    "        # figure out the num of faces for each sites\n",
    "        num_faces = np.sum(nn_id_connect)\n",
    "        face_num_inner += num_faces\n",
    "        # figure out the number of edges\n",
    "        if num_faces == 2: voxel_num_edge_outer += 1\n",
    "        if num_faces == 3: voxel_num_edge_outer += 2\n",
    "        if num_faces == 4: voxel_num_edge_outer += 4\n",
    "      elif P[0,i,j] == 2:\n",
    "        num_faces = np.sum(nn_id_connect)\n",
    "        face_num_outer += num_faces\n",
    "        # figure out the number of edges\n",
    "        if num_faces == 2: voxel_num_edge_inner += 1\n",
    "        if num_faces == 3: voxel_num_edge_inner += 2\n",
    "        if num_faces == 4: voxel_num_edge_inner += 4\n",
    "\n"
   ]
  },
  {
   "cell_type": "code",
   "execution_count": 18,
   "metadata": {},
   "outputs": [
    {
     "name": "stdout",
     "output_type": "stream",
     "text": [
      "The inner voxel num is 16, the outer is 20, the face num os 76\n",
      "The curvature is 0.1033418636049274, the error is 0.0033418636049274003, the error fraction is 0.03233794600127628\n"
     ]
    }
   ],
   "source": [
    "\n",
    "curvature = 5*np.pi/8 * (voxel_num_edge_outer - voxel_num_edge_inner) / face_num_inner\n",
    "print(f\"The inner voxel num is {voxel_num_edge_inner}, the outer is {voxel_num_edge_outer}, the face num os {face_num_inner}\")\n",
    "print(f\"The curvature is {curvature}, the error is {abs(curvature-1/r)}, the error fraction is {abs(curvature-1/r)/curvature}\")"
   ]
  },
  {
   "cell_type": "code",
   "execution_count": null,
   "metadata": {},
   "outputs": [],
   "source": []
  }
 ],
 "metadata": {
  "kernelspec": {
   "display_name": "moose",
   "language": "python",
   "name": "python3"
  },
  "language_info": {
   "codemirror_mode": {
    "name": "ipython",
    "version": 3
   },
   "file_extension": ".py",
   "mimetype": "text/x-python",
   "name": "python",
   "nbconvert_exporter": "python",
   "pygments_lexer": "ipython3",
   "version": "3.9.13"
  }
 },
 "nbformat": 4,
 "nbformat_minor": 2
}
