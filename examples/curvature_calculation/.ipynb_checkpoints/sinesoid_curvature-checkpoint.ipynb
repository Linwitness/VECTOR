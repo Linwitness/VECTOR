{
 "cells": [
  {
   "cell_type": "code",
   "execution_count": 2,
   "id": "9a4972e1-8b63-4199-b6ca-2061258ef63c",
   "metadata": {
    "tags": []
   },
   "outputs": [],
   "source": [
    "#!/usr/bin/env python3\n",
    "# -*- coding: utf-8 -*-\n",
    "\"\"\"\n",
    "Created on Mon Jul 31 14:33:57 2023\n",
    "\n",
    "@author: Lin\n",
    "\"\"\"\n",
    "\n",
    "import os\n",
    "current_path = os.getcwd()\n",
    "import numpy as np\n",
    "from numpy import seterr\n",
    "seterr(all='raise')\n",
    "import matplotlib.pyplot as plt\n",
    "import math\n",
    "from tqdm import tqdm\n",
    "import sys\n",
    "sys.path.append(current_path+'/../../')\n",
    "import myInput\n",
    "import post_processing as inclination_processing\n",
    "import PACKAGE_MP_3DLinear as linear3d\n",
    "\n"
   ]
  },
  {
   "cell_type": "code",
   "execution_count": 26,
   "id": "0466fe18-c05a-40b3-9f9d-fc899a3e58d9",
   "metadata": {
    "tags": []
   },
   "outputs": [
    {
     "data": {
      "image/png": "[encoded data removed]",
      "text/plain": [
       "<Figure size 432x288 with 3 Axes>"
      ]
     },
     "metadata": {
      "needs_background": "light"
     },
     "output_type": "display_data"
    }
   ],
   "source": [
    "if __name__ == '__main__':\n",
    "    nx, ny, nz = 100, 100, 30\n",
    "    P,R = myInput.Complex2G_IC3d(nx,ny,nz,25)\n",
    "    R_curvature = R[:,:,:,3]\n",
    "    \n",
    "    cores = 8\n",
    "    ng = 2\n",
    "    loop_times = 5\n",
    "    curvature_class = linear3d.linear3d_class(nx,ny,nz,ng,cores,loop_times,P,R,'p')\n",
    "    curvature_class.linear3d_main(\"curvature\")\n",
    "    C_curvature = curvature_class.get_C()\n",
    "    C_curvature = C_curvature[1,:,:,:]\n",
    "    \n",
    "    plt.figure(figsize=(7,4))\n",
    "    plt.subplot(131)\n",
    "    plt.imshow(P[50,:,:,0])\n",
    "    plt.subplot(132)\n",
    "    plt.imshow(abs(R_curvature[50,:,:]))\n",
    "    plt.colorbar()\n",
    "    plt.subplot(133)\n",
    "    plt.imshow(C_curvature[50,:,:])\n",
    "    plt.colorbar()\n",
    "    print('loop_times = ' + str(curvature_class.loop_times))\n",
    "    print('running_time = %.2f' % curvature_class.running_time)\n",
    "    print('running_core time = %.2f' % curvature_class.running_coreTime)\n",
    "    print('total_errors = %.2f' % curvature_class.errors)\n",
    "    print('per_errors = %.3f' % curvature_class.errors_per_site)\n",
    "    print()\n",
    "    \n",
    "    for i in range(2):\n",
    "        P_final = (i+1)*P[:,:,:,i]\n",
    "    np.savez(f\"IC/curvature_sinesoid_l{25}\", P_final)"
   ]
  },
  {
   "cell_type": "code",
   "execution_count": null,
   "id": "74e19136-0533-467c-8ba9-fb78671ae09a",
   "metadata": {
    "tags": []
   },
   "outputs": [],
   "source": [
    "    "
   ]
  },
  {
   "cell_type": "code",
   "execution_count": null,
   "id": "1b098619-1ef3-4110-a868-bc61b5038224",
   "metadata": {
    "tags": []
   },
   "outputs": [],
   "source": [
    "    "
   ]
  },
  {
   "cell_type": "code",
   "execution_count": 21,
   "id": "03ff8649-6dd0-4f3a-922c-f7839ad61741",
   "metadata": {
    "tags": []
   },
   "outputs": [],
   "source": []
  },
  {
   "cell_type": "code",
   "execution_count": 29,
   "id": "6b762faf-0a87-4ee8-94ea-eb275e2cea88",
   "metadata": {
    "tags": []
   },
   "outputs": [
    {
     "data": {
      "text/plain": [
       "<matplotlib.colorbar.Colorbar at 0x155418efc130>"
      ]
     },
     "execution_count": 29,
     "metadata": {},
     "output_type": "execute_result"
    },
    {
     "data": {
      "image/png": "[encoded data removed]",
      "text/plain": [
       "<Figure size 432x288 with 3 Axes>"
      ]
     },
     "metadata": {
      "needs_background": "light"
     },
     "output_type": "display_data"
    }
   ],
   "source": [
    "    P,R = myInput.Complex2G_IC3d(nx,ny,nz,10)\n",
    "    R_curvature = R[:,:,:,3]\n",
    "    plt.figure()\n",
    "    plt.subplot(121)\n",
    "    plt.imshow(P[50,:,:,0])\n",
    "    plt.subplot(122)\n",
    "    plt.imshow(R_curvature[50,:,:])\n",
    "    plt.colorbar()\n",
    "    \n",
    "    cores = 8\n",
    "    ng = 2\n",
    "    loop_times = 5\n",
    "    curvature_class = linear3d.linear3d_class(nx,ny,nz,ng,cores,loop_times,P,R,'p')\n",
    "    curvature_class.linear3d_main(\"curvature\")\n",
    "    C_curvature = curvature_class.get_C()\n",
    "    C_curvature = C_curvature[1,:,:,:]\n",
    "    \n",
    "    plt.figure(figsize=(7,4))\n",
    "    plt.subplot(131)\n",
    "    plt.imshow(P[50,:,:,0])\n",
    "    plt.subplot(132)\n",
    "    plt.imshow(abs(R_curvature[50,:,:]))\n",
    "    plt.colorbar()\n",
    "    plt.subplot(133)\n",
    "    plt.imshow(C_curvature[50,:,:])\n",
    "    plt.colorbar()\n",
    "    print('loop_times = ' + str(curvature_class.loop_times))\n",
    "    print('running_time = %.2f' % curvature_class.running_time)\n",
    "    print('running_core time = %.2f' % curvature_class.running_coreTime)\n",
    "    print('total_errors = %.2f' % curvature_class.errors)\n",
    "    print('per_errors = %.3f' % curvature_class.errors_per_site)\n",
    "    print()\n",
    "    \n",
    "    for i in range(2):\n",
    "        P_final = (i+1)*P[:,:,:,i]\n",
    "    np.savez(f\"IC/curvature_sinesoid_l{10}\", P_final)"
   ]
  },
  {
   "cell_type": "code",
   "execution_count": 30,
   "id": "0cb2247f-d716-40c1-afae-42e37e7cd6af",
   "metadata": {
    "tags": []
   },
   "outputs": [
    {
     "name": "stdout",
     "output_type": "stream",
     "text": [
      "\n",
      "my core time is 108.685511\n",
      "res_back start...\n",
      "my res time is 0.001407\n",
      "my core time is 110.018982\n",
      "res_back start...\n",
      "my res time is 0.000234\n",
      "my core time is 111.865746\n",
      "res_back start...\n",
      "my res time is 0.000264\n",
      "my core time is 114.89579\n",
      "res_back start...\n",
      "my res time is 0.000263\n",
      "my core time is 121.153887\n",
      "res_back start...\n",
      "my res time is 0.000177\n",
      "my core time is 122.945992\n",
      "res_back start...\n",
      "my res time is 0.000332\n",
      "my core time is 124.787857\n",
      "res_back start...\n",
      "my res time is 0.000229\n",
      "my core time is 126.234275\n",
      "res_back start...\n",
      "my res time is 0.000196\n",
      "core done!\n"
     ]
    }
   ],
   "source": [
    "    "
   ]
  },
  {
   "cell_type": "code",
   "execution_count": 31,
   "id": "508a325d-30b1-456c-bbc3-df5a8855a344",
   "metadata": {
    "tags": []
   },
   "outputs": [
    {
     "name": "stdout",
     "output_type": "stream",
     "text": [
      "loop_times = 5\n",
      "running_time = 126.81\n",
      "running_core time = 126.23\n",
      "total_errors = 2782.66\n",
      "per_errors = 0.059\n",
      "\n"
     ]
    },
    {
     "data": {
      "image/png": "[encoded data removed]",
      "text/plain": [
       "<Figure size 504x288 with 5 Axes>"
      ]
     },
     "metadata": {
      "needs_background": "light"
     },
     "output_type": "display_data"
    }
   ],
   "source": [
    "    "
   ]
  },
  {
   "cell_type": "code",
   "execution_count": null,
   "id": "45f6cd80-15e2-4f7a-a705-e51bbf6b4f6f",
   "metadata": {},
   "outputs": [],
   "source": []
  },
  {
   "cell_type": "code",
   "execution_count": 35,
   "id": "39526425-bfa9-4ea7-a8d0-8e69514df1c7",
   "metadata": {
    "tags": []
   },
   "outputs": [
    {
     "data": {
      "text/plain": [
       "<matplotlib.colorbar.Colorbar at 0x15549853bbe0>"
      ]
     },
     "execution_count": 35,
     "metadata": {},
     "output_type": "execute_result"
    },
    {
     "data": {
      "image/png": "[encoded data removed]",
      "text/plain": [
       "<Figure size 432x288 with 3 Axes>"
      ]
     },
     "metadata": {
      "needs_background": "light"
     },
     "output_type": "display_data"
    }
   ],
   "source": [
    "    P,R = myInput.Complex2G_IC3d(nx,ny,nz,50)\n",
    "    R_curvature = R[:,:,:,3]\n",
    "    plt.figure()\n",
    "    plt.subplot(121)\n",
    "    plt.imshow(P[50,:,:,0])\n",
    "    plt.subplot(122)\n",
    "    plt.imshow(R_curvature[50,:,:])\n",
    "    plt.colorbar()"
   ]
  },
  {
   "cell_type": "code",
   "execution_count": null,
   "id": "fd4359fb-7112-4f16-982b-b81b073fa23c",
   "metadata": {
    "tags": []
   },
   "outputs": [
    {
     "name": "stdout",
     "output_type": "stream",
     "text": [
      "\n"
     ]
    }
   ],
   "source": [
    "    cores = 8\n",
    "    ng = 2\n",
    "    loop_times = 10\n",
    "    curvature_class = linear3d.linear3d_class(nx,ny,nz,ng,cores,loop_times,P,R,'p')\n",
    "    curvature_class.linear3d_main(\"curvature\")\n",
    "    C_curvature = curvature_class.get_C()\n",
    "    C_curvature = C_curvature[1,:,:,:]\n",
    "    plt.figure(figsize=(8,4))\n",
    "    plt.subplot(131)\n",
    "    plt.imshow(P[50,:,:,0])\n",
    "    plt.subplot(132)\n",
    "    plt.imshow(abs(R_curvature[50,:,:]))\n",
    "    plt.colorbar()\n",
    "    plt.subplot(133)\n",
    "    plt.imshow(C_curvature[50,:,:])\n",
    "    plt.colorbar()\n",
    "    print('loop_times = ' + str(curvature_class.loop_times))\n",
    "    print('running_time = %.2f' % curvature_class.running_time)\n",
    "    print('running_core time = %.2f' % curvature_class.running_coreTime)\n",
    "    print('total_errors = %.2f' % curvature_class.errors)\n",
    "    print('per_errors = %.3f' % curvature_class.errors_per_site)\n",
    "    print()\n",
    "    for i in range(2):\n",
    "        P_final = (i+1)*P[:,:,:,i]\n",
    "    np.savez(f\"IC/curvature_sinesoid_l{50}\", P_final)"
   ]
  },
  {
   "cell_type": "code",
   "execution_count": null,
   "id": "a2f11342-b3f0-4622-9a2f-eb0865edeac0",
   "metadata": {
    "tags": []
   },
   "outputs": [],
   "source": [
    "    "
   ]
  },
  {
   "cell_type": "code",
   "execution_count": null,
   "id": "787e98fc-a46a-4422-b8ab-769928b02a9d",
   "metadata": {
    "tags": []
   },
   "outputs": [],
   "source": [
    "    "
   ]
  },
  {
   "cell_type": "code",
   "execution_count": null,
   "id": "924e3a07-ff7c-49ed-af96-8d2e0f32bc06",
   "metadata": {},
   "outputs": [],
   "source": []
  }
 ],
 "metadata": {
  "kernelspec": {
   "display_name": "UFRC Python-3.8",
   "language": "python",
   "name": "python3-3.8-ufrc"
  },
  "language_info": {
   "codemirror_mode": {
    "name": "ipython",
    "version": 3
   },
   "file_extension": ".py",
   "mimetype": "text/x-python",
   "name": "python",
   "nbconvert_exporter": "python",
   "pygments_lexer": "ipython3",
   "version": "3.8.15"
  }
 },
 "nbformat": 4,
 "nbformat_minor": 5
}
