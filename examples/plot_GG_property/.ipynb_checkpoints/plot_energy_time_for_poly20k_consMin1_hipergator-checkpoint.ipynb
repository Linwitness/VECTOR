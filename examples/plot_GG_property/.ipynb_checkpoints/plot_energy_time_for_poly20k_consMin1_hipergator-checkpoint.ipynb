{
 "cells": [
  {
   "cell_type": "code",
   "execution_count": null,
   "id": "42a632ff-3640-458f-978a-0e854cba8e8f",
   "metadata": {
    "tags": []
   },
   "outputs": [
    {
     "name": "stdout",
     "output_type": "stream",
     "text": [
      "The 0.70 data size is: (201, 2400, 2400, 1)\n",
      "The 0.80 data size is: (201, 2400, 2400, 1)\n",
      "The 0.90 data size is: (401, 2400, 2400, 1)\n",
      "The iso data size is: (201, 2400, 2400, 1)\n",
      "READING DATA DONE\n"
     ]
    }
   ],
   "source": [
    "#!/usr/bin/env python3\n",
    "# -*- coding: utf-8 -*-\n",
    "\"\"\"\n",
    "Created on Mon Oct  3 15:24:42 2022\n",
    "\n",
    "@author: Lin\n",
    "\"\"\"\n",
    "\n",
    "from os import times\n",
    "import numpy as np\n",
    "import math\n",
    "from tqdm import tqdm\n",
    "import matplotlib.pyplot as plt\n",
    "\n",
    "def get_energy_timestep(logfile_path):\n",
    "    # Energy\n",
    "    delta = 0\n",
    "    step = 0\n",
    "    start_point = 0\n",
    "    with open(logfile_path + \".logfile\") as f:\n",
    "        for i, line in enumerate(f):\n",
    "            if len(line.split()) > 1:\n",
    "                try:\n",
    "                    if (line.split())[0] == \"stats\": delta = float(line.split()[1])\n",
    "                    if (line.split())[0] == \"run\": step = float(line.split()[1])\n",
    "                except ValueError:\n",
    "                    continue\n",
    "            if line == '      Time    Naccept    Nreject    Nsweeps        CPU     Energy\\n':\n",
    "                start_point = i + 1\n",
    "\n",
    "    timestep = np.zeros(int(step / delta) + 1)\n",
    "    energy = np.zeros(int(step / delta) + 1)\n",
    "    end_point = start_point + int(step / delta) + 1\n",
    "    with open(logfile_path + \".logfile\") as f:\n",
    "        for i, line in enumerate(f):\n",
    "            if i >= start_point and i < end_point:\n",
    "                timestep[i - start_point] = int(line.split()[0])\n",
    "                energy[i-start_point] = float(line.split()[5])\n",
    "\n",
    "    return timestep, energy\n",
    "\n",
    "# logfile_folder_iso = \"/blue/michael.tonks/lin.yang/SPPARKS-VirtualIncEnergy/2d_poly_multiCoreCompare/\"\n",
    "logfile_folder = \"/blue/michael.tonks/lin.yang/SPPARKS-VirtualIncEnergy/2d_poly_wellEnergy/\"\n",
    "sigma_type_070 = \"0.7\"\n",
    "sigma_type_080 = \"0.8\"\n",
    "sigma_type_090 = \"0.9\"\n",
    "\n",
    "energy_function = \"CosMin1\"\n",
    "npy_file_name_iso = \"p_aveE_20000_Cos_delta0.0_J1_refer_1_0_0_seed56689_kt0.66\"\n",
    "npy_file_name_aniso_070 = f\"p_aveE_20000_{energy_function}_delta{sigma_type_070}_J1_refer_1_0_0_seed56689_kt0.66\"\n",
    "npy_file_name_aniso_080 = f\"p_aveE_20000_{energy_function}_delta{sigma_type_080}_J1_refer_1_0_0_seed56689_kt0.66\"\n",
    "npy_file_name_aniso_090 = f\"p_aveE_20000_{energy_function}_delta{sigma_type_090}_J1_refer_1_0_0_seed56689_kt0.66\"\n",
    "\n",
    "logfile_path = [logfile_folder+npy_file_name_iso,\n",
    "                logfile_folder+npy_file_name_aniso_070,\n",
    "                logfile_folder+npy_file_name_aniso_080,\n",
    "                logfile_folder+npy_file_name_aniso_090]\n",
    "\n",
    "timestep = []\n",
    "energy = []\n",
    "for i in range(len(logfile_path)):\n",
    "    timestep_one, energy_one = get_energy_timestep(logfile_path[i])\n",
    "    timestep.append(timestep_one)\n",
    "    energy.append(energy_one)\n",
    "# timestep = np.array(timestep, dtype=float)\n",
    "# energy = np.array(energy, dtype=float)\n",
    "\n",
    "# Get grain num with npy file name\n",
    "npy_file_folder_iso = logfile_folder + \"results/\"\n",
    "npy_file_folder = logfile_folder + \"results/\"\n",
    "\n",
    "# Initial data\n",
    "npy_file_iso = np.load(npy_file_folder + npy_file_name_iso + \".npy\")\n",
    "npy_file_aniso_070 = np.load(npy_file_folder + npy_file_name_aniso_070 + \".npy\")\n",
    "npy_file_aniso_080 = np.load(npy_file_folder + npy_file_name_aniso_080 + \".npy\")\n",
    "npy_file_aniso_090 = np.load(npy_file_folder + npy_file_name_aniso_090 + \".npy\")\n",
    "print(f\"The 0.70 data size is: {npy_file_aniso_070.shape}\")\n",
    "print(f\"The 0.80 data size is: {npy_file_aniso_080.shape}\")\n",
    "print(f\"The 0.90 data size is: {npy_file_aniso_090.shape}\")\n",
    "print(f\"The iso data size is: {npy_file_iso.shape}\")\n",
    "print(\"READING DATA DONE\")\n",
    "\n",
    "# Initial container\n",
    "initial_grain_num = 20000\n",
    "# step_num = npy_file_aniso_070.shape[0]\n",
    "grain_num_aniso_070 = np.zeros(npy_file_aniso_070.shape[0])\n",
    "grain_num_aniso_080 = np.zeros(npy_file_aniso_080.shape[0])\n",
    "grain_num_aniso_090 = np.zeros(npy_file_aniso_090.shape[0])\n",
    "grain_num_iso = np.zeros(npy_file_iso.shape[0])\n",
    "\n",
    "# Calculate the number of grains\n",
    "for i in tqdm(range(npy_file_aniso_070.shape[0])):\n",
    "    grain_num_aniso_070[i] = len(set(npy_file_aniso_070[i,:].flatten()))\n",
    "    grain_num_aniso_080[i] = len(set(npy_file_aniso_080[i,:].flatten()))\n",
    "    grain_num_iso[i] = len(set(npy_file_iso[i,:].flatten()))\n",
    "for i in tqdm(range(npy_file_aniso_090.shape[0])):\n",
    "    grain_num_aniso_090[i] = len(set(npy_file_aniso_090[i,:].flatten()))\n",
    "\n",
    "grain_num_list = [grain_num_iso, grain_num_aniso_070, grain_num_aniso_080, grain_num_aniso_090]\n",
    "print(\"NUMBER CALCULATION DONE\")\n"
   ]
  },
  {
   "cell_type": "code",
   "execution_count": null,
   "id": "1fbd01ed-2e53-40d4-9ffc-fb364904e32c",
   "metadata": {
    "tags": []
   },
   "outputs": [],
   "source": []
  },
  {
   "cell_type": "markdown",
   "id": "e2e1b1f4-c9a2-45d6-8b66-5f1d6061ee1b",
   "metadata": {},
   "source": [
    "## Plot"
   ]
  },
  {
   "cell_type": "code",
   "execution_count": null,
   "id": "18c40002-8180-47bc-a74d-b6c177fcde48",
   "metadata": {
    "tags": []
   },
   "outputs": [],
   "source": [
    "#Plot\n",
    "\n",
    "plt.figure()\n",
    "label = [ 'Iso', r'$\\sigma=0.7$', r'$\\sigma=0.8$', r'$\\sigma=0.9$']\n",
    "for i in range(len(energy)):\n",
    "    energy[i] = energy[i]/energy[i][0]\n",
    "    plt.plot(timestep[i], energy[i],'-',linewidth=2,label=label[i])\n",
    "plt.xlabel(\"Timestep (MCS)\",fontsize=16)\n",
    "plt.ylabel(\"Energy Ratio (-)\",fontsize=16)\n",
    "plt.legend(fontsize=16, ncol=2)\n",
    "plt.yscale(\"log\")\n",
    "plt.ylim([0.02,2])\n",
    "plt.xlim([0,12000])\n",
    "plt.xticks([0,4000,8000,12000],fontsize=16)\n",
    "plt.yticks(fontsize=16)\n",
    "plt.savefig(f\"energy_figures/Energy_VS_Timestep_p_diff_sigma_kT066_sameInitialEnergy_{energy_function}\",dpi=400,bbox_inches='tight')\n"
   ]
  },
  {
   "cell_type": "code",
   "execution_count": null,
   "id": "bff77146-1c9f-4608-8567-61cbfb338e78",
   "metadata": {},
   "outputs": [],
   "source": [
    "\n",
    "fig, ax = plt.subplots()\n",
    "label = [ 'Iso', r'$\\sigma=0.7$', r'$\\sigma=0.8$', r'$\\sigma=0.9$']\n",
    "for i in range(len(energy)):\n",
    "    energy[i] = energy[i]/energy[i][0]\n",
    "    plt.plot(grain_num_list[i], energy[i],'-',linewidth=2,label=label[i])\n",
    "plt.xlabel(\"Grain Number\",fontsize=16)\n",
    "plt.ylabel(\"Energy Ratio (-)\",fontsize=16)\n",
    "plt.legend(fontsize=16, ncol=2)\n",
    "# plt.yscale(\"log\")\n",
    "# plt.xscale(\"log\")\n",
    "plt.xlim([0,20000])\n",
    "plt.ylim([0.02,1.1])\n",
    "plt.xticks([20000,15000,10000,5000],fontsize=16)\n",
    "plt.yticks(fontsize=16)\n",
    "ax.invert_xaxis()\n",
    "plt.savefig(f\"energy_figures/Energy_VS_GrainNum_p_diff_sigma_kT066_sameInitialEnergy_{energy_function}\",dpi=400,bbox_inches='tight')"
   ]
  },
  {
   "cell_type": "code",
   "execution_count": null,
   "id": "43195cb6-0f4f-4618-8d5d-d946f19e9d98",
   "metadata": {},
   "outputs": [],
   "source": []
  }
 ],
 "metadata": {
  "kernelspec": {
   "display_name": "UFRC Python-3.8",
   "language": "python",
   "name": "python3-3.8-ufrc"
  },
  "language_info": {
   "codemirror_mode": {
    "name": "ipython",
    "version": 3
   },
   "file_extension": ".py",
   "mimetype": "text/x-python",
   "name": "python",
   "nbconvert_exporter": "python",
   "pygments_lexer": "ipython3",
   "version": "3.8.15"
  }
 },
 "nbformat": 4,
 "nbformat_minor": 5
}
