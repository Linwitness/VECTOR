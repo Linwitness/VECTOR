{
 "cells": [
  {
   "cell_type": "code",
   "execution_count": null,
   "metadata": {},
   "outputs": [
    {
     "data": {
      "text/plain": [
       "<module 'post_processing' from '/home/lin.yang/projects/VECTOR/examples/dump_to_init/../../post_processing.py'>"
      ]
     },
     "execution_count": 1,
     "metadata": {},
     "output_type": "execute_result"
    }
   ],
   "source": [
    "#!/usr/bin/env python3\n",
    "# -*- coding: utf-8 -*-\n",
    "\"\"\"\n",
    "SPPARKS ANISOTROPIC MODEL PREPROCESSING UTILITIES\n",
    "=================================================\n",
    "\n",
    "This notebook provides essential preprocessing tools for converting simulation data\n",
    "between VECTOR analysis format and SPPARKS (Stochastic Parallel PARticle Kinetic \n",
    "Simulator) input format. SPPARKS is used for Monte Carlo simulations of grain growth\n",
    "with anisotropic energy models.\n",
    "\n",
    "Key Functionality:\n",
    "1. Convert SPPARKS dump files to VECTOR-compatible init files\n",
    "2. Extract Euler angle data from original initialization files  \n",
    "3. Generate neighbor list files for 3D periodic boundary conditions\n",
    "4. Support for anisotropic grain boundary energy models\n",
    "\n",
    "Data Flow:\n",
    "Original Init → SPPARKS Simulation → Dump Files → Processed Init → Neighbor Files\n",
    "\n",
    "Created on Mon Jul 31 14:33:57 2023\n",
    "@author: Lin\n",
    "\"\"\"\n",
    "\n",
    "import os\n",
    "current_path = os.getcwd()\n",
    "import numpy as np\n",
    "from numpy import seterr\n",
    "seterr(all='raise')  # Enable strict error handling for numerical operations\n",
    "import matplotlib.pyplot as plt\n",
    "import math\n",
    "from tqdm import tqdm  # Progress bars for file processing operations\n",
    "import multiprocess as mp  # Multiprocessing for neighbor list generation\n",
    "import sys\n",
    "sys.path.append(current_path+'/../../')\n",
    "\n",
    "# VECTOR framework modules for grain boundary analysis\n",
    "import myInput\n",
    "import post_processing\n",
    "import PACKAGE_MP_3DLinear as linear3d\n",
    "\n",
    "import importlib\n",
    "importlib.reload(post_processing)  # Reload for development/debugging"
   ]
  },
  {
   "cell_type": "code",
   "execution_count": null,
   "metadata": {},
   "outputs": [],
   "source": [
    "def get_line(i, j):\n",
    "    \"\"\"\n",
    "    Calculate row index for grain pair (i,j) in MisoEnergy.txt lookup table.\n",
    "    \n",
    "    SPPARKS uses symmetric grain boundary energy matrices stored as compressed\n",
    "    upper triangular format. This function maps 2D grain pair indices to 1D\n",
    "    storage index.\n",
    "    \n",
    "    Parameters:\n",
    "    -----------\n",
    "    i, j : int\n",
    "        Grain IDs (i < j for proper symmetric storage)\n",
    "        \n",
    "    Returns:\n",
    "    --------\n",
    "    int : Row index in compressed energy matrix\n",
    "    \n",
    "    Mathematical Formula: \n",
    "    For symmetric matrix storage, row = i + (j-1)*j/2 when i < j\n",
    "    \"\"\"\n",
    "    if i < j: \n",
    "        return i+(j-1)*(j)/2\n",
    "    else: \n",
    "        return j+(i-1)*(i)/2\n",
    "\n",
    "def init2EAarray(init_file_path, grain_num):\n",
    "    \"\"\"\n",
    "    Extract Euler angles from SPPARKS initialization file into numpy array.\n",
    "    \n",
    "    SPPARKS init files contain crystallographic orientation data as Euler angles\n",
    "    (phi1, Phi, phi2) in Bunge notation. This function parses the file format\n",
    "    and creates a dense array for efficient access during processing.\n",
    "    \n",
    "    Parameters:\n",
    "    -----------\n",
    "    init_file_path : str\n",
    "        Path to SPPARKS .init file containing grain orientations\n",
    "    grain_num : int\n",
    "        Expected number of grains in the microstructure\n",
    "        \n",
    "    Returns:\n",
    "    --------\n",
    "    numpy.ndarray : Shape (grain_num, 3) containing Euler angles\n",
    "        Column 0: phi1 (rotation about Z-axis)\n",
    "        Column 1: Phi  (rotation about X-axis)  \n",
    "        Column 2: phi2 (rotation about Z-axis)\n",
    "        \n",
    "    File Format Expected:\n",
    "    Line 0-2: Headers (ignored)\n",
    "    Line 3+: site_id grain_id phi1 Phi phi2\n",
    "    \n",
    "    Notes:\n",
    "    ------\n",
    "    - Missing grains are filled with [0,0,0] orientation\n",
    "    - Euler angles represent crystallographic orientation for anisotropy calculations\n",
    "    \"\"\"\n",
    "    euler_angle_array = np.ones((grain_num, 3))*-2  # Initialize with sentinel values\n",
    "    \n",
    "    with open(init_file_path, 'r', encoding='utf-8') as file:\n",
    "        for i, line in enumerate(file):\n",
    "            # Skip header lines (first 3 lines)\n",
    "            if i > 2: \n",
    "                data = line.split()\n",
    "                grain_id = int(data[1]) - 1  # Convert to 0-based indexing\n",
    "                euler_angles = np.array([float(data[2]), float(data[3]), float(data[4])])\n",
    "                euler_angle_array[grain_id] = euler_angles\n",
    "    \n",
    "    # Check for missing grains and fill with default orientation\n",
    "    for i in range(grain_num):\n",
    "        if euler_angle_array[i,0] == -2:\n",
    "            print(f\"Warning: Missing grain {i+1}, using default orientation [0,0,0]\")\n",
    "            euler_angle_array[i] = np.array([0,0,0])\n",
    "            \n",
    "    return euler_angle_array\n",
    "\n",
    "def output_init_from_dump(dump_file_path, euler_angle_array, init_file_path_output):\n",
    "    \"\"\"\n",
    "    Convert SPPARKS dump file to initialization format with Euler angle mapping.\n",
    "    \n",
    "    SPPARKS dump files contain evolved microstructure states from Monte Carlo\n",
    "    simulation. This function extracts the final grain structure and maps\n",
    "    crystallographic orientations from the original initialization file.\n",
    "    \n",
    "    Parameters:\n",
    "    -----------\n",
    "    dump_file_path : str\n",
    "        Path to SPPARKS .dump file from simulation timestep\n",
    "    euler_angle_array : numpy.ndarray\n",
    "        Pre-loaded Euler angles from original init file\n",
    "    init_file_path_output : str\n",
    "        Output path for new initialization file\n",
    "        \n",
    "    Returns:\n",
    "    --------\n",
    "    tuple : (box_size, entry_length)\n",
    "        box_size : numpy.ndarray - Simulation domain dimensions [Lx, Ly, Lz]\n",
    "        entry_length : int - Total lines per dump entry (sites + headers)\n",
    "        \n",
    "    Dump File Format:\n",
    "    Line 0: ITEM: TIMESTEP\n",
    "    Line 1: timestep_value\n",
    "    Line 2: ITEM: NUMBER OF ATOMS  \n",
    "    Line 3: num_sites\n",
    "    Line 4: ITEM: BOX BOUNDS\n",
    "    Line 5-7: xlo xhi, ylo yhi, zlo zhi\n",
    "    Line 8: ITEM: ATOMS id grain_id ...\n",
    "    Line 9+: site_data\n",
    "    \n",
    "    Output Init Format:\n",
    "    Line 0: # This line is ignored\n",
    "    Line 1: Values\n",
    "    Line 2: [blank]\n",
    "    Line 3+: site_id grain_id phi1 Phi phi2\n",
    "    \n",
    "    Notes:\n",
    "    ------\n",
    "    - Preserves crystallographic orientation during microstructure evolution\n",
    "    - Supports 2D and 3D periodic domain geometries\n",
    "    - Essential for anisotropic grain boundary energy calculations\n",
    "    \"\"\"\n",
    "    # Parse dump file header information\n",
    "    with open(dump_file_path) as file:\n",
    "        box_size = np.zeros(3)\n",
    "        for i, line in enumerate(file):\n",
    "            if i==3: num_sites = int(line)\n",
    "            if i==5: box_size[0] = np.array(line.split(), dtype=float)[-1]\n",
    "            if i==6: box_size[1] = np.array(line.split(), dtype=float)[-1] \n",
    "            if i==7: box_size[2] = np.array(line.split(), dtype=float)[-1]\n",
    "            if i==8: name_vars = line.split()[2:]  # Variable names\n",
    "            if i>8: break\n",
    "            \n",
    "    box_size = np.ceil(box_size).astype(int)  # Convert to integer grid size\n",
    "    entry_length = num_sites + 9  # Header lines + site data\n",
    "\n",
    "    # Write initialization file header\n",
    "    IC_header = []\n",
    "    IC_header.append(\"# This line is ignored\\n\")\n",
    "    IC_header.append(\"Values\\n\") \n",
    "    IC_header.append(\"\\n\")\n",
    "    \n",
    "    with open(init_file_path_output, 'w') as output_file:\n",
    "        output_file.writelines(IC_header)\n",
    "\n",
    "    # Process dump data and write with Euler angle mapping\n",
    "    with open(init_file_path_output, 'a') as output_file:\n",
    "        with open(dump_file_path) as file:\n",
    "            for i, line in tqdm(enumerate(file), \n",
    "                              f\"Converting SPPARKS dump to init format\", \n",
    "                              total=entry_length):\n",
    "                \n",
    "                if i==1: \n",
    "                    time_step = int(float(line.split()[-1]))\n",
    "                    \n",
    "                atom_num = i - 9  # Site data starts at line 9\n",
    "                if 0 <= atom_num < num_sites:\n",
    "                    line_split = np.array(line.split(), dtype=float)\n",
    "                    site_id = int(line_split[0])\n",
    "                    grain_id = int(line_split[1]) - 1  # Convert to 0-based indexing\n",
    "                    \n",
    "                    # Map crystallographic orientation from original grain\n",
    "                    phi1, Phi, phi2 = euler_angle_array[grain_id]\n",
    "                    output_file.write(f\"{site_id} {grain_id+1} {phi1} {Phi} {phi2}\\n\")\n",
    "\n",
    "    return box_size, entry_length\n",
    "\n",
    "def output_init_neighbor_from_init(interval, box_size, init_file_path_input, init_file_path_output):\n",
    "    \"\"\"\n",
    "    Generate SPPARKS neighbor list file with periodic boundary conditions.\n",
    "    \n",
    "    SPPARKS requires explicit neighbor connectivity for Monte Carlo grain growth\n",
    "    simulations. This function creates neighbor lists for 3D periodic domains\n",
    "    with customizable interaction range for anisotropic grain boundary models.\n",
    "    \n",
    "    Parameters:\n",
    "    -----------\n",
    "    interval : int\n",
    "        Neighbor interaction range (typically 5 for grain boundary calculations)\n",
    "        Creates (2*interval+3)^3 - 1 total neighbors per site\n",
    "    box_size : numpy.ndarray  \n",
    "        Domain dimensions [Lx, Ly, Lz] from simulation\n",
    "    init_file_path_input : str\n",
    "        Input initialization file with grain orientations\n",
    "    init_file_path_output : str\n",
    "        Output neighbor file for SPPARKS simulation\n",
    "        \n",
    "    Returns:\n",
    "    --------\n",
    "    bool : True if neighbor file generation successful\n",
    "    \n",
    "    Neighbor File Format:\n",
    "    Line 0: # This line is ignored\n",
    "    Line 1: 3 dimension\n",
    "    Line 2: {nei_num} max neighbors  \n",
    "    Line 3: {total_sites} sites\n",
    "    Line 4-6: Domain bounds xlo xhi, ylo yhi, zlo zhi\n",
    "    Line 7: [blank]\n",
    "    Line 8: Sites\n",
    "    Line 9: [blank]\n",
    "    Line 10+: site_id x_coord y_coord z_coord\n",
    "    [...Sites section...]\n",
    "    Line N: [blank]\n",
    "    Line N+1: Neighbors\n",
    "    Line N+2: [blank]  \n",
    "    Line N+3+: site_id neighbor1 neighbor2 ... neighborM\n",
    "    [...Neighbors section...]\n",
    "    [Appended Values section from input file]\n",
    "    \n",
    "    Algorithm Details:\n",
    "    -----------------\n",
    "    1. Create 3D site coordinate mapping using row-major ordering\n",
    "    2. Generate periodic neighbor offsets in cubic interaction volume\n",
    "    3. Use multiprocessing for efficient neighbor list computation\n",
    "    4. Apply periodic boundary conditions with modulo arithmetic\n",
    "    5. Append original grain orientation data from input file\n",
    "    \n",
    "    Notes:\n",
    "    ------\n",
    "    - Supports 2D (Lz=1) and 3D periodic boundary conditions\n",
    "    - Memory-efficient chunked processing for large domains  \n",
    "    - Essential for accurate anisotropic grain boundary energy calculations\n",
    "    - Neighbor range determines grain boundary interaction physics\n",
    "    \"\"\"\n",
    "    nei_num = (2*interval+3)**3-1  # Total neighbors per site\n",
    "    size_x, size_y, size_z = box_size\n",
    "    \n",
    "    # Create 3D site ID mapping matrix (row-major ordering)\n",
    "    img = np.zeros((size_y, size_x, size_z))\n",
    "    print(f\"Generating site ID matrix for {size_x}x{size_y}x{size_z} domain...\")\n",
    "    \n",
    "    for k in tqdm(range(size_z), desc=\"Building site matrix\"): \n",
    "        for i in range(size_y):  \n",
    "            for j in range(size_x):  \n",
    "                # Row-major site numbering: site_id = k*Lx*Ly + i*Lx + j\n",
    "                img[i,j,k] = int(k*size_x*size_y + i*size_x + j)\n",
    "\n",
    "    # Write neighbor file header information\n",
    "    IC_header = []\n",
    "    IC_header.append(\"# This line is ignored\\n\")\n",
    "    IC_header.append(\"3 dimension\\n\")\n",
    "    IC_header.append(f\"{nei_num} max neighbors\\n\")\n",
    "    IC_header.append(f\"{size_x*size_y*size_z} sites\\n\")\n",
    "    IC_header.append(f\"0 {size_x} xlo xhi\\n\")\n",
    "    IC_header.append(f\"0 {size_y} ylo yhi\\n\") \n",
    "    IC_header.append(f\"0 {size_z} zlo zhi\\n\")\n",
    "    IC_header.append(\"\\n\")\n",
    "    IC_header.append(\"Sites\\n\")\n",
    "    IC_header.append(\"\\n\")\n",
    "    \n",
    "    with open(init_file_path_output, 'w') as file:\n",
    "        file.writelines(IC_header)\n",
    "\n",
    "    # Write site coordinate information\n",
    "    print(\"Writing site coordinates...\")\n",
    "    with open(init_file_path_output, 'a') as file:\n",
    "        for k in tqdm(range(size_z), desc=\"Writing sites\"):\n",
    "            for i in range(size_y):\n",
    "                for j in range(size_x):\n",
    "                    site_id = int(img[i,j,k] + 1)  # 1-based indexing for SPPARKS\n",
    "                    file.write(f\"{site_id} {float(j)} {float(i)} {float(k)}\\n\")\n",
    "\n",
    "    # Prepare neighbor section header\n",
    "    neighbor_header = [\"\\n\", \"Neighbors\\n\", \"\\n\"]\n",
    "    with open(init_file_path_output, 'a') as file:\n",
    "        file.writelines(neighbor_header)\n",
    "\n",
    "    # Generate periodic neighbor offset coordinates\n",
    "    # Creates cubic interaction volume: (2*interval+3)^3 surrounding each site\n",
    "    offsets = np.array(np.meshgrid(\n",
    "        np.arange(-(interval + 1), interval + 2),\n",
    "        np.arange(-(interval + 1), interval + 2), \n",
    "        np.arange(-(interval + 1), interval + 2),\n",
    "    )).T.reshape(-1, 3)\n",
    "    \n",
    "    # Remove self-interaction [0,0,0] offset\n",
    "    offsets = offsets[np.any(offsets != 0, axis=1)]\n",
    "\n",
    "    def process_chunk(start_k, end_k, file_name):\n",
    "        \"\"\"\n",
    "        Multiprocessing worker function for neighbor list generation.\n",
    "        \n",
    "        Processes a Z-slice chunk of the 3D domain to generate neighbor\n",
    "        connectivity with periodic boundary conditions.\n",
    "        \"\"\"\n",
    "        max_length_neighbors = 0\n",
    "        \n",
    "        with open(file_name, 'w') as file:\n",
    "            for k in tqdm(range(start_k, end_k), desc=f\"Processing Z={start_k}-{end_k}\"):\n",
    "                for i in range(size_y):\n",
    "                    for j in range(size_x):\n",
    "                        site_id = int(img[i,j,k] + 1)\n",
    "                        neighbor_line = f\"{site_id} \"\n",
    "                        \n",
    "                        # Calculate periodic neighbor indices with wraparound\n",
    "                        neighbor_coords = (np.array([i, j, k]) + offsets) % np.array([size_y, size_x, size_z])\n",
    "                        \n",
    "                        # Extract neighbor site IDs using advanced indexing\n",
    "                        neighbor_ids = img[neighbor_coords[:, 0], \n",
    "                                         neighbor_coords[:, 1], \n",
    "                                         neighbor_coords[:, 2]].astype('int')\n",
    "                        \n",
    "                        # Convert to 1-based indexing and format as string\n",
    "                        neighbor_line += ' '.join(map(str, neighbor_ids + 1))\n",
    "                        max_length_neighbors = max(max_length_neighbors, len(neighbor_line))\n",
    "                        file.write(neighbor_line + \"\\n\")\n",
    "            file.write(\"\\n\")\n",
    "            \n",
    "        print(f\"Max neighbor line length: {max_length_neighbors} characters\")\n",
    "\n",
    "    # Multiprocessed neighbor list generation for performance\n",
    "    print(\"Generating neighbor connectivity with multiprocessing...\")\n",
    "    num_processes = mp.cpu_count()\n",
    "    chunk_size = size_z // num_processes\n",
    "    processes = []\n",
    "    temp_files = []\n",
    "\n",
    "    # Distribute Z-slices across CPU cores\n",
    "    for p in range(num_processes):\n",
    "        start_k = p * chunk_size\n",
    "        end_k = (p + 1) * chunk_size if p != num_processes - 1 else size_z\n",
    "        temp_file = f'{init_file_path_output}_temp_{p}.txt'\n",
    "        temp_files.append(temp_file)\n",
    "        \n",
    "        process = mp.Process(target=process_chunk, args=(start_k, end_k, temp_file))\n",
    "        processes.append(process)\n",
    "        process.start()\n",
    "\n",
    "    # Wait for all processes to complete\n",
    "    for process in processes:\n",
    "        process.join()\n",
    "\n",
    "    # Concatenate temporary files and clean up\n",
    "    print(\"Consolidating neighbor data...\")\n",
    "    with open(init_file_path_output, 'a') as outfile:\n",
    "        for fname in tqdm(temp_files, desc=\"Merging temp files\"):\n",
    "            with open(fname) as infile:\n",
    "                outfile.write(infile.read())\n",
    "            os.remove(fname)  # Clean up temporary files\n",
    "\n",
    "    # Append original grain orientation values from input file\n",
    "    print(\"Appending grain orientation data...\")\n",
    "    with open(init_file_path_input, 'r') as f_read:\n",
    "        values_section = f_read.readlines()\n",
    "        \n",
    "    with open(init_file_path_output, 'a') as file:\n",
    "        # Skip header lines from input file, append only Values section\n",
    "        file.writelines(values_section[1:])\n",
    "        \n",
    "    print(\"Neighbor file generation completed successfully!\")\n",
    "    return True"
   ]
  },
  {
   "cell_type": "code",
   "execution_count": null,
   "metadata": {},
   "outputs": [],
   "source": [
    "if __name__ == '__main__':\n",
    "    \"\"\"\n",
    "    MAIN EXECUTION BLOCK: SPPARKS DUMP TO INIT CONVERSION\n",
    "    ====================================================\n",
    "    \n",
    "    This section demonstrates the complete workflow for converting SPPARKS\n",
    "    simulation dump files back to initialization format with preserved\n",
    "    crystallographic orientations for subsequent analysis or re-simulation.\n",
    "    \n",
    "    Workflow Steps:\n",
    "    1. Load original Euler angle data from initial configuration\n",
    "    2. Convert final simulation dump to init format with orientation mapping\n",
    "    3. Generate neighbor connectivity file for anisotropic simulations\n",
    "    \n",
    "    File Naming Convention:\n",
    "    - Original init: Contains initial grain orientations\n",
    "    - Dump files: Evolved microstructure from SPPARKS simulation  \n",
    "    - Output init: Converted final state with original orientations\n",
    "    - Neighbor file: Connectivity data for anisotropic energy calculations\n",
    "    \"\"\"\n",
    "\n",
    "    # =================================================================\n",
    "    # FILE PATH CONFIGURATION\n",
    "    # =================================================================\n",
    "    \n",
    "    # Simulation timestep for data extraction\n",
    "    last_step = 5\n",
    "    \n",
    "    # High-performance computing cluster storage paths\n",
    "    dump_file_foler = \"/orange/michael.tonks/lin.yang/\"\n",
    "    # Alternative paths for different computing environments:\n",
    "    # dump_file_foler = \"/blue/michael.tonks/lin.yang/SPPARKS-VirtualIncEnergy/2d_poly_multiCoreCompare/\"\n",
    "    # dump_file_foler = \"/Users/lin/projects/SPPARKS-AGG/examples/Test_SimplifyIncE/2d_triple/\"\n",
    "    \n",
    "    # Simulation identifier with key parameters\n",
    "    # Naming convention: p_ori_fully5d_aveE_f{factor}_t{temp}_{size}_{grains}_multiCore{cores}_J{job}_refer_{ref}_seed{seed}_kt{temp}\n",
    "    # dump_file_name = f\"p_ori_fully5d_aveE_f1.0_t1.0_150_1k_multiCore64_J1_refer_1_0_0_seed56689_kt1.95\"\n",
    "    \n",
    "    # Initialization file storage and naming\n",
    "    init_file_folder = dump_file_foler + \"IC/\"\n",
    "    init_file_name = f\"VoronoiIC_256_200g.init\"                    # Input: Original microstructure\n",
    "    init_file_name_final = f\"VoronoiIC_256_200g_neighbors5.init\"   # Output: With neighbor connectivity\n",
    "    # init_file_name_final = f\"poly_IC150_1k.{last_step}_neighbor5.init\"  # Alternative naming\n",
    "    \n",
    "    # =================================================================\n",
    "    # MICROSTRUCTURE PARAMETERS  \n",
    "    # =================================================================\n",
    "    \n",
    "    # Total number of grains in the microstructure\n",
    "    grain_num = 200\n",
    "    \n",
    "    # Load crystallographic orientations from original initialization file\n",
    "    # This preserves the Euler angle assignments for anisotropy calculations\n",
    "    # euler_angle_array = post_processing.init2EAarray(init_file_folder+init_file_name_original, grain_num)\n",
    "\n",
    "    # =================================================================\n",
    "    # DUMP FILE PROCESSING (Currently Commented Out)\n",
    "    # =================================================================\n",
    "    \n",
    "    # Convert SPPARKS dump file to VECTOR-compatible init format\n",
    "    # This step extracts the evolved grain structure and maps orientations\n",
    "    # dump_file_name_0 = dump_file_foler+dump_file_name+f\".dump.{int(last_step)}\"\n",
    "    # box_size, entry_length = post_processing.output_init_from_dump(\n",
    "    #     dump_file_name_0, \n",
    "    #     euler_angle_array, \n",
    "    #     init_file_folder+init_file_name\n",
    "    # )\n",
    "    # size_x, size_y, size_z = box_size\n",
    "    \n",
    "    print(\"Dump file processing workflow configured.\")\n",
    "    print(\"Uncomment relevant sections to execute full conversion pipeline.\")"
   ]
  },
  {
   "cell_type": "code",
   "execution_count": null,
   "metadata": {},
   "outputs": [
    {
     "name": "stdout",
     "output_type": "stream",
     "text": [
      "> img matrix start.\n",
      "> img matrix end\n",
      "> Sites start writing\n"
     ]
    },
    {
     "name": "stderr",
     "output_type": "stream",
     "text": [
      "100%|██████████| 1/1 [00:00<00:00, 10.37it/s]\n"
     ]
    },
    {
     "name": "stdout",
     "output_type": "stream",
     "text": [
      "> Sites end writing\n",
      "> Neighbors start writing\n"
     ]
    },
    {
     "name": "stderr",
     "output_type": "stream",
     "text": [
      "100%|██████████| 2/2 [00:00<00:00, 57.95it/s]\n"
     ]
    },
    {
     "name": "stdout",
     "output_type": "stream",
     "text": [
      "The max length of neighbor data line is 857"
     ]
    },
    {
     "name": "stderr",
     "output_type": "stream",
     "text": [
      "  0%|          | 0/2 [00:00<?, ?it/s]"
     ]
    },
    {
     "name": "stdout",
     "output_type": "stream",
     "text": [
      "\n"
     ]
    },
    {
     "name": "stderr",
     "output_type": "stream",
     "text": [
      "100%|██████████| 2/2 [00:00<00:00, 49.12it/s]\n",
      "  0%|          | 0/2 [00:00<?, ?it/s]"
     ]
    },
    {
     "name": "stdout",
     "output_type": "stream",
     "text": [
      "The max length of neighbor data line is 844\n"
     ]
    },
    {
     "name": "stderr",
     "output_type": "stream",
     "text": [
      "100%|██████████| 2/2 [00:00<00:00, 50.76it/s]\n",
      "100%|██████████| 2/2 [00:00<00:00, 44.90it/s]\n",
      "100%|██████████| 2/2 [00:00<00:00, 65.25it/s]"
     ]
    },
    {
     "name": "stdout",
     "output_type": "stream",
     "text": [
      "The max length of neighbor data line is 844The max length of neighbor data line is 844\n",
      "\n"
     ]
    },
    {
     "name": "stderr",
     "output_type": "stream",
     "text": [
      "\n",
      "100%|██████████| 2/2 [00:00<00:00, 44.10it/s]"
     ]
    },
    {
     "name": "stdout",
     "output_type": "stream",
     "text": [
      "The max length of neighbor data line is 818"
     ]
    },
    {
     "name": "stderr",
     "output_type": "stream",
     "text": [
      "\n"
     ]
    },
    {
     "name": "stdout",
     "output_type": "stream",
     "text": [
      "\n"
     ]
    },
    {
     "name": "stderr",
     "output_type": "stream",
     "text": [
      "  0%|          | 0/2 [00:00<?, ?it/s]"
     ]
    },
    {
     "name": "stdout",
     "output_type": "stream",
     "text": [
      "The max length of neighbor data line is 883"
     ]
    },
    {
     "name": "stderr",
     "output_type": "stream",
     "text": [
      "100%|██████████| 2/2 [00:00<00:00, 49.80it/s]"
     ]
    },
    {
     "name": "stdout",
     "output_type": "stream",
     "text": [
      "\n"
     ]
    },
    {
     "name": "stderr",
     "output_type": "stream",
     "text": [
      "\n",
      "100%|██████████| 2/2 [00:00<00:00, 22.98it/s]\n",
      "  0%|          | 0/2 [00:00<?, ?it/s]"
     ]
    },
    {
     "name": "stdout",
     "output_type": "stream",
     "text": [
      "The max length of neighbor data line is 857"
     ]
    },
    {
     "name": "stderr",
     "output_type": "stream",
     "text": [
      "  0%|          | 0/2 [00:00<?, ?it/s]"
     ]
    },
    {
     "name": "stdout",
     "output_type": "stream",
     "text": [
      "\n"
     ]
    },
    {
     "name": "stderr",
     "output_type": "stream",
     "text": [
      "100%|██████████| 2/2 [00:00<00:00, 19.96it/s]\n",
      "100%|██████████| 2/2 [00:00<00:00, 20.15it/s]\n"
     ]
    },
    {
     "name": "stdout",
     "output_type": "stream",
     "text": [
      "The max length of neighbor data line is 987\n"
     ]
    },
    {
     "name": "stderr",
     "output_type": "stream",
     "text": [
      "100%|██████████| 2/2 [00:00<00:00, 20.22it/s]\n",
      "100%|██████████| 2/2 [00:00<00:00, 17.02it/s]"
     ]
    },
    {
     "name": "stdout",
     "output_type": "stream",
     "text": [
      "The max length of neighbor data line is 909"
     ]
    },
    {
     "name": "stderr",
     "output_type": "stream",
     "text": [
      "\n"
     ]
    },
    {
     "name": "stdout",
     "output_type": "stream",
     "text": [
      "\n"
     ]
    },
    {
     "name": "stderr",
     "output_type": "stream",
     "text": [
      "  0%|          | 0/2 [00:00<?, ?it/s]"
     ]
    },
    {
     "name": "stdout",
     "output_type": "stream",
     "text": [
      "The max length of neighbor data line is 844\n"
     ]
    },
    {
     "name": "stderr",
     "output_type": "stream",
     "text": [
      "100%|██████████| 2/2 [00:00<00:00, 28.21it/s]\n",
      "100%|██████████| 2/2 [00:00<00:00, 22.45it/s]"
     ]
    },
    {
     "name": "stdout",
     "output_type": "stream",
     "text": [
      "The max length of neighbor data line is 844"
     ]
    },
    {
     "name": "stderr",
     "output_type": "stream",
     "text": [
      "\n"
     ]
    },
    {
     "name": "stdout",
     "output_type": "stream",
     "text": [
      "\n"
     ]
    },
    {
     "name": "stderr",
     "output_type": "stream",
     "text": [
      "100%|██████████| 2/2 [00:00<00:00, 28.07it/s]"
     ]
    },
    {
     "name": "stdout",
     "output_type": "stream",
     "text": [
      "The max length of neighbor data line is 1013The max length of neighbor data line is 844"
     ]
    },
    {
     "name": "stderr",
     "output_type": "stream",
     "text": [
      "\n"
     ]
    },
    {
     "name": "stdout",
     "output_type": "stream",
     "text": [
      "The max length of neighbor data line is 1013\n",
      "\n",
      "\n"
     ]
    },
    {
     "name": "stderr",
     "output_type": "stream",
     "text": [
      "  0%|          | 0/2 [00:00<?, ?it/s]"
     ]
    },
    {
     "name": "stdout",
     "output_type": "stream",
     "text": [
      "The max length of neighbor data line is 844\n"
     ]
    },
    {
     "name": "stderr",
     "output_type": "stream",
     "text": [
      "100%|██████████| 2/2 [00:00<00:00, 29.36it/s]\n",
      "  0%|          | 0/2 [00:00<?, ?it/s]"
     ]
    },
    {
     "name": "stdout",
     "output_type": "stream",
     "text": [
      "The max length of neighbor data line is 831\n"
     ]
    },
    {
     "name": "stderr",
     "output_type": "stream",
     "text": [
      "100%|██████████| 2/2 [00:00<00:00, 16.33it/s]\n"
     ]
    },
    {
     "name": "stdout",
     "output_type": "stream",
     "text": [
      "The max length of neighbor data line is 935"
     ]
    },
    {
     "name": "stderr",
     "output_type": "stream",
     "text": [
      "  0%|          | 0/2 [00:00<?, ?it/s]"
     ]
    },
    {
     "name": "stdout",
     "output_type": "stream",
     "text": [
      "\n"
     ]
    },
    {
     "name": "stderr",
     "output_type": "stream",
     "text": [
      "100%|██████████| 2/2 [00:00<00:00, 26.94it/s]\n",
      "  0%|          | 0/2 [00:00<?, ?it/s]"
     ]
    },
    {
     "name": "stdout",
     "output_type": "stream",
     "text": [
      "The max length of neighbor data line is 844\n"
     ]
    },
    {
     "name": "stderr",
     "output_type": "stream",
     "text": [
      "100%|██████████| 2/2 [00:00<00:00, 25.87it/s]\n",
      "100%|██████████| 2/2 [00:00<00:00, 32.46it/s]\n"
     ]
    },
    {
     "name": "stdout",
     "output_type": "stream",
     "text": [
      "The max length of neighbor data line is 844\n",
      "The max length of neighbor data line is 1013"
     ]
    },
    {
     "name": "stderr",
     "output_type": "stream",
     "text": [
      "  0%|          | 0/2 [00:00<?, ?it/s]"
     ]
    },
    {
     "name": "stdout",
     "output_type": "stream",
     "text": [
      "\n"
     ]
    },
    {
     "name": "stderr",
     "output_type": "stream",
     "text": [
      "100%|██████████| 2/2 [00:00<00:00, 11.46it/s]\n"
     ]
    },
    {
     "name": "stdout",
     "output_type": "stream",
     "text": [
      "The max length of neighbor data line is 844\n"
     ]
    },
    {
     "name": "stderr",
     "output_type": "stream",
     "text": [
      "100%|██████████| 2/2 [00:00<00:00,  6.84it/s]\n",
      "100%|██████████| 2/2 [00:00<00:00,  7.13it/s]"
     ]
    },
    {
     "name": "stdout",
     "output_type": "stream",
     "text": [
      "The max length of neighbor data line is 883\n"
     ]
    },
    {
     "name": "stderr",
     "output_type": "stream",
     "text": [
      "\n",
      "100%|██████████| 2/2 [00:00<00:00,  7.09it/s]\n"
     ]
    },
    {
     "name": "stdout",
     "output_type": "stream",
     "text": [
      "The max length of neighbor data line is 1013\n"
     ]
    },
    {
     "name": "stderr",
     "output_type": "stream",
     "text": [
      "100%|██████████| 2/2 [00:00<00:00,  7.21it/s]"
     ]
    },
    {
     "name": "stdout",
     "output_type": "stream",
     "text": [
      "The max length of neighbor data line is 844"
     ]
    },
    {
     "name": "stderr",
     "output_type": "stream",
     "text": [
      "\n"
     ]
    },
    {
     "name": "stdout",
     "output_type": "stream",
     "text": [
      "\n",
      "The max length of neighbor data line is 1013"
     ]
    },
    {
     "name": "stderr",
     "output_type": "stream",
     "text": [
      "  0%|          | 0/2 [00:00<?, ?it/s]"
     ]
    },
    {
     "name": "stdout",
     "output_type": "stream",
     "text": [
      "\n"
     ]
    },
    {
     "name": "stderr",
     "output_type": "stream",
     "text": [
      "100%|██████████| 2/2 [00:00<00:00,  7.08it/s]\n"
     ]
    },
    {
     "name": "stdout",
     "output_type": "stream",
     "text": [
      "The max length of neighbor data line is 1013"
     ]
    },
    {
     "name": "stderr",
     "output_type": "stream",
     "text": [
      "  0%|          | 0/2 [00:00<?, ?it/s]"
     ]
    },
    {
     "name": "stdout",
     "output_type": "stream",
     "text": [
      "\n"
     ]
    },
    {
     "name": "stderr",
     "output_type": "stream",
     "text": [
      "100%|██████████| 2/2 [00:00<00:00,  6.61it/s]\n",
      "100%|██████████| 2/2 [00:00<00:00,  5.91it/s]"
     ]
    },
    {
     "name": "stdout",
     "output_type": "stream",
     "text": [
      "The max length of neighbor data line is 961"
     ]
    },
    {
     "name": "stderr",
     "output_type": "stream",
     "text": [
      "\n"
     ]
    },
    {
     "name": "stdout",
     "output_type": "stream",
     "text": [
      "\n",
      "The max length of neighbor data line is 1013"
     ]
    },
    {
     "name": "stderr",
     "output_type": "stream",
     "text": [
      "100%|██████████| 2/2 [00:00<00:00,  6.57it/s]"
     ]
    },
    {
     "name": "stdout",
     "output_type": "stream",
     "text": [
      "\n"
     ]
    },
    {
     "name": "stderr",
     "output_type": "stream",
     "text": [
      "\n",
      "100%|██████████| 2/2 [00:00<00:00, 21.00it/s]\n"
     ]
    },
    {
     "name": "stdout",
     "output_type": "stream",
     "text": [
      "The max length of neighbor data line is 1013\n"
     ]
    },
    {
     "name": "stderr",
     "output_type": "stream",
     "text": [
      "  0%|          | 0/2 [00:00<?, ?it/s]"
     ]
    },
    {
     "name": "stdout",
     "output_type": "stream",
     "text": [
      "The max length of neighbor data line is 1013\n"
     ]
    },
    {
     "name": "stderr",
     "output_type": "stream",
     "text": [
      "100%|██████████| 2/2 [00:00<00:00,  6.41it/s]\n"
     ]
    },
    {
     "name": "stdout",
     "output_type": "stream",
     "text": [
      "The max length of neighbor data line is 1013"
     ]
    },
    {
     "name": "stderr",
     "output_type": "stream",
     "text": [
      "  0%|          | 0/2 [00:00<?, ?it/s]"
     ]
    },
    {
     "name": "stdout",
     "output_type": "stream",
     "text": [
      "\n"
     ]
    },
    {
     "name": "stderr",
     "output_type": "stream",
     "text": [
      "100%|██████████| 2/2 [00:00<00:00,  6.47it/s]\n",
      "  0%|          | 0/2 [00:00<?, ?it/s]"
     ]
    },
    {
     "name": "stdout",
     "output_type": "stream",
     "text": [
      "The max length of neighbor data line is 1013\n"
     ]
    },
    {
     "name": "stderr",
     "output_type": "stream",
     "text": [
      "100%|██████████| 2/2 [00:00<00:00,  6.49it/s]\n",
      "100%|██████████| 2/2 [00:00<00:00,  6.46it/s]"
     ]
    },
    {
     "name": "stdout",
     "output_type": "stream",
     "text": [
      "The max length of neighbor data line is 1013"
     ]
    },
    {
     "name": "stderr",
     "output_type": "stream",
     "text": [
      "\n"
     ]
    },
    {
     "name": "stdout",
     "output_type": "stream",
     "text": [
      "\n"
     ]
    },
    {
     "name": "stderr",
     "output_type": "stream",
     "text": [
      "100%|██████████| 2/2 [00:00<00:00,  6.46it/s]"
     ]
    },
    {
     "name": "stdout",
     "output_type": "stream",
     "text": [
      "The max length of neighbor data line is 844\n"
     ]
    },
    {
     "name": "stderr",
     "output_type": "stream",
     "text": [
      "\n",
      "100%|██████████| 2/2 [00:00<00:00,  6.41it/s]\n"
     ]
    },
    {
     "name": "stdout",
     "output_type": "stream",
     "text": [
      "The max length of neighbor data line is 1013"
     ]
    },
    {
     "name": "stderr",
     "output_type": "stream",
     "text": [
      "  0%|          | 0/2 [00:00<?, ?it/s]"
     ]
    },
    {
     "name": "stdout",
     "output_type": "stream",
     "text": [
      "\n"
     ]
    },
    {
     "name": "stderr",
     "output_type": "stream",
     "text": [
      "  0%|          | 0/2 [00:00<?, ?it/s]"
     ]
    },
    {
     "name": "stdout",
     "output_type": "stream",
     "text": [
      "The max length of neighbor data line is 1013\n"
     ]
    },
    {
     "name": "stderr",
     "output_type": "stream",
     "text": [
      "100%|██████████| 2/2 [00:00<00:00, 11.52it/s]\n"
     ]
    },
    {
     "name": "stdout",
     "output_type": "stream",
     "text": [
      "The max length of neighbor data line is 1013"
     ]
    },
    {
     "name": "stderr",
     "output_type": "stream",
     "text": [
      "  0%|          | 0/2 [00:00<?, ?it/s]"
     ]
    },
    {
     "name": "stdout",
     "output_type": "stream",
     "text": [
      "\n"
     ]
    },
    {
     "name": "stderr",
     "output_type": "stream",
     "text": [
      "100%|██████████| 2/2 [00:00<00:00,  4.31it/s]\n"
     ]
    },
    {
     "name": "stdout",
     "output_type": "stream",
     "text": [
      "The max length of neighbor data line is 1013\n"
     ]
    },
    {
     "name": "stderr",
     "output_type": "stream",
     "text": [
      "100%|██████████| 2/2 [00:00<00:00,  4.73it/s]\n",
      "100%|██████████| 2/2 [00:00<00:00,  9.41it/s]\n",
      "100%|██████████| 2/2 [00:00<00:00,  9.48it/s]\n"
     ]
    },
    {
     "name": "stdout",
     "output_type": "stream",
     "text": [
      "The max length of neighbor data line is 1013\n",
      "The max length of neighbor data line is 1013\n"
     ]
    },
    {
     "name": "stderr",
     "output_type": "stream",
     "text": [
      "  0%|          | 0/2 [00:00<?, ?it/s]"
     ]
    },
    {
     "name": "stdout",
     "output_type": "stream",
     "text": [
      "The max length of neighbor data line is 1013\n"
     ]
    },
    {
     "name": "stderr",
     "output_type": "stream",
     "text": [
      "100%|██████████| 2/2 [00:00<00:00,  8.89it/s]\n"
     ]
    },
    {
     "name": "stdout",
     "output_type": "stream",
     "text": [
      "The max length of neighbor data line is 1013\n"
     ]
    },
    {
     "name": "stderr",
     "output_type": "stream",
     "text": [
      "100%|██████████| 2/2 [00:00<00:00,  8.81it/s]\n",
      "100%|██████████| 2/2 [00:00<00:00, 25.01it/s]\n"
     ]
    },
    {
     "name": "stdout",
     "output_type": "stream",
     "text": [
      "The max length of neighbor data line is 1013\n",
      "The max length of neighbor data line is 1013"
     ]
    },
    {
     "name": "stderr",
     "output_type": "stream",
     "text": [
      "  0%|          | 0/2 [00:00<?, ?it/s]"
     ]
    },
    {
     "name": "stdout",
     "output_type": "stream",
     "text": [
      "\n"
     ]
    },
    {
     "name": "stderr",
     "output_type": "stream",
     "text": [
      "100%|██████████| 2/2 [00:00<00:00,  8.89it/s]\n",
      "100%|██████████| 2/2 [00:00<00:00,  8.80it/s]\n"
     ]
    },
    {
     "name": "stdout",
     "output_type": "stream",
     "text": [
      "The max length of neighbor data line is 1013\n"
     ]
    },
    {
     "name": "stderr",
     "output_type": "stream",
     "text": [
      "100%|██████████| 2/2 [00:00<00:00,  8.82it/s]\n"
     ]
    },
    {
     "name": "stdout",
     "output_type": "stream",
     "text": [
      "The max length of neighbor data line is 1013"
     ]
    },
    {
     "name": "stderr",
     "output_type": "stream",
     "text": [
      "100%|██████████| 2/2 [00:00<00:00,  8.99it/s]\n"
     ]
    },
    {
     "name": "stdout",
     "output_type": "stream",
     "text": [
      "\n",
      "The max length of neighbor data line is 1013\n"
     ]
    },
    {
     "name": "stderr",
     "output_type": "stream",
     "text": [
      "100%|██████████| 2/2 [00:00<00:00,  9.12it/s]\n",
      "100%|██████████| 2/2 [00:00<00:00,  9.40it/s]\n"
     ]
    },
    {
     "name": "stdout",
     "output_type": "stream",
     "text": [
      "The max length of neighbor data line is 1013\n",
      "The max length of neighbor data line is 1013"
     ]
    },
    {
     "name": "stderr",
     "output_type": "stream",
     "text": [
      "  0%|          | 0/2 [00:00<?, ?it/s]"
     ]
    },
    {
     "name": "stdout",
     "output_type": "stream",
     "text": [
      "\n"
     ]
    },
    {
     "name": "stderr",
     "output_type": "stream",
     "text": [
      "  0%|          | 0/2 [00:00<?, ?it/s]"
     ]
    },
    {
     "name": "stdout",
     "output_type": "stream",
     "text": [
      "The max length of neighbor data line is 1013\n"
     ]
    },
    {
     "name": "stderr",
     "output_type": "stream",
     "text": [
      "100%|██████████| 2/2 [00:00<00:00,  9.63it/s]\n",
      "  0%|          | 0/2 [00:00<?, ?it/s]"
     ]
    },
    {
     "name": "stdout",
     "output_type": "stream",
     "text": [
      "The max length of neighbor data line is 1013\n"
     ]
    },
    {
     "name": "stderr",
     "output_type": "stream",
     "text": [
      "100%|██████████| 2/2 [00:00<00:00, 10.27it/s]\n"
     ]
    },
    {
     "name": "stdout",
     "output_type": "stream",
     "text": [
      "The max length of neighbor data line is 1013"
     ]
    },
    {
     "name": "stderr",
     "output_type": "stream",
     "text": [
      "  0%|          | 0/2 [00:00<?, ?it/s]"
     ]
    },
    {
     "name": "stdout",
     "output_type": "stream",
     "text": [
      "\n"
     ]
    },
    {
     "name": "stderr",
     "output_type": "stream",
     "text": [
      "100%|██████████| 2/2 [00:00<00:00, 10.10it/s]\n"
     ]
    },
    {
     "name": "stdout",
     "output_type": "stream",
     "text": [
      "The max length of neighbor data line is 1013"
     ]
    },
    {
     "name": "stderr",
     "output_type": "stream",
     "text": [
      "  0%|          | 0/2 [00:00<?, ?it/s]"
     ]
    },
    {
     "name": "stdout",
     "output_type": "stream",
     "text": [
      "\n"
     ]
    },
    {
     "name": "stderr",
     "output_type": "stream",
     "text": [
      "100%|██████████| 2/2 [00:00<00:00, 18.74it/s]\n"
     ]
    },
    {
     "name": "stdout",
     "output_type": "stream",
     "text": [
      "The max length of neighbor data line is 1013"
     ]
    },
    {
     "name": "stderr",
     "output_type": "stream",
     "text": [
      "  0%|          | 0/2 [00:00<?, ?it/s]"
     ]
    },
    {
     "name": "stdout",
     "output_type": "stream",
     "text": [
      "\n"
     ]
    },
    {
     "name": "stderr",
     "output_type": "stream",
     "text": [
      "100%|██████████| 2/2 [00:00<00:00, 53.55it/s]\n",
      "100%|██████████| 2/2 [00:00<00:00, 16.73it/s]\n"
     ]
    },
    {
     "name": "stdout",
     "output_type": "stream",
     "text": [
      "The max length of neighbor data line is 1013\n",
      "The max length of neighbor data line is 1013"
     ]
    },
    {
     "name": "stderr",
     "output_type": "stream",
     "text": [
      "  0%|          | 0/2 [00:00<?, ?it/s]"
     ]
    },
    {
     "name": "stdout",
     "output_type": "stream",
     "text": [
      "\n"
     ]
    },
    {
     "name": "stderr",
     "output_type": "stream",
     "text": [
      "100%|██████████| 2/2 [00:00<00:00, 10.38it/s]\n",
      "100%|██████████| 2/2 [00:00<00:00, 10.44it/s]\n",
      "100%|██████████| 2/2 [00:00<00:00, 10.56it/s]"
     ]
    },
    {
     "name": "stdout",
     "output_type": "stream",
     "text": [
      "The max length of neighbor data line is 1013"
     ]
    },
    {
     "name": "stderr",
     "output_type": "stream",
     "text": [
      "\n"
     ]
    },
    {
     "name": "stdout",
     "output_type": "stream",
     "text": [
      "The max length of neighbor data line is 1013\n"
     ]
    },
    {
     "name": "stderr",
     "output_type": "stream",
     "text": [
      "  0%|          | 0/2 [00:00<?, ?it/s]"
     ]
    },
    {
     "name": "stdout",
     "output_type": "stream",
     "text": [
      "The max length of neighbor data line is 1013\n"
     ]
    },
    {
     "name": "stderr",
     "output_type": "stream",
     "text": [
      "  0%|          | 0/2 [00:00<?, ?it/s]"
     ]
    },
    {
     "name": "stdout",
     "output_type": "stream",
     "text": [
      "\n"
     ]
    },
    {
     "name": "stderr",
     "output_type": "stream",
     "text": [
      "100%|██████████| 2/2 [00:00<00:00,  9.98it/s]\n",
      "100%|██████████| 2/2 [00:00<00:00,  8.78it/s]\n"
     ]
    },
    {
     "name": "stdout",
     "output_type": "stream",
     "text": [
      "The max length of neighbor data line is 1013\n",
      "The max length of neighbor data line is 1013"
     ]
    },
    {
     "name": "stderr",
     "output_type": "stream",
     "text": [
      "  0%|          | 0/2 [00:00<?, ?it/s]"
     ]
    },
    {
     "name": "stdout",
     "output_type": "stream",
     "text": [
      "\n"
     ]
    },
    {
     "name": "stderr",
     "output_type": "stream",
     "text": [
      "100%|██████████| 2/2 [00:00<00:00,  9.62it/s]\n",
      "100%|██████████| 2/2 [00:00<00:00,  6.06it/s]\n"
     ]
    },
    {
     "name": "stdout",
     "output_type": "stream",
     "text": [
      "The max length of neighbor data line is 1013\n"
     ]
    },
    {
     "name": "stderr",
     "output_type": "stream",
     "text": [
      "100%|██████████| 2/2 [00:00<00:00,  9.62it/s]\n"
     ]
    },
    {
     "name": "stdout",
     "output_type": "stream",
     "text": [
      "The max length of neighbor data line is 1013\n",
      "The max length of neighbor data line is 1013\n"
     ]
    },
    {
     "name": "stderr",
     "output_type": "stream",
     "text": [
      "100%|██████████| 2/2 [00:00<00:00, 14.26it/s]\n",
      "  0%|          | 0/2 [00:00<?, ?it/s]"
     ]
    },
    {
     "name": "stdout",
     "output_type": "stream",
     "text": [
      "The max length of neighbor data line is 1013\n"
     ]
    },
    {
     "name": "stderr",
     "output_type": "stream",
     "text": [
      "100%|██████████| 2/2 [00:00<00:00,  6.08it/s]\n",
      "100%|██████████| 2/2 [00:00<00:00,  8.65it/s]"
     ]
    },
    {
     "name": "stdout",
     "output_type": "stream",
     "text": [
      "The max length of neighbor data line is 1013"
     ]
    },
    {
     "name": "stderr",
     "output_type": "stream",
     "text": [
      "\n"
     ]
    },
    {
     "name": "stdout",
     "output_type": "stream",
     "text": [
      "\n"
     ]
    },
    {
     "name": "stderr",
     "output_type": "stream",
     "text": [
      "100%|██████████| 2/2 [00:00<00:00,  8.47it/s]\n"
     ]
    },
    {
     "name": "stdout",
     "output_type": "stream",
     "text": [
      "The max length of neighbor data line is 1013\n"
     ]
    },
    {
     "name": "stderr",
     "output_type": "stream",
     "text": [
      "  0%|          | 0/2 [00:00<?, ?it/s]"
     ]
    },
    {
     "name": "stdout",
     "output_type": "stream",
     "text": [
      "The max length of neighbor data line is 1013\n"
     ]
    },
    {
     "name": "stderr",
     "output_type": "stream",
     "text": [
      "100%|██████████| 2/2 [00:00<00:00,  6.16it/s]\n",
      "100%|██████████| 2/2 [00:00<00:00,  8.48it/s]\n"
     ]
    },
    {
     "name": "stdout",
     "output_type": "stream",
     "text": [
      "The max length of neighbor data line is 1013\n"
     ]
    },
    {
     "name": "stderr",
     "output_type": "stream",
     "text": [
      "100%|██████████| 2/2 [00:00<00:00,  8.73it/s]\n"
     ]
    },
    {
     "name": "stdout",
     "output_type": "stream",
     "text": [
      "The max length of neighbor data line is 1013"
     ]
    },
    {
     "name": "stderr",
     "output_type": "stream",
     "text": [
      "100%|██████████| 2/2 [00:00<00:00, 14.80it/s]\n"
     ]
    },
    {
     "name": "stdout",
     "output_type": "stream",
     "text": [
      "\n"
     ]
    },
    {
     "name": "stderr",
     "output_type": "stream",
     "text": [
      "100%|██████████| 2/2 [00:00<00:00,  8.69it/s]"
     ]
    },
    {
     "name": "stdout",
     "output_type": "stream",
     "text": [
      "The max length of neighbor data line is 1013"
     ]
    },
    {
     "name": "stderr",
     "output_type": "stream",
     "text": [
      "\n"
     ]
    },
    {
     "name": "stdout",
     "output_type": "stream",
     "text": [
      "The max length of neighbor data line is 1013\n",
      "\n"
     ]
    },
    {
     "name": "stderr",
     "output_type": "stream",
     "text": [
      "100%|██████████| 2/2 [00:00<00:00,  8.75it/s]"
     ]
    },
    {
     "name": "stdout",
     "output_type": "stream",
     "text": [
      "The max length of neighbor data line is 1013"
     ]
    },
    {
     "name": "stderr",
     "output_type": "stream",
     "text": [
      "\n"
     ]
    },
    {
     "name": "stdout",
     "output_type": "stream",
     "text": [
      "\n"
     ]
    },
    {
     "name": "stderr",
     "output_type": "stream",
     "text": [
      "100%|██████████| 2/2 [00:00<00:00,  8.78it/s]\n",
      "100%|██████████| 2/2 [00:00<00:00,  8.80it/s]\n",
      "100%|██████████| 2/2 [00:00<00:00,  8.90it/s]\n"
     ]
    },
    {
     "name": "stdout",
     "output_type": "stream",
     "text": [
      "The max length of neighbor data line is 1013The max length of neighbor data line is 1013"
     ]
    },
    {
     "name": "stderr",
     "output_type": "stream",
     "text": [
      "100%|██████████| 2/2 [00:00<00:00,  8.77it/s]"
     ]
    },
    {
     "name": "stdout",
     "output_type": "stream",
     "text": [
      "\n",
      "The max length of neighbor data line is 1013\n"
     ]
    },
    {
     "name": "stderr",
     "output_type": "stream",
     "text": [
      "\n"
     ]
    },
    {
     "name": "stdout",
     "output_type": "stream",
     "text": [
      "\n",
      "The max length of neighbor data line is 1013\n"
     ]
    },
    {
     "name": "stderr",
     "output_type": "stream",
     "text": [
      "100%|██████████| 2/2 [00:00<00:00,  8.87it/s]\n"
     ]
    },
    {
     "name": "stdout",
     "output_type": "stream",
     "text": [
      "The max length of neighbor data line is 1013\n"
     ]
    },
    {
     "name": "stderr",
     "output_type": "stream",
     "text": [
      "100%|██████████| 2/2 [00:00<00:00,  8.90it/s]\n"
     ]
    },
    {
     "name": "stdout",
     "output_type": "stream",
     "text": [
      "The max length of neighbor data line is 1013"
     ]
    },
    {
     "name": "stderr",
     "output_type": "stream",
     "text": [
      "100%|██████████| 2/2 [00:00<00:00,  8.91it/s]"
     ]
    },
    {
     "name": "stdout",
     "output_type": "stream",
     "text": [
      "\n"
     ]
    },
    {
     "name": "stderr",
     "output_type": "stream",
     "text": [
      "\n",
      "100%|██████████| 2/2 [00:00<00:00,  8.92it/s]\n",
      "100%|██████████| 2/2 [00:00<00:00,  9.09it/s]"
     ]
    },
    {
     "name": "stdout",
     "output_type": "stream",
     "text": [
      "The max length of neighbor data line is 1013"
     ]
    },
    {
     "name": "stderr",
     "output_type": "stream",
     "text": [
      "\n"
     ]
    },
    {
     "name": "stdout",
     "output_type": "stream",
     "text": [
      "The max length of neighbor data line is 1013\n",
      "\n"
     ]
    },
    {
     "name": "stderr",
     "output_type": "stream",
     "text": [
      "  0%|          | 0/2 [00:00<?, ?it/s]"
     ]
    },
    {
     "name": "stdout",
     "output_type": "stream",
     "text": [
      "The max length of neighbor data line is 1013\n"
     ]
    },
    {
     "name": "stderr",
     "output_type": "stream",
     "text": [
      "100%|██████████| 2/2 [00:00<00:00,  9.37it/s]\n",
      "  0%|          | 0/2 [00:00<?, ?it/s]"
     ]
    },
    {
     "name": "stdout",
     "output_type": "stream",
     "text": [
      "The max length of neighbor data line is 1013"
     ]
    },
    {
     "name": "stderr",
     "output_type": "stream",
     "text": [
      "100%|██████████| 2/2 [00:00<00:00,  9.83it/s]"
     ]
    },
    {
     "name": "stdout",
     "output_type": "stream",
     "text": [
      "The max length of neighbor data line is 1013\n"
     ]
    },
    {
     "name": "stderr",
     "output_type": "stream",
     "text": [
      "\n"
     ]
    },
    {
     "name": "stdout",
     "output_type": "stream",
     "text": [
      "\n"
     ]
    },
    {
     "name": "stderr",
     "output_type": "stream",
     "text": [
      "100%|██████████| 2/2 [00:00<00:00,  9.78it/s]\n"
     ]
    },
    {
     "name": "stdout",
     "output_type": "stream",
     "text": [
      "The max length of neighbor data line is 1013"
     ]
    },
    {
     "name": "stderr",
     "output_type": "stream",
     "text": [
      "  0%|          | 0/2 [00:00<?, ?it/s]"
     ]
    },
    {
     "name": "stdout",
     "output_type": "stream",
     "text": [
      "\n"
     ]
    },
    {
     "name": "stderr",
     "output_type": "stream",
     "text": [
      "100%|██████████| 2/2 [00:00<00:00,  9.81it/s]\n",
      "100%|██████████| 2/2 [00:00<00:00, 10.01it/s]"
     ]
    },
    {
     "name": "stdout",
     "output_type": "stream",
     "text": [
      "The max length of neighbor data line is 1013"
     ]
    },
    {
     "name": "stderr",
     "output_type": "stream",
     "text": [
      "\n"
     ]
    },
    {
     "name": "stdout",
     "output_type": "stream",
     "text": [
      "\n"
     ]
    },
    {
     "name": "stderr",
     "output_type": "stream",
     "text": [
      "100%|██████████| 2/2 [00:00<00:00,  9.56it/s]\n",
      "100%|██████████| 2/2 [00:00<00:00, 10.04it/s]\n"
     ]
    },
    {
     "name": "stdout",
     "output_type": "stream",
     "text": [
      "The max length of neighbor data line is 1013The max length of neighbor data line is 1013\n",
      "\n",
      "The max length of neighbor data line is 1013"
     ]
    },
    {
     "name": "stderr",
     "output_type": "stream",
     "text": [
      "  0%|          | 0/2 [00:00<?, ?it/s]"
     ]
    },
    {
     "name": "stdout",
     "output_type": "stream",
     "text": [
      "\n",
      "The max length of neighbor data line is 1013"
     ]
    },
    {
     "name": "stderr",
     "output_type": "stream",
     "text": [
      "  0%|          | 0/2 [00:00<?, ?it/s]"
     ]
    },
    {
     "name": "stdout",
     "output_type": "stream",
     "text": [
      "\n"
     ]
    },
    {
     "name": "stderr",
     "output_type": "stream",
     "text": [
      "100%|██████████| 2/2 [00:00<00:00, 10.62it/s]\n",
      "100%|██████████| 2/2 [00:00<00:00, 10.75it/s]"
     ]
    },
    {
     "name": "stdout",
     "output_type": "stream",
     "text": [
      "The max length of neighbor data line is 1013"
     ]
    },
    {
     "name": "stderr",
     "output_type": "stream",
     "text": [
      "\n"
     ]
    },
    {
     "name": "stdout",
     "output_type": "stream",
     "text": [
      "\n"
     ]
    },
    {
     "name": "stderr",
     "output_type": "stream",
     "text": [
      "  0%|          | 0/2 [00:00<?, ?it/s]"
     ]
    },
    {
     "name": "stdout",
     "output_type": "stream",
     "text": [
      "The max length of neighbor data line is 1013\n"
     ]
    },
    {
     "name": "stderr",
     "output_type": "stream",
     "text": [
      "100%|██████████| 2/2 [00:00<00:00, 10.64it/s]\n"
     ]
    },
    {
     "name": "stdout",
     "output_type": "stream",
     "text": [
      "The max length of neighbor data line is 1013"
     ]
    },
    {
     "name": "stderr",
     "output_type": "stream",
     "text": [
      "  0%|          | 0/2 [00:00<?, ?it/s]"
     ]
    },
    {
     "name": "stdout",
     "output_type": "stream",
     "text": [
      "\n"
     ]
    },
    {
     "name": "stderr",
     "output_type": "stream",
     "text": [
      "100%|██████████| 2/2 [00:00<00:00, 10.84it/s]\n",
      "100%|██████████| 2/2 [00:00<00:00, 10.84it/s]\n"
     ]
    },
    {
     "name": "stdout",
     "output_type": "stream",
     "text": [
      "The max length of neighbor data line is 1013"
     ]
    },
    {
     "name": "stderr",
     "output_type": "stream",
     "text": [
      "100%|██████████| 2/2 [00:00<00:00, 11.60it/s]"
     ]
    },
    {
     "name": "stdout",
     "output_type": "stream",
     "text": [
      "\n"
     ]
    },
    {
     "name": "stderr",
     "output_type": "stream",
     "text": [
      "\n"
     ]
    },
    {
     "name": "stdout",
     "output_type": "stream",
     "text": [
      "The max length of neighbor data line is 1013\n"
     ]
    },
    {
     "name": "stderr",
     "output_type": "stream",
     "text": [
      "100%|██████████| 2/2 [00:00<00:00, 11.93it/s]"
     ]
    },
    {
     "name": "stdout",
     "output_type": "stream",
     "text": [
      "The max length of neighbor data line is 1013"
     ]
    },
    {
     "name": "stderr",
     "output_type": "stream",
     "text": [
      "\n"
     ]
    },
    {
     "name": "stdout",
     "output_type": "stream",
     "text": [
      "\n"
     ]
    },
    {
     "name": "stderr",
     "output_type": "stream",
     "text": [
      "100%|██████████| 2/2 [00:00<00:00, 12.21it/s]\n"
     ]
    },
    {
     "name": "stdout",
     "output_type": "stream",
     "text": [
      "The max length of neighbor data line is 909\n"
     ]
    },
    {
     "name": "stderr",
     "output_type": "stream",
     "text": [
      "100%|██████████| 2/2 [00:00<00:00, 12.37it/s]\n"
     ]
    },
    {
     "name": "stdout",
     "output_type": "stream",
     "text": [
      "The max length of neighbor data line is 1013"
     ]
    },
    {
     "name": "stderr",
     "output_type": "stream",
     "text": [
      "100%|██████████| 2/2 [00:00<00:00, 12.09it/s]"
     ]
    },
    {
     "name": "stdout",
     "output_type": "stream",
     "text": [
      "\n"
     ]
    },
    {
     "name": "stderr",
     "output_type": "stream",
     "text": [
      "\n"
     ]
    },
    {
     "name": "stdout",
     "output_type": "stream",
     "text": [
      "The max length of neighbor data line is 1013"
     ]
    },
    {
     "name": "stderr",
     "output_type": "stream",
     "text": [
      "100%|██████████| 2/2 [00:00<00:00,  6.88it/s]"
     ]
    },
    {
     "name": "stdout",
     "output_type": "stream",
     "text": [
      "\n"
     ]
    },
    {
     "name": "stderr",
     "output_type": "stream",
     "text": [
      "\n"
     ]
    },
    {
     "name": "stdout",
     "output_type": "stream",
     "text": [
      "The max length of neighbor data line is 1013\n"
     ]
    },
    {
     "name": "stderr",
     "output_type": "stream",
     "text": [
      "  0%|          | 0/2 [00:00<?, ?it/s]"
     ]
    },
    {
     "name": "stdout",
     "output_type": "stream",
     "text": [
      "The max length of neighbor data line is 1013\n"
     ]
    },
    {
     "name": "stderr",
     "output_type": "stream",
     "text": [
      "100%|██████████| 2/2 [00:00<00:00, 14.69it/s]\n",
      "100%|██████████| 2/2 [00:00<00:00, 14.71it/s]\n"
     ]
    },
    {
     "name": "stdout",
     "output_type": "stream",
     "text": [
      "The max length of neighbor data line is 1013\n"
     ]
    },
    {
     "name": "stderr",
     "output_type": "stream",
     "text": [
      "100%|██████████| 2/2 [00:00<00:00, 15.24it/s]\n"
     ]
    },
    {
     "name": "stdout",
     "output_type": "stream",
     "text": [
      "The max length of neighbor data line is 1013"
     ]
    },
    {
     "name": "stderr",
     "output_type": "stream",
     "text": [
      "100%|██████████| 2/2 [00:00<00:00, 15.31it/s]"
     ]
    },
    {
     "name": "stdout",
     "output_type": "stream",
     "text": [
      "\n"
     ]
    },
    {
     "name": "stderr",
     "output_type": "stream",
     "text": [
      "\n",
      "100%|██████████| 2/2 [00:00<00:00, 15.56it/s]\n"
     ]
    },
    {
     "name": "stdout",
     "output_type": "stream",
     "text": [
      "The max length of neighbor data line is 1013\n"
     ]
    },
    {
     "name": "stderr",
     "output_type": "stream",
     "text": [
      "  0%|          | 0/2 [00:00<?, ?it/s]"
     ]
    },
    {
     "name": "stdout",
     "output_type": "stream",
     "text": [
      "The max length of neighbor data line is 1013\n"
     ]
    },
    {
     "name": "stderr",
     "output_type": "stream",
     "text": [
      "100%|██████████| 2/2 [00:00<00:00,  8.17it/s]\n",
      "100%|██████████| 2/2 [00:00<00:00,  9.34it/s]"
     ]
    },
    {
     "name": "stdout",
     "output_type": "stream",
     "text": [
      "The max length of neighbor data line is 1013"
     ]
    },
    {
     "name": "stderr",
     "output_type": "stream",
     "text": [
      "\n"
     ]
    },
    {
     "name": "stdout",
     "output_type": "stream",
     "text": [
      "\n"
     ]
    },
    {
     "name": "stderr",
     "output_type": "stream",
     "text": [
      "100%|██████████| 2/2 [00:00<00:00, 18.63it/s]\n"
     ]
    },
    {
     "name": "stdout",
     "output_type": "stream",
     "text": [
      "The max length of neighbor data line is 1013"
     ]
    },
    {
     "name": "stderr",
     "output_type": "stream",
     "text": [
      "100%|██████████| 2/2 [00:00<00:00, 18.71it/s]"
     ]
    },
    {
     "name": "stdout",
     "output_type": "stream",
     "text": [
      "\n"
     ]
    },
    {
     "name": "stderr",
     "output_type": "stream",
     "text": [
      "\n"
     ]
    },
    {
     "name": "stdout",
     "output_type": "stream",
     "text": [
      "The max length of neighbor data line is 1013\n"
     ]
    },
    {
     "name": "stderr",
     "output_type": "stream",
     "text": [
      "100%|██████████| 2/2 [00:00<00:00, 19.16it/s]\n",
      "100%|██████████| 2/2 [00:00<00:00, 20.89it/s]\n"
     ]
    },
    {
     "name": "stdout",
     "output_type": "stream",
     "text": [
      "The max length of neighbor data line is 1013\n",
      "The max length of neighbor data line is 1013The max length of neighbor data line is 1013"
     ]
    },
    {
     "name": "stderr",
     "output_type": "stream",
     "text": [
      "  0%|          | 0/2 [00:00<?, ?it/s]"
     ]
    },
    {
     "name": "stdout",
     "output_type": "stream",
     "text": [
      "\n",
      "The max length of neighbor data line is 1013\n",
      "\n"
     ]
    },
    {
     "name": "stderr",
     "output_type": "stream",
     "text": [
      "100%|██████████| 2/2 [00:00<00:00, 20.64it/s]\n",
      "100%|██████████| 2/2 [00:00<00:00, 21.56it/s]"
     ]
    },
    {
     "name": "stdout",
     "output_type": "stream",
     "text": [
      "The max length of neighbor data line is 935"
     ]
    },
    {
     "name": "stderr",
     "output_type": "stream",
     "text": [
      "\n"
     ]
    },
    {
     "name": "stdout",
     "output_type": "stream",
     "text": [
      "\n"
     ]
    },
    {
     "name": "stderr",
     "output_type": "stream",
     "text": [
      "100%|██████████| 2/2 [00:00<00:00, 27.65it/s]\n",
      "  0%|          | 0/2 [00:00<?, ?it/s]"
     ]
    },
    {
     "name": "stdout",
     "output_type": "stream",
     "text": [
      "The max length of neighbor data line is 1013The max length of neighbor data line is 1013\n",
      "\n"
     ]
    },
    {
     "name": "stderr",
     "output_type": "stream",
     "text": [
      "100%|██████████| 2/2 [00:00<00:00, 16.23it/s]\n",
      "100%|██████████| 2/2 [00:00<00:00, 19.66it/s]\n",
      "100%|██████████| 2/2 [00:00<00:00, 21.30it/s]\n"
     ]
    },
    {
     "name": "stdout",
     "output_type": "stream",
     "text": [
      "The max length of neighbor data line is 1013"
     ]
    },
    {
     "name": "stderr",
     "output_type": "stream",
     "text": [
      "100%|██████████| 2/2 [00:00<00:00, 23.14it/s]"
     ]
    },
    {
     "name": "stdout",
     "output_type": "stream",
     "text": [
      "\n"
     ]
    },
    {
     "name": "stderr",
     "output_type": "stream",
     "text": [
      "\n"
     ]
    },
    {
     "name": "stdout",
     "output_type": "stream",
     "text": [
      "The max length of neighbor data line is 1013"
     ]
    },
    {
     "name": "stderr",
     "output_type": "stream",
     "text": [
      "100%|██████████| 2/2 [00:00<00:00, 23.29it/s]"
     ]
    },
    {
     "name": "stdout",
     "output_type": "stream",
     "text": [
      "\n"
     ]
    },
    {
     "name": "stderr",
     "output_type": "stream",
     "text": [
      "\n"
     ]
    },
    {
     "name": "stdout",
     "output_type": "stream",
     "text": [
      "The max length of neighbor data line is 1013\n"
     ]
    },
    {
     "name": "stderr",
     "output_type": "stream",
     "text": [
      "100%|██████████| 2/2 [00:00<00:00, 24.31it/s]\n"
     ]
    },
    {
     "name": "stdout",
     "output_type": "stream",
     "text": [
      "The max length of neighbor data line is 1013\n"
     ]
    },
    {
     "name": "stderr",
     "output_type": "stream",
     "text": [
      "100%|██████████| 2/2 [00:00<00:00, 24.96it/s]\n"
     ]
    },
    {
     "name": "stdout",
     "output_type": "stream",
     "text": [
      "The max length of neighbor data line is 1013The max length of neighbor data line is 1013"
     ]
    },
    {
     "name": "stderr",
     "output_type": "stream",
     "text": [
      "  0%|          | 0/2 [00:00<?, ?it/s]"
     ]
    },
    {
     "name": "stdout",
     "output_type": "stream",
     "text": [
      "\n",
      "\n"
     ]
    },
    {
     "name": "stderr",
     "output_type": "stream",
     "text": [
      "100%|██████████| 2/2 [00:00<00:00, 29.16it/s]\n",
      "100%|██████████| 2/2 [00:00<00:00, 32.96it/s]\n",
      "100%|██████████| 2/2 [00:00<00:00, 33.25it/s]\n"
     ]
    },
    {
     "name": "stdout",
     "output_type": "stream",
     "text": [
      "The max length of neighbor data line is 1013\n"
     ]
    },
    {
     "name": "stderr",
     "output_type": "stream",
     "text": [
      "100%|██████████| 2/2 [00:00<00:00, 40.11it/s]\n"
     ]
    },
    {
     "name": "stdout",
     "output_type": "stream",
     "text": [
      "The max length of neighbor data line is 1013\n"
     ]
    },
    {
     "name": "stderr",
     "output_type": "stream",
     "text": [
      "100%|██████████| 2/2 [00:00<00:00, 44.74it/s]"
     ]
    },
    {
     "name": "stdout",
     "output_type": "stream",
     "text": [
      "The max length of neighbor data line is 1013"
     ]
    },
    {
     "name": "stderr",
     "output_type": "stream",
     "text": [
      "\n"
     ]
    },
    {
     "name": "stdout",
     "output_type": "stream",
     "text": [
      "\n",
      "The max length of neighbor data line is 1013\n",
      "The max length of neighbor data line is 1013\n",
      "The max length of neighbor data line is 1013\n"
     ]
    },
    {
     "name": "stderr",
     "output_type": "stream",
     "text": [
      "100%|██████████| 2/2 [00:00<00:00, 68.55it/s]\n"
     ]
    },
    {
     "name": "stdout",
     "output_type": "stream",
     "text": [
      "The max length of neighbor data line is 987\n"
     ]
    },
    {
     "name": "stderr",
     "output_type": "stream",
     "text": [
      "Concatenating : 100%|██████████| 128/128 [00:00<00:00, 529.56it/s]\n"
     ]
    },
    {
     "name": "stdout",
     "output_type": "stream",
     "text": [
      "> Neighbors end writing\n",
      "> Values start writing\n",
      "> Values read done\n",
      "> Values end writing\n"
     ]
    }
   ],
   "source": [
    "if __name__ == '__main__':\n",
    "    \"\"\"\n",
    "    NEIGHBOR FILE GENERATION SECTION\n",
    "    ================================\n",
    "    \n",
    "    This section generates SPPARKS neighbor connectivity files required for\n",
    "    anisotropic grain boundary energy simulations. The neighbor file defines\n",
    "    the spatial interaction network for Monte Carlo grain growth calculations.\n",
    "    \n",
    "    Key Parameters:\n",
    "    - interval: Determines neighbor interaction range and physics accuracy\n",
    "    - box_size: Must match the simulation domain dimensions exactly\n",
    "    - multiprocessing: Enables efficient processing of large 3D domains\n",
    "    \"\"\"\n",
    "\n",
    "    # =================================================================\n",
    "    # NEIGHBOR CONNECTIVITY PARAMETERS\n",
    "    # =================================================================\n",
    "    \n",
    "    # Neighbor interaction range for grain boundary calculations\n",
    "    # interval = 5: Creates 10^3 - 1 = 999 neighbors per site (3D)\n",
    "    # Larger intervals capture longer-range anisotropic interactions\n",
    "    # but increase computational cost and memory requirements\n",
    "    interval = 5\n",
    "    \n",
    "    # Domain geometry specification\n",
    "    # For 2D simulations: box_size = [Lx, Ly, 1] \n",
    "    # For 3D simulations: box_size = [Lx, Ly, Lz]\n",
    "    box_size = np.array([256, 256, 1])  # 2D domain: 256x256 with Lz=1\n",
    "    \n",
    "    print(f\"Generating neighbor file for {box_size} domain with interval={interval}\")\n",
    "    print(f\"Expected neighbors per site: {(2*interval+3)**len(box_size[box_size>1])-1}\")\n",
    "    \n",
    "    # =================================================================\n",
    "    # MULTIPROCESSING NEIGHBOR FILE GENERATION  \n",
    "    # =================================================================\n",
    "    \n",
    "    # Generate neighbor connectivity using optimized multiprocessing algorithm\n",
    "    # This function handles:\n",
    "    # 1. Periodic boundary condition calculations\n",
    "    # 2. Memory-efficient chunked processing \n",
    "    # 3. Parallel computation across CPU cores\n",
    "    # 4. File I/O optimization for large datasets\n",
    "    output_neighbr_init = post_processing.output_init_neighbor_from_init_mp(\n",
    "        interval,                                    # Neighbor interaction range\n",
    "        box_size,                                    # Domain dimensions [Lx, Ly, Lz]\n",
    "        init_file_folder + init_file_name,          # Input: Grain orientation data\n",
    "        init_file_folder + init_file_name_final     # Output: Complete neighbor file\n",
    "    )\n",
    "    \n",
    "    # Alternative single-threaded version for debugging or small domains:\n",
    "    # output_neighbr_init = output_init_neighbor_from_init(\n",
    "    #     interval, \n",
    "    #     box_size, \n",
    "    #     init_file_folder + init_file_name, \n",
    "    #     init_file_folder + init_file_name_final + \"_test\"\n",
    "    # )\n",
    "    \n",
    "    # =================================================================\n",
    "    # COMPLETION STATUS AND NEXT STEPS\n",
    "    # =================================================================\n",
    "    \n",
    "    if output_neighbr_init:\n",
    "        print(\"✓ Neighbor file generation completed successfully!\")\n",
    "        print(f\"✓ Output file: {init_file_folder + init_file_name_final}\")\n",
    "        print(\"\\nNext steps:\")\n",
    "        print(\"1. Verify neighbor file format compatibility with SPPARKS\")\n",
    "        print(\"2. Configure anisotropic grain boundary energy parameters\")  \n",
    "        print(\"3. Run SPPARKS simulation with generated neighbor connectivity\")\n",
    "        print(\"4. Monitor grain growth evolution and boundary migration\")\n",
    "    else:\n",
    "        print(\"✗ Neighbor file generation failed!\")\n",
    "        print(\"Check input file paths and domain size parameters.\")"
   ]
  }
 ],
 "metadata": {
  "kernelspec": {
   "display_name": "UFRC Python-3.10",
   "language": "python",
   "name": "python3-3.10-ufrc"
  },
  "language_info": {
   "codemirror_mode": {
    "name": "ipython",
    "version": 3
   },
   "file_extension": ".py",
   "mimetype": "text/x-python",
   "name": "python",
   "nbconvert_exporter": "python",
   "pygments_lexer": "ipython3",
   "version": "3.10.8"
  }
 },
 "nbformat": 4,
 "nbformat_minor": 4
}
