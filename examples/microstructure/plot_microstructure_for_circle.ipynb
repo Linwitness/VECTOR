{
 "cells": [
  {
   "cell_type": "code",
   "execution_count": 2,
   "id": "5b8a3601-a656-46c2-bb1a-8da4cb462306",
   "metadata": {
    "tags": []
   },
   "outputs": [],
   "source": [
    "\n",
    "import os\n",
    "current_path = os.getcwd()\n",
    "import numpy as np\n",
    "from numpy import seterr\n",
    "seterr(all='raise')\n",
    "import matplotlib.pyplot as plt\n",
    "import math\n",
    "import random\n",
    "from tqdm import tqdm\n",
    "import sys\n",
    "sys.path.append(current_path)\n",
    "sys.path.append(current_path+'/../../')\n",
    "import myInput\n",
    "import PACKAGE_MP_Linear as linear2d\n",
    "sys.path.append(current_path+'/../calculate_tangent/')"
   ]
  },
  {
   "cell_type": "code",
   "execution_count": 3,
   "id": "6eaef815-105f-4d87-89fa-238dcd31249d",
   "metadata": {
    "tags": []
   },
   "outputs": [],
   "source": [
    "\n",
    "def plot_structure_figure(step, structure_figure, figure_path):\n",
    "\n",
    "    plt.close()\n",
    "    fig, ax = plt.subplots()\n",
    "\n",
    "    cv_initial = np.squeeze(structure_figure[0])\n",
    "    cv0 = np.squeeze(structure_figure[step])\n",
    "    cv0 = np.rot90(cv0,1)\n",
    "    im = ax.imshow(cv0,vmin=np.min(cv_initial),vmax=np.max(cv_initial),cmap='gray_r',interpolation='none') #jet rainbow plasma\n",
    "    # cb = fig.colorbar(im)\n",
    "    # cb.ax.tick_params(labelsize=20)\n",
    "    ax.axes.get_xaxis().set_ticks([])\n",
    "    ax.axes.get_yaxis().set_ticks([])\n",
    "    ax.tick_params(which = 'both', size = 0, labelsize = 0)\n",
    "\n",
    "    plt.savefig(figure_path + f\"_ts{step*30}.png\", dpi=400,bbox_inches='tight')\n",
    "\n"
   ]
  },
  {
   "cell_type": "code",
   "execution_count": 6,
   "id": "ecb29010-2925-4f43-bf6b-038c2536f60f",
   "metadata": {
    "tags": []
   },
   "outputs": [
    {
     "name": "stdout",
     "output_type": "stream",
     "text": [
      "The CosMax1Mobility data size is: (161, 512, 512, 1)\n",
      "Figure CosMax1Mobility done\n"
     ]
    },
    {
     "data": {
      "image/png": "[encoded data removed]",
      "text/plain": [
       "<Figure size 432x288 with 1 Axes>"
      ]
     },
     "metadata": {},
     "output_type": "display_data"
    }
   ],
   "source": [
    "\n",
    "if __name__ == '__main__':\n",
    "    # File name\n",
    "    npy_file_folder = \"/blue/michael.tonks/lin.yang/SPPARKS-VirtualIncEnergy/2d_poly_wellEnergy/results/\"\n",
    "    \n",
    "    file_types_name = [\"CosMax1Mobility\"]\n",
    "    energy_types = [\"CosMax1Mobility\"]\n",
    "    energy_delta = [\"0.8\"]\n",
    "    \n",
    "    for i in range(len(file_types_name)):\n",
    "        npy_file_name = f\"p_aveE_2_{energy_types[i]}_delta{energy_delta[i]}_J1_refer_1_0_0_seed56689_kt0.66.npy\"\n",
    "        npy_file = np.load(npy_file_folder + npy_file_name)\n",
    "        print(f\"The {file_types_name[i]} data size is: {npy_file.shape}\")\n",
    "        \n",
    "        # Initial container\n",
    "        initial_grain_num = 2\n",
    "        step_num = npy_file.shape[0]\n",
    "        \n",
    "        # Set the expected step\n",
    "        special_step = int(2100/30)\n",
    "        \n",
    "        # Start microstructure figure\n",
    "        figure_path = current_path + f\"/microstructure_figures/microstructure_circle_inclination_{file_types_name[i]}\"\n",
    "        plot_structure_figure(special_step, npy_file[:,:,:,0], figure_path)\n",
    "        print(f\"Figure {file_types_name[i]} done\")\n",
    "    \n",
    "    \n",
    "    \n",
    "    "
   ]
  },
  {
   "cell_type": "code",
   "execution_count": null,
   "id": "97200606-5676-442c-8dd8-badcc38a6c56",
   "metadata": {},
   "outputs": [],
   "source": []
  },
  {
   "cell_type": "code",
   "execution_count": null,
   "id": "fd079f2f-56a3-4127-81fe-c06cf4b61e09",
   "metadata": {},
   "outputs": [],
   "source": []
  },
  {
   "cell_type": "code",
   "execution_count": null,
   "id": "eaf84cd4-b873-4a47-914a-a44348b1a809",
   "metadata": {},
   "outputs": [],
   "source": []
  }
 ],
 "metadata": {
  "kernelspec": {
   "display_name": "UFRC Python-3.8",
   "language": "python",
   "name": "python3-3.8-ufrc"
  },
  "language_info": {
   "codemirror_mode": {
    "name": "ipython",
    "version": 3
   },
   "file_extension": ".py",
   "mimetype": "text/x-python",
   "name": "python",
   "nbconvert_exporter": "python",
   "pygments_lexer": "ipython3",
   "version": "3.8.15"
  }
 },
 "nbformat": 4,
 "nbformat_minor": 5
}
