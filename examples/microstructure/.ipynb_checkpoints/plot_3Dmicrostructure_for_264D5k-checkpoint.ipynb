{
 "cells": [
  {
   "cell_type": "code",
   "execution_count": 17,
   "id": "c8f46139-d2db-4486-8ca2-534692f69a34",
   "metadata": {},
   "outputs": [
    {
     "data": {
      "text/plain": [
       "<module 'post_processing' from '/home/lin.yang/projects/VECTOR/examples/microstructure/../../post_processing.py'>"
      ]
     },
     "execution_count": 17,
     "metadata": {},
     "output_type": "execute_result"
    }
   ],
   "source": [
    "import os\n",
    "current_path = os.getcwd()\n",
    "import numpy as np\n",
    "from numpy import seterr\n",
    "seterr(all='raise')\n",
    "import matplotlib.pyplot as plt\n",
    "import math\n",
    "import random\n",
    "from tqdm import tqdm\n",
    "import sys\n",
    "sys.path.append(current_path)\n",
    "sys.path.append(current_path+'/../../')\n",
    "import myInput\n",
    "import PACKAGE_MP_Linear as linear2d\n",
    "import post_processing\n",
    "sys.path.append(current_path+'/../calculate_tangent/')\n",
    "\n",
    "import importlib\n",
    "importlib.reload(post_processing)\n"
   ]
  },
  {
   "cell_type": "code",
   "execution_count": 7,
   "id": "2ec55706-1e54-46a5-9c0f-0f3d6f5b685e",
   "metadata": {},
   "outputs": [
    {
     "name": "stdout",
     "output_type": "stream",
     "text": [
      "The 264_5k data size is: (57, 264, 264, 264)\n",
      "READING DATA DONE\n"
     ]
    }
   ],
   "source": [
    "if __name__ == '__main__':\n",
    "    # File name\n",
    "    npy_file_folder = \"/blue/michael.tonks/lin.yang/SPPARKS-VirtualIncEnergy/3d_poly_fully/results/\"\n",
    "    data_type = \"264_5k\"\n",
    "    npy_file_name_aniso = f\"p_ori_fully5d_fz_aveE_f1.0_t1.0_{data_type}_multiCore64_J1_refer_1_0_0_seed56689_kt1.95.npy\"\n",
    "    \n",
    "    # Initial data\n",
    "    npy_file_aniso = np.load(npy_file_folder + npy_file_name_aniso)\n",
    "    print(f\"The {data_type} data size is: {npy_file_aniso.shape}\")\n",
    "    print(\"READING DATA DONE\")\n",
    "\n",
    "    \n",
    "    "
   ]
  },
  {
   "cell_type": "code",
   "execution_count": null,
   "id": "97c9f584-c320-4991-a32c-1e8acc0bdac3",
   "metadata": {},
   "outputs": [],
   "source": [
    "    # necessary data\n",
    "    steps_num = len(npy_file_aniso)\n",
    "    time_steps = np.linspace(0,steps_num-1,steps_num)*2\n",
    "    depth_list0 = list(map(int,np.linspace(0,npy_file_aniso.shape[1]-1,11)))\n",
    "    depth_list1 = list(map(int,np.linspace(0,npy_file_aniso.shape[2]-1,11)))\n",
    "    depth_list2 = list(map(int,np.linspace(0,npy_file_aniso.shape[3]-1,11)))\n",
    "    \n",
    "    # Start microstructure figure\n",
    "    dimension_list = [0,1,2]\n",
    "    for dimension in dimension_list:\n",
    "        for depth in depth_list2:\n",
    "            figure_path = current_path + f\"/figures/3Dmicrostructure_264D5k_dimension{dimension}_depth{depth}\"\n",
    "            post_processing.plot_structure_video(time_steps, npy_file_aniso, figure_path, dimension, depth)"
   ]
  },
  {
   "cell_type": "code",
   "execution_count": 24,
   "id": "9f5bea90-7bd2-47e5-9a21-6b6d8c6e8846",
   "metadata": {},
   "outputs": [
    {
     "data": {
      "text/plain": [
       "[0, 26, 52, 79, 105, 132, 158, 184, 211, 237, 264]"
      ]
     },
     "execution_count": 24,
     "metadata": {},
     "output_type": "execute_result"
    }
   ],
   "source": []
  },
  {
   "cell_type": "code",
   "execution_count": null,
   "id": "0f7af3a3-c9eb-4aa0-adba-bae99ef69bf6",
   "metadata": {},
   "outputs": [],
   "source": []
  }
 ],
 "metadata": {
  "kernelspec": {
   "display_name": "UFRC Python-3.8",
   "language": "python",
   "name": "python3-3.8-ufrc"
  },
  "language_info": {
   "codemirror_mode": {
    "name": "ipython",
    "version": 3
   },
   "file_extension": ".py",
   "mimetype": "text/x-python",
   "name": "python",
   "nbconvert_exporter": "python",
   "pygments_lexer": "ipython3",
   "version": "3.8.15"
  }
 },
 "nbformat": 4,
 "nbformat_minor": 5
}
