{
 "cells": [
  {
   "cell_type": "code",
   "execution_count": 1,
   "id": "2947bb12-3d67-479e-934b-ff9fd85fad5b",
   "metadata": {
    "tags": []
   },
   "outputs": [],
   "source": [
    "\n",
    "import os\n",
    "current_path = os.getcwd()\n",
    "import numpy as np\n",
    "from numpy import seterr\n",
    "seterr(all='raise')\n",
    "import matplotlib.pyplot as plt\n",
    "import math\n",
    "import random\n",
    "from tqdm import tqdm\n",
    "import sys\n",
    "sys.path.append(current_path)\n",
    "sys.path.append(current_path+'/../../')\n",
    "import myInput\n",
    "import PACKAGE_MP_Linear as linear2d\n",
    "import post_processing\n",
    "sys.path.append(current_path+'/../calculate_tangent/')\n"
   ]
  },
  {
   "cell_type": "code",
   "execution_count": 2,
   "id": "515ebded-e1da-43eb-b4f9-a9f923a56f3a",
   "metadata": {
    "tags": []
   },
   "outputs": [],
   "source": [
    "\n",
    "def plot_structure_figure(step, structure_figure, figure_path):\n",
    "\n",
    "    plt.close()\n",
    "    fig, ax = plt.subplots()\n",
    "\n",
    "    cv_initial = np.squeeze(structure_figure[0])\n",
    "    cv0 = np.squeeze(structure_figure[step])\n",
    "    cv0 = np.rot90(cv0,1)\n",
    "    im = ax.imshow(cv0,vmin=np.min(cv_initial),vmax=np.max(cv_initial),cmap='rainbow',interpolation='none') #jet rainbow plasma\n",
    "    # cb = fig.colorbar(im)\n",
    "    # cb.set_ticks([10000,20000])\n",
    "    # cb.set_ticklabels([ '1e4', '2e4'])\n",
    "    # cb.ax.tick_params(labelsize=20)\n",
    "    ax.axes.get_xaxis().set_ticks([])\n",
    "    ax.axes.get_yaxis().set_ticks([])\n",
    "    ax.tick_params(which = 'both', size = 0, labelsize = 0)\n",
    "\n",
    "    plt.savefig(figure_path + f\"_ts{step*30}.png\", dpi=400,bbox_inches='tight')\n",
    "\n"
   ]
  },
  {
   "cell_type": "code",
   "execution_count": null,
   "id": "8539b6d4-d374-4c0f-97f1-5ccd31a439ad",
   "metadata": {
    "tags": []
   },
   "outputs": [
    {
     "name": "stdout",
     "output_type": "stream",
     "text": [
      "The Iso data size is: (201, 2400, 2400, 1)\n"
     ]
    },
    {
     "name": "stderr",
     "output_type": "stream",
     "text": [
      " 23%|██▎       | 46/201 [00:07<00:25,  5.98it/s]\n"
     ]
    },
    {
     "name": "stdout",
     "output_type": "stream",
     "text": [
      "The Well data size is: (201, 2400, 2400, 1)\n"
     ]
    },
    {
     "name": "stderr",
     "output_type": "stream",
     "text": [
      " 22%|██▏       | 44/201 [00:07<00:26,  5.93it/s]\n"
     ]
    },
    {
     "name": "stdout",
     "output_type": "stream",
     "text": [
      "The Cos data size is: (201, 2400, 2400, 1)\n"
     ]
    },
    {
     "name": "stderr",
     "output_type": "stream",
     "text": [
      " 22%|██▏       | 45/201 [00:07<00:27,  5.75it/s]\n"
     ]
    }
   ],
   "source": [
    "\n",
    "if __name__ == '__main__':\n",
    "    # File name\n",
    "    npy_file_folder = \"/blue/michael.tonks/lin.yang/SPPARKS-VirtualIncEnergy/2d_poly_wellEnergy/results/\"\n",
    "    \n",
    "    file_types_name = [\"Iso\", \"Well\", \"Cos\", \"CosMin1\", \"CosMax1Mobility\"]\n",
    "    energy_types = [\"Cos\", \"Well\", \"Cos\", \"CosMin1\", \"CosMax1Mobility\"]\n",
    "    energy_delta = [\"0.0\", \"0.8\", \"0.8\", \"0.8\", \"0.8\"]\n",
    "    \n",
    "    for i in range(len(file_types_name)):\n",
    "        npy_file_name = f\"p_aveE_20000_{energy_types[i]}_delta{energy_delta[i]}_J1_refer_1_0_0_seed56689_kt0.66.npy\"\n",
    "        npy_file = np.load(npy_file_folder + npy_file_name)\n",
    "        print(f\"The {file_types_name[i]} data size is: {npy_file.shape}\")\n",
    "        \n",
    "        # Initial container\n",
    "        initial_grain_num = 20000\n",
    "        step_num = npy_file.shape[0]\n",
    "        \n",
    "        expected_grain_num = 1000\n",
    "        # Calculate the number of grains\n",
    "        grain_num_array = np.zeros(expected_grain_num)\n",
    "        for i in tqdm(range(step_num)):\n",
    "            current_grain_num = len(np.unique(npy_file[i,:]))  \n",
    "            grain_num_array[i] = current_grain_num\n",
    "            if current_grain_num < expected_grain_num/2: break\n",
    "        # Calculate the expected step\n",
    "        special_step = np.argmin(abs(grain_num_array - expected_grain_num))\n",
    "        \n",
    "        # Start microstructure figure\n",
    "        figure_path = current_path + f\"/microstructure_figures/microstructure_poly20k_inclination_{npy_file_name[i]}\"\n",
    "        plot_structure_figure(special_step, npy_file[:,:,:,0], figure_path)\n",
    "        print(f\"Figure {file_types_name[i]} done\")\n",
    "    \n",
    "    \n",
    "    \n",
    "    "
   ]
  },
  {
   "cell_type": "code",
   "execution_count": null,
   "id": "a0345993-da4e-4195-8c56-a549fbbfd8af",
   "metadata": {
    "tags": []
   },
   "outputs": [],
   "source": []
  },
  {
   "cell_type": "code",
   "execution_count": null,
   "id": "5b5474a7-5319-44e3-948f-b1ab33d2ef59",
   "metadata": {},
   "outputs": [],
   "source": []
  },
  {
   "cell_type": "code",
   "execution_count": null,
   "id": "8d07a1c8-cbbe-4962-8156-cd55bd5cc908",
   "metadata": {},
   "outputs": [],
   "source": []
  },
  {
   "cell_type": "code",
   "execution_count": null,
   "id": "151b35ef-bfb1-412b-94fb-d1b78e9dc97e",
   "metadata": {},
   "outputs": [],
   "source": []
  },
  {
   "cell_type": "code",
   "execution_count": null,
   "id": "440759c8-4a1d-476d-b6d8-a12bb45f7e29",
   "metadata": {},
   "outputs": [],
   "source": []
  },
  {
   "cell_type": "code",
   "execution_count": null,
   "id": "b2811b1f-c988-400e-b395-a75c9d7837f3",
   "metadata": {},
   "outputs": [],
   "source": []
  },
  {
   "cell_type": "code",
   "execution_count": null,
   "id": "94dd97a8-3b45-4182-8f07-a90d15b29adf",
   "metadata": {},
   "outputs": [],
   "source": []
  },
  {
   "cell_type": "code",
   "execution_count": null,
   "id": "540f3761-8417-4165-9938-760847387b9f",
   "metadata": {
    "tags": []
   },
   "outputs": [],
   "source": []
  },
  {
   "cell_type": "code",
   "execution_count": null,
   "id": "b68c5d16-6c49-4687-a6b1-6e562fb3a192",
   "metadata": {},
   "outputs": [],
   "source": []
  }
 ],
 "metadata": {
  "kernelspec": {
   "display_name": "UFRC Python-3.8",
   "language": "python",
   "name": "python3-3.8-ufrc"
  },
  "language_info": {
   "codemirror_mode": {
    "name": "ipython",
    "version": 3
   },
   "file_extension": ".py",
   "mimetype": "text/x-python",
   "name": "python",
   "nbconvert_exporter": "python",
   "pygments_lexer": "ipython3",
   "version": "3.8.15"
  }
 },
 "nbformat": 4,
 "nbformat_minor": 5
}
