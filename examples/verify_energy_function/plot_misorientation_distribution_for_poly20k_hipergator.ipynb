{
 "cells": [
  {
   "cell_type": "code",
   "execution_count": 9,
   "id": "520b135f-fd64-4a09-a52a-5090da0a3d55",
   "metadata": {
    "tags": []
   },
   "outputs": [],
   "source": [
    "#!/usr/bin/env python3\n",
    "# -*- coding: utf-8 -*-\n",
    "\"\"\"\n",
    "Created on Mon Jul 31 14:33:57 2023\n",
    "\n",
    "@author: Lin\n",
    "\"\"\"\n",
    "\n",
    "import os\n",
    "current_path = os.getcwd()\n",
    "import numpy as np\n",
    "from numpy import seterr\n",
    "seterr(all='raise')\n",
    "import matplotlib.pyplot as plt\n",
    "import math\n",
    "from tqdm import tqdm\n",
    "import sys\n",
    "sys.path.append(current_path+'/../../')\n",
    "import myInput\n",
    "import post_processing as inclination_processing\n",
    "import PACKAGE_MP_3DLinear as linear3d"
   ]
  },
  {
   "cell_type": "markdown",
   "id": "6472577b-3257-421c-9301-6d36bbfe36ed",
   "metadata": {},
   "source": [
    "## Functions"
   ]
  },
  {
   "cell_type": "code",
   "execution_count": 10,
   "id": "48b6cfb6-0e19-4cae-9e2d-025910761c76",
   "metadata": {
    "tags": []
   },
   "outputs": [],
   "source": [
    "\n",
    "\n",
    "def euler2quaternion(yaw, pitch, roll):\n",
    "    \"\"\"Convert euler angle into quaternion\"\"\"\n",
    "\n",
    "    qx = np.cos(pitch/2.)*np.cos((yaw+roll)/2.)\n",
    "    qy = np.sin(pitch/2.)*np.cos((yaw-roll)/2.)\n",
    "    qz = np.sin(pitch/2.)*np.sin((yaw-roll)/2.)\n",
    "    qw = np.cos(pitch/2.)*np.sin((yaw+roll)/2.)\n",
    "\n",
    "    return [qx, qy, qz, qw]\n",
    "\n",
    "\n",
    "def symquat(index, Osym = 24):\n",
    "    \"\"\"Convert one(index) symmetric matrix into a quaternion \"\"\"\n",
    "\n",
    "    q = np.zeros(4)\n",
    "\n",
    "    if Osym == 24:\n",
    "        SYM = np.array([[1, 0, 0,  0, 1, 0,  0, 0, 1],\n",
    "                        [1, 0, 0,  0, -1, 0,  0, 0, -1],\n",
    "                        [1, 0, 0,  0, 0, -1,  0, 1, 0],\n",
    "                        [1, 0, 0,  0, 0, 1,  0, -1, 0],\n",
    "                        [-1, 0, 0,  0, 1, 0,  0, 0, -1],\n",
    "                        [-1, 0, 0,  0, -1, 0,  0, 0, 1],\n",
    "                        [-1, 0, 0,  0, 0, -1,  0, -1, 0],\n",
    "                        [-1, 0, 0,  0, 0, 1,  0, 1, 0],\n",
    "                        [0, 1, 0, -1, 0, 0,  0, 0, 1],\n",
    "                        [0, 1, 0,  0, 0, -1, -1, 0, 0],\n",
    "                        [0, 1, 0,  1, 0, 0,  0, 0, -1],\n",
    "                        [0, 1, 0,  0, 0, 1,  1, 0, 0],\n",
    "                        [0, -1, 0,  1, 0, 0,  0, 0, 1],\n",
    "                        [0, -1, 0,  0, 0, -1,  1, 0, 0],\n",
    "                        [0, -1, 0, -1, 0, 0,  0, 0, -1],\n",
    "                        [0, -1, 0,  0, 0, 1, -1, 0, 0],\n",
    "                        [0, 0, 1,  0, 1, 0, -1, 0, 0],\n",
    "                        [0, 0, 1,  1, 0, 0,  0, 1, 0],\n",
    "                        [0, 0, 1,  0, -1, 0,  1, 0, 0],\n",
    "                        [0, 0, 1, -1, 0, 0,  0, -1, 0],\n",
    "                        [0, 0, -1,  0, 1, 0,  1, 0, 0],\n",
    "                        [0, 0, -1, -1, 0, 0,  0, 1, 0],\n",
    "                        [0, 0, -1,  0, -1, 0, -1, 0, 0],\n",
    "                        [0, 0, -1,  1, 0, 0,  0, -1, 0]])\n",
    "    elif Osym == 12:\n",
    "        a = np.sqrt(3)/2\n",
    "        SYM = np.array([[1,  0, 0,  0,   1, 0,  0, 0,  1],\n",
    "                        [-0.5,  a, 0, -a, -0.5, 0,  0, 0,  1],\n",
    "                        [-0.5, -a, 0,  a, -0.5, 0,  0, 0,  1],\n",
    "                        [0.5,  a, 0, -a, 0.5, 0,  0, 0,  1],\n",
    "                        [-1,  0, 0,  0,  -1, 0,  0, 0,  1],\n",
    "                        [0.5, -a, 0,  a, 0.5, 0,  0, 0,  1],\n",
    "                        [-0.5, -a, 0, -a, 0.5, 0,  0, 0, -1],\n",
    "                        [1,  0, 0,  0,  -1, 0,  0, 0, -1],\n",
    "                        [-0.5,  a, 0,  a, 0.5, 0,  0, 0, -1],\n",
    "                        [0.5,  a, 0,  a, -0.5, 0,  0, 0, -1],\n",
    "                        [-1,  0, 0,  0,   1, 0,  0, 0, -1],\n",
    "                        [0.5, -a, 0, -a, -0.5, 0,  0, 0, -1]])\n",
    "\n",
    "    if (1+SYM[index, 0]+SYM[index, 4]+SYM[index, 8]) > 0:\n",
    "        q4 = np.sqrt(1+SYM[index, 0]+SYM[index, 4]+SYM[index, 8])/2\n",
    "        q[0] = q4\n",
    "        q[1] = (SYM[index, 7]-SYM[index, 5])/(4*q4)\n",
    "        q[2] = (SYM[index, 2]-SYM[index, 6])/(4*q4)\n",
    "        q[3] = (SYM[index, 3]-SYM[index, 1])/(4*q4)\n",
    "    elif (1+SYM[index, 0]-SYM[index, 4]-SYM[index, 8]) > 0:\n",
    "        q4 = np.sqrt(1+SYM[index, 0]-SYM[index, 4]-SYM[index, 8])/2\n",
    "        q[0] = (SYM[index, 7]-SYM[index, 5])/(4*q4)\n",
    "        q[1] = q4\n",
    "        q[2] = (SYM[index, 3]+SYM[index, 1])/(4*q4)\n",
    "        q[3] = (SYM[index, 2]+SYM[index, 6])/(4*q4)\n",
    "    elif (1-SYM[index, 0]+SYM[index, 4]-SYM[index, 8]) > 0:\n",
    "        q4 = np.sqrt(1-SYM[index, 0]+SYM[index, 4]-SYM[index, 8])/2\n",
    "        q[0] = (SYM[index, 2]-SYM[index, 6])/(4*q4)\n",
    "        q[1] = (SYM[index, 3]+SYM[index, 1])/(4*q4)\n",
    "        q[2] = q4\n",
    "        q[3] = (SYM[index, 7]+SYM[index, 5])/(4*q4)\n",
    "    elif (1-SYM[index, 0]-SYM[index, 4]+SYM[index, 8]) > 0:\n",
    "        q4 = np.sqrt(1-SYM[index, 0]-SYM[index, 4]+SYM[index, 8])/2\n",
    "        q[0] = (SYM[index, 3]-SYM[index, 1])/(4*q4)\n",
    "        q[1] = (SYM[index, 2]+SYM[index, 6])/(4*q4)\n",
    "        q[2] = (SYM[index, 7]+SYM[index, 5])/(4*q4)\n",
    "        q[3] = q4\n",
    "\n",
    "    return q\n",
    "\n",
    "\n",
    "def quat_Multi(q1, q2):\n",
    "    \"\"\"Return the product of two quaternion\"\"\"\n",
    "\n",
    "    q = np.zeros(4)\n",
    "    q[0] = q1[0]*q2[0] - q1[1]*q2[1] - q1[2]*q2[2] - q1[3]*q2[3]\n",
    "    q[1] = q1[0]*q2[1] + q1[1]*q2[0] + q1[2]*q2[3] - q1[3]*q2[2]\n",
    "    q[2] = q1[0]*q2[2] - q1[1]*q2[3] + q1[2]*q2[0] + q1[3]*q2[1]\n",
    "    q[3] = q1[0]*q2[3] + q1[1]*q2[2] - q1[2]*q2[1] + q1[3]*q2[0]\n",
    "\n",
    "    return q\n",
    "\n",
    "\n",
    "def quaternions(q1, q2, symm2quat_matrix, Osym=24):\n",
    "    \"\"\"Return the misorientation of two quaternion\"\"\"\n",
    "\n",
    "    q = np.zeros(4)\n",
    "    misom = 2*np.pi\n",
    "    # print(f\"q1: {q1}, q2: {q2}\")\n",
    "    for i in range(0, Osym):\n",
    "        for j in range(0, Osym):\n",
    "            q1b = quat_Multi(symm2quat_matrix[i], q1)\n",
    "            q2b = quat_Multi(symm2quat_matrix[j], q2)\n",
    "\n",
    "            q2b[1] = -q2b[1]\n",
    "            q2b[2] = -q2b[2]\n",
    "            q2b[3] = -q2b[3]\n",
    "\n",
    "            q = quat_Multi(q1b, q2b)\n",
    "            # print(q)\n",
    "            miso0 = 2*math.acos(round(q[0], 5))\n",
    "\n",
    "            if miso0 > np.pi:\n",
    "                miso0 = miso0 - 2*np.pi\n",
    "            if abs(miso0) < misom:\n",
    "                misom = abs(miso0)\n",
    "                qmin = q.copy()\n",
    "\n",
    "    miso0 = 2*math.acos(round(qmin[0], 5))\n",
    "    if miso0 > np.pi:\n",
    "        miso0 = miso0 - 2*np.pi\n",
    "\n",
    "    if math.sin(miso0/2):\n",
    "        axis = qmin[1:]/math.sin(miso0/2)\n",
    "    else:\n",
    "        axis = np.array([0, 0, 1])\n",
    "\n",
    "    return abs(miso0), axis\n",
    "\n",
    "\n",
    "def multiP_calM(i, quartAngle, symm2quat_matrix, Osym):\n",
    "    \"\"\"output the value of MisoEnergy by inout the two grain ID: i[0] and i[1]\"\"\"\n",
    "\n",
    "    qi = quartAngle[i[0]-1, :]\n",
    "    qj = quartAngle[i[1]-1, :]\n",
    "\n",
    "    theta, axis = quaternions(qi, qj, symm2quat_matrix, Osym)\n",
    "    # theta = theta*(theta<1)+(theta>1)\n",
    "    # gamma = theta*(1-np.log(theta))\n",
    "    gamma = theta\n",
    "    return np.insert(axis, 0, gamma)\n",
    "\n",
    "def pre_operation_misorientation(grainNum, init_filename, Osym=24):\n",
    "    # create the marix to store euler angle and misorientation\n",
    "    quartAngle = np.ones((grainNum, 4))*-2\n",
    "\n",
    "    # Create a quaternion matrix to show symmetry\n",
    "    symm2quat_matrix = np.zeros((Osym, 4))\n",
    "    for i in range(0, Osym):\n",
    "        symm2quat_matrix[i, :] = symquat(i, Osym)\n",
    "\n",
    "    # read the input euler angle from *.init\n",
    "    with open(init_filename, 'r', encoding='utf-8') as f:\n",
    "        for line in f:\n",
    "            eachline = line.split()\n",
    "\n",
    "            if len(eachline) == 5 and eachline[0] != '#':\n",
    "                lineN = int(eachline[1])-1\n",
    "                if quartAngle[lineN, 0] == -2:\n",
    "                    quartAngle[lineN, :] = euler2quaternion(float(eachline[2]), float(eachline[3]), float(eachline[4]))\n",
    "\n",
    "    return symm2quat_matrix, quartAngle\n",
    "\n",
    "def get_line(i, j):\n",
    "    \"\"\"Get the row order of grain i and grain j in MisoEnergy.txt (i < j)\"\"\"\n",
    "    if i < j: return int(i+(j-1)*(j)/2)\n",
    "    else: return int(j+(i-1)*(i)/2)\n",
    "\n",
    "def get_misorientation_distribution_1D(microstructure, quartAngle, symm2quat_matrix, Osym, num_bin, miso_dict):\n",
    "    misorientation_angle_distribution = np.zeros(num_bin)\n",
    "    bin_value = np.pi/num_bin\n",
    "    nx,ny,nz = microstructure.shape\n",
    "    for i in tqdm(range(nx)):\n",
    "        for j in range(ny):\n",
    "            for k in range(nz):\n",
    "                ip,im,jp,jm,kp,km = myInput.periodic_bc3d(nx,ny,nz,i,j,k)\n",
    "                if ( ((microstructure[ip,j,k]-microstructure[i,j,k])!=0) or ((microstructure[im,j,k]-microstructure[i,j,k])!=0) or\\\n",
    "                     ((microstructure[i,jp,k]-microstructure[i,j,k])!=0) or ((microstructure[i,jm,k]-microstructure[i,j,k])!=0) or\\\n",
    "                     ((microstructure[i,j,kp]-microstructure[i,j,k])!=0) or ((microstructure[i,j,km]-microstructure[i,j,k])!=0) ):\n",
    "                    central_site = int(microstructure[i,j,k])\n",
    "                    neighboring_sites_list = np.array([microstructure[ip,j,k], microstructure[i,jp,k], microstructure[i,j,kp], microstructure[im,j,k], microstructure[i,jm,k], microstructure[i,j,km]]).astype(int)\n",
    "                    neighboring_sites_set = set(neighboring_sites_list) # Get all unique neighboring sites\n",
    "                    if central_site in neighboring_sites_set: neighboring_sites_set.remove(central_site) # remove central site\n",
    "                    # print(f\"center: {central_site}, neighbor: {neighboring_sites_set}\")\n",
    "                    neighboring_sites_list_unque = list(neighboring_sites_set)\n",
    "                    for m in range(len(neighboring_sites_list_unque)):\n",
    "                        pair_id = get_line(central_site, neighboring_sites_list_unque[m]) # get pair id\n",
    "                        # calculate or extract misorientation\n",
    "                        if pair_id in miso_dict:\n",
    "                            misorientation_angle = miso_dict[pair_id][0]\n",
    "                        else:\n",
    "                            misorientation = multiP_calM([central_site, neighboring_sites_list_unque[m]], quartAngle, symm2quat_matrix, Osym)\n",
    "                            misorientation_angle = misorientation[0] # miso angle\n",
    "                            miso_dict[pair_id] = misorientation\n",
    "\n",
    "                        # Get misorientation angle distribution\n",
    "                        if misorientation_angle < 0 or misorientation_angle > np.pi: print(\">>> Please check the miaorientation angle calculation!\") # check angle error\n",
    "                        misorientation_index = int(misorientation_angle//bin_value) # get angle index to check the angle distribution\n",
    "                        if misorientation_index == num_bin: misorientation_angle_distribution[-1] += 1 # for angle of pi as 101 bins to assign to 100 bins\n",
    "                        else: misorientation_angle_distribution[misorientation_index] += 1 # all bins\n",
    "    print(f\"> Misorientation dictionary (len:{len(miso_dict)}) and misorientation angle distribution done\")\n",
    "\n",
    "    return misorientation_angle_distribution\n",
    "\n",
    "def calculate_expected_step(input_list, expected_grain_num=200):\n",
    "\n",
    "    num_input = len(input_list)\n",
    "    special_step_distribution = np.zeros(num_input)\n",
    "    microstructure_list = []\n",
    "\n",
    "    for input_i in range(num_input):\n",
    "        npy_data = np.load(input_list[input_i])\n",
    "        step_num = npy_data.shape[0]\n",
    "        grain_num_list = np.zeros(step_num)\n",
    "        for i in tqdm(range(step_num)):\n",
    "            grain_num_list[i] = len(set(npy_data[i,:].flatten()))\n",
    "        special_step_distribution[input_i] = int(np.argmin(abs(grain_num_list - expected_grain_num)))\n",
    "        microstructure_list.append(npy_data[int(special_step_distribution[input_i]),:])\n",
    "    print(\"> Step calculation done\")\n",
    "\n",
    "    return special_step_distribution, microstructure_list\n",
    "\n",
    "def get_inclination_angle_distribution_1D(P, sites, miso_dict, num_bin):\n",
    "\n",
    "    microstructure = P[0,:]\n",
    "    inclination_angle_distribution = np.zeros(num_bin)\n",
    "    bin_value = np.pi/num_bin\n",
    "    for sitei in tqdm(sites):\n",
    "        [i,j,k] = sitei\n",
    "        # Get the site pair to caluclate misorientation\n",
    "        nx, ny, nz = microstructure.shape\n",
    "        ip,im,jp,jm,kp,km = myInput.periodic_bc3d(nx,ny,nz,i,j,k)\n",
    "        central_site = int(microstructure[i,j,k])\n",
    "        neighboring_sites_list = np.array([microstructure[ip,j,k], microstructure[i,jp,k], microstructure[i,j,kp], microstructure[im,j,k], microstructure[i,jm,k], microstructure[i,j,km]]).astype(int)\n",
    "        neighboring_sites_set = set(neighboring_sites_list) # Get all unique neighboring sites\n",
    "        if central_site in neighboring_sites_set: neighboring_sites_set.remove(central_site) # remove central site\n",
    "        neighboring_sites_list_unque = list(neighboring_sites_set)\n",
    "        if len(neighboring_sites_list_unque) > 1: continue # ignore the site on TJs\n",
    "        pair_id = get_line(central_site, neighboring_sites_list_unque[0]) # get pair id\n",
    "\n",
    "        # Get misorientation axis\n",
    "        # print(pair_id)\n",
    "        misorientation = miso_dict[pair_id] # get the misorientation of specific site\n",
    "        misorientation_axis = misorientation[1:] # get misorientation axis\n",
    "\n",
    "        # Get inclination\n",
    "        dx,dy,dz = myInput.get_grad3d(P,i,j,k)\n",
    "        dy = -dy # Update the issue in VECTOR\n",
    "        inclination = np.array([dx,dy,dz])\n",
    "\n",
    "        # Make sure inclination angle is between [0, pi/2]\n",
    "        inclination_cos_angle = round(np.sum(misorientation_axis*inclination), 2)\n",
    "        inclination_angle = math.acos(abs(inclination_cos_angle))\n",
    "        if inclination_angle > np.pi/2: inclination_angle = np.pi - inclination_angle\n",
    "\n",
    "        inclination_index = int(inclination_angle//(np.pi/num_bin/2)) # get angle index to check the angle distribution\n",
    "        if inclination_index == num_bin: inclination_angle_distribution[-1] += 1 # for angle of pi as 101 bins to assign to 100 bins\n",
    "        else: inclination_angle_distribution[inclination_index] += 1 # all bins\n",
    "\n",
    "    return inclination_angle_distribution"
   ]
  },
  {
   "cell_type": "markdown",
   "id": "9f12d7aa-f24f-40fc-a662-1a48c8beaea2",
   "metadata": {},
   "source": [
    "## initial"
   ]
  },
  {
   "cell_type": "code",
   "execution_count": 16,
   "id": "541176ee-0818-4a40-a63c-6a4ad8a6b3c0",
   "metadata": {
    "tags": []
   },
   "outputs": [
    {
     "name": "stderr",
     "output_type": "stream",
     "text": [
      "100%|██████████| 76/76 [00:24<00:00,  3.05it/s]\n",
      "100%|██████████| 76/76 [00:25<00:00,  3.00it/s]\n"
     ]
    },
    {
     "name": "stdout",
     "output_type": "stream",
     "text": [
      "> Step calculation done\n",
      "> Pre-work done\n"
     ]
    }
   ],
   "source": [
    "\n",
    "if __name__ == '__main__':\n",
    "    # File name\n",
    "    init_file_folder = \"/blue/michael.tonks/lin.yang/SPPARKS-VirtualIncEnergy/3d_poly/IC/\"\n",
    "    npy_file_folder = \"/blue/michael.tonks/lin.yang/SPPARKS-VirtualIncEnergy/3d_poly_fully/results/\"\n",
    "    init_file_name = \"poly_IC150_1k.init\"\n",
    "    npy_file_name_aniso = f\"p_ori_fully_aveE_150_1k_multiCore64_J1_refer_1_0_0_seed56689_kt1.95.npy\"\n",
    "    npy_file_name_iso = f\"p_iso_150_1k_multiCore64_J1_refer_1_0_0_seed56689_kt1.95.npy\"\n",
    "    input_npy_data = [npy_file_folder+npy_file_name_aniso, npy_file_folder+npy_file_name_iso]\n",
    "    compare_label = [\"Anisotropic\", \"Isotropic\"]\n",
    "\n",
    "    # Get time step with expected grain num\n",
    "    expected_grain_num = 50\n",
    "    special_step_distribution, microstructure_list = calculate_expected_step(input_npy_data, expected_grain_num)\n",
    "\n",
    "    # misorientation\n",
    "    grain_num = 1000\n",
    "    Osym = 24\n",
    "    symm2quat_matrix, quartAngle = pre_operation_misorientation(grain_num, init_file_folder + init_file_name, Osym)\n",
    "    num_bin = 100\n",
    "    print(\"> Pre-work done\")\n"
   ]
  },
  {
   "cell_type": "markdown",
   "id": "f163be41-17ed-4a93-9f1b-a4f0b6f99e24",
   "metadata": {},
   "source": [
    "## misorientation calculation"
   ]
  },
  {
   "cell_type": "code",
   "execution_count": 17,
   "id": "acce17cd-fbe3-414c-bb69-e882a2b34a21",
   "metadata": {
    "tags": []
   },
   "outputs": [
    {
     "name": "stderr",
     "output_type": "stream",
     "text": [
      "100%|██████████| 150/150 [00:18<00:00,  8.17it/s]\n"
     ]
    },
    {
     "name": "stdout",
     "output_type": "stream",
     "text": [
      "> Misorientation dictionary (len:351) and misorientation angle distribution done\n",
      "> Anisotropic done\n"
     ]
    },
    {
     "name": "stderr",
     "output_type": "stream",
     "text": [
      "100%|██████████| 150/150 [00:16<00:00,  8.91it/s]"
     ]
    },
    {
     "name": "stdout",
     "output_type": "stream",
     "text": [
      "> Misorientation dictionary (len:679) and misorientation angle distribution done\n",
      "> Isotropic done\n"
     ]
    },
    {
     "name": "stderr",
     "output_type": "stream",
     "text": [
      "\n"
     ]
    }
   ],
   "source": [
    "    # Get misorientation angle distribution and dictionary\n",
    "    misorientation_angle_distribution_list = []\n",
    "    miso_dict = dict()\n",
    "    for i in range(len(input_npy_data)):\n",
    "        microstructure = microstructure_list[i]\n",
    "        misorientation_angle_distribution = get_misorientation_distribution_1D(microstructure, quartAngle, symm2quat_matrix, Osym, num_bin, miso_dict)\n",
    "        misorientation_angle_distribution = misorientation_angle_distribution / np.sum(misorientation_angle_distribution*(180/num_bin)) #Normalize\n",
    "        misorientation_angle_distribution_list.append(misorientation_angle_distribution)\n",
    "        print(f\"> {compare_label[i]} done\")"
   ]
  },
  {
   "cell_type": "markdown",
   "id": "520900f7-ea68-4388-b4e0-ba8aba063226",
   "metadata": {},
   "source": [
    "## plot"
   ]
  },
  {
   "cell_type": "code",
   "execution_count": 18,
   "id": "f56a88c3-513c-4bce-88ca-8c88f0b099b5",
   "metadata": {
    "tags": []
   },
   "outputs": [
    {
     "data": {
      "image/png": "[encoded data removed]",
      "text/plain": [
       "<Figure size 360x360 with 1 Axes>"
      ]
     },
     "metadata": {
      "needs_background": "light"
     },
     "output_type": "display_data"
    }
   ],
   "source": [
    "    # plot misorientation angle distribution\n",
    "    plt.close()\n",
    "    fig = plt.figure(figsize=(5, 5))\n",
    "    num_bin_plot = int(0.4*num_bin)\n",
    "    for i in range(len(input_npy_data)):\n",
    "        plt.plot(np.linspace(0,180,num_bin)[:num_bin_plot], misorientation_angle_distribution_list[i][:num_bin_plot], label=compare_label[i], linewidth=2)\n",
    "    plt.legend(loc=(0.05,-0.25),fontsize=16, ncol=2)\n",
    "    plt.xlabel(r\"Misorientation Angle ($^\\circ$)\", fontsize=16)\n",
    "    plt.ylabel(\"Frequency\", fontsize=16)\n",
    "    plt.savefig(current_path + f\"/figures/misorientation_distribution_3d_{expected_grain_num}grains.png\", dpi=400,bbox_inches='tight')"
   ]
  },
  {
   "cell_type": "markdown",
   "id": "88236f54-da17-4897-a638-8c3615683220",
   "metadata": {},
   "source": [
    "## Inclination calculation"
   ]
  },
  {
   "cell_type": "code",
   "execution_count": 19,
   "id": "2a93dbe6-e85c-48f2-95ac-7463bb820d6f",
   "metadata": {
    "tags": []
   },
   "outputs": [
    {
     "name": "stderr",
     "output_type": "stream",
     "text": [
      "100%|██████████| 490962/490962 [00:14<00:00, 34926.78it/s]\n"
     ]
    },
    {
     "name": "stdout",
     "output_type": "stream",
     "text": [
      "> Anisotropic done\n"
     ]
    },
    {
     "name": "stderr",
     "output_type": "stream",
     "text": [
      "100%|██████████| 323321/323321 [00:09<00:00, 34928.05it/s]"
     ]
    },
    {
     "name": "stdout",
     "output_type": "stream",
     "text": [
      "> Isotropic done\n"
     ]
    },
    {
     "name": "stderr",
     "output_type": "stream",
     "text": [
      "\n"
     ]
    }
   ],
   "source": [
    "    inclination_angle_distribution_list = []\n",
    "    num_bin_inclination = 10\n",
    "    num_bin_inclination_plot = int(90/90*num_bin_inclination)\n",
    "    for i in range(len(input_npy_data)):\n",
    "        microstructure = microstructure_list[i]\n",
    "        # Aniso - ave\n",
    "        data_file_name = f'/3D_normal_distribution_data/3D_normal_distribution_ave_fully_{compare_label[i]}_step{special_step_distribution[i]}.npz'\n",
    "        if os.path.exists(current_path + data_file_name):\n",
    "            inclination_npz_data = np.load(current_path + data_file_name)\n",
    "            P = inclination_npz_data[\"P\"]\n",
    "            sites = inclination_npz_data[\"sites\"]\n",
    "        else:\n",
    "            newplace = np.rot90(microstructure, 1, (0,1))\n",
    "            P, sites, _ = inclination_processing.get_normal_vector_3d(newplace)\n",
    "            np.savez(current_path + data_file_name, P=P, sites=sites)\n",
    "\n",
    "        inclination_angle_distribution = get_inclination_angle_distribution_1D(P, sites, miso_dict, num_bin_inclination)\n",
    "        inclination_angle_distribution = inclination_angle_distribution / np.sum(inclination_angle_distribution*(90/num_bin_inclination)) # Normalize\n",
    "        inclination_angle_distribution_list.append(inclination_angle_distribution)\n",
    "        print(f\"> {compare_label[i]} done\")\n"
   ]
  },
  {
   "cell_type": "markdown",
   "id": "4a6bb3d9-3390-45f2-ac4d-c5d675e4901e",
   "metadata": {
    "tags": []
   },
   "source": [
    "## Plot"
   ]
  },
  {
   "cell_type": "code",
   "execution_count": 20,
   "id": "9e1a4208-5c33-4c86-8aee-9f45cc089376",
   "metadata": {
    "tags": []
   },
   "outputs": [
    {
     "data": {
      "image/png": "[encoded data removed]",
      "text/plain": [
       "<Figure size 360x360 with 1 Axes>"
      ]
     },
     "metadata": {
      "needs_background": "light"
     },
     "output_type": "display_data"
    }
   ],
   "source": [
    "    # plot misorientation angle distribution\n",
    "    plt.close()\n",
    "    fig = plt.figure(figsize=(5, 5))\n",
    "    for i in range(len(input_npy_data)):\n",
    "        plt.plot(np.linspace(0,90,num_bin_inclination)[:num_bin_inclination_plot], inclination_angle_distribution_list[i][:num_bin_inclination_plot], label=compare_label[i], linewidth=2)\n",
    "    plt.legend(loc=(0.05,-0.25),fontsize=16, ncol=2)\n",
    "    plt.xlabel(r\"Inclination Angle ($^\\circ$)\", fontsize=16)\n",
    "    plt.ylabel(\"Frequency\", fontsize=16)\n",
    "    plt.savefig(current_path + f\"/figures/inclination_distribution_1d_{expected_grain_num}grains.png\", dpi=400,bbox_inches='tight')"
   ]
  },
  {
   "cell_type": "code",
   "execution_count": null,
   "id": "22521612-3fd0-48eb-8721-67b626615210",
   "metadata": {},
   "outputs": [],
   "source": []
  },
  {
   "cell_type": "code",
   "execution_count": null,
   "id": "819ee7bd-32ac-405d-91b0-17901e20a4a0",
   "metadata": {},
   "outputs": [],
   "source": []
  }
 ],
 "metadata": {
  "kernelspec": {
   "display_name": "UFRC Python-3.8",
   "language": "python",
   "name": "python3-3.8-ufrc"
  },
  "language_info": {
   "codemirror_mode": {
    "name": "ipython",
    "version": 3
   },
   "file_extension": ".py",
   "mimetype": "text/x-python",
   "name": "python",
   "nbconvert_exporter": "python",
   "pygments_lexer": "ipython3",
   "version": "3.8.15"
  }
 },
 "nbformat": 4,
 "nbformat_minor": 5
}
