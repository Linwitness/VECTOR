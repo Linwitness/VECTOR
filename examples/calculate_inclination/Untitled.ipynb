{
 "cells": [
  {
   "cell_type": "code",
   "execution_count": 1,
   "id": "7499ec52-21f6-458b-afab-4d297bfbed5c",
   "metadata": {
    "tags": []
   },
   "outputs": [],
   "source": [
    "#!/usr/bin/env python3\n",
    "# -*- coding: utf-8 -*-\n",
    "\"\"\"\n",
    "Created on Thu Sep 30 14:55:28 2021\n",
    "\n",
    "@author: lin.yang\n",
    "\"\"\"\n",
    "\n",
    "import os\n",
    "current_path = os.getcwd()\n",
    "import sys\n",
    "sys.path.append(current_path)\n",
    "sys.path.append('./../../.')\n",
    "import numpy as np\n",
    "import math\n",
    "from itertools import repeat\n",
    "import h5py\n",
    "import matplotlib.pyplot as plt\n",
    "from tqdm import tqdm\n",
    "\n",
    "import myInput\n",
    "import PACKAGE_MP_Linear as smooth     #2D Bilinear smooth algorithm\n",
    "\n"
   ]
  },
  {
   "cell_type": "code",
   "execution_count": 2,
   "id": "a31f8fb5-b354-4103-af5e-644d716d8d98",
   "metadata": {
    "tags": []
   },
   "outputs": [],
   "source": [
    "\n",
    "if __name__ == '__main__':\n",
    "\n",
    "    # %% 2D initial conditions\n",
    "    \n",
    "    input_name = \"/blue/michael.tonks/share/PRIMME_Inclination/Case2AS_T3_tstep_300_600.h5\"\n",
    "    output_name = \"/blue/michael.tonks/share/PRIMME_Inclination_npy_files/Case2AS_T3_tstep_300_600_inclination_\"\n",
    "    f = h5py.File(input_name, 'r')\n",
    "    \n",
    "    for simu in f.keys():\n",
    "        DataContainer = f.get(simu)\n",
    "        for dataset in DataContainer.keys():\n",
    "            tmpdata = DataContainer[dataset]\n",
    "            dataset = dataset.replace(' ','_')\n",
    "            globals()[dataset] = tmpdata\n",
    "    \n",
    "    steps, nz, nx, ny = ims_id.shape\n",
    "    ng = len(euler_angles)\n",
    "    "
   ]
  },
  {
   "cell_type": "code",
   "execution_count": null,
   "id": "986d8816-91e7-4fff-8483-aa62906a0f14",
   "metadata": {},
   "outputs": [],
   "source": [
    "\n",
    "    main_matrix = np.zeros((steps,3,nx,ny))\n",
    "    for i in tqdm([300,1600]):\n",
    "        microstructure = ims_id[i,:]\n",
    "        microstructure = np.squeeze(microstructure)\n",
    "        R = np.zeros((nx,ny,2))\n",
    "        \n",
    "    \n",
    "    #%% Start the algorithms\n",
    "    \n",
    "        cores = 8\n",
    "        loop_times = 5\n",
    "        test1 = smooth.linear_class(nx, ny, ng, cores, loop_times, microstructure, R, 0, False)\n",
    "        test1.linear_main('inclination')\n",
    "        P = test1.get_P()\n",
    "        \n",
    "            \n",
    "        #%% Running time\n",
    "          \n",
    "        # print('loop_times = ' + str(test1.loop_times))\n",
    "        # print('running_time = %.2f' % test1.running_time)\n",
    "        # print('running_core time = %.2f' % test1.running_coreTime)\n",
    "        # print()\n",
    "            \n",
    "    #%% Output the inclination data\n",
    "    \n",
    "        P_final = np.array(P)\n",
    "        P_final[1] = -P[2]\n",
    "        P_final[2] = P[1]\n",
    "        P_final[1:] = P_final[1:] / (P_final[1]**2+P_final[2]**2)**0.5\n",
    "        P_final = np.nan_to_num(P_final)\n",
    "        main_matrix[i] = P_final\n",
    "    \n",
    "        np.save(output_name + f\"step{i}\", P_final)\n",
    "    # main_matrix[time_step, inclination_axis, x, y] is the matrix saved all inclination. \n",
    "    # The first index is the time step index, \n",
    "    # the second index is the incliination axis (0 is microstructrue, 1 is the inclination vector in x-axis, 2 is inclination vector in y-axis),\n",
    "    # the third index is the x-axis index\n",
    "    # the fourth index is the y-axis index"
   ]
  }
 ],
 "metadata": {
  "kernelspec": {
   "display_name": "UFRC Python-3.10",
   "language": "python",
   "name": "python3-3.10-ufrc"
  },
  "language_info": {
   "codemirror_mode": {
    "name": "ipython",
    "version": 3
   },
   "file_extension": ".py",
   "mimetype": "text/x-python",
   "name": "python",
   "nbconvert_exporter": "python",
   "pygments_lexer": "ipython3",
   "version": "3.10.8"
  }
 },
 "nbformat": 4,
 "nbformat_minor": 5
}
